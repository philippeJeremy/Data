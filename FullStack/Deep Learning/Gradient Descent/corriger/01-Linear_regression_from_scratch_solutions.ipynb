{
  "nbformat": 4,
  "nbformat_minor": 0,
  "metadata": {
    "colab": {
      "name": "01-Linear_regression_from_scratch_solutions.ipynb",
      "provenance": [],
      "collapsed_sections": []
    },
    "kernelspec": {
      "name": "python3",
      "display_name": "Python 3"
    }
  },
  "cells": [
    {
      "cell_type": "markdown",
      "metadata": {
        "id": "OAW27oqRGbOp"
      },
      "source": [
        "# Doing a Linear regression without Scikit Learn"
      ]
    },
    {
      "cell_type": "markdown",
      "metadata": {
        "id": "dYaJBHGNGk3O"
      },
      "source": [
        "There's nothing better to understand the gradient descent algorithm than to code it from scratch. It may seem difficult at first glance but don't worry, we will guide you step by step. It is also a fantastic occasion to practice python key concepts like **Classes**!\n",
        "\n",
        "Don't hesitate to come back to your Machine Learning course on linear regression to refresh your memory. \n",
        "\n",
        "Our goal will be to code a simple linear regression such as : \n",
        "\n",
        "$f(x) = \\beta_1 \\times x + \\beta_0$"
      ]
    },
    {
      "cell_type": "markdown",
      "metadata": {
        "id": "dFAeKaG2GuI_"
      },
      "source": [
        "* Import the following libraries: \n",
        "  * Numpy "
      ]
    },
    {
      "cell_type": "code",
      "metadata": {
        "id": "9OHkKal3F3Su"
      },
      "source": [
        "import numpy as np "
      ],
      "execution_count": null,
      "outputs": []
    },
    {
      "cell_type": "markdown",
      "metadata": {
        "id": "7_za_8SvGz_j"
      },
      "source": [
        "* Define a `Model` class that will take two methods: \n",
        "  1. `__init__(self)`, the class builder which will allow you to define an attribute $\\beta_0$ (`beta_0` in your code) and an attribute $\\beta_1$ (`beta_1` in your code). These attributes represent the coefficients/parameters of the model an we will be initialize them randomly using Numpy (cf: `np.random.randn`).\n",
        "  2. `__call__(self, x)`, a special method that will turn our class into a callable which will return $\\beta_1 \\times x + \\beta_0$ when called."
      ]
    },
    {
      "cell_type": "code",
      "metadata": {
        "id": "9yj54VrvGzZL"
      },
      "source": [
        "class Model():\n",
        "  def __init__(self):\n",
        "    self.beta_1 = np.random.randn(1)\n",
        "    self.beta_0 = np.random.randn(1)\n",
        "  \n",
        "  def __call__(self, x):\n",
        "    return self.beta_1 * x + self.beta_0"
      ],
      "execution_count": null,
      "outputs": []
    },
    {
      "cell_type": "markdown",
      "metadata": {
        "id": "Uy2AancAImU6"
      },
      "source": [
        "* Create an instance of your class `Model`"
      ]
    },
    {
      "cell_type": "code",
      "metadata": {
        "id": "BD_hpDRnIhAi"
      },
      "source": [
        "model = Model()"
      ],
      "execution_count": null,
      "outputs": []
    },
    {
      "cell_type": "code",
      "metadata": {
        "id": "xl7o5kfOMVH5",
        "colab": {
          "base_uri": "https://localhost:8080/"
        },
        "outputId": "9bfa532e-6cb6-495c-e181-16ed0b949727"
      },
      "source": [
        "model.beta_0"
      ],
      "execution_count": null,
      "outputs": [
        {
          "output_type": "execute_result",
          "data": {
            "text/plain": [
              "array([-0.41664214])"
            ]
          },
          "metadata": {
            "tags": []
          },
          "execution_count": 4
        }
      ]
    },
    {
      "cell_type": "code",
      "metadata": {
        "id": "b3dopHflMifZ",
        "colab": {
          "base_uri": "https://localhost:8080/"
        },
        "outputId": "17f2364c-106a-42f2-c413-c54532c97118"
      },
      "source": [
        "model.beta_1"
      ],
      "execution_count": null,
      "outputs": [
        {
          "output_type": "execute_result",
          "data": {
            "text/plain": [
              "array([0.38650821])"
            ]
          },
          "metadata": {
            "tags": []
          },
          "execution_count": 5
        }
      ]
    },
    {
      "cell_type": "markdown",
      "metadata": {
        "id": "vkltTi5mIsUz"
      },
      "source": [
        "* Try doing a first \"regression\" by running `model(3.0)`. \n",
        "NB: If you don't have the same values as this notebook in output, this is normal since you have initialized your values randomly. "
      ]
    },
    {
      "cell_type": "code",
      "metadata": {
        "id": "K6TRkRHHIpj6",
        "colab": {
          "base_uri": "https://localhost:8080/"
        },
        "outputId": "22b16a86-f7ff-4cee-e94e-b4ee64e7d321"
      },
      "source": [
        "model(3.0)"
      ],
      "execution_count": null,
      "outputs": [
        {
          "output_type": "execute_result",
          "data": {
            "text/plain": [
              "array([0.74288249])"
            ]
          },
          "metadata": {
            "tags": []
          },
          "execution_count": 6
        }
      ]
    },
    {
      "cell_type": "code",
      "metadata": {
        "id": "f0IeUai6MmMA",
        "colab": {
          "base_uri": "https://localhost:8080/"
        },
        "outputId": "56071d70-76bf-41d3-8ad3-883313a6b02f"
      },
      "source": [
        "model.beta_1 * 3 + model.beta_0"
      ],
      "execution_count": null,
      "outputs": [
        {
          "output_type": "execute_result",
          "data": {
            "text/plain": [
              "array([0.74288249])"
            ]
          },
          "metadata": {
            "tags": []
          },
          "execution_count": 7
        }
      ]
    },
    {
      "cell_type": "markdown",
      "metadata": {
        "id": "WM4sjYAMI8SU"
      },
      "source": [
        "* This value corresponds to a random prediction of your model. But we don't have any data yet. This time, let's use `sklearn` to import data. \n",
        "  * Import `sklearn.datasets`\n",
        "  * Use the `load_diabetes()` function to load the diebetes dataset in an object called `diabetes`.\n",
        "  * Print the `DESCR` attribute of the diabetes object\n",
        "  * Save the content of the `data` attribute in an object named `diabetes_data`\n",
        "  * Save the content of the `target` attribute in an object named `y`"
      ]
    },
    {
      "cell_type": "code",
      "metadata": {
        "id": "xhNwqKzxIqqH",
        "colab": {
          "base_uri": "https://localhost:8080/"
        },
        "outputId": "b984c03d-c8df-474c-ca70-05fe1cefdbac"
      },
      "source": [
        "from sklearn import datasets, linear_model\n",
        "\n",
        "# Load the diabetes dataset\n",
        "diabetes = datasets.load_diabetes()\n",
        "print(diabetes.DESCR)\n",
        "diabetes_data = diabetes.data\n",
        "y = diabetes.target"
      ],
      "execution_count": null,
      "outputs": [
        {
          "output_type": "stream",
          "text": [
            ".. _diabetes_dataset:\n",
            "\n",
            "Diabetes dataset\n",
            "----------------\n",
            "\n",
            "Ten baseline variables, age, sex, body mass index, average blood\n",
            "pressure, and six blood serum measurements were obtained for each of n =\n",
            "442 diabetes patients, as well as the response of interest, a\n",
            "quantitative measure of disease progression one year after baseline.\n",
            "\n",
            "**Data Set Characteristics:**\n",
            "\n",
            "  :Number of Instances: 442\n",
            "\n",
            "  :Number of Attributes: First 10 columns are numeric predictive values\n",
            "\n",
            "  :Target: Column 11 is a quantitative measure of disease progression one year after baseline\n",
            "\n",
            "  :Attribute Information:\n",
            "      - Age\n",
            "      - Sex\n",
            "      - Body mass index\n",
            "      - Average blood pressure\n",
            "      - S1\n",
            "      - S2\n",
            "      - S3\n",
            "      - S4\n",
            "      - S5\n",
            "      - S6\n",
            "\n",
            "Note: Each of these 10 feature variables have been mean centered and scaled by the standard deviation times `n_samples` (i.e. the sum of squares of each column totals 1).\n",
            "\n",
            "Source URL:\n",
            "https://www4.stat.ncsu.edu/~boos/var.select/diabetes.html\n",
            "\n",
            "For more information see:\n",
            "Bradley Efron, Trevor Hastie, Iain Johnstone and Robert Tibshirani (2004) \"Least Angle Regression,\" Annals of Statistics (with discussion), 407-499.\n",
            "(https://web.stanford.edu/~hastie/Papers/LARS/LeastAngle_2002.pdf)\n"
          ],
          "name": "stdout"
        }
      ]
    },
    {
      "cell_type": "markdown",
      "metadata": {
        "id": "LJM9AOYjJ5z3"
      },
      "source": [
        "* We have too much data in this dataset `diabetes_data`, take only the third column of the dataset and store it in a `diabetes_X` variable."
      ]
    },
    {
      "cell_type": "code",
      "metadata": {
        "id": "yDg5Ykm4J06E",
        "colab": {
          "base_uri": "https://localhost:8080/"
        },
        "outputId": "17983f3b-eba3-499e-9344-05fbddba848b"
      },
      "source": [
        "# Use only one feature\n",
        "diabetes_X = diabetes_data[:,2]\n",
        "diabetes_X[:5]"
      ],
      "execution_count": null,
      "outputs": [
        {
          "output_type": "execute_result",
          "data": {
            "text/plain": [
              "array([ 0.06169621, -0.05147406,  0.04445121, -0.01159501, -0.03638469])"
            ]
          },
          "metadata": {
            "tags": []
          },
          "execution_count": 9
        }
      ]
    },
    {
      "cell_type": "markdown",
      "metadata": {
        "id": "S4goQEJvKsS8"
      },
      "source": [
        "* Visualize your data using `plotly`."
      ]
    },
    {
      "cell_type": "code",
      "metadata": {
        "id": "8Mvb3tc8KHJJ",
        "colab": {
          "base_uri": "https://localhost:8080/",
          "height": 560
        },
        "outputId": "a913c55c-d5fd-4360-c556-df0f00a940cb"
      },
      "source": [
        "import plotly.express as px\n",
        "fig = px.scatter(x= diabetes_X, y=y, title=\"Scatter plot of BMI against Diabetes metric\",\n",
        "                 labels={\n",
        "                     \"x\": \"BMI\",\n",
        "                     \"y\": \"Diabtes Metric\"\n",
        "                 })\n",
        "fig.show()\n",
        "\"\"\"import matplotlib.pyplot as plt \n",
        "plt.scatter(diabetes_X, y)\n",
        "plt.xlabel(diabetes.feature_names[2])\n",
        "plt.ylabel(\"target\")\n",
        "plt.show()\"\"\""
      ],
      "execution_count": null,
      "outputs": [
        {
          "output_type": "display_data",
          "data": {
            "text/html": [
              "<html>\n",
              "<head><meta charset=\"utf-8\" /></head>\n",
              "<body>\n",
              "    <div>\n",
              "            <script src=\"https://cdnjs.cloudflare.com/ajax/libs/mathjax/2.7.5/MathJax.js?config=TeX-AMS-MML_SVG\"></script><script type=\"text/javascript\">if (window.MathJax) {MathJax.Hub.Config({SVG: {font: \"STIX-Web\"}});}</script>\n",
              "                <script type=\"text/javascript\">window.PlotlyConfig = {MathJaxConfig: 'local'};</script>\n",
              "        <script src=\"https://cdn.plot.ly/plotly-latest.min.js\"></script>    \n",
              "            <div id=\"ed0598e2-3421-47d9-a317-db1ae4a877ad\" class=\"plotly-graph-div\" style=\"height:525px; width:100%;\"></div>\n",
              "            <script type=\"text/javascript\">\n",
              "                \n",
              "                    window.PLOTLYENV=window.PLOTLYENV || {};\n",
              "                    \n",
              "                if (document.getElementById(\"ed0598e2-3421-47d9-a317-db1ae4a877ad\")) {\n",
              "                    Plotly.newPlot(\n",
              "                        'ed0598e2-3421-47d9-a317-db1ae4a877ad',\n",
              "                        [{\"hoverlabel\": {\"namelength\": 0}, \"hovertemplate\": \"BMI=%{x}<br>Diabtes Metric=%{y}\", \"legendgroup\": \"\", \"marker\": {\"color\": \"#636efa\", \"symbol\": \"circle\"}, \"mode\": \"markers\", \"name\": \"\", \"showlegend\": false, \"type\": \"scatter\", \"x\": [0.0616962065186885, -0.0514740612388061, 0.0444512133365941, -0.0115950145052127, -0.0363846922044735, -0.0406959404999971, -0.0471628129432825, -0.00189470584028465, 0.0616962065186885, 0.0390621529671896, -0.0838084234552331, 0.0175059114895716, -0.0288400076873072, -0.00189470584028465, -0.0256065714656645, -0.0180618869484982, 0.0422955891888323, 0.0121168511201671, -0.0105172024313319, -0.0180618869484982, -0.0568631216082106, -0.0223731352440218, -0.00405032998804645, 0.0606183944448076, 0.0358287167455469, -0.0126728265790937, -0.0773415510119477, 0.0595405823709267, -0.0212953231701409, -0.00620595413580824, 0.0444512133365941, -0.0654856181992578, 0.125287118877662, -0.0503962491649252, -0.063329994051496, -0.030995631835069, 0.0228949718589761, 0.0110390390462862, 0.0713965151836166, 0.0142724752679289, -0.00836157828357004, -0.0676412423470196, -0.0105172024313319, -0.0234509473179027, 0.068163078961974, -0.0353068801305926, -0.0115950145052127, -0.0730303027164241, -0.041773752573878, 0.0142724752679289, -0.00728376620968916, 0.0164280994156907, -0.00943939035745095, -0.0159062628007364, 0.0250505960067379, -0.0493184370910443, 0.0412177771149514, -0.063329994051496, -0.064407806125377, -0.0256065714656645, -0.00405032998804645, 0.00457216660300077, -0.00728376620968916, -0.0374625042783544, -0.0256065714656645, -0.0245287593917836, -0.0180618869484982, -0.0148284507268555, -0.0299178197611881, -0.0460850008694016, -0.0697968664947814, 0.0336730925977851, -0.00405032998804645, -0.02021751109626, 0.00241654245523897, -0.030995631835069, 0.0282840322283806, -0.0363846922044735, -0.0579409336820915, -0.0374625042783544, 0.0121168511201671, -0.0223731352440218, -0.0353068801305926, 0.00996122697240527, -0.0396181284261162, 0.0713965151836166, -0.0751859268641859, -0.00620595413580824, -0.0406959404999971, -0.0482406250171634, -0.0256065714656645, 0.0519958978537604, 0.00457216660300077, -0.064407806125377, -0.0169840748746173, -0.0579409336820915, 0.00996122697240527, 0.088641508365711, -0.00512814206192736, -0.064407806125377, 0.0175059114895716, -0.0450071887955207, 0.0282840322283806, 0.0412177771149514, 0.0649296427403312, -0.0320734439089499, -0.0762637389380668, 0.0498402737059986, 0.045529025410475, -0.00943939035745095, -0.0320734439089499, 0.00457216660300077, 0.0207393477112143, 0.0142724752679289, 0.110197749843329, 0.00133873038135806, 0.0584627702970458, -0.0212953231701409, -0.0105172024313319, -0.0471628129432825, 0.00457216660300077, 0.0175059114895716, 0.0810968238485447, 0.034750904671666, 0.023972783932857, -0.00836157828357004, -0.0611743699037342, -0.00189470584028465, -0.0622521819776151, 0.0164280994156907, 0.0961861928828773, -0.0697968664947814, -0.0212953231701409, -0.0536296853865679, 0.0433734012627132, 0.056307146149284, -0.0816527993074713, 0.0498402737059986, 0.11127556191721, 0.0616962065186885, 0.0142724752679289, 0.0476846495582368, 0.0121168511201671, 0.00564997867688165, 0.0466068374843559, 0.128520555099304, 0.0595405823709267, 0.0929527566612346, 0.0153502873418098, -0.00512814206192736, 0.0703187031097357, -0.00405032998804645, -0.000816893766403737, -0.0439293767216398, 0.0207393477112143, 0.0606183944448076, -0.0105172024313319, -0.0331512559828308, -0.0654856181992578, 0.0433734012627132, -0.0622521819776151, 0.0638518306664503, 0.0304396563761424, 0.0724743272574975, -0.019139699022379, -0.0665634302731387, -0.0600965578298533, 0.0692408910358548, 0.0595405823709267, -0.0266843835395454, -0.02021751109626, -0.0460850008694016, 0.0713965151836166, -0.0794971751597095, 0.00996122697240527, -0.0385403163522353, 0.0196615356373334, 0.0272062201544997, -0.00836157828357004, -0.0159062628007364, 0.00457216660300077, -0.0428515646477589, 0.00564997867688165, -0.0353068801305926, 0.023972783932857, -0.0180618869484982, 0.0422955891888323, -0.0547074974604488, -0.00297251791416553, -0.0665634302731387, -0.0126728265790937, -0.041773752573878, -0.030995631835069, -0.00512814206192736, -0.0590187457559724, 0.0250505960067379, -0.0460850008694016, 0.00349435452911985, 0.0541515220015222, -0.0450071887955207, -0.0579409336820915, -0.0557853095343297, 0.00133873038135806, 0.0304396563761424, 0.00672779075076256, 0.0466068374843559, 0.0261284080806188, 0.045529025410475, 0.0401399650410705, -0.0180618869484982, 0.0142724752679289, 0.0369065288194278, 0.00349435452911985, -0.0708746785686623, -0.0331512559828308, 0.0940305687351156, 0.0358287167455469, 0.0315174684500233, -0.0654856181992578, -0.041773752573878, -0.0396181284261162, -0.0385403163522353, -0.0256065714656645, -0.0234509473179027, -0.0665634302731387, 0.0325952805239042, -0.0460850008694016, -0.0299178197611881, -0.0126728265790937, -0.0159062628007364, 0.0713965151836166, -0.030995631835069, 0.000260918307477141, 0.0369065288194278, 0.0390621529671896, -0.0148284507268555, 0.00672779075076256, -0.0687190544209005, -0.00943939035745095, 0.0196615356373334, 0.0746299514052593, -0.00836157828357004, -0.0234509473179027, -0.0460850008694016, 0.0541515220015222, -0.0353068801305926, -0.0320734439089499, -0.0816527993074713, 0.0476846495582368, 0.0606183944448076, 0.056307146149284, 0.098341817030639, 0.0595405823709267, 0.0336730925977851, 0.056307146149284, -0.0654856181992578, 0.160854917315731, -0.0557853095343297, -0.0245287593917836, -0.0363846922044735, -0.00836157828357004, -0.041773752573878, 0.127442743025423, -0.0773415510119477, 0.0282840322283806, -0.0256065714656645, -0.0622521819776151, -0.000816893766403737, 0.088641508365711, -0.0320734439089499, 0.0304396563761424, 0.00888341489852436, 0.00672779075076256, -0.02021751109626, -0.0245287593917836, -0.0115950145052127, 0.0261284080806188, -0.0590187457559724, -0.0363846922044735, -0.0245287593917836, 0.0185837235634525, -0.0902752958985185, -0.00512814206192736, -0.052551873312687, -0.0223731352440218, -0.02021751109626, -0.0547074974604488, -0.00620595413580824, -0.0169840748746173, 0.0552293340754031, 0.0767855755530211, 0.0185837235634525, -0.0223731352440218, 0.0929527566612346, -0.030995631835069, 0.0390621529671896, -0.0611743699037342, -0.00836157828357004, -0.0374625042783544, -0.0137506386529745, 0.0735521393313785, -0.0245287593917836, 0.0336730925977851, 0.034750904671666, -0.0385403163522353, -0.0396181284261162, -0.00189470584028465, -0.030995631835069, -0.0460850008694016, 0.00133873038135806, 0.0649296427403312, 0.0401399650410705, -0.0234509473179027, 0.0530737099276413, 0.0401399650410705, -0.02021751109626, 0.0142724752679289, -0.0342290680567117, 0.00672779075076256, 0.00457216660300077, 0.0304396563761424, 0.0519958978537604, 0.0616962065186885, -0.00728376620968916, 0.00564997867688165, 0.0541515220015222, -0.00836157828357004, 0.114508998138853, 0.067085266888093, -0.0557853095343297, 0.0304396563761424, -0.0256065714656645, 0.104808689473925, -0.00620595413580824, -0.0471628129432825, -0.0482406250171634, 0.0854080721440683, -0.0126728265790937, -0.0331512559828308, -0.00728376620968916, -0.0137506386529745, 0.0595405823709267, 0.0218171597850952, 0.0185837235634525, -0.0115950145052127, -0.00297251791416553, 0.0175059114895716, -0.0299178197611881, -0.02021751109626, -0.0579409336820915, 0.0606183944448076, -0.0406959404999971, -0.0719524906425432, -0.0557853095343297, 0.045529025410475, -0.00943939035745095, -0.0331512559828308, 0.0498402737059986, -0.084886235529114, 0.00564997867688165, 0.0207393477112143, -0.00728376620968916, 0.104808689473925, -0.0245287593917836, -0.00620595413580824, -0.0385403163522353, 0.137143051690352, 0.17055522598066, 0.00241654245523897, 0.0379843408933087, -0.0579409336820915, -0.00943939035745095, -0.0234509473179027, -0.0105172024313319, -0.0342290680567117, -0.00297251791416553, 0.068163078961974, 0.00996122697240527, 0.00241654245523897, -0.0385403163522353, 0.0261284080806188, -0.0891974838246376, 0.0606183944448076, -0.0288400076873072, -0.0299178197611881, -0.019139699022379, -0.0406959404999971, 0.0153502873418098, -0.0245287593917836, 0.00133873038135806, 0.0692408910358548, -0.0697968664947814, -0.0299178197611881, -0.0460850008694016, 0.0185837235634525, 0.00133873038135806, -0.030995631835069, -0.00405032998804645, 0.0153502873418098, 0.0228949718589761, 0.045529025410475, -0.0450071887955207, -0.0331512559828308, 0.0972640049567582, 0.0541515220015222, 0.1231314947299, -0.0805749872335904, 0.0929527566612346, -0.0503962491649252, -0.0115950145052127, -0.0277621956134263, 0.0584627702970458, 0.0854080721440683, -0.000816893766403737, 0.00672779075076256, 0.00888341489852436, 0.0800190117746638, 0.0713965151836166, -0.0245287593917836, -0.0547074974604488, -0.0363846922044735, 0.0164280994156907, 0.077863387626902, -0.0396181284261162, 0.0110390390462862, -0.0406959404999971, -0.0342290680567117, 0.00564997867688165, 0.088641508365711, -0.0331512559828308, -0.0568631216082106, -0.030995631835069, 0.0552293340754031, -0.0600965578298533, 0.00133873038135806, -0.0234509473179027, -0.074108114790305, 0.0196615356373334, -0.0159062628007364, -0.0159062628007364, 0.0390621529671896, -0.0730303027164241], \"xaxis\": \"x\", \"y\": [151.0, 75.0, 141.0, 206.0, 135.0, 97.0, 138.0, 63.0, 110.0, 310.0, 101.0, 69.0, 179.0, 185.0, 118.0, 171.0, 166.0, 144.0, 97.0, 168.0, 68.0, 49.0, 68.0, 245.0, 184.0, 202.0, 137.0, 85.0, 131.0, 283.0, 129.0, 59.0, 341.0, 87.0, 65.0, 102.0, 265.0, 276.0, 252.0, 90.0, 100.0, 55.0, 61.0, 92.0, 259.0, 53.0, 190.0, 142.0, 75.0, 142.0, 155.0, 225.0, 59.0, 104.0, 182.0, 128.0, 52.0, 37.0, 170.0, 170.0, 61.0, 144.0, 52.0, 128.0, 71.0, 163.0, 150.0, 97.0, 160.0, 178.0, 48.0, 270.0, 202.0, 111.0, 85.0, 42.0, 170.0, 200.0, 252.0, 113.0, 143.0, 51.0, 52.0, 210.0, 65.0, 141.0, 55.0, 134.0, 42.0, 111.0, 98.0, 164.0, 48.0, 96.0, 90.0, 162.0, 150.0, 279.0, 92.0, 83.0, 128.0, 102.0, 302.0, 198.0, 95.0, 53.0, 134.0, 144.0, 232.0, 81.0, 104.0, 59.0, 246.0, 297.0, 258.0, 229.0, 275.0, 281.0, 179.0, 200.0, 200.0, 173.0, 180.0, 84.0, 121.0, 161.0, 99.0, 109.0, 115.0, 268.0, 274.0, 158.0, 107.0, 83.0, 103.0, 272.0, 85.0, 280.0, 336.0, 281.0, 118.0, 317.0, 235.0, 60.0, 174.0, 259.0, 178.0, 128.0, 96.0, 126.0, 288.0, 88.0, 292.0, 71.0, 197.0, 186.0, 25.0, 84.0, 96.0, 195.0, 53.0, 217.0, 172.0, 131.0, 214.0, 59.0, 70.0, 220.0, 268.0, 152.0, 47.0, 74.0, 295.0, 101.0, 151.0, 127.0, 237.0, 225.0, 81.0, 151.0, 107.0, 64.0, 138.0, 185.0, 265.0, 101.0, 137.0, 143.0, 141.0, 79.0, 292.0, 178.0, 91.0, 116.0, 86.0, 122.0, 72.0, 129.0, 142.0, 90.0, 158.0, 39.0, 196.0, 222.0, 277.0, 99.0, 196.0, 202.0, 155.0, 77.0, 191.0, 70.0, 73.0, 49.0, 65.0, 263.0, 248.0, 296.0, 214.0, 185.0, 78.0, 93.0, 252.0, 150.0, 77.0, 208.0, 77.0, 108.0, 160.0, 53.0, 220.0, 154.0, 259.0, 90.0, 246.0, 124.0, 67.0, 72.0, 257.0, 262.0, 275.0, 177.0, 71.0, 47.0, 187.0, 125.0, 78.0, 51.0, 258.0, 215.0, 303.0, 243.0, 91.0, 150.0, 310.0, 153.0, 346.0, 63.0, 89.0, 50.0, 39.0, 103.0, 308.0, 116.0, 145.0, 74.0, 45.0, 115.0, 264.0, 87.0, 202.0, 127.0, 182.0, 241.0, 66.0, 94.0, 283.0, 64.0, 102.0, 200.0, 265.0, 94.0, 230.0, 181.0, 156.0, 233.0, 60.0, 219.0, 80.0, 68.0, 332.0, 248.0, 84.0, 200.0, 55.0, 85.0, 89.0, 31.0, 129.0, 83.0, 275.0, 65.0, 198.0, 236.0, 253.0, 124.0, 44.0, 172.0, 114.0, 142.0, 109.0, 180.0, 144.0, 163.0, 147.0, 97.0, 220.0, 190.0, 109.0, 191.0, 122.0, 230.0, 242.0, 248.0, 249.0, 192.0, 131.0, 237.0, 78.0, 135.0, 244.0, 199.0, 270.0, 164.0, 72.0, 96.0, 306.0, 91.0, 214.0, 95.0, 216.0, 263.0, 178.0, 113.0, 200.0, 139.0, 139.0, 88.0, 148.0, 88.0, 243.0, 71.0, 77.0, 109.0, 272.0, 60.0, 54.0, 221.0, 90.0, 311.0, 281.0, 182.0, 321.0, 58.0, 262.0, 206.0, 233.0, 242.0, 123.0, 167.0, 63.0, 197.0, 71.0, 168.0, 140.0, 217.0, 121.0, 235.0, 245.0, 40.0, 52.0, 104.0, 132.0, 88.0, 69.0, 219.0, 72.0, 201.0, 110.0, 51.0, 277.0, 63.0, 118.0, 69.0, 273.0, 258.0, 43.0, 198.0, 242.0, 232.0, 175.0, 93.0, 168.0, 275.0, 293.0, 281.0, 72.0, 140.0, 189.0, 181.0, 209.0, 136.0, 261.0, 113.0, 131.0, 174.0, 257.0, 55.0, 84.0, 42.0, 146.0, 212.0, 233.0, 91.0, 111.0, 152.0, 120.0, 67.0, 310.0, 94.0, 183.0, 66.0, 173.0, 72.0, 49.0, 64.0, 48.0, 178.0, 104.0, 132.0, 220.0, 57.0], \"yaxis\": \"y\"}],\n",
              "                        {\"legend\": {\"tracegroupgap\": 0}, \"template\": {\"data\": {\"bar\": [{\"error_x\": {\"color\": \"#2a3f5f\"}, \"error_y\": {\"color\": \"#2a3f5f\"}, \"marker\": {\"line\": {\"color\": \"#E5ECF6\", \"width\": 0.5}}, \"type\": \"bar\"}], \"barpolar\": [{\"marker\": {\"line\": {\"color\": \"#E5ECF6\", \"width\": 0.5}}, \"type\": \"barpolar\"}], \"carpet\": [{\"aaxis\": {\"endlinecolor\": \"#2a3f5f\", \"gridcolor\": \"white\", \"linecolor\": \"white\", \"minorgridcolor\": \"white\", \"startlinecolor\": \"#2a3f5f\"}, \"baxis\": {\"endlinecolor\": \"#2a3f5f\", \"gridcolor\": \"white\", \"linecolor\": \"white\", \"minorgridcolor\": \"white\", \"startlinecolor\": \"#2a3f5f\"}, \"type\": \"carpet\"}], \"choropleth\": [{\"colorbar\": {\"outlinewidth\": 0, \"ticks\": \"\"}, \"type\": \"choropleth\"}], \"contour\": [{\"colorbar\": {\"outlinewidth\": 0, \"ticks\": \"\"}, \"colorscale\": [[0.0, \"#0d0887\"], [0.1111111111111111, \"#46039f\"], [0.2222222222222222, \"#7201a8\"], [0.3333333333333333, \"#9c179e\"], [0.4444444444444444, \"#bd3786\"], [0.5555555555555556, \"#d8576b\"], [0.6666666666666666, \"#ed7953\"], [0.7777777777777778, \"#fb9f3a\"], [0.8888888888888888, \"#fdca26\"], [1.0, \"#f0f921\"]], \"type\": \"contour\"}], \"contourcarpet\": [{\"colorbar\": {\"outlinewidth\": 0, \"ticks\": \"\"}, \"type\": \"contourcarpet\"}], \"heatmap\": [{\"colorbar\": {\"outlinewidth\": 0, \"ticks\": \"\"}, \"colorscale\": [[0.0, \"#0d0887\"], [0.1111111111111111, \"#46039f\"], [0.2222222222222222, \"#7201a8\"], [0.3333333333333333, \"#9c179e\"], [0.4444444444444444, \"#bd3786\"], [0.5555555555555556, \"#d8576b\"], [0.6666666666666666, \"#ed7953\"], [0.7777777777777778, \"#fb9f3a\"], [0.8888888888888888, \"#fdca26\"], [1.0, \"#f0f921\"]], \"type\": \"heatmap\"}], \"heatmapgl\": [{\"colorbar\": {\"outlinewidth\": 0, \"ticks\": \"\"}, \"colorscale\": [[0.0, \"#0d0887\"], [0.1111111111111111, \"#46039f\"], [0.2222222222222222, \"#7201a8\"], [0.3333333333333333, \"#9c179e\"], [0.4444444444444444, \"#bd3786\"], [0.5555555555555556, \"#d8576b\"], [0.6666666666666666, \"#ed7953\"], [0.7777777777777778, \"#fb9f3a\"], [0.8888888888888888, \"#fdca26\"], [1.0, \"#f0f921\"]], \"type\": \"heatmapgl\"}], \"histogram\": [{\"marker\": {\"colorbar\": {\"outlinewidth\": 0, \"ticks\": \"\"}}, \"type\": \"histogram\"}], \"histogram2d\": [{\"colorbar\": {\"outlinewidth\": 0, \"ticks\": \"\"}, \"colorscale\": [[0.0, \"#0d0887\"], [0.1111111111111111, \"#46039f\"], [0.2222222222222222, \"#7201a8\"], [0.3333333333333333, \"#9c179e\"], [0.4444444444444444, \"#bd3786\"], [0.5555555555555556, \"#d8576b\"], [0.6666666666666666, \"#ed7953\"], [0.7777777777777778, \"#fb9f3a\"], [0.8888888888888888, \"#fdca26\"], [1.0, \"#f0f921\"]], \"type\": \"histogram2d\"}], \"histogram2dcontour\": [{\"colorbar\": {\"outlinewidth\": 0, \"ticks\": \"\"}, \"colorscale\": [[0.0, \"#0d0887\"], [0.1111111111111111, \"#46039f\"], [0.2222222222222222, \"#7201a8\"], [0.3333333333333333, \"#9c179e\"], [0.4444444444444444, \"#bd3786\"], [0.5555555555555556, \"#d8576b\"], [0.6666666666666666, \"#ed7953\"], [0.7777777777777778, \"#fb9f3a\"], [0.8888888888888888, \"#fdca26\"], [1.0, \"#f0f921\"]], \"type\": \"histogram2dcontour\"}], \"mesh3d\": [{\"colorbar\": {\"outlinewidth\": 0, \"ticks\": \"\"}, \"type\": \"mesh3d\"}], \"parcoords\": [{\"line\": {\"colorbar\": {\"outlinewidth\": 0, \"ticks\": \"\"}}, \"type\": \"parcoords\"}], \"pie\": [{\"automargin\": true, \"type\": \"pie\"}], \"scatter\": [{\"marker\": {\"colorbar\": {\"outlinewidth\": 0, \"ticks\": \"\"}}, \"type\": \"scatter\"}], \"scatter3d\": [{\"line\": {\"colorbar\": {\"outlinewidth\": 0, \"ticks\": \"\"}}, \"marker\": {\"colorbar\": {\"outlinewidth\": 0, \"ticks\": \"\"}}, \"type\": \"scatter3d\"}], \"scattercarpet\": [{\"marker\": {\"colorbar\": {\"outlinewidth\": 0, \"ticks\": \"\"}}, \"type\": \"scattercarpet\"}], \"scattergeo\": [{\"marker\": {\"colorbar\": {\"outlinewidth\": 0, \"ticks\": \"\"}}, \"type\": \"scattergeo\"}], \"scattergl\": [{\"marker\": {\"colorbar\": {\"outlinewidth\": 0, \"ticks\": \"\"}}, \"type\": \"scattergl\"}], \"scattermapbox\": [{\"marker\": {\"colorbar\": {\"outlinewidth\": 0, \"ticks\": \"\"}}, \"type\": \"scattermapbox\"}], \"scatterpolar\": [{\"marker\": {\"colorbar\": {\"outlinewidth\": 0, \"ticks\": \"\"}}, \"type\": \"scatterpolar\"}], \"scatterpolargl\": [{\"marker\": {\"colorbar\": {\"outlinewidth\": 0, \"ticks\": \"\"}}, \"type\": \"scatterpolargl\"}], \"scatterternary\": [{\"marker\": {\"colorbar\": {\"outlinewidth\": 0, \"ticks\": \"\"}}, \"type\": \"scatterternary\"}], \"surface\": [{\"colorbar\": {\"outlinewidth\": 0, \"ticks\": \"\"}, \"colorscale\": [[0.0, \"#0d0887\"], [0.1111111111111111, \"#46039f\"], [0.2222222222222222, \"#7201a8\"], [0.3333333333333333, \"#9c179e\"], [0.4444444444444444, \"#bd3786\"], [0.5555555555555556, \"#d8576b\"], [0.6666666666666666, \"#ed7953\"], [0.7777777777777778, \"#fb9f3a\"], [0.8888888888888888, \"#fdca26\"], [1.0, \"#f0f921\"]], \"type\": \"surface\"}], \"table\": [{\"cells\": {\"fill\": {\"color\": \"#EBF0F8\"}, \"line\": {\"color\": \"white\"}}, \"header\": {\"fill\": {\"color\": \"#C8D4E3\"}, \"line\": {\"color\": \"white\"}}, \"type\": \"table\"}]}, \"layout\": {\"annotationdefaults\": {\"arrowcolor\": \"#2a3f5f\", \"arrowhead\": 0, \"arrowwidth\": 1}, \"coloraxis\": {\"colorbar\": {\"outlinewidth\": 0, \"ticks\": \"\"}}, \"colorscale\": {\"diverging\": [[0, \"#8e0152\"], [0.1, \"#c51b7d\"], [0.2, \"#de77ae\"], [0.3, \"#f1b6da\"], [0.4, \"#fde0ef\"], [0.5, \"#f7f7f7\"], [0.6, \"#e6f5d0\"], [0.7, \"#b8e186\"], [0.8, \"#7fbc41\"], [0.9, \"#4d9221\"], [1, \"#276419\"]], \"sequential\": [[0.0, \"#0d0887\"], [0.1111111111111111, \"#46039f\"], [0.2222222222222222, \"#7201a8\"], [0.3333333333333333, \"#9c179e\"], [0.4444444444444444, \"#bd3786\"], [0.5555555555555556, \"#d8576b\"], [0.6666666666666666, \"#ed7953\"], [0.7777777777777778, \"#fb9f3a\"], [0.8888888888888888, \"#fdca26\"], [1.0, \"#f0f921\"]], \"sequentialminus\": [[0.0, \"#0d0887\"], [0.1111111111111111, \"#46039f\"], [0.2222222222222222, \"#7201a8\"], [0.3333333333333333, \"#9c179e\"], [0.4444444444444444, \"#bd3786\"], [0.5555555555555556, \"#d8576b\"], [0.6666666666666666, \"#ed7953\"], [0.7777777777777778, \"#fb9f3a\"], [0.8888888888888888, \"#fdca26\"], [1.0, \"#f0f921\"]]}, \"colorway\": [\"#636efa\", \"#EF553B\", \"#00cc96\", \"#ab63fa\", \"#FFA15A\", \"#19d3f3\", \"#FF6692\", \"#B6E880\", \"#FF97FF\", \"#FECB52\"], \"font\": {\"color\": \"#2a3f5f\"}, \"geo\": {\"bgcolor\": \"white\", \"lakecolor\": \"white\", \"landcolor\": \"#E5ECF6\", \"showlakes\": true, \"showland\": true, \"subunitcolor\": \"white\"}, \"hoverlabel\": {\"align\": \"left\"}, \"hovermode\": \"closest\", \"mapbox\": {\"style\": \"light\"}, \"paper_bgcolor\": \"white\", \"plot_bgcolor\": \"#E5ECF6\", \"polar\": {\"angularaxis\": {\"gridcolor\": \"white\", \"linecolor\": \"white\", \"ticks\": \"\"}, \"bgcolor\": \"#E5ECF6\", \"radialaxis\": {\"gridcolor\": \"white\", \"linecolor\": \"white\", \"ticks\": \"\"}}, \"scene\": {\"xaxis\": {\"backgroundcolor\": \"#E5ECF6\", \"gridcolor\": \"white\", \"gridwidth\": 2, \"linecolor\": \"white\", \"showbackground\": true, \"ticks\": \"\", \"zerolinecolor\": \"white\"}, \"yaxis\": {\"backgroundcolor\": \"#E5ECF6\", \"gridcolor\": \"white\", \"gridwidth\": 2, \"linecolor\": \"white\", \"showbackground\": true, \"ticks\": \"\", \"zerolinecolor\": \"white\"}, \"zaxis\": {\"backgroundcolor\": \"#E5ECF6\", \"gridcolor\": \"white\", \"gridwidth\": 2, \"linecolor\": \"white\", \"showbackground\": true, \"ticks\": \"\", \"zerolinecolor\": \"white\"}}, \"shapedefaults\": {\"line\": {\"color\": \"#2a3f5f\"}}, \"ternary\": {\"aaxis\": {\"gridcolor\": \"white\", \"linecolor\": \"white\", \"ticks\": \"\"}, \"baxis\": {\"gridcolor\": \"white\", \"linecolor\": \"white\", \"ticks\": \"\"}, \"bgcolor\": \"#E5ECF6\", \"caxis\": {\"gridcolor\": \"white\", \"linecolor\": \"white\", \"ticks\": \"\"}}, \"title\": {\"x\": 0.05}, \"xaxis\": {\"automargin\": true, \"gridcolor\": \"white\", \"linecolor\": \"white\", \"ticks\": \"\", \"title\": {\"standoff\": 15}, \"zerolinecolor\": \"white\", \"zerolinewidth\": 2}, \"yaxis\": {\"automargin\": true, \"gridcolor\": \"white\", \"linecolor\": \"white\", \"ticks\": \"\", \"title\": {\"standoff\": 15}, \"zerolinecolor\": \"white\", \"zerolinewidth\": 2}}}, \"title\": {\"text\": \"Scatter plot of BMI against Diabetes metric\"}, \"xaxis\": {\"anchor\": \"y\", \"domain\": [0.0, 1.0], \"title\": {\"text\": \"BMI\"}}, \"yaxis\": {\"anchor\": \"x\", \"domain\": [0.0, 1.0], \"title\": {\"text\": \"Diabtes Metric\"}}},\n",
              "                        {\"responsive\": true}\n",
              "                    ).then(function(){\n",
              "                            \n",
              "var gd = document.getElementById('ed0598e2-3421-47d9-a317-db1ae4a877ad');\n",
              "var x = new MutationObserver(function (mutations, observer) {{\n",
              "        var display = window.getComputedStyle(gd).display;\n",
              "        if (!display || display === 'none') {{\n",
              "            console.log([gd, 'removed!']);\n",
              "            Plotly.purge(gd);\n",
              "            observer.disconnect();\n",
              "        }}\n",
              "}});\n",
              "\n",
              "// Listen for the removal of the full notebook cells\n",
              "var notebookContainer = gd.closest('#notebook-container');\n",
              "if (notebookContainer) {{\n",
              "    x.observe(notebookContainer, {childList: true});\n",
              "}}\n",
              "\n",
              "// Listen for the clearing of the current output cell\n",
              "var outputEl = gd.closest('.output');\n",
              "if (outputEl) {{\n",
              "    x.observe(outputEl, {childList: true});\n",
              "}}\n",
              "\n",
              "                        })\n",
              "                };\n",
              "                \n",
              "            </script>\n",
              "        </div>\n",
              "</body>\n",
              "</html>"
            ]
          },
          "metadata": {
            "tags": []
          }
        },
        {
          "output_type": "execute_result",
          "data": {
            "application/vnd.google.colaboratory.intrinsic+json": {
              "type": "string"
            },
            "text/plain": [
              "'import matplotlib.pyplot as plt \\nplt.scatter(diabetes_X, y)\\nplt.xlabel(diabetes.feature_names[2])\\nplt.ylabel(\"target\")\\nplt.show()'"
            ]
          },
          "metadata": {
            "tags": []
          },
          "execution_count": 10
        }
      ]
    },
    {
      "cell_type": "markdown",
      "metadata": {
        "id": "DPi5j2qlLXPn"
      },
      "source": [
        "* Now we need to define a cost function. For a linear regression, we could use MSE :\n",
        "\n",
        "`np.mean((model(input) - y)**2)`\n",
        "\n",
        "  * Create this function which we'll call `mse` (for mean square error). This function will take two arguments `y_pred` & `y_true`."
      ]
    },
    {
      "cell_type": "code",
      "metadata": {
        "id": "wqWx5tEHK9ur"
      },
      "source": [
        "def mse(y_pred, y_true):\n",
        "  # return (np.sum((y_pred - y_true)**2))/len(y_pred) alternate solution\n",
        "  return np.mean((y_pred - y_true)**2) # it is important to use numpy functions\n",
        "  # since they can be applied easily on numpy arrays (or array like objects)\n",
        "  # and they compute very fast compared to pure python operations"
      ],
      "execution_count": null,
      "outputs": []
    },
    {
      "cell_type": "markdown",
      "metadata": {
        "id": "69LJkKbCM-H6"
      },
      "source": [
        "* Test your function by inserting `model(diabetes_X)` & `y` as arguments. \r\n",
        "* Calculate the rmse as well"
      ]
    },
    {
      "cell_type": "code",
      "metadata": {
        "id": "ULoKIwiXMmft",
        "colab": {
          "base_uri": "https://localhost:8080/"
        },
        "outputId": "79324430-08e2-4dfc-af6e-e8c179399da0"
      },
      "source": [
        "print(\"MSE : \",mse(model(diabetes_X), y))\n",
        "print(\"RMSE : \",np.sqrt(mse(model(diabetes_X), y)))"
      ],
      "execution_count": null,
      "outputs": [
        {
          "output_type": "stream",
          "text": [
            "MSE :  29199.765798314576\n",
            "RMSE :  170.8793896241281\n"
          ],
          "name": "stdout"
        }
      ]
    },
    {
      "cell_type": "markdown",
      "metadata": {
        "id": "zKSq1LcSNF2k"
      },
      "source": [
        "* Visualize your regression in relation to your points "
      ]
    },
    {
      "cell_type": "code",
      "metadata": {
        "id": "magxD6QpM4hV",
        "colab": {
          "base_uri": "https://localhost:8080/",
          "height": 542
        },
        "outputId": "b61e46da-47ae-4bb9-c857-413019119a1d"
      },
      "source": [
        "import plotly.graph_objects as go\n",
        "fig = go.Figure()\n",
        "fig.add_trace(go.Scatter(x=diabetes_X, y=y,\n",
        "                    mode='markers',\n",
        "                    name='target'))\n",
        "fig.add_trace(go.Scatter(x=diabetes_X, y=model(diabetes_X),\n",
        "                    mode='lines',\n",
        "                    name='predictions'))\n",
        "fig.update_layout(\n",
        "    title=\"Target vs Predictions\",\n",
        "    xaxis_title=\"BMI\",\n",
        "    yaxis_title=\"Diabetes metric\"\n",
        "    )\n",
        "fig.show()"
      ],
      "execution_count": null,
      "outputs": [
        {
          "output_type": "display_data",
          "data": {
            "text/html": [
              "<html>\n",
              "<head><meta charset=\"utf-8\" /></head>\n",
              "<body>\n",
              "    <div>\n",
              "            <script src=\"https://cdnjs.cloudflare.com/ajax/libs/mathjax/2.7.5/MathJax.js?config=TeX-AMS-MML_SVG\"></script><script type=\"text/javascript\">if (window.MathJax) {MathJax.Hub.Config({SVG: {font: \"STIX-Web\"}});}</script>\n",
              "                <script type=\"text/javascript\">window.PlotlyConfig = {MathJaxConfig: 'local'};</script>\n",
              "        <script src=\"https://cdn.plot.ly/plotly-latest.min.js\"></script>    \n",
              "            <div id=\"e8a025de-2c85-41b0-9f6e-fd24a8dac71d\" class=\"plotly-graph-div\" style=\"height:525px; width:100%;\"></div>\n",
              "            <script type=\"text/javascript\">\n",
              "                \n",
              "                    window.PLOTLYENV=window.PLOTLYENV || {};\n",
              "                    \n",
              "                if (document.getElementById(\"e8a025de-2c85-41b0-9f6e-fd24a8dac71d\")) {\n",
              "                    Plotly.newPlot(\n",
              "                        'e8a025de-2c85-41b0-9f6e-fd24a8dac71d',\n",
              "                        [{\"mode\": \"markers\", \"name\": \"target\", \"type\": \"scatter\", \"x\": [0.0616962065186885, -0.0514740612388061, 0.0444512133365941, -0.0115950145052127, -0.0363846922044735, -0.0406959404999971, -0.0471628129432825, -0.00189470584028465, 0.0616962065186885, 0.0390621529671896, -0.0838084234552331, 0.0175059114895716, -0.0288400076873072, -0.00189470584028465, -0.0256065714656645, -0.0180618869484982, 0.0422955891888323, 0.0121168511201671, -0.0105172024313319, -0.0180618869484982, -0.0568631216082106, -0.0223731352440218, -0.00405032998804645, 0.0606183944448076, 0.0358287167455469, -0.0126728265790937, -0.0773415510119477, 0.0595405823709267, -0.0212953231701409, -0.00620595413580824, 0.0444512133365941, -0.0654856181992578, 0.125287118877662, -0.0503962491649252, -0.063329994051496, -0.030995631835069, 0.0228949718589761, 0.0110390390462862, 0.0713965151836166, 0.0142724752679289, -0.00836157828357004, -0.0676412423470196, -0.0105172024313319, -0.0234509473179027, 0.068163078961974, -0.0353068801305926, -0.0115950145052127, -0.0730303027164241, -0.041773752573878, 0.0142724752679289, -0.00728376620968916, 0.0164280994156907, -0.00943939035745095, -0.0159062628007364, 0.0250505960067379, -0.0493184370910443, 0.0412177771149514, -0.063329994051496, -0.064407806125377, -0.0256065714656645, -0.00405032998804645, 0.00457216660300077, -0.00728376620968916, -0.0374625042783544, -0.0256065714656645, -0.0245287593917836, -0.0180618869484982, -0.0148284507268555, -0.0299178197611881, -0.0460850008694016, -0.0697968664947814, 0.0336730925977851, -0.00405032998804645, -0.02021751109626, 0.00241654245523897, -0.030995631835069, 0.0282840322283806, -0.0363846922044735, -0.0579409336820915, -0.0374625042783544, 0.0121168511201671, -0.0223731352440218, -0.0353068801305926, 0.00996122697240527, -0.0396181284261162, 0.0713965151836166, -0.0751859268641859, -0.00620595413580824, -0.0406959404999971, -0.0482406250171634, -0.0256065714656645, 0.0519958978537604, 0.00457216660300077, -0.064407806125377, -0.0169840748746173, -0.0579409336820915, 0.00996122697240527, 0.088641508365711, -0.00512814206192736, -0.064407806125377, 0.0175059114895716, -0.0450071887955207, 0.0282840322283806, 0.0412177771149514, 0.0649296427403312, -0.0320734439089499, -0.0762637389380668, 0.0498402737059986, 0.045529025410475, -0.00943939035745095, -0.0320734439089499, 0.00457216660300077, 0.0207393477112143, 0.0142724752679289, 0.110197749843329, 0.00133873038135806, 0.0584627702970458, -0.0212953231701409, -0.0105172024313319, -0.0471628129432825, 0.00457216660300077, 0.0175059114895716, 0.0810968238485447, 0.034750904671666, 0.023972783932857, -0.00836157828357004, -0.0611743699037342, -0.00189470584028465, -0.0622521819776151, 0.0164280994156907, 0.0961861928828773, -0.0697968664947814, -0.0212953231701409, -0.0536296853865679, 0.0433734012627132, 0.056307146149284, -0.0816527993074713, 0.0498402737059986, 0.11127556191721, 0.0616962065186885, 0.0142724752679289, 0.0476846495582368, 0.0121168511201671, 0.00564997867688165, 0.0466068374843559, 0.128520555099304, 0.0595405823709267, 0.0929527566612346, 0.0153502873418098, -0.00512814206192736, 0.0703187031097357, -0.00405032998804645, -0.000816893766403737, -0.0439293767216398, 0.0207393477112143, 0.0606183944448076, -0.0105172024313319, -0.0331512559828308, -0.0654856181992578, 0.0433734012627132, -0.0622521819776151, 0.0638518306664503, 0.0304396563761424, 0.0724743272574975, -0.019139699022379, -0.0665634302731387, -0.0600965578298533, 0.0692408910358548, 0.0595405823709267, -0.0266843835395454, -0.02021751109626, -0.0460850008694016, 0.0713965151836166, -0.0794971751597095, 0.00996122697240527, -0.0385403163522353, 0.0196615356373334, 0.0272062201544997, -0.00836157828357004, -0.0159062628007364, 0.00457216660300077, -0.0428515646477589, 0.00564997867688165, -0.0353068801305926, 0.023972783932857, -0.0180618869484982, 0.0422955891888323, -0.0547074974604488, -0.00297251791416553, -0.0665634302731387, -0.0126728265790937, -0.041773752573878, -0.030995631835069, -0.00512814206192736, -0.0590187457559724, 0.0250505960067379, -0.0460850008694016, 0.00349435452911985, 0.0541515220015222, -0.0450071887955207, -0.0579409336820915, -0.0557853095343297, 0.00133873038135806, 0.0304396563761424, 0.00672779075076256, 0.0466068374843559, 0.0261284080806188, 0.045529025410475, 0.0401399650410705, -0.0180618869484982, 0.0142724752679289, 0.0369065288194278, 0.00349435452911985, -0.0708746785686623, -0.0331512559828308, 0.0940305687351156, 0.0358287167455469, 0.0315174684500233, -0.0654856181992578, -0.041773752573878, -0.0396181284261162, -0.0385403163522353, -0.0256065714656645, -0.0234509473179027, -0.0665634302731387, 0.0325952805239042, -0.0460850008694016, -0.0299178197611881, -0.0126728265790937, -0.0159062628007364, 0.0713965151836166, -0.030995631835069, 0.000260918307477141, 0.0369065288194278, 0.0390621529671896, -0.0148284507268555, 0.00672779075076256, -0.0687190544209005, -0.00943939035745095, 0.0196615356373334, 0.0746299514052593, -0.00836157828357004, -0.0234509473179027, -0.0460850008694016, 0.0541515220015222, -0.0353068801305926, -0.0320734439089499, -0.0816527993074713, 0.0476846495582368, 0.0606183944448076, 0.056307146149284, 0.098341817030639, 0.0595405823709267, 0.0336730925977851, 0.056307146149284, -0.0654856181992578, 0.160854917315731, -0.0557853095343297, -0.0245287593917836, -0.0363846922044735, -0.00836157828357004, -0.041773752573878, 0.127442743025423, -0.0773415510119477, 0.0282840322283806, -0.0256065714656645, -0.0622521819776151, -0.000816893766403737, 0.088641508365711, -0.0320734439089499, 0.0304396563761424, 0.00888341489852436, 0.00672779075076256, -0.02021751109626, -0.0245287593917836, -0.0115950145052127, 0.0261284080806188, -0.0590187457559724, -0.0363846922044735, -0.0245287593917836, 0.0185837235634525, -0.0902752958985185, -0.00512814206192736, -0.052551873312687, -0.0223731352440218, -0.02021751109626, -0.0547074974604488, -0.00620595413580824, -0.0169840748746173, 0.0552293340754031, 0.0767855755530211, 0.0185837235634525, -0.0223731352440218, 0.0929527566612346, -0.030995631835069, 0.0390621529671896, -0.0611743699037342, -0.00836157828357004, -0.0374625042783544, -0.0137506386529745, 0.0735521393313785, -0.0245287593917836, 0.0336730925977851, 0.034750904671666, -0.0385403163522353, -0.0396181284261162, -0.00189470584028465, -0.030995631835069, -0.0460850008694016, 0.00133873038135806, 0.0649296427403312, 0.0401399650410705, -0.0234509473179027, 0.0530737099276413, 0.0401399650410705, -0.02021751109626, 0.0142724752679289, -0.0342290680567117, 0.00672779075076256, 0.00457216660300077, 0.0304396563761424, 0.0519958978537604, 0.0616962065186885, -0.00728376620968916, 0.00564997867688165, 0.0541515220015222, -0.00836157828357004, 0.114508998138853, 0.067085266888093, -0.0557853095343297, 0.0304396563761424, -0.0256065714656645, 0.104808689473925, -0.00620595413580824, -0.0471628129432825, -0.0482406250171634, 0.0854080721440683, -0.0126728265790937, -0.0331512559828308, -0.00728376620968916, -0.0137506386529745, 0.0595405823709267, 0.0218171597850952, 0.0185837235634525, -0.0115950145052127, -0.00297251791416553, 0.0175059114895716, -0.0299178197611881, -0.02021751109626, -0.0579409336820915, 0.0606183944448076, -0.0406959404999971, -0.0719524906425432, -0.0557853095343297, 0.045529025410475, -0.00943939035745095, -0.0331512559828308, 0.0498402737059986, -0.084886235529114, 0.00564997867688165, 0.0207393477112143, -0.00728376620968916, 0.104808689473925, -0.0245287593917836, -0.00620595413580824, -0.0385403163522353, 0.137143051690352, 0.17055522598066, 0.00241654245523897, 0.0379843408933087, -0.0579409336820915, -0.00943939035745095, -0.0234509473179027, -0.0105172024313319, -0.0342290680567117, -0.00297251791416553, 0.068163078961974, 0.00996122697240527, 0.00241654245523897, -0.0385403163522353, 0.0261284080806188, -0.0891974838246376, 0.0606183944448076, -0.0288400076873072, -0.0299178197611881, -0.019139699022379, -0.0406959404999971, 0.0153502873418098, -0.0245287593917836, 0.00133873038135806, 0.0692408910358548, -0.0697968664947814, -0.0299178197611881, -0.0460850008694016, 0.0185837235634525, 0.00133873038135806, -0.030995631835069, -0.00405032998804645, 0.0153502873418098, 0.0228949718589761, 0.045529025410475, -0.0450071887955207, -0.0331512559828308, 0.0972640049567582, 0.0541515220015222, 0.1231314947299, -0.0805749872335904, 0.0929527566612346, -0.0503962491649252, -0.0115950145052127, -0.0277621956134263, 0.0584627702970458, 0.0854080721440683, -0.000816893766403737, 0.00672779075076256, 0.00888341489852436, 0.0800190117746638, 0.0713965151836166, -0.0245287593917836, -0.0547074974604488, -0.0363846922044735, 0.0164280994156907, 0.077863387626902, -0.0396181284261162, 0.0110390390462862, -0.0406959404999971, -0.0342290680567117, 0.00564997867688165, 0.088641508365711, -0.0331512559828308, -0.0568631216082106, -0.030995631835069, 0.0552293340754031, -0.0600965578298533, 0.00133873038135806, -0.0234509473179027, -0.074108114790305, 0.0196615356373334, -0.0159062628007364, -0.0159062628007364, 0.0390621529671896, -0.0730303027164241], \"y\": [151.0, 75.0, 141.0, 206.0, 135.0, 97.0, 138.0, 63.0, 110.0, 310.0, 101.0, 69.0, 179.0, 185.0, 118.0, 171.0, 166.0, 144.0, 97.0, 168.0, 68.0, 49.0, 68.0, 245.0, 184.0, 202.0, 137.0, 85.0, 131.0, 283.0, 129.0, 59.0, 341.0, 87.0, 65.0, 102.0, 265.0, 276.0, 252.0, 90.0, 100.0, 55.0, 61.0, 92.0, 259.0, 53.0, 190.0, 142.0, 75.0, 142.0, 155.0, 225.0, 59.0, 104.0, 182.0, 128.0, 52.0, 37.0, 170.0, 170.0, 61.0, 144.0, 52.0, 128.0, 71.0, 163.0, 150.0, 97.0, 160.0, 178.0, 48.0, 270.0, 202.0, 111.0, 85.0, 42.0, 170.0, 200.0, 252.0, 113.0, 143.0, 51.0, 52.0, 210.0, 65.0, 141.0, 55.0, 134.0, 42.0, 111.0, 98.0, 164.0, 48.0, 96.0, 90.0, 162.0, 150.0, 279.0, 92.0, 83.0, 128.0, 102.0, 302.0, 198.0, 95.0, 53.0, 134.0, 144.0, 232.0, 81.0, 104.0, 59.0, 246.0, 297.0, 258.0, 229.0, 275.0, 281.0, 179.0, 200.0, 200.0, 173.0, 180.0, 84.0, 121.0, 161.0, 99.0, 109.0, 115.0, 268.0, 274.0, 158.0, 107.0, 83.0, 103.0, 272.0, 85.0, 280.0, 336.0, 281.0, 118.0, 317.0, 235.0, 60.0, 174.0, 259.0, 178.0, 128.0, 96.0, 126.0, 288.0, 88.0, 292.0, 71.0, 197.0, 186.0, 25.0, 84.0, 96.0, 195.0, 53.0, 217.0, 172.0, 131.0, 214.0, 59.0, 70.0, 220.0, 268.0, 152.0, 47.0, 74.0, 295.0, 101.0, 151.0, 127.0, 237.0, 225.0, 81.0, 151.0, 107.0, 64.0, 138.0, 185.0, 265.0, 101.0, 137.0, 143.0, 141.0, 79.0, 292.0, 178.0, 91.0, 116.0, 86.0, 122.0, 72.0, 129.0, 142.0, 90.0, 158.0, 39.0, 196.0, 222.0, 277.0, 99.0, 196.0, 202.0, 155.0, 77.0, 191.0, 70.0, 73.0, 49.0, 65.0, 263.0, 248.0, 296.0, 214.0, 185.0, 78.0, 93.0, 252.0, 150.0, 77.0, 208.0, 77.0, 108.0, 160.0, 53.0, 220.0, 154.0, 259.0, 90.0, 246.0, 124.0, 67.0, 72.0, 257.0, 262.0, 275.0, 177.0, 71.0, 47.0, 187.0, 125.0, 78.0, 51.0, 258.0, 215.0, 303.0, 243.0, 91.0, 150.0, 310.0, 153.0, 346.0, 63.0, 89.0, 50.0, 39.0, 103.0, 308.0, 116.0, 145.0, 74.0, 45.0, 115.0, 264.0, 87.0, 202.0, 127.0, 182.0, 241.0, 66.0, 94.0, 283.0, 64.0, 102.0, 200.0, 265.0, 94.0, 230.0, 181.0, 156.0, 233.0, 60.0, 219.0, 80.0, 68.0, 332.0, 248.0, 84.0, 200.0, 55.0, 85.0, 89.0, 31.0, 129.0, 83.0, 275.0, 65.0, 198.0, 236.0, 253.0, 124.0, 44.0, 172.0, 114.0, 142.0, 109.0, 180.0, 144.0, 163.0, 147.0, 97.0, 220.0, 190.0, 109.0, 191.0, 122.0, 230.0, 242.0, 248.0, 249.0, 192.0, 131.0, 237.0, 78.0, 135.0, 244.0, 199.0, 270.0, 164.0, 72.0, 96.0, 306.0, 91.0, 214.0, 95.0, 216.0, 263.0, 178.0, 113.0, 200.0, 139.0, 139.0, 88.0, 148.0, 88.0, 243.0, 71.0, 77.0, 109.0, 272.0, 60.0, 54.0, 221.0, 90.0, 311.0, 281.0, 182.0, 321.0, 58.0, 262.0, 206.0, 233.0, 242.0, 123.0, 167.0, 63.0, 197.0, 71.0, 168.0, 140.0, 217.0, 121.0, 235.0, 245.0, 40.0, 52.0, 104.0, 132.0, 88.0, 69.0, 219.0, 72.0, 201.0, 110.0, 51.0, 277.0, 63.0, 118.0, 69.0, 273.0, 258.0, 43.0, 198.0, 242.0, 232.0, 175.0, 93.0, 168.0, 275.0, 293.0, 281.0, 72.0, 140.0, 189.0, 181.0, 209.0, 136.0, 261.0, 113.0, 131.0, 174.0, 257.0, 55.0, 84.0, 42.0, 146.0, 212.0, 233.0, 91.0, 111.0, 152.0, 120.0, 67.0, 310.0, 94.0, 183.0, 66.0, 173.0, 72.0, 49.0, 64.0, 48.0, 178.0, 104.0, 132.0, 220.0, 57.0]}, {\"mode\": \"lines\", \"name\": \"predictions\", \"type\": \"scatter\", \"x\": [0.0616962065186885, -0.0514740612388061, 0.0444512133365941, -0.0115950145052127, -0.0363846922044735, -0.0406959404999971, -0.0471628129432825, -0.00189470584028465, 0.0616962065186885, 0.0390621529671896, -0.0838084234552331, 0.0175059114895716, -0.0288400076873072, -0.00189470584028465, -0.0256065714656645, -0.0180618869484982, 0.0422955891888323, 0.0121168511201671, -0.0105172024313319, -0.0180618869484982, -0.0568631216082106, -0.0223731352440218, -0.00405032998804645, 0.0606183944448076, 0.0358287167455469, -0.0126728265790937, -0.0773415510119477, 0.0595405823709267, -0.0212953231701409, -0.00620595413580824, 0.0444512133365941, -0.0654856181992578, 0.125287118877662, -0.0503962491649252, -0.063329994051496, -0.030995631835069, 0.0228949718589761, 0.0110390390462862, 0.0713965151836166, 0.0142724752679289, -0.00836157828357004, -0.0676412423470196, -0.0105172024313319, -0.0234509473179027, 0.068163078961974, -0.0353068801305926, -0.0115950145052127, -0.0730303027164241, -0.041773752573878, 0.0142724752679289, -0.00728376620968916, 0.0164280994156907, -0.00943939035745095, -0.0159062628007364, 0.0250505960067379, -0.0493184370910443, 0.0412177771149514, -0.063329994051496, -0.064407806125377, -0.0256065714656645, -0.00405032998804645, 0.00457216660300077, -0.00728376620968916, -0.0374625042783544, -0.0256065714656645, -0.0245287593917836, -0.0180618869484982, -0.0148284507268555, -0.0299178197611881, -0.0460850008694016, -0.0697968664947814, 0.0336730925977851, -0.00405032998804645, -0.02021751109626, 0.00241654245523897, -0.030995631835069, 0.0282840322283806, -0.0363846922044735, -0.0579409336820915, -0.0374625042783544, 0.0121168511201671, -0.0223731352440218, -0.0353068801305926, 0.00996122697240527, -0.0396181284261162, 0.0713965151836166, -0.0751859268641859, -0.00620595413580824, -0.0406959404999971, -0.0482406250171634, -0.0256065714656645, 0.0519958978537604, 0.00457216660300077, -0.064407806125377, -0.0169840748746173, -0.0579409336820915, 0.00996122697240527, 0.088641508365711, -0.00512814206192736, -0.064407806125377, 0.0175059114895716, -0.0450071887955207, 0.0282840322283806, 0.0412177771149514, 0.0649296427403312, -0.0320734439089499, -0.0762637389380668, 0.0498402737059986, 0.045529025410475, -0.00943939035745095, -0.0320734439089499, 0.00457216660300077, 0.0207393477112143, 0.0142724752679289, 0.110197749843329, 0.00133873038135806, 0.0584627702970458, -0.0212953231701409, -0.0105172024313319, -0.0471628129432825, 0.00457216660300077, 0.0175059114895716, 0.0810968238485447, 0.034750904671666, 0.023972783932857, -0.00836157828357004, -0.0611743699037342, -0.00189470584028465, -0.0622521819776151, 0.0164280994156907, 0.0961861928828773, -0.0697968664947814, -0.0212953231701409, -0.0536296853865679, 0.0433734012627132, 0.056307146149284, -0.0816527993074713, 0.0498402737059986, 0.11127556191721, 0.0616962065186885, 0.0142724752679289, 0.0476846495582368, 0.0121168511201671, 0.00564997867688165, 0.0466068374843559, 0.128520555099304, 0.0595405823709267, 0.0929527566612346, 0.0153502873418098, -0.00512814206192736, 0.0703187031097357, -0.00405032998804645, -0.000816893766403737, -0.0439293767216398, 0.0207393477112143, 0.0606183944448076, -0.0105172024313319, -0.0331512559828308, -0.0654856181992578, 0.0433734012627132, -0.0622521819776151, 0.0638518306664503, 0.0304396563761424, 0.0724743272574975, -0.019139699022379, -0.0665634302731387, -0.0600965578298533, 0.0692408910358548, 0.0595405823709267, -0.0266843835395454, -0.02021751109626, -0.0460850008694016, 0.0713965151836166, -0.0794971751597095, 0.00996122697240527, -0.0385403163522353, 0.0196615356373334, 0.0272062201544997, -0.00836157828357004, -0.0159062628007364, 0.00457216660300077, -0.0428515646477589, 0.00564997867688165, -0.0353068801305926, 0.023972783932857, -0.0180618869484982, 0.0422955891888323, -0.0547074974604488, -0.00297251791416553, -0.0665634302731387, -0.0126728265790937, -0.041773752573878, -0.030995631835069, -0.00512814206192736, -0.0590187457559724, 0.0250505960067379, -0.0460850008694016, 0.00349435452911985, 0.0541515220015222, -0.0450071887955207, -0.0579409336820915, -0.0557853095343297, 0.00133873038135806, 0.0304396563761424, 0.00672779075076256, 0.0466068374843559, 0.0261284080806188, 0.045529025410475, 0.0401399650410705, -0.0180618869484982, 0.0142724752679289, 0.0369065288194278, 0.00349435452911985, -0.0708746785686623, -0.0331512559828308, 0.0940305687351156, 0.0358287167455469, 0.0315174684500233, -0.0654856181992578, -0.041773752573878, -0.0396181284261162, -0.0385403163522353, -0.0256065714656645, -0.0234509473179027, -0.0665634302731387, 0.0325952805239042, -0.0460850008694016, -0.0299178197611881, -0.0126728265790937, -0.0159062628007364, 0.0713965151836166, -0.030995631835069, 0.000260918307477141, 0.0369065288194278, 0.0390621529671896, -0.0148284507268555, 0.00672779075076256, -0.0687190544209005, -0.00943939035745095, 0.0196615356373334, 0.0746299514052593, -0.00836157828357004, -0.0234509473179027, -0.0460850008694016, 0.0541515220015222, -0.0353068801305926, -0.0320734439089499, -0.0816527993074713, 0.0476846495582368, 0.0606183944448076, 0.056307146149284, 0.098341817030639, 0.0595405823709267, 0.0336730925977851, 0.056307146149284, -0.0654856181992578, 0.160854917315731, -0.0557853095343297, -0.0245287593917836, -0.0363846922044735, -0.00836157828357004, -0.041773752573878, 0.127442743025423, -0.0773415510119477, 0.0282840322283806, -0.0256065714656645, -0.0622521819776151, -0.000816893766403737, 0.088641508365711, -0.0320734439089499, 0.0304396563761424, 0.00888341489852436, 0.00672779075076256, -0.02021751109626, -0.0245287593917836, -0.0115950145052127, 0.0261284080806188, -0.0590187457559724, -0.0363846922044735, -0.0245287593917836, 0.0185837235634525, -0.0902752958985185, -0.00512814206192736, -0.052551873312687, -0.0223731352440218, -0.02021751109626, -0.0547074974604488, -0.00620595413580824, -0.0169840748746173, 0.0552293340754031, 0.0767855755530211, 0.0185837235634525, -0.0223731352440218, 0.0929527566612346, -0.030995631835069, 0.0390621529671896, -0.0611743699037342, -0.00836157828357004, -0.0374625042783544, -0.0137506386529745, 0.0735521393313785, -0.0245287593917836, 0.0336730925977851, 0.034750904671666, -0.0385403163522353, -0.0396181284261162, -0.00189470584028465, -0.030995631835069, -0.0460850008694016, 0.00133873038135806, 0.0649296427403312, 0.0401399650410705, -0.0234509473179027, 0.0530737099276413, 0.0401399650410705, -0.02021751109626, 0.0142724752679289, -0.0342290680567117, 0.00672779075076256, 0.00457216660300077, 0.0304396563761424, 0.0519958978537604, 0.0616962065186885, -0.00728376620968916, 0.00564997867688165, 0.0541515220015222, -0.00836157828357004, 0.114508998138853, 0.067085266888093, -0.0557853095343297, 0.0304396563761424, -0.0256065714656645, 0.104808689473925, -0.00620595413580824, -0.0471628129432825, -0.0482406250171634, 0.0854080721440683, -0.0126728265790937, -0.0331512559828308, -0.00728376620968916, -0.0137506386529745, 0.0595405823709267, 0.0218171597850952, 0.0185837235634525, -0.0115950145052127, -0.00297251791416553, 0.0175059114895716, -0.0299178197611881, -0.02021751109626, -0.0579409336820915, 0.0606183944448076, -0.0406959404999971, -0.0719524906425432, -0.0557853095343297, 0.045529025410475, -0.00943939035745095, -0.0331512559828308, 0.0498402737059986, -0.084886235529114, 0.00564997867688165, 0.0207393477112143, -0.00728376620968916, 0.104808689473925, -0.0245287593917836, -0.00620595413580824, -0.0385403163522353, 0.137143051690352, 0.17055522598066, 0.00241654245523897, 0.0379843408933087, -0.0579409336820915, -0.00943939035745095, -0.0234509473179027, -0.0105172024313319, -0.0342290680567117, -0.00297251791416553, 0.068163078961974, 0.00996122697240527, 0.00241654245523897, -0.0385403163522353, 0.0261284080806188, -0.0891974838246376, 0.0606183944448076, -0.0288400076873072, -0.0299178197611881, -0.019139699022379, -0.0406959404999971, 0.0153502873418098, -0.0245287593917836, 0.00133873038135806, 0.0692408910358548, -0.0697968664947814, -0.0299178197611881, -0.0460850008694016, 0.0185837235634525, 0.00133873038135806, -0.030995631835069, -0.00405032998804645, 0.0153502873418098, 0.0228949718589761, 0.045529025410475, -0.0450071887955207, -0.0331512559828308, 0.0972640049567582, 0.0541515220015222, 0.1231314947299, -0.0805749872335904, 0.0929527566612346, -0.0503962491649252, -0.0115950145052127, -0.0277621956134263, 0.0584627702970458, 0.0854080721440683, -0.000816893766403737, 0.00672779075076256, 0.00888341489852436, 0.0800190117746638, 0.0713965151836166, -0.0245287593917836, -0.0547074974604488, -0.0363846922044735, 0.0164280994156907, 0.077863387626902, -0.0396181284261162, 0.0110390390462862, -0.0406959404999971, -0.0342290680567117, 0.00564997867688165, 0.088641508365711, -0.0331512559828308, -0.0568631216082106, -0.030995631835069, 0.0552293340754031, -0.0600965578298533, 0.00133873038135806, -0.0234509473179027, -0.074108114790305, 0.0196615356373334, -0.0159062628007364, -0.0159062628007364, 0.0390621529671896, -0.0730303027164241], \"y\": [-0.3927960540369199, -0.436537291724578, -0.39946138549408683, -0.4211237127298794, -0.43070512669955696, -0.4323714595638487, -0.4348709588602863, -0.417374463785223, -0.3927960540369199, -0.40154430157445153, -0.44903478820676607, -0.4098759658959102, -0.42778904418704644, -0.417374463785223, -0.4265392945388276, -0.4236232120263171, -0.40029455192623276, -0.4119588819762749, -0.4207071295138065, -0.4236232120263171, -0.4386202078049427, -0.42528954489060883, -0.4182076302173689, -0.3932126372529928, -0.4027940512226703, -0.4215402959459524, -0.44653528891032845, -0.3936292204690658, -0.42487296167453587, -0.41904079664951477, -0.39946138549408683, -0.4419528735335262, -0.36821764428861664, -0.4361207085085051, -0.4411197071013803, -0.42862221061919226, -0.40779304981554554, -0.4123754651923478, -0.3890468050922635, -0.411125715544129, -0.41987396308166064, -0.44278603996567206, -0.4207071295138065, -0.42570612810668174, -0.39029655474048225, -0.430288543483484, -0.4211237127298794, -0.4448689560460367, -0.4327880427799216, -0.411125715544129, -0.41945737986558773, -0.41029254911198315, -0.4202905462977336, -0.4227900455941712, -0.40695988338339967, -0.4357041252924322, -0.40071113514230566, -0.4411197071013803, -0.4415362903174533, -0.4265392945388276, -0.4182076302173689, -0.4148749644887854, -0.41945737986558773, -0.43112170991562987, -0.4265392945388276, -0.4261227113227547, -0.4236232120263171, -0.42237346237809825, -0.42820562740311935, -0.43445437564421335, -0.44361920639781793, -0.4036272176548162, -0.4182076302173689, -0.42445637845846296, -0.4157081309209313, -0.42862221061919226, -0.4057101337351809, -0.43070512669955696, -0.4390367910210156, -0.43112170991562987, -0.4119588819762749, -0.42528954489060883, -0.430288543483484, -0.41279204840842076, -0.43195487634777574, -0.3890468050922635, -0.4457021224781826, -0.41904079664951477, -0.4323714595638487, -0.4352875420763592, -0.4265392945388276, -0.3965453029815763, -0.4148749644887854, -0.4415362903174533, -0.4232066288102441, -0.4390367910210156, -0.41279204840842076, -0.38238147363509656, -0.41862421343344186, -0.4415362903174533, -0.4098759658959102, -0.43403779242814045, -0.4057101337351809, -0.40071113514230566, -0.39154630438870114, -0.4290387938352652, -0.4461187056942555, -0.3973784694137222, -0.3990448022780139, -0.4202905462977336, -0.4290387938352652, -0.4148749644887854, -0.4086262162476914, -0.411125715544129, -0.3740498093136379, -0.41612471413700425, -0.3940458036851387, -0.42487296167453587, -0.4207071295138065, -0.4348709588602863, -0.4148749644887854, -0.4098759658959102, -0.3852975561476071, -0.4032106344387433, -0.40737646659947263, -0.41987396308166064, -0.44028654066923445, -0.417374463785223, -0.44070312388530736, -0.41029254911198315, -0.37946539112258604, -0.44361920639781793, -0.42487296167453587, -0.4373704581567239, -0.3998779687101598, -0.39487897011728457, -0.4482016217746202, -0.3973784694137222, -0.3736332260975649, -0.3927960540369199, -0.411125715544129, -0.39821163584586805, -0.4119588819762749, -0.4144583812727125, -0.398628219061941, -0.36696789464039814, -0.3936292204690658, -0.3807151407708048, -0.41070913232805606, -0.41862421343344186, -0.38946338830833643, -0.4182076302173689, -0.4169578805691501, -0.4336212092120675, -0.4086262162476914, -0.3932126372529928, -0.4207071295138065, -0.4294553770513381, -0.4419528735335262, -0.3998779687101598, -0.44070312388530736, -0.39196288760477405, -0.404876967303035, -0.38863022187619056, -0.42403979524239, -0.4423694567495991, -0.4398699574531615, -0.3898799715244094, -0.3936292204690658, -0.42695587775490057, -0.42445637845846296, -0.43445437564421335, -0.3890468050922635, -0.4473684553424743, -0.41279204840842076, -0.43153829313170283, -0.4090427994637643, -0.4061267169512538, -0.41987396308166064, -0.4227900455941712, -0.4148749644887854, -0.4332046259959946, -0.4144583812727125, -0.430288543483484, -0.40737646659947263, -0.4236232120263171, -0.40029455192623276, -0.43778704137279684, -0.417791047001296, -0.4423694567495991, -0.4215402959459524, -0.4327880427799216, -0.42862221061919226, -0.41862421343344186, -0.4394533742370886, -0.40695988338339967, -0.43445437564421335, -0.4152915477048584, -0.39571213654943044, -0.43403779242814045, -0.4390367910210156, -0.43820362458886974, -0.41612471413700425, -0.404876967303035, -0.41404179805663954, -0.398628219061941, -0.40654330016732676, -0.3990448022780139, -0.40112771835837857, -0.4236232120263171, -0.411125715544129, -0.4023774680065974, -0.4152915477048584, -0.44403578961389084, -0.4294553770513381, -0.38029855755473185, -0.4027940512226703, -0.40446038408696205, -0.4419528735335262, -0.4327880427799216, -0.43195487634777574, -0.43153829313170283, -0.4265392945388276, -0.42570612810668174, -0.4423694567495991, -0.40404380087088915, -0.43445437564421335, -0.42820562740311935, -0.4215402959459524, -0.4227900455941712, -0.3890468050922635, -0.42862221061919226, -0.41654129735307716, -0.4023774680065974, -0.40154430157445153, -0.42237346237809825, -0.41404179805663954, -0.44320262318174497, -0.4202905462977336, -0.4090427994637643, -0.3877970554440447, -0.41987396308166064, -0.42570612810668174, -0.43445437564421335, -0.39571213654943044, -0.430288543483484, -0.4290387938352652, -0.4482016217746202, -0.39821163584586805, -0.3932126372529928, -0.39487897011728457, -0.3786322246904402, -0.3936292204690658, -0.4036272176548162, -0.39487897011728457, -0.4419528735335262, -0.3544703981582101, -0.43820362458886974, -0.4261227113227547, -0.43070512669955696, -0.41987396308166064, -0.4327880427799216, -0.3673844778564711, -0.44653528891032845, -0.4057101337351809, -0.4265392945388276, -0.44070312388530736, -0.4169578805691501, -0.38238147363509656, -0.4290387938352652, -0.404876967303035, -0.41320863162449367, -0.41404179805663954, -0.42445637845846296, -0.4261227113227547, -0.4211237127298794, -0.40654330016732676, -0.4394533742370886, -0.43070512669955696, -0.4261227113227547, -0.4094593826798373, -0.4515342875032037, -0.41862421343344186, -0.43695387494065097, -0.42528954489060883, -0.42445637845846296, -0.43778704137279684, -0.41904079664951477, -0.4232066288102441, -0.39529555333335753, -0.3869638890118988, -0.4094593826798373, -0.42528954489060883, -0.3807151407708048, -0.42862221061919226, -0.40154430157445153, -0.44028654066923445, -0.41987396308166064, -0.43112170991562987, -0.4219568791620253, -0.3882136386601176, -0.4261227113227547, -0.4036272176548162, -0.4032106344387433, -0.43153829313170283, -0.43195487634777574, -0.417374463785223, -0.42862221061919226, -0.43445437564421335, -0.41612471413700425, -0.39154630438870114, -0.40112771835837857, -0.42570612810668174, -0.3961287197655034, -0.40112771835837857, -0.42445637845846296, -0.411125715544129, -0.4298719602674111, -0.41404179805663954, -0.4148749644887854, -0.404876967303035, -0.3965453029815763, -0.3927960540369199, -0.41945737986558773, -0.4144583812727125, -0.39571213654943044, -0.41987396308166064, -0.372383476449346, -0.39071313795655527, -0.43820362458886974, -0.404876967303035, -0.4265392945388276, -0.37613272539400233, -0.41904079664951477, -0.4348709588602863, -0.4352875420763592, -0.38363122328331534, -0.4215402959459524, -0.4294553770513381, -0.41945737986558773, -0.4219568791620253, -0.3936292204690658, -0.4082096330316185, -0.4094593826798373, -0.4211237127298794, -0.417791047001296, -0.4098759658959102, -0.42820562740311935, -0.42445637845846296, -0.4390367910210156, -0.3932126372529928, -0.4323714595638487, -0.44445237282996375, -0.43820362458886974, -0.3990448022780139, -0.4202905462977336, -0.4294553770513381, -0.3973784694137222, -0.449451371422839, -0.4144583812727125, -0.4086262162476914, -0.41945737986558773, -0.37613272539400233, -0.4261227113227547, -0.41904079664951477, -0.43153829313170283, -0.3636352289118143, -0.35072114921355335, -0.4157081309209313, -0.40196088479052444, -0.4390367910210156, -0.4202905462977336, -0.42570612810668174, -0.4207071295138065, -0.4298719602674111, -0.417791047001296, -0.39029655474048225, -0.41279204840842076, -0.4157081309209313, -0.43153829313170283, -0.40654330016732676, -0.4511177042871307, -0.3932126372529928, -0.42778904418704644, -0.42820562740311935, -0.42403979524239, -0.4323714595638487, -0.41070913232805606, -0.4261227113227547, -0.41612471413700425, -0.3898799715244094, -0.44361920639781793, -0.42820562740311935, -0.43445437564421335, -0.4094593826798373, -0.41612471413700425, -0.42862221061919226, -0.4182076302173689, -0.41070913232805606, -0.40779304981554554, -0.3990448022780139, -0.43403779242814045, -0.4294553770513381, -0.3790488079065131, -0.39571213654943044, -0.3690508107207626, -0.44778503855854723, -0.3807151407708048, -0.4361207085085051, -0.4211237127298794, -0.4273724609709735, -0.3940458036851387, -0.38363122328331534, -0.4169578805691501, -0.41404179805663954, -0.41320863162449367, -0.38571413936368004, -0.3890468050922635, -0.4261227113227547, -0.43778704137279684, -0.43070512669955696, -0.41029254911198315, -0.3865473057958259, -0.43195487634777574, -0.4123754651923478, -0.4323714595638487, -0.4298719602674111, -0.4144583812727125, -0.38238147363509656, -0.4294553770513381, -0.4386202078049427, -0.42862221061919226, -0.39529555333335753, -0.4398699574531615, -0.41612471413700425, -0.42570612810668174, -0.4452855392621096, -0.4090427994637643, -0.4227900455941712, -0.4227900455941712, -0.40154430157445153, -0.4448689560460367]}],\n",
              "                        {\"template\": {\"data\": {\"bar\": [{\"error_x\": {\"color\": \"#2a3f5f\"}, \"error_y\": {\"color\": \"#2a3f5f\"}, \"marker\": {\"line\": {\"color\": \"#E5ECF6\", \"width\": 0.5}}, \"type\": \"bar\"}], \"barpolar\": [{\"marker\": {\"line\": {\"color\": \"#E5ECF6\", \"width\": 0.5}}, \"type\": \"barpolar\"}], \"carpet\": [{\"aaxis\": {\"endlinecolor\": \"#2a3f5f\", \"gridcolor\": \"white\", \"linecolor\": \"white\", \"minorgridcolor\": \"white\", \"startlinecolor\": \"#2a3f5f\"}, \"baxis\": {\"endlinecolor\": \"#2a3f5f\", \"gridcolor\": \"white\", \"linecolor\": \"white\", \"minorgridcolor\": \"white\", \"startlinecolor\": \"#2a3f5f\"}, \"type\": \"carpet\"}], \"choropleth\": [{\"colorbar\": {\"outlinewidth\": 0, \"ticks\": \"\"}, \"type\": \"choropleth\"}], \"contour\": [{\"colorbar\": {\"outlinewidth\": 0, \"ticks\": \"\"}, \"colorscale\": [[0.0, \"#0d0887\"], [0.1111111111111111, \"#46039f\"], [0.2222222222222222, \"#7201a8\"], [0.3333333333333333, \"#9c179e\"], [0.4444444444444444, \"#bd3786\"], [0.5555555555555556, \"#d8576b\"], [0.6666666666666666, \"#ed7953\"], [0.7777777777777778, \"#fb9f3a\"], [0.8888888888888888, \"#fdca26\"], [1.0, \"#f0f921\"]], \"type\": \"contour\"}], \"contourcarpet\": [{\"colorbar\": {\"outlinewidth\": 0, \"ticks\": \"\"}, \"type\": \"contourcarpet\"}], \"heatmap\": [{\"colorbar\": {\"outlinewidth\": 0, \"ticks\": \"\"}, \"colorscale\": [[0.0, \"#0d0887\"], [0.1111111111111111, \"#46039f\"], [0.2222222222222222, \"#7201a8\"], [0.3333333333333333, \"#9c179e\"], [0.4444444444444444, \"#bd3786\"], [0.5555555555555556, \"#d8576b\"], [0.6666666666666666, \"#ed7953\"], [0.7777777777777778, \"#fb9f3a\"], [0.8888888888888888, \"#fdca26\"], [1.0, \"#f0f921\"]], \"type\": \"heatmap\"}], \"heatmapgl\": [{\"colorbar\": {\"outlinewidth\": 0, \"ticks\": \"\"}, \"colorscale\": [[0.0, \"#0d0887\"], [0.1111111111111111, \"#46039f\"], [0.2222222222222222, \"#7201a8\"], [0.3333333333333333, \"#9c179e\"], [0.4444444444444444, \"#bd3786\"], [0.5555555555555556, \"#d8576b\"], [0.6666666666666666, \"#ed7953\"], [0.7777777777777778, \"#fb9f3a\"], [0.8888888888888888, \"#fdca26\"], [1.0, \"#f0f921\"]], \"type\": \"heatmapgl\"}], \"histogram\": [{\"marker\": {\"colorbar\": {\"outlinewidth\": 0, \"ticks\": \"\"}}, \"type\": \"histogram\"}], \"histogram2d\": [{\"colorbar\": {\"outlinewidth\": 0, \"ticks\": \"\"}, \"colorscale\": [[0.0, \"#0d0887\"], [0.1111111111111111, \"#46039f\"], [0.2222222222222222, \"#7201a8\"], [0.3333333333333333, \"#9c179e\"], [0.4444444444444444, \"#bd3786\"], [0.5555555555555556, \"#d8576b\"], [0.6666666666666666, \"#ed7953\"], [0.7777777777777778, \"#fb9f3a\"], [0.8888888888888888, \"#fdca26\"], [1.0, \"#f0f921\"]], \"type\": \"histogram2d\"}], \"histogram2dcontour\": [{\"colorbar\": {\"outlinewidth\": 0, \"ticks\": \"\"}, \"colorscale\": [[0.0, \"#0d0887\"], [0.1111111111111111, \"#46039f\"], [0.2222222222222222, \"#7201a8\"], [0.3333333333333333, \"#9c179e\"], [0.4444444444444444, \"#bd3786\"], [0.5555555555555556, \"#d8576b\"], [0.6666666666666666, \"#ed7953\"], [0.7777777777777778, \"#fb9f3a\"], [0.8888888888888888, \"#fdca26\"], [1.0, \"#f0f921\"]], \"type\": \"histogram2dcontour\"}], \"mesh3d\": [{\"colorbar\": {\"outlinewidth\": 0, \"ticks\": \"\"}, \"type\": \"mesh3d\"}], \"parcoords\": [{\"line\": {\"colorbar\": {\"outlinewidth\": 0, \"ticks\": \"\"}}, \"type\": \"parcoords\"}], \"pie\": [{\"automargin\": true, \"type\": \"pie\"}], \"scatter\": [{\"marker\": {\"colorbar\": {\"outlinewidth\": 0, \"ticks\": \"\"}}, \"type\": \"scatter\"}], \"scatter3d\": [{\"line\": {\"colorbar\": {\"outlinewidth\": 0, \"ticks\": \"\"}}, \"marker\": {\"colorbar\": {\"outlinewidth\": 0, \"ticks\": \"\"}}, \"type\": \"scatter3d\"}], \"scattercarpet\": [{\"marker\": {\"colorbar\": {\"outlinewidth\": 0, \"ticks\": \"\"}}, \"type\": \"scattercarpet\"}], \"scattergeo\": [{\"marker\": {\"colorbar\": {\"outlinewidth\": 0, \"ticks\": \"\"}}, \"type\": \"scattergeo\"}], \"scattergl\": [{\"marker\": {\"colorbar\": {\"outlinewidth\": 0, \"ticks\": \"\"}}, \"type\": \"scattergl\"}], \"scattermapbox\": [{\"marker\": {\"colorbar\": {\"outlinewidth\": 0, \"ticks\": \"\"}}, \"type\": \"scattermapbox\"}], \"scatterpolar\": [{\"marker\": {\"colorbar\": {\"outlinewidth\": 0, \"ticks\": \"\"}}, \"type\": \"scatterpolar\"}], \"scatterpolargl\": [{\"marker\": {\"colorbar\": {\"outlinewidth\": 0, \"ticks\": \"\"}}, \"type\": \"scatterpolargl\"}], \"scatterternary\": [{\"marker\": {\"colorbar\": {\"outlinewidth\": 0, \"ticks\": \"\"}}, \"type\": \"scatterternary\"}], \"surface\": [{\"colorbar\": {\"outlinewidth\": 0, \"ticks\": \"\"}, \"colorscale\": [[0.0, \"#0d0887\"], [0.1111111111111111, \"#46039f\"], [0.2222222222222222, \"#7201a8\"], [0.3333333333333333, \"#9c179e\"], [0.4444444444444444, \"#bd3786\"], [0.5555555555555556, \"#d8576b\"], [0.6666666666666666, \"#ed7953\"], [0.7777777777777778, \"#fb9f3a\"], [0.8888888888888888, \"#fdca26\"], [1.0, \"#f0f921\"]], \"type\": \"surface\"}], \"table\": [{\"cells\": {\"fill\": {\"color\": \"#EBF0F8\"}, \"line\": {\"color\": \"white\"}}, \"header\": {\"fill\": {\"color\": \"#C8D4E3\"}, \"line\": {\"color\": \"white\"}}, \"type\": \"table\"}]}, \"layout\": {\"annotationdefaults\": {\"arrowcolor\": \"#2a3f5f\", \"arrowhead\": 0, \"arrowwidth\": 1}, \"coloraxis\": {\"colorbar\": {\"outlinewidth\": 0, \"ticks\": \"\"}}, \"colorscale\": {\"diverging\": [[0, \"#8e0152\"], [0.1, \"#c51b7d\"], [0.2, \"#de77ae\"], [0.3, \"#f1b6da\"], [0.4, \"#fde0ef\"], [0.5, \"#f7f7f7\"], [0.6, \"#e6f5d0\"], [0.7, \"#b8e186\"], [0.8, \"#7fbc41\"], [0.9, \"#4d9221\"], [1, \"#276419\"]], \"sequential\": [[0.0, \"#0d0887\"], [0.1111111111111111, \"#46039f\"], [0.2222222222222222, \"#7201a8\"], [0.3333333333333333, \"#9c179e\"], [0.4444444444444444, \"#bd3786\"], [0.5555555555555556, \"#d8576b\"], [0.6666666666666666, \"#ed7953\"], [0.7777777777777778, \"#fb9f3a\"], [0.8888888888888888, \"#fdca26\"], [1.0, \"#f0f921\"]], \"sequentialminus\": [[0.0, \"#0d0887\"], [0.1111111111111111, \"#46039f\"], [0.2222222222222222, \"#7201a8\"], [0.3333333333333333, \"#9c179e\"], [0.4444444444444444, \"#bd3786\"], [0.5555555555555556, \"#d8576b\"], [0.6666666666666666, \"#ed7953\"], [0.7777777777777778, \"#fb9f3a\"], [0.8888888888888888, \"#fdca26\"], [1.0, \"#f0f921\"]]}, \"colorway\": [\"#636efa\", \"#EF553B\", \"#00cc96\", \"#ab63fa\", \"#FFA15A\", \"#19d3f3\", \"#FF6692\", \"#B6E880\", \"#FF97FF\", \"#FECB52\"], \"font\": {\"color\": \"#2a3f5f\"}, \"geo\": {\"bgcolor\": \"white\", \"lakecolor\": \"white\", \"landcolor\": \"#E5ECF6\", \"showlakes\": true, \"showland\": true, \"subunitcolor\": \"white\"}, \"hoverlabel\": {\"align\": \"left\"}, \"hovermode\": \"closest\", \"mapbox\": {\"style\": \"light\"}, \"paper_bgcolor\": \"white\", \"plot_bgcolor\": \"#E5ECF6\", \"polar\": {\"angularaxis\": {\"gridcolor\": \"white\", \"linecolor\": \"white\", \"ticks\": \"\"}, \"bgcolor\": \"#E5ECF6\", \"radialaxis\": {\"gridcolor\": \"white\", \"linecolor\": \"white\", \"ticks\": \"\"}}, \"scene\": {\"xaxis\": {\"backgroundcolor\": \"#E5ECF6\", \"gridcolor\": \"white\", \"gridwidth\": 2, \"linecolor\": \"white\", \"showbackground\": true, \"ticks\": \"\", \"zerolinecolor\": \"white\"}, \"yaxis\": {\"backgroundcolor\": \"#E5ECF6\", \"gridcolor\": \"white\", \"gridwidth\": 2, \"linecolor\": \"white\", \"showbackground\": true, \"ticks\": \"\", \"zerolinecolor\": \"white\"}, \"zaxis\": {\"backgroundcolor\": \"#E5ECF6\", \"gridcolor\": \"white\", \"gridwidth\": 2, \"linecolor\": \"white\", \"showbackground\": true, \"ticks\": \"\", \"zerolinecolor\": \"white\"}}, \"shapedefaults\": {\"line\": {\"color\": \"#2a3f5f\"}}, \"ternary\": {\"aaxis\": {\"gridcolor\": \"white\", \"linecolor\": \"white\", \"ticks\": \"\"}, \"baxis\": {\"gridcolor\": \"white\", \"linecolor\": \"white\", \"ticks\": \"\"}, \"bgcolor\": \"#E5ECF6\", \"caxis\": {\"gridcolor\": \"white\", \"linecolor\": \"white\", \"ticks\": \"\"}}, \"title\": {\"x\": 0.05}, \"xaxis\": {\"automargin\": true, \"gridcolor\": \"white\", \"linecolor\": \"white\", \"ticks\": \"\", \"title\": {\"standoff\": 15}, \"zerolinecolor\": \"white\", \"zerolinewidth\": 2}, \"yaxis\": {\"automargin\": true, \"gridcolor\": \"white\", \"linecolor\": \"white\", \"ticks\": \"\", \"title\": {\"standoff\": 15}, \"zerolinecolor\": \"white\", \"zerolinewidth\": 2}}}, \"title\": {\"text\": \"Target vs Predictions\"}, \"xaxis\": {\"title\": {\"text\": \"BMI\"}}, \"yaxis\": {\"title\": {\"text\": \"Diabetes metric\"}}},\n",
              "                        {\"responsive\": true}\n",
              "                    ).then(function(){\n",
              "                            \n",
              "var gd = document.getElementById('e8a025de-2c85-41b0-9f6e-fd24a8dac71d');\n",
              "var x = new MutationObserver(function (mutations, observer) {{\n",
              "        var display = window.getComputedStyle(gd).display;\n",
              "        if (!display || display === 'none') {{\n",
              "            console.log([gd, 'removed!']);\n",
              "            Plotly.purge(gd);\n",
              "            observer.disconnect();\n",
              "        }}\n",
              "}});\n",
              "\n",
              "// Listen for the removal of the full notebook cells\n",
              "var notebookContainer = gd.closest('#notebook-container');\n",
              "if (notebookContainer) {{\n",
              "    x.observe(notebookContainer, {childList: true});\n",
              "}}\n",
              "\n",
              "// Listen for the clearing of the current output cell\n",
              "var outputEl = gd.closest('.output');\n",
              "if (outputEl) {{\n",
              "    x.observe(outputEl, {childList: true});\n",
              "}}\n",
              "\n",
              "                        })\n",
              "                };\n",
              "                \n",
              "            </script>\n",
              "        </div>\n",
              "</body>\n",
              "</html>"
            ]
          },
          "metadata": {
            "tags": []
          }
        }
      ]
    },
    {
      "cell_type": "markdown",
      "metadata": {
        "id": "b4t0xlPMwwuf"
      },
      "source": [
        "* We're going to need to compute the gradients for our variable `model.beta_1` and our constant `model.beta_0`. To do this, we're going to need to review our derivative formulas. Since we're not here to do math, we're going to give you these formulas. \n",
        "  * `derive_model_beta_1 = 2/len(y_pred)*np.sum((x @ (y_pred - y_true)))`\n",
        "  * `derive_model_beta_0 = 2/len(y_pred)*(np.sum(y_pred - y_true))`\n",
        "\n",
        "  * Feel free to read this article if you want to know more about the calculation of the derivative: [Gradient Descent Derivation](https://mccormickml.com/2014/03/04/gradient-descent-derivation/)\n",
        "\n",
        "\n",
        "  * So using the above formulas, code the first function `derivative_mse_beta_1` that will take the arguments: \n",
        "    * `x` --> the values for your variable / `y_pred` --> the values predicted by your model / `y_true` --> the values of the target variable\n"
      ]
    },
    {
      "cell_type": "code",
      "metadata": {
        "id": "JrVNZeiFnoDE"
      },
      "source": [
        "# Calculate model.beta_1's derivate\n",
        "def derivative_mse_beta_1(y_pred, y_true, x):\n",
        "  return 2/len(y_pred)*np.sum((x @ (y_pred - y_true)))\n",
        "  # return 2/len(y_pred) * np.sum(np.dot(x,(y_pred-y_true)))"
      ],
      "execution_count": null,
      "outputs": []
    },
    {
      "cell_type": "markdown",
      "metadata": {
        "id": "wtno1PCmzGSy"
      },
      "source": [
        "* Test you function"
      ]
    },
    {
      "cell_type": "code",
      "metadata": {
        "id": "n5Fgfu5En1Cl",
        "colab": {
          "base_uri": "https://localhost:8080/"
        },
        "outputId": "46c67946-c23e-4d93-9555-557cbf1dc068"
      },
      "source": [
        "derivative_mse_beta_1(model(diabetes_X), y, diabetes_X)"
      ],
      "execution_count": null,
      "outputs": [
        {
          "output_type": "execute_result",
          "data": {
            "text/plain": [
              "-4.294338245128697"
            ]
          },
          "metadata": {
            "tags": []
          },
          "execution_count": 23
        }
      ]
    },
    {
      "cell_type": "markdown",
      "metadata": {
        "id": "t7uluSUoy6x4"
      },
      "source": [
        "* So using the above formulas, now code the `derivative_mse_beta_0` function which will take the arguments :\n",
        "    * `y_pred` --> the values predicted by your model / `y_true` --> the actual values to predict"
      ]
    },
    {
      "cell_type": "code",
      "metadata": {
        "id": "DjFHRuH8nMEH"
      },
      "source": [
        "# Calculate model.b's derivate\n",
        "def derivative_mse_beta_0(y_pred, y_true):\n",
        "  return 2/len(y_pred)*(np.sum(y_pred - y_true))"
      ],
      "execution_count": null,
      "outputs": []
    },
    {
      "cell_type": "markdown",
      "metadata": {
        "id": "4R9sfYPdzNYc"
      },
      "source": [
        "* Test you function"
      ]
    },
    {
      "cell_type": "code",
      "metadata": {
        "id": "DPNk2cCol8sG",
        "colab": {
          "base_uri": "https://localhost:8080/"
        },
        "outputId": "b0a61690-c56c-4f17-c6f5-621e891b3857"
      },
      "source": [
        "derivative_mse_beta_0(model(diabetes_X), y)"
      ],
      "execution_count": null,
      "outputs": [
        {
          "output_type": "execute_result",
          "data": {
            "text/plain": [
              "-305.1002526146343"
            ]
          },
          "metadata": {
            "tags": []
          },
          "execution_count": 25
        }
      ]
    },
    {
      "cell_type": "markdown",
      "metadata": {
        "id": "tmtfiOnszUqi"
      },
      "source": [
        "* We will try to see if we can minimize our cost function using the two gradients above. To update our variables, we need to subtract their respective gradients. Ex: \n",
        "  * `param = param - learning_rate * gradient`\n",
        "\n",
        "  * Set a `learning_rate` to 0.1\n",
        "  * Try to apply your formula on `model.beta_1` and `model.beta_0`."
      ]
    },
    {
      "cell_type": "code",
      "metadata": {
        "id": "WRROMSkNzvnI",
        "colab": {
          "base_uri": "https://localhost:8080/"
        },
        "outputId": "86fcb400-dfeb-4374-986b-282c3b0d9213"
      },
      "source": [
        "lr = 0.1\n",
        "\n",
        "print(\"OLD model.a = {}\".format(model.beta_1))\n",
        "print(\"OLD model.b = {}\".format(model.beta_0))\n",
        "\n",
        "model.beta_1 -= lr * derivative_mse_beta_1(model(diabetes_X), y, diabetes_X)\n",
        "# model.a = model.a - lr * derivative_mse_a(model(diabetes_X), y, diabetes_X)\n",
        "model.beta_0 -= lr * derivative_mse_beta_0(model(diabetes_X), y)\n",
        "\n",
        "print(\"NEW model.a = {}\".format(model.beta_1))\n",
        "print(\"NEW model.b = {}\".format(model.beta_0))"
      ],
      "execution_count": null,
      "outputs": [
        {
          "output_type": "stream",
          "text": [
            "OLD model.a = [0.38650821]\n",
            "OLD model.b = [-0.41664214]\n",
            "NEW model.a = [0.81594204]\n",
            "NEW model.b = [30.09338312]\n"
          ],
          "name": "stdout"
        }
      ]
    },
    {
      "cell_type": "markdown",
      "metadata": {
        "id": "uqqJKj8cLYXr"
      },
      "source": [
        "Wesee that the values of the two parameters have changed, let's see how it affected the predictions of the model. \r\n",
        "Visualize the data vs the model's predictions."
      ]
    },
    {
      "cell_type": "code",
      "metadata": {
        "id": "h1gy8x4O9QLw",
        "colab": {
          "base_uri": "https://localhost:8080/",
          "height": 542
        },
        "outputId": "d8a033f8-2635-49fa-f9a1-83c718134ac7"
      },
      "source": [
        "fig = go.Figure()\n",
        "fig.add_trace(go.Scatter(x=diabetes_X, y=y,\n",
        "                    mode='markers',\n",
        "                    name='target'))\n",
        "fig.add_trace(go.Scatter(x=diabetes_X, y=model(diabetes_X),\n",
        "                    mode='lines',\n",
        "                    name='predictions'))\n",
        "fig.update_layout(\n",
        "    title=\"Target vs Predictions\",\n",
        "    xaxis_title=\"BMI\",\n",
        "    yaxis_title=\"Diabetes metric\"\n",
        "    )\n",
        "fig.show()"
      ],
      "execution_count": null,
      "outputs": [
        {
          "output_type": "display_data",
          "data": {
            "text/html": [
              "<html>\n",
              "<head><meta charset=\"utf-8\" /></head>\n",
              "<body>\n",
              "    <div>\n",
              "            <script src=\"https://cdnjs.cloudflare.com/ajax/libs/mathjax/2.7.5/MathJax.js?config=TeX-AMS-MML_SVG\"></script><script type=\"text/javascript\">if (window.MathJax) {MathJax.Hub.Config({SVG: {font: \"STIX-Web\"}});}</script>\n",
              "                <script type=\"text/javascript\">window.PlotlyConfig = {MathJaxConfig: 'local'};</script>\n",
              "        <script src=\"https://cdn.plot.ly/plotly-latest.min.js\"></script>    \n",
              "            <div id=\"44ef58fb-374c-4701-b829-3b0ebd2ce791\" class=\"plotly-graph-div\" style=\"height:525px; width:100%;\"></div>\n",
              "            <script type=\"text/javascript\">\n",
              "                \n",
              "                    window.PLOTLYENV=window.PLOTLYENV || {};\n",
              "                    \n",
              "                if (document.getElementById(\"44ef58fb-374c-4701-b829-3b0ebd2ce791\")) {\n",
              "                    Plotly.newPlot(\n",
              "                        '44ef58fb-374c-4701-b829-3b0ebd2ce791',\n",
              "                        [{\"mode\": \"markers\", \"name\": \"target\", \"type\": \"scatter\", \"x\": [0.0616962065186885, -0.0514740612388061, 0.0444512133365941, -0.0115950145052127, -0.0363846922044735, -0.0406959404999971, -0.0471628129432825, -0.00189470584028465, 0.0616962065186885, 0.0390621529671896, -0.0838084234552331, 0.0175059114895716, -0.0288400076873072, -0.00189470584028465, -0.0256065714656645, -0.0180618869484982, 0.0422955891888323, 0.0121168511201671, -0.0105172024313319, -0.0180618869484982, -0.0568631216082106, -0.0223731352440218, -0.00405032998804645, 0.0606183944448076, 0.0358287167455469, -0.0126728265790937, -0.0773415510119477, 0.0595405823709267, -0.0212953231701409, -0.00620595413580824, 0.0444512133365941, -0.0654856181992578, 0.125287118877662, -0.0503962491649252, -0.063329994051496, -0.030995631835069, 0.0228949718589761, 0.0110390390462862, 0.0713965151836166, 0.0142724752679289, -0.00836157828357004, -0.0676412423470196, -0.0105172024313319, -0.0234509473179027, 0.068163078961974, -0.0353068801305926, -0.0115950145052127, -0.0730303027164241, -0.041773752573878, 0.0142724752679289, -0.00728376620968916, 0.0164280994156907, -0.00943939035745095, -0.0159062628007364, 0.0250505960067379, -0.0493184370910443, 0.0412177771149514, -0.063329994051496, -0.064407806125377, -0.0256065714656645, -0.00405032998804645, 0.00457216660300077, -0.00728376620968916, -0.0374625042783544, -0.0256065714656645, -0.0245287593917836, -0.0180618869484982, -0.0148284507268555, -0.0299178197611881, -0.0460850008694016, -0.0697968664947814, 0.0336730925977851, -0.00405032998804645, -0.02021751109626, 0.00241654245523897, -0.030995631835069, 0.0282840322283806, -0.0363846922044735, -0.0579409336820915, -0.0374625042783544, 0.0121168511201671, -0.0223731352440218, -0.0353068801305926, 0.00996122697240527, -0.0396181284261162, 0.0713965151836166, -0.0751859268641859, -0.00620595413580824, -0.0406959404999971, -0.0482406250171634, -0.0256065714656645, 0.0519958978537604, 0.00457216660300077, -0.064407806125377, -0.0169840748746173, -0.0579409336820915, 0.00996122697240527, 0.088641508365711, -0.00512814206192736, -0.064407806125377, 0.0175059114895716, -0.0450071887955207, 0.0282840322283806, 0.0412177771149514, 0.0649296427403312, -0.0320734439089499, -0.0762637389380668, 0.0498402737059986, 0.045529025410475, -0.00943939035745095, -0.0320734439089499, 0.00457216660300077, 0.0207393477112143, 0.0142724752679289, 0.110197749843329, 0.00133873038135806, 0.0584627702970458, -0.0212953231701409, -0.0105172024313319, -0.0471628129432825, 0.00457216660300077, 0.0175059114895716, 0.0810968238485447, 0.034750904671666, 0.023972783932857, -0.00836157828357004, -0.0611743699037342, -0.00189470584028465, -0.0622521819776151, 0.0164280994156907, 0.0961861928828773, -0.0697968664947814, -0.0212953231701409, -0.0536296853865679, 0.0433734012627132, 0.056307146149284, -0.0816527993074713, 0.0498402737059986, 0.11127556191721, 0.0616962065186885, 0.0142724752679289, 0.0476846495582368, 0.0121168511201671, 0.00564997867688165, 0.0466068374843559, 0.128520555099304, 0.0595405823709267, 0.0929527566612346, 0.0153502873418098, -0.00512814206192736, 0.0703187031097357, -0.00405032998804645, -0.000816893766403737, -0.0439293767216398, 0.0207393477112143, 0.0606183944448076, -0.0105172024313319, -0.0331512559828308, -0.0654856181992578, 0.0433734012627132, -0.0622521819776151, 0.0638518306664503, 0.0304396563761424, 0.0724743272574975, -0.019139699022379, -0.0665634302731387, -0.0600965578298533, 0.0692408910358548, 0.0595405823709267, -0.0266843835395454, -0.02021751109626, -0.0460850008694016, 0.0713965151836166, -0.0794971751597095, 0.00996122697240527, -0.0385403163522353, 0.0196615356373334, 0.0272062201544997, -0.00836157828357004, -0.0159062628007364, 0.00457216660300077, -0.0428515646477589, 0.00564997867688165, -0.0353068801305926, 0.023972783932857, -0.0180618869484982, 0.0422955891888323, -0.0547074974604488, -0.00297251791416553, -0.0665634302731387, -0.0126728265790937, -0.041773752573878, -0.030995631835069, -0.00512814206192736, -0.0590187457559724, 0.0250505960067379, -0.0460850008694016, 0.00349435452911985, 0.0541515220015222, -0.0450071887955207, -0.0579409336820915, -0.0557853095343297, 0.00133873038135806, 0.0304396563761424, 0.00672779075076256, 0.0466068374843559, 0.0261284080806188, 0.045529025410475, 0.0401399650410705, -0.0180618869484982, 0.0142724752679289, 0.0369065288194278, 0.00349435452911985, -0.0708746785686623, -0.0331512559828308, 0.0940305687351156, 0.0358287167455469, 0.0315174684500233, -0.0654856181992578, -0.041773752573878, -0.0396181284261162, -0.0385403163522353, -0.0256065714656645, -0.0234509473179027, -0.0665634302731387, 0.0325952805239042, -0.0460850008694016, -0.0299178197611881, -0.0126728265790937, -0.0159062628007364, 0.0713965151836166, -0.030995631835069, 0.000260918307477141, 0.0369065288194278, 0.0390621529671896, -0.0148284507268555, 0.00672779075076256, -0.0687190544209005, -0.00943939035745095, 0.0196615356373334, 0.0746299514052593, -0.00836157828357004, -0.0234509473179027, -0.0460850008694016, 0.0541515220015222, -0.0353068801305926, -0.0320734439089499, -0.0816527993074713, 0.0476846495582368, 0.0606183944448076, 0.056307146149284, 0.098341817030639, 0.0595405823709267, 0.0336730925977851, 0.056307146149284, -0.0654856181992578, 0.160854917315731, -0.0557853095343297, -0.0245287593917836, -0.0363846922044735, -0.00836157828357004, -0.041773752573878, 0.127442743025423, -0.0773415510119477, 0.0282840322283806, -0.0256065714656645, -0.0622521819776151, -0.000816893766403737, 0.088641508365711, -0.0320734439089499, 0.0304396563761424, 0.00888341489852436, 0.00672779075076256, -0.02021751109626, -0.0245287593917836, -0.0115950145052127, 0.0261284080806188, -0.0590187457559724, -0.0363846922044735, -0.0245287593917836, 0.0185837235634525, -0.0902752958985185, -0.00512814206192736, -0.052551873312687, -0.0223731352440218, -0.02021751109626, -0.0547074974604488, -0.00620595413580824, -0.0169840748746173, 0.0552293340754031, 0.0767855755530211, 0.0185837235634525, -0.0223731352440218, 0.0929527566612346, -0.030995631835069, 0.0390621529671896, -0.0611743699037342, -0.00836157828357004, -0.0374625042783544, -0.0137506386529745, 0.0735521393313785, -0.0245287593917836, 0.0336730925977851, 0.034750904671666, -0.0385403163522353, -0.0396181284261162, -0.00189470584028465, -0.030995631835069, -0.0460850008694016, 0.00133873038135806, 0.0649296427403312, 0.0401399650410705, -0.0234509473179027, 0.0530737099276413, 0.0401399650410705, -0.02021751109626, 0.0142724752679289, -0.0342290680567117, 0.00672779075076256, 0.00457216660300077, 0.0304396563761424, 0.0519958978537604, 0.0616962065186885, -0.00728376620968916, 0.00564997867688165, 0.0541515220015222, -0.00836157828357004, 0.114508998138853, 0.067085266888093, -0.0557853095343297, 0.0304396563761424, -0.0256065714656645, 0.104808689473925, -0.00620595413580824, -0.0471628129432825, -0.0482406250171634, 0.0854080721440683, -0.0126728265790937, -0.0331512559828308, -0.00728376620968916, -0.0137506386529745, 0.0595405823709267, 0.0218171597850952, 0.0185837235634525, -0.0115950145052127, -0.00297251791416553, 0.0175059114895716, -0.0299178197611881, -0.02021751109626, -0.0579409336820915, 0.0606183944448076, -0.0406959404999971, -0.0719524906425432, -0.0557853095343297, 0.045529025410475, -0.00943939035745095, -0.0331512559828308, 0.0498402737059986, -0.084886235529114, 0.00564997867688165, 0.0207393477112143, -0.00728376620968916, 0.104808689473925, -0.0245287593917836, -0.00620595413580824, -0.0385403163522353, 0.137143051690352, 0.17055522598066, 0.00241654245523897, 0.0379843408933087, -0.0579409336820915, -0.00943939035745095, -0.0234509473179027, -0.0105172024313319, -0.0342290680567117, -0.00297251791416553, 0.068163078961974, 0.00996122697240527, 0.00241654245523897, -0.0385403163522353, 0.0261284080806188, -0.0891974838246376, 0.0606183944448076, -0.0288400076873072, -0.0299178197611881, -0.019139699022379, -0.0406959404999971, 0.0153502873418098, -0.0245287593917836, 0.00133873038135806, 0.0692408910358548, -0.0697968664947814, -0.0299178197611881, -0.0460850008694016, 0.0185837235634525, 0.00133873038135806, -0.030995631835069, -0.00405032998804645, 0.0153502873418098, 0.0228949718589761, 0.045529025410475, -0.0450071887955207, -0.0331512559828308, 0.0972640049567582, 0.0541515220015222, 0.1231314947299, -0.0805749872335904, 0.0929527566612346, -0.0503962491649252, -0.0115950145052127, -0.0277621956134263, 0.0584627702970458, 0.0854080721440683, -0.000816893766403737, 0.00672779075076256, 0.00888341489852436, 0.0800190117746638, 0.0713965151836166, -0.0245287593917836, -0.0547074974604488, -0.0363846922044735, 0.0164280994156907, 0.077863387626902, -0.0396181284261162, 0.0110390390462862, -0.0406959404999971, -0.0342290680567117, 0.00564997867688165, 0.088641508365711, -0.0331512559828308, -0.0568631216082106, -0.030995631835069, 0.0552293340754031, -0.0600965578298533, 0.00133873038135806, -0.0234509473179027, -0.074108114790305, 0.0196615356373334, -0.0159062628007364, -0.0159062628007364, 0.0390621529671896, -0.0730303027164241], \"y\": [151.0, 75.0, 141.0, 206.0, 135.0, 97.0, 138.0, 63.0, 110.0, 310.0, 101.0, 69.0, 179.0, 185.0, 118.0, 171.0, 166.0, 144.0, 97.0, 168.0, 68.0, 49.0, 68.0, 245.0, 184.0, 202.0, 137.0, 85.0, 131.0, 283.0, 129.0, 59.0, 341.0, 87.0, 65.0, 102.0, 265.0, 276.0, 252.0, 90.0, 100.0, 55.0, 61.0, 92.0, 259.0, 53.0, 190.0, 142.0, 75.0, 142.0, 155.0, 225.0, 59.0, 104.0, 182.0, 128.0, 52.0, 37.0, 170.0, 170.0, 61.0, 144.0, 52.0, 128.0, 71.0, 163.0, 150.0, 97.0, 160.0, 178.0, 48.0, 270.0, 202.0, 111.0, 85.0, 42.0, 170.0, 200.0, 252.0, 113.0, 143.0, 51.0, 52.0, 210.0, 65.0, 141.0, 55.0, 134.0, 42.0, 111.0, 98.0, 164.0, 48.0, 96.0, 90.0, 162.0, 150.0, 279.0, 92.0, 83.0, 128.0, 102.0, 302.0, 198.0, 95.0, 53.0, 134.0, 144.0, 232.0, 81.0, 104.0, 59.0, 246.0, 297.0, 258.0, 229.0, 275.0, 281.0, 179.0, 200.0, 200.0, 173.0, 180.0, 84.0, 121.0, 161.0, 99.0, 109.0, 115.0, 268.0, 274.0, 158.0, 107.0, 83.0, 103.0, 272.0, 85.0, 280.0, 336.0, 281.0, 118.0, 317.0, 235.0, 60.0, 174.0, 259.0, 178.0, 128.0, 96.0, 126.0, 288.0, 88.0, 292.0, 71.0, 197.0, 186.0, 25.0, 84.0, 96.0, 195.0, 53.0, 217.0, 172.0, 131.0, 214.0, 59.0, 70.0, 220.0, 268.0, 152.0, 47.0, 74.0, 295.0, 101.0, 151.0, 127.0, 237.0, 225.0, 81.0, 151.0, 107.0, 64.0, 138.0, 185.0, 265.0, 101.0, 137.0, 143.0, 141.0, 79.0, 292.0, 178.0, 91.0, 116.0, 86.0, 122.0, 72.0, 129.0, 142.0, 90.0, 158.0, 39.0, 196.0, 222.0, 277.0, 99.0, 196.0, 202.0, 155.0, 77.0, 191.0, 70.0, 73.0, 49.0, 65.0, 263.0, 248.0, 296.0, 214.0, 185.0, 78.0, 93.0, 252.0, 150.0, 77.0, 208.0, 77.0, 108.0, 160.0, 53.0, 220.0, 154.0, 259.0, 90.0, 246.0, 124.0, 67.0, 72.0, 257.0, 262.0, 275.0, 177.0, 71.0, 47.0, 187.0, 125.0, 78.0, 51.0, 258.0, 215.0, 303.0, 243.0, 91.0, 150.0, 310.0, 153.0, 346.0, 63.0, 89.0, 50.0, 39.0, 103.0, 308.0, 116.0, 145.0, 74.0, 45.0, 115.0, 264.0, 87.0, 202.0, 127.0, 182.0, 241.0, 66.0, 94.0, 283.0, 64.0, 102.0, 200.0, 265.0, 94.0, 230.0, 181.0, 156.0, 233.0, 60.0, 219.0, 80.0, 68.0, 332.0, 248.0, 84.0, 200.0, 55.0, 85.0, 89.0, 31.0, 129.0, 83.0, 275.0, 65.0, 198.0, 236.0, 253.0, 124.0, 44.0, 172.0, 114.0, 142.0, 109.0, 180.0, 144.0, 163.0, 147.0, 97.0, 220.0, 190.0, 109.0, 191.0, 122.0, 230.0, 242.0, 248.0, 249.0, 192.0, 131.0, 237.0, 78.0, 135.0, 244.0, 199.0, 270.0, 164.0, 72.0, 96.0, 306.0, 91.0, 214.0, 95.0, 216.0, 263.0, 178.0, 113.0, 200.0, 139.0, 139.0, 88.0, 148.0, 88.0, 243.0, 71.0, 77.0, 109.0, 272.0, 60.0, 54.0, 221.0, 90.0, 311.0, 281.0, 182.0, 321.0, 58.0, 262.0, 206.0, 233.0, 242.0, 123.0, 167.0, 63.0, 197.0, 71.0, 168.0, 140.0, 217.0, 121.0, 235.0, 245.0, 40.0, 52.0, 104.0, 132.0, 88.0, 69.0, 219.0, 72.0, 201.0, 110.0, 51.0, 277.0, 63.0, 118.0, 69.0, 273.0, 258.0, 43.0, 198.0, 242.0, 232.0, 175.0, 93.0, 168.0, 275.0, 293.0, 281.0, 72.0, 140.0, 189.0, 181.0, 209.0, 136.0, 261.0, 113.0, 131.0, 174.0, 257.0, 55.0, 84.0, 42.0, 146.0, 212.0, 233.0, 91.0, 111.0, 152.0, 120.0, 67.0, 310.0, 94.0, 183.0, 66.0, 173.0, 72.0, 49.0, 64.0, 48.0, 178.0, 104.0, 132.0, 220.0, 57.0]}, {\"mode\": \"lines\", \"name\": \"predictions\", \"type\": \"scatter\", \"x\": [0.0616962065186885, -0.0514740612388061, 0.0444512133365941, -0.0115950145052127, -0.0363846922044735, -0.0406959404999971, -0.0471628129432825, -0.00189470584028465, 0.0616962065186885, 0.0390621529671896, -0.0838084234552331, 0.0175059114895716, -0.0288400076873072, -0.00189470584028465, -0.0256065714656645, -0.0180618869484982, 0.0422955891888323, 0.0121168511201671, -0.0105172024313319, -0.0180618869484982, -0.0568631216082106, -0.0223731352440218, -0.00405032998804645, 0.0606183944448076, 0.0358287167455469, -0.0126728265790937, -0.0773415510119477, 0.0595405823709267, -0.0212953231701409, -0.00620595413580824, 0.0444512133365941, -0.0654856181992578, 0.125287118877662, -0.0503962491649252, -0.063329994051496, -0.030995631835069, 0.0228949718589761, 0.0110390390462862, 0.0713965151836166, 0.0142724752679289, -0.00836157828357004, -0.0676412423470196, -0.0105172024313319, -0.0234509473179027, 0.068163078961974, -0.0353068801305926, -0.0115950145052127, -0.0730303027164241, -0.041773752573878, 0.0142724752679289, -0.00728376620968916, 0.0164280994156907, -0.00943939035745095, -0.0159062628007364, 0.0250505960067379, -0.0493184370910443, 0.0412177771149514, -0.063329994051496, -0.064407806125377, -0.0256065714656645, -0.00405032998804645, 0.00457216660300077, -0.00728376620968916, -0.0374625042783544, -0.0256065714656645, -0.0245287593917836, -0.0180618869484982, -0.0148284507268555, -0.0299178197611881, -0.0460850008694016, -0.0697968664947814, 0.0336730925977851, -0.00405032998804645, -0.02021751109626, 0.00241654245523897, -0.030995631835069, 0.0282840322283806, -0.0363846922044735, -0.0579409336820915, -0.0374625042783544, 0.0121168511201671, -0.0223731352440218, -0.0353068801305926, 0.00996122697240527, -0.0396181284261162, 0.0713965151836166, -0.0751859268641859, -0.00620595413580824, -0.0406959404999971, -0.0482406250171634, -0.0256065714656645, 0.0519958978537604, 0.00457216660300077, -0.064407806125377, -0.0169840748746173, -0.0579409336820915, 0.00996122697240527, 0.088641508365711, -0.00512814206192736, -0.064407806125377, 0.0175059114895716, -0.0450071887955207, 0.0282840322283806, 0.0412177771149514, 0.0649296427403312, -0.0320734439089499, -0.0762637389380668, 0.0498402737059986, 0.045529025410475, -0.00943939035745095, -0.0320734439089499, 0.00457216660300077, 0.0207393477112143, 0.0142724752679289, 0.110197749843329, 0.00133873038135806, 0.0584627702970458, -0.0212953231701409, -0.0105172024313319, -0.0471628129432825, 0.00457216660300077, 0.0175059114895716, 0.0810968238485447, 0.034750904671666, 0.023972783932857, -0.00836157828357004, -0.0611743699037342, -0.00189470584028465, -0.0622521819776151, 0.0164280994156907, 0.0961861928828773, -0.0697968664947814, -0.0212953231701409, -0.0536296853865679, 0.0433734012627132, 0.056307146149284, -0.0816527993074713, 0.0498402737059986, 0.11127556191721, 0.0616962065186885, 0.0142724752679289, 0.0476846495582368, 0.0121168511201671, 0.00564997867688165, 0.0466068374843559, 0.128520555099304, 0.0595405823709267, 0.0929527566612346, 0.0153502873418098, -0.00512814206192736, 0.0703187031097357, -0.00405032998804645, -0.000816893766403737, -0.0439293767216398, 0.0207393477112143, 0.0606183944448076, -0.0105172024313319, -0.0331512559828308, -0.0654856181992578, 0.0433734012627132, -0.0622521819776151, 0.0638518306664503, 0.0304396563761424, 0.0724743272574975, -0.019139699022379, -0.0665634302731387, -0.0600965578298533, 0.0692408910358548, 0.0595405823709267, -0.0266843835395454, -0.02021751109626, -0.0460850008694016, 0.0713965151836166, -0.0794971751597095, 0.00996122697240527, -0.0385403163522353, 0.0196615356373334, 0.0272062201544997, -0.00836157828357004, -0.0159062628007364, 0.00457216660300077, -0.0428515646477589, 0.00564997867688165, -0.0353068801305926, 0.023972783932857, -0.0180618869484982, 0.0422955891888323, -0.0547074974604488, -0.00297251791416553, -0.0665634302731387, -0.0126728265790937, -0.041773752573878, -0.030995631835069, -0.00512814206192736, -0.0590187457559724, 0.0250505960067379, -0.0460850008694016, 0.00349435452911985, 0.0541515220015222, -0.0450071887955207, -0.0579409336820915, -0.0557853095343297, 0.00133873038135806, 0.0304396563761424, 0.00672779075076256, 0.0466068374843559, 0.0261284080806188, 0.045529025410475, 0.0401399650410705, -0.0180618869484982, 0.0142724752679289, 0.0369065288194278, 0.00349435452911985, -0.0708746785686623, -0.0331512559828308, 0.0940305687351156, 0.0358287167455469, 0.0315174684500233, -0.0654856181992578, -0.041773752573878, -0.0396181284261162, -0.0385403163522353, -0.0256065714656645, -0.0234509473179027, -0.0665634302731387, 0.0325952805239042, -0.0460850008694016, -0.0299178197611881, -0.0126728265790937, -0.0159062628007364, 0.0713965151836166, -0.030995631835069, 0.000260918307477141, 0.0369065288194278, 0.0390621529671896, -0.0148284507268555, 0.00672779075076256, -0.0687190544209005, -0.00943939035745095, 0.0196615356373334, 0.0746299514052593, -0.00836157828357004, -0.0234509473179027, -0.0460850008694016, 0.0541515220015222, -0.0353068801305926, -0.0320734439089499, -0.0816527993074713, 0.0476846495582368, 0.0606183944448076, 0.056307146149284, 0.098341817030639, 0.0595405823709267, 0.0336730925977851, 0.056307146149284, -0.0654856181992578, 0.160854917315731, -0.0557853095343297, -0.0245287593917836, -0.0363846922044735, -0.00836157828357004, -0.041773752573878, 0.127442743025423, -0.0773415510119477, 0.0282840322283806, -0.0256065714656645, -0.0622521819776151, -0.000816893766403737, 0.088641508365711, -0.0320734439089499, 0.0304396563761424, 0.00888341489852436, 0.00672779075076256, -0.02021751109626, -0.0245287593917836, -0.0115950145052127, 0.0261284080806188, -0.0590187457559724, -0.0363846922044735, -0.0245287593917836, 0.0185837235634525, -0.0902752958985185, -0.00512814206192736, -0.052551873312687, -0.0223731352440218, -0.02021751109626, -0.0547074974604488, -0.00620595413580824, -0.0169840748746173, 0.0552293340754031, 0.0767855755530211, 0.0185837235634525, -0.0223731352440218, 0.0929527566612346, -0.030995631835069, 0.0390621529671896, -0.0611743699037342, -0.00836157828357004, -0.0374625042783544, -0.0137506386529745, 0.0735521393313785, -0.0245287593917836, 0.0336730925977851, 0.034750904671666, -0.0385403163522353, -0.0396181284261162, -0.00189470584028465, -0.030995631835069, -0.0460850008694016, 0.00133873038135806, 0.0649296427403312, 0.0401399650410705, -0.0234509473179027, 0.0530737099276413, 0.0401399650410705, -0.02021751109626, 0.0142724752679289, -0.0342290680567117, 0.00672779075076256, 0.00457216660300077, 0.0304396563761424, 0.0519958978537604, 0.0616962065186885, -0.00728376620968916, 0.00564997867688165, 0.0541515220015222, -0.00836157828357004, 0.114508998138853, 0.067085266888093, -0.0557853095343297, 0.0304396563761424, -0.0256065714656645, 0.104808689473925, -0.00620595413580824, -0.0471628129432825, -0.0482406250171634, 0.0854080721440683, -0.0126728265790937, -0.0331512559828308, -0.00728376620968916, -0.0137506386529745, 0.0595405823709267, 0.0218171597850952, 0.0185837235634525, -0.0115950145052127, -0.00297251791416553, 0.0175059114895716, -0.0299178197611881, -0.02021751109626, -0.0579409336820915, 0.0606183944448076, -0.0406959404999971, -0.0719524906425432, -0.0557853095343297, 0.045529025410475, -0.00943939035745095, -0.0331512559828308, 0.0498402737059986, -0.084886235529114, 0.00564997867688165, 0.0207393477112143, -0.00728376620968916, 0.104808689473925, -0.0245287593917836, -0.00620595413580824, -0.0385403163522353, 0.137143051690352, 0.17055522598066, 0.00241654245523897, 0.0379843408933087, -0.0579409336820915, -0.00943939035745095, -0.0234509473179027, -0.0105172024313319, -0.0342290680567117, -0.00297251791416553, 0.068163078961974, 0.00996122697240527, 0.00241654245523897, -0.0385403163522353, 0.0261284080806188, -0.0891974838246376, 0.0606183944448076, -0.0288400076873072, -0.0299178197611881, -0.019139699022379, -0.0406959404999971, 0.0153502873418098, -0.0245287593917836, 0.00133873038135806, 0.0692408910358548, -0.0697968664947814, -0.0299178197611881, -0.0460850008694016, 0.0185837235634525, 0.00133873038135806, -0.030995631835069, -0.00405032998804645, 0.0153502873418098, 0.0228949718589761, 0.045529025410475, -0.0450071887955207, -0.0331512559828308, 0.0972640049567582, 0.0541515220015222, 0.1231314947299, -0.0805749872335904, 0.0929527566612346, -0.0503962491649252, -0.0115950145052127, -0.0277621956134263, 0.0584627702970458, 0.0854080721440683, -0.000816893766403737, 0.00672779075076256, 0.00888341489852436, 0.0800190117746638, 0.0713965151836166, -0.0245287593917836, -0.0547074974604488, -0.0363846922044735, 0.0164280994156907, 0.077863387626902, -0.0396181284261162, 0.0110390390462862, -0.0406959404999971, -0.0342290680567117, 0.00564997867688165, 0.088641508365711, -0.0331512559828308, -0.0568631216082106, -0.030995631835069, 0.0552293340754031, -0.0600965578298533, 0.00133873038135806, -0.0234509473179027, -0.074108114790305, 0.0196615356373334, -0.0159062628007364, -0.0159062628007364, 0.0390621529671896, -0.0730303027164241], \"y\": [30.14372364534977, 30.051383266757863, 30.129652730516717, 30.083922257309297, 30.063695317236785, 30.06017758852852, 30.054900995466127, 30.09183714690289, 30.14372364534977, 30.12525556963139, 30.025000301445893, 30.107666926090072, 30.069851342476245, 30.09183714690289, 30.072489639007443, 30.078645664246903, 30.127893866162587, 30.103269765204743, 30.084801689486362, 30.078645664246903, 30.046986105872534, 30.07512793553864, 30.09007828254876, 30.142844213172705, 30.12261727310019, 30.08304282513223, 30.030276894508287, 30.14196478099564, 30.076007367715707, 30.088319418194626, 30.129652730516717, 30.03995064845601, 30.19561014379665, 30.052262698934932, 30.04170951281014, 30.068092478122114, 30.1120640869754, 30.102390333027678, 30.151638534943363, 30.105028629558877, 30.086560553840496, 30.03819178410188, 30.084801689486362, 30.074248503361574, 30.149000238412164, 30.06457474941385, 30.083922257309297, 30.03379462321655, 30.059298156351456, 30.105028629558877, 30.08743998601756, 30.106787493913007, 30.08568112166343, 30.080404528601036, 30.113822951329535, 30.053142131111997, 30.12701443398552, 30.04170951281014, 30.040830080633075, 30.072489639007443, 30.09007828254876, 30.097113739965284, 30.08743998601756, 30.06281588505972, 30.072489639007443, 30.07336907118451, 30.078645664246903, 30.0812839607781, 30.06897191029918, 30.055780427643192, 30.036432919747746, 30.12085840874606, 30.09007828254876, 30.076886799892772, 30.095354875611154, 30.068092478122114, 30.11646124786073, 30.063695317236785, 30.04610667369547, 30.06281588505972, 30.103269765204743, 30.07512793553864, 30.06457474941385, 30.101510900850613, 30.061057020705586, 30.151638534943363, 30.032035758862417, 30.088319418194626, 30.06017758852852, 30.054021563289062, 30.072489639007443, 30.135808755756177, 30.097113739965284, 30.040830080633075, 30.079525096423968, 30.04610667369547, 30.101510900850613, 30.165709449776415, 30.08919885037169, 30.040830080633075, 30.107666926090072, 30.05665985982026, 30.11646124786073, 30.12701443398552, 30.146361941880965, 30.06721304594505, 30.031156326685352, 30.134049891402046, 30.130532162693783, 30.08568112166343, 30.06721304594505, 30.097113739965284, 30.11030522262127, 30.105028629558877, 30.183298093317728, 30.094475443434085, 30.14108534881857, 30.076007367715707, 30.084801689486362, 30.054900995466127, 30.097113739965284, 30.107666926090072, 30.159553424536952, 30.121737840923124, 30.112943519152466, 30.086560553840496, 30.043468377164274, 30.09183714690289, 30.04258894498721, 30.106787493913007, 30.171865475015874, 30.036432919747746, 30.076007367715707, 30.049624402403733, 30.128773298339652, 30.13932648446444, 30.026759165800023, 30.134049891402046, 30.184177525494793, 30.14372364534977, 30.105028629558877, 30.132291027047913, 30.103269765204743, 30.09799317214235, 30.131411594870848, 30.198248440327845, 30.14196478099564, 30.169227178484675, 30.105908061735942, 30.08919885037169, 30.150759102766294, 30.09007828254876, 30.092716579079955, 30.057539291997326, 30.11030522262127, 30.142844213172705, 30.084801689486362, 30.066333613767984, 30.03995064845601, 30.128773298339652, 30.04258894498721, 30.1454825097039, 30.118220112214864, 30.152517967120428, 30.077766232069838, 30.039071216278945, 30.04434780934134, 30.14987967058923, 30.14196478099564, 30.07161020683038, 30.076886799892772, 30.055780427643192, 30.151638534943363, 30.028518030154157, 30.101510900850613, 30.061936452882655, 30.109425790444206, 30.115581815683665, 30.086560553840496, 30.080404528601036, 30.097113739965284, 30.05841872417439, 30.09799317214235, 30.06457474941385, 30.112943519152466, 30.078645664246903, 30.127893866162587, 30.048744970226668, 30.090957714725825, 30.039071216278945, 30.08304282513223, 30.059298156351456, 30.068092478122114, 30.08919885037169, 30.045227241518404, 30.113822951329535, 30.055780427643192, 30.09623430778822, 30.13756762011031, 30.05665985982026, 30.04610667369547, 30.047865538049603, 30.094475443434085, 30.118220112214864, 30.098872604319414, 30.131411594870848, 30.1147023835066, 30.130532162693783, 30.126135001808453, 30.078645664246903, 30.105028629558877, 30.123496705277258, 30.09623430778822, 30.03555348757068, 30.066333613767984, 30.17010661066174, 30.12261727310019, 30.11909954439193, 30.03995064845601, 30.059298156351456, 30.061057020705586, 30.061936452882655, 30.072489639007443, 30.074248503361574, 30.039071216278945, 30.119978976568994, 30.055780427643192, 30.06897191029918, 30.08304282513223, 30.080404528601036, 30.151638534943363, 30.068092478122114, 30.09359601125702, 30.123496705277258, 30.12525556963139, 30.0812839607781, 30.098872604319414, 30.03731235192481, 30.08568112166343, 30.109425790444206, 30.154276831474558, 30.086560553840496, 30.074248503361574, 30.055780427643192, 30.13756762011031, 30.06457474941385, 30.06721304594505, 30.026759165800023, 30.132291027047913, 30.142844213172705, 30.13932648446444, 30.173624339370004, 30.14196478099564, 30.12085840874606, 30.13932648446444, 30.03995064845601, 30.22463140563982, 30.047865538049603, 30.07336907118451, 30.063695317236785, 30.086560553840496, 30.059298156351456, 30.19736900815078, 30.030276894508287, 30.11646124786073, 30.072489639007443, 30.04258894498721, 30.092716579079955, 30.165709449776415, 30.06721304594505, 30.118220112214864, 30.100631468673548, 30.098872604319414, 30.076886799892772, 30.07336907118451, 30.083922257309297, 30.1147023835066, 30.045227241518404, 30.063695317236785, 30.07336907118451, 30.108546358267137, 30.0197237083835, 30.08919885037169, 30.050503834580798, 30.07512793553864, 30.076886799892772, 30.048744970226668, 30.088319418194626, 30.079525096423968, 30.138447052287376, 30.156035695828688, 30.108546358267137, 30.07512793553864, 30.169227178484675, 30.068092478122114, 30.12525556963139, 30.043468377164274, 30.086560553840496, 30.06281588505972, 30.082163392955167, 30.153397399297493, 30.07336907118451, 30.12085840874606, 30.121737840923124, 30.061936452882655, 30.061057020705586, 30.09183714690289, 30.068092478122114, 30.055780427643192, 30.094475443434085, 30.146361941880965, 30.126135001808453, 30.074248503361574, 30.136688187933242, 30.126135001808453, 30.076886799892772, 30.105028629558877, 30.065454181590916, 30.098872604319414, 30.097113739965284, 30.118220112214864, 30.135808755756177, 30.14372364534977, 30.08743998601756, 30.09799317214235, 30.13756762011031, 30.086560553840496, 30.18681582202599, 30.1481208062351, 30.047865538049603, 30.118220112214864, 30.072489639007443, 30.1789009324324, 30.088319418194626, 30.054900995466127, 30.054021563289062, 30.163071153245216, 30.08304282513223, 30.066333613767984, 30.08743998601756, 30.082163392955167, 30.14196478099564, 30.111184654798336, 30.108546358267137, 30.083922257309297, 30.090957714725825, 30.107666926090072, 30.06897191029918, 30.076886799892772, 30.04610667369547, 30.142844213172705, 30.06017758852852, 30.034674055393616, 30.047865538049603, 30.130532162693783, 30.08568112166343, 30.066333613767984, 30.134049891402046, 30.024120869268828, 30.09799317214235, 30.11030522262127, 30.08743998601756, 30.1789009324324, 30.07336907118451, 30.088319418194626, 30.061936452882655, 30.205283897744373, 30.232546295233412, 30.095354875611154, 30.124376137454323, 30.04610667369547, 30.08568112166343, 30.074248503361574, 30.084801689486362, 30.065454181590916, 30.090957714725825, 30.149000238412164, 30.101510900850613, 30.095354875611154, 30.061936452882655, 30.1147023835066, 30.020603140560564, 30.142844213172705, 30.069851342476245, 30.06897191029918, 30.077766232069838, 30.06017758852852, 30.105908061735942, 30.07336907118451, 30.094475443434085, 30.14987967058923, 30.036432919747746, 30.06897191029918, 30.055780427643192, 30.108546358267137, 30.094475443434085, 30.068092478122114, 30.09007828254876, 30.105908061735942, 30.1120640869754, 30.130532162693783, 30.05665985982026, 30.066333613767984, 30.17274490719294, 30.13756762011031, 30.193851279442516, 30.027638597977088, 30.169227178484675, 30.052262698934932, 30.083922257309297, 30.07073077465331, 30.14108534881857, 30.163071153245216, 30.092716579079955, 30.098872604319414, 30.100631468673548, 30.158673992359887, 30.151638534943363, 30.07336907118451, 30.048744970226668, 30.063695317236785, 30.106787493913007, 30.156915128005757, 30.061057020705586, 30.102390333027678, 30.06017758852852, 30.065454181590916, 30.09799317214235, 30.165709449776415, 30.066333613767984, 30.046986105872534, 30.068092478122114, 30.138447052287376, 30.04434780934134, 30.094475443434085, 30.074248503361574, 30.032915191039486, 30.109425790444206, 30.080404528601036, 30.080404528601036, 30.12525556963139, 30.03379462321655]}],\n",
              "                        {\"template\": {\"data\": {\"bar\": [{\"error_x\": {\"color\": \"#2a3f5f\"}, \"error_y\": {\"color\": \"#2a3f5f\"}, \"marker\": {\"line\": {\"color\": \"#E5ECF6\", \"width\": 0.5}}, \"type\": \"bar\"}], \"barpolar\": [{\"marker\": {\"line\": {\"color\": \"#E5ECF6\", \"width\": 0.5}}, \"type\": \"barpolar\"}], \"carpet\": [{\"aaxis\": {\"endlinecolor\": \"#2a3f5f\", \"gridcolor\": \"white\", \"linecolor\": \"white\", \"minorgridcolor\": \"white\", \"startlinecolor\": \"#2a3f5f\"}, \"baxis\": {\"endlinecolor\": \"#2a3f5f\", \"gridcolor\": \"white\", \"linecolor\": \"white\", \"minorgridcolor\": \"white\", \"startlinecolor\": \"#2a3f5f\"}, \"type\": \"carpet\"}], \"choropleth\": [{\"colorbar\": {\"outlinewidth\": 0, \"ticks\": \"\"}, \"type\": \"choropleth\"}], \"contour\": [{\"colorbar\": {\"outlinewidth\": 0, \"ticks\": \"\"}, \"colorscale\": [[0.0, \"#0d0887\"], [0.1111111111111111, \"#46039f\"], [0.2222222222222222, \"#7201a8\"], [0.3333333333333333, \"#9c179e\"], [0.4444444444444444, \"#bd3786\"], [0.5555555555555556, \"#d8576b\"], [0.6666666666666666, \"#ed7953\"], [0.7777777777777778, \"#fb9f3a\"], [0.8888888888888888, \"#fdca26\"], [1.0, \"#f0f921\"]], \"type\": \"contour\"}], \"contourcarpet\": [{\"colorbar\": {\"outlinewidth\": 0, \"ticks\": \"\"}, \"type\": \"contourcarpet\"}], \"heatmap\": [{\"colorbar\": {\"outlinewidth\": 0, \"ticks\": \"\"}, \"colorscale\": [[0.0, \"#0d0887\"], [0.1111111111111111, \"#46039f\"], [0.2222222222222222, \"#7201a8\"], [0.3333333333333333, \"#9c179e\"], [0.4444444444444444, \"#bd3786\"], [0.5555555555555556, \"#d8576b\"], [0.6666666666666666, \"#ed7953\"], [0.7777777777777778, \"#fb9f3a\"], [0.8888888888888888, \"#fdca26\"], [1.0, \"#f0f921\"]], \"type\": \"heatmap\"}], \"heatmapgl\": [{\"colorbar\": {\"outlinewidth\": 0, \"ticks\": \"\"}, \"colorscale\": [[0.0, \"#0d0887\"], [0.1111111111111111, \"#46039f\"], [0.2222222222222222, \"#7201a8\"], [0.3333333333333333, \"#9c179e\"], [0.4444444444444444, \"#bd3786\"], [0.5555555555555556, \"#d8576b\"], [0.6666666666666666, \"#ed7953\"], [0.7777777777777778, \"#fb9f3a\"], [0.8888888888888888, \"#fdca26\"], [1.0, \"#f0f921\"]], \"type\": \"heatmapgl\"}], \"histogram\": [{\"marker\": {\"colorbar\": {\"outlinewidth\": 0, \"ticks\": \"\"}}, \"type\": \"histogram\"}], \"histogram2d\": [{\"colorbar\": {\"outlinewidth\": 0, \"ticks\": \"\"}, \"colorscale\": [[0.0, \"#0d0887\"], [0.1111111111111111, \"#46039f\"], [0.2222222222222222, \"#7201a8\"], [0.3333333333333333, \"#9c179e\"], [0.4444444444444444, \"#bd3786\"], [0.5555555555555556, \"#d8576b\"], [0.6666666666666666, \"#ed7953\"], [0.7777777777777778, \"#fb9f3a\"], [0.8888888888888888, \"#fdca26\"], [1.0, \"#f0f921\"]], \"type\": \"histogram2d\"}], \"histogram2dcontour\": [{\"colorbar\": {\"outlinewidth\": 0, \"ticks\": \"\"}, \"colorscale\": [[0.0, \"#0d0887\"], [0.1111111111111111, \"#46039f\"], [0.2222222222222222, \"#7201a8\"], [0.3333333333333333, \"#9c179e\"], [0.4444444444444444, \"#bd3786\"], [0.5555555555555556, \"#d8576b\"], [0.6666666666666666, \"#ed7953\"], [0.7777777777777778, \"#fb9f3a\"], [0.8888888888888888, \"#fdca26\"], [1.0, \"#f0f921\"]], \"type\": \"histogram2dcontour\"}], \"mesh3d\": [{\"colorbar\": {\"outlinewidth\": 0, \"ticks\": \"\"}, \"type\": \"mesh3d\"}], \"parcoords\": [{\"line\": {\"colorbar\": {\"outlinewidth\": 0, \"ticks\": \"\"}}, \"type\": \"parcoords\"}], \"pie\": [{\"automargin\": true, \"type\": \"pie\"}], \"scatter\": [{\"marker\": {\"colorbar\": {\"outlinewidth\": 0, \"ticks\": \"\"}}, \"type\": \"scatter\"}], \"scatter3d\": [{\"line\": {\"colorbar\": {\"outlinewidth\": 0, \"ticks\": \"\"}}, \"marker\": {\"colorbar\": {\"outlinewidth\": 0, \"ticks\": \"\"}}, \"type\": \"scatter3d\"}], \"scattercarpet\": [{\"marker\": {\"colorbar\": {\"outlinewidth\": 0, \"ticks\": \"\"}}, \"type\": \"scattercarpet\"}], \"scattergeo\": [{\"marker\": {\"colorbar\": {\"outlinewidth\": 0, \"ticks\": \"\"}}, \"type\": \"scattergeo\"}], \"scattergl\": [{\"marker\": {\"colorbar\": {\"outlinewidth\": 0, \"ticks\": \"\"}}, \"type\": \"scattergl\"}], \"scattermapbox\": [{\"marker\": {\"colorbar\": {\"outlinewidth\": 0, \"ticks\": \"\"}}, \"type\": \"scattermapbox\"}], \"scatterpolar\": [{\"marker\": {\"colorbar\": {\"outlinewidth\": 0, \"ticks\": \"\"}}, \"type\": \"scatterpolar\"}], \"scatterpolargl\": [{\"marker\": {\"colorbar\": {\"outlinewidth\": 0, \"ticks\": \"\"}}, \"type\": \"scatterpolargl\"}], \"scatterternary\": [{\"marker\": {\"colorbar\": {\"outlinewidth\": 0, \"ticks\": \"\"}}, \"type\": \"scatterternary\"}], \"surface\": [{\"colorbar\": {\"outlinewidth\": 0, \"ticks\": \"\"}, \"colorscale\": [[0.0, \"#0d0887\"], [0.1111111111111111, \"#46039f\"], [0.2222222222222222, \"#7201a8\"], [0.3333333333333333, \"#9c179e\"], [0.4444444444444444, \"#bd3786\"], [0.5555555555555556, \"#d8576b\"], [0.6666666666666666, \"#ed7953\"], [0.7777777777777778, \"#fb9f3a\"], [0.8888888888888888, \"#fdca26\"], [1.0, \"#f0f921\"]], \"type\": \"surface\"}], \"table\": [{\"cells\": {\"fill\": {\"color\": \"#EBF0F8\"}, \"line\": {\"color\": \"white\"}}, \"header\": {\"fill\": {\"color\": \"#C8D4E3\"}, \"line\": {\"color\": \"white\"}}, \"type\": \"table\"}]}, \"layout\": {\"annotationdefaults\": {\"arrowcolor\": \"#2a3f5f\", \"arrowhead\": 0, \"arrowwidth\": 1}, \"coloraxis\": {\"colorbar\": {\"outlinewidth\": 0, \"ticks\": \"\"}}, \"colorscale\": {\"diverging\": [[0, \"#8e0152\"], [0.1, \"#c51b7d\"], [0.2, \"#de77ae\"], [0.3, \"#f1b6da\"], [0.4, \"#fde0ef\"], [0.5, \"#f7f7f7\"], [0.6, \"#e6f5d0\"], [0.7, \"#b8e186\"], [0.8, \"#7fbc41\"], [0.9, \"#4d9221\"], [1, \"#276419\"]], \"sequential\": [[0.0, \"#0d0887\"], [0.1111111111111111, \"#46039f\"], [0.2222222222222222, \"#7201a8\"], [0.3333333333333333, \"#9c179e\"], [0.4444444444444444, \"#bd3786\"], [0.5555555555555556, \"#d8576b\"], [0.6666666666666666, \"#ed7953\"], [0.7777777777777778, \"#fb9f3a\"], [0.8888888888888888, \"#fdca26\"], [1.0, \"#f0f921\"]], \"sequentialminus\": [[0.0, \"#0d0887\"], [0.1111111111111111, \"#46039f\"], [0.2222222222222222, \"#7201a8\"], [0.3333333333333333, \"#9c179e\"], [0.4444444444444444, \"#bd3786\"], [0.5555555555555556, \"#d8576b\"], [0.6666666666666666, \"#ed7953\"], [0.7777777777777778, \"#fb9f3a\"], [0.8888888888888888, \"#fdca26\"], [1.0, \"#f0f921\"]]}, \"colorway\": [\"#636efa\", \"#EF553B\", \"#00cc96\", \"#ab63fa\", \"#FFA15A\", \"#19d3f3\", \"#FF6692\", \"#B6E880\", \"#FF97FF\", \"#FECB52\"], \"font\": {\"color\": \"#2a3f5f\"}, \"geo\": {\"bgcolor\": \"white\", \"lakecolor\": \"white\", \"landcolor\": \"#E5ECF6\", \"showlakes\": true, \"showland\": true, \"subunitcolor\": \"white\"}, \"hoverlabel\": {\"align\": \"left\"}, \"hovermode\": \"closest\", \"mapbox\": {\"style\": \"light\"}, \"paper_bgcolor\": \"white\", \"plot_bgcolor\": \"#E5ECF6\", \"polar\": {\"angularaxis\": {\"gridcolor\": \"white\", \"linecolor\": \"white\", \"ticks\": \"\"}, \"bgcolor\": \"#E5ECF6\", \"radialaxis\": {\"gridcolor\": \"white\", \"linecolor\": \"white\", \"ticks\": \"\"}}, \"scene\": {\"xaxis\": {\"backgroundcolor\": \"#E5ECF6\", \"gridcolor\": \"white\", \"gridwidth\": 2, \"linecolor\": \"white\", \"showbackground\": true, \"ticks\": \"\", \"zerolinecolor\": \"white\"}, \"yaxis\": {\"backgroundcolor\": \"#E5ECF6\", \"gridcolor\": \"white\", \"gridwidth\": 2, \"linecolor\": \"white\", \"showbackground\": true, \"ticks\": \"\", \"zerolinecolor\": \"white\"}, \"zaxis\": {\"backgroundcolor\": \"#E5ECF6\", \"gridcolor\": \"white\", \"gridwidth\": 2, \"linecolor\": \"white\", \"showbackground\": true, \"ticks\": \"\", \"zerolinecolor\": \"white\"}}, \"shapedefaults\": {\"line\": {\"color\": \"#2a3f5f\"}}, \"ternary\": {\"aaxis\": {\"gridcolor\": \"white\", \"linecolor\": \"white\", \"ticks\": \"\"}, \"baxis\": {\"gridcolor\": \"white\", \"linecolor\": \"white\", \"ticks\": \"\"}, \"bgcolor\": \"#E5ECF6\", \"caxis\": {\"gridcolor\": \"white\", \"linecolor\": \"white\", \"ticks\": \"\"}}, \"title\": {\"x\": 0.05}, \"xaxis\": {\"automargin\": true, \"gridcolor\": \"white\", \"linecolor\": \"white\", \"ticks\": \"\", \"title\": {\"standoff\": 15}, \"zerolinecolor\": \"white\", \"zerolinewidth\": 2}, \"yaxis\": {\"automargin\": true, \"gridcolor\": \"white\", \"linecolor\": \"white\", \"ticks\": \"\", \"title\": {\"standoff\": 15}, \"zerolinecolor\": \"white\", \"zerolinewidth\": 2}}}, \"title\": {\"text\": \"Target vs Predictions\"}, \"xaxis\": {\"title\": {\"text\": \"BMI\"}}, \"yaxis\": {\"title\": {\"text\": \"Diabetes metric\"}}},\n",
              "                        {\"responsive\": true}\n",
              "                    ).then(function(){\n",
              "                            \n",
              "var gd = document.getElementById('44ef58fb-374c-4701-b829-3b0ebd2ce791');\n",
              "var x = new MutationObserver(function (mutations, observer) {{\n",
              "        var display = window.getComputedStyle(gd).display;\n",
              "        if (!display || display === 'none') {{\n",
              "            console.log([gd, 'removed!']);\n",
              "            Plotly.purge(gd);\n",
              "            observer.disconnect();\n",
              "        }}\n",
              "}});\n",
              "\n",
              "// Listen for the removal of the full notebook cells\n",
              "var notebookContainer = gd.closest('#notebook-container');\n",
              "if (notebookContainer) {{\n",
              "    x.observe(notebookContainer, {childList: true});\n",
              "}}\n",
              "\n",
              "// Listen for the clearing of the current output cell\n",
              "var outputEl = gd.closest('.output');\n",
              "if (outputEl) {{\n",
              "    x.observe(outputEl, {childList: true});\n",
              "}}\n",
              "\n",
              "                        })\n",
              "                };\n",
              "                \n",
              "            </script>\n",
              "        </div>\n",
              "</body>\n",
              "</html>"
            ]
          },
          "metadata": {
            "tags": []
          }
        }
      ]
    },
    {
      "cell_type": "markdown",
      "metadata": {
        "id": "JaI_Zm-w0gxW"
      },
      "source": [
        "We notice the predictions got a little closer to our real data\r\n",
        "* Recalculate your MSE"
      ]
    },
    {
      "cell_type": "code",
      "metadata": {
        "id": "tz-ZBUTh0ixs",
        "colab": {
          "base_uri": "https://localhost:8080/"
        },
        "outputId": "4b6058a4-573c-426b-c995-826e5de3a843"
      },
      "source": [
        "mse(model(diabetes_X), y)"
      ],
      "execution_count": null,
      "outputs": [
        {
          "output_type": "execute_result",
          "data": {
            "text/plain": [
              "20820.1673083469"
            ]
          },
          "metadata": {
            "tags": []
          },
          "execution_count": 28
        }
      ]
    },
    {
      "cell_type": "markdown",
      "metadata": {
        "id": "cCOgW_6N0nvt"
      },
      "source": [
        "* Our MSE has dropped a lot! This is good news but the process of gradient descent is iterative. So you'll have to do it several times before arriving at accurate predictions. \n",
        "  * By making a loop, try to repeat the process from above 10,000 times. \n",
        "  * Display every 1000 epochs: mse, model.beta_1 & model.beta_0 "
      ]
    },
    {
      "cell_type": "code",
      "metadata": {
        "id": "N_Vxa_rlpxRU"
      },
      "source": [
        "# Define learning rate and a number of iterations \n",
        "lr = 0.1\n",
        "epochs = 10000"
      ],
      "execution_count": null,
      "outputs": []
    },
    {
      "cell_type": "code",
      "metadata": {
        "id": "I7JLxLKLs0UG",
        "colab": {
          "base_uri": "https://localhost:8080/"
        },
        "outputId": "2917b8e6-ce31-48d8-acab-ceb21b3fe3aa"
      },
      "source": [
        "model = Model()\n",
        "for epoch in range(epochs):\n",
        "  # Calculate the loss function\n",
        "  current_loss = mse(model(diabetes_X), y)\n",
        "  \n",
        "  # Update variables\n",
        "  model.beta_1 -= lr * derivative_mse_beta_1(model(diabetes_X), y, diabetes_X)\n",
        "  model.beta_0 -= lr * derivative_mse_beta_0(model(diabetes_X), y)\n",
        "\n",
        "  # Show updated variables\n",
        "  if epoch % 1000 == 0 or epoch == epochs - 1:\n",
        "    print(\"-------------------- Epoch {} --------------------\".format(epoch))\n",
        "    print(\"Current Loss: {}\".format(current_loss))\n",
        "    print(\"beta_1 = {}\".format(model.beta_1))\n",
        "    print(\"beta_0 = {}\".format(model.beta_0))"
      ],
      "execution_count": null,
      "outputs": [
        {
          "output_type": "stream",
          "text": [
            "-------------------- Epoch 0 --------------------\n",
            "Current Loss: 29214.856625242403\n",
            "beta_1 = [-1.8063269]\n",
            "beta_0 = [30.08339534]\n",
            "-------------------- Epoch 1000 --------------------\n",
            "Current Loss: 4719.232033282504\n",
            "beta_1 = [344.46640766]\n",
            "beta_0 = [152.13348416]\n",
            "-------------------- Epoch 2000 --------------------\n",
            "Current Loss: 4225.669891599262\n",
            "beta_1 = [564.68829636]\n",
            "beta_0 = [152.13348416]\n",
            "-------------------- Epoch 3000 --------------------\n",
            "Current Loss: 4026.0397049990993\n",
            "beta_1 = [704.7446029]\n",
            "beta_0 = [152.13348416]\n",
            "-------------------- Epoch 4000 --------------------\n",
            "Current Loss: 3945.295644552924\n",
            "beta_1 = [793.81735185]\n",
            "beta_0 = [152.13348416]\n",
            "-------------------- Epoch 5000 --------------------\n",
            "Current Loss: 3912.637240489043\n",
            "beta_1 = [850.46567279]\n",
            "beta_0 = [152.13348416]\n",
            "-------------------- Epoch 6000 --------------------\n",
            "Current Loss: 3899.427954875885\n",
            "beta_1 = [886.49276643]\n",
            "beta_0 = [152.13348416]\n",
            "-------------------- Epoch 7000 --------------------\n",
            "Current Loss: 3894.0852190193286\n",
            "beta_1 = [909.40521033]\n",
            "beta_0 = [152.13348416]\n",
            "-------------------- Epoch 8000 --------------------\n",
            "Current Loss: 3891.9242523123557\n",
            "beta_1 = [923.97702372]\n",
            "beta_0 = [152.13348416]\n",
            "-------------------- Epoch 9000 --------------------\n",
            "Current Loss: 3891.0502100175436\n",
            "beta_1 = [933.24437845]\n",
            "beta_0 = [152.13348416]\n",
            "-------------------- Epoch 9999 --------------------\n",
            "Current Loss: 3890.6969051463625\n",
            "beta_1 = [939.13355205]\n",
            "beta_0 = [152.13348416]\n"
          ],
          "name": "stdout"
        }
      ]
    },
    {
      "cell_type": "markdown",
      "metadata": {
        "id": "eeXT-MEa1nGD"
      },
      "source": [
        "* Using `plotly`, view your model and actual values again"
      ]
    },
    {
      "cell_type": "code",
      "metadata": {
        "id": "W-yIcFsltoDJ",
        "colab": {
          "base_uri": "https://localhost:8080/",
          "height": 542
        },
        "outputId": "395467c3-063f-44d6-a5d4-21a084fbf2d9"
      },
      "source": [
        "fig = go.Figure()\n",
        "fig.add_trace(go.Scatter(x=diabetes_X, y=y,\n",
        "                    mode='markers',\n",
        "                    name='target'))\n",
        "fig.add_trace(go.Scatter(x=diabetes_X, y=model(diabetes_X),\n",
        "                    mode='lines',\n",
        "                    name='predictions'))\n",
        "fig.update_layout(\n",
        "    title=\"Target vs Predictions\",\n",
        "    xaxis_title=\"BMI\",\n",
        "    yaxis_title=\"Diabetes metric\"\n",
        "    )\n",
        "fig.show()"
      ],
      "execution_count": null,
      "outputs": [
        {
          "output_type": "display_data",
          "data": {
            "text/html": [
              "<html>\n",
              "<head><meta charset=\"utf-8\" /></head>\n",
              "<body>\n",
              "    <div>\n",
              "            <script src=\"https://cdnjs.cloudflare.com/ajax/libs/mathjax/2.7.5/MathJax.js?config=TeX-AMS-MML_SVG\"></script><script type=\"text/javascript\">if (window.MathJax) {MathJax.Hub.Config({SVG: {font: \"STIX-Web\"}});}</script>\n",
              "                <script type=\"text/javascript\">window.PlotlyConfig = {MathJaxConfig: 'local'};</script>\n",
              "        <script src=\"https://cdn.plot.ly/plotly-latest.min.js\"></script>    \n",
              "            <div id=\"70ff8e83-f0ca-4184-8c97-dbfe447d9ad0\" class=\"plotly-graph-div\" style=\"height:525px; width:100%;\"></div>\n",
              "            <script type=\"text/javascript\">\n",
              "                \n",
              "                    window.PLOTLYENV=window.PLOTLYENV || {};\n",
              "                    \n",
              "                if (document.getElementById(\"70ff8e83-f0ca-4184-8c97-dbfe447d9ad0\")) {\n",
              "                    Plotly.newPlot(\n",
              "                        '70ff8e83-f0ca-4184-8c97-dbfe447d9ad0',\n",
              "                        [{\"mode\": \"markers\", \"name\": \"target\", \"type\": \"scatter\", \"x\": [0.0616962065186885, -0.0514740612388061, 0.0444512133365941, -0.0115950145052127, -0.0363846922044735, -0.0406959404999971, -0.0471628129432825, -0.00189470584028465, 0.0616962065186885, 0.0390621529671896, -0.0838084234552331, 0.0175059114895716, -0.0288400076873072, -0.00189470584028465, -0.0256065714656645, -0.0180618869484982, 0.0422955891888323, 0.0121168511201671, -0.0105172024313319, -0.0180618869484982, -0.0568631216082106, -0.0223731352440218, -0.00405032998804645, 0.0606183944448076, 0.0358287167455469, -0.0126728265790937, -0.0773415510119477, 0.0595405823709267, -0.0212953231701409, -0.00620595413580824, 0.0444512133365941, -0.0654856181992578, 0.125287118877662, -0.0503962491649252, -0.063329994051496, -0.030995631835069, 0.0228949718589761, 0.0110390390462862, 0.0713965151836166, 0.0142724752679289, -0.00836157828357004, -0.0676412423470196, -0.0105172024313319, -0.0234509473179027, 0.068163078961974, -0.0353068801305926, -0.0115950145052127, -0.0730303027164241, -0.041773752573878, 0.0142724752679289, -0.00728376620968916, 0.0164280994156907, -0.00943939035745095, -0.0159062628007364, 0.0250505960067379, -0.0493184370910443, 0.0412177771149514, -0.063329994051496, -0.064407806125377, -0.0256065714656645, -0.00405032998804645, 0.00457216660300077, -0.00728376620968916, -0.0374625042783544, -0.0256065714656645, -0.0245287593917836, -0.0180618869484982, -0.0148284507268555, -0.0299178197611881, -0.0460850008694016, -0.0697968664947814, 0.0336730925977851, -0.00405032998804645, -0.02021751109626, 0.00241654245523897, -0.030995631835069, 0.0282840322283806, -0.0363846922044735, -0.0579409336820915, -0.0374625042783544, 0.0121168511201671, -0.0223731352440218, -0.0353068801305926, 0.00996122697240527, -0.0396181284261162, 0.0713965151836166, -0.0751859268641859, -0.00620595413580824, -0.0406959404999971, -0.0482406250171634, -0.0256065714656645, 0.0519958978537604, 0.00457216660300077, -0.064407806125377, -0.0169840748746173, -0.0579409336820915, 0.00996122697240527, 0.088641508365711, -0.00512814206192736, -0.064407806125377, 0.0175059114895716, -0.0450071887955207, 0.0282840322283806, 0.0412177771149514, 0.0649296427403312, -0.0320734439089499, -0.0762637389380668, 0.0498402737059986, 0.045529025410475, -0.00943939035745095, -0.0320734439089499, 0.00457216660300077, 0.0207393477112143, 0.0142724752679289, 0.110197749843329, 0.00133873038135806, 0.0584627702970458, -0.0212953231701409, -0.0105172024313319, -0.0471628129432825, 0.00457216660300077, 0.0175059114895716, 0.0810968238485447, 0.034750904671666, 0.023972783932857, -0.00836157828357004, -0.0611743699037342, -0.00189470584028465, -0.0622521819776151, 0.0164280994156907, 0.0961861928828773, -0.0697968664947814, -0.0212953231701409, -0.0536296853865679, 0.0433734012627132, 0.056307146149284, -0.0816527993074713, 0.0498402737059986, 0.11127556191721, 0.0616962065186885, 0.0142724752679289, 0.0476846495582368, 0.0121168511201671, 0.00564997867688165, 0.0466068374843559, 0.128520555099304, 0.0595405823709267, 0.0929527566612346, 0.0153502873418098, -0.00512814206192736, 0.0703187031097357, -0.00405032998804645, -0.000816893766403737, -0.0439293767216398, 0.0207393477112143, 0.0606183944448076, -0.0105172024313319, -0.0331512559828308, -0.0654856181992578, 0.0433734012627132, -0.0622521819776151, 0.0638518306664503, 0.0304396563761424, 0.0724743272574975, -0.019139699022379, -0.0665634302731387, -0.0600965578298533, 0.0692408910358548, 0.0595405823709267, -0.0266843835395454, -0.02021751109626, -0.0460850008694016, 0.0713965151836166, -0.0794971751597095, 0.00996122697240527, -0.0385403163522353, 0.0196615356373334, 0.0272062201544997, -0.00836157828357004, -0.0159062628007364, 0.00457216660300077, -0.0428515646477589, 0.00564997867688165, -0.0353068801305926, 0.023972783932857, -0.0180618869484982, 0.0422955891888323, -0.0547074974604488, -0.00297251791416553, -0.0665634302731387, -0.0126728265790937, -0.041773752573878, -0.030995631835069, -0.00512814206192736, -0.0590187457559724, 0.0250505960067379, -0.0460850008694016, 0.00349435452911985, 0.0541515220015222, -0.0450071887955207, -0.0579409336820915, -0.0557853095343297, 0.00133873038135806, 0.0304396563761424, 0.00672779075076256, 0.0466068374843559, 0.0261284080806188, 0.045529025410475, 0.0401399650410705, -0.0180618869484982, 0.0142724752679289, 0.0369065288194278, 0.00349435452911985, -0.0708746785686623, -0.0331512559828308, 0.0940305687351156, 0.0358287167455469, 0.0315174684500233, -0.0654856181992578, -0.041773752573878, -0.0396181284261162, -0.0385403163522353, -0.0256065714656645, -0.0234509473179027, -0.0665634302731387, 0.0325952805239042, -0.0460850008694016, -0.0299178197611881, -0.0126728265790937, -0.0159062628007364, 0.0713965151836166, -0.030995631835069, 0.000260918307477141, 0.0369065288194278, 0.0390621529671896, -0.0148284507268555, 0.00672779075076256, -0.0687190544209005, -0.00943939035745095, 0.0196615356373334, 0.0746299514052593, -0.00836157828357004, -0.0234509473179027, -0.0460850008694016, 0.0541515220015222, -0.0353068801305926, -0.0320734439089499, -0.0816527993074713, 0.0476846495582368, 0.0606183944448076, 0.056307146149284, 0.098341817030639, 0.0595405823709267, 0.0336730925977851, 0.056307146149284, -0.0654856181992578, 0.160854917315731, -0.0557853095343297, -0.0245287593917836, -0.0363846922044735, -0.00836157828357004, -0.041773752573878, 0.127442743025423, -0.0773415510119477, 0.0282840322283806, -0.0256065714656645, -0.0622521819776151, -0.000816893766403737, 0.088641508365711, -0.0320734439089499, 0.0304396563761424, 0.00888341489852436, 0.00672779075076256, -0.02021751109626, -0.0245287593917836, -0.0115950145052127, 0.0261284080806188, -0.0590187457559724, -0.0363846922044735, -0.0245287593917836, 0.0185837235634525, -0.0902752958985185, -0.00512814206192736, -0.052551873312687, -0.0223731352440218, -0.02021751109626, -0.0547074974604488, -0.00620595413580824, -0.0169840748746173, 0.0552293340754031, 0.0767855755530211, 0.0185837235634525, -0.0223731352440218, 0.0929527566612346, -0.030995631835069, 0.0390621529671896, -0.0611743699037342, -0.00836157828357004, -0.0374625042783544, -0.0137506386529745, 0.0735521393313785, -0.0245287593917836, 0.0336730925977851, 0.034750904671666, -0.0385403163522353, -0.0396181284261162, -0.00189470584028465, -0.030995631835069, -0.0460850008694016, 0.00133873038135806, 0.0649296427403312, 0.0401399650410705, -0.0234509473179027, 0.0530737099276413, 0.0401399650410705, -0.02021751109626, 0.0142724752679289, -0.0342290680567117, 0.00672779075076256, 0.00457216660300077, 0.0304396563761424, 0.0519958978537604, 0.0616962065186885, -0.00728376620968916, 0.00564997867688165, 0.0541515220015222, -0.00836157828357004, 0.114508998138853, 0.067085266888093, -0.0557853095343297, 0.0304396563761424, -0.0256065714656645, 0.104808689473925, -0.00620595413580824, -0.0471628129432825, -0.0482406250171634, 0.0854080721440683, -0.0126728265790937, -0.0331512559828308, -0.00728376620968916, -0.0137506386529745, 0.0595405823709267, 0.0218171597850952, 0.0185837235634525, -0.0115950145052127, -0.00297251791416553, 0.0175059114895716, -0.0299178197611881, -0.02021751109626, -0.0579409336820915, 0.0606183944448076, -0.0406959404999971, -0.0719524906425432, -0.0557853095343297, 0.045529025410475, -0.00943939035745095, -0.0331512559828308, 0.0498402737059986, -0.084886235529114, 0.00564997867688165, 0.0207393477112143, -0.00728376620968916, 0.104808689473925, -0.0245287593917836, -0.00620595413580824, -0.0385403163522353, 0.137143051690352, 0.17055522598066, 0.00241654245523897, 0.0379843408933087, -0.0579409336820915, -0.00943939035745095, -0.0234509473179027, -0.0105172024313319, -0.0342290680567117, -0.00297251791416553, 0.068163078961974, 0.00996122697240527, 0.00241654245523897, -0.0385403163522353, 0.0261284080806188, -0.0891974838246376, 0.0606183944448076, -0.0288400076873072, -0.0299178197611881, -0.019139699022379, -0.0406959404999971, 0.0153502873418098, -0.0245287593917836, 0.00133873038135806, 0.0692408910358548, -0.0697968664947814, -0.0299178197611881, -0.0460850008694016, 0.0185837235634525, 0.00133873038135806, -0.030995631835069, -0.00405032998804645, 0.0153502873418098, 0.0228949718589761, 0.045529025410475, -0.0450071887955207, -0.0331512559828308, 0.0972640049567582, 0.0541515220015222, 0.1231314947299, -0.0805749872335904, 0.0929527566612346, -0.0503962491649252, -0.0115950145052127, -0.0277621956134263, 0.0584627702970458, 0.0854080721440683, -0.000816893766403737, 0.00672779075076256, 0.00888341489852436, 0.0800190117746638, 0.0713965151836166, -0.0245287593917836, -0.0547074974604488, -0.0363846922044735, 0.0164280994156907, 0.077863387626902, -0.0396181284261162, 0.0110390390462862, -0.0406959404999971, -0.0342290680567117, 0.00564997867688165, 0.088641508365711, -0.0331512559828308, -0.0568631216082106, -0.030995631835069, 0.0552293340754031, -0.0600965578298533, 0.00133873038135806, -0.0234509473179027, -0.074108114790305, 0.0196615356373334, -0.0159062628007364, -0.0159062628007364, 0.0390621529671896, -0.0730303027164241], \"y\": [151.0, 75.0, 141.0, 206.0, 135.0, 97.0, 138.0, 63.0, 110.0, 310.0, 101.0, 69.0, 179.0, 185.0, 118.0, 171.0, 166.0, 144.0, 97.0, 168.0, 68.0, 49.0, 68.0, 245.0, 184.0, 202.0, 137.0, 85.0, 131.0, 283.0, 129.0, 59.0, 341.0, 87.0, 65.0, 102.0, 265.0, 276.0, 252.0, 90.0, 100.0, 55.0, 61.0, 92.0, 259.0, 53.0, 190.0, 142.0, 75.0, 142.0, 155.0, 225.0, 59.0, 104.0, 182.0, 128.0, 52.0, 37.0, 170.0, 170.0, 61.0, 144.0, 52.0, 128.0, 71.0, 163.0, 150.0, 97.0, 160.0, 178.0, 48.0, 270.0, 202.0, 111.0, 85.0, 42.0, 170.0, 200.0, 252.0, 113.0, 143.0, 51.0, 52.0, 210.0, 65.0, 141.0, 55.0, 134.0, 42.0, 111.0, 98.0, 164.0, 48.0, 96.0, 90.0, 162.0, 150.0, 279.0, 92.0, 83.0, 128.0, 102.0, 302.0, 198.0, 95.0, 53.0, 134.0, 144.0, 232.0, 81.0, 104.0, 59.0, 246.0, 297.0, 258.0, 229.0, 275.0, 281.0, 179.0, 200.0, 200.0, 173.0, 180.0, 84.0, 121.0, 161.0, 99.0, 109.0, 115.0, 268.0, 274.0, 158.0, 107.0, 83.0, 103.0, 272.0, 85.0, 280.0, 336.0, 281.0, 118.0, 317.0, 235.0, 60.0, 174.0, 259.0, 178.0, 128.0, 96.0, 126.0, 288.0, 88.0, 292.0, 71.0, 197.0, 186.0, 25.0, 84.0, 96.0, 195.0, 53.0, 217.0, 172.0, 131.0, 214.0, 59.0, 70.0, 220.0, 268.0, 152.0, 47.0, 74.0, 295.0, 101.0, 151.0, 127.0, 237.0, 225.0, 81.0, 151.0, 107.0, 64.0, 138.0, 185.0, 265.0, 101.0, 137.0, 143.0, 141.0, 79.0, 292.0, 178.0, 91.0, 116.0, 86.0, 122.0, 72.0, 129.0, 142.0, 90.0, 158.0, 39.0, 196.0, 222.0, 277.0, 99.0, 196.0, 202.0, 155.0, 77.0, 191.0, 70.0, 73.0, 49.0, 65.0, 263.0, 248.0, 296.0, 214.0, 185.0, 78.0, 93.0, 252.0, 150.0, 77.0, 208.0, 77.0, 108.0, 160.0, 53.0, 220.0, 154.0, 259.0, 90.0, 246.0, 124.0, 67.0, 72.0, 257.0, 262.0, 275.0, 177.0, 71.0, 47.0, 187.0, 125.0, 78.0, 51.0, 258.0, 215.0, 303.0, 243.0, 91.0, 150.0, 310.0, 153.0, 346.0, 63.0, 89.0, 50.0, 39.0, 103.0, 308.0, 116.0, 145.0, 74.0, 45.0, 115.0, 264.0, 87.0, 202.0, 127.0, 182.0, 241.0, 66.0, 94.0, 283.0, 64.0, 102.0, 200.0, 265.0, 94.0, 230.0, 181.0, 156.0, 233.0, 60.0, 219.0, 80.0, 68.0, 332.0, 248.0, 84.0, 200.0, 55.0, 85.0, 89.0, 31.0, 129.0, 83.0, 275.0, 65.0, 198.0, 236.0, 253.0, 124.0, 44.0, 172.0, 114.0, 142.0, 109.0, 180.0, 144.0, 163.0, 147.0, 97.0, 220.0, 190.0, 109.0, 191.0, 122.0, 230.0, 242.0, 248.0, 249.0, 192.0, 131.0, 237.0, 78.0, 135.0, 244.0, 199.0, 270.0, 164.0, 72.0, 96.0, 306.0, 91.0, 214.0, 95.0, 216.0, 263.0, 178.0, 113.0, 200.0, 139.0, 139.0, 88.0, 148.0, 88.0, 243.0, 71.0, 77.0, 109.0, 272.0, 60.0, 54.0, 221.0, 90.0, 311.0, 281.0, 182.0, 321.0, 58.0, 262.0, 206.0, 233.0, 242.0, 123.0, 167.0, 63.0, 197.0, 71.0, 168.0, 140.0, 217.0, 121.0, 235.0, 245.0, 40.0, 52.0, 104.0, 132.0, 88.0, 69.0, 219.0, 72.0, 201.0, 110.0, 51.0, 277.0, 63.0, 118.0, 69.0, 273.0, 258.0, 43.0, 198.0, 242.0, 232.0, 175.0, 93.0, 168.0, 275.0, 293.0, 281.0, 72.0, 140.0, 189.0, 181.0, 209.0, 136.0, 261.0, 113.0, 131.0, 174.0, 257.0, 55.0, 84.0, 42.0, 146.0, 212.0, 233.0, 91.0, 111.0, 152.0, 120.0, 67.0, 310.0, 94.0, 183.0, 66.0, 173.0, 72.0, 49.0, 64.0, 48.0, 178.0, 104.0, 132.0, 220.0, 57.0]}, {\"mode\": \"lines\", \"name\": \"predictions\", \"type\": \"scatter\", \"x\": [0.0616962065186885, -0.0514740612388061, 0.0444512133365941, -0.0115950145052127, -0.0363846922044735, -0.0406959404999971, -0.0471628129432825, -0.00189470584028465, 0.0616962065186885, 0.0390621529671896, -0.0838084234552331, 0.0175059114895716, -0.0288400076873072, -0.00189470584028465, -0.0256065714656645, -0.0180618869484982, 0.0422955891888323, 0.0121168511201671, -0.0105172024313319, -0.0180618869484982, -0.0568631216082106, -0.0223731352440218, -0.00405032998804645, 0.0606183944448076, 0.0358287167455469, -0.0126728265790937, -0.0773415510119477, 0.0595405823709267, -0.0212953231701409, -0.00620595413580824, 0.0444512133365941, -0.0654856181992578, 0.125287118877662, -0.0503962491649252, -0.063329994051496, -0.030995631835069, 0.0228949718589761, 0.0110390390462862, 0.0713965151836166, 0.0142724752679289, -0.00836157828357004, -0.0676412423470196, -0.0105172024313319, -0.0234509473179027, 0.068163078961974, -0.0353068801305926, -0.0115950145052127, -0.0730303027164241, -0.041773752573878, 0.0142724752679289, -0.00728376620968916, 0.0164280994156907, -0.00943939035745095, -0.0159062628007364, 0.0250505960067379, -0.0493184370910443, 0.0412177771149514, -0.063329994051496, -0.064407806125377, -0.0256065714656645, -0.00405032998804645, 0.00457216660300077, -0.00728376620968916, -0.0374625042783544, -0.0256065714656645, -0.0245287593917836, -0.0180618869484982, -0.0148284507268555, -0.0299178197611881, -0.0460850008694016, -0.0697968664947814, 0.0336730925977851, -0.00405032998804645, -0.02021751109626, 0.00241654245523897, -0.030995631835069, 0.0282840322283806, -0.0363846922044735, -0.0579409336820915, -0.0374625042783544, 0.0121168511201671, -0.0223731352440218, -0.0353068801305926, 0.00996122697240527, -0.0396181284261162, 0.0713965151836166, -0.0751859268641859, -0.00620595413580824, -0.0406959404999971, -0.0482406250171634, -0.0256065714656645, 0.0519958978537604, 0.00457216660300077, -0.064407806125377, -0.0169840748746173, -0.0579409336820915, 0.00996122697240527, 0.088641508365711, -0.00512814206192736, -0.064407806125377, 0.0175059114895716, -0.0450071887955207, 0.0282840322283806, 0.0412177771149514, 0.0649296427403312, -0.0320734439089499, -0.0762637389380668, 0.0498402737059986, 0.045529025410475, -0.00943939035745095, -0.0320734439089499, 0.00457216660300077, 0.0207393477112143, 0.0142724752679289, 0.110197749843329, 0.00133873038135806, 0.0584627702970458, -0.0212953231701409, -0.0105172024313319, -0.0471628129432825, 0.00457216660300077, 0.0175059114895716, 0.0810968238485447, 0.034750904671666, 0.023972783932857, -0.00836157828357004, -0.0611743699037342, -0.00189470584028465, -0.0622521819776151, 0.0164280994156907, 0.0961861928828773, -0.0697968664947814, -0.0212953231701409, -0.0536296853865679, 0.0433734012627132, 0.056307146149284, -0.0816527993074713, 0.0498402737059986, 0.11127556191721, 0.0616962065186885, 0.0142724752679289, 0.0476846495582368, 0.0121168511201671, 0.00564997867688165, 0.0466068374843559, 0.128520555099304, 0.0595405823709267, 0.0929527566612346, 0.0153502873418098, -0.00512814206192736, 0.0703187031097357, -0.00405032998804645, -0.000816893766403737, -0.0439293767216398, 0.0207393477112143, 0.0606183944448076, -0.0105172024313319, -0.0331512559828308, -0.0654856181992578, 0.0433734012627132, -0.0622521819776151, 0.0638518306664503, 0.0304396563761424, 0.0724743272574975, -0.019139699022379, -0.0665634302731387, -0.0600965578298533, 0.0692408910358548, 0.0595405823709267, -0.0266843835395454, -0.02021751109626, -0.0460850008694016, 0.0713965151836166, -0.0794971751597095, 0.00996122697240527, -0.0385403163522353, 0.0196615356373334, 0.0272062201544997, -0.00836157828357004, -0.0159062628007364, 0.00457216660300077, -0.0428515646477589, 0.00564997867688165, -0.0353068801305926, 0.023972783932857, -0.0180618869484982, 0.0422955891888323, -0.0547074974604488, -0.00297251791416553, -0.0665634302731387, -0.0126728265790937, -0.041773752573878, -0.030995631835069, -0.00512814206192736, -0.0590187457559724, 0.0250505960067379, -0.0460850008694016, 0.00349435452911985, 0.0541515220015222, -0.0450071887955207, -0.0579409336820915, -0.0557853095343297, 0.00133873038135806, 0.0304396563761424, 0.00672779075076256, 0.0466068374843559, 0.0261284080806188, 0.045529025410475, 0.0401399650410705, -0.0180618869484982, 0.0142724752679289, 0.0369065288194278, 0.00349435452911985, -0.0708746785686623, -0.0331512559828308, 0.0940305687351156, 0.0358287167455469, 0.0315174684500233, -0.0654856181992578, -0.041773752573878, -0.0396181284261162, -0.0385403163522353, -0.0256065714656645, -0.0234509473179027, -0.0665634302731387, 0.0325952805239042, -0.0460850008694016, -0.0299178197611881, -0.0126728265790937, -0.0159062628007364, 0.0713965151836166, -0.030995631835069, 0.000260918307477141, 0.0369065288194278, 0.0390621529671896, -0.0148284507268555, 0.00672779075076256, -0.0687190544209005, -0.00943939035745095, 0.0196615356373334, 0.0746299514052593, -0.00836157828357004, -0.0234509473179027, -0.0460850008694016, 0.0541515220015222, -0.0353068801305926, -0.0320734439089499, -0.0816527993074713, 0.0476846495582368, 0.0606183944448076, 0.056307146149284, 0.098341817030639, 0.0595405823709267, 0.0336730925977851, 0.056307146149284, -0.0654856181992578, 0.160854917315731, -0.0557853095343297, -0.0245287593917836, -0.0363846922044735, -0.00836157828357004, -0.041773752573878, 0.127442743025423, -0.0773415510119477, 0.0282840322283806, -0.0256065714656645, -0.0622521819776151, -0.000816893766403737, 0.088641508365711, -0.0320734439089499, 0.0304396563761424, 0.00888341489852436, 0.00672779075076256, -0.02021751109626, -0.0245287593917836, -0.0115950145052127, 0.0261284080806188, -0.0590187457559724, -0.0363846922044735, -0.0245287593917836, 0.0185837235634525, -0.0902752958985185, -0.00512814206192736, -0.052551873312687, -0.0223731352440218, -0.02021751109626, -0.0547074974604488, -0.00620595413580824, -0.0169840748746173, 0.0552293340754031, 0.0767855755530211, 0.0185837235634525, -0.0223731352440218, 0.0929527566612346, -0.030995631835069, 0.0390621529671896, -0.0611743699037342, -0.00836157828357004, -0.0374625042783544, -0.0137506386529745, 0.0735521393313785, -0.0245287593917836, 0.0336730925977851, 0.034750904671666, -0.0385403163522353, -0.0396181284261162, -0.00189470584028465, -0.030995631835069, -0.0460850008694016, 0.00133873038135806, 0.0649296427403312, 0.0401399650410705, -0.0234509473179027, 0.0530737099276413, 0.0401399650410705, -0.02021751109626, 0.0142724752679289, -0.0342290680567117, 0.00672779075076256, 0.00457216660300077, 0.0304396563761424, 0.0519958978537604, 0.0616962065186885, -0.00728376620968916, 0.00564997867688165, 0.0541515220015222, -0.00836157828357004, 0.114508998138853, 0.067085266888093, -0.0557853095343297, 0.0304396563761424, -0.0256065714656645, 0.104808689473925, -0.00620595413580824, -0.0471628129432825, -0.0482406250171634, 0.0854080721440683, -0.0126728265790937, -0.0331512559828308, -0.00728376620968916, -0.0137506386529745, 0.0595405823709267, 0.0218171597850952, 0.0185837235634525, -0.0115950145052127, -0.00297251791416553, 0.0175059114895716, -0.0299178197611881, -0.02021751109626, -0.0579409336820915, 0.0606183944448076, -0.0406959404999971, -0.0719524906425432, -0.0557853095343297, 0.045529025410475, -0.00943939035745095, -0.0331512559828308, 0.0498402737059986, -0.084886235529114, 0.00564997867688165, 0.0207393477112143, -0.00728376620968916, 0.104808689473925, -0.0245287593917836, -0.00620595413580824, -0.0385403163522353, 0.137143051690352, 0.17055522598066, 0.00241654245523897, 0.0379843408933087, -0.0579409336820915, -0.00943939035745095, -0.0234509473179027, -0.0105172024313319, -0.0342290680567117, -0.00297251791416553, 0.068163078961974, 0.00996122697240527, 0.00241654245523897, -0.0385403163522353, 0.0261284080806188, -0.0891974838246376, 0.0606183944448076, -0.0288400076873072, -0.0299178197611881, -0.019139699022379, -0.0406959404999971, 0.0153502873418098, -0.0245287593917836, 0.00133873038135806, 0.0692408910358548, -0.0697968664947814, -0.0299178197611881, -0.0460850008694016, 0.0185837235634525, 0.00133873038135806, -0.030995631835069, -0.00405032998804645, 0.0153502873418098, 0.0228949718589761, 0.045529025410475, -0.0450071887955207, -0.0331512559828308, 0.0972640049567582, 0.0541515220015222, 0.1231314947299, -0.0805749872335904, 0.0929527566612346, -0.0503962491649252, -0.0115950145052127, -0.0277621956134263, 0.0584627702970458, 0.0854080721440683, -0.000816893766403737, 0.00672779075076256, 0.00888341489852436, 0.0800190117746638, 0.0713965151836166, -0.0245287593917836, -0.0547074974604488, -0.0363846922044735, 0.0164280994156907, 0.077863387626902, -0.0396181284261162, 0.0110390390462862, -0.0406959404999971, -0.0342290680567117, 0.00564997867688165, 0.088641508365711, -0.0331512559828308, -0.0568631216082106, -0.030995631835069, 0.0552293340754031, -0.0600965578298533, 0.00133873038135806, -0.0234509473179027, -0.074108114790305, 0.0196615356373334, -0.0159062628007364, -0.0159062628007364, 0.0390621529671896, -0.0730303027164241], \"y\": [210.07446173854373, 103.79246619347367, 193.87911003643785, 141.24421700459365, 117.96339893281633, 113.91456100728985, 107.84130411900014, 150.35410233702817, 210.07446173854373, 188.81806262952975, 73.4261817520251, 168.57387300189737, 125.04886530248766, 150.35410233702817, 128.08549374663252, 135.17096011630386, 191.8546910736746, 163.51282559498927, 142.25642648597517, 135.17096011630386, 98.73141878656557, 131.12212219077736, 148.32968337426493, 209.06225225716213, 185.78143418538488, 140.23200752321193, 79.4994386403148, 208.0500427757805, 132.134331672159, 146.30526441150172, 193.87911003643785, 90.63374293551261, 269.79482114005964, 104.80467567485528, 92.65816189827586, 123.02444633972442, 173.63492040880544, 162.50061611360766, 219.1843470709783, 165.5372445577525, 144.28084544873846, 88.60932397274938, 142.25642648597517, 130.10991270939576, 216.14771862683355, 118.97560841419795, 141.24421700459365, 83.54827656584128, 112.90235152590824, 165.5372445577525, 145.29305493012006, 167.56166352051574, 143.26863596735686, 137.1953790790671, 175.6593393715687, 105.8168851562369, 190.84248159229298, 92.65816189827586, 91.64595241689415, 128.08549374663252, 148.32968337426493, 156.4273592253179, 145.29305493012006, 116.95118945143471, 128.08549374663252, 129.09770322801413, 135.17096011630386, 138.2075885604487, 124.03665582110604, 108.85351360038176, 86.58490500998614, 183.75701522262165, 148.32968337426493, 133.14654115354062, 154.40294026255467, 123.02444633972442, 178.69596781571354, 117.96339893281633, 97.71920930518395, 116.95118945143471, 163.51282559498927, 131.12212219077736, 118.97560841419795, 161.488406632226, 114.92677048867148, 219.1843470709783, 81.52385760307804, 146.30526441150172, 113.91456100728985, 106.82909463761852, 128.08549374663252, 200.96457640610916, 156.4273592253179, 91.64595241689415, 136.18316959768546, 97.71920930518395, 161.488406632226, 235.37969877308421, 147.3174738928833, 91.64595241689415, 168.57387300189737, 109.86572308176338, 178.69596781571354, 190.84248159229298, 213.1110901826886, 122.0122368583428, 80.51164812169642, 198.94015744334592, 194.89131951781945, 143.26863596735686, 122.0122368583428, 156.4273592253179, 171.61050144604224, 165.5372445577525, 255.62388840071657, 153.39073078117303, 207.03783329439887, 132.134331672159, 142.25642648597517, 107.84130411900014, 156.4273592253179, 168.57387300189737, 228.29423240341288, 184.76922470400325, 174.64712989018707, 144.28084544873846, 94.6825808610391, 150.35410233702817, 93.67037137965747, 167.56166352051574, 242.46516514275555, 86.58490500998614, 132.134331672159, 101.76804723071044, 192.86690055505622, 205.01341433163563, 75.45060071478834, 198.94015744334592, 256.6360978820983, 210.07446173854373, 165.5372445577525, 196.9157384805827, 163.51282559498927, 157.4395687066995, 195.90352899920106, 272.8314495842038, 208.0500427757805, 239.42853669861069, 166.54945403913413, 147.3174738928833, 218.17213758959667, 148.32968337426493, 151.3663118184098, 110.877932563145, 171.61050144604224, 209.06225225716213, 142.25642648597517, 121.00002737696119, 90.63374293551261, 192.86690055505622, 93.67037137965747, 212.09888070130697, 180.72038677847678, 220.19655655235994, 134.1587506349223, 89.621533454131, 95.69479034242072, 217.15992810821507, 208.0500427757805, 127.07328426525089, 133.14654115354062, 108.85351360038176, 219.1843470709783, 77.47501967755157, 161.488406632226, 115.93897997005308, 170.5982919646606, 177.68375833433194, 144.28084544873846, 137.1953790790671, 156.4273592253179, 111.89014204452661, 157.4395687066995, 118.97560841419795, 174.64712989018707, 135.17096011630386, 191.8546910736746, 100.7558377493288, 149.3418928556466, 89.621533454131, 140.23200752321193, 112.90235152590824, 123.02444633972442, 147.3174738928833, 96.70699982380233, 175.6593393715687, 108.85351360038176, 155.41514974393627, 202.9889953688724, 109.86572308176338, 97.71920930518395, 99.7436282679472, 153.39073078117303, 180.72038677847678, 158.45177818808114, 195.90352899920106, 176.6715488529503, 194.89131951781945, 189.83027211091135, 135.17096011630386, 165.5372445577525, 186.7936436667665, 155.41514974393627, 85.57269552860453, 121.00002737696119, 240.4407461799924, 185.78143418538488, 181.7325962598584, 90.63374293551261, 112.90235152590824, 114.92677048867148, 115.93897997005308, 128.08549374663252, 130.10991270939576, 89.621533454131, 182.74480574124004, 108.85351360038176, 124.03665582110604, 140.23200752321193, 137.1953790790671, 219.1843470709783, 123.02444633972442, 152.3785212997914, 186.7936436667665, 188.81806262952975, 138.2075885604487, 158.45177818808114, 87.59711449136776, 143.26863596735686, 170.5982919646606, 222.22097551512314, 144.28084544873846, 130.10991270939576, 108.85351360038176, 202.9889953688724, 118.97560841419795, 122.0122368583428, 75.45060071478834, 196.9157384805827, 209.06225225716213, 205.01341433163563, 244.4895841055187, 208.0500427757805, 183.75701522262165, 205.01341433163563, 90.63374293551261, 303.1977340256524, 99.7436282679472, 129.09770322801413, 117.96339893281633, 144.28084544873846, 112.90235152590824, 271.8192401028221, 79.4994386403148, 178.69596781571354, 128.08549374663252, 93.67037137965747, 151.3663118184098, 235.37969877308421, 122.0122368583428, 180.72038677847678, 160.47619715084437, 158.45177818808114, 133.14654115354062, 129.09770322801413, 141.24421700459365, 176.6715488529503, 96.70699982380233, 117.96339893281633, 129.09770322801413, 169.58608248327897, 67.35292486373538, 147.3174738928833, 102.78025671209204, 131.12212219077736, 133.14654115354062, 100.7558377493288, 146.30526441150172, 136.18316959768546, 204.00120485025403, 224.2453944778864, 169.58608248327897, 131.12212219077736, 239.42853669861069, 123.02444633972442, 188.81806262952975, 94.6825808610391, 144.28084544873846, 116.95118945143471, 139.21979804183042, 221.20876603374165, 129.09770322801413, 183.75701522262165, 184.76922470400325, 115.93897997005308, 114.92677048867148, 150.35410233702817, 123.02444633972442, 108.85351360038176, 153.39073078117303, 213.1110901826886, 189.83027211091135, 130.10991270939576, 201.9767858874908, 189.83027211091135, 133.14654115354062, 165.5372445577525, 119.98781789557957, 158.45177818808114, 156.4273592253179, 180.72038677847678, 200.96457640610916, 210.07446173854373, 145.29305493012006, 157.4395687066995, 202.9889953688724, 144.28084544873846, 259.67272632624343, 215.13550914545183, 99.7436282679472, 180.72038677847678, 128.08549374663252, 250.56284099380895, 146.30526441150172, 107.84130411900014, 106.82909463761852, 232.34307032893935, 140.23200752321193, 121.00002737696119, 145.29305493012006, 139.21979804183042, 208.0500427757805, 172.62271092742384, 169.58608248327897, 141.24421700459365, 149.3418928556466, 168.57387300189737, 124.03665582110604, 133.14654115354062, 97.71920930518395, 209.06225225716213, 113.91456100728985, 84.56048604722291, 99.7436282679472, 194.89131951781945, 143.26863596735686, 121.00002737696119, 198.94015744334592, 72.41397227064347, 157.4395687066995, 171.61050144604224, 145.29305493012006, 250.56284099380895, 129.09770322801413, 146.30526441150172, 115.93897997005308, 280.92912543525756, 312.3076193580878, 154.40294026255467, 187.80585314814812, 97.71920930518395, 143.26863596735686, 130.10991270939576, 142.25642648597517, 119.98781789557957, 149.3418928556466, 216.14771862683355, 161.488406632226, 154.40294026255467, 115.93897997005308, 176.6715488529503, 68.365134345117, 209.06225225716213, 125.04886530248766, 124.03665582110604, 134.1587506349223, 113.91456100728985, 166.54945403913413, 129.09770322801413, 153.39073078117303, 217.15992810821507, 86.58490500998614, 124.03665582110604, 108.85351360038176, 169.58608248327897, 153.39073078117303, 123.02444633972442, 148.32968337426493, 166.54945403913413, 173.63492040880544, 194.89131951781945, 109.86572308176338, 121.00002737696119, 243.47737462413716, 202.9889953688724, 267.7704021772962, 76.46281019616995, 239.42853669861069, 104.80467567485528, 141.24421700459365, 126.06107478386929, 207.03783329439887, 232.34307032893935, 151.3663118184098, 158.45177818808114, 160.47619715084437, 227.28202292203127, 219.1843470709783, 129.09770322801413, 100.7558377493288, 117.96339893281633, 167.56166352051574, 225.257603959268, 114.92677048867148, 162.50061611360766, 113.91456100728985, 119.98781789557957, 157.4395687066995, 235.37969877308421, 121.00002737696119, 98.73141878656557, 123.02444633972442, 204.00120485025403, 95.69479034242072, 153.39073078117303, 130.10991270939576, 82.53606708445966, 170.5982919646606, 137.1953790790671, 137.1953790790671, 188.81806262952975, 83.54827656584128]}],\n",
              "                        {\"template\": {\"data\": {\"bar\": [{\"error_x\": {\"color\": \"#2a3f5f\"}, \"error_y\": {\"color\": \"#2a3f5f\"}, \"marker\": {\"line\": {\"color\": \"#E5ECF6\", \"width\": 0.5}}, \"type\": \"bar\"}], \"barpolar\": [{\"marker\": {\"line\": {\"color\": \"#E5ECF6\", \"width\": 0.5}}, \"type\": \"barpolar\"}], \"carpet\": [{\"aaxis\": {\"endlinecolor\": \"#2a3f5f\", \"gridcolor\": \"white\", \"linecolor\": \"white\", \"minorgridcolor\": \"white\", \"startlinecolor\": \"#2a3f5f\"}, \"baxis\": {\"endlinecolor\": \"#2a3f5f\", \"gridcolor\": \"white\", \"linecolor\": \"white\", \"minorgridcolor\": \"white\", \"startlinecolor\": \"#2a3f5f\"}, \"type\": \"carpet\"}], \"choropleth\": [{\"colorbar\": {\"outlinewidth\": 0, \"ticks\": \"\"}, \"type\": \"choropleth\"}], \"contour\": [{\"colorbar\": {\"outlinewidth\": 0, \"ticks\": \"\"}, \"colorscale\": [[0.0, \"#0d0887\"], [0.1111111111111111, \"#46039f\"], [0.2222222222222222, \"#7201a8\"], [0.3333333333333333, \"#9c179e\"], [0.4444444444444444, \"#bd3786\"], [0.5555555555555556, \"#d8576b\"], [0.6666666666666666, \"#ed7953\"], [0.7777777777777778, \"#fb9f3a\"], [0.8888888888888888, \"#fdca26\"], [1.0, \"#f0f921\"]], \"type\": \"contour\"}], \"contourcarpet\": [{\"colorbar\": {\"outlinewidth\": 0, \"ticks\": \"\"}, \"type\": \"contourcarpet\"}], \"heatmap\": [{\"colorbar\": {\"outlinewidth\": 0, \"ticks\": \"\"}, \"colorscale\": [[0.0, \"#0d0887\"], [0.1111111111111111, \"#46039f\"], [0.2222222222222222, \"#7201a8\"], [0.3333333333333333, \"#9c179e\"], [0.4444444444444444, \"#bd3786\"], [0.5555555555555556, \"#d8576b\"], [0.6666666666666666, \"#ed7953\"], [0.7777777777777778, \"#fb9f3a\"], [0.8888888888888888, \"#fdca26\"], [1.0, \"#f0f921\"]], \"type\": \"heatmap\"}], \"heatmapgl\": [{\"colorbar\": {\"outlinewidth\": 0, \"ticks\": \"\"}, \"colorscale\": [[0.0, \"#0d0887\"], [0.1111111111111111, \"#46039f\"], [0.2222222222222222, \"#7201a8\"], [0.3333333333333333, \"#9c179e\"], [0.4444444444444444, \"#bd3786\"], [0.5555555555555556, \"#d8576b\"], [0.6666666666666666, \"#ed7953\"], [0.7777777777777778, \"#fb9f3a\"], [0.8888888888888888, \"#fdca26\"], [1.0, \"#f0f921\"]], \"type\": \"heatmapgl\"}], \"histogram\": [{\"marker\": {\"colorbar\": {\"outlinewidth\": 0, \"ticks\": \"\"}}, \"type\": \"histogram\"}], \"histogram2d\": [{\"colorbar\": {\"outlinewidth\": 0, \"ticks\": \"\"}, \"colorscale\": [[0.0, \"#0d0887\"], [0.1111111111111111, \"#46039f\"], [0.2222222222222222, \"#7201a8\"], [0.3333333333333333, \"#9c179e\"], [0.4444444444444444, \"#bd3786\"], [0.5555555555555556, \"#d8576b\"], [0.6666666666666666, \"#ed7953\"], [0.7777777777777778, \"#fb9f3a\"], [0.8888888888888888, \"#fdca26\"], [1.0, \"#f0f921\"]], \"type\": \"histogram2d\"}], \"histogram2dcontour\": [{\"colorbar\": {\"outlinewidth\": 0, \"ticks\": \"\"}, \"colorscale\": [[0.0, \"#0d0887\"], [0.1111111111111111, \"#46039f\"], [0.2222222222222222, \"#7201a8\"], [0.3333333333333333, \"#9c179e\"], [0.4444444444444444, \"#bd3786\"], [0.5555555555555556, \"#d8576b\"], [0.6666666666666666, \"#ed7953\"], [0.7777777777777778, \"#fb9f3a\"], [0.8888888888888888, \"#fdca26\"], [1.0, \"#f0f921\"]], \"type\": \"histogram2dcontour\"}], \"mesh3d\": [{\"colorbar\": {\"outlinewidth\": 0, \"ticks\": \"\"}, \"type\": \"mesh3d\"}], \"parcoords\": [{\"line\": {\"colorbar\": {\"outlinewidth\": 0, \"ticks\": \"\"}}, \"type\": \"parcoords\"}], \"pie\": [{\"automargin\": true, \"type\": \"pie\"}], \"scatter\": [{\"marker\": {\"colorbar\": {\"outlinewidth\": 0, \"ticks\": \"\"}}, \"type\": \"scatter\"}], \"scatter3d\": [{\"line\": {\"colorbar\": {\"outlinewidth\": 0, \"ticks\": \"\"}}, \"marker\": {\"colorbar\": {\"outlinewidth\": 0, \"ticks\": \"\"}}, \"type\": \"scatter3d\"}], \"scattercarpet\": [{\"marker\": {\"colorbar\": {\"outlinewidth\": 0, \"ticks\": \"\"}}, \"type\": \"scattercarpet\"}], \"scattergeo\": [{\"marker\": {\"colorbar\": {\"outlinewidth\": 0, \"ticks\": \"\"}}, \"type\": \"scattergeo\"}], \"scattergl\": [{\"marker\": {\"colorbar\": {\"outlinewidth\": 0, \"ticks\": \"\"}}, \"type\": \"scattergl\"}], \"scattermapbox\": [{\"marker\": {\"colorbar\": {\"outlinewidth\": 0, \"ticks\": \"\"}}, \"type\": \"scattermapbox\"}], \"scatterpolar\": [{\"marker\": {\"colorbar\": {\"outlinewidth\": 0, \"ticks\": \"\"}}, \"type\": \"scatterpolar\"}], \"scatterpolargl\": [{\"marker\": {\"colorbar\": {\"outlinewidth\": 0, \"ticks\": \"\"}}, \"type\": \"scatterpolargl\"}], \"scatterternary\": [{\"marker\": {\"colorbar\": {\"outlinewidth\": 0, \"ticks\": \"\"}}, \"type\": \"scatterternary\"}], \"surface\": [{\"colorbar\": {\"outlinewidth\": 0, \"ticks\": \"\"}, \"colorscale\": [[0.0, \"#0d0887\"], [0.1111111111111111, \"#46039f\"], [0.2222222222222222, \"#7201a8\"], [0.3333333333333333, \"#9c179e\"], [0.4444444444444444, \"#bd3786\"], [0.5555555555555556, \"#d8576b\"], [0.6666666666666666, \"#ed7953\"], [0.7777777777777778, \"#fb9f3a\"], [0.8888888888888888, \"#fdca26\"], [1.0, \"#f0f921\"]], \"type\": \"surface\"}], \"table\": [{\"cells\": {\"fill\": {\"color\": \"#EBF0F8\"}, \"line\": {\"color\": \"white\"}}, \"header\": {\"fill\": {\"color\": \"#C8D4E3\"}, \"line\": {\"color\": \"white\"}}, \"type\": \"table\"}]}, \"layout\": {\"annotationdefaults\": {\"arrowcolor\": \"#2a3f5f\", \"arrowhead\": 0, \"arrowwidth\": 1}, \"coloraxis\": {\"colorbar\": {\"outlinewidth\": 0, \"ticks\": \"\"}}, \"colorscale\": {\"diverging\": [[0, \"#8e0152\"], [0.1, \"#c51b7d\"], [0.2, \"#de77ae\"], [0.3, \"#f1b6da\"], [0.4, \"#fde0ef\"], [0.5, \"#f7f7f7\"], [0.6, \"#e6f5d0\"], [0.7, \"#b8e186\"], [0.8, \"#7fbc41\"], [0.9, \"#4d9221\"], [1, \"#276419\"]], \"sequential\": [[0.0, \"#0d0887\"], [0.1111111111111111, \"#46039f\"], [0.2222222222222222, \"#7201a8\"], [0.3333333333333333, \"#9c179e\"], [0.4444444444444444, \"#bd3786\"], [0.5555555555555556, \"#d8576b\"], [0.6666666666666666, \"#ed7953\"], [0.7777777777777778, \"#fb9f3a\"], [0.8888888888888888, \"#fdca26\"], [1.0, \"#f0f921\"]], \"sequentialminus\": [[0.0, \"#0d0887\"], [0.1111111111111111, \"#46039f\"], [0.2222222222222222, \"#7201a8\"], [0.3333333333333333, \"#9c179e\"], [0.4444444444444444, \"#bd3786\"], [0.5555555555555556, \"#d8576b\"], [0.6666666666666666, \"#ed7953\"], [0.7777777777777778, \"#fb9f3a\"], [0.8888888888888888, \"#fdca26\"], [1.0, \"#f0f921\"]]}, \"colorway\": [\"#636efa\", \"#EF553B\", \"#00cc96\", \"#ab63fa\", \"#FFA15A\", \"#19d3f3\", \"#FF6692\", \"#B6E880\", \"#FF97FF\", \"#FECB52\"], \"font\": {\"color\": \"#2a3f5f\"}, \"geo\": {\"bgcolor\": \"white\", \"lakecolor\": \"white\", \"landcolor\": \"#E5ECF6\", \"showlakes\": true, \"showland\": true, \"subunitcolor\": \"white\"}, \"hoverlabel\": {\"align\": \"left\"}, \"hovermode\": \"closest\", \"mapbox\": {\"style\": \"light\"}, \"paper_bgcolor\": \"white\", \"plot_bgcolor\": \"#E5ECF6\", \"polar\": {\"angularaxis\": {\"gridcolor\": \"white\", \"linecolor\": \"white\", \"ticks\": \"\"}, \"bgcolor\": \"#E5ECF6\", \"radialaxis\": {\"gridcolor\": \"white\", \"linecolor\": \"white\", \"ticks\": \"\"}}, \"scene\": {\"xaxis\": {\"backgroundcolor\": \"#E5ECF6\", \"gridcolor\": \"white\", \"gridwidth\": 2, \"linecolor\": \"white\", \"showbackground\": true, \"ticks\": \"\", \"zerolinecolor\": \"white\"}, \"yaxis\": {\"backgroundcolor\": \"#E5ECF6\", \"gridcolor\": \"white\", \"gridwidth\": 2, \"linecolor\": \"white\", \"showbackground\": true, \"ticks\": \"\", \"zerolinecolor\": \"white\"}, \"zaxis\": {\"backgroundcolor\": \"#E5ECF6\", \"gridcolor\": \"white\", \"gridwidth\": 2, \"linecolor\": \"white\", \"showbackground\": true, \"ticks\": \"\", \"zerolinecolor\": \"white\"}}, \"shapedefaults\": {\"line\": {\"color\": \"#2a3f5f\"}}, \"ternary\": {\"aaxis\": {\"gridcolor\": \"white\", \"linecolor\": \"white\", \"ticks\": \"\"}, \"baxis\": {\"gridcolor\": \"white\", \"linecolor\": \"white\", \"ticks\": \"\"}, \"bgcolor\": \"#E5ECF6\", \"caxis\": {\"gridcolor\": \"white\", \"linecolor\": \"white\", \"ticks\": \"\"}}, \"title\": {\"x\": 0.05}, \"xaxis\": {\"automargin\": true, \"gridcolor\": \"white\", \"linecolor\": \"white\", \"ticks\": \"\", \"title\": {\"standoff\": 15}, \"zerolinecolor\": \"white\", \"zerolinewidth\": 2}, \"yaxis\": {\"automargin\": true, \"gridcolor\": \"white\", \"linecolor\": \"white\", \"ticks\": \"\", \"title\": {\"standoff\": 15}, \"zerolinecolor\": \"white\", \"zerolinewidth\": 2}}}, \"title\": {\"text\": \"Target vs Predictions\"}, \"xaxis\": {\"title\": {\"text\": \"BMI\"}}, \"yaxis\": {\"title\": {\"text\": \"Diabetes metric\"}}},\n",
              "                        {\"responsive\": true}\n",
              "                    ).then(function(){\n",
              "                            \n",
              "var gd = document.getElementById('70ff8e83-f0ca-4184-8c97-dbfe447d9ad0');\n",
              "var x = new MutationObserver(function (mutations, observer) {{\n",
              "        var display = window.getComputedStyle(gd).display;\n",
              "        if (!display || display === 'none') {{\n",
              "            console.log([gd, 'removed!']);\n",
              "            Plotly.purge(gd);\n",
              "            observer.disconnect();\n",
              "        }}\n",
              "}});\n",
              "\n",
              "// Listen for the removal of the full notebook cells\n",
              "var notebookContainer = gd.closest('#notebook-container');\n",
              "if (notebookContainer) {{\n",
              "    x.observe(notebookContainer, {childList: true});\n",
              "}}\n",
              "\n",
              "// Listen for the clearing of the current output cell\n",
              "var outputEl = gd.closest('.output');\n",
              "if (outputEl) {{\n",
              "    x.observe(outputEl, {childList: true});\n",
              "}}\n",
              "\n",
              "                        })\n",
              "                };\n",
              "                \n",
              "            </script>\n",
              "        </div>\n",
              "</body>\n",
              "</html>"
            ]
          },
          "metadata": {
            "tags": []
          }
        }
      ]
    },
    {
      "cell_type": "markdown",
      "metadata": {
        "id": "_zsSa40s1xZS"
      },
      "source": [
        "**We've got a nice regression this time!** "
      ]
    }
  ]
}