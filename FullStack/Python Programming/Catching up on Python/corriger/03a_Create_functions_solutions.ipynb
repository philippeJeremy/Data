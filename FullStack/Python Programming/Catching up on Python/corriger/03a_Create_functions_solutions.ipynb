{
  "cells": [
    {
      "cell_type": "markdown",
      "metadata": {
        "id": "dCIlJEib5a4E"
      },
      "source": [
        "# Create Functions"
      ]
    },
    {
      "cell_type": "markdown",
      "metadata": {
        "id": "DCZLFp2d5a4F"
      },
      "source": [
        "Let's start with a simple function:\n",
        "\n",
        "* Declare a function that returns the square root of a number. We'll call it `sqrt()`.\n",
        "* Execute the function to compute the square root of 25 and print the resultLet's start with a simple function:"
      ]
    },
    {
      "cell_type": "code",
      "execution_count": 1,
      "metadata": {
        "id": "bn3xFAA05a4G",
        "outputId": "09a5c982-5a32-4a46-cd07-7edaeeed7178",
        "tags": []
      },
      "outputs": [
        {
          "name": "stdout",
          "output_type": "stream",
          "text": [
            "The result is : 5.0\n",
            "The result is : 5.0\n"
          ]
        }
      ],
      "source": [
        "# Definition of the function\n",
        "def sqrt(number): # number is a parameter, will take value\n",
        "    number = number ** (1/2)\n",
        "    return number\n",
        "\n",
        "# Call the function and store the result in a variable.\n",
        "result = sqrt(number = 25) # here number will take 25\n",
        "\n",
        "# The result is displayed\n",
        "print(\"The result is : {}\".format(result))\n",
        "print(f\"The result is : {result}\")"
      ]
    },
    {
      "cell_type": "code",
      "execution_count": null,
      "metadata": {},
      "outputs": [],
      "source": [
        "# Python3 program to demonstrate the sqrt() method \n",
        "  \n",
        "# import the math module \n",
        "import math \n",
        "  \n",
        "# print the square root of  0 \n",
        "print(math.sqrt(0)) \n",
        "  \n",
        "# print the square root of 4\n",
        "print(math.sqrt(4)) \n",
        "  \n",
        "# print the square root of 25\n",
        "print(math.sqrt(25)) "
      ]
    },
    {
      "cell_type": "markdown",
      "metadata": {
        "id": "GuyFOjqk5a4G"
      },
      "source": []
    }
  ],
  "metadata": {
    "colab": {
      "provenance": []
    },
    "kernelspec": {
      "display_name": "Python 3.10.4 64-bit",
      "language": "python",
      "name": "python3"
    },
    "language_info": {
      "codemirror_mode": {
        "name": "ipython",
        "version": 3
      },
      "file_extension": ".py",
      "mimetype": "text/x-python",
      "name": "python",
      "nbconvert_exporter": "python",
      "pygments_lexer": "ipython3",
      "version": "3.10.4"
    },
    "orig_nbformat": 2,
    "vscode": {
      "interpreter": {
        "hash": "a3d0e8e0c817ae3c7f78f66b04bafeb63523a0a50e6405ec1b074461715681e4"
      }
    }
  },
  "nbformat": 4,
  "nbformat_minor": 0
}
