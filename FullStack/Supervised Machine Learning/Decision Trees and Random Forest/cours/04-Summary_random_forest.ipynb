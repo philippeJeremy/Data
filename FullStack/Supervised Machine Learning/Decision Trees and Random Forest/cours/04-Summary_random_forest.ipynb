{
 "cells": [
  {
   "cell_type": "markdown",
   "metadata": {},
   "source": [
    "## Random Forest 🌲🌲🌲🌲\n",
    "\n",
    "### The essentials\n",
    "\n",
    "\n",
    "## Bagging\n",
    "\n",
    "Bagging involves training several models to solve the same prediction problem and combining their strengths to improve results. In general, this allows for better predictions thanks to the diversity of predictions while limiting variance, which makes it possible to define models that will generalize well to the validation data.\n",
    "\n",
    "\n",
    "## Bootstrap\n",
    "\n",
    "Bootstrapping is the creation of new datasets from an existing dataset by printing with observation discount in the original dataset. This process makes it possible to randomly generate various datasets, which resemble the original data, without being identical to them. This allows the training of models on varied data, which will randomly represent different characteristics of the original dataset.\n",
    "\n",
    "The Bootstrap, on the columns, consists in selecting a part of the explanatory variables each time a new model is trained in order to make a Bagging. This encourages the final model to consider different types of patterns by focusing on different variables.\n",
    "\n",
    "\n",
    "## Random Forest\n",
    "\n",
    "The Randoms Forest are versatile models, suitable for both classification and regression problems. It is in fact a set of random trees gathered by bagging.\n",
    "\n",
    "The main advantages of Random Forests: \n",
    "* assumptions about the shape of the f-function that links the explanatory variables to the target variable are not necessary\n",
    "* the model is quick to train \n",
    "* many hyper-parameters allow to control the bias/variance balance.\n",
    "\n",
    "The drawbacks are related to the number of hyper-parameters that need to be estimated in order to find the best model. The final model is also difficult to interpret."
   ]
  }
 ],
 "metadata": {
  "kernelspec": {
   "display_name": "Python 3",
   "language": "python",
   "name": "python3"
  },
  "language_info": {
   "codemirror_mode": {
    "name": "ipython",
    "version": 3
   },
   "file_extension": ".py",
   "mimetype": "text/x-python",
   "name": "python",
   "nbconvert_exporter": "python",
   "pygments_lexer": "ipython3",
   "version": "3.7.4"
  }
 },
 "nbformat": 4,
 "nbformat_minor": 2
}
