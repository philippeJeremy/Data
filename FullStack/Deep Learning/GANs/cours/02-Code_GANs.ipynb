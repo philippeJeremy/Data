{
 "cells": [
  {
   "cell_type": "markdown",
   "metadata": {
    "id": "Wsn8vcMlgnX4"
   },
   "source": [
    "# Create handwritten digits with GANs \n",
    "\n",
    "\n",
    "The <a href=\"https://arxiv.org/abs/1406.2661\">GAN or Generative Adversarial Networks</a> are one of the latest advances in Deep Learning, the principle is quite simple. Instead of having one model that will generate images, we're going to have two models: \n",
    "\n",
    "* **A generator** : The first one is going to try to create images from the image dataset we give it. \n",
    "* **A discriminator**: Another model will try to distinguish the images created by the generator from the real images.\n",
    "\n",
    "Everything is then a battle between the generator which will try to create images so perfect that the discriminator can no longer distinguish _true_ images from _generated_ images.\n",
    "\n",
    "Let's try to implement this on MNIST: \n",
    "\n",
    "<img src=\"https://tensorflow.org/images/gan/dcgan.gif\" />"
   ]
  },
  {
   "cell_type": "code",
   "execution_count": 1,
   "metadata": {
    "executionInfo": {
     "elapsed": 2731,
     "status": "ok",
     "timestamp": 1619698060503,
     "user": {
      "displayName": "Charles Tanguy",
      "photoUrl": "",
      "userId": "11930294859591867631"
     },
     "user_tz": -120
    },
    "id": "Wk_8QDG9ggPS"
   },
   "outputs": [],
   "source": [
    "import tensorflow as tf \n",
    "import glob \n",
    "import matplotlib.pyplot as plt \n",
    "import numpy as np \n",
    "import os \n",
    "import time \n",
    "from IPython import display"
   ]
  },
  {
   "cell_type": "markdown",
   "metadata": {
    "id": "O7zwNlaVhJU1"
   },
   "source": [
    "We need to download the MNIST dataset. You can do this via [`tf.keras.datasets.mnist`](https://www.tensorflow.org/api_docs/python/tf/keras/datasets)"
   ]
  },
  {
   "cell_type": "code",
   "execution_count": 2,
   "metadata": {
    "colab": {
     "base_uri": "https://localhost:8080/"
    },
    "executionInfo": {
     "elapsed": 3943,
     "status": "ok",
     "timestamp": 1619698061730,
     "user": {
      "displayName": "Charles Tanguy",
      "photoUrl": "",
      "userId": "11930294859591867631"
     },
     "user_tz": -120
    },
    "id": "FENStb5whLJz",
    "outputId": "d484ba3e-f125-400c-c12e-ddc91474dac8"
   },
   "outputs": [],
   "source": [
    "(X_train, y_train), (X_test, y_test) = tf.keras.datasets.mnist.load_data()"
   ]
  },
  {
   "cell_type": "markdown",
   "metadata": {
    "id": "cNnYdV8qh80t"
   },
   "source": [
    "Let's look at an element from `X_train`"
   ]
  },
  {
   "cell_type": "code",
   "execution_count": 3,
   "metadata": {
    "colab": {
     "base_uri": "https://localhost:8080/",
     "height": 283
    },
    "executionInfo": {
     "elapsed": 3933,
     "status": "ok",
     "timestamp": 1619698061731,
     "user": {
      "displayName": "Charles Tanguy",
      "photoUrl": "",
      "userId": "11930294859591867631"
     },
     "user_tz": -120
    },
    "id": "u-dk8U8pjEz6",
    "outputId": "2a10274c-3c64-45a8-8cc9-fe689c289381"
   },
   "outputs": [
    {
     "data": {
      "text/plain": [
       "<matplotlib.image.AxesImage at 0x1e67f98b580>"
      ]
     },
     "execution_count": 3,
     "metadata": {},
     "output_type": "execute_result"
    },
    {
     "data": {
      "image/png": "[encoded data removed]",
      "text/plain": [
       "<Figure size 640x480 with 1 Axes>"
      ]
     },
     "metadata": {},
     "output_type": "display_data"
    }
   ],
   "source": [
    "plt.imshow(X_train[0], cmap=\"gray\")"
   ]
  },
  {
   "cell_type": "code",
   "execution_count": 4,
   "metadata": {
    "colab": {
     "base_uri": "https://localhost:8080/"
    },
    "executionInfo": {
     "elapsed": 3919,
     "status": "ok",
     "timestamp": 1619698061732,
     "user": {
      "displayName": "Charles Tanguy",
      "photoUrl": "",
      "userId": "11930294859591867631"
     },
     "user_tz": -120
    },
    "id": "jsCbFQPZi3kh",
    "outputId": "123d6375-451f-4883-a9f6-9cdd4ea6d0bd"
   },
   "outputs": [
    {
     "data": {
      "text/plain": [
       "array([[  0,   0,   0,   0,   0,   0,   0,   0,   0,   0,   0,   0,   0,\n",
       "          0,   0,   0,   0,   0,   0,   0,   0,   0,   0,   0,   0,   0,\n",
       "          0,   0],\n",
       "       [  0,   0,   0,   0,   0,   0,   0,   0,   0,   0,   0,   0,   0,\n",
       "          0,   0,   0,   0,   0,   0,   0,   0,   0,   0,   0,   0,   0,\n",
       "          0,   0],\n",
       "       [  0,   0,   0,   0,   0,   0,   0,   0,   0,   0,   0,   0,   0,\n",
       "          0,   0,   0,   0,   0,   0,   0,   0,   0,   0,   0,   0,   0,\n",
       "          0,   0],\n",
       "       [  0,   0,   0,   0,   0,   0,   0,   0,   0,   0,   0,   0,   0,\n",
       "          0,   0,   0,   0,   0,   0,   0,   0,   0,   0,   0,   0,   0,\n",
       "          0,   0],\n",
       "       [  0,   0,   0,   0,   0,   0,   0,   0,   0,   0,   0,   0,   0,\n",
       "          0,   0,   0,   0,   0,   0,   0,   0,   0,   0,   0,   0,   0,\n",
       "          0,   0],\n",
       "       [  0,   0,   0,   0,   0,   0,   0,   0,   0,   0,   0,   0,   3,\n",
       "         18,  18,  18, 126, 136, 175,  26, 166, 255, 247, 127,   0,   0,\n",
       "          0,   0],\n",
       "       [  0,   0,   0,   0,   0,   0,   0,   0,  30,  36,  94, 154, 170,\n",
       "        253, 253, 253, 253, 253, 225, 172, 253, 242, 195,  64,   0,   0,\n",
       "          0,   0],\n",
       "       [  0,   0,   0,   0,   0,   0,   0,  49, 238, 253, 253, 253, 253,\n",
       "        253, 253, 253, 253, 251,  93,  82,  82,  56,  39,   0,   0,   0,\n",
       "          0,   0],\n",
       "       [  0,   0,   0,   0,   0,   0,   0,  18, 219, 253, 253, 253, 253,\n",
       "        253, 198, 182, 247, 241,   0,   0,   0,   0,   0,   0,   0,   0,\n",
       "          0,   0],\n",
       "       [  0,   0,   0,   0,   0,   0,   0,   0,  80, 156, 107, 253, 253,\n",
       "        205,  11,   0,  43, 154,   0,   0,   0,   0,   0,   0,   0,   0,\n",
       "          0,   0],\n",
       "       [  0,   0,   0,   0,   0,   0,   0,   0,   0,  14,   1, 154, 253,\n",
       "         90,   0,   0,   0,   0,   0,   0,   0,   0,   0,   0,   0,   0,\n",
       "          0,   0],\n",
       "       [  0,   0,   0,   0,   0,   0,   0,   0,   0,   0,   0, 139, 253,\n",
       "        190,   2,   0,   0,   0,   0,   0,   0,   0,   0,   0,   0,   0,\n",
       "          0,   0],\n",
       "       [  0,   0,   0,   0,   0,   0,   0,   0,   0,   0,   0,  11, 190,\n",
       "        253,  70,   0,   0,   0,   0,   0,   0,   0,   0,   0,   0,   0,\n",
       "          0,   0],\n",
       "       [  0,   0,   0,   0,   0,   0,   0,   0,   0,   0,   0,   0,  35,\n",
       "        241, 225, 160, 108,   1,   0,   0,   0,   0,   0,   0,   0,   0,\n",
       "          0,   0],\n",
       "       [  0,   0,   0,   0,   0,   0,   0,   0,   0,   0,   0,   0,   0,\n",
       "         81, 240, 253, 253, 119,  25,   0,   0,   0,   0,   0,   0,   0,\n",
       "          0,   0],\n",
       "       [  0,   0,   0,   0,   0,   0,   0,   0,   0,   0,   0,   0,   0,\n",
       "          0,  45, 186, 253, 253, 150,  27,   0,   0,   0,   0,   0,   0,\n",
       "          0,   0],\n",
       "       [  0,   0,   0,   0,   0,   0,   0,   0,   0,   0,   0,   0,   0,\n",
       "          0,   0,  16,  93, 252, 253, 187,   0,   0,   0,   0,   0,   0,\n",
       "          0,   0],\n",
       "       [  0,   0,   0,   0,   0,   0,   0,   0,   0,   0,   0,   0,   0,\n",
       "          0,   0,   0,   0, 249, 253, 249,  64,   0,   0,   0,   0,   0,\n",
       "          0,   0],\n",
       "       [  0,   0,   0,   0,   0,   0,   0,   0,   0,   0,   0,   0,   0,\n",
       "          0,  46, 130, 183, 253, 253, 207,   2,   0,   0,   0,   0,   0,\n",
       "          0,   0],\n",
       "       [  0,   0,   0,   0,   0,   0,   0,   0,   0,   0,   0,   0,  39,\n",
       "        148, 229, 253, 253, 253, 250, 182,   0,   0,   0,   0,   0,   0,\n",
       "          0,   0],\n",
       "       [  0,   0,   0,   0,   0,   0,   0,   0,   0,   0,  24, 114, 221,\n",
       "        253, 253, 253, 253, 201,  78,   0,   0,   0,   0,   0,   0,   0,\n",
       "          0,   0],\n",
       "       [  0,   0,   0,   0,   0,   0,   0,   0,  23,  66, 213, 253, 253,\n",
       "        253, 253, 198,  81,   2,   0,   0,   0,   0,   0,   0,   0,   0,\n",
       "          0,   0],\n",
       "       [  0,   0,   0,   0,   0,   0,  18, 171, 219, 253, 253, 253, 253,\n",
       "        195,  80,   9,   0,   0,   0,   0,   0,   0,   0,   0,   0,   0,\n",
       "          0,   0],\n",
       "       [  0,   0,   0,   0,  55, 172, 226, 253, 253, 253, 253, 244, 133,\n",
       "         11,   0,   0,   0,   0,   0,   0,   0,   0,   0,   0,   0,   0,\n",
       "          0,   0],\n",
       "       [  0,   0,   0,   0, 136, 253, 253, 253, 212, 135, 132,  16,   0,\n",
       "          0,   0,   0,   0,   0,   0,   0,   0,   0,   0,   0,   0,   0,\n",
       "          0,   0],\n",
       "       [  0,   0,   0,   0,   0,   0,   0,   0,   0,   0,   0,   0,   0,\n",
       "          0,   0,   0,   0,   0,   0,   0,   0,   0,   0,   0,   0,   0,\n",
       "          0,   0],\n",
       "       [  0,   0,   0,   0,   0,   0,   0,   0,   0,   0,   0,   0,   0,\n",
       "          0,   0,   0,   0,   0,   0,   0,   0,   0,   0,   0,   0,   0,\n",
       "          0,   0],\n",
       "       [  0,   0,   0,   0,   0,   0,   0,   0,   0,   0,   0,   0,   0,\n",
       "          0,   0,   0,   0,   0,   0,   0,   0,   0,   0,   0,   0,   0,\n",
       "          0,   0]], dtype=uint8)"
      ]
     },
     "execution_count": 4,
     "metadata": {},
     "output_type": "execute_result"
    }
   ],
   "source": [
    "X_train[0]"
   ]
  },
  {
   "cell_type": "markdown",
   "metadata": {
    "id": "fKsbvmqFi0bc"
   },
   "source": [
    "The values for the pixels in the image are reprensented by integer values between 0 and 255, let's normalize our data."
   ]
  },
  {
   "cell_type": "code",
   "execution_count": 5,
   "metadata": {
    "executionInfo": {
     "elapsed": 4197,
     "status": "ok",
     "timestamp": 1619698062012,
     "user": {
      "displayName": "Charles Tanguy",
      "photoUrl": "",
      "userId": "11930294859591867631"
     },
     "user_tz": -120
    },
    "id": "9r280fT7hjEB"
   },
   "outputs": [],
   "source": [
    "X_train = X_train * 1 / 255"
   ]
  },
  {
   "cell_type": "markdown",
   "metadata": {
    "id": "fNJVieLsiEiU"
   },
   "source": [
    "The dimension is `(batch_size, height, width)` which is not suitable for use in tensorflow models, images need to have an additionnal dimension for the channel."
   ]
  },
  {
   "cell_type": "code",
   "execution_count": 6,
   "metadata": {
    "executionInfo": {
     "elapsed": 4196,
     "status": "ok",
     "timestamp": 1619698062013,
     "user": {
      "displayName": "Charles Tanguy",
      "photoUrl": "",
      "userId": "11930294859591867631"
     },
     "user_tz": -120
    },
    "id": "sgZh6CFticm4"
   },
   "outputs": [],
   "source": [
    "X_train = tf.expand_dims(X_train, axis=-1)"
   ]
  },
  {
   "cell_type": "markdown",
   "metadata": {
    "id": "kLLUk5rT0Q2X"
   },
   "source": [
    "Let's now transform this collection of tensors into a collection of batches"
   ]
  },
  {
   "cell_type": "code",
   "execution_count": 7,
   "metadata": {
    "executionInfo": {
     "elapsed": 4196,
     "status": "ok",
     "timestamp": 1619698062015,
     "user": {
      "displayName": "Charles Tanguy",
      "photoUrl": "",
      "userId": "11930294859591867631"
     },
     "user_tz": -120
    },
    "id": "z5lKEGQP2Pij"
   },
   "outputs": [],
   "source": [
    "BATCH_SIZE = 256"
   ]
  },
  {
   "cell_type": "code",
   "execution_count": 8,
   "metadata": {
    "executionInfo": {
     "elapsed": 4195,
     "status": "ok",
     "timestamp": 1619698062016,
     "user": {
      "displayName": "Charles Tanguy",
      "photoUrl": "",
      "userId": "11930294859591867631"
     },
     "user_tz": -120
    },
    "id": "MbQ2_qVb0WdB"
   },
   "outputs": [],
   "source": [
    "dataset = tf.data.Dataset.from_tensor_slices(X_train).shuffle(len(X_train)).batch(BATCH_SIZE)"
   ]
  },
  {
   "cell_type": "markdown",
   "metadata": {
    "id": "tp0QNWdHivqy"
   },
   "source": [
    "# Generator model\n",
    "\n",
    "We create a generator model with an input shape of `100`, which means we will feed this model a vector of 100 random values (basically noise) and the model will have to output a tensor that has the same shape as our real data `(1,28,28,1)`.\n",
    "\n",
    "To achieve this we will use a new layer: `tf.keras.kayers.Conv2DTranspose` that is able to expand the input."
   ]
  },
  {
   "cell_type": "code",
   "execution_count": 9,
   "metadata": {
    "executionInfo": {
     "elapsed": 4636,
     "status": "ok",
     "timestamp": 1619698062459,
     "user": {
      "displayName": "Charles Tanguy",
      "photoUrl": "",
      "userId": "11930294859591867631"
     },
     "user_tz": -120
    },
    "id": "Yv7p4fpPjkqK"
   },
   "outputs": [],
   "source": [
    "noise_dim = 100\n",
    "\n",
    "generator = tf.keras.Sequential([\n",
    "  tf.keras.layers.Dense(7*7*256, use_bias=False, input_shape=(noise_dim,)),\n",
    "  tf.keras.layers.BatchNormalization(),\n",
    "  tf.keras.layers.LeakyReLU(),\n",
    "  tf.keras.layers.Reshape((7,7, 256)),\n",
    "  tf.keras.layers.Conv2DTranspose(128, (3, 3), strides=(1, 1), padding='same', use_bias=False), # does not change the shape because of the stride of 1\n",
    "  tf.keras.layers.BatchNormalization(),\n",
    "  tf.keras.layers.LeakyReLU(),\n",
    "  tf.keras.layers.Conv2DTranspose(64, (3, 3), strides=(2, 2), padding='same', use_bias=False), # multiplies width and height by 2 thanks to stride 2\n",
    "  tf.keras.layers.BatchNormalization(),\n",
    "  tf.keras.layers.LeakyReLU(),\n",
    "  tf.keras.layers.Conv2DTranspose(1, (3, 3), strides=(2, 2), padding='same', use_bias=False, activation=\"sigmoid\") # multiplies width and height by 2 thanks to stride 2\n",
    "  ])"
   ]
  },
  {
   "cell_type": "markdown",
   "metadata": {
    "id": "W7AHMLoHnF7y"
   },
   "source": [
    "Let's look at the details of this architecture"
   ]
  },
  {
   "cell_type": "code",
   "execution_count": 10,
   "metadata": {
    "colab": {
     "base_uri": "https://localhost:8080/"
    },
    "executionInfo": {
     "elapsed": 4627,
     "status": "ok",
     "timestamp": 1619698062460,
     "user": {
      "displayName": "Charles Tanguy",
      "photoUrl": "",
      "userId": "11930294859591867631"
     },
     "user_tz": -120
    },
    "id": "3b1oNMqynKmw",
    "outputId": "8568e046-af1e-46f5-a381-4eb53c490835"
   },
   "outputs": [
    {
     "name": "stdout",
     "output_type": "stream",
     "text": [
      "Model: \"sequential\"\n",
      "_________________________________________________________________\n",
      " Layer (type)                Output Shape              Param #   \n",
      "=================================================================\n",
      " dense (Dense)               (None, 12544)             1254400   \n",
      "                                                                 \n",
      " batch_normalization (BatchN  (None, 12544)            50176     \n",
      " ormalization)                                                   \n",
      "                                                                 \n",
      " leaky_re_lu (LeakyReLU)     (None, 12544)             0         \n",
      "                                                                 \n",
      " reshape (Reshape)           (None, 7, 7, 256)         0         \n",
      "                                                                 \n",
      " conv2d_transpose (Conv2DTra  (None, 7, 7, 128)        294912    \n",
      " nspose)                                                         \n",
      "                                                                 \n",
      " batch_normalization_1 (Batc  (None, 7, 7, 128)        512       \n",
      " hNormalization)                                                 \n",
      "                                                                 \n",
      " leaky_re_lu_1 (LeakyReLU)   (None, 7, 7, 128)         0         \n",
      "                                                                 \n",
      " conv2d_transpose_1 (Conv2DT  (None, 14, 14, 64)       73728     \n",
      " ranspose)                                                       \n",
      "                                                                 \n",
      " batch_normalization_2 (Batc  (None, 14, 14, 64)       256       \n",
      " hNormalization)                                                 \n",
      "                                                                 \n",
      " leaky_re_lu_2 (LeakyReLU)   (None, 14, 14, 64)        0         \n",
      "                                                                 \n",
      " conv2d_transpose_2 (Conv2DT  (None, 28, 28, 1)        576       \n",
      " ranspose)                                                       \n",
      "                                                                 \n",
      "=================================================================\n",
      "Total params: 1,674,560\n",
      "Trainable params: 1,649,088\n",
      "Non-trainable params: 25,472\n",
      "_________________________________________________________________\n"
     ]
    }
   ],
   "source": [
    "generator.summary()"
   ]
  },
  {
   "cell_type": "markdown",
   "metadata": {
    "id": "Tq7GfjC9nYjS"
   },
   "source": [
    "Now let's generate some random noise and feed it to this model to see what happens!"
   ]
  },
  {
   "cell_type": "code",
   "execution_count": 11,
   "metadata": {
    "colab": {
     "base_uri": "https://localhost:8080/",
     "height": 283
    },
    "executionInfo": {
     "elapsed": 5125,
     "status": "ok",
     "timestamp": 1619698062969,
     "user": {
      "displayName": "Charles Tanguy",
      "photoUrl": "",
      "userId": "11930294859591867631"
     },
     "user_tz": -120
    },
    "id": "R3Rj9fP9ngb0",
    "outputId": "5f37f431-f8e7-4d29-93a6-5dfa3c5868ff"
   },
   "outputs": [
    {
     "data": {
      "text/plain": [
       "<matplotlib.image.AxesImage at 0x1e606516650>"
      ]
     },
     "execution_count": 11,
     "metadata": {},
     "output_type": "execute_result"
    },
    {
     "data": {
      "image/png": "[encoded data removed]",
      "text/plain": [
       "<Figure size 640x480 with 1 Axes>"
      ]
     },
     "metadata": {},
     "output_type": "display_data"
    }
   ],
   "source": [
    "### Random pixel size creation (1, 100)\n",
    "random_pixels = tf.random.normal([1,100])\n",
    "\n",
    "### Model application\n",
    "rand_img = generator(random_pixels, training=False)\n",
    "\n",
    "### Model visualisation\n",
    "plt.imshow(rand_img.numpy().squeeze(), cmap=\"gray\")"
   ]
  },
  {
   "cell_type": "markdown",
   "metadata": {
    "id": "ss1mVkqanzy-"
   },
   "source": [
    "# Discriminator\n",
    "\n",
    "The discriminator model is just a convolutional neural network classifier, let's build this model:"
   ]
  },
  {
   "cell_type": "code",
   "execution_count": 12,
   "metadata": {
    "executionInfo": {
     "elapsed": 5125,
     "status": "ok",
     "timestamp": 1619698062971,
     "user": {
      "displayName": "Charles Tanguy",
      "photoUrl": "",
      "userId": "11930294859591867631"
     },
     "user_tz": -120
    },
    "id": "06z8ep7Vpp1n"
   },
   "outputs": [],
   "source": [
    "discriminator = tf.keras.Sequential([        \n",
    "        tf.keras.layers.Conv2D(64, (3, 3), strides=(2,2), padding='same', input_shape=[28, 28, 1]),\n",
    "        tf.keras.layers.ReLU(),\n",
    "        tf.keras.layers.Conv2D(128, (3, 3), strides=(2,2), padding=\"same\"),\n",
    "        tf.keras.layers.ReLU(),\n",
    "        tf.keras.layers.Flatten(),\n",
    "        tf.keras.layers.Dense(1, activation=\"sigmoid\")      \n",
    "    ])"
   ]
  },
  {
   "cell_type": "markdown",
   "metadata": {
    "id": "alK201znq3RH"
   },
   "source": [
    "# Loss functions\n",
    "\n",
    "In order to build our loss functions we need to convert this unsupervised problem into a supervised one by assigning target values to real data and fake data on the fly. We will assign label `0` to fake data and `1` to real data for the discriminator loss, and `1` to fake data for the generator loss.\n",
    "\n",
    "For this we will use two functions `tf.ones_like` and `tf.zeros_like`"
   ]
  },
  {
   "cell_type": "code",
   "execution_count": 13,
   "metadata": {
    "colab": {
     "base_uri": "https://localhost:8080/"
    },
    "executionInfo": {
     "elapsed": 5113,
     "status": "ok",
     "timestamp": 1619698062972,
     "user": {
      "displayName": "Charles Tanguy",
      "photoUrl": "",
      "userId": "11930294859591867631"
     },
     "user_tz": -120
    },
    "id": "t3lfebzquFh3",
    "outputId": "8e23ed91-4cf5-4ecd-9efb-b0be3f325a17"
   },
   "outputs": [
    {
     "name": "stdout",
     "output_type": "stream",
     "text": [
      "original tensor: tf.Tensor(\n",
      "[[1 2]\n",
      " [3 4]], shape=(2, 2), dtype=int32)\n",
      "\n",
      " ones like: tf.Tensor(\n",
      "[[1 1]\n",
      " [1 1]], shape=(2, 2), dtype=int32)\n",
      "\n",
      " zeros like: tf.Tensor(\n",
      "[[0 0]\n",
      " [0 0]], shape=(2, 2), dtype=int32)\n"
     ]
    }
   ],
   "source": [
    "# let's create a tensor\n",
    "t = tf.constant([[1,2],[3,4]])\n",
    "print(\"original tensor:\", t)\n",
    "\n",
    "ones = tf.ones_like(t)\n",
    "print(\"\\n ones like:\", ones)\n",
    "\n",
    "zeros = tf.zeros_like(t)\n",
    "print(\"\\n zeros like:\", zeros)"
   ]
  },
  {
   "cell_type": "markdown",
   "metadata": {
    "id": "H7-DNAE9s-F-"
   },
   "source": [
    "## Discriminator loss\n",
    "\n",
    "Let's define the discriminator loss:"
   ]
  },
  {
   "cell_type": "code",
   "execution_count": 14,
   "metadata": {
    "executionInfo": {
     "elapsed": 5112,
     "status": "ok",
     "timestamp": 1619698062973,
     "user": {
      "displayName": "Charles Tanguy",
      "photoUrl": "",
      "userId": "11930294859591867631"
     },
     "user_tz": -120
    },
    "id": "rlbM4zSttEMl"
   },
   "outputs": [],
   "source": [
    "bce = tf.keras.losses.BinaryCrossentropy()\n",
    "\n",
    "# It can be useful to add some noise on the labels asociated with the real outputs\n",
    "# and fake outputs. This serves multiple purposes:\n",
    "# We do not want the discriminator to learn to detect the real images too quickly\n",
    "# otherwise the generator will not be able to learn.\n",
    "# It may also be useful to add noise to the fake labels for the same reason\n",
    "# This is called label smoothing and may serve as regularization for the GAN's \n",
    "# training process, leading to more stable results\n",
    "\n",
    "def discriminator_loss(real_outputs, fake_outputs):\n",
    "  real_label = tf.ones_like(real_outputs) - 0.05 * tf.random.uniform(shape=real_outputs.shape)\n",
    "  real_loss = bce(real_label, real_outputs) # for real data disc is expected to predict 1\n",
    "  fake_label = tf.zeros_like(fake_outputs) + 0.05 * tf.random.uniform(shape=fake_outputs.shape)\n",
    "  fake_loss = bce(fake_label, fake_outputs) # for fake data disc is expected to predict 0\n",
    "  \n",
    "  total_loss = real_loss + fake_loss # the disc loss is the sum of those two losses\n",
    "  # ability to catch the fake + ability to clear the real data\n",
    "  return total_loss"
   ]
  },
  {
   "cell_type": "markdown",
   "metadata": {
    "id": "dzsZs6Fdtzia"
   },
   "source": [
    "## Generator loss\n",
    "\n",
    "Let's define the generator loss"
   ]
  },
  {
   "cell_type": "code",
   "execution_count": 15,
   "metadata": {
    "executionInfo": {
     "elapsed": 5112,
     "status": "ok",
     "timestamp": 1619698062974,
     "user": {
      "displayName": "Charles Tanguy",
      "photoUrl": "",
      "userId": "11930294859591867631"
     },
     "user_tz": -120
    },
    "id": "FuUeNw-9qVby"
   },
   "outputs": [],
   "source": [
    "# We do use label smoothing for the generator model because we want it to perform\n",
    "# as good as possible.\n",
    "def generator_loss(fake_outputs):\n",
    "  return bce(tf.ones_like(fake_outputs), fake_outputs) # gen wants disc to think fake data is real (predicted as 1)"
   ]
  },
  {
   "cell_type": "markdown",
   "metadata": {
    "id": "2sO-8ER7wQFg"
   },
   "source": [
    "# Prepare the model for custom training\n",
    "\n",
    "Now let's prepare the model for training, since we have two different models to train, we need two different optimizers.\n",
    "Adam is usually a good choice for most deep learning models, however, GANs are very sensitive models and sometimes other training algorithms like `tf.keras.optimizers.RMSprop` can be a better choice!\n",
    "\n",
    "Note that the more difficult the distribution to model, the more sensitive to hyperparameters the model will become."
   ]
  },
  {
   "cell_type": "code",
   "execution_count": 16,
   "metadata": {
    "executionInfo": {
     "elapsed": 5110,
     "status": "ok",
     "timestamp": 1619698062974,
     "user": {
      "displayName": "Charles Tanguy",
      "photoUrl": "",
      "userId": "11930294859591867631"
     },
     "user_tz": -120
    },
    "id": "Jm2qae9KwgV_"
   },
   "outputs": [],
   "source": [
    "generator_optimizer = tf.keras.optimizers.Adam()\n",
    "discriminator_optimizer = tf.keras.optimizers.Adam()"
   ]
  },
  {
   "cell_type": "markdown",
   "metadata": {
    "id": "ugZRDsblftmL"
   },
   "source": [
    "## Custom training (General)\n",
    "\n",
    "Before we study the specific training loop for the GANs let's give a simple example of how it works in general.\n",
    "\n",
    "We will need a model, an optimizer, a loss function, and something new the `tf.GradientTape()` class, which will be useful for monitoring the gradient of tensorflow functions! (note that it works with any tensorflow operations on tensor, you are not limited certain types of models)\n",
    "\n",
    "Let's see how it works!"
   ]
  },
  {
   "cell_type": "code",
   "execution_count": 17,
   "metadata": {
    "colab": {
     "base_uri": "https://localhost:8080/"
    },
    "executionInfo": {
     "elapsed": 15391,
     "status": "ok",
     "timestamp": 1619699173675,
     "user": {
      "displayName": "Charles Tanguy",
      "photoUrl": "",
      "userId": "11930294859591867631"
     },
     "user_tz": -120
    },
    "id": "U_AqZC6kgjoZ",
    "outputId": "c4b5080c-0d01-466d-f8a8-c48ac266e694"
   },
   "outputs": [
    {
     "name": "stdout",
     "output_type": "stream",
     "text": [
      "tf.Tensor(2.3019166, shape=(), dtype=float32)\n",
      "tf.Tensor(2.2551773, shape=(), dtype=float32)\n",
      "tf.Tensor(2.2205343, shape=(), dtype=float32)\n",
      "tf.Tensor(2.19117, shape=(), dtype=float32)\n",
      "tf.Tensor(2.154108, shape=(), dtype=float32)\n",
      "tf.Tensor(2.059886, shape=(), dtype=float32)\n",
      "tf.Tensor(2.0056791, shape=(), dtype=float32)\n",
      "tf.Tensor(1.9257212, shape=(), dtype=float32)\n",
      "tf.Tensor(1.8148293, shape=(), dtype=float32)\n",
      "tf.Tensor(1.700037, shape=(), dtype=float32)\n"
     ]
    }
   ],
   "source": [
    "dataset_example = tf.data.Dataset.from_tensor_slices((X_train,y_train)).shuffle(len(X_train)).batch(BATCH_SIZE)\n",
    "\n",
    "model = tf.keras.Sequential([\n",
    "                             tf.keras.layers.Conv2D(128,3,padding=\"same\",input_shape=[X_train.shape[1],X_train.shape[2],1], activation=\"relu\"),\n",
    "                             tf.keras.layers.MaxPool2D(),\n",
    "                             tf.keras.layers.Conv2D(64,3,padding=\"same\", activation=\"relu\"),\n",
    "                             tf.keras.layers.MaxPool2D(),\n",
    "                             tf.keras.layers.Flatten(),\n",
    "                             tf.keras.layers.Dense(10, activation=\"softmax\")\n",
    "])\n",
    "\n",
    "opt = tf.keras.optimizers.Adam()\n",
    "\n",
    "loss_function = tf.keras.losses.SparseCategoricalCrossentropy()\n",
    "\n",
    "def train_step_example(image_batch, target_batch):\n",
    "  # this function will tape the gradient inside this \n",
    "  with tf.GradientTape() as tape:\n",
    "    output = model(image_batch) # compute the output\n",
    "    loss = loss_function(target_batch, output) # compute the loss\n",
    "    grads = tape.gradient(loss, model.trainable_variables) # calculate the gradient \n",
    "    # of the loss along the variables we want to update, we may choose other things\n",
    "    # than the trainable variables of the model, we can calculate the gradient\n",
    "    # for any set of variables that influence the loss function, we could for example\n",
    "    # calculate the gradient along the input values\n",
    "    opt.apply_gradients(zip(grads, model.trainable_variables)) # use the optimizer\n",
    "    # to update the variables thanks to the gradient\n",
    "  return loss\n",
    "\n",
    "# Training loop\n",
    "epochs = 1\n",
    "steps_per_epoch = 10\n",
    "for epoch in range(epochs):\n",
    "  for step in range(steps_per_epoch):\n",
    "    image, target = next(iter(dataset_example))\n",
    "    loss = train_step_example(image,target)\n",
    "    print(loss)"
   ]
  },
  {
   "cell_type": "markdown",
   "metadata": {
    "id": "9kHb_XgxmJn7"
   },
   "source": [
    "Now that you know the general principle for custom training, let's apply it to our GAN problem!"
   ]
  },
  {
   "cell_type": "markdown",
   "metadata": {
    "id": "1VM_-QSdxbrR"
   },
   "source": [
    "## Training Step\n",
    "\n",
    "Let's now code a function that will compute one gradient descent step on both models simultaneously"
   ]
  },
  {
   "cell_type": "code",
   "execution_count": 18,
   "metadata": {
    "id": "vhNl8oGRv451"
   },
   "outputs": [],
   "source": [
    "def train_step(images): # the function takes a batch of images as argument\n",
    "    noise = tf.random.normal([BATCH_SIZE, noise_dim]) # generate a batch of noise\n",
    "\n",
    "    # The GradientTape class is able to monitor and record the gradient of a given\n",
    "    # tensorflow function, we will use it here to calculate the gradients of our\n",
    "    # loss functions\n",
    "    # We will need a tape for each of the models\n",
    "    with tf.GradientTape() as gen_tape, tf.GradientTape() as disc_tape:\n",
    "      generated_images = generator(noise, training=True) # generate a batch of fake data\n",
    "      # the training=True argument is for the batch normalization\n",
    "\n",
    "      real_output = discriminator(images, training=True) # compute the real outputs from the real data\n",
    "      fake_output = discriminator(generated_images, training=True) # compute the fake outputs from the fake data\n",
    "\n",
    "      gen_loss = generator_loss(fake_output) # compute the generator loss\n",
    "      disc_loss = discriminator_loss(real_output, fake_output) # compute the discriminator loss\n",
    "\n",
    "      # the tf.GradientTape() .gradient(value, variables) method will calculate the gradient \n",
    "      # of a given function at point \"value\" according to \"variables\", note that this\n",
    "      # works because we built everything with tensorflow functions\n",
    "      gradients_of_generator = gen_tape.gradient(gen_loss, generator.trainable_variables) \n",
    "      gradients_of_discriminator = disc_tape.gradient(disc_loss, discriminator.trainable_variables)\n",
    "\n",
    "      # the tf.keras.optimizer .apply_gradients(zip(grad,variables)) method updates the \n",
    "      # variables by running variables = variables - learning_rate * grad\n",
    "      generator_optimizer.apply_gradients(zip(gradients_of_generator, generator.trainable_variables))\n",
    "      discriminator_optimizer.apply_gradients(zip(gradients_of_discriminator, discriminator.trainable_variables))"
   ]
  },
  {
   "cell_type": "markdown",
   "metadata": {
    "id": "-Ax790Bs1A9h"
   },
   "source": [
    "## Utility function\n",
    "\n",
    "Let's create one last function that will let us visualize the evolution of generated images of a fixed set of noise throughout training."
   ]
  },
  {
   "cell_type": "code",
   "execution_count": 19,
   "metadata": {
    "id": "puYEwoOI08Et"
   },
   "outputs": [],
   "source": [
    "def generate_and_save_images(model, epoch, test_input):\n",
    "  # Notice `training` is set to False.\n",
    "  # This is so all layers run in inference mode (batchnorm).\n",
    "  predictions = model(test_input, training=False)\n",
    "\n",
    "  fig = plt.figure(figsize=(4,4))\n",
    "\n",
    "  for i in range(predictions.shape[0]):\n",
    "      plt.subplot(4, 4, i+1)\n",
    "      plt.imshow(predictions[i, :, :, 0] * 255, cmap='gray')\n",
    "      plt.axis('off')\n",
    "\n",
    "  plt.savefig('image_at_epoch_{:04d}.png'.format(epoch))\n",
    "  plt.show()"
   ]
  },
  {
   "cell_type": "markdown",
   "metadata": {
    "id": "Itzz3T0H1aPT"
   },
   "source": [
    "## Training loop\n",
    "\n",
    "It's finally time to train our model and watch is improve its generation capabilites epoch after epoch!"
   ]
  },
  {
   "cell_type": "code",
   "execution_count": 20,
   "metadata": {
    "id": "HksY9wMI3NqF"
   },
   "outputs": [],
   "source": [
    "# Generate the fixed generated examples\n",
    "num_examples_to_generate = 16\n",
    "seed = tf.random.normal([num_examples_to_generate, noise_dim])"
   ]
  },
  {
   "cell_type": "code",
   "execution_count": 22,
   "metadata": {
    "colab": {
     "base_uri": "https://localhost:8080/",
     "height": 248
    },
    "executionInfo": {
     "elapsed": 2569053,
     "status": "ok",
     "timestamp": 1619631008676,
     "user": {
      "displayName": "Charles Tanguy",
      "photoUrl": "",
      "userId": "11930294859591867631"
     },
     "user_tz": -120
    },
    "id": "XdgRog0x1kyV",
    "outputId": "07c9a589-ac8d-4a3b-8f90-e476853d4765"
   },
   "outputs": [
    {
     "data": {
      "image/png": "[encoded data removed]",
      "text/plain": [
       "<Figure size 400x400 with 16 Axes>"
      ]
     },
     "metadata": {},
     "output_type": "display_data"
    }
   ],
   "source": [
    "EPOCHS = 1\n",
    "\n",
    "# loop over the number of epochs that we want to run\n",
    "for epoch in range(EPOCHS):\n",
    "  start = time.time()\n",
    "\n",
    "  # loop over each batch in the source dataset\n",
    "  for image_batch in dataset:\n",
    "    # Run a training step to update the parameters in both models\n",
    "    train_step(image_batch)\n",
    "\n",
    "  # Remove the previous image \n",
    "  display.clear_output(wait=True)\n",
    "  # Displays the new generated image\n",
    "  generate_and_save_images(generator,\n",
    "                           epoch + 1,\n",
    "                           seed)\n",
    "\n",
    "  print ('Time for epoch {} is {} sec'.format(epoch + 1, time.time()-start))\n",
    "\n",
    "# Génère la toute dernière image\n",
    "display.clear_output(wait=True)\n",
    "generate_and_save_images(generator,\n",
    "                         EPOCHS,\n",
    "                         seed)"
   ]
  },
  {
   "cell_type": "markdown",
   "metadata": {
    "id": "yuWiWJrimXPE"
   },
   "source": [
    "The results do not look too bad, now you can try playing arount with the hyper parameters, such as the smoothing of the labels etc in order to get more realistic images!"
   ]
  }
 ],
 "metadata": {
  "accelerator": "GPU",
  "colab": {
   "authorship_tag": "ABX9TyMnu7PwjnnnWHy1SRbREF8M",
   "collapsed_sections": [],
   "name": "Code_GANS.ipynb",
   "provenance": []
  },
  "kernelspec": {
   "display_name": "Python 3.10.2 64-bit",
   "language": "python",
   "name": "python3"
  },
  "language_info": {
   "codemirror_mode": {
    "name": "ipython",
    "version": 3
   },
   "file_extension": ".py",
   "mimetype": "text/x-python",
   "name": "python",
   "nbconvert_exporter": "python",
   "pygments_lexer": "ipython3",
   "version": "3.10.2"
  },
  "vscode": {
   "interpreter": {
    "hash": "23e0aedb6d47e040503db7fcf09a0dff3cea72eb7d5d4c2596a602b1504b448c"
   }
  }
 },
 "nbformat": 4,
 "nbformat_minor": 1
}
