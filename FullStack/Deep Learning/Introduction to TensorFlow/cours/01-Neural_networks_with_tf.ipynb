{
 "cells": [
  {
   "cell_type": "markdown",
   "metadata": {
    "id": "Y1eR59soVXMU"
   },
   "source": [
    "# Neural Networks with Tensorflow 🧠🧠\n",
    "\n",
    "Now that we have learned some theory and code free practical intuition about neural networks as well as the basics of data manipulation with tensorflow, it is time to startbuild models ourselves with its deep learning module: Keras!\n",
    "\n",
    "## What will you lean in this course?\n",
    "\n",
    "This course will focus on building our first neural networks using python code with the help of tensorflow and keras.\n",
    "\n",
    "* The layer class\n",
    "  * Dense layer\n",
    "  * BatchNormalization layer\n",
    "  * DropOut layer\n",
    "* Activation functions  \n",
    "* Regularizers\n",
    "* The Model class\n",
    "  * The sequential class\n",
    "  * Input class / Make model from input and output\n",
    "  * Make a forward pass with the model\n",
    "  * Manipulations on model objects\n",
    "    * Extract outputs with get_layer()\n",
    "    * Extract weights with .tranaible_variables attribute\n",
    "    * Manually change weights\n",
    "* Prepare the model for training\n",
    "  * Loss functions\n",
    "  * Optimizers\n",
    "    * ADAM\n",
    "    * Learning rate schedule\n",
    "  * Compile\n",
    "* Model training\n",
    "* Make predictions\n",
    "* Load and save models\n",
    "  * Checkpoints\n",
    "  * Save \n",
    "  * Load\n",
    "\n",
    "Everything in Keras is organized by `Class`, each building block of a deep learning model will require objects from a specific class, let's explore them one by one!\n"
   ]
  },
  {
   "cell_type": "markdown",
   "metadata": {
    "id": "U20gxtmHWLKl"
   },
   "source": [
    "## The Layer class 🚀🚀\n",
    "\n",
    "You can learn everything about the Layer class in the <a href=\"https://www.tensorflow.org/api_docs/python/tf/keras/layers/Layer\">documentation</a>. It is a class of objects that represent different types of neuron layers to be added to neural network achitectures."
   ]
  },
  {
   "cell_type": "markdown",
   "metadata": {
    "id": "cuPVQgjQdffq"
   },
   "source": [
    "### The Dense layer 💃\n",
    "\n",
    "The Dense layer is your standard fully connected (or densely connected) neuron layer.\n",
    "\n",
    "<img src=\"https://full-stack-assets.s3.eu-west-3.amazonaws.com/images/M08-DeepLearning/Dense2.png\" />\n",
    "\n",
    " It is a neuron that has a parameter assigned for each input value that is given to it, combines them before applying an activation function, let's see how to use it :"
   ]
  },
  {
   "cell_type": "code",
   "execution_count": 1,
   "metadata": {
    "id": "iDM-J6ABVV_E"
   },
   "outputs": [],
   "source": [
    "color_chart = [\"#4B9AC7\", \"#4BE8E0\", \"#9DD4F3\", \"#97FBF6\", \"#2A7FAF\", \"#23B1AB\", \"#0E3449\", \"#015955\"]\n",
    "import tensorflow as tf\n",
    "from tensorflow.keras.layers import Dense # all the layers are in tf.keras.layers\n",
    "\n",
    "dense = Dense(units=2, activation=\"relu\", input_shape=[3,])\n",
    "# units: the number of neurons on the layer\n",
    "# activation: the choice of activation function, the most common activation\n",
    "#    functions can be named with strings, but you can use keras functions\n",
    "#    or custom functions instead!\n",
    "# input_shape: is optional, it can be either a list or tuple indicating the shape\n",
    "#    of what will be entering the layer, we'll learn more about this later in the \n",
    "#    lecture"
   ]
  },
  {
   "cell_type": "markdown",
   "metadata": {
    "id": "OHfYzvSgjNxf"
   },
   "source": [
    "### BatchNormalization Layer 📊\n",
    "\n",
    "This we have not seen yet during the demo with tensorflow playground, it is a special layer whose role is not to learn patterns in the data but rather as its name indicates, to normalize the output of the preceeding layer in order for its values to be scaled accross one batch of data.\n",
    "\n",
    "<img src=\"https://full-stack-assets.s3.eu-west-3.amazonaws.com/images/M08-DeepLearning/BatchNorm3.png\" />\n",
    "\n",
    "As you see in the figure, each of the outputs from the previous layer is normalized independently so each of them has a mean of $0$ and a standard deviaition of $1$.\n",
    "\n",
    "Of course for each new batch passing forward the normalization will be fitted again on the batch of outputs preceeding the BatchNormalization layer and scaled accordingly.\n",
    "\n",
    "Now let's see how we can create such a layer with keras!"
   ]
  },
  {
   "cell_type": "code",
   "execution_count": 2,
   "metadata": {
    "id": "qLsK1KrpAJk1"
   },
   "outputs": [],
   "source": [
    "from tensorflow.keras.layers import BatchNormalization\n",
    "bn = BatchNormalization()\n",
    "# That's it you usually will not need anything else in order to instanciate\n",
    "# a batch normalization layer, but feel free to check the documentation\n",
    "# for additional information!"
   ]
  },
  {
   "cell_type": "markdown",
   "metadata": {
    "id": "O7qxBiUzAveu"
   },
   "source": [
    "One last thing you need to know about batch normalization, since we are basing the normalization on batches that the networks sees throughout the training, and as those change all the time, this layer will work differently during training and inference (the moment you ask the model to make a prediction after the training is done).\n",
    "\n",
    "During inference, this layer will use a moving average (that you have studied during the lecture on time series) of the mean and standard deviation calculated during the training process so that the normalization parameters are adapted to all the training data as best as possible. You won't have to worry so much about this in practice, but feel free to check the documentation for more details on how this layer works during inference."
   ]
  },
  {
   "cell_type": "markdown",
   "metadata": {
    "id": "u-xAi40JByon"
   },
   "source": [
    "### DropOut ♻️\n",
    "\n",
    "The DropOut layer is also not a trainable layer, it does not help the model detect patterns in the data, rather it helps prevent overfitting.\n",
    "\n",
    "In works in the following way, you can place the DropOut layer between two other layers, what it does is at each bach of data passing forward in the network it will **randomly** pick a portion of the outputs from the previous layer and set them to 0. This means the next layer will only be able to see a portion of the information that the DropOut layer has not touched, and this available portion changes at every nex batch!\n",
    "\n",
    "<img src=\"https://full-stack-assets.s3.eu-west-3.amazonaws.com/images/M08-DeepLearning/DropOut3.png\" />\n",
    "\n",
    "Let's explain how this prevents overfitting. Overfitting is what happens whenever your model fits the training data so close it's as if it learned by heart each and every example thatwas fed to it, and therefore becomes incampable of performing well on any data it has not seen before. Specifically for neural networks, it means that the neurons in the network over specialized in detecting some feature that does not describe well the data but rather very example specific characteristics.\n",
    "\n",
    "The DropOut layer prevents that by not allowing the network to access all the available information all the time, forcing the neurons not to specialize so much so that they can compensate for the neurons which outputs will be missing after the DropOut deactivates them. To make an analogy, if you take a shoe making workshop where all employees know how to build only one specific element of the shoe an no others, if one employee goes missing, it becomes impossible to make a single shoe, but if the employees have one main task they do well, and know enough about the other tasks, then they can compensate for others being absent and keep on making shoes. The same goes with neurons and their predictions.\n",
    "\n",
    "Let's now discover how to create a DropOut layer with code!"
   ]
  },
  {
   "cell_type": "code",
   "execution_count": 3,
   "metadata": {
    "id": "MrQr9J7HGWi1"
   },
   "outputs": [],
   "source": [
    "from tensorflow.keras.layers import Dropout\n",
    "do = Dropout(rate=0.2)\n",
    "# The important parameter when instanciating the DropOut layer is rate, it \n",
    "# indicates the proportion of outputs from the previous that will randomly\n",
    "# be set to zero at each batch passing forward.\n",
    "# The closer to one, the higher proportion of outputs set to zero and harder\n",
    "# it will be for the model to overfit, but also to train\n",
    "# The closer to zero, the lower proportion of outputs set to zero and the easier\n",
    "# it will be for the model to train, but also overfit"
   ]
  },
  {
   "cell_type": "markdown",
   "metadata": {
    "id": "dILCMhcDIdXg"
   },
   "source": [
    "## Activation functions 💡💡\n",
    "\n",
    "An exhaustive list of all pre-implemented activation functions in tensorflow may be found at <a href=\"https://www.tensorflow.org/api_docs/python/tf/keras/activations\">this link</a>. \n",
    "\n",
    "Activation functions can be used in different forms in tensorflow, they maybe added as an argument of layer objects and therefore take the form of character strings or functions:"
   ]
  },
  {
   "cell_type": "code",
   "execution_count": 4,
   "metadata": {
    "colab": {
     "base_uri": "https://localhost:8080/",
     "height": 542
    },
    "id": "cuMAXeElJsok",
    "outputId": "f3ac4d2e-cfa5-4f9c-a85e-b3a0ba0b03ca"
   },
   "outputs": [
    {
     "data": {
      "image/svg+xml": [
       "<svg class=\"main-svg\" xmlns=\"http://www.w3.org/2000/svg\" xmlns:xlink=\"http://www.w3.org/1999/xlink\" width=\"700\" height=\"450\" style=\"\" viewBox=\"0 0 700 450\"><rect x=\"0\" y=\"0\" width=\"700\" height=\"450\" style=\"fill: rgb(255, 255, 255); fill-opacity: 1;\"/><defs id=\"defs-512d51\"><g class=\"clips\"><clipPath id=\"clip512d51xyplot\" class=\"plotclip\"><rect width=\"504\" height=\"270\"/></clipPath><clipPath class=\"axesclip\" id=\"clip512d51x\"><rect x=\"80\" y=\"0\" width=\"504\" height=\"450\"/></clipPath><clipPath class=\"axesclip\" id=\"clip512d51y\"><rect x=\"0\" y=\"100\" width=\"700\" height=\"270\"/></clipPath><clipPath class=\"axesclip\" id=\"clip512d51xy\"><rect x=\"80\" y=\"100\" width=\"504\" height=\"270\"/></clipPath></g><g class=\"gradients\"/></defs><g class=\"bglayer\"><rect class=\"bg\" x=\"80\" y=\"100\" width=\"504\" height=\"270\" style=\"fill: rgb(229, 236, 246); fill-opacity: 1; stroke-width: 0;\"/></g><g class=\"layer-below\"><g class=\"imagelayer\"/><g class=\"shapelayer\"/></g><g class=\"cartesianlayer\"><g class=\"subplot xy\"><g class=\"layer-subplot\"><g class=\"shapelayer\"/><g class=\"imagelayer\"/></g><g class=\"gridlayer\"><g class=\"x\"><path class=\"xgrid crisp\" transform=\"translate(130.4,0)\" d=\"M0,100v270\" style=\"stroke: rgb(255, 255, 255); stroke-opacity: 1; stroke-width: 1px;\"/><path class=\"xgrid crisp\" transform=\"translate(231.2,0)\" d=\"M0,100v270\" style=\"stroke: rgb(255, 255, 255); stroke-opacity: 1; stroke-width: 1px;\"/><path class=\"xgrid crisp\" transform=\"translate(432.8,0)\" d=\"M0,100v270\" style=\"stroke: rgb(255, 255, 255); stroke-opacity: 1; stroke-width: 1px;\"/><path class=\"xgrid crisp\" transform=\"translate(533.6,0)\" d=\"M0,100v270\" style=\"stroke: rgb(255, 255, 255); stroke-opacity: 1; stroke-width: 1px;\"/></g><g class=\"y\"><path class=\"ygrid crisp\" transform=\"translate(0,365.31)\" d=\"M80,0h504\" style=\"stroke: rgb(255, 255, 255); stroke-opacity: 1; stroke-width: 1px;\"/><path class=\"ygrid crisp\" transform=\"translate(0,226.45)\" d=\"M80,0h504\" style=\"stroke: rgb(255, 255, 255); stroke-opacity: 1; stroke-width: 1px;\"/><path class=\"ygrid crisp\" transform=\"translate(0,157.02)\" d=\"M80,0h504\" style=\"stroke: rgb(255, 255, 255); stroke-opacity: 1; stroke-width: 1px;\"/></g></g><g class=\"zerolinelayer\"><path class=\"xzl zl crisp\" transform=\"translate(332,0)\" d=\"M0,100v270\" style=\"stroke: rgb(255, 255, 255); stroke-opacity: 1; stroke-width: 2px;\"/><path class=\"yzl zl crisp\" transform=\"translate(0,295.88)\" d=\"M80,0h504\" style=\"stroke: rgb(255, 255, 255); stroke-opacity: 1; stroke-width: 2px;\"/></g><path class=\"xlines-below\"/><path class=\"ylines-below\"/><g class=\"overlines-below\"/><g class=\"xaxislayer-below\"/><g class=\"yaxislayer-below\"/><g class=\"overaxes-below\"/><g class=\"plot\" transform=\"translate(80,100)\" clip-path=\"url('#clip512d51xyplot')\"><g class=\"scatterlayer mlayer\"><g class=\"trace scatter trace0802db\" style=\"stroke-miterlimit: 2; opacity: 1;\"><g class=\"fills\"/><g class=\"errorbars\"/><g class=\"lines\"><path class=\"js-line\" d=\"M0,195.88L252.51,195.53L253.52,194.83L414.11,84.22L415.12,83.52L504,22.3\" style=\"vector-effect: non-scaling-stroke; fill: none; stroke: rgb(75, 154, 199); stroke-opacity: 1; stroke-width: 2px; opacity: 1;\"/></g><g class=\"points\"/><g class=\"text\"/></g><g class=\"trace scatter trace8cee7f\" style=\"stroke-miterlimit: 2; opacity: 1;\"><g class=\"fills\"/><g class=\"errorbars\"/><g class=\"lines\"><path class=\"js-line\" d=\"M0,195.65L110.09,193.92L111.1,193.88L156.55,191.34L157.56,191.26L191.9,187.8L192.91,187.67L232.3,181.87L233.31,181.7L309.07,169.62L310.08,169.5L341.39,166.2L342.4,166.11L384.82,163.49L385.83,163.44L442.39,161.94L443.4,161.92L504,161.39\" style=\"vector-effect: non-scaling-stroke; fill: none; stroke: rgb(75, 232, 224); stroke-opacity: 1; stroke-width: 2px; opacity: 1;\"/></g><g class=\"points\"/><g class=\"text\"/></g><g class=\"trace scatter tracebe1444\" style=\"stroke-miterlimit: 2; opacity: 1;\"><g class=\"fills\"/><g class=\"errorbars\"/><g class=\"lines\"><path class=\"js-line\" d=\"M0,230.59L138.37,229.84L139.38,229.81L167.66,228.23L168.67,228.14L187.86,225.54L188.87,225.35L204.02,221.59L205.03,221.27L218.16,216.22L219.17,215.75L231.29,209.39L232.3,208.79L247.45,199L248.46,198.31L274.73,181.21L275.74,180.64L287.86,174.65L288.87,174.22L302,169.56L303.01,169.27L316.14,166.21L317.15,166.03L334.32,163.71L335.33,163.62L356.54,162.24L357.55,162.2L396.94,161.38L397.95,161.37L504,161.17\" style=\"vector-effect: non-scaling-stroke; fill: none; stroke: rgb(157, 212, 243); stroke-opacity: 1; stroke-width: 2px; opacity: 1;\"/></g><g class=\"points\"/><g class=\"text\"/></g><g class=\"trace scatter tracec0ab3a\" style=\"stroke-miterlimit: 2; opacity: 1;\"><g class=\"fills\"/><g class=\"errorbars\"/><g class=\"lines\"><path class=\"js-line\" d=\"M0,197.04L69.69,199.16L70.7,199.21L137.36,203.24L138.37,203.31L179.78,205.46L180.79,205.48L202,205.19L203.01,205.14L221.19,203.34L222.2,203.19L237.35,200.19L238.36,199.94L253.52,195.35L254.53,194.99L269.68,188.73L270.69,188.26L285.84,180.45L286.85,179.89L307.05,167.49L308.06,166.82L333.31,149.18L334.32,148.44L383.81,111.28L384.82,110.51L458.55,55.93L459.56,55.2L504,23.46\" style=\"vector-effect: non-scaling-stroke; fill: none; stroke: rgb(151, 251, 246); stroke-opacity: 1; stroke-width: 2px; opacity: 1;\"/></g><g class=\"points\"/><g class=\"text\"/></g><g class=\"trace scatter trace362533\" style=\"stroke-miterlimit: 2; opacity: 1;\"><g class=\"fills\"/><g class=\"errorbars\"/><g class=\"lines\"><path class=\"js-line\" d=\"M0,230.36L106.05,228.68L107.06,228.64L145.44,226.4L146.45,226.32L174.73,223.1L175.74,222.95L197.96,218.71L198.97,218.47L215.13,213.89L216.14,213.55L230.28,208.03L231.29,207.57L243.41,201.32L244.42,200.72L257.56,192.05L258.57,191.36L473.7,43.17L474.71,42.48L504,22.3\" style=\"vector-effect: non-scaling-stroke; fill: none; stroke: rgb(35, 177, 171); stroke-opacity: 1; stroke-width: 2px; opacity: 1;\"/></g><g class=\"points\"/><g class=\"text\"/></g><g class=\"trace scatter trace98145e\" style=\"stroke-miterlimit: 2; opacity: 1;\"><g class=\"fills\"/><g class=\"errorbars\"/><g class=\"lines\"><path class=\"js-line\" d=\"M0,256.5L77.77,254.99L78.78,254.95L117.16,252.71L118.17,252.62L142.41,249.97L143.42,249.83L163.62,246.34L164.63,246.13L182.81,241.44L183.82,241.13L198.97,235.6L199.98,235.17L213.11,228.7L214.12,228.12L226.24,220.3L227.25,219.56L238.36,210.34L239.37,209.4L249.47,198.86L250.48,197.69L253.52,194.78L254.53,194.05L504,13.5\" style=\"vector-effect: non-scaling-stroke; fill: none; stroke: rgb(42, 127, 175); stroke-opacity: 1; stroke-width: 2px; opacity: 1;\"/></g><g class=\"points\"/><g class=\"text\"/></g></g></g><g class=\"overplot\"/><path class=\"xlines-above crisp\" style=\"fill: none;\" d=\"M0,0\"/><path class=\"ylines-above crisp\" style=\"fill: none;\" d=\"M0,0\"/><g class=\"overlines-above\"/><g class=\"xaxislayer-above\"><g class=\"xtick\"><text text-anchor=\"middle\" x=\"0\" y=\"383\" transform=\"translate(130.4,0)\" style=\"font-family: 'Open Sans', verdana, arial, sans-serif; font-size: 12px; fill: rgb(42, 63, 95); fill-opacity: 1; white-space: pre;\">−4</text></g><g class=\"xtick\"><text text-anchor=\"middle\" x=\"0\" y=\"383\" transform=\"translate(231.2,0)\" style=\"font-family: 'Open Sans', verdana, arial, sans-serif; font-size: 12px; fill: rgb(42, 63, 95); fill-opacity: 1; white-space: pre;\">−2</text></g><g class=\"xtick\"><text text-anchor=\"middle\" x=\"0\" y=\"383\" transform=\"translate(332,0)\" style=\"font-family: 'Open Sans', verdana, arial, sans-serif; font-size: 12px; fill: rgb(42, 63, 95); fill-opacity: 1; white-space: pre;\">0</text></g><g class=\"xtick\"><text text-anchor=\"middle\" x=\"0\" y=\"383\" transform=\"translate(432.8,0)\" style=\"font-family: 'Open Sans', verdana, arial, sans-serif; font-size: 12px; fill: rgb(42, 63, 95); fill-opacity: 1; white-space: pre;\">2</text></g><g class=\"xtick\"><text text-anchor=\"middle\" x=\"0\" y=\"383\" transform=\"translate(533.6,0)\" style=\"font-family: 'Open Sans', verdana, arial, sans-serif; font-size: 12px; fill: rgb(42, 63, 95); fill-opacity: 1; white-space: pre;\">4</text></g></g><g class=\"yaxislayer-above\"><g class=\"ytick\"><text text-anchor=\"end\" x=\"79\" y=\"4.199999999999999\" transform=\"translate(0,365.31)\" style=\"font-family: 'Open Sans', verdana, arial, sans-serif; font-size: 12px; fill: rgb(42, 63, 95); fill-opacity: 1; white-space: pre;\">−2</text></g><g class=\"ytick\"><text text-anchor=\"end\" x=\"79\" y=\"4.199999999999999\" transform=\"translate(0,295.88)\" style=\"font-family: 'Open Sans', verdana, arial, sans-serif; font-size: 12px; fill: rgb(42, 63, 95); fill-opacity: 1; white-space: pre;\">0</text></g><g class=\"ytick\"><text text-anchor=\"end\" x=\"79\" y=\"4.199999999999999\" transform=\"translate(0,226.45)\" style=\"font-family: 'Open Sans', verdana, arial, sans-serif; font-size: 12px; fill: rgb(42, 63, 95); fill-opacity: 1; white-space: pre;\">2</text></g><g class=\"ytick\"><text text-anchor=\"end\" x=\"79\" y=\"4.199999999999999\" transform=\"translate(0,157.02)\" style=\"font-family: 'Open Sans', verdana, arial, sans-serif; font-size: 12px; fill: rgb(42, 63, 95); fill-opacity: 1; white-space: pre;\">4</text></g></g><g class=\"overaxes-above\"/></g></g><g class=\"polarlayer\"/><g class=\"ternarylayer\"/><g class=\"geolayer\"/><g class=\"funnelarealayer\"/><g class=\"pielayer\"/><g class=\"treemaplayer\"/><g class=\"sunburstlayer\"/><g class=\"glimages\"/><defs id=\"topdefs-512d51\"><g class=\"clips\"/><clipPath id=\"legend512d51\"><rect width=\"94\" height=\"124\" x=\"0\" y=\"0\"/></clipPath></defs><g class=\"layer-above\"><g class=\"imagelayer\"/><g class=\"shapelayer\"/></g><g class=\"infolayer\"><g class=\"legend\" pointer-events=\"all\" transform=\"translate(594.08,100)\"><rect class=\"bg\" shape-rendering=\"crispEdges\" style=\"stroke: rgb(68, 68, 68); stroke-opacity: 1; fill: rgb(255, 255, 255); fill-opacity: 1; stroke-width: 0px;\" width=\"94\" height=\"124\" x=\"0\" y=\"0\"/><g class=\"scrollbox\" transform=\"\" clip-path=\"url('#legend512d51')\"><g class=\"groups\"><g class=\"traces\" style=\"opacity: 1;\" transform=\"translate(0,14.5)\"><text class=\"legendtext\" text-anchor=\"start\" x=\"40\" y=\"4.680000000000001\" style=\"font-family: 'Open Sans', verdana, arial, sans-serif; font-size: 12px; fill: rgb(42, 63, 95); fill-opacity: 1; white-space: pre;\">ReLu</text><g class=\"layers\" style=\"opacity: 1;\"><g class=\"legendfill\"/><g class=\"legendlines\"><path class=\"js-line\" d=\"M5,0h30\" style=\"fill: none; stroke: rgb(75, 154, 199); stroke-opacity: 1; stroke-width: 2px;\"/></g><g class=\"legendsymbols\"><g class=\"legendpoints\"/></g></g><rect class=\"legendtoggle\" x=\"0\" y=\"-9.5\" width=\"88.703125\" height=\"19\" style=\"fill: rgb(0, 0, 0); fill-opacity: 0;\"/></g><g class=\"traces\" style=\"opacity: 1;\" transform=\"translate(0,33.5)\"><text class=\"legendtext\" text-anchor=\"start\" x=\"40\" y=\"4.680000000000001\" style=\"font-family: 'Open Sans', verdana, arial, sans-serif; font-size: 12px; fill: rgb(42, 63, 95); fill-opacity: 1; white-space: pre;\">Sigmoid</text><g class=\"layers\" style=\"opacity: 1;\"><g class=\"legendfill\"/><g class=\"legendlines\"><path class=\"js-line\" d=\"M5,0h30\" style=\"fill: none; stroke: rgb(75, 232, 224); stroke-opacity: 1; stroke-width: 2px;\"/></g><g class=\"legendsymbols\"><g class=\"legendpoints\"/></g></g><rect class=\"legendtoggle\" x=\"0\" y=\"-9.5\" width=\"88.703125\" height=\"19\" style=\"fill: rgb(0, 0, 0); fill-opacity: 0;\"/></g><g class=\"traces\" style=\"opacity: 1;\" transform=\"translate(0,52.5)\"><text class=\"legendtext\" text-anchor=\"start\" x=\"40\" y=\"4.680000000000001\" style=\"font-family: 'Open Sans', verdana, arial, sans-serif; font-size: 12px; fill: rgb(42, 63, 95); fill-opacity: 1; white-space: pre;\">TanH</text><g class=\"layers\" style=\"opacity: 1;\"><g class=\"legendfill\"/><g class=\"legendlines\"><path class=\"js-line\" d=\"M5,0h30\" style=\"fill: none; stroke: rgb(157, 212, 243); stroke-opacity: 1; stroke-width: 2px;\"/></g><g class=\"legendsymbols\"><g class=\"legendpoints\"/></g></g><rect class=\"legendtoggle\" x=\"0\" y=\"-9.5\" width=\"88.703125\" height=\"19\" style=\"fill: rgb(0, 0, 0); fill-opacity: 0;\"/></g><g class=\"traces\" style=\"opacity: 1;\" transform=\"translate(0,71.5)\"><text class=\"legendtext\" text-anchor=\"start\" x=\"40\" y=\"4.680000000000001\" style=\"font-family: 'Open Sans', verdana, arial, sans-serif; font-size: 12px; fill: rgb(42, 63, 95); fill-opacity: 1; white-space: pre;\">Swish</text><g class=\"layers\" style=\"opacity: 1;\"><g class=\"legendfill\"/><g class=\"legendlines\"><path class=\"js-line\" d=\"M5,0h30\" style=\"fill: none; stroke: rgb(151, 251, 246); stroke-opacity: 1; stroke-width: 2px;\"/></g><g class=\"legendsymbols\"><g class=\"legendpoints\"/></g></g><rect class=\"legendtoggle\" x=\"0\" y=\"-9.5\" width=\"88.703125\" height=\"19\" style=\"fill: rgb(0, 0, 0); fill-opacity: 0;\"/></g><g class=\"traces\" style=\"opacity: 1;\" transform=\"translate(0,90.5)\"><text class=\"legendtext\" text-anchor=\"start\" x=\"40\" y=\"4.680000000000001\" style=\"font-family: 'Open Sans', verdana, arial, sans-serif; font-size: 12px; fill: rgb(42, 63, 95); fill-opacity: 1; white-space: pre;\">Elu</text><g class=\"layers\" style=\"opacity: 1;\"><g class=\"legendfill\"/><g class=\"legendlines\"><path class=\"js-line\" d=\"M5,0h30\" style=\"fill: none; stroke: rgb(35, 177, 171); stroke-opacity: 1; stroke-width: 2px;\"/></g><g class=\"legendsymbols\"><g class=\"legendpoints\"/></g></g><rect class=\"legendtoggle\" x=\"0\" y=\"-9.5\" width=\"88.703125\" height=\"19\" style=\"fill: rgb(0, 0, 0); fill-opacity: 0;\"/></g><g class=\"traces\" style=\"opacity: 1;\" transform=\"translate(0,109.5)\"><text class=\"legendtext\" text-anchor=\"start\" x=\"40\" y=\"4.680000000000001\" style=\"font-family: 'Open Sans', verdana, arial, sans-serif; font-size: 12px; fill: rgb(42, 63, 95); fill-opacity: 1; white-space: pre;\">Selu</text><g class=\"layers\" style=\"opacity: 1;\"><g class=\"legendfill\"/><g class=\"legendlines\"><path class=\"js-line\" d=\"M5,0h30\" style=\"fill: none; stroke: rgb(42, 127, 175); stroke-opacity: 1; stroke-width: 2px;\"/></g><g class=\"legendsymbols\"><g class=\"legendpoints\"/></g></g><rect class=\"legendtoggle\" x=\"0\" y=\"-9.5\" width=\"88.703125\" height=\"19\" style=\"fill: rgb(0, 0, 0); fill-opacity: 0;\"/></g></g></g><rect class=\"scrollbar\" rx=\"20\" ry=\"3\" width=\"0\" height=\"0\" style=\"fill: rgb(128, 139, 164); fill-opacity: 1;\" x=\"0\" y=\"0\"/></g><g class=\"g-gtitle\"/><g class=\"g-xtitle\"/><g class=\"g-ytitle\"/></g></svg>"
      ]
     },
     "metadata": {},
     "output_type": "display_data"
    }
   ],
   "source": [
    "from tensorflow.keras.activations import * # contains all the ativation functions\n",
    "# in the form of python functions\n",
    "import numpy as np\n",
    "from plotly import graph_objects as go\n",
    "\n",
    "x = np.linspace(-5,5,500)\n",
    "\n",
    "fig = go.Figure(data=[\n",
    "                      go.Scatter(x=x,\n",
    "                                 y=relu(x), # relu activation function\n",
    "                                 mode = \"lines\",\n",
    "                                 name = \"ReLu\",\n",
    "                                 line=dict(\n",
    "                                     color=color_chart[0]\n",
    "                                 )),\n",
    "                      go.Scatter(x=x,\n",
    "                                 y=sigmoid(x), # sigmoid activation function\n",
    "                                 mode = \"lines\",\n",
    "                                 name = \"Sigmoid\",\n",
    "                                 line=dict(\n",
    "                                     color=color_chart[1]\n",
    "                                 )),\n",
    "                      go.Scatter(x=x,\n",
    "                                 y=tanh(x), # tanh activation function\n",
    "                                 mode = \"lines\",\n",
    "                                 name = \"TanH\",\n",
    "                                 line=dict(\n",
    "                                     color=color_chart[2]\n",
    "                                 )),\n",
    "                      go.Scatter(x=x,\n",
    "                                 y=swish(x), # swish activation function\n",
    "                                 mode = \"lines\",\n",
    "                                 name = \"Swish\",\n",
    "                                 line=dict(\n",
    "                                     color=color_chart[3]\n",
    "                                 )),\n",
    "                      go.Scatter(x=x,\n",
    "                                 y=elu(x), # elu activation function, mix of tanh and relu\n",
    "                                 mode = \"lines\",\n",
    "                                 name = \"Elu\",\n",
    "                                 line=dict(\n",
    "                                     color=color_chart[5]\n",
    "                                 )),\n",
    "                      go.Scatter(x=x,\n",
    "                                 y=selu(x), # same as elu but converges to lower for negative values\n",
    "                                 mode = \"lines\",\n",
    "                                 name = \"Selu\",\n",
    "                                 line=dict(\n",
    "                                     color=color_chart[4]\n",
    "                                 ))\n",
    "])\n",
    "\n",
    "fig.show(\"svg\")\n",
    "\n",
    "# another activation function we have'nt yet talked about although it will come\n",
    "# in handy for multi classification problems is \"softmax\" we'll have many\n",
    "# occasions to use it in practice."
   ]
  },
  {
   "cell_type": "markdown",
   "metadata": {
    "id": "203NZmQSPJmw"
   },
   "source": [
    "These can all be referred to as their name as character strings: \"relu\", \"sigmoid, \"tanh\" etc...\n",
    "\n",
    "Another way of adding activation functions in a network is to use their layer form and add them as components of the network, it will simply apply the activation functions to all the outputs coming from the previous layer.\n",
    "\n",
    "Let's see how that works with code:"
   ]
  },
  {
   "cell_type": "code",
   "execution_count": 5,
   "metadata": {
    "id": "UEVMzO4gP75W"
   },
   "outputs": [],
   "source": [
    "from tensorflow.keras.layers import ReLU, LeakyReLU, ELU # not all activation\n",
    "# are available in this form we are selecting three examples here\n",
    "\n",
    "relu_ = ReLU()\n",
    "lrelu = LeakyReLU(alpha=0.1) # alpha is the slope for negative input values\n",
    "elu_ = ELU()"
   ]
  },
  {
   "cell_type": "markdown",
   "metadata": {
    "id": "zy3MLZg5iuvH"
   },
   "source": [
    "## Regularizers 📐📐\n",
    "\n",
    "Regularizers are a class of objects that help up add regularization inside our network layers, they can be found <a href=\"https://www.tensorflow.org/api_docs/python/tf/keras/regularizers\"> here </a>.\n",
    "\n",
    "With them we will be able to add L1 (Lasso) regularization, L2 (Ridge), or both at the same time manually in each layer of our neural network model. Let's see how this works with code:"
   ]
  },
  {
   "cell_type": "code",
   "execution_count": 6,
   "metadata": {
    "id": "xGlft9i2gd30"
   },
   "outputs": [],
   "source": [
    "from tensorflow.keras.regularizers import L1, L2, L1L2\n",
    "\n",
    "l1 = L1(l1=0.01) # the l1 parameter sets the strength of the regularization, the\n",
    "# higher l1 is, the more parameters in the layer will be set to zero\n",
    "\n",
    "l2 = L2(l2=0.01) # the l2 parameter indicates the strength of the regularization,\n",
    "# the higher l2 is, the smaller absolut values the parameters on the lay will be\n",
    "\n",
    "l1l2 = L1L2(l1=0.01, l2=0.1) # l1 sets the strengthof the Lasso penalty while\n",
    "# l2 sets the strength of the Ridge penalty\n",
    "\n",
    "# In order to include these in a specific layer you should proceed as follows:\n",
    "dense_L2 = Dense(units=4, activation=\"relu\", kernel_regularizer=l2)\n",
    "dense_L2 = Dense(units=4, activation=\"relu\", kernel_regularizer=\"l2\") # applies \n",
    "# L2 regularization with default values\n",
    "\n",
    "# This technique forces you to manually add regularization to specific layers\n",
    "# as opposed to the whole model."
   ]
  },
  {
   "cell_type": "markdown",
   "metadata": {
    "id": "UwvgYEceYf8C"
   },
   "source": [
    "## The Model class 🔮🔮\n",
    "\n",
    "The class `Model` will represent the objects containing the neural networks so that we can easily train them, make predictions very much like we did using sklearn. The only difference here is that we have many more possibilities when it comes to the way we can build different types of models.\n",
    "  "
   ]
  },
  {
   "cell_type": "markdown",
   "metadata": {
    "id": "MEuvObRbdc5h"
   },
   "source": [
    "### Sequential models ✈️\n",
    "\n",
    "The easiest to build a neural network model in tensorflow is by using the subclass `Sequential`, this will let you create neural network models with layers stacked on top of each other, where the input travels from the bottom layer all the way to the top layer sequentially.\n",
    "\n",
    "Let's see how we can build a super simple neural network model using code:"
   ]
  },
  {
   "cell_type": "code",
   "execution_count": 7,
   "metadata": {
    "colab": {
     "base_uri": "https://localhost:8080/"
    },
    "id": "4YCQB1OCartv",
    "outputId": "78e00ce9-773b-477e-ab25-f6521e35cb08"
   },
   "outputs": [
    {
     "name": "stdout",
     "output_type": "stream",
     "text": [
      "Model: \"sequential\"\n",
      "_________________________________________________________________\n",
      "Layer (type)                 Output Shape              Param #   \n",
      "=================================================================\n",
      "dense_3 (Dense)              (None, 8)                 24        \n",
      "_________________________________________________________________\n",
      "batch_normalization_1 (Batch (None, 8)                 32        \n",
      "_________________________________________________________________\n",
      "dense_4 (Dense)              (None, 4)                 36        \n",
      "_________________________________________________________________\n",
      "dense_5 (Dense)              (None, 1)                 5         \n",
      "=================================================================\n",
      "Total params: 97\n",
      "Trainable params: 81\n",
      "Non-trainable params: 16\n",
      "_________________________________________________________________\n"
     ]
    }
   ],
   "source": [
    "from tensorflow.keras.models import Sequential\n",
    "\n",
    "# let's how we can create a model with three Dense layers by using the .add method\n",
    "sequential_model = Sequential()\n",
    "sequential_model.add(Dense(8,\"relu\", input_shape=[2])) # indicate in the first layer\n",
    "# the shape of the input you will feed it\n",
    "# for example tabular data with 2 columns -> input_shape = [2]\n",
    "sequential_model.add(BatchNormalization())\n",
    "sequential_model.add(Dense(4,\"relu\"))\n",
    "sequential_model.add(Dense(1,\"sigmoid\"))\n",
    "\n",
    "# In order to get a sense of what the model looks like, use the .summary() method\n",
    "sequential_model.summary()\n",
    "# Layer (type): indicates the name of the layer and its type\n",
    "# Output Shape: indicates the shape of the output from the layer\n",
    "# Param #: indicates the number of parameters on this layer, for example on the\n",
    "#   first layer, there are 8 neurons that receive 2 variables, each neuron has\n",
    "#   a weight for each incoming input, thats 2x8=16, plus one bias per neuron\n",
    "#   that's 8, 16+8=24 parameters in total.\n",
    "\n",
    "# Note on shapes: in (None,8) the None represents the batch size, but since the\n",
    "# model can work with batches of any sizes it will always say None \n",
    "\n",
    "# Total params: Indicates the number of parameters in total in the model.\n",
    "# Trainable params: Indicates the number of parameters that will be updated by\n",
    "#   gradient descent during training.\n",
    "# Non-trainable params: Indicates the numberof parameters that will not be updated\n",
    "#   by gradient descent during training. It is the case for batchnormalization\n",
    "#   parameters for example, or parameters that we expecitally chose not to train,\n",
    "#   but more on that in further lectures."
   ]
  },
  {
   "cell_type": "code",
   "execution_count": 8,
   "metadata": {
    "colab": {
     "base_uri": "https://localhost:8080/"
    },
    "id": "KlyZmosVd48A",
    "outputId": "8d6bf76d-5458-40e4-e541-95cf8243ada6"
   },
   "outputs": [
    {
     "name": "stdout",
     "output_type": "stream",
     "text": [
      "Model: \"sequential_1\"\n",
      "_________________________________________________________________\n",
      "Layer (type)                 Output Shape              Param #   \n",
      "=================================================================\n",
      "dense_6 (Dense)              (None, 8)                 24        \n",
      "_________________________________________________________________\n",
      "batch_normalization_2 (Batch (None, 8)                 32        \n",
      "_________________________________________________________________\n",
      "dense_7 (Dense)              (None, 4)                 36        \n",
      "_________________________________________________________________\n",
      "dense_8 (Dense)              (None, 1)                 5         \n",
      "=================================================================\n",
      "Total params: 97\n",
      "Trainable params: 81\n",
      "Non-trainable params: 16\n",
      "_________________________________________________________________\n"
     ]
    }
   ],
   "source": [
    "# another way of building a sequential model is to directly feed a list of layers\n",
    "# during instanciation:\n",
    "\n",
    "sequential_model2 = Sequential([\n",
    "                                Dense(8, \"relu\", input_shape=[2]),\n",
    "                                BatchNormalization(),\n",
    "                                Dense(4,\"relu\"),\n",
    "                                Dense(1, \"sigmoid\")\n",
    "])\n",
    "\n",
    "sequential_model2.summary()\n",
    "\n",
    "# the model is identical to the one created before even though we built them in\n",
    "# different ways."
   ]
  },
  {
   "cell_type": "code",
   "execution_count": 9,
   "metadata": {
    "colab": {
     "base_uri": "https://localhost:8080/",
     "height": 533
    },
    "id": "27SLep8Ne9fN",
    "outputId": "b6d04b29-fe14-4129-f821-384326e1acea"
   },
   "outputs": [
    {
     "data": {
      "image/png": "[encoded data removed]",
      "text/plain": [
       "<IPython.core.display.Image object>"
      ]
     },
     "execution_count": 9,
     "metadata": {
      "tags": []
     },
     "output_type": "execute_result"
    }
   ],
   "source": [
    "# Here is another way of visualizing your model that is especially convenient\n",
    "# with more complicated architecture:\n",
    "tf.keras.utils.plot_model(\n",
    "    sequential_model,\n",
    "    show_shapes=True, \n",
    "    show_dtype=True\n",
    ")"
   ]
  },
  {
   "cell_type": "markdown",
   "metadata": {
    "id": "OFMoYcVlgvgp"
   },
   "source": [
    "### Input class / Make model from inputs and outputs 🚀\n",
    "\n",
    "In case you want to make more complicated architectures, you will need to use inputs object, that allow you to set the shape of what needs to go into the model and then build the model layer by layer in a way we will show you in the code! \n"
   ]
  },
  {
   "cell_type": "code",
   "execution_count": 10,
   "metadata": {
    "colab": {
     "base_uri": "https://localhost:8080/",
     "height": 903
    },
    "id": "6-fhlmxu0Zdv",
    "outputId": "df2dbc05-efd5-46cc-f9ac-2a25ae8c8228"
   },
   "outputs": [
    {
     "name": "stdout",
     "output_type": "stream",
     "text": [
      "output: KerasTensor(type_spec=TensorSpec(shape=(None, 1), dtype=tf.float32, name=None), name='dense_13/Sigmoid:0', description=\"created by layer 'dense_13'\")\n"
     ]
    },
    {
     "data": {
      "image/png": "[encoded data removed]",
      "text/plain": [
       "<IPython.core.display.Image object>"
      ]
     },
     "execution_count": 10,
     "metadata": {
      "tags": []
     },
     "output_type": "execute_result"
    }
   ],
   "source": [
    "from tensorflow.keras import Input\n",
    "\n",
    "input = Input(shape=[2]) # all you need to do is to indicate the shape of the\n",
    "# input data that will come in the model\n",
    "\n",
    "# we can than instanciate the layers we will use in the model\n",
    "dense1 = Dense(8,\"relu\")\n",
    "dense2a = Dense(4,\"relu\")\n",
    "dense2b = Dense(4,\"relu\")\n",
    "dense2c = Dense(4,\"relu\")\n",
    "dense3 = Dense(1,\"sigmoid\")\n",
    "bn = BatchNormalization()\n",
    "do = Dropout(0.2)\n",
    "\n",
    "# then let's start building the model by feeding the input to the first layer\n",
    "# then to all the other layers\n",
    "x = dense1(input)\n",
    "x = bn(x)\n",
    "x = do(x)\n",
    "xa = dense2a(x)\n",
    "xb = dense2b(x)\n",
    "xc = dense2c(xb)\n",
    "x = tf.keras.layers.concatenate([xa,xc])\n",
    "output = dense3(x)\n",
    "\n",
    "print('output:',output)\n",
    "\n",
    "model = tf.keras.Model(inputs=input, outputs=output) # we now can form the model\n",
    "# by using the class Model and passing it two arguments, the argument inputs \n",
    "# that needs to be of the class Input or a list of Input, and outputs that needs to be a tensor\n",
    "# or list of tensors\n",
    "\n",
    "tf.keras.utils.plot_model(model, show_shapes=True, show_dtype=True)"
   ]
  },
  {
   "cell_type": "markdown",
   "metadata": {
    "id": "AFUo20ru3WJJ"
   },
   "source": [
    "This technique is extremely useful because it makes it possible to deviate from the sequential architecture and make models with much more original ways or transforming inputs into outputs.\n",
    "\n",
    "### The last layer 🔚\n",
    "\n",
    "Before we move on with the lecture, we would like to insist on a very important aspect of building models with Keras. We saw that it was important to specify the input shape on the first layer of the model in order to be able to visualize our model with the methods `.summary()` and `tf.utils.plot_model()`. It is just as important to choose the final layer for the model according to the target variable we are trying to predict.\n",
    "\n",
    "For example, if we are dealing with a regression problem and $y$ can take any value in $\\mathbb{R}$, then the last layer should be a `Dense` layer with one neuron on it and a linear activation function so the output value is not limited in its range. If we are dealing with a classification problem with 10 classes, we need a `Dense` layer with 10 neurons on it and a `softmax` activation function, so the output represents the probability distribution accross the 10 classes of the target variable."
   ]
  },
  {
   "cell_type": "markdown",
   "metadata": {
    "id": "pnEVAWj34g_t"
   },
   "source": [
    "### Make a forward pass with the model ➡️\n",
    "\n",
    "Remember the forward pass from yesterday's lecture? Well now that we know how to build models with tensorflow and Keras, we are now going to learn how to transform the inputs into outputs with our models.\n",
    "\n",
    "Let's see how using code!"
   ]
  },
  {
   "cell_type": "code",
   "execution_count": 11,
   "metadata": {
    "colab": {
     "base_uri": "https://localhost:8080/"
    },
    "id": "ZcXvCzUF5AbH",
    "outputId": "1d4f570b-dceb-4ef9-98e7-b88f35d53128"
   },
   "outputs": [
    {
     "name": "stdout",
     "output_type": "stream",
     "text": [
      "Model: \"sequential\"\n",
      "_________________________________________________________________\n",
      "Layer (type)                 Output Shape              Param #   \n",
      "=================================================================\n",
      "dense_3 (Dense)              (None, 8)                 24        \n",
      "_________________________________________________________________\n",
      "batch_normalization_1 (Batch (None, 8)                 32        \n",
      "_________________________________________________________________\n",
      "dense_4 (Dense)              (None, 4)                 36        \n",
      "_________________________________________________________________\n",
      "dense_5 (Dense)              (None, 1)                 5         \n",
      "=================================================================\n",
      "Total params: 97\n",
      "Trainable params: 81\n",
      "Non-trainable params: 16\n",
      "_________________________________________________________________\n"
     ]
    }
   ],
   "source": [
    "# Let's reuse the sequential model we used before\n",
    "sequential_model.summary()"
   ]
  },
  {
   "cell_type": "code",
   "execution_count": 12,
   "metadata": {
    "colab": {
     "base_uri": "https://localhost:8080/"
    },
    "id": "ezC1mMSM5Lpw",
    "outputId": "5dd538a2-a83a-42e9-c634-2951cee70c8a"
   },
   "outputs": [
    {
     "name": "stdout",
     "output_type": "stream",
     "text": [
      "model output: tf.Tensor([[0.5]], shape=(1, 1), dtype=float32)\n"
     ]
    }
   ],
   "source": [
    "# Let's now create some input data in order to feed to the model\n",
    "data = np.array([[1,2]]) # we have to make a two dimensional array\n",
    "# with a number of rows and two columns because the input_shape is [2] which\n",
    "# translates to (None, 2) when you add the batch size.\n",
    "\n",
    "# Let's now feed this data to the model\n",
    "# The model class has a __call__ method so we can simply it as a function\n",
    "print(\"model output:\",sequential_model(data))\n",
    "\n",
    "# The model is not trained yet but this is actually what predictions will look\n",
    "# like when it will be"
   ]
  },
  {
   "cell_type": "markdown",
   "metadata": {
    "id": "aYk6T6K180zU"
   },
   "source": [
    "### Manipulations on model objects 👈\n",
    "\n",
    "Now that we know how to build models and make a forward pass, let's dig a little deeper and explore some other attributes and methods associated with model objects.\n",
    "\n",
    "#### Extract weights/parameters\n",
    "\n",
    "It can be difficult to interpret what deep learning models do and how they do it, and sometimes being able to see the weights inside the network make it possible to clarify what's going on. Let's discover how we can get the weights from the neural network model with code!"
   ]
  },
  {
   "cell_type": "code",
   "execution_count": 13,
   "metadata": {
    "colab": {
     "base_uri": "https://localhost:8080/"
    },
    "id": "emP2L5QH9kpx",
    "outputId": "6ac6c38d-f8c1-4f6e-defd-d9cc82909935"
   },
   "outputs": [
    {
     "name": "stdout",
     "output_type": "stream",
     "text": [
      "Model parameters: [<tf.Variable 'dense_9/kernel:0' shape=(2, 8) dtype=float32, numpy=\n",
      "array([[-0.5946521 ,  0.28459954,  0.39717805, -0.35661867, -0.30590343,\n",
      "        -0.17988586, -0.6898818 , -0.5421071 ],\n",
      "       [-0.7568759 ,  0.7406719 ,  0.35436285,  0.20985156, -0.05719483,\n",
      "         0.719517  , -0.34202597, -0.26949966]], dtype=float32)>, <tf.Variable 'dense_9/bias:0' shape=(8,) dtype=float32, numpy=array([0., 0., 0., 0., 0., 0., 0., 0.], dtype=float32)>, <tf.Variable 'batch_normalization_3/gamma:0' shape=(8,) dtype=float32, numpy=array([1., 1., 1., 1., 1., 1., 1., 1.], dtype=float32)>, <tf.Variable 'batch_normalization_3/beta:0' shape=(8,) dtype=float32, numpy=array([0., 0., 0., 0., 0., 0., 0., 0.], dtype=float32)>, <tf.Variable 'batch_normalization_3/moving_mean:0' shape=(8,) dtype=float32, numpy=array([0., 0., 0., 0., 0., 0., 0., 0.], dtype=float32)>, <tf.Variable 'batch_normalization_3/moving_variance:0' shape=(8,) dtype=float32, numpy=array([1., 1., 1., 1., 1., 1., 1., 1.], dtype=float32)>, <tf.Variable 'dense_11/kernel:0' shape=(8, 4) dtype=float32, numpy=\n",
      "array([[-0.3377655 ,  0.00162971, -0.03641033, -0.24277294],\n",
      "       [ 0.26282388,  0.5184496 , -0.02097243, -0.30662   ],\n",
      "       [-0.05937326, -0.5056064 ,  0.02058989,  0.27534705],\n",
      "       [ 0.07266402,  0.2887079 ,  0.076011  ,  0.5738295 ],\n",
      "       [-0.49259245, -0.68764925, -0.5419891 , -0.06837481],\n",
      "       [-0.16407228,  0.00115263, -0.33036134,  0.3638746 ],\n",
      "       [ 0.21966279,  0.13192976, -0.51657623, -0.1792745 ],\n",
      "       [-0.11765462, -0.39797398,  0.58424217, -0.12939167]],\n",
      "      dtype=float32)>, <tf.Variable 'dense_11/bias:0' shape=(4,) dtype=float32, numpy=array([0., 0., 0., 0.], dtype=float32)>, <tf.Variable 'dense_10/kernel:0' shape=(8, 4) dtype=float32, numpy=\n",
      "array([[-0.3122564 ,  0.14330584,  0.21461278,  0.45697623],\n",
      "       [ 0.51314324, -0.6437553 ,  0.5183235 ,  0.32342476],\n",
      "       [-0.10387397,  0.01315606,  0.6273051 ,  0.05625123],\n",
      "       [-0.551551  ,  0.0999192 ,  0.1586768 , -0.70202136],\n",
      "       [-0.11921287,  0.45470864,  0.23988736, -0.7008336 ],\n",
      "       [ 0.60425836,  0.17656964, -0.52892756, -0.09118944],\n",
      "       [ 0.12480235, -0.05204731, -0.7043247 ,  0.06030571],\n",
      "       [ 0.27697492,  0.1714375 , -0.6827985 ,  0.5739768 ]],\n",
      "      dtype=float32)>, <tf.Variable 'dense_10/bias:0' shape=(4,) dtype=float32, numpy=array([0., 0., 0., 0.], dtype=float32)>, <tf.Variable 'dense_12/kernel:0' shape=(4, 4) dtype=float32, numpy=\n",
      "array([[ 0.23925692,  0.72510904, -0.7030369 ,  0.03011024],\n",
      "       [ 0.14201826,  0.11906862,  0.2681746 ,  0.33395678],\n",
      "       [-0.59108746, -0.29522514,  0.496103  , -0.7232386 ],\n",
      "       [ 0.11293048,  0.34331745, -0.337974  ,  0.8319586 ]],\n",
      "      dtype=float32)>, <tf.Variable 'dense_12/bias:0' shape=(4,) dtype=float32, numpy=array([0., 0., 0., 0.], dtype=float32)>, <tf.Variable 'dense_13/kernel:0' shape=(8, 1) dtype=float32, numpy=\n",
      "array([[ 0.1449194 ],\n",
      "       [ 0.08933544],\n",
      "       [-0.45893908],\n",
      "       [-0.21658951],\n",
      "       [-0.16724432],\n",
      "       [-0.7933198 ],\n",
      "       [-0.6160815 ],\n",
      "       [ 0.01834083]], dtype=float32)>, <tf.Variable 'dense_13/bias:0' shape=(1,) dtype=float32, numpy=array([0.], dtype=float32)>]\n",
      "\n",
      " ----------------------------------------------------------- \n",
      "\n",
      "Model trainable parameters: [<tf.Variable 'dense_9/kernel:0' shape=(2, 8) dtype=float32, numpy=\n",
      "array([[-0.5946521 ,  0.28459954,  0.39717805, -0.35661867, -0.30590343,\n",
      "        -0.17988586, -0.6898818 , -0.5421071 ],\n",
      "       [-0.7568759 ,  0.7406719 ,  0.35436285,  0.20985156, -0.05719483,\n",
      "         0.719517  , -0.34202597, -0.26949966]], dtype=float32)>, <tf.Variable 'dense_9/bias:0' shape=(8,) dtype=float32, numpy=array([0., 0., 0., 0., 0., 0., 0., 0.], dtype=float32)>, <tf.Variable 'batch_normalization_3/gamma:0' shape=(8,) dtype=float32, numpy=array([1., 1., 1., 1., 1., 1., 1., 1.], dtype=float32)>, <tf.Variable 'batch_normalization_3/beta:0' shape=(8,) dtype=float32, numpy=array([0., 0., 0., 0., 0., 0., 0., 0.], dtype=float32)>, <tf.Variable 'dense_11/kernel:0' shape=(8, 4) dtype=float32, numpy=\n",
      "array([[-0.3377655 ,  0.00162971, -0.03641033, -0.24277294],\n",
      "       [ 0.26282388,  0.5184496 , -0.02097243, -0.30662   ],\n",
      "       [-0.05937326, -0.5056064 ,  0.02058989,  0.27534705],\n",
      "       [ 0.07266402,  0.2887079 ,  0.076011  ,  0.5738295 ],\n",
      "       [-0.49259245, -0.68764925, -0.5419891 , -0.06837481],\n",
      "       [-0.16407228,  0.00115263, -0.33036134,  0.3638746 ],\n",
      "       [ 0.21966279,  0.13192976, -0.51657623, -0.1792745 ],\n",
      "       [-0.11765462, -0.39797398,  0.58424217, -0.12939167]],\n",
      "      dtype=float32)>, <tf.Variable 'dense_11/bias:0' shape=(4,) dtype=float32, numpy=array([0., 0., 0., 0.], dtype=float32)>, <tf.Variable 'dense_10/kernel:0' shape=(8, 4) dtype=float32, numpy=\n",
      "array([[-0.3122564 ,  0.14330584,  0.21461278,  0.45697623],\n",
      "       [ 0.51314324, -0.6437553 ,  0.5183235 ,  0.32342476],\n",
      "       [-0.10387397,  0.01315606,  0.6273051 ,  0.05625123],\n",
      "       [-0.551551  ,  0.0999192 ,  0.1586768 , -0.70202136],\n",
      "       [-0.11921287,  0.45470864,  0.23988736, -0.7008336 ],\n",
      "       [ 0.60425836,  0.17656964, -0.52892756, -0.09118944],\n",
      "       [ 0.12480235, -0.05204731, -0.7043247 ,  0.06030571],\n",
      "       [ 0.27697492,  0.1714375 , -0.6827985 ,  0.5739768 ]],\n",
      "      dtype=float32)>, <tf.Variable 'dense_10/bias:0' shape=(4,) dtype=float32, numpy=array([0., 0., 0., 0.], dtype=float32)>, <tf.Variable 'dense_12/kernel:0' shape=(4, 4) dtype=float32, numpy=\n",
      "array([[ 0.23925692,  0.72510904, -0.7030369 ,  0.03011024],\n",
      "       [ 0.14201826,  0.11906862,  0.2681746 ,  0.33395678],\n",
      "       [-0.59108746, -0.29522514,  0.496103  , -0.7232386 ],\n",
      "       [ 0.11293048,  0.34331745, -0.337974  ,  0.8319586 ]],\n",
      "      dtype=float32)>, <tf.Variable 'dense_12/bias:0' shape=(4,) dtype=float32, numpy=array([0., 0., 0., 0.], dtype=float32)>, <tf.Variable 'dense_13/kernel:0' shape=(8, 1) dtype=float32, numpy=\n",
      "array([[ 0.1449194 ],\n",
      "       [ 0.08933544],\n",
      "       [-0.45893908],\n",
      "       [-0.21658951],\n",
      "       [-0.16724432],\n",
      "       [-0.7933198 ],\n",
      "       [-0.6160815 ],\n",
      "       [ 0.01834083]], dtype=float32)>, <tf.Variable 'dense_13/bias:0' shape=(1,) dtype=float32, numpy=array([0.], dtype=float32)>]\n"
     ]
    }
   ],
   "source": [
    "# Let's use the non-sequential model for a change, although this technique works\n",
    "# on any objectof class Model\n",
    "tf.keras.utils.plot_model(model, show_shapes=True, show_dtype=True)\n",
    "\n",
    "print(\"Model parameters:\", model.variables)\n",
    "\n",
    "# The attribute variables gives you access to all the parameters of the model\n",
    "# trainable and non-trainable, you see here that this attribute is a list of\n",
    "# variable tensor objects with names corresponding to the names of the layers\n",
    "# they are attached to\n",
    "print(\"\\n ----------------------------------------------------------- \\n\")\n",
    "print(\"Model trainable parameters:\", model.trainable_variables)\n",
    "\n",
    "# If you wish to retrieve only the trainable weights of the model (and this will\n",
    "# come in handy when we learn more about tf) you may use the trainable_variables\n",
    "# attribute."
   ]
  },
  {
   "cell_type": "markdown",
   "metadata": {
    "id": "E5tHenUJ_GAX"
   },
   "source": [
    "#### Extract layer specific content\n",
    "\n",
    "It is also possible to see exactly what's happening in a specific layer using some methods associated with model objects, let's see how:"
   ]
  },
  {
   "cell_type": "code",
   "execution_count": 14,
   "metadata": {
    "colab": {
     "base_uri": "https://localhost:8080/"
    },
    "id": "k5kGtj_U_Wd_",
    "outputId": "5a660e97-ee72-4942-9ab4-dca1b7ff7606"
   },
   "outputs": [
    {
     "name": "stdout",
     "output_type": "stream",
     "text": [
      "input_1\n",
      "dense_9\n",
      "batch_normalization_3\n",
      "dropout_1\n",
      "dense_11\n",
      "dense_10\n",
      "dense_12\n",
      "concatenate\n",
      "dense_13\n"
     ]
    }
   ],
   "source": [
    "# Let's display the names of all the layers in the model:\n",
    "for layer in model.layers:\n",
    "  print(layer.name)"
   ]
  },
  {
   "cell_type": "code",
   "execution_count": 15,
   "metadata": {
    "colab": {
     "base_uri": "https://localhost:8080/"
    },
    "id": "Uz1fRHVs_wio",
    "outputId": "2ad8019e-0210-4ce4-8f04-e5db1343e1e9"
   },
   "outputs": [
    {
     "data": {
      "text/plain": [
       "[<tf.Variable 'dense_9/kernel:0' shape=(2, 8) dtype=float32, numpy=\n",
       " array([[-0.5946521 ,  0.28459954,  0.39717805, -0.35661867, -0.30590343,\n",
       "         -0.17988586, -0.6898818 , -0.5421071 ],\n",
       "        [-0.7568759 ,  0.7406719 ,  0.35436285,  0.20985156, -0.05719483,\n",
       "          0.719517  , -0.34202597, -0.26949966]], dtype=float32)>,\n",
       " <tf.Variable 'dense_9/bias:0' shape=(8,) dtype=float32, numpy=array([0., 0., 0., 0., 0., 0., 0., 0.], dtype=float32)>]"
      ]
     },
     "execution_count": 15,
     "metadata": {
      "tags": []
     },
     "output_type": "execute_result"
    }
   ],
   "source": [
    "# Let's for example get the specific content of layer dense_31\n",
    "specific_layer = model.layers[1]\n",
    "specific_layer = model.get_layer(name=model.layers[1].name)\n",
    "\n",
    "# we can extract the weights from this specific layer\n",
    "specific_layer.trainable_variables"
   ]
  },
  {
   "cell_type": "code",
   "execution_count": 16,
   "metadata": {
    "colab": {
     "base_uri": "https://localhost:8080/"
    },
    "id": "UJVZBaHxBFB0",
    "outputId": "76393099-500e-4e1a-929e-08fd8b171878"
   },
   "outputs": [
    {
     "name": "stdout",
     "output_type": "stream",
     "text": [
      "Bias: <tf.Variable 'dense_9/bias:0' shape=(8,) dtype=float32, numpy=array([1., 2., 3., 4., 5., 6., 7., 8.], dtype=float32)>\n",
      "\n",
      " --------------------------------- \n",
      "\n",
      "Kernel/parameters: <tf.Variable 'dense_9/kernel:0' shape=(2, 8) dtype=float32, numpy=\n",
      "array([[0., 0., 0., 0., 0., 0., 0., 0.],\n",
      "       [0., 0., 0., 0., 0., 0., 0., 0.]], dtype=float32)>\n"
     ]
    }
   ],
   "source": [
    "# Because the weights are variable tensors we may assing new values to them\n",
    "specific_layer.bias.assign([1,2,3,4,5,6,7,8])\n",
    "print(\"Bias:\",specific_layer.bias) # accesses the bias\n",
    "# the values in the layer are now changedin place, which means the model was \n",
    "# affected as well\n",
    "print(\"\\n --------------------------------- \\n\")\n",
    "\n",
    "# we will assign the value zero to each weight in the layer's kernel, aka the \n",
    "# weights that are not part of the bias\n",
    "specific_layer.kernel.assign(tf.zeros_like(specific_layer.kernel))\n",
    "print(\"Kernel/parameters:\",specific_layer.kernel)"
   ]
  },
  {
   "cell_type": "code",
   "execution_count": 17,
   "metadata": {
    "colab": {
     "base_uri": "https://localhost:8080/"
    },
    "id": "UftbbCxLCmvr",
    "outputId": "98346d06-91a5-4bec-d02a-242d6f686ebd"
   },
   "outputs": [
    {
     "data": {
      "text/plain": [
       "<tf.Tensor: shape=(1, 8), dtype=float32, numpy=array([[1., 2., 3., 4., 5., 6., 7., 8.]], dtype=float32)>"
      ]
     },
     "execution_count": 17,
     "metadata": {
      "tags": []
     },
     "output_type": "execute_result"
    }
   ],
   "source": [
    "# We can also extract the output of that layer, which can be very useful if you\n",
    "# wish to see what is coming out of a specific layer\n",
    "specific_layer.output\n",
    "\n",
    "# we can now create a new model\n",
    "model_intermediate = tf.keras.Model(inputs=model.input, outputs=specific_layer.output)\n",
    "model_intermediate(data)"
   ]
  },
  {
   "cell_type": "markdown",
   "metadata": {
    "id": "inaATUxZE005"
   },
   "source": [
    "## Prepare the model for training 🏃🏃\n",
    "\n",
    "We are almost ready to train our model, we are still missing a few steps, we will need to choose the loss function that we wish to optimize, the specific implementation of the gradient descent we wish to use (there are several) and also choose a learning rate. Let's see how we can do all that with code!"
   ]
  },
  {
   "cell_type": "markdown",
   "metadata": {
    "id": "057eNOvQIP4G"
   },
   "source": [
    "### Loss functions 💰\n",
    "\n",
    "They are many loss functions already implemented in tensorflow which you may consult <a href=\"https://www.tensorflow.org/api_docs/python/tf/keras/losses\"> here </a>. \n",
    "\n",
    "In this section we will do a quick overview of the various loss functions in tensorflow and the specific problems they help solve."
   ]
  },
  {
   "cell_type": "code",
   "execution_count": 18,
   "metadata": {
    "colab": {
     "base_uri": "https://localhost:8080/"
    },
    "id": "XMqY9ToqI3Z5",
    "outputId": "ca229eb3-0875-4717-8a18-7aef66072a60"
   },
   "outputs": [
    {
     "name": "stdout",
     "output_type": "stream",
     "text": [
      "mse: tf.Tensor(1, shape=(), dtype=int32)\n",
      "Binary cross entropy: tf.Tensor(0.12783325, shape=(), dtype=float32)\n",
      "Categorical cross entropy: tf.Tensor(0.597837, shape=(), dtype=float32)\n",
      "Sparse categorical cross entropy: tf.Tensor(0.597837, shape=(), dtype=float32)\n"
     ]
    }
   ],
   "source": [
    "from tensorflow.keras.losses import MeanSquaredError, BinaryCrossentropy, CategoricalCrossentropy, SparseCategoricalCrossentropy\n",
    "\n",
    "# MSE\n",
    "# ideal for most regression problems\n",
    "mse = MeanSquaredError()\n",
    "print(\"mse:\",mse([[1]],[[2]]))\n",
    "\n",
    "# Binary Cross Entropy : - log(P(y=1))\n",
    "# ideal for binary classification problems\n",
    "bce = BinaryCrossentropy()\n",
    "print(\"Binary cross entropy:\", bce([[0]], [[0.12]]))\n",
    "\n",
    "# Categorical cross entropy : - sum y==i x log(P(y==i))\n",
    "# Ideal for multi class classification problems\n",
    "# non Sparse for problems where the target variable is in dummy form\n",
    "cce = CategoricalCrossentropy()\n",
    "print(\"Categorical cross entropy:\", cce([[0,0,0,1]],[[0.2,0.1,0.15,0.55]]))\n",
    "# Sparse for problems where the target is in index form\n",
    "scce = SparseCategoricalCrossentropy()\n",
    "print(\"Sparse categorical cross entropy:\", scce([[3]],[[0.2,0.1,0.15,0.55]]))"
   ]
  },
  {
   "cell_type": "markdown",
   "metadata": {
    "id": "C36VFxiNLkbN"
   },
   "source": [
    "### Optimizers 📈\n",
    "\n",
    "Optimizers is a module of Keras that gives you access to different variants of the gradient descent algorithm which you may find more detail about <a href=\"https://www.tensorflow.org/api_docs/python/tf/keras/optimizers\"> here </a>.\n",
    "\n",
    "Here we will mostly focus on two things, the Adam optimizer on the one hand, and how to build a learning rate schedule on the other hand.\n",
    "\n"
   ]
  },
  {
   "cell_type": "markdown",
   "metadata": {
    "id": "8Dknpveedqw8"
   },
   "source": [
    "#### Adam\n",
    "\n",
    "Adam is an adaptive implementation of the stochastic gradient descent algorithm, it is adaptive in the sense that the learning rate will marginally adapt itself according to the value of the gradient. Roughly speaking it increases the learning rate when the gradient gets smaller to accelerate training and decreases the learning rate when the gradient get bigger in order to prevent the training steps to go over a potential minimum."
   ]
  },
  {
   "cell_type": "code",
   "execution_count": 6,
   "metadata": {
    "id": "E5eH2wGGIN7B"
   },
   "outputs": [],
   "source": [
    "from tensorflow.keras.optimizers import Adam\n",
    "\n",
    "opt = Adam(learning_rate=0.001) # For this optimizer we can define the base\n",
    "# learning rate that the algorithm will use and adapt during training"
   ]
  },
  {
   "cell_type": "markdown",
   "metadata": {
    "id": "1-CUiMy7Y42s"
   },
   "source": [
    "#### Learning rate schedules\n",
    "\n",
    "In adition to the choice of algorithm, it is also possible to define what we call a learning rate schedule that will influence the base learning rate throughout the training. You may find ressources on all the available learning rate schedules following <a href=\"https://www.tensorflow.org/api_docs/python/tf/keras/optimizers/schedules\"> this link </a>. In this lecture and the examples and exercises of this course we will only use one of them which is the `ExponentialDecay`.\n",
    "\n",
    "This learning rate schedule will cause the learning rate to exponentially decrease to zero during training, this is useful for models that tend to learn and overfit very quickly so the training process slows down after a few epochs.\n",
    "\n",
    "Let's how it works with code!"
   ]
  },
  {
   "cell_type": "code",
   "execution_count": 7,
   "metadata": {
    "colab": {
     "base_uri": "https://localhost:8080/",
     "height": 542
    },
    "id": "r6R0KqCpam7W",
    "outputId": "f36f0fb5-c68a-4bf4-ce5a-f4b3a89f44f1"
   },
   "outputs": [
    {
     "data": {
      "image/svg+xml": [
       "<svg class=\"main-svg\" xmlns=\"http://www.w3.org/2000/svg\" xmlns:xlink=\"http://www.w3.org/1999/xlink\" width=\"700\" height=\"450\" style=\"\" viewBox=\"0 0 700 450\"><rect x=\"0\" y=\"0\" width=\"700\" height=\"450\" style=\"fill: rgb(255, 255, 255); fill-opacity: 1;\"/><defs id=\"defs-a7f47b\"><g class=\"clips\"><clipPath id=\"clipa7f47bxyplot\" class=\"plotclip\"><rect width=\"540\" height=\"270\"/></clipPath><clipPath class=\"axesclip\" id=\"clipa7f47bx\"><rect x=\"80\" y=\"0\" width=\"540\" height=\"450\"/></clipPath><clipPath class=\"axesclip\" id=\"clipa7f47by\"><rect x=\"0\" y=\"100\" width=\"700\" height=\"270\"/></clipPath><clipPath class=\"axesclip\" id=\"clipa7f47bxy\"><rect x=\"80\" y=\"100\" width=\"540\" height=\"270\"/></clipPath></g><g class=\"gradients\"/></defs><g class=\"bglayer\"><rect class=\"bg\" x=\"80\" y=\"100\" width=\"540\" height=\"270\" style=\"fill: rgb(229, 236, 246); fill-opacity: 1; stroke-width: 0;\"/></g><g class=\"layer-below\"><g class=\"imagelayer\"/><g class=\"shapelayer\"/></g><g class=\"cartesianlayer\"><g class=\"subplot xy\"><g class=\"layer-subplot\"><g class=\"shapelayer\"/><g class=\"imagelayer\"/></g><g class=\"gridlayer\"><g class=\"x\"><path class=\"xgrid crisp\" transform=\"translate(188,0)\" d=\"M0,100v270\" style=\"stroke: rgb(255, 255, 255); stroke-opacity: 1; stroke-width: 1px;\"/><path class=\"xgrid crisp\" transform=\"translate(296,0)\" d=\"M0,100v270\" style=\"stroke: rgb(255, 255, 255); stroke-opacity: 1; stroke-width: 1px;\"/><path class=\"xgrid crisp\" transform=\"translate(404,0)\" d=\"M0,100v270\" style=\"stroke: rgb(255, 255, 255); stroke-opacity: 1; stroke-width: 1px;\"/><path class=\"xgrid crisp\" transform=\"translate(512,0)\" d=\"M0,100v270\" style=\"stroke: rgb(255, 255, 255); stroke-opacity: 1; stroke-width: 1px;\"/></g><g class=\"y\"><path class=\"ygrid crisp\" transform=\"translate(0,311.24)\" d=\"M80,0h540\" style=\"stroke: rgb(255, 255, 255); stroke-opacity: 1; stroke-width: 1px;\"/><path class=\"ygrid crisp\" transform=\"translate(0,261.8)\" d=\"M80,0h540\" style=\"stroke: rgb(255, 255, 255); stroke-opacity: 1; stroke-width: 1px;\"/><path class=\"ygrid crisp\" transform=\"translate(0,212.37)\" d=\"M80,0h540\" style=\"stroke: rgb(255, 255, 255); stroke-opacity: 1; stroke-width: 1px;\"/><path class=\"ygrid crisp\" transform=\"translate(0,162.93)\" d=\"M80,0h540\" style=\"stroke: rgb(255, 255, 255); stroke-opacity: 1; stroke-width: 1px;\"/><path class=\"ygrid crisp\" transform=\"translate(0,113.5)\" d=\"M80,0h540\" style=\"stroke: rgb(255, 255, 255); stroke-opacity: 1; stroke-width: 1px;\"/></g></g><g class=\"zerolinelayer\"><path class=\"xzl zl crisp\" transform=\"translate(80,0)\" d=\"M0,100v270\" style=\"stroke: rgb(255, 255, 255); stroke-opacity: 1; stroke-width: 2px;\"/><path class=\"yzl zl crisp\" transform=\"translate(0,360.67)\" d=\"M80,0h540\" style=\"stroke: rgb(255, 255, 255); stroke-opacity: 1; stroke-width: 2px;\"/></g><path class=\"xlines-below\"/><path class=\"ylines-below\"/><g class=\"overlines-below\"/><g class=\"xaxislayer-below\"/><g class=\"yaxislayer-below\"/><g class=\"overaxes-below\"/><g class=\"plot\" transform=\"translate(80,100)\" clip-path=\"url('#clipa7f47bxyplot')\"><g class=\"scatterlayer mlayer\"><g class=\"trace scatter tracec3cec6\" style=\"stroke-miterlimit: 2; opacity: 1;\"><g class=\"fills\"/><g class=\"errorbars\"/><g class=\"lines\"><path class=\"js-line\" d=\"M0,13.5L14.59,39.32L15.14,40.22L30.27,64.06L30.81,64.86L45.95,86.03L46.49,86.74L62.16,106.18L62.7,106.81L80.54,126.22L81.08,126.76L97.3,142.21L97.84,142.7L115.68,157.58L116.22,158L134.05,170.95L134.59,171.32L157.84,185.72L158.38,186.02L176.22,195.44L176.76,195.7L195.68,204.36L196.22,204.59L218.38,213.24L218.92,213.44L245.95,222.16L246.49,222.32L270.81,228.76L271.35,228.89L301.08,235.29L301.62,235.39L327.03,239.81L327.57,239.89L356.76,244.01L357.3,244.08L417.84,250.17L418.38,250.21L451.35,252.52L451.89,252.55L488.11,254.5L488.65,254.52L534.59,256.33L535.14,256.34L540,256.5\" style=\"vector-effect: non-scaling-stroke; fill: none; stroke: rgb(75, 154, 199); stroke-opacity: 1; stroke-width: 2px; opacity: 1;\"/></g><g class=\"points\"/><g class=\"text\"/></g></g></g><g class=\"overplot\"/><path class=\"xlines-above crisp\" d=\"M0,0\" style=\"fill: none;\"/><path class=\"ylines-above crisp\" d=\"M0,0\" style=\"fill: none;\"/><g class=\"overlines-above\"/><g class=\"xaxislayer-above\"><g class=\"xtick\"><text text-anchor=\"middle\" x=\"0\" y=\"383\" transform=\"translate(80,0)\" style=\"font-family: 'Open Sans', verdana, arial, sans-serif; font-size: 12px; fill: rgb(42, 63, 95); fill-opacity: 1; white-space: pre;\">0</text></g><g class=\"xtick\"><text text-anchor=\"middle\" x=\"0\" y=\"383\" transform=\"translate(188,0)\" style=\"font-family: 'Open Sans', verdana, arial, sans-serif; font-size: 12px; fill: rgb(42, 63, 95); fill-opacity: 1; white-space: pre;\">200</text></g><g class=\"xtick\"><text text-anchor=\"middle\" x=\"0\" y=\"383\" transform=\"translate(296,0)\" style=\"font-family: 'Open Sans', verdana, arial, sans-serif; font-size: 12px; fill: rgb(42, 63, 95); fill-opacity: 1; white-space: pre;\">400</text></g><g class=\"xtick\"><text text-anchor=\"middle\" x=\"0\" y=\"383\" transform=\"translate(404,0)\" style=\"font-family: 'Open Sans', verdana, arial, sans-serif; font-size: 12px; fill: rgb(42, 63, 95); fill-opacity: 1; white-space: pre;\">600</text></g><g class=\"xtick\"><text text-anchor=\"middle\" x=\"0\" y=\"383\" transform=\"translate(512,0)\" style=\"font-family: 'Open Sans', verdana, arial, sans-serif; font-size: 12px; fill: rgb(42, 63, 95); fill-opacity: 1; white-space: pre;\">800</text></g><g class=\"xtick\"><text text-anchor=\"middle\" x=\"0\" y=\"383\" transform=\"translate(620,0)\" style=\"font-family: 'Open Sans', verdana, arial, sans-serif; font-size: 12px; fill: rgb(42, 63, 95); fill-opacity: 1; white-space: pre;\">1000</text></g></g><g class=\"yaxislayer-above\"><g class=\"ytick\"><text text-anchor=\"end\" x=\"79\" y=\"4.199999999999999\" transform=\"translate(0,360.67)\" style=\"font-family: 'Open Sans', verdana, arial, sans-serif; font-size: 12px; fill: rgb(42, 63, 95); fill-opacity: 1; white-space: pre;\">0</text></g><g class=\"ytick\"><text text-anchor=\"end\" x=\"79\" y=\"4.199999999999999\" transform=\"translate(0,311.24)\" style=\"font-family: 'Open Sans', verdana, arial, sans-serif; font-size: 12px; fill: rgb(42, 63, 95); fill-opacity: 1; white-space: pre;\">0.0002</text></g><g class=\"ytick\"><text text-anchor=\"end\" x=\"79\" y=\"4.199999999999999\" transform=\"translate(0,261.8)\" style=\"font-family: 'Open Sans', verdana, arial, sans-serif; font-size: 12px; fill: rgb(42, 63, 95); fill-opacity: 1; white-space: pre;\">0.0004</text></g><g class=\"ytick\"><text text-anchor=\"end\" x=\"79\" y=\"4.199999999999999\" transform=\"translate(0,212.37)\" style=\"font-family: 'Open Sans', verdana, arial, sans-serif; font-size: 12px; fill: rgb(42, 63, 95); fill-opacity: 1; white-space: pre;\">0.0006</text></g><g class=\"ytick\"><text text-anchor=\"end\" x=\"79\" y=\"4.199999999999999\" transform=\"translate(0,162.93)\" style=\"font-family: 'Open Sans', verdana, arial, sans-serif; font-size: 12px; fill: rgb(42, 63, 95); fill-opacity: 1; white-space: pre;\">0.0008</text></g><g class=\"ytick\"><text text-anchor=\"end\" x=\"79\" y=\"4.199999999999999\" transform=\"translate(0,113.5)\" style=\"font-family: 'Open Sans', verdana, arial, sans-serif; font-size: 12px; fill: rgb(42, 63, 95); fill-opacity: 1; white-space: pre;\">0.001</text></g></g><g class=\"overaxes-above\"/></g></g><g class=\"polarlayer\"/><g class=\"ternarylayer\"/><g class=\"geolayer\"/><g class=\"funnelarealayer\"/><g class=\"pielayer\"/><g class=\"treemaplayer\"/><g class=\"sunburstlayer\"/><g class=\"glimages\"/><defs id=\"topdefs-a7f47b\"><g class=\"clips\"/></defs><g class=\"layer-above\"><g class=\"imagelayer\"/><g class=\"shapelayer\"/></g><g class=\"infolayer\"><g class=\"g-gtitle\"><text class=\"gtitle\" x=\"35\" y=\"50\" text-anchor=\"start\" dy=\"0em\" style=\"font-family: 'Open Sans', verdana, arial, sans-serif; font-size: 17px; fill: rgb(42, 63, 95); opacity: 1; font-weight: normal; white-space: pre;\">Learning rate schedule</text></g><g class=\"g-xtitle\"><text class=\"xtitle\" x=\"350\" y=\"410.3\" text-anchor=\"middle\" style=\"font-family: 'Open Sans', verdana, arial, sans-serif; font-size: 14px; fill: rgb(42, 63, 95); opacity: 1; font-weight: normal; white-space: pre;\">Step</text></g><g class=\"g-ytitle\" transform=\"translate(2.3154296875,0)\"><text class=\"ytitle\" transform=\"rotate(-90,11.684375000000003,235)\" x=\"11.684375000000003\" y=\"235\" text-anchor=\"middle\" style=\"font-family: 'Open Sans', verdana, arial, sans-serif; font-size: 14px; fill: rgb(42, 63, 95); opacity: 1; font-weight: normal; white-space: pre;\">Learning rate</text></g></g></svg>"
      ]
     },
     "metadata": {},
     "output_type": "display_data"
    }
   ],
   "source": [
    "from tensorflow.keras.optimizers.schedules import ExponentialDecay\n",
    "\n",
    "# We need to define the initial learning rate, decay_steps indicates the number\n",
    "# of steps before the learning rate decreases of one time the decay_rate.\n",
    "ed = ExponentialDecay(\n",
    "    initial_learning_rate = 0.001, decay_steps = 100, decay_rate = 0.96\n",
    ")\n",
    "\n",
    "# The call of the Exponential decay instance works in the following way\n",
    "initial_learning_rate = 0.001\n",
    "decay_steps = 10\n",
    "decay_rate = 0.96\n",
    "def decayed_learning_rate(step):\n",
    "    return initial_learning_rate * decay_rate ** (step / decay_steps)\n",
    "x = np.linspace(0,1000,1000)\n",
    "\n",
    "# Let's see how this works visually\n",
    "fig = go.Figure(data=[\n",
    "                      go.Scatter(\n",
    "                          x = x,\n",
    "                          y = decayed_learning_rate(x),\n",
    "                          mode = \"lines\",\n",
    "                          line=dict(\n",
    "                              color = color_chart[0]\n",
    "                            ),\n",
    "                          name = \"learning rate\"\n",
    "                          )\n",
    "])\n",
    "\n",
    "fig.update_layout(\n",
    "    title=\"Learning rate schedule\",\n",
    "    xaxis_title=\"Step\",\n",
    "    yaxis_title=\"Learning rate\"\n",
    "    )\n",
    "\n",
    "fig.show(\"svg\")\n",
    "\n",
    "# If you wish to add this learning rate schedule to your optimizer you can do it\n",
    "# as follows\n",
    "opt_schedule = Adam(learning_rate=ed)"
   ]
  },
  {
   "cell_type": "markdown",
   "metadata": {
    "id": "2kLM3utOf7uW"
   },
   "source": [
    "### Compile 🎁\n",
    "\n",
    "Once you have built the model, chose the loss function, defined an optimizer with a learning rate or learning rate schedule you need to bring it all together with a final method called `.compile`. This operation will assign the optimizer and the loss function to the model.\n",
    "\n",
    "Let's do it with code!"
   ]
  },
  {
   "cell_type": "code",
   "execution_count": 21,
   "metadata": {
    "id": "U8DUzrzKkGBr"
   },
   "outputs": [],
   "source": [
    "# Let's compile our model\n",
    "model.compile(optimizer=opt,\n",
    "              loss=bce)"
   ]
  },
  {
   "cell_type": "markdown",
   "metadata": {
    "id": "z7iEKvGykpC5"
   },
   "source": [
    "This is the minimal version of the compiling operation, but you may also wish to monitor some performance metrics during training. All the available performance metrics can be found <a href=\"https://www.tensorflow.org/api_docs/python/tf/keras/metrics\"> here </a>.\n",
    "\n",
    "Let's add a metric to the compile operation."
   ]
  },
  {
   "cell_type": "code",
   "execution_count": 22,
   "metadata": {
    "id": "QMk-l6cilB_m"
   },
   "outputs": [],
   "source": [
    "from tensorflow.keras.metrics import BinaryAccuracy\n",
    "\n",
    "model.compile(optimizer=opt,\n",
    "              loss=bce,\n",
    "              metrics=[BinaryAccuracy()])\n",
    "# the argument metrics takes a list of metrics from keras"
   ]
  },
  {
   "cell_type": "markdown",
   "metadata": {
    "id": "6tWbXHRrlXi5"
   },
   "source": [
    "We are now ready to train our model!"
   ]
  },
  {
   "cell_type": "markdown",
   "metadata": {
    "id": "dpar4Ojvljkk"
   },
   "source": [
    "## Model training 💦💦\n",
    "\n",
    "The model training step is actually very easy now that we have done all this, let's show a full example with an easy dataset."
   ]
  },
  {
   "cell_type": "code",
   "execution_count": 23,
   "metadata": {
    "colab": {
     "base_uri": "https://localhost:8080/",
     "height": 564
    },
    "id": "Sbk_9jGjmXj5",
    "outputId": "d9b33d55-7c6d-435d-c70e-5cb593195aaf"
   },
   "outputs": [
    {
     "data": {
      "image/png": "[encoded data removed]",
      "text/plain": [
       "<IPython.core.display.Image object>"
      ]
     },
     "execution_count": 23,
     "metadata": {
      "tags": []
     },
     "output_type": "execute_result"
    }
   ],
   "source": [
    "from sklearn.datasets import load_iris\n",
    "\n",
    "iris = load_iris() # load the data\n",
    "\n",
    "data = iris.data # store training variables in data\n",
    "target = iris.target # store target variable in target\n",
    "\n",
    "from sklearn.model_selection import train_test_split\n",
    "# Split 60% in train 20% in val 20% in test\n",
    "X_train, X_valtest, y_train, y_valtest = train_test_split(data,\n",
    "                                                          target,\n",
    "                                                          test_size=0.4,\n",
    "                                                          stratify=target)\n",
    "X_val, X_test, y_val, y_test = train_test_split(X_valtest, y_valtest,\n",
    "                                                test_size=0.5,\n",
    "                                                stratify=y_valtest)\n",
    "\n",
    "# Normalize the data\n",
    "from sklearn.preprocessing import StandardScaler\n",
    "sc = StandardScaler()\n",
    "X_train = sc.fit_transform(X_train)\n",
    "X_val = sc.transform(X_val)\n",
    "X_test = sc.transform(X_test)\n",
    "\n",
    "# Create the tensor slice datasets\n",
    "train = tf.data.Dataset.from_tensor_slices((X_train,y_train))\n",
    "val = tf.data.Dataset.from_tensor_slices((X_val,y_val))\n",
    "test = tf.data.Dataset.from_tensor_slices((X_test,y_test))\n",
    "\n",
    "# shuffle and batch\n",
    "train_batch = train.shuffle(len(X_train)).batch(4)\n",
    "val_batch = val.shuffle(len(X_val)).batch(4)\n",
    "test_batch = test.shuffle(len(X_test)).batch(4)\n",
    "\n",
    "# Create the model\n",
    "model = Sequential([\n",
    "                    # input shape equals to the number of training variables\n",
    "                    Dense(8,\"relu\",input_shape=[data.shape[1]]), \n",
    "                    BatchNormalization(),\n",
    "                    Dropout(0.2),\n",
    "                    Dense(4,\"relu\"),\n",
    "                    # number of neurons on last layer equal to number of classes \n",
    "                    # with softmax activation for mutli class classification\n",
    "                    Dense(len(np.unique(target)), \"softmax\") \n",
    "])\n",
    "\n",
    "# display the model\n",
    "tf.keras.utils.plot_model(model)"
   ]
  },
  {
   "cell_type": "code",
   "execution_count": 24,
   "metadata": {
    "id": "cBr72IJ1onis"
   },
   "outputs": [],
   "source": [
    "# Set up the optimizer\n",
    "opt = Adam(0.001)\n",
    "# define the loss function\n",
    "loss = SparseCategoricalCrossentropy()\n",
    "# define the performance metric\n",
    "metric = tf.keras.metrics.SparseCategoricalAccuracy()\n",
    "\n",
    "# Compile the model\n",
    "model.compile(optimizer=opt,\n",
    "              loss=loss,\n",
    "              metrics=[metric])"
   ]
  },
  {
   "cell_type": "code",
   "execution_count": 25,
   "metadata": {
    "colab": {
     "base_uri": "https://localhost:8080/"
    },
    "id": "ZYs8Vfx1osNx",
    "outputId": "e4b22871-385b-440f-b410-79629e5e12e1"
   },
   "outputs": [
    {
     "name": "stdout",
     "output_type": "stream",
     "text": [
      "Epoch 1/10\n",
      "23/23 [==============================] - 1s 25ms/step - loss: 1.4133 - sparse_categorical_accuracy: 0.3269 - val_loss: 1.0340 - val_sparse_categorical_accuracy: 0.3333\n",
      "Epoch 2/10\n",
      "23/23 [==============================] - 0s 3ms/step - loss: 1.1990 - sparse_categorical_accuracy: 0.3244 - val_loss: 1.0084 - val_sparse_categorical_accuracy: 0.3667\n",
      "Epoch 3/10\n",
      "23/23 [==============================] - 0s 3ms/step - loss: 1.1164 - sparse_categorical_accuracy: 0.4138 - val_loss: 0.9906 - val_sparse_categorical_accuracy: 0.4333\n",
      "Epoch 4/10\n",
      "23/23 [==============================] - 0s 3ms/step - loss: 1.1962 - sparse_categorical_accuracy: 0.3175 - val_loss: 0.9715 - val_sparse_categorical_accuracy: 0.4667\n",
      "Epoch 5/10\n",
      "23/23 [==============================] - 0s 3ms/step - loss: 1.0801 - sparse_categorical_accuracy: 0.4138 - val_loss: 0.9521 - val_sparse_categorical_accuracy: 0.4667\n",
      "Epoch 6/10\n",
      "23/23 [==============================] - 0s 3ms/step - loss: 1.0798 - sparse_categorical_accuracy: 0.4031 - val_loss: 0.9379 - val_sparse_categorical_accuracy: 0.6000\n",
      "Epoch 7/10\n",
      "23/23 [==============================] - 0s 3ms/step - loss: 0.9649 - sparse_categorical_accuracy: 0.4536 - val_loss: 0.9221 - val_sparse_categorical_accuracy: 0.5333\n",
      "Epoch 8/10\n",
      "23/23 [==============================] - 0s 3ms/step - loss: 0.9656 - sparse_categorical_accuracy: 0.3641 - val_loss: 0.9067 - val_sparse_categorical_accuracy: 0.6000\n",
      "Epoch 9/10\n",
      "23/23 [==============================] - 0s 4ms/step - loss: 1.0633 - sparse_categorical_accuracy: 0.5131 - val_loss: 0.8932 - val_sparse_categorical_accuracy: 0.6667\n",
      "Epoch 10/10\n",
      "23/23 [==============================] - 0s 3ms/step - loss: 0.9965 - sparse_categorical_accuracy: 0.5341 - val_loss: 0.8789 - val_sparse_categorical_accuracy: 0.7000\n",
      "\n",
      " ------ \n",
      " training history: {'loss': [1.3540457487106323, 1.236389398574829, 1.1959078311920166, 1.1607568264007568, 1.1180247068405151, 1.034017562866211, 0.9911989569664001, 1.0143332481384277, 1.0459458827972412, 0.9872550964355469], 'sparse_categorical_accuracy': [0.31111112236976624, 0.30000001192092896, 0.3333333432674408, 0.3444444537162781, 0.41111111640930176, 0.3888888955116272, 0.42222222685813904, 0.4000000059604645, 0.5111111402511597, 0.5444444417953491], 'val_loss': [1.034031867980957, 1.0084148645401, 0.9905843734741211, 0.9714848399162292, 0.9521205425262451, 0.9378766417503357, 0.9221237301826477, 0.9066861271858215, 0.8931810259819031, 0.87892746925354], 'val_sparse_categorical_accuracy': [0.3333333432674408, 0.36666667461395264, 0.4333333373069763, 0.46666666865348816, 0.46666666865348816, 0.6000000238418579, 0.5333333611488342, 0.6000000238418579, 0.6666666865348816, 0.699999988079071]}\n"
     ]
    }
   ],
   "source": [
    "# We use .fit in order to start training the model\n",
    "# the first argument is the the batch dataset containing the training data\n",
    "# epochs indicates the number of epochs (the number of times each batch is going\n",
    "# to be used for training) to train for\n",
    "# validation_data is the data we use to measure overfitting during training, the \n",
    "# model will not train on this data but compute the performance metrics on it at\n",
    "# the end of each epoch\n",
    "history = model.fit(train_batch, epochs=10, validation_data=val_batch)\n",
    "\n",
    "# We save the training in an object history so we can retreive the training\n",
    "# information later on.\n",
    "\n",
    "print(\"\\n ------ \\n\",\"training history:\",history.history)"
   ]
  },
  {
   "cell_type": "code",
   "execution_count": 26,
   "metadata": {
    "colab": {
     "base_uri": "https://localhost:8080/",
     "height": 542
    },
    "id": "zu6JmNr8NOTn",
    "outputId": "b63e3734-708f-4a61-94e3-b78878a1b745"
   },
   "outputs": [
    {
     "data": {
      "text/html": [
       "<html>\n",
       "<head><meta charset=\"utf-8\" /></head>\n",
       "<body>\n",
       "    <div>\n",
       "            <script src=\"https://cdnjs.cloudflare.com/ajax/libs/mathjax/2.7.5/MathJax.js?config=TeX-AMS-MML_SVG\"></script><script type=\"text/javascript\">if (window.MathJax) {MathJax.Hub.Config({SVG: {font: \"STIX-Web\"}});}</script>\n",
       "                <script type=\"text/javascript\">window.PlotlyConfig = {MathJaxConfig: 'local'};</script>\n",
       "        <script src=\"https://cdn.plot.ly/plotly-latest.min.js\"></script>    \n",
       "            <div id=\"1be44827-eeee-485d-bea6-65addee9622f\" class=\"plotly-graph-div\" style=\"height:525px; width:100%;\"></div>\n",
       "            <script type=\"text/javascript\">\n",
       "                \n",
       "                    window.PLOTLYENV=window.PLOTLYENV || {};\n",
       "                    \n",
       "                if (document.getElementById(\"1be44827-eeee-485d-bea6-65addee9622f\")) {\n",
       "                    Plotly.newPlot(\n",
       "                        '1be44827-eeee-485d-bea6-65addee9622f',\n",
       "                        [{\"marker\": {\"color\": \"#4B9AC7\"}, \"mode\": \"lines\", \"name\": \"Training loss\", \"type\": \"scatter\", \"y\": [1.3540457487106323, 1.236389398574829, 1.1959078311920166, 1.1607568264007568, 1.1180247068405151, 1.034017562866211, 0.9911989569664001, 1.0143332481384277, 1.0459458827972412, 0.9872550964355469]}, {\"marker\": {\"color\": \"#4BE8E0\"}, \"mode\": \"lines\", \"name\": \"Validation loss\", \"type\": \"scatter\", \"y\": [1.034031867980957, 1.0084148645401, 0.9905843734741211, 0.9714848399162292, 0.9521205425262451, 0.9378766417503357, 0.9221237301826477, 0.9066861271858215, 0.8931810259819031, 0.87892746925354]}],\n",
       "                        {\"template\": {\"data\": {\"bar\": [{\"error_x\": {\"color\": \"#2a3f5f\"}, \"error_y\": {\"color\": \"#2a3f5f\"}, \"marker\": {\"line\": {\"color\": \"#E5ECF6\", \"width\": 0.5}}, \"type\": \"bar\"}], \"barpolar\": [{\"marker\": {\"line\": {\"color\": \"#E5ECF6\", \"width\": 0.5}}, \"type\": \"barpolar\"}], \"carpet\": [{\"aaxis\": {\"endlinecolor\": \"#2a3f5f\", \"gridcolor\": \"white\", \"linecolor\": \"white\", \"minorgridcolor\": \"white\", \"startlinecolor\": \"#2a3f5f\"}, \"baxis\": {\"endlinecolor\": \"#2a3f5f\", \"gridcolor\": \"white\", \"linecolor\": \"white\", \"minorgridcolor\": \"white\", \"startlinecolor\": \"#2a3f5f\"}, \"type\": \"carpet\"}], \"choropleth\": [{\"colorbar\": {\"outlinewidth\": 0, \"ticks\": \"\"}, \"type\": \"choropleth\"}], \"contour\": [{\"colorbar\": {\"outlinewidth\": 0, \"ticks\": \"\"}, \"colorscale\": [[0.0, \"#0d0887\"], [0.1111111111111111, \"#46039f\"], [0.2222222222222222, \"#7201a8\"], [0.3333333333333333, \"#9c179e\"], [0.4444444444444444, \"#bd3786\"], [0.5555555555555556, \"#d8576b\"], [0.6666666666666666, \"#ed7953\"], [0.7777777777777778, \"#fb9f3a\"], [0.8888888888888888, \"#fdca26\"], [1.0, \"#f0f921\"]], \"type\": \"contour\"}], \"contourcarpet\": [{\"colorbar\": {\"outlinewidth\": 0, \"ticks\": \"\"}, \"type\": \"contourcarpet\"}], \"heatmap\": [{\"colorbar\": {\"outlinewidth\": 0, \"ticks\": \"\"}, \"colorscale\": [[0.0, \"#0d0887\"], [0.1111111111111111, \"#46039f\"], [0.2222222222222222, \"#7201a8\"], [0.3333333333333333, \"#9c179e\"], [0.4444444444444444, \"#bd3786\"], [0.5555555555555556, \"#d8576b\"], [0.6666666666666666, \"#ed7953\"], [0.7777777777777778, \"#fb9f3a\"], [0.8888888888888888, \"#fdca26\"], [1.0, \"#f0f921\"]], \"type\": \"heatmap\"}], \"heatmapgl\": [{\"colorbar\": {\"outlinewidth\": 0, \"ticks\": \"\"}, \"colorscale\": [[0.0, \"#0d0887\"], [0.1111111111111111, \"#46039f\"], [0.2222222222222222, \"#7201a8\"], [0.3333333333333333, \"#9c179e\"], [0.4444444444444444, \"#bd3786\"], [0.5555555555555556, \"#d8576b\"], [0.6666666666666666, \"#ed7953\"], [0.7777777777777778, \"#fb9f3a\"], [0.8888888888888888, \"#fdca26\"], [1.0, \"#f0f921\"]], \"type\": \"heatmapgl\"}], \"histogram\": [{\"marker\": {\"colorbar\": {\"outlinewidth\": 0, \"ticks\": \"\"}}, \"type\": \"histogram\"}], \"histogram2d\": [{\"colorbar\": {\"outlinewidth\": 0, \"ticks\": \"\"}, \"colorscale\": [[0.0, \"#0d0887\"], [0.1111111111111111, \"#46039f\"], [0.2222222222222222, \"#7201a8\"], [0.3333333333333333, \"#9c179e\"], [0.4444444444444444, \"#bd3786\"], [0.5555555555555556, \"#d8576b\"], [0.6666666666666666, \"#ed7953\"], [0.7777777777777778, \"#fb9f3a\"], [0.8888888888888888, \"#fdca26\"], [1.0, \"#f0f921\"]], \"type\": \"histogram2d\"}], \"histogram2dcontour\": [{\"colorbar\": {\"outlinewidth\": 0, \"ticks\": \"\"}, \"colorscale\": [[0.0, \"#0d0887\"], [0.1111111111111111, \"#46039f\"], [0.2222222222222222, \"#7201a8\"], [0.3333333333333333, \"#9c179e\"], [0.4444444444444444, \"#bd3786\"], [0.5555555555555556, \"#d8576b\"], [0.6666666666666666, \"#ed7953\"], [0.7777777777777778, \"#fb9f3a\"], [0.8888888888888888, \"#fdca26\"], [1.0, \"#f0f921\"]], \"type\": \"histogram2dcontour\"}], \"mesh3d\": [{\"colorbar\": {\"outlinewidth\": 0, \"ticks\": \"\"}, \"type\": \"mesh3d\"}], \"parcoords\": [{\"line\": {\"colorbar\": {\"outlinewidth\": 0, \"ticks\": \"\"}}, \"type\": \"parcoords\"}], \"pie\": [{\"automargin\": true, \"type\": \"pie\"}], \"scatter\": [{\"marker\": {\"colorbar\": {\"outlinewidth\": 0, \"ticks\": \"\"}}, \"type\": \"scatter\"}], \"scatter3d\": [{\"line\": {\"colorbar\": {\"outlinewidth\": 0, \"ticks\": \"\"}}, \"marker\": {\"colorbar\": {\"outlinewidth\": 0, \"ticks\": \"\"}}, \"type\": \"scatter3d\"}], \"scattercarpet\": [{\"marker\": {\"colorbar\": {\"outlinewidth\": 0, \"ticks\": \"\"}}, \"type\": \"scattercarpet\"}], \"scattergeo\": [{\"marker\": {\"colorbar\": {\"outlinewidth\": 0, \"ticks\": \"\"}}, \"type\": \"scattergeo\"}], \"scattergl\": [{\"marker\": {\"colorbar\": {\"outlinewidth\": 0, \"ticks\": \"\"}}, \"type\": \"scattergl\"}], \"scattermapbox\": [{\"marker\": {\"colorbar\": {\"outlinewidth\": 0, \"ticks\": \"\"}}, \"type\": \"scattermapbox\"}], \"scatterpolar\": [{\"marker\": {\"colorbar\": {\"outlinewidth\": 0, \"ticks\": \"\"}}, \"type\": \"scatterpolar\"}], \"scatterpolargl\": [{\"marker\": {\"colorbar\": {\"outlinewidth\": 0, \"ticks\": \"\"}}, \"type\": \"scatterpolargl\"}], \"scatterternary\": [{\"marker\": {\"colorbar\": {\"outlinewidth\": 0, \"ticks\": \"\"}}, \"type\": \"scatterternary\"}], \"surface\": [{\"colorbar\": {\"outlinewidth\": 0, \"ticks\": \"\"}, \"colorscale\": [[0.0, \"#0d0887\"], [0.1111111111111111, \"#46039f\"], [0.2222222222222222, \"#7201a8\"], [0.3333333333333333, \"#9c179e\"], [0.4444444444444444, \"#bd3786\"], [0.5555555555555556, \"#d8576b\"], [0.6666666666666666, \"#ed7953\"], [0.7777777777777778, \"#fb9f3a\"], [0.8888888888888888, \"#fdca26\"], [1.0, \"#f0f921\"]], \"type\": \"surface\"}], \"table\": [{\"cells\": {\"fill\": {\"color\": \"#EBF0F8\"}, \"line\": {\"color\": \"white\"}}, \"header\": {\"fill\": {\"color\": \"#C8D4E3\"}, \"line\": {\"color\": \"white\"}}, \"type\": \"table\"}]}, \"layout\": {\"annotationdefaults\": {\"arrowcolor\": \"#2a3f5f\", \"arrowhead\": 0, \"arrowwidth\": 1}, \"coloraxis\": {\"colorbar\": {\"outlinewidth\": 0, \"ticks\": \"\"}}, \"colorscale\": {\"diverging\": [[0, \"#8e0152\"], [0.1, \"#c51b7d\"], [0.2, \"#de77ae\"], [0.3, \"#f1b6da\"], [0.4, \"#fde0ef\"], [0.5, \"#f7f7f7\"], [0.6, \"#e6f5d0\"], [0.7, \"#b8e186\"], [0.8, \"#7fbc41\"], [0.9, \"#4d9221\"], [1, \"#276419\"]], \"sequential\": [[0.0, \"#0d0887\"], [0.1111111111111111, \"#46039f\"], [0.2222222222222222, \"#7201a8\"], [0.3333333333333333, \"#9c179e\"], [0.4444444444444444, \"#bd3786\"], [0.5555555555555556, \"#d8576b\"], [0.6666666666666666, \"#ed7953\"], [0.7777777777777778, \"#fb9f3a\"], [0.8888888888888888, \"#fdca26\"], [1.0, \"#f0f921\"]], \"sequentialminus\": [[0.0, \"#0d0887\"], [0.1111111111111111, \"#46039f\"], [0.2222222222222222, \"#7201a8\"], [0.3333333333333333, \"#9c179e\"], [0.4444444444444444, \"#bd3786\"], [0.5555555555555556, \"#d8576b\"], [0.6666666666666666, \"#ed7953\"], [0.7777777777777778, \"#fb9f3a\"], [0.8888888888888888, \"#fdca26\"], [1.0, \"#f0f921\"]]}, \"colorway\": [\"#636efa\", \"#EF553B\", \"#00cc96\", \"#ab63fa\", \"#FFA15A\", \"#19d3f3\", \"#FF6692\", \"#B6E880\", \"#FF97FF\", \"#FECB52\"], \"font\": {\"color\": \"#2a3f5f\"}, \"geo\": {\"bgcolor\": \"white\", \"lakecolor\": \"white\", \"landcolor\": \"#E5ECF6\", \"showlakes\": true, \"showland\": true, \"subunitcolor\": \"white\"}, \"hoverlabel\": {\"align\": \"left\"}, \"hovermode\": \"closest\", \"mapbox\": {\"style\": \"light\"}, \"paper_bgcolor\": \"white\", \"plot_bgcolor\": \"#E5ECF6\", \"polar\": {\"angularaxis\": {\"gridcolor\": \"white\", \"linecolor\": \"white\", \"ticks\": \"\"}, \"bgcolor\": \"#E5ECF6\", \"radialaxis\": {\"gridcolor\": \"white\", \"linecolor\": \"white\", \"ticks\": \"\"}}, \"scene\": {\"xaxis\": {\"backgroundcolor\": \"#E5ECF6\", \"gridcolor\": \"white\", \"gridwidth\": 2, \"linecolor\": \"white\", \"showbackground\": true, \"ticks\": \"\", \"zerolinecolor\": \"white\"}, \"yaxis\": {\"backgroundcolor\": \"#E5ECF6\", \"gridcolor\": \"white\", \"gridwidth\": 2, \"linecolor\": \"white\", \"showbackground\": true, \"ticks\": \"\", \"zerolinecolor\": \"white\"}, \"zaxis\": {\"backgroundcolor\": \"#E5ECF6\", \"gridcolor\": \"white\", \"gridwidth\": 2, \"linecolor\": \"white\", \"showbackground\": true, \"ticks\": \"\", \"zerolinecolor\": \"white\"}}, \"shapedefaults\": {\"line\": {\"color\": \"#2a3f5f\"}}, \"ternary\": {\"aaxis\": {\"gridcolor\": \"white\", \"linecolor\": \"white\", \"ticks\": \"\"}, \"baxis\": {\"gridcolor\": \"white\", \"linecolor\": \"white\", \"ticks\": \"\"}, \"bgcolor\": \"#E5ECF6\", \"caxis\": {\"gridcolor\": \"white\", \"linecolor\": \"white\", \"ticks\": \"\"}}, \"title\": {\"x\": 0.05}, \"xaxis\": {\"automargin\": true, \"gridcolor\": \"white\", \"linecolor\": \"white\", \"ticks\": \"\", \"title\": {\"standoff\": 15}, \"zerolinecolor\": \"white\", \"zerolinewidth\": 2}, \"yaxis\": {\"automargin\": true, \"gridcolor\": \"white\", \"linecolor\": \"white\", \"ticks\": \"\", \"title\": {\"standoff\": 15}, \"zerolinecolor\": \"white\", \"zerolinewidth\": 2}}}, \"title\": {\"text\": \"Training and val loss across epochs\"}, \"xaxis\": {\"title\": {\"text\": \"epochs\"}}, \"yaxis\": {\"title\": {\"text\": \"Cross Entropy\"}}},\n",
       "                        {\"responsive\": true}\n",
       "                    ).then(function(){\n",
       "                            \n",
       "var gd = document.getElementById('1be44827-eeee-485d-bea6-65addee9622f');\n",
       "var x = new MutationObserver(function (mutations, observer) {{\n",
       "        var display = window.getComputedStyle(gd).display;\n",
       "        if (!display || display === 'none') {{\n",
       "            console.log([gd, 'removed!']);\n",
       "            Plotly.purge(gd);\n",
       "            observer.disconnect();\n",
       "        }}\n",
       "}});\n",
       "\n",
       "// Listen for the removal of the full notebook cells\n",
       "var notebookContainer = gd.closest('#notebook-container');\n",
       "if (notebookContainer) {{\n",
       "    x.observe(notebookContainer, {childList: true});\n",
       "}}\n",
       "\n",
       "// Listen for the clearing of the current output cell\n",
       "var outputEl = gd.closest('.output');\n",
       "if (outputEl) {{\n",
       "    x.observe(outputEl, {childList: true});\n",
       "}}\n",
       "\n",
       "                        })\n",
       "                };\n",
       "                \n",
       "            </script>\n",
       "        </div>\n",
       "</body>\n",
       "</html>"
      ]
     },
     "metadata": {
      "tags": []
     },
     "output_type": "display_data"
    }
   ],
   "source": [
    "from plotly import graph_objects as go\n",
    "fig = go.Figure(data=[\n",
    "                      go.Scatter(\n",
    "                          y=history.history[\"loss\"],\n",
    "                          name=\"Training loss\",\n",
    "                          mode=\"lines\",\n",
    "                          marker=dict(\n",
    "                              color=color_chart[0]\n",
    "                          )),\n",
    "                      go.Scatter(\n",
    "                          y=history.history[\"val_loss\"],\n",
    "                          name=\"Validation loss\",\n",
    "                          mode=\"lines\",\n",
    "                          marker=dict(\n",
    "                              color=color_chart[1]\n",
    "                          ))\n",
    "])\n",
    "fig.update_layout(\n",
    "    title='Training and val loss across epochs',\n",
    "    xaxis_title='epochs',\n",
    "    yaxis_title='Cross Entropy'    \n",
    ")\n",
    "fig.show()"
   ]
  },
  {
   "cell_type": "code",
   "execution_count": 27,
   "metadata": {
    "colab": {
     "base_uri": "https://localhost:8080/",
     "height": 542
    },
    "id": "vrTq5fKSOtqD",
    "outputId": "e237707d-f221-41a1-8473-58128734bcc0"
   },
   "outputs": [
    {
     "data": {
      "text/html": [
       "<html>\n",
       "<head><meta charset=\"utf-8\" /></head>\n",
       "<body>\n",
       "    <div>\n",
       "            <script src=\"https://cdnjs.cloudflare.com/ajax/libs/mathjax/2.7.5/MathJax.js?config=TeX-AMS-MML_SVG\"></script><script type=\"text/javascript\">if (window.MathJax) {MathJax.Hub.Config({SVG: {font: \"STIX-Web\"}});}</script>\n",
       "                <script type=\"text/javascript\">window.PlotlyConfig = {MathJaxConfig: 'local'};</script>\n",
       "        <script src=\"https://cdn.plot.ly/plotly-latest.min.js\"></script>    \n",
       "            <div id=\"05486a3d-751e-4544-a13c-5cb670760e03\" class=\"plotly-graph-div\" style=\"height:525px; width:100%;\"></div>\n",
       "            <script type=\"text/javascript\">\n",
       "                \n",
       "                    window.PLOTLYENV=window.PLOTLYENV || {};\n",
       "                    \n",
       "                if (document.getElementById(\"05486a3d-751e-4544-a13c-5cb670760e03\")) {\n",
       "                    Plotly.newPlot(\n",
       "                        '05486a3d-751e-4544-a13c-5cb670760e03',\n",
       "                        [{\"marker\": {\"color\": \"#2A7FAF\"}, \"mode\": \"lines\", \"name\": \"Training accuracy\", \"type\": \"scatter\", \"y\": [0.31111112236976624, 0.30000001192092896, 0.3333333432674408, 0.3444444537162781, 0.41111111640930176, 0.3888888955116272, 0.42222222685813904, 0.4000000059604645, 0.5111111402511597, 0.5444444417953491]}, {\"marker\": {\"color\": \"#23B1AB\"}, \"mode\": \"lines\", \"name\": \"Validation accruracy\", \"type\": \"scatter\", \"y\": [0.3333333432674408, 0.36666667461395264, 0.4333333373069763, 0.46666666865348816, 0.46666666865348816, 0.6000000238418579, 0.5333333611488342, 0.6000000238418579, 0.6666666865348816, 0.699999988079071]}],\n",
       "                        {\"template\": {\"data\": {\"bar\": [{\"error_x\": {\"color\": \"#2a3f5f\"}, \"error_y\": {\"color\": \"#2a3f5f\"}, \"marker\": {\"line\": {\"color\": \"#E5ECF6\", \"width\": 0.5}}, \"type\": \"bar\"}], \"barpolar\": [{\"marker\": {\"line\": {\"color\": \"#E5ECF6\", \"width\": 0.5}}, \"type\": \"barpolar\"}], \"carpet\": [{\"aaxis\": {\"endlinecolor\": \"#2a3f5f\", \"gridcolor\": \"white\", \"linecolor\": \"white\", \"minorgridcolor\": \"white\", \"startlinecolor\": \"#2a3f5f\"}, \"baxis\": {\"endlinecolor\": \"#2a3f5f\", \"gridcolor\": \"white\", \"linecolor\": \"white\", \"minorgridcolor\": \"white\", \"startlinecolor\": \"#2a3f5f\"}, \"type\": \"carpet\"}], \"choropleth\": [{\"colorbar\": {\"outlinewidth\": 0, \"ticks\": \"\"}, \"type\": \"choropleth\"}], \"contour\": [{\"colorbar\": {\"outlinewidth\": 0, \"ticks\": \"\"}, \"colorscale\": [[0.0, \"#0d0887\"], [0.1111111111111111, \"#46039f\"], [0.2222222222222222, \"#7201a8\"], [0.3333333333333333, \"#9c179e\"], [0.4444444444444444, \"#bd3786\"], [0.5555555555555556, \"#d8576b\"], [0.6666666666666666, \"#ed7953\"], [0.7777777777777778, \"#fb9f3a\"], [0.8888888888888888, \"#fdca26\"], [1.0, \"#f0f921\"]], \"type\": \"contour\"}], \"contourcarpet\": [{\"colorbar\": {\"outlinewidth\": 0, \"ticks\": \"\"}, \"type\": \"contourcarpet\"}], \"heatmap\": [{\"colorbar\": {\"outlinewidth\": 0, \"ticks\": \"\"}, \"colorscale\": [[0.0, \"#0d0887\"], [0.1111111111111111, \"#46039f\"], [0.2222222222222222, \"#7201a8\"], [0.3333333333333333, \"#9c179e\"], [0.4444444444444444, \"#bd3786\"], [0.5555555555555556, \"#d8576b\"], [0.6666666666666666, \"#ed7953\"], [0.7777777777777778, \"#fb9f3a\"], [0.8888888888888888, \"#fdca26\"], [1.0, \"#f0f921\"]], \"type\": \"heatmap\"}], \"heatmapgl\": [{\"colorbar\": {\"outlinewidth\": 0, \"ticks\": \"\"}, \"colorscale\": [[0.0, \"#0d0887\"], [0.1111111111111111, \"#46039f\"], [0.2222222222222222, \"#7201a8\"], [0.3333333333333333, \"#9c179e\"], [0.4444444444444444, \"#bd3786\"], [0.5555555555555556, \"#d8576b\"], [0.6666666666666666, \"#ed7953\"], [0.7777777777777778, \"#fb9f3a\"], [0.8888888888888888, \"#fdca26\"], [1.0, \"#f0f921\"]], \"type\": \"heatmapgl\"}], \"histogram\": [{\"marker\": {\"colorbar\": {\"outlinewidth\": 0, \"ticks\": \"\"}}, \"type\": \"histogram\"}], \"histogram2d\": [{\"colorbar\": {\"outlinewidth\": 0, \"ticks\": \"\"}, \"colorscale\": [[0.0, \"#0d0887\"], [0.1111111111111111, \"#46039f\"], [0.2222222222222222, \"#7201a8\"], [0.3333333333333333, \"#9c179e\"], [0.4444444444444444, \"#bd3786\"], [0.5555555555555556, \"#d8576b\"], [0.6666666666666666, \"#ed7953\"], [0.7777777777777778, \"#fb9f3a\"], [0.8888888888888888, \"#fdca26\"], [1.0, \"#f0f921\"]], \"type\": \"histogram2d\"}], \"histogram2dcontour\": [{\"colorbar\": {\"outlinewidth\": 0, \"ticks\": \"\"}, \"colorscale\": [[0.0, \"#0d0887\"], [0.1111111111111111, \"#46039f\"], [0.2222222222222222, \"#7201a8\"], [0.3333333333333333, \"#9c179e\"], [0.4444444444444444, \"#bd3786\"], [0.5555555555555556, \"#d8576b\"], [0.6666666666666666, \"#ed7953\"], [0.7777777777777778, \"#fb9f3a\"], [0.8888888888888888, \"#fdca26\"], [1.0, \"#f0f921\"]], \"type\": \"histogram2dcontour\"}], \"mesh3d\": [{\"colorbar\": {\"outlinewidth\": 0, \"ticks\": \"\"}, \"type\": \"mesh3d\"}], \"parcoords\": [{\"line\": {\"colorbar\": {\"outlinewidth\": 0, \"ticks\": \"\"}}, \"type\": \"parcoords\"}], \"pie\": [{\"automargin\": true, \"type\": \"pie\"}], \"scatter\": [{\"marker\": {\"colorbar\": {\"outlinewidth\": 0, \"ticks\": \"\"}}, \"type\": \"scatter\"}], \"scatter3d\": [{\"line\": {\"colorbar\": {\"outlinewidth\": 0, \"ticks\": \"\"}}, \"marker\": {\"colorbar\": {\"outlinewidth\": 0, \"ticks\": \"\"}}, \"type\": \"scatter3d\"}], \"scattercarpet\": [{\"marker\": {\"colorbar\": {\"outlinewidth\": 0, \"ticks\": \"\"}}, \"type\": \"scattercarpet\"}], \"scattergeo\": [{\"marker\": {\"colorbar\": {\"outlinewidth\": 0, \"ticks\": \"\"}}, \"type\": \"scattergeo\"}], \"scattergl\": [{\"marker\": {\"colorbar\": {\"outlinewidth\": 0, \"ticks\": \"\"}}, \"type\": \"scattergl\"}], \"scattermapbox\": [{\"marker\": {\"colorbar\": {\"outlinewidth\": 0, \"ticks\": \"\"}}, \"type\": \"scattermapbox\"}], \"scatterpolar\": [{\"marker\": {\"colorbar\": {\"outlinewidth\": 0, \"ticks\": \"\"}}, \"type\": \"scatterpolar\"}], \"scatterpolargl\": [{\"marker\": {\"colorbar\": {\"outlinewidth\": 0, \"ticks\": \"\"}}, \"type\": \"scatterpolargl\"}], \"scatterternary\": [{\"marker\": {\"colorbar\": {\"outlinewidth\": 0, \"ticks\": \"\"}}, \"type\": \"scatterternary\"}], \"surface\": [{\"colorbar\": {\"outlinewidth\": 0, \"ticks\": \"\"}, \"colorscale\": [[0.0, \"#0d0887\"], [0.1111111111111111, \"#46039f\"], [0.2222222222222222, \"#7201a8\"], [0.3333333333333333, \"#9c179e\"], [0.4444444444444444, \"#bd3786\"], [0.5555555555555556, \"#d8576b\"], [0.6666666666666666, \"#ed7953\"], [0.7777777777777778, \"#fb9f3a\"], [0.8888888888888888, \"#fdca26\"], [1.0, \"#f0f921\"]], \"type\": \"surface\"}], \"table\": [{\"cells\": {\"fill\": {\"color\": \"#EBF0F8\"}, \"line\": {\"color\": \"white\"}}, \"header\": {\"fill\": {\"color\": \"#C8D4E3\"}, \"line\": {\"color\": \"white\"}}, \"type\": \"table\"}]}, \"layout\": {\"annotationdefaults\": {\"arrowcolor\": \"#2a3f5f\", \"arrowhead\": 0, \"arrowwidth\": 1}, \"coloraxis\": {\"colorbar\": {\"outlinewidth\": 0, \"ticks\": \"\"}}, \"colorscale\": {\"diverging\": [[0, \"#8e0152\"], [0.1, \"#c51b7d\"], [0.2, \"#de77ae\"], [0.3, \"#f1b6da\"], [0.4, \"#fde0ef\"], [0.5, \"#f7f7f7\"], [0.6, \"#e6f5d0\"], [0.7, \"#b8e186\"], [0.8, \"#7fbc41\"], [0.9, \"#4d9221\"], [1, \"#276419\"]], \"sequential\": [[0.0, \"#0d0887\"], [0.1111111111111111, \"#46039f\"], [0.2222222222222222, \"#7201a8\"], [0.3333333333333333, \"#9c179e\"], [0.4444444444444444, \"#bd3786\"], [0.5555555555555556, \"#d8576b\"], [0.6666666666666666, \"#ed7953\"], [0.7777777777777778, \"#fb9f3a\"], [0.8888888888888888, \"#fdca26\"], [1.0, \"#f0f921\"]], \"sequentialminus\": [[0.0, \"#0d0887\"], [0.1111111111111111, \"#46039f\"], [0.2222222222222222, \"#7201a8\"], [0.3333333333333333, \"#9c179e\"], [0.4444444444444444, \"#bd3786\"], [0.5555555555555556, \"#d8576b\"], [0.6666666666666666, \"#ed7953\"], [0.7777777777777778, \"#fb9f3a\"], [0.8888888888888888, \"#fdca26\"], [1.0, \"#f0f921\"]]}, \"colorway\": [\"#636efa\", \"#EF553B\", \"#00cc96\", \"#ab63fa\", \"#FFA15A\", \"#19d3f3\", \"#FF6692\", \"#B6E880\", \"#FF97FF\", \"#FECB52\"], \"font\": {\"color\": \"#2a3f5f\"}, \"geo\": {\"bgcolor\": \"white\", \"lakecolor\": \"white\", \"landcolor\": \"#E5ECF6\", \"showlakes\": true, \"showland\": true, \"subunitcolor\": \"white\"}, \"hoverlabel\": {\"align\": \"left\"}, \"hovermode\": \"closest\", \"mapbox\": {\"style\": \"light\"}, \"paper_bgcolor\": \"white\", \"plot_bgcolor\": \"#E5ECF6\", \"polar\": {\"angularaxis\": {\"gridcolor\": \"white\", \"linecolor\": \"white\", \"ticks\": \"\"}, \"bgcolor\": \"#E5ECF6\", \"radialaxis\": {\"gridcolor\": \"white\", \"linecolor\": \"white\", \"ticks\": \"\"}}, \"scene\": {\"xaxis\": {\"backgroundcolor\": \"#E5ECF6\", \"gridcolor\": \"white\", \"gridwidth\": 2, \"linecolor\": \"white\", \"showbackground\": true, \"ticks\": \"\", \"zerolinecolor\": \"white\"}, \"yaxis\": {\"backgroundcolor\": \"#E5ECF6\", \"gridcolor\": \"white\", \"gridwidth\": 2, \"linecolor\": \"white\", \"showbackground\": true, \"ticks\": \"\", \"zerolinecolor\": \"white\"}, \"zaxis\": {\"backgroundcolor\": \"#E5ECF6\", \"gridcolor\": \"white\", \"gridwidth\": 2, \"linecolor\": \"white\", \"showbackground\": true, \"ticks\": \"\", \"zerolinecolor\": \"white\"}}, \"shapedefaults\": {\"line\": {\"color\": \"#2a3f5f\"}}, \"ternary\": {\"aaxis\": {\"gridcolor\": \"white\", \"linecolor\": \"white\", \"ticks\": \"\"}, \"baxis\": {\"gridcolor\": \"white\", \"linecolor\": \"white\", \"ticks\": \"\"}, \"bgcolor\": \"#E5ECF6\", \"caxis\": {\"gridcolor\": \"white\", \"linecolor\": \"white\", \"ticks\": \"\"}}, \"title\": {\"x\": 0.05}, \"xaxis\": {\"automargin\": true, \"gridcolor\": \"white\", \"linecolor\": \"white\", \"ticks\": \"\", \"title\": {\"standoff\": 15}, \"zerolinecolor\": \"white\", \"zerolinewidth\": 2}, \"yaxis\": {\"automargin\": true, \"gridcolor\": \"white\", \"linecolor\": \"white\", \"ticks\": \"\", \"title\": {\"standoff\": 15}, \"zerolinecolor\": \"white\", \"zerolinewidth\": 2}}}, \"title\": {\"text\": \"Training and val accuracy across epochs\"}, \"xaxis\": {\"title\": {\"text\": \"epochs\"}}, \"yaxis\": {\"title\": {\"text\": \"Accuracy\"}}},\n",
       "                        {\"responsive\": true}\n",
       "                    ).then(function(){\n",
       "                            \n",
       "var gd = document.getElementById('05486a3d-751e-4544-a13c-5cb670760e03');\n",
       "var x = new MutationObserver(function (mutations, observer) {{\n",
       "        var display = window.getComputedStyle(gd).display;\n",
       "        if (!display || display === 'none') {{\n",
       "            console.log([gd, 'removed!']);\n",
       "            Plotly.purge(gd);\n",
       "            observer.disconnect();\n",
       "        }}\n",
       "}});\n",
       "\n",
       "// Listen for the removal of the full notebook cells\n",
       "var notebookContainer = gd.closest('#notebook-container');\n",
       "if (notebookContainer) {{\n",
       "    x.observe(notebookContainer, {childList: true});\n",
       "}}\n",
       "\n",
       "// Listen for the clearing of the current output cell\n",
       "var outputEl = gd.closest('.output');\n",
       "if (outputEl) {{\n",
       "    x.observe(outputEl, {childList: true});\n",
       "}}\n",
       "\n",
       "                        })\n",
       "                };\n",
       "                \n",
       "            </script>\n",
       "        </div>\n",
       "</body>\n",
       "</html>"
      ]
     },
     "metadata": {
      "tags": []
     },
     "output_type": "display_data"
    }
   ],
   "source": [
    "from plotly import graph_objects as go\n",
    "fig = go.Figure(data=[\n",
    "                      go.Scatter(\n",
    "                          y=history.history[\"sparse_categorical_accuracy\"],\n",
    "                          name=\"Training accuracy\",\n",
    "                          mode=\"lines\",\n",
    "                          marker=dict(\n",
    "                              color=color_chart[4]\n",
    "                          )),\n",
    "                      go.Scatter(\n",
    "                          y=history.history[\"val_sparse_categorical_accuracy\"],\n",
    "                          name=\"Validation accruracy\",\n",
    "                          mode=\"lines\",\n",
    "                          marker=dict(\n",
    "                              color=color_chart[5]\n",
    "                          ))\n",
    "])\n",
    "fig.update_layout(\n",
    "    title='Training and val accuracy across epochs',\n",
    "    xaxis_title='epochs',\n",
    "    yaxis_title='Accuracy'    \n",
    ")\n",
    "fig.show()"
   ]
  },
  {
   "cell_type": "markdown",
   "metadata": {
    "id": "hbHgUYtuPVQ8"
   },
   "source": [
    "We are able to visualize the evolution of the loss and the metrics during training on both the training set and the validation set. The validation set is not helpful for the training per se but makes it easy to see if the model starts over fitting. Let's give an example where the model overfits after a while."
   ]
  },
  {
   "cell_type": "code",
   "execution_count": 28,
   "metadata": {
    "colab": {
     "base_uri": "https://localhost:8080/"
    },
    "id": "jkm9tACFPvAd",
    "outputId": "26c46b34-1b25-4beb-8eb1-66fec85a2e0a"
   },
   "outputs": [
    {
     "name": "stdout",
     "output_type": "stream",
     "text": [
      "Epoch 1/40\n",
      "86/86 [==============================] - 1s 4ms/step - loss: 0.4735 - sparse_categorical_accuracy: 0.7566 - val_loss: 0.1591 - val_sparse_categorical_accuracy: 0.9298\n",
      "Epoch 2/40\n",
      "86/86 [==============================] - 0s 2ms/step - loss: 0.0620 - sparse_categorical_accuracy: 0.9772 - val_loss: 0.1207 - val_sparse_categorical_accuracy: 0.9561\n",
      "Epoch 3/40\n",
      "86/86 [==============================] - 0s 2ms/step - loss: 0.0317 - sparse_categorical_accuracy: 0.9947 - val_loss: 0.1060 - val_sparse_categorical_accuracy: 0.9825\n",
      "Epoch 4/40\n",
      "86/86 [==============================] - 0s 2ms/step - loss: 0.0219 - sparse_categorical_accuracy: 0.9951 - val_loss: 0.1378 - val_sparse_categorical_accuracy: 0.9561\n",
      "Epoch 5/40\n",
      "86/86 [==============================] - 0s 2ms/step - loss: 0.0106 - sparse_categorical_accuracy: 0.9975 - val_loss: 0.1674 - val_sparse_categorical_accuracy: 0.9561\n",
      "Epoch 6/40\n",
      "86/86 [==============================] - 0s 2ms/step - loss: 0.0109 - sparse_categorical_accuracy: 1.0000 - val_loss: 0.1290 - val_sparse_categorical_accuracy: 0.9825\n",
      "Epoch 7/40\n",
      "86/86 [==============================] - 0s 2ms/step - loss: 0.0082 - sparse_categorical_accuracy: 1.0000 - val_loss: 0.1415 - val_sparse_categorical_accuracy: 0.9737\n",
      "Epoch 8/40\n",
      "86/86 [==============================] - 0s 2ms/step - loss: 0.0036 - sparse_categorical_accuracy: 1.0000 - val_loss: 0.1671 - val_sparse_categorical_accuracy: 0.9737\n",
      "Epoch 9/40\n",
      "86/86 [==============================] - 0s 2ms/step - loss: 0.0023 - sparse_categorical_accuracy: 1.0000 - val_loss: 0.1687 - val_sparse_categorical_accuracy: 0.9737\n",
      "Epoch 10/40\n",
      "86/86 [==============================] - 0s 2ms/step - loss: 0.0019 - sparse_categorical_accuracy: 1.0000 - val_loss: 0.1840 - val_sparse_categorical_accuracy: 0.9737\n",
      "Epoch 11/40\n",
      "86/86 [==============================] - 0s 2ms/step - loss: 8.0105e-04 - sparse_categorical_accuracy: 1.0000 - val_loss: 0.1863 - val_sparse_categorical_accuracy: 0.9737\n",
      "Epoch 12/40\n",
      "86/86 [==============================] - 0s 2ms/step - loss: 6.6592e-04 - sparse_categorical_accuracy: 1.0000 - val_loss: 0.1972 - val_sparse_categorical_accuracy: 0.9737\n",
      "Epoch 13/40\n",
      "86/86 [==============================] - 0s 2ms/step - loss: 5.8599e-04 - sparse_categorical_accuracy: 1.0000 - val_loss: 0.2043 - val_sparse_categorical_accuracy: 0.9737\n",
      "Epoch 14/40\n",
      "86/86 [==============================] - 0s 2ms/step - loss: 5.1297e-04 - sparse_categorical_accuracy: 1.0000 - val_loss: 0.2084 - val_sparse_categorical_accuracy: 0.9737\n",
      "Epoch 15/40\n",
      "86/86 [==============================] - 0s 2ms/step - loss: 2.6071e-04 - sparse_categorical_accuracy: 1.0000 - val_loss: 0.2127 - val_sparse_categorical_accuracy: 0.9737\n",
      "Epoch 16/40\n",
      "86/86 [==============================] - 0s 2ms/step - loss: 3.3668e-04 - sparse_categorical_accuracy: 1.0000 - val_loss: 0.2162 - val_sparse_categorical_accuracy: 0.9737\n",
      "Epoch 17/40\n",
      "86/86 [==============================] - 0s 2ms/step - loss: 2.5459e-04 - sparse_categorical_accuracy: 1.0000 - val_loss: 0.2214 - val_sparse_categorical_accuracy: 0.9649\n",
      "Epoch 18/40\n",
      "86/86 [==============================] - 0s 2ms/step - loss: 2.0241e-04 - sparse_categorical_accuracy: 1.0000 - val_loss: 0.2263 - val_sparse_categorical_accuracy: 0.9649\n",
      "Epoch 19/40\n",
      "86/86 [==============================] - 0s 2ms/step - loss: 1.5599e-04 - sparse_categorical_accuracy: 1.0000 - val_loss: 0.2294 - val_sparse_categorical_accuracy: 0.9649\n",
      "Epoch 20/40\n",
      "86/86 [==============================] - 0s 2ms/step - loss: 2.7277e-04 - sparse_categorical_accuracy: 1.0000 - val_loss: 0.2317 - val_sparse_categorical_accuracy: 0.9649\n",
      "Epoch 21/40\n",
      "86/86 [==============================] - 0s 2ms/step - loss: 8.1604e-05 - sparse_categorical_accuracy: 1.0000 - val_loss: 0.2364 - val_sparse_categorical_accuracy: 0.9649\n",
      "Epoch 22/40\n",
      "86/86 [==============================] - 0s 2ms/step - loss: 1.8592e-04 - sparse_categorical_accuracy: 1.0000 - val_loss: 0.2408 - val_sparse_categorical_accuracy: 0.9649\n",
      "Epoch 23/40\n",
      "86/86 [==============================] - 0s 2ms/step - loss: 1.3413e-04 - sparse_categorical_accuracy: 1.0000 - val_loss: 0.2420 - val_sparse_categorical_accuracy: 0.9649\n",
      "Epoch 24/40\n",
      "86/86 [==============================] - 0s 2ms/step - loss: 6.8399e-05 - sparse_categorical_accuracy: 1.0000 - val_loss: 0.2500 - val_sparse_categorical_accuracy: 0.9649\n",
      "Epoch 25/40\n",
      "86/86 [==============================] - 0s 2ms/step - loss: 7.7983e-05 - sparse_categorical_accuracy: 1.0000 - val_loss: 0.2514 - val_sparse_categorical_accuracy: 0.9649\n",
      "Epoch 26/40\n",
      "86/86 [==============================] - 0s 2ms/step - loss: 1.4139e-04 - sparse_categorical_accuracy: 1.0000 - val_loss: 0.2531 - val_sparse_categorical_accuracy: 0.9649\n",
      "Epoch 27/40\n",
      "86/86 [==============================] - 0s 2ms/step - loss: 9.7112e-05 - sparse_categorical_accuracy: 1.0000 - val_loss: 0.2561 - val_sparse_categorical_accuracy: 0.9649\n",
      "Epoch 28/40\n",
      "86/86 [==============================] - 0s 2ms/step - loss: 6.4974e-05 - sparse_categorical_accuracy: 1.0000 - val_loss: 0.2592 - val_sparse_categorical_accuracy: 0.9649\n",
      "Epoch 29/40\n",
      "86/86 [==============================] - 0s 2ms/step - loss: 3.9325e-05 - sparse_categorical_accuracy: 1.0000 - val_loss: 0.2614 - val_sparse_categorical_accuracy: 0.9649\n",
      "Epoch 30/40\n",
      "86/86 [==============================] - 0s 2ms/step - loss: 4.1142e-05 - sparse_categorical_accuracy: 1.0000 - val_loss: 0.2635 - val_sparse_categorical_accuracy: 0.9649\n",
      "Epoch 31/40\n",
      "86/86 [==============================] - 0s 2ms/step - loss: 3.3839e-05 - sparse_categorical_accuracy: 1.0000 - val_loss: 0.2671 - val_sparse_categorical_accuracy: 0.9649\n",
      "Epoch 32/40\n",
      "86/86 [==============================] - 0s 2ms/step - loss: 7.2273e-05 - sparse_categorical_accuracy: 1.0000 - val_loss: 0.2701 - val_sparse_categorical_accuracy: 0.9649\n",
      "Epoch 33/40\n",
      "86/86 [==============================] - 0s 5ms/step - loss: 3.5641e-05 - sparse_categorical_accuracy: 1.0000 - val_loss: 0.2716 - val_sparse_categorical_accuracy: 0.9649\n",
      "Epoch 34/40\n",
      "86/86 [==============================] - 0s 2ms/step - loss: 4.5292e-05 - sparse_categorical_accuracy: 1.0000 - val_loss: 0.2733 - val_sparse_categorical_accuracy: 0.9649\n",
      "Epoch 35/40\n",
      "86/86 [==============================] - 0s 2ms/step - loss: 3.8955e-05 - sparse_categorical_accuracy: 1.0000 - val_loss: 0.2771 - val_sparse_categorical_accuracy: 0.9649\n",
      "Epoch 36/40\n",
      "86/86 [==============================] - 0s 2ms/step - loss: 3.7597e-05 - sparse_categorical_accuracy: 1.0000 - val_loss: 0.2795 - val_sparse_categorical_accuracy: 0.9649\n",
      "Epoch 37/40\n",
      "86/86 [==============================] - 0s 2ms/step - loss: 4.2245e-05 - sparse_categorical_accuracy: 1.0000 - val_loss: 0.2809 - val_sparse_categorical_accuracy: 0.9649\n",
      "Epoch 38/40\n",
      "86/86 [==============================] - 0s 3ms/step - loss: 1.8007e-05 - sparse_categorical_accuracy: 1.0000 - val_loss: 0.2836 - val_sparse_categorical_accuracy: 0.9649\n",
      "Epoch 39/40\n",
      "86/86 [==============================] - 0s 2ms/step - loss: 2.0451e-05 - sparse_categorical_accuracy: 1.0000 - val_loss: 0.2859 - val_sparse_categorical_accuracy: 0.9649\n",
      "Epoch 40/40\n",
      "86/86 [==============================] - 0s 2ms/step - loss: 1.3794e-05 - sparse_categorical_accuracy: 1.0000 - val_loss: 0.2891 - val_sparse_categorical_accuracy: 0.9649\n"
     ]
    }
   ],
   "source": [
    "from sklearn.datasets import load_breast_cancer\n",
    "\n",
    "cancer = load_breast_cancer() # load the data\n",
    "\n",
    "data = cancer.data # store training variables in data\n",
    "target = cancer.target # store target variable in target\n",
    "\n",
    "from sklearn.model_selection import train_test_split\n",
    "# Split 60% in train 20% in val 20% in test\n",
    "X_train, X_valtest, y_train, y_valtest = train_test_split(data,\n",
    "                                                          target,\n",
    "                                                          test_size=0.4,\n",
    "                                                          stratify=target)\n",
    "X_val, X_test, y_val, y_test = train_test_split(X_valtest, y_valtest,\n",
    "                                                test_size=0.5,\n",
    "                                                stratify=y_valtest)\n",
    "\n",
    "# Normalize the data\n",
    "from sklearn.preprocessing import StandardScaler\n",
    "sc = StandardScaler()\n",
    "X_train = sc.fit_transform(X_train)\n",
    "X_val = sc.transform(X_val)\n",
    "X_test = sc.transform(X_test)\n",
    "\n",
    "# Create the tensor slice datasets\n",
    "train = tf.data.Dataset.from_tensor_slices((X_train,y_train))\n",
    "val = tf.data.Dataset.from_tensor_slices((X_val,y_val))\n",
    "test = tf.data.Dataset.from_tensor_slices((X_test,y_test))\n",
    "\n",
    "# shuffle and batch\n",
    "train_batch = train.shuffle(len(X_train)).batch(4)\n",
    "val_batch = val.shuffle(len(X_val)).batch(4)\n",
    "test_batch = test.shuffle(len(X_test)).batch(4)\n",
    "\n",
    "model = Sequential([\n",
    "                    Dense(64,\"relu\",input_shape=[data.shape[1]]),\n",
    "                    Dense(32,\"relu\"),\n",
    "                    Dense(16,\"relu\"),\n",
    "                    Dense(8,\"relu\"),\n",
    "                    Dense(len(np.unique(target)), \"softmax\") \n",
    "])\n",
    "\n",
    "# Set up the optimizer\n",
    "opt = Adam(0.001)\n",
    "# define the loss function\n",
    "loss = SparseCategoricalCrossentropy()\n",
    "# define the performance metric\n",
    "metric = tf.keras.metrics.SparseCategoricalAccuracy()\n",
    "\n",
    "# Compile the model\n",
    "model.compile(optimizer=opt,\n",
    "              loss=loss,\n",
    "              metrics=[metric])\n",
    "\n",
    "history = model.fit(train_batch, epochs=40, validation_data=val_batch)"
   ]
  },
  {
   "cell_type": "code",
   "execution_count": 29,
   "metadata": {
    "colab": {
     "base_uri": "https://localhost:8080/",
     "height": 542
    },
    "id": "v0Y0N-OLSIy_",
    "outputId": "a316a08b-fe15-48aa-9570-132bd673e3e1"
   },
   "outputs": [
    {
     "data": {
      "text/html": [
       "<html>\n",
       "<head><meta charset=\"utf-8\" /></head>\n",
       "<body>\n",
       "    <div>\n",
       "            <script src=\"https://cdnjs.cloudflare.com/ajax/libs/mathjax/2.7.5/MathJax.js?config=TeX-AMS-MML_SVG\"></script><script type=\"text/javascript\">if (window.MathJax) {MathJax.Hub.Config({SVG: {font: \"STIX-Web\"}});}</script>\n",
       "                <script type=\"text/javascript\">window.PlotlyConfig = {MathJaxConfig: 'local'};</script>\n",
       "        <script src=\"https://cdn.plot.ly/plotly-latest.min.js\"></script>    \n",
       "            <div id=\"004bb17c-f69e-48a7-94c1-3e5fbc344262\" class=\"plotly-graph-div\" style=\"height:525px; width:100%;\"></div>\n",
       "            <script type=\"text/javascript\">\n",
       "                \n",
       "                    window.PLOTLYENV=window.PLOTLYENV || {};\n",
       "                    \n",
       "                if (document.getElementById(\"004bb17c-f69e-48a7-94c1-3e5fbc344262\")) {\n",
       "                    Plotly.newPlot(\n",
       "                        '004bb17c-f69e-48a7-94c1-3e5fbc344262',\n",
       "                        [{\"marker\": {\"color\": \"#4B9AC7\"}, \"mode\": \"lines\", \"name\": \"Training loss\", \"type\": \"scatter\", \"y\": [0.3026227355003357, 0.06499308347702026, 0.0314396396279335, 0.02676362171769142, 0.015570024959743023, 0.009419737383723259, 0.0066054887138307095, 0.003521580249071121, 0.0022322367876768112, 0.0013842820189893246, 0.0009651442524045706, 0.0007289752247743309, 0.0005436014616861939, 0.0004363188345450908, 0.00035861419746652246, 0.0002995184622704983, 0.00025247945450246334, 0.00021799205569550395, 0.00018946714408230036, 0.00016523513477295637, 0.00014468957670032978, 0.00012938659347128123, 0.00011425421689637005, 0.00010029609984485433, 8.934017387218773e-05, 8.05925446911715e-05, 7.350511441472918e-05, 6.594661681447178e-05, 6.013008169247769e-05, 5.481901825987734e-05, 4.996997449779883e-05, 4.583357440424152e-05, 4.183815690339543e-05, 3.8517919165315107e-05, 3.57576682290528e-05, 3.290234235464595e-05, 3.0128858270472847e-05, 2.8116095563746057e-05, 2.592339660623111e-05, 2.4163742637028918e-05]}, {\"marker\": {\"color\": \"#4BE8E0\"}, \"mode\": \"lines\", \"name\": \"Validation loss\", \"type\": \"scatter\", \"y\": [0.1591215580701828, 0.12067563831806183, 0.10603009909391403, 0.13781610131263733, 0.16737735271453857, 0.12900130450725555, 0.14154662191867828, 0.16705664992332458, 0.16867595911026, 0.18403033912181854, 0.18628554046154022, 0.19718968868255615, 0.20432905852794647, 0.20843292772769928, 0.2126815915107727, 0.21622252464294434, 0.22139397263526917, 0.22629320621490479, 0.2293751835823059, 0.2316950261592865, 0.23638896644115448, 0.24075056612491608, 0.24198518693447113, 0.25003913044929504, 0.25140905380249023, 0.2530602812767029, 0.25606730580329895, 0.2592189908027649, 0.26135551929473877, 0.2634900212287903, 0.2670828402042389, 0.27013781666755676, 0.27158209681510925, 0.2733270227909088, 0.27708786725997925, 0.27952471375465393, 0.2808501720428467, 0.28358304500579834, 0.2858637869358063, 0.2891184389591217]}],\n",
       "                        {\"shapes\": [{\"line\": {\"color\": \"red\", \"dash\": \"dot\", \"width\": 3}, \"name\": \"overfitting limit\", \"type\": \"line\", \"x0\": 2, \"x1\": 2, \"y0\": 2.4163742637028918e-05, \"y1\": 0.3026227355003357}], \"template\": {\"data\": {\"bar\": [{\"error_x\": {\"color\": \"#2a3f5f\"}, \"error_y\": {\"color\": \"#2a3f5f\"}, \"marker\": {\"line\": {\"color\": \"#E5ECF6\", \"width\": 0.5}}, \"type\": \"bar\"}], \"barpolar\": [{\"marker\": {\"line\": {\"color\": \"#E5ECF6\", \"width\": 0.5}}, \"type\": \"barpolar\"}], \"carpet\": [{\"aaxis\": {\"endlinecolor\": \"#2a3f5f\", \"gridcolor\": \"white\", \"linecolor\": \"white\", \"minorgridcolor\": \"white\", \"startlinecolor\": \"#2a3f5f\"}, \"baxis\": {\"endlinecolor\": \"#2a3f5f\", \"gridcolor\": \"white\", \"linecolor\": \"white\", \"minorgridcolor\": \"white\", \"startlinecolor\": \"#2a3f5f\"}, \"type\": \"carpet\"}], \"choropleth\": [{\"colorbar\": {\"outlinewidth\": 0, \"ticks\": \"\"}, \"type\": \"choropleth\"}], \"contour\": [{\"colorbar\": {\"outlinewidth\": 0, \"ticks\": \"\"}, \"colorscale\": [[0.0, \"#0d0887\"], [0.1111111111111111, \"#46039f\"], [0.2222222222222222, \"#7201a8\"], [0.3333333333333333, \"#9c179e\"], [0.4444444444444444, \"#bd3786\"], [0.5555555555555556, \"#d8576b\"], [0.6666666666666666, \"#ed7953\"], [0.7777777777777778, \"#fb9f3a\"], [0.8888888888888888, \"#fdca26\"], [1.0, \"#f0f921\"]], \"type\": \"contour\"}], \"contourcarpet\": [{\"colorbar\": {\"outlinewidth\": 0, \"ticks\": \"\"}, \"type\": \"contourcarpet\"}], \"heatmap\": [{\"colorbar\": {\"outlinewidth\": 0, \"ticks\": \"\"}, \"colorscale\": [[0.0, \"#0d0887\"], [0.1111111111111111, \"#46039f\"], [0.2222222222222222, \"#7201a8\"], [0.3333333333333333, \"#9c179e\"], [0.4444444444444444, \"#bd3786\"], [0.5555555555555556, \"#d8576b\"], [0.6666666666666666, \"#ed7953\"], [0.7777777777777778, \"#fb9f3a\"], [0.8888888888888888, \"#fdca26\"], [1.0, \"#f0f921\"]], \"type\": \"heatmap\"}], \"heatmapgl\": [{\"colorbar\": {\"outlinewidth\": 0, \"ticks\": \"\"}, \"colorscale\": [[0.0, \"#0d0887\"], [0.1111111111111111, \"#46039f\"], [0.2222222222222222, \"#7201a8\"], [0.3333333333333333, \"#9c179e\"], [0.4444444444444444, \"#bd3786\"], [0.5555555555555556, \"#d8576b\"], [0.6666666666666666, \"#ed7953\"], [0.7777777777777778, \"#fb9f3a\"], [0.8888888888888888, \"#fdca26\"], [1.0, \"#f0f921\"]], \"type\": \"heatmapgl\"}], \"histogram\": [{\"marker\": {\"colorbar\": {\"outlinewidth\": 0, \"ticks\": \"\"}}, \"type\": \"histogram\"}], \"histogram2d\": [{\"colorbar\": {\"outlinewidth\": 0, \"ticks\": \"\"}, \"colorscale\": [[0.0, \"#0d0887\"], [0.1111111111111111, \"#46039f\"], [0.2222222222222222, \"#7201a8\"], [0.3333333333333333, \"#9c179e\"], [0.4444444444444444, \"#bd3786\"], [0.5555555555555556, \"#d8576b\"], [0.6666666666666666, \"#ed7953\"], [0.7777777777777778, \"#fb9f3a\"], [0.8888888888888888, \"#fdca26\"], [1.0, \"#f0f921\"]], \"type\": \"histogram2d\"}], \"histogram2dcontour\": [{\"colorbar\": {\"outlinewidth\": 0, \"ticks\": \"\"}, \"colorscale\": [[0.0, \"#0d0887\"], [0.1111111111111111, \"#46039f\"], [0.2222222222222222, \"#7201a8\"], [0.3333333333333333, \"#9c179e\"], [0.4444444444444444, \"#bd3786\"], [0.5555555555555556, \"#d8576b\"], [0.6666666666666666, \"#ed7953\"], [0.7777777777777778, \"#fb9f3a\"], [0.8888888888888888, \"#fdca26\"], [1.0, \"#f0f921\"]], \"type\": \"histogram2dcontour\"}], \"mesh3d\": [{\"colorbar\": {\"outlinewidth\": 0, \"ticks\": \"\"}, \"type\": \"mesh3d\"}], \"parcoords\": [{\"line\": {\"colorbar\": {\"outlinewidth\": 0, \"ticks\": \"\"}}, \"type\": \"parcoords\"}], \"pie\": [{\"automargin\": true, \"type\": \"pie\"}], \"scatter\": [{\"marker\": {\"colorbar\": {\"outlinewidth\": 0, \"ticks\": \"\"}}, \"type\": \"scatter\"}], \"scatter3d\": [{\"line\": {\"colorbar\": {\"outlinewidth\": 0, \"ticks\": \"\"}}, \"marker\": {\"colorbar\": {\"outlinewidth\": 0, \"ticks\": \"\"}}, \"type\": \"scatter3d\"}], \"scattercarpet\": [{\"marker\": {\"colorbar\": {\"outlinewidth\": 0, \"ticks\": \"\"}}, \"type\": \"scattercarpet\"}], \"scattergeo\": [{\"marker\": {\"colorbar\": {\"outlinewidth\": 0, \"ticks\": \"\"}}, \"type\": \"scattergeo\"}], \"scattergl\": [{\"marker\": {\"colorbar\": {\"outlinewidth\": 0, \"ticks\": \"\"}}, \"type\": \"scattergl\"}], \"scattermapbox\": [{\"marker\": {\"colorbar\": {\"outlinewidth\": 0, \"ticks\": \"\"}}, \"type\": \"scattermapbox\"}], \"scatterpolar\": [{\"marker\": {\"colorbar\": {\"outlinewidth\": 0, \"ticks\": \"\"}}, \"type\": \"scatterpolar\"}], \"scatterpolargl\": [{\"marker\": {\"colorbar\": {\"outlinewidth\": 0, \"ticks\": \"\"}}, \"type\": \"scatterpolargl\"}], \"scatterternary\": [{\"marker\": {\"colorbar\": {\"outlinewidth\": 0, \"ticks\": \"\"}}, \"type\": \"scatterternary\"}], \"surface\": [{\"colorbar\": {\"outlinewidth\": 0, \"ticks\": \"\"}, \"colorscale\": [[0.0, \"#0d0887\"], [0.1111111111111111, \"#46039f\"], [0.2222222222222222, \"#7201a8\"], [0.3333333333333333, \"#9c179e\"], [0.4444444444444444, \"#bd3786\"], [0.5555555555555556, \"#d8576b\"], [0.6666666666666666, \"#ed7953\"], [0.7777777777777778, \"#fb9f3a\"], [0.8888888888888888, \"#fdca26\"], [1.0, \"#f0f921\"]], \"type\": \"surface\"}], \"table\": [{\"cells\": {\"fill\": {\"color\": \"#EBF0F8\"}, \"line\": {\"color\": \"white\"}}, \"header\": {\"fill\": {\"color\": \"#C8D4E3\"}, \"line\": {\"color\": \"white\"}}, \"type\": \"table\"}]}, \"layout\": {\"annotationdefaults\": {\"arrowcolor\": \"#2a3f5f\", \"arrowhead\": 0, \"arrowwidth\": 1}, \"coloraxis\": {\"colorbar\": {\"outlinewidth\": 0, \"ticks\": \"\"}}, \"colorscale\": {\"diverging\": [[0, \"#8e0152\"], [0.1, \"#c51b7d\"], [0.2, \"#de77ae\"], [0.3, \"#f1b6da\"], [0.4, \"#fde0ef\"], [0.5, \"#f7f7f7\"], [0.6, \"#e6f5d0\"], [0.7, \"#b8e186\"], [0.8, \"#7fbc41\"], [0.9, \"#4d9221\"], [1, \"#276419\"]], \"sequential\": [[0.0, \"#0d0887\"], [0.1111111111111111, \"#46039f\"], [0.2222222222222222, \"#7201a8\"], [0.3333333333333333, \"#9c179e\"], [0.4444444444444444, \"#bd3786\"], [0.5555555555555556, \"#d8576b\"], [0.6666666666666666, \"#ed7953\"], [0.7777777777777778, \"#fb9f3a\"], [0.8888888888888888, \"#fdca26\"], [1.0, \"#f0f921\"]], \"sequentialminus\": [[0.0, \"#0d0887\"], [0.1111111111111111, \"#46039f\"], [0.2222222222222222, \"#7201a8\"], [0.3333333333333333, \"#9c179e\"], [0.4444444444444444, \"#bd3786\"], [0.5555555555555556, \"#d8576b\"], [0.6666666666666666, \"#ed7953\"], [0.7777777777777778, \"#fb9f3a\"], [0.8888888888888888, \"#fdca26\"], [1.0, \"#f0f921\"]]}, \"colorway\": [\"#636efa\", \"#EF553B\", \"#00cc96\", \"#ab63fa\", \"#FFA15A\", \"#19d3f3\", \"#FF6692\", \"#B6E880\", \"#FF97FF\", \"#FECB52\"], \"font\": {\"color\": \"#2a3f5f\"}, \"geo\": {\"bgcolor\": \"white\", \"lakecolor\": \"white\", \"landcolor\": \"#E5ECF6\", \"showlakes\": true, \"showland\": true, \"subunitcolor\": \"white\"}, \"hoverlabel\": {\"align\": \"left\"}, \"hovermode\": \"closest\", \"mapbox\": {\"style\": \"light\"}, \"paper_bgcolor\": \"white\", \"plot_bgcolor\": \"#E5ECF6\", \"polar\": {\"angularaxis\": {\"gridcolor\": \"white\", \"linecolor\": \"white\", \"ticks\": \"\"}, \"bgcolor\": \"#E5ECF6\", \"radialaxis\": {\"gridcolor\": \"white\", \"linecolor\": \"white\", \"ticks\": \"\"}}, \"scene\": {\"xaxis\": {\"backgroundcolor\": \"#E5ECF6\", \"gridcolor\": \"white\", \"gridwidth\": 2, \"linecolor\": \"white\", \"showbackground\": true, \"ticks\": \"\", \"zerolinecolor\": \"white\"}, \"yaxis\": {\"backgroundcolor\": \"#E5ECF6\", \"gridcolor\": \"white\", \"gridwidth\": 2, \"linecolor\": \"white\", \"showbackground\": true, \"ticks\": \"\", \"zerolinecolor\": \"white\"}, \"zaxis\": {\"backgroundcolor\": \"#E5ECF6\", \"gridcolor\": \"white\", \"gridwidth\": 2, \"linecolor\": \"white\", \"showbackground\": true, \"ticks\": \"\", \"zerolinecolor\": \"white\"}}, \"shapedefaults\": {\"line\": {\"color\": \"#2a3f5f\"}}, \"ternary\": {\"aaxis\": {\"gridcolor\": \"white\", \"linecolor\": \"white\", \"ticks\": \"\"}, \"baxis\": {\"gridcolor\": \"white\", \"linecolor\": \"white\", \"ticks\": \"\"}, \"bgcolor\": \"#E5ECF6\", \"caxis\": {\"gridcolor\": \"white\", \"linecolor\": \"white\", \"ticks\": \"\"}}, \"title\": {\"x\": 0.05}, \"xaxis\": {\"automargin\": true, \"gridcolor\": \"white\", \"linecolor\": \"white\", \"ticks\": \"\", \"title\": {\"standoff\": 15}, \"zerolinecolor\": \"white\", \"zerolinewidth\": 2}, \"yaxis\": {\"automargin\": true, \"gridcolor\": \"white\", \"linecolor\": \"white\", \"ticks\": \"\", \"title\": {\"standoff\": 15}, \"zerolinecolor\": \"white\", \"zerolinewidth\": 2}}}, \"title\": {\"text\": \"Training and val loss across epochs\"}, \"xaxis\": {\"title\": {\"text\": \"epochs\"}}, \"yaxis\": {\"title\": {\"text\": \"Cross Entropy\"}}},\n",
       "                        {\"responsive\": true}\n",
       "                    ).then(function(){\n",
       "                            \n",
       "var gd = document.getElementById('004bb17c-f69e-48a7-94c1-3e5fbc344262');\n",
       "var x = new MutationObserver(function (mutations, observer) {{\n",
       "        var display = window.getComputedStyle(gd).display;\n",
       "        if (!display || display === 'none') {{\n",
       "            console.log([gd, 'removed!']);\n",
       "            Plotly.purge(gd);\n",
       "            observer.disconnect();\n",
       "        }}\n",
       "}});\n",
       "\n",
       "// Listen for the removal of the full notebook cells\n",
       "var notebookContainer = gd.closest('#notebook-container');\n",
       "if (notebookContainer) {{\n",
       "    x.observe(notebookContainer, {childList: true});\n",
       "}}\n",
       "\n",
       "// Listen for the clearing of the current output cell\n",
       "var outputEl = gd.closest('.output');\n",
       "if (outputEl) {{\n",
       "    x.observe(outputEl, {childList: true});\n",
       "}}\n",
       "\n",
       "                        })\n",
       "                };\n",
       "                \n",
       "            </script>\n",
       "        </div>\n",
       "</body>\n",
       "</html>"
      ]
     },
     "metadata": {
      "tags": []
     },
     "output_type": "display_data"
    }
   ],
   "source": [
    "from plotly import graph_objects as go\n",
    "fig = go.Figure(data=[\n",
    "                      go.Scatter(\n",
    "                          y=history.history[\"loss\"],\n",
    "                          name=\"Training loss\",\n",
    "                          mode=\"lines\",\n",
    "                          marker=dict(\n",
    "                              color=color_chart[0]\n",
    "                          )),\n",
    "                      go.Scatter(\n",
    "                          y=history.history[\"val_loss\"],\n",
    "                          name=\"Validation loss\",\n",
    "                          mode=\"lines\",\n",
    "                          marker=dict(\n",
    "                              color=color_chart[1]\n",
    "                          ))\n",
    "])\n",
    "# Add shapes\n",
    "fig.add_shape(type=\"line\",\n",
    "    x0=np.argmin(history.history[\"val_loss\"]),\n",
    "    y0=np.min(history.history[\"loss\"]),\n",
    "    x1=np.argmin(history.history[\"val_loss\"]),\n",
    "    y1=np.max(history.history[\"loss\"]),\n",
    "    line=dict(color=\"red\",width=3,dash=\"dot\"),\n",
    "    name=\"overfitting limit\"\n",
    ")\n",
    "fig.update_layout(\n",
    "    title='Training and val loss across epochs',\n",
    "    xaxis_title='epochs',\n",
    "    yaxis_title='Cross Entropy'    \n",
    ")\n",
    "fig.show()"
   ]
  },
  {
   "cell_type": "markdown",
   "metadata": {
    "id": "eDGh1lDJWjr1"
   },
   "source": [
    "In terms of the loss function, this model starts over fitting after the red dotted line, unfortunately we continued the training after this point and we do not have access to the parameters of the model before it started overfitting.\n",
    "\n",
    "In what follows we will learn how to tackle that problem, but first, let's learn how to make predictions!"
   ]
  },
  {
   "cell_type": "markdown",
   "metadata": {
    "id": "eRGxcSxY0Uet"
   },
   "source": [
    "## Make predictions 🔮🔮\n",
    "\n",
    "Now that the model is trained, we are ready to make predictions and evaluate the model!"
   ]
  },
  {
   "cell_type": "code",
   "execution_count": 30,
   "metadata": {
    "colab": {
     "base_uri": "https://localhost:8080/"
    },
    "id": "RGL71Q8U1Jmo",
    "outputId": "92ab099f-4c88-457c-f9fc-3f37075e216e"
   },
   "outputs": [
    {
     "data": {
      "text/plain": [
       "array([[1.47105800e-06, 9.99998569e-01],\n",
       "       [1.09372606e-11, 1.00000000e+00],\n",
       "       [1.08069775e-10, 1.00000000e+00],\n",
       "       [1.71308341e-06, 9.99998331e-01]], dtype=float32)"
      ]
     },
     "execution_count": 30,
     "metadata": {
      "tags": []
     },
     "output_type": "execute_result"
    }
   ],
   "source": [
    "# Let's make predictions on the first batch of the test set\n",
    "test_input, test_target = next(iter(test_batch))\n",
    "pred = model.predict(test_input)\n",
    "pred\n",
    "# we get one porbability for each class"
   ]
  },
  {
   "cell_type": "code",
   "execution_count": 31,
   "metadata": {
    "colab": {
     "base_uri": "https://localhost:8080/"
    },
    "id": "Fx6LnRJc2rDu",
    "outputId": "a1e69d40-d3c8-4741-f7fb-10dbed8e7f78"
   },
   "outputs": [
    {
     "data": {
      "text/plain": [
       "<tf.Tensor: shape=(4,), dtype=int64, numpy=array([1, 1, 1, 1])>"
      ]
     },
     "execution_count": 31,
     "metadata": {
      "tags": []
     },
     "output_type": "execute_result"
    }
   ],
   "source": [
    "# let's convert these predictions into classes\n",
    "tf.argmax(pred, axis = 1)"
   ]
  },
  {
   "cell_type": "code",
   "execution_count": 32,
   "metadata": {
    "colab": {
     "base_uri": "https://localhost:8080/"
    },
    "id": "SFkKcHTb3DRW",
    "outputId": "cccf94a2-0004-43bb-da06-8837326709e5"
   },
   "outputs": [
    {
     "data": {
      "text/plain": [
       "<tf.Tensor: shape=(4,), dtype=int64, numpy=array([1, 1, 1, 1])>"
      ]
     },
     "execution_count": 32,
     "metadata": {
      "tags": []
     },
     "output_type": "execute_result"
    }
   ],
   "source": [
    "# let's take a look at the target values\n",
    "test_target"
   ]
  },
  {
   "cell_type": "markdown",
   "metadata": {
    "id": "27JmBcqjXHjG"
   },
   "source": [
    "## Load and Save models 💾💾\n",
    "\n",
    "We have now learned almost all the basics of tensorflow and keras and you are almost ready to tackle many different problems using deep learning models! But before we let you practice we will teach you one last and very useful set of skills: how to save your models to be able to use them later!\n",
    "\n"
   ]
  },
  {
   "cell_type": "markdown",
   "metadata": {
    "id": "POe9eymad0Pg"
   },
   "source": [
    "### Checkpoints ✔️\n",
    "\n",
    "Checkpoints are versions of the model that we save directly during training, this is very useful because if the model starts overfitting after a while we won't lose the intermediate versions and we will be able to go back to a version of the model before it started overfitting! Is'nt that great?\n",
    "\n",
    "Let's learn how to do it with code!"
   ]
  },
  {
   "cell_type": "code",
   "execution_count": 33,
   "metadata": {
    "colab": {
     "base_uri": "https://localhost:8080/"
    },
    "id": "7t9eFCCHYAP7",
    "outputId": "b886929e-a476-4778-f37f-325076d0bb0b"
   },
   "outputs": [
    {
     "name": "stdout",
     "output_type": "stream",
     "text": [
      "Epoch 1/40\n",
      "64/86 [=====================>........] - ETA: 0s - loss: 0.6027 - sparse_categorical_accuracy: 0.6281\n",
      "Epoch 00001: saving model to training/cp-0001.ckpt\n",
      "86/86 [==============================] - 1s 5ms/step - loss: 0.5572 - sparse_categorical_accuracy: 0.6799 - val_loss: 0.1767 - val_sparse_categorical_accuracy: 0.9474\n",
      "Epoch 2/40\n",
      "72/86 [========================>.....] - ETA: 0s - loss: 0.0995 - sparse_categorical_accuracy: 0.9638\n",
      "Epoch 00002: saving model to training/cp-0002.ckpt\n",
      "86/86 [==============================] - 0s 3ms/step - loss: 0.0969 - sparse_categorical_accuracy: 0.9651 - val_loss: 0.1159 - val_sparse_categorical_accuracy: 0.9561\n",
      "Epoch 3/40\n",
      "69/86 [=======================>......] - ETA: 0s - loss: 0.0295 - sparse_categorical_accuracy: 0.9965\n",
      "Epoch 00003: saving model to training/cp-0003.ckpt\n",
      "86/86 [==============================] - 0s 3ms/step - loss: 0.0323 - sparse_categorical_accuracy: 0.9947 - val_loss: 0.1416 - val_sparse_categorical_accuracy: 0.9474\n",
      "Epoch 4/40\n",
      "68/86 [======================>.......] - ETA: 0s - loss: 0.0293 - sparse_categorical_accuracy: 0.9933\n",
      "Epoch 00004: saving model to training/cp-0004.ckpt\n",
      "86/86 [==============================] - 0s 3ms/step - loss: 0.0287 - sparse_categorical_accuracy: 0.9933 - val_loss: 0.1166 - val_sparse_categorical_accuracy: 0.9649\n",
      "Epoch 5/40\n",
      "61/86 [====================>.........] - ETA: 0s - loss: 0.0227 - sparse_categorical_accuracy: 1.0000\n",
      "Epoch 00005: saving model to training/cp-0005.ckpt\n",
      "86/86 [==============================] - 0s 3ms/step - loss: 0.0211 - sparse_categorical_accuracy: 1.0000 - val_loss: 0.1490 - val_sparse_categorical_accuracy: 0.9561\n",
      "Epoch 6/40\n",
      "59/86 [===================>..........] - ETA: 0s - loss: 0.0111 - sparse_categorical_accuracy: 1.0000\n",
      "Epoch 00006: saving model to training/cp-0006.ckpt\n",
      "86/86 [==============================] - 0s 3ms/step - loss: 0.0115 - sparse_categorical_accuracy: 1.0000 - val_loss: 0.1513 - val_sparse_categorical_accuracy: 0.9561\n",
      "Epoch 7/40\n",
      "66/86 [======================>.......] - ETA: 0s - loss: 0.0025 - sparse_categorical_accuracy: 1.0000    \n",
      "Epoch 00007: saving model to training/cp-0007.ckpt\n",
      "86/86 [==============================] - 0s 3ms/step - loss: 0.0035 - sparse_categorical_accuracy: 1.0000 - val_loss: 0.1633 - val_sparse_categorical_accuracy: 0.9561\n",
      "Epoch 8/40\n",
      "68/86 [======================>.......] - ETA: 0s - loss: 0.0056 - sparse_categorical_accuracy: 1.0000\n",
      "Epoch 00008: saving model to training/cp-0008.ckpt\n",
      "86/86 [==============================] - 0s 3ms/step - loss: 0.0053 - sparse_categorical_accuracy: 1.0000 - val_loss: 0.1684 - val_sparse_categorical_accuracy: 0.9561\n",
      "Epoch 9/40\n",
      "65/86 [=====================>........] - ETA: 0s - loss: 0.0033 - sparse_categorical_accuracy: 1.0000\n",
      "Epoch 00009: saving model to training/cp-0009.ckpt\n",
      "86/86 [==============================] - 0s 3ms/step - loss: 0.0033 - sparse_categorical_accuracy: 1.0000 - val_loss: 0.1890 - val_sparse_categorical_accuracy: 0.9561\n",
      "Epoch 10/40\n",
      "58/86 [===================>..........] - ETA: 0s - loss: 0.0043 - sparse_categorical_accuracy: 1.0000\n",
      "Epoch 00010: saving model to training/cp-0010.ckpt\n",
      "86/86 [==============================] - 0s 3ms/step - loss: 0.0038 - sparse_categorical_accuracy: 1.0000 - val_loss: 0.2071 - val_sparse_categorical_accuracy: 0.9561\n",
      "Epoch 11/40\n",
      "58/86 [===================>..........] - ETA: 0s - loss: 0.0026 - sparse_categorical_accuracy: 1.0000\n",
      "Epoch 00011: saving model to training/cp-0011.ckpt\n",
      "86/86 [==============================] - 0s 3ms/step - loss: 0.0024 - sparse_categorical_accuracy: 1.0000 - val_loss: 0.2080 - val_sparse_categorical_accuracy: 0.9561\n",
      "Epoch 12/40\n",
      "65/86 [=====================>........] - ETA: 0s - loss: 8.2043e-04 - sparse_categorical_accuracy: 1.0000\n",
      "Epoch 00012: saving model to training/cp-0012.ckpt\n",
      "86/86 [==============================] - 0s 3ms/step - loss: 9.7656e-04 - sparse_categorical_accuracy: 1.0000 - val_loss: 0.2143 - val_sparse_categorical_accuracy: 0.9561\n",
      "Epoch 13/40\n",
      "60/86 [===================>..........] - ETA: 0s - loss: 0.0014 - sparse_categorical_accuracy: 1.0000\n",
      "Epoch 00013: saving model to training/cp-0013.ckpt\n",
      "86/86 [==============================] - 0s 3ms/step - loss: 0.0013 - sparse_categorical_accuracy: 1.0000 - val_loss: 0.2256 - val_sparse_categorical_accuracy: 0.9561\n",
      "Epoch 14/40\n",
      "85/86 [============================>.] - ETA: 0s - loss: 8.9644e-04 - sparse_categorical_accuracy: 1.0000\n",
      "Epoch 00014: saving model to training/cp-0014.ckpt\n",
      "86/86 [==============================] - 0s 3ms/step - loss: 8.9621e-04 - sparse_categorical_accuracy: 1.0000 - val_loss: 0.2343 - val_sparse_categorical_accuracy: 0.9561\n",
      "Epoch 15/40\n",
      "69/86 [=======================>......] - ETA: 0s - loss: 6.4498e-04 - sparse_categorical_accuracy: 1.0000\n",
      "Epoch 00015: saving model to training/cp-0015.ckpt\n",
      "86/86 [==============================] - 0s 3ms/step - loss: 6.4844e-04 - sparse_categorical_accuracy: 1.0000 - val_loss: 0.2373 - val_sparse_categorical_accuracy: 0.9561\n",
      "Epoch 16/40\n",
      "73/86 [========================>.....] - ETA: 0s - loss: 4.9389e-04 - sparse_categorical_accuracy: 1.0000\n",
      "Epoch 00016: saving model to training/cp-0016.ckpt\n",
      "86/86 [==============================] - 0s 3ms/step - loss: 5.1280e-04 - sparse_categorical_accuracy: 1.0000 - val_loss: 0.2438 - val_sparse_categorical_accuracy: 0.9561\n",
      "Epoch 17/40\n",
      "65/86 [=====================>........] - ETA: 0s - loss: 5.7422e-04 - sparse_categorical_accuracy: 1.0000\n",
      "Epoch 00017: saving model to training/cp-0017.ckpt\n",
      "86/86 [==============================] - 0s 3ms/step - loss: 5.6164e-04 - sparse_categorical_accuracy: 1.0000 - val_loss: 0.2468 - val_sparse_categorical_accuracy: 0.9561\n",
      "Epoch 18/40\n",
      "63/86 [====================>.........] - ETA: 0s - loss: 2.2530e-04 - sparse_categorical_accuracy: 1.0000\n",
      "Epoch 00018: saving model to training/cp-0018.ckpt\n",
      "86/86 [==============================] - 0s 6ms/step - loss: 2.8126e-04 - sparse_categorical_accuracy: 1.0000 - val_loss: 0.2520 - val_sparse_categorical_accuracy: 0.9561\n",
      "Epoch 19/40\n",
      "60/86 [===================>..........] - ETA: 0s - loss: 3.6598e-04 - sparse_categorical_accuracy: 1.0000\n",
      "Epoch 00019: saving model to training/cp-0019.ckpt\n",
      "86/86 [==============================] - 0s 3ms/step - loss: 3.7585e-04 - sparse_categorical_accuracy: 1.0000 - val_loss: 0.2578 - val_sparse_categorical_accuracy: 0.9561\n",
      "Epoch 20/40\n",
      "74/86 [========================>.....] - ETA: 0s - loss: 3.7067e-04 - sparse_categorical_accuracy: 1.0000\n",
      "Epoch 00020: saving model to training/cp-0020.ckpt\n",
      "86/86 [==============================] - 0s 3ms/step - loss: 3.6749e-04 - sparse_categorical_accuracy: 1.0000 - val_loss: 0.2609 - val_sparse_categorical_accuracy: 0.9561\n",
      "Epoch 21/40\n",
      "72/86 [========================>.....] - ETA: 0s - loss: 3.4569e-04 - sparse_categorical_accuracy: 1.0000\n",
      "Epoch 00021: saving model to training/cp-0021.ckpt\n",
      "86/86 [==============================] - 0s 3ms/step - loss: 3.3202e-04 - sparse_categorical_accuracy: 1.0000 - val_loss: 0.2692 - val_sparse_categorical_accuracy: 0.9561\n",
      "Epoch 22/40\n",
      "77/86 [=========================>....] - ETA: 0s - loss: 3.2708e-04 - sparse_categorical_accuracy: 1.0000\n",
      "Epoch 00022: saving model to training/cp-0022.ckpt\n",
      "86/86 [==============================] - 0s 3ms/step - loss: 3.2034e-04 - sparse_categorical_accuracy: 1.0000 - val_loss: 0.2723 - val_sparse_categorical_accuracy: 0.9561\n",
      "Epoch 23/40\n",
      "63/86 [====================>.........] - ETA: 0s - loss: 2.8711e-04 - sparse_categorical_accuracy: 1.0000\n",
      "Epoch 00023: saving model to training/cp-0023.ckpt\n",
      "86/86 [==============================] - 0s 3ms/step - loss: 2.7598e-04 - sparse_categorical_accuracy: 1.0000 - val_loss: 0.2770 - val_sparse_categorical_accuracy: 0.9561\n",
      "Epoch 24/40\n",
      "64/86 [=====================>........] - ETA: 0s - loss: 1.5449e-04 - sparse_categorical_accuracy: 1.0000\n",
      "Epoch 00024: saving model to training/cp-0024.ckpt\n",
      "86/86 [==============================] - 0s 3ms/step - loss: 1.6208e-04 - sparse_categorical_accuracy: 1.0000 - val_loss: 0.2800 - val_sparse_categorical_accuracy: 0.9561\n",
      "Epoch 25/40\n",
      "72/86 [========================>.....] - ETA: 0s - loss: 1.1819e-04 - sparse_categorical_accuracy: 1.0000\n",
      "Epoch 00025: saving model to training/cp-0025.ckpt\n",
      "86/86 [==============================] - 0s 2ms/step - loss: 1.2981e-04 - sparse_categorical_accuracy: 1.0000 - val_loss: 0.2838 - val_sparse_categorical_accuracy: 0.9561\n",
      "Epoch 26/40\n",
      "66/86 [======================>.......] - ETA: 0s - loss: 1.1633e-04 - sparse_categorical_accuracy: 1.0000\n",
      "Epoch 00026: saving model to training/cp-0026.ckpt\n",
      "86/86 [==============================] - 0s 3ms/step - loss: 1.2709e-04 - sparse_categorical_accuracy: 1.0000 - val_loss: 0.2869 - val_sparse_categorical_accuracy: 0.9561\n",
      "Epoch 27/40\n",
      "76/86 [=========================>....] - ETA: 0s - loss: 1.6296e-04 - sparse_categorical_accuracy: 1.0000\n",
      "Epoch 00027: saving model to training/cp-0027.ckpt\n",
      "86/86 [==============================] - 0s 2ms/step - loss: 1.5974e-04 - sparse_categorical_accuracy: 1.0000 - val_loss: 0.2905 - val_sparse_categorical_accuracy: 0.9561\n",
      "Epoch 28/40\n",
      "58/86 [===================>..........] - ETA: 0s - loss: 2.0923e-04 - sparse_categorical_accuracy: 1.0000\n",
      "Epoch 00028: saving model to training/cp-0028.ckpt\n",
      "86/86 [==============================] - 0s 3ms/step - loss: 1.8861e-04 - sparse_categorical_accuracy: 1.0000 - val_loss: 0.2936 - val_sparse_categorical_accuracy: 0.9561\n",
      "Epoch 29/40\n",
      "62/86 [====================>.........] - ETA: 0s - loss: 1.2860e-04 - sparse_categorical_accuracy: 1.0000\n",
      "Epoch 00029: saving model to training/cp-0029.ckpt\n",
      "86/86 [==============================] - 0s 3ms/step - loss: 1.2704e-04 - sparse_categorical_accuracy: 1.0000 - val_loss: 0.2975 - val_sparse_categorical_accuracy: 0.9561\n",
      "Epoch 30/40\n",
      "69/86 [=======================>......] - ETA: 0s - loss: 9.3268e-05 - sparse_categorical_accuracy: 1.0000\n",
      "Epoch 00030: saving model to training/cp-0030.ckpt\n",
      "86/86 [==============================] - 0s 3ms/step - loss: 9.7869e-05 - sparse_categorical_accuracy: 1.0000 - val_loss: 0.3003 - val_sparse_categorical_accuracy: 0.9561\n",
      "Epoch 31/40\n",
      "62/86 [====================>.........] - ETA: 0s - loss: 2.4278e-04 - sparse_categorical_accuracy: 1.0000\n",
      "Epoch 00031: saving model to training/cp-0031.ckpt\n",
      "86/86 [==============================] - 0s 3ms/step - loss: 2.0362e-04 - sparse_categorical_accuracy: 1.0000 - val_loss: 0.3027 - val_sparse_categorical_accuracy: 0.9561\n",
      "Epoch 32/40\n",
      "69/86 [=======================>......] - ETA: 0s - loss: 7.0631e-05 - sparse_categorical_accuracy: 1.0000\n",
      "Epoch 00032: saving model to training/cp-0032.ckpt\n",
      "86/86 [==============================] - 0s 3ms/step - loss: 7.1355e-05 - sparse_categorical_accuracy: 1.0000 - val_loss: 0.3067 - val_sparse_categorical_accuracy: 0.9561\n",
      "Epoch 33/40\n",
      "71/86 [=======================>......] - ETA: 0s - loss: 9.7944e-05 - sparse_categorical_accuracy: 1.0000\n",
      "Epoch 00033: saving model to training/cp-0033.ckpt\n",
      "86/86 [==============================] - 0s 2ms/step - loss: 9.4786e-05 - sparse_categorical_accuracy: 1.0000 - val_loss: 0.3087 - val_sparse_categorical_accuracy: 0.9561\n",
      "Epoch 34/40\n",
      "68/86 [======================>.......] - ETA: 0s - loss: 9.7001e-05 - sparse_categorical_accuracy: 1.0000\n",
      "Epoch 00034: saving model to training/cp-0034.ckpt\n",
      "86/86 [==============================] - 0s 3ms/step - loss: 9.3092e-05 - sparse_categorical_accuracy: 1.0000 - val_loss: 0.3129 - val_sparse_categorical_accuracy: 0.9561\n",
      "Epoch 35/40\n",
      "73/86 [========================>.....] - ETA: 0s - loss: 5.2885e-05 - sparse_categorical_accuracy: 1.0000\n",
      "Epoch 00035: saving model to training/cp-0035.ckpt\n",
      "86/86 [==============================] - 0s 2ms/step - loss: 5.5650e-05 - sparse_categorical_accuracy: 1.0000 - val_loss: 0.3139 - val_sparse_categorical_accuracy: 0.9561\n",
      "Epoch 36/40\n",
      "80/86 [==========================>...] - ETA: 0s - loss: 4.0425e-05 - sparse_categorical_accuracy: 1.0000\n",
      "Epoch 00036: saving model to training/cp-0036.ckpt\n",
      "86/86 [==============================] - 0s 2ms/step - loss: 4.2242e-05 - sparse_categorical_accuracy: 1.0000 - val_loss: 0.3177 - val_sparse_categorical_accuracy: 0.9561\n",
      "Epoch 37/40\n",
      "73/86 [========================>.....] - ETA: 0s - loss: 6.6190e-05 - sparse_categorical_accuracy: 1.0000\n",
      "Epoch 00037: saving model to training/cp-0037.ckpt\n",
      "86/86 [==============================] - 0s 3ms/step - loss: 6.5639e-05 - sparse_categorical_accuracy: 1.0000 - val_loss: 0.3215 - val_sparse_categorical_accuracy: 0.9561\n",
      "Epoch 38/40\n",
      "70/86 [=======================>......] - ETA: 0s - loss: 5.1127e-05 - sparse_categorical_accuracy: 1.0000\n",
      "Epoch 00038: saving model to training/cp-0038.ckpt\n",
      "86/86 [==============================] - 0s 3ms/step - loss: 5.1909e-05 - sparse_categorical_accuracy: 1.0000 - val_loss: 0.3248 - val_sparse_categorical_accuracy: 0.9561\n",
      "Epoch 39/40\n",
      "62/86 [====================>.........] - ETA: 0s - loss: 5.0758e-05 - sparse_categorical_accuracy: 1.0000\n",
      "Epoch 00039: saving model to training/cp-0039.ckpt\n",
      "86/86 [==============================] - 0s 3ms/step - loss: 5.0724e-05 - sparse_categorical_accuracy: 1.0000 - val_loss: 0.3275 - val_sparse_categorical_accuracy: 0.9561\n",
      "Epoch 40/40\n",
      "85/86 [============================>.] - ETA: 0s - loss: 4.1940e-05 - sparse_categorical_accuracy: 1.0000\n",
      "Epoch 00040: saving model to training/cp-0040.ckpt\n",
      "86/86 [==============================] - 0s 3ms/step - loss: 4.2035e-05 - sparse_categorical_accuracy: 1.0000 - val_loss: 0.3289 - val_sparse_categorical_accuracy: 0.9561\n"
     ]
    },
    {
     "data": {
      "text/plain": [
       "<tensorflow.python.keras.callbacks.History at 0x7f4a544be198>"
      ]
     },
     "execution_count": 33,
     "metadata": {
      "tags": []
     },
     "output_type": "execute_result"
    }
   ],
   "source": [
    "# Include the epoch in the file name (uses `str.format`)\n",
    "checkpoint_path = \"training/cp-{epoch:04d}.ckpt\" # the path where checkpoint files\n",
    "# will be stored\n",
    "\n",
    "# Create a callback that saves the model's weights every epochs\n",
    "cp_callback = tf.keras.callbacks.ModelCheckpoint(\n",
    "    filepath=checkpoint_path, \n",
    "    verbose=1,\n",
    "    save_weights_only=True,\n",
    "    save_freq=1*len(train_batch))\n",
    "\n",
    "# Create a new model instance\n",
    "model = Sequential([\n",
    "                    Dense(64,\"relu\",input_shape=[data.shape[1]]),\n",
    "                    Dense(32,\"relu\"),\n",
    "                    Dense(16,\"relu\"),\n",
    "                    Dense(8,\"relu\"),\n",
    "                    Dense(len(np.unique(target)), \"softmax\") \n",
    "])\n",
    "\n",
    "# Set up the optimizer\n",
    "opt = Adam(0.001)\n",
    "# define the loss function\n",
    "loss = SparseCategoricalCrossentropy()\n",
    "# define the performance metric\n",
    "metric = tf.keras.metrics.SparseCategoricalAccuracy()\n",
    "\n",
    "# Compile the model\n",
    "model.compile(optimizer=opt,\n",
    "              loss=loss,\n",
    "              metrics=[metric])\n",
    "\n",
    "# Save the weights using the `checkpoint_path` format\n",
    "model.save_weights(checkpoint_path.format(epoch=0))\n",
    "\n",
    "# Train the model with the new callback\n",
    "model.fit(train_batch,\n",
    "          epochs=40, \n",
    "          callbacks=[cp_callback],\n",
    "          validation_data=val_batch)"
   ]
  },
  {
   "cell_type": "code",
   "execution_count": 34,
   "metadata": {
    "colab": {
     "base_uri": "https://localhost:8080/"
    },
    "id": "K02npW2_aKzY",
    "outputId": "625f5d53-d4b5-499b-a740-a9f12fc2b481"
   },
   "outputs": [
    {
     "name": "stdout",
     "output_type": "stream",
     "text": [
      "29/29 [==============================] - 0s 1ms/step - loss: 0.1166 - sparse_categorical_accuracy: 0.9649\n"
     ]
    },
    {
     "data": {
      "text/plain": [
       "[0.1166333556175232, 0.9649122953414917]"
      ]
     },
     "execution_count": 34,
     "metadata": {
      "tags": []
     },
     "output_type": "execute_result"
    }
   ],
   "source": [
    "# To load a checkpoint \n",
    "model.load_weights(\"/content/training/cp-0004.ckpt\")\n",
    "model.evaluate(val_batch)"
   ]
  },
  {
   "cell_type": "markdown",
   "metadata": {
    "id": "vW-eqDGNZ5hO"
   },
   "source": [
    "### Save 💽\n",
    "\n",
    "You can also save the model after the fact"
   ]
  },
  {
   "cell_type": "code",
   "execution_count": null,
   "metadata": {
    "id": "LAJGnigMZ-BP"
   },
   "outputs": [],
   "source": [
    "model.save(\"model.h5\")"
   ]
  },
  {
   "cell_type": "markdown",
   "metadata": {
    "id": "EFdw_9pOcnM-"
   },
   "source": [
    "### Load 📀\n",
    "\n",
    "And load it after this even later in a different notebook or script."
   ]
  },
  {
   "cell_type": "code",
   "execution_count": null,
   "metadata": {
    "colab": {
     "base_uri": "https://localhost:8080/"
    },
    "id": "wlkR-9k_ctYM",
    "outputId": "46072740-1b22-4ddd-b0b6-ab00dc69bd58"
   },
   "outputs": [
    {
     "name": "stdout",
     "output_type": "stream",
     "text": [
      "29/29 [==============================] - 0s 1ms/step - loss: 0.3707 - sparse_categorical_accuracy: 0.9649\n"
     ]
    },
    {
     "data": {
      "text/plain": [
       "[0.3706941306591034, 0.9649122953414917]"
      ]
     },
     "execution_count": 49,
     "metadata": {
      "tags": []
     },
     "output_type": "execute_result"
    }
   ],
   "source": [
    "restored_model = tf.keras.models.load_model(\"/content/model.h5\")\n",
    "restored_model.evaluate(val_batch)"
   ]
  },
  {
   "cell_type": "markdown",
   "metadata": {
    "id": "w0k7lrWSc8X9"
   },
   "source": [
    "That was a long demo, but you are now all equipped to tackle many different problems with tensorflow with deep neural network models. Now let's get to the exercises to start getting some practice!"
   ]
  },
  {
   "cell_type": "markdown",
   "metadata": {
    "id": "r0VKTVwlilO6"
   },
   "source": [
    "## Ressources 📚📚\n",
    "\n",
    "* <a href=\"https://www.tensorflow.org/tutorials/quickstart/beginner\"> An easy tutorial on the MNIST dataset </a>\n",
    "* <a href=\"https://www.tensorflow.org/datasets/catalog/overview\"> Official tensorflow datasets for you to practice on </a>\n",
    "* <a href=\"https://research.google/tools/datasets/\"> Other datasets made available by Google </a>\n",
    "* <a href=\"https://datasetsearch.research.google.com/\"> Google dataset search bard </a>"
   ]
  }
 ],
 "metadata": {
  "colab": {
   "collapsed_sections": [],
   "name": "01-Neural_networks_with_tf.ipynb",
   "provenance": []
  },
  "kernelspec": {
   "display_name": "Python 3",
   "language": "python",
   "name": "python3"
  },
  "language_info": {
   "codemirror_mode": {
    "name": "ipython",
    "version": 3
   },
   "file_extension": ".py",
   "mimetype": "text/x-python",
   "name": "python",
   "nbconvert_exporter": "python",
   "pygments_lexer": "ipython3",
   "version": "3.8.5"
  }
 },
 "nbformat": 4,
 "nbformat_minor": 1
}
