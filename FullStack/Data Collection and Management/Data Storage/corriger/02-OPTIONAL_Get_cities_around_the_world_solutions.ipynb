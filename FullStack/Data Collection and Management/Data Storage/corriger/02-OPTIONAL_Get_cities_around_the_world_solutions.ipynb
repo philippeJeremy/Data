{
 "cells": [
  {
   "cell_type": "markdown",
   "metadata": {
    "colab_type": "text",
    "id": "hxVLQcfegi2z"
   },
   "source": [
    "# Get Cities of The World Quality of Life Data\n",
    "\n",
    "In this exercise, we will try to get scoring information about the quality of life for several cities around the world. 🌍\n",
    "\n",
    "For this exercise, we will be using the following API:\n",
    "\n",
    "- <a href=\"https://developers.teleport.org/api/getting_started/\" target=\"_blank\">Teleport</a>\n",
    "\n",
    "We will also need to use a website called RandomList.com that will give us a random cities around the world to get a scoring. \n",
    "\n",
    "Then we will store the data we got into an S3 Bucket! \n",
    "\n",
    "Quite a project, right? 🥵\n",
    "\n",
    "🥰🥰 You'll learn a lot during this exercise 🥰🥰 \n",
    "\n",
    "So let's go 💪💪💪"
   ]
  },
  {
   "cell_type": "markdown",
   "metadata": {
    "colab_type": "text",
    "id": "aj9WjfGxICJI"
   },
   "source": [
    "## Part 1: Get data for 1 City \n",
    "\n",
    "To simplify this exercise, let's start by trying to scrape data for only 1 city: Paris. In another part, we'll try to get scores for 100 different cities.\n",
    "\n",
    "- Import the library called `requests`:"
   ]
  },
  {
   "cell_type": "code",
   "execution_count": 1,
   "metadata": {
    "colab": {},
    "colab_type": "code",
    "id": "UJOVO8rAduG5"
   },
   "outputs": [],
   "source": [
    "import requests"
   ]
  },
  {
   "cell_type": "markdown",
   "metadata": {
    "colab_type": "text",
    "id": "q6vYEoJfIghv"
   },
   "source": [
    "- Check teleport's API, to find a way to search information on Paris. Especially, we are going to need `geonameid`.\n",
    "\n",
    "👉 Here is the link for the <a href=\"https://developers.teleport.org/api/getting_started/\" target=\"_blank\">documentation Teleport API</a>."
   ]
  },
  {
   "cell_type": "code",
   "execution_count": 2,
   "metadata": {
    "colab": {
     "base_uri": "https://localhost:8080/",
     "height": 34
    },
    "colab_type": "code",
    "executionInfo": {
     "elapsed": 514,
     "status": "ok",
     "timestamp": 1576164583531,
     "user": {
      "displayName": "Antoine Krajnc",
      "photoUrl": "https://lh3.googleusercontent.com/a-/AAuE7mC4XzNDVGvURzl4T5duDbMr6bUdhkYkDul_37G0OA=s64",
      "userId": "08465960390418158788"
     },
     "user_tz": -60
    },
    "id": "yJUETL9Fhdzf",
    "outputId": "6252424b-7cec-4931-8a14-c7a42e2b24c5"
   },
   "outputs": [
    {
     "data": {
      "text/plain": [
       "<Response [200]>"
      ]
     },
     "execution_count": 2,
     "metadata": {},
     "output_type": "execute_result"
    }
   ],
   "source": [
    "response = requests.get(\" https://api.teleport.org/api/cities/?search=Paris\")\n",
    "response"
   ]
  },
  {
   "cell_type": "markdown",
   "metadata": {
    "colab_type": "text",
    "id": "cSDu5yUfJJRq"
   },
   "source": [
    "You should get the following result:"
   ]
  },
  {
   "cell_type": "code",
   "execution_count": 3,
   "metadata": {
    "colab": {
     "base_uri": "https://localhost:8080/",
     "height": 1000
    },
    "colab_type": "code",
    "executionInfo": {
     "elapsed": 470,
     "status": "ok",
     "timestamp": 1576164789281,
     "user": {
      "displayName": "Antoine Krajnc",
      "photoUrl": "https://lh3.googleusercontent.com/a-/AAuE7mC4XzNDVGvURzl4T5duDbMr6bUdhkYkDul_37G0OA=s64",
      "userId": "08465960390418158788"
     },
     "user_tz": -60
    },
    "id": "LCckwB39lvPE",
    "outputId": "919402c2-9fdb-49fb-a811-39366a7d0283"
   },
   "outputs": [
    {
     "data": {
      "text/plain": [
       "{'_embedded': {'city:search-results': [{'_links': {'city:item': {'href': 'https://api.teleport.org/api/cities/geonameid:2988507/'}},\n",
       "    'matching_alternate_names': [{'name': 'Paris'},\n",
       "     {'name': 'paris'},\n",
       "     {'name': 'Parisi'}],\n",
       "    'matching_full_name': 'Paris, Île-de-France, France'},\n",
       "   {'_links': {'city:item': {'href': 'https://api.teleport.org/api/cities/geonameid:4717560/'}},\n",
       "    'matching_alternate_names': [{'name': 'Paris'}],\n",
       "    'matching_full_name': 'Paris, Texas, United States'},\n",
       "   {'_links': {'city:item': {'href': 'https://api.teleport.org/api/cities/geonameid:3489854/'}},\n",
       "    'matching_alternate_names': [],\n",
       "    'matching_full_name': 'Kingston, Kingston, Jamaica'},\n",
       "   {'_links': {'city:item': {'href': 'https://api.teleport.org/api/cities/geonameid:966166/'}},\n",
       "    'matching_alternate_names': [{'name': 'Paris'}],\n",
       "    'matching_full_name': 'Parys, Orange Free State, South Africa (Paris)'},\n",
       "   {'_links': {'city:item': {'href': 'https://api.teleport.org/api/cities/geonameid:3489297/'}},\n",
       "    'matching_alternate_names': [],\n",
       "    'matching_full_name': 'New Kingston, St. Andrew, Jamaica'},\n",
       "   {'_links': {'city:item': {'href': 'https://api.teleport.org/api/cities/geonameid:6942553/'}},\n",
       "    'matching_alternate_names': [{'name': 'Paris'}],\n",
       "    'matching_full_name': 'Paris, Ontario, Canada'},\n",
       "   {'_links': {'city:item': {'href': 'https://api.teleport.org/api/cities/geonameid:4647963/'}},\n",
       "    'matching_alternate_names': [{'name': 'Paris'}],\n",
       "    'matching_full_name': 'Paris, Tennessee, United States'},\n",
       "   {'_links': {'city:item': {'href': 'https://api.teleport.org/api/cities/geonameid:4303602/'}},\n",
       "    'matching_alternate_names': [{'name': 'Paris'}],\n",
       "    'matching_full_name': 'Paris, Kentucky, United States'},\n",
       "   {'_links': {'city:item': {'href': 'https://api.teleport.org/api/cities/geonameid:4246659/'}},\n",
       "    'matching_alternate_names': [{'name': 'Paris'}],\n",
       "    'matching_full_name': 'Paris, Illinois, United States'},\n",
       "   {'_links': {'city:item': {'href': 'https://api.teleport.org/api/cities/geonameid:4974617/'}},\n",
       "    'matching_alternate_names': [{'name': 'Paris'},\n",
       "     {'name': 'Paris Hill'},\n",
       "     {'name': 'parisu'}],\n",
       "    'matching_full_name': 'Paris, Maine, United States'},\n",
       "   {'_links': {'city:item': {'href': 'https://api.teleport.org/api/cities/geonameid:8504417/'}},\n",
       "    'matching_alternate_names': [{'name': 'Paris La Defense'}],\n",
       "    'matching_full_name': 'La Defense, Île-de-France, France (Paris La Defense)'},\n",
       "   {'_links': {'city:item': {'href': 'https://api.teleport.org/api/cities/geonameid:1694660/'}},\n",
       "    'matching_alternate_names': [{'name': 'Parista'}],\n",
       "    'matching_full_name': 'Parista, Central Luzon, Philippines'},\n",
       "   {'_links': {'city:item': {'href': 'https://api.teleport.org/api/cities/geonameid:4125402/'}},\n",
       "    'matching_alternate_names': [{'name': 'Paris'}],\n",
       "    'matching_full_name': 'Paris, Arkansas, United States'},\n",
       "   {'_links': {'city:item': {'href': 'https://api.teleport.org/api/cities/geonameid:3488465/'}},\n",
       "    'matching_alternate_names': [],\n",
       "    'matching_full_name': 'Spanish Town, Saint Catherine, Jamaica'},\n",
       "   {'_links': {'city:item': {'href': 'https://api.teleport.org/api/cities/geonameid:3488981/'}},\n",
       "    'matching_alternate_names': [],\n",
       "    'matching_full_name': 'Portmore, Saint Catherine, Jamaica'},\n",
       "   {'_links': {'city:item': {'href': 'https://api.teleport.org/api/cities/geonameid:3489460/'}},\n",
       "    'matching_alternate_names': [],\n",
       "    'matching_full_name': 'Montego Bay, St. James, Jamaica'},\n",
       "   {'_links': {'city:item': {'href': 'https://api.teleport.org/api/cities/geonameid:4225346/'}},\n",
       "    'matching_alternate_names': [{'name': 'Paris'}],\n",
       "    'matching_full_name': 'Swainsboro, Georgia, United States (Paris)'},\n",
       "   {'_links': {'city:item': {'href': 'https://api.teleport.org/api/cities/geonameid:4432542/'}},\n",
       "    'matching_alternate_names': [{'name': 'Paris'}],\n",
       "    'matching_full_name': 'Kosciusko, Mississippi, United States (Paris)'},\n",
       "   {'_links': {'city:item': {'href': 'https://api.teleport.org/api/cities/geonameid:6098747/'}},\n",
       "    'matching_alternate_names': [{'name': 'parisaundo'}],\n",
       "    'matching_full_name': 'Parry Sound, Ontario, Canada (parisaundo)'},\n",
       "   {'_links': {'city:item': {'href': 'https://api.teleport.org/api/cities/geonameid:4402452/'}},\n",
       "    'matching_alternate_names': [{'name': 'Paris'}],\n",
       "    'matching_full_name': 'Paris, Missouri, United States'},\n",
       "   {'_links': {'city:item': {'href': 'https://api.teleport.org/api/cities/geonameid:2999139/'}},\n",
       "    'matching_alternate_names': [{'name': 'Paris-Plage'}],\n",
       "    'matching_full_name': 'Le Touquet-Paris-Plage, Hauts-de-France, France (Paris-Plage)'},\n",
       "   {'_links': {'city:item': {'href': 'https://api.teleport.org/api/cities/geonameid:3489577/'}},\n",
       "    'matching_alternate_names': [],\n",
       "    'matching_full_name': 'Mandeville, Manchester, Jamaica'},\n",
       "   {'_links': {'city:item': {'href': 'https://api.teleport.org/api/cities/geonameid:3489523/'}},\n",
       "    'matching_alternate_names': [],\n",
       "    'matching_full_name': 'May Pen, Clarendon, Jamaica'},\n",
       "   {'_links': {'city:item': {'href': 'https://api.teleport.org/api/cities/geonameid:3489227/'}},\n",
       "    'matching_alternate_names': [],\n",
       "    'matching_full_name': 'Old Harbour, Saint Catherine, Jamaica'},\n",
       "   {'_links': {'city:item': {'href': 'https://api.teleport.org/api/cities/geonameid:5603240/'}},\n",
       "    'matching_alternate_names': [{'name': 'Paris'}],\n",
       "    'matching_full_name': 'Paris, Idaho, United States'}]},\n",
       " '_links': {'curies': [{'href': 'https://developers.teleport.org/api/resources/Location/#!/relations/{rel}/',\n",
       "    'name': 'location',\n",
       "    'templated': True},\n",
       "   {'href': 'https://developers.teleport.org/api/resources/City/#!/relations/{rel}/',\n",
       "    'name': 'city',\n",
       "    'templated': True},\n",
       "   {'href': 'https://developers.teleport.org/api/resources/UrbanArea/#!/relations/{rel}/',\n",
       "    'name': 'ua',\n",
       "    'templated': True},\n",
       "   {'href': 'https://developers.teleport.org/api/resources/Country/#!/relations/{rel}/',\n",
       "    'name': 'country',\n",
       "    'templated': True},\n",
       "   {'href': 'https://developers.teleport.org/api/resources/Admin1Division/#!/relations/{rel}/',\n",
       "    'name': 'a1',\n",
       "    'templated': True},\n",
       "   {'href': 'https://developers.teleport.org/api/resources/Timezone/#!/relations/{rel}/',\n",
       "    'name': 'tz',\n",
       "    'templated': True}],\n",
       "  'self': {'href': 'https://api.teleport.org/api/cities/?search=Paris&geohash='}},\n",
       " 'count': 25}"
      ]
     },
     "execution_count": 3,
     "metadata": {},
     "output_type": "execute_result"
    }
   ],
   "source": [
    "response.json()"
   ]
  },
  {
   "cell_type": "markdown",
   "metadata": {
    "colab_type": "text",
    "id": "3GOvxg6AI-kt"
   },
   "source": [
    "- Now that you got the list of search results, try to isolate Paris' `geonameid`:"
   ]
  },
  {
   "cell_type": "code",
   "execution_count": 4,
   "metadata": {
    "colab": {
     "base_uri": "https://localhost:8080/",
     "height": 34
    },
    "colab_type": "code",
    "executionInfo": {
     "elapsed": 527,
     "status": "ok",
     "timestamp": 1576165621157,
     "user": {
      "displayName": "Antoine Krajnc",
      "photoUrl": "https://lh3.googleusercontent.com/a-/AAuE7mC4XzNDVGvURzl4T5duDbMr6bUdhkYkDul_37G0OA=s64",
      "userId": "08465960390418158788"
     },
     "user_tz": -60
    },
    "id": "ovuJoYQxnK_D",
    "outputId": "3847266b-01e8-45fc-f569-14da31ff022a"
   },
   "outputs": [
    {
     "data": {
      "text/plain": [
       "'https://api.teleport.org/api/cities/geonameid:2988507/'"
      ]
     },
     "execution_count": 4,
     "metadata": {},
     "output_type": "execute_result"
    }
   ],
   "source": [
    "first_result = response.json()[\"_embedded\"][\"city:search-results\"][0]\n",
    "paris_link = first_result[\"_links\"][\"city:item\"][\"href\"]\n",
    "paris_link"
   ]
  },
  {
   "cell_type": "markdown",
   "metadata": {
    "colab_type": "text",
    "id": "bQsO1QvZJbNj"
   },
   "source": [
    "* Use `requests` to get information about Paris:"
   ]
  },
  {
   "cell_type": "code",
   "execution_count": 5,
   "metadata": {
    "colab": {
     "base_uri": "https://localhost:8080/",
     "height": 595
    },
    "colab_type": "code",
    "executionInfo": {
     "elapsed": 454,
     "status": "ok",
     "timestamp": 1576165630383,
     "user": {
      "displayName": "Antoine Krajnc",
      "photoUrl": "https://lh3.googleusercontent.com/a-/AAuE7mC4XzNDVGvURzl4T5duDbMr6bUdhkYkDul_37G0OA=s64",
      "userId": "08465960390418158788"
     },
     "user_tz": -60
    },
    "id": "mFIKzq8Popxm",
    "outputId": "4a0f06dd-ebc9-4b5a-9f65-3d00b43123d9"
   },
   "outputs": [
    {
     "data": {
      "text/plain": [
       "{'_links': {'city:admin1_division': {'href': 'https://api.teleport.org/api/countries/iso_alpha2:FR/admin1_divisions/geonames:11/',\n",
       "   'name': 'Île-de-France'},\n",
       "  'city:alternate-names': {'href': 'https://api.teleport.org/api/cities/geonameid:2988507/alternate_names/'},\n",
       "  'city:country': {'href': 'https://api.teleport.org/api/countries/iso_alpha2:FR/',\n",
       "   'name': 'France'},\n",
       "  'city:timezone': {'href': 'https://api.teleport.org/api/timezones/iana:Europe%2FParis/',\n",
       "   'name': 'Europe/Paris'},\n",
       "  'city:urban_area': {'href': 'https://api.teleport.org/api/urban_areas/slug:paris/',\n",
       "   'name': 'Paris'},\n",
       "  'curies': [{'href': 'https://developers.teleport.org/api/resources/Location/#!/relations/{rel}/',\n",
       "    'name': 'location',\n",
       "    'templated': True},\n",
       "   {'href': 'https://developers.teleport.org/api/resources/City/#!/relations/{rel}/',\n",
       "    'name': 'city',\n",
       "    'templated': True},\n",
       "   {'href': 'https://developers.teleport.org/api/resources/UrbanArea/#!/relations/{rel}/',\n",
       "    'name': 'ua',\n",
       "    'templated': True},\n",
       "   {'href': 'https://developers.teleport.org/api/resources/Country/#!/relations/{rel}/',\n",
       "    'name': 'country',\n",
       "    'templated': True},\n",
       "   {'href': 'https://developers.teleport.org/api/resources/Admin1Division/#!/relations/{rel}/',\n",
       "    'name': 'a1',\n",
       "    'templated': True},\n",
       "   {'href': 'https://developers.teleport.org/api/resources/Timezone/#!/relations/{rel}/',\n",
       "    'name': 'tz',\n",
       "    'templated': True}],\n",
       "  'self': {'href': 'https://api.teleport.org/api/cities/geonameid:2988507/'}},\n",
       " 'full_name': 'Paris, Île-de-France, France',\n",
       " 'geoname_id': 2988507,\n",
       " 'location': {'geohash': 'u09tvmqrep8np02g7x9y',\n",
       "  'latlon': {'latitude': 48.85341, 'longitude': 2.3488}},\n",
       " 'name': 'Paris',\n",
       " 'population': 2138551}"
      ]
     },
     "execution_count": 5,
     "metadata": {},
     "output_type": "execute_result"
    }
   ],
   "source": [
    "paris_info = requests.get(paris_link)\n",
    "paris_info.json()"
   ]
  },
  {
   "cell_type": "markdown",
   "metadata": {
    "colab_type": "text",
    "id": "r-n9wjJAJgiZ"
   },
   "source": [
    "* You should now be able to get Paris' quality of life scores: "
   ]
  },
  {
   "cell_type": "code",
   "execution_count": 6,
   "metadata": {
    "colab": {
     "base_uri": "https://localhost:8080/",
     "height": 34
    },
    "colab_type": "code",
    "executionInfo": {
     "elapsed": 647,
     "status": "ok",
     "timestamp": 1576165698786,
     "user": {
      "displayName": "Antoine Krajnc",
      "photoUrl": "https://lh3.googleusercontent.com/a-/AAuE7mC4XzNDVGvURzl4T5duDbMr6bUdhkYkDul_37G0OA=s64",
      "userId": "08465960390418158788"
     },
     "user_tz": -60
    },
    "id": "2eZac7brxHpG",
    "outputId": "9e6c0a9f-8647-4546-f831-4f99a3e601e0"
   },
   "outputs": [
    {
     "data": {
      "text/plain": [
       "<Response [200]>"
      ]
     },
     "execution_count": 6,
     "metadata": {},
     "output_type": "execute_result"
    }
   ],
   "source": [
    "paris_scores = requests.get(paris_info.json()[\"_links\"][\"city:urban_area\"][\"href\"]+\"scores/\")\n",
    "paris_scores"
   ]
  },
  {
   "cell_type": "code",
   "execution_count": 7,
   "metadata": {
    "colab": {
     "base_uri": "https://localhost:8080/",
     "height": 955
    },
    "colab_type": "code",
    "executionInfo": {
     "elapsed": 578,
     "status": "ok",
     "timestamp": 1576165701060,
     "user": {
      "displayName": "Antoine Krajnc",
      "photoUrl": "https://lh3.googleusercontent.com/a-/AAuE7mC4XzNDVGvURzl4T5duDbMr6bUdhkYkDul_37G0OA=s64",
      "userId": "08465960390418158788"
     },
     "user_tz": -60
    },
    "id": "LOCdCGnmxmCl",
    "outputId": "57210ea5-e785-49f8-8490-4ef76d332f6c"
   },
   "outputs": [
    {
     "data": {
      "text/plain": [
       "{'_links': {'curies': [{'href': 'https://developers.teleport.org/api/resources/Location/#!/relations/{rel}/',\n",
       "    'name': 'location',\n",
       "    'templated': True},\n",
       "   {'href': 'https://developers.teleport.org/api/resources/City/#!/relations/{rel}/',\n",
       "    'name': 'city',\n",
       "    'templated': True},\n",
       "   {'href': 'https://developers.teleport.org/api/resources/UrbanArea/#!/relations/{rel}/',\n",
       "    'name': 'ua',\n",
       "    'templated': True},\n",
       "   {'href': 'https://developers.teleport.org/api/resources/Country/#!/relations/{rel}/',\n",
       "    'name': 'country',\n",
       "    'templated': True},\n",
       "   {'href': 'https://developers.teleport.org/api/resources/Admin1Division/#!/relations/{rel}/',\n",
       "    'name': 'a1',\n",
       "    'templated': True},\n",
       "   {'href': 'https://developers.teleport.org/api/resources/Timezone/#!/relations/{rel}/',\n",
       "    'name': 'tz',\n",
       "    'templated': True}],\n",
       "  'self': {'href': 'https://api.teleport.org/api/urban_areas/slug:paris/scores/'}},\n",
       " 'categories': [{'color': '#f3c32c',\n",
       "   'name': 'Housing',\n",
       "   'score_out_of_10': 3.5835},\n",
       "  {'color': '#f3d630', 'name': 'Cost of Living', 'score_out_of_10': 3.664},\n",
       "  {'color': '#f4eb33', 'name': 'Startups', 'score_out_of_10': 9.2765},\n",
       "  {'color': '#d2ed31',\n",
       "   'name': 'Venture Capital',\n",
       "   'score_out_of_10': 7.513000000000001},\n",
       "  {'color': '#7adc29', 'name': 'Travel Connectivity', 'score_out_of_10': 10.0},\n",
       "  {'color': '#36cc24',\n",
       "   'name': 'Commute',\n",
       "   'score_out_of_10': 5.330500000000001},\n",
       "  {'color': '#19ad51',\n",
       "   'name': 'Business Freedom',\n",
       "   'score_out_of_10': 8.088333333333333},\n",
       "  {'color': '#0d6999', 'name': 'Safety', 'score_out_of_10': 6.2465},\n",
       "  {'color': '#051fa5',\n",
       "   'name': 'Healthcare',\n",
       "   'score_out_of_10': 8.756999999999998},\n",
       "  {'color': '#150e78', 'name': 'Education', 'score_out_of_10': 7.085},\n",
       "  {'color': '#3d14a4',\n",
       "   'name': 'Environmental Quality',\n",
       "   'score_out_of_10': 4.36225},\n",
       "  {'color': '#5c14a1', 'name': 'Economy', 'score_out_of_10': 4.2045},\n",
       "  {'color': '#88149f',\n",
       "   'name': 'Taxation',\n",
       "   'score_out_of_10': 2.6480000000000006},\n",
       "  {'color': '#b9117d',\n",
       "   'name': 'Internet Access',\n",
       "   'score_out_of_10': 9.716000000000001},\n",
       "  {'color': '#d10d54', 'name': 'Leisure & Culture', 'score_out_of_10': 9.8165},\n",
       "  {'color': '#e70c26', 'name': 'Tolerance', 'score_out_of_10': 5.579},\n",
       "  {'color': '#f1351b', 'name': 'Outdoors', 'score_out_of_10': 4.433}],\n",
       " 'summary': '<p>\\n    Paris, the most visited city in the world, is a historical, cultural and esthetic gem that has played a major role in European history for centuries. Its <b>overwhelming beauty</b>, architectural wonders and national <b>cuisine</b> call to people from around the world, adding to its\\xa0exciting and <b>diverse environment</b>.\\xa0As a global <b>economic center</b>, Paris offers opportunities in a wide range of industries and business markets.\\n</p>\\n\\n\\n    <p>Paris is one of the top ten city matches for 9.5% of Teleport users.</p>\\n',\n",
       " 'teleport_city_score': 64.78743243243241}"
      ]
     },
     "execution_count": 7,
     "metadata": {},
     "output_type": "execute_result"
    }
   ],
   "source": [
    "paris_scores.json()"
   ]
  },
  {
   "cell_type": "markdown",
   "metadata": {
    "colab_type": "text",
    "id": "5GstOo4oJnR1"
   },
   "source": [
    "* Use `Pandas` to create a DataFrame where you'll get all the scores for Paris "
   ]
  },
  {
   "cell_type": "code",
   "execution_count": 8,
   "metadata": {
    "colab": {
     "base_uri": "https://localhost:8080/",
     "height": 204
    },
    "colab_type": "code",
    "executionInfo": {
     "elapsed": 1076,
     "status": "ok",
     "timestamp": 1576166497901,
     "user": {
      "displayName": "Antoine Krajnc",
      "photoUrl": "https://lh3.googleusercontent.com/a-/AAuE7mC4XzNDVGvURzl4T5duDbMr6bUdhkYkDul_37G0OA=s64",
      "userId": "08465960390418158788"
     },
     "user_tz": -60
    },
    "id": "WEwQ79D6xoYJ",
    "outputId": "48915434-b83c-479d-a0f7-a4d04b4c13a0"
   },
   "outputs": [
    {
     "data": {
      "text/html": [
       "<div>\n",
       "<style scoped>\n",
       "    .dataframe tbody tr th:only-of-type {\n",
       "        vertical-align: middle;\n",
       "    }\n",
       "\n",
       "    .dataframe tbody tr th {\n",
       "        vertical-align: top;\n",
       "    }\n",
       "\n",
       "    .dataframe thead th {\n",
       "        text-align: right;\n",
       "    }\n",
       "</style>\n",
       "<table border=\"1\" class=\"dataframe\">\n",
       "  <thead>\n",
       "    <tr style=\"text-align: right;\">\n",
       "      <th></th>\n",
       "      <th>color</th>\n",
       "      <th>name</th>\n",
       "      <th>score_out_of_10</th>\n",
       "    </tr>\n",
       "  </thead>\n",
       "  <tbody>\n",
       "    <tr>\n",
       "      <th>0</th>\n",
       "      <td>#f3c32c</td>\n",
       "      <td>Housing</td>\n",
       "      <td>3.5835</td>\n",
       "    </tr>\n",
       "    <tr>\n",
       "      <th>1</th>\n",
       "      <td>#f3d630</td>\n",
       "      <td>Cost of Living</td>\n",
       "      <td>3.6640</td>\n",
       "    </tr>\n",
       "    <tr>\n",
       "      <th>2</th>\n",
       "      <td>#f4eb33</td>\n",
       "      <td>Startups</td>\n",
       "      <td>9.2765</td>\n",
       "    </tr>\n",
       "    <tr>\n",
       "      <th>3</th>\n",
       "      <td>#d2ed31</td>\n",
       "      <td>Venture Capital</td>\n",
       "      <td>7.5130</td>\n",
       "    </tr>\n",
       "    <tr>\n",
       "      <th>4</th>\n",
       "      <td>#7adc29</td>\n",
       "      <td>Travel Connectivity</td>\n",
       "      <td>10.0000</td>\n",
       "    </tr>\n",
       "  </tbody>\n",
       "</table>\n",
       "</div>"
      ],
      "text/plain": [
       "     color                 name  score_out_of_10\n",
       "0  #f3c32c              Housing           3.5835\n",
       "1  #f3d630       Cost of Living           3.6640\n",
       "2  #f4eb33             Startups           9.2765\n",
       "3  #d2ed31      Venture Capital           7.5130\n",
       "4  #7adc29  Travel Connectivity          10.0000"
      ]
     },
     "execution_count": 8,
     "metadata": {},
     "output_type": "execute_result"
    }
   ],
   "source": [
    "import pandas as pd \n",
    "paris_df = pd.DataFrame(paris_scores.json()[\"categories\"])\n",
    "paris_df.head()"
   ]
  },
  {
   "cell_type": "markdown",
   "metadata": {
    "colab_type": "text",
    "id": "dojOEUeYJ3JD"
   },
   "source": [
    "* We now need to upload this DataFrame to S3. Let's first create a Boto3 session \n",
    "  * For the following, refer to the following documentation 👉👉👉 [Boto3](https://boto3.amazonaws.com/v1/documentation/api/latest/reference/services/s3.html)"
   ]
  },
  {
   "cell_type": "code",
   "execution_count": 2,
   "metadata": {
    "tags": []
   },
   "outputs": [
    {
     "name": "stdout",
     "output_type": "stream",
     "text": [
      "Collecting boto3\n",
      "  Downloading boto3-1.15.1-py2.py3-none-any.whl (129 kB)\n",
      "Requirement already satisfied: jmespath<1.0.0,>=0.7.1 in c:\\users\\admis\\anaconda3\\lib\\site-packages (from boto3) (0.10.0)\n",
      "Collecting s3transfer<0.4.0,>=0.3.0\n",
      "  Downloading s3transfer-0.3.3-py2.py3-none-any.whl (69 kB)\n",
      "Collecting botocore<1.19.0,>=1.18.1\n",
      "  Downloading botocore-1.18.1-py2.py3-none-any.whl (6.6 MB)\n",
      "Requirement already satisfied: urllib3<1.26,>=1.20; python_version != \"3.4\" in c:\\users\\admis\\anaconda3\\lib\\site-packages (from botocore<1.19.0,>=1.18.1->boto3) (1.25.8)\n",
      "Requirement already satisfied: python-dateutil<3.0.0,>=2.1 in c:\\users\\admis\\anaconda3\\lib\\site-packages (from botocore<1.19.0,>=1.18.1->boto3) (2.8.1)\n",
      "Requirement already satisfied: six>=1.5 in c:\\users\\admis\\anaconda3\\lib\\site-packages (from python-dateutil<3.0.0,>=2.1->botocore<1.19.0,>=1.18.1->boto3) (1.14.0)\n",
      "Installing collected packages: botocore, s3transfer, boto3\n",
      "  Attempting uninstall: botocore\n",
      "    Found existing installation: botocore 1.17.20\n",
      "    Uninstalling botocore-1.17.20:\n",
      "      Successfully uninstalled botocore-1.17.20\n",
      "Successfully installed boto3-1.15.1 botocore-1.18.1 s3transfer-0.3.3\n"
     ]
    }
   ],
   "source": [
    "!pip install boto3"
   ]
  },
  {
   "cell_type": "code",
   "execution_count": 9,
   "metadata": {
    "colab": {},
    "colab_type": "code",
    "id": "fVnXNqpBx7wT"
   },
   "outputs": [],
   "source": [
    "import boto3\n",
    "session = boto3.Session(aws_access_key_id=\"YOUR_ACCESS_KEY\", \n",
    "                        aws_secret_access_key=\"YOUR_SECRET_ACCESS_KEY\")"
   ]
  },
  {
   "cell_type": "markdown",
   "metadata": {
    "colab_type": "text",
    "id": "HGVdSWPiKA3K"
   },
   "source": [
    "* Now create a resource session "
   ]
  },
  {
   "cell_type": "code",
   "execution_count": 10,
   "metadata": {
    "colab": {},
    "colab_type": "code",
    "id": "vBXRVTKD0uuf"
   },
   "outputs": [],
   "source": [
    "s3 = session.resource(\"s3\")"
   ]
  },
  {
   "cell_type": "markdown",
   "metadata": {
    "colab_type": "text",
    "id": "MgzOgXnVKEa1"
   },
   "source": [
    "* Create a Bucket that you'll call `scoring-cities-in-the-world`"
   ]
  },
  {
   "cell_type": "code",
   "execution_count": 11,
   "metadata": {
    "colab": {},
    "colab_type": "code",
    "id": "L_9qH2LP0zJF"
   },
   "outputs": [],
   "source": [
    "bucket_name =s3.create_bucket(Bucket=\"scoring-cities-in-the-world-132\")"
   ]
  },
  {
   "cell_type": "markdown",
   "metadata": {
    "colab_type": "text",
    "id": "ik8xbgY1KjEo"
   },
   "source": [
    "* Use `Pandas` to export your DataFrame as a csv file"
   ]
  },
  {
   "cell_type": "code",
   "execution_count": 12,
   "metadata": {
    "colab": {},
    "colab_type": "code",
    "id": "rzw4SThH1XJR"
   },
   "outputs": [],
   "source": [
    "csv = paris_df.to_csv()"
   ]
  },
  {
   "cell_type": "markdown",
   "metadata": {
    "colab_type": "text",
    "id": "ySj6lBOsKow5"
   },
   "source": [
    "* Use `put_object()` function to create an Object within the bucket you just created "
   ]
  },
  {
   "cell_type": "code",
   "execution_count": 13,
   "metadata": {
    "colab": {},
    "colab_type": "code",
    "id": "9VzDwONM2FGT"
   },
   "outputs": [],
   "source": [
    "put_object = bucket_name.put_object(Key=\"paris-scoring.csv\", Body=csv)"
   ]
  },
  {
   "cell_type": "markdown",
   "metadata": {
    "colab_type": "text",
    "id": "mRTXpA0xKwry"
   },
   "source": [
    "## Get Data For Several Cities \n",
    "\n",
    "😉 Congrats ! 😉 You made it to the second part of the exercise. We now need more data to be able to compare them later. Let's try to find a way to get data for a lot more cities "
   ]
  },
  {
   "cell_type": "markdown",
   "metadata": {
    "colab_type": "text",
    "id": "1lQ_1FlxLijw"
   },
   "source": [
    "* Go on to [this Wikipedia page](https://en.wikipedia.org/wiki/List_of_largest_cities). There you'll find a list of the world's largest cities.\n",
    "  * Use `scrapy` to scrape the city names directly from this page 😎"
   ]
  },
  {
   "cell_type": "code",
   "execution_count": 15,
   "metadata": {},
   "outputs": [
    {
     "name": "stdout",
     "output_type": "stream",
     "text": [
      "Collecting Scrapy\n",
      "  Using cached Scrapy-2.4.0-py2.py3-none-any.whl (239 kB)\n",
      "Processing /home/jovyan/.cache/pip/wheels/91/64/36/bd0d11306cb22a78c7f53d603c7eb74ebb6c211703bc40b686/Protego-0.1.16-py3-none-any.whl\n",
      "Collecting itemloaders>=1.0.1\n",
      "  Using cached itemloaders-1.0.3-py3-none-any.whl (11 kB)\n",
      "Collecting zope.interface>=4.1.3\n",
      "  Downloading zope.interface-5.2.0-cp38-cp38-manylinux2010_x86_64.whl (244 kB)\n",
      "\u001b[K     |████████████████████████████████| 244 kB 3.4 MB/s eta 0:00:01\n",
      "\u001b[?25hRequirement already satisfied: cryptography>=2.0 in /opt/conda/lib/python3.8/site-packages (from Scrapy) (3.1.1)\n",
      "Collecting itemadapter>=0.1.0\n",
      "  Using cached itemadapter-0.1.1-py3-none-any.whl (7.7 kB)\n",
      "Collecting service-identity>=16.0.0\n",
      "  Using cached service_identity-18.1.0-py2.py3-none-any.whl (11 kB)\n",
      "Collecting queuelib>=1.4.2\n",
      "  Using cached queuelib-1.5.0-py2.py3-none-any.whl (13 kB)\n",
      "Requirement already satisfied: pyOpenSSL>=16.2.0 in /opt/conda/lib/python3.8/site-packages (from Scrapy) (19.1.0)\n",
      "Collecting w3lib>=1.17.0\n",
      "  Using cached w3lib-1.22.0-py2.py3-none-any.whl (20 kB)\n",
      "Collecting parsel>=1.5.0\n",
      "  Using cached parsel-1.6.0-py2.py3-none-any.whl (13 kB)\n",
      "Collecting lxml>=3.5.0; platform_python_implementation == \"CPython\"\n",
      "  Using cached lxml-4.6.1-cp38-cp38-manylinux1_x86_64.whl (5.4 MB)\n",
      "Processing /home/jovyan/.cache/pip/wheels/d1/d7/61/11b5b370ee487d38b5408ecb7e0257db9107fa622412cbe2ff/PyDispatcher-2.0.5-py3-none-any.whl\n",
      "Collecting cssselect>=0.9.1\n",
      "  Using cached cssselect-1.1.0-py2.py3-none-any.whl (16 kB)\n",
      "Processing /home/jovyan/.cache/pip/wheels/f2/36/1b/99fe6d339e1559e421556c69ad7bc8c869145e86a756c403f4/Twisted-20.3.0-cp38-cp38-linux_x86_64.whl\n",
      "Requirement already satisfied: six in /opt/conda/lib/python3.8/site-packages (from protego>=0.1.15->Scrapy) (1.15.0)\n",
      "Requirement already satisfied: jmespath>=0.9.5 in /opt/conda/lib/python3.8/site-packages (from itemloaders>=1.0.1->Scrapy) (0.10.0)\n",
      "Requirement already satisfied: setuptools in /opt/conda/lib/python3.8/site-packages (from zope.interface>=4.1.3->Scrapy) (49.6.0.post20201009)\n",
      "Requirement already satisfied: cffi!=1.11.3,>=1.8 in /opt/conda/lib/python3.8/site-packages (from cryptography>=2.0->Scrapy) (1.14.3)\n",
      "Collecting pyasn1\n",
      "  Using cached pyasn1-0.4.8-py2.py3-none-any.whl (77 kB)\n",
      "Collecting pyasn1-modules\n",
      "  Using cached pyasn1_modules-0.2.8-py2.py3-none-any.whl (155 kB)\n",
      "Requirement already satisfied: attrs>=16.0.0 in /opt/conda/lib/python3.8/site-packages (from service-identity>=16.0.0->Scrapy) (20.2.0)\n",
      "Collecting constantly>=15.1\n",
      "  Using cached constantly-15.1.0-py2.py3-none-any.whl (7.9 kB)\n",
      "Collecting incremental>=16.10.1\n",
      "  Using cached incremental-17.5.0-py2.py3-none-any.whl (16 kB)\n",
      "Collecting Automat>=0.3.0\n",
      "  Using cached Automat-20.2.0-py2.py3-none-any.whl (31 kB)\n",
      "Collecting hyperlink>=17.1.1\n",
      "  Using cached hyperlink-20.0.1-py2.py3-none-any.whl (48 kB)\n",
      "Collecting PyHamcrest!=1.10.0,>=1.9.0\n",
      "  Using cached PyHamcrest-2.0.2-py3-none-any.whl (52 kB)\n",
      "Requirement already satisfied: pycparser in /opt/conda/lib/python3.8/site-packages (from cffi!=1.11.3,>=1.8->cryptography>=2.0->Scrapy) (2.20)\n",
      "Requirement already satisfied: idna>=2.5 in /opt/conda/lib/python3.8/site-packages (from hyperlink>=17.1.1->Twisted>=17.9.0->Scrapy) (2.10)\n",
      "Installing collected packages: protego, w3lib, cssselect, lxml, parsel, itemadapter, itemloaders, zope.interface, pyasn1, pyasn1-modules, service-identity, queuelib, PyDispatcher, constantly, incremental, Automat, hyperlink, PyHamcrest, Twisted, Scrapy\n",
      "Successfully installed Automat-20.2.0 PyDispatcher-2.0.5 PyHamcrest-2.0.2 Scrapy-2.4.0 Twisted-20.3.0 constantly-15.1.0 cssselect-1.1.0 hyperlink-20.0.1 incremental-17.5.0 itemadapter-0.1.1 itemloaders-1.0.3 lxml-4.6.1 parsel-1.6.0 protego-0.1.16 pyasn1-0.4.8 pyasn1-modules-0.2.8 queuelib-1.5.0 service-identity-18.1.0 w3lib-1.22.0 zope.interface-5.2.0\n"
     ]
    }
   ],
   "source": [
    "!pip install Scrapy"
   ]
  },
  {
   "cell_type": "code",
   "execution_count": 16,
   "metadata": {},
   "outputs": [],
   "source": [
    "import os\n",
    "import logging\n",
    "\n",
    "import scrapy\n",
    "from scrapy.crawler import CrawlerProcess"
   ]
  },
  {
   "cell_type": "code",
   "execution_count": 17,
   "metadata": {},
   "outputs": [],
   "source": [
    "class CityNamesSpider(scrapy.Spider):\n",
    "\n",
    "    name = \"citynames\"\n",
    "\n",
    "    start_urls = [\n",
    "        'https://en.wikipedia.org/wiki/List_of_largest_cities',\n",
    "    ]\n",
    "\n",
    "    def parse(self, response):\n",
    "        cities = response.css(\"tr\")\n",
    "        for city in cities[6:87]:\n",
    "            yield {\n",
    "                'city': city.css('a::text').get()\n",
    "            }"
   ]
  },
  {
   "cell_type": "code",
   "execution_count": 19,
   "metadata": {},
   "outputs": [
    {
     "name": "stderr",
     "output_type": "stream",
     "text": [
      "2020-11-05 18:58:26 [scrapy.utils.log] INFO: Scrapy 2.4.0 started (bot: scrapybot)\n",
      "2020-11-05 18:58:26 [scrapy.utils.log] INFO: Versions: lxml 4.6.1.0, libxml2 2.9.10, cssselect 1.1.0, parsel 1.6.0, w3lib 1.22.0, Twisted 20.3.0, Python 3.8.6 | packaged by conda-forge | (default, Oct  7 2020, 19:08:05) - [GCC 7.5.0], pyOpenSSL 19.1.0 (OpenSSL 1.1.1h  22 Sep 2020), cryptography 3.1.1, Platform Linux-4.19.112+-x86_64-with-glibc2.10\n",
      "2020-11-05 18:58:26 [scrapy.crawler] INFO: Overridden settings:\n",
      "{'LOG_LEVEL': 20,\n",
      " 'USER_AGENT': 'Mozilla/4.0 (compatible; MSIE 7.0; Windows NT 5.1)'}\n",
      "2020-11-05 18:58:26 [scrapy.extensions.telnet] INFO: Telnet Password: abc01feb2ec409b0\n",
      "2020-11-05 18:58:26 [scrapy.middleware] INFO: Enabled extensions:\n",
      "['scrapy.extensions.corestats.CoreStats',\n",
      " 'scrapy.extensions.telnet.TelnetConsole',\n",
      " 'scrapy.extensions.memusage.MemoryUsage',\n",
      " 'scrapy.extensions.feedexport.FeedExporter',\n",
      " 'scrapy.extensions.logstats.LogStats']\n",
      "2020-11-05 18:58:27 [scrapy.middleware] INFO: Enabled downloader middlewares:\n",
      "['scrapy.downloadermiddlewares.httpauth.HttpAuthMiddleware',\n",
      " 'scrapy.downloadermiddlewares.downloadtimeout.DownloadTimeoutMiddleware',\n",
      " 'scrapy.downloadermiddlewares.defaultheaders.DefaultHeadersMiddleware',\n",
      " 'scrapy.downloadermiddlewares.useragent.UserAgentMiddleware',\n",
      " 'scrapy.downloadermiddlewares.retry.RetryMiddleware',\n",
      " 'scrapy.downloadermiddlewares.redirect.MetaRefreshMiddleware',\n",
      " 'scrapy.downloadermiddlewares.httpcompression.HttpCompressionMiddleware',\n",
      " 'scrapy.downloadermiddlewares.redirect.RedirectMiddleware',\n",
      " 'scrapy.downloadermiddlewares.cookies.CookiesMiddleware',\n",
      " 'scrapy.downloadermiddlewares.httpproxy.HttpProxyMiddleware',\n",
      " 'scrapy.downloadermiddlewares.stats.DownloaderStats']\n",
      "2020-11-05 18:58:27 [scrapy.middleware] INFO: Enabled spider middlewares:\n",
      "['scrapy.spidermiddlewares.httperror.HttpErrorMiddleware',\n",
      " 'scrapy.spidermiddlewares.offsite.OffsiteMiddleware',\n",
      " 'scrapy.spidermiddlewares.referer.RefererMiddleware',\n",
      " 'scrapy.spidermiddlewares.urllength.UrlLengthMiddleware',\n",
      " 'scrapy.spidermiddlewares.depth.DepthMiddleware']\n",
      "2020-11-05 18:58:27 [scrapy.middleware] INFO: Enabled item pipelines:\n",
      "[]\n",
      "2020-11-05 18:58:27 [scrapy.core.engine] INFO: Spider opened\n",
      "2020-11-05 18:58:27 [scrapy.extensions.logstats] INFO: Crawled 0 pages (at 0 pages/min), scraped 0 items (at 0 items/min)\n",
      "2020-11-05 18:58:27 [scrapy.extensions.telnet] INFO: Telnet console listening on 127.0.0.1:6023\n",
      "2020-11-05 18:58:27 [scrapy.core.engine] INFO: Closing spider (finished)\n",
      "2020-11-05 18:58:27 [scrapy.extensions.feedexport] INFO: Stored json feed (81 items) in: src/cities.json\n",
      "2020-11-05 18:58:27 [scrapy.statscollectors] INFO: Dumping Scrapy stats:\n",
      "{'downloader/request_bytes': 263,\n",
      " 'downloader/request_count': 1,\n",
      " 'downloader/request_method_count/GET': 1,\n",
      " 'downloader/response_bytes': 58482,\n",
      " 'downloader/response_count': 1,\n",
      " 'downloader/response_status_count/200': 1,\n",
      " 'elapsed_time_seconds': 0.24913,\n",
      " 'finish_reason': 'finished',\n",
      " 'finish_time': datetime.datetime(2020, 11, 5, 18, 58, 27, 376900),\n",
      " 'item_scraped_count': 81,\n",
      " 'log_count/INFO': 11,\n",
      " 'memusage/max': 130301952,\n",
      " 'memusage/startup': 130301952,\n",
      " 'response_received_count': 1,\n",
      " 'scheduler/dequeued': 1,\n",
      " 'scheduler/dequeued/memory': 1,\n",
      " 'scheduler/enqueued': 1,\n",
      " 'scheduler/enqueued/memory': 1,\n",
      " 'start_time': datetime.datetime(2020, 11, 5, 18, 58, 27, 127770)}\n",
      "2020-11-05 18:58:27 [scrapy.core.engine] INFO: Spider closed (finished)\n"
     ]
    }
   ],
   "source": [
    "filename = \"cities.json\"\n",
    "\n",
    "if filename in os.listdir('src/'):\n",
    "        os.remove('src/' + filename)\n",
    "\n",
    "process = CrawlerProcess(settings = {\n",
    "    'USER_AGENT': 'Mozilla/4.0 (compatible; MSIE 7.0; Windows NT 5.1)',\n",
    "    'LOG_LEVEL': logging.INFO,\n",
    "    \"FEEDS\": {\n",
    "        'src/' + filename : {\"format\": \"json\"},\n",
    "    }\n",
    "})\n",
    "\n",
    "process.crawl(CityNamesSpider)\n",
    "process.start()"
   ]
  },
  {
   "cell_type": "markdown",
   "metadata": {},
   "source": [
    "* Read the json file with results from the crawling :"
   ]
  },
  {
   "cell_type": "code",
   "execution_count": 20,
   "metadata": {},
   "outputs": [
    {
     "name": "stderr",
     "output_type": "stream",
     "text": [
      "2020-11-05 18:58:33 [numexpr.utils] INFO: NumExpr defaulting to 4 threads.\n"
     ]
    },
    {
     "data": {
      "text/html": [
       "<div>\n",
       "<style scoped>\n",
       "    .dataframe tbody tr th:only-of-type {\n",
       "        vertical-align: middle;\n",
       "    }\n",
       "\n",
       "    .dataframe tbody tr th {\n",
       "        vertical-align: top;\n",
       "    }\n",
       "\n",
       "    .dataframe thead th {\n",
       "        text-align: right;\n",
       "    }\n",
       "</style>\n",
       "<table border=\"1\" class=\"dataframe\">\n",
       "  <thead>\n",
       "    <tr style=\"text-align: right;\">\n",
       "      <th></th>\n",
       "      <th>city</th>\n",
       "    </tr>\n",
       "  </thead>\n",
       "  <tbody>\n",
       "    <tr>\n",
       "      <th>0</th>\n",
       "      <td>Tokyo</td>\n",
       "    </tr>\n",
       "    <tr>\n",
       "      <th>1</th>\n",
       "      <td>Delhi</td>\n",
       "    </tr>\n",
       "    <tr>\n",
       "      <th>2</th>\n",
       "      <td>Shanghai</td>\n",
       "    </tr>\n",
       "    <tr>\n",
       "      <th>3</th>\n",
       "      <td>São Paulo</td>\n",
       "    </tr>\n",
       "    <tr>\n",
       "      <th>4</th>\n",
       "      <td>Mexico City</td>\n",
       "    </tr>\n",
       "  </tbody>\n",
       "</table>\n",
       "</div>"
      ],
      "text/plain": [
       "          city\n",
       "0        Tokyo\n",
       "1        Delhi\n",
       "2     Shanghai\n",
       "3    São Paulo\n",
       "4  Mexico City"
      ]
     },
     "execution_count": 20,
     "metadata": {},
     "output_type": "execute_result"
    }
   ],
   "source": [
    "city_names = pd.read_json(\"src/cities.json\")\n",
    "city_names.head()"
   ]
  },
  {
   "cell_type": "markdown",
   "metadata": {
    "colab_type": "text",
    "id": "ZXoJfW5IM_8M"
   },
   "source": [
    "* Finally, create a loop that will go through each city, search for information and store it to your S3 bucket \n",
    "  * You might get some errors, definitely use the `try: \\ except:` structure \n",
    "  * (It's totally fine if you couldn't get info for all cities) 😌😌"
   ]
  },
  {
   "cell_type": "code",
   "execution_count": 21,
   "metadata": {},
   "outputs": [
    {
     "name": "stdout",
     "output_type": "stream",
     "text": [
      "Tokyo done\n",
      "Delhi done\n",
      "Shanghai done\n",
      "São Paulo done\n",
      "Mexico City done\n",
      "Cairo done\n",
      "Mumbai done\n",
      "Beijing done\n",
      "Couldn't find results for Dhaka\n",
      "Osaka done\n",
      "New York City done\n",
      "Couldn't find results for Karachi\n",
      "Buenos Aires done\n",
      "Couldn't find results for Chongqing\n",
      "Istanbul done\n",
      "Couldn't find results for Kolkata\n",
      "Manila done\n",
      "Lagos done\n",
      "Rio de Janeiro done\n",
      "Couldn't find results for Tianjin\n",
      "Couldn't find results for Kinshasa\n",
      "Guangzhou done\n",
      "Los Angeles done\n",
      "Moscow done\n",
      "Shenzhen done\n",
      "Couldn't find results for Lahore\n",
      "Bangalore done\n",
      "Paris done\n",
      "Bogotá done\n",
      "Jakarta done\n",
      "Chennai done\n",
      "Lima done\n",
      "Bangkok done\n",
      "Seoul done\n",
      "Couldn't find results for Nagoya\n",
      "Hyderabad done\n",
      "London done\n",
      "Tehran done\n",
      "Chicago done\n",
      "Couldn't find results for Chengdu\n",
      "Couldn't find results for Nanjing\n",
      "Couldn't find results for Wuhan\n",
      "Ho Chi Minh City done\n",
      "Couldn't find results for Luanda\n",
      "Couldn't find results for Ahmedabad\n",
      "Kuala Lumpur done\n",
      "Couldn't find results for Xi'an\n",
      "Hong Kong done\n",
      "Dongguan done\n",
      "Hangzhou done\n",
      "Foshan done\n",
      "Couldn't find results for Shenyang\n",
      "Riyadh done\n",
      "Couldn't find results for Baghdad\n",
      "Santiago done\n",
      "Couldn't find results for Surat\n",
      "Madrid done\n",
      "Suzhou done\n",
      "Couldn't find results for Pune\n",
      "Couldn't find results for Harbin\n",
      "Houston done\n",
      "Dallas done\n",
      "Toronto done\n",
      "Dar es Salaam done\n",
      "Miami done\n",
      "Couldn't find results for Belo Horizonte\n",
      "Singapore done\n",
      "Philadelphia done\n",
      "Atlanta done\n",
      "Fukuoka done\n",
      "Couldn't find results for Khartoum\n",
      "Barcelona done\n",
      "Johannesburg done\n",
      "Saint Petersburg done\n",
      "Couldn't find results for Qingdao\n",
      "Couldn't find results for Dalian\n",
      "Washington, D.C. done\n",
      "Couldn't find results for Yangon\n",
      "Couldn't find results for Alexandria\n",
      "Couldn't find results for Jinan\n",
      "Guadalajara done\n"
     ]
    }
   ],
   "source": [
    "for city in city_names['city']:\n",
    "    try:\n",
    "        search_city = requests.get(\" https://api.teleport.org/api/cities/?search={}\".format(city))\n",
    "        first_result = search_city.json()[\"_embedded\"][\"city:search-results\"][0]\n",
    "        city_link = first_result[\"_links\"][\"city:item\"][\"href\"]\n",
    "        city_info = requests.get(city_link)\n",
    "        city_scores = requests.get(city_info.json()[\"_links\"][\"city:urban_area\"][\"href\"]+\"scores/\")\n",
    "        city_df = pd.DataFrame(city_scores.json()[\"categories\"])\n",
    "        csv = city_df.to_csv()\n",
    "        put_object = bucket_name.put_object(Key=\"{}-scoring.csv\".format(city), Body=csv)\n",
    "        print(\"{} done\".format(city))\n",
    "    except:\n",
    "        print(\"Couldn't find results for {}\".format(city))"
   ]
  },
  {
   "cell_type": "markdown",
   "metadata": {
    "colab_type": "text",
    "id": "VpoUz9Z2NH0G"
   },
   "source": [
    "🎊🎊🎊 Congratulations, You made it to the end of this exercise !! 🎊🎊🎊🎊"
   ]
  }
 ],
 "metadata": {
  "colab": {
   "collapsed_sections": [],
   "name": "6b. Solution - Get Cities of The World Quality of Life Data.ipynb",
   "provenance": []
  },
  "kernelspec": {
   "display_name": "Python 3 (ipykernel)",
   "language": "python",
   "name": "python3"
  },
  "language_info": {
   "codemirror_mode": {
    "name": "ipython",
    "version": 3
   },
   "file_extension": ".py",
   "mimetype": "text/x-python",
   "name": "python",
   "nbconvert_exporter": "python",
   "pygments_lexer": "ipython3",
   "version": "3.9.7"
  }
 },
 "nbformat": 4,
 "nbformat_minor": 4
}
