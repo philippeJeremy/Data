{
 "cells": [
  {
   "cell_type": "markdown",
   "metadata": {
    "colab_type": "text",
    "id": "f8p1Eflwauhs"
   },
   "source": [
    "# Amazon RDS - Relational Database Service\n",
    "\n",
    "## What you are going to learn in this course 🧐🧐\n",
    "\n",
    "In your *Data Lake*, all the data you have been collecting is stored, but then you will probably want to use it to extract valuable information and insight. One to do this is creating a database. A database is a computer or a collection of computer that can access structured data, and is able to run programs that executes operations on your data and gives you the results. In this course you will learn: \n",
    "\n",
    "* How to create Production-Level SQL Databases using Amazon RDS\n",
    "* Setup your DB to secure data with backups\n",
    "* Access your DB and populate it\n",
    "\n",
    "## What is RDS? 🤔🤔\n",
    "\n",
    "As its name suggests, Amazon RDS (Relational Database Service) is a service that handles databases. 👍 The cool features are that AWS will provide an easy set up and flexibility. With RDS, you will be able to create a database instance within minutes and scale it up or down very easily! \n",
    "\n",
    "## What kind of database can I use?\n",
    "\n",
    "You can set-up almost any kind of RDBMS (Relational Database Management System) on RDS. Here is a quick overview of all the RDBMS available:\n",
    "\n",
    "|RDBMS| Description|\n",
    "|-----|-----------|\n",
    "|MySQL| Open Source Engines|\n",
    "|MariaDB| Open Source Engines|\n",
    "|PostgreSQL| Open Source Engines|\n",
    "|Amazon Aurora| Serverless Engines|\n",
    "|Oracle| Commercial Engines|\n",
    "|Microsoft SQL Server| Commercial Engines|\n",
    "\n",
    "## Jargon 📚\n",
    "\n",
    "Before we set up an RDS instance, let's take a look at a few definitions that will help you understand RDS.\n",
    "\n",
    "|Word| Defintion|\n",
    "|-----|-----------|\n",
    "|Database Instance| First Block of Amazon RDS. When you'll want to build a database, you'll create a Database Instance.|\n",
    "|Database Engine| This refers to the above table. Databases have engine types such as MySQL, PostgreSQL,... RDBMS or Engine Type are two interchangeable words, it's the piece of sofware that makes the DB work|\n",
    "|DB Instance Class| This refers to the computing power needed for your database. You'll setup CPU, Memory Capacity, just like for an EC2 Instance (remember that a RDBMS like any software has to run on some physical machine)|\n",
    "|Multi AZ| You might want to setup High Availability zones for your instance to prevent any failure. This is what Multi-AZ does|\n",
    "|Primary Host| It's a node that handles queries on your DB (The machine that will interpret your instructions - e.g. SQL statements - and transfer them to the machine(s) that will work on your data)|\n",
    "|Read Replicas| It's a replica of your DB that handles only READ queries. This offloads your Primary Host|\n",
    "|Secondary Host| A copy of your Primary Host that is here to prevent failures|"
   ]
  },
  {
   "cell_type": "markdown",
   "metadata": {
    "colab_type": "text",
    "id": "yyjDEPeXosWw"
   },
   "source": [
    "## Create an Database Instance 🗄️🗄️\n",
    "\n",
    "Now that we have set the scene, let's see how we can create a database instance with RDS.\n",
    "\n",
    "### Create a simple instance"
   ]
  },
  {
   "cell_type": "markdown",
   "metadata": {},
   "source": [
    "!(https://www.youtube.com/watch?v=_g5mnUwtTmU)"
   ]
  },
  {
   "cell_type": "markdown",
   "metadata": {
    "colab_type": "text",
    "id": "WblHyKs-ptD5"
   },
   "source": [
    "Notice that we haven't seen how to create records and query them yet. There are indeed plenty of ways to do so that we'll see during the exercises. But just to give you a quick overview, here are the tools you can use:\n",
    "\n",
    "- <a href=\"https://www.pgadmin.org/download/\" target=\"_blank\">PGAdmin</a> to handle PostgreSQL DB \n",
    "- <a href=\"https://dev.mysql.com/downloads/workbench/\" target=\"_blank\">SQL Workbench</a> to handle MySQL DB \n",
    "- Spark SQL for Big Data \n",
    "- Hadoop \n",
    "\n",
    "In this video, we used PGAdmin. If you'd like to download and install it on your computer, <a href=\"https://www.pgadmin.org/download/\" target=\"_blank\">click here</a>.\n",
    "\n",
    "> NB: if you are having issues to access your DB from PGAdmin, check that your DB accessibility is set to \"public\" and/or try to reboot your DB instance. Please also make sure that your DB's security group allows connections from everywhere in the world, as showed in the following screenshots:\n",
    "> ![](https://full-stack-assets.s3.eu-west-3.amazonaws.com/images/M03-D03-security_groups_1.png)\n",
    "> If the rules are different from `0.0.0.0/0`, click on the name of the security group. You'll see a page similar to this one:\n",
    "> ![](https://full-stack-assets.s3.eu-west-3.amazonaws.com/images/M03-D03-security_groups_2.png)\n",
    "> Now, click on _edit inbound rules_ and set the source select to _anywhere_ in the Source dropdown menu:\n",
    ">![](https://full-stack-assets.s3.eu-west-3.amazonaws.com/images/M03-D03-security_groups_3.png)"
   ]
  },
  {
   "cell_type": "markdown",
   "metadata": {
    "colab_type": "text",
    "id": "im8HT2EVqfA6"
   },
   "source": [
    "### Scale your DB Instance 🚀\n",
    "\n",
    "As your application or your company is growing, your DB will handle more and more data, with more people trying to access it. Therefore, you will need to be able to scale your DB. Let's see how we can do it: "
   ]
  },
  {
   "cell_type": "markdown",
   "metadata": {},
   "source": [
    "!(https://www.youtube.com/watch?v=S53U2RPbpLA)"
   ]
  },
  {
   "cell_type": "markdown",
   "metadata": {
    "colab_type": "text",
    "id": "rjnT3wWXsTQb"
   },
   "source": [
    "🧐 Remember that you can scale two things:\n",
    "\n",
    "- DB Instance - You'll provide more computing power to your DB \n",
    "- Amazon EBS (Storage) - You'll provide more storage to your DB \n",
    "\n",
    "Whereas the first one might be done with some downtime, the second one will be provided immediately."
   ]
  },
  {
   "cell_type": "markdown",
   "metadata": {
    "colab_type": "text",
    "id": "H6tiYIjst080"
   },
   "source": [
    "### Multi-AZ 🌐\n",
    "\n",
    "As said earlier, Multi-AZ is a way for you to secure your DB by providing a secondary host on another Availability Zone so that you are sure not having any DB shutdown. Let's see how this works: "
   ]
  },
  {
   "cell_type": "markdown",
   "metadata": {},
   "source": [
    "!(https://www.youtube.com/watch?v=X3jkQ4AjuM8)"
   ]
  },
  {
   "cell_type": "markdown",
   "metadata": {
    "colab_type": "text",
    "id": "N5Pd7n84Plfe"
   },
   "source": [
    "🧐 To check failovers, we used in our terminal : `host -t ns HOSTNAME`.\n",
    "\n",
    "This works only on **MacOS**. If you want to do the same on Windows, you need to do `nslookup HOSTNAME`."
   ]
  },
  {
   "cell_type": "markdown",
   "metadata": {
    "colab_type": "text",
    "id": "VfDMvuUkuHGP"
   },
   "source": [
    "### Read Replicas \n",
    "\n",
    "As said in the Jargon section of this course, Read Replicas are a way to quickly use READ queries on your DB. This is especially useful when: \n",
    "\n",
    "- You have a lot of traffic on your app that needs to read your DB \n",
    "- You need to do a lot of reporting and therefore read your DB often \n",
    "- When you primary DB is unavailable and you need to have a quick replacement \n",
    "\n",
    "Let's see how we can add Read Replica to a DB Instance:"
   ]
  },
  {
   "cell_type": "markdown",
   "metadata": {},
   "source": [
    "!(https://www.youtube.com/watch?v=WATcKwVyW10)"
   ]
  },
  {
   "cell_type": "markdown",
   "metadata": {
    "colab_type": "text",
    "id": "RU9iSrbjwfVG"
   },
   "source": [
    "### Backups & Recovery\n",
    "\n",
    "One disaster would be to loose all the data of your DB. To avoid this, we need to do backups. Let's see how we can do that and how we can recover data. "
   ]
  },
  {
   "cell_type": "markdown",
   "metadata": {},
   "source": [
    "!(https://www.youtube.com/watch?v=3il2CHmmEXQ)"
   ]
  },
  {
   "cell_type": "markdown",
   "metadata": {
    "colab_type": "text",
    "id": "pAikZ9dTxipI"
   },
   "source": [
    "🧐 Your backups are automatically stored on an S3 bucket (which isn't available to you). If you need to restore a DB, you will need to re-create a DB instance and give it the same permissions as the previous one. Then you data will be directly uploaded from S3 to your new DB."
   ]
  },
  {
   "cell_type": "markdown",
   "metadata": {
    "colab_type": "text",
    "id": "otABinOSz9XH"
   },
   "source": [
    "## Monitoring RDS 📈📈\n",
    "\n",
    "Finally, once you created a DB Instance, it's pretty useful to keep an eye on your instances health! \n",
    "\n",
    "Like many AWS products, Monitoring metrics for RDS are created by a service called CloudWatch. \n",
    "\n",
    "Let's see how we can setup some monitoring:"
   ]
  },
  {
   "cell_type": "markdown",
   "metadata": {},
   "source": [
    "!(https://www.youtube.com/watch?v=kAFCI7Sksl8)"
   ]
  },
  {
   "cell_type": "markdown",
   "metadata": {
    "colab_type": "text",
    "id": "uySSIsMv0ew-"
   },
   "source": [
    "🧐 Keep in mind the different metrics:\n",
    "\n",
    "- **CPU**: How much calculation power is currently necessary for your DB. Make sure that it's not too high\n",
    "- **Free Storage Space**: How much space you have left for storage \n",
    "- **DB Connections**: How many connections there are on your DB \n",
    "- **Network Traffic**: How much data is being exchanged between client and server\n",
    "- **IOPS**: For Input/Output operations"
   ]
  },
  {
   "cell_type": "markdown",
   "metadata": {
    "colab_type": "text",
    "id": "XP6U8oK_b_Mt"
   },
   "source": [
    "⚠️ **We're done with our tutorials. If you followed along, make sure that you delete your resources so that you are not charged additionnal fees** ⚠️"
   ]
  },
  {
   "cell_type": "markdown",
   "metadata": {
    "colab_type": "text",
    "id": "HqHDZCChKa2i"
   },
   "source": [
    "## Pricing 💰💰\n",
    "\n",
    "Let's finish this course with pricing tiers to get an idea of how much it could cost you to setup a DB instance.\n",
    "\n",
    "You have 4 pillars that are going to drive your costs: \n",
    "\n",
    "1. **Instance Types**: Depending on the instance type and computing power you need, you will be charged more or less \n",
    "2. **Storage**: The more storage you need, the more it's going to cost \n",
    "3. **Backup**: If you're setup Multi AZ or backups, it will cost you more money \n",
    "4. **Data Transfer**: The more data you transfer, the more it's going to cost\n",
    "\n",
    "FYI, Amazon offers a free tier that is quite generous, so you won't be charged right away if you are creating and manipulating RDS. \n",
    "\n",
    "Here are more info 👉👉 https://aws.amazon.com/free/"
   ]
  },
  {
   "cell_type": "markdown",
   "metadata": {
    "colab_type": "text",
    "id": "rWCpDpfi3VJl"
   },
   "source": [
    "## Resources 📚📚\n",
    "\n",
    "- <a href=\"https://docs.aws.amazon.com/rds/?id=docs_gateway\" target=\"_blank\">Amazon RDS Documentation</a>\n",
    "- <a href=\"https://aws.amazon.com/answers/networking/vpc-network-management-and-monitoring/\" target=\"_blank\">VPC Network & Management Monitoring</a>\n",
    "- <a href=\"https://docs.aws.amazon.com/AWSEC2/latest/UserGuide/using-cloudwatch.html\" target=\"_blank\">Monitoring your instances using cloud watch</a>\n",
    "- <a href=\"https://www.pgadmin.org/download/\" target=\"_blank\">Install PGADMIN</a>"
   ]
  }
 ],
 "metadata": {
  "colab": {
   "collapsed_sections": [],
   "name": "1. Amazon RDS.ipynb",
   "provenance": []
  },
  "kernelspec": {
   "display_name": "Python 3.9.12 ('tf': conda)",
   "language": "python",
   "name": "python3"
  },
  "language_info": {
   "codemirror_mode": {
    "name": "ipython",
    "version": 3
   },
   "file_extension": ".py",
   "mimetype": "text/x-python",
   "name": "python",
   "nbconvert_exporter": "python",
   "pygments_lexer": "ipython3",
   "version": "3.9.12"
  },
  "vscode": {
   "interpreter": {
    "hash": "fbc4d3870518eee81184ced0d2279c769a0eca59aab465c4e7ec13e5e6c47a3e"
   }
  }
 },
 "nbformat": 4,
 "nbformat_minor": 4
}
