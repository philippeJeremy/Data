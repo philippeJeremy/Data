{
 "cells": [
  {
   "cell_type": "code",
   "execution_count": 1,
   "metadata": {},
   "outputs": [],
   "source": [
    "import pandas as pd\n",
    "import numpy as np\n",
    "from sklearn.model_selection import train_test_split\n",
    "from sklearn.pipeline import Pipeline\n",
    "from sklearn.impute import SimpleImputer\n",
    "from sklearn.preprocessing import  OneHotEncoder, StandardScaler, LabelEncoder\n",
    "from sklearn.compose import ColumnTransformer\n",
    "from sklearn.model_selection import cross_val_score, GridSearchCV, cross_val_score\n",
    "from sklearn.linear_model import LogisticRegression, LogisticRegressionCV\n",
    "from sklearn.metrics import accuracy_score, f1_score, ConfusionMatrixDisplay, RocCurveDisplay\n",
    "import matplotlib.pyplot as plt\n",
    "import warnings\n",
    "warnings.filterwarnings(\"ignore\", category=DeprecationWarning) # to avoid deprecation warnings\n",
    "\n",
    "import plotly.express as px\n",
    "import plotly.graph_objects as go"
   ]
  },
  {
   "cell_type": "code",
   "execution_count": 2,
   "metadata": {},
   "outputs": [],
   "source": [
    "df = pd.read_csv(\"https://full-stack-bigdata-datasets.s3.eu-west-3.amazonaws.com/Machine+Learning+Supervis%C3%A9/R%C3%A9gression+logistique+Cross+validation/Datasets/winequality-red.csv\" )\n"
   ]
  },
  {
   "cell_type": "code",
   "execution_count": 3,
   "metadata": {},
   "outputs": [
    {
     "data": {
      "text/html": [
       "<div>\n",
       "<style scoped>\n",
       "    .dataframe tbody tr th:only-of-type {\n",
       "        vertical-align: middle;\n",
       "    }\n",
       "\n",
       "    .dataframe tbody tr th {\n",
       "        vertical-align: top;\n",
       "    }\n",
       "\n",
       "    .dataframe thead th {\n",
       "        text-align: right;\n",
       "    }\n",
       "</style>\n",
       "<table border=\"1\" class=\"dataframe\">\n",
       "  <thead>\n",
       "    <tr style=\"text-align: right;\">\n",
       "      <th></th>\n",
       "      <th>fixed acidity</th>\n",
       "      <th>volatile acidity</th>\n",
       "      <th>citric acid</th>\n",
       "      <th>residual sugar</th>\n",
       "      <th>chlorides</th>\n",
       "      <th>free sulfur dioxide</th>\n",
       "      <th>total sulfur dioxide</th>\n",
       "      <th>density</th>\n",
       "      <th>pH</th>\n",
       "      <th>sulphates</th>\n",
       "      <th>alcohol</th>\n",
       "      <th>quality</th>\n",
       "    </tr>\n",
       "  </thead>\n",
       "  <tbody>\n",
       "    <tr>\n",
       "      <th>0</th>\n",
       "      <td>7.4</td>\n",
       "      <td>0.700</td>\n",
       "      <td>0.00</td>\n",
       "      <td>1.9</td>\n",
       "      <td>0.076</td>\n",
       "      <td>11.0</td>\n",
       "      <td>34.0</td>\n",
       "      <td>0.99780</td>\n",
       "      <td>3.51</td>\n",
       "      <td>0.56</td>\n",
       "      <td>9.4</td>\n",
       "      <td>5</td>\n",
       "    </tr>\n",
       "    <tr>\n",
       "      <th>1</th>\n",
       "      <td>7.8</td>\n",
       "      <td>0.880</td>\n",
       "      <td>0.00</td>\n",
       "      <td>2.6</td>\n",
       "      <td>0.098</td>\n",
       "      <td>25.0</td>\n",
       "      <td>67.0</td>\n",
       "      <td>0.99680</td>\n",
       "      <td>3.20</td>\n",
       "      <td>0.68</td>\n",
       "      <td>9.8</td>\n",
       "      <td>5</td>\n",
       "    </tr>\n",
       "    <tr>\n",
       "      <th>2</th>\n",
       "      <td>7.8</td>\n",
       "      <td>0.760</td>\n",
       "      <td>0.04</td>\n",
       "      <td>2.3</td>\n",
       "      <td>0.092</td>\n",
       "      <td>15.0</td>\n",
       "      <td>54.0</td>\n",
       "      <td>0.99700</td>\n",
       "      <td>3.26</td>\n",
       "      <td>0.65</td>\n",
       "      <td>9.8</td>\n",
       "      <td>5</td>\n",
       "    </tr>\n",
       "    <tr>\n",
       "      <th>3</th>\n",
       "      <td>11.2</td>\n",
       "      <td>0.280</td>\n",
       "      <td>0.56</td>\n",
       "      <td>1.9</td>\n",
       "      <td>0.075</td>\n",
       "      <td>17.0</td>\n",
       "      <td>60.0</td>\n",
       "      <td>0.99800</td>\n",
       "      <td>3.16</td>\n",
       "      <td>0.58</td>\n",
       "      <td>9.8</td>\n",
       "      <td>6</td>\n",
       "    </tr>\n",
       "    <tr>\n",
       "      <th>4</th>\n",
       "      <td>7.4</td>\n",
       "      <td>0.700</td>\n",
       "      <td>0.00</td>\n",
       "      <td>1.9</td>\n",
       "      <td>0.076</td>\n",
       "      <td>11.0</td>\n",
       "      <td>34.0</td>\n",
       "      <td>0.99780</td>\n",
       "      <td>3.51</td>\n",
       "      <td>0.56</td>\n",
       "      <td>9.4</td>\n",
       "      <td>5</td>\n",
       "    </tr>\n",
       "    <tr>\n",
       "      <th>...</th>\n",
       "      <td>...</td>\n",
       "      <td>...</td>\n",
       "      <td>...</td>\n",
       "      <td>...</td>\n",
       "      <td>...</td>\n",
       "      <td>...</td>\n",
       "      <td>...</td>\n",
       "      <td>...</td>\n",
       "      <td>...</td>\n",
       "      <td>...</td>\n",
       "      <td>...</td>\n",
       "      <td>...</td>\n",
       "    </tr>\n",
       "    <tr>\n",
       "      <th>1594</th>\n",
       "      <td>6.2</td>\n",
       "      <td>0.600</td>\n",
       "      <td>0.08</td>\n",
       "      <td>2.0</td>\n",
       "      <td>0.090</td>\n",
       "      <td>32.0</td>\n",
       "      <td>44.0</td>\n",
       "      <td>0.99490</td>\n",
       "      <td>3.45</td>\n",
       "      <td>0.58</td>\n",
       "      <td>10.5</td>\n",
       "      <td>5</td>\n",
       "    </tr>\n",
       "    <tr>\n",
       "      <th>1595</th>\n",
       "      <td>5.9</td>\n",
       "      <td>0.550</td>\n",
       "      <td>0.10</td>\n",
       "      <td>2.2</td>\n",
       "      <td>0.062</td>\n",
       "      <td>39.0</td>\n",
       "      <td>51.0</td>\n",
       "      <td>0.99512</td>\n",
       "      <td>3.52</td>\n",
       "      <td>0.76</td>\n",
       "      <td>11.2</td>\n",
       "      <td>6</td>\n",
       "    </tr>\n",
       "    <tr>\n",
       "      <th>1596</th>\n",
       "      <td>6.3</td>\n",
       "      <td>0.510</td>\n",
       "      <td>0.13</td>\n",
       "      <td>2.3</td>\n",
       "      <td>0.076</td>\n",
       "      <td>29.0</td>\n",
       "      <td>40.0</td>\n",
       "      <td>0.99574</td>\n",
       "      <td>3.42</td>\n",
       "      <td>0.75</td>\n",
       "      <td>11.0</td>\n",
       "      <td>6</td>\n",
       "    </tr>\n",
       "    <tr>\n",
       "      <th>1597</th>\n",
       "      <td>5.9</td>\n",
       "      <td>0.645</td>\n",
       "      <td>0.12</td>\n",
       "      <td>2.0</td>\n",
       "      <td>0.075</td>\n",
       "      <td>32.0</td>\n",
       "      <td>44.0</td>\n",
       "      <td>0.99547</td>\n",
       "      <td>3.57</td>\n",
       "      <td>0.71</td>\n",
       "      <td>10.2</td>\n",
       "      <td>5</td>\n",
       "    </tr>\n",
       "    <tr>\n",
       "      <th>1598</th>\n",
       "      <td>6.0</td>\n",
       "      <td>0.310</td>\n",
       "      <td>0.47</td>\n",
       "      <td>3.6</td>\n",
       "      <td>0.067</td>\n",
       "      <td>18.0</td>\n",
       "      <td>42.0</td>\n",
       "      <td>0.99549</td>\n",
       "      <td>3.39</td>\n",
       "      <td>0.66</td>\n",
       "      <td>11.0</td>\n",
       "      <td>6</td>\n",
       "    </tr>\n",
       "  </tbody>\n",
       "</table>\n",
       "<p>1599 rows × 12 columns</p>\n",
       "</div>"
      ],
      "text/plain": [
       "      fixed acidity  volatile acidity  citric acid  residual sugar  chlorides  \\\n",
       "0               7.4             0.700         0.00             1.9      0.076   \n",
       "1               7.8             0.880         0.00             2.6      0.098   \n",
       "2               7.8             0.760         0.04             2.3      0.092   \n",
       "3              11.2             0.280         0.56             1.9      0.075   \n",
       "4               7.4             0.700         0.00             1.9      0.076   \n",
       "...             ...               ...          ...             ...        ...   \n",
       "1594            6.2             0.600         0.08             2.0      0.090   \n",
       "1595            5.9             0.550         0.10             2.2      0.062   \n",
       "1596            6.3             0.510         0.13             2.3      0.076   \n",
       "1597            5.9             0.645         0.12             2.0      0.075   \n",
       "1598            6.0             0.310         0.47             3.6      0.067   \n",
       "\n",
       "      free sulfur dioxide  total sulfur dioxide  density    pH  sulphates  \\\n",
       "0                    11.0                  34.0  0.99780  3.51       0.56   \n",
       "1                    25.0                  67.0  0.99680  3.20       0.68   \n",
       "2                    15.0                  54.0  0.99700  3.26       0.65   \n",
       "3                    17.0                  60.0  0.99800  3.16       0.58   \n",
       "4                    11.0                  34.0  0.99780  3.51       0.56   \n",
       "...                   ...                   ...      ...   ...        ...   \n",
       "1594                 32.0                  44.0  0.99490  3.45       0.58   \n",
       "1595                 39.0                  51.0  0.99512  3.52       0.76   \n",
       "1596                 29.0                  40.0  0.99574  3.42       0.75   \n",
       "1597                 32.0                  44.0  0.99547  3.57       0.71   \n",
       "1598                 18.0                  42.0  0.99549  3.39       0.66   \n",
       "\n",
       "      alcohol  quality  \n",
       "0         9.4        5  \n",
       "1         9.8        5  \n",
       "2         9.8        5  \n",
       "3         9.8        6  \n",
       "4         9.4        5  \n",
       "...       ...      ...  \n",
       "1594     10.5        5  \n",
       "1595     11.2        6  \n",
       "1596     11.0        6  \n",
       "1597     10.2        5  \n",
       "1598     11.0        6  \n",
       "\n",
       "[1599 rows x 12 columns]"
      ]
     },
     "execution_count": 3,
     "metadata": {},
     "output_type": "execute_result"
    }
   ],
   "source": [
    "df"
   ]
  },
  {
   "cell_type": "code",
   "execution_count": 4,
   "metadata": {},
   "outputs": [],
   "source": [
    "df = df.rename(columns={\"fixed acidity\":\"fixed_acidity\",\"volatile acidity\" :\"volatile_acidity\",\"citric acid\" :\"citric_acid\", \"residual sugar\" : \"residual_sugar\",\"free sulfur dioxide\" :\"free_sulfur_dioxide\",\"total sulfur dioxide\": \"total_sulfur_dioxide\"})"
   ]
  },
  {
   "cell_type": "code",
   "execution_count": 5,
   "metadata": {},
   "outputs": [
    {
     "data": {
      "text/html": [
       "<div>\n",
       "<style scoped>\n",
       "    .dataframe tbody tr th:only-of-type {\n",
       "        vertical-align: middle;\n",
       "    }\n",
       "\n",
       "    .dataframe tbody tr th {\n",
       "        vertical-align: top;\n",
       "    }\n",
       "\n",
       "    .dataframe thead th {\n",
       "        text-align: right;\n",
       "    }\n",
       "</style>\n",
       "<table border=\"1\" class=\"dataframe\">\n",
       "  <thead>\n",
       "    <tr style=\"text-align: right;\">\n",
       "      <th></th>\n",
       "      <th>fixed_acidity</th>\n",
       "      <th>volatile_acidity</th>\n",
       "      <th>citric_acid</th>\n",
       "      <th>residual_sugar</th>\n",
       "      <th>chlorides</th>\n",
       "      <th>free_sulfur_dioxide</th>\n",
       "      <th>total_sulfur_dioxide</th>\n",
       "      <th>density</th>\n",
       "      <th>pH</th>\n",
       "      <th>sulphates</th>\n",
       "      <th>alcohol</th>\n",
       "      <th>quality</th>\n",
       "    </tr>\n",
       "  </thead>\n",
       "  <tbody>\n",
       "    <tr>\n",
       "      <th>0</th>\n",
       "      <td>7.4</td>\n",
       "      <td>0.700</td>\n",
       "      <td>0.00</td>\n",
       "      <td>1.9</td>\n",
       "      <td>0.076</td>\n",
       "      <td>11.0</td>\n",
       "      <td>34.0</td>\n",
       "      <td>0.99780</td>\n",
       "      <td>3.51</td>\n",
       "      <td>0.56</td>\n",
       "      <td>9.4</td>\n",
       "      <td>5</td>\n",
       "    </tr>\n",
       "    <tr>\n",
       "      <th>1</th>\n",
       "      <td>7.8</td>\n",
       "      <td>0.880</td>\n",
       "      <td>0.00</td>\n",
       "      <td>2.6</td>\n",
       "      <td>0.098</td>\n",
       "      <td>25.0</td>\n",
       "      <td>67.0</td>\n",
       "      <td>0.99680</td>\n",
       "      <td>3.20</td>\n",
       "      <td>0.68</td>\n",
       "      <td>9.8</td>\n",
       "      <td>5</td>\n",
       "    </tr>\n",
       "    <tr>\n",
       "      <th>2</th>\n",
       "      <td>7.8</td>\n",
       "      <td>0.760</td>\n",
       "      <td>0.04</td>\n",
       "      <td>2.3</td>\n",
       "      <td>0.092</td>\n",
       "      <td>15.0</td>\n",
       "      <td>54.0</td>\n",
       "      <td>0.99700</td>\n",
       "      <td>3.26</td>\n",
       "      <td>0.65</td>\n",
       "      <td>9.8</td>\n",
       "      <td>5</td>\n",
       "    </tr>\n",
       "    <tr>\n",
       "      <th>3</th>\n",
       "      <td>11.2</td>\n",
       "      <td>0.280</td>\n",
       "      <td>0.56</td>\n",
       "      <td>1.9</td>\n",
       "      <td>0.075</td>\n",
       "      <td>17.0</td>\n",
       "      <td>60.0</td>\n",
       "      <td>0.99800</td>\n",
       "      <td>3.16</td>\n",
       "      <td>0.58</td>\n",
       "      <td>9.8</td>\n",
       "      <td>6</td>\n",
       "    </tr>\n",
       "    <tr>\n",
       "      <th>4</th>\n",
       "      <td>7.4</td>\n",
       "      <td>0.700</td>\n",
       "      <td>0.00</td>\n",
       "      <td>1.9</td>\n",
       "      <td>0.076</td>\n",
       "      <td>11.0</td>\n",
       "      <td>34.0</td>\n",
       "      <td>0.99780</td>\n",
       "      <td>3.51</td>\n",
       "      <td>0.56</td>\n",
       "      <td>9.4</td>\n",
       "      <td>5</td>\n",
       "    </tr>\n",
       "    <tr>\n",
       "      <th>...</th>\n",
       "      <td>...</td>\n",
       "      <td>...</td>\n",
       "      <td>...</td>\n",
       "      <td>...</td>\n",
       "      <td>...</td>\n",
       "      <td>...</td>\n",
       "      <td>...</td>\n",
       "      <td>...</td>\n",
       "      <td>...</td>\n",
       "      <td>...</td>\n",
       "      <td>...</td>\n",
       "      <td>...</td>\n",
       "    </tr>\n",
       "    <tr>\n",
       "      <th>1594</th>\n",
       "      <td>6.2</td>\n",
       "      <td>0.600</td>\n",
       "      <td>0.08</td>\n",
       "      <td>2.0</td>\n",
       "      <td>0.090</td>\n",
       "      <td>32.0</td>\n",
       "      <td>44.0</td>\n",
       "      <td>0.99490</td>\n",
       "      <td>3.45</td>\n",
       "      <td>0.58</td>\n",
       "      <td>10.5</td>\n",
       "      <td>5</td>\n",
       "    </tr>\n",
       "    <tr>\n",
       "      <th>1595</th>\n",
       "      <td>5.9</td>\n",
       "      <td>0.550</td>\n",
       "      <td>0.10</td>\n",
       "      <td>2.2</td>\n",
       "      <td>0.062</td>\n",
       "      <td>39.0</td>\n",
       "      <td>51.0</td>\n",
       "      <td>0.99512</td>\n",
       "      <td>3.52</td>\n",
       "      <td>0.76</td>\n",
       "      <td>11.2</td>\n",
       "      <td>6</td>\n",
       "    </tr>\n",
       "    <tr>\n",
       "      <th>1596</th>\n",
       "      <td>6.3</td>\n",
       "      <td>0.510</td>\n",
       "      <td>0.13</td>\n",
       "      <td>2.3</td>\n",
       "      <td>0.076</td>\n",
       "      <td>29.0</td>\n",
       "      <td>40.0</td>\n",
       "      <td>0.99574</td>\n",
       "      <td>3.42</td>\n",
       "      <td>0.75</td>\n",
       "      <td>11.0</td>\n",
       "      <td>6</td>\n",
       "    </tr>\n",
       "    <tr>\n",
       "      <th>1597</th>\n",
       "      <td>5.9</td>\n",
       "      <td>0.645</td>\n",
       "      <td>0.12</td>\n",
       "      <td>2.0</td>\n",
       "      <td>0.075</td>\n",
       "      <td>32.0</td>\n",
       "      <td>44.0</td>\n",
       "      <td>0.99547</td>\n",
       "      <td>3.57</td>\n",
       "      <td>0.71</td>\n",
       "      <td>10.2</td>\n",
       "      <td>5</td>\n",
       "    </tr>\n",
       "    <tr>\n",
       "      <th>1598</th>\n",
       "      <td>6.0</td>\n",
       "      <td>0.310</td>\n",
       "      <td>0.47</td>\n",
       "      <td>3.6</td>\n",
       "      <td>0.067</td>\n",
       "      <td>18.0</td>\n",
       "      <td>42.0</td>\n",
       "      <td>0.99549</td>\n",
       "      <td>3.39</td>\n",
       "      <td>0.66</td>\n",
       "      <td>11.0</td>\n",
       "      <td>6</td>\n",
       "    </tr>\n",
       "  </tbody>\n",
       "</table>\n",
       "<p>1599 rows × 12 columns</p>\n",
       "</div>"
      ],
      "text/plain": [
       "      fixed_acidity  volatile_acidity  citric_acid  residual_sugar  chlorides  \\\n",
       "0               7.4             0.700         0.00             1.9      0.076   \n",
       "1               7.8             0.880         0.00             2.6      0.098   \n",
       "2               7.8             0.760         0.04             2.3      0.092   \n",
       "3              11.2             0.280         0.56             1.9      0.075   \n",
       "4               7.4             0.700         0.00             1.9      0.076   \n",
       "...             ...               ...          ...             ...        ...   \n",
       "1594            6.2             0.600         0.08             2.0      0.090   \n",
       "1595            5.9             0.550         0.10             2.2      0.062   \n",
       "1596            6.3             0.510         0.13             2.3      0.076   \n",
       "1597            5.9             0.645         0.12             2.0      0.075   \n",
       "1598            6.0             0.310         0.47             3.6      0.067   \n",
       "\n",
       "      free_sulfur_dioxide  total_sulfur_dioxide  density    pH  sulphates  \\\n",
       "0                    11.0                  34.0  0.99780  3.51       0.56   \n",
       "1                    25.0                  67.0  0.99680  3.20       0.68   \n",
       "2                    15.0                  54.0  0.99700  3.26       0.65   \n",
       "3                    17.0                  60.0  0.99800  3.16       0.58   \n",
       "4                    11.0                  34.0  0.99780  3.51       0.56   \n",
       "...                   ...                   ...      ...   ...        ...   \n",
       "1594                 32.0                  44.0  0.99490  3.45       0.58   \n",
       "1595                 39.0                  51.0  0.99512  3.52       0.76   \n",
       "1596                 29.0                  40.0  0.99574  3.42       0.75   \n",
       "1597                 32.0                  44.0  0.99547  3.57       0.71   \n",
       "1598                 18.0                  42.0  0.99549  3.39       0.66   \n",
       "\n",
       "      alcohol  quality  \n",
       "0         9.4        5  \n",
       "1         9.8        5  \n",
       "2         9.8        5  \n",
       "3         9.8        6  \n",
       "4         9.4        5  \n",
       "...       ...      ...  \n",
       "1594     10.5        5  \n",
       "1595     11.2        6  \n",
       "1596     11.0        6  \n",
       "1597     10.2        5  \n",
       "1598     11.0        6  \n",
       "\n",
       "[1599 rows x 12 columns]"
      ]
     },
     "execution_count": 5,
     "metadata": {},
     "output_type": "execute_result"
    }
   ],
   "source": [
    "df"
   ]
  },
  {
   "cell_type": "code",
   "execution_count": 6,
   "metadata": {},
   "outputs": [
    {
     "data": {
      "text/plain": [
       "fixed_acidity           0.0\n",
       "volatile_acidity        0.0\n",
       "citric_acid             0.0\n",
       "residual_sugar          0.0\n",
       "chlorides               0.0\n",
       "free_sulfur_dioxide     0.0\n",
       "total_sulfur_dioxide    0.0\n",
       "density                 0.0\n",
       "pH                      0.0\n",
       "sulphates               0.0\n",
       "alcohol                 0.0\n",
       "quality                 0.0\n",
       "dtype: float64"
      ]
     },
     "metadata": {},
     "output_type": "display_data"
    }
   ],
   "source": [
    "display(100*df.isnull().sum()/df.shape[0])"
   ]
  },
  {
   "cell_type": "code",
   "execution_count": 7,
   "metadata": {},
   "outputs": [
    {
     "data": {
      "text/plain": [
       "fixed_acidity           float64\n",
       "volatile_acidity        float64\n",
       "citric_acid             float64\n",
       "residual_sugar          float64\n",
       "chlorides               float64\n",
       "free_sulfur_dioxide     float64\n",
       "total_sulfur_dioxide    float64\n",
       "density                 float64\n",
       "pH                      float64\n",
       "sulphates               float64\n",
       "alcohol                 float64\n",
       "quality                   int64\n",
       "dtype: object"
      ]
     },
     "execution_count": 7,
     "metadata": {},
     "output_type": "execute_result"
    }
   ],
   "source": [
    "df.dtypes"
   ]
  },
  {
   "cell_type": "code",
   "execution_count": 8,
   "metadata": {},
   "outputs": [
    {
     "data": {
      "application/vnd.plotly.v1+json": {
       "config": {
        "plotlyServerURL": "https://plot.ly"
       },
       "data": [
        {
         "alignmentgroup": "True",
         "bingroup": "x",
         "histnorm": "probability",
         "hovertemplate": "quality=5<br>fixed_acidity=%{x}<br>probability=%{y}<extra></extra>",
         "legendgroup": "5",
         "marker": {
          "color": "#636efa",
          "pattern": {
           "shape": ""
          }
         },
         "name": "5",
         "offsetgroup": "5",
         "orientation": "v",
         "showlegend": true,
         "type": "histogram",
         "x": [
          7.4,
          7.8,
          7.8,
          7.4,
          7.4,
          7.9,
          7.5,
          6.7,
          7.5,
          5.6,
          7.8,
          8.9,
          8.9,
          8.1,
          7.6,
          7.9,
          8.5,
          6.3,
          7.6,
          7.9,
          7.1,
          6.7,
          8.3,
          5.2,
          7.3,
          7.3,
          8.1,
          6.8,
          7.7,
          8.7,
          6.4,
          5.6,
          8.8,
          8.6,
          7.7,
          10.2,
          7.5,
          7.8,
          8.8,
          7.7,
          7,
          7.2,
          7.2,
          7.5,
          6.6,
          9.3,
          7.7,
          7.7,
          9.7,
          8.8,
          8.8,
          6.7,
          6.2,
          7.8,
          7.4,
          7.3,
          6.9,
          7.7,
          9.3,
          7,
          7.9,
          8.6,
          7.7,
          6.8,
          7,
          7.6,
          8.1,
          7.2,
          8.1,
          7.8,
          6.2,
          8.1,
          7.8,
          8.4,
          8.4,
          7.8,
          7.3,
          7.3,
          8,
          7.8,
          9,
          8.2,
          8.1,
          6.1,
          8,
          5.6,
          5.6,
          8.4,
          8.3,
          7.2,
          7.8,
          7.8,
          8.4,
          8.3,
          6.3,
          8.1,
          5.8,
          7.6,
          7.5,
          7.5,
          7.1,
          7.1,
          7.1,
          7.1,
          7.1,
          7.6,
          7.4,
          7.3,
          7.8,
          6.8,
          7.5,
          7.3,
          6.9,
          7.3,
          7,
          8.8,
          8.8,
          8.9,
          7.2,
          6.8,
          8.9,
          7.4,
          7.7,
          7.9,
          7.9,
          8.2,
          6.8,
          7.6,
          7.6,
          7.8,
          7.3,
          8.8,
          6.8,
          7,
          7.8,
          7.8,
          8.2,
          7,
          8.7,
          8.1,
          7.5,
          7.8,
          7.4,
          6.8,
          9,
          6.9,
          6.9,
          8.9,
          7.1,
          8.2,
          11.1,
          7.7,
          8,
          9.4,
          6.6,
          7.7,
          7.9,
          8,
          7.9,
          12.5,
          10.9,
          8.4,
          7.5,
          7.6,
          9.9,
          9.9,
          11.6,
          11,
          10.8,
          10.6,
          7.1,
          7.2,
          6.9,
          8.3,
          7.4,
          8.4,
          7.6,
          8.6,
          7.4,
          9.6,
          9.3,
          7.8,
          10.3,
          10.7,
          8.4,
          7.8,
          7,
          7.7,
          13.5,
          11.5,
          8.2,
          11.9,
          12.5,
          10.4,
          10.3,
          6.9,
          7.4,
          7.7,
          9.5,
          8.4,
          12.7,
          6.6,
          8.7,
          6.6,
          7.7,
          9.1,
          7.1,
          8.8,
          8.6,
          7,
          6.8,
          7.7,
          7.7,
          9.1,
          7.8,
          12.3,
          12.3,
          7,
          12.5,
          9.3,
          7,
          8.9,
          9.2,
          8.3,
          11,
          8.1,
          10,
          8.7,
          13,
          9.9,
          9.6,
          9.3,
          9.6,
          10.6,
          10.6,
          10.6,
          10.2,
          10.2,
          7.2,
          12.4,
          8.5,
          7.3,
          7.6,
          8.2,
          9.3,
          9.2,
          10.4,
          7.3,
          9.9,
          11.9,
          11.9,
          9.9,
          11.2,
          9.2,
          9.3,
          9.1,
          5,
          15.5,
          15.5,
          15.6,
          12.7,
          9,
          9,
          12.7,
          10.2,
          8.8,
          8.8,
          12.3,
          12.3,
          11.7,
          7.3,
          9,
          9,
          9.9,
          7.9,
          8.9,
          7.7,
          8.8,
          13.2,
          8.2,
          9.6,
          9.6,
          11.4,
          11.3,
          8.3,
          8.2,
          10,
          6.8,
          6.8,
          8.8,
          8.8,
          7.6,
          10.4,
          7.9,
          8.7,
          9.6,
          9.5,
          9.9,
          9.5,
          9.9,
          9.5,
          9.9,
          7.3,
          10.7,
          9.8,
          15.9,
          8.6,
          9.7,
          10.7,
          7.5,
          12.1,
          9.4,
          10,
          6.9,
          8.2,
          9.8,
          8.2,
          9.3,
          8.6,
          8.3,
          10.8,
          13.3,
          8.5,
          8.1,
          9.8,
          8.1,
          7.1,
          9.1,
          7.7,
          8.1,
          9.2,
          8.6,
          9,
          9,
          9.4,
          8.4,
          7,
          7.4,
          10.6,
          8.9,
          8.7,
          8,
          9.9,
          8,
          7.6,
          8.4,
          7.1,
          8.4,
          8.9,
          7.6,
          7.1,
          9,
          6.4,
          6.4,
          9.5,
          8.9,
          7.3,
          7,
          7.7,
          7.7,
          7.7,
          9,
          9,
          9.2,
          6.5,
          11.6,
          11.1,
          8.6,
          8.3,
          8.3,
          7.6,
          8.3,
          8.1,
          8.1,
          8.8,
          9,
          9.3,
          9.3,
          8.8,
          7.5,
          7.9,
          9.4,
          9.5,
          7.2,
          8.3,
          7.1,
          6.5,
          9,
          6.5,
          7.1,
          9.9,
          9.9,
          8.6,
          8.8,
          7.7,
          10.8,
          8.7,
          7.2,
          8.6,
          7.4,
          7.3,
          10.8,
          10.8,
          7.1,
          9.1,
          7,
          6.7,
          6.7,
          7.1,
          7.1,
          7.1,
          8.8,
          7.6,
          6,
          6.6,
          7.1,
          6.4,
          6.4,
          6.4,
          6.4,
          9.3,
          9.3,
          8,
          7.2,
          7.5,
          7.2,
          7.2,
          7.2,
          6.9,
          7.2,
          9.2,
          7.2,
          8.9,
          10.7,
          7.2,
          7.2,
          7.2,
          8.9,
          9.2,
          7.2,
          5.3,
          9.6,
          8.6,
          8.6,
          6.6,
          7.4,
          7.4,
          6.6,
          6.2,
          8.5,
          8,
          7.1,
          6.6,
          8.5,
          6.7,
          8.5,
          7.2,
          7.2,
          8.4,
          12.2,
          9.5,
          12.2,
          7.1,
          7.7,
          7.7,
          7.1,
          7.1,
          10,
          8.2,
          9.6,
          7.7,
          7,
          7,
          6.4,
          8.1,
          7.3,
          7.4,
          7.1,
          7.1,
          8.5,
          5.6,
          7.6,
          8,
          7.5,
          7.5,
          8.6,
          8.6,
          6.8,
          9.4,
          8.6,
          8.6,
          6.3,
          8.1,
          5.6,
          10,
          5.9,
          7.5,
          7.3,
          8.3,
          8.3,
          10.2,
          9,
          9,
          8.5,
          9.9,
          5.6,
          9.8,
          6.8,
          6.7,
          6.6,
          6.7,
          6.5,
          6.4,
          9.9,
          9.9,
          6.6,
          9.2,
          7.5,
          9,
          7.6,
          7.8,
          7.6,
          7.5,
          9.8,
          8.3,
          7.4,
          7.4,
          7.4,
          7.5,
          7.1,
          7.9,
          7.8,
          6.1,
          7.5,
          8.6,
          9.8,
          5.9,
          7.5,
          7,
          11.3,
          8,
          7,
          7,
          7.6,
          6.6,
          6.6,
          8,
          7.6,
          7.5,
          9.7,
          9.7,
          7,
          7.5,
          8,
          9.7,
          9.1,
          6.5,
          7.8,
          9.1,
          7.2,
          6,
          6,
          6,
          11.5,
          6.1,
          7.2,
          7.2,
          6.9,
          9,
          7.6,
          7.6,
          7.2,
          6.1,
          6.1,
          7.4,
          9.2,
          8.3,
          7.8,
          7.3,
          8.7,
          8.7,
          7.7,
          7.2,
          8.2,
          6.8,
          8,
          8,
          7.1,
          8,
          7.4,
          7.4,
          6.6,
          6.7,
          8,
          7.1,
          8,
          6.4,
          8.7,
          7.3,
          7.9,
          7.9,
          9.9,
          10,
          6.2,
          10,
          7.8,
          7.7,
          7.8,
          7.5,
          7.6,
          7.8,
          7.9,
          7.4,
          10,
          6.8,
          7,
          6.9,
          6.9,
          6.9,
          6.8,
          6.9,
          7.6,
          7.6,
          8.4,
          6.8,
          6.8,
          10,
          6.7,
          6.1,
          9.9,
          9.9,
          8.2,
          8.2,
          8.1,
          7,
          6.8,
          6,
          5.6,
          5.6,
          6.2,
          7.7,
          7.7,
          7.5,
          7.8,
          7.3,
          7.9,
          7.1,
          6.1,
          7.4,
          6.6,
          6.1,
          6.8,
          6.7,
          6.1,
          8,
          6.2,
          7.2,
          7,
          6.3,
          11.2,
          7.1,
          7.1,
          7.3,
          6.6,
          6.9,
          7.8,
          7.8,
          7.8,
          7.2,
          7.2,
          7.2,
          7.2,
          7,
          7.3,
          6.2,
          6.2,
          6.1,
          6.2,
          6.6,
          6.2,
          5.9
         ],
         "xaxis": "x6",
         "yaxis": "y6"
        },
        {
         "alignmentgroup": "True",
         "bingroup": "x",
         "histnorm": "probability",
         "hovertemplate": "quality=6<br>fixed_acidity=%{x}<br>probability=%{y}<extra></extra>",
         "legendgroup": "6",
         "marker": {
          "color": "#EF553B",
          "pattern": {
           "shape": ""
          }
         },
         "name": "6",
         "offsetgroup": "6",
         "orientation": "v",
         "showlegend": true,
         "type": "histogram",
         "x": [
          11.2,
          7.9,
          8.9,
          6.9,
          7.8,
          6.9,
          6.9,
          7.8,
          7.8,
          7.5,
          6.6,
          6.6,
          7.6,
          7.3,
          8,
          7.7,
          6.8,
          6.3,
          8.6,
          8.6,
          4.7,
          8.1,
          8.3,
          7.8,
          8.1,
          8,
          10.1,
          9.4,
          8.3,
          7.8,
          8.8,
          7,
          8.8,
          6.6,
          7.9,
          5.2,
          5.2,
          6.9,
          8.2,
          7.3,
          6.8,
          7.8,
          6.8,
          8,
          8,
          7.4,
          7.5,
          6.7,
          6.4,
          11.5,
          7,
          9.7,
          8,
          11.6,
          7.8,
          7.8,
          8.6,
          7.7,
          8.9,
          7.7,
          8,
          8.5,
          8.2,
          7.2,
          7.2,
          7.2,
          7.2,
          8.2,
          12,
          7.7,
          7.3,
          7.7,
          7.3,
          10.8,
          7.1,
          7.1,
          6.9,
          11.5,
          7.9,
          11.5,
          7.9,
          6.9,
          11.5,
          11.4,
          12,
          7.5,
          10.4,
          6.9,
          13.3,
          7.5,
          11.1,
          10.3,
          10.3,
          10.3,
          7.4,
          10.3,
          7.9,
          9,
          7.1,
          9.6,
          9.6,
          10.3,
          10,
          10,
          13.4,
          10.2,
          10.2,
          8,
          8.9,
          12.4,
          12.2,
          10.6,
          10.9,
          10.9,
          11.9,
          13.8,
          9.6,
          9.1,
          10.7,
          9.1,
          6.1,
          6.7,
          12.6,
          8.6,
          10,
          7.9,
          9.1,
          14,
          11.5,
          11.4,
          8.3,
          8.3,
          13.7,
          8.3,
          8.3,
          7.4,
          7.8,
          8.3,
          7.8,
          13.7,
          11.5,
          11.5,
          7.7,
          12.2,
          11.4,
          8.7,
          9.8,
          10.4,
          9,
          10.6,
          11.9,
          6.4,
          9.5,
          12.8,
          11.9,
          10.4,
          8,
          11.1,
          10.4,
          11.9,
          9.5,
          8.6,
          11.9,
          11.9,
          8.4,
          6.8,
          9.2,
          11.5,
          10.3,
          8.8,
          11.4,
          9.6,
          12.5,
          10.5,
          10.4,
          9.4,
          10.6,
          10.2,
          9.3,
          9.3,
          8.7,
          6.5,
          7.8,
          8.7,
          7.8,
          11.2,
          10,
          10,
          10.7,
          12.5,
          10.9,
          9.8,
          7,
          8.2,
          9.1,
          10.3,
          10,
          9.1,
          8.1,
          9.5,
          11.2,
          14.3,
          7.5,
          10.6,
          12.4,
          9,
          6.8,
          9.4,
          9.5,
          10.9,
          10.9,
          13,
          7.6,
          13,
          8.7,
          8.7,
          9.8,
          6.2,
          11.5,
          6.2,
          10.6,
          12.3,
          10.6,
          7.6,
          6.6,
          12.4,
          11.9,
          8.5,
          12.7,
          13.2,
          13.2,
          8.3,
          8.3,
          8.8,
          10.1,
          6.3,
          7.5,
          9.2,
          11.5,
          7.9,
          8.7,
          8.7,
          7.6,
          8.9,
          6.7,
          9.4,
          7.2,
          7.2,
          7.2,
          10.1,
          8.3,
          11.3,
          11.3,
          10.8,
          10.8,
          8,
          5.1,
          7,
          7,
          11.8,
          10.6,
          7,
          7,
          7.8,
          9.7,
          7.2,
          8.1,
          6.4,
          8.2,
          8.3,
          7.3,
          8.2,
          7.2,
          7.3,
          7.8,
          7.8,
          6.3,
          8.8,
          9.1,
          9.2,
          7.1,
          7.1,
          7.9,
          7.9,
          6.9,
          6.9,
          7,
          10,
          10,
          7.4,
          7.1,
          10.1,
          9.4,
          9.4,
          7.7,
          8.4,
          7.6,
          12.9,
          12.6,
          9.8,
          10.8,
          5.9,
          5.9,
          10.6,
          9.9,
          7.4,
          9.3,
          9.3,
          9.3,
          6.8,
          5.8,
          6.8,
          6.9,
          6.8,
          7.6,
          7.7,
          7.7,
          8.8,
          7.6,
          8.4,
          8.8,
          9,
          6.8,
          10.1,
          7.2,
          7.1,
          7.1,
          6.1,
          7.4,
          7.3,
          9.3,
          9.1,
          10,
          7.3,
          8.6,
          6.8,
          8.4,
          8.4,
          8.4,
          8.4,
          6.8,
          9.4,
          7.6,
          8.8,
          8.8,
          7.6,
          9,
          9.5,
          8.5,
          8.8,
          8.5,
          8.3,
          9,
          10.4,
          10.4,
          9.1,
          7.3,
          9.1,
          7.4,
          9.7,
          6.5,
          7.7,
          8.9,
          6.4,
          8.9,
          7.5,
          8,
          10.5,
          8,
          8,
          11.3,
          11.3,
          8.2,
          8.6,
          7.9,
          7.2,
          7.5,
          8.9,
          8.9,
          6.9,
          8.9,
          6.4,
          6.9,
          7.6,
          9.3,
          9.3,
          8.2,
          8.2,
          11.6,
          8,
          10.2,
          8.2,
          7.7,
          7.2,
          8,
          9.9,
          10.3,
          7.2,
          8.7,
          7.2,
          7.9,
          7.9,
          7,
          6.6,
          6.6,
          8.4,
          7.4,
          6.1,
          7.4,
          8,
          8.2,
          10.8,
          8.3,
          7.9,
          8.9,
          5,
          7,
          7,
          7,
          7.1,
          6.6,
          6.3,
          10.7,
          5.8,
          6.3,
          10.5,
          9.1,
          8,
          10.4,
          10.4,
          8.2,
          7.3,
          8.2,
          6.9,
          7,
          8.2,
          7.8,
          7.8,
          10,
          6.1,
          9.6,
          6.6,
          6.7,
          8.8,
          6.5,
          7.6,
          9.2,
          7.1,
          9.7,
          7.6,
          7.6,
          6.5,
          8.2,
          8.2,
          10.2,
          7,
          7,
          9.1,
          7,
          6.2,
          7.9,
          7.7,
          7.7,
          7.9,
          7.7,
          6.8,
          6.8,
          9.6,
          10.2,
          8.8,
          7.9,
          8.2,
          8.2,
          9,
          10.9,
          10.9,
          8.1,
          10.5,
          12.6,
          7.7,
          7.1,
          7.8,
          7.1,
          9,
          5.9,
          6.9,
          7.1,
          7.1,
          7,
          6.8,
          6.8,
          8.5,
          7.2,
          7.2,
          10.4,
          6.9,
          5,
          7.3,
          7.8,
          8,
          7,
          8,
          7.1,
          7.1,
          7.9,
          8.7,
          7.1,
          8.2,
          5.9,
          8.2,
          7.2,
          5.7,
          5.2,
          6.7,
          9.1,
          6.5,
          7,
          7,
          7.5,
          5.4,
          9.9,
          7.5,
          9.1,
          5,
          6.7,
          6.7,
          6.7,
          6.7,
          7.4,
          7.4,
          8.4,
          6.6,
          7.5,
          7.5,
          7.5,
          7.6,
          7.5,
          8.2,
          7.2,
          7.3,
          11.6,
          11.6,
          7.2,
          6.9,
          8,
          7.5,
          5.2,
          7.2,
          7.5,
          7.5,
          6,
          8.6,
          7.2,
          7.6,
          8,
          8.2,
          6,
          6,
          6.6,
          6.4,
          8.2,
          7,
          8.3,
          8.3,
          7.7,
          7.6,
          5.9,
          10.2,
          10.2,
          7.3,
          7.4,
          7.3,
          7.4,
          11.7,
          6.5,
          6,
          6.4,
          6.8,
          6.9,
          7.6,
          6.2,
          7.1,
          7,
          6.9,
          6.6,
          6.9,
          6.2,
          7.5,
          6.8,
          7.5,
          7.1,
          6.4,
          6.4,
          6.4,
          6.9,
          6.9,
          6.5,
          6.5,
          6,
          6.8,
          7.1,
          7.9,
          7.1,
          6.6,
          7.2,
          7,
          6.1,
          5.4,
          6.2,
          6.7,
          11.1,
          6.5,
          6.3,
          6.6,
          6.6,
          6.7,
          6.7,
          6.2,
          6.4,
          6.4,
          6,
          5.6,
          7.5,
          8,
          6.2,
          6.8,
          7.4,
          7.2,
          7.5,
          5.8,
          7.2,
          6.3,
          5.4,
          6.3,
          6.8,
          5.9,
          6.3,
          6
         ],
         "xaxis": "x5",
         "yaxis": "y5"
        },
        {
         "alignmentgroup": "True",
         "bingroup": "x",
         "histnorm": "probability",
         "hovertemplate": "quality=7<br>fixed_acidity=%{x}<br>probability=%{y}<extra></extra>",
         "legendgroup": "7",
         "marker": {
          "color": "#00cc96",
          "pattern": {
           "shape": ""
          }
         },
         "name": "7",
         "offsetgroup": "7",
         "orientation": "v",
         "showlegend": true,
         "type": "histogram",
         "x": [
          7.3,
          7.8,
          8.5,
          8.1,
          7.5,
          8,
          5.4,
          9.6,
          12.8,
          12.8,
          11,
          5.2,
          15,
          15,
          10,
          11.8,
          8.9,
          7.7,
          8.9,
          8.7,
          8.7,
          9.8,
          9.8,
          11.6,
          7.9,
          11.9,
          12.5,
          6.6,
          10.5,
          11.9,
          12.8,
          12.8,
          9.4,
          11.5,
          9.4,
          9.6,
          12,
          12,
          9.9,
          9.5,
          6.6,
          10.5,
          6.6,
          10.5,
          15.6,
          10,
          5.3,
          10.4,
          10.4,
          11.6,
          9.2,
          8.9,
          10.4,
          10.4,
          10.5,
          10.5,
          10.2,
          10.4,
          13.3,
          10.5,
          10.5,
          12.9,
          12,
          11.8,
          11.1,
          10.2,
          9.4,
          7.7,
          7.8,
          8.7,
          12,
          9.3,
          5.1,
          8.2,
          8.4,
          8.2,
          4.9,
          7.5,
          6.7,
          6.7,
          10.1,
          11.1,
          7.6,
          8.2,
          11.7,
          9.1,
          10.4,
          8.8,
          10.7,
          8.3,
          8.3,
          7.4,
          7.4,
          6.8,
          6.8,
          9.4,
          8.6,
          8.7,
          7.2,
          9.6,
          9.9,
          10.1,
          9.8,
          8.3,
          10.2,
          10.2,
          8.3,
          8.9,
          8.9,
          8.9,
          8.3,
          8.2,
          10.2,
          6.4,
          9,
          10.1,
          8.8,
          7,
          9.8,
          5.6,
          5.6,
          7.5,
          9.9,
          9.1,
          6.8,
          6.8,
          9.1,
          9.1,
          8.9,
          8.9,
          8.9,
          7.7,
          7.7,
          7.1,
          7.3,
          10.1,
          7.6,
          8.7,
          9.5,
          8.3,
          8.9,
          9.9,
          8.9,
          6.6,
          11.1,
          11.1,
          9.3,
          9.1,
          7.9,
          7.9,
          8.5,
          11.6,
          11.6,
          9.2,
          8,
          9.1,
          5.4,
          8.8,
          7.4,
          7.2,
          8.5,
          10,
          8.2,
          8.5,
          5.1,
          10.6,
          8.5,
          8.2,
          7.1,
          7.2,
          7.9,
          7.2,
          7.2,
          7.2,
          7.2,
          6.2,
          5.1,
          9.8,
          9.1,
          7,
          7.7,
          8.1,
          7.3,
          6.1,
          7.2,
          7.2,
          7.8,
          6.6,
          7.9,
          7.3,
          7.3,
          5.3,
          5.3,
          6.4,
          6.6,
          7.4,
          8.4,
          7,
          6.7
         ],
         "xaxis": "x4",
         "yaxis": "y4"
        },
        {
         "alignmentgroup": "True",
         "bingroup": "x",
         "histnorm": "probability",
         "hovertemplate": "quality=4<br>fixed_acidity=%{x}<br>probability=%{y}<extra></extra>",
         "legendgroup": "4",
         "marker": {
          "color": "#ab63fa",
          "pattern": {
           "shape": ""
          }
         },
         "name": "4",
         "offsetgroup": "4",
         "orientation": "v",
         "showlegend": true,
         "type": "histogram",
         "x": [
          7.4,
          5.7,
          8.8,
          4.6,
          8.3,
          8.3,
          5,
          9.2,
          7.6,
          7.3,
          7.9,
          6.9,
          8.4,
          7,
          8.1,
          12.5,
          10.5,
          9.9,
          8.2,
          10.1,
          8.3,
          7.1,
          7.5,
          9.1,
          7.5,
          6.9,
          7.5,
          11.6,
          7.3,
          7.1,
          8.4,
          12,
          6.5,
          6.5,
          8.8,
          10.2,
          6,
          8.1,
          6.5,
          6.3,
          8.2,
          8.5,
          7.5,
          6.8,
          8,
          6.6,
          6.4,
          6.2,
          6.7,
          5.6,
          7.2,
          6.8,
          6.9
         ],
         "xaxis": "x3",
         "yaxis": "y3"
        },
        {
         "alignmentgroup": "True",
         "bingroup": "x",
         "histnorm": "probability",
         "hovertemplate": "quality=8<br>fixed_acidity=%{x}<br>probability=%{y}<extra></extra>",
         "legendgroup": "8",
         "marker": {
          "color": "#FFA15A",
          "pattern": {
           "shape": ""
          }
         },
         "name": "8",
         "offsetgroup": "8",
         "orientation": "v",
         "showlegend": true,
         "type": "histogram",
         "x": [
          7.9,
          10.3,
          5.6,
          12.6,
          11.3,
          9.4,
          10.7,
          10.7,
          5,
          7.8,
          9.1,
          10,
          7.9,
          8.6,
          5.5,
          7.2,
          7.2,
          7.4
         ],
         "xaxis": "x2",
         "yaxis": "y2"
        },
        {
         "alignmentgroup": "True",
         "bingroup": "x",
         "histnorm": "probability",
         "hovertemplate": "quality=3<br>fixed_acidity=%{x}<br>probability=%{y}<extra></extra>",
         "legendgroup": "3",
         "marker": {
          "color": "#19d3f3",
          "pattern": {
           "shape": ""
          }
         },
         "name": "3",
         "offsetgroup": "3",
         "orientation": "v",
         "showlegend": true,
         "type": "histogram",
         "x": [
          11.6,
          10.4,
          7.4,
          10.4,
          8.3,
          7.6,
          6.8,
          7.3,
          7.1,
          6.7
         ],
         "xaxis": "x",
         "yaxis": "y"
        }
       ],
       "layout": {
        "annotations": [
         {
          "font": {},
          "showarrow": false,
          "text": "quality=3",
          "textangle": 90,
          "x": 0.98,
          "xanchor": "left",
          "xref": "paper",
          "y": 0.07083333333333333,
          "yanchor": "middle",
          "yref": "paper"
         },
         {
          "font": {},
          "showarrow": false,
          "text": "quality=8",
          "textangle": 90,
          "x": 0.98,
          "xanchor": "left",
          "xref": "paper",
          "y": 0.2425,
          "yanchor": "middle",
          "yref": "paper"
         },
         {
          "font": {},
          "showarrow": false,
          "text": "quality=4",
          "textangle": 90,
          "x": 0.98,
          "xanchor": "left",
          "xref": "paper",
          "y": 0.4141666666666667,
          "yanchor": "middle",
          "yref": "paper"
         },
         {
          "font": {},
          "showarrow": false,
          "text": "quality=7",
          "textangle": 90,
          "x": 0.98,
          "xanchor": "left",
          "xref": "paper",
          "y": 0.5858333333333334,
          "yanchor": "middle",
          "yref": "paper"
         },
         {
          "font": {},
          "showarrow": false,
          "text": "quality=6",
          "textangle": 90,
          "x": 0.98,
          "xanchor": "left",
          "xref": "paper",
          "y": 0.7575000000000001,
          "yanchor": "middle",
          "yref": "paper"
         },
         {
          "font": {},
          "showarrow": false,
          "text": "quality=5",
          "textangle": 90,
          "x": 0.98,
          "xanchor": "left",
          "xref": "paper",
          "y": 0.9291666666666667,
          "yanchor": "middle",
          "yref": "paper"
         }
        ],
        "barmode": "relative",
        "legend": {
         "title": {
          "text": "quality"
         },
         "tracegroupgap": 0
        },
        "margin": {
         "t": 60
        },
        "template": {
         "data": {
          "bar": [
           {
            "error_x": {
             "color": "#2a3f5f"
            },
            "error_y": {
             "color": "#2a3f5f"
            },
            "marker": {
             "line": {
              "color": "#E5ECF6",
              "width": 0.5
             },
             "pattern": {
              "fillmode": "overlay",
              "size": 10,
              "solidity": 0.2
             }
            },
            "type": "bar"
           }
          ],
          "barpolar": [
           {
            "marker": {
             "line": {
              "color": "#E5ECF6",
              "width": 0.5
             },
             "pattern": {
              "fillmode": "overlay",
              "size": 10,
              "solidity": 0.2
             }
            },
            "type": "barpolar"
           }
          ],
          "carpet": [
           {
            "aaxis": {
             "endlinecolor": "#2a3f5f",
             "gridcolor": "white",
             "linecolor": "white",
             "minorgridcolor": "white",
             "startlinecolor": "#2a3f5f"
            },
            "baxis": {
             "endlinecolor": "#2a3f5f",
             "gridcolor": "white",
             "linecolor": "white",
             "minorgridcolor": "white",
             "startlinecolor": "#2a3f5f"
            },
            "type": "carpet"
           }
          ],
          "choropleth": [
           {
            "colorbar": {
             "outlinewidth": 0,
             "ticks": ""
            },
            "type": "choropleth"
           }
          ],
          "contour": [
           {
            "colorbar": {
             "outlinewidth": 0,
             "ticks": ""
            },
            "colorscale": [
             [
              0,
              "#0d0887"
             ],
             [
              0.1111111111111111,
              "#46039f"
             ],
             [
              0.2222222222222222,
              "#7201a8"
             ],
             [
              0.3333333333333333,
              "#9c179e"
             ],
             [
              0.4444444444444444,
              "#bd3786"
             ],
             [
              0.5555555555555556,
              "#d8576b"
             ],
             [
              0.6666666666666666,
              "#ed7953"
             ],
             [
              0.7777777777777778,
              "#fb9f3a"
             ],
             [
              0.8888888888888888,
              "#fdca26"
             ],
             [
              1,
              "#f0f921"
             ]
            ],
            "type": "contour"
           }
          ],
          "contourcarpet": [
           {
            "colorbar": {
             "outlinewidth": 0,
             "ticks": ""
            },
            "type": "contourcarpet"
           }
          ],
          "heatmap": [
           {
            "colorbar": {
             "outlinewidth": 0,
             "ticks": ""
            },
            "colorscale": [
             [
              0,
              "#0d0887"
             ],
             [
              0.1111111111111111,
              "#46039f"
             ],
             [
              0.2222222222222222,
              "#7201a8"
             ],
             [
              0.3333333333333333,
              "#9c179e"
             ],
             [
              0.4444444444444444,
              "#bd3786"
             ],
             [
              0.5555555555555556,
              "#d8576b"
             ],
             [
              0.6666666666666666,
              "#ed7953"
             ],
             [
              0.7777777777777778,
              "#fb9f3a"
             ],
             [
              0.8888888888888888,
              "#fdca26"
             ],
             [
              1,
              "#f0f921"
             ]
            ],
            "type": "heatmap"
           }
          ],
          "heatmapgl": [
           {
            "colorbar": {
             "outlinewidth": 0,
             "ticks": ""
            },
            "colorscale": [
             [
              0,
              "#0d0887"
             ],
             [
              0.1111111111111111,
              "#46039f"
             ],
             [
              0.2222222222222222,
              "#7201a8"
             ],
             [
              0.3333333333333333,
              "#9c179e"
             ],
             [
              0.4444444444444444,
              "#bd3786"
             ],
             [
              0.5555555555555556,
              "#d8576b"
             ],
             [
              0.6666666666666666,
              "#ed7953"
             ],
             [
              0.7777777777777778,
              "#fb9f3a"
             ],
             [
              0.8888888888888888,
              "#fdca26"
             ],
             [
              1,
              "#f0f921"
             ]
            ],
            "type": "heatmapgl"
           }
          ],
          "histogram": [
           {
            "marker": {
             "pattern": {
              "fillmode": "overlay",
              "size": 10,
              "solidity": 0.2
             }
            },
            "type": "histogram"
           }
          ],
          "histogram2d": [
           {
            "colorbar": {
             "outlinewidth": 0,
             "ticks": ""
            },
            "colorscale": [
             [
              0,
              "#0d0887"
             ],
             [
              0.1111111111111111,
              "#46039f"
             ],
             [
              0.2222222222222222,
              "#7201a8"
             ],
             [
              0.3333333333333333,
              "#9c179e"
             ],
             [
              0.4444444444444444,
              "#bd3786"
             ],
             [
              0.5555555555555556,
              "#d8576b"
             ],
             [
              0.6666666666666666,
              "#ed7953"
             ],
             [
              0.7777777777777778,
              "#fb9f3a"
             ],
             [
              0.8888888888888888,
              "#fdca26"
             ],
             [
              1,
              "#f0f921"
             ]
            ],
            "type": "histogram2d"
           }
          ],
          "histogram2dcontour": [
           {
            "colorbar": {
             "outlinewidth": 0,
             "ticks": ""
            },
            "colorscale": [
             [
              0,
              "#0d0887"
             ],
             [
              0.1111111111111111,
              "#46039f"
             ],
             [
              0.2222222222222222,
              "#7201a8"
             ],
             [
              0.3333333333333333,
              "#9c179e"
             ],
             [
              0.4444444444444444,
              "#bd3786"
             ],
             [
              0.5555555555555556,
              "#d8576b"
             ],
             [
              0.6666666666666666,
              "#ed7953"
             ],
             [
              0.7777777777777778,
              "#fb9f3a"
             ],
             [
              0.8888888888888888,
              "#fdca26"
             ],
             [
              1,
              "#f0f921"
             ]
            ],
            "type": "histogram2dcontour"
           }
          ],
          "mesh3d": [
           {
            "colorbar": {
             "outlinewidth": 0,
             "ticks": ""
            },
            "type": "mesh3d"
           }
          ],
          "parcoords": [
           {
            "line": {
             "colorbar": {
              "outlinewidth": 0,
              "ticks": ""
             }
            },
            "type": "parcoords"
           }
          ],
          "pie": [
           {
            "automargin": true,
            "type": "pie"
           }
          ],
          "scatter": [
           {
            "fillpattern": {
             "fillmode": "overlay",
             "size": 10,
             "solidity": 0.2
            },
            "type": "scatter"
           }
          ],
          "scatter3d": [
           {
            "line": {
             "colorbar": {
              "outlinewidth": 0,
              "ticks": ""
             }
            },
            "marker": {
             "colorbar": {
              "outlinewidth": 0,
              "ticks": ""
             }
            },
            "type": "scatter3d"
           }
          ],
          "scattercarpet": [
           {
            "marker": {
             "colorbar": {
              "outlinewidth": 0,
              "ticks": ""
             }
            },
            "type": "scattercarpet"
           }
          ],
          "scattergeo": [
           {
            "marker": {
             "colorbar": {
              "outlinewidth": 0,
              "ticks": ""
             }
            },
            "type": "scattergeo"
           }
          ],
          "scattergl": [
           {
            "marker": {
             "colorbar": {
              "outlinewidth": 0,
              "ticks": ""
             }
            },
            "type": "scattergl"
           }
          ],
          "scattermapbox": [
           {
            "marker": {
             "colorbar": {
              "outlinewidth": 0,
              "ticks": ""
             }
            },
            "type": "scattermapbox"
           }
          ],
          "scatterpolar": [
           {
            "marker": {
             "colorbar": {
              "outlinewidth": 0,
              "ticks": ""
             }
            },
            "type": "scatterpolar"
           }
          ],
          "scatterpolargl": [
           {
            "marker": {
             "colorbar": {
              "outlinewidth": 0,
              "ticks": ""
             }
            },
            "type": "scatterpolargl"
           }
          ],
          "scatterternary": [
           {
            "marker": {
             "colorbar": {
              "outlinewidth": 0,
              "ticks": ""
             }
            },
            "type": "scatterternary"
           }
          ],
          "surface": [
           {
            "colorbar": {
             "outlinewidth": 0,
             "ticks": ""
            },
            "colorscale": [
             [
              0,
              "#0d0887"
             ],
             [
              0.1111111111111111,
              "#46039f"
             ],
             [
              0.2222222222222222,
              "#7201a8"
             ],
             [
              0.3333333333333333,
              "#9c179e"
             ],
             [
              0.4444444444444444,
              "#bd3786"
             ],
             [
              0.5555555555555556,
              "#d8576b"
             ],
             [
              0.6666666666666666,
              "#ed7953"
             ],
             [
              0.7777777777777778,
              "#fb9f3a"
             ],
             [
              0.8888888888888888,
              "#fdca26"
             ],
             [
              1,
              "#f0f921"
             ]
            ],
            "type": "surface"
           }
          ],
          "table": [
           {
            "cells": {
             "fill": {
              "color": "#EBF0F8"
             },
             "line": {
              "color": "white"
             }
            },
            "header": {
             "fill": {
              "color": "#C8D4E3"
             },
             "line": {
              "color": "white"
             }
            },
            "type": "table"
           }
          ]
         },
         "layout": {
          "annotationdefaults": {
           "arrowcolor": "#2a3f5f",
           "arrowhead": 0,
           "arrowwidth": 1
          },
          "autotypenumbers": "strict",
          "coloraxis": {
           "colorbar": {
            "outlinewidth": 0,
            "ticks": ""
           }
          },
          "colorscale": {
           "diverging": [
            [
             0,
             "#8e0152"
            ],
            [
             0.1,
             "#c51b7d"
            ],
            [
             0.2,
             "#de77ae"
            ],
            [
             0.3,
             "#f1b6da"
            ],
            [
             0.4,
             "#fde0ef"
            ],
            [
             0.5,
             "#f7f7f7"
            ],
            [
             0.6,
             "#e6f5d0"
            ],
            [
             0.7,
             "#b8e186"
            ],
            [
             0.8,
             "#7fbc41"
            ],
            [
             0.9,
             "#4d9221"
            ],
            [
             1,
             "#276419"
            ]
           ],
           "sequential": [
            [
             0,
             "#0d0887"
            ],
            [
             0.1111111111111111,
             "#46039f"
            ],
            [
             0.2222222222222222,
             "#7201a8"
            ],
            [
             0.3333333333333333,
             "#9c179e"
            ],
            [
             0.4444444444444444,
             "#bd3786"
            ],
            [
             0.5555555555555556,
             "#d8576b"
            ],
            [
             0.6666666666666666,
             "#ed7953"
            ],
            [
             0.7777777777777778,
             "#fb9f3a"
            ],
            [
             0.8888888888888888,
             "#fdca26"
            ],
            [
             1,
             "#f0f921"
            ]
           ],
           "sequentialminus": [
            [
             0,
             "#0d0887"
            ],
            [
             0.1111111111111111,
             "#46039f"
            ],
            [
             0.2222222222222222,
             "#7201a8"
            ],
            [
             0.3333333333333333,
             "#9c179e"
            ],
            [
             0.4444444444444444,
             "#bd3786"
            ],
            [
             0.5555555555555556,
             "#d8576b"
            ],
            [
             0.6666666666666666,
             "#ed7953"
            ],
            [
             0.7777777777777778,
             "#fb9f3a"
            ],
            [
             0.8888888888888888,
             "#fdca26"
            ],
            [
             1,
             "#f0f921"
            ]
           ]
          },
          "colorway": [
           "#636efa",
           "#EF553B",
           "#00cc96",
           "#ab63fa",
           "#FFA15A",
           "#19d3f3",
           "#FF6692",
           "#B6E880",
           "#FF97FF",
           "#FECB52"
          ],
          "font": {
           "color": "#2a3f5f"
          },
          "geo": {
           "bgcolor": "white",
           "lakecolor": "white",
           "landcolor": "#E5ECF6",
           "showlakes": true,
           "showland": true,
           "subunitcolor": "white"
          },
          "hoverlabel": {
           "align": "left"
          },
          "hovermode": "closest",
          "mapbox": {
           "style": "light"
          },
          "paper_bgcolor": "white",
          "plot_bgcolor": "#E5ECF6",
          "polar": {
           "angularaxis": {
            "gridcolor": "white",
            "linecolor": "white",
            "ticks": ""
           },
           "bgcolor": "#E5ECF6",
           "radialaxis": {
            "gridcolor": "white",
            "linecolor": "white",
            "ticks": ""
           }
          },
          "scene": {
           "xaxis": {
            "backgroundcolor": "#E5ECF6",
            "gridcolor": "white",
            "gridwidth": 2,
            "linecolor": "white",
            "showbackground": true,
            "ticks": "",
            "zerolinecolor": "white"
           },
           "yaxis": {
            "backgroundcolor": "#E5ECF6",
            "gridcolor": "white",
            "gridwidth": 2,
            "linecolor": "white",
            "showbackground": true,
            "ticks": "",
            "zerolinecolor": "white"
           },
           "zaxis": {
            "backgroundcolor": "#E5ECF6",
            "gridcolor": "white",
            "gridwidth": 2,
            "linecolor": "white",
            "showbackground": true,
            "ticks": "",
            "zerolinecolor": "white"
           }
          },
          "shapedefaults": {
           "line": {
            "color": "#2a3f5f"
           }
          },
          "ternary": {
           "aaxis": {
            "gridcolor": "white",
            "linecolor": "white",
            "ticks": ""
           },
           "baxis": {
            "gridcolor": "white",
            "linecolor": "white",
            "ticks": ""
           },
           "bgcolor": "#E5ECF6",
           "caxis": {
            "gridcolor": "white",
            "linecolor": "white",
            "ticks": ""
           }
          },
          "title": {
           "x": 0.05
          },
          "xaxis": {
           "automargin": true,
           "gridcolor": "white",
           "linecolor": "white",
           "ticks": "",
           "title": {
            "standoff": 15
           },
           "zerolinecolor": "white",
           "zerolinewidth": 2
          },
          "yaxis": {
           "automargin": true,
           "gridcolor": "white",
           "linecolor": "white",
           "ticks": "",
           "title": {
            "standoff": 15
           },
           "zerolinecolor": "white",
           "zerolinewidth": 2
          }
         }
        },
        "width": 1500,
        "xaxis": {
         "anchor": "y",
         "domain": [
          0,
          0.98
         ],
         "title": {
          "text": "fixed_acidity"
         }
        },
        "xaxis2": {
         "anchor": "y2",
         "domain": [
          0,
          0.98
         ],
         "matches": "x",
         "showticklabels": false
        },
        "xaxis3": {
         "anchor": "y3",
         "domain": [
          0,
          0.98
         ],
         "matches": "x",
         "showticklabels": false
        },
        "xaxis4": {
         "anchor": "y4",
         "domain": [
          0,
          0.98
         ],
         "matches": "x",
         "showticklabels": false
        },
        "xaxis5": {
         "anchor": "y5",
         "domain": [
          0,
          0.98
         ],
         "matches": "x",
         "showticklabels": false
        },
        "xaxis6": {
         "anchor": "y6",
         "domain": [
          0,
          0.98
         ],
         "matches": "x",
         "showticklabels": false
        },
        "yaxis": {
         "anchor": "x",
         "domain": [
          0,
          0.14166666666666666
         ],
         "title": {
          "text": "probability"
         }
        },
        "yaxis2": {
         "anchor": "x2",
         "domain": [
          0.17166666666666666,
          0.31333333333333335
         ],
         "matches": "y",
         "title": {
          "text": "probability"
         }
        },
        "yaxis3": {
         "anchor": "x3",
         "domain": [
          0.3433333333333333,
          0.485
         ],
         "matches": "y",
         "title": {
          "text": "probability"
         }
        },
        "yaxis4": {
         "anchor": "x4",
         "domain": [
          0.515,
          0.6566666666666667
         ],
         "matches": "y",
         "title": {
          "text": "probability"
         }
        },
        "yaxis5": {
         "anchor": "x5",
         "domain": [
          0.6866666666666666,
          0.8283333333333334
         ],
         "matches": "y",
         "title": {
          "text": "probability"
         }
        },
        "yaxis6": {
         "anchor": "x6",
         "domain": [
          0.8583333333333333,
          1
         ],
         "matches": "y",
         "title": {
          "text": "probability"
         }
        }
       }
      }
     },
     "metadata": {},
     "output_type": "display_data"
    },
    {
     "data": {
      "application/vnd.plotly.v1+json": {
       "config": {
        "plotlyServerURL": "https://plot.ly"
       },
       "data": [
        {
         "alignmentgroup": "True",
         "bingroup": "x",
         "histnorm": "probability",
         "hovertemplate": "quality=5<br>volatile_acidity=%{x}<br>probability=%{y}<extra></extra>",
         "legendgroup": "5",
         "marker": {
          "color": "#636efa",
          "pattern": {
           "shape": ""
          }
         },
         "name": "5",
         "offsetgroup": "5",
         "orientation": "v",
         "showlegend": true,
         "type": "histogram",
         "x": [
          0.7,
          0.88,
          0.76,
          0.7,
          0.66,
          0.6,
          0.5,
          0.58,
          0.5,
          0.615,
          0.61,
          0.62,
          0.62,
          0.56,
          0.39,
          0.43,
          0.49,
          0.39,
          0.41,
          0.43,
          0.71,
          0.675,
          0.655,
          0.32,
          0.45,
          0.45,
          0.66,
          0.67,
          0.935,
          0.29,
          0.4,
          0.31,
          0.66,
          0.38,
          0.62,
          0.42,
          0.63,
          0.59,
          0.4,
          0.69,
          0.735,
          0.725,
          0.725,
          0.52,
          0.705,
          0.32,
          0.67,
          0.69,
          0.32,
          0.41,
          0.41,
          0.75,
          0.45,
          0.43,
          0.5,
          0.67,
          0.55,
          0.49,
          0.39,
          0.62,
          0.52,
          0.49,
          0.49,
          0.775,
          0.5,
          0.9,
          0.575,
          0.49,
          0.575,
          0.41,
          0.63,
          0.785,
          0.56,
          0.62,
          0.6,
          0.56,
          1.07,
          0.695,
          0.71,
          0.5,
          0.62,
          1.33,
          1.33,
          0.38,
          0.745,
          0.5,
          0.5,
          0.745,
          0.715,
          0.415,
          0.56,
          0.56,
          0.745,
          0.715,
          0.39,
          0.67,
          0.68,
          0.49,
          0.6,
          0.6,
          0.43,
          0.43,
          0.43,
          0.43,
          0.68,
          0.95,
          0.6,
          0.59,
          0.63,
          0.64,
          0.705,
          0.38,
          0.5,
          0.38,
          0.805,
          0.61,
          0.61,
          0.61,
          0.73,
          0.61,
          0.31,
          0.39,
          0.705,
          0.5,
          0.49,
          0.5,
          0.63,
          0.55,
          0.55,
          0.59,
          0.58,
          0.37,
          0.5,
          0.42,
          0.57,
          0.44,
          0.57,
          0.49,
          0.625,
          0.725,
          0.49,
          0.53,
          0.53,
          0.61,
          0.82,
          0.52,
          0.52,
          0.635,
          0.68,
          0.6,
          0.35,
          0.775,
          0.57,
          0.34,
          0.695,
          0.41,
          0.33,
          0.52,
          0.37,
          0.56,
          0.37,
          0.715,
          0.65,
          0.52,
          0.59,
          0.59,
          0.42,
          0.2,
          0.5,
          0.83,
          0.63,
          0.65,
          0.67,
          0.705,
          0.67,
          0.65,
          0.62,
          0.47,
          0.36,
          0.56,
          0.61,
          0.62,
          0.44,
          0.46,
          0.56,
          0.43,
          0.685,
          0.665,
          0.53,
          0.41,
          0.7,
          0.58,
          0.46,
          0.575,
          0.34,
          0.765,
          0.55,
          0.51,
          0.37,
          0.665,
          0.6,
          0.735,
          0.765,
          0.735,
          0.69,
          0.45,
          0.735,
          0.52,
          0.725,
          0.58,
          0.77,
          0.96,
          0.96,
          0.52,
          0.55,
          0.39,
          0.39,
          0.62,
          0.38,
          0.48,
          0.23,
          0.59,
          0.63,
          0.615,
          0.26,
          0.66,
          0.29,
          0.82,
          0.32,
          0.35,
          0.68,
          0.27,
          0.68,
          0.28,
          0.36,
          0.36,
          0.67,
          0.67,
          0.34,
          0.42,
          0.655,
          0.365,
          0.41,
          0.39,
          0.4,
          0.43,
          0.64,
          0.365,
          0.63,
          0.38,
          0.38,
          0.63,
          0.5,
          0.59,
          0.715,
          0.47,
          1.04,
          0.645,
          0.645,
          0.645,
          0.6,
          0.44,
          0.54,
          0.6,
          0.24,
          0.44,
          0.47,
          0.5,
          0.5,
          0.49,
          0.73,
          0.45,
          0.45,
          0.49,
          0.72,
          0.595,
          0.835,
          0.24,
          0.38,
          0.39,
          0.6,
          0.6,
          0.46,
          0.37,
          0.54,
          0.56,
          0.58,
          0.69,
          0.69,
          0.6,
          0.6,
          0.685,
          0.28,
          0.35,
          0.84,
          0.88,
          0.885,
          0.54,
          0.59,
          0.54,
          0.59,
          0.54,
          0.67,
          0.43,
          0.88,
          0.36,
          0.47,
          0.55,
          0.43,
          0.42,
          0.4,
          0.59,
          0.73,
          0.4,
          0.73,
          1.24,
          0.73,
          0.41,
          0.8,
          0.78,
          0.26,
          0.43,
          0.46,
          0.78,
          0.98,
          0.78,
          0.65,
          0.64,
          0.66,
          0.38,
          0.92,
          0.49,
          0.48,
          0.47,
          0.615,
          1.035,
          0.78,
          0.49,
          1.025,
          0.565,
          0.69,
          0.43,
          0.74,
          0.43,
          0.46,
          0.56,
          0.66,
          0.56,
          0.48,
          0.42,
          0.31,
          0.66,
          0.57,
          0.57,
          0.55,
          0.875,
          0.835,
          0.45,
          0.56,
          0.965,
          0.965,
          0.46,
          0.69,
          0.53,
          0.615,
          0.41,
          0.39,
          0.33,
          0.65,
          0.65,
          0.54,
          0.65,
          0.87,
          0.87,
          0.42,
          0.58,
          0.655,
          0.655,
          0.59,
          0.6,
          0.72,
          0.685,
          0.57,
          1,
          0.43,
          0.52,
          0.46,
          0.82,
          0.46,
          0.59,
          0.35,
          0.35,
          0.63,
          0.64,
          0.6,
          0.89,
          0.46,
          0.61,
          0.55,
          0.53,
          0.49,
          0.45,
          0.45,
          0.715,
          0.66,
          0.685,
          0.54,
          0.54,
          0.48,
          0.46,
          0.46,
          0.685,
          0.665,
          0.5,
          0.66,
          0.685,
          0.64,
          0.64,
          0.64,
          0.63,
          0.43,
          0.43,
          0.42,
          0.62,
          0.42,
          0.62,
          0.62,
          0.635,
          0.56,
          0.6,
          0.56,
          0.6,
          0.75,
          0.9,
          0.34,
          0.66,
          0.66,
          0.31,
          0.58,
          0.54,
          0.715,
          0.41,
          0.47,
          0.47,
          0.61,
          0.61,
          0.61,
          0.61,
          0.46,
          0.21,
          0.59,
          0.56,
          0.57,
          0.66,
          0.56,
          0.34,
          0.41,
          0.41,
          0.59,
          0.45,
          0.86,
          0.45,
          0.36,
          0.39,
          0.39,
          0.34,
          0.34,
          0.35,
          0.43,
          0.5,
          1.005,
          0.5,
          0.51,
          0.795,
          0.82,
          0.91,
          0.965,
          0.43,
          0.43,
          0.46,
          0.605,
          0.42,
          0.62,
          0.77,
          0.77,
          0.37,
          0.37,
          0.48,
          0.4,
          0.52,
          0.52,
          0.57,
          0.78,
          0.66,
          0.43,
          0.19,
          0.41,
          0.32,
          0.6,
          0.6,
          0.41,
          0.785,
          0.785,
          0.44,
          0.54,
          0.915,
          0.39,
          0.66,
          0.64,
          0.8,
          0.64,
          0.885,
          0.885,
          0.74,
          0.72,
          0.44,
          0.46,
          0.58,
          0.58,
          0.43,
          0.815,
          0.43,
          0.61,
          0.37,
          0.56,
          0.55,
          0.74,
          0.55,
          0.58,
          0.72,
          0.66,
          0.7,
          0.64,
          0.59,
          0.635,
          0.45,
          0.46,
          0.58,
          0.42,
          0.37,
          0.6,
          0.6,
          0.6,
          0.74,
          0.63,
          0.63,
          0.28,
          0.79,
          0.61,
          0.69,
          0.69,
          0.62,
          0.61,
          1.18,
          0.66,
          0.34,
          0.52,
          0.87,
          0.775,
          0.835,
          0.5,
          0.5,
          0.5,
          0.42,
          0.59,
          0.655,
          0.655,
          0.57,
          0.6,
          0.645,
          0.645,
          0.58,
          0.32,
          0.34,
          0.64,
          0.54,
          0.85,
          0.5,
          0.74,
          0.78,
          0.78,
          0.75,
          0.56,
          0.885,
          0.83,
          0.6,
          0.6,
          0.755,
          0.81,
          0.64,
          0.64,
          0.64,
          0.48,
          0.64,
          0.62,
          0.52,
          0.57,
          0.675,
          0.59,
          0.69,
          0.69,
          0.57,
          0.32,
          0.58,
          0.32,
          0.53,
          0.64,
          0.53,
          0.4,
          0.41,
          0.64,
          0.18,
          0.41,
          0.38,
          0.915,
          0.59,
          0.63,
          0.58,
          0.63,
          0.67,
          0.58,
          0.49,
          0.49,
          0.29,
          0.59,
          0.59,
          0.69,
          0.7,
          0.6,
          0.5,
          0.5,
          0.28,
          0.28,
          0.33,
          0.655,
          0.68,
          0.64,
          0.54,
          0.54,
          0.65,
          0.54,
          0.54,
          0.725,
          0.82,
          0.585,
          0.18,
          0.69,
          0.32,
          0.47,
          0.7,
          0.32,
          0.48,
          0.48,
          0.705,
          0.39,
          0.64,
          0.39,
          0.57,
          0.6,
          0.4,
          0.68,
          0.67,
          0.735,
          0.88,
          0.63,
          0.6,
          0.6,
          0.6,
          0.695,
          0.695,
          0.695,
          0.695,
          0.56,
          0.69,
          0.56,
          0.56,
          0.715,
          0.46,
          0.725,
          0.6,
          0.645
         ],
         "xaxis": "x6",
         "yaxis": "y6"
        },
        {
         "alignmentgroup": "True",
         "bingroup": "x",
         "histnorm": "probability",
         "hovertemplate": "quality=6<br>volatile_acidity=%{x}<br>probability=%{y}<extra></extra>",
         "legendgroup": "6",
         "marker": {
          "color": "#EF553B",
          "pattern": {
           "shape": ""
          }
         },
         "name": "6",
         "offsetgroup": "6",
         "orientation": "v",
         "showlegend": true,
         "type": "histogram",
         "x": [
          0.28,
          0.32,
          0.22,
          0.4,
          0.645,
          0.685,
          0.605,
          0.645,
          0.6,
          0.49,
          0.52,
          0.5,
          0.51,
          0.39,
          0.705,
          0.63,
          0.785,
          0.3,
          0.49,
          0.49,
          0.6,
          0.545,
          0.61,
          0.5,
          0.545,
          0.33,
          0.31,
          0.4,
          0.54,
          0.56,
          0.55,
          0.69,
          0.55,
          0.5,
          1.04,
          0.34,
          0.34,
          0.49,
          0.4,
          0.33,
          0.6,
          0.53,
          0.63,
          0.42,
          0.42,
          0.62,
          0.52,
          0.62,
          0.37,
          0.3,
          0.43,
          0.53,
          0.725,
          0.44,
          0.735,
          0.34,
          0.645,
          0.43,
          0.59,
          0.43,
          0.38,
          0.37,
          1,
          0.63,
          0.63,
          0.645,
          0.63,
          1,
          0.38,
          0.58,
          0.66,
          0.53,
          0.66,
          0.32,
          0.6,
          0.6,
          0.54,
          0.18,
          0.545,
          0.18,
          0.545,
          0.54,
          0.18,
          0.26,
          0.45,
          0.4,
          0.55,
          0.36,
          0.34,
          0.53,
          0.18,
          0.53,
          0.41,
          0.43,
          0.29,
          0.53,
          0.53,
          0.46,
          0.35,
          0.77,
          0.77,
          0.59,
          0.49,
          0.49,
          0.27,
          0.36,
          0.36,
          0.58,
          0.43,
          0.49,
          0.34,
          0.42,
          0.39,
          0.39,
          0.57,
          0.49,
          0.56,
          0.785,
          0.67,
          0.795,
          0.21,
          0.75,
          0.38,
          0.45,
          0.42,
          0.24,
          0.28,
          0.41,
          0.45,
          0.625,
          0.42,
          0.26,
          0.415,
          0.26,
          0.26,
          0.63,
          0.54,
          0.66,
          0.46,
          0.415,
          0.59,
          0.59,
          0.26,
          0.48,
          0.6,
          0.31,
          0.44,
          0.34,
          0.43,
          0.48,
          0.38,
          0.67,
          0.78,
          0.84,
          0.37,
          0.41,
          0.67,
          0.45,
          0.41,
          0.4,
          0.735,
          0.53,
          0.39,
          0.39,
          0.37,
          0.56,
          0.43,
          0.315,
          0.5,
          0.46,
          0.36,
          0.54,
          0.37,
          0.28,
          0.24,
          0.685,
          0.44,
          0.645,
          0.39,
          0.775,
          0.69,
          0.39,
          0.52,
          0.69,
          0.52,
          0.67,
          0.59,
          0.59,
          0.4,
          0.6,
          0.21,
          0.25,
          0.38,
          0.42,
          0.22,
          0.27,
          0.48,
          0.22,
          0.825,
          0.46,
          0.66,
          0.31,
          0.55,
          0.31,
          0.35,
          0.53,
          0.51,
          0.43,
          0.46,
          0.53,
          0.53,
          0.47,
          0.29,
          0.47,
          0.7,
          0.7,
          0.5,
          0.36,
          0.35,
          0.36,
          0.34,
          0.27,
          0.31,
          0.51,
          0.39,
          0.4,
          0.58,
          0.585,
          0.59,
          0.46,
          0.46,
          0.58,
          0.6,
          0.48,
          0.65,
          0.36,
          0.64,
          0.755,
          0.31,
          0.51,
          0.54,
          0.54,
          0.41,
          0.29,
          0.42,
          0.33,
          0.52,
          0.52,
          0.57,
          0.28,
          0.49,
          0.34,
          0.34,
          0.4,
          0.4,
          0.45,
          0.47,
          0.65,
          0.65,
          0.38,
          1.02,
          0.65,
          0.64,
          0.545,
          0.31,
          0.49,
          0.72,
          0.865,
          0.59,
          0.76,
          0.51,
          0.34,
          0.5,
          0.51,
          0.48,
          0.91,
          0.98,
          0.7,
          0.68,
          0.67,
          0.59,
          0.59,
          0.4,
          0.4,
          0.765,
          0.635,
          0.57,
          0.56,
          0.56,
          0.37,
          0.61,
          0.27,
          0.5,
          0.5,
          0.56,
          0.52,
          0.48,
          0.5,
          0.41,
          0.51,
          0.29,
          0.61,
          0.61,
          0.5,
          0.25,
          0.68,
          0.36,
          0.36,
          0.36,
          0.56,
          1.01,
          0.49,
          0.51,
          0.56,
          0.63,
          0.715,
          0.715,
          0.61,
          0.715,
          0.31,
          0.61,
          0.8,
          0.57,
          0.45,
          0.63,
          0.59,
          0.59,
          0.56,
          0.52,
          0.305,
          0.38,
          0.28,
          0.46,
          0.305,
          0.315,
          0.41,
          0.36,
          0.62,
          0.36,
          0.62,
          0.41,
          0.24,
          0.4,
          0.3,
          0.3,
          0.43,
          0.36,
          0.37,
          0.47,
          0.27,
          0.47,
          0.34,
          0.4,
          0.26,
          0.26,
          0.5,
          0.52,
          0.5,
          0.58,
          0.295,
          0.4,
          0.6,
          0.84,
          0.69,
          0.32,
          0.71,
          0.58,
          0.39,
          0.18,
          0.18,
          0.36,
          0.36,
          0.32,
          0.83,
          0.31,
          0.34,
          0.57,
          0.745,
          0.5,
          0.49,
          0.5,
          0.39,
          0.44,
          0.78,
          0.49,
          0.5,
          0.64,
          0.64,
          0.23,
          0.38,
          0.29,
          0.74,
          0.61,
          0.35,
          0.62,
          0.32,
          0.27,
          0.38,
          0.42,
          0.38,
          0.19,
          0.34,
          0.54,
          0.725,
          0.725,
          0.34,
          0.49,
          0.48,
          0.49,
          0.48,
          0.23,
          0.47,
          0.53,
          0.33,
          0.24,
          0.4,
          0.69,
          0.69,
          0.69,
          0.39,
          0.5,
          0.47,
          0.4,
          0.29,
          0.76,
          0.43,
          0.6,
          0.25,
          0.52,
          0.52,
          0.51,
          0.4,
          0.38,
          0.45,
          0.22,
          0.2,
          0.5,
          0.39,
          0.35,
          0.58,
          0.42,
          0.58,
          0.41,
          0.45,
          0.34,
          0.5,
          0.36,
          0.59,
          0.42,
          0.36,
          0.36,
          0.61,
          0.35,
          0.35,
          0.4,
          0.43,
          0.43,
          0.4,
          0.745,
          0.43,
          0.58,
          0.57,
          0.26,
          0.58,
          0.57,
          0.65,
          0.65,
          0.38,
          0.33,
          0.27,
          0.57,
          0.34,
          0.4,
          0.39,
          0.32,
          0.32,
          0.53,
          0.36,
          0.39,
          0.18,
          0.75,
          0.55,
          0.75,
          0.4,
          0.29,
          0.41,
          0.6,
          0.6,
          0.58,
          0.64,
          0.64,
          0.37,
          0.57,
          0.57,
          0.43,
          0.41,
          0.38,
          0.44,
          0.58,
          0.715,
          0.69,
          0.715,
          0.46,
          0.46,
          0.765,
          0.63,
          0.16,
          0.635,
          0.395,
          0.635,
          0.53,
          0.6,
          0.645,
          0.86,
          0.37,
          0.51,
          0.36,
          0.36,
          0.63,
          0.74,
          0.44,
          0.63,
          0.76,
          0.74,
          0.46,
          0.46,
          0.46,
          0.46,
          0.6,
          0.6,
          0.39,
          0.58,
          0.51,
          0.51,
          0.51,
          0.54,
          0.51,
          0.44,
          0.62,
          0.43,
          0.475,
          0.475,
          0.605,
          0.54,
          0.77,
          0.58,
          0.49,
          0.45,
          0.57,
          0.57,
          0.49,
          0.685,
          0.67,
          0.3,
          0.5,
          0.24,
          0.51,
          0.51,
          0.96,
          0.47,
          0.24,
          0.54,
          0.26,
          0.26,
          0.23,
          0.43,
          0.44,
          0.54,
          0.54,
          0.67,
          0.785,
          0.67,
          0.785,
          0.45,
          0.9,
          0.54,
          0.42,
          0.64,
          0.63,
          0.35,
          0.57,
          0.22,
          0.43,
          0.74,
          0.895,
          0.74,
          0.44,
          0.38,
          0.81,
          0.38,
          0.27,
          0.36,
          0.79,
          0.56,
          0.84,
          0.84,
          0.53,
          0.53,
          0.42,
          0.47,
          0.53,
          0.29,
          0.69,
          0.44,
          0.53,
          0.55,
          0.53,
          0.58,
          0.52,
          0.855,
          0.44,
          0.63,
          0.68,
          0.855,
          0.855,
          0.67,
          0.16,
          0.51,
          0.36,
          0.38,
          0.58,
          0.31,
          0.52,
          0.3,
          0.7,
          0.67,
          0.35,
          0.39,
          0.31,
          0.61,
          0.66,
          0.55,
          0.74,
          0.51,
          0.62,
          0.55,
          0.51,
          0.31
         ],
         "xaxis": "x5",
         "yaxis": "y5"
        },
        {
         "alignmentgroup": "True",
         "bingroup": "x",
         "histnorm": "probability",
         "hovertemplate": "quality=7<br>volatile_acidity=%{x}<br>probability=%{y}<extra></extra>",
         "legendgroup": "7",
         "marker": {
          "color": "#00cc96",
          "pattern": {
           "shape": ""
          }
         },
         "name": "7",
         "offsetgroup": "7",
         "orientation": "v",
         "showlegend": true,
         "type": "histogram",
         "x": [
          0.65,
          0.58,
          0.28,
          0.38,
          0.52,
          0.59,
          0.835,
          0.32,
          0.3,
          0.3,
          0.3,
          0.48,
          0.21,
          0.21,
          0.31,
          0.26,
          0.4,
          0.27,
          0.4,
          0.52,
          0.52,
          0.66,
          0.66,
          0.53,
          0.65,
          0.695,
          0.28,
          0.815,
          0.42,
          0.43,
          0.615,
          0.615,
          0.27,
          0.54,
          0.27,
          0.38,
          0.37,
          0.39,
          0.4,
          0.56,
          0.84,
          0.24,
          0.84,
          0.24,
          0.685,
          0.44,
          0.57,
          0.33,
          0.33,
          0.32,
          0.41,
          0.4,
          0.44,
          0.44,
          0.26,
          0.24,
          0.49,
          0.24,
          0.29,
          0.51,
          0.51,
          0.35,
          0.28,
          0.33,
          0.31,
          0.29,
          0.41,
          0.915,
          0.64,
          0.48,
          0.5,
          0.37,
          0.585,
          0.28,
          0.25,
          0.28,
          0.42,
          0.27,
          0.28,
          0.28,
          0.31,
          0.42,
          0.735,
          0.26,
          0.28,
          0.21,
          0.38,
          0.31,
          0.52,
          0.31,
          0.31,
          0.635,
          0.635,
          0.59,
          0.59,
          0.395,
          0.22,
          0.33,
          0.38,
          0.33,
          0.27,
          0.43,
          0.5,
          0.3,
          0.44,
          0.44,
          0.28,
          0.12,
          0.12,
          0.12,
          0.28,
          0.31,
          0.34,
          0.57,
          0.38,
          0.38,
          0.33,
          0.4,
          0.34,
          0.66,
          0.66,
          0.43,
          0.35,
          0.29,
          0.36,
          0.36,
          0.29,
          0.3,
          0.35,
          0.28,
          0.38,
          0.58,
          0.58,
          0.59,
          0.55,
          0.37,
          0.31,
          0.41,
          0.39,
          0.33,
          0.48,
          0.53,
          0.48,
          0.52,
          0.31,
          0.31,
          0.33,
          0.25,
          0.3,
          0.3,
          0.34,
          0.41,
          0.41,
          0.31,
          0.31,
          0.3,
          0.42,
          0.24,
          0.36,
          0.48,
          0.28,
          0.41,
          0.33,
          0.18,
          0.51,
          0.36,
          0.32,
          0.33,
          0.66,
          0.25,
          0.34,
          0.36,
          0.36,
          0.36,
          0.36,
          0.39,
          0.42,
          0.3,
          0.36,
          0.6,
          0.28,
          0.29,
          0.34,
          0.4,
          0.37,
          0.37,
          0.32,
          0.58,
          0.2,
          0.48,
          0.48,
          0.47,
          0.47,
          0.31,
          0.56,
          0.25,
          0.37,
          0.56,
          0.32
         ],
         "xaxis": "x4",
         "yaxis": "y4"
        },
        {
         "alignmentgroup": "True",
         "bingroup": "x",
         "histnorm": "probability",
         "hovertemplate": "quality=4<br>volatile_acidity=%{x}<br>probability=%{y}<extra></extra>",
         "legendgroup": "4",
         "marker": {
          "color": "#ab63fa",
          "pattern": {
           "shape": ""
          }
         },
         "name": "4",
         "offsetgroup": "4",
         "orientation": "v",
         "showlegend": true,
         "type": "histogram",
         "x": [
          0.59,
          1.13,
          0.61,
          0.52,
          0.675,
          0.625,
          1.02,
          0.52,
          0.68,
          0.55,
          0.885,
          1.09,
          0.635,
          0.975,
          0.87,
          0.46,
          0.59,
          0.5,
          0.915,
          0.935,
          0.845,
          0.84,
          0.38,
          0.765,
          1.115,
          0.39,
          0.685,
          0.47,
          0.35,
          0.47,
          0.67,
          0.63,
          0.58,
          0.88,
          0.955,
          0.23,
          0.33,
          0.73,
          0.67,
          1.02,
          0.78,
          0.4,
          0.755,
          0.68,
          0.83,
          0.61,
          0.53,
          0.785,
          1.04,
          0.62,
          0.58,
          0.91,
          0.48
         ],
         "xaxis": "x3",
         "yaxis": "y3"
        },
        {
         "alignmentgroup": "True",
         "bingroup": "x",
         "histnorm": "probability",
         "hovertemplate": "quality=8<br>volatile_acidity=%{x}<br>probability=%{y}<extra></extra>",
         "legendgroup": "8",
         "marker": {
          "color": "#FFA15A",
          "pattern": {
           "shape": ""
          }
         },
         "name": "8",
         "offsetgroup": "8",
         "orientation": "v",
         "showlegend": true,
         "type": "histogram",
         "x": [
          0.35,
          0.32,
          0.85,
          0.31,
          0.62,
          0.3,
          0.35,
          0.35,
          0.42,
          0.57,
          0.4,
          0.26,
          0.54,
          0.42,
          0.49,
          0.33,
          0.38,
          0.36
         ],
         "xaxis": "x2",
         "yaxis": "y2"
        },
        {
         "alignmentgroup": "True",
         "bingroup": "x",
         "histnorm": "probability",
         "hovertemplate": "quality=3<br>volatile_acidity=%{x}<br>probability=%{y}<extra></extra>",
         "legendgroup": "3",
         "marker": {
          "color": "#19d3f3",
          "pattern": {
           "shape": ""
          }
         },
         "name": "3",
         "offsetgroup": "3",
         "orientation": "v",
         "showlegend": true,
         "type": "histogram",
         "x": [
          0.58,
          0.61,
          1.185,
          0.44,
          1.02,
          1.58,
          0.815,
          0.98,
          0.875,
          0.76
         ],
         "xaxis": "x",
         "yaxis": "y"
        }
       ],
       "layout": {
        "annotations": [
         {
          "font": {},
          "showarrow": false,
          "text": "quality=3",
          "textangle": 90,
          "x": 0.98,
          "xanchor": "left",
          "xref": "paper",
          "y": 0.07083333333333333,
          "yanchor": "middle",
          "yref": "paper"
         },
         {
          "font": {},
          "showarrow": false,
          "text": "quality=8",
          "textangle": 90,
          "x": 0.98,
          "xanchor": "left",
          "xref": "paper",
          "y": 0.2425,
          "yanchor": "middle",
          "yref": "paper"
         },
         {
          "font": {},
          "showarrow": false,
          "text": "quality=4",
          "textangle": 90,
          "x": 0.98,
          "xanchor": "left",
          "xref": "paper",
          "y": 0.4141666666666667,
          "yanchor": "middle",
          "yref": "paper"
         },
         {
          "font": {},
          "showarrow": false,
          "text": "quality=7",
          "textangle": 90,
          "x": 0.98,
          "xanchor": "left",
          "xref": "paper",
          "y": 0.5858333333333334,
          "yanchor": "middle",
          "yref": "paper"
         },
         {
          "font": {},
          "showarrow": false,
          "text": "quality=6",
          "textangle": 90,
          "x": 0.98,
          "xanchor": "left",
          "xref": "paper",
          "y": 0.7575000000000001,
          "yanchor": "middle",
          "yref": "paper"
         },
         {
          "font": {},
          "showarrow": false,
          "text": "quality=5",
          "textangle": 90,
          "x": 0.98,
          "xanchor": "left",
          "xref": "paper",
          "y": 0.9291666666666667,
          "yanchor": "middle",
          "yref": "paper"
         }
        ],
        "barmode": "relative",
        "legend": {
         "title": {
          "text": "quality"
         },
         "tracegroupgap": 0
        },
        "margin": {
         "t": 60
        },
        "template": {
         "data": {
          "bar": [
           {
            "error_x": {
             "color": "#2a3f5f"
            },
            "error_y": {
             "color": "#2a3f5f"
            },
            "marker": {
             "line": {
              "color": "#E5ECF6",
              "width": 0.5
             },
             "pattern": {
              "fillmode": "overlay",
              "size": 10,
              "solidity": 0.2
             }
            },
            "type": "bar"
           }
          ],
          "barpolar": [
           {
            "marker": {
             "line": {
              "color": "#E5ECF6",
              "width": 0.5
             },
             "pattern": {
              "fillmode": "overlay",
              "size": 10,
              "solidity": 0.2
             }
            },
            "type": "barpolar"
           }
          ],
          "carpet": [
           {
            "aaxis": {
             "endlinecolor": "#2a3f5f",
             "gridcolor": "white",
             "linecolor": "white",
             "minorgridcolor": "white",
             "startlinecolor": "#2a3f5f"
            },
            "baxis": {
             "endlinecolor": "#2a3f5f",
             "gridcolor": "white",
             "linecolor": "white",
             "minorgridcolor": "white",
             "startlinecolor": "#2a3f5f"
            },
            "type": "carpet"
           }
          ],
          "choropleth": [
           {
            "colorbar": {
             "outlinewidth": 0,
             "ticks": ""
            },
            "type": "choropleth"
           }
          ],
          "contour": [
           {
            "colorbar": {
             "outlinewidth": 0,
             "ticks": ""
            },
            "colorscale": [
             [
              0,
              "#0d0887"
             ],
             [
              0.1111111111111111,
              "#46039f"
             ],
             [
              0.2222222222222222,
              "#7201a8"
             ],
             [
              0.3333333333333333,
              "#9c179e"
             ],
             [
              0.4444444444444444,
              "#bd3786"
             ],
             [
              0.5555555555555556,
              "#d8576b"
             ],
             [
              0.6666666666666666,
              "#ed7953"
             ],
             [
              0.7777777777777778,
              "#fb9f3a"
             ],
             [
              0.8888888888888888,
              "#fdca26"
             ],
             [
              1,
              "#f0f921"
             ]
            ],
            "type": "contour"
           }
          ],
          "contourcarpet": [
           {
            "colorbar": {
             "outlinewidth": 0,
             "ticks": ""
            },
            "type": "contourcarpet"
           }
          ],
          "heatmap": [
           {
            "colorbar": {
             "outlinewidth": 0,
             "ticks": ""
            },
            "colorscale": [
             [
              0,
              "#0d0887"
             ],
             [
              0.1111111111111111,
              "#46039f"
             ],
             [
              0.2222222222222222,
              "#7201a8"
             ],
             [
              0.3333333333333333,
              "#9c179e"
             ],
             [
              0.4444444444444444,
              "#bd3786"
             ],
             [
              0.5555555555555556,
              "#d8576b"
             ],
             [
              0.6666666666666666,
              "#ed7953"
             ],
             [
              0.7777777777777778,
              "#fb9f3a"
             ],
             [
              0.8888888888888888,
              "#fdca26"
             ],
             [
              1,
              "#f0f921"
             ]
            ],
            "type": "heatmap"
           }
          ],
          "heatmapgl": [
           {
            "colorbar": {
             "outlinewidth": 0,
             "ticks": ""
            },
            "colorscale": [
             [
              0,
              "#0d0887"
             ],
             [
              0.1111111111111111,
              "#46039f"
             ],
             [
              0.2222222222222222,
              "#7201a8"
             ],
             [
              0.3333333333333333,
              "#9c179e"
             ],
             [
              0.4444444444444444,
              "#bd3786"
             ],
             [
              0.5555555555555556,
              "#d8576b"
             ],
             [
              0.6666666666666666,
              "#ed7953"
             ],
             [
              0.7777777777777778,
              "#fb9f3a"
             ],
             [
              0.8888888888888888,
              "#fdca26"
             ],
             [
              1,
              "#f0f921"
             ]
            ],
            "type": "heatmapgl"
           }
          ],
          "histogram": [
           {
            "marker": {
             "pattern": {
              "fillmode": "overlay",
              "size": 10,
              "solidity": 0.2
             }
            },
            "type": "histogram"
           }
          ],
          "histogram2d": [
           {
            "colorbar": {
             "outlinewidth": 0,
             "ticks": ""
            },
            "colorscale": [
             [
              0,
              "#0d0887"
             ],
             [
              0.1111111111111111,
              "#46039f"
             ],
             [
              0.2222222222222222,
              "#7201a8"
             ],
             [
              0.3333333333333333,
              "#9c179e"
             ],
             [
              0.4444444444444444,
              "#bd3786"
             ],
             [
              0.5555555555555556,
              "#d8576b"
             ],
             [
              0.6666666666666666,
              "#ed7953"
             ],
             [
              0.7777777777777778,
              "#fb9f3a"
             ],
             [
              0.8888888888888888,
              "#fdca26"
             ],
             [
              1,
              "#f0f921"
             ]
            ],
            "type": "histogram2d"
           }
          ],
          "histogram2dcontour": [
           {
            "colorbar": {
             "outlinewidth": 0,
             "ticks": ""
            },
            "colorscale": [
             [
              0,
              "#0d0887"
             ],
             [
              0.1111111111111111,
              "#46039f"
             ],
             [
              0.2222222222222222,
              "#7201a8"
             ],
             [
              0.3333333333333333,
              "#9c179e"
             ],
             [
              0.4444444444444444,
              "#bd3786"
             ],
             [
              0.5555555555555556,
              "#d8576b"
             ],
             [
              0.6666666666666666,
              "#ed7953"
             ],
             [
              0.7777777777777778,
              "#fb9f3a"
             ],
             [
              0.8888888888888888,
              "#fdca26"
             ],
             [
              1,
              "#f0f921"
             ]
            ],
            "type": "histogram2dcontour"
           }
          ],
          "mesh3d": [
           {
            "colorbar": {
             "outlinewidth": 0,
             "ticks": ""
            },
            "type": "mesh3d"
           }
          ],
          "parcoords": [
           {
            "line": {
             "colorbar": {
              "outlinewidth": 0,
              "ticks": ""
             }
            },
            "type": "parcoords"
           }
          ],
          "pie": [
           {
            "automargin": true,
            "type": "pie"
           }
          ],
          "scatter": [
           {
            "fillpattern": {
             "fillmode": "overlay",
             "size": 10,
             "solidity": 0.2
            },
            "type": "scatter"
           }
          ],
          "scatter3d": [
           {
            "line": {
             "colorbar": {
              "outlinewidth": 0,
              "ticks": ""
             }
            },
            "marker": {
             "colorbar": {
              "outlinewidth": 0,
              "ticks": ""
             }
            },
            "type": "scatter3d"
           }
          ],
          "scattercarpet": [
           {
            "marker": {
             "colorbar": {
              "outlinewidth": 0,
              "ticks": ""
             }
            },
            "type": "scattercarpet"
           }
          ],
          "scattergeo": [
           {
            "marker": {
             "colorbar": {
              "outlinewidth": 0,
              "ticks": ""
             }
            },
            "type": "scattergeo"
           }
          ],
          "scattergl": [
           {
            "marker": {
             "colorbar": {
              "outlinewidth": 0,
              "ticks": ""
             }
            },
            "type": "scattergl"
           }
          ],
          "scattermapbox": [
           {
            "marker": {
             "colorbar": {
              "outlinewidth": 0,
              "ticks": ""
             }
            },
            "type": "scattermapbox"
           }
          ],
          "scatterpolar": [
           {
            "marker": {
             "colorbar": {
              "outlinewidth": 0,
              "ticks": ""
             }
            },
            "type": "scatterpolar"
           }
          ],
          "scatterpolargl": [
           {
            "marker": {
             "colorbar": {
              "outlinewidth": 0,
              "ticks": ""
             }
            },
            "type": "scatterpolargl"
           }
          ],
          "scatterternary": [
           {
            "marker": {
             "colorbar": {
              "outlinewidth": 0,
              "ticks": ""
             }
            },
            "type": "scatterternary"
           }
          ],
          "surface": [
           {
            "colorbar": {
             "outlinewidth": 0,
             "ticks": ""
            },
            "colorscale": [
             [
              0,
              "#0d0887"
             ],
             [
              0.1111111111111111,
              "#46039f"
             ],
             [
              0.2222222222222222,
              "#7201a8"
             ],
             [
              0.3333333333333333,
              "#9c179e"
             ],
             [
              0.4444444444444444,
              "#bd3786"
             ],
             [
              0.5555555555555556,
              "#d8576b"
             ],
             [
              0.6666666666666666,
              "#ed7953"
             ],
             [
              0.7777777777777778,
              "#fb9f3a"
             ],
             [
              0.8888888888888888,
              "#fdca26"
             ],
             [
              1,
              "#f0f921"
             ]
            ],
            "type": "surface"
           }
          ],
          "table": [
           {
            "cells": {
             "fill": {
              "color": "#EBF0F8"
             },
             "line": {
              "color": "white"
             }
            },
            "header": {
             "fill": {
              "color": "#C8D4E3"
             },
             "line": {
              "color": "white"
             }
            },
            "type": "table"
           }
          ]
         },
         "layout": {
          "annotationdefaults": {
           "arrowcolor": "#2a3f5f",
           "arrowhead": 0,
           "arrowwidth": 1
          },
          "autotypenumbers": "strict",
          "coloraxis": {
           "colorbar": {
            "outlinewidth": 0,
            "ticks": ""
           }
          },
          "colorscale": {
           "diverging": [
            [
             0,
             "#8e0152"
            ],
            [
             0.1,
             "#c51b7d"
            ],
            [
             0.2,
             "#de77ae"
            ],
            [
             0.3,
             "#f1b6da"
            ],
            [
             0.4,
             "#fde0ef"
            ],
            [
             0.5,
             "#f7f7f7"
            ],
            [
             0.6,
             "#e6f5d0"
            ],
            [
             0.7,
             "#b8e186"
            ],
            [
             0.8,
             "#7fbc41"
            ],
            [
             0.9,
             "#4d9221"
            ],
            [
             1,
             "#276419"
            ]
           ],
           "sequential": [
            [
             0,
             "#0d0887"
            ],
            [
             0.1111111111111111,
             "#46039f"
            ],
            [
             0.2222222222222222,
             "#7201a8"
            ],
            [
             0.3333333333333333,
             "#9c179e"
            ],
            [
             0.4444444444444444,
             "#bd3786"
            ],
            [
             0.5555555555555556,
             "#d8576b"
            ],
            [
             0.6666666666666666,
             "#ed7953"
            ],
            [
             0.7777777777777778,
             "#fb9f3a"
            ],
            [
             0.8888888888888888,
             "#fdca26"
            ],
            [
             1,
             "#f0f921"
            ]
           ],
           "sequentialminus": [
            [
             0,
             "#0d0887"
            ],
            [
             0.1111111111111111,
             "#46039f"
            ],
            [
             0.2222222222222222,
             "#7201a8"
            ],
            [
             0.3333333333333333,
             "#9c179e"
            ],
            [
             0.4444444444444444,
             "#bd3786"
            ],
            [
             0.5555555555555556,
             "#d8576b"
            ],
            [
             0.6666666666666666,
             "#ed7953"
            ],
            [
             0.7777777777777778,
             "#fb9f3a"
            ],
            [
             0.8888888888888888,
             "#fdca26"
            ],
            [
             1,
             "#f0f921"
            ]
           ]
          },
          "colorway": [
           "#636efa",
           "#EF553B",
           "#00cc96",
           "#ab63fa",
           "#FFA15A",
           "#19d3f3",
           "#FF6692",
           "#B6E880",
           "#FF97FF",
           "#FECB52"
          ],
          "font": {
           "color": "#2a3f5f"
          },
          "geo": {
           "bgcolor": "white",
           "lakecolor": "white",
           "landcolor": "#E5ECF6",
           "showlakes": true,
           "showland": true,
           "subunitcolor": "white"
          },
          "hoverlabel": {
           "align": "left"
          },
          "hovermode": "closest",
          "mapbox": {
           "style": "light"
          },
          "paper_bgcolor": "white",
          "plot_bgcolor": "#E5ECF6",
          "polar": {
           "angularaxis": {
            "gridcolor": "white",
            "linecolor": "white",
            "ticks": ""
           },
           "bgcolor": "#E5ECF6",
           "radialaxis": {
            "gridcolor": "white",
            "linecolor": "white",
            "ticks": ""
           }
          },
          "scene": {
           "xaxis": {
            "backgroundcolor": "#E5ECF6",
            "gridcolor": "white",
            "gridwidth": 2,
            "linecolor": "white",
            "showbackground": true,
            "ticks": "",
            "zerolinecolor": "white"
           },
           "yaxis": {
            "backgroundcolor": "#E5ECF6",
            "gridcolor": "white",
            "gridwidth": 2,
            "linecolor": "white",
            "showbackground": true,
            "ticks": "",
            "zerolinecolor": "white"
           },
           "zaxis": {
            "backgroundcolor": "#E5ECF6",
            "gridcolor": "white",
            "gridwidth": 2,
            "linecolor": "white",
            "showbackground": true,
            "ticks": "",
            "zerolinecolor": "white"
           }
          },
          "shapedefaults": {
           "line": {
            "color": "#2a3f5f"
           }
          },
          "ternary": {
           "aaxis": {
            "gridcolor": "white",
            "linecolor": "white",
            "ticks": ""
           },
           "baxis": {
            "gridcolor": "white",
            "linecolor": "white",
            "ticks": ""
           },
           "bgcolor": "#E5ECF6",
           "caxis": {
            "gridcolor": "white",
            "linecolor": "white",
            "ticks": ""
           }
          },
          "title": {
           "x": 0.05
          },
          "xaxis": {
           "automargin": true,
           "gridcolor": "white",
           "linecolor": "white",
           "ticks": "",
           "title": {
            "standoff": 15
           },
           "zerolinecolor": "white",
           "zerolinewidth": 2
          },
          "yaxis": {
           "automargin": true,
           "gridcolor": "white",
           "linecolor": "white",
           "ticks": "",
           "title": {
            "standoff": 15
           },
           "zerolinecolor": "white",
           "zerolinewidth": 2
          }
         }
        },
        "width": 1500,
        "xaxis": {
         "anchor": "y",
         "domain": [
          0,
          0.98
         ],
         "title": {
          "text": "volatile_acidity"
         }
        },
        "xaxis2": {
         "anchor": "y2",
         "domain": [
          0,
          0.98
         ],
         "matches": "x",
         "showticklabels": false
        },
        "xaxis3": {
         "anchor": "y3",
         "domain": [
          0,
          0.98
         ],
         "matches": "x",
         "showticklabels": false
        },
        "xaxis4": {
         "anchor": "y4",
         "domain": [
          0,
          0.98
         ],
         "matches": "x",
         "showticklabels": false
        },
        "xaxis5": {
         "anchor": "y5",
         "domain": [
          0,
          0.98
         ],
         "matches": "x",
         "showticklabels": false
        },
        "xaxis6": {
         "anchor": "y6",
         "domain": [
          0,
          0.98
         ],
         "matches": "x",
         "showticklabels": false
        },
        "yaxis": {
         "anchor": "x",
         "domain": [
          0,
          0.14166666666666666
         ],
         "title": {
          "text": "probability"
         }
        },
        "yaxis2": {
         "anchor": "x2",
         "domain": [
          0.17166666666666666,
          0.31333333333333335
         ],
         "matches": "y",
         "title": {
          "text": "probability"
         }
        },
        "yaxis3": {
         "anchor": "x3",
         "domain": [
          0.3433333333333333,
          0.485
         ],
         "matches": "y",
         "title": {
          "text": "probability"
         }
        },
        "yaxis4": {
         "anchor": "x4",
         "domain": [
          0.515,
          0.6566666666666667
         ],
         "matches": "y",
         "title": {
          "text": "probability"
         }
        },
        "yaxis5": {
         "anchor": "x5",
         "domain": [
          0.6866666666666666,
          0.8283333333333334
         ],
         "matches": "y",
         "title": {
          "text": "probability"
         }
        },
        "yaxis6": {
         "anchor": "x6",
         "domain": [
          0.8583333333333333,
          1
         ],
         "matches": "y",
         "title": {
          "text": "probability"
         }
        }
       }
      }
     },
     "metadata": {},
     "output_type": "display_data"
    },
    {
     "data": {
      "application/vnd.plotly.v1+json": {
       "config": {
        "plotlyServerURL": "https://plot.ly"
       },
       "data": [
        {
         "alignmentgroup": "True",
         "bingroup": "x",
         "histnorm": "probability",
         "hovertemplate": "quality=5<br>citric_acid=%{x}<br>probability=%{y}<extra></extra>",
         "legendgroup": "5",
         "marker": {
          "color": "#636efa",
          "pattern": {
           "shape": ""
          }
         },
         "name": "5",
         "offsetgroup": "5",
         "orientation": "v",
         "showlegend": true,
         "type": "histogram",
         "x": [
          0,
          0,
          0.04,
          0,
          0,
          0.06,
          0.36,
          0.08,
          0.36,
          0,
          0.29,
          0.18,
          0.19,
          0.28,
          0.31,
          0.21,
          0.11,
          0.16,
          0.24,
          0.21,
          0,
          0.07,
          0.12,
          0.25,
          0.36,
          0.36,
          0.22,
          0.02,
          0.43,
          0.52,
          0.23,
          0.37,
          0.26,
          0.36,
          0.04,
          0.57,
          0.12,
          0.18,
          0.4,
          0.49,
          0.05,
          0.05,
          0.05,
          0.11,
          0.07,
          0.57,
          0.23,
          0.22,
          0.54,
          0.64,
          0.64,
          0.12,
          0.2,
          0.7,
          0.47,
          0.26,
          0.15,
          0.26,
          0.44,
          0.08,
          0.26,
          0.29,
          0.26,
          0,
          0.25,
          0.06,
          0.22,
          0.24,
          0.22,
          0.68,
          0.31,
          0.52,
          0.19,
          0.09,
          0.1,
          0.19,
          0.09,
          0,
          0,
          0.17,
          0.04,
          0,
          0,
          0.15,
          0.56,
          0.09,
          0.09,
          0.11,
          0.15,
          0.36,
          0.19,
          0.19,
          0.11,
          0.15,
          0.08,
          0.55,
          0.02,
          0.26,
          0.03,
          0.03,
          0.42,
          0.42,
          0.42,
          0.42,
          0,
          0.03,
          0.26,
          0.26,
          0.48,
          0.1,
          0.24,
          0.21,
          0.04,
          0.21,
          0,
          0.14,
          0.14,
          0.49,
          0.02,
          0.2,
          0.57,
          0.48,
          0.1,
          0.33,
          0.32,
          0.35,
          0.12,
          0.21,
          0.21,
          0.33,
          0.3,
          0.48,
          0.11,
          0.35,
          0.31,
          0.28,
          0.26,
          0.49,
          0.16,
          0.22,
          0.19,
          0.33,
          0.26,
          0.04,
          0.14,
          0.25,
          0.25,
          0.37,
          0.07,
          0.17,
          0.48,
          0.42,
          0.23,
          0.37,
          0,
          0.76,
          0.23,
          0.03,
          0.23,
          0.49,
          0.58,
          0.2,
          0.18,
          0.12,
          0.07,
          0.07,
          0.53,
          0.48,
          0.46,
          0.37,
          0.06,
          0.02,
          0.06,
          0.12,
          0.12,
          0.6,
          0.32,
          0.3,
          0.29,
          0.23,
          0.26,
          0.05,
          0.5,
          0.39,
          0.08,
          0.32,
          0,
          0,
          0.79,
          0.52,
          0.23,
          0.66,
          0.63,
          0.61,
          0.52,
          0.02,
          0.22,
          0.28,
          0.52,
          0.61,
          0.65,
          0.02,
          0.22,
          0.02,
          0.05,
          0.35,
          0.16,
          0.34,
          0.24,
          0.12,
          0,
          0.2,
          0.2,
          0.33,
          0.35,
          0.63,
          0.63,
          0.18,
          0.6,
          0.29,
          0.4,
          0.39,
          0.21,
          0.22,
          0.68,
          0.7,
          0.4,
          0.02,
          0.65,
          0.55,
          0.24,
          0.41,
          0.24,
          0.39,
          0.59,
          0.6,
          0.39,
          0.39,
          0.32,
          0.49,
          0.49,
          0.49,
          0.49,
          0.49,
          0.49,
          0.49,
          0.24,
          0.49,
          0.24,
          0.49,
          0.49,
          0.24,
          0.74,
          0.24,
          0.24,
          0.49,
          0.24,
          0.49,
          0.49,
          0.49,
          0.49,
          0.49,
          0.49,
          0.49,
          0.49,
          0.49,
          0.49,
          0.49,
          0.49,
          0.49,
          0.24,
          0.49,
          0.49,
          0.58,
          0.17,
          0.41,
          0,
          0.54,
          0.55,
          0.38,
          0.5,
          0.5,
          0.5,
          0.41,
          0.24,
          0.23,
          0.22,
          0,
          0,
          0.29,
          0.29,
          0.23,
          0.54,
          0.21,
          0,
          0.28,
          0.27,
          0.45,
          0.44,
          0.45,
          0.44,
          0.45,
          0.05,
          0.39,
          0.25,
          0.65,
          0.47,
          0.17,
          0.39,
          0.31,
          0.52,
          0.14,
          0.43,
          0.24,
          0.21,
          0.34,
          0.21,
          0.39,
          0.11,
          0.1,
          0.45,
          0.58,
          0.31,
          0.23,
          0.32,
          0.23,
          0.18,
          0.23,
          0.04,
          0.48,
          0.24,
          0.51,
          0.32,
          0.31,
          0.28,
          0.15,
          0.08,
          0.19,
          0.43,
          0.34,
          0,
          0.36,
          0.28,
          0.36,
          0.11,
          0.04,
          0,
          0.04,
          0.24,
          0.08,
          0.3,
          0.17,
          0.02,
          0.02,
          0.66,
          0.13,
          0.03,
          0.34,
          0.2,
          0.1,
          0.1,
          0.23,
          0,
          0.24,
          0,
          0.58,
          0.54,
          0.4,
          0.1,
          0.1,
          0.13,
          0.1,
          0,
          0,
          0.21,
          0.25,
          0.26,
          0.26,
          0.18,
          0.32,
          0.01,
          0.26,
          0.27,
          0,
          0.3,
          0.03,
          0.14,
          0.05,
          0.14,
          0.01,
          0.41,
          0.41,
          0.17,
          0.17,
          0,
          0.3,
          0.31,
          0.08,
          0.09,
          0.12,
          0.1,
          0.33,
          0.33,
          0,
          0.15,
          0,
          0.13,
          0.13,
          0.28,
          0.14,
          0.14,
          0.26,
          0.1,
          0.04,
          0,
          0.35,
          0.21,
          0.21,
          0.21,
          0.21,
          0.44,
          0.44,
          0.32,
          0.06,
          0.32,
          0.06,
          0.06,
          0.07,
          0.03,
          0.04,
          0.18,
          0.04,
          0.14,
          0.34,
          0.24,
          0.03,
          0.03,
          0.36,
          0.2,
          0.27,
          0.19,
          0.37,
          0.27,
          0.27,
          0.01,
          0.01,
          0.01,
          0.01,
          0.17,
          0.52,
          0.05,
          0.14,
          0.02,
          0.2,
          0.09,
          0.44,
          0.3,
          0.3,
          0.29,
          0.49,
          0.26,
          0.49,
          0.3,
          0.12,
          0.12,
          0.28,
          0.28,
          0.45,
          0.29,
          0.36,
          0.15,
          0.14,
          0.09,
          0,
          0,
          0.1,
          0,
          0.17,
          0.17,
          0.59,
          0.05,
          0.25,
          0.35,
          0.2,
          0.2,
          0.65,
          0.65,
          0.08,
          0.47,
          0.38,
          0.38,
          0.28,
          0.1,
          0,
          0.33,
          0.21,
          0.15,
          0.23,
          0.25,
          0.25,
          0.43,
          0.24,
          0.24,
          0.5,
          0.26,
          0,
          0.43,
          0.07,
          0.23,
          0.03,
          0.23,
          0,
          0,
          0.19,
          0.55,
          0.15,
          0.23,
          0.03,
          0.25,
          0.29,
          0.01,
          0.29,
          0.2,
          0.39,
          0.22,
          0.19,
          0.07,
          0.19,
          0.14,
          0,
          0,
          0.06,
          0.02,
          0.22,
          0.68,
          0.38,
          0,
          0.2,
          0.19,
          0.5,
          0.08,
          0.3,
          0.3,
          0,
          0,
          0,
          0.44,
          0.21,
          0.26,
          0.32,
          0.32,
          0.1,
          0.26,
          0.21,
          0.34,
          0.42,
          0.11,
          0.26,
          0.22,
          0,
          0,
          0,
          0,
          0.48,
          0.01,
          0.03,
          0.03,
          0,
          0.29,
          0.03,
          0.03,
          0.03,
          0.25,
          0.25,
          0.17,
          0.31,
          0.14,
          0.09,
          0.08,
          0.51,
          0.51,
          0.27,
          0.26,
          0.2,
          0.09,
          0.22,
          0.22,
          0.15,
          0.25,
          0.07,
          0.07,
          0.31,
          0.02,
          0.22,
          0.06,
          0.25,
          0.14,
          0.1,
          0.26,
          0.21,
          0.21,
          0.25,
          0.59,
          0,
          0.59,
          0.01,
          0.21,
          0.01,
          0.18,
          0.33,
          0,
          0.4,
          0.24,
          0.38,
          0.29,
          0,
          0.02,
          0.2,
          0.02,
          0,
          0.01,
          0.33,
          0.33,
          0.4,
          0.1,
          0.1,
          0.11,
          0.08,
          0.08,
          0.5,
          0.5,
          0.6,
          0.6,
          0.44,
          0.16,
          0.21,
          0.05,
          0.04,
          0.04,
          0.06,
          0.26,
          0.26,
          0.04,
          0.29,
          0.18,
          0.4,
          0.04,
          0.25,
          0.46,
          0.08,
          0.25,
          0.25,
          0.08,
          0.1,
          0.3,
          0.09,
          0.32,
          0.02,
          0.1,
          0.5,
          0,
          0,
          0,
          0.04,
          0.33,
          0.26,
          0.26,
          0.26,
          0.13,
          0.13,
          0.13,
          0.13,
          0.13,
          0.32,
          0.09,
          0.09,
          0.1,
          0.29,
          0.2,
          0.08,
          0.12
         ],
         "xaxis": "x6",
         "yaxis": "y6"
        },
        {
         "alignmentgroup": "True",
         "bingroup": "x",
         "histnorm": "probability",
         "hovertemplate": "quality=6<br>citric_acid=%{x}<br>probability=%{y}<extra></extra>",
         "legendgroup": "6",
         "marker": {
          "color": "#EF553B",
          "pattern": {
           "shape": ""
          }
         },
         "name": "6",
         "offsetgroup": "6",
         "orientation": "v",
         "showlegend": true,
         "type": "histogram",
         "x": [
          0.56,
          0.51,
          0.48,
          0.14,
          0,
          0,
          0.12,
          0,
          0.14,
          0.2,
          0.04,
          0.04,
          0.15,
          0.31,
          0.05,
          0.08,
          0,
          0.48,
          0.28,
          0.28,
          0.17,
          0.18,
          0.3,
          0.3,
          0.18,
          0.53,
          0.44,
          0.31,
          0.28,
          0.12,
          0.04,
          0.08,
          0.04,
          0.01,
          0.05,
          0,
          0,
          0.1,
          0.44,
          0.47,
          0.18,
          0.04,
          0.07,
          0.17,
          0.17,
          0.05,
          0.42,
          0.21,
          0.25,
          0.6,
          0.36,
          0.6,
          0.24,
          0.64,
          0.08,
          0.37,
          0.25,
          0.25,
          0.5,
          0.25,
          0.06,
          0.2,
          0.09,
          0,
          0,
          0,
          0,
          0.09,
          0.56,
          0.1,
          0,
          0.06,
          0,
          0.44,
          0,
          0,
          0.04,
          0.51,
          0.06,
          0.51,
          0.06,
          0.04,
          0.51,
          0.44,
          0.55,
          0.12,
          0.23,
          0.25,
          0.52,
          0.06,
          0.48,
          0.48,
          0.42,
          0.44,
          0.38,
          0.48,
          0.24,
          0.31,
          0.29,
          0.12,
          0.12,
          0.42,
          0.2,
          0.2,
          0.62,
          0.64,
          0.64,
          0.28,
          0.45,
          0.58,
          0.5,
          0.48,
          0.47,
          0.47,
          0.5,
          0.67,
          0.31,
          0,
          0.22,
          0,
          0.4,
          0.01,
          0.66,
          0.31,
          0.5,
          0.4,
          0.48,
          0.63,
          0.5,
          0.66,
          0.38,
          0.42,
          0.68,
          0.42,
          0.42,
          0.07,
          0.26,
          0.15,
          0.26,
          0.68,
          0.59,
          0.59,
          0.3,
          0.54,
          0.49,
          0.46,
          0.47,
          0.58,
          0.34,
          0.64,
          0.51,
          0.08,
          0.22,
          0.63,
          0.69,
          0.55,
          0.3,
          0.73,
          0.55,
          0.65,
          0.1,
          0.22,
          0.69,
          0.69,
          0.53,
          0.03,
          0.52,
          0.54,
          0.42,
          0.45,
          0.69,
          0.42,
          0.55,
          0.51,
          0.49,
          0.11,
          0.68,
          0.36,
          0.4,
          0.27,
          0.31,
          0.23,
          0.25,
          0.31,
          0.25,
          0.55,
          0.31,
          0.31,
          0.48,
          0.49,
          0.49,
          0.49,
          0.49,
          0.49,
          0.24,
          0.24,
          0.24,
          0.24,
          0.24,
          0.49,
          0.24,
          0.74,
          0.24,
          0.49,
          0.49,
          0.49,
          0.01,
          0.24,
          0.24,
          0.49,
          0.49,
          0.49,
          0.49,
          0.49,
          0.24,
          0.24,
          0.49,
          0.24,
          0.49,
          0.24,
          0.49,
          0.49,
          0.49,
          0.24,
          0.49,
          0.51,
          0.58,
          0.18,
          0.45,
          0.52,
          0.52,
          0.13,
          0.13,
          0.41,
          0.37,
          0.19,
          0,
          0.18,
          0.51,
          0.25,
          0.26,
          0.26,
          0.14,
          0.35,
          0.27,
          0.59,
          0.07,
          0.07,
          0.06,
          0.46,
          0.36,
          0.45,
          0.45,
          0.41,
          0.41,
          0.23,
          0.02,
          0.02,
          0.02,
          0.55,
          0.43,
          0.02,
          0.02,
          0.12,
          0.47,
          0.18,
          0.09,
          0.03,
          0,
          0.29,
          0.18,
          0.38,
          0.18,
          0.18,
          0.68,
          0.07,
          0.01,
          0,
          0.11,
          0.1,
          0.02,
          0.02,
          0.29,
          0.3,
          0.18,
          0.17,
          0,
          0.24,
          0.24,
          0.43,
          0.02,
          0.54,
          0.34,
          0.34,
          0.08,
          0.22,
          0.31,
          0.55,
          0.54,
          0.19,
          0.42,
          0.08,
          0.08,
          0.45,
          0.46,
          0.16,
          0.39,
          0.39,
          0.39,
          0.22,
          0.66,
          0.22,
          0.23,
          0.22,
          0.03,
          0.01,
          0.01,
          0.19,
          0,
          0.29,
          0.19,
          0.12,
          0,
          0.23,
          0.03,
          0.01,
          0.01,
          0,
          0.13,
          0.39,
          0.48,
          0.46,
          0.44,
          0.39,
          0.4,
          0.31,
          0.32,
          0.12,
          0.32,
          0.12,
          0.31,
          0.33,
          0.29,
          0.38,
          0.38,
          0.4,
          0.52,
          0.52,
          0.27,
          0.39,
          0.27,
          0.4,
          0.43,
          0.48,
          0.48,
          0.3,
          0.32,
          0.3,
          0,
          0.4,
          0.1,
          0.06,
          0.34,
          0,
          0.31,
          0,
          0.16,
          0.46,
          0.37,
          0.37,
          0.66,
          0.66,
          0.42,
          0,
          0.32,
          0.21,
          0.08,
          0.18,
          0.21,
          0.19,
          0.21,
          0.33,
          0,
          0,
          0.36,
          0.36,
          0.27,
          0.27,
          0.57,
          0.44,
          0.65,
          0.09,
          0.18,
          0.26,
          0.33,
          0.56,
          0.56,
          0.3,
          0.45,
          0.3,
          0.42,
          0.42,
          0.09,
          0.09,
          0.09,
          0.42,
          0.27,
          0.09,
          0.27,
          0.34,
          0.42,
          0.43,
          0,
          0.41,
          0.39,
          0.5,
          0.07,
          0.07,
          0.07,
          0.12,
          0,
          0,
          0.37,
          0.26,
          0,
          0.35,
          0,
          0.43,
          0.45,
          0.45,
          0.24,
          0.3,
          0.32,
          0.11,
          0.3,
          0.43,
          0.12,
          0.42,
          0.47,
          0.23,
          0.35,
          0,
          0.43,
          0.43,
          0.27,
          0.29,
          0.34,
          0,
          0.46,
          0.31,
          0.31,
          0,
          0.33,
          0.33,
          0.4,
          0.3,
          0.3,
          0.57,
          0.12,
          0.22,
          0.23,
          0.21,
          0.26,
          0.23,
          0.21,
          0.02,
          0.02,
          0.42,
          0.46,
          0.46,
          0.31,
          0.37,
          0.31,
          0.4,
          0.52,
          0.52,
          0.22,
          0.47,
          0.49,
          0.34,
          0.01,
          0,
          0.01,
          0.41,
          0.25,
          0.33,
          0.01,
          0.01,
          0.28,
          0,
          0,
          0.32,
          0.05,
          0.05,
          0.5,
          0.31,
          0.01,
          0.2,
          0.13,
          0.22,
          0,
          0.22,
          0.2,
          0.2,
          0,
          0.28,
          0.44,
          0.1,
          0.13,
          0.1,
          0.14,
          0,
          0,
          0.07,
          0.32,
          0.15,
          0.21,
          0.21,
          0.27,
          0,
          0.46,
          0.27,
          0.68,
          0,
          0.24,
          0.24,
          0.24,
          0.24,
          0.26,
          0.26,
          0.1,
          0.02,
          0.02,
          0.02,
          0.02,
          0.02,
          0.02,
          0.24,
          0.01,
          0.24,
          0.4,
          0.4,
          0.02,
          0.3,
          0.32,
          0.56,
          0.26,
          0.15,
          0.02,
          0.02,
          0,
          0.1,
          0,
          0.42,
          0.39,
          0.34,
          0,
          0,
          0,
          0.4,
          0.34,
          0,
          0.37,
          0.37,
          0.37,
          0.31,
          0,
          0.37,
          0.37,
          0.02,
          0.19,
          0.02,
          0.19,
          0.63,
          0,
          0.06,
          0.09,
          0.03,
          0.01,
          0.6,
          0.1,
          0.49,
          0.02,
          0.03,
          0.04,
          0.03,
          0.39,
          0.57,
          0.05,
          0.57,
          0.6,
          0.21,
          0.04,
          0.15,
          0.21,
          0.21,
          0.06,
          0.06,
          0.19,
          0.08,
          0.07,
          0.49,
          0.08,
          0.09,
          0.13,
          0.13,
          0.08,
          0.08,
          0.08,
          0.02,
          0.42,
          0.33,
          0.01,
          0.02,
          0.02,
          0.02,
          0.64,
          0.14,
          0.53,
          0.14,
          0.2,
          0.78,
          0.4,
          0.63,
          0.15,
          0.15,
          0.33,
          0.44,
          0.41,
          0.11,
          0.33,
          0.15,
          0.09,
          0.13,
          0.08,
          0.1,
          0.13,
          0.47
         ],
         "xaxis": "x5",
         "yaxis": "y5"
        },
        {
         "alignmentgroup": "True",
         "bingroup": "x",
         "histnorm": "probability",
         "hovertemplate": "quality=7<br>citric_acid=%{x}<br>probability=%{y}<extra></extra>",
         "legendgroup": "7",
         "marker": {
          "color": "#00cc96",
          "pattern": {
           "shape": ""
          }
         },
         "name": "7",
         "offsetgroup": "7",
         "orientation": "v",
         "showlegend": true,
         "type": "histogram",
         "x": [
          0,
          0.02,
          0.56,
          0.28,
          0.16,
          0.16,
          0.08,
          0.47,
          0.74,
          0.74,
          0.58,
          0.04,
          0.44,
          0.44,
          0.47,
          0.52,
          0.32,
          0.68,
          0.32,
          0.09,
          0.09,
          0.39,
          0.39,
          0.66,
          0.01,
          0.53,
          0.54,
          0.02,
          0.66,
          0.66,
          0.66,
          0.66,
          0.53,
          0.71,
          0.53,
          0.31,
          0.76,
          0.66,
          0.53,
          0.33,
          0.03,
          0.47,
          0.03,
          0.47,
          0.76,
          0.49,
          0.01,
          0.63,
          0.63,
          0.55,
          0.5,
          0.51,
          0.73,
          0.73,
          0.47,
          0.42,
          0.63,
          0.46,
          0.75,
          0.64,
          0.64,
          0.49,
          0.49,
          0.49,
          0.49,
          0.49,
          0.48,
          0.12,
          0.1,
          0.3,
          0.59,
          0.44,
          0,
          0.4,
          0.39,
          0.4,
          0,
          0.34,
          0.28,
          0.28,
          0.35,
          0.47,
          0.02,
          0.34,
          0.47,
          0.37,
          0.46,
          0.4,
          0.38,
          0.39,
          0.39,
          0.1,
          0.1,
          0.06,
          0.06,
          0.46,
          0.36,
          0.38,
          0.38,
          0.52,
          0.49,
          0.4,
          0.34,
          0.49,
          0.42,
          0.58,
          0.48,
          0.45,
          0.45,
          0.45,
          0.48,
          0.4,
          0.48,
          0.12,
          0.41,
          0.5,
          0.41,
          0.32,
          0.39,
          0,
          0,
          0.3,
          0.38,
          0.33,
          0.32,
          0.32,
          0.33,
          0.34,
          0.4,
          0.45,
          0.4,
          0.01,
          0.01,
          0,
          0.01,
          0.34,
          0.34,
          0.41,
          0.41,
          0.42,
          0.53,
          0.57,
          0.53,
          0.08,
          0.53,
          0.53,
          0.45,
          0.34,
          0.68,
          0.68,
          0.4,
          0.54,
          0.54,
          0.36,
          0.45,
          0.41,
          0.27,
          0.35,
          0.34,
          0.07,
          0.35,
          0.45,
          0.32,
          0.51,
          0.18,
          0.57,
          0.42,
          0.39,
          0,
          0.37,
          0.36,
          0.46,
          0.46,
          0.46,
          0.46,
          0.43,
          0,
          0.39,
          0.39,
          0.12,
          0.3,
          0.36,
          0.33,
          0.16,
          0.32,
          0.32,
          0.44,
          0.02,
          0.35,
          0.32,
          0.32,
          0.11,
          0.11,
          0.09,
          0.14,
          0.29,
          0.43,
          0.17,
          0.44
         ],
         "xaxis": "x4",
         "yaxis": "y4"
        },
        {
         "alignmentgroup": "True",
         "bingroup": "x",
         "histnorm": "probability",
         "hovertemplate": "quality=4<br>citric_acid=%{x}<br>probability=%{y}<extra></extra>",
         "legendgroup": "4",
         "marker": {
          "color": "#ab63fa",
          "pattern": {
           "shape": ""
          }
         },
         "name": "4",
         "offsetgroup": "4",
         "orientation": "v",
         "showlegend": true,
         "type": "histogram",
         "x": [
          0.08,
          0.09,
          0.3,
          0.15,
          0.26,
          0.2,
          0.04,
          1,
          0.02,
          0.03,
          0.03,
          0.06,
          0.36,
          0.04,
          0,
          0.49,
          0.49,
          0.24,
          0.27,
          0.22,
          0.01,
          0.02,
          0.48,
          0.04,
          0.1,
          0.24,
          0.07,
          0.44,
          0.24,
          0,
          0.19,
          0.5,
          0,
          0.03,
          0.05,
          0.37,
          0.32,
          0,
          0,
          0,
          0,
          0.4,
          0,
          0.09,
          0.27,
          0,
          0.09,
          0,
          0.08,
          0.03,
          0.54,
          0.06,
          0.2
         ],
         "xaxis": "x3",
         "yaxis": "y3"
        },
        {
         "alignmentgroup": "True",
         "bingroup": "x",
         "histnorm": "probability",
         "hovertemplate": "quality=8<br>citric_acid=%{x}<br>probability=%{y}<extra></extra>",
         "legendgroup": "8",
         "marker": {
          "color": "#FFA15A",
          "pattern": {
           "shape": ""
          }
         },
         "name": "8",
         "offsetgroup": "8",
         "orientation": "v",
         "showlegend": true,
         "type": "histogram",
         "x": [
          0.46,
          0.45,
          0.05,
          0.72,
          0.67,
          0.56,
          0.53,
          0.53,
          0.24,
          0.09,
          0.5,
          0.54,
          0.34,
          0.39,
          0.03,
          0.33,
          0.31,
          0.3
         ],
         "xaxis": "x2",
         "yaxis": "y2"
        },
        {
         "alignmentgroup": "True",
         "bingroup": "x",
         "histnorm": "probability",
         "hovertemplate": "quality=3<br>citric_acid=%{x}<br>probability=%{y}<extra></extra>",
         "legendgroup": "3",
         "marker": {
          "color": "#19d3f3",
          "pattern": {
           "shape": ""
          }
         },
         "name": "3",
         "offsetgroup": "3",
         "orientation": "v",
         "showlegend": true,
         "type": "histogram",
         "x": [
          0.66,
          0.49,
          0,
          0.42,
          0.02,
          0,
          0,
          0.05,
          0.05,
          0.02
         ],
         "xaxis": "x",
         "yaxis": "y"
        }
       ],
       "layout": {
        "annotations": [
         {
          "font": {},
          "showarrow": false,
          "text": "quality=3",
          "textangle": 90,
          "x": 0.98,
          "xanchor": "left",
          "xref": "paper",
          "y": 0.07083333333333333,
          "yanchor": "middle",
          "yref": "paper"
         },
         {
          "font": {},
          "showarrow": false,
          "text": "quality=8",
          "textangle": 90,
          "x": 0.98,
          "xanchor": "left",
          "xref": "paper",
          "y": 0.2425,
          "yanchor": "middle",
          "yref": "paper"
         },
         {
          "font": {},
          "showarrow": false,
          "text": "quality=4",
          "textangle": 90,
          "x": 0.98,
          "xanchor": "left",
          "xref": "paper",
          "y": 0.4141666666666667,
          "yanchor": "middle",
          "yref": "paper"
         },
         {
          "font": {},
          "showarrow": false,
          "text": "quality=7",
          "textangle": 90,
          "x": 0.98,
          "xanchor": "left",
          "xref": "paper",
          "y": 0.5858333333333334,
          "yanchor": "middle",
          "yref": "paper"
         },
         {
          "font": {},
          "showarrow": false,
          "text": "quality=6",
          "textangle": 90,
          "x": 0.98,
          "xanchor": "left",
          "xref": "paper",
          "y": 0.7575000000000001,
          "yanchor": "middle",
          "yref": "paper"
         },
         {
          "font": {},
          "showarrow": false,
          "text": "quality=5",
          "textangle": 90,
          "x": 0.98,
          "xanchor": "left",
          "xref": "paper",
          "y": 0.9291666666666667,
          "yanchor": "middle",
          "yref": "paper"
         }
        ],
        "barmode": "relative",
        "legend": {
         "title": {
          "text": "quality"
         },
         "tracegroupgap": 0
        },
        "margin": {
         "t": 60
        },
        "template": {
         "data": {
          "bar": [
           {
            "error_x": {
             "color": "#2a3f5f"
            },
            "error_y": {
             "color": "#2a3f5f"
            },
            "marker": {
             "line": {
              "color": "#E5ECF6",
              "width": 0.5
             },
             "pattern": {
              "fillmode": "overlay",
              "size": 10,
              "solidity": 0.2
             }
            },
            "type": "bar"
           }
          ],
          "barpolar": [
           {
            "marker": {
             "line": {
              "color": "#E5ECF6",
              "width": 0.5
             },
             "pattern": {
              "fillmode": "overlay",
              "size": 10,
              "solidity": 0.2
             }
            },
            "type": "barpolar"
           }
          ],
          "carpet": [
           {
            "aaxis": {
             "endlinecolor": "#2a3f5f",
             "gridcolor": "white",
             "linecolor": "white",
             "minorgridcolor": "white",
             "startlinecolor": "#2a3f5f"
            },
            "baxis": {
             "endlinecolor": "#2a3f5f",
             "gridcolor": "white",
             "linecolor": "white",
             "minorgridcolor": "white",
             "startlinecolor": "#2a3f5f"
            },
            "type": "carpet"
           }
          ],
          "choropleth": [
           {
            "colorbar": {
             "outlinewidth": 0,
             "ticks": ""
            },
            "type": "choropleth"
           }
          ],
          "contour": [
           {
            "colorbar": {
             "outlinewidth": 0,
             "ticks": ""
            },
            "colorscale": [
             [
              0,
              "#0d0887"
             ],
             [
              0.1111111111111111,
              "#46039f"
             ],
             [
              0.2222222222222222,
              "#7201a8"
             ],
             [
              0.3333333333333333,
              "#9c179e"
             ],
             [
              0.4444444444444444,
              "#bd3786"
             ],
             [
              0.5555555555555556,
              "#d8576b"
             ],
             [
              0.6666666666666666,
              "#ed7953"
             ],
             [
              0.7777777777777778,
              "#fb9f3a"
             ],
             [
              0.8888888888888888,
              "#fdca26"
             ],
             [
              1,
              "#f0f921"
             ]
            ],
            "type": "contour"
           }
          ],
          "contourcarpet": [
           {
            "colorbar": {
             "outlinewidth": 0,
             "ticks": ""
            },
            "type": "contourcarpet"
           }
          ],
          "heatmap": [
           {
            "colorbar": {
             "outlinewidth": 0,
             "ticks": ""
            },
            "colorscale": [
             [
              0,
              "#0d0887"
             ],
             [
              0.1111111111111111,
              "#46039f"
             ],
             [
              0.2222222222222222,
              "#7201a8"
             ],
             [
              0.3333333333333333,
              "#9c179e"
             ],
             [
              0.4444444444444444,
              "#bd3786"
             ],
             [
              0.5555555555555556,
              "#d8576b"
             ],
             [
              0.6666666666666666,
              "#ed7953"
             ],
             [
              0.7777777777777778,
              "#fb9f3a"
             ],
             [
              0.8888888888888888,
              "#fdca26"
             ],
             [
              1,
              "#f0f921"
             ]
            ],
            "type": "heatmap"
           }
          ],
          "heatmapgl": [
           {
            "colorbar": {
             "outlinewidth": 0,
             "ticks": ""
            },
            "colorscale": [
             [
              0,
              "#0d0887"
             ],
             [
              0.1111111111111111,
              "#46039f"
             ],
             [
              0.2222222222222222,
              "#7201a8"
             ],
             [
              0.3333333333333333,
              "#9c179e"
             ],
             [
              0.4444444444444444,
              "#bd3786"
             ],
             [
              0.5555555555555556,
              "#d8576b"
             ],
             [
              0.6666666666666666,
              "#ed7953"
             ],
             [
              0.7777777777777778,
              "#fb9f3a"
             ],
             [
              0.8888888888888888,
              "#fdca26"
             ],
             [
              1,
              "#f0f921"
             ]
            ],
            "type": "heatmapgl"
           }
          ],
          "histogram": [
           {
            "marker": {
             "pattern": {
              "fillmode": "overlay",
              "size": 10,
              "solidity": 0.2
             }
            },
            "type": "histogram"
           }
          ],
          "histogram2d": [
           {
            "colorbar": {
             "outlinewidth": 0,
             "ticks": ""
            },
            "colorscale": [
             [
              0,
              "#0d0887"
             ],
             [
              0.1111111111111111,
              "#46039f"
             ],
             [
              0.2222222222222222,
              "#7201a8"
             ],
             [
              0.3333333333333333,
              "#9c179e"
             ],
             [
              0.4444444444444444,
              "#bd3786"
             ],
             [
              0.5555555555555556,
              "#d8576b"
             ],
             [
              0.6666666666666666,
              "#ed7953"
             ],
             [
              0.7777777777777778,
              "#fb9f3a"
             ],
             [
              0.8888888888888888,
              "#fdca26"
             ],
             [
              1,
              "#f0f921"
             ]
            ],
            "type": "histogram2d"
           }
          ],
          "histogram2dcontour": [
           {
            "colorbar": {
             "outlinewidth": 0,
             "ticks": ""
            },
            "colorscale": [
             [
              0,
              "#0d0887"
             ],
             [
              0.1111111111111111,
              "#46039f"
             ],
             [
              0.2222222222222222,
              "#7201a8"
             ],
             [
              0.3333333333333333,
              "#9c179e"
             ],
             [
              0.4444444444444444,
              "#bd3786"
             ],
             [
              0.5555555555555556,
              "#d8576b"
             ],
             [
              0.6666666666666666,
              "#ed7953"
             ],
             [
              0.7777777777777778,
              "#fb9f3a"
             ],
             [
              0.8888888888888888,
              "#fdca26"
             ],
             [
              1,
              "#f0f921"
             ]
            ],
            "type": "histogram2dcontour"
           }
          ],
          "mesh3d": [
           {
            "colorbar": {
             "outlinewidth": 0,
             "ticks": ""
            },
            "type": "mesh3d"
           }
          ],
          "parcoords": [
           {
            "line": {
             "colorbar": {
              "outlinewidth": 0,
              "ticks": ""
             }
            },
            "type": "parcoords"
           }
          ],
          "pie": [
           {
            "automargin": true,
            "type": "pie"
           }
          ],
          "scatter": [
           {
            "fillpattern": {
             "fillmode": "overlay",
             "size": 10,
             "solidity": 0.2
            },
            "type": "scatter"
           }
          ],
          "scatter3d": [
           {
            "line": {
             "colorbar": {
              "outlinewidth": 0,
              "ticks": ""
             }
            },
            "marker": {
             "colorbar": {
              "outlinewidth": 0,
              "ticks": ""
             }
            },
            "type": "scatter3d"
           }
          ],
          "scattercarpet": [
           {
            "marker": {
             "colorbar": {
              "outlinewidth": 0,
              "ticks": ""
             }
            },
            "type": "scattercarpet"
           }
          ],
          "scattergeo": [
           {
            "marker": {
             "colorbar": {
              "outlinewidth": 0,
              "ticks": ""
             }
            },
            "type": "scattergeo"
           }
          ],
          "scattergl": [
           {
            "marker": {
             "colorbar": {
              "outlinewidth": 0,
              "ticks": ""
             }
            },
            "type": "scattergl"
           }
          ],
          "scattermapbox": [
           {
            "marker": {
             "colorbar": {
              "outlinewidth": 0,
              "ticks": ""
             }
            },
            "type": "scattermapbox"
           }
          ],
          "scatterpolar": [
           {
            "marker": {
             "colorbar": {
              "outlinewidth": 0,
              "ticks": ""
             }
            },
            "type": "scatterpolar"
           }
          ],
          "scatterpolargl": [
           {
            "marker": {
             "colorbar": {
              "outlinewidth": 0,
              "ticks": ""
             }
            },
            "type": "scatterpolargl"
           }
          ],
          "scatterternary": [
           {
            "marker": {
             "colorbar": {
              "outlinewidth": 0,
              "ticks": ""
             }
            },
            "type": "scatterternary"
           }
          ],
          "surface": [
           {
            "colorbar": {
             "outlinewidth": 0,
             "ticks": ""
            },
            "colorscale": [
             [
              0,
              "#0d0887"
             ],
             [
              0.1111111111111111,
              "#46039f"
             ],
             [
              0.2222222222222222,
              "#7201a8"
             ],
             [
              0.3333333333333333,
              "#9c179e"
             ],
             [
              0.4444444444444444,
              "#bd3786"
             ],
             [
              0.5555555555555556,
              "#d8576b"
             ],
             [
              0.6666666666666666,
              "#ed7953"
             ],
             [
              0.7777777777777778,
              "#fb9f3a"
             ],
             [
              0.8888888888888888,
              "#fdca26"
             ],
             [
              1,
              "#f0f921"
             ]
            ],
            "type": "surface"
           }
          ],
          "table": [
           {
            "cells": {
             "fill": {
              "color": "#EBF0F8"
             },
             "line": {
              "color": "white"
             }
            },
            "header": {
             "fill": {
              "color": "#C8D4E3"
             },
             "line": {
              "color": "white"
             }
            },
            "type": "table"
           }
          ]
         },
         "layout": {
          "annotationdefaults": {
           "arrowcolor": "#2a3f5f",
           "arrowhead": 0,
           "arrowwidth": 1
          },
          "autotypenumbers": "strict",
          "coloraxis": {
           "colorbar": {
            "outlinewidth": 0,
            "ticks": ""
           }
          },
          "colorscale": {
           "diverging": [
            [
             0,
             "#8e0152"
            ],
            [
             0.1,
             "#c51b7d"
            ],
            [
             0.2,
             "#de77ae"
            ],
            [
             0.3,
             "#f1b6da"
            ],
            [
             0.4,
             "#fde0ef"
            ],
            [
             0.5,
             "#f7f7f7"
            ],
            [
             0.6,
             "#e6f5d0"
            ],
            [
             0.7,
             "#b8e186"
            ],
            [
             0.8,
             "#7fbc41"
            ],
            [
             0.9,
             "#4d9221"
            ],
            [
             1,
             "#276419"
            ]
           ],
           "sequential": [
            [
             0,
             "#0d0887"
            ],
            [
             0.1111111111111111,
             "#46039f"
            ],
            [
             0.2222222222222222,
             "#7201a8"
            ],
            [
             0.3333333333333333,
             "#9c179e"
            ],
            [
             0.4444444444444444,
             "#bd3786"
            ],
            [
             0.5555555555555556,
             "#d8576b"
            ],
            [
             0.6666666666666666,
             "#ed7953"
            ],
            [
             0.7777777777777778,
             "#fb9f3a"
            ],
            [
             0.8888888888888888,
             "#fdca26"
            ],
            [
             1,
             "#f0f921"
            ]
           ],
           "sequentialminus": [
            [
             0,
             "#0d0887"
            ],
            [
             0.1111111111111111,
             "#46039f"
            ],
            [
             0.2222222222222222,
             "#7201a8"
            ],
            [
             0.3333333333333333,
             "#9c179e"
            ],
            [
             0.4444444444444444,
             "#bd3786"
            ],
            [
             0.5555555555555556,
             "#d8576b"
            ],
            [
             0.6666666666666666,
             "#ed7953"
            ],
            [
             0.7777777777777778,
             "#fb9f3a"
            ],
            [
             0.8888888888888888,
             "#fdca26"
            ],
            [
             1,
             "#f0f921"
            ]
           ]
          },
          "colorway": [
           "#636efa",
           "#EF553B",
           "#00cc96",
           "#ab63fa",
           "#FFA15A",
           "#19d3f3",
           "#FF6692",
           "#B6E880",
           "#FF97FF",
           "#FECB52"
          ],
          "font": {
           "color": "#2a3f5f"
          },
          "geo": {
           "bgcolor": "white",
           "lakecolor": "white",
           "landcolor": "#E5ECF6",
           "showlakes": true,
           "showland": true,
           "subunitcolor": "white"
          },
          "hoverlabel": {
           "align": "left"
          },
          "hovermode": "closest",
          "mapbox": {
           "style": "light"
          },
          "paper_bgcolor": "white",
          "plot_bgcolor": "#E5ECF6",
          "polar": {
           "angularaxis": {
            "gridcolor": "white",
            "linecolor": "white",
            "ticks": ""
           },
           "bgcolor": "#E5ECF6",
           "radialaxis": {
            "gridcolor": "white",
            "linecolor": "white",
            "ticks": ""
           }
          },
          "scene": {
           "xaxis": {
            "backgroundcolor": "#E5ECF6",
            "gridcolor": "white",
            "gridwidth": 2,
            "linecolor": "white",
            "showbackground": true,
            "ticks": "",
            "zerolinecolor": "white"
           },
           "yaxis": {
            "backgroundcolor": "#E5ECF6",
            "gridcolor": "white",
            "gridwidth": 2,
            "linecolor": "white",
            "showbackground": true,
            "ticks": "",
            "zerolinecolor": "white"
           },
           "zaxis": {
            "backgroundcolor": "#E5ECF6",
            "gridcolor": "white",
            "gridwidth": 2,
            "linecolor": "white",
            "showbackground": true,
            "ticks": "",
            "zerolinecolor": "white"
           }
          },
          "shapedefaults": {
           "line": {
            "color": "#2a3f5f"
           }
          },
          "ternary": {
           "aaxis": {
            "gridcolor": "white",
            "linecolor": "white",
            "ticks": ""
           },
           "baxis": {
            "gridcolor": "white",
            "linecolor": "white",
            "ticks": ""
           },
           "bgcolor": "#E5ECF6",
           "caxis": {
            "gridcolor": "white",
            "linecolor": "white",
            "ticks": ""
           }
          },
          "title": {
           "x": 0.05
          },
          "xaxis": {
           "automargin": true,
           "gridcolor": "white",
           "linecolor": "white",
           "ticks": "",
           "title": {
            "standoff": 15
           },
           "zerolinecolor": "white",
           "zerolinewidth": 2
          },
          "yaxis": {
           "automargin": true,
           "gridcolor": "white",
           "linecolor": "white",
           "ticks": "",
           "title": {
            "standoff": 15
           },
           "zerolinecolor": "white",
           "zerolinewidth": 2
          }
         }
        },
        "width": 1500,
        "xaxis": {
         "anchor": "y",
         "domain": [
          0,
          0.98
         ],
         "title": {
          "text": "citric_acid"
         }
        },
        "xaxis2": {
         "anchor": "y2",
         "domain": [
          0,
          0.98
         ],
         "matches": "x",
         "showticklabels": false
        },
        "xaxis3": {
         "anchor": "y3",
         "domain": [
          0,
          0.98
         ],
         "matches": "x",
         "showticklabels": false
        },
        "xaxis4": {
         "anchor": "y4",
         "domain": [
          0,
          0.98
         ],
         "matches": "x",
         "showticklabels": false
        },
        "xaxis5": {
         "anchor": "y5",
         "domain": [
          0,
          0.98
         ],
         "matches": "x",
         "showticklabels": false
        },
        "xaxis6": {
         "anchor": "y6",
         "domain": [
          0,
          0.98
         ],
         "matches": "x",
         "showticklabels": false
        },
        "yaxis": {
         "anchor": "x",
         "domain": [
          0,
          0.14166666666666666
         ],
         "title": {
          "text": "probability"
         }
        },
        "yaxis2": {
         "anchor": "x2",
         "domain": [
          0.17166666666666666,
          0.31333333333333335
         ],
         "matches": "y",
         "title": {
          "text": "probability"
         }
        },
        "yaxis3": {
         "anchor": "x3",
         "domain": [
          0.3433333333333333,
          0.485
         ],
         "matches": "y",
         "title": {
          "text": "probability"
         }
        },
        "yaxis4": {
         "anchor": "x4",
         "domain": [
          0.515,
          0.6566666666666667
         ],
         "matches": "y",
         "title": {
          "text": "probability"
         }
        },
        "yaxis5": {
         "anchor": "x5",
         "domain": [
          0.6866666666666666,
          0.8283333333333334
         ],
         "matches": "y",
         "title": {
          "text": "probability"
         }
        },
        "yaxis6": {
         "anchor": "x6",
         "domain": [
          0.8583333333333333,
          1
         ],
         "matches": "y",
         "title": {
          "text": "probability"
         }
        }
       }
      }
     },
     "metadata": {},
     "output_type": "display_data"
    },
    {
     "data": {
      "application/vnd.plotly.v1+json": {
       "config": {
        "plotlyServerURL": "https://plot.ly"
       },
       "data": [
        {
         "alignmentgroup": "True",
         "bingroup": "x",
         "histnorm": "probability",
         "hovertemplate": "quality=5<br>residual_sugar=%{x}<br>probability=%{y}<extra></extra>",
         "legendgroup": "5",
         "marker": {
          "color": "#636efa",
          "pattern": {
           "shape": ""
          }
         },
         "name": "5",
         "offsetgroup": "5",
         "orientation": "v",
         "showlegend": true,
         "type": "histogram",
         "x": [
          1.9,
          2.6,
          2.3,
          1.9,
          1.8,
          1.6,
          6.1,
          1.8,
          6.1,
          1.6,
          1.6,
          3.8,
          3.9,
          1.7,
          2.3,
          1.6,
          2.3,
          1.4,
          1.8,
          1.6,
          1.9,
          2.4,
          2.3,
          1.8,
          5.9,
          5.9,
          2.2,
          1.8,
          2.2,
          1.6,
          1.6,
          1.4,
          1.7,
          3,
          3.8,
          3.4,
          5.1,
          2.3,
          2.2,
          1.8,
          2,
          4.65,
          4.65,
          1.5,
          1.6,
          2,
          2.1,
          1.9,
          2.5,
          2.2,
          2.2,
          2,
          1.6,
          1.9,
          2,
          1.8,
          2.2,
          1.9,
          2.1,
          1.8,
          1.9,
          2,
          1.9,
          3,
          2,
          2.5,
          2.1,
          2.2,
          2.1,
          1.7,
          1.7,
          2,
          1.8,
          2.2,
          2.2,
          1.8,
          1.7,
          2.5,
          2.6,
          1.6,
          1.9,
          1.7,
          1.8,
          1.8,
          2,
          2.3,
          2.3,
          1.9,
          1.8,
          2,
          2.1,
          2,
          1.9,
          1.8,
          1.7,
          1.8,
          1.8,
          1.6,
          1.8,
          1.8,
          5.5,
          5.5,
          5.5,
          5.5,
          2.2,
          2,
          7.3,
          7.2,
          1.7,
          2.1,
          1.8,
          2,
          1.5,
          2,
          2.5,
          2.4,
          2.4,
          2,
          2.5,
          1.8,
          2,
          2,
          2.6,
          2,
          1.9,
          2.9,
          3.8,
          2.2,
          2.2,
          2,
          2.4,
          2.1,
          1.5,
          1.6,
          1.8,
          2.7,
          2.2,
          5.6,
          2,
          2.2,
          1.9,
          2.4,
          2,
          1.5,
          2.6,
          2.6,
          2.6,
          1.7,
          1.9,
          2.3,
          3.1,
          1.9,
          3.2,
          2.2,
          2.1,
          1.8,
          1.7,
          1.7,
          1.8,
          2.4,
          4,
          2.4,
          7,
          3,
          3.4,
          3.4,
          3.3,
          2,
          2.5,
          2.6,
          2,
          2.3,
          2.1,
          2.6,
          1.6,
          2.1,
          2.2,
          3,
          2.6,
          3.4,
          3.4,
          2.3,
          4.5,
          2,
          2.1,
          2.8,
          1.9,
          2.4,
          4.8,
          3,
          2,
          2.5,
          2,
          2.6,
          2.8,
          2.3,
          2.2,
          2.1,
          2,
          2,
          2.3,
          7.9,
          2.3,
          7.9,
          2.7,
          2.4,
          1.9,
          2.7,
          6.6,
          1.9,
          1.8,
          2,
          2,
          1.3,
          2.2,
          2.3,
          2.3,
          1.5,
          2.6,
          2.1,
          1.6,
          2.3,
          2.7,
          2.6,
          2.55,
          2.2,
          2.9,
          1.2,
          2.6,
          2.1,
          2.2,
          2,
          2.2,
          15.5,
          2.2,
          2.2,
          1.9,
          1.9,
          2.5,
          4.6,
          6.1,
          2.5,
          2,
          2.3,
          2.5,
          2.4,
          2.8,
          2.5,
          2.4,
          2.7,
          2.7,
          2.4,
          5.15,
          3.3,
          2.1,
          2.6,
          1.6,
          4.2,
          4.2,
          4.2,
          2.8,
          2.4,
          2.9,
          2.8,
          2.4,
          2.8,
          2.9,
          2.2,
          2.2,
          2.2,
          1.9,
          2.6,
          2.6,
          3.5,
          2.6,
          7.9,
          2.6,
          2.5,
          2.7,
          1.5,
          2.3,
          2.3,
          2.7,
          2.3,
          3.4,
          3.4,
          1.9,
          5.6,
          5.6,
          2.2,
          2.2,
          2.3,
          2.7,
          1.9,
          1.4,
          2.4,
          2.3,
          2.3,
          2.3,
          2.3,
          2.3,
          2.3,
          3.6,
          2.2,
          2.5,
          7.5,
          2.4,
          2.9,
          2.2,
          1.6,
          2,
          2,
          2.3,
          2.5,
          1.7,
          2,
          1.7,
          2.2,
          2.3,
          2.6,
          3.3,
          1.9,
          2.25,
          2.6,
          2.3,
          2.6,
          1.8,
          3.1,
          1.6,
          1.8,
          2.6,
          2,
          2.8,
          2.7,
          3.2,
          6,
          2,
          3,
          2.8,
          3,
          3.2,
          2.3,
          2.6,
          2.3,
          2.6,
          2,
          3.9,
          2,
          2.85,
          2.7,
          2.2,
          3,
          1.8,
          1.8,
          2.3,
          3.45,
          2.1,
          2.7,
          2,
          2.1,
          2.1,
          2.8,
          2.4,
          2.6,
          1.9,
          2.8,
          2.7,
          2.6,
          2.9,
          2.9,
          2.5,
          2.9,
          2.2,
          2.2,
          2.5,
          2.8,
          2,
          2,
          2.9,
          2.7,
          1.9,
          2.4,
          2.3,
          3,
          3.4,
          2.6,
          2.4,
          2.4,
          2.4,
          2.5,
          2.3,
          2.3,
          2.9,
          2.9,
          2.6,
          2.6,
          2.5,
          4,
          3.3,
          1.9,
          2.6,
          2.5,
          2.5,
          2.35,
          3.2,
          1.9,
          2,
          2,
          2.8,
          2.8,
          2.8,
          1.6,
          1.5,
          2.2,
          3,
          2,
          1.8,
          1.8,
          1.8,
          1.6,
          1.9,
          1.9,
          2.5,
          2.7,
          2.7,
          2.5,
          2.7,
          2.6,
          1.5,
          2.5,
          1.6,
          2.5,
          2.5,
          6.6,
          2,
          2.3,
          2.3,
          2.6,
          3,
          2.6,
          1.5,
          2.3,
          2.3,
          2.3,
          1.9,
          2,
          2,
          1.9,
          1.6,
          1.9,
          2,
          1.6,
          2.1,
          2.1,
          2.9,
          1.7,
          2.1,
          2.1,
          2.6,
          1.4,
          1.9,
          1.4,
          1.6,
          1.7,
          1.7,
          2,
          2,
          2.5,
          1.6,
          2.8,
          2.1,
          1.8,
          2.1,
          2.2,
          4.1,
          1.8,
          2.2,
          1.8,
          1.8,
          1.4,
          2.4,
          3.9,
          2.8,
          8.1,
          8.1,
          6.4,
          6.4,
          1.8,
          2.5,
          1.5,
          1.5,
          2.1,
          3.3,
          2.5,
          2.7,
          1.7,
          3.7,
          2.3,
          2.2,
          2.2,
          2.2,
          1.7,
          1.7,
          1.9,
          2,
          2.1,
          1.65,
          1.6,
          2.1,
          7.8,
          2.1,
          2.3,
          2.3,
          5.8,
          1.7,
          2.1,
          2.6,
          4.1,
          2,
          2.1,
          2.6,
          2.1,
          1.7,
          2.5,
          2.4,
          1.8,
          1.7,
          1.8,
          2.2,
          1.8,
          1.4,
          1.9,
          2.4,
          1.8,
          1.8,
          2.5,
          1.9,
          2,
          2.3,
          1.8,
          2.6,
          4.5,
          4.5,
          1.9,
          4.3,
          4.3,
          1.8,
          2.3,
          1.9,
          2.5,
          2.5,
          1.4,
          1.9,
          1.9,
          2.6,
          1.8,
          1.8,
          3.8,
          2.2,
          2,
          1.4,
          1.4,
          1.4,
          2.6,
          2.1,
          1.8,
          1.8,
          2.8,
          2,
          1.9,
          1.9,
          2.3,
          1.8,
          1.8,
          5.4,
          2.3,
          2.5,
          2.2,
          1.7,
          1.7,
          1.7,
          3.8,
          2,
          1.4,
          1.8,
          2.1,
          2.1,
          1.8,
          3.4,
          1.8,
          1.8,
          6.1,
          2.2,
          2.4,
          1.3,
          2,
          3.9,
          1.6,
          2,
          2.1,
          2.1,
          2,
          2.2,
          1.6,
          2.2,
          1.6,
          2.2,
          1.6,
          1.6,
          2.5,
          1.9,
          2.2,
          1.8,
          1.6,
          4.8,
          1.7,
          1.9,
          1.75,
          1.9,
          1.9,
          1.9,
          1.9,
          1.9,
          1.7,
          1.7,
          1.7,
          1.4,
          3.75,
          1.8,
          13.8,
          13.8,
          3,
          3,
          1.5,
          2.1,
          2.1,
          1.9,
          1.7,
          1.7,
          1.6,
          1.9,
          1.9,
          1.5,
          4.3,
          2.4,
          1.8,
          2.1,
          2.3,
          2.2,
          2.6,
          2.3,
          2,
          2.1,
          2.8,
          1.9,
          2.5,
          1.8,
          2,
          1.6,
          2,
          2.3,
          2.3,
          2.2,
          2.2,
          6.7,
          2,
          2,
          2,
          2,
          2,
          2,
          2,
          1.6,
          2.2,
          1.7,
          1.7,
          2.6,
          2.1,
          7.8,
          2,
          2
         ],
         "xaxis": "x6",
         "yaxis": "y6"
        },
        {
         "alignmentgroup": "True",
         "bingroup": "x",
         "histnorm": "probability",
         "hovertemplate": "quality=6<br>residual_sugar=%{x}<br>probability=%{y}<extra></extra>",
         "legendgroup": "6",
         "marker": {
          "color": "#EF553B",
          "pattern": {
           "shape": ""
          }
         },
         "name": "6",
         "offsetgroup": "6",
         "orientation": "v",
         "showlegend": true,
         "type": "histogram",
         "x": [
          1.9,
          1.8,
          1.8,
          2.4,
          2,
          2.5,
          10.7,
          5.5,
          2.4,
          2.6,
          2.2,
          2.1,
          2.8,
          2.4,
          1.9,
          1.9,
          2.4,
          1.8,
          1.9,
          1.9,
          2.3,
          1.9,
          2.1,
          1.9,
          1.9,
          2.5,
          2.3,
          2.2,
          1.9,
          2,
          2.2,
          1.8,
          2.2,
          1.5,
          2.2,
          1.8,
          1.8,
          2.3,
          2.8,
          2.1,
          1.9,
          1.7,
          2.1,
          2,
          2,
          1.9,
          2.3,
          1.9,
          1.9,
          2,
          1.6,
          2,
          2.8,
          2.1,
          2.4,
          2,
          2,
          2.6,
          2,
          2.6,
          1.8,
          2.8,
          2.3,
          1.9,
          1.9,
          1.9,
          1.9,
          2.3,
          2.1,
          1.8,
          2,
          1.7,
          2,
          1.6,
          1.8,
          1.8,
          3,
          4,
          4,
          4,
          4,
          3,
          4,
          3.6,
          2,
          3,
          2.7,
          2.4,
          3.2,
          2.6,
          1.5,
          2.5,
          2.4,
          2.4,
          1.7,
          2.5,
          2,
          2.8,
          2.5,
          2.9,
          2.9,
          2.8,
          11,
          11,
          2.6,
          2.9,
          2.9,
          3.2,
          1.9,
          3,
          2.4,
          2.7,
          1.8,
          1.8,
          2.6,
          3,
          2.8,
          2.6,
          2.7,
          2.6,
          1.4,
          2.4,
          2.6,
          2.6,
          3.4,
          1.6,
          1.8,
          3.8,
          3,
          6.2,
          2.5,
          2,
          2.9,
          2,
          2,
          2.4,
          2,
          1.9,
          1.9,
          2.9,
          2.6,
          2.6,
          1.7,
          2.6,
          2.7,
          1.4,
          2.5,
          3.7,
          2.5,
          2.2,
          2,
          2.1,
          1.9,
          2.4,
          2.3,
          3.2,
          2,
          3.2,
          3.2,
          2.15,
          2.1,
          2,
          2.8,
          2.8,
          1.8,
          1.7,
          2.3,
          2.1,
          2,
          2.6,
          2.1,
          2.4,
          2.6,
          1.7,
          1.8,
          2.7,
          4.1,
          1.8,
          2.6,
          2.8,
          3,
          8.3,
          1.9,
          3,
          1.9,
          2.3,
          2.2,
          2.2,
          2.1,
          4.3,
          2.8,
          2.7,
          2.5,
          2.6,
          2.1,
          2.1,
          2.7,
          2.1,
          2.1,
          6.3,
          2.5,
          1.8,
          2,
          2.5,
          2.6,
          1.9,
          2.1,
          2.8,
          2.7,
          4.6,
          4.6,
          4.3,
          2.7,
          4.3,
          2.5,
          2.5,
          2.6,
          2.2,
          3.3,
          2.2,
          3.2,
          3.1,
          2.2,
          2.4,
          1.7,
          2,
          1.9,
          2.1,
          2.3,
          2.2,
          2.2,
          2.9,
          2.6,
          3.3,
          5.1,
          3.2,
          2.4,
          2.2,
          2.2,
          2.9,
          2.5,
          2.5,
          3,
          1.9,
          8.6,
          2.8,
          1.4,
          1.4,
          1.6,
          1.8,
          1.8,
          2,
          2,
          2.2,
          2.2,
          2.2,
          1.3,
          2.1,
          2.1,
          2.1,
          2.9,
          2.1,
          2.1,
          2.5,
          1.6,
          2.7,
          2.8,
          3.2,
          2.5,
          4.2,
          2.1,
          2.5,
          2.1,
          2.1,
          1.7,
          1.9,
          2,
          1.7,
          2.8,
          3,
          2.3,
          2.3,
          1.8,
          1.8,
          2.4,
          2.4,
          2,
          2.2,
          2.2,
          2.6,
          2.5,
          2.3,
          3.6,
          3.6,
          2.5,
          2.7,
          2.8,
          2.8,
          2.8,
          3.2,
          1.6,
          2.1,
          2.1,
          2.6,
          1.7,
          1.8,
          1.5,
          1.5,
          1.5,
          1.8,
          2,
          2.3,
          2,
          1.8,
          2,
          2.1,
          2.1,
          4,
          2.1,
          3.1,
          4,
          2.4,
          2.5,
          1.9,
          2.2,
          2.3,
          2.3,
          2.2,
          2.4,
          1.2,
          3.8,
          9,
          2.9,
          1.2,
          2.2,
          8.8,
          2.2,
          1.8,
          2.2,
          1.8,
          8.8,
          2.3,
          1.9,
          2.3,
          2.3,
          2.7,
          2.1,
          2,
          1.9,
          2,
          1.9,
          2.4,
          2.4,
          1.9,
          1.9,
          1.9,
          2.1,
          1.9,
          2,
          1.5,
          2,
          2,
          1.4,
          1.65,
          2,
          1.6,
          2,
          2.2,
          0.9,
          0.9,
          2.4,
          2.4,
          2.3,
          2.8,
          1.9,
          2.5,
          2.6,
          2.5,
          2.2,
          1.7,
          2.2,
          3.3,
          1.4,
          1.7,
          1.7,
          1.8,
          2,
          2,
          1.8,
          1.9,
          2.4,
          2,
          2.4,
          1.8,
          2.7,
          2,
          1.4,
          1.8,
          2.4,
          1.8,
          1.6,
          2,
          2,
          5.5,
          5.5,
          2.1,
          2.1,
          1.7,
          2.1,
          2.2,
          1.9,
          2.1,
          1.4,
          1.5,
          1.6,
          4.3,
          2.5,
          2.5,
          2.5,
          2.1,
          1.8,
          1.4,
          1.9,
          1.7,
          2.9,
          3.3,
          1.9,
          1.7,
          2,
          2,
          2,
          1.7,
          2.5,
          2.4,
          1.8,
          2.5,
          1.8,
          2,
          2,
          2.5,
          2.1,
          2.2,
          2.8,
          1.4,
          2.8,
          2.3,
          1.6,
          2.2,
          2.1,
          1.7,
          1.7,
          2.2,
          2.4,
          2.4,
          2.5,
          2,
          2,
          4.6,
          1.8,
          1.8,
          2.3,
          1.5,
          2,
          2.3,
          1.5,
          2.1,
          2.1,
          1.9,
          1.9,
          2.1,
          2,
          1.9,
          1.9,
          1.3,
          1.8,
          1.8,
          2.2,
          2.2,
          2.5,
          2.7,
          2.2,
          1.7,
          2.2,
          2,
          13.4,
          2.2,
          2.3,
          2.3,
          4.8,
          2.7,
          2.7,
          1.8,
          2.3,
          2.3,
          2.3,
          2,
          1.6,
          1.6,
          2.1,
          2.3,
          1.9,
          2.3,
          1.9,
          1.9,
          2,
          2.7,
          2.5,
          2.1,
          2.4,
          2.1,
          2.1,
          1.4,
          2.15,
          2,
          2.1,
          3,
          2.3,
          2.4,
          2,
          1.2,
          2.2,
          2,
          1.7,
          1.2,
          1.7,
          1.7,
          1.7,
          1.7,
          2.1,
          2.1,
          1.7,
          2.4,
          1.7,
          1.7,
          1.7,
          1.7,
          1.7,
          2.3,
          2.3,
          2.5,
          1.4,
          1.4,
          1.9,
          2.2,
          2.1,
          3.1,
          2.3,
          2,
          2.6,
          2.6,
          2.3,
          1.6,
          2.2,
          2,
          2.6,
          5.1,
          2.1,
          2.1,
          1.8,
          2.4,
          5.1,
          2.1,
          1.4,
          1.4,
          1.8,
          2.1,
          1.6,
          15.4,
          15.4,
          2.2,
          5.2,
          2.2,
          5.2,
          2.2,
          1.6,
          1.8,
          2.3,
          2.3,
          2.4,
          2.6,
          2.1,
          1.8,
          1.9,
          2.3,
          2.3,
          2.3,
          2.5,
          2.3,
          2,
          2.3,
          2.1,
          2.2,
          2.2,
          1.8,
          4.1,
          4.1,
          2,
          2,
          2,
          2.2,
          1.7,
          2.2,
          2.1,
          2.2,
          2,
          2.2,
          1.9,
          1.9,
          4.4,
          1.9,
          2.2,
          1.8,
          3.7,
          2.4,
          2.4,
          1.9,
          2.1,
          1.9,
          2.2,
          2.2,
          2.4,
          13.9,
          2.2,
          1.6,
          5.1,
          1.8,
          2.4,
          2.6,
          2.4,
          1.8,
          2.5,
          1.8,
          1.7,
          2.3,
          1.9,
          2.2,
          2.3,
          3.6
         ],
         "xaxis": "x5",
         "yaxis": "y5"
        },
        {
         "alignmentgroup": "True",
         "bingroup": "x",
         "histnorm": "probability",
         "hovertemplate": "quality=7<br>residual_sugar=%{x}<br>probability=%{y}<extra></extra>",
         "legendgroup": "7",
         "marker": {
          "color": "#00cc96",
          "pattern": {
           "shape": ""
          }
         },
         "name": "7",
         "offsetgroup": "7",
         "orientation": "v",
         "showlegend": true,
         "type": "histogram",
         "x": [
          1.2,
          2,
          1.8,
          2.1,
          1.9,
          1.8,
          1.2,
          1.4,
          2.6,
          2.6,
          2.1,
          1.6,
          2.2,
          2.2,
          2.6,
          1.8,
          5.6,
          3.5,
          5.6,
          2.5,
          2.5,
          3.2,
          3.2,
          3.65,
          2.5,
          3.4,
          2.3,
          2.7,
          2.95,
          3.1,
          5.8,
          5.8,
          2.4,
          4.4,
          2.4,
          2.5,
          4.2,
          3,
          6.7,
          2.4,
          2.3,
          2.1,
          2.3,
          2.1,
          3.7,
          2.7,
          1.7,
          2.8,
          2.8,
          2.8,
          2.5,
          2.6,
          6.55,
          6.55,
          1.9,
          1.8,
          2.9,
          1.8,
          2.8,
          2.4,
          2.4,
          5.8,
          1.9,
          3.4,
          2.7,
          2.6,
          4.6,
          2.2,
          6,
          2.8,
          1.4,
          1.6,
          1.7,
          2.4,
          2,
          2.4,
          2.1,
          2.3,
          2.4,
          2.4,
          1.6,
          2.65,
          2.5,
          2.5,
          1.7,
          1.6,
          2.1,
          2.8,
          2.6,
          2.4,
          2.4,
          2.4,
          2.4,
          6,
          6,
          4.6,
          1.9,
          3.3,
          2.8,
          2.2,
          5,
          2.6,
          2.3,
          3.8,
          2,
          4.1,
          2.1,
          1.8,
          1.8,
          1.8,
          2.1,
          2.2,
          2.1,
          2.3,
          2.4,
          2.4,
          5.9,
          3.6,
          1.4,
          2.2,
          2.2,
          2.2,
          1.5,
          2.05,
          1.8,
          1.8,
          2.05,
          2,
          3.6,
          1.7,
          2.2,
          1.8,
          1.8,
          2.1,
          1.8,
          2.4,
          2.5,
          6.2,
          8.9,
          2.3,
          4,
          2.4,
          4,
          2.4,
          2.2,
          2.2,
          1.5,
          2,
          8.3,
          8.3,
          4.7,
          1.5,
          1.5,
          2.2,
          2.1,
          2,
          2,
          1.7,
          1.8,
          5.5,
          1.7,
          6.2,
          2.8,
          1.75,
          2.1,
          2.3,
          2.3,
          2.5,
          2.4,
          2.5,
          1.9,
          2.1,
          2.1,
          2.1,
          2.1,
          2,
          1.8,
          1.7,
          1.8,
          2.2,
          2,
          2.2,
          2.5,
          1.8,
          2,
          2,
          2.7,
          2,
          1.7,
          2.1,
          2.1,
          2.2,
          2.2,
          1.4,
          2.4,
          2.2,
          2.3,
          1.7,
          2.4
         ],
         "xaxis": "x4",
         "yaxis": "y4"
        },
        {
         "alignmentgroup": "True",
         "bingroup": "x",
         "histnorm": "probability",
         "hovertemplate": "quality=4<br>residual_sugar=%{x}<br>probability=%{y}<extra></extra>",
         "legendgroup": "4",
         "marker": {
          "color": "#ab63fa",
          "pattern": {
           "shape": ""
          }
         },
         "name": "4",
         "offsetgroup": "4",
         "orientation": "v",
         "showlegend": true,
         "type": "histogram",
         "x": [
          4.4,
          1.5,
          2.8,
          2.1,
          2.1,
          1.5,
          1.4,
          3.4,
          1.3,
          1.6,
          1.8,
          2.1,
          2,
          2,
          3.3,
          4.5,
          2.1,
          2.3,
          2.1,
          3.4,
          2.2,
          4.4,
          2.6,
          1.6,
          3.1,
          2.1,
          2.5,
          1.6,
          2,
          2.2,
          2.2,
          1.4,
          2.2,
          5.6,
          1.8,
          2.2,
          12.9,
          2.5,
          4.3,
          2,
          2.2,
          6.3,
          1.9,
          3.9,
          2,
          1.6,
          3.9,
          2.1,
          2.3,
          1.5,
          2.1,
          2,
          1.9
         ],
         "xaxis": "x3",
         "yaxis": "y3"
        },
        {
         "alignmentgroup": "True",
         "bingroup": "x",
         "histnorm": "probability",
         "hovertemplate": "quality=8<br>residual_sugar=%{x}<br>probability=%{y}<extra></extra>",
         "legendgroup": "8",
         "marker": {
          "color": "#FFA15A",
          "pattern": {
           "shape": ""
          }
         },
         "name": "8",
         "offsetgroup": "8",
         "orientation": "v",
         "showlegend": true,
         "type": "histogram",
         "x": [
          3.6,
          6.4,
          1.4,
          2.2,
          5.2,
          2.8,
          2.6,
          2.6,
          2,
          2.3,
          1.8,
          1.9,
          2.5,
          1.8,
          1.8,
          1.7,
          2,
          1.8
         ],
         "xaxis": "x2",
         "yaxis": "y2"
        },
        {
         "alignmentgroup": "True",
         "bingroup": "x",
         "histnorm": "probability",
         "hovertemplate": "quality=3<br>residual_sugar=%{x}<br>probability=%{y}<extra></extra>",
         "legendgroup": "3",
         "marker": {
          "color": "#19d3f3",
          "pattern": {
           "shape": ""
          }
         },
         "name": "3",
         "offsetgroup": "3",
         "orientation": "v",
         "showlegend": true,
         "type": "histogram",
         "x": [
          2.2,
          2.1,
          4.25,
          1.5,
          3.4,
          2.1,
          1.2,
          2.1,
          5.7,
          1.8
         ],
         "xaxis": "x",
         "yaxis": "y"
        }
       ],
       "layout": {
        "annotations": [
         {
          "font": {},
          "showarrow": false,
          "text": "quality=3",
          "textangle": 90,
          "x": 0.98,
          "xanchor": "left",
          "xref": "paper",
          "y": 0.07083333333333333,
          "yanchor": "middle",
          "yref": "paper"
         },
         {
          "font": {},
          "showarrow": false,
          "text": "quality=8",
          "textangle": 90,
          "x": 0.98,
          "xanchor": "left",
          "xref": "paper",
          "y": 0.2425,
          "yanchor": "middle",
          "yref": "paper"
         },
         {
          "font": {},
          "showarrow": false,
          "text": "quality=4",
          "textangle": 90,
          "x": 0.98,
          "xanchor": "left",
          "xref": "paper",
          "y": 0.4141666666666667,
          "yanchor": "middle",
          "yref": "paper"
         },
         {
          "font": {},
          "showarrow": false,
          "text": "quality=7",
          "textangle": 90,
          "x": 0.98,
          "xanchor": "left",
          "xref": "paper",
          "y": 0.5858333333333334,
          "yanchor": "middle",
          "yref": "paper"
         },
         {
          "font": {},
          "showarrow": false,
          "text": "quality=6",
          "textangle": 90,
          "x": 0.98,
          "xanchor": "left",
          "xref": "paper",
          "y": 0.7575000000000001,
          "yanchor": "middle",
          "yref": "paper"
         },
         {
          "font": {},
          "showarrow": false,
          "text": "quality=5",
          "textangle": 90,
          "x": 0.98,
          "xanchor": "left",
          "xref": "paper",
          "y": 0.9291666666666667,
          "yanchor": "middle",
          "yref": "paper"
         }
        ],
        "barmode": "relative",
        "legend": {
         "title": {
          "text": "quality"
         },
         "tracegroupgap": 0
        },
        "margin": {
         "t": 60
        },
        "template": {
         "data": {
          "bar": [
           {
            "error_x": {
             "color": "#2a3f5f"
            },
            "error_y": {
             "color": "#2a3f5f"
            },
            "marker": {
             "line": {
              "color": "#E5ECF6",
              "width": 0.5
             },
             "pattern": {
              "fillmode": "overlay",
              "size": 10,
              "solidity": 0.2
             }
            },
            "type": "bar"
           }
          ],
          "barpolar": [
           {
            "marker": {
             "line": {
              "color": "#E5ECF6",
              "width": 0.5
             },
             "pattern": {
              "fillmode": "overlay",
              "size": 10,
              "solidity": 0.2
             }
            },
            "type": "barpolar"
           }
          ],
          "carpet": [
           {
            "aaxis": {
             "endlinecolor": "#2a3f5f",
             "gridcolor": "white",
             "linecolor": "white",
             "minorgridcolor": "white",
             "startlinecolor": "#2a3f5f"
            },
            "baxis": {
             "endlinecolor": "#2a3f5f",
             "gridcolor": "white",
             "linecolor": "white",
             "minorgridcolor": "white",
             "startlinecolor": "#2a3f5f"
            },
            "type": "carpet"
           }
          ],
          "choropleth": [
           {
            "colorbar": {
             "outlinewidth": 0,
             "ticks": ""
            },
            "type": "choropleth"
           }
          ],
          "contour": [
           {
            "colorbar": {
             "outlinewidth": 0,
             "ticks": ""
            },
            "colorscale": [
             [
              0,
              "#0d0887"
             ],
             [
              0.1111111111111111,
              "#46039f"
             ],
             [
              0.2222222222222222,
              "#7201a8"
             ],
             [
              0.3333333333333333,
              "#9c179e"
             ],
             [
              0.4444444444444444,
              "#bd3786"
             ],
             [
              0.5555555555555556,
              "#d8576b"
             ],
             [
              0.6666666666666666,
              "#ed7953"
             ],
             [
              0.7777777777777778,
              "#fb9f3a"
             ],
             [
              0.8888888888888888,
              "#fdca26"
             ],
             [
              1,
              "#f0f921"
             ]
            ],
            "type": "contour"
           }
          ],
          "contourcarpet": [
           {
            "colorbar": {
             "outlinewidth": 0,
             "ticks": ""
            },
            "type": "contourcarpet"
           }
          ],
          "heatmap": [
           {
            "colorbar": {
             "outlinewidth": 0,
             "ticks": ""
            },
            "colorscale": [
             [
              0,
              "#0d0887"
             ],
             [
              0.1111111111111111,
              "#46039f"
             ],
             [
              0.2222222222222222,
              "#7201a8"
             ],
             [
              0.3333333333333333,
              "#9c179e"
             ],
             [
              0.4444444444444444,
              "#bd3786"
             ],
             [
              0.5555555555555556,
              "#d8576b"
             ],
             [
              0.6666666666666666,
              "#ed7953"
             ],
             [
              0.7777777777777778,
              "#fb9f3a"
             ],
             [
              0.8888888888888888,
              "#fdca26"
             ],
             [
              1,
              "#f0f921"
             ]
            ],
            "type": "heatmap"
           }
          ],
          "heatmapgl": [
           {
            "colorbar": {
             "outlinewidth": 0,
             "ticks": ""
            },
            "colorscale": [
             [
              0,
              "#0d0887"
             ],
             [
              0.1111111111111111,
              "#46039f"
             ],
             [
              0.2222222222222222,
              "#7201a8"
             ],
             [
              0.3333333333333333,
              "#9c179e"
             ],
             [
              0.4444444444444444,
              "#bd3786"
             ],
             [
              0.5555555555555556,
              "#d8576b"
             ],
             [
              0.6666666666666666,
              "#ed7953"
             ],
             [
              0.7777777777777778,
              "#fb9f3a"
             ],
             [
              0.8888888888888888,
              "#fdca26"
             ],
             [
              1,
              "#f0f921"
             ]
            ],
            "type": "heatmapgl"
           }
          ],
          "histogram": [
           {
            "marker": {
             "pattern": {
              "fillmode": "overlay",
              "size": 10,
              "solidity": 0.2
             }
            },
            "type": "histogram"
           }
          ],
          "histogram2d": [
           {
            "colorbar": {
             "outlinewidth": 0,
             "ticks": ""
            },
            "colorscale": [
             [
              0,
              "#0d0887"
             ],
             [
              0.1111111111111111,
              "#46039f"
             ],
             [
              0.2222222222222222,
              "#7201a8"
             ],
             [
              0.3333333333333333,
              "#9c179e"
             ],
             [
              0.4444444444444444,
              "#bd3786"
             ],
             [
              0.5555555555555556,
              "#d8576b"
             ],
             [
              0.6666666666666666,
              "#ed7953"
             ],
             [
              0.7777777777777778,
              "#fb9f3a"
             ],
             [
              0.8888888888888888,
              "#fdca26"
             ],
             [
              1,
              "#f0f921"
             ]
            ],
            "type": "histogram2d"
           }
          ],
          "histogram2dcontour": [
           {
            "colorbar": {
             "outlinewidth": 0,
             "ticks": ""
            },
            "colorscale": [
             [
              0,
              "#0d0887"
             ],
             [
              0.1111111111111111,
              "#46039f"
             ],
             [
              0.2222222222222222,
              "#7201a8"
             ],
             [
              0.3333333333333333,
              "#9c179e"
             ],
             [
              0.4444444444444444,
              "#bd3786"
             ],
             [
              0.5555555555555556,
              "#d8576b"
             ],
             [
              0.6666666666666666,
              "#ed7953"
             ],
             [
              0.7777777777777778,
              "#fb9f3a"
             ],
             [
              0.8888888888888888,
              "#fdca26"
             ],
             [
              1,
              "#f0f921"
             ]
            ],
            "type": "histogram2dcontour"
           }
          ],
          "mesh3d": [
           {
            "colorbar": {
             "outlinewidth": 0,
             "ticks": ""
            },
            "type": "mesh3d"
           }
          ],
          "parcoords": [
           {
            "line": {
             "colorbar": {
              "outlinewidth": 0,
              "ticks": ""
             }
            },
            "type": "parcoords"
           }
          ],
          "pie": [
           {
            "automargin": true,
            "type": "pie"
           }
          ],
          "scatter": [
           {
            "fillpattern": {
             "fillmode": "overlay",
             "size": 10,
             "solidity": 0.2
            },
            "type": "scatter"
           }
          ],
          "scatter3d": [
           {
            "line": {
             "colorbar": {
              "outlinewidth": 0,
              "ticks": ""
             }
            },
            "marker": {
             "colorbar": {
              "outlinewidth": 0,
              "ticks": ""
             }
            },
            "type": "scatter3d"
           }
          ],
          "scattercarpet": [
           {
            "marker": {
             "colorbar": {
              "outlinewidth": 0,
              "ticks": ""
             }
            },
            "type": "scattercarpet"
           }
          ],
          "scattergeo": [
           {
            "marker": {
             "colorbar": {
              "outlinewidth": 0,
              "ticks": ""
             }
            },
            "type": "scattergeo"
           }
          ],
          "scattergl": [
           {
            "marker": {
             "colorbar": {
              "outlinewidth": 0,
              "ticks": ""
             }
            },
            "type": "scattergl"
           }
          ],
          "scattermapbox": [
           {
            "marker": {
             "colorbar": {
              "outlinewidth": 0,
              "ticks": ""
             }
            },
            "type": "scattermapbox"
           }
          ],
          "scatterpolar": [
           {
            "marker": {
             "colorbar": {
              "outlinewidth": 0,
              "ticks": ""
             }
            },
            "type": "scatterpolar"
           }
          ],
          "scatterpolargl": [
           {
            "marker": {
             "colorbar": {
              "outlinewidth": 0,
              "ticks": ""
             }
            },
            "type": "scatterpolargl"
           }
          ],
          "scatterternary": [
           {
            "marker": {
             "colorbar": {
              "outlinewidth": 0,
              "ticks": ""
             }
            },
            "type": "scatterternary"
           }
          ],
          "surface": [
           {
            "colorbar": {
             "outlinewidth": 0,
             "ticks": ""
            },
            "colorscale": [
             [
              0,
              "#0d0887"
             ],
             [
              0.1111111111111111,
              "#46039f"
             ],
             [
              0.2222222222222222,
              "#7201a8"
             ],
             [
              0.3333333333333333,
              "#9c179e"
             ],
             [
              0.4444444444444444,
              "#bd3786"
             ],
             [
              0.5555555555555556,
              "#d8576b"
             ],
             [
              0.6666666666666666,
              "#ed7953"
             ],
             [
              0.7777777777777778,
              "#fb9f3a"
             ],
             [
              0.8888888888888888,
              "#fdca26"
             ],
             [
              1,
              "#f0f921"
             ]
            ],
            "type": "surface"
           }
          ],
          "table": [
           {
            "cells": {
             "fill": {
              "color": "#EBF0F8"
             },
             "line": {
              "color": "white"
             }
            },
            "header": {
             "fill": {
              "color": "#C8D4E3"
             },
             "line": {
              "color": "white"
             }
            },
            "type": "table"
           }
          ]
         },
         "layout": {
          "annotationdefaults": {
           "arrowcolor": "#2a3f5f",
           "arrowhead": 0,
           "arrowwidth": 1
          },
          "autotypenumbers": "strict",
          "coloraxis": {
           "colorbar": {
            "outlinewidth": 0,
            "ticks": ""
           }
          },
          "colorscale": {
           "diverging": [
            [
             0,
             "#8e0152"
            ],
            [
             0.1,
             "#c51b7d"
            ],
            [
             0.2,
             "#de77ae"
            ],
            [
             0.3,
             "#f1b6da"
            ],
            [
             0.4,
             "#fde0ef"
            ],
            [
             0.5,
             "#f7f7f7"
            ],
            [
             0.6,
             "#e6f5d0"
            ],
            [
             0.7,
             "#b8e186"
            ],
            [
             0.8,
             "#7fbc41"
            ],
            [
             0.9,
             "#4d9221"
            ],
            [
             1,
             "#276419"
            ]
           ],
           "sequential": [
            [
             0,
             "#0d0887"
            ],
            [
             0.1111111111111111,
             "#46039f"
            ],
            [
             0.2222222222222222,
             "#7201a8"
            ],
            [
             0.3333333333333333,
             "#9c179e"
            ],
            [
             0.4444444444444444,
             "#bd3786"
            ],
            [
             0.5555555555555556,
             "#d8576b"
            ],
            [
             0.6666666666666666,
             "#ed7953"
            ],
            [
             0.7777777777777778,
             "#fb9f3a"
            ],
            [
             0.8888888888888888,
             "#fdca26"
            ],
            [
             1,
             "#f0f921"
            ]
           ],
           "sequentialminus": [
            [
             0,
             "#0d0887"
            ],
            [
             0.1111111111111111,
             "#46039f"
            ],
            [
             0.2222222222222222,
             "#7201a8"
            ],
            [
             0.3333333333333333,
             "#9c179e"
            ],
            [
             0.4444444444444444,
             "#bd3786"
            ],
            [
             0.5555555555555556,
             "#d8576b"
            ],
            [
             0.6666666666666666,
             "#ed7953"
            ],
            [
             0.7777777777777778,
             "#fb9f3a"
            ],
            [
             0.8888888888888888,
             "#fdca26"
            ],
            [
             1,
             "#f0f921"
            ]
           ]
          },
          "colorway": [
           "#636efa",
           "#EF553B",
           "#00cc96",
           "#ab63fa",
           "#FFA15A",
           "#19d3f3",
           "#FF6692",
           "#B6E880",
           "#FF97FF",
           "#FECB52"
          ],
          "font": {
           "color": "#2a3f5f"
          },
          "geo": {
           "bgcolor": "white",
           "lakecolor": "white",
           "landcolor": "#E5ECF6",
           "showlakes": true,
           "showland": true,
           "subunitcolor": "white"
          },
          "hoverlabel": {
           "align": "left"
          },
          "hovermode": "closest",
          "mapbox": {
           "style": "light"
          },
          "paper_bgcolor": "white",
          "plot_bgcolor": "#E5ECF6",
          "polar": {
           "angularaxis": {
            "gridcolor": "white",
            "linecolor": "white",
            "ticks": ""
           },
           "bgcolor": "#E5ECF6",
           "radialaxis": {
            "gridcolor": "white",
            "linecolor": "white",
            "ticks": ""
           }
          },
          "scene": {
           "xaxis": {
            "backgroundcolor": "#E5ECF6",
            "gridcolor": "white",
            "gridwidth": 2,
            "linecolor": "white",
            "showbackground": true,
            "ticks": "",
            "zerolinecolor": "white"
           },
           "yaxis": {
            "backgroundcolor": "#E5ECF6",
            "gridcolor": "white",
            "gridwidth": 2,
            "linecolor": "white",
            "showbackground": true,
            "ticks": "",
            "zerolinecolor": "white"
           },
           "zaxis": {
            "backgroundcolor": "#E5ECF6",
            "gridcolor": "white",
            "gridwidth": 2,
            "linecolor": "white",
            "showbackground": true,
            "ticks": "",
            "zerolinecolor": "white"
           }
          },
          "shapedefaults": {
           "line": {
            "color": "#2a3f5f"
           }
          },
          "ternary": {
           "aaxis": {
            "gridcolor": "white",
            "linecolor": "white",
            "ticks": ""
           },
           "baxis": {
            "gridcolor": "white",
            "linecolor": "white",
            "ticks": ""
           },
           "bgcolor": "#E5ECF6",
           "caxis": {
            "gridcolor": "white",
            "linecolor": "white",
            "ticks": ""
           }
          },
          "title": {
           "x": 0.05
          },
          "xaxis": {
           "automargin": true,
           "gridcolor": "white",
           "linecolor": "white",
           "ticks": "",
           "title": {
            "standoff": 15
           },
           "zerolinecolor": "white",
           "zerolinewidth": 2
          },
          "yaxis": {
           "automargin": true,
           "gridcolor": "white",
           "linecolor": "white",
           "ticks": "",
           "title": {
            "standoff": 15
           },
           "zerolinecolor": "white",
           "zerolinewidth": 2
          }
         }
        },
        "width": 1500,
        "xaxis": {
         "anchor": "y",
         "domain": [
          0,
          0.98
         ],
         "title": {
          "text": "residual_sugar"
         }
        },
        "xaxis2": {
         "anchor": "y2",
         "domain": [
          0,
          0.98
         ],
         "matches": "x",
         "showticklabels": false
        },
        "xaxis3": {
         "anchor": "y3",
         "domain": [
          0,
          0.98
         ],
         "matches": "x",
         "showticklabels": false
        },
        "xaxis4": {
         "anchor": "y4",
         "domain": [
          0,
          0.98
         ],
         "matches": "x",
         "showticklabels": false
        },
        "xaxis5": {
         "anchor": "y5",
         "domain": [
          0,
          0.98
         ],
         "matches": "x",
         "showticklabels": false
        },
        "xaxis6": {
         "anchor": "y6",
         "domain": [
          0,
          0.98
         ],
         "matches": "x",
         "showticklabels": false
        },
        "yaxis": {
         "anchor": "x",
         "domain": [
          0,
          0.14166666666666666
         ],
         "title": {
          "text": "probability"
         }
        },
        "yaxis2": {
         "anchor": "x2",
         "domain": [
          0.17166666666666666,
          0.31333333333333335
         ],
         "matches": "y",
         "title": {
          "text": "probability"
         }
        },
        "yaxis3": {
         "anchor": "x3",
         "domain": [
          0.3433333333333333,
          0.485
         ],
         "matches": "y",
         "title": {
          "text": "probability"
         }
        },
        "yaxis4": {
         "anchor": "x4",
         "domain": [
          0.515,
          0.6566666666666667
         ],
         "matches": "y",
         "title": {
          "text": "probability"
         }
        },
        "yaxis5": {
         "anchor": "x5",
         "domain": [
          0.6866666666666666,
          0.8283333333333334
         ],
         "matches": "y",
         "title": {
          "text": "probability"
         }
        },
        "yaxis6": {
         "anchor": "x6",
         "domain": [
          0.8583333333333333,
          1
         ],
         "matches": "y",
         "title": {
          "text": "probability"
         }
        }
       }
      }
     },
     "metadata": {},
     "output_type": "display_data"
    },
    {
     "data": {
      "application/vnd.plotly.v1+json": {
       "config": {
        "plotlyServerURL": "https://plot.ly"
       },
       "data": [
        {
         "alignmentgroup": "True",
         "bingroup": "x",
         "histnorm": "probability",
         "hovertemplate": "quality=5<br>chlorides=%{x}<br>probability=%{y}<extra></extra>",
         "legendgroup": "5",
         "marker": {
          "color": "#636efa",
          "pattern": {
           "shape": ""
          }
         },
         "name": "5",
         "offsetgroup": "5",
         "orientation": "v",
         "showlegend": true,
         "type": "histogram",
         "x": [
          0.076,
          0.098,
          0.092,
          0.076,
          0.075,
          0.069,
          0.071,
          0.0969999999999999,
          0.071,
          0.089,
          0.114,
          0.176,
          0.17,
          0.368,
          0.0819999999999999,
          0.106,
          0.084,
          0.08,
          0.08,
          0.106,
          0.08,
          0.089,
          0.083,
          0.103,
          0.074,
          0.074,
          0.069,
          0.05,
          0.114,
          0.113,
          0.066,
          0.074,
          0.074,
          0.081,
          0.084,
          0.07,
          0.111,
          0.076,
          0.079,
          0.115,
          0.081,
          0.086,
          0.086,
          0.079,
          0.076,
          0.074,
          0.088,
          0.084,
          0.094,
          0.093,
          0.093,
          0.086,
          0.069,
          0.4639999999999999,
          0.086,
          0.401,
          0.076,
          0.062,
          0.107,
          0.076,
          0.079,
          0.11,
          0.062,
          0.102,
          0.07,
          0.079,
          0.077,
          0.07,
          0.077,
          0.467,
          0.088,
          0.122,
          0.104,
          0.084,
          0.085,
          0.104,
          0.178,
          0.075,
          0.08,
          0.0819999999999999,
          0.146,
          0.081,
          0.0819999999999999,
          0.072,
          0.118,
          0.049,
          0.049,
          0.09,
          0.089,
          0.081,
          0.081,
          0.081,
          0.09,
          0.089,
          0.066,
          0.1169999999999999,
          0.087,
          0.236,
          0.095,
          0.095,
          0.07,
          0.071,
          0.07,
          0.071,
          0.073,
          0.09,
          0.07,
          0.07,
          0.1,
          0.085,
          0.36,
          0.08,
          0.085,
          0.08,
          0.068,
          0.067,
          0.067,
          0.27,
          0.076,
          0.077,
          0.111,
          0.0819999999999999,
          0.084,
          0.084,
          0.0819999999999999,
          0.077,
          0.099,
          0.071,
          0.071,
          0.074,
          0.074,
          0.0969999999999999,
          0.075,
          0.088,
          0.069,
          0.1,
          0.06,
          0.06,
          0.1009999999999999,
          0.072,
          0.076,
          0.08,
          0.1009999999999999,
          0.057,
          0.089,
          0.081,
          0.081,
          0.263,
          0.075,
          0.072,
          0.09,
          0.092,
          0.073,
          0.075,
          0.075,
          0.611,
          0.077,
          0.07,
          0.077,
          0.064,
          0.071,
          0.076,
          0.088,
          0.067,
          0.102,
          0.102,
          0.105,
          0.3429999999999999,
          0.073,
          0.086,
          0.083,
          0.094,
          0.08,
          0.092,
          0.186,
          0.1119999999999999,
          0.0819999999999999,
          0.076,
          0.087,
          0.102,
          0.09,
          0.079,
          0.107,
          0.061,
          0.105,
          0.08,
          0.067,
          0.09,
          0.12,
          0.08,
          0.099,
          0.072,
          0.071,
          0.076,
          0.159,
          0.063,
          0.106,
          0.087,
          0.0819999999999999,
          0.1119999999999999,
          0.063,
          0.122,
          0.064,
          0.122,
          0.075,
          0.08,
          0.1,
          0.087,
          0.1169999999999999,
          0.091,
          0.066,
          0.047,
          0.047,
          0.07,
          0.074,
          0.091,
          0.091,
          0.062,
          0.081,
          0.127,
          0.063,
          0.095,
          0.0969999999999999,
          0.087,
          0.085,
          0.098,
          0.098,
          0.07,
          0.093,
          0.062,
          0.087,
          0.091,
          0.087,
          0.069,
          0.152,
          0.152,
          0.054,
          0.054,
          0.09,
          0.073,
          0.122,
          0.088,
          0.088,
          0.099,
          0.085,
          0.086,
          0.105,
          0.088,
          0.077,
          0.098,
          0.098,
          0.077,
          0.1,
          0.1009999999999999,
          0.07,
          0.094,
          0.05,
          0.095,
          0.095,
          0.095,
          0.075,
          0.078,
          0.094,
          0.075,
          0.075,
          0.083,
          0.085,
          0.089,
          0.089,
          0.083,
          0.108,
          0.084,
          0.084,
          0.094,
          0.096,
          0.086,
          0.081,
          0.083,
          0.081,
          0.0579999999999999,
          0.079,
          0.079,
          0.122,
          0.088,
          0.076,
          0.078,
          0.08,
          0.124,
          0.124,
          0.098,
          0.098,
          0.111,
          0.105,
          0.073,
          0.065,
          0.086,
          0.084,
          0.071,
          0.071,
          0.071,
          0.071,
          0.071,
          0.107,
          0.106,
          0.104,
          0.096,
          0.074,
          0.087,
          0.106,
          0.08,
          0.092,
          0.084,
          0.059,
          0.083,
          0.074,
          0.079,
          0.074,
          0.064,
          0.084,
          0.081,
          0.06,
          0.07,
          0.078,
          0.059,
          0.078,
          0.059,
          0.07,
          0.095,
          0.039,
          0.157,
          0.087,
          0.422,
          0.084,
          0.084,
          0.087,
          0.073,
          0.093,
          0.077,
          0.08,
          0.093,
          0.084,
          0.075,
          0.078,
          0.075,
          0.079,
          0.0819999999999999,
          0.086,
          0.0819999999999999,
          0.094,
          0.084,
          0.053,
          0.077,
          0.067,
          0.067,
          0.387,
          0.088,
          0.092,
          0.0819999999999999,
          0.075,
          0.1119999999999999,
          0.1119999999999999,
          0.092,
          0.088,
          0.078,
          0.065,
          0.096,
          0.095,
          0.083,
          0.089,
          0.089,
          0.0969999999999999,
          0.089,
          0.084,
          0.084,
          0.092,
          0.075,
          0.096,
          0.096,
          0.089,
          0.103,
          0.076,
          0.0819999999999999,
          0.0819999999999999,
          0.102,
          0.079,
          0.076,
          0.114,
          0.081,
          0.114,
          0.077,
          0.083,
          0.083,
          0.099,
          0.084,
          0.055,
          0.132,
          0.126,
          0.0819999999999999,
          0.068,
          0.165,
          0.068,
          0.099,
          0.099,
          0.071,
          0.0969999999999999,
          0.099,
          0.076,
          0.076,
          0.068,
          0.076,
          0.076,
          0.088,
          0.066,
          0.092,
          0.115,
          0.088,
          0.081,
          0.081,
          0.081,
          0.08,
          0.085,
          0.085,
          0.08,
          0.077,
          0.067,
          0.078,
          0.077,
          0.077,
          0.086,
          0.076,
          0.078,
          0.076,
          0.086,
          0.1119999999999999,
          0.071,
          0.078,
          0.078,
          0.0559999999999999,
          0.081,
          0.084,
          0.161,
          0.091,
          0.055,
          0.055,
          0.08,
          0.074,
          0.074,
          0.08,
          0.073,
          0.09,
          0.089,
          0.078,
          0.115,
          0.0969999999999999,
          0.079,
          0.079,
          0.083,
          0.083,
          0.109,
          0.075,
          0.079,
          0.075,
          0.08,
          0.0969999999999999,
          0.0969999999999999,
          0.0819999999999999,
          0.0819999999999999,
          0.092,
          0.081,
          0.1159999999999999,
          0.102,
          0.078,
          0.062,
          0.065,
          0.095,
          0.074,
          0.088,
          0.0819999999999999,
          0.0819999999999999,
          0.414,
          0.073,
          0.104,
          0.086,
          0.098,
          0.098,
          0.08,
          0.08,
          0.074,
          0.087,
          0.096,
          0.096,
          0.048,
          0.09,
          0.066,
          0.095,
          0.045,
          0.104,
          0.066,
          0.118,
          0.118,
          0.11,
          0.078,
          0.078,
          0.369,
          0.111,
          0.0409999999999999,
          0.068,
          0.07,
          0.08,
          0.079,
          0.08,
          0.166,
          0.166,
          0.111,
          0.136,
          0.076,
          0.091,
          0.08,
          0.104,
          0.075,
          0.074,
          0.075,
          0.076,
          0.079,
          0.0819999999999999,
          0.0819999999999999,
          0.086,
          0.0819999999999999,
          0.077,
          0.123,
          0.096,
          0.079,
          0.069,
          0.0819999999999999,
          0.4029999999999999,
          0.081,
          0.077,
          0.073,
          0.071,
          0.09,
          0.0559999999999999,
          0.068,
          0.068,
          0.1,
          0.093,
          0.093,
          0.081,
          0.087,
          0.073,
          0.088,
          0.088,
          0.071,
          0.073,
          0.083,
          0.094,
          0.0579999999999999,
          0.073,
          0.107,
          0.079,
          0.166,
          0.057,
          0.057,
          0.057,
          0.077,
          0.0559999999999999,
          0.078,
          0.078,
          0.081,
          0.069,
          0.086,
          0.086,
          0.077,
          0.086,
          0.084,
          0.168,
          0.1119999999999999,
          0.093,
          0.115,
          0.094,
          0.415,
          0.415,
          0.11,
          0.083,
          0.086,
          0.074,
          0.08,
          0.08,
          0.107,
          0.076,
          0.1,
          0.1,
          0.083,
          0.08,
          0.094,
          0.07,
          0.078,
          0.07,
          0.09,
          0.08,
          0.08,
          0.08,
          0.104,
          0.077,
          0.065,
          0.077,
          0.077,
          0.077,
          0.077,
          0.079,
          0.078,
          0.072,
          0.049,
          0.066,
          0.1689999999999999,
          0.07,
          0.052,
          0.078,
          0.0579999999999999,
          0.078,
          0.08,
          0.08,
          0.074,
          0.074,
          0.067,
          0.063,
          0.063,
          0.084,
          0.067,
          0.071,
          0.205,
          0.205,
          0.104,
          0.104,
          0.042,
          0.074,
          0.07,
          0.066,
          0.049,
          0.049,
          0.05,
          0.089,
          0.089,
          0.076,
          0.083,
          0.078,
          0.062,
          0.068,
          0.071,
          0.114,
          0.106,
          0.071,
          0.076,
          0.064,
          0.081,
          0.074,
          0.081,
          0.065,
          0.072,
          0.048,
          0.099,
          0.087,
          0.083,
          0.08,
          0.066,
          0.235,
          0.08,
          0.08,
          0.08,
          0.076,
          0.076,
          0.076,
          0.076,
          0.077,
          0.069,
          0.053,
          0.053,
          0.053,
          0.074,
          0.073,
          0.09,
          0.075
         ],
         "xaxis": "x6",
         "yaxis": "y6"
        },
        {
         "alignmentgroup": "True",
         "bingroup": "x",
         "histnorm": "probability",
         "hovertemplate": "quality=6<br>chlorides=%{x}<br>probability=%{y}<extra></extra>",
         "legendgroup": "6",
         "marker": {
          "color": "#EF553B",
          "pattern": {
           "shape": ""
          }
         },
         "name": "6",
         "offsetgroup": "6",
         "orientation": "v",
         "showlegend": true,
         "type": "histogram",
         "x": [
          0.075,
          0.341,
          0.077,
          0.085,
          0.0819999999999999,
          0.105,
          0.073,
          0.086,
          0.086,
          0.332,
          0.069,
          0.068,
          0.11,
          0.074,
          0.074,
          0.076,
          0.104,
          0.069,
          0.11,
          0.11,
          0.0579999999999999,
          0.08,
          0.084,
          0.075,
          0.08,
          0.091,
          0.08,
          0.09,
          0.077,
          0.0819999999999999,
          0.119,
          0.0969999999999999,
          0.119,
          0.06,
          0.084,
          0.05,
          0.05,
          0.074,
          0.089,
          0.077,
          0.079,
          0.076,
          0.089,
          0.073,
          0.073,
          0.068,
          0.087,
          0.079,
          0.074,
          0.067,
          0.089,
          0.039,
          0.083,
          0.059,
          0.092,
          0.0819999999999999,
          0.083,
          0.073,
          0.337,
          0.073,
          0.078,
          0.09,
          0.065,
          0.0969999999999999,
          0.0969999999999999,
          0.0969999999999999,
          0.0969999999999999,
          0.065,
          0.093,
          0.102,
          0.084,
          0.074,
          0.084,
          0.063,
          0.074,
          0.074,
          0.077,
          0.104,
          0.087,
          0.104,
          0.087,
          0.077,
          0.104,
          0.071,
          0.073,
          0.092,
          0.091,
          0.098,
          0.094,
          0.086,
          0.068,
          0.063,
          0.213,
          0.214,
          0.062,
          0.063,
          0.072,
          0.093,
          0.096,
          0.0819999999999999,
          0.0819999999999999,
          0.09,
          0.071,
          0.071,
          0.0819999999999999,
          0.122,
          0.122,
          0.066,
          0.052,
          0.103,
          0.066,
          0.065,
          0.118,
          0.118,
          0.0819999999999999,
          0.093,
          0.089,
          0.093,
          0.107,
          0.096,
          0.066,
          0.078,
          0.088,
          0.086,
          0.107,
          0.0559999999999999,
          0.067,
          0.089,
          0.078,
          0.088,
          0.094,
          0.08,
          0.085,
          0.08,
          0.08,
          0.09,
          0.088,
          0.079,
          0.088,
          0.085,
          0.087,
          0.087,
          0.059,
          0.085,
          0.085,
          0.059,
          0.063,
          0.174,
          0.08,
          0.111,
          0.121,
          0.045,
          0.077,
          0.088,
          0.078,
          0.076,
          0.06,
          0.066,
          0.076,
          0.068,
          0.079,
          0.1,
          0.095,
          0.095,
          0.413,
          0.084,
          0.083,
          0.084,
          0.069,
          0.065,
          0.09,
          0.081,
          0.083,
          0.08,
          0.075,
          0.077,
          0.114,
          0.053,
          0.073,
          0.078,
          0.086,
          0.051,
          0.081,
          0.086,
          0.081,
          0.084,
          0.09,
          0.09,
          0.125,
          0.1,
          0.088,
          0.088,
          0.0969999999999999,
          0.084,
          0.078,
          0.072,
          0.102,
          0.078,
          0.084,
          0.064,
          0.085,
          0.075,
          0.078,
          0.067,
          0.079,
          0.171,
          0.074,
          0.092,
          0.092,
          0.118,
          0.118,
          0.085,
          0.092,
          0.085,
          0.226,
          0.226,
          0.25,
          0.095,
          0.07,
          0.095,
          0.078,
          0.079,
          0.063,
          0.091,
          0.07,
          0.059,
          0.071,
          0.078,
          0.0819999999999999,
          0.071,
          0.071,
          0.096,
          0.085,
          0.092,
          0.11,
          0.075,
          0.077,
          0.148,
          0.079,
          0.077,
          0.0969999999999999,
          0.0969999999999999,
          0.087,
          0.067,
          0.068,
          0.079,
          0.074,
          0.074,
          0.076,
          0.05,
          0.222,
          0.0819999999999999,
          0.0819999999999999,
          0.084,
          0.084,
          0.094,
          0.034,
          0.066,
          0.066,
          0.071,
          0.076,
          0.066,
          0.067,
          0.068,
          0.062,
          0.069,
          0.084,
          0.071,
          0.093,
          0.075,
          0.07,
          0.08,
          0.071,
          0.07,
          0.415,
          0.0579999999999999,
          0.057,
          0.069,
          0.093,
          0.091,
          0.0819999999999999,
          0.0819999999999999,
          0.157,
          0.157,
          0.243,
          0.241,
          0.19,
          0.079,
          0.079,
          0.0819999999999999,
          0.081,
          0.065,
          0.0819999999999999,
          0.0819999999999999,
          0.114,
          0.084,
          0.07,
          0.072,
          0.103,
          0.081,
          0.084,
          0.071,
          0.071,
          0.119,
          0.062,
          0.078,
          0.08,
          0.08,
          0.08,
          0.074,
          0.039,
          0.071,
          0.072,
          0.074,
          0.08,
          0.064,
          0.064,
          0.094,
          0.068,
          0.1939999999999999,
          0.094,
          0.083,
          0.072,
          0.0819999999999999,
          0.08,
          0.08,
          0.08,
          0.079,
          0.078,
          0.059,
          0.132,
          0.114,
          0.065,
          0.059,
          0.079,
          0.084,
          0.081,
          0.072,
          0.081,
          0.072,
          0.084,
          0.061,
          0.078,
          0.06,
          0.06,
          0.0819999999999999,
          0.111,
          0.088,
          0.0579999999999999,
          0.1,
          0.0579999999999999,
          0.065,
          0.068,
          0.066,
          0.066,
          0.065,
          0.07,
          0.065,
          0.064,
          0.073,
          0.076,
          0.079,
          0.05,
          0.055,
          0.088,
          0.092,
          0.12,
          0.075,
          0.049,
          0.049,
          0.123,
          0.123,
          0.098,
          0.095,
          0.066,
          0.075,
          0.089,
          0.077,
          0.088,
          0.079,
          0.088,
          0.046,
          0.07,
          0.076,
          0.081,
          0.084,
          0.095,
          0.095,
          0.074,
          0.098,
          0.075,
          0.067,
          0.083,
          0.083,
          0.088,
          0.073,
          0.047,
          0.073,
          0.072,
          0.073,
          0.057,
          0.086,
          0.081,
          0.1169999999999999,
          0.1169999999999999,
          0.072,
          0.071,
          0.078,
          0.071,
          0.073,
          0.069,
          0.171,
          0.07,
          0.0559999999999999,
          0.074,
          0.046,
          0.091,
          0.091,
          0.091,
          0.065,
          0.062,
          0.055,
          0.081,
          0.063,
          0.072,
          0.092,
          0.0579999999999999,
          0.067,
          0.08,
          0.08,
          0.079,
          0.08,
          0.08,
          0.043,
          0.065,
          0.076,
          0.178,
          0.086,
          0.061,
          0.044,
          0.083,
          0.1,
          0.076,
          0.076,
          0.067,
          0.086,
          0.062,
          0.078,
          0.074,
          0.079,
          0.079,
          0.095,
          0.076,
          0.076,
          0.068,
          0.085,
          0.085,
          0.08,
          0.114,
          0.078,
          0.076,
          0.069,
          0.052,
          0.076,
          0.069,
          0.078,
          0.078,
          0.071,
          0.081,
          0.095,
          0.079,
          0.057,
          0.0819999999999999,
          0.044,
          0.132,
          0.132,
          0.078,
          0.074,
          0.08,
          0.066,
          0.059,
          0.07,
          0.059,
          0.0579999999999999,
          0.067,
          0.081,
          0.079,
          0.079,
          0.085,
          0.123,
          0.123,
          0.066,
          0.081,
          0.081,
          0.068,
          0.079,
          0.048,
          0.049,
          0.102,
          0.075,
          0.114,
          0.075,
          0.077,
          0.077,
          0.084,
          0.096,
          0.068,
          0.073,
          0.0559999999999999,
          0.073,
          0.064,
          0.063,
          0.08,
          0.1,
          0.064,
          0.064,
          0.086,
          0.086,
          0.083,
          0.0409999999999999,
          0.091,
          0.083,
          0.414,
          0.0409999999999999,
          0.077,
          0.077,
          0.077,
          0.077,
          0.083,
          0.083,
          0.075,
          0.069,
          0.084,
          0.084,
          0.084,
          0.085,
          0.084,
          0.063,
          0.065,
          0.078,
          0.091,
          0.091,
          0.096,
          0.088,
          0.079,
          0.153,
          0.09,
          0.078,
          0.077,
          0.077,
          0.068,
          0.092,
          0.068,
          0.052,
          0.0819999999999999,
          0.062,
          0.064,
          0.064,
          0.0819999999999999,
          0.071,
          0.062,
          0.079,
          0.076,
          0.076,
          0.046,
          0.069,
          0.042,
          0.214,
          0.214,
          0.072,
          0.094,
          0.072,
          0.094,
          0.073,
          0.052,
          0.05,
          0.054,
          0.075,
          0.076,
          0.073,
          0.048,
          0.039,
          0.08,
          0.054,
          0.068,
          0.054,
          0.077,
          0.106,
          0.07,
          0.106,
          0.074,
          0.047,
          0.061,
          0.078,
          0.074,
          0.074,
          0.063,
          0.063,
          0.075,
          0.064,
          0.071,
          0.096,
          0.063,
          0.063,
          0.0579999999999999,
          0.075,
          0.077,
          0.059,
          0.071,
          0.064,
          0.064,
          0.059,
          0.103,
          0.062,
          0.062,
          0.061,
          0.059,
          0.0559999999999999,
          0.23,
          0.038,
          0.075,
          0.074,
          0.06,
          0.081,
          0.076,
          0.118,
          0.068,
          0.066,
          0.065,
          0.066,
          0.068,
          0.077,
          0.089,
          0.076,
          0.068,
          0.062,
          0.076,
          0.067
         ],
         "xaxis": "x5",
         "yaxis": "y5"
        },
        {
         "alignmentgroup": "True",
         "bingroup": "x",
         "histnorm": "probability",
         "hovertemplate": "quality=7<br>chlorides=%{x}<br>probability=%{y}<extra></extra>",
         "legendgroup": "7",
         "marker": {
          "color": "#00cc96",
          "pattern": {
           "shape": ""
          }
         },
         "name": "7",
         "offsetgroup": "7",
         "orientation": "v",
         "showlegend": true,
         "type": "histogram",
         "x": [
          0.065,
          0.073,
          0.092,
          0.066,
          0.085,
          0.065,
          0.046,
          0.0559999999999999,
          0.095,
          0.095,
          0.054,
          0.054,
          0.075,
          0.075,
          0.085,
          0.071,
          0.087,
          0.358,
          0.087,
          0.091,
          0.091,
          0.083,
          0.083,
          0.121,
          0.078,
          0.128,
          0.0819999999999999,
          0.072,
          0.1159999999999999,
          0.109,
          0.083,
          0.083,
          0.074,
          0.124,
          0.074,
          0.096,
          0.066,
          0.093,
          0.0969999999999999,
          0.089,
          0.059,
          0.066,
          0.059,
          0.066,
          0.1,
          0.077,
          0.054,
          0.084,
          0.084,
          0.081,
          0.055,
          0.052,
          0.074,
          0.074,
          0.078,
          0.077,
          0.072,
          0.075,
          0.084,
          0.107,
          0.107,
          0.066,
          0.074,
          0.093,
          0.094,
          0.059,
          0.072,
          0.143,
          0.115,
          0.066,
          0.073,
          0.038,
          0.044,
          0.052,
          0.0409999999999999,
          0.052,
          0.048,
          0.05,
          0.012,
          0.012,
          0.075,
          0.085,
          0.071,
          0.073,
          0.054,
          0.067,
          0.104,
          0.109,
          0.066,
          0.078,
          0.078,
          0.08,
          0.08,
          0.06,
          0.06,
          0.094,
          0.064,
          0.063,
          0.068,
          0.074,
          0.0819999999999999,
          0.092,
          0.094,
          0.09,
          0.071,
          0.092,
          0.093,
          0.075,
          0.075,
          0.075,
          0.093,
          0.0579999999999999,
          0.052,
          0.12,
          0.103,
          0.104,
          0.073,
          0.061,
          0.066,
          0.087,
          0.087,
          0.062,
          0.0579999999999999,
          0.063,
          0.067,
          0.067,
          0.063,
          0.064,
          0.11,
          0.067,
          0.068,
          0.088,
          0.088,
          0.091,
          0.093,
          0.085,
          0.0819999999999999,
          0.078,
          0.069,
          0.07,
          0.1009999999999999,
          0.093,
          0.1009999999999999,
          0.07,
          0.06,
          0.06,
          0.057,
          0.071,
          0.05,
          0.05,
          0.055,
          0.095,
          0.095,
          0.079,
          0.216,
          0.068,
          0.092,
          0.055,
          0.075,
          0.089,
          0.061,
          0.071,
          0.067,
          0.071,
          0.042,
          0.087,
          0.075,
          0.074,
          0.052,
          0.063,
          0.065,
          0.074,
          0.074,
          0.074,
          0.074,
          0.071,
          0.044,
          0.062,
          0.06,
          0.083,
          0.062,
          0.048,
          0.064,
          0.069,
          0.062,
          0.062,
          0.104,
          0.062,
          0.054,
          0.062,
          0.062,
          0.048,
          0.048,
          0.066,
          0.064,
          0.054,
          0.063,
          0.065,
          0.061
         ],
         "xaxis": "x4",
         "yaxis": "y4"
        },
        {
         "alignmentgroup": "True",
         "bingroup": "x",
         "histnorm": "probability",
         "hovertemplate": "quality=4<br>chlorides=%{x}<br>probability=%{y}<extra></extra>",
         "legendgroup": "4",
         "marker": {
          "color": "#ab63fa",
          "pattern": {
           "shape": ""
          }
         },
         "name": "4",
         "offsetgroup": "4",
         "orientation": "v",
         "showlegend": true,
         "type": "histogram",
         "x": [
          0.086,
          0.172,
          0.088,
          0.054,
          0.084,
          0.08,
          0.045,
          0.61,
          0.072,
          0.072,
          0.0579999999999999,
          0.061,
          0.089,
          0.087,
          0.096,
          0.07,
          0.07,
          0.103,
          0.088,
          0.105,
          0.07,
          0.096,
          0.073,
          0.078,
          0.086,
          0.102,
          0.0579999999999999,
          0.147,
          0.067,
          0.067,
          0.093,
          0.071,
          0.096,
          0.079,
          0.075,
          0.057,
          0.054,
          0.081,
          0.057,
          0.083,
          0.089,
          0.05,
          0.084,
          0.068,
          0.08,
          0.069,
          0.123,
          0.06,
          0.067,
          0.08,
          0.114,
          0.06,
          0.0819999999999999
         ],
         "xaxis": "x3",
         "yaxis": "y3"
        },
        {
         "alignmentgroup": "True",
         "bingroup": "x",
         "histnorm": "probability",
         "hovertemplate": "quality=8<br>chlorides=%{x}<br>probability=%{y}<extra></extra>",
         "legendgroup": "8",
         "marker": {
          "color": "#FFA15A",
          "pattern": {
           "shape": ""
          }
         },
         "name": "8",
         "offsetgroup": "8",
         "orientation": "v",
         "showlegend": true,
         "type": "histogram",
         "x": [
          0.078,
          0.073,
          0.045,
          0.072,
          0.086,
          0.08,
          0.07,
          0.07,
          0.06,
          0.065,
          0.071,
          0.083,
          0.076,
          0.068,
          0.044,
          0.061,
          0.0559999999999999,
          0.074
         ],
         "xaxis": "x2",
         "yaxis": "y2"
        },
        {
         "alignmentgroup": "True",
         "bingroup": "x",
         "histnorm": "probability",
         "hovertemplate": "quality=3<br>chlorides=%{x}<br>probability=%{y}<extra></extra>",
         "legendgroup": "3",
         "marker": {
          "color": "#19d3f3",
          "pattern": {
           "shape": ""
          }
         },
         "name": "3",
         "offsetgroup": "3",
         "orientation": "v",
         "showlegend": true,
         "type": "histogram",
         "x": [
          0.074,
          0.2,
          0.0969999999999999,
          0.145,
          0.084,
          0.1369999999999999,
          0.267,
          0.061,
          0.0819999999999999,
          0.078
         ],
         "xaxis": "x",
         "yaxis": "y"
        }
       ],
       "layout": {
        "annotations": [
         {
          "font": {},
          "showarrow": false,
          "text": "quality=3",
          "textangle": 90,
          "x": 0.98,
          "xanchor": "left",
          "xref": "paper",
          "y": 0.07083333333333333,
          "yanchor": "middle",
          "yref": "paper"
         },
         {
          "font": {},
          "showarrow": false,
          "text": "quality=8",
          "textangle": 90,
          "x": 0.98,
          "xanchor": "left",
          "xref": "paper",
          "y": 0.2425,
          "yanchor": "middle",
          "yref": "paper"
         },
         {
          "font": {},
          "showarrow": false,
          "text": "quality=4",
          "textangle": 90,
          "x": 0.98,
          "xanchor": "left",
          "xref": "paper",
          "y": 0.4141666666666667,
          "yanchor": "middle",
          "yref": "paper"
         },
         {
          "font": {},
          "showarrow": false,
          "text": "quality=7",
          "textangle": 90,
          "x": 0.98,
          "xanchor": "left",
          "xref": "paper",
          "y": 0.5858333333333334,
          "yanchor": "middle",
          "yref": "paper"
         },
         {
          "font": {},
          "showarrow": false,
          "text": "quality=6",
          "textangle": 90,
          "x": 0.98,
          "xanchor": "left",
          "xref": "paper",
          "y": 0.7575000000000001,
          "yanchor": "middle",
          "yref": "paper"
         },
         {
          "font": {},
          "showarrow": false,
          "text": "quality=5",
          "textangle": 90,
          "x": 0.98,
          "xanchor": "left",
          "xref": "paper",
          "y": 0.9291666666666667,
          "yanchor": "middle",
          "yref": "paper"
         }
        ],
        "barmode": "relative",
        "legend": {
         "title": {
          "text": "quality"
         },
         "tracegroupgap": 0
        },
        "margin": {
         "t": 60
        },
        "template": {
         "data": {
          "bar": [
           {
            "error_x": {
             "color": "#2a3f5f"
            },
            "error_y": {
             "color": "#2a3f5f"
            },
            "marker": {
             "line": {
              "color": "#E5ECF6",
              "width": 0.5
             },
             "pattern": {
              "fillmode": "overlay",
              "size": 10,
              "solidity": 0.2
             }
            },
            "type": "bar"
           }
          ],
          "barpolar": [
           {
            "marker": {
             "line": {
              "color": "#E5ECF6",
              "width": 0.5
             },
             "pattern": {
              "fillmode": "overlay",
              "size": 10,
              "solidity": 0.2
             }
            },
            "type": "barpolar"
           }
          ],
          "carpet": [
           {
            "aaxis": {
             "endlinecolor": "#2a3f5f",
             "gridcolor": "white",
             "linecolor": "white",
             "minorgridcolor": "white",
             "startlinecolor": "#2a3f5f"
            },
            "baxis": {
             "endlinecolor": "#2a3f5f",
             "gridcolor": "white",
             "linecolor": "white",
             "minorgridcolor": "white",
             "startlinecolor": "#2a3f5f"
            },
            "type": "carpet"
           }
          ],
          "choropleth": [
           {
            "colorbar": {
             "outlinewidth": 0,
             "ticks": ""
            },
            "type": "choropleth"
           }
          ],
          "contour": [
           {
            "colorbar": {
             "outlinewidth": 0,
             "ticks": ""
            },
            "colorscale": [
             [
              0,
              "#0d0887"
             ],
             [
              0.1111111111111111,
              "#46039f"
             ],
             [
              0.2222222222222222,
              "#7201a8"
             ],
             [
              0.3333333333333333,
              "#9c179e"
             ],
             [
              0.4444444444444444,
              "#bd3786"
             ],
             [
              0.5555555555555556,
              "#d8576b"
             ],
             [
              0.6666666666666666,
              "#ed7953"
             ],
             [
              0.7777777777777778,
              "#fb9f3a"
             ],
             [
              0.8888888888888888,
              "#fdca26"
             ],
             [
              1,
              "#f0f921"
             ]
            ],
            "type": "contour"
           }
          ],
          "contourcarpet": [
           {
            "colorbar": {
             "outlinewidth": 0,
             "ticks": ""
            },
            "type": "contourcarpet"
           }
          ],
          "heatmap": [
           {
            "colorbar": {
             "outlinewidth": 0,
             "ticks": ""
            },
            "colorscale": [
             [
              0,
              "#0d0887"
             ],
             [
              0.1111111111111111,
              "#46039f"
             ],
             [
              0.2222222222222222,
              "#7201a8"
             ],
             [
              0.3333333333333333,
              "#9c179e"
             ],
             [
              0.4444444444444444,
              "#bd3786"
             ],
             [
              0.5555555555555556,
              "#d8576b"
             ],
             [
              0.6666666666666666,
              "#ed7953"
             ],
             [
              0.7777777777777778,
              "#fb9f3a"
             ],
             [
              0.8888888888888888,
              "#fdca26"
             ],
             [
              1,
              "#f0f921"
             ]
            ],
            "type": "heatmap"
           }
          ],
          "heatmapgl": [
           {
            "colorbar": {
             "outlinewidth": 0,
             "ticks": ""
            },
            "colorscale": [
             [
              0,
              "#0d0887"
             ],
             [
              0.1111111111111111,
              "#46039f"
             ],
             [
              0.2222222222222222,
              "#7201a8"
             ],
             [
              0.3333333333333333,
              "#9c179e"
             ],
             [
              0.4444444444444444,
              "#bd3786"
             ],
             [
              0.5555555555555556,
              "#d8576b"
             ],
             [
              0.6666666666666666,
              "#ed7953"
             ],
             [
              0.7777777777777778,
              "#fb9f3a"
             ],
             [
              0.8888888888888888,
              "#fdca26"
             ],
             [
              1,
              "#f0f921"
             ]
            ],
            "type": "heatmapgl"
           }
          ],
          "histogram": [
           {
            "marker": {
             "pattern": {
              "fillmode": "overlay",
              "size": 10,
              "solidity": 0.2
             }
            },
            "type": "histogram"
           }
          ],
          "histogram2d": [
           {
            "colorbar": {
             "outlinewidth": 0,
             "ticks": ""
            },
            "colorscale": [
             [
              0,
              "#0d0887"
             ],
             [
              0.1111111111111111,
              "#46039f"
             ],
             [
              0.2222222222222222,
              "#7201a8"
             ],
             [
              0.3333333333333333,
              "#9c179e"
             ],
             [
              0.4444444444444444,
              "#bd3786"
             ],
             [
              0.5555555555555556,
              "#d8576b"
             ],
             [
              0.6666666666666666,
              "#ed7953"
             ],
             [
              0.7777777777777778,
              "#fb9f3a"
             ],
             [
              0.8888888888888888,
              "#fdca26"
             ],
             [
              1,
              "#f0f921"
             ]
            ],
            "type": "histogram2d"
           }
          ],
          "histogram2dcontour": [
           {
            "colorbar": {
             "outlinewidth": 0,
             "ticks": ""
            },
            "colorscale": [
             [
              0,
              "#0d0887"
             ],
             [
              0.1111111111111111,
              "#46039f"
             ],
             [
              0.2222222222222222,
              "#7201a8"
             ],
             [
              0.3333333333333333,
              "#9c179e"
             ],
             [
              0.4444444444444444,
              "#bd3786"
             ],
             [
              0.5555555555555556,
              "#d8576b"
             ],
             [
              0.6666666666666666,
              "#ed7953"
             ],
             [
              0.7777777777777778,
              "#fb9f3a"
             ],
             [
              0.8888888888888888,
              "#fdca26"
             ],
             [
              1,
              "#f0f921"
             ]
            ],
            "type": "histogram2dcontour"
           }
          ],
          "mesh3d": [
           {
            "colorbar": {
             "outlinewidth": 0,
             "ticks": ""
            },
            "type": "mesh3d"
           }
          ],
          "parcoords": [
           {
            "line": {
             "colorbar": {
              "outlinewidth": 0,
              "ticks": ""
             }
            },
            "type": "parcoords"
           }
          ],
          "pie": [
           {
            "automargin": true,
            "type": "pie"
           }
          ],
          "scatter": [
           {
            "fillpattern": {
             "fillmode": "overlay",
             "size": 10,
             "solidity": 0.2
            },
            "type": "scatter"
           }
          ],
          "scatter3d": [
           {
            "line": {
             "colorbar": {
              "outlinewidth": 0,
              "ticks": ""
             }
            },
            "marker": {
             "colorbar": {
              "outlinewidth": 0,
              "ticks": ""
             }
            },
            "type": "scatter3d"
           }
          ],
          "scattercarpet": [
           {
            "marker": {
             "colorbar": {
              "outlinewidth": 0,
              "ticks": ""
             }
            },
            "type": "scattercarpet"
           }
          ],
          "scattergeo": [
           {
            "marker": {
             "colorbar": {
              "outlinewidth": 0,
              "ticks": ""
             }
            },
            "type": "scattergeo"
           }
          ],
          "scattergl": [
           {
            "marker": {
             "colorbar": {
              "outlinewidth": 0,
              "ticks": ""
             }
            },
            "type": "scattergl"
           }
          ],
          "scattermapbox": [
           {
            "marker": {
             "colorbar": {
              "outlinewidth": 0,
              "ticks": ""
             }
            },
            "type": "scattermapbox"
           }
          ],
          "scatterpolar": [
           {
            "marker": {
             "colorbar": {
              "outlinewidth": 0,
              "ticks": ""
             }
            },
            "type": "scatterpolar"
           }
          ],
          "scatterpolargl": [
           {
            "marker": {
             "colorbar": {
              "outlinewidth": 0,
              "ticks": ""
             }
            },
            "type": "scatterpolargl"
           }
          ],
          "scatterternary": [
           {
            "marker": {
             "colorbar": {
              "outlinewidth": 0,
              "ticks": ""
             }
            },
            "type": "scatterternary"
           }
          ],
          "surface": [
           {
            "colorbar": {
             "outlinewidth": 0,
             "ticks": ""
            },
            "colorscale": [
             [
              0,
              "#0d0887"
             ],
             [
              0.1111111111111111,
              "#46039f"
             ],
             [
              0.2222222222222222,
              "#7201a8"
             ],
             [
              0.3333333333333333,
              "#9c179e"
             ],
             [
              0.4444444444444444,
              "#bd3786"
             ],
             [
              0.5555555555555556,
              "#d8576b"
             ],
             [
              0.6666666666666666,
              "#ed7953"
             ],
             [
              0.7777777777777778,
              "#fb9f3a"
             ],
             [
              0.8888888888888888,
              "#fdca26"
             ],
             [
              1,
              "#f0f921"
             ]
            ],
            "type": "surface"
           }
          ],
          "table": [
           {
            "cells": {
             "fill": {
              "color": "#EBF0F8"
             },
             "line": {
              "color": "white"
             }
            },
            "header": {
             "fill": {
              "color": "#C8D4E3"
             },
             "line": {
              "color": "white"
             }
            },
            "type": "table"
           }
          ]
         },
         "layout": {
          "annotationdefaults": {
           "arrowcolor": "#2a3f5f",
           "arrowhead": 0,
           "arrowwidth": 1
          },
          "autotypenumbers": "strict",
          "coloraxis": {
           "colorbar": {
            "outlinewidth": 0,
            "ticks": ""
           }
          },
          "colorscale": {
           "diverging": [
            [
             0,
             "#8e0152"
            ],
            [
             0.1,
             "#c51b7d"
            ],
            [
             0.2,
             "#de77ae"
            ],
            [
             0.3,
             "#f1b6da"
            ],
            [
             0.4,
             "#fde0ef"
            ],
            [
             0.5,
             "#f7f7f7"
            ],
            [
             0.6,
             "#e6f5d0"
            ],
            [
             0.7,
             "#b8e186"
            ],
            [
             0.8,
             "#7fbc41"
            ],
            [
             0.9,
             "#4d9221"
            ],
            [
             1,
             "#276419"
            ]
           ],
           "sequential": [
            [
             0,
             "#0d0887"
            ],
            [
             0.1111111111111111,
             "#46039f"
            ],
            [
             0.2222222222222222,
             "#7201a8"
            ],
            [
             0.3333333333333333,
             "#9c179e"
            ],
            [
             0.4444444444444444,
             "#bd3786"
            ],
            [
             0.5555555555555556,
             "#d8576b"
            ],
            [
             0.6666666666666666,
             "#ed7953"
            ],
            [
             0.7777777777777778,
             "#fb9f3a"
            ],
            [
             0.8888888888888888,
             "#fdca26"
            ],
            [
             1,
             "#f0f921"
            ]
           ],
           "sequentialminus": [
            [
             0,
             "#0d0887"
            ],
            [
             0.1111111111111111,
             "#46039f"
            ],
            [
             0.2222222222222222,
             "#7201a8"
            ],
            [
             0.3333333333333333,
             "#9c179e"
            ],
            [
             0.4444444444444444,
             "#bd3786"
            ],
            [
             0.5555555555555556,
             "#d8576b"
            ],
            [
             0.6666666666666666,
             "#ed7953"
            ],
            [
             0.7777777777777778,
             "#fb9f3a"
            ],
            [
             0.8888888888888888,
             "#fdca26"
            ],
            [
             1,
             "#f0f921"
            ]
           ]
          },
          "colorway": [
           "#636efa",
           "#EF553B",
           "#00cc96",
           "#ab63fa",
           "#FFA15A",
           "#19d3f3",
           "#FF6692",
           "#B6E880",
           "#FF97FF",
           "#FECB52"
          ],
          "font": {
           "color": "#2a3f5f"
          },
          "geo": {
           "bgcolor": "white",
           "lakecolor": "white",
           "landcolor": "#E5ECF6",
           "showlakes": true,
           "showland": true,
           "subunitcolor": "white"
          },
          "hoverlabel": {
           "align": "left"
          },
          "hovermode": "closest",
          "mapbox": {
           "style": "light"
          },
          "paper_bgcolor": "white",
          "plot_bgcolor": "#E5ECF6",
          "polar": {
           "angularaxis": {
            "gridcolor": "white",
            "linecolor": "white",
            "ticks": ""
           },
           "bgcolor": "#E5ECF6",
           "radialaxis": {
            "gridcolor": "white",
            "linecolor": "white",
            "ticks": ""
           }
          },
          "scene": {
           "xaxis": {
            "backgroundcolor": "#E5ECF6",
            "gridcolor": "white",
            "gridwidth": 2,
            "linecolor": "white",
            "showbackground": true,
            "ticks": "",
            "zerolinecolor": "white"
           },
           "yaxis": {
            "backgroundcolor": "#E5ECF6",
            "gridcolor": "white",
            "gridwidth": 2,
            "linecolor": "white",
            "showbackground": true,
            "ticks": "",
            "zerolinecolor": "white"
           },
           "zaxis": {
            "backgroundcolor": "#E5ECF6",
            "gridcolor": "white",
            "gridwidth": 2,
            "linecolor": "white",
            "showbackground": true,
            "ticks": "",
            "zerolinecolor": "white"
           }
          },
          "shapedefaults": {
           "line": {
            "color": "#2a3f5f"
           }
          },
          "ternary": {
           "aaxis": {
            "gridcolor": "white",
            "linecolor": "white",
            "ticks": ""
           },
           "baxis": {
            "gridcolor": "white",
            "linecolor": "white",
            "ticks": ""
           },
           "bgcolor": "#E5ECF6",
           "caxis": {
            "gridcolor": "white",
            "linecolor": "white",
            "ticks": ""
           }
          },
          "title": {
           "x": 0.05
          },
          "xaxis": {
           "automargin": true,
           "gridcolor": "white",
           "linecolor": "white",
           "ticks": "",
           "title": {
            "standoff": 15
           },
           "zerolinecolor": "white",
           "zerolinewidth": 2
          },
          "yaxis": {
           "automargin": true,
           "gridcolor": "white",
           "linecolor": "white",
           "ticks": "",
           "title": {
            "standoff": 15
           },
           "zerolinecolor": "white",
           "zerolinewidth": 2
          }
         }
        },
        "width": 1500,
        "xaxis": {
         "anchor": "y",
         "domain": [
          0,
          0.98
         ],
         "title": {
          "text": "chlorides"
         }
        },
        "xaxis2": {
         "anchor": "y2",
         "domain": [
          0,
          0.98
         ],
         "matches": "x",
         "showticklabels": false
        },
        "xaxis3": {
         "anchor": "y3",
         "domain": [
          0,
          0.98
         ],
         "matches": "x",
         "showticklabels": false
        },
        "xaxis4": {
         "anchor": "y4",
         "domain": [
          0,
          0.98
         ],
         "matches": "x",
         "showticklabels": false
        },
        "xaxis5": {
         "anchor": "y5",
         "domain": [
          0,
          0.98
         ],
         "matches": "x",
         "showticklabels": false
        },
        "xaxis6": {
         "anchor": "y6",
         "domain": [
          0,
          0.98
         ],
         "matches": "x",
         "showticklabels": false
        },
        "yaxis": {
         "anchor": "x",
         "domain": [
          0,
          0.14166666666666666
         ],
         "title": {
          "text": "probability"
         }
        },
        "yaxis2": {
         "anchor": "x2",
         "domain": [
          0.17166666666666666,
          0.31333333333333335
         ],
         "matches": "y",
         "title": {
          "text": "probability"
         }
        },
        "yaxis3": {
         "anchor": "x3",
         "domain": [
          0.3433333333333333,
          0.485
         ],
         "matches": "y",
         "title": {
          "text": "probability"
         }
        },
        "yaxis4": {
         "anchor": "x4",
         "domain": [
          0.515,
          0.6566666666666667
         ],
         "matches": "y",
         "title": {
          "text": "probability"
         }
        },
        "yaxis5": {
         "anchor": "x5",
         "domain": [
          0.6866666666666666,
          0.8283333333333334
         ],
         "matches": "y",
         "title": {
          "text": "probability"
         }
        },
        "yaxis6": {
         "anchor": "x6",
         "domain": [
          0.8583333333333333,
          1
         ],
         "matches": "y",
         "title": {
          "text": "probability"
         }
        }
       }
      }
     },
     "metadata": {},
     "output_type": "display_data"
    },
    {
     "data": {
      "application/vnd.plotly.v1+json": {
       "config": {
        "plotlyServerURL": "https://plot.ly"
       },
       "data": [
        {
         "alignmentgroup": "True",
         "bingroup": "x",
         "histnorm": "probability",
         "hovertemplate": "quality=5<br>free_sulfur_dioxide=%{x}<br>probability=%{y}<extra></extra>",
         "legendgroup": "5",
         "marker": {
          "color": "#636efa",
          "pattern": {
           "shape": ""
          }
         },
         "name": "5",
         "offsetgroup": "5",
         "orientation": "v",
         "showlegend": true,
         "type": "histogram",
         "x": [
          11,
          25,
          15,
          11,
          13,
          15,
          17,
          15,
          17,
          16,
          9,
          52,
          51,
          16,
          23,
          10,
          9,
          11,
          4,
          10,
          14,
          17,
          15,
          13,
          12,
          12,
          9,
          5,
          22,
          12,
          5,
          12,
          4,
          30,
          25,
          4,
          50,
          17,
          19,
          20,
          13,
          4,
          4,
          11,
          6,
          27,
          17,
          18,
          28,
          9,
          9,
          12,
          3,
          22,
          21,
          16,
          19,
          9,
          34,
          8,
          42,
          19,
          9,
          8,
          3,
          5,
          12,
          5,
          12,
          18,
          15,
          37,
          12,
          11,
          14,
          12,
          10,
          3,
          11,
          21,
          27,
          3,
          3,
          6,
          30,
          17,
          17,
          16,
          10,
          13,
          15,
          17,
          16,
          10,
          3,
          32,
          21,
          10,
          25,
          25,
          29,
          28,
          29,
          28,
          12,
          7,
          36,
          35,
          14,
          18,
          15,
          7,
          19,
          7,
          7,
          10,
          10,
          23,
          16,
          11,
          26,
          14,
          9,
          15,
          17,
          21,
          16,
          7,
          7,
          24,
          15,
          39,
          16,
          16,
          26,
          18,
          28,
          26,
          13,
          11,
          10,
          24,
          16,
          5,
          9,
          10,
          10,
          5,
          16,
          11,
          5,
          8,
          17,
          5,
          12,
          8,
          18,
          10,
          23,
          5,
          17,
          10,
          27,
          12,
          32,
          32,
          33,
          6,
          5,
          26,
          8,
          5,
          8,
          12,
          5,
          12,
          7,
          30,
          26,
          37,
          25,
          6,
          5,
          7,
          16,
          29,
          40,
          8,
          23,
          29,
          14,
          6,
          6,
          11,
          15,
          35,
          12,
          23,
          6,
          13,
          6,
          68,
          9,
          68,
          15,
          23,
          15,
          24,
          31,
          34,
          34,
          15,
          15,
          9,
          21,
          6,
          6,
          7,
          31,
          6,
          21,
          5,
          29,
          6,
          10,
          25,
          10,
          36,
          15,
          5,
          5,
          6,
          5,
          6,
          6,
          7,
          6,
          6,
          43,
          19,
          34,
          39,
          16,
          47,
          38,
          23,
          29,
          39,
          6,
          12,
          12,
          6,
          5,
          20,
          5,
          38,
          32,
          10,
          10,
          10,
          5,
          26,
          41,
          5,
          10,
          18,
          17,
          5,
          5,
          5,
          18,
          21,
          21,
          9,
          20,
          30,
          6,
          25,
          5,
          10,
          28,
          28,
          4,
          6,
          16,
          14,
          9,
          21,
          21,
          5,
          5,
          20,
          5,
          46,
          24,
          30,
          31,
          16,
          21,
          16,
          21,
          16,
          6,
          8,
          35,
          22,
          7,
          20,
          8,
          15,
          15,
          25,
          15,
          30,
          5,
          32,
          5,
          12,
          12,
          45,
          20,
          15,
          32,
          5,
          35,
          5,
          13,
          13,
          4,
          5,
          12,
          16,
          21,
          24,
          18,
          11,
          10,
          16,
          21,
          16,
          13,
          10,
          21,
          10,
          12,
          10,
          17,
          10,
          35,
          15,
          36,
          5,
          4,
          4,
          12,
          4,
          10,
          16,
          9,
          11,
          11,
          28,
          19,
          28,
          9,
          25,
          21,
          16,
          17,
          17,
          24,
          17,
          10,
          10,
          33,
          9,
          5,
          5,
          12,
          13,
          7,
          23,
          23,
          7,
          7,
          21,
          9,
          26,
          9,
          20,
          11,
          11,
          21,
          25,
          7,
          7,
          24,
          26,
          8,
          4,
          4,
          20,
          20,
          21,
          9,
          9,
          15,
          15,
          6,
          15,
          15,
          16,
          27,
          13,
          21,
          9,
          14,
          14,
          14,
          12,
          9,
          9,
          26,
          15,
          7,
          17,
          15,
          16,
          36,
          18,
          10,
          18,
          9,
          23,
          30,
          16,
          16,
          10,
          15,
          12,
          7,
          10,
          14,
          14,
          8,
          13,
          13,
          8,
          7,
          9,
          12,
          7,
          6,
          23,
          7,
          6,
          35,
          35,
          31,
          3,
          13,
          3,
          35,
          19,
          19,
          31,
          31,
          20,
          27,
          26,
          11,
          10,
          4,
          28,
          5,
          20,
          16,
          27,
          27,
          16,
          19,
          28,
          28,
          30,
          30,
          3,
          3,
          40,
          6,
          5,
          5,
          13,
          4,
          7,
          28,
          57,
          29,
          35,
          9,
          9,
          11,
          10,
          10,
          15,
          7,
          17,
          5,
          16,
          11,
          6,
          11,
          6,
          6,
          33,
          24,
          22,
          18,
          27,
          8,
          19,
          48,
          19,
          36,
          28,
          10,
          15,
          15,
          15,
          27,
          6,
          6,
          20,
          26,
          43,
          19,
          34,
          25,
          34,
          18,
          20,
          3,
          20,
          20,
          6,
          51,
          51,
          28,
          21,
          24,
          22,
          22,
          27,
          24,
          14,
          12,
          9,
          13,
          31,
          12,
          4,
          15,
          15,
          15,
          8,
          5,
          7,
          7,
          21,
          32,
          14,
          14,
          7,
          5,
          4,
          52,
          11,
          13,
          10,
          10,
          12,
          12,
          34,
          13,
          7,
          4,
          25,
          25,
          20,
          34,
          8,
          8,
          7,
          36,
          5,
          5,
          19,
          27,
          4,
          17,
          33,
          33,
          12,
          3,
          8,
          3,
          3,
          32,
          3,
          24,
          6,
          27,
          38,
          18,
          27,
          15,
          3,
          18,
          8,
          18,
          22,
          40,
          27,
          27,
          8,
          34,
          34,
          8,
          8,
          14,
          48,
          48,
          10,
          10,
          6,
          8,
          9,
          9,
          5,
          5,
          6,
          23,
          23,
          8,
          21,
          15,
          7,
          19,
          23,
          7,
          14,
          23,
          29,
          18,
          13,
          32,
          15,
          34,
          17,
          12,
          19,
          17,
          18,
          18,
          12,
          66,
          31,
          31,
          31,
          12,
          12,
          12,
          12,
          25,
          35,
          24,
          24,
          13,
          32,
          29,
          32,
          32
         ],
         "xaxis": "x6",
         "yaxis": "y6"
        },
        {
         "alignmentgroup": "True",
         "bingroup": "x",
         "histnorm": "probability",
         "hovertemplate": "quality=6<br>free_sulfur_dioxide=%{x}<br>probability=%{y}<extra></extra>",
         "legendgroup": "6",
         "marker": {
          "color": "#EF553B",
          "pattern": {
           "shape": ""
          }
         },
         "name": "6",
         "offsetgroup": "6",
         "orientation": "v",
         "showlegend": true,
         "type": "histogram",
         "x": [
          17,
          17,
          29,
          21,
          8,
          22,
          40,
          5,
          3,
          8,
          8,
          6,
          33,
          9,
          8,
          15,
          14,
          18,
          20,
          20,
          17,
          13,
          11,
          8,
          13,
          18,
          22,
          13,
          11,
          7,
          14,
          22,
          14,
          17,
          13,
          27,
          27,
          12,
          11,
          5,
          18,
          17,
          11,
          6,
          6,
          24,
          8,
          8,
          21,
          12,
          14,
          5,
          10,
          5,
          10,
          24,
          8,
          29,
          27,
          29,
          12,
          18,
          7,
          14,
          14,
          15,
          14,
          7,
          6,
          28,
          6,
          9,
          6,
          16,
          16,
          16,
          7,
          4,
          27,
          4,
          27,
          7,
          4,
          6,
          25,
          29,
          18,
          5,
          17,
          20,
          7,
          6,
          6,
          5,
          9,
          6,
          15,
          19,
          20,
          30,
          30,
          35,
          13,
          13,
          6,
          10,
          10,
          21,
          6,
          28,
          10,
          5,
          6,
          6,
          6,
          6,
          15,
          11,
          17,
          11,
          40.5,
          17,
          10,
          21,
          7,
          11,
          26,
          6,
          19,
          6,
          24,
          11,
          17,
          11,
          11,
          11,
          23,
          17,
          23,
          17,
          13,
          13,
          20,
          19,
          10,
          11,
          9,
          6,
          26,
          6,
          7,
          19,
          6,
          13,
          12,
          22,
          38,
          6,
          22,
          7,
          6,
          7,
          17,
          17,
          9,
          18,
          14,
          5,
          21,
          7,
          6,
          25,
          25,
          10,
          6,
          6,
          6,
          5,
          10,
          24,
          23,
          28,
          14,
          23,
          14,
          6,
          26,
          26,
          15,
          5,
          11,
          15,
          33,
          32,
          1,
          15,
          13,
          1,
          5,
          5,
          16,
          6,
          10,
          6,
          27,
          6,
          9,
          14,
          14,
          10,
          10,
          6,
          25,
          6,
          5,
          5,
          5,
          19,
          10,
          19,
          20,
          28,
          18,
          8,
          23,
          6,
          5,
          5,
          11,
          12,
          12,
          14,
          6,
          26,
          11,
          15,
          18,
          10,
          14,
          21,
          7,
          7,
          21,
          25,
          24,
          9,
          5,
          5,
          9,
          5,
          6,
          6,
          6,
          7,
          7,
          16,
          18,
          8,
          8,
          5,
          26,
          8,
          9,
          11,
          13,
          13,
          18,
          27,
          19,
          12,
          12,
          12,
          12,
          12,
          14,
          22,
          15,
          8,
          11,
          12,
          24,
          24,
          1,
          2,
          5.5,
          6,
          12,
          19,
          19,
          18,
          17,
          7,
          5,
          5,
          14,
          4,
          4,
          7,
          19,
          8,
          19,
          16,
          16,
          34,
          26,
          12,
          41,
          41,
          41,
          15,
          15,
          13,
          13,
          15,
          27,
          31,
          31,
          30,
          30,
          14,
          30,
          8,
          32,
          10,
          17,
          27,
          27,
          6,
          34,
          7,
          3,
          3,
          4,
          7,
          3,
          26,
          32,
          38,
          32,
          38,
          26,
          52,
          29,
          19,
          19,
          6,
          5,
          12,
          18,
          20,
          18,
          24,
          29,
          6,
          6,
          8,
          51,
          8,
          7,
          14,
          30,
          19,
          4,
          7,
          12,
          22,
          3,
          14,
          36,
          36,
          3,
          3,
          3,
          17,
          14,
          41,
          14,
          15,
          21,
          13,
          21,
          12,
          32,
          33,
          3,
          6,
          5,
          5,
          3,
          6,
          6,
          5,
          6,
          33,
          16,
          3,
          3,
          31,
          32,
          31,
          18,
          8,
          10,
          9,
          9,
          23,
          14,
          18,
          14,
          16,
          9,
          27,
          6,
          6,
          3,
          29,
          15,
          15,
          15,
          14,
          21,
          27,
          17,
          3,
          26,
          24,
          5,
          22,
          6,
          6,
          16,
          33,
          24,
          6,
          16,
          31,
          6,
          9,
          6,
          16,
          17,
          50,
          22,
          12,
          8,
          5,
          5,
          26,
          5,
          26,
          26,
          48,
          11,
          11,
          41,
          6,
          6,
          6,
          15,
          21,
          23,
          4,
          19,
          23,
          4,
          8,
          8,
          5,
          6,
          20,
          10,
          43,
          8,
          25,
          17,
          17,
          33,
          9,
          8,
          15,
          11,
          7,
          11,
          15,
          72,
          22,
          24,
          24,
          12,
          15,
          15,
          26,
          16,
          16,
          13,
          21,
          26,
          24,
          17,
          13,
          3,
          13,
          28,
          28,
          9,
          17,
          17,
          25,
          14,
          25,
          15,
          11,
          15,
          20,
          4,
          12,
          20,
          24,
          17,
          16,
          10,
          17,
          18,
          16,
          18,
          18,
          18,
          18,
          17,
          17,
          6,
          19,
          13,
          13,
          13,
          17,
          13,
          10,
          8,
          27,
          6,
          6,
          10,
          9,
          16,
          5,
          23,
          10,
          11,
          11,
          15,
          3,
          10,
          6,
          12,
          8,
          40,
          40,
          5,
          8,
          8,
          39,
          8,
          8,
          23,
          13,
          3,
          55,
          55,
          31,
          19,
          31,
          19,
          7,
          9,
          38,
          34,
          14,
          14,
          23,
          4,
          8,
          15,
          7,
          7,
          7,
          6,
          5,
          6,
          5,
          17,
          26,
          11,
          17,
          16,
          16,
          29,
          29,
          22,
          18,
          15,
          21,
          42,
          9,
          18,
          15,
          24,
          20,
          11,
          29,
          14,
          16,
          32,
          15,
          15,
          26,
          24,
          15,
          19,
          15,
          15,
          23,
          12,
          16,
          13,
          13,
          9,
          22,
          34,
          18,
          34,
          26,
          16,
          29,
          28,
          39,
          29,
          18
         ],
         "xaxis": "x5",
         "yaxis": "y5"
        },
        {
         "alignmentgroup": "True",
         "bingroup": "x",
         "histnorm": "probability",
         "hovertemplate": "quality=7<br>free_sulfur_dioxide=%{x}<br>probability=%{y}<extra></extra>",
         "legendgroup": "7",
         "marker": {
          "color": "#00cc96",
          "pattern": {
           "shape": ""
          }
         },
         "name": "7",
         "offsetgroup": "7",
         "orientation": "v",
         "showlegend": true,
         "type": "histogram",
         "x": [
          15,
          9,
          35,
          13,
          12,
          3,
          13,
          9,
          9,
          9,
          7,
          19,
          10,
          10,
          14,
          6,
          10,
          5,
          10,
          20,
          20,
          21,
          21,
          6,
          17,
          7,
          12,
          17,
          12,
          10,
          7,
          7,
          6,
          6,
          6,
          16,
          7,
          12,
          6,
          35,
          32,
          6,
          32,
          6,
          6,
          11,
          5,
          5,
          5,
          35,
          12,
          13,
          38,
          38,
          6,
          6,
          10,
          6,
          23,
          6,
          6,
          5,
          10,
          54,
          16,
          5,
          10,
          7,
          5,
          10,
          23,
          21,
          14,
          4,
          4,
          4,
          16,
          4,
          36,
          36,
          9,
          9,
          10,
          16,
          17,
          6,
          6,
          7,
          29,
          17,
          17,
          16,
          16,
          11,
          11,
          3,
          53,
          10,
          23,
          13,
          9,
          13,
          10,
          11,
          7,
          11,
          6,
          10,
          10,
          10,
          6,
          6,
          5,
          25,
          6,
          6,
          7,
          9,
          3,
          3,
          3,
          6,
          31,
          13,
          4,
          4,
          13,
          12,
          12,
          7,
          12,
          12,
          12,
          9,
          9,
          5,
          26,
          25,
          18,
          9,
          3,
          30,
          3,
          13,
          3,
          3,
          19,
          45,
          37.5,
          37.5,
          3,
          22,
          22,
          11,
          5,
          10,
          23,
          13,
          18,
          10,
          6,
          6,
          4,
          45,
          16,
          6,
          12,
          29,
          6,
          11,
          5,
          24,
          24,
          24,
          24,
          14,
          18,
          3,
          21,
          13,
          18,
          35,
          21,
          11,
          15,
          15,
          8,
          37,
          7,
          31,
          31,
          16,
          16,
          15,
          13,
          19,
          12,
          15,
          24
         ],
         "xaxis": "x4",
         "yaxis": "y4"
        },
        {
         "alignmentgroup": "True",
         "bingroup": "x",
         "histnorm": "probability",
         "hovertemplate": "quality=4<br>free_sulfur_dioxide=%{x}<br>probability=%{y}<extra></extra>",
         "legendgroup": "4",
         "marker": {
          "color": "#ab63fa",
          "pattern": {
           "shape": ""
          }
         },
         "name": "4",
         "offsetgroup": "4",
         "orientation": "v",
         "showlegend": true,
         "type": "histogram",
         "x": [
          6,
          7,
          17,
          8,
          11,
          27,
          41,
          32,
          9,
          17,
          4,
          12,
          15,
          12,
          26,
          26,
          14,
          6,
          7,
          11,
          5,
          5,
          22,
          4,
          5,
          4,
          5,
          36,
          28,
          7,
          11,
          6,
          3,
          23,
          5,
          14,
          6,
          12,
          11,
          17,
          13,
          3,
          6,
          15,
          11,
          4,
          14,
          6,
          19,
          6,
          3,
          4,
          9
         ],
         "xaxis": "x3",
         "yaxis": "y3"
        },
        {
         "alignmentgroup": "True",
         "bingroup": "x",
         "histnorm": "probability",
         "hovertemplate": "quality=8<br>free_sulfur_dioxide=%{x}<br>probability=%{y}<extra></extra>",
         "legendgroup": "8",
         "marker": {
          "color": "#FFA15A",
          "pattern": {
           "shape": ""
          }
         },
         "name": "8",
         "offsetgroup": "8",
         "orientation": "v",
         "showlegend": true,
         "type": "histogram",
         "x": [
          15,
          5,
          12,
          6,
          6,
          6,
          5,
          5,
          19,
          34,
          7,
          42,
          8,
          6,
          28,
          3,
          15,
          17
         ],
         "xaxis": "x2",
         "yaxis": "y2"
        },
        {
         "alignmentgroup": "True",
         "bingroup": "x",
         "histnorm": "probability",
         "hovertemplate": "quality=3<br>free_sulfur_dioxide=%{x}<br>probability=%{y}<extra></extra>",
         "legendgroup": "3",
         "marker": {
          "color": "#19d3f3",
          "pattern": {
           "shape": ""
          }
         },
         "name": "3",
         "offsetgroup": "3",
         "orientation": "v",
         "showlegend": true,
         "type": "histogram",
         "x": [
          10,
          5,
          5,
          34,
          6,
          5,
          16,
          20,
          3,
          6
         ],
         "xaxis": "x",
         "yaxis": "y"
        }
       ],
       "layout": {
        "annotations": [
         {
          "font": {},
          "showarrow": false,
          "text": "quality=3",
          "textangle": 90,
          "x": 0.98,
          "xanchor": "left",
          "xref": "paper",
          "y": 0.07083333333333333,
          "yanchor": "middle",
          "yref": "paper"
         },
         {
          "font": {},
          "showarrow": false,
          "text": "quality=8",
          "textangle": 90,
          "x": 0.98,
          "xanchor": "left",
          "xref": "paper",
          "y": 0.2425,
          "yanchor": "middle",
          "yref": "paper"
         },
         {
          "font": {},
          "showarrow": false,
          "text": "quality=4",
          "textangle": 90,
          "x": 0.98,
          "xanchor": "left",
          "xref": "paper",
          "y": 0.4141666666666667,
          "yanchor": "middle",
          "yref": "paper"
         },
         {
          "font": {},
          "showarrow": false,
          "text": "quality=7",
          "textangle": 90,
          "x": 0.98,
          "xanchor": "left",
          "xref": "paper",
          "y": 0.5858333333333334,
          "yanchor": "middle",
          "yref": "paper"
         },
         {
          "font": {},
          "showarrow": false,
          "text": "quality=6",
          "textangle": 90,
          "x": 0.98,
          "xanchor": "left",
          "xref": "paper",
          "y": 0.7575000000000001,
          "yanchor": "middle",
          "yref": "paper"
         },
         {
          "font": {},
          "showarrow": false,
          "text": "quality=5",
          "textangle": 90,
          "x": 0.98,
          "xanchor": "left",
          "xref": "paper",
          "y": 0.9291666666666667,
          "yanchor": "middle",
          "yref": "paper"
         }
        ],
        "barmode": "relative",
        "legend": {
         "title": {
          "text": "quality"
         },
         "tracegroupgap": 0
        },
        "margin": {
         "t": 60
        },
        "template": {
         "data": {
          "bar": [
           {
            "error_x": {
             "color": "#2a3f5f"
            },
            "error_y": {
             "color": "#2a3f5f"
            },
            "marker": {
             "line": {
              "color": "#E5ECF6",
              "width": 0.5
             },
             "pattern": {
              "fillmode": "overlay",
              "size": 10,
              "solidity": 0.2
             }
            },
            "type": "bar"
           }
          ],
          "barpolar": [
           {
            "marker": {
             "line": {
              "color": "#E5ECF6",
              "width": 0.5
             },
             "pattern": {
              "fillmode": "overlay",
              "size": 10,
              "solidity": 0.2
             }
            },
            "type": "barpolar"
           }
          ],
          "carpet": [
           {
            "aaxis": {
             "endlinecolor": "#2a3f5f",
             "gridcolor": "white",
             "linecolor": "white",
             "minorgridcolor": "white",
             "startlinecolor": "#2a3f5f"
            },
            "baxis": {
             "endlinecolor": "#2a3f5f",
             "gridcolor": "white",
             "linecolor": "white",
             "minorgridcolor": "white",
             "startlinecolor": "#2a3f5f"
            },
            "type": "carpet"
           }
          ],
          "choropleth": [
           {
            "colorbar": {
             "outlinewidth": 0,
             "ticks": ""
            },
            "type": "choropleth"
           }
          ],
          "contour": [
           {
            "colorbar": {
             "outlinewidth": 0,
             "ticks": ""
            },
            "colorscale": [
             [
              0,
              "#0d0887"
             ],
             [
              0.1111111111111111,
              "#46039f"
             ],
             [
              0.2222222222222222,
              "#7201a8"
             ],
             [
              0.3333333333333333,
              "#9c179e"
             ],
             [
              0.4444444444444444,
              "#bd3786"
             ],
             [
              0.5555555555555556,
              "#d8576b"
             ],
             [
              0.6666666666666666,
              "#ed7953"
             ],
             [
              0.7777777777777778,
              "#fb9f3a"
             ],
             [
              0.8888888888888888,
              "#fdca26"
             ],
             [
              1,
              "#f0f921"
             ]
            ],
            "type": "contour"
           }
          ],
          "contourcarpet": [
           {
            "colorbar": {
             "outlinewidth": 0,
             "ticks": ""
            },
            "type": "contourcarpet"
           }
          ],
          "heatmap": [
           {
            "colorbar": {
             "outlinewidth": 0,
             "ticks": ""
            },
            "colorscale": [
             [
              0,
              "#0d0887"
             ],
             [
              0.1111111111111111,
              "#46039f"
             ],
             [
              0.2222222222222222,
              "#7201a8"
             ],
             [
              0.3333333333333333,
              "#9c179e"
             ],
             [
              0.4444444444444444,
              "#bd3786"
             ],
             [
              0.5555555555555556,
              "#d8576b"
             ],
             [
              0.6666666666666666,
              "#ed7953"
             ],
             [
              0.7777777777777778,
              "#fb9f3a"
             ],
             [
              0.8888888888888888,
              "#fdca26"
             ],
             [
              1,
              "#f0f921"
             ]
            ],
            "type": "heatmap"
           }
          ],
          "heatmapgl": [
           {
            "colorbar": {
             "outlinewidth": 0,
             "ticks": ""
            },
            "colorscale": [
             [
              0,
              "#0d0887"
             ],
             [
              0.1111111111111111,
              "#46039f"
             ],
             [
              0.2222222222222222,
              "#7201a8"
             ],
             [
              0.3333333333333333,
              "#9c179e"
             ],
             [
              0.4444444444444444,
              "#bd3786"
             ],
             [
              0.5555555555555556,
              "#d8576b"
             ],
             [
              0.6666666666666666,
              "#ed7953"
             ],
             [
              0.7777777777777778,
              "#fb9f3a"
             ],
             [
              0.8888888888888888,
              "#fdca26"
             ],
             [
              1,
              "#f0f921"
             ]
            ],
            "type": "heatmapgl"
           }
          ],
          "histogram": [
           {
            "marker": {
             "pattern": {
              "fillmode": "overlay",
              "size": 10,
              "solidity": 0.2
             }
            },
            "type": "histogram"
           }
          ],
          "histogram2d": [
           {
            "colorbar": {
             "outlinewidth": 0,
             "ticks": ""
            },
            "colorscale": [
             [
              0,
              "#0d0887"
             ],
             [
              0.1111111111111111,
              "#46039f"
             ],
             [
              0.2222222222222222,
              "#7201a8"
             ],
             [
              0.3333333333333333,
              "#9c179e"
             ],
             [
              0.4444444444444444,
              "#bd3786"
             ],
             [
              0.5555555555555556,
              "#d8576b"
             ],
             [
              0.6666666666666666,
              "#ed7953"
             ],
             [
              0.7777777777777778,
              "#fb9f3a"
             ],
             [
              0.8888888888888888,
              "#fdca26"
             ],
             [
              1,
              "#f0f921"
             ]
            ],
            "type": "histogram2d"
           }
          ],
          "histogram2dcontour": [
           {
            "colorbar": {
             "outlinewidth": 0,
             "ticks": ""
            },
            "colorscale": [
             [
              0,
              "#0d0887"
             ],
             [
              0.1111111111111111,
              "#46039f"
             ],
             [
              0.2222222222222222,
              "#7201a8"
             ],
             [
              0.3333333333333333,
              "#9c179e"
             ],
             [
              0.4444444444444444,
              "#bd3786"
             ],
             [
              0.5555555555555556,
              "#d8576b"
             ],
             [
              0.6666666666666666,
              "#ed7953"
             ],
             [
              0.7777777777777778,
              "#fb9f3a"
             ],
             [
              0.8888888888888888,
              "#fdca26"
             ],
             [
              1,
              "#f0f921"
             ]
            ],
            "type": "histogram2dcontour"
           }
          ],
          "mesh3d": [
           {
            "colorbar": {
             "outlinewidth": 0,
             "ticks": ""
            },
            "type": "mesh3d"
           }
          ],
          "parcoords": [
           {
            "line": {
             "colorbar": {
              "outlinewidth": 0,
              "ticks": ""
             }
            },
            "type": "parcoords"
           }
          ],
          "pie": [
           {
            "automargin": true,
            "type": "pie"
           }
          ],
          "scatter": [
           {
            "fillpattern": {
             "fillmode": "overlay",
             "size": 10,
             "solidity": 0.2
            },
            "type": "scatter"
           }
          ],
          "scatter3d": [
           {
            "line": {
             "colorbar": {
              "outlinewidth": 0,
              "ticks": ""
             }
            },
            "marker": {
             "colorbar": {
              "outlinewidth": 0,
              "ticks": ""
             }
            },
            "type": "scatter3d"
           }
          ],
          "scattercarpet": [
           {
            "marker": {
             "colorbar": {
              "outlinewidth": 0,
              "ticks": ""
             }
            },
            "type": "scattercarpet"
           }
          ],
          "scattergeo": [
           {
            "marker": {
             "colorbar": {
              "outlinewidth": 0,
              "ticks": ""
             }
            },
            "type": "scattergeo"
           }
          ],
          "scattergl": [
           {
            "marker": {
             "colorbar": {
              "outlinewidth": 0,
              "ticks": ""
             }
            },
            "type": "scattergl"
           }
          ],
          "scattermapbox": [
           {
            "marker": {
             "colorbar": {
              "outlinewidth": 0,
              "ticks": ""
             }
            },
            "type": "scattermapbox"
           }
          ],
          "scatterpolar": [
           {
            "marker": {
             "colorbar": {
              "outlinewidth": 0,
              "ticks": ""
             }
            },
            "type": "scatterpolar"
           }
          ],
          "scatterpolargl": [
           {
            "marker": {
             "colorbar": {
              "outlinewidth": 0,
              "ticks": ""
             }
            },
            "type": "scatterpolargl"
           }
          ],
          "scatterternary": [
           {
            "marker": {
             "colorbar": {
              "outlinewidth": 0,
              "ticks": ""
             }
            },
            "type": "scatterternary"
           }
          ],
          "surface": [
           {
            "colorbar": {
             "outlinewidth": 0,
             "ticks": ""
            },
            "colorscale": [
             [
              0,
              "#0d0887"
             ],
             [
              0.1111111111111111,
              "#46039f"
             ],
             [
              0.2222222222222222,
              "#7201a8"
             ],
             [
              0.3333333333333333,
              "#9c179e"
             ],
             [
              0.4444444444444444,
              "#bd3786"
             ],
             [
              0.5555555555555556,
              "#d8576b"
             ],
             [
              0.6666666666666666,
              "#ed7953"
             ],
             [
              0.7777777777777778,
              "#fb9f3a"
             ],
             [
              0.8888888888888888,
              "#fdca26"
             ],
             [
              1,
              "#f0f921"
             ]
            ],
            "type": "surface"
           }
          ],
          "table": [
           {
            "cells": {
             "fill": {
              "color": "#EBF0F8"
             },
             "line": {
              "color": "white"
             }
            },
            "header": {
             "fill": {
              "color": "#C8D4E3"
             },
             "line": {
              "color": "white"
             }
            },
            "type": "table"
           }
          ]
         },
         "layout": {
          "annotationdefaults": {
           "arrowcolor": "#2a3f5f",
           "arrowhead": 0,
           "arrowwidth": 1
          },
          "autotypenumbers": "strict",
          "coloraxis": {
           "colorbar": {
            "outlinewidth": 0,
            "ticks": ""
           }
          },
          "colorscale": {
           "diverging": [
            [
             0,
             "#8e0152"
            ],
            [
             0.1,
             "#c51b7d"
            ],
            [
             0.2,
             "#de77ae"
            ],
            [
             0.3,
             "#f1b6da"
            ],
            [
             0.4,
             "#fde0ef"
            ],
            [
             0.5,
             "#f7f7f7"
            ],
            [
             0.6,
             "#e6f5d0"
            ],
            [
             0.7,
             "#b8e186"
            ],
            [
             0.8,
             "#7fbc41"
            ],
            [
             0.9,
             "#4d9221"
            ],
            [
             1,
             "#276419"
            ]
           ],
           "sequential": [
            [
             0,
             "#0d0887"
            ],
            [
             0.1111111111111111,
             "#46039f"
            ],
            [
             0.2222222222222222,
             "#7201a8"
            ],
            [
             0.3333333333333333,
             "#9c179e"
            ],
            [
             0.4444444444444444,
             "#bd3786"
            ],
            [
             0.5555555555555556,
             "#d8576b"
            ],
            [
             0.6666666666666666,
             "#ed7953"
            ],
            [
             0.7777777777777778,
             "#fb9f3a"
            ],
            [
             0.8888888888888888,
             "#fdca26"
            ],
            [
             1,
             "#f0f921"
            ]
           ],
           "sequentialminus": [
            [
             0,
             "#0d0887"
            ],
            [
             0.1111111111111111,
             "#46039f"
            ],
            [
             0.2222222222222222,
             "#7201a8"
            ],
            [
             0.3333333333333333,
             "#9c179e"
            ],
            [
             0.4444444444444444,
             "#bd3786"
            ],
            [
             0.5555555555555556,
             "#d8576b"
            ],
            [
             0.6666666666666666,
             "#ed7953"
            ],
            [
             0.7777777777777778,
             "#fb9f3a"
            ],
            [
             0.8888888888888888,
             "#fdca26"
            ],
            [
             1,
             "#f0f921"
            ]
           ]
          },
          "colorway": [
           "#636efa",
           "#EF553B",
           "#00cc96",
           "#ab63fa",
           "#FFA15A",
           "#19d3f3",
           "#FF6692",
           "#B6E880",
           "#FF97FF",
           "#FECB52"
          ],
          "font": {
           "color": "#2a3f5f"
          },
          "geo": {
           "bgcolor": "white",
           "lakecolor": "white",
           "landcolor": "#E5ECF6",
           "showlakes": true,
           "showland": true,
           "subunitcolor": "white"
          },
          "hoverlabel": {
           "align": "left"
          },
          "hovermode": "closest",
          "mapbox": {
           "style": "light"
          },
          "paper_bgcolor": "white",
          "plot_bgcolor": "#E5ECF6",
          "polar": {
           "angularaxis": {
            "gridcolor": "white",
            "linecolor": "white",
            "ticks": ""
           },
           "bgcolor": "#E5ECF6",
           "radialaxis": {
            "gridcolor": "white",
            "linecolor": "white",
            "ticks": ""
           }
          },
          "scene": {
           "xaxis": {
            "backgroundcolor": "#E5ECF6",
            "gridcolor": "white",
            "gridwidth": 2,
            "linecolor": "white",
            "showbackground": true,
            "ticks": "",
            "zerolinecolor": "white"
           },
           "yaxis": {
            "backgroundcolor": "#E5ECF6",
            "gridcolor": "white",
            "gridwidth": 2,
            "linecolor": "white",
            "showbackground": true,
            "ticks": "",
            "zerolinecolor": "white"
           },
           "zaxis": {
            "backgroundcolor": "#E5ECF6",
            "gridcolor": "white",
            "gridwidth": 2,
            "linecolor": "white",
            "showbackground": true,
            "ticks": "",
            "zerolinecolor": "white"
           }
          },
          "shapedefaults": {
           "line": {
            "color": "#2a3f5f"
           }
          },
          "ternary": {
           "aaxis": {
            "gridcolor": "white",
            "linecolor": "white",
            "ticks": ""
           },
           "baxis": {
            "gridcolor": "white",
            "linecolor": "white",
            "ticks": ""
           },
           "bgcolor": "#E5ECF6",
           "caxis": {
            "gridcolor": "white",
            "linecolor": "white",
            "ticks": ""
           }
          },
          "title": {
           "x": 0.05
          },
          "xaxis": {
           "automargin": true,
           "gridcolor": "white",
           "linecolor": "white",
           "ticks": "",
           "title": {
            "standoff": 15
           },
           "zerolinecolor": "white",
           "zerolinewidth": 2
          },
          "yaxis": {
           "automargin": true,
           "gridcolor": "white",
           "linecolor": "white",
           "ticks": "",
           "title": {
            "standoff": 15
           },
           "zerolinecolor": "white",
           "zerolinewidth": 2
          }
         }
        },
        "width": 1500,
        "xaxis": {
         "anchor": "y",
         "domain": [
          0,
          0.98
         ],
         "title": {
          "text": "free_sulfur_dioxide"
         }
        },
        "xaxis2": {
         "anchor": "y2",
         "domain": [
          0,
          0.98
         ],
         "matches": "x",
         "showticklabels": false
        },
        "xaxis3": {
         "anchor": "y3",
         "domain": [
          0,
          0.98
         ],
         "matches": "x",
         "showticklabels": false
        },
        "xaxis4": {
         "anchor": "y4",
         "domain": [
          0,
          0.98
         ],
         "matches": "x",
         "showticklabels": false
        },
        "xaxis5": {
         "anchor": "y5",
         "domain": [
          0,
          0.98
         ],
         "matches": "x",
         "showticklabels": false
        },
        "xaxis6": {
         "anchor": "y6",
         "domain": [
          0,
          0.98
         ],
         "matches": "x",
         "showticklabels": false
        },
        "yaxis": {
         "anchor": "x",
         "domain": [
          0,
          0.14166666666666666
         ],
         "title": {
          "text": "probability"
         }
        },
        "yaxis2": {
         "anchor": "x2",
         "domain": [
          0.17166666666666666,
          0.31333333333333335
         ],
         "matches": "y",
         "title": {
          "text": "probability"
         }
        },
        "yaxis3": {
         "anchor": "x3",
         "domain": [
          0.3433333333333333,
          0.485
         ],
         "matches": "y",
         "title": {
          "text": "probability"
         }
        },
        "yaxis4": {
         "anchor": "x4",
         "domain": [
          0.515,
          0.6566666666666667
         ],
         "matches": "y",
         "title": {
          "text": "probability"
         }
        },
        "yaxis5": {
         "anchor": "x5",
         "domain": [
          0.6866666666666666,
          0.8283333333333334
         ],
         "matches": "y",
         "title": {
          "text": "probability"
         }
        },
        "yaxis6": {
         "anchor": "x6",
         "domain": [
          0.8583333333333333,
          1
         ],
         "matches": "y",
         "title": {
          "text": "probability"
         }
        }
       }
      }
     },
     "metadata": {},
     "output_type": "display_data"
    },
    {
     "data": {
      "application/vnd.plotly.v1+json": {
       "config": {
        "plotlyServerURL": "https://plot.ly"
       },
       "data": [
        {
         "alignmentgroup": "True",
         "bingroup": "x",
         "histnorm": "probability",
         "hovertemplate": "quality=5<br>total_sulfur_dioxide=%{x}<br>probability=%{y}<extra></extra>",
         "legendgroup": "5",
         "marker": {
          "color": "#636efa",
          "pattern": {
           "shape": ""
          }
         },
         "name": "5",
         "offsetgroup": "5",
         "orientation": "v",
         "showlegend": true,
         "type": "histogram",
         "x": [
          34,
          67,
          54,
          34,
          40,
          59,
          102,
          65,
          102,
          59,
          29,
          145,
          148,
          56,
          71,
          37,
          67,
          23,
          11,
          37,
          35,
          82,
          113,
          50,
          87,
          87,
          23,
          11,
          114,
          37,
          12,
          96,
          23,
          119,
          45,
          10,
          110,
          54,
          52,
          112,
          54,
          11,
          11,
          39,
          15,
          65,
          96,
          94,
          83,
          42,
          42,
          80,
          15,
          67,
          73,
          51,
          40,
          31,
          125,
          24,
          140,
          133,
          31,
          23,
          22,
          10,
          65,
          36,
          65,
          69,
          64,
          153,
          47,
          108,
          111,
          47,
          89,
          13,
          34,
          102,
          90,
          12,
          12,
          19,
          134,
          99,
          99,
          63,
          52,
          45,
          105,
          108,
          63,
          52,
          20,
          141,
          94,
          88,
          99,
          99,
          129,
          128,
          129,
          128,
          22,
          20,
          121,
          121,
          96,
          101,
          63,
          35,
          49,
          35,
          20,
          42,
          42,
          110,
          42,
          65,
          85,
          67,
          26,
          143,
          144,
          127,
          126,
          28,
          28,
          120,
          55,
          145,
          49,
          39,
          120,
          95,
          65,
          121,
          49,
          41,
          44,
          144,
          72,
          10,
          23,
          37,
          37,
          62,
          51,
          73,
          21,
          86,
          119,
          13,
          56,
          45,
          45,
          35,
          49,
          27,
          65,
          38,
          94,
          53,
          71,
          71,
          98,
          18,
          27,
          70,
          29,
          31,
          33,
          28,
          21,
          90,
          54,
          135,
          72,
          92,
          87,
          18,
          13,
          15,
          44,
          58,
          63,
          19,
          77,
          55,
          81,
          37,
          15,
          24,
          75,
          63,
          72,
          54,
          26,
          95,
          25,
          124,
          42,
          124,
          27,
          78,
          77,
          122,
          134,
          124,
          52,
          60,
          60,
          30,
          66,
          18,
          18,
          50,
          72,
          16,
          67,
          22,
          65,
          19,
          25,
          129,
          26,
          48,
          47,
          14,
          28,
          16,
          28,
          23,
          18,
          18,
          17,
          17,
          113,
          43,
          151,
          106,
          43,
          133,
          142,
          116,
          53,
          106,
          33,
          42,
          42,
          33,
          17,
          47,
          20,
          106,
          96,
          23,
          23,
          23,
          19,
          121,
          110,
          19,
          28,
          111,
          110,
          14,
          14,
          15,
          102,
          75,
          75,
          43,
          38,
          109,
          14,
          57,
          16,
          29,
          71,
          71,
          17,
          16,
          112,
          104,
          32,
          58,
          58,
          15,
          15,
          84,
          19,
          102,
          33,
          147,
          145,
          40,
          68,
          40,
          68,
          40,
          20,
          32,
          155,
          71,
          29,
          53,
          32,
          42,
          54,
          48,
          31,
          45,
          13,
          151,
          13,
          31,
          31,
          87,
          49,
          40,
          58,
          15,
          152,
          15,
          40,
          38,
          9,
          17,
          93,
          62,
          122,
          125,
          72,
          54,
          19,
          37,
          84,
          112,
          33,
          48,
          77,
          48,
          49,
          22,
          45,
          22,
          106,
          48,
          127,
          13,
          11,
          11,
          37,
          14,
          19,
          72,
          39,
          22,
          22,
          104,
          38,
          139,
          18,
          101,
          101,
          68,
          40,
          40,
          66,
          40,
          31,
          31,
          88,
          104,
          35,
          35,
          74,
          98,
          32,
          143,
          144,
          16,
          34,
          92,
          37,
          96,
          37,
          85,
          61,
          61,
          119,
          130,
          13,
          60,
          64,
          108,
          17,
          12,
          14,
          38,
          38,
          47,
          59,
          22,
          36,
          36,
          16,
          37,
          37,
          23,
          55,
          26,
          31,
          92,
          31,
          31,
          31,
          32,
          22,
          22,
          122,
          85,
          25,
          84,
          85,
          86,
          46,
          88,
          21,
          88,
          30,
          99,
          52,
          86,
          86,
          39,
          115,
          78,
          62,
          23,
          28,
          28,
          25,
          38,
          38,
          25,
          11,
          23,
          32,
          18,
          16,
          113,
          22,
          12,
          72,
          72,
          119,
          6,
          28,
          6,
          70,
          27,
          27,
          68,
          68,
          88,
          45,
          55,
          32,
          23,
          9,
          52,
          14,
          56,
          32,
          51,
          51,
          45,
          25,
          90,
          52,
          92,
          92,
          8,
          8,
          64,
          20,
          18,
          18,
          49,
          13,
          15,
          89,
          135,
          94,
          70,
          38,
          38,
          37,
          21,
          21,
          38,
          60,
          78,
          11,
          61,
          119,
          12,
          119,
          12,
          12,
          76,
          52,
          53,
          77,
          46,
          21,
          66,
          90,
          66,
          60,
          65,
          86,
          34,
          48,
          34,
          60,
          14,
          13,
          35,
          46,
          60,
          56,
          66,
          44,
          44,
          36,
          47,
          7,
          110,
          110,
          12,
          77.5,
          77.5,
          68,
          68,
          88,
          91,
          91,
          63,
          88,
          41,
          88,
          18,
          38,
          67,
          48,
          11,
          26,
          26,
          26,
          20,
          13,
          12,
          12,
          41,
          73,
          57,
          57,
          28,
          32,
          28,
          98,
          38,
          54,
          42,
          45,
          66,
          66,
          89,
          100,
          31,
          25,
          105,
          105,
          84,
          85,
          23,
          23,
          49,
          111,
          33,
          12,
          59,
          73,
          11,
          104,
          141,
          141,
          89,
          15,
          18,
          15,
          19,
          133,
          19,
          58,
          23,
          55,
          67,
          47,
          90,
          39,
          8,
          30,
          22,
          30,
          39,
          54,
          85,
          85,
          20,
          53,
          53,
          24,
          16,
          45,
          82,
          82,
          22,
          22,
          12,
          25,
          23,
          17,
          13,
          13,
          18,
          147,
          147,
          15,
          64,
          60,
          20,
          27,
          58,
          20,
          27,
          58,
          61,
          34,
          28,
          84,
          26,
          60,
          26,
          26,
          50,
          26,
          27,
          28,
          20,
          115,
          131,
          131,
          131,
          20,
          20,
          20,
          20,
          42,
          104,
          32,
          32,
          27,
          98,
          79,
          44,
          44
         ],
         "xaxis": "x6",
         "yaxis": "y6"
        },
        {
         "alignmentgroup": "True",
         "bingroup": "x",
         "histnorm": "probability",
         "hovertemplate": "quality=6<br>total_sulfur_dioxide=%{x}<br>probability=%{y}<extra></extra>",
         "legendgroup": "6",
         "marker": {
          "color": "#EF553B",
          "pattern": {
           "shape": ""
          }
         },
         "name": "6",
         "offsetgroup": "6",
         "orientation": "v",
         "showlegend": true,
         "type": "histogram",
         "x": [
          60,
          56,
          60,
          40,
          16,
          37,
          83,
          18,
          15,
          14,
          15,
          14,
          73,
          46,
          19,
          27,
          30,
          61,
          136,
          136,
          106,
          35,
          50,
          22,
          35,
          80,
          46,
          62,
          40,
          28,
          56,
          89,
          56,
          26,
          29,
          63,
          63,
          30,
          43,
          11,
          86,
          31,
          44,
          18,
          18,
          42,
          38,
          62,
          49,
          27,
          37,
          19,
          62,
          15,
          41,
          58,
          28,
          63,
          81,
          63,
          49,
          58,
          37,
          38,
          38,
          39,
          38,
          37,
          24,
          109,
          23,
          39,
          23,
          37,
          34,
          34,
          27,
          23,
          61,
          23,
          61,
          27,
          23,
          19,
          49,
          53,
          48,
          16,
          53,
          44,
          15,
          25,
          14,
          12,
          30,
          25,
          105,
          98,
          53,
          74,
          74,
          73,
          50,
          50,
          21,
          41,
          41,
          114,
          16,
          99,
          21,
          18,
          14,
          14,
          32,
          15,
          46,
          28,
          34,
          26,
          165,
          32,
          41,
          50,
          21,
          25,
          46,
          47,
          47,
          24,
          60,
          27,
          43,
          27,
          27,
          37,
          48,
          42,
          53,
          43,
          49,
          49,
          38,
          64,
          41,
          25,
          28,
          16,
          86,
          20,
          20,
          48,
          32,
          35,
          24,
          54,
          62,
          22,
          54,
          27,
          31,
          27,
          35,
          35,
          26,
          35,
          23,
          15,
          51,
          18,
          21,
          52,
          68,
          24,
          20,
          31,
          24,
          14,
          26,
          56,
          81,
          91,
          38,
          81,
          38,
          13,
          62,
          62,
          49,
          14,
          32,
          33,
          85,
          55,
          28,
          33,
          32,
          28,
          13,
          17,
          53,
          15,
          28,
          21,
          69,
          25,
          25,
          45,
          44,
          17,
          17,
          47,
          60,
          47,
          15,
          15,
          20,
          42,
          37,
          42,
          78,
          46,
          40,
          38,
          149,
          24,
          18,
          30,
          22,
          35,
          35,
          63,
          24,
          52,
          65,
          39,
          29,
          103,
          28,
          45,
          31,
          31,
          43,
          57,
          148,
          30,
          20,
          20,
          27,
          13,
          16,
          15,
          15,
          17,
          17,
          29,
          44,
          25,
          25,
          19,
          88,
          25,
          23,
          35,
          33,
          34,
          49,
          58,
          58,
          16,
          28,
          57,
          31,
          28,
          32,
          47,
          33,
          19,
          44,
          48,
          94,
          94,
          44,
          45,
          48,
          18,
          45,
          58,
          58,
          82,
          87,
          26,
          14,
          14,
          46,
          18,
          15,
          24,
          41,
          30,
          27,
          24,
          24,
          68,
          42,
          39,
          55,
          55,
          55,
          24,
          88,
          24,
          22,
          24,
          43,
          43,
          43,
          69,
          35,
          26,
          69,
          28,
          64,
          18,
          88,
          43,
          43,
          9,
          61,
          11,
          11,
          9,
          8,
          11,
          6,
          45,
          79,
          46,
          79,
          46,
          45,
          73,
          66,
          72,
          72,
          11,
          10,
          51,
          38,
          27,
          38,
          48,
          46,
          10,
          10,
          17,
          70,
          17,
          11,
          21,
          47,
          41,
          10,
          12,
          19,
          31,
          7,
          27,
          109,
          109,
          8,
          8,
          9,
          43,
          36,
          68,
          27,
          48,
          39,
          26,
          39,
          53,
          38,
          45,
          14,
          17,
          77,
          77,
          8,
          15,
          17,
          10,
          20,
          75,
          37,
          8,
          8,
          70,
          59,
          70,
          30,
          19,
          16,
          17,
          17,
          36,
          25,
          30,
          25,
          25,
          17,
          66,
          14,
          35,
          10,
          80,
          21,
          21,
          21,
          24,
          28,
          33,
          29,
          11,
          52,
          70,
          10,
          50,
          13,
          13,
          86,
          79,
          71,
          12,
          20,
          51,
          21,
          21,
          11,
          70,
          38,
          63,
          54,
          21,
          44,
          14,
          12,
          44,
          16,
          65,
          65,
          59,
          47,
          47,
          54,
          39,
          39,
          20,
          64,
          56,
          94,
          9,
          77,
          94,
          9,
          15,
          15,
          13,
          9,
          29,
          79,
          74,
          24,
          50,
          44,
          44,
          89,
          23,
          20,
          58,
          18,
          17,
          18,
          40,
          160,
          36,
          37,
          37,
          69,
          33,
          33,
          51,
          36,
          36,
          19,
          51,
          60,
          64,
          36,
          81,
          10,
          81,
          54,
          54,
          22,
          69,
          31,
          60,
          28,
          60,
          29,
          18,
          28,
          57,
          15,
          27,
          65,
          69,
          91,
          46,
          41,
          91,
          64,
          46,
          34,
          34,
          34,
          34,
          91,
          91,
          25,
          40,
          31,
          31,
          31,
          31,
          31,
          28,
          46,
          67,
          28,
          28,
          31,
          105,
          74,
          14,
          74,
          28,
          35,
          35,
          33,
          12,
          24,
          24,
          46,
          22,
          54,
          54,
          16,
          19,
          22,
          55,
          23,
          23,
          60,
          74,
          11,
          95,
          95,
          92,
          98,
          92,
          98,
          23,
          17,
          89,
          64,
          31,
          39,
          44,
          11,
          18,
          28,
          16,
          13,
          16,
          14,
          12,
          14,
          12,
          25,
          48,
          17,
          65,
          65,
          65,
          44,
          44,
          47,
          38,
          24,
          59,
          52,
          18,
          22,
          35,
          45,
          31,
          32,
          38,
          19,
          28,
          54,
          23,
          23,
          42,
          52,
          34,
          35,
          25,
          50,
          92,
          20,
          29,
          27,
          20,
          26,
          48,
          60,
          28,
          102,
          35,
          26,
          40,
          38,
          51,
          40,
          42
         ],
         "xaxis": "x5",
         "yaxis": "y5"
        },
        {
         "alignmentgroup": "True",
         "bingroup": "x",
         "histnorm": "probability",
         "hovertemplate": "quality=7<br>total_sulfur_dioxide=%{x}<br>probability=%{y}<extra></extra>",
         "legendgroup": "7",
         "marker": {
          "color": "#00cc96",
          "pattern": {
           "shape": ""
          }
         },
         "name": "7",
         "offsetgroup": "7",
         "orientation": "v",
         "showlegend": true,
         "type": "histogram",
         "x": [
          21,
          18,
          103,
          30,
          35,
          16,
          93,
          24,
          28,
          28,
          19,
          106,
          24,
          24,
          33,
          10,
          47,
          10,
          47,
          49,
          49,
          59,
          59,
          14,
          38,
          21,
          29,
          34,
          29,
          23,
          42,
          42,
          18,
          15,
          18,
          49,
          38,
          30,
          19,
          67,
          48,
          24,
          48,
          24,
          43,
          19,
          27,
          22,
          22,
          67,
          25,
          27,
          76,
          76,
          24,
          22,
          26,
          21,
          43,
          15,
          15,
          35,
          21,
          80,
          47,
          13,
          20,
          23,
          11,
          28,
          42,
          42,
          86,
          10,
          10,
          10,
          42,
          8,
          100,
          100,
          28,
          34,
          14,
          47,
          32,
          10,
          10,
          16,
          56,
          43,
          43,
          33,
          33,
          18,
          18,
          10,
          77,
          19,
          42,
          25,
          17,
          52,
          45,
          24,
          20,
          24,
          12,
          21,
          21,
          21,
          12,
          10,
          9,
          36,
          10,
          13,
          13,
          29,
          7,
          11,
          11,
          12,
          47,
          27,
          8,
          8,
          27,
          25,
          24,
          12,
          28,
          18,
          18,
          14,
          15,
          17,
          35,
          42,
          39,
          20,
          10,
          52,
          10,
          26,
          10,
          10,
          37,
          67,
          278,
          289,
          9,
          41,
          41,
          31,
          16,
          24,
          55,
          27,
          38,
          18,
          15,
          14,
          12,
          88,
          101,
          20,
          19,
          48,
          11,
          41,
          10,
          44,
          44,
          44,
          44,
          24,
          88,
          9,
          55,
          28,
          34,
          53,
          37,
          25,
          28,
          28,
          17,
          53,
          15,
          54,
          54,
          89,
          89,
          28,
          29,
          49,
          19,
          24,
          34
         ],
         "xaxis": "x4",
         "yaxis": "y4"
        },
        {
         "alignmentgroup": "True",
         "bingroup": "x",
         "histnorm": "probability",
         "hovertemplate": "quality=4<br>total_sulfur_dioxide=%{x}<br>probability=%{y}<extra></extra>",
         "legendgroup": "4",
         "marker": {
          "color": "#ab63fa",
          "pattern": {
           "shape": ""
          }
         },
         "name": "4",
         "offsetgroup": "4",
         "orientation": "v",
         "showlegend": true,
         "type": "histogram",
         "x": [
          29,
          19,
          46,
          65,
          43,
          119,
          85,
          69,
          20,
          42,
          8,
          31,
          55,
          67,
          61,
          49,
          47,
          14,
          23,
          86,
          14,
          13,
          84,
          14,
          12,
          7,
          9,
          51,
          48,
          14,
          75,
          26,
          13,
          47,
          19,
          36,
          113,
          24,
          20,
          24,
          26,
          10,
          12,
          29,
          63,
          8,
          31,
          13,
          32,
          13,
          9,
          11,
          23
         ],
         "xaxis": "x3",
         "yaxis": "y3"
        },
        {
         "alignmentgroup": "True",
         "bingroup": "x",
         "histnorm": "probability",
         "hovertemplate": "quality=8<br>total_sulfur_dioxide=%{x}<br>probability=%{y}<extra></extra>",
         "legendgroup": "8",
         "marker": {
          "color": "#FFA15A",
          "pattern": {
           "shape": ""
          }
         },
         "name": "8",
         "offsetgroup": "8",
         "orientation": "v",
         "showlegend": true,
         "type": "histogram",
         "x": [
          37,
          13,
          88,
          29,
          19,
          17,
          16,
          16,
          50,
          45,
          16,
          74,
          17,
          12,
          87,
          13,
          29,
          24
         ],
         "xaxis": "x2",
         "yaxis": "y2"
        },
        {
         "alignmentgroup": "True",
         "bingroup": "x",
         "histnorm": "probability",
         "hovertemplate": "quality=3<br>total_sulfur_dioxide=%{x}<br>probability=%{y}<extra></extra>",
         "legendgroup": "3",
         "marker": {
          "color": "#19d3f3",
          "pattern": {
           "shape": ""
          }
         },
         "name": "3",
         "offsetgroup": "3",
         "orientation": "v",
         "showlegend": true,
         "type": "histogram",
         "x": [
          47,
          16,
          14,
          48,
          11,
          9,
          29,
          49,
          14,
          12
         ],
         "xaxis": "x",
         "yaxis": "y"
        }
       ],
       "layout": {
        "annotations": [
         {
          "font": {},
          "showarrow": false,
          "text": "quality=3",
          "textangle": 90,
          "x": 0.98,
          "xanchor": "left",
          "xref": "paper",
          "y": 0.07083333333333333,
          "yanchor": "middle",
          "yref": "paper"
         },
         {
          "font": {},
          "showarrow": false,
          "text": "quality=8",
          "textangle": 90,
          "x": 0.98,
          "xanchor": "left",
          "xref": "paper",
          "y": 0.2425,
          "yanchor": "middle",
          "yref": "paper"
         },
         {
          "font": {},
          "showarrow": false,
          "text": "quality=4",
          "textangle": 90,
          "x": 0.98,
          "xanchor": "left",
          "xref": "paper",
          "y": 0.4141666666666667,
          "yanchor": "middle",
          "yref": "paper"
         },
         {
          "font": {},
          "showarrow": false,
          "text": "quality=7",
          "textangle": 90,
          "x": 0.98,
          "xanchor": "left",
          "xref": "paper",
          "y": 0.5858333333333334,
          "yanchor": "middle",
          "yref": "paper"
         },
         {
          "font": {},
          "showarrow": false,
          "text": "quality=6",
          "textangle": 90,
          "x": 0.98,
          "xanchor": "left",
          "xref": "paper",
          "y": 0.7575000000000001,
          "yanchor": "middle",
          "yref": "paper"
         },
         {
          "font": {},
          "showarrow": false,
          "text": "quality=5",
          "textangle": 90,
          "x": 0.98,
          "xanchor": "left",
          "xref": "paper",
          "y": 0.9291666666666667,
          "yanchor": "middle",
          "yref": "paper"
         }
        ],
        "barmode": "relative",
        "legend": {
         "title": {
          "text": "quality"
         },
         "tracegroupgap": 0
        },
        "margin": {
         "t": 60
        },
        "template": {
         "data": {
          "bar": [
           {
            "error_x": {
             "color": "#2a3f5f"
            },
            "error_y": {
             "color": "#2a3f5f"
            },
            "marker": {
             "line": {
              "color": "#E5ECF6",
              "width": 0.5
             },
             "pattern": {
              "fillmode": "overlay",
              "size": 10,
              "solidity": 0.2
             }
            },
            "type": "bar"
           }
          ],
          "barpolar": [
           {
            "marker": {
             "line": {
              "color": "#E5ECF6",
              "width": 0.5
             },
             "pattern": {
              "fillmode": "overlay",
              "size": 10,
              "solidity": 0.2
             }
            },
            "type": "barpolar"
           }
          ],
          "carpet": [
           {
            "aaxis": {
             "endlinecolor": "#2a3f5f",
             "gridcolor": "white",
             "linecolor": "white",
             "minorgridcolor": "white",
             "startlinecolor": "#2a3f5f"
            },
            "baxis": {
             "endlinecolor": "#2a3f5f",
             "gridcolor": "white",
             "linecolor": "white",
             "minorgridcolor": "white",
             "startlinecolor": "#2a3f5f"
            },
            "type": "carpet"
           }
          ],
          "choropleth": [
           {
            "colorbar": {
             "outlinewidth": 0,
             "ticks": ""
            },
            "type": "choropleth"
           }
          ],
          "contour": [
           {
            "colorbar": {
             "outlinewidth": 0,
             "ticks": ""
            },
            "colorscale": [
             [
              0,
              "#0d0887"
             ],
             [
              0.1111111111111111,
              "#46039f"
             ],
             [
              0.2222222222222222,
              "#7201a8"
             ],
             [
              0.3333333333333333,
              "#9c179e"
             ],
             [
              0.4444444444444444,
              "#bd3786"
             ],
             [
              0.5555555555555556,
              "#d8576b"
             ],
             [
              0.6666666666666666,
              "#ed7953"
             ],
             [
              0.7777777777777778,
              "#fb9f3a"
             ],
             [
              0.8888888888888888,
              "#fdca26"
             ],
             [
              1,
              "#f0f921"
             ]
            ],
            "type": "contour"
           }
          ],
          "contourcarpet": [
           {
            "colorbar": {
             "outlinewidth": 0,
             "ticks": ""
            },
            "type": "contourcarpet"
           }
          ],
          "heatmap": [
           {
            "colorbar": {
             "outlinewidth": 0,
             "ticks": ""
            },
            "colorscale": [
             [
              0,
              "#0d0887"
             ],
             [
              0.1111111111111111,
              "#46039f"
             ],
             [
              0.2222222222222222,
              "#7201a8"
             ],
             [
              0.3333333333333333,
              "#9c179e"
             ],
             [
              0.4444444444444444,
              "#bd3786"
             ],
             [
              0.5555555555555556,
              "#d8576b"
             ],
             [
              0.6666666666666666,
              "#ed7953"
             ],
             [
              0.7777777777777778,
              "#fb9f3a"
             ],
             [
              0.8888888888888888,
              "#fdca26"
             ],
             [
              1,
              "#f0f921"
             ]
            ],
            "type": "heatmap"
           }
          ],
          "heatmapgl": [
           {
            "colorbar": {
             "outlinewidth": 0,
             "ticks": ""
            },
            "colorscale": [
             [
              0,
              "#0d0887"
             ],
             [
              0.1111111111111111,
              "#46039f"
             ],
             [
              0.2222222222222222,
              "#7201a8"
             ],
             [
              0.3333333333333333,
              "#9c179e"
             ],
             [
              0.4444444444444444,
              "#bd3786"
             ],
             [
              0.5555555555555556,
              "#d8576b"
             ],
             [
              0.6666666666666666,
              "#ed7953"
             ],
             [
              0.7777777777777778,
              "#fb9f3a"
             ],
             [
              0.8888888888888888,
              "#fdca26"
             ],
             [
              1,
              "#f0f921"
             ]
            ],
            "type": "heatmapgl"
           }
          ],
          "histogram": [
           {
            "marker": {
             "pattern": {
              "fillmode": "overlay",
              "size": 10,
              "solidity": 0.2
             }
            },
            "type": "histogram"
           }
          ],
          "histogram2d": [
           {
            "colorbar": {
             "outlinewidth": 0,
             "ticks": ""
            },
            "colorscale": [
             [
              0,
              "#0d0887"
             ],
             [
              0.1111111111111111,
              "#46039f"
             ],
             [
              0.2222222222222222,
              "#7201a8"
             ],
             [
              0.3333333333333333,
              "#9c179e"
             ],
             [
              0.4444444444444444,
              "#bd3786"
             ],
             [
              0.5555555555555556,
              "#d8576b"
             ],
             [
              0.6666666666666666,
              "#ed7953"
             ],
             [
              0.7777777777777778,
              "#fb9f3a"
             ],
             [
              0.8888888888888888,
              "#fdca26"
             ],
             [
              1,
              "#f0f921"
             ]
            ],
            "type": "histogram2d"
           }
          ],
          "histogram2dcontour": [
           {
            "colorbar": {
             "outlinewidth": 0,
             "ticks": ""
            },
            "colorscale": [
             [
              0,
              "#0d0887"
             ],
             [
              0.1111111111111111,
              "#46039f"
             ],
             [
              0.2222222222222222,
              "#7201a8"
             ],
             [
              0.3333333333333333,
              "#9c179e"
             ],
             [
              0.4444444444444444,
              "#bd3786"
             ],
             [
              0.5555555555555556,
              "#d8576b"
             ],
             [
              0.6666666666666666,
              "#ed7953"
             ],
             [
              0.7777777777777778,
              "#fb9f3a"
             ],
             [
              0.8888888888888888,
              "#fdca26"
             ],
             [
              1,
              "#f0f921"
             ]
            ],
            "type": "histogram2dcontour"
           }
          ],
          "mesh3d": [
           {
            "colorbar": {
             "outlinewidth": 0,
             "ticks": ""
            },
            "type": "mesh3d"
           }
          ],
          "parcoords": [
           {
            "line": {
             "colorbar": {
              "outlinewidth": 0,
              "ticks": ""
             }
            },
            "type": "parcoords"
           }
          ],
          "pie": [
           {
            "automargin": true,
            "type": "pie"
           }
          ],
          "scatter": [
           {
            "fillpattern": {
             "fillmode": "overlay",
             "size": 10,
             "solidity": 0.2
            },
            "type": "scatter"
           }
          ],
          "scatter3d": [
           {
            "line": {
             "colorbar": {
              "outlinewidth": 0,
              "ticks": ""
             }
            },
            "marker": {
             "colorbar": {
              "outlinewidth": 0,
              "ticks": ""
             }
            },
            "type": "scatter3d"
           }
          ],
          "scattercarpet": [
           {
            "marker": {
             "colorbar": {
              "outlinewidth": 0,
              "ticks": ""
             }
            },
            "type": "scattercarpet"
           }
          ],
          "scattergeo": [
           {
            "marker": {
             "colorbar": {
              "outlinewidth": 0,
              "ticks": ""
             }
            },
            "type": "scattergeo"
           }
          ],
          "scattergl": [
           {
            "marker": {
             "colorbar": {
              "outlinewidth": 0,
              "ticks": ""
             }
            },
            "type": "scattergl"
           }
          ],
          "scattermapbox": [
           {
            "marker": {
             "colorbar": {
              "outlinewidth": 0,
              "ticks": ""
             }
            },
            "type": "scattermapbox"
           }
          ],
          "scatterpolar": [
           {
            "marker": {
             "colorbar": {
              "outlinewidth": 0,
              "ticks": ""
             }
            },
            "type": "scatterpolar"
           }
          ],
          "scatterpolargl": [
           {
            "marker": {
             "colorbar": {
              "outlinewidth": 0,
              "ticks": ""
             }
            },
            "type": "scatterpolargl"
           }
          ],
          "scatterternary": [
           {
            "marker": {
             "colorbar": {
              "outlinewidth": 0,
              "ticks": ""
             }
            },
            "type": "scatterternary"
           }
          ],
          "surface": [
           {
            "colorbar": {
             "outlinewidth": 0,
             "ticks": ""
            },
            "colorscale": [
             [
              0,
              "#0d0887"
             ],
             [
              0.1111111111111111,
              "#46039f"
             ],
             [
              0.2222222222222222,
              "#7201a8"
             ],
             [
              0.3333333333333333,
              "#9c179e"
             ],
             [
              0.4444444444444444,
              "#bd3786"
             ],
             [
              0.5555555555555556,
              "#d8576b"
             ],
             [
              0.6666666666666666,
              "#ed7953"
             ],
             [
              0.7777777777777778,
              "#fb9f3a"
             ],
             [
              0.8888888888888888,
              "#fdca26"
             ],
             [
              1,
              "#f0f921"
             ]
            ],
            "type": "surface"
           }
          ],
          "table": [
           {
            "cells": {
             "fill": {
              "color": "#EBF0F8"
             },
             "line": {
              "color": "white"
             }
            },
            "header": {
             "fill": {
              "color": "#C8D4E3"
             },
             "line": {
              "color": "white"
             }
            },
            "type": "table"
           }
          ]
         },
         "layout": {
          "annotationdefaults": {
           "arrowcolor": "#2a3f5f",
           "arrowhead": 0,
           "arrowwidth": 1
          },
          "autotypenumbers": "strict",
          "coloraxis": {
           "colorbar": {
            "outlinewidth": 0,
            "ticks": ""
           }
          },
          "colorscale": {
           "diverging": [
            [
             0,
             "#8e0152"
            ],
            [
             0.1,
             "#c51b7d"
            ],
            [
             0.2,
             "#de77ae"
            ],
            [
             0.3,
             "#f1b6da"
            ],
            [
             0.4,
             "#fde0ef"
            ],
            [
             0.5,
             "#f7f7f7"
            ],
            [
             0.6,
             "#e6f5d0"
            ],
            [
             0.7,
             "#b8e186"
            ],
            [
             0.8,
             "#7fbc41"
            ],
            [
             0.9,
             "#4d9221"
            ],
            [
             1,
             "#276419"
            ]
           ],
           "sequential": [
            [
             0,
             "#0d0887"
            ],
            [
             0.1111111111111111,
             "#46039f"
            ],
            [
             0.2222222222222222,
             "#7201a8"
            ],
            [
             0.3333333333333333,
             "#9c179e"
            ],
            [
             0.4444444444444444,
             "#bd3786"
            ],
            [
             0.5555555555555556,
             "#d8576b"
            ],
            [
             0.6666666666666666,
             "#ed7953"
            ],
            [
             0.7777777777777778,
             "#fb9f3a"
            ],
            [
             0.8888888888888888,
             "#fdca26"
            ],
            [
             1,
             "#f0f921"
            ]
           ],
           "sequentialminus": [
            [
             0,
             "#0d0887"
            ],
            [
             0.1111111111111111,
             "#46039f"
            ],
            [
             0.2222222222222222,
             "#7201a8"
            ],
            [
             0.3333333333333333,
             "#9c179e"
            ],
            [
             0.4444444444444444,
             "#bd3786"
            ],
            [
             0.5555555555555556,
             "#d8576b"
            ],
            [
             0.6666666666666666,
             "#ed7953"
            ],
            [
             0.7777777777777778,
             "#fb9f3a"
            ],
            [
             0.8888888888888888,
             "#fdca26"
            ],
            [
             1,
             "#f0f921"
            ]
           ]
          },
          "colorway": [
           "#636efa",
           "#EF553B",
           "#00cc96",
           "#ab63fa",
           "#FFA15A",
           "#19d3f3",
           "#FF6692",
           "#B6E880",
           "#FF97FF",
           "#FECB52"
          ],
          "font": {
           "color": "#2a3f5f"
          },
          "geo": {
           "bgcolor": "white",
           "lakecolor": "white",
           "landcolor": "#E5ECF6",
           "showlakes": true,
           "showland": true,
           "subunitcolor": "white"
          },
          "hoverlabel": {
           "align": "left"
          },
          "hovermode": "closest",
          "mapbox": {
           "style": "light"
          },
          "paper_bgcolor": "white",
          "plot_bgcolor": "#E5ECF6",
          "polar": {
           "angularaxis": {
            "gridcolor": "white",
            "linecolor": "white",
            "ticks": ""
           },
           "bgcolor": "#E5ECF6",
           "radialaxis": {
            "gridcolor": "white",
            "linecolor": "white",
            "ticks": ""
           }
          },
          "scene": {
           "xaxis": {
            "backgroundcolor": "#E5ECF6",
            "gridcolor": "white",
            "gridwidth": 2,
            "linecolor": "white",
            "showbackground": true,
            "ticks": "",
            "zerolinecolor": "white"
           },
           "yaxis": {
            "backgroundcolor": "#E5ECF6",
            "gridcolor": "white",
            "gridwidth": 2,
            "linecolor": "white",
            "showbackground": true,
            "ticks": "",
            "zerolinecolor": "white"
           },
           "zaxis": {
            "backgroundcolor": "#E5ECF6",
            "gridcolor": "white",
            "gridwidth": 2,
            "linecolor": "white",
            "showbackground": true,
            "ticks": "",
            "zerolinecolor": "white"
           }
          },
          "shapedefaults": {
           "line": {
            "color": "#2a3f5f"
           }
          },
          "ternary": {
           "aaxis": {
            "gridcolor": "white",
            "linecolor": "white",
            "ticks": ""
           },
           "baxis": {
            "gridcolor": "white",
            "linecolor": "white",
            "ticks": ""
           },
           "bgcolor": "#E5ECF6",
           "caxis": {
            "gridcolor": "white",
            "linecolor": "white",
            "ticks": ""
           }
          },
          "title": {
           "x": 0.05
          },
          "xaxis": {
           "automargin": true,
           "gridcolor": "white",
           "linecolor": "white",
           "ticks": "",
           "title": {
            "standoff": 15
           },
           "zerolinecolor": "white",
           "zerolinewidth": 2
          },
          "yaxis": {
           "automargin": true,
           "gridcolor": "white",
           "linecolor": "white",
           "ticks": "",
           "title": {
            "standoff": 15
           },
           "zerolinecolor": "white",
           "zerolinewidth": 2
          }
         }
        },
        "width": 1500,
        "xaxis": {
         "anchor": "y",
         "domain": [
          0,
          0.98
         ],
         "title": {
          "text": "total_sulfur_dioxide"
         }
        },
        "xaxis2": {
         "anchor": "y2",
         "domain": [
          0,
          0.98
         ],
         "matches": "x",
         "showticklabels": false
        },
        "xaxis3": {
         "anchor": "y3",
         "domain": [
          0,
          0.98
         ],
         "matches": "x",
         "showticklabels": false
        },
        "xaxis4": {
         "anchor": "y4",
         "domain": [
          0,
          0.98
         ],
         "matches": "x",
         "showticklabels": false
        },
        "xaxis5": {
         "anchor": "y5",
         "domain": [
          0,
          0.98
         ],
         "matches": "x",
         "showticklabels": false
        },
        "xaxis6": {
         "anchor": "y6",
         "domain": [
          0,
          0.98
         ],
         "matches": "x",
         "showticklabels": false
        },
        "yaxis": {
         "anchor": "x",
         "domain": [
          0,
          0.14166666666666666
         ],
         "title": {
          "text": "probability"
         }
        },
        "yaxis2": {
         "anchor": "x2",
         "domain": [
          0.17166666666666666,
          0.31333333333333335
         ],
         "matches": "y",
         "title": {
          "text": "probability"
         }
        },
        "yaxis3": {
         "anchor": "x3",
         "domain": [
          0.3433333333333333,
          0.485
         ],
         "matches": "y",
         "title": {
          "text": "probability"
         }
        },
        "yaxis4": {
         "anchor": "x4",
         "domain": [
          0.515,
          0.6566666666666667
         ],
         "matches": "y",
         "title": {
          "text": "probability"
         }
        },
        "yaxis5": {
         "anchor": "x5",
         "domain": [
          0.6866666666666666,
          0.8283333333333334
         ],
         "matches": "y",
         "title": {
          "text": "probability"
         }
        },
        "yaxis6": {
         "anchor": "x6",
         "domain": [
          0.8583333333333333,
          1
         ],
         "matches": "y",
         "title": {
          "text": "probability"
         }
        }
       }
      }
     },
     "metadata": {},
     "output_type": "display_data"
    },
    {
     "data": {
      "application/vnd.plotly.v1+json": {
       "config": {
        "plotlyServerURL": "https://plot.ly"
       },
       "data": [
        {
         "alignmentgroup": "True",
         "bingroup": "x",
         "histnorm": "probability",
         "hovertemplate": "quality=5<br>density=%{x}<br>probability=%{y}<extra></extra>",
         "legendgroup": "5",
         "marker": {
          "color": "#636efa",
          "pattern": {
           "shape": ""
          }
         },
         "name": "5",
         "offsetgroup": "5",
         "orientation": "v",
         "showlegend": true,
         "type": "histogram",
         "x": [
          0.9978,
          0.9968,
          0.997,
          0.9978,
          0.9978,
          0.9964,
          0.9978,
          0.9959,
          0.9978,
          0.9943,
          0.9974,
          0.9986,
          0.9986,
          0.9968,
          0.9982,
          0.9966,
          0.9968,
          0.9955,
          0.9962,
          0.9966,
          0.9972,
          0.9958,
          0.9966,
          0.9957,
          0.9978,
          0.9978,
          0.9968,
          0.9962,
          0.997,
          0.9969,
          0.9958,
          0.9954,
          0.9971,
          0.997,
          0.9978,
          0.9971,
          0.9983,
          0.9975,
          0.998,
          0.9968,
          0.9966,
          0.9962,
          0.9962,
          0.9968,
          0.9962,
          0.9969,
          0.9962,
          0.9961,
          0.9984,
          0.9986,
          0.9986,
          0.9958,
          0.9958,
          0.9974,
          0.997,
          0.9969,
          0.9961,
          0.9966,
          0.9978,
          0.9978,
          0.9964,
          0.9972,
          0.9966,
          0.9965,
          0.9963,
          0.9967,
          0.9967,
          0.996,
          0.9967,
          0.9973,
          0.9969,
          0.9969,
          0.9964,
          0.9964,
          0.9964,
          0.9964,
          0.9962,
          0.998,
          0.9976,
          0.996,
          0.9984,
          0.9964,
          0.9964,
          0.9955,
          0.9968,
          0.9937,
          0.9937,
          0.9965,
          0.9968,
          0.9972,
          0.9962,
          0.9962,
          0.9965,
          0.9968,
          0.9954,
          0.9968,
          0.9944,
          0.9968,
          0.995,
          0.995,
          0.9973,
          0.9973,
          0.9973,
          0.9973,
          0.9969,
          0.9959,
          0.9982,
          0.9981,
          0.9961,
          0.9956,
          0.9964,
          0.9961,
          0.9958,
          0.9961,
          0.9969,
          0.9969,
          0.9969,
          0.9972,
          0.9972,
          0.9971,
          0.9971,
          0.9972,
          0.9976,
          0.9968,
          0.9968,
          0.9976,
          0.9969,
          0.9964,
          0.9964,
          0.9968,
          0.9968,
          0.9975,
          0.99545,
          0.9961,
          0.99625,
          0.9966,
          0.9959,
          0.9974,
          0.9962,
          0.9967,
          0.9957,
          0.99655,
          0.9957,
          0.99525,
          0.9984,
          0.99685,
          0.99685,
          0.9971,
          0.99685,
          0.9963,
          0.9986,
          0.9959,
          0.99675,
          0.998,
          0.9968,
          0.9968,
          0.99625,
          0.99575,
          0.9963,
          0.9999,
          0.99935,
          0.99735,
          0.99915,
          0.9971,
          1.00015,
          1.00015,
          1.001,
          0.9979,
          1.0001,
          0.9981,
          0.99855,
          0.9993,
          0.99845,
          0.9994,
          0.996,
          0.9973,
          0.9966,
          0.9976,
          0.99645,
          0.9996,
          0.99975,
          0.99735,
          0.998,
          0.9981,
          0.9958,
          0.9974,
          0.9979,
          0.9974,
          1.0018,
          1.0001,
          0.9973,
          0.9992,
          0.9988,
          1,
          0.9998,
          0.9975,
          0.9959,
          0.998,
          0.998,
          0.997,
          0.9997,
          0.9994,
          0.9963,
          0.9994,
          0.9974,
          0.9987,
          0.9966,
          0.9982,
          1.0014,
          0.9956,
          0.9976,
          0.9955,
          0.9955,
          0.9978,
          0.9974,
          1.0004,
          1.0004,
          0.9951,
          0.9996,
          0.9968,
          0.9952,
          0.9986,
          0.9988,
          0.9982,
          0.997,
          0.9972,
          1.0006,
          0.9952,
          0.9996,
          0.9971,
          0.9988,
          0.998,
          0.9988,
          1.0026,
          0.9986,
          0.9986,
          0.9976,
          0.9976,
          0.9966,
          0.9978,
          1.001,
          0.9966,
          0.998,
          0.9979,
          0.9978,
          0.9976,
          0.9998,
          0.9966,
          0.9974,
          1.0004,
          1.0004,
          0.9974,
          0.9996,
          0.9988,
          0.9966,
          0.9982,
          0.9934,
          1.00315,
          1.00315,
          1.00315,
          0.9994,
          0.9978,
          0.9982,
          0.9994,
          0.9978,
          0.9982,
          0.9982,
          1.0002,
          1.0002,
          1,
          0.9967,
          0.9987,
          0.9987,
          1.0004,
          0.9978,
          0.9998,
          0.9975,
          0.9983,
          1.0006,
          0.9962,
          0.9997,
          0.9997,
          1.0006,
          0.9988,
          0.9976,
          0.9976,
          0.9974,
          0.9997,
          0.9997,
          0.9988,
          0.9988,
          0.9964,
          0.9988,
          0.9964,
          0.9954,
          0.9979,
          0.9978,
          0.9991,
          0.9992,
          0.9991,
          0.9992,
          0.9991,
          0.9972,
          0.9986,
          1.001,
          0.9976,
          0.9979,
          1.0004,
          0.9986,
          0.9978,
          1,
          0.9981,
          0.9966,
          0.9959,
          0.9968,
          0.998,
          0.9968,
          0.9984,
          0.9979,
          0.9983,
          0.9972,
          1.0004,
          0.998,
          0.997,
          0.998,
          0.997,
          0.997,
          0.9998,
          0.9962,
          0.9976,
          0.9998,
          0.9979,
          0.9984,
          0.9984,
          1.0001,
          0.999,
          0.9956,
          0.9966,
          0.9985,
          0.9998,
          0.9992,
          0.9976,
          0.998,
          0.9976,
          0.9968,
          0.9976,
          0.9976,
          0.9976,
          0.9982,
          0.9968,
          0.9965,
          0.9976,
          0.997,
          0.997,
          0.9982,
          0.9994,
          0.9966,
          0.998,
          0.9987,
          0.9963,
          0.9963,
          0.9983,
          0.999,
          0.99788,
          0.9972,
          1.00024,
          1.0001,
          0.99782,
          0.99803,
          0.99803,
          0.99785,
          0.99803,
          0.99656,
          0.99656,
          0.99823,
          0.99779,
          0.99738,
          0.99738,
          0.99738,
          0.99938,
          0.99668,
          0.9978,
          0.99782,
          0.99586,
          0.99788,
          0.99745,
          0.99732,
          0.99814,
          0.99732,
          0.99746,
          0.9982,
          0.9982,
          0.998,
          0.99818,
          0.99639,
          0.99786,
          0.99746,
          0.99641,
          0.99735,
          0.99702,
          0.99562,
          0.99818,
          0.99818,
          0.99632,
          0.99976,
          0.99606,
          0.9973,
          0.9973,
          0.99682,
          0.99624,
          0.99624,
          0.99694,
          0.99655,
          0.99647,
          0.99629,
          0.9963,
          0.99689,
          0.99689,
          0.99689,
          0.99689,
          0.99708,
          0.99708,
          0.99801,
          0.99746,
          0.99628,
          0.99746,
          0.99746,
          0.99748,
          0.99522,
          0.99745,
          0.99576,
          0.99745,
          0.99824,
          1.00289,
          0.99576,
          0.99743,
          0.99743,
          0.99562,
          0.998,
          0.9964,
          0.99395,
          0.99786,
          0.99516,
          0.99516,
          0.99746,
          0.99748,
          0.99748,
          0.99746,
          0.99425,
          0.99648,
          0.99735,
          0.99592,
          0.99654,
          0.99733,
          0.99669,
          0.99605,
          0.997,
          0.997,
          0.99801,
          0.9969,
          0.99712,
          0.9969,
          0.99693,
          0.99596,
          0.99596,
          0.99694,
          0.99694,
          0.99918,
          0.99603,
          0.99722,
          0.99604,
          0.99636,
          0.99584,
          0.99378,
          0.99854,
          0.99672,
          0.99756,
          0.99634,
          0.99634,
          0.99702,
          0.99258,
          0.99784,
          0.997,
          0.99892,
          0.99892,
          0.99817,
          0.99817,
          0.99529,
          0.99772,
          0.99666,
          0.99666,
          0.99374,
          0.99855,
          0.99256,
          0.9984,
          0.99341,
          0.99786,
          0.99588,
          0.99616,
          0.99616,
          0.99728,
          0.99692,
          0.99692,
          0.99634,
          0.99709,
          0.99346,
          0.99478,
          0.99572,
          0.99538,
          0.9963,
          0.99538,
          0.99551,
          0.99551,
          0.99878,
          0.99752,
          0.9957,
          0.99922,
          0.99592,
          0.99769,
          0.99718,
          0.99621,
          0.99718,
          0.99494,
          0.99729,
          0.9983,
          0.99655,
          0.99502,
          0.99655,
          0.9963,
          0.99627,
          0.99569,
          0.99628,
          0.99358,
          0.99499,
          0.99632,
          0.99726,
          0.99385,
          0.99494,
          0.99476,
          0.99734,
          0.99286,
          0.99914,
          0.99914,
          0.99521,
          0.99558,
          0.99558,
          0.99501,
          0.9955,
          0.99612,
          0.9979,
          0.9979,
          0.996,
          0.99612,
          0.99532,
          0.99796,
          0.99392,
          0.9955,
          0.99668,
          0.9976,
          0.99608,
          0.99448,
          0.99448,
          0.99448,
          0.99852,
          0.99472,
          0.99587,
          0.99587,
          0.99518,
          0.99654,
          0.9969,
          0.9969,
          0.99568,
          0.99464,
          0.99464,
          0.99736,
          0.99699,
          0.99724,
          0.9971,
          0.99576,
          0.99623,
          0.99623,
          0.99664,
          0.99586,
          0.9946,
          0.99534,
          0.99613,
          0.99613,
          0.99593,
          0.99668,
          0.9961,
          0.9961,
          0.99718,
          0.99524,
          0.99612,
          0.9942,
          0.99612,
          0.99669,
          0.99745,
          0.99584,
          0.9962,
          0.9962,
          0.9963,
          0.9994,
          0.9966,
          0.9994,
          0.995,
          0.9956,
          0.995,
          0.9965,
          0.9957,
          0.9962,
          0.996,
          0.9956,
          0.99914,
          0.99577,
          0.996,
          0.99712,
          0.99322,
          0.99712,
          0.99701,
          0.99683,
          0.99706,
          0.99706,
          0.99603,
          0.9958,
          0.9958,
          0.99578,
          0.99334,
          0.99336,
          1.00242,
          1.00242,
          0.99828,
          0.99828,
          0.99542,
          0.99606,
          0.99546,
          0.99496,
          0.9942,
          0.9942,
          0.99348,
          0.99636,
          0.99636,
          0.99508,
          0.99642,
          0.99638,
          0.9941,
          0.99712,
          0.99633,
          0.99647,
          0.99665,
          0.99633,
          0.9953,
          0.99552,
          0.99631,
          0.99717,
          0.99538,
          0.99714,
          0.99575,
          0.99306,
          0.99783,
          0.99783,
          0.99768,
          0.99765,
          0.99636,
          0.99787,
          0.99622,
          0.99622,
          0.99622,
          0.99546,
          0.99546,
          0.99546,
          0.99546,
          0.99629,
          0.99632,
          0.99402,
          0.99402,
          0.99362,
          0.99578,
          0.9977,
          0.9949,
          0.99547
         ],
         "xaxis": "x6",
         "yaxis": "y6"
        },
        {
         "alignmentgroup": "True",
         "bingroup": "x",
         "histnorm": "probability",
         "hovertemplate": "quality=6<br>density=%{x}<br>probability=%{y}<extra></extra>",
         "legendgroup": "6",
         "marker": {
          "color": "#EF553B",
          "pattern": {
           "shape": ""
          }
         },
         "name": "6",
         "offsetgroup": "6",
         "orientation": "v",
         "showlegend": true,
         "type": "histogram",
         "x": [
          0.998,
          0.9969,
          0.9968,
          0.9968,
          0.9964,
          0.9966,
          0.9993,
          0.9986,
          0.9975,
          0.9968,
          0.9956,
          0.9955,
          0.9955,
          0.9962,
          0.9962,
          0.9967,
          0.9966,
          0.9959,
          0.9972,
          0.9972,
          0.9932,
          0.9972,
          0.9972,
          0.9959,
          0.9972,
          0.9976,
          0.9988,
          0.9966,
          0.9978,
          0.997,
          0.9962,
          0.9959,
          0.9962,
          0.9952,
          0.9959,
          0.9916,
          0.9916,
          0.9959,
          0.9975,
          0.9958,
          0.9968,
          0.9964,
          0.9953,
          0.9972,
          0.9972,
          0.9961,
          0.9972,
          0.997,
          0.9974,
          0.9981,
          0.99615,
          0.99585,
          0.99685,
          0.998,
          0.9974,
          0.9964,
          0.99815,
          0.99615,
          0.9964,
          0.99615,
          0.99625,
          0.998,
          0.99685,
          0.99675,
          0.99675,
          0.99675,
          0.99675,
          0.99685,
          0.99925,
          0.99565,
          0.9983,
          0.99615,
          0.9983,
          0.9985,
          0.9972,
          0.9972,
          0.9987,
          0.9996,
          0.9965,
          0.9996,
          0.9965,
          0.9987,
          0.9996,
          0.9986,
          0.9997,
          0.9967,
          0.9994,
          0.9964,
          1.0014,
          0.9965,
          0.9973,
          0.9998,
          0.9994,
          0.9994,
          0.9968,
          0.9998,
          0.996,
          0.99815,
          0.9962,
          0.99865,
          0.99865,
          0.999,
          1.0015,
          1.0015,
          1.0002,
          0.998,
          0.998,
          0.9973,
          0.9948,
          1.0008,
          1,
          0.9972,
          0.9982,
          0.9982,
          1.0006,
          0.9986,
          0.9979,
          0.9994,
          1.0004,
          0.9994,
          0.9912,
          0.9955,
          1.001,
          0.9982,
          0.9979,
          0.9967,
          0.9967,
          1.0014,
          1.0003,
          0.9988,
          0.9979,
          0.9974,
          1.0014,
          0.9974,
          0.9974,
          0.9979,
          0.9981,
          0.9972,
          0.9981,
          1.0014,
          0.9988,
          0.9988,
          0.9949,
          1,
          0.9994,
          0.9966,
          0.9981,
          0.997,
          0.9987,
          0.997,
          0.9996,
          0.9949,
          0.9988,
          0.9997,
          0.9958,
          0.9996,
          0.9958,
          0.9986,
          0.9996,
          0.9988,
          0.9986,
          0.9967,
          0.9994,
          0.9994,
          0.9979,
          0.9968,
          0.9976,
          0.9987,
          0.9982,
          0.9947,
          1,
          0.997,
          0.9995,
          0.9982,
          0.9977,
          0.9984,
          0.997,
          0.9982,
          0.9984,
          0.9984,
          1.0002,
          0.9952,
          0.9984,
          1.0002,
          0.9984,
          1,
          0.9994,
          0.9994,
          0.998,
          1.001,
          0.9972,
          0.9982,
          0.9962,
          0.9988,
          0.999,
          0.9956,
          1,
          0.999,
          0.9972,
          0.9988,
          0.9993,
          1.0008,
          0.9983,
          0.9987,
          0.9994,
          0.9975,
          0.9958,
          0.998,
          0.998,
          1.0002,
          1.0002,
          1.0021,
          0.9971,
          1.0021,
          0.9991,
          0.9991,
          0.999,
          0.9946,
          1.0003,
          0.9946,
          0.9992,
          0.9993,
          0.9976,
          0.998,
          0.9922,
          0.9994,
          0.998,
          0.9967,
          1,
          1.0006,
          1.0006,
          0.9984,
          0.9984,
          0.9982,
          1.0026,
          0.9956,
          0.9965,
          0.9969,
          0.9982,
          0.9974,
          0.9976,
          0.9976,
          0.9964,
          0.997,
          0.9948,
          0.9976,
          0.9973,
          0.9973,
          0.9972,
          0.9974,
          0.998,
          0.9988,
          0.9988,
          0.9984,
          0.9984,
          0.9962,
          0.9921,
          0.9972,
          0.9972,
          0.9986,
          0.9984,
          0.9972,
          0.997,
          0.996,
          0.9983,
          0.9967,
          0.9994,
          0.995,
          1.0002,
          0.9965,
          0.99768,
          0.9978,
          0.99761,
          0.99768,
          0.99656,
          0.99525,
          0.99488,
          0.99701,
          0.99888,
          0.99888,
          0.99744,
          0.99744,
          0.9973,
          0.99727,
          0.99612,
          0.9961,
          0.99676,
          0.9991,
          0.9991,
          0.99708,
          0.99745,
          0.99531,
          0.9987,
          0.9987,
          0.9971,
          0.99682,
          0.99693,
          1.00012,
          0.99939,
          0.9984,
          0.99545,
          0.99376,
          0.99376,
          0.99708,
          0.9959,
          0.9977,
          0.99652,
          0.99652,
          0.99652,
          0.99438,
          0.99357,
          0.99438,
          0.99438,
          0.99438,
          0.99578,
          0.99371,
          0.99371,
          0.99787,
          0.99533,
          0.99536,
          0.99787,
          0.99836,
          0.99491,
          0.99774,
          0.99745,
          0.9955,
          0.9955,
          0.9948,
          0.99528,
          0.99331,
          0.99577,
          0.99901,
          0.99674,
          0.99331,
          0.99512,
          0.99824,
          0.9964,
          0.99504,
          0.9964,
          0.99504,
          0.99824,
          0.99786,
          0.9971,
          0.99543,
          0.99543,
          0.99538,
          0.99568,
          0.99613,
          0.99518,
          0.99546,
          0.99518,
          0.99554,
          0.9943,
          0.99724,
          0.99724,
          0.99774,
          0.99418,
          0.99774,
          0.99562,
          0.99556,
          0.99554,
          0.99697,
          0.99554,
          0.99162,
          0.9957,
          0.99635,
          0.99454,
          0.99598,
          0.99007,
          0.99007,
          0.99642,
          0.99642,
          0.99506,
          0.99822,
          0.99364,
          0.99586,
          0.99592,
          0.99739,
          0.99692,
          0.99547,
          0.99692,
          0.99294,
          0.99438,
          0.99612,
          0.99702,
          0.99704,
          0.99747,
          0.99747,
          0.9981,
          0.9956,
          0.99565,
          0.99418,
          0.9963,
          0.9968,
          0.9972,
          0.99534,
          0.99471,
          0.99685,
          0.99617,
          0.99685,
          0.994,
          0.99546,
          0.99479,
          0.99655,
          0.99655,
          0.99392,
          0.99388,
          0.99402,
          0.99388,
          0.9936,
          0.99376,
          0.9982,
          0.99593,
          0.99396,
          0.99698,
          0.9902,
          0.99572,
          0.99572,
          0.99572,
          0.99252,
          0.99352,
          0.9922,
          0.99674,
          0.9915,
          0.99379,
          0.99798,
          0.9977,
          0.9946,
          0.99774,
          0.99774,
          0.99764,
          0.9969,
          0.99624,
          0.99354,
          0.99672,
          0.99672,
          0.996,
          0.99526,
          0.99585,
          0.99352,
          0.99622,
          0.99544,
          0.99572,
          0.99551,
          0.99384,
          0.99502,
          0.99667,
          0.99522,
          0.99649,
          0.99716,
          0.99716,
          0.99541,
          0.99599,
          0.99599,
          0.99754,
          0.99346,
          0.99346,
          0.99652,
          0.99588,
          0.99633,
          0.99686,
          0.99458,
          0.9951,
          0.99686,
          0.99458,
          0.99498,
          0.99498,
          0.99659,
          0.99628,
          0.99488,
          0.99677,
          0.99408,
          0.996,
          0.99478,
          0.99734,
          0.99734,
          0.99678,
          0.99638,
          0.9992,
          0.9947,
          0.99242,
          0.99659,
          0.99242,
          0.99414,
          0.99721,
          0.9949,
          0.99514,
          0.99514,
          0.99633,
          0.99538,
          0.99538,
          0.99456,
          0.99564,
          0.99564,
          0.996,
          0.99668,
          0.99084,
          0.9935,
          0.9944,
          0.99688,
          0.99636,
          0.99688,
          0.9956,
          0.9956,
          0.99619,
          0.99734,
          0.99328,
          0.99638,
          0.99362,
          0.99638,
          0.99323,
          0.99191,
          0.99444,
          0.99598,
          0.99576,
          0.9929,
          0.99558,
          0.99556,
          0.99616,
          0.99258,
          0.99638,
          0.99616,
          0.99652,
          0.99258,
          0.9948,
          0.9948,
          0.9948,
          0.9948,
          0.99616,
          0.99616,
          0.99581,
          0.99387,
          0.99538,
          0.99538,
          0.99538,
          0.99589,
          0.99538,
          0.99613,
          0.99332,
          0.99648,
          0.99704,
          0.99704,
          0.995,
          0.99725,
          0.99656,
          0.99476,
          0.9953,
          0.99609,
          0.99557,
          0.99557,
          0.99292,
          0.99745,
          0.9956,
          0.9963,
          0.9985,
          0.9974,
          0.995,
          0.995,
          0.9936,
          0.9963,
          0.9974,
          0.9956,
          0.9974,
          0.9974,
          0.9971,
          0.9958,
          0.9944,
          1.00369,
          1.00369,
          0.99566,
          0.99713,
          0.99566,
          0.99713,
          0.99974,
          0.99467,
          0.99236,
          0.99724,
          0.99545,
          0.99522,
          0.99656,
          0.99448,
          0.99344,
          0.99492,
          0.99508,
          0.99582,
          0.99508,
          0.99555,
          0.99605,
          0.99562,
          0.99605,
          0.99814,
          0.99661,
          0.99588,
          0.99294,
          0.99842,
          0.99842,
          0.99489,
          0.99489,
          0.99522,
          0.99553,
          0.9951,
          0.99714,
          0.99608,
          0.99444,
          0.99573,
          0.9959,
          0.99528,
          0.99484,
          0.99646,
          0.99472,
          0.99758,
          0.99531,
          0.99586,
          0.99627,
          0.99627,
          0.99489,
          0.99494,
          0.99396,
          0.9934,
          0.99514,
          0.99467,
          0.99677,
          0.99474,
          0.99588,
          0.99622,
          0.9954,
          0.9947,
          0.99494,
          0.99492,
          0.99483,
          0.99414,
          0.99314,
          0.99402,
          0.99574,
          0.99651,
          0.99512,
          0.99574,
          0.99549
         ],
         "xaxis": "x5",
         "yaxis": "y5"
        },
        {
         "alignmentgroup": "True",
         "bingroup": "x",
         "histnorm": "probability",
         "hovertemplate": "quality=7<br>density=%{x}<br>probability=%{y}<extra></extra>",
         "legendgroup": "7",
         "marker": {
          "color": "#00cc96",
          "pattern": {
           "shape": ""
          }
         },
         "name": "7",
         "offsetgroup": "7",
         "orientation": "v",
         "showlegend": true,
         "type": "histogram",
         "x": [
          0.9946,
          0.9968,
          0.9969,
          0.9968,
          0.9968,
          0.9962,
          0.9924,
          0.99695,
          0.9994,
          0.9994,
          0.998,
          0.9927,
          1.00005,
          1.00005,
          0.99965,
          0.9968,
          0.9991,
          0.9972,
          0.9991,
          0.9976,
          0.9976,
          0.9989,
          0.9989,
          0.9978,
          0.9963,
          0.9992,
          0.9997,
          0.9955,
          0.997,
          1,
          1.0022,
          1.0022,
          0.9962,
          0.9984,
          0.9962,
          0.9982,
          1.0004,
          0.9996,
          0.9986,
          0.9972,
          0.9952,
          0.9978,
          0.9952,
          0.9978,
          1.0032,
          0.9963,
          0.9934,
          0.9998,
          0.9998,
          1.0002,
          0.9952,
          0.995,
          0.999,
          0.999,
          0.9976,
          0.9976,
          0.9968,
          0.9976,
          0.9986,
          0.9973,
          0.9973,
          1.0014,
          0.9976,
          1.0002,
          0.9986,
          0.9976,
          0.9973,
          0.9964,
          0.9984,
          0.9964,
          0.998,
          0.99526,
          0.99264,
          0.99356,
          0.99386,
          0.99356,
          0.99154,
          0.9951,
          0.99064,
          0.99064,
          0.99672,
          0.99736,
          0.99538,
          0.99594,
          0.99686,
          0.99552,
          0.99664,
          0.99614,
          0.99577,
          0.99444,
          0.99444,
          0.99736,
          0.99736,
          0.9962,
          0.9962,
          0.99639,
          0.99604,
          0.99468,
          0.99356,
          0.99509,
          0.99484,
          0.99834,
          0.99864,
          0.99498,
          0.99566,
          0.99745,
          0.99408,
          0.99552,
          0.99552,
          0.99552,
          0.99408,
          0.99536,
          0.99458,
          0.99519,
          0.99604,
          0.99643,
          0.99658,
          0.99416,
          0.9947,
          0.99378,
          0.99378,
          0.99495,
          0.99676,
          0.99516,
          0.9928,
          0.9928,
          0.99516,
          0.99516,
          0.99549,
          0.99354,
          0.99486,
          0.99568,
          0.99568,
          0.99488,
          0.99514,
          0.99683,
          0.99356,
          0.9953,
          0.99859,
          0.99426,
          0.99586,
          0.9971,
          0.99586,
          0.99358,
          0.99572,
          0.99572,
          0.99498,
          0.99769,
          0.99316,
          0.99316,
          0.99738,
          0.99735,
          0.99735,
          0.99615,
          0.99358,
          0.99523,
          0.99471,
          0.99394,
          0.9933,
          0.99684,
          0.99524,
          0.99702,
          0.99473,
          0.99524,
          0.9924,
          0.99676,
          0.99434,
          0.99528,
          0.99318,
          0.99439,
          0.99419,
          0.99534,
          0.99534,
          0.99534,
          0.99534,
          0.99428,
          0.99157,
          0.9948,
          0.99495,
          0.9966,
          0.9952,
          0.995,
          0.9952,
          0.9955,
          0.9947,
          0.9947,
          0.99732,
          0.99374,
          0.99458,
          0.99728,
          0.99728,
          0.99182,
          0.99182,
          0.99459,
          0.99397,
          0.99666,
          0.9955,
          0.99514,
          0.99484
         ],
         "xaxis": "x4",
         "yaxis": "y4"
        },
        {
         "alignmentgroup": "True",
         "bingroup": "x",
         "histnorm": "probability",
         "hovertemplate": "quality=4<br>density=%{x}<br>probability=%{y}<extra></extra>",
         "legendgroup": "4",
         "marker": {
          "color": "#ab63fa",
          "pattern": {
           "shape": ""
          }
         },
         "name": "4",
         "offsetgroup": "4",
         "orientation": "v",
         "showlegend": true,
         "type": "histogram",
         "x": [
          0.9974,
          0.994,
          0.9976,
          0.9934,
          0.9976,
          0.9972,
          0.9938,
          0.9996,
          0.9965,
          0.9956,
          0.9972,
          0.9948,
          0.99745,
          0.99565,
          1.00025,
          0.9981,
          0.9991,
          0.9978,
          0.9962,
          1.001,
          0.9967,
          0.997,
          0.9972,
          0.998,
          0.9958,
          0.99462,
          0.99632,
          0.99836,
          0.99576,
          0.99517,
          0.99736,
          0.99791,
          0.99557,
          0.99572,
          0.99616,
          0.99614,
          0.99572,
          0.99798,
          0.99488,
          0.99437,
          0.9978,
          0.99566,
          0.99672,
          0.99524,
          0.99652,
          0.99396,
          0.9968,
          0.99664,
          0.99648,
          0.99498,
          0.99719,
          0.99592,
          0.99585
         ],
         "xaxis": "x3",
         "yaxis": "y3"
        },
        {
         "alignmentgroup": "True",
         "bingroup": "x",
         "histnorm": "probability",
         "hovertemplate": "quality=8<br>density=%{x}<br>probability=%{y}<extra></extra>",
         "legendgroup": "8",
         "marker": {
          "color": "#FFA15A",
          "pattern": {
           "shape": ""
          }
         },
         "name": "8",
         "offsetgroup": "8",
         "orientation": "v",
         "showlegend": true,
         "type": "histogram",
         "x": [
          0.9973,
          0.9976,
          0.9924,
          0.9987,
          0.9988,
          0.9964,
          0.9972,
          0.9972,
          0.9917,
          0.99417,
          0.99462,
          0.99451,
          0.99235,
          0.99516,
          0.9908,
          0.996,
          0.99472,
          0.99419
         ],
         "xaxis": "x2",
         "yaxis": "y2"
        },
        {
         "alignmentgroup": "True",
         "bingroup": "x",
         "histnorm": "probability",
         "hovertemplate": "quality=3<br>density=%{x}<br>probability=%{y}<extra></extra>",
         "legendgroup": "3",
         "marker": {
          "color": "#19d3f3",
          "pattern": {
           "shape": ""
          }
         },
         "name": "3",
         "offsetgroup": "3",
         "orientation": "v",
         "showlegend": true,
         "type": "histogram",
         "x": [
          1.0008,
          0.9994,
          0.9966,
          0.99832,
          0.99892,
          0.99476,
          0.99471,
          0.99705,
          0.99808,
          0.996
         ],
         "xaxis": "x",
         "yaxis": "y"
        }
       ],
       "layout": {
        "annotations": [
         {
          "font": {},
          "showarrow": false,
          "text": "quality=3",
          "textangle": 90,
          "x": 0.98,
          "xanchor": "left",
          "xref": "paper",
          "y": 0.07083333333333333,
          "yanchor": "middle",
          "yref": "paper"
         },
         {
          "font": {},
          "showarrow": false,
          "text": "quality=8",
          "textangle": 90,
          "x": 0.98,
          "xanchor": "left",
          "xref": "paper",
          "y": 0.2425,
          "yanchor": "middle",
          "yref": "paper"
         },
         {
          "font": {},
          "showarrow": false,
          "text": "quality=4",
          "textangle": 90,
          "x": 0.98,
          "xanchor": "left",
          "xref": "paper",
          "y": 0.4141666666666667,
          "yanchor": "middle",
          "yref": "paper"
         },
         {
          "font": {},
          "showarrow": false,
          "text": "quality=7",
          "textangle": 90,
          "x": 0.98,
          "xanchor": "left",
          "xref": "paper",
          "y": 0.5858333333333334,
          "yanchor": "middle",
          "yref": "paper"
         },
         {
          "font": {},
          "showarrow": false,
          "text": "quality=6",
          "textangle": 90,
          "x": 0.98,
          "xanchor": "left",
          "xref": "paper",
          "y": 0.7575000000000001,
          "yanchor": "middle",
          "yref": "paper"
         },
         {
          "font": {},
          "showarrow": false,
          "text": "quality=5",
          "textangle": 90,
          "x": 0.98,
          "xanchor": "left",
          "xref": "paper",
          "y": 0.9291666666666667,
          "yanchor": "middle",
          "yref": "paper"
         }
        ],
        "barmode": "relative",
        "legend": {
         "title": {
          "text": "quality"
         },
         "tracegroupgap": 0
        },
        "margin": {
         "t": 60
        },
        "template": {
         "data": {
          "bar": [
           {
            "error_x": {
             "color": "#2a3f5f"
            },
            "error_y": {
             "color": "#2a3f5f"
            },
            "marker": {
             "line": {
              "color": "#E5ECF6",
              "width": 0.5
             },
             "pattern": {
              "fillmode": "overlay",
              "size": 10,
              "solidity": 0.2
             }
            },
            "type": "bar"
           }
          ],
          "barpolar": [
           {
            "marker": {
             "line": {
              "color": "#E5ECF6",
              "width": 0.5
             },
             "pattern": {
              "fillmode": "overlay",
              "size": 10,
              "solidity": 0.2
             }
            },
            "type": "barpolar"
           }
          ],
          "carpet": [
           {
            "aaxis": {
             "endlinecolor": "#2a3f5f",
             "gridcolor": "white",
             "linecolor": "white",
             "minorgridcolor": "white",
             "startlinecolor": "#2a3f5f"
            },
            "baxis": {
             "endlinecolor": "#2a3f5f",
             "gridcolor": "white",
             "linecolor": "white",
             "minorgridcolor": "white",
             "startlinecolor": "#2a3f5f"
            },
            "type": "carpet"
           }
          ],
          "choropleth": [
           {
            "colorbar": {
             "outlinewidth": 0,
             "ticks": ""
            },
            "type": "choropleth"
           }
          ],
          "contour": [
           {
            "colorbar": {
             "outlinewidth": 0,
             "ticks": ""
            },
            "colorscale": [
             [
              0,
              "#0d0887"
             ],
             [
              0.1111111111111111,
              "#46039f"
             ],
             [
              0.2222222222222222,
              "#7201a8"
             ],
             [
              0.3333333333333333,
              "#9c179e"
             ],
             [
              0.4444444444444444,
              "#bd3786"
             ],
             [
              0.5555555555555556,
              "#d8576b"
             ],
             [
              0.6666666666666666,
              "#ed7953"
             ],
             [
              0.7777777777777778,
              "#fb9f3a"
             ],
             [
              0.8888888888888888,
              "#fdca26"
             ],
             [
              1,
              "#f0f921"
             ]
            ],
            "type": "contour"
           }
          ],
          "contourcarpet": [
           {
            "colorbar": {
             "outlinewidth": 0,
             "ticks": ""
            },
            "type": "contourcarpet"
           }
          ],
          "heatmap": [
           {
            "colorbar": {
             "outlinewidth": 0,
             "ticks": ""
            },
            "colorscale": [
             [
              0,
              "#0d0887"
             ],
             [
              0.1111111111111111,
              "#46039f"
             ],
             [
              0.2222222222222222,
              "#7201a8"
             ],
             [
              0.3333333333333333,
              "#9c179e"
             ],
             [
              0.4444444444444444,
              "#bd3786"
             ],
             [
              0.5555555555555556,
              "#d8576b"
             ],
             [
              0.6666666666666666,
              "#ed7953"
             ],
             [
              0.7777777777777778,
              "#fb9f3a"
             ],
             [
              0.8888888888888888,
              "#fdca26"
             ],
             [
              1,
              "#f0f921"
             ]
            ],
            "type": "heatmap"
           }
          ],
          "heatmapgl": [
           {
            "colorbar": {
             "outlinewidth": 0,
             "ticks": ""
            },
            "colorscale": [
             [
              0,
              "#0d0887"
             ],
             [
              0.1111111111111111,
              "#46039f"
             ],
             [
              0.2222222222222222,
              "#7201a8"
             ],
             [
              0.3333333333333333,
              "#9c179e"
             ],
             [
              0.4444444444444444,
              "#bd3786"
             ],
             [
              0.5555555555555556,
              "#d8576b"
             ],
             [
              0.6666666666666666,
              "#ed7953"
             ],
             [
              0.7777777777777778,
              "#fb9f3a"
             ],
             [
              0.8888888888888888,
              "#fdca26"
             ],
             [
              1,
              "#f0f921"
             ]
            ],
            "type": "heatmapgl"
           }
          ],
          "histogram": [
           {
            "marker": {
             "pattern": {
              "fillmode": "overlay",
              "size": 10,
              "solidity": 0.2
             }
            },
            "type": "histogram"
           }
          ],
          "histogram2d": [
           {
            "colorbar": {
             "outlinewidth": 0,
             "ticks": ""
            },
            "colorscale": [
             [
              0,
              "#0d0887"
             ],
             [
              0.1111111111111111,
              "#46039f"
             ],
             [
              0.2222222222222222,
              "#7201a8"
             ],
             [
              0.3333333333333333,
              "#9c179e"
             ],
             [
              0.4444444444444444,
              "#bd3786"
             ],
             [
              0.5555555555555556,
              "#d8576b"
             ],
             [
              0.6666666666666666,
              "#ed7953"
             ],
             [
              0.7777777777777778,
              "#fb9f3a"
             ],
             [
              0.8888888888888888,
              "#fdca26"
             ],
             [
              1,
              "#f0f921"
             ]
            ],
            "type": "histogram2d"
           }
          ],
          "histogram2dcontour": [
           {
            "colorbar": {
             "outlinewidth": 0,
             "ticks": ""
            },
            "colorscale": [
             [
              0,
              "#0d0887"
             ],
             [
              0.1111111111111111,
              "#46039f"
             ],
             [
              0.2222222222222222,
              "#7201a8"
             ],
             [
              0.3333333333333333,
              "#9c179e"
             ],
             [
              0.4444444444444444,
              "#bd3786"
             ],
             [
              0.5555555555555556,
              "#d8576b"
             ],
             [
              0.6666666666666666,
              "#ed7953"
             ],
             [
              0.7777777777777778,
              "#fb9f3a"
             ],
             [
              0.8888888888888888,
              "#fdca26"
             ],
             [
              1,
              "#f0f921"
             ]
            ],
            "type": "histogram2dcontour"
           }
          ],
          "mesh3d": [
           {
            "colorbar": {
             "outlinewidth": 0,
             "ticks": ""
            },
            "type": "mesh3d"
           }
          ],
          "parcoords": [
           {
            "line": {
             "colorbar": {
              "outlinewidth": 0,
              "ticks": ""
             }
            },
            "type": "parcoords"
           }
          ],
          "pie": [
           {
            "automargin": true,
            "type": "pie"
           }
          ],
          "scatter": [
           {
            "fillpattern": {
             "fillmode": "overlay",
             "size": 10,
             "solidity": 0.2
            },
            "type": "scatter"
           }
          ],
          "scatter3d": [
           {
            "line": {
             "colorbar": {
              "outlinewidth": 0,
              "ticks": ""
             }
            },
            "marker": {
             "colorbar": {
              "outlinewidth": 0,
              "ticks": ""
             }
            },
            "type": "scatter3d"
           }
          ],
          "scattercarpet": [
           {
            "marker": {
             "colorbar": {
              "outlinewidth": 0,
              "ticks": ""
             }
            },
            "type": "scattercarpet"
           }
          ],
          "scattergeo": [
           {
            "marker": {
             "colorbar": {
              "outlinewidth": 0,
              "ticks": ""
             }
            },
            "type": "scattergeo"
           }
          ],
          "scattergl": [
           {
            "marker": {
             "colorbar": {
              "outlinewidth": 0,
              "ticks": ""
             }
            },
            "type": "scattergl"
           }
          ],
          "scattermapbox": [
           {
            "marker": {
             "colorbar": {
              "outlinewidth": 0,
              "ticks": ""
             }
            },
            "type": "scattermapbox"
           }
          ],
          "scatterpolar": [
           {
            "marker": {
             "colorbar": {
              "outlinewidth": 0,
              "ticks": ""
             }
            },
            "type": "scatterpolar"
           }
          ],
          "scatterpolargl": [
           {
            "marker": {
             "colorbar": {
              "outlinewidth": 0,
              "ticks": ""
             }
            },
            "type": "scatterpolargl"
           }
          ],
          "scatterternary": [
           {
            "marker": {
             "colorbar": {
              "outlinewidth": 0,
              "ticks": ""
             }
            },
            "type": "scatterternary"
           }
          ],
          "surface": [
           {
            "colorbar": {
             "outlinewidth": 0,
             "ticks": ""
            },
            "colorscale": [
             [
              0,
              "#0d0887"
             ],
             [
              0.1111111111111111,
              "#46039f"
             ],
             [
              0.2222222222222222,
              "#7201a8"
             ],
             [
              0.3333333333333333,
              "#9c179e"
             ],
             [
              0.4444444444444444,
              "#bd3786"
             ],
             [
              0.5555555555555556,
              "#d8576b"
             ],
             [
              0.6666666666666666,
              "#ed7953"
             ],
             [
              0.7777777777777778,
              "#fb9f3a"
             ],
             [
              0.8888888888888888,
              "#fdca26"
             ],
             [
              1,
              "#f0f921"
             ]
            ],
            "type": "surface"
           }
          ],
          "table": [
           {
            "cells": {
             "fill": {
              "color": "#EBF0F8"
             },
             "line": {
              "color": "white"
             }
            },
            "header": {
             "fill": {
              "color": "#C8D4E3"
             },
             "line": {
              "color": "white"
             }
            },
            "type": "table"
           }
          ]
         },
         "layout": {
          "annotationdefaults": {
           "arrowcolor": "#2a3f5f",
           "arrowhead": 0,
           "arrowwidth": 1
          },
          "autotypenumbers": "strict",
          "coloraxis": {
           "colorbar": {
            "outlinewidth": 0,
            "ticks": ""
           }
          },
          "colorscale": {
           "diverging": [
            [
             0,
             "#8e0152"
            ],
            [
             0.1,
             "#c51b7d"
            ],
            [
             0.2,
             "#de77ae"
            ],
            [
             0.3,
             "#f1b6da"
            ],
            [
             0.4,
             "#fde0ef"
            ],
            [
             0.5,
             "#f7f7f7"
            ],
            [
             0.6,
             "#e6f5d0"
            ],
            [
             0.7,
             "#b8e186"
            ],
            [
             0.8,
             "#7fbc41"
            ],
            [
             0.9,
             "#4d9221"
            ],
            [
             1,
             "#276419"
            ]
           ],
           "sequential": [
            [
             0,
             "#0d0887"
            ],
            [
             0.1111111111111111,
             "#46039f"
            ],
            [
             0.2222222222222222,
             "#7201a8"
            ],
            [
             0.3333333333333333,
             "#9c179e"
            ],
            [
             0.4444444444444444,
             "#bd3786"
            ],
            [
             0.5555555555555556,
             "#d8576b"
            ],
            [
             0.6666666666666666,
             "#ed7953"
            ],
            [
             0.7777777777777778,
             "#fb9f3a"
            ],
            [
             0.8888888888888888,
             "#fdca26"
            ],
            [
             1,
             "#f0f921"
            ]
           ],
           "sequentialminus": [
            [
             0,
             "#0d0887"
            ],
            [
             0.1111111111111111,
             "#46039f"
            ],
            [
             0.2222222222222222,
             "#7201a8"
            ],
            [
             0.3333333333333333,
             "#9c179e"
            ],
            [
             0.4444444444444444,
             "#bd3786"
            ],
            [
             0.5555555555555556,
             "#d8576b"
            ],
            [
             0.6666666666666666,
             "#ed7953"
            ],
            [
             0.7777777777777778,
             "#fb9f3a"
            ],
            [
             0.8888888888888888,
             "#fdca26"
            ],
            [
             1,
             "#f0f921"
            ]
           ]
          },
          "colorway": [
           "#636efa",
           "#EF553B",
           "#00cc96",
           "#ab63fa",
           "#FFA15A",
           "#19d3f3",
           "#FF6692",
           "#B6E880",
           "#FF97FF",
           "#FECB52"
          ],
          "font": {
           "color": "#2a3f5f"
          },
          "geo": {
           "bgcolor": "white",
           "lakecolor": "white",
           "landcolor": "#E5ECF6",
           "showlakes": true,
           "showland": true,
           "subunitcolor": "white"
          },
          "hoverlabel": {
           "align": "left"
          },
          "hovermode": "closest",
          "mapbox": {
           "style": "light"
          },
          "paper_bgcolor": "white",
          "plot_bgcolor": "#E5ECF6",
          "polar": {
           "angularaxis": {
            "gridcolor": "white",
            "linecolor": "white",
            "ticks": ""
           },
           "bgcolor": "#E5ECF6",
           "radialaxis": {
            "gridcolor": "white",
            "linecolor": "white",
            "ticks": ""
           }
          },
          "scene": {
           "xaxis": {
            "backgroundcolor": "#E5ECF6",
            "gridcolor": "white",
            "gridwidth": 2,
            "linecolor": "white",
            "showbackground": true,
            "ticks": "",
            "zerolinecolor": "white"
           },
           "yaxis": {
            "backgroundcolor": "#E5ECF6",
            "gridcolor": "white",
            "gridwidth": 2,
            "linecolor": "white",
            "showbackground": true,
            "ticks": "",
            "zerolinecolor": "white"
           },
           "zaxis": {
            "backgroundcolor": "#E5ECF6",
            "gridcolor": "white",
            "gridwidth": 2,
            "linecolor": "white",
            "showbackground": true,
            "ticks": "",
            "zerolinecolor": "white"
           }
          },
          "shapedefaults": {
           "line": {
            "color": "#2a3f5f"
           }
          },
          "ternary": {
           "aaxis": {
            "gridcolor": "white",
            "linecolor": "white",
            "ticks": ""
           },
           "baxis": {
            "gridcolor": "white",
            "linecolor": "white",
            "ticks": ""
           },
           "bgcolor": "#E5ECF6",
           "caxis": {
            "gridcolor": "white",
            "linecolor": "white",
            "ticks": ""
           }
          },
          "title": {
           "x": 0.05
          },
          "xaxis": {
           "automargin": true,
           "gridcolor": "white",
           "linecolor": "white",
           "ticks": "",
           "title": {
            "standoff": 15
           },
           "zerolinecolor": "white",
           "zerolinewidth": 2
          },
          "yaxis": {
           "automargin": true,
           "gridcolor": "white",
           "linecolor": "white",
           "ticks": "",
           "title": {
            "standoff": 15
           },
           "zerolinecolor": "white",
           "zerolinewidth": 2
          }
         }
        },
        "width": 1500,
        "xaxis": {
         "anchor": "y",
         "domain": [
          0,
          0.98
         ],
         "title": {
          "text": "density"
         }
        },
        "xaxis2": {
         "anchor": "y2",
         "domain": [
          0,
          0.98
         ],
         "matches": "x",
         "showticklabels": false
        },
        "xaxis3": {
         "anchor": "y3",
         "domain": [
          0,
          0.98
         ],
         "matches": "x",
         "showticklabels": false
        },
        "xaxis4": {
         "anchor": "y4",
         "domain": [
          0,
          0.98
         ],
         "matches": "x",
         "showticklabels": false
        },
        "xaxis5": {
         "anchor": "y5",
         "domain": [
          0,
          0.98
         ],
         "matches": "x",
         "showticklabels": false
        },
        "xaxis6": {
         "anchor": "y6",
         "domain": [
          0,
          0.98
         ],
         "matches": "x",
         "showticklabels": false
        },
        "yaxis": {
         "anchor": "x",
         "domain": [
          0,
          0.14166666666666666
         ],
         "title": {
          "text": "probability"
         }
        },
        "yaxis2": {
         "anchor": "x2",
         "domain": [
          0.17166666666666666,
          0.31333333333333335
         ],
         "matches": "y",
         "title": {
          "text": "probability"
         }
        },
        "yaxis3": {
         "anchor": "x3",
         "domain": [
          0.3433333333333333,
          0.485
         ],
         "matches": "y",
         "title": {
          "text": "probability"
         }
        },
        "yaxis4": {
         "anchor": "x4",
         "domain": [
          0.515,
          0.6566666666666667
         ],
         "matches": "y",
         "title": {
          "text": "probability"
         }
        },
        "yaxis5": {
         "anchor": "x5",
         "domain": [
          0.6866666666666666,
          0.8283333333333334
         ],
         "matches": "y",
         "title": {
          "text": "probability"
         }
        },
        "yaxis6": {
         "anchor": "x6",
         "domain": [
          0.8583333333333333,
          1
         ],
         "matches": "y",
         "title": {
          "text": "probability"
         }
        }
       }
      }
     },
     "metadata": {},
     "output_type": "display_data"
    },
    {
     "data": {
      "application/vnd.plotly.v1+json": {
       "config": {
        "plotlyServerURL": "https://plot.ly"
       },
       "data": [
        {
         "alignmentgroup": "True",
         "bingroup": "x",
         "histnorm": "probability",
         "hovertemplate": "quality=5<br>pH=%{x}<br>probability=%{y}<extra></extra>",
         "legendgroup": "5",
         "marker": {
          "color": "#636efa",
          "pattern": {
           "shape": ""
          }
         },
         "name": "5",
         "offsetgroup": "5",
         "orientation": "v",
         "showlegend": true,
         "type": "histogram",
         "x": [
          3.51,
          3.2,
          3.26,
          3.51,
          3.51,
          3.3,
          3.35,
          3.28,
          3.35,
          3.58,
          3.26,
          3.16,
          3.17,
          3.11,
          3.52,
          3.17,
          3.17,
          3.34,
          3.28,
          3.17,
          3.47,
          3.35,
          3.17,
          3.38,
          3.33,
          3.33,
          3.3,
          3.48,
          3.25,
          3.25,
          3.34,
          3.32,
          3.15,
          3.2,
          3.34,
          3.04,
          3.26,
          3.43,
          3.44,
          3.21,
          3.39,
          3.41,
          3.41,
          3.42,
          3.44,
          3.28,
          3.32,
          3.31,
          3.28,
          3.54,
          3.54,
          3.38,
          3.41,
          3.13,
          3.36,
          3.16,
          3.41,
          3.39,
          3.14,
          3.48,
          3.23,
          2.93,
          3.39,
          3.45,
          3.25,
          3.39,
          3.29,
          3.33,
          3.29,
          3.08,
          3.46,
          3.21,
          3.19,
          3.15,
          3.15,
          3.19,
          3.3,
          3.49,
          3.44,
          3.39,
          3.16,
          3.53,
          3.54,
          3.42,
          3.24,
          3.63,
          3.63,
          3.19,
          3.23,
          3.48,
          3.33,
          3.32,
          3.19,
          3.23,
          3.34,
          3.17,
          3.54,
          3.11,
          3.35,
          3.35,
          3.42,
          3.42,
          3.42,
          3.42,
          3.48,
          3.2,
          3.37,
          3.37,
          3.19,
          3.34,
          3,
          3.33,
          3.35,
          3.33,
          3.48,
          3.19,
          3.19,
          3.12,
          3.44,
          3.54,
          3.26,
          3.34,
          3.39,
          3.2,
          3.2,
          3.23,
          3.28,
          3.28,
          3.28,
          3.25,
          3.46,
          3.04,
          3.36,
          3.34,
          3.29,
          3.22,
          3.3,
          3.34,
          3.14,
          3.36,
          3.39,
          3.3,
          3.15,
          3.42,
          3.39,
          3.46,
          3.46,
          3,
          3.38,
          3.2,
          3.17,
          3.23,
          3.26,
          3.22,
          3.49,
          3.06,
          3.29,
          3.34,
          3.28,
          3.08,
          3.22,
          3.31,
          3.38,
          3.36,
          3.31,
          3.31,
          3.2,
          3.3,
          3.05,
          3.16,
          3.67,
          3.67,
          3.68,
          3.51,
          3.39,
          3.2,
          3.36,
          3.3,
          3.39,
          3.3,
          3.24,
          3.29,
          3.28,
          3.18,
          3.13,
          3.31,
          3.6,
          3.27,
          3.18,
          3.26,
          3.19,
          3.05,
          2.99,
          3.16,
          3.18,
          3.57,
          3.05,
          3.42,
          3.18,
          3.16,
          3.03,
          3.47,
          3.1,
          3.47,
          3.26,
          3.38,
          3.27,
          3.26,
          3.32,
          3.44,
          3.62,
          3.36,
          3.36,
          3.24,
          3.25,
          3.16,
          3.16,
          3.08,
          3.1,
          3.22,
          3.5,
          3.37,
          3.28,
          3.26,
          3.18,
          3.08,
          3.48,
          3.2,
          3.05,
          3.26,
          3.14,
          3.28,
          3.14,
          3.12,
          3.04,
          3.04,
          3.17,
          3.17,
          3.32,
          3.02,
          3.31,
          3.36,
          3.48,
          3.38,
          3.22,
          3.23,
          3.24,
          3.36,
          3.09,
          3.16,
          3.16,
          3.09,
          3.22,
          3.26,
          3.12,
          3.08,
          3.74,
          2.92,
          2.92,
          2.92,
          3.14,
          3.23,
          3.08,
          3.14,
          3.14,
          3.3,
          3.29,
          3.19,
          3.19,
          3.19,
          3.26,
          3.35,
          3.35,
          3.29,
          3.4,
          3.27,
          3.3,
          3.39,
          2.98,
          3.26,
          3.5,
          3.5,
          3.13,
          3.09,
          3.27,
          3.28,
          3.13,
          3.46,
          3.46,
          3.36,
          3.36,
          3.21,
          3.25,
          3.27,
          3.27,
          3.24,
          3.24,
          3.39,
          3.46,
          3.39,
          3.46,
          3.39,
          3.4,
          2.89,
          3.41,
          2.98,
          3.08,
          3.14,
          2.89,
          3.31,
          3.03,
          3.14,
          3.15,
          3.26,
          3.2,
          3.15,
          3.2,
          3.26,
          3.4,
          3.48,
          3.13,
          3.06,
          3.33,
          3.37,
          3.25,
          3.37,
          3.44,
          3.28,
          3.4,
          3.3,
          3.48,
          3.03,
          3.32,
          3.31,
          3.31,
          3.37,
          3.4,
          3.37,
          3.06,
          3.38,
          3.36,
          3.34,
          3.28,
          3.34,
          3.21,
          3.22,
          3.46,
          3.22,
          3.1,
          3.21,
          2.94,
          3.29,
          3.46,
          3.46,
          3.17,
          3.44,
          3.39,
          3.55,
          3.48,
          3.26,
          3.26,
          3.1,
          3.35,
          3.21,
          3.46,
          3.13,
          3.13,
          3.3,
          3.29,
          3.29,
          3.39,
          3.29,
          3.25,
          3.25,
          3.19,
          3.23,
          3.25,
          3.25,
          3.14,
          3.45,
          3.39,
          3.28,
          3.27,
          3.43,
          3.36,
          3.5,
          3.66,
          3.36,
          3.66,
          3.55,
          3.21,
          3.21,
          3.09,
          3.23,
          3.38,
          2.99,
          3.1,
          3.25,
          3.23,
          3.26,
          3.3,
          3.24,
          3.24,
          3.29,
          3.28,
          3.34,
          3.61,
          3.61,
          3.24,
          3.36,
          3.36,
          3.32,
          3.39,
          3.46,
          3.45,
          3.28,
          3.59,
          3.59,
          3.59,
          3.58,
          3.28,
          3.28,
          3.22,
          3.51,
          3.24,
          3.51,
          3.51,
          3.51,
          3.53,
          3.53,
          3.15,
          3.53,
          3.34,
          3.22,
          3.44,
          3.53,
          3.53,
          3.4,
          3.23,
          3.39,
          3.62,
          3.24,
          3.18,
          3.18,
          3.69,
          3.48,
          3.48,
          3.69,
          3.61,
          3.36,
          3.36,
          3.27,
          3.38,
          3.13,
          3.46,
          3.52,
          3.44,
          3.44,
          3.15,
          3.13,
          3.25,
          3.13,
          3.44,
          3.16,
          3.16,
          3.45,
          3.45,
          3.15,
          3.25,
          3.18,
          3.23,
          3.53,
          3.35,
          3.49,
          3.36,
          3.35,
          3.58,
          3.49,
          3.49,
          3.03,
          3.56,
          3.15,
          3.31,
          3.2,
          3.2,
          3.27,
          3.27,
          3.12,
          3.15,
          3.2,
          3.2,
          3.41,
          3.36,
          3.52,
          3.22,
          3.32,
          3.14,
          3.43,
          3.15,
          3.15,
          3.16,
          3.29,
          3.29,
          3.01,
          2.94,
          3.68,
          3.19,
          3.29,
          3.36,
          3.52,
          3.36,
          3.56,
          3.56,
          3.14,
          3.35,
          3.32,
          3.15,
          3.02,
          3.27,
          3.4,
          3.38,
          3.4,
          3.1,
          3.16,
          3.37,
          3.49,
          3.12,
          3.49,
          3.28,
          3.45,
          3.43,
          3.4,
          3.47,
          3.1,
          3.02,
          3.15,
          3.5,
          3.1,
          3.39,
          3.15,
          3.22,
          3.3,
          3.3,
          3.36,
          3.2,
          3.2,
          3.36,
          3.12,
          3.3,
          3.29,
          3.29,
          3.28,
          3.3,
          3.34,
          3.26,
          3.18,
          3.34,
          3.26,
          3.18,
          3.39,
          3.36,
          3.36,
          3.36,
          3.09,
          3.52,
          3.34,
          3.34,
          3.41,
          3.34,
          3.37,
          3.37,
          3.35,
          3.36,
          3.36,
          3.28,
          3.24,
          3.36,
          3.18,
          3.24,
          3,
          3,
          3.24,
          3.26,
          3.11,
          3.38,
          3.3,
          3.3,
          3.19,
          3.19,
          3.3,
          3.3,
          3.35,
          3.1,
          3.37,
          3.17,
          3.3,
          3.32,
          3.31,
          3.28,
          3.25,
          3.25,
          3.04,
          3.2,
          3.56,
          3.2,
          3.16,
          3.27,
          3.16,
          3.34,
          3.3,
          3.31,
          3.33,
          3.37,
          3.15,
          3.53,
          3.41,
          3.4,
          3.38,
          3.4,
          3.4,
          3.4,
          3.41,
          3.41,
          3.39,
          3.41,
          3.41,
          2.88,
          3.43,
          3.38,
          3.16,
          3.16,
          3.39,
          3.39,
          3.35,
          3.37,
          3.38,
          3.52,
          3.72,
          3.72,
          3.57,
          3.26,
          3.26,
          3.26,
          3.16,
          3.31,
          3.28,
          3.44,
          3.42,
          3.32,
          3.44,
          3.42,
          3.34,
          3.33,
          3.6,
          3.39,
          3.57,
          3.46,
          3.36,
          3.55,
          3.1,
          3.45,
          3.44,
          3.41,
          3.53,
          3.22,
          3.21,
          3.21,
          3.21,
          3.29,
          3.29,
          3.29,
          3.29,
          3.34,
          3.33,
          3.54,
          3.54,
          3.57,
          3.33,
          3.29,
          3.45,
          3.57
         ],
         "xaxis": "x6",
         "yaxis": "y6"
        },
        {
         "alignmentgroup": "True",
         "bingroup": "x",
         "histnorm": "probability",
         "hovertemplate": "quality=6<br>pH=%{x}<br>probability=%{y}<extra></extra>",
         "legendgroup": "6",
         "marker": {
          "color": "#EF553B",
          "pattern": {
           "shape": ""
          }
         },
         "name": "6",
         "offsetgroup": "6",
         "orientation": "v",
         "showlegend": true,
         "type": "histogram",
         "x": [
          3.16,
          3.04,
          3.39,
          3.43,
          3.38,
          3.46,
          3.45,
          3.4,
          3.42,
          3.21,
          3.4,
          3.39,
          3.17,
          3.41,
          3.34,
          3.32,
          3.52,
          3.44,
          2.93,
          2.93,
          3.85,
          3.3,
          3.4,
          3.31,
          3.3,
          3.37,
          3.32,
          3.07,
          3.39,
          3.37,
          3.21,
          3.34,
          3.21,
          3.4,
          3.22,
          3.68,
          3.68,
          3.42,
          3.53,
          3.33,
          3.59,
          3.33,
          3.47,
          3.29,
          3.29,
          3.42,
          3.58,
          3.52,
          3.57,
          3.11,
          3.34,
          3.3,
          3.35,
          3.21,
          3.24,
          3.34,
          3.28,
          3.37,
          3.04,
          3.37,
          3.37,
          3.34,
          3.32,
          3.37,
          3.37,
          3.37,
          3.37,
          3.32,
          3.14,
          3.08,
          3.61,
          3.35,
          3.61,
          3.22,
          3.47,
          3.47,
          3.69,
          3.28,
          3.36,
          3.28,
          3.36,
          3.69,
          3.28,
          3.12,
          3.1,
          3.37,
          3.22,
          3.41,
          3.05,
          3.38,
          3.22,
          3.12,
          3.19,
          3.19,
          3.41,
          3.12,
          3.27,
          3.32,
          3.42,
          3.3,
          3.3,
          3.28,
          3.16,
          3.16,
          3.16,
          3.23,
          3.23,
          3.22,
          3.35,
          3.16,
          3.12,
          3.21,
          3.3,
          3.3,
          3.12,
          3.02,
          3.11,
          3.36,
          3.28,
          3.35,
          3.25,
          3.55,
          3.17,
          3.37,
          3.26,
          3.32,
          3.32,
          3.01,
          3.26,
          3.11,
          3.31,
          3.21,
          3.06,
          3.21,
          3.21,
          3.43,
          3.41,
          3.31,
          3.43,
          3.06,
          3.18,
          3.18,
          3.29,
          3.1,
          3.15,
          3.36,
          3.24,
          3.19,
          3.38,
          3.26,
          3.24,
          3.49,
          3.26,
          3.1,
          3,
          3.15,
          3.26,
          3.17,
          3.15,
          3.06,
          3.23,
          3.2,
          3.1,
          3.1,
          3.06,
          3.44,
          3.35,
          2.98,
          3.16,
          3.32,
          3.17,
          3.2,
          3.15,
          3.2,
          3.18,
          3.19,
          3.06,
          3.17,
          3.34,
          3.31,
          3.48,
          3.44,
          3.43,
          3.48,
          3.43,
          3.17,
          3.18,
          3.18,
          3.03,
          3.25,
          3.22,
          3.42,
          3.39,
          3.34,
          3.41,
          3.22,
          3.28,
          3.41,
          3.37,
          3.21,
          3.06,
          2.86,
          3.45,
          3.26,
          3.12,
          3.27,
          3.33,
          3.19,
          3.12,
          3.07,
          3.07,
          3.3,
          3.31,
          3.3,
          3.32,
          3.32,
          3.31,
          3.57,
          3.32,
          3.57,
          3.19,
          3.2,
          3.14,
          3.47,
          3.12,
          3.04,
          3.09,
          3.2,
          3,
          3.1,
          3.1,
          3.17,
          3.31,
          3.31,
          3.32,
          3.56,
          3.32,
          2.87,
          3.03,
          3.49,
          3.27,
          3.27,
          3.32,
          3.18,
          3.16,
          3.12,
          3.32,
          3.32,
          3.36,
          3.04,
          3.18,
          2.94,
          2.94,
          3.08,
          3.08,
          3.21,
          3.9,
          3.47,
          3.47,
          3.11,
          3.08,
          3.47,
          3.47,
          3.34,
          3.27,
          3.29,
          3.43,
          3.61,
          3.5,
          3.45,
          3.52,
          3.3,
          3.52,
          3.52,
          3.09,
          3.51,
          3.6,
          3.31,
          3.31,
          3.31,
          3.55,
          3.55,
          3.3,
          3.31,
          3.4,
          3.4,
          3.31,
          3.18,
          3.18,
          3.33,
          3.48,
          3.17,
          3.29,
          3.29,
          3.24,
          3.26,
          3.22,
          3.09,
          3.21,
          3.23,
          3.28,
          3.56,
          3.56,
          3.23,
          3.18,
          3.5,
          3.47,
          3.47,
          3.47,
          3.4,
          3.66,
          3.41,
          3.4,
          3.4,
          3.44,
          3.41,
          3.41,
          3.22,
          3.48,
          3.22,
          3.22,
          3.33,
          3.43,
          3.22,
          3.53,
          3.42,
          3.42,
          3.59,
          3.43,
          3.29,
          3.23,
          3.18,
          3.33,
          3.29,
          3.27,
          3.38,
          3.3,
          3.38,
          3.3,
          3.38,
          3.38,
          3.47,
          3.45,
          3.39,
          3.39,
          3.44,
          3.31,
          3.29,
          3.16,
          3.15,
          3.16,
          3.34,
          3.2,
          3.33,
          3.33,
          3.32,
          3.34,
          3.32,
          3.45,
          3.14,
          3.36,
          3.39,
          3.12,
          3.47,
          3.17,
          3.38,
          3.22,
          3.06,
          2.89,
          2.89,
          3.2,
          3.2,
          3.27,
          3.33,
          3.41,
          3.37,
          3.3,
          3.2,
          3.33,
          3.38,
          3.33,
          3.36,
          3.32,
          3.31,
          3.27,
          3.27,
          3.13,
          3.13,
          3.14,
          3.3,
          3.22,
          3.28,
          3.29,
          3.4,
          3.31,
          3.15,
          3.16,
          3.42,
          3.33,
          3.42,
          3.29,
          3.35,
          3.43,
          3.35,
          3.35,
          3.11,
          3.35,
          3.45,
          3.35,
          3.28,
          3.21,
          3.17,
          3.25,
          3.29,
          3.12,
          3.49,
          3.38,
          3.38,
          3.38,
          3.3,
          3.44,
          3.45,
          3.12,
          3.39,
          3.51,
          3.21,
          3.18,
          3.38,
          3.22,
          3.22,
          3.34,
          3.41,
          3.27,
          3.3,
          3.61,
          3.53,
          3.28,
          3.39,
          3.23,
          3.46,
          3.23,
          3.59,
          3.42,
          3.21,
          3.21,
          3.32,
          3.2,
          3.42,
          3.27,
          3.46,
          3.46,
          3.61,
          3.27,
          3.27,
          3.38,
          3.33,
          3.33,
          3.28,
          3.22,
          3.52,
          3.21,
          3.16,
          3.15,
          3.21,
          3.16,
          3.35,
          3.35,
          3.15,
          3.1,
          3.26,
          3.29,
          3.23,
          3.24,
          3.2,
          3.28,
          3.28,
          3.26,
          3.23,
          3.07,
          3.37,
          3.39,
          3.26,
          3.39,
          3.22,
          3.33,
          3.41,
          3.4,
          3.4,
          3.32,
          3.44,
          3.44,
          3.38,
          3.38,
          3.38,
          3.1,
          3.47,
          3.7,
          3.38,
          3.24,
          3.24,
          3.35,
          3.24,
          3.37,
          3.37,
          3.33,
          3.26,
          3.35,
          3.29,
          3.62,
          3.29,
          3.35,
          3.45,
          3.78,
          3.6,
          3.3,
          3.33,
          3.4,
          3.4,
          3.26,
          4.01,
          3.18,
          3.26,
          2.9,
          4.01,
          3.39,
          3.39,
          3.39,
          3.39,
          3.29,
          3.29,
          3.09,
          3.38,
          3.36,
          3.36,
          3.36,
          3.37,
          3.36,
          3.25,
          3.32,
          3.6,
          3.07,
          3.07,
          3.46,
          3.25,
          3.27,
          3.21,
          3.71,
          3.29,
          3.36,
          3.36,
          3.58,
          3.31,
          3.42,
          3.44,
          3.43,
          3.22,
          3.54,
          3.54,
          3.5,
          3.56,
          3.22,
          3.39,
          3.26,
          3.26,
          3.41,
          3.26,
          3.48,
          3.18,
          3.18,
          3.32,
          3.16,
          3.32,
          3.16,
          3.21,
          3.5,
          3.3,
          3.41,
          3.36,
          3.34,
          3.38,
          3.44,
          3.39,
          3.35,
          3.45,
          3.53,
          3.45,
          3.51,
          3.36,
          3.51,
          3.36,
          3.38,
          3.47,
          3.53,
          3.33,
          3.53,
          3.53,
          3.38,
          3.38,
          3.39,
          3.3,
          3.29,
          3.31,
          3.42,
          3.42,
          3.21,
          3.36,
          3.6,
          3.5,
          3.56,
          3.3,
          3.25,
          3.36,
          3.51,
          3.54,
          3.54,
          3.39,
          3.34,
          3.48,
          3.37,
          3.44,
          3.58,
          3.39,
          3.26,
          3.3,
          3.54,
          3.42,
          3.36,
          3.3,
          3.34,
          3.55,
          3.27,
          3.32,
          3.67,
          3.42,
          3.42,
          3.52,
          3.42,
          3.39
         ],
         "xaxis": "x5",
         "yaxis": "y5"
        },
        {
         "alignmentgroup": "True",
         "bingroup": "x",
         "histnorm": "probability",
         "hovertemplate": "quality=7<br>pH=%{x}<br>probability=%{y}<extra></extra>",
         "legendgroup": "7",
         "marker": {
          "color": "#00cc96",
          "pattern": {
           "shape": ""
          }
         },
         "name": "7",
         "offsetgroup": "7",
         "orientation": "v",
         "showlegend": true,
         "type": "histogram",
         "x": [
          3.39,
          3.36,
          3.3,
          3.23,
          3.38,
          3.42,
          3.57,
          3.22,
          3.2,
          3.2,
          3.31,
          3.54,
          3.07,
          3.07,
          3.36,
          3.2,
          3.38,
          3.25,
          3.38,
          3.34,
          3.34,
          3.37,
          3.37,
          3.05,
          3.34,
          3.17,
          3.11,
          3.58,
          3.24,
          3.15,
          3.07,
          3.07,
          3.2,
          3.01,
          3.2,
          3.19,
          3.22,
          3.18,
          3.27,
          3.28,
          3.52,
          3.15,
          3.52,
          3.15,
          2.95,
          3.23,
          3.57,
          3.26,
          3.26,
          3.32,
          3.34,
          3.32,
          3.17,
          3.17,
          3.18,
          3.21,
          3.16,
          3.25,
          3.04,
          3.09,
          3.09,
          3.2,
          2.98,
          3.3,
          3.12,
          3.05,
          3.34,
          3.35,
          3.37,
          3.33,
          2.92,
          3.24,
          3.56,
          3.33,
          3.27,
          3.33,
          3.71,
          3.4,
          3.26,
          3.26,
          3.24,
          3.24,
          3.51,
          3.4,
          3.15,
          3.23,
          3.12,
          3.31,
          3.15,
          3.31,
          3.31,
          3.58,
          3.58,
          3.41,
          3.41,
          3.27,
          3.47,
          3.3,
          3.34,
          3.36,
          3.19,
          3.22,
          3.24,
          3.27,
          3.14,
          3.29,
          3.26,
          3.41,
          3.41,
          3.41,
          3.26,
          3.31,
          3.2,
          3.47,
          3.13,
          3.22,
          3.3,
          3.28,
          3.19,
          3.71,
          3.71,
          3.44,
          3.26,
          3.26,
          3.36,
          3.36,
          3.26,
          3.26,
          3.23,
          3.25,
          3.27,
          3.32,
          3.32,
          3.42,
          3.35,
          3.17,
          3.22,
          3.24,
          3.29,
          3.38,
          3.21,
          3.19,
          3.21,
          3.4,
          3.02,
          3.02,
          3.18,
          3.44,
          3.01,
          3.01,
          3.38,
          3.02,
          3.02,
          3.33,
          3.15,
          3.27,
          3.78,
          3.14,
          3.38,
          3.37,
          3.3,
          3.21,
          3.3,
          3.33,
          3.46,
          3.14,
          3.14,
          3.32,
          3.35,
          3.52,
          3.27,
          3.4,
          3.4,
          3.4,
          3.4,
          3.45,
          3.68,
          3.14,
          3.18,
          3.52,
          3.28,
          3.27,
          3.35,
          3.42,
          3.23,
          3.23,
          3.33,
          3.35,
          3.32,
          3.3,
          3.3,
          3.54,
          3.54,
          3.42,
          3.42,
          3.4,
          3.17,
          3.44,
          3.29
         ],
         "xaxis": "x4",
         "yaxis": "y4"
        },
        {
         "alignmentgroup": "True",
         "bingroup": "x",
         "histnorm": "probability",
         "hovertemplate": "quality=4<br>pH=%{x}<br>probability=%{y}<extra></extra>",
         "legendgroup": "4",
         "marker": {
          "color": "#ab63fa",
          "pattern": {
           "shape": ""
          }
         },
         "name": "4",
         "offsetgroup": "4",
         "orientation": "v",
         "showlegend": true,
         "type": "histogram",
         "x": [
          3.38,
          3.5,
          3.26,
          3.9,
          3.31,
          3.16,
          3.75,
          2.74,
          3.17,
          3.37,
          3.36,
          3.51,
          3.31,
          3.35,
          3.6,
          3.05,
          3.3,
          3.34,
          3.26,
          3.43,
          3.32,
          3.41,
          3.32,
          3.29,
          3.54,
          3.44,
          3.38,
          3.38,
          3.43,
          3.4,
          3.2,
          3.07,
          3.62,
          3.58,
          3.3,
          3.23,
          3.3,
          3.38,
          3.45,
          3.59,
          3.37,
          3.28,
          3.34,
          3.41,
          3.29,
          3.33,
          3.5,
          3.59,
          3.52,
          3.66,
          3.33,
          3.53,
          3.39
         ],
         "xaxis": "x3",
         "yaxis": "y3"
        },
        {
         "alignmentgroup": "True",
         "bingroup": "x",
         "histnorm": "probability",
         "hovertemplate": "quality=8<br>pH=%{x}<br>probability=%{y}<extra></extra>",
         "legendgroup": "8",
         "marker": {
          "color": "#FFA15A",
          "pattern": {
           "shape": ""
          }
         },
         "name": "8",
         "offsetgroup": "8",
         "orientation": "v",
         "showlegend": true,
         "type": "histogram",
         "x": [
          3.35,
          3.23,
          3.56,
          2.88,
          3.22,
          3.15,
          3.15,
          3.15,
          3.72,
          3.46,
          3.21,
          2.98,
          3.2,
          3.35,
          3.5,
          3.23,
          3.23,
          3.24
         ],
         "xaxis": "x2",
         "yaxis": "y2"
        },
        {
         "alignmentgroup": "True",
         "bingroup": "x",
         "histnorm": "probability",
         "hovertemplate": "quality=3<br>pH=%{x}<br>probability=%{y}<extra></extra>",
         "legendgroup": "3",
         "marker": {
          "color": "#19d3f3",
          "pattern": {
           "shape": ""
          }
         },
         "name": "3",
         "offsetgroup": "3",
         "orientation": "v",
         "showlegend": true,
         "type": "histogram",
         "x": [
          3.25,
          3.16,
          3.63,
          3.38,
          3.48,
          3.5,
          3.32,
          3.31,
          3.4,
          3.55
         ],
         "xaxis": "x",
         "yaxis": "y"
        }
       ],
       "layout": {
        "annotations": [
         {
          "font": {},
          "showarrow": false,
          "text": "quality=3",
          "textangle": 90,
          "x": 0.98,
          "xanchor": "left",
          "xref": "paper",
          "y": 0.07083333333333333,
          "yanchor": "middle",
          "yref": "paper"
         },
         {
          "font": {},
          "showarrow": false,
          "text": "quality=8",
          "textangle": 90,
          "x": 0.98,
          "xanchor": "left",
          "xref": "paper",
          "y": 0.2425,
          "yanchor": "middle",
          "yref": "paper"
         },
         {
          "font": {},
          "showarrow": false,
          "text": "quality=4",
          "textangle": 90,
          "x": 0.98,
          "xanchor": "left",
          "xref": "paper",
          "y": 0.4141666666666667,
          "yanchor": "middle",
          "yref": "paper"
         },
         {
          "font": {},
          "showarrow": false,
          "text": "quality=7",
          "textangle": 90,
          "x": 0.98,
          "xanchor": "left",
          "xref": "paper",
          "y": 0.5858333333333334,
          "yanchor": "middle",
          "yref": "paper"
         },
         {
          "font": {},
          "showarrow": false,
          "text": "quality=6",
          "textangle": 90,
          "x": 0.98,
          "xanchor": "left",
          "xref": "paper",
          "y": 0.7575000000000001,
          "yanchor": "middle",
          "yref": "paper"
         },
         {
          "font": {},
          "showarrow": false,
          "text": "quality=5",
          "textangle": 90,
          "x": 0.98,
          "xanchor": "left",
          "xref": "paper",
          "y": 0.9291666666666667,
          "yanchor": "middle",
          "yref": "paper"
         }
        ],
        "barmode": "relative",
        "legend": {
         "title": {
          "text": "quality"
         },
         "tracegroupgap": 0
        },
        "margin": {
         "t": 60
        },
        "template": {
         "data": {
          "bar": [
           {
            "error_x": {
             "color": "#2a3f5f"
            },
            "error_y": {
             "color": "#2a3f5f"
            },
            "marker": {
             "line": {
              "color": "#E5ECF6",
              "width": 0.5
             },
             "pattern": {
              "fillmode": "overlay",
              "size": 10,
              "solidity": 0.2
             }
            },
            "type": "bar"
           }
          ],
          "barpolar": [
           {
            "marker": {
             "line": {
              "color": "#E5ECF6",
              "width": 0.5
             },
             "pattern": {
              "fillmode": "overlay",
              "size": 10,
              "solidity": 0.2
             }
            },
            "type": "barpolar"
           }
          ],
          "carpet": [
           {
            "aaxis": {
             "endlinecolor": "#2a3f5f",
             "gridcolor": "white",
             "linecolor": "white",
             "minorgridcolor": "white",
             "startlinecolor": "#2a3f5f"
            },
            "baxis": {
             "endlinecolor": "#2a3f5f",
             "gridcolor": "white",
             "linecolor": "white",
             "minorgridcolor": "white",
             "startlinecolor": "#2a3f5f"
            },
            "type": "carpet"
           }
          ],
          "choropleth": [
           {
            "colorbar": {
             "outlinewidth": 0,
             "ticks": ""
            },
            "type": "choropleth"
           }
          ],
          "contour": [
           {
            "colorbar": {
             "outlinewidth": 0,
             "ticks": ""
            },
            "colorscale": [
             [
              0,
              "#0d0887"
             ],
             [
              0.1111111111111111,
              "#46039f"
             ],
             [
              0.2222222222222222,
              "#7201a8"
             ],
             [
              0.3333333333333333,
              "#9c179e"
             ],
             [
              0.4444444444444444,
              "#bd3786"
             ],
             [
              0.5555555555555556,
              "#d8576b"
             ],
             [
              0.6666666666666666,
              "#ed7953"
             ],
             [
              0.7777777777777778,
              "#fb9f3a"
             ],
             [
              0.8888888888888888,
              "#fdca26"
             ],
             [
              1,
              "#f0f921"
             ]
            ],
            "type": "contour"
           }
          ],
          "contourcarpet": [
           {
            "colorbar": {
             "outlinewidth": 0,
             "ticks": ""
            },
            "type": "contourcarpet"
           }
          ],
          "heatmap": [
           {
            "colorbar": {
             "outlinewidth": 0,
             "ticks": ""
            },
            "colorscale": [
             [
              0,
              "#0d0887"
             ],
             [
              0.1111111111111111,
              "#46039f"
             ],
             [
              0.2222222222222222,
              "#7201a8"
             ],
             [
              0.3333333333333333,
              "#9c179e"
             ],
             [
              0.4444444444444444,
              "#bd3786"
             ],
             [
              0.5555555555555556,
              "#d8576b"
             ],
             [
              0.6666666666666666,
              "#ed7953"
             ],
             [
              0.7777777777777778,
              "#fb9f3a"
             ],
             [
              0.8888888888888888,
              "#fdca26"
             ],
             [
              1,
              "#f0f921"
             ]
            ],
            "type": "heatmap"
           }
          ],
          "heatmapgl": [
           {
            "colorbar": {
             "outlinewidth": 0,
             "ticks": ""
            },
            "colorscale": [
             [
              0,
              "#0d0887"
             ],
             [
              0.1111111111111111,
              "#46039f"
             ],
             [
              0.2222222222222222,
              "#7201a8"
             ],
             [
              0.3333333333333333,
              "#9c179e"
             ],
             [
              0.4444444444444444,
              "#bd3786"
             ],
             [
              0.5555555555555556,
              "#d8576b"
             ],
             [
              0.6666666666666666,
              "#ed7953"
             ],
             [
              0.7777777777777778,
              "#fb9f3a"
             ],
             [
              0.8888888888888888,
              "#fdca26"
             ],
             [
              1,
              "#f0f921"
             ]
            ],
            "type": "heatmapgl"
           }
          ],
          "histogram": [
           {
            "marker": {
             "pattern": {
              "fillmode": "overlay",
              "size": 10,
              "solidity": 0.2
             }
            },
            "type": "histogram"
           }
          ],
          "histogram2d": [
           {
            "colorbar": {
             "outlinewidth": 0,
             "ticks": ""
            },
            "colorscale": [
             [
              0,
              "#0d0887"
             ],
             [
              0.1111111111111111,
              "#46039f"
             ],
             [
              0.2222222222222222,
              "#7201a8"
             ],
             [
              0.3333333333333333,
              "#9c179e"
             ],
             [
              0.4444444444444444,
              "#bd3786"
             ],
             [
              0.5555555555555556,
              "#d8576b"
             ],
             [
              0.6666666666666666,
              "#ed7953"
             ],
             [
              0.7777777777777778,
              "#fb9f3a"
             ],
             [
              0.8888888888888888,
              "#fdca26"
             ],
             [
              1,
              "#f0f921"
             ]
            ],
            "type": "histogram2d"
           }
          ],
          "histogram2dcontour": [
           {
            "colorbar": {
             "outlinewidth": 0,
             "ticks": ""
            },
            "colorscale": [
             [
              0,
              "#0d0887"
             ],
             [
              0.1111111111111111,
              "#46039f"
             ],
             [
              0.2222222222222222,
              "#7201a8"
             ],
             [
              0.3333333333333333,
              "#9c179e"
             ],
             [
              0.4444444444444444,
              "#bd3786"
             ],
             [
              0.5555555555555556,
              "#d8576b"
             ],
             [
              0.6666666666666666,
              "#ed7953"
             ],
             [
              0.7777777777777778,
              "#fb9f3a"
             ],
             [
              0.8888888888888888,
              "#fdca26"
             ],
             [
              1,
              "#f0f921"
             ]
            ],
            "type": "histogram2dcontour"
           }
          ],
          "mesh3d": [
           {
            "colorbar": {
             "outlinewidth": 0,
             "ticks": ""
            },
            "type": "mesh3d"
           }
          ],
          "parcoords": [
           {
            "line": {
             "colorbar": {
              "outlinewidth": 0,
              "ticks": ""
             }
            },
            "type": "parcoords"
           }
          ],
          "pie": [
           {
            "automargin": true,
            "type": "pie"
           }
          ],
          "scatter": [
           {
            "fillpattern": {
             "fillmode": "overlay",
             "size": 10,
             "solidity": 0.2
            },
            "type": "scatter"
           }
          ],
          "scatter3d": [
           {
            "line": {
             "colorbar": {
              "outlinewidth": 0,
              "ticks": ""
             }
            },
            "marker": {
             "colorbar": {
              "outlinewidth": 0,
              "ticks": ""
             }
            },
            "type": "scatter3d"
           }
          ],
          "scattercarpet": [
           {
            "marker": {
             "colorbar": {
              "outlinewidth": 0,
              "ticks": ""
             }
            },
            "type": "scattercarpet"
           }
          ],
          "scattergeo": [
           {
            "marker": {
             "colorbar": {
              "outlinewidth": 0,
              "ticks": ""
             }
            },
            "type": "scattergeo"
           }
          ],
          "scattergl": [
           {
            "marker": {
             "colorbar": {
              "outlinewidth": 0,
              "ticks": ""
             }
            },
            "type": "scattergl"
           }
          ],
          "scattermapbox": [
           {
            "marker": {
             "colorbar": {
              "outlinewidth": 0,
              "ticks": ""
             }
            },
            "type": "scattermapbox"
           }
          ],
          "scatterpolar": [
           {
            "marker": {
             "colorbar": {
              "outlinewidth": 0,
              "ticks": ""
             }
            },
            "type": "scatterpolar"
           }
          ],
          "scatterpolargl": [
           {
            "marker": {
             "colorbar": {
              "outlinewidth": 0,
              "ticks": ""
             }
            },
            "type": "scatterpolargl"
           }
          ],
          "scatterternary": [
           {
            "marker": {
             "colorbar": {
              "outlinewidth": 0,
              "ticks": ""
             }
            },
            "type": "scatterternary"
           }
          ],
          "surface": [
           {
            "colorbar": {
             "outlinewidth": 0,
             "ticks": ""
            },
            "colorscale": [
             [
              0,
              "#0d0887"
             ],
             [
              0.1111111111111111,
              "#46039f"
             ],
             [
              0.2222222222222222,
              "#7201a8"
             ],
             [
              0.3333333333333333,
              "#9c179e"
             ],
             [
              0.4444444444444444,
              "#bd3786"
             ],
             [
              0.5555555555555556,
              "#d8576b"
             ],
             [
              0.6666666666666666,
              "#ed7953"
             ],
             [
              0.7777777777777778,
              "#fb9f3a"
             ],
             [
              0.8888888888888888,
              "#fdca26"
             ],
             [
              1,
              "#f0f921"
             ]
            ],
            "type": "surface"
           }
          ],
          "table": [
           {
            "cells": {
             "fill": {
              "color": "#EBF0F8"
             },
             "line": {
              "color": "white"
             }
            },
            "header": {
             "fill": {
              "color": "#C8D4E3"
             },
             "line": {
              "color": "white"
             }
            },
            "type": "table"
           }
          ]
         },
         "layout": {
          "annotationdefaults": {
           "arrowcolor": "#2a3f5f",
           "arrowhead": 0,
           "arrowwidth": 1
          },
          "autotypenumbers": "strict",
          "coloraxis": {
           "colorbar": {
            "outlinewidth": 0,
            "ticks": ""
           }
          },
          "colorscale": {
           "diverging": [
            [
             0,
             "#8e0152"
            ],
            [
             0.1,
             "#c51b7d"
            ],
            [
             0.2,
             "#de77ae"
            ],
            [
             0.3,
             "#f1b6da"
            ],
            [
             0.4,
             "#fde0ef"
            ],
            [
             0.5,
             "#f7f7f7"
            ],
            [
             0.6,
             "#e6f5d0"
            ],
            [
             0.7,
             "#b8e186"
            ],
            [
             0.8,
             "#7fbc41"
            ],
            [
             0.9,
             "#4d9221"
            ],
            [
             1,
             "#276419"
            ]
           ],
           "sequential": [
            [
             0,
             "#0d0887"
            ],
            [
             0.1111111111111111,
             "#46039f"
            ],
            [
             0.2222222222222222,
             "#7201a8"
            ],
            [
             0.3333333333333333,
             "#9c179e"
            ],
            [
             0.4444444444444444,
             "#bd3786"
            ],
            [
             0.5555555555555556,
             "#d8576b"
            ],
            [
             0.6666666666666666,
             "#ed7953"
            ],
            [
             0.7777777777777778,
             "#fb9f3a"
            ],
            [
             0.8888888888888888,
             "#fdca26"
            ],
            [
             1,
             "#f0f921"
            ]
           ],
           "sequentialminus": [
            [
             0,
             "#0d0887"
            ],
            [
             0.1111111111111111,
             "#46039f"
            ],
            [
             0.2222222222222222,
             "#7201a8"
            ],
            [
             0.3333333333333333,
             "#9c179e"
            ],
            [
             0.4444444444444444,
             "#bd3786"
            ],
            [
             0.5555555555555556,
             "#d8576b"
            ],
            [
             0.6666666666666666,
             "#ed7953"
            ],
            [
             0.7777777777777778,
             "#fb9f3a"
            ],
            [
             0.8888888888888888,
             "#fdca26"
            ],
            [
             1,
             "#f0f921"
            ]
           ]
          },
          "colorway": [
           "#636efa",
           "#EF553B",
           "#00cc96",
           "#ab63fa",
           "#FFA15A",
           "#19d3f3",
           "#FF6692",
           "#B6E880",
           "#FF97FF",
           "#FECB52"
          ],
          "font": {
           "color": "#2a3f5f"
          },
          "geo": {
           "bgcolor": "white",
           "lakecolor": "white",
           "landcolor": "#E5ECF6",
           "showlakes": true,
           "showland": true,
           "subunitcolor": "white"
          },
          "hoverlabel": {
           "align": "left"
          },
          "hovermode": "closest",
          "mapbox": {
           "style": "light"
          },
          "paper_bgcolor": "white",
          "plot_bgcolor": "#E5ECF6",
          "polar": {
           "angularaxis": {
            "gridcolor": "white",
            "linecolor": "white",
            "ticks": ""
           },
           "bgcolor": "#E5ECF6",
           "radialaxis": {
            "gridcolor": "white",
            "linecolor": "white",
            "ticks": ""
           }
          },
          "scene": {
           "xaxis": {
            "backgroundcolor": "#E5ECF6",
            "gridcolor": "white",
            "gridwidth": 2,
            "linecolor": "white",
            "showbackground": true,
            "ticks": "",
            "zerolinecolor": "white"
           },
           "yaxis": {
            "backgroundcolor": "#E5ECF6",
            "gridcolor": "white",
            "gridwidth": 2,
            "linecolor": "white",
            "showbackground": true,
            "ticks": "",
            "zerolinecolor": "white"
           },
           "zaxis": {
            "backgroundcolor": "#E5ECF6",
            "gridcolor": "white",
            "gridwidth": 2,
            "linecolor": "white",
            "showbackground": true,
            "ticks": "",
            "zerolinecolor": "white"
           }
          },
          "shapedefaults": {
           "line": {
            "color": "#2a3f5f"
           }
          },
          "ternary": {
           "aaxis": {
            "gridcolor": "white",
            "linecolor": "white",
            "ticks": ""
           },
           "baxis": {
            "gridcolor": "white",
            "linecolor": "white",
            "ticks": ""
           },
           "bgcolor": "#E5ECF6",
           "caxis": {
            "gridcolor": "white",
            "linecolor": "white",
            "ticks": ""
           }
          },
          "title": {
           "x": 0.05
          },
          "xaxis": {
           "automargin": true,
           "gridcolor": "white",
           "linecolor": "white",
           "ticks": "",
           "title": {
            "standoff": 15
           },
           "zerolinecolor": "white",
           "zerolinewidth": 2
          },
          "yaxis": {
           "automargin": true,
           "gridcolor": "white",
           "linecolor": "white",
           "ticks": "",
           "title": {
            "standoff": 15
           },
           "zerolinecolor": "white",
           "zerolinewidth": 2
          }
         }
        },
        "width": 1500,
        "xaxis": {
         "anchor": "y",
         "domain": [
          0,
          0.98
         ],
         "title": {
          "text": "pH"
         }
        },
        "xaxis2": {
         "anchor": "y2",
         "domain": [
          0,
          0.98
         ],
         "matches": "x",
         "showticklabels": false
        },
        "xaxis3": {
         "anchor": "y3",
         "domain": [
          0,
          0.98
         ],
         "matches": "x",
         "showticklabels": false
        },
        "xaxis4": {
         "anchor": "y4",
         "domain": [
          0,
          0.98
         ],
         "matches": "x",
         "showticklabels": false
        },
        "xaxis5": {
         "anchor": "y5",
         "domain": [
          0,
          0.98
         ],
         "matches": "x",
         "showticklabels": false
        },
        "xaxis6": {
         "anchor": "y6",
         "domain": [
          0,
          0.98
         ],
         "matches": "x",
         "showticklabels": false
        },
        "yaxis": {
         "anchor": "x",
         "domain": [
          0,
          0.14166666666666666
         ],
         "title": {
          "text": "probability"
         }
        },
        "yaxis2": {
         "anchor": "x2",
         "domain": [
          0.17166666666666666,
          0.31333333333333335
         ],
         "matches": "y",
         "title": {
          "text": "probability"
         }
        },
        "yaxis3": {
         "anchor": "x3",
         "domain": [
          0.3433333333333333,
          0.485
         ],
         "matches": "y",
         "title": {
          "text": "probability"
         }
        },
        "yaxis4": {
         "anchor": "x4",
         "domain": [
          0.515,
          0.6566666666666667
         ],
         "matches": "y",
         "title": {
          "text": "probability"
         }
        },
        "yaxis5": {
         "anchor": "x5",
         "domain": [
          0.6866666666666666,
          0.8283333333333334
         ],
         "matches": "y",
         "title": {
          "text": "probability"
         }
        },
        "yaxis6": {
         "anchor": "x6",
         "domain": [
          0.8583333333333333,
          1
         ],
         "matches": "y",
         "title": {
          "text": "probability"
         }
        }
       }
      }
     },
     "metadata": {},
     "output_type": "display_data"
    },
    {
     "data": {
      "application/vnd.plotly.v1+json": {
       "config": {
        "plotlyServerURL": "https://plot.ly"
       },
       "data": [
        {
         "alignmentgroup": "True",
         "bingroup": "x",
         "histnorm": "probability",
         "hovertemplate": "quality=5<br>sulphates=%{x}<br>probability=%{y}<extra></extra>",
         "legendgroup": "5",
         "marker": {
          "color": "#636efa",
          "pattern": {
           "shape": ""
          }
         },
         "name": "5",
         "offsetgroup": "5",
         "orientation": "v",
         "showlegend": true,
         "type": "histogram",
         "x": [
          0.56,
          0.68,
          0.65,
          0.56,
          0.56,
          0.46,
          0.8,
          0.54,
          0.8,
          0.52,
          1.56,
          0.88,
          0.93,
          1.28,
          0.65,
          0.91,
          0.53,
          0.56,
          0.59,
          0.91,
          0.55,
          0.54,
          0.66,
          0.55,
          0.83,
          0.83,
          1.2,
          0.52,
          0.73,
          0.58,
          0.56,
          0.58,
          0.74,
          0.56,
          0.53,
          0.63,
          0.77,
          0.59,
          0.64,
          0.71,
          0.57,
          0.39,
          0.39,
          0.58,
          0.58,
          0.79,
          0.48,
          0.48,
          0.82,
          0.66,
          0.66,
          0.52,
          0.56,
          1.28,
          0.57,
          1.14,
          0.59,
          0.64,
          1.22,
          0.53,
          0.54,
          1.98,
          0.64,
          0.56,
          0.63,
          0.56,
          0.51,
          0.48,
          0.51,
          1.31,
          0.79,
          0.69,
          0.93,
          0.66,
          0.66,
          0.93,
          0.57,
          0.52,
          0.53,
          0.48,
          0.7,
          0.49,
          0.48,
          0.57,
          0.66,
          0.63,
          0.63,
          0.82,
          0.77,
          0.64,
          0.54,
          0.54,
          0.82,
          0.77,
          0.58,
          0.62,
          0.52,
          0.8,
          0.54,
          0.54,
          0.72,
          0.71,
          0.72,
          0.71,
          0.5,
          0.56,
          0.49,
          0.49,
          0.62,
          0.52,
          1.59,
          0.47,
          0.78,
          0.47,
          0.56,
          0.59,
          0.59,
          1.02,
          0.52,
          0.58,
          0.53,
          0.55,
          0.49,
          0.55,
          0.55,
          0.62,
          0.61,
          0.55,
          0.55,
          0.54,
          0.59,
          1.03,
          0.79,
          0.55,
          0.53,
          0.67,
          0.43,
          0.76,
          0.57,
          0.55,
          0.54,
          0.6,
          0.57,
          0.6,
          0.63,
          0.5,
          0.5,
          1.09,
          0.52,
          0.45,
          0.53,
          0.59,
          0.57,
          0.62,
          0.67,
          1.26,
          0.65,
          0.57,
          0.67,
          0.87,
          0.78,
          0.64,
          0.77,
          0.57,
          0.71,
          0.71,
          0.95,
          0.71,
          0.64,
          0.52,
          0.73,
          0.8,
          0.71,
          0.72,
          0.54,
          0.52,
          0.52,
          0.53,
          0.68,
          0.65,
          0.62,
          0.63,
          0.83,
          0.62,
          0.52,
          0.64,
          0.81,
          0.73,
          0.77,
          0.88,
          0.7,
          0.56,
          0.87,
          0.69,
          0.64,
          0.78,
          0.63,
          0.74,
          0.51,
          0.54,
          0.57,
          0.53,
          0.55,
          0.53,
          0.61,
          0.62,
          0.64,
          0.61,
          1.07,
          0.48,
          0.68,
          0.44,
          0.44,
          0.6,
          0.56,
          0.49,
          0.49,
          0.6,
          0.73,
          0.72,
          0.63,
          0.58,
          0.58,
          0.61,
          0.61,
          0.53,
          0.91,
          0.58,
          0.61,
          0.79,
          0.6,
          0.7,
          0.6,
          0.66,
          1.05,
          1.06,
          0.47,
          0.47,
          0.79,
          0.61,
          1.14,
          0.78,
          0.64,
          0.99,
          0.55,
          0.64,
          0.67,
          0.78,
          0.57,
          0.61,
          0.61,
          0.57,
          0.62,
          0.67,
          0.59,
          0.59,
          0.62,
          0.74,
          0.74,
          0.74,
          0.57,
          0.58,
          0.61,
          0.57,
          0.61,
          0.6,
          0.6,
          0.44,
          0.44,
          0.43,
          0.59,
          0.57,
          0.57,
          0.58,
          0.53,
          0.57,
          0.52,
          0.54,
          0.54,
          0.74,
          0.57,
          0.57,
          0.7,
          0.8,
          0.61,
          0.62,
          0.55,
          0.72,
          0.72,
          0.49,
          0.49,
          0.61,
          0.63,
          0.58,
          0.55,
          0.53,
          0.53,
          0.62,
          0.63,
          0.62,
          0.63,
          0.62,
          0.63,
          0.5,
          0.67,
          0.84,
          0.46,
          0.61,
          0.5,
          0.64,
          0.66,
          0.56,
          0.57,
          0.58,
          0.52,
          0.53,
          0.52,
          0.65,
          0.48,
          0.53,
          0.54,
          0.49,
          0.54,
          0.56,
          0.48,
          0.56,
          0.6,
          0.59,
          0.47,
          1.05,
          0.54,
          1.17,
          0.62,
          0.61,
          0.53,
          0.49,
          0.47,
          0.51,
          0.57,
          0.61,
          0.45,
          0.46,
          0.51,
          0.46,
          0.57,
          0.44,
          0.54,
          0.44,
          0.53,
          0.59,
          1.62,
          0.55,
          0.68,
          0.68,
          0.67,
          0.52,
          0.47,
          0.6,
          0.62,
          0.5,
          0.5,
          0.56,
          0.6,
          0.57,
          0.65,
          0.53,
          0.51,
          0.48,
          0.55,
          0.55,
          0.61,
          0.55,
          0.5,
          0.5,
          0.52,
          0.57,
          0.42,
          0.42,
          0.54,
          0.62,
          0.54,
          0.55,
          0.55,
          0.46,
          0.61,
          0.6,
          0.65,
          0.53,
          0.65,
          0.59,
          0.5,
          0.5,
          0.52,
          0.54,
          0.56,
          1.18,
          0.74,
          0.51,
          0.44,
          0.86,
          0.47,
          0.71,
          0.71,
          0.45,
          0.54,
          0.6,
          0.64,
          0.64,
          0.53,
          0.49,
          0.49,
          0.47,
          0.51,
          0.47,
          0.63,
          0.62,
          0.66,
          0.66,
          0.66,
          0.66,
          0.55,
          0.55,
          1.07,
          0.54,
          0.44,
          0.53,
          0.54,
          0.54,
          0.57,
          0.55,
          0.49,
          0.55,
          0.64,
          0.68,
          0.58,
          0.57,
          0.57,
          0.69,
          0.59,
          0.71,
          0.61,
          0.56,
          0.8,
          0.8,
          0.73,
          0.65,
          0.65,
          0.73,
          0.54,
          0.67,
          0.61,
          0.62,
          0.69,
          0.48,
          0.61,
          0.63,
          0.52,
          0.52,
          0.5,
          0.63,
          0.62,
          0.63,
          0.5,
          0.49,
          0.49,
          0.48,
          0.48,
          0.43,
          0.54,
          0.68,
          0.48,
          0.61,
          0.54,
          0.52,
          0.53,
          0.56,
          0.67,
          0.64,
          0.64,
          1.34,
          0.55,
          0.57,
          0.62,
          0.58,
          0.58,
          0.58,
          0.58,
          0.49,
          0.5,
          0.52,
          0.52,
          0.6,
          0.49,
          0.58,
          0.68,
          0.44,
          0.58,
          0.62,
          0.53,
          0.53,
          0.67,
          0.67,
          0.67,
          1.1,
          0.98,
          0.73,
          0.46,
          0.6,
          0.7,
          0.5,
          0.7,
          0.51,
          0.51,
          0.55,
          0.94,
          0.62,
          0.51,
          0.47,
          0.72,
          0.64,
          0.62,
          0.64,
          0.4,
          0.59,
          0.62,
          0.68,
          0.48,
          0.68,
          0.59,
          0.58,
          0.58,
          0.69,
          0.45,
          0.42,
          1.15,
          0.58,
          0.53,
          0.43,
          0.56,
          0.57,
          0.37,
          1.17,
          1.17,
          0.59,
          0.45,
          0.45,
          0.66,
          0.44,
          0.53,
          0.62,
          0.62,
          0.61,
          0.53,
          0.47,
          0.66,
          0.55,
          0.52,
          0.46,
          0.51,
          0.52,
          0.45,
          0.45,
          0.45,
          0.53,
          0.56,
          0.39,
          0.39,
          0.52,
          0.57,
          0.46,
          0.46,
          0.52,
          0.44,
          0.44,
          0.5,
          0.56,
          0.54,
          0.62,
          0.5,
          1.17,
          1.17,
          0.45,
          0.52,
          0.46,
          0.45,
          0.49,
          0.49,
          0.5,
          0.42,
          0.58,
          0.58,
          0.68,
          0.53,
          0.58,
          0.48,
          0.48,
          0.48,
          0.65,
          0.52,
          0.51,
          0.51,
          0.9,
          0.78,
          0.84,
          0.78,
          0.46,
          0.45,
          0.46,
          0.58,
          0.58,
          0.63,
          0.93,
          0.62,
          0.65,
          0.54,
          0.47,
          0.75,
          0.49,
          0.75,
          0.74,
          0.73,
          0.58,
          0.58,
          0.6,
          0.67,
          0.67,
          0.47,
          0.52,
          0.54,
          0.75,
          0.75,
          0.68,
          0.68,
          0.61,
          0.55,
          0.6,
          0.78,
          0.58,
          0.58,
          0.54,
          0.59,
          0.59,
          0.53,
          0.53,
          0.54,
          0.7,
          0.67,
          0.97,
          0.63,
          0.58,
          0.97,
          0.6,
          0.64,
          0.66,
          0.61,
          0.63,
          0.78,
          0.61,
          0.51,
          0.58,
          0.53,
          0.54,
          0.6,
          0.56,
          0.56,
          0.52,
          0.52,
          0.52,
          0.54,
          0.54,
          0.54,
          0.54,
          0.59,
          0.51,
          0.6,
          0.6,
          0.5,
          0.62,
          0.54,
          0.58,
          0.71
         ],
         "xaxis": "x6",
         "yaxis": "y6"
        },
        {
         "alignmentgroup": "True",
         "bingroup": "x",
         "histnorm": "probability",
         "hovertemplate": "quality=6<br>sulphates=%{x}<br>probability=%{y}<extra></extra>",
         "legendgroup": "6",
         "marker": {
          "color": "#EF553B",
          "pattern": {
           "shape": ""
          }
         },
         "name": "6",
         "offsetgroup": "6",
         "orientation": "v",
         "showlegend": true,
         "type": "histogram",
         "x": [
          0.58,
          1.08,
          0.53,
          0.63,
          0.59,
          0.57,
          0.52,
          0.55,
          0.6,
          0.9,
          0.63,
          0.64,
          0.63,
          0.54,
          0.95,
          0.54,
          0.55,
          0.78,
          1.95,
          1.95,
          0.6,
          0.59,
          0.61,
          0.56,
          0.59,
          0.8,
          0.67,
          0.63,
          0.61,
          0.5,
          0.6,
          0.54,
          0.6,
          0.58,
          0.55,
          0.79,
          0.79,
          0.58,
          0.61,
          0.53,
          0.57,
          0.56,
          0.55,
          0.61,
          0.61,
          0.57,
          0.61,
          0.58,
          0.62,
          0.97,
          0.56,
          0.86,
          0.56,
          0.67,
          0.71,
          0.59,
          0.6,
          0.58,
          1.61,
          0.58,
          0.52,
          0.7,
          0.55,
          0.58,
          0.58,
          0.58,
          0.58,
          0.55,
          0.71,
          0.49,
          0.96,
          0.48,
          0.96,
          0.78,
          0.7,
          0.7,
          0.91,
          0.97,
          0.67,
          0.97,
          0.67,
          0.91,
          0.97,
          0.82,
          0.76,
          0.7,
          0.64,
          0.6,
          0.81,
          0.59,
          0.64,
          0.59,
          0.62,
          0.63,
          0.53,
          0.59,
          0.54,
          0.63,
          0.65,
          0.64,
          0.64,
          0.7,
          0.69,
          0.69,
          0.67,
          0.66,
          0.66,
          0.54,
          0.7,
          1,
          1.18,
          0.87,
          0.75,
          0.75,
          0.78,
          0.93,
          0.92,
          0.86,
          0.98,
          0.83,
          0.59,
          0.61,
          0.68,
          0.91,
          0.93,
          0.87,
          1.04,
          0.81,
          1.11,
          0.99,
          0.7,
          0.8,
          0.8,
          0.8,
          0.8,
          0.76,
          0.74,
          0.54,
          0.74,
          0.8,
          0.65,
          0.65,
          0.47,
          0.61,
          0.63,
          0.76,
          0.65,
          0.7,
          0.62,
          0.66,
          0.76,
          0.49,
          0.56,
          0.6,
          0.65,
          0.89,
          0.56,
          0.66,
          0.89,
          0.68,
          0.56,
          0.56,
          0.61,
          0.61,
          1.06,
          0.63,
          0.61,
          0.7,
          0.72,
          0.79,
          0.62,
          0.71,
          0.82,
          0.89,
          1.06,
          0.7,
          0.66,
          0.42,
          0.75,
          0.67,
          0.74,
          0.55,
          0.65,
          0.74,
          0.65,
          0.71,
          0.63,
          0.63,
          0.81,
          0.74,
          0.68,
          0.9,
          0.77,
          0.75,
          0.87,
          0.66,
          0.56,
          0.87,
          0.77,
          0.73,
          0.72,
          0.79,
          0.78,
          0.86,
          0.75,
          0.61,
          0.56,
          0.73,
          0.74,
          0.56,
          0.56,
          0.68,
          0.61,
          0.68,
          0.6,
          0.6,
          0.79,
          0.57,
          0.91,
          0.57,
          0.7,
          0.8,
          0.51,
          0.66,
          0.5,
          0.6,
          0.63,
          0.48,
          0.7,
          0.56,
          0.56,
          0.62,
          0.59,
          0.53,
          0.64,
          0.52,
          0.6,
          1.36,
          0.93,
          0.96,
          0.6,
          0.6,
          0.57,
          1.36,
          0.57,
          0.54,
          0.81,
          0.81,
          0.7,
          0.79,
          0.6,
          0.66,
          0.66,
          0.67,
          0.67,
          0.49,
          0.62,
          0.67,
          0.67,
          0.62,
          0.57,
          0.67,
          0.67,
          0.61,
          0.66,
          0.48,
          0.72,
          0.49,
          0.65,
          0.68,
          0.73,
          0.47,
          0.72,
          0.73,
          1.06,
          0.43,
          0.46,
          0.53,
          0.55,
          0.54,
          0.53,
          0.53,
          0.92,
          0.91,
          0.6,
          0.59,
          0.6,
          0.56,
          0.56,
          0.68,
          0.6,
          0.53,
          0.52,
          0.52,
          0.66,
          0.57,
          0.55,
          0.68,
          0.76,
          0.58,
          0.73,
          0.77,
          0.77,
          0.72,
          0.83,
          0.7,
          0.73,
          0.73,
          0.73,
          0.82,
          0.6,
          0.83,
          0.84,
          0.82,
          0.64,
          0.57,
          0.57,
          0.5,
          0.65,
          0.78,
          0.5,
          0.65,
          0.56,
          0.65,
          0.58,
          0.58,
          0.58,
          0.54,
          0.59,
          0.52,
          0.57,
          0.6,
          0.62,
          0.52,
          0.67,
          0.64,
          0.72,
          0.89,
          0.72,
          0.89,
          0.64,
          0.9,
          0.59,
          0.72,
          0.72,
          0.54,
          0.62,
          0.58,
          0.85,
          0.69,
          0.85,
          0.86,
          0.6,
          0.87,
          0.87,
          0.71,
          0.82,
          0.71,
          0.58,
          0.51,
          0.48,
          0.62,
          0.48,
          0.53,
          0.55,
          0.58,
          0.58,
          0.84,
          0.44,
          0.44,
          0.53,
          0.53,
          0.55,
          0.6,
          0.56,
          0.54,
          0.59,
          0.47,
          0.83,
          0.64,
          0.83,
          0.62,
          0.58,
          0.62,
          0.78,
          0.77,
          0.62,
          0.62,
          0.7,
          0.64,
          0.63,
          0.57,
          0.6,
          0.58,
          0.58,
          0.73,
          0.51,
          0.59,
          0.77,
          0.59,
          0.69,
          0.6,
          0.59,
          0.49,
          0.49,
          0.78,
          0.63,
          0.54,
          0.63,
          0.66,
          0.54,
          0.76,
          0.64,
          0.71,
          0.59,
          0.66,
          0.6,
          0.6,
          0.6,
          0.53,
          0.55,
          0.48,
          0.65,
          0.54,
          0.6,
          0.69,
          0.63,
          0.6,
          0.76,
          0.76,
          0.64,
          0.65,
          0.85,
          0.65,
          0.82,
          0.81,
          0.87,
          0.66,
          0.52,
          0.65,
          0.66,
          0.68,
          1.16,
          0.75,
          0.56,
          0.62,
          0.67,
          0.68,
          0.74,
          0.62,
          0.62,
          0.7,
          0.81,
          0.81,
          0.86,
          0.46,
          0.46,
          0.57,
          0.59,
          0.6,
          0.58,
          0.54,
          0.79,
          0.58,
          0.54,
          0.62,
          0.62,
          0.75,
          0.48,
          0.56,
          0.69,
          0.81,
          0.69,
          0.83,
          0.77,
          0.77,
          0.46,
          0.76,
          0.82,
          0.78,
          0.4,
          0.64,
          0.4,
          0.6,
          0.54,
          0.75,
          0.61,
          0.61,
          0.7,
          0.63,
          0.63,
          0.72,
          0.6,
          0.6,
          0.87,
          0.55,
          0.75,
          0.57,
          0.53,
          0.54,
          0.6,
          0.54,
          0.64,
          0.64,
          0.68,
          0.63,
          0.54,
          0.75,
          0.67,
          0.75,
          0.61,
          0.56,
          0.61,
          0.74,
          0.8,
          0.59,
          0.54,
          0.53,
          0.58,
          0.59,
          0.69,
          0.58,
          1.33,
          0.59,
          0.6,
          0.6,
          0.6,
          0.6,
          0.56,
          0.56,
          0.43,
          0.66,
          0.54,
          0.54,
          0.54,
          0.51,
          0.54,
          0.53,
          0.51,
          0.59,
          0.65,
          0.65,
          0.53,
          1.18,
          0.5,
          1.03,
          0.62,
          0.51,
          0.62,
          0.62,
          0.59,
          0.65,
          0.72,
          0.82,
          0.62,
          0.94,
          0.93,
          0.93,
          0.44,
          0.73,
          0.94,
          0.84,
          0.7,
          0.7,
          0.71,
          0.54,
          0.85,
          0.77,
          0.77,
          0.68,
          0.52,
          0.68,
          0.52,
          0.69,
          0.63,
          0.5,
          0.68,
          0.58,
          0.53,
          0.79,
          0.76,
          0.56,
          0.81,
          0.63,
          0.58,
          0.63,
          0.69,
          0.55,
          0.66,
          0.55,
          0.72,
          0.77,
          0.65,
          0.6,
          0.72,
          0.72,
          0.83,
          0.83,
          0.78,
          0.65,
          0.66,
          0.67,
          0.6,
          0.69,
          0.68,
          0.59,
          0.68,
          0.64,
          0.63,
          0.56,
          0.57,
          0.64,
          0.66,
          0.6,
          0.6,
          0.82,
          0.71,
          0.57,
          0.93,
          0.65,
          0.67,
          0.48,
          0.64,
          0.78,
          0.6,
          0.67,
          0.6,
          0.84,
          0.85,
          0.66,
          0.78,
          0.82,
          0.56,
          0.75,
          0.82,
          0.76,
          0.75,
          0.66
         ],
         "xaxis": "x5",
         "yaxis": "y5"
        },
        {
         "alignmentgroup": "True",
         "bingroup": "x",
         "histnorm": "probability",
         "hovertemplate": "quality=7<br>sulphates=%{x}<br>probability=%{y}<extra></extra>",
         "legendgroup": "7",
         "marker": {
          "color": "#00cc96",
          "pattern": {
           "shape": ""
          }
         },
         "name": "7",
         "offsetgroup": "7",
         "orientation": "v",
         "showlegend": true,
         "type": "histogram",
         "x": [
          0.47,
          0.57,
          0.75,
          0.73,
          0.62,
          0.92,
          0.85,
          0.82,
          0.77,
          0.77,
          0.88,
          0.62,
          0.84,
          0.84,
          0.8,
          0.72,
          0.77,
          1.08,
          0.77,
          0.86,
          0.86,
          0.71,
          0.71,
          0.74,
          0.74,
          0.84,
          1.36,
          0.89,
          0.75,
          0.85,
          0.73,
          0.73,
          1.13,
          0.83,
          1.13,
          0.7,
          0.6,
          0.63,
          0.82,
          0.73,
          0.56,
          0.9,
          0.56,
          0.9,
          0.68,
          0.63,
          0.84,
          0.74,
          0.74,
          0.92,
          0.79,
          0.9,
          0.85,
          0.85,
          1.04,
          1.05,
          0.78,
          1.02,
          0.68,
          0.66,
          0.66,
          0.66,
          0.66,
          0.76,
          1.02,
          0.74,
          0.79,
          0.65,
          0.69,
          0.67,
          0.68,
          0.81,
          0.94,
          0.7,
          0.71,
          0.7,
          0.74,
          0.64,
          0.39,
          0.39,
          0.83,
          0.77,
          0.71,
          0.78,
          0.67,
          0.58,
          0.65,
          0.79,
          0.79,
          0.77,
          0.77,
          0.69,
          0.69,
          0.59,
          0.59,
          0.64,
          0.87,
          0.73,
          0.72,
          0.76,
          0.52,
          0.64,
          0.6,
          0.64,
          0.79,
          0.99,
          0.62,
          0.76,
          0.76,
          0.76,
          0.62,
          0.68,
          0.69,
          0.71,
          0.58,
          0.65,
          0.62,
          0.49,
          0.55,
          0.63,
          0.63,
          0.72,
          0.82,
          0.84,
          0.55,
          0.55,
          0.84,
          0.84,
          0.7,
          0.55,
          0.75,
          0.56,
          0.56,
          0.55,
          0.58,
          0.65,
          0.59,
          0.77,
          0.81,
          0.77,
          0.59,
          0.76,
          0.59,
          0.72,
          0.83,
          0.83,
          0.89,
          0.86,
          0.51,
          0.51,
          0.66,
          0.76,
          0.76,
          0.86,
          0.81,
          0.85,
          0.64,
          0.59,
          0.88,
          0.68,
          0.74,
          0.49,
          0.76,
          0.76,
          0.87,
          0.72,
          0.71,
          0.88,
          0.66,
          0.8,
          0.54,
          0.85,
          0.85,
          0.85,
          0.85,
          0.87,
          0.73,
          0.57,
          0.82,
          0.62,
          0.9,
          1.01,
          0.77,
          0.74,
          0.73,
          0.73,
          0.78,
          0.76,
          0.8,
          0.65,
          0.65,
          0.88,
          0.88,
          0.7,
          0.62,
          0.76,
          0.81,
          0.68,
          0.8
         ],
         "xaxis": "x4",
         "yaxis": "y4"
        },
        {
         "alignmentgroup": "True",
         "bingroup": "x",
         "histnorm": "probability",
         "hovertemplate": "quality=4<br>sulphates=%{x}<br>probability=%{y}<extra></extra>",
         "legendgroup": "4",
         "marker": {
          "color": "#ab63fa",
          "pattern": {
           "shape": ""
          }
         },
         "name": "4",
         "offsetgroup": "4",
         "orientation": "v",
         "showlegend": true,
         "type": "histogram",
         "x": [
          0.5,
          0.48,
          0.51,
          0.56,
          0.53,
          1.12,
          0.48,
          2,
          1.08,
          0.48,
          0.33,
          0.43,
          0.57,
          0.6,
          0.72,
          0.57,
          0.56,
          0.52,
          0.47,
          0.64,
          0.58,
          0.57,
          0.7,
          0.54,
          0.6,
          0.58,
          0.55,
          0.86,
          0.54,
          0.58,
          0.59,
          0.6,
          0.62,
          0.5,
          0.44,
          0.49,
          0.56,
          0.46,
          0.56,
          0.55,
          0.46,
          0.56,
          0.49,
          0.52,
          0.48,
          0.37,
          0.67,
          0.61,
          0.57,
          0.62,
          0.57,
          0.64,
          0.43
         ],
         "xaxis": "x3",
         "yaxis": "y3"
        },
        {
         "alignmentgroup": "True",
         "bingroup": "x",
         "histnorm": "probability",
         "hovertemplate": "quality=8<br>sulphates=%{x}<br>probability=%{y}<extra></extra>",
         "legendgroup": "8",
         "marker": {
          "color": "#FFA15A",
          "pattern": {
           "shape": ""
          }
         },
         "name": "8",
         "offsetgroup": "8",
         "orientation": "v",
         "showlegend": true,
         "type": "histogram",
         "x": [
          0.86,
          0.82,
          0.82,
          0.82,
          0.69,
          0.92,
          0.65,
          0.65,
          0.74,
          0.74,
          0.69,
          0.63,
          0.72,
          0.69,
          0.82,
          1.1,
          0.76,
          0.7
         ],
         "xaxis": "x2",
         "yaxis": "y2"
        },
        {
         "alignmentgroup": "True",
         "bingroup": "x",
         "histnorm": "probability",
         "hovertemplate": "quality=3<br>sulphates=%{x}<br>probability=%{y}<extra></extra>",
         "legendgroup": "3",
         "marker": {
          "color": "#19d3f3",
          "pattern": {
           "shape": ""
          }
         },
         "name": "3",
         "offsetgroup": "3",
         "orientation": "v",
         "showlegend": true,
         "type": "histogram",
         "x": [
          0.57,
          0.63,
          0.54,
          0.86,
          0.49,
          0.4,
          0.51,
          0.55,
          0.52,
          0.63
         ],
         "xaxis": "x",
         "yaxis": "y"
        }
       ],
       "layout": {
        "annotations": [
         {
          "font": {},
          "showarrow": false,
          "text": "quality=3",
          "textangle": 90,
          "x": 0.98,
          "xanchor": "left",
          "xref": "paper",
          "y": 0.07083333333333333,
          "yanchor": "middle",
          "yref": "paper"
         },
         {
          "font": {},
          "showarrow": false,
          "text": "quality=8",
          "textangle": 90,
          "x": 0.98,
          "xanchor": "left",
          "xref": "paper",
          "y": 0.2425,
          "yanchor": "middle",
          "yref": "paper"
         },
         {
          "font": {},
          "showarrow": false,
          "text": "quality=4",
          "textangle": 90,
          "x": 0.98,
          "xanchor": "left",
          "xref": "paper",
          "y": 0.4141666666666667,
          "yanchor": "middle",
          "yref": "paper"
         },
         {
          "font": {},
          "showarrow": false,
          "text": "quality=7",
          "textangle": 90,
          "x": 0.98,
          "xanchor": "left",
          "xref": "paper",
          "y": 0.5858333333333334,
          "yanchor": "middle",
          "yref": "paper"
         },
         {
          "font": {},
          "showarrow": false,
          "text": "quality=6",
          "textangle": 90,
          "x": 0.98,
          "xanchor": "left",
          "xref": "paper",
          "y": 0.7575000000000001,
          "yanchor": "middle",
          "yref": "paper"
         },
         {
          "font": {},
          "showarrow": false,
          "text": "quality=5",
          "textangle": 90,
          "x": 0.98,
          "xanchor": "left",
          "xref": "paper",
          "y": 0.9291666666666667,
          "yanchor": "middle",
          "yref": "paper"
         }
        ],
        "barmode": "relative",
        "legend": {
         "title": {
          "text": "quality"
         },
         "tracegroupgap": 0
        },
        "margin": {
         "t": 60
        },
        "template": {
         "data": {
          "bar": [
           {
            "error_x": {
             "color": "#2a3f5f"
            },
            "error_y": {
             "color": "#2a3f5f"
            },
            "marker": {
             "line": {
              "color": "#E5ECF6",
              "width": 0.5
             },
             "pattern": {
              "fillmode": "overlay",
              "size": 10,
              "solidity": 0.2
             }
            },
            "type": "bar"
           }
          ],
          "barpolar": [
           {
            "marker": {
             "line": {
              "color": "#E5ECF6",
              "width": 0.5
             },
             "pattern": {
              "fillmode": "overlay",
              "size": 10,
              "solidity": 0.2
             }
            },
            "type": "barpolar"
           }
          ],
          "carpet": [
           {
            "aaxis": {
             "endlinecolor": "#2a3f5f",
             "gridcolor": "white",
             "linecolor": "white",
             "minorgridcolor": "white",
             "startlinecolor": "#2a3f5f"
            },
            "baxis": {
             "endlinecolor": "#2a3f5f",
             "gridcolor": "white",
             "linecolor": "white",
             "minorgridcolor": "white",
             "startlinecolor": "#2a3f5f"
            },
            "type": "carpet"
           }
          ],
          "choropleth": [
           {
            "colorbar": {
             "outlinewidth": 0,
             "ticks": ""
            },
            "type": "choropleth"
           }
          ],
          "contour": [
           {
            "colorbar": {
             "outlinewidth": 0,
             "ticks": ""
            },
            "colorscale": [
             [
              0,
              "#0d0887"
             ],
             [
              0.1111111111111111,
              "#46039f"
             ],
             [
              0.2222222222222222,
              "#7201a8"
             ],
             [
              0.3333333333333333,
              "#9c179e"
             ],
             [
              0.4444444444444444,
              "#bd3786"
             ],
             [
              0.5555555555555556,
              "#d8576b"
             ],
             [
              0.6666666666666666,
              "#ed7953"
             ],
             [
              0.7777777777777778,
              "#fb9f3a"
             ],
             [
              0.8888888888888888,
              "#fdca26"
             ],
             [
              1,
              "#f0f921"
             ]
            ],
            "type": "contour"
           }
          ],
          "contourcarpet": [
           {
            "colorbar": {
             "outlinewidth": 0,
             "ticks": ""
            },
            "type": "contourcarpet"
           }
          ],
          "heatmap": [
           {
            "colorbar": {
             "outlinewidth": 0,
             "ticks": ""
            },
            "colorscale": [
             [
              0,
              "#0d0887"
             ],
             [
              0.1111111111111111,
              "#46039f"
             ],
             [
              0.2222222222222222,
              "#7201a8"
             ],
             [
              0.3333333333333333,
              "#9c179e"
             ],
             [
              0.4444444444444444,
              "#bd3786"
             ],
             [
              0.5555555555555556,
              "#d8576b"
             ],
             [
              0.6666666666666666,
              "#ed7953"
             ],
             [
              0.7777777777777778,
              "#fb9f3a"
             ],
             [
              0.8888888888888888,
              "#fdca26"
             ],
             [
              1,
              "#f0f921"
             ]
            ],
            "type": "heatmap"
           }
          ],
          "heatmapgl": [
           {
            "colorbar": {
             "outlinewidth": 0,
             "ticks": ""
            },
            "colorscale": [
             [
              0,
              "#0d0887"
             ],
             [
              0.1111111111111111,
              "#46039f"
             ],
             [
              0.2222222222222222,
              "#7201a8"
             ],
             [
              0.3333333333333333,
              "#9c179e"
             ],
             [
              0.4444444444444444,
              "#bd3786"
             ],
             [
              0.5555555555555556,
              "#d8576b"
             ],
             [
              0.6666666666666666,
              "#ed7953"
             ],
             [
              0.7777777777777778,
              "#fb9f3a"
             ],
             [
              0.8888888888888888,
              "#fdca26"
             ],
             [
              1,
              "#f0f921"
             ]
            ],
            "type": "heatmapgl"
           }
          ],
          "histogram": [
           {
            "marker": {
             "pattern": {
              "fillmode": "overlay",
              "size": 10,
              "solidity": 0.2
             }
            },
            "type": "histogram"
           }
          ],
          "histogram2d": [
           {
            "colorbar": {
             "outlinewidth": 0,
             "ticks": ""
            },
            "colorscale": [
             [
              0,
              "#0d0887"
             ],
             [
              0.1111111111111111,
              "#46039f"
             ],
             [
              0.2222222222222222,
              "#7201a8"
             ],
             [
              0.3333333333333333,
              "#9c179e"
             ],
             [
              0.4444444444444444,
              "#bd3786"
             ],
             [
              0.5555555555555556,
              "#d8576b"
             ],
             [
              0.6666666666666666,
              "#ed7953"
             ],
             [
              0.7777777777777778,
              "#fb9f3a"
             ],
             [
              0.8888888888888888,
              "#fdca26"
             ],
             [
              1,
              "#f0f921"
             ]
            ],
            "type": "histogram2d"
           }
          ],
          "histogram2dcontour": [
           {
            "colorbar": {
             "outlinewidth": 0,
             "ticks": ""
            },
            "colorscale": [
             [
              0,
              "#0d0887"
             ],
             [
              0.1111111111111111,
              "#46039f"
             ],
             [
              0.2222222222222222,
              "#7201a8"
             ],
             [
              0.3333333333333333,
              "#9c179e"
             ],
             [
              0.4444444444444444,
              "#bd3786"
             ],
             [
              0.5555555555555556,
              "#d8576b"
             ],
             [
              0.6666666666666666,
              "#ed7953"
             ],
             [
              0.7777777777777778,
              "#fb9f3a"
             ],
             [
              0.8888888888888888,
              "#fdca26"
             ],
             [
              1,
              "#f0f921"
             ]
            ],
            "type": "histogram2dcontour"
           }
          ],
          "mesh3d": [
           {
            "colorbar": {
             "outlinewidth": 0,
             "ticks": ""
            },
            "type": "mesh3d"
           }
          ],
          "parcoords": [
           {
            "line": {
             "colorbar": {
              "outlinewidth": 0,
              "ticks": ""
             }
            },
            "type": "parcoords"
           }
          ],
          "pie": [
           {
            "automargin": true,
            "type": "pie"
           }
          ],
          "scatter": [
           {
            "fillpattern": {
             "fillmode": "overlay",
             "size": 10,
             "solidity": 0.2
            },
            "type": "scatter"
           }
          ],
          "scatter3d": [
           {
            "line": {
             "colorbar": {
              "outlinewidth": 0,
              "ticks": ""
             }
            },
            "marker": {
             "colorbar": {
              "outlinewidth": 0,
              "ticks": ""
             }
            },
            "type": "scatter3d"
           }
          ],
          "scattercarpet": [
           {
            "marker": {
             "colorbar": {
              "outlinewidth": 0,
              "ticks": ""
             }
            },
            "type": "scattercarpet"
           }
          ],
          "scattergeo": [
           {
            "marker": {
             "colorbar": {
              "outlinewidth": 0,
              "ticks": ""
             }
            },
            "type": "scattergeo"
           }
          ],
          "scattergl": [
           {
            "marker": {
             "colorbar": {
              "outlinewidth": 0,
              "ticks": ""
             }
            },
            "type": "scattergl"
           }
          ],
          "scattermapbox": [
           {
            "marker": {
             "colorbar": {
              "outlinewidth": 0,
              "ticks": ""
             }
            },
            "type": "scattermapbox"
           }
          ],
          "scatterpolar": [
           {
            "marker": {
             "colorbar": {
              "outlinewidth": 0,
              "ticks": ""
             }
            },
            "type": "scatterpolar"
           }
          ],
          "scatterpolargl": [
           {
            "marker": {
             "colorbar": {
              "outlinewidth": 0,
              "ticks": ""
             }
            },
            "type": "scatterpolargl"
           }
          ],
          "scatterternary": [
           {
            "marker": {
             "colorbar": {
              "outlinewidth": 0,
              "ticks": ""
             }
            },
            "type": "scatterternary"
           }
          ],
          "surface": [
           {
            "colorbar": {
             "outlinewidth": 0,
             "ticks": ""
            },
            "colorscale": [
             [
              0,
              "#0d0887"
             ],
             [
              0.1111111111111111,
              "#46039f"
             ],
             [
              0.2222222222222222,
              "#7201a8"
             ],
             [
              0.3333333333333333,
              "#9c179e"
             ],
             [
              0.4444444444444444,
              "#bd3786"
             ],
             [
              0.5555555555555556,
              "#d8576b"
             ],
             [
              0.6666666666666666,
              "#ed7953"
             ],
             [
              0.7777777777777778,
              "#fb9f3a"
             ],
             [
              0.8888888888888888,
              "#fdca26"
             ],
             [
              1,
              "#f0f921"
             ]
            ],
            "type": "surface"
           }
          ],
          "table": [
           {
            "cells": {
             "fill": {
              "color": "#EBF0F8"
             },
             "line": {
              "color": "white"
             }
            },
            "header": {
             "fill": {
              "color": "#C8D4E3"
             },
             "line": {
              "color": "white"
             }
            },
            "type": "table"
           }
          ]
         },
         "layout": {
          "annotationdefaults": {
           "arrowcolor": "#2a3f5f",
           "arrowhead": 0,
           "arrowwidth": 1
          },
          "autotypenumbers": "strict",
          "coloraxis": {
           "colorbar": {
            "outlinewidth": 0,
            "ticks": ""
           }
          },
          "colorscale": {
           "diverging": [
            [
             0,
             "#8e0152"
            ],
            [
             0.1,
             "#c51b7d"
            ],
            [
             0.2,
             "#de77ae"
            ],
            [
             0.3,
             "#f1b6da"
            ],
            [
             0.4,
             "#fde0ef"
            ],
            [
             0.5,
             "#f7f7f7"
            ],
            [
             0.6,
             "#e6f5d0"
            ],
            [
             0.7,
             "#b8e186"
            ],
            [
             0.8,
             "#7fbc41"
            ],
            [
             0.9,
             "#4d9221"
            ],
            [
             1,
             "#276419"
            ]
           ],
           "sequential": [
            [
             0,
             "#0d0887"
            ],
            [
             0.1111111111111111,
             "#46039f"
            ],
            [
             0.2222222222222222,
             "#7201a8"
            ],
            [
             0.3333333333333333,
             "#9c179e"
            ],
            [
             0.4444444444444444,
             "#bd3786"
            ],
            [
             0.5555555555555556,
             "#d8576b"
            ],
            [
             0.6666666666666666,
             "#ed7953"
            ],
            [
             0.7777777777777778,
             "#fb9f3a"
            ],
            [
             0.8888888888888888,
             "#fdca26"
            ],
            [
             1,
             "#f0f921"
            ]
           ],
           "sequentialminus": [
            [
             0,
             "#0d0887"
            ],
            [
             0.1111111111111111,
             "#46039f"
            ],
            [
             0.2222222222222222,
             "#7201a8"
            ],
            [
             0.3333333333333333,
             "#9c179e"
            ],
            [
             0.4444444444444444,
             "#bd3786"
            ],
            [
             0.5555555555555556,
             "#d8576b"
            ],
            [
             0.6666666666666666,
             "#ed7953"
            ],
            [
             0.7777777777777778,
             "#fb9f3a"
            ],
            [
             0.8888888888888888,
             "#fdca26"
            ],
            [
             1,
             "#f0f921"
            ]
           ]
          },
          "colorway": [
           "#636efa",
           "#EF553B",
           "#00cc96",
           "#ab63fa",
           "#FFA15A",
           "#19d3f3",
           "#FF6692",
           "#B6E880",
           "#FF97FF",
           "#FECB52"
          ],
          "font": {
           "color": "#2a3f5f"
          },
          "geo": {
           "bgcolor": "white",
           "lakecolor": "white",
           "landcolor": "#E5ECF6",
           "showlakes": true,
           "showland": true,
           "subunitcolor": "white"
          },
          "hoverlabel": {
           "align": "left"
          },
          "hovermode": "closest",
          "mapbox": {
           "style": "light"
          },
          "paper_bgcolor": "white",
          "plot_bgcolor": "#E5ECF6",
          "polar": {
           "angularaxis": {
            "gridcolor": "white",
            "linecolor": "white",
            "ticks": ""
           },
           "bgcolor": "#E5ECF6",
           "radialaxis": {
            "gridcolor": "white",
            "linecolor": "white",
            "ticks": ""
           }
          },
          "scene": {
           "xaxis": {
            "backgroundcolor": "#E5ECF6",
            "gridcolor": "white",
            "gridwidth": 2,
            "linecolor": "white",
            "showbackground": true,
            "ticks": "",
            "zerolinecolor": "white"
           },
           "yaxis": {
            "backgroundcolor": "#E5ECF6",
            "gridcolor": "white",
            "gridwidth": 2,
            "linecolor": "white",
            "showbackground": true,
            "ticks": "",
            "zerolinecolor": "white"
           },
           "zaxis": {
            "backgroundcolor": "#E5ECF6",
            "gridcolor": "white",
            "gridwidth": 2,
            "linecolor": "white",
            "showbackground": true,
            "ticks": "",
            "zerolinecolor": "white"
           }
          },
          "shapedefaults": {
           "line": {
            "color": "#2a3f5f"
           }
          },
          "ternary": {
           "aaxis": {
            "gridcolor": "white",
            "linecolor": "white",
            "ticks": ""
           },
           "baxis": {
            "gridcolor": "white",
            "linecolor": "white",
            "ticks": ""
           },
           "bgcolor": "#E5ECF6",
           "caxis": {
            "gridcolor": "white",
            "linecolor": "white",
            "ticks": ""
           }
          },
          "title": {
           "x": 0.05
          },
          "xaxis": {
           "automargin": true,
           "gridcolor": "white",
           "linecolor": "white",
           "ticks": "",
           "title": {
            "standoff": 15
           },
           "zerolinecolor": "white",
           "zerolinewidth": 2
          },
          "yaxis": {
           "automargin": true,
           "gridcolor": "white",
           "linecolor": "white",
           "ticks": "",
           "title": {
            "standoff": 15
           },
           "zerolinecolor": "white",
           "zerolinewidth": 2
          }
         }
        },
        "width": 1500,
        "xaxis": {
         "anchor": "y",
         "domain": [
          0,
          0.98
         ],
         "title": {
          "text": "sulphates"
         }
        },
        "xaxis2": {
         "anchor": "y2",
         "domain": [
          0,
          0.98
         ],
         "matches": "x",
         "showticklabels": false
        },
        "xaxis3": {
         "anchor": "y3",
         "domain": [
          0,
          0.98
         ],
         "matches": "x",
         "showticklabels": false
        },
        "xaxis4": {
         "anchor": "y4",
         "domain": [
          0,
          0.98
         ],
         "matches": "x",
         "showticklabels": false
        },
        "xaxis5": {
         "anchor": "y5",
         "domain": [
          0,
          0.98
         ],
         "matches": "x",
         "showticklabels": false
        },
        "xaxis6": {
         "anchor": "y6",
         "domain": [
          0,
          0.98
         ],
         "matches": "x",
         "showticklabels": false
        },
        "yaxis": {
         "anchor": "x",
         "domain": [
          0,
          0.14166666666666666
         ],
         "title": {
          "text": "probability"
         }
        },
        "yaxis2": {
         "anchor": "x2",
         "domain": [
          0.17166666666666666,
          0.31333333333333335
         ],
         "matches": "y",
         "title": {
          "text": "probability"
         }
        },
        "yaxis3": {
         "anchor": "x3",
         "domain": [
          0.3433333333333333,
          0.485
         ],
         "matches": "y",
         "title": {
          "text": "probability"
         }
        },
        "yaxis4": {
         "anchor": "x4",
         "domain": [
          0.515,
          0.6566666666666667
         ],
         "matches": "y",
         "title": {
          "text": "probability"
         }
        },
        "yaxis5": {
         "anchor": "x5",
         "domain": [
          0.6866666666666666,
          0.8283333333333334
         ],
         "matches": "y",
         "title": {
          "text": "probability"
         }
        },
        "yaxis6": {
         "anchor": "x6",
         "domain": [
          0.8583333333333333,
          1
         ],
         "matches": "y",
         "title": {
          "text": "probability"
         }
        }
       }
      }
     },
     "metadata": {},
     "output_type": "display_data"
    },
    {
     "data": {
      "application/vnd.plotly.v1+json": {
       "config": {
        "plotlyServerURL": "https://plot.ly"
       },
       "data": [
        {
         "alignmentgroup": "True",
         "bingroup": "x",
         "histnorm": "probability",
         "hovertemplate": "quality=5<br>alcohol=%{x}<br>probability=%{y}<extra></extra>",
         "legendgroup": "5",
         "marker": {
          "color": "#636efa",
          "pattern": {
           "shape": ""
          }
         },
         "name": "5",
         "offsetgroup": "5",
         "orientation": "v",
         "showlegend": true,
         "type": "histogram",
         "x": [
          9.4,
          9.8,
          9.8,
          9.4,
          9.4,
          9.4,
          10.5,
          9.2,
          10.5,
          9.9,
          9.1,
          9.2,
          9.2,
          9.3,
          9.7,
          9.5,
          9.4,
          9.3,
          9.5,
          9.5,
          9.4,
          10.1,
          9.8,
          9.2,
          10.5,
          10.5,
          10.3,
          9.5,
          9.2,
          9.5,
          9.2,
          9.2,
          9.2,
          9.4,
          9.5,
          9.6,
          9.4,
          10,
          9.2,
          9.3,
          9.8,
          10.9,
          10.9,
          9.6,
          10.7,
          10.7,
          9.5,
          9.5,
          9.6,
          10.5,
          10.5,
          10.1,
          9.2,
          9.4,
          9.1,
          9.4,
          10.1,
          9.6,
          9.5,
          9,
          9.5,
          9.8,
          9.6,
          10.7,
          9.2,
          9.8,
          9.2,
          9.4,
          9.2,
          9.3,
          9.3,
          9.3,
          9.5,
          9.8,
          9.8,
          9.5,
          9,
          9.2,
          9.5,
          9.5,
          9.4,
          10.9,
          10.9,
          9.4,
          9.4,
          13,
          13,
          9.6,
          9.5,
          9.2,
          9.5,
          9.5,
          9.6,
          9.5,
          9.4,
          9.4,
          10,
          9.3,
          10.1,
          10.1,
          10.5,
          10.5,
          10.5,
          10.5,
          9.3,
          9.6,
          9.4,
          9.4,
          9.5,
          10.2,
          9.5,
          9.5,
          9.5,
          9.5,
          9.6,
          9.5,
          9.5,
          9.3,
          9.3,
          9.3,
          9.7,
          9.2,
          9.7,
          9.5,
          9.5,
          9.4,
          9.5,
          9.7,
          9.7,
          9.4,
          10.2,
          9.3,
          9.5,
          9.2,
          9.3,
          9.4,
          10.1,
          10.5,
          11,
          9.1,
          9.7,
          9.5,
          9.4,
          9.5,
          9.8,
          11,
          11,
          9.3,
          9.5,
          9.3,
          10.5,
          9.5,
          9.3,
          9.2,
          9.2,
          9.4,
          9.3,
          10,
          9.3,
          10.9,
          10.1,
          9.4,
          9.4,
          9.1,
          9.8,
          9.8,
          9.2,
          10.5,
          9.5,
          9.9,
          9.6,
          9.7,
          9.6,
          10,
          9.5,
          9.2,
          9.4,
          9.4,
          11,
          10.1,
          9.7,
          9.3,
          11.5,
          9.5,
          11,
          10.3,
          9.9,
          9.3,
          13,
          11,
          9.4,
          10,
          10.2,
          9,
          9.4,
          9.9,
          9.2,
          9.2,
          9.5,
          9.1,
          9.9,
          9.9,
          9.4,
          9.9,
          9.1,
          9.5,
          9.3,
          9.5,
          9.3,
          10.5,
          9.9,
          10.9,
          10.9,
          9.3,
          9.2,
          9.5,
          9.5,
          9.3,
          10.5,
          11.2,
          11.1,
          10.3,
          9.6,
          9.3,
          11.8,
          9,
          9.7,
          9.8,
          10.6,
          10.6,
          10.2,
          9.7,
          10.2,
          9.2,
          9.4,
          9.4,
          10,
          10,
          11.1,
          9.5,
          9.3,
          11,
          9.1,
          9.8,
          9.4,
          9.5,
          9.9,
          11,
          9.4,
          10.3,
          10.3,
          9.4,
          11.2,
          9.6,
          9.9,
          9.1,
          11.5,
          11.1,
          11.1,
          11.1,
          11.4,
          9.2,
          9.2,
          11.4,
          10.4,
          9.5,
          9.8,
          9.6,
          9.6,
          9.2,
          9.3,
          9.7,
          9.7,
          9,
          9.5,
          9.3,
          9.3,
          9.2,
          9.4,
          9.8,
          9.7,
          9.7,
          10.2,
          9.3,
          9.4,
          9.4,
          9.5,
          10.2,
          10.2,
          9.1,
          9.1,
          9.3,
          9.5,
          9.5,
          9.7,
          9.4,
          9.4,
          9.4,
          9.5,
          9.4,
          9.5,
          9.4,
          10.1,
          9.6,
          11.2,
          14.9,
          9.5,
          9.4,
          9.6,
          9,
          10.2,
          9.7,
          11,
          10,
          9.5,
          9.5,
          9.5,
          10.2,
          9.9,
          10,
          9.6,
          9,
          9.8,
          11.3,
          9.4,
          11.3,
          9.1,
          9.7,
          9.4,
          9.4,
          9.8,
          9,
          9.4,
          9.4,
          9.7,
          9.9,
          10,
          10.5,
          10.1,
          9.5,
          9.4,
          9.4,
          9.8,
          9.4,
          10,
          9.6,
          9.5,
          9.6,
          9.2,
          10,
          9.5,
          10.4,
          9.5,
          9.5,
          9.6,
          11.5,
          9.6,
          9.5,
          9.3,
          9.5,
          9.5,
          9.2,
          9.3,
          9.5,
          9.2,
          10,
          9.5,
          9.4,
          9.5,
          9.5,
          9.4,
          9.5,
          9.8,
          9.8,
          9.2,
          9.7,
          9.6,
          9.6,
          9.4,
          9.5,
          9.6,
          9.4,
          9.4,
          10,
          10.5,
          9.8,
          9.8,
          10,
          9.8,
          9.8,
          9.5,
          9.5,
          9.3,
          9.6,
          10.8,
          10.2,
          9.6,
          9.4,
          10,
          9.2,
          10.5,
          10.8,
          10.8,
          9.4,
          9.6,
          9.7,
          9.8,
          9.8,
          10.3,
          10.7,
          10.7,
          9.4,
          9.3,
          10,
          10.3,
          9.4,
          9.8,
          9.8,
          9.8,
          9.8,
          9.5,
          9.5,
          9.7,
          9.5,
          10.4,
          9.7,
          9.5,
          9.7,
          10.6,
          9.5,
          9.9,
          9.5,
          10.5,
          9.3,
          10.1,
          9.7,
          9.7,
          11.8,
          9.5,
          11,
          11,
          10.5,
          11.2,
          11.2,
          10.5,
          9.8,
          9.8,
          10.5,
          11.4,
          10.4,
          10,
          9.3,
          9.5,
          9.2,
          10.2,
          10.7,
          9.4,
          9.4,
          9.1,
          10.4,
          10,
          10.4,
          9.4,
          9.4,
          9.4,
          9.4,
          9.4,
          9.4,
          10.3,
          10.9,
          10,
          10.4,
          10.5,
          11.6,
          9.6,
          9.2,
          10.2,
          10.4,
          10.4,
          9.2,
          12.9,
          9.1,
          10.8,
          9.2,
          9.2,
          11,
          11,
          9.6,
          10.5,
          9.4,
          9.4,
          12.8,
          9.5,
          12.9,
          10,
          9.5,
          9.1,
          10.1,
          9.8,
          9.8,
          10.8,
          10,
          10,
          9.4,
          10.2,
          11.4,
          11.4,
          9.3,
          10.9,
          12.2,
          10.9,
          10.8,
          10.8,
          9.4,
          10,
          9.3,
          9.4,
          9.2,
          9.6,
          9.5,
          10.8,
          9.5,
          9.3,
          9.8,
          9.5,
          10.5,
          10,
          10.5,
          9.8,
          9.8,
          9.5,
          10.9,
          11,
          9.2,
          9.3,
          9.8,
          11.2,
          9.3,
          10.9,
          10.5,
          13,
          10.2,
          10.2,
          11,
          9.5,
          9.5,
          11.2,
          9.2,
          9.8,
          10.1,
          10.1,
          9.2,
          9.8,
          10.5,
          10.1,
          11.4,
          9.3,
          9.2,
          9.6,
          10,
          9.5,
          9.5,
          9.5,
          11,
          11.4,
          9.5,
          9.5,
          10.8,
          10,
          10.3,
          10.3,
          10,
          10.1,
          10.1,
          9.5,
          10.9,
          10.1,
          9.5,
          9.8,
          9.2,
          9.2,
          9.3,
          9.9,
          10,
          9.6,
          9.9,
          9.9,
          9.5,
          9.2,
          9.6,
          9.6,
          10.3,
          9.7,
          11,
          9.8,
          10.2,
          9.2,
          9.55,
          9.9,
          9.9,
          9.9,
          10.1,
          9.6,
          9.4,
          9.6,
          9.8,
          9.9,
          9.8,
          9.4,
          11.2,
          11,
          11.3,
          10.4,
          8.5,
          11.1,
          10.3,
          9.8,
          11.7,
          9.8,
          9.7,
          9.7,
          9,
          9,
          10.5,
          9.7,
          9.7,
          9.7,
          12.6,
          11,
          8.8,
          8.8,
          10.6,
          10.6,
          10.7,
          9.7,
          10.3,
          10.6,
          11.4,
          11.4,
          11.95,
          9.7,
          9.7,
          9.6,
          9.4,
          9.8,
          11.1,
          9.8,
          10.6,
          10.5,
          10.2,
          10.6,
          10.4,
          9.7,
          10.2,
          9,
          12,
          9.9,
          10.2,
          12.1,
          10.4,
          9.5,
          9.4,
          9.4,
          9.9,
          9.5,
          9.9,
          9.9,
          9.9,
          10.1,
          10.1,
          10.1,
          10.1,
          9.2,
          9.5,
          11.3,
          11.3,
          11.9,
          9.8,
          9.2,
          10.5,
          10.2
         ],
         "xaxis": "x6",
         "yaxis": "y6"
        },
        {
         "alignmentgroup": "True",
         "bingroup": "x",
         "histnorm": "probability",
         "hovertemplate": "quality=6<br>alcohol=%{x}<br>probability=%{y}<extra></extra>",
         "legendgroup": "6",
         "marker": {
          "color": "#EF553B",
          "pattern": {
           "shape": ""
          }
         },
         "name": "6",
         "offsetgroup": "6",
         "orientation": "v",
         "showlegend": true,
         "type": "histogram",
         "x": [
          9.8,
          9.2,
          9.4,
          9.7,
          9.8,
          10.6,
          9.4,
          9.6,
          10.8,
          10.5,
          9.4,
          9.4,
          10.2,
          9.4,
          10.5,
          9.5,
          10.7,
          10.3,
          9.9,
          9.9,
          12.9,
          9,
          10.2,
          10.4,
          9,
          9.6,
          9.7,
          10.5,
          10,
          9.4,
          10.9,
          9.2,
          10.9,
          9.8,
          9.9,
          14,
          14,
          10.2,
          10.5,
          10.3,
          9.3,
          10,
          10.4,
          9.2,
          9.2,
          11.5,
          10.5,
          9.3,
          9.8,
          10.1,
          9.2,
          12.4,
          10,
          10.2,
          9.8,
          9.4,
          10,
          10.5,
          9.5,
          10.5,
          9.9,
          9.6,
          9,
          9,
          9,
          9.2,
          9,
          9,
          10.9,
          9.8,
          9.9,
          9.8,
          9.9,
          10,
          9.9,
          9.9,
          9.4,
          10.1,
          10.7,
          10.1,
          10.7,
          9.4,
          10.1,
          9.3,
          10.3,
          10.3,
          10.3,
          10.1,
          9.5,
          10.7,
          10.1,
          9.3,
          9.5,
          9.5,
          9.5,
          9.3,
          9.4,
          9.5,
          11,
          10.4,
          10.4,
          9.5,
          9.2,
          9.2,
          9.7,
          12.5,
          12.5,
          9.4,
          12.5,
          11.5,
          9.2,
          11.3,
          9.8,
          9.8,
          10.7,
          12,
          10,
          9.4,
          9.9,
          9.4,
          11.9,
          12.8,
          9.8,
          9.9,
          11.8,
          8.7,
          10.6,
          10.8,
          11,
          13.3,
          10.8,
          9.4,
          10,
          9.4,
          9.4,
          9.7,
          9.2,
          9.6,
          9.2,
          10,
          11,
          11,
          10.8,
          10.5,
          10.5,
          10.1,
          10.8,
          11.3,
          9.5,
          11.7,
          10.4,
          11.4,
          10.6,
          10.4,
          12.8,
          9.9,
          10.2,
          11.2,
          9.9,
          11.3,
          10.1,
          10.2,
          10.8,
          10.8,
          9.1,
          10,
          11.3,
          9.2,
          11.5,
          14,
          9.2,
          11.4,
          10.4,
          9.4,
          11,
          10.1,
          13.4,
          10,
          10.2,
          10.6,
          11.6,
          12.1,
          9,
          11.6,
          9,
          9.5,
          10.2,
          10.2,
          9.7,
          11.9,
          11.7,
          10,
          11.4,
          8.7,
          10.3,
          12.8,
          10,
          10.3,
          10.7,
          11,
          11,
          8.4,
          9.5,
          10.7,
          10.4,
          9.4,
          9.5,
          10,
          10,
          11.7,
          11.7,
          12.7,
          10.1,
          12.7,
          9,
          9,
          10.7,
          11.7,
          11,
          11.7,
          10,
          10.2,
          9.8,
          9.6,
          11.5,
          9.3,
          10,
          9.8,
          9.3,
          9,
          9,
          9.1,
          9.2,
          10.5,
          10.4,
          12.7,
          10,
          10.2,
          9.8,
          12.1,
          9.3,
          9.3,
          10.5,
          10.3,
          11.3,
          12,
          9.6,
          9.6,
          9.6,
          10.2,
          9.5,
          9.2,
          9.2,
          9.3,
          9.3,
          10.2,
          12.8,
          9.5,
          9.5,
          10.8,
          10.1,
          9.5,
          9.4,
          11.6,
          10,
          9.2,
          11.1,
          12.7,
          9.3,
          11.5,
          9.5,
          9,
          9.6,
          9.5,
          9.1,
          10.7,
          11.2,
          10,
          9.5,
          9.5,
          9.7,
          9.7,
          9.5,
          9.5,
          10.3,
          10.3,
          9.4,
          10.1,
          10.1,
          9.7,
          9.7,
          12.5,
          10.7,
          10.7,
          9.6,
          9.9,
          10.3,
          10.9,
          11.3,
          10.5,
          11.9,
          11.1,
          11.1,
          10.9,
          10.6,
          9.9,
          10.9,
          10.9,
          10.9,
          11.2,
          11.5,
          11.3,
          11.2,
          11.2,
          10.9,
          11.8,
          11.8,
          10,
          11.4,
          12,
          10,
          10.4,
          11.2,
          9.3,
          9.8,
          10.7,
          10.7,
          11.5,
          10.8,
          11.5,
          13.2,
          10.9,
          12.2,
          11.5,
          11.9,
          10.1,
          11,
          11.8,
          11,
          11.8,
          10.1,
          10.2,
          9.5,
          11.8,
          11.8,
          12.2,
          11.3,
          11.1,
          11.1,
          11.2,
          11.1,
          11,
          12.2,
          10.9,
          10.9,
          10.5,
          12.9,
          10.5,
          11.3,
          10.9,
          9.4,
          10.1,
          9.1,
          12.9,
          10.4,
          10,
          11.2,
          11.4,
          12.7,
          12.7,
          11.9,
          11.9,
          12.3,
          10.4,
          12.6,
          10.1,
          10.4,
          9.7,
          11.1,
          9.8,
          11.1,
          12.2,
          11.4,
          10.7,
          10.9,
          10.8,
          9.1,
          9.1,
          9.9,
          11.4,
          11.8,
          11.8,
          10.2,
          9.5,
          10.7,
          11.4,
          11.8,
          9.5,
          12,
          9.5,
          11.2,
          11.4,
          11.5,
          10.8,
          10.8,
          12.4,
          12,
          11.2,
          12,
          12.4,
          12.3,
          10.8,
          10,
          11,
          9.5,
          13.6,
          11.3,
          11.3,
          11.3,
          13.3,
          12.3,
          12.3,
          11.2,
          13.5,
          11.5,
          10.5,
          10.4,
          11.9,
          11.4,
          11.4,
          9.5,
          9.5,
          11,
          11.4,
          10,
          10.4,
          9.8,
          11.6,
          12,
          12.5,
          11.1,
          11.4,
          10.6,
          10.2,
          12,
          11.5,
          10.5,
          10.8,
          12.3,
          9.5,
          9.5,
          11.5,
          11,
          11,
          10.5,
          11.9,
          11.9,
          12.5,
          9.5,
          9.5,
          9.5,
          9.8,
          10.9,
          9.5,
          9.8,
          10.4,
          10.4,
          10.5,
          10.4,
          11.3,
          9.5,
          12,
          10.6,
          10.9,
          11.5,
          11.5,
          9.6,
          12,
          10.3,
          11.8,
          12.8,
          9.4,
          12.8,
          12.2,
          10.3,
          11.1,
          10.9,
          10.9,
          11,
          11.3,
          11.3,
          11.8,
          10.3,
          10.3,
          11.4,
          9.5,
          14,
          11.7,
          11.2,
          9.5,
          9.7,
          9.5,
          10.4,
          10.4,
          10.9,
          10.2,
          12.4,
          10.9,
          12.4,
          10.9,
          12.1,
          12.2,
          12.5,
          11.7,
          11.2,
          12.8,
          10.1,
          10.1,
          9.8,
          12.5,
          11.9,
          9.8,
          9.1,
          12.5,
          10.6,
          10.6,
          10.6,
          10.6,
          9.8,
          9.8,
          9.7,
          12.6,
          10.5,
          10.5,
          10.5,
          10.4,
          10.5,
          10.2,
          11.8,
          11.1,
          10.0333333333333,
          10.0333333333333,
          11.8,
          10.5,
          9.8,
          11.6,
          12.2,
          9.9,
          10.8,
          10.8,
          12.5,
          9.55,
          11.1,
          11.9,
          10.7,
          10.9,
          10.7,
          10.7,
          11.9,
          10.6,
          10.9,
          11.4,
          9.6,
          9.6,
          12.1,
          9.9,
          11.7,
          9,
          9,
          11.066666666666698,
          9.56666666666667,
          11.1,
          9.6,
          10.9,
          10.9,
          10.55,
          10.4,
          10.4,
          10.8,
          11.1,
          10.8,
          12.4,
          10.6,
          11.5,
          10.8,
          11.5,
          11,
          11.4,
          10.8,
          11.4,
          10.6,
          9.7,
          10.4,
          10.5,
          9.23333333333333,
          9.25,
          10.3,
          10.3,
          10,
          9.6,
          10.8,
          10.1,
          10.2,
          11.3,
          9.9,
          9.7,
          10.3,
          10.2,
          11.6,
          10.75,
          10.4,
          10.1,
          11.3,
          11,
          11,
          10.9,
          11.2,
          11.5,
          12.4,
          11.1,
          12.5,
          10.5,
          11.8,
          10.8,
          11.9,
          11.3,
          11.9,
          11.5,
          11.4,
          10.9,
          12.8,
          11.6,
          11.6,
          11,
          9.5,
          11.2,
          11,
          11
         ],
         "xaxis": "x5",
         "yaxis": "y5"
        },
        {
         "alignmentgroup": "True",
         "bingroup": "x",
         "histnorm": "probability",
         "hovertemplate": "quality=7<br>alcohol=%{x}<br>probability=%{y}<extra></extra>",
         "legendgroup": "7",
         "marker": {
          "color": "#00cc96",
          "pattern": {
           "shape": ""
          }
         },
         "name": "7",
         "offsetgroup": "7",
         "orientation": "v",
         "showlegend": true,
         "type": "histogram",
         "x": [
          10,
          9.5,
          10.5,
          9.7,
          9.5,
          10.5,
          13,
          10.3,
          10.8,
          10.8,
          10.5,
          12.2,
          9.2,
          9.2,
          10.5,
          10.2,
          10.5,
          9.9,
          10.5,
          10.6,
          10.6,
          11.5,
          11.5,
          11.5,
          11.7,
          12.2,
          9.8,
          12.3,
          11.7,
          10.4,
          10,
          10,
          12,
          11.8,
          12,
          10,
          13,
          10.8,
          11.7,
          11.8,
          12.3,
          11,
          12.3,
          11,
          11.2,
          11.6,
          12.5,
          11.2,
          11.2,
          10.8,
          13.3,
          13.4,
          12,
          12,
          10.9,
          10.8,
          12.5,
          10.8,
          11.4,
          11.8,
          11.8,
          12,
          9.9,
          10.7,
          10.6,
          10.5,
          12.2,
          10.2,
          10.1,
          11.2,
          10.5,
          10.8,
          12.9,
          12.8,
          12.5,
          12.8,
          14,
          11,
          11.7,
          11.7,
          11.2,
          12.1,
          11.7,
          11.3,
          10.6,
          11.1,
          11.8,
          11.8,
          12.1,
          12.5,
          12.5,
          10.8,
          10.8,
          10.8,
          10.8,
          12.2,
          11,
          12,
          12.9,
          12.4,
          12.5,
          10,
          9.7,
          12.1,
          11.1,
          12,
          12.4,
          11.9,
          11.9,
          11.9,
          12.4,
          11.2,
          12.1,
          11.3,
          11.9,
          11.6,
          12.1,
          11.3,
          11.4,
          12.8,
          12.8,
          11.5,
          10.6,
          11.7,
          12.8,
          12.8,
          11.7,
          11.7,
          12,
          12.3,
          12.6,
          10.5,
          10.5,
          11.5,
          11,
          10.6,
          12.5,
          12.6,
          10.9,
          12.7,
          12.1,
          11.6,
          12.1,
          12.5,
          10.9,
          10.9,
          11.1,
          10.2,
          12.3,
          12.3,
          11.6,
          9.9,
          9.9,
          12,
          12.5,
          11.7,
          12.3,
          11.3,
          13.6,
          11.2,
          11.8,
          11.8,
          12.8,
          11.8,
          12.9,
          11.1,
          11.8,
          12.4,
          12.7,
          12.4,
          11.2,
          11,
          11,
          11,
          11,
          11.2,
          13.6,
          11.5,
          11,
          10.2,
          11.3,
          12.4,
          12.1,
          10.1,
          11.3,
          11.3,
          11,
          11.6,
          11.9,
          10,
          10,
          13.566666666666698,
          13.6,
          10,
          11.7,
          10.9,
          11.2,
          10.55,
          11.6
         ],
         "xaxis": "x4",
         "yaxis": "y4"
        },
        {
         "alignmentgroup": "True",
         "bingroup": "x",
         "histnorm": "probability",
         "hovertemplate": "quality=4<br>alcohol=%{x}<br>probability=%{y}<extra></extra>",
         "legendgroup": "4",
         "marker": {
          "color": "#ab63fa",
          "pattern": {
           "shape": ""
          }
         },
         "name": "4",
         "offsetgroup": "4",
         "orientation": "v",
         "showlegend": true,
         "type": "histogram",
         "x": [
          9,
          9.8,
          9.3,
          13.1,
          9.2,
          9.1,
          10.5,
          9.4,
          9.2,
          9,
          9.1,
          11.4,
          10.4,
          9.4,
          9.8,
          9.6,
          9.6,
          10,
          10,
          11.3,
          11,
          11,
          9.6,
          9.7,
          11.2,
          11.4,
          10.9,
          9.9,
          10,
          10.9,
          9.2,
          10.4,
          11.5,
          11.2,
          9.6,
          9.3,
          11.5,
          9.6,
          11.8,
          11.2,
          9.6,
          12,
          9.7,
          11.1,
          9.8,
          10.4,
          11,
          10,
          11,
          10.1,
          10.3,
          10.9,
          9.05
         ],
         "xaxis": "x3",
         "yaxis": "y3"
        },
        {
         "alignmentgroup": "True",
         "bingroup": "x",
         "histnorm": "probability",
         "hovertemplate": "quality=8<br>alcohol=%{x}<br>probability=%{y}<extra></extra>",
         "legendgroup": "8",
         "marker": {
          "color": "#FFA15A",
          "pattern": {
           "shape": ""
          }
         },
         "name": "8",
         "offsetgroup": "8",
         "orientation": "v",
         "showlegend": true,
         "type": "histogram",
         "x": [
          12.8,
          12.6,
          12.9,
          9.8,
          13.4,
          11.7,
          11,
          11,
          14,
          12.7,
          12.5,
          11.8,
          13.1,
          11.7,
          14,
          10,
          11.3,
          11.4
         ],
         "xaxis": "x2",
         "yaxis": "y2"
        },
        {
         "alignmentgroup": "True",
         "bingroup": "x",
         "histnorm": "probability",
         "hovertemplate": "quality=3<br>alcohol=%{x}<br>probability=%{y}<extra></extra>",
         "legendgroup": "3",
         "marker": {
          "color": "#19d3f3",
          "pattern": {
           "shape": ""
          }
         },
         "name": "3",
         "offsetgroup": "3",
         "orientation": "v",
         "showlegend": true,
         "type": "histogram",
         "x": [
          9,
          8.4,
          10.7,
          9.9,
          11,
          10.9,
          9.8,
          9.7,
          10.2,
          9.95
         ],
         "xaxis": "x",
         "yaxis": "y"
        }
       ],
       "layout": {
        "annotations": [
         {
          "font": {},
          "showarrow": false,
          "text": "quality=3",
          "textangle": 90,
          "x": 0.98,
          "xanchor": "left",
          "xref": "paper",
          "y": 0.07083333333333333,
          "yanchor": "middle",
          "yref": "paper"
         },
         {
          "font": {},
          "showarrow": false,
          "text": "quality=8",
          "textangle": 90,
          "x": 0.98,
          "xanchor": "left",
          "xref": "paper",
          "y": 0.2425,
          "yanchor": "middle",
          "yref": "paper"
         },
         {
          "font": {},
          "showarrow": false,
          "text": "quality=4",
          "textangle": 90,
          "x": 0.98,
          "xanchor": "left",
          "xref": "paper",
          "y": 0.4141666666666667,
          "yanchor": "middle",
          "yref": "paper"
         },
         {
          "font": {},
          "showarrow": false,
          "text": "quality=7",
          "textangle": 90,
          "x": 0.98,
          "xanchor": "left",
          "xref": "paper",
          "y": 0.5858333333333334,
          "yanchor": "middle",
          "yref": "paper"
         },
         {
          "font": {},
          "showarrow": false,
          "text": "quality=6",
          "textangle": 90,
          "x": 0.98,
          "xanchor": "left",
          "xref": "paper",
          "y": 0.7575000000000001,
          "yanchor": "middle",
          "yref": "paper"
         },
         {
          "font": {},
          "showarrow": false,
          "text": "quality=5",
          "textangle": 90,
          "x": 0.98,
          "xanchor": "left",
          "xref": "paper",
          "y": 0.9291666666666667,
          "yanchor": "middle",
          "yref": "paper"
         }
        ],
        "barmode": "relative",
        "legend": {
         "title": {
          "text": "quality"
         },
         "tracegroupgap": 0
        },
        "margin": {
         "t": 60
        },
        "template": {
         "data": {
          "bar": [
           {
            "error_x": {
             "color": "#2a3f5f"
            },
            "error_y": {
             "color": "#2a3f5f"
            },
            "marker": {
             "line": {
              "color": "#E5ECF6",
              "width": 0.5
             },
             "pattern": {
              "fillmode": "overlay",
              "size": 10,
              "solidity": 0.2
             }
            },
            "type": "bar"
           }
          ],
          "barpolar": [
           {
            "marker": {
             "line": {
              "color": "#E5ECF6",
              "width": 0.5
             },
             "pattern": {
              "fillmode": "overlay",
              "size": 10,
              "solidity": 0.2
             }
            },
            "type": "barpolar"
           }
          ],
          "carpet": [
           {
            "aaxis": {
             "endlinecolor": "#2a3f5f",
             "gridcolor": "white",
             "linecolor": "white",
             "minorgridcolor": "white",
             "startlinecolor": "#2a3f5f"
            },
            "baxis": {
             "endlinecolor": "#2a3f5f",
             "gridcolor": "white",
             "linecolor": "white",
             "minorgridcolor": "white",
             "startlinecolor": "#2a3f5f"
            },
            "type": "carpet"
           }
          ],
          "choropleth": [
           {
            "colorbar": {
             "outlinewidth": 0,
             "ticks": ""
            },
            "type": "choropleth"
           }
          ],
          "contour": [
           {
            "colorbar": {
             "outlinewidth": 0,
             "ticks": ""
            },
            "colorscale": [
             [
              0,
              "#0d0887"
             ],
             [
              0.1111111111111111,
              "#46039f"
             ],
             [
              0.2222222222222222,
              "#7201a8"
             ],
             [
              0.3333333333333333,
              "#9c179e"
             ],
             [
              0.4444444444444444,
              "#bd3786"
             ],
             [
              0.5555555555555556,
              "#d8576b"
             ],
             [
              0.6666666666666666,
              "#ed7953"
             ],
             [
              0.7777777777777778,
              "#fb9f3a"
             ],
             [
              0.8888888888888888,
              "#fdca26"
             ],
             [
              1,
              "#f0f921"
             ]
            ],
            "type": "contour"
           }
          ],
          "contourcarpet": [
           {
            "colorbar": {
             "outlinewidth": 0,
             "ticks": ""
            },
            "type": "contourcarpet"
           }
          ],
          "heatmap": [
           {
            "colorbar": {
             "outlinewidth": 0,
             "ticks": ""
            },
            "colorscale": [
             [
              0,
              "#0d0887"
             ],
             [
              0.1111111111111111,
              "#46039f"
             ],
             [
              0.2222222222222222,
              "#7201a8"
             ],
             [
              0.3333333333333333,
              "#9c179e"
             ],
             [
              0.4444444444444444,
              "#bd3786"
             ],
             [
              0.5555555555555556,
              "#d8576b"
             ],
             [
              0.6666666666666666,
              "#ed7953"
             ],
             [
              0.7777777777777778,
              "#fb9f3a"
             ],
             [
              0.8888888888888888,
              "#fdca26"
             ],
             [
              1,
              "#f0f921"
             ]
            ],
            "type": "heatmap"
           }
          ],
          "heatmapgl": [
           {
            "colorbar": {
             "outlinewidth": 0,
             "ticks": ""
            },
            "colorscale": [
             [
              0,
              "#0d0887"
             ],
             [
              0.1111111111111111,
              "#46039f"
             ],
             [
              0.2222222222222222,
              "#7201a8"
             ],
             [
              0.3333333333333333,
              "#9c179e"
             ],
             [
              0.4444444444444444,
              "#bd3786"
             ],
             [
              0.5555555555555556,
              "#d8576b"
             ],
             [
              0.6666666666666666,
              "#ed7953"
             ],
             [
              0.7777777777777778,
              "#fb9f3a"
             ],
             [
              0.8888888888888888,
              "#fdca26"
             ],
             [
              1,
              "#f0f921"
             ]
            ],
            "type": "heatmapgl"
           }
          ],
          "histogram": [
           {
            "marker": {
             "pattern": {
              "fillmode": "overlay",
              "size": 10,
              "solidity": 0.2
             }
            },
            "type": "histogram"
           }
          ],
          "histogram2d": [
           {
            "colorbar": {
             "outlinewidth": 0,
             "ticks": ""
            },
            "colorscale": [
             [
              0,
              "#0d0887"
             ],
             [
              0.1111111111111111,
              "#46039f"
             ],
             [
              0.2222222222222222,
              "#7201a8"
             ],
             [
              0.3333333333333333,
              "#9c179e"
             ],
             [
              0.4444444444444444,
              "#bd3786"
             ],
             [
              0.5555555555555556,
              "#d8576b"
             ],
             [
              0.6666666666666666,
              "#ed7953"
             ],
             [
              0.7777777777777778,
              "#fb9f3a"
             ],
             [
              0.8888888888888888,
              "#fdca26"
             ],
             [
              1,
              "#f0f921"
             ]
            ],
            "type": "histogram2d"
           }
          ],
          "histogram2dcontour": [
           {
            "colorbar": {
             "outlinewidth": 0,
             "ticks": ""
            },
            "colorscale": [
             [
              0,
              "#0d0887"
             ],
             [
              0.1111111111111111,
              "#46039f"
             ],
             [
              0.2222222222222222,
              "#7201a8"
             ],
             [
              0.3333333333333333,
              "#9c179e"
             ],
             [
              0.4444444444444444,
              "#bd3786"
             ],
             [
              0.5555555555555556,
              "#d8576b"
             ],
             [
              0.6666666666666666,
              "#ed7953"
             ],
             [
              0.7777777777777778,
              "#fb9f3a"
             ],
             [
              0.8888888888888888,
              "#fdca26"
             ],
             [
              1,
              "#f0f921"
             ]
            ],
            "type": "histogram2dcontour"
           }
          ],
          "mesh3d": [
           {
            "colorbar": {
             "outlinewidth": 0,
             "ticks": ""
            },
            "type": "mesh3d"
           }
          ],
          "parcoords": [
           {
            "line": {
             "colorbar": {
              "outlinewidth": 0,
              "ticks": ""
             }
            },
            "type": "parcoords"
           }
          ],
          "pie": [
           {
            "automargin": true,
            "type": "pie"
           }
          ],
          "scatter": [
           {
            "fillpattern": {
             "fillmode": "overlay",
             "size": 10,
             "solidity": 0.2
            },
            "type": "scatter"
           }
          ],
          "scatter3d": [
           {
            "line": {
             "colorbar": {
              "outlinewidth": 0,
              "ticks": ""
             }
            },
            "marker": {
             "colorbar": {
              "outlinewidth": 0,
              "ticks": ""
             }
            },
            "type": "scatter3d"
           }
          ],
          "scattercarpet": [
           {
            "marker": {
             "colorbar": {
              "outlinewidth": 0,
              "ticks": ""
             }
            },
            "type": "scattercarpet"
           }
          ],
          "scattergeo": [
           {
            "marker": {
             "colorbar": {
              "outlinewidth": 0,
              "ticks": ""
             }
            },
            "type": "scattergeo"
           }
          ],
          "scattergl": [
           {
            "marker": {
             "colorbar": {
              "outlinewidth": 0,
              "ticks": ""
             }
            },
            "type": "scattergl"
           }
          ],
          "scattermapbox": [
           {
            "marker": {
             "colorbar": {
              "outlinewidth": 0,
              "ticks": ""
             }
            },
            "type": "scattermapbox"
           }
          ],
          "scatterpolar": [
           {
            "marker": {
             "colorbar": {
              "outlinewidth": 0,
              "ticks": ""
             }
            },
            "type": "scatterpolar"
           }
          ],
          "scatterpolargl": [
           {
            "marker": {
             "colorbar": {
              "outlinewidth": 0,
              "ticks": ""
             }
            },
            "type": "scatterpolargl"
           }
          ],
          "scatterternary": [
           {
            "marker": {
             "colorbar": {
              "outlinewidth": 0,
              "ticks": ""
             }
            },
            "type": "scatterternary"
           }
          ],
          "surface": [
           {
            "colorbar": {
             "outlinewidth": 0,
             "ticks": ""
            },
            "colorscale": [
             [
              0,
              "#0d0887"
             ],
             [
              0.1111111111111111,
              "#46039f"
             ],
             [
              0.2222222222222222,
              "#7201a8"
             ],
             [
              0.3333333333333333,
              "#9c179e"
             ],
             [
              0.4444444444444444,
              "#bd3786"
             ],
             [
              0.5555555555555556,
              "#d8576b"
             ],
             [
              0.6666666666666666,
              "#ed7953"
             ],
             [
              0.7777777777777778,
              "#fb9f3a"
             ],
             [
              0.8888888888888888,
              "#fdca26"
             ],
             [
              1,
              "#f0f921"
             ]
            ],
            "type": "surface"
           }
          ],
          "table": [
           {
            "cells": {
             "fill": {
              "color": "#EBF0F8"
             },
             "line": {
              "color": "white"
             }
            },
            "header": {
             "fill": {
              "color": "#C8D4E3"
             },
             "line": {
              "color": "white"
             }
            },
            "type": "table"
           }
          ]
         },
         "layout": {
          "annotationdefaults": {
           "arrowcolor": "#2a3f5f",
           "arrowhead": 0,
           "arrowwidth": 1
          },
          "autotypenumbers": "strict",
          "coloraxis": {
           "colorbar": {
            "outlinewidth": 0,
            "ticks": ""
           }
          },
          "colorscale": {
           "diverging": [
            [
             0,
             "#8e0152"
            ],
            [
             0.1,
             "#c51b7d"
            ],
            [
             0.2,
             "#de77ae"
            ],
            [
             0.3,
             "#f1b6da"
            ],
            [
             0.4,
             "#fde0ef"
            ],
            [
             0.5,
             "#f7f7f7"
            ],
            [
             0.6,
             "#e6f5d0"
            ],
            [
             0.7,
             "#b8e186"
            ],
            [
             0.8,
             "#7fbc41"
            ],
            [
             0.9,
             "#4d9221"
            ],
            [
             1,
             "#276419"
            ]
           ],
           "sequential": [
            [
             0,
             "#0d0887"
            ],
            [
             0.1111111111111111,
             "#46039f"
            ],
            [
             0.2222222222222222,
             "#7201a8"
            ],
            [
             0.3333333333333333,
             "#9c179e"
            ],
            [
             0.4444444444444444,
             "#bd3786"
            ],
            [
             0.5555555555555556,
             "#d8576b"
            ],
            [
             0.6666666666666666,
             "#ed7953"
            ],
            [
             0.7777777777777778,
             "#fb9f3a"
            ],
            [
             0.8888888888888888,
             "#fdca26"
            ],
            [
             1,
             "#f0f921"
            ]
           ],
           "sequentialminus": [
            [
             0,
             "#0d0887"
            ],
            [
             0.1111111111111111,
             "#46039f"
            ],
            [
             0.2222222222222222,
             "#7201a8"
            ],
            [
             0.3333333333333333,
             "#9c179e"
            ],
            [
             0.4444444444444444,
             "#bd3786"
            ],
            [
             0.5555555555555556,
             "#d8576b"
            ],
            [
             0.6666666666666666,
             "#ed7953"
            ],
            [
             0.7777777777777778,
             "#fb9f3a"
            ],
            [
             0.8888888888888888,
             "#fdca26"
            ],
            [
             1,
             "#f0f921"
            ]
           ]
          },
          "colorway": [
           "#636efa",
           "#EF553B",
           "#00cc96",
           "#ab63fa",
           "#FFA15A",
           "#19d3f3",
           "#FF6692",
           "#B6E880",
           "#FF97FF",
           "#FECB52"
          ],
          "font": {
           "color": "#2a3f5f"
          },
          "geo": {
           "bgcolor": "white",
           "lakecolor": "white",
           "landcolor": "#E5ECF6",
           "showlakes": true,
           "showland": true,
           "subunitcolor": "white"
          },
          "hoverlabel": {
           "align": "left"
          },
          "hovermode": "closest",
          "mapbox": {
           "style": "light"
          },
          "paper_bgcolor": "white",
          "plot_bgcolor": "#E5ECF6",
          "polar": {
           "angularaxis": {
            "gridcolor": "white",
            "linecolor": "white",
            "ticks": ""
           },
           "bgcolor": "#E5ECF6",
           "radialaxis": {
            "gridcolor": "white",
            "linecolor": "white",
            "ticks": ""
           }
          },
          "scene": {
           "xaxis": {
            "backgroundcolor": "#E5ECF6",
            "gridcolor": "white",
            "gridwidth": 2,
            "linecolor": "white",
            "showbackground": true,
            "ticks": "",
            "zerolinecolor": "white"
           },
           "yaxis": {
            "backgroundcolor": "#E5ECF6",
            "gridcolor": "white",
            "gridwidth": 2,
            "linecolor": "white",
            "showbackground": true,
            "ticks": "",
            "zerolinecolor": "white"
           },
           "zaxis": {
            "backgroundcolor": "#E5ECF6",
            "gridcolor": "white",
            "gridwidth": 2,
            "linecolor": "white",
            "showbackground": true,
            "ticks": "",
            "zerolinecolor": "white"
           }
          },
          "shapedefaults": {
           "line": {
            "color": "#2a3f5f"
           }
          },
          "ternary": {
           "aaxis": {
            "gridcolor": "white",
            "linecolor": "white",
            "ticks": ""
           },
           "baxis": {
            "gridcolor": "white",
            "linecolor": "white",
            "ticks": ""
           },
           "bgcolor": "#E5ECF6",
           "caxis": {
            "gridcolor": "white",
            "linecolor": "white",
            "ticks": ""
           }
          },
          "title": {
           "x": 0.05
          },
          "xaxis": {
           "automargin": true,
           "gridcolor": "white",
           "linecolor": "white",
           "ticks": "",
           "title": {
            "standoff": 15
           },
           "zerolinecolor": "white",
           "zerolinewidth": 2
          },
          "yaxis": {
           "automargin": true,
           "gridcolor": "white",
           "linecolor": "white",
           "ticks": "",
           "title": {
            "standoff": 15
           },
           "zerolinecolor": "white",
           "zerolinewidth": 2
          }
         }
        },
        "width": 1500,
        "xaxis": {
         "anchor": "y",
         "domain": [
          0,
          0.98
         ],
         "title": {
          "text": "alcohol"
         }
        },
        "xaxis2": {
         "anchor": "y2",
         "domain": [
          0,
          0.98
         ],
         "matches": "x",
         "showticklabels": false
        },
        "xaxis3": {
         "anchor": "y3",
         "domain": [
          0,
          0.98
         ],
         "matches": "x",
         "showticklabels": false
        },
        "xaxis4": {
         "anchor": "y4",
         "domain": [
          0,
          0.98
         ],
         "matches": "x",
         "showticklabels": false
        },
        "xaxis5": {
         "anchor": "y5",
         "domain": [
          0,
          0.98
         ],
         "matches": "x",
         "showticklabels": false
        },
        "xaxis6": {
         "anchor": "y6",
         "domain": [
          0,
          0.98
         ],
         "matches": "x",
         "showticklabels": false
        },
        "yaxis": {
         "anchor": "x",
         "domain": [
          0,
          0.14166666666666666
         ],
         "title": {
          "text": "probability"
         }
        },
        "yaxis2": {
         "anchor": "x2",
         "domain": [
          0.17166666666666666,
          0.31333333333333335
         ],
         "matches": "y",
         "title": {
          "text": "probability"
         }
        },
        "yaxis3": {
         "anchor": "x3",
         "domain": [
          0.3433333333333333,
          0.485
         ],
         "matches": "y",
         "title": {
          "text": "probability"
         }
        },
        "yaxis4": {
         "anchor": "x4",
         "domain": [
          0.515,
          0.6566666666666667
         ],
         "matches": "y",
         "title": {
          "text": "probability"
         }
        },
        "yaxis5": {
         "anchor": "x5",
         "domain": [
          0.6866666666666666,
          0.8283333333333334
         ],
         "matches": "y",
         "title": {
          "text": "probability"
         }
        },
        "yaxis6": {
         "anchor": "x6",
         "domain": [
          0.8583333333333333,
          1
         ],
         "matches": "y",
         "title": {
          "text": "probability"
         }
        }
       }
      }
     },
     "metadata": {},
     "output_type": "display_data"
    }
   ],
   "source": [
    "num_features = [i for i in df.columns if i != \"quality\"]\n",
    "for f in num_features:\n",
    "    fig = px.histogram(df, f, color='quality', facet_row='quality', histnorm = 'probability', width=1500)\n",
    "    fig.show()\n"
   ]
  },
  {
   "cell_type": "code",
   "execution_count": 9,
   "metadata": {},
   "outputs": [
    {
     "data": {
      "text/plain": [
       "5    681\n",
       "6    638\n",
       "7    199\n",
       "4     53\n",
       "8     18\n",
       "3     10\n",
       "Name: quality, dtype: int64"
      ]
     },
     "execution_count": 9,
     "metadata": {},
     "output_type": "execute_result"
    }
   ],
   "source": [
    "df[\"quality\"].value_counts()"
   ]
  },
  {
   "cell_type": "code",
   "execution_count": 10,
   "metadata": {},
   "outputs": [
    {
     "data": {
      "text/plain": [
       "fixed_acidity           0.0\n",
       "volatile_acidity        0.0\n",
       "citric_acid             0.0\n",
       "residual_sugar          0.0\n",
       "chlorides               0.0\n",
       "free_sulfur_dioxide     0.0\n",
       "total_sulfur_dioxide    0.0\n",
       "density                 0.0\n",
       "pH                      0.0\n",
       "sulphates               0.0\n",
       "alcohol                 0.0\n",
       "quality                 0.0\n",
       "dtype: float64"
      ]
     },
     "metadata": {},
     "output_type": "display_data"
    }
   ],
   "source": [
    "display(100*df.isnull().sum()/df.shape[0])"
   ]
  },
  {
   "cell_type": "code",
   "execution_count": 11,
   "metadata": {},
   "outputs": [],
   "source": [
    "target_variable = \"quality\"\n",
    "\n",
    "X = df.loc[:,[\"alcohol\"]]\n",
    "Y = df.loc[:,target_variable]"
   ]
  },
  {
   "cell_type": "code",
   "execution_count": 12,
   "metadata": {},
   "outputs": [],
   "source": [
    "X_train, X_test, Y_train, Y_test = train_test_split(X, Y, test_size=0.2, random_state=0)"
   ]
  },
  {
   "cell_type": "code",
   "execution_count": 13,
   "metadata": {},
   "outputs": [],
   "source": [
    "preprocessor = StandardScaler()\n"
   ]
  },
  {
   "cell_type": "code",
   "execution_count": 14,
   "metadata": {},
   "outputs": [],
   "source": [
    "X_train = preprocessor.fit_transform(X_train)\n",
    "X_test = preprocessor.transform(X_test)"
   ]
  },
  {
   "cell_type": "code",
   "execution_count": 15,
   "metadata": {},
   "outputs": [],
   "source": [
    "classifier = LogisticRegression()"
   ]
  },
  {
   "cell_type": "code",
   "execution_count": 16,
   "metadata": {},
   "outputs": [
    {
     "data": {
      "text/html": [
       "<style>#sk-container-id-1 {color: black;background-color: white;}#sk-container-id-1 pre{padding: 0;}#sk-container-id-1 div.sk-toggleable {background-color: white;}#sk-container-id-1 label.sk-toggleable__label {cursor: pointer;display: block;width: 100%;margin-bottom: 0;padding: 0.3em;box-sizing: border-box;text-align: center;}#sk-container-id-1 label.sk-toggleable__label-arrow:before {content: \"▸\";float: left;margin-right: 0.25em;color: #696969;}#sk-container-id-1 label.sk-toggleable__label-arrow:hover:before {color: black;}#sk-container-id-1 div.sk-estimator:hover label.sk-toggleable__label-arrow:before {color: black;}#sk-container-id-1 div.sk-toggleable__content {max-height: 0;max-width: 0;overflow: hidden;text-align: left;background-color: #f0f8ff;}#sk-container-id-1 div.sk-toggleable__content pre {margin: 0.2em;color: black;border-radius: 0.25em;background-color: #f0f8ff;}#sk-container-id-1 input.sk-toggleable__control:checked~div.sk-toggleable__content {max-height: 200px;max-width: 100%;overflow: auto;}#sk-container-id-1 input.sk-toggleable__control:checked~label.sk-toggleable__label-arrow:before {content: \"▾\";}#sk-container-id-1 div.sk-estimator input.sk-toggleable__control:checked~label.sk-toggleable__label {background-color: #d4ebff;}#sk-container-id-1 div.sk-label input.sk-toggleable__control:checked~label.sk-toggleable__label {background-color: #d4ebff;}#sk-container-id-1 input.sk-hidden--visually {border: 0;clip: rect(1px 1px 1px 1px);clip: rect(1px, 1px, 1px, 1px);height: 1px;margin: -1px;overflow: hidden;padding: 0;position: absolute;width: 1px;}#sk-container-id-1 div.sk-estimator {font-family: monospace;background-color: #f0f8ff;border: 1px dotted black;border-radius: 0.25em;box-sizing: border-box;margin-bottom: 0.5em;}#sk-container-id-1 div.sk-estimator:hover {background-color: #d4ebff;}#sk-container-id-1 div.sk-parallel-item::after {content: \"\";width: 100%;border-bottom: 1px solid gray;flex-grow: 1;}#sk-container-id-1 div.sk-label:hover label.sk-toggleable__label {background-color: #d4ebff;}#sk-container-id-1 div.sk-serial::before {content: \"\";position: absolute;border-left: 1px solid gray;box-sizing: border-box;top: 0;bottom: 0;left: 50%;z-index: 0;}#sk-container-id-1 div.sk-serial {display: flex;flex-direction: column;align-items: center;background-color: white;padding-right: 0.2em;padding-left: 0.2em;position: relative;}#sk-container-id-1 div.sk-item {position: relative;z-index: 1;}#sk-container-id-1 div.sk-parallel {display: flex;align-items: stretch;justify-content: center;background-color: white;position: relative;}#sk-container-id-1 div.sk-item::before, #sk-container-id-1 div.sk-parallel-item::before {content: \"\";position: absolute;border-left: 1px solid gray;box-sizing: border-box;top: 0;bottom: 0;left: 50%;z-index: -1;}#sk-container-id-1 div.sk-parallel-item {display: flex;flex-direction: column;z-index: 1;position: relative;background-color: white;}#sk-container-id-1 div.sk-parallel-item:first-child::after {align-self: flex-end;width: 50%;}#sk-container-id-1 div.sk-parallel-item:last-child::after {align-self: flex-start;width: 50%;}#sk-container-id-1 div.sk-parallel-item:only-child::after {width: 0;}#sk-container-id-1 div.sk-dashed-wrapped {border: 1px dashed gray;margin: 0 0.4em 0.5em 0.4em;box-sizing: border-box;padding-bottom: 0.4em;background-color: white;}#sk-container-id-1 div.sk-label label {font-family: monospace;font-weight: bold;display: inline-block;line-height: 1.2em;}#sk-container-id-1 div.sk-label-container {text-align: center;}#sk-container-id-1 div.sk-container {/* jupyter's `normalize.less` sets `[hidden] { display: none; }` but bootstrap.min.css set `[hidden] { display: none !important; }` so we also need the `!important` here to be able to override the default hidden behavior on the sphinx rendered scikit-learn.org. See: https://github.com/scikit-learn/scikit-learn/issues/21755 */display: inline-block !important;position: relative;}#sk-container-id-1 div.sk-text-repr-fallback {display: none;}</style><div id=\"sk-container-id-1\" class=\"sk-top-container\"><div class=\"sk-text-repr-fallback\"><pre>LogisticRegression()</pre><b>In a Jupyter environment, please rerun this cell to show the HTML representation or trust the notebook. <br />On GitHub, the HTML representation is unable to render, please try loading this page with nbviewer.org.</b></div><div class=\"sk-container\" hidden><div class=\"sk-item\"><div class=\"sk-estimator sk-toggleable\"><input class=\"sk-toggleable__control sk-hidden--visually\" id=\"sk-estimator-id-1\" type=\"checkbox\" checked><label for=\"sk-estimator-id-1\" class=\"sk-toggleable__label sk-toggleable__label-arrow\">LogisticRegression</label><div class=\"sk-toggleable__content\"><pre>LogisticRegression()</pre></div></div></div></div></div>"
      ],
      "text/plain": [
       "LogisticRegression()"
      ]
     },
     "execution_count": 16,
     "metadata": {},
     "output_type": "execute_result"
    }
   ],
   "source": [
    "classifier.fit(X_train, Y_train)"
   ]
  },
  {
   "cell_type": "code",
   "execution_count": 17,
   "metadata": {},
   "outputs": [
    {
     "name": "stdout",
     "output_type": "stream",
     "text": [
      "accuracy on training set : 0.5465207193119624\n",
      "accuracy on test set :  0.578125\n"
     ]
    }
   ],
   "source": [
    "print(\"accuracy on training set :\", classifier.score(X_train, Y_train))\n",
    "print(\"accuracy on test set : \", classifier.score(X_test, Y_test))"
   ]
  },
  {
   "cell_type": "code",
   "execution_count": 18,
   "metadata": {},
   "outputs": [
    {
     "name": "stdout",
     "output_type": "stream",
     "text": [
      "0.5410617618110236\n",
      "0.027051325500817094\n"
     ]
    },
    {
     "name": "stderr",
     "output_type": "stream",
     "text": [
      "c:\\Users\\jerem\\AppData\\Local\\Programs\\Python\\Python310\\lib\\site-packages\\sklearn\\model_selection\\_split.py:684: UserWarning:\n",
      "\n",
      "The least populated class in y has only 8 members, which is less than n_splits=10.\n",
      "\n"
     ]
    }
   ],
   "source": [
    "accuary = cross_val_score(LogisticRegression(), X_train, Y_train, cv=10)\n",
    "print(accuary.mean())\n",
    "print(accuary.std())"
   ]
  },
  {
   "cell_type": "code",
   "execution_count": 24,
   "metadata": {},
   "outputs": [
    {
     "name": "stdout",
     "output_type": "stream",
     "text": [
      "dummy accuracy on test set :  0.421875\n"
     ]
    }
   ],
   "source": [
    "Y_test_pred_dummy = [5]*len(Y_test)\n",
    "print(\"dummy accuracy on test set : \", accuracy_score(Y_test, Y_test_pred_dummy))"
   ]
  },
  {
   "cell_type": "code",
   "execution_count": 19,
   "metadata": {},
   "outputs": [],
   "source": [
    "target_variable = \"quality\"\n",
    "\n",
    "X = df.drop(target_variable, axis = 1)\n",
    "Y = df.loc[:,target_variable]"
   ]
  },
  {
   "cell_type": "code",
   "execution_count": 20,
   "metadata": {},
   "outputs": [],
   "source": [
    "X_train, X_test, Y_train, Y_test = train_test_split(X, Y, test_size=0.2, random_state=0)"
   ]
  },
  {
   "cell_type": "code",
   "execution_count": 21,
   "metadata": {},
   "outputs": [],
   "source": [
    "preprocessor = StandardScaler()\n",
    "X_train = preprocessor.fit_transform(X_train)\n",
    "X_test = preprocessor.transform(X_test)"
   ]
  },
  {
   "cell_type": "code",
   "execution_count": 22,
   "metadata": {},
   "outputs": [],
   "source": [
    "classifier = LogisticRegression()"
   ]
  },
  {
   "cell_type": "code",
   "execution_count": 23,
   "metadata": {},
   "outputs": [
    {
     "data": {
      "text/html": [
       "<style>#sk-container-id-2 {color: black;background-color: white;}#sk-container-id-2 pre{padding: 0;}#sk-container-id-2 div.sk-toggleable {background-color: white;}#sk-container-id-2 label.sk-toggleable__label {cursor: pointer;display: block;width: 100%;margin-bottom: 0;padding: 0.3em;box-sizing: border-box;text-align: center;}#sk-container-id-2 label.sk-toggleable__label-arrow:before {content: \"▸\";float: left;margin-right: 0.25em;color: #696969;}#sk-container-id-2 label.sk-toggleable__label-arrow:hover:before {color: black;}#sk-container-id-2 div.sk-estimator:hover label.sk-toggleable__label-arrow:before {color: black;}#sk-container-id-2 div.sk-toggleable__content {max-height: 0;max-width: 0;overflow: hidden;text-align: left;background-color: #f0f8ff;}#sk-container-id-2 div.sk-toggleable__content pre {margin: 0.2em;color: black;border-radius: 0.25em;background-color: #f0f8ff;}#sk-container-id-2 input.sk-toggleable__control:checked~div.sk-toggleable__content {max-height: 200px;max-width: 100%;overflow: auto;}#sk-container-id-2 input.sk-toggleable__control:checked~label.sk-toggleable__label-arrow:before {content: \"▾\";}#sk-container-id-2 div.sk-estimator input.sk-toggleable__control:checked~label.sk-toggleable__label {background-color: #d4ebff;}#sk-container-id-2 div.sk-label input.sk-toggleable__control:checked~label.sk-toggleable__label {background-color: #d4ebff;}#sk-container-id-2 input.sk-hidden--visually {border: 0;clip: rect(1px 1px 1px 1px);clip: rect(1px, 1px, 1px, 1px);height: 1px;margin: -1px;overflow: hidden;padding: 0;position: absolute;width: 1px;}#sk-container-id-2 div.sk-estimator {font-family: monospace;background-color: #f0f8ff;border: 1px dotted black;border-radius: 0.25em;box-sizing: border-box;margin-bottom: 0.5em;}#sk-container-id-2 div.sk-estimator:hover {background-color: #d4ebff;}#sk-container-id-2 div.sk-parallel-item::after {content: \"\";width: 100%;border-bottom: 1px solid gray;flex-grow: 1;}#sk-container-id-2 div.sk-label:hover label.sk-toggleable__label {background-color: #d4ebff;}#sk-container-id-2 div.sk-serial::before {content: \"\";position: absolute;border-left: 1px solid gray;box-sizing: border-box;top: 0;bottom: 0;left: 50%;z-index: 0;}#sk-container-id-2 div.sk-serial {display: flex;flex-direction: column;align-items: center;background-color: white;padding-right: 0.2em;padding-left: 0.2em;position: relative;}#sk-container-id-2 div.sk-item {position: relative;z-index: 1;}#sk-container-id-2 div.sk-parallel {display: flex;align-items: stretch;justify-content: center;background-color: white;position: relative;}#sk-container-id-2 div.sk-item::before, #sk-container-id-2 div.sk-parallel-item::before {content: \"\";position: absolute;border-left: 1px solid gray;box-sizing: border-box;top: 0;bottom: 0;left: 50%;z-index: -1;}#sk-container-id-2 div.sk-parallel-item {display: flex;flex-direction: column;z-index: 1;position: relative;background-color: white;}#sk-container-id-2 div.sk-parallel-item:first-child::after {align-self: flex-end;width: 50%;}#sk-container-id-2 div.sk-parallel-item:last-child::after {align-self: flex-start;width: 50%;}#sk-container-id-2 div.sk-parallel-item:only-child::after {width: 0;}#sk-container-id-2 div.sk-dashed-wrapped {border: 1px dashed gray;margin: 0 0.4em 0.5em 0.4em;box-sizing: border-box;padding-bottom: 0.4em;background-color: white;}#sk-container-id-2 div.sk-label label {font-family: monospace;font-weight: bold;display: inline-block;line-height: 1.2em;}#sk-container-id-2 div.sk-label-container {text-align: center;}#sk-container-id-2 div.sk-container {/* jupyter's `normalize.less` sets `[hidden] { display: none; }` but bootstrap.min.css set `[hidden] { display: none !important; }` so we also need the `!important` here to be able to override the default hidden behavior on the sphinx rendered scikit-learn.org. See: https://github.com/scikit-learn/scikit-learn/issues/21755 */display: inline-block !important;position: relative;}#sk-container-id-2 div.sk-text-repr-fallback {display: none;}</style><div id=\"sk-container-id-2\" class=\"sk-top-container\"><div class=\"sk-text-repr-fallback\"><pre>LogisticRegression()</pre><b>In a Jupyter environment, please rerun this cell to show the HTML representation or trust the notebook. <br />On GitHub, the HTML representation is unable to render, please try loading this page with nbviewer.org.</b></div><div class=\"sk-container\" hidden><div class=\"sk-item\"><div class=\"sk-estimator sk-toggleable\"><input class=\"sk-toggleable__control sk-hidden--visually\" id=\"sk-estimator-id-2\" type=\"checkbox\" checked><label for=\"sk-estimator-id-2\" class=\"sk-toggleable__label sk-toggleable__label-arrow\">LogisticRegression</label><div class=\"sk-toggleable__content\"><pre>LogisticRegression()</pre></div></div></div></div></div>"
      ],
      "text/plain": [
       "LogisticRegression()"
      ]
     },
     "execution_count": 23,
     "metadata": {},
     "output_type": "execute_result"
    }
   ],
   "source": [
    "classifier.fit(X_train, Y_train)"
   ]
  },
  {
   "cell_type": "code",
   "execution_count": null,
   "metadata": {},
   "outputs": [],
   "source": []
  }
 ],
 "metadata": {
  "kernelspec": {
   "display_name": "Python 3.10.2 64-bit",
   "language": "python",
   "name": "python3"
  },
  "language_info": {
   "codemirror_mode": {
    "name": "ipython",
    "version": 3
   },
   "file_extension": ".py",
   "mimetype": "text/x-python",
   "name": "python",
   "nbconvert_exporter": "python",
   "pygments_lexer": "ipython3",
   "version": "3.10.2"
  },
  "orig_nbformat": 4,
  "vscode": {
   "interpreter": {
    "hash": "23e0aedb6d47e040503db7fcf09a0dff3cea72eb7d5d4c2596a602b1504b448c"
   }
  }
 },
 "nbformat": 4,
 "nbformat_minor": 2
}
