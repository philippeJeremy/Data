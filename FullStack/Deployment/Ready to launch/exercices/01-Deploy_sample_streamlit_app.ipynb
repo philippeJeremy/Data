{
 "cells": [
  {
   "cell_type": "markdown",
   "metadata": {},
   "source": [
    "![launch](https://media.giphy.com/media/1n4FT4KRQkDvK0IO4X/giphy.gif)\n",
    "\n",
    "# Deploy sample streamlit app\n",
    "\n",
    "For our first deployment, let's take the classic sample streamlit app and try to deploy it.\n",
    "\n",
    "* First `git clone` this repository: https://github.com/JedhaBootcamp/heroku_deployment_sample_streamlit_app\n",
    "* Deploy it to Heroku following our tutorial \n",
    "\n",
    "Happy Deployment! 👨‍💻\n"
   ]
  }
 ],
 "metadata": {
  "language_info": {
   "name": "python"
  },
  "orig_nbformat": 4
 },
 "nbformat": 4,
 "nbformat_minor": 2
}
