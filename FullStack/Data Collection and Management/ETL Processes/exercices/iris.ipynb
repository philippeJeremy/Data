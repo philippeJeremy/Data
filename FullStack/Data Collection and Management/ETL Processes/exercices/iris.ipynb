{
 "cells": [
  {
   "cell_type": "code",
   "execution_count": 1,
   "metadata": {},
   "outputs": [],
   "source": [
    "import pandas as pd\n",
    "import numpy as np\n",
    "import plotly.express as px\n",
    "from sklearn import datasets\n",
    "from sqlalchemy import create_engine, Column, Integer, String, Float, BIGINT, text\n",
    "from sqlalchemy.ext.declarative import declarative_base\n",
    "from sqlalchemy.orm import sessionmaker"
   ]
  },
  {
   "cell_type": "code",
   "execution_count": 2,
   "metadata": {},
   "outputs": [],
   "source": [
    "df = px.data.iris()"
   ]
  },
  {
   "cell_type": "code",
   "execution_count": 3,
   "metadata": {},
   "outputs": [
    {
     "data": {
      "text/html": [
       "<div>\n",
       "<style scoped>\n",
       "    .dataframe tbody tr th:only-of-type {\n",
       "        vertical-align: middle;\n",
       "    }\n",
       "\n",
       "    .dataframe tbody tr th {\n",
       "        vertical-align: top;\n",
       "    }\n",
       "\n",
       "    .dataframe thead th {\n",
       "        text-align: right;\n",
       "    }\n",
       "</style>\n",
       "<table border=\"1\" class=\"dataframe\">\n",
       "  <thead>\n",
       "    <tr style=\"text-align: right;\">\n",
       "      <th></th>\n",
       "      <th>sepal_length</th>\n",
       "      <th>sepal_width</th>\n",
       "      <th>petal_length</th>\n",
       "      <th>petal_width</th>\n",
       "      <th>species</th>\n",
       "      <th>species_id</th>\n",
       "    </tr>\n",
       "  </thead>\n",
       "  <tbody>\n",
       "    <tr>\n",
       "      <th>0</th>\n",
       "      <td>5.1</td>\n",
       "      <td>3.5</td>\n",
       "      <td>1.4</td>\n",
       "      <td>0.2</td>\n",
       "      <td>setosa</td>\n",
       "      <td>1</td>\n",
       "    </tr>\n",
       "    <tr>\n",
       "      <th>1</th>\n",
       "      <td>4.9</td>\n",
       "      <td>3.0</td>\n",
       "      <td>1.4</td>\n",
       "      <td>0.2</td>\n",
       "      <td>setosa</td>\n",
       "      <td>1</td>\n",
       "    </tr>\n",
       "    <tr>\n",
       "      <th>2</th>\n",
       "      <td>4.7</td>\n",
       "      <td>3.2</td>\n",
       "      <td>1.3</td>\n",
       "      <td>0.2</td>\n",
       "      <td>setosa</td>\n",
       "      <td>1</td>\n",
       "    </tr>\n",
       "    <tr>\n",
       "      <th>3</th>\n",
       "      <td>4.6</td>\n",
       "      <td>3.1</td>\n",
       "      <td>1.5</td>\n",
       "      <td>0.2</td>\n",
       "      <td>setosa</td>\n",
       "      <td>1</td>\n",
       "    </tr>\n",
       "    <tr>\n",
       "      <th>4</th>\n",
       "      <td>5.0</td>\n",
       "      <td>3.6</td>\n",
       "      <td>1.4</td>\n",
       "      <td>0.2</td>\n",
       "      <td>setosa</td>\n",
       "      <td>1</td>\n",
       "    </tr>\n",
       "    <tr>\n",
       "      <th>...</th>\n",
       "      <td>...</td>\n",
       "      <td>...</td>\n",
       "      <td>...</td>\n",
       "      <td>...</td>\n",
       "      <td>...</td>\n",
       "      <td>...</td>\n",
       "    </tr>\n",
       "    <tr>\n",
       "      <th>145</th>\n",
       "      <td>6.7</td>\n",
       "      <td>3.0</td>\n",
       "      <td>5.2</td>\n",
       "      <td>2.3</td>\n",
       "      <td>virginica</td>\n",
       "      <td>3</td>\n",
       "    </tr>\n",
       "    <tr>\n",
       "      <th>146</th>\n",
       "      <td>6.3</td>\n",
       "      <td>2.5</td>\n",
       "      <td>5.0</td>\n",
       "      <td>1.9</td>\n",
       "      <td>virginica</td>\n",
       "      <td>3</td>\n",
       "    </tr>\n",
       "    <tr>\n",
       "      <th>147</th>\n",
       "      <td>6.5</td>\n",
       "      <td>3.0</td>\n",
       "      <td>5.2</td>\n",
       "      <td>2.0</td>\n",
       "      <td>virginica</td>\n",
       "      <td>3</td>\n",
       "    </tr>\n",
       "    <tr>\n",
       "      <th>148</th>\n",
       "      <td>6.2</td>\n",
       "      <td>3.4</td>\n",
       "      <td>5.4</td>\n",
       "      <td>2.3</td>\n",
       "      <td>virginica</td>\n",
       "      <td>3</td>\n",
       "    </tr>\n",
       "    <tr>\n",
       "      <th>149</th>\n",
       "      <td>5.9</td>\n",
       "      <td>3.0</td>\n",
       "      <td>5.1</td>\n",
       "      <td>1.8</td>\n",
       "      <td>virginica</td>\n",
       "      <td>3</td>\n",
       "    </tr>\n",
       "  </tbody>\n",
       "</table>\n",
       "<p>150 rows × 6 columns</p>\n",
       "</div>"
      ],
      "text/plain": [
       "     sepal_length  sepal_width  petal_length  petal_width    species  \\\n",
       "0             5.1          3.5           1.4          0.2     setosa   \n",
       "1             4.9          3.0           1.4          0.2     setosa   \n",
       "2             4.7          3.2           1.3          0.2     setosa   \n",
       "3             4.6          3.1           1.5          0.2     setosa   \n",
       "4             5.0          3.6           1.4          0.2     setosa   \n",
       "..            ...          ...           ...          ...        ...   \n",
       "145           6.7          3.0           5.2          2.3  virginica   \n",
       "146           6.3          2.5           5.0          1.9  virginica   \n",
       "147           6.5          3.0           5.2          2.0  virginica   \n",
       "148           6.2          3.4           5.4          2.3  virginica   \n",
       "149           5.9          3.0           5.1          1.8  virginica   \n",
       "\n",
       "     species_id  \n",
       "0             1  \n",
       "1             1  \n",
       "2             1  \n",
       "3             1  \n",
       "4             1  \n",
       "..          ...  \n",
       "145           3  \n",
       "146           3  \n",
       "147           3  \n",
       "148           3  \n",
       "149           3  \n",
       "\n",
       "[150 rows x 6 columns]"
      ]
     },
     "execution_count": 3,
     "metadata": {},
     "output_type": "execute_result"
    }
   ],
   "source": [
    "df"
   ]
  },
  {
   "cell_type": "code",
   "execution_count": 4,
   "metadata": {},
   "outputs": [],
   "source": [
    "engine = create_engine(\"sqlite:///:memory:\", echo=True)"
   ]
  },
  {
   "cell_type": "code",
   "execution_count": 5,
   "metadata": {},
   "outputs": [
    {
     "name": "stdout",
     "output_type": "stream",
     "text": [
      "2022-10-24 21:05:35,295 INFO sqlalchemy.engine.Engine PRAGMA main.table_info(\"iris\")\n",
      "2022-10-24 21:05:35,296 INFO sqlalchemy.engine.Engine [raw sql] ()\n",
      "2022-10-24 21:05:35,296 INFO sqlalchemy.engine.Engine PRAGMA temp.table_info(\"iris\")\n",
      "2022-10-24 21:05:35,297 INFO sqlalchemy.engine.Engine [raw sql] ()\n",
      "2022-10-24 21:05:35,298 INFO sqlalchemy.engine.Engine BEGIN (implicit)\n",
      "2022-10-24 21:05:35,299 INFO sqlalchemy.engine.Engine \n",
      "CREATE TABLE iris (\n",
      "\t\"index\" BIGINT, \n",
      "\tsepal_length FLOAT, \n",
      "\tsepal_width FLOAT, \n",
      "\tpetal_length FLOAT, \n",
      "\tpetal_width FLOAT, \n",
      "\tspecies TEXT, \n",
      "\tspecies_id BIGINT\n",
      ")\n",
      "\n",
      "\n",
      "2022-10-24 21:05:35,299 INFO sqlalchemy.engine.Engine [no key 0.00034s] ()\n",
      "2022-10-24 21:05:35,300 INFO sqlalchemy.engine.Engine CREATE INDEX ix_iris_index ON iris (\"index\")\n",
      "2022-10-24 21:05:35,300 INFO sqlalchemy.engine.Engine [no key 0.00054s] ()\n",
      "2022-10-24 21:05:35,301 INFO sqlalchemy.engine.Engine COMMIT\n",
      "2022-10-24 21:05:35,302 INFO sqlalchemy.engine.Engine BEGIN (implicit)\n",
      "2022-10-24 21:05:35,304 INFO sqlalchemy.engine.Engine INSERT INTO iris (\"index\", sepal_length, sepal_width, petal_length, petal_width, species, species_id) VALUES (?, ?, ?, ?, ?, ?, ?)\n",
      "2022-10-24 21:05:35,304 INFO sqlalchemy.engine.Engine [generated in 0.00087s] ((0, 5.1, 3.5, 1.4, 0.2, 'setosa', 1), (1, 4.9, 3.0, 1.4, 0.2, 'setosa', 1), (2, 4.7, 3.2, 1.3, 0.2, 'setosa', 1), (3, 4.6, 3.1, 1.5, 0.2, 'setosa', 1), (4, 5.0, 3.6, 1.4, 0.2, 'setosa', 1), (5, 5.4, 3.9, 1.7, 0.4, 'setosa', 1), (6, 4.6, 3.4, 1.4, 0.3, 'setosa', 1), (7, 5.0, 3.4, 1.5, 0.2, 'setosa', 1)  ... displaying 10 of 150 total bound parameter sets ...  (148, 6.2, 3.4, 5.4, 2.3, 'virginica', 3), (149, 5.9, 3.0, 5.1, 1.8, 'virginica', 3))\n",
      "2022-10-24 21:05:35,305 INFO sqlalchemy.engine.Engine COMMIT\n"
     ]
    },
    {
     "data": {
      "text/plain": [
       "150"
      ]
     },
     "execution_count": 5,
     "metadata": {},
     "output_type": "execute_result"
    }
   ],
   "source": [
    "df.to_sql(\"iris\",\n",
    "    engine\n",
    ")"
   ]
  },
  {
   "cell_type": "code",
   "execution_count": 12,
   "metadata": {},
   "outputs": [],
   "source": [
    "conn = engine.connect()"
   ]
  },
  {
   "cell_type": "code",
   "execution_count": 14,
   "metadata": {},
   "outputs": [
    {
     "name": "stdout",
     "output_type": "stream",
     "text": [
      "2022-10-24 21:16:32,457 INFO sqlalchemy.engine.Engine SELECT DISTINCT species FROM iris\n",
      "2022-10-24 21:16:32,457 INFO sqlalchemy.engine.Engine [generated in 0.00053s] ()\n"
     ]
    },
    {
     "data": {
      "text/plain": [
       "[('setosa',), ('versicolor',), ('virginica',)]"
      ]
     },
     "execution_count": 14,
     "metadata": {},
     "output_type": "execute_result"
    }
   ],
   "source": [
    "requist = text(\"SELECT DISTINCT species FROM iris\")\n",
    "result = conn.execute(requist)\n",
    "result.fetchall()"
   ]
  },
  {
   "cell_type": "code",
   "execution_count": 18,
   "metadata": {},
   "outputs": [
    {
     "name": "stdout",
     "output_type": "stream",
     "text": [
      "2022-10-24 21:18:27,372 INFO sqlalchemy.engine.Engine SELECT species,  AVG(sepal_length) FROM iris GROUP BY species\n",
      "2022-10-24 21:18:27,372 INFO sqlalchemy.engine.Engine [generated in 0.00069s] ()\n"
     ]
    },
    {
     "data": {
      "text/plain": [
       "[('setosa', 5.005999999999999),\n",
       " ('versicolor', 5.936),\n",
       " ('virginica', 6.587999999999998)]"
      ]
     },
     "execution_count": 18,
     "metadata": {},
     "output_type": "execute_result"
    }
   ],
   "source": [
    "requist = text(\"SELECT species,  AVG(sepal_length) FROM iris GROUP BY species\")\n",
    "result = conn.execute(requist)\n",
    "result.fetchall()"
   ]
  },
  {
   "cell_type": "code",
   "execution_count": null,
   "metadata": {},
   "outputs": [],
   "source": []
  }
 ],
 "metadata": {
  "kernelspec": {
   "display_name": "Python 3.10.2 64-bit",
   "language": "python",
   "name": "python3"
  },
  "language_info": {
   "codemirror_mode": {
    "name": "ipython",
    "version": 3
   },
   "file_extension": ".py",
   "mimetype": "text/x-python",
   "name": "python",
   "nbconvert_exporter": "python",
   "pygments_lexer": "ipython3",
   "version": "3.10.2"
  },
  "orig_nbformat": 4,
  "vscode": {
   "interpreter": {
    "hash": "23e0aedb6d47e040503db7fcf09a0dff3cea72eb7d5d4c2596a602b1504b448c"
   }
  }
 },
 "nbformat": 4,
 "nbformat_minor": 2
}
