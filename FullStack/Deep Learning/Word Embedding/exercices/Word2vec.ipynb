{
 "cells": [
  {
   "cell_type": "code",
   "execution_count": 39,
   "metadata": {},
   "outputs": [],
   "source": [
    "import io\n",
    "import re\n",
    "import os\n",
    "import tqdm\n",
    "import shutil\n",
    "import string\n",
    "\n",
    "import numpy as np\n",
    "import pandas as pd\n",
    "import tensorflow as tf\n",
    "import plotly.express as px \n",
    "\n",
    "from sklearn.cluster import KMeans\n",
    "from tensorflow.keras import Model\n",
    "from sklearn.metrics import silhouette_score\n",
    "from tensorflow.keras.layers import Dot, Embedding, Flatten"
   ]
  },
  {
   "cell_type": "code",
   "execution_count": 40,
   "metadata": {},
   "outputs": [],
   "source": [
    "SEED=123"
   ]
  },
  {
   "cell_type": "code",
   "execution_count": 41,
   "metadata": {},
   "outputs": [],
   "source": [
    "df = pd.read_csv(\"https://full-stack-assets.s3.eu-west-3.amazonaws.com/images/M08-DeepLearning/NLP/french_reviews.csv\")"
   ]
  },
  {
   "cell_type": "code",
   "execution_count": 42,
   "metadata": {},
   "outputs": [],
   "source": [
    "df = df[df[\"review_format_clean\"].apply(lambda x: isinstance(x, str))]"
   ]
  },
  {
   "cell_type": "code",
   "execution_count": 43,
   "metadata": {},
   "outputs": [],
   "source": [
    "tokenizer = tf.keras.preprocessing.text.Tokenizer(num_words=1000)"
   ]
  },
  {
   "cell_type": "code",
   "execution_count": 44,
   "metadata": {},
   "outputs": [],
   "source": [
    "tokenizer.fit_on_texts(df[\"review_format_clean\"])\n",
    "df[\"review_encoded\"] = tokenizer.texts_to_sequences(df[\"review_format_clean\"])"
   ]
  },
  {
   "cell_type": "code",
   "execution_count": 45,
   "metadata": {},
   "outputs": [],
   "source": [
    "def generate_training_data(sequences, window_size, num_ns, vocab_size, seed):\n",
    "  \n",
    "  targets, contexts, labels = [], [], []\n",
    "\n",
    "  sampling_table = tf.keras.preprocessing.sequence.make_sampling_table(vocab_size)\n",
    "\n",
    "  for sequence in tqdm.tqdm(sequences):\n",
    "\n",
    "    positive_skip_grams, _ = tf.keras.preprocessing.sequence.skipgrams(\n",
    "          sequence,\n",
    "          vocabulary_size=vocab_size,\n",
    "          sampling_table=sampling_table, \n",
    "          window_size=window_size,\n",
    "          negative_samples=0)\n",
    "\n",
    "    for target_word, context_word in positive_skip_grams:\n",
    "      \n",
    "      target_word = tf.expand_dims(tf.constant([target_word], dtype=\"int64\"),1)\n",
    "     \n",
    "      context_class = tf.expand_dims(\n",
    "          tf.constant([context_word], dtype=\"int64\"), 1)\n",
    "      \n",
    "      negative_sampling_candidates, _, _ = tf.random.log_uniform_candidate_sampler(\n",
    "          true_classes=context_class,\n",
    "          num_true=1,\n",
    "          num_sampled=num_ns,\n",
    "          unique=True,\n",
    "          range_max=vocab_size,\n",
    "          seed=SEED,\n",
    "          name=\"negative_sampling\")\n",
    "\n",
    "      negative_sampling_candidates = tf.expand_dims(\n",
    "          negative_sampling_candidates, 1) \n",
    "\n",
    "      \n",
    "      context = tf.concat([context_class, negative_sampling_candidates], 0)\n",
    "     \n",
    "      label = tf.constant([1] + [0]*num_ns, dtype=\"int64\")\n",
    "\n",
    "      targets.append(target_word)\n",
    "      contexts.append(context)\n",
    "      labels.append(label)\n",
    "\n",
    "  return targets, contexts, labels"
   ]
  },
  {
   "cell_type": "code",
   "execution_count": 46,
   "metadata": {},
   "outputs": [],
   "source": [
    "vocab_size = tokenizer.num_words"
   ]
  },
  {
   "cell_type": "code",
   "execution_count": 47,
   "metadata": {},
   "outputs": [
    {
     "name": "stderr",
     "output_type": "stream",
     "text": [
      "100%|██████████| 8470/8470 [00:09<00:00, 927.21it/s] \n"
     ]
    },
    {
     "name": "stdout",
     "output_type": "stream",
     "text": [
      "40501 40501 40501\n"
     ]
    }
   ],
   "source": [
    "targets, contexts, labels = generate_training_data(\n",
    "    sequences=df[\"review_encoded\"],\n",
    "    window_size=2,\n",
    "    num_ns=4,\n",
    "    vocab_size=vocab_size,\n",
    "    seed=SEED)\n",
    "print(len(targets), len(contexts), len(labels))"
   ]
  },
  {
   "cell_type": "code",
   "execution_count": 48,
   "metadata": {},
   "outputs": [
    {
     "name": "stdout",
     "output_type": "stream",
     "text": [
      "<BatchDataset element_spec=((TensorSpec(shape=(1024, 1, 1), dtype=tf.int64, name=None), TensorSpec(shape=(1024, 5, 1), dtype=tf.int64, name=None)), TensorSpec(shape=(1024, 5), dtype=tf.int64, name=None))>\n"
     ]
    }
   ],
   "source": [
    "BATCH_SIZE = 1024\n",
    "BUFFER_SIZE = len(targets)\n",
    "dataset = tf.data.Dataset.from_tensor_slices(((targets, contexts), labels))\n",
    "dataset = dataset.shuffle(BUFFER_SIZE).batch(BATCH_SIZE, drop_remainder=True)\n",
    "print(dataset)"
   ]
  },
  {
   "cell_type": "code",
   "execution_count": 49,
   "metadata": {},
   "outputs": [
    {
     "name": "stdout",
     "output_type": "stream",
     "text": [
      "<PrefetchDataset element_spec=((TensorSpec(shape=(1024, 1, 1), dtype=tf.int64, name=None), TensorSpec(shape=(1024, 5, 1), dtype=tf.int64, name=None)), TensorSpec(shape=(1024, 5), dtype=tf.int64, name=None))>\n"
     ]
    }
   ],
   "source": [
    "AUTOTUNE = tf.data.AUTOTUNE\n",
    "dataset = dataset.cache().prefetch(buffer_size=AUTOTUNE)\n",
    "print(dataset)"
   ]
  },
  {
   "cell_type": "code",
   "execution_count": 50,
   "metadata": {},
   "outputs": [],
   "source": [
    "embedding_dim = 128\n",
    "\n",
    "target_embedding = Embedding(vocab_size,\n",
    "                            embedding_dim,\n",
    "                            input_length=1,\n",
    "                            name=\"w2v_embedding\",\n",
    "                             mask_zero=True)\n",
    "context_embedding = Embedding(vocab_size,\n",
    "                              embedding_dim,\n",
    "                              input_length=4+1,\n",
    "                              name=\"context_embedding\")\n",
    "dots = Dot(axes=3,name=\"dot_product\")\n",
    "flatten = Flatten()"
   ]
  },
  {
   "cell_type": "code",
   "execution_count": 51,
   "metadata": {},
   "outputs": [],
   "source": [
    "target = tf.keras.Input(shape=[1,1], name=\"target\")\n",
    "\n",
    "context = tf.keras.Input(shape=[5,1], name=\"context\")\n",
    "\n",
    "word_emb = target_embedding(target)\n",
    "\n",
    "context_emb = context_embedding(context)\n",
    "\n",
    "dots_result = dots([context_emb, word_emb])\n",
    "\n",
    "flat = flatten(dots_result)\n",
    "\n",
    "output = tf.keras.activations.sigmoid(flat)\n",
    "\n",
    "word2vec = tf.keras.Model(inputs=[target,context], outputs=output)"
   ]
  },
  {
   "cell_type": "code",
   "execution_count": 52,
   "metadata": {},
   "outputs": [
    {
     "data": {
      "image/png": "[encoded data removed]",
      "text/plain": [
       "<IPython.core.display.Image object>"
      ]
     },
     "execution_count": 52,
     "metadata": {},
     "output_type": "execute_result"
    }
   ],
   "source": [
    "tf.keras.utils.plot_model(word2vec, show_shapes=True)"
   ]
  },
  {
   "cell_type": "code",
   "execution_count": 53,
   "metadata": {},
   "outputs": [],
   "source": [
    "word2vec.compile(optimizer='adam',\n",
    "                 loss=tf.keras.losses.BinaryCrossentropy(),\n",
    "                 metrics=['accuracy'])"
   ]
  },
  {
   "cell_type": "code",
   "execution_count": 54,
   "metadata": {},
   "outputs": [],
   "source": [
    "tensorboard_callback = tf.keras.callbacks.TensorBoard(log_dir=\"logs\")"
   ]
  },
  {
   "cell_type": "code",
   "execution_count": 55,
   "metadata": {},
   "outputs": [
    {
     "name": "stdout",
     "output_type": "stream",
     "text": [
      "Epoch 1/40\n",
      "39/39 [==============================] - 1s 3ms/step - loss: 0.6914 - accuracy: 0.2336\n",
      "Epoch 2/40\n",
      "39/39 [==============================] - 0s 3ms/step - loss: 0.6638 - accuracy: 0.3289\n",
      "Epoch 3/40\n",
      "39/39 [==============================] - 0s 3ms/step - loss: 0.5758 - accuracy: 0.2705\n",
      "Epoch 4/40\n",
      "39/39 [==============================] - 0s 3ms/step - loss: 0.5067 - accuracy: 0.2640\n",
      "Epoch 5/40\n",
      "39/39 [==============================] - 0s 3ms/step - loss: 0.4866 - accuracy: 0.2786\n",
      "Epoch 6/40\n",
      "39/39 [==============================] - 0s 3ms/step - loss: 0.4790 - accuracy: 0.3040\n",
      "Epoch 7/40\n",
      "39/39 [==============================] - 0s 3ms/step - loss: 0.4744 - accuracy: 0.3270\n",
      "Epoch 8/40\n",
      "39/39 [==============================] - 0s 3ms/step - loss: 0.4703 - accuracy: 0.3475\n",
      "Epoch 9/40\n",
      "39/39 [==============================] - 0s 3ms/step - loss: 0.4660 - accuracy: 0.3724\n",
      "Epoch 10/40\n",
      "39/39 [==============================] - 0s 3ms/step - loss: 0.4609 - accuracy: 0.4024\n",
      "Epoch 11/40\n",
      "39/39 [==============================] - 0s 3ms/step - loss: 0.4549 - accuracy: 0.4359\n",
      "Epoch 12/40\n",
      "39/39 [==============================] - 0s 3ms/step - loss: 0.4481 - accuracy: 0.4712\n",
      "Epoch 13/40\n",
      "39/39 [==============================] - 0s 3ms/step - loss: 0.4406 - accuracy: 0.5057\n",
      "Epoch 14/40\n",
      "39/39 [==============================] - 0s 3ms/step - loss: 0.4326 - accuracy: 0.5397\n",
      "Epoch 15/40\n",
      "39/39 [==============================] - 0s 3ms/step - loss: 0.4243 - accuracy: 0.5725\n",
      "Epoch 16/40\n",
      "39/39 [==============================] - 0s 3ms/step - loss: 0.4158 - accuracy: 0.5982\n",
      "Epoch 17/40\n",
      "39/39 [==============================] - 0s 3ms/step - loss: 0.4072 - accuracy: 0.6216\n",
      "Epoch 18/40\n",
      "39/39 [==============================] - 0s 3ms/step - loss: 0.3987 - accuracy: 0.6432\n",
      "Epoch 19/40\n",
      "39/39 [==============================] - 0s 3ms/step - loss: 0.3902 - accuracy: 0.6623\n",
      "Epoch 20/40\n",
      "39/39 [==============================] - 0s 3ms/step - loss: 0.3818 - accuracy: 0.6805\n",
      "Epoch 21/40\n",
      "39/39 [==============================] - 0s 3ms/step - loss: 0.3736 - accuracy: 0.6947\n",
      "Epoch 22/40\n",
      "39/39 [==============================] - 0s 3ms/step - loss: 0.3655 - accuracy: 0.7081\n",
      "Epoch 23/40\n",
      "39/39 [==============================] - 0s 3ms/step - loss: 0.3575 - accuracy: 0.7215\n",
      "Epoch 24/40\n",
      "39/39 [==============================] - 0s 3ms/step - loss: 0.3498 - accuracy: 0.7334\n",
      "Epoch 25/40\n",
      "39/39 [==============================] - 0s 3ms/step - loss: 0.3422 - accuracy: 0.7446\n",
      "Epoch 26/40\n",
      "39/39 [==============================] - 0s 3ms/step - loss: 0.3349 - accuracy: 0.7544\n",
      "Epoch 27/40\n",
      "39/39 [==============================] - 0s 3ms/step - loss: 0.3279 - accuracy: 0.7631\n",
      "Epoch 28/40\n",
      "39/39 [==============================] - 0s 3ms/step - loss: 0.3210 - accuracy: 0.7724\n",
      "Epoch 29/40\n",
      "39/39 [==============================] - 0s 3ms/step - loss: 0.3144 - accuracy: 0.7807\n",
      "Epoch 30/40\n",
      "39/39 [==============================] - 0s 3ms/step - loss: 0.3080 - accuracy: 0.7888\n",
      "Epoch 31/40\n",
      "39/39 [==============================] - 0s 3ms/step - loss: 0.3019 - accuracy: 0.7963\n",
      "Epoch 32/40\n",
      "39/39 [==============================] - 0s 3ms/step - loss: 0.2960 - accuracy: 0.8026\n",
      "Epoch 33/40\n",
      "39/39 [==============================] - 0s 3ms/step - loss: 0.2904 - accuracy: 0.8096\n",
      "Epoch 34/40\n",
      "39/39 [==============================] - 0s 3ms/step - loss: 0.2850 - accuracy: 0.8157\n",
      "Epoch 35/40\n",
      "39/39 [==============================] - 0s 3ms/step - loss: 0.2798 - accuracy: 0.8211\n",
      "Epoch 36/40\n",
      "39/39 [==============================] - 0s 3ms/step - loss: 0.2748 - accuracy: 0.8262\n",
      "Epoch 37/40\n",
      "39/39 [==============================] - 0s 3ms/step - loss: 0.2701 - accuracy: 0.8303\n",
      "Epoch 38/40\n",
      "39/39 [==============================] - 0s 3ms/step - loss: 0.2656 - accuracy: 0.8348\n",
      "Epoch 39/40\n",
      "39/39 [==============================] - 0s 3ms/step - loss: 0.2613 - accuracy: 0.8391\n",
      "Epoch 40/40\n",
      "39/39 [==============================] - 0s 3ms/step - loss: 0.2571 - accuracy: 0.8427\n"
     ]
    },
    {
     "data": {
      "text/plain": [
       "<keras.callbacks.History at 0x1781e106f80>"
      ]
     },
     "execution_count": 55,
     "metadata": {},
     "output_type": "execute_result"
    }
   ],
   "source": [
    "word2vec.fit(dataset, epochs=40, callbacks=[tensorboard_callback])"
   ]
  },
  {
   "cell_type": "code",
   "execution_count": 56,
   "metadata": {},
   "outputs": [
    {
     "name": "stdout",
     "output_type": "stream",
     "text": [
      "The tensorboard extension is already loaded. To reload it, use:\n",
      "  %reload_ext tensorboard\n"
     ]
    }
   ],
   "source": [
    "%load_ext tensorboard"
   ]
  },
  {
   "cell_type": "code",
   "execution_count": 57,
   "metadata": {},
   "outputs": [
    {
     "data": {
      "text/plain": [
       "Reusing TensorBoard on port 6006 (pid 3680), started 0:08:29 ago. (Use '!kill 3680' to kill it.)"
      ]
     },
     "metadata": {},
     "output_type": "display_data"
    },
    {
     "data": {
      "text/html": [
       "\n",
       "      <iframe id=\"tensorboard-frame-f764797e9d2c4216\" width=\"100%\" height=\"800\" frameborder=\"0\">\n",
       "      </iframe>\n",
       "      <script>\n",
       "        (function() {\n",
       "          const frame = document.getElementById(\"tensorboard-frame-f764797e9d2c4216\");\n",
       "          const url = new URL(\"http://localhost\");\n",
       "          const port = 6006;\n",
       "          if (port) {\n",
       "            url.port = port;\n",
       "          }\n",
       "          frame.src = url;\n",
       "        })();\n",
       "      </script>\n",
       "    "
      ],
      "text/plain": [
       "<IPython.core.display.HTML object>"
      ]
     },
     "metadata": {},
     "output_type": "display_data"
    }
   ],
   "source": [
    "%tensorboard --logdir logs"
   ]
  },
  {
   "cell_type": "code",
   "execution_count": 58,
   "metadata": {},
   "outputs": [],
   "source": [
    "weights = word2vec.get_layer('w2v_embedding').get_weights()[0]\n",
    "vocab = [value for value in tokenizer.index_word.values()][:1000]"
   ]
  },
  {
   "cell_type": "code",
   "execution_count": 59,
   "metadata": {},
   "outputs": [],
   "source": [
    "out_v = io.open('vectors.tsv', 'w', encoding='utf-8')\n",
    "out_m = io.open('metadata.tsv', 'w', encoding='utf-8')\n",
    "\n",
    "for index, word in enumerate(vocab):\n",
    "  if index == 0:\n",
    "    continue  # skip 0, it's padding.\n",
    "  vec = weights[index]\n",
    "  out_v.write('\\t'.join([str(x) for x in vec]) + \"\\n\")\n",
    "  out_m.write(word + \"\\n\")\n",
    "out_v.close()\n",
    "out_m.close()"
   ]
  },
  {
   "cell_type": "code",
   "execution_count": 60,
   "metadata": {},
   "outputs": [
    {
     "data": {
      "text/plain": [
       "array([[ 88, 576,   7, ...,   0,   0,   0],\n",
       "       [290,  60,   0, ...,   0,   0,   0],\n",
       "       [366, 766, 442, ...,   0,   0,   0],\n",
       "       ...,\n",
       "       [ 23,  27, 106, ...,   0,   0,   0],\n",
       "       [169,   7, 211, ...,   0,   0,   0],\n",
       "       [ 17,   9, 371, ...,   0,   0,   0]])"
      ]
     },
     "execution_count": 60,
     "metadata": {},
     "output_type": "execute_result"
    }
   ],
   "source": [
    "text_encoded = tokenizer.texts_to_sequences(df[\"review_format_clean\"])\n",
    "text_encoded_padded = tf.keras.preprocessing.sequence.pad_sequences(text_encoded,\n",
    "                                                                    padding=\"post\")\n",
    "text_encoded_padded"
   ]
  },
  {
   "cell_type": "code",
   "execution_count": 61,
   "metadata": {},
   "outputs": [],
   "source": [
    "avg_pooling = tf.keras.layers.GlobalAveragePooling1D()"
   ]
  },
  {
   "cell_type": "code",
   "execution_count": 62,
   "metadata": {},
   "outputs": [],
   "source": [
    "emebedded_text = target_embedding(text_encoded_padded)"
   ]
  },
  {
   "cell_type": "code",
   "execution_count": 63,
   "metadata": {},
   "outputs": [
    {
     "data": {
      "text/plain": [
       "TensorShape([8470, 184, 128])"
      ]
     },
     "execution_count": 63,
     "metadata": {},
     "output_type": "execute_result"
    }
   ],
   "source": [
    "emebedded_text.shape"
   ]
  },
  {
   "cell_type": "code",
   "execution_count": 64,
   "metadata": {},
   "outputs": [],
   "source": [
    "avg_embedded_text = avg_pooling(emebedded_text).numpy()"
   ]
  },
  {
   "cell_type": "code",
   "execution_count": 65,
   "metadata": {},
   "outputs": [
    {
     "data": {
      "text/plain": [
       "(8470, 128)"
      ]
     },
     "execution_count": 65,
     "metadata": {},
     "output_type": "execute_result"
    }
   ],
   "source": [
    "avg_embedded_text.shape"
   ]
  },
  {
   "cell_type": "code",
   "execution_count": 66,
   "metadata": {},
   "outputs": [],
   "source": [
    "df_2 = pd.DataFrame(avg_embedded_text)"
   ]
  },
  {
   "cell_type": "code",
   "execution_count": 67,
   "metadata": {},
   "outputs": [
    {
     "data": {
      "text/html": [
       "<div>\n",
       "<style scoped>\n",
       "    .dataframe tbody tr th:only-of-type {\n",
       "        vertical-align: middle;\n",
       "    }\n",
       "\n",
       "    .dataframe tbody tr th {\n",
       "        vertical-align: top;\n",
       "    }\n",
       "\n",
       "    .dataframe thead th {\n",
       "        text-align: right;\n",
       "    }\n",
       "</style>\n",
       "<table border=\"1\" class=\"dataframe\">\n",
       "  <thead>\n",
       "    <tr style=\"text-align: right;\">\n",
       "      <th></th>\n",
       "      <th>0</th>\n",
       "      <th>1</th>\n",
       "      <th>2</th>\n",
       "      <th>3</th>\n",
       "      <th>4</th>\n",
       "      <th>5</th>\n",
       "      <th>6</th>\n",
       "      <th>7</th>\n",
       "      <th>8</th>\n",
       "      <th>9</th>\n",
       "      <th>...</th>\n",
       "      <th>118</th>\n",
       "      <th>119</th>\n",
       "      <th>120</th>\n",
       "      <th>121</th>\n",
       "      <th>122</th>\n",
       "      <th>123</th>\n",
       "      <th>124</th>\n",
       "      <th>125</th>\n",
       "      <th>126</th>\n",
       "      <th>127</th>\n",
       "    </tr>\n",
       "  </thead>\n",
       "  <tbody>\n",
       "    <tr>\n",
       "      <th>0</th>\n",
       "      <td>-0.047362</td>\n",
       "      <td>0.172673</td>\n",
       "      <td>-0.251220</td>\n",
       "      <td>-0.089311</td>\n",
       "      <td>0.185636</td>\n",
       "      <td>0.304802</td>\n",
       "      <td>-0.213604</td>\n",
       "      <td>0.294700</td>\n",
       "      <td>0.117808</td>\n",
       "      <td>-0.078289</td>\n",
       "      <td>...</td>\n",
       "      <td>-0.030487</td>\n",
       "      <td>-0.209982</td>\n",
       "      <td>-0.165043</td>\n",
       "      <td>0.050183</td>\n",
       "      <td>0.092619</td>\n",
       "      <td>-0.169062</td>\n",
       "      <td>0.200593</td>\n",
       "      <td>0.176453</td>\n",
       "      <td>-0.079356</td>\n",
       "      <td>0.181816</td>\n",
       "    </tr>\n",
       "    <tr>\n",
       "      <th>1</th>\n",
       "      <td>0.072176</td>\n",
       "      <td>0.003730</td>\n",
       "      <td>-0.531338</td>\n",
       "      <td>-0.223512</td>\n",
       "      <td>0.247347</td>\n",
       "      <td>0.022386</td>\n",
       "      <td>-0.325882</td>\n",
       "      <td>0.525758</td>\n",
       "      <td>0.390217</td>\n",
       "      <td>-0.257879</td>\n",
       "      <td>...</td>\n",
       "      <td>-0.018162</td>\n",
       "      <td>-0.349789</td>\n",
       "      <td>-0.073707</td>\n",
       "      <td>0.323848</td>\n",
       "      <td>0.085816</td>\n",
       "      <td>-0.194660</td>\n",
       "      <td>0.208699</td>\n",
       "      <td>0.182881</td>\n",
       "      <td>0.136772</td>\n",
       "      <td>-0.187218</td>\n",
       "    </tr>\n",
       "    <tr>\n",
       "      <th>2</th>\n",
       "      <td>-0.060388</td>\n",
       "      <td>-0.000909</td>\n",
       "      <td>-0.097825</td>\n",
       "      <td>-0.065073</td>\n",
       "      <td>0.160150</td>\n",
       "      <td>-0.116102</td>\n",
       "      <td>-0.100132</td>\n",
       "      <td>0.171963</td>\n",
       "      <td>0.051432</td>\n",
       "      <td>-0.224590</td>\n",
       "      <td>...</td>\n",
       "      <td>-0.172677</td>\n",
       "      <td>-0.033715</td>\n",
       "      <td>-0.195991</td>\n",
       "      <td>0.106959</td>\n",
       "      <td>0.057316</td>\n",
       "      <td>-0.182149</td>\n",
       "      <td>0.058005</td>\n",
       "      <td>-0.023132</td>\n",
       "      <td>-0.057878</td>\n",
       "      <td>0.203224</td>\n",
       "    </tr>\n",
       "    <tr>\n",
       "      <th>3</th>\n",
       "      <td>NaN</td>\n",
       "      <td>NaN</td>\n",
       "      <td>NaN</td>\n",
       "      <td>NaN</td>\n",
       "      <td>NaN</td>\n",
       "      <td>NaN</td>\n",
       "      <td>NaN</td>\n",
       "      <td>NaN</td>\n",
       "      <td>NaN</td>\n",
       "      <td>NaN</td>\n",
       "      <td>...</td>\n",
       "      <td>NaN</td>\n",
       "      <td>NaN</td>\n",
       "      <td>NaN</td>\n",
       "      <td>NaN</td>\n",
       "      <td>NaN</td>\n",
       "      <td>NaN</td>\n",
       "      <td>NaN</td>\n",
       "      <td>NaN</td>\n",
       "      <td>NaN</td>\n",
       "      <td>NaN</td>\n",
       "    </tr>\n",
       "    <tr>\n",
       "      <th>4</th>\n",
       "      <td>-0.203049</td>\n",
       "      <td>0.308810</td>\n",
       "      <td>-0.113922</td>\n",
       "      <td>-0.181603</td>\n",
       "      <td>0.186178</td>\n",
       "      <td>0.021105</td>\n",
       "      <td>-0.185240</td>\n",
       "      <td>0.175915</td>\n",
       "      <td>-0.074270</td>\n",
       "      <td>-0.110936</td>\n",
       "      <td>...</td>\n",
       "      <td>0.003998</td>\n",
       "      <td>-0.114276</td>\n",
       "      <td>-0.111073</td>\n",
       "      <td>0.026018</td>\n",
       "      <td>0.069025</td>\n",
       "      <td>-0.159553</td>\n",
       "      <td>0.166374</td>\n",
       "      <td>-0.057989</td>\n",
       "      <td>-0.169156</td>\n",
       "      <td>0.106151</td>\n",
       "    </tr>\n",
       "    <tr>\n",
       "      <th>...</th>\n",
       "      <td>...</td>\n",
       "      <td>...</td>\n",
       "      <td>...</td>\n",
       "      <td>...</td>\n",
       "      <td>...</td>\n",
       "      <td>...</td>\n",
       "      <td>...</td>\n",
       "      <td>...</td>\n",
       "      <td>...</td>\n",
       "      <td>...</td>\n",
       "      <td>...</td>\n",
       "      <td>...</td>\n",
       "      <td>...</td>\n",
       "      <td>...</td>\n",
       "      <td>...</td>\n",
       "      <td>...</td>\n",
       "      <td>...</td>\n",
       "      <td>...</td>\n",
       "      <td>...</td>\n",
       "      <td>...</td>\n",
       "      <td>...</td>\n",
       "    </tr>\n",
       "    <tr>\n",
       "      <th>8465</th>\n",
       "      <td>-0.108690</td>\n",
       "      <td>0.050859</td>\n",
       "      <td>-0.128237</td>\n",
       "      <td>-0.293710</td>\n",
       "      <td>0.471521</td>\n",
       "      <td>-0.137139</td>\n",
       "      <td>-0.094306</td>\n",
       "      <td>0.083680</td>\n",
       "      <td>0.077367</td>\n",
       "      <td>-0.376763</td>\n",
       "      <td>...</td>\n",
       "      <td>-0.279994</td>\n",
       "      <td>-0.205894</td>\n",
       "      <td>0.049901</td>\n",
       "      <td>0.096510</td>\n",
       "      <td>-0.180678</td>\n",
       "      <td>-0.054109</td>\n",
       "      <td>0.221760</td>\n",
       "      <td>-0.117174</td>\n",
       "      <td>-0.056095</td>\n",
       "      <td>0.164405</td>\n",
       "    </tr>\n",
       "    <tr>\n",
       "      <th>8466</th>\n",
       "      <td>-0.148048</td>\n",
       "      <td>0.193489</td>\n",
       "      <td>-0.121438</td>\n",
       "      <td>-0.189367</td>\n",
       "      <td>0.301924</td>\n",
       "      <td>0.020144</td>\n",
       "      <td>-0.094362</td>\n",
       "      <td>0.154642</td>\n",
       "      <td>0.192512</td>\n",
       "      <td>-0.147910</td>\n",
       "      <td>...</td>\n",
       "      <td>-0.056954</td>\n",
       "      <td>-0.040311</td>\n",
       "      <td>0.002549</td>\n",
       "      <td>0.019337</td>\n",
       "      <td>-0.089216</td>\n",
       "      <td>-0.079541</td>\n",
       "      <td>0.120427</td>\n",
       "      <td>0.043698</td>\n",
       "      <td>-0.041552</td>\n",
       "      <td>0.247829</td>\n",
       "    </tr>\n",
       "    <tr>\n",
       "      <th>8467</th>\n",
       "      <td>-0.349821</td>\n",
       "      <td>0.086411</td>\n",
       "      <td>-0.071996</td>\n",
       "      <td>-0.387738</td>\n",
       "      <td>0.101243</td>\n",
       "      <td>-0.108135</td>\n",
       "      <td>-0.171771</td>\n",
       "      <td>0.351720</td>\n",
       "      <td>0.288285</td>\n",
       "      <td>-0.556169</td>\n",
       "      <td>...</td>\n",
       "      <td>-0.164883</td>\n",
       "      <td>-0.082872</td>\n",
       "      <td>-0.138023</td>\n",
       "      <td>0.281192</td>\n",
       "      <td>0.259593</td>\n",
       "      <td>-0.043478</td>\n",
       "      <td>0.319581</td>\n",
       "      <td>0.260790</td>\n",
       "      <td>-0.137262</td>\n",
       "      <td>-0.127834</td>\n",
       "    </tr>\n",
       "    <tr>\n",
       "      <th>8468</th>\n",
       "      <td>-0.009957</td>\n",
       "      <td>0.110252</td>\n",
       "      <td>-0.147765</td>\n",
       "      <td>-0.144747</td>\n",
       "      <td>0.123570</td>\n",
       "      <td>0.049785</td>\n",
       "      <td>-0.273746</td>\n",
       "      <td>0.264420</td>\n",
       "      <td>0.163572</td>\n",
       "      <td>-0.187109</td>\n",
       "      <td>...</td>\n",
       "      <td>-0.070648</td>\n",
       "      <td>-0.037367</td>\n",
       "      <td>-0.036383</td>\n",
       "      <td>0.047479</td>\n",
       "      <td>0.074216</td>\n",
       "      <td>-0.171334</td>\n",
       "      <td>0.152618</td>\n",
       "      <td>0.055432</td>\n",
       "      <td>-0.200306</td>\n",
       "      <td>0.159582</td>\n",
       "    </tr>\n",
       "    <tr>\n",
       "      <th>8469</th>\n",
       "      <td>-0.137359</td>\n",
       "      <td>0.068021</td>\n",
       "      <td>-0.027012</td>\n",
       "      <td>-0.207379</td>\n",
       "      <td>0.124021</td>\n",
       "      <td>0.059611</td>\n",
       "      <td>-0.149286</td>\n",
       "      <td>0.116418</td>\n",
       "      <td>0.078683</td>\n",
       "      <td>-0.198954</td>\n",
       "      <td>...</td>\n",
       "      <td>-0.089735</td>\n",
       "      <td>-0.105287</td>\n",
       "      <td>-0.161970</td>\n",
       "      <td>0.165114</td>\n",
       "      <td>0.120883</td>\n",
       "      <td>-0.136085</td>\n",
       "      <td>0.124246</td>\n",
       "      <td>-0.091102</td>\n",
       "      <td>-0.200477</td>\n",
       "      <td>0.172309</td>\n",
       "    </tr>\n",
       "  </tbody>\n",
       "</table>\n",
       "<p>8470 rows × 128 columns</p>\n",
       "</div>"
      ],
      "text/plain": [
       "           0         1         2         3         4         5         6    \\\n",
       "0    -0.047362  0.172673 -0.251220 -0.089311  0.185636  0.304802 -0.213604   \n",
       "1     0.072176  0.003730 -0.531338 -0.223512  0.247347  0.022386 -0.325882   \n",
       "2    -0.060388 -0.000909 -0.097825 -0.065073  0.160150 -0.116102 -0.100132   \n",
       "3          NaN       NaN       NaN       NaN       NaN       NaN       NaN   \n",
       "4    -0.203049  0.308810 -0.113922 -0.181603  0.186178  0.021105 -0.185240   \n",
       "...        ...       ...       ...       ...       ...       ...       ...   \n",
       "8465 -0.108690  0.050859 -0.128237 -0.293710  0.471521 -0.137139 -0.094306   \n",
       "8466 -0.148048  0.193489 -0.121438 -0.189367  0.301924  0.020144 -0.094362   \n",
       "8467 -0.349821  0.086411 -0.071996 -0.387738  0.101243 -0.108135 -0.171771   \n",
       "8468 -0.009957  0.110252 -0.147765 -0.144747  0.123570  0.049785 -0.273746   \n",
       "8469 -0.137359  0.068021 -0.027012 -0.207379  0.124021  0.059611 -0.149286   \n",
       "\n",
       "           7         8         9    ...       118       119       120  \\\n",
       "0     0.294700  0.117808 -0.078289  ... -0.030487 -0.209982 -0.165043   \n",
       "1     0.525758  0.390217 -0.257879  ... -0.018162 -0.349789 -0.073707   \n",
       "2     0.171963  0.051432 -0.224590  ... -0.172677 -0.033715 -0.195991   \n",
       "3          NaN       NaN       NaN  ...       NaN       NaN       NaN   \n",
       "4     0.175915 -0.074270 -0.110936  ...  0.003998 -0.114276 -0.111073   \n",
       "...        ...       ...       ...  ...       ...       ...       ...   \n",
       "8465  0.083680  0.077367 -0.376763  ... -0.279994 -0.205894  0.049901   \n",
       "8466  0.154642  0.192512 -0.147910  ... -0.056954 -0.040311  0.002549   \n",
       "8467  0.351720  0.288285 -0.556169  ... -0.164883 -0.082872 -0.138023   \n",
       "8468  0.264420  0.163572 -0.187109  ... -0.070648 -0.037367 -0.036383   \n",
       "8469  0.116418  0.078683 -0.198954  ... -0.089735 -0.105287 -0.161970   \n",
       "\n",
       "           121       122       123       124       125       126       127  \n",
       "0     0.050183  0.092619 -0.169062  0.200593  0.176453 -0.079356  0.181816  \n",
       "1     0.323848  0.085816 -0.194660  0.208699  0.182881  0.136772 -0.187218  \n",
       "2     0.106959  0.057316 -0.182149  0.058005 -0.023132 -0.057878  0.203224  \n",
       "3          NaN       NaN       NaN       NaN       NaN       NaN       NaN  \n",
       "4     0.026018  0.069025 -0.159553  0.166374 -0.057989 -0.169156  0.106151  \n",
       "...        ...       ...       ...       ...       ...       ...       ...  \n",
       "8465  0.096510 -0.180678 -0.054109  0.221760 -0.117174 -0.056095  0.164405  \n",
       "8466  0.019337 -0.089216 -0.079541  0.120427  0.043698 -0.041552  0.247829  \n",
       "8467  0.281192  0.259593 -0.043478  0.319581  0.260790 -0.137262 -0.127834  \n",
       "8468  0.047479  0.074216 -0.171334  0.152618  0.055432 -0.200306  0.159582  \n",
       "8469  0.165114  0.120883 -0.136085  0.124246 -0.091102 -0.200477  0.172309  \n",
       "\n",
       "[8470 rows x 128 columns]"
      ]
     },
     "execution_count": 67,
     "metadata": {},
     "output_type": "execute_result"
    }
   ],
   "source": [
    "df_2"
   ]
  },
  {
   "cell_type": "code",
   "execution_count": 68,
   "metadata": {},
   "outputs": [
    {
     "data": {
      "text/plain": [
       "0      38\n",
       "1      38\n",
       "2      38\n",
       "3      38\n",
       "4      38\n",
       "       ..\n",
       "123    38\n",
       "124    38\n",
       "125    38\n",
       "126    38\n",
       "127    38\n",
       "Length: 128, dtype: int64"
      ]
     },
     "execution_count": 68,
     "metadata": {},
     "output_type": "execute_result"
    }
   ],
   "source": [
    "df_2.isnull().sum()"
   ]
  },
  {
   "cell_type": "code",
   "execution_count": 69,
   "metadata": {},
   "outputs": [],
   "source": [
    "df_2 = df_2.dropna()"
   ]
  },
  {
   "cell_type": "code",
   "execution_count": 70,
   "metadata": {},
   "outputs": [],
   "source": [
    "wcss =  []\n",
    "for i in range (1,11): \n",
    "    kmeans = KMeans(n_clusters= i, init = \"k-means++\", random_state = 0)\n",
    "    kmeans.fit(df_2)\n",
    "    wcss.append(kmeans.inertia_)"
   ]
  },
  {
   "cell_type": "code",
   "execution_count": 71,
   "metadata": {},
   "outputs": [
    {
     "data": {
      "application/vnd.plotly.v1+json": {
       "config": {
        "plotlyServerURL": "https://plot.ly"
       },
       "data": [
        {
         "hovertemplate": "x=%{x}<br>y=%{y}<extra></extra>",
         "legendgroup": "",
         "line": {
          "color": "#636efa",
          "dash": "solid"
         },
         "marker": {
          "symbol": "circle"
         },
         "mode": "lines",
         "name": "",
         "orientation": "v",
         "showlegend": false,
         "type": "scatter",
         "x": [
          1,
          2,
          3,
          4,
          5,
          6,
          7,
          8,
          9,
          10
         ],
         "xaxis": "x",
         "y": [
          12283.1767578125,
          11253.12890625,
          10823.076171875,
          10477.7958984375,
          10271.6279296875,
          10071.3720703125,
          9915.3564453125,
          9784.923828125,
          9656.0400390625,
          9589.654296875
         ],
         "yaxis": "y"
        }
       ],
       "layout": {
        "legend": {
         "tracegroupgap": 0
        },
        "margin": {
         "t": 60
        },
        "template": {
         "data": {
          "bar": [
           {
            "error_x": {
             "color": "#2a3f5f"
            },
            "error_y": {
             "color": "#2a3f5f"
            },
            "marker": {
             "line": {
              "color": "#E5ECF6",
              "width": 0.5
             },
             "pattern": {
              "fillmode": "overlay",
              "size": 10,
              "solidity": 0.2
             }
            },
            "type": "bar"
           }
          ],
          "barpolar": [
           {
            "marker": {
             "line": {
              "color": "#E5ECF6",
              "width": 0.5
             },
             "pattern": {
              "fillmode": "overlay",
              "size": 10,
              "solidity": 0.2
             }
            },
            "type": "barpolar"
           }
          ],
          "carpet": [
           {
            "aaxis": {
             "endlinecolor": "#2a3f5f",
             "gridcolor": "white",
             "linecolor": "white",
             "minorgridcolor": "white",
             "startlinecolor": "#2a3f5f"
            },
            "baxis": {
             "endlinecolor": "#2a3f5f",
             "gridcolor": "white",
             "linecolor": "white",
             "minorgridcolor": "white",
             "startlinecolor": "#2a3f5f"
            },
            "type": "carpet"
           }
          ],
          "choropleth": [
           {
            "colorbar": {
             "outlinewidth": 0,
             "ticks": ""
            },
            "type": "choropleth"
           }
          ],
          "contour": [
           {
            "colorbar": {
             "outlinewidth": 0,
             "ticks": ""
            },
            "colorscale": [
             [
              0,
              "#0d0887"
             ],
             [
              0.1111111111111111,
              "#46039f"
             ],
             [
              0.2222222222222222,
              "#7201a8"
             ],
             [
              0.3333333333333333,
              "#9c179e"
             ],
             [
              0.4444444444444444,
              "#bd3786"
             ],
             [
              0.5555555555555556,
              "#d8576b"
             ],
             [
              0.6666666666666666,
              "#ed7953"
             ],
             [
              0.7777777777777778,
              "#fb9f3a"
             ],
             [
              0.8888888888888888,
              "#fdca26"
             ],
             [
              1,
              "#f0f921"
             ]
            ],
            "type": "contour"
           }
          ],
          "contourcarpet": [
           {
            "colorbar": {
             "outlinewidth": 0,
             "ticks": ""
            },
            "type": "contourcarpet"
           }
          ],
          "heatmap": [
           {
            "colorbar": {
             "outlinewidth": 0,
             "ticks": ""
            },
            "colorscale": [
             [
              0,
              "#0d0887"
             ],
             [
              0.1111111111111111,
              "#46039f"
             ],
             [
              0.2222222222222222,
              "#7201a8"
             ],
             [
              0.3333333333333333,
              "#9c179e"
             ],
             [
              0.4444444444444444,
              "#bd3786"
             ],
             [
              0.5555555555555556,
              "#d8576b"
             ],
             [
              0.6666666666666666,
              "#ed7953"
             ],
             [
              0.7777777777777778,
              "#fb9f3a"
             ],
             [
              0.8888888888888888,
              "#fdca26"
             ],
             [
              1,
              "#f0f921"
             ]
            ],
            "type": "heatmap"
           }
          ],
          "heatmapgl": [
           {
            "colorbar": {
             "outlinewidth": 0,
             "ticks": ""
            },
            "colorscale": [
             [
              0,
              "#0d0887"
             ],
             [
              0.1111111111111111,
              "#46039f"
             ],
             [
              0.2222222222222222,
              "#7201a8"
             ],
             [
              0.3333333333333333,
              "#9c179e"
             ],
             [
              0.4444444444444444,
              "#bd3786"
             ],
             [
              0.5555555555555556,
              "#d8576b"
             ],
             [
              0.6666666666666666,
              "#ed7953"
             ],
             [
              0.7777777777777778,
              "#fb9f3a"
             ],
             [
              0.8888888888888888,
              "#fdca26"
             ],
             [
              1,
              "#f0f921"
             ]
            ],
            "type": "heatmapgl"
           }
          ],
          "histogram": [
           {
            "marker": {
             "pattern": {
              "fillmode": "overlay",
              "size": 10,
              "solidity": 0.2
             }
            },
            "type": "histogram"
           }
          ],
          "histogram2d": [
           {
            "colorbar": {
             "outlinewidth": 0,
             "ticks": ""
            },
            "colorscale": [
             [
              0,
              "#0d0887"
             ],
             [
              0.1111111111111111,
              "#46039f"
             ],
             [
              0.2222222222222222,
              "#7201a8"
             ],
             [
              0.3333333333333333,
              "#9c179e"
             ],
             [
              0.4444444444444444,
              "#bd3786"
             ],
             [
              0.5555555555555556,
              "#d8576b"
             ],
             [
              0.6666666666666666,
              "#ed7953"
             ],
             [
              0.7777777777777778,
              "#fb9f3a"
             ],
             [
              0.8888888888888888,
              "#fdca26"
             ],
             [
              1,
              "#f0f921"
             ]
            ],
            "type": "histogram2d"
           }
          ],
          "histogram2dcontour": [
           {
            "colorbar": {
             "outlinewidth": 0,
             "ticks": ""
            },
            "colorscale": [
             [
              0,
              "#0d0887"
             ],
             [
              0.1111111111111111,
              "#46039f"
             ],
             [
              0.2222222222222222,
              "#7201a8"
             ],
             [
              0.3333333333333333,
              "#9c179e"
             ],
             [
              0.4444444444444444,
              "#bd3786"
             ],
             [
              0.5555555555555556,
              "#d8576b"
             ],
             [
              0.6666666666666666,
              "#ed7953"
             ],
             [
              0.7777777777777778,
              "#fb9f3a"
             ],
             [
              0.8888888888888888,
              "#fdca26"
             ],
             [
              1,
              "#f0f921"
             ]
            ],
            "type": "histogram2dcontour"
           }
          ],
          "mesh3d": [
           {
            "colorbar": {
             "outlinewidth": 0,
             "ticks": ""
            },
            "type": "mesh3d"
           }
          ],
          "parcoords": [
           {
            "line": {
             "colorbar": {
              "outlinewidth": 0,
              "ticks": ""
             }
            },
            "type": "parcoords"
           }
          ],
          "pie": [
           {
            "automargin": true,
            "type": "pie"
           }
          ],
          "scatter": [
           {
            "fillpattern": {
             "fillmode": "overlay",
             "size": 10,
             "solidity": 0.2
            },
            "type": "scatter"
           }
          ],
          "scatter3d": [
           {
            "line": {
             "colorbar": {
              "outlinewidth": 0,
              "ticks": ""
             }
            },
            "marker": {
             "colorbar": {
              "outlinewidth": 0,
              "ticks": ""
             }
            },
            "type": "scatter3d"
           }
          ],
          "scattercarpet": [
           {
            "marker": {
             "colorbar": {
              "outlinewidth": 0,
              "ticks": ""
             }
            },
            "type": "scattercarpet"
           }
          ],
          "scattergeo": [
           {
            "marker": {
             "colorbar": {
              "outlinewidth": 0,
              "ticks": ""
             }
            },
            "type": "scattergeo"
           }
          ],
          "scattergl": [
           {
            "marker": {
             "colorbar": {
              "outlinewidth": 0,
              "ticks": ""
             }
            },
            "type": "scattergl"
           }
          ],
          "scattermapbox": [
           {
            "marker": {
             "colorbar": {
              "outlinewidth": 0,
              "ticks": ""
             }
            },
            "type": "scattermapbox"
           }
          ],
          "scatterpolar": [
           {
            "marker": {
             "colorbar": {
              "outlinewidth": 0,
              "ticks": ""
             }
            },
            "type": "scatterpolar"
           }
          ],
          "scatterpolargl": [
           {
            "marker": {
             "colorbar": {
              "outlinewidth": 0,
              "ticks": ""
             }
            },
            "type": "scatterpolargl"
           }
          ],
          "scatterternary": [
           {
            "marker": {
             "colorbar": {
              "outlinewidth": 0,
              "ticks": ""
             }
            },
            "type": "scatterternary"
           }
          ],
          "surface": [
           {
            "colorbar": {
             "outlinewidth": 0,
             "ticks": ""
            },
            "colorscale": [
             [
              0,
              "#0d0887"
             ],
             [
              0.1111111111111111,
              "#46039f"
             ],
             [
              0.2222222222222222,
              "#7201a8"
             ],
             [
              0.3333333333333333,
              "#9c179e"
             ],
             [
              0.4444444444444444,
              "#bd3786"
             ],
             [
              0.5555555555555556,
              "#d8576b"
             ],
             [
              0.6666666666666666,
              "#ed7953"
             ],
             [
              0.7777777777777778,
              "#fb9f3a"
             ],
             [
              0.8888888888888888,
              "#fdca26"
             ],
             [
              1,
              "#f0f921"
             ]
            ],
            "type": "surface"
           }
          ],
          "table": [
           {
            "cells": {
             "fill": {
              "color": "#EBF0F8"
             },
             "line": {
              "color": "white"
             }
            },
            "header": {
             "fill": {
              "color": "#C8D4E3"
             },
             "line": {
              "color": "white"
             }
            },
            "type": "table"
           }
          ]
         },
         "layout": {
          "annotationdefaults": {
           "arrowcolor": "#2a3f5f",
           "arrowhead": 0,
           "arrowwidth": 1
          },
          "autotypenumbers": "strict",
          "coloraxis": {
           "colorbar": {
            "outlinewidth": 0,
            "ticks": ""
           }
          },
          "colorscale": {
           "diverging": [
            [
             0,
             "#8e0152"
            ],
            [
             0.1,
             "#c51b7d"
            ],
            [
             0.2,
             "#de77ae"
            ],
            [
             0.3,
             "#f1b6da"
            ],
            [
             0.4,
             "#fde0ef"
            ],
            [
             0.5,
             "#f7f7f7"
            ],
            [
             0.6,
             "#e6f5d0"
            ],
            [
             0.7,
             "#b8e186"
            ],
            [
             0.8,
             "#7fbc41"
            ],
            [
             0.9,
             "#4d9221"
            ],
            [
             1,
             "#276419"
            ]
           ],
           "sequential": [
            [
             0,
             "#0d0887"
            ],
            [
             0.1111111111111111,
             "#46039f"
            ],
            [
             0.2222222222222222,
             "#7201a8"
            ],
            [
             0.3333333333333333,
             "#9c179e"
            ],
            [
             0.4444444444444444,
             "#bd3786"
            ],
            [
             0.5555555555555556,
             "#d8576b"
            ],
            [
             0.6666666666666666,
             "#ed7953"
            ],
            [
             0.7777777777777778,
             "#fb9f3a"
            ],
            [
             0.8888888888888888,
             "#fdca26"
            ],
            [
             1,
             "#f0f921"
            ]
           ],
           "sequentialminus": [
            [
             0,
             "#0d0887"
            ],
            [
             0.1111111111111111,
             "#46039f"
            ],
            [
             0.2222222222222222,
             "#7201a8"
            ],
            [
             0.3333333333333333,
             "#9c179e"
            ],
            [
             0.4444444444444444,
             "#bd3786"
            ],
            [
             0.5555555555555556,
             "#d8576b"
            ],
            [
             0.6666666666666666,
             "#ed7953"
            ],
            [
             0.7777777777777778,
             "#fb9f3a"
            ],
            [
             0.8888888888888888,
             "#fdca26"
            ],
            [
             1,
             "#f0f921"
            ]
           ]
          },
          "colorway": [
           "#636efa",
           "#EF553B",
           "#00cc96",
           "#ab63fa",
           "#FFA15A",
           "#19d3f3",
           "#FF6692",
           "#B6E880",
           "#FF97FF",
           "#FECB52"
          ],
          "font": {
           "color": "#2a3f5f"
          },
          "geo": {
           "bgcolor": "white",
           "lakecolor": "white",
           "landcolor": "#E5ECF6",
           "showlakes": true,
           "showland": true,
           "subunitcolor": "white"
          },
          "hoverlabel": {
           "align": "left"
          },
          "hovermode": "closest",
          "mapbox": {
           "style": "light"
          },
          "paper_bgcolor": "white",
          "plot_bgcolor": "#E5ECF6",
          "polar": {
           "angularaxis": {
            "gridcolor": "white",
            "linecolor": "white",
            "ticks": ""
           },
           "bgcolor": "#E5ECF6",
           "radialaxis": {
            "gridcolor": "white",
            "linecolor": "white",
            "ticks": ""
           }
          },
          "scene": {
           "xaxis": {
            "backgroundcolor": "#E5ECF6",
            "gridcolor": "white",
            "gridwidth": 2,
            "linecolor": "white",
            "showbackground": true,
            "ticks": "",
            "zerolinecolor": "white"
           },
           "yaxis": {
            "backgroundcolor": "#E5ECF6",
            "gridcolor": "white",
            "gridwidth": 2,
            "linecolor": "white",
            "showbackground": true,
            "ticks": "",
            "zerolinecolor": "white"
           },
           "zaxis": {
            "backgroundcolor": "#E5ECF6",
            "gridcolor": "white",
            "gridwidth": 2,
            "linecolor": "white",
            "showbackground": true,
            "ticks": "",
            "zerolinecolor": "white"
           }
          },
          "shapedefaults": {
           "line": {
            "color": "#2a3f5f"
           }
          },
          "ternary": {
           "aaxis": {
            "gridcolor": "white",
            "linecolor": "white",
            "ticks": ""
           },
           "baxis": {
            "gridcolor": "white",
            "linecolor": "white",
            "ticks": ""
           },
           "bgcolor": "#E5ECF6",
           "caxis": {
            "gridcolor": "white",
            "linecolor": "white",
            "ticks": ""
           }
          },
          "title": {
           "x": 0.05
          },
          "xaxis": {
           "automargin": true,
           "gridcolor": "white",
           "linecolor": "white",
           "ticks": "",
           "title": {
            "standoff": 15
           },
           "zerolinecolor": "white",
           "zerolinewidth": 2
          },
          "yaxis": {
           "automargin": true,
           "gridcolor": "white",
           "linecolor": "white",
           "ticks": "",
           "title": {
            "standoff": 15
           },
           "zerolinecolor": "white",
           "zerolinewidth": 2
          }
         }
        },
        "title": {
         "text": "Inertia per clusters"
        },
        "xaxis": {
         "anchor": "y",
         "domain": [
          0,
          1
         ],
         "title": {
          "text": "# clusters"
         }
        },
        "yaxis": {
         "anchor": "x",
         "domain": [
          0,
          1
         ],
         "title": {
          "text": "Inertia"
         }
        }
       }
      }
     },
     "metadata": {},
     "output_type": "display_data"
    }
   ],
   "source": [
    "wcss_frame = pd.DataFrame(wcss)\n",
    "fig = px.line(wcss_frame, x=wcss_frame.index+1, y=wcss_frame.iloc[:, -1])\n",
    "\n",
    "fig.update_layout(\n",
    "    title=\"Inertia per clusters\",\n",
    "    xaxis_title=\"# clusters\",\n",
    "    yaxis_title=\"Inertia\"\n",
    ")\n",
    "fig.show()"
   ]
  },
  {
   "cell_type": "code",
   "execution_count": 74,
   "metadata": {},
   "outputs": [
    {
     "name": "stdout",
     "output_type": "stream",
     "text": [
      "Silhouette score for K=2 is 0.11626911163330078\n",
      "Silhouette score for K=3 is 0.07036196440458298\n",
      "Silhouette score for K=4 is 0.07648032903671265\n",
      "Silhouette score for K=5 is 0.08389701694250107\n",
      "Silhouette score for K=6 is 0.016100045293569565\n",
      "Silhouette score for K=7 is 0.0196535661816597\n",
      "Silhouette score for K=8 is 0.012440579943358898\n",
      "Silhouette score for K=9 is 0.019273968413472176\n",
      "Silhouette score for K=10 is 0.013277024030685425\n"
     ]
    }
   ],
   "source": [
    "sil = []\n",
    "\n",
    "for i in range (2,11): \n",
    "    kmeans = KMeans(n_clusters= i, init = \"k-means++\", random_state = 0)\n",
    "    kmeans.fit(df_2)\n",
    "    sil.append(silhouette_score(df_2, kmeans.predict(df_2)))\n",
    "    print(\"Silhouette score for K={} is {}\".format(i, sil[-1]))\n"
   ]
  },
  {
   "cell_type": "code",
   "execution_count": 75,
   "metadata": {},
   "outputs": [
    {
     "data": {
      "application/vnd.plotly.v1+json": {
       "config": {
        "plotlyServerURL": "https://plot.ly"
       },
       "data": [
        {
         "alignmentgroup": "True",
         "hovertemplate": "index=%{x}<br>y=%{y}<extra></extra>",
         "legendgroup": "",
         "marker": {
          "color": "#636efa",
          "pattern": {
           "shape": ""
          }
         },
         "name": "",
         "offsetgroup": "",
         "orientation": "v",
         "showlegend": false,
         "textposition": "auto",
         "type": "bar",
         "x": [
          2,
          3,
          4,
          5,
          6,
          7,
          8,
          9,
          10
         ],
         "xaxis": "x",
         "y": [
          0.11626911163330078,
          0.07036196440458298,
          0.07648032903671265,
          0.08389701694250107,
          0.016100045293569565,
          0.0196535661816597,
          0.012440579943358898,
          0.019273968413472176,
          0.013277024030685425
         ],
         "yaxis": "y"
        }
       ],
       "layout": {
        "barmode": "relative",
        "legend": {
         "tracegroupgap": 0
        },
        "margin": {
         "t": 60
        },
        "template": {
         "data": {
          "bar": [
           {
            "error_x": {
             "color": "#2a3f5f"
            },
            "error_y": {
             "color": "#2a3f5f"
            },
            "marker": {
             "line": {
              "color": "#E5ECF6",
              "width": 0.5
             },
             "pattern": {
              "fillmode": "overlay",
              "size": 10,
              "solidity": 0.2
             }
            },
            "type": "bar"
           }
          ],
          "barpolar": [
           {
            "marker": {
             "line": {
              "color": "#E5ECF6",
              "width": 0.5
             },
             "pattern": {
              "fillmode": "overlay",
              "size": 10,
              "solidity": 0.2
             }
            },
            "type": "barpolar"
           }
          ],
          "carpet": [
           {
            "aaxis": {
             "endlinecolor": "#2a3f5f",
             "gridcolor": "white",
             "linecolor": "white",
             "minorgridcolor": "white",
             "startlinecolor": "#2a3f5f"
            },
            "baxis": {
             "endlinecolor": "#2a3f5f",
             "gridcolor": "white",
             "linecolor": "white",
             "minorgridcolor": "white",
             "startlinecolor": "#2a3f5f"
            },
            "type": "carpet"
           }
          ],
          "choropleth": [
           {
            "colorbar": {
             "outlinewidth": 0,
             "ticks": ""
            },
            "type": "choropleth"
           }
          ],
          "contour": [
           {
            "colorbar": {
             "outlinewidth": 0,
             "ticks": ""
            },
            "colorscale": [
             [
              0,
              "#0d0887"
             ],
             [
              0.1111111111111111,
              "#46039f"
             ],
             [
              0.2222222222222222,
              "#7201a8"
             ],
             [
              0.3333333333333333,
              "#9c179e"
             ],
             [
              0.4444444444444444,
              "#bd3786"
             ],
             [
              0.5555555555555556,
              "#d8576b"
             ],
             [
              0.6666666666666666,
              "#ed7953"
             ],
             [
              0.7777777777777778,
              "#fb9f3a"
             ],
             [
              0.8888888888888888,
              "#fdca26"
             ],
             [
              1,
              "#f0f921"
             ]
            ],
            "type": "contour"
           }
          ],
          "contourcarpet": [
           {
            "colorbar": {
             "outlinewidth": 0,
             "ticks": ""
            },
            "type": "contourcarpet"
           }
          ],
          "heatmap": [
           {
            "colorbar": {
             "outlinewidth": 0,
             "ticks": ""
            },
            "colorscale": [
             [
              0,
              "#0d0887"
             ],
             [
              0.1111111111111111,
              "#46039f"
             ],
             [
              0.2222222222222222,
              "#7201a8"
             ],
             [
              0.3333333333333333,
              "#9c179e"
             ],
             [
              0.4444444444444444,
              "#bd3786"
             ],
             [
              0.5555555555555556,
              "#d8576b"
             ],
             [
              0.6666666666666666,
              "#ed7953"
             ],
             [
              0.7777777777777778,
              "#fb9f3a"
             ],
             [
              0.8888888888888888,
              "#fdca26"
             ],
             [
              1,
              "#f0f921"
             ]
            ],
            "type": "heatmap"
           }
          ],
          "heatmapgl": [
           {
            "colorbar": {
             "outlinewidth": 0,
             "ticks": ""
            },
            "colorscale": [
             [
              0,
              "#0d0887"
             ],
             [
              0.1111111111111111,
              "#46039f"
             ],
             [
              0.2222222222222222,
              "#7201a8"
             ],
             [
              0.3333333333333333,
              "#9c179e"
             ],
             [
              0.4444444444444444,
              "#bd3786"
             ],
             [
              0.5555555555555556,
              "#d8576b"
             ],
             [
              0.6666666666666666,
              "#ed7953"
             ],
             [
              0.7777777777777778,
              "#fb9f3a"
             ],
             [
              0.8888888888888888,
              "#fdca26"
             ],
             [
              1,
              "#f0f921"
             ]
            ],
            "type": "heatmapgl"
           }
          ],
          "histogram": [
           {
            "marker": {
             "pattern": {
              "fillmode": "overlay",
              "size": 10,
              "solidity": 0.2
             }
            },
            "type": "histogram"
           }
          ],
          "histogram2d": [
           {
            "colorbar": {
             "outlinewidth": 0,
             "ticks": ""
            },
            "colorscale": [
             [
              0,
              "#0d0887"
             ],
             [
              0.1111111111111111,
              "#46039f"
             ],
             [
              0.2222222222222222,
              "#7201a8"
             ],
             [
              0.3333333333333333,
              "#9c179e"
             ],
             [
              0.4444444444444444,
              "#bd3786"
             ],
             [
              0.5555555555555556,
              "#d8576b"
             ],
             [
              0.6666666666666666,
              "#ed7953"
             ],
             [
              0.7777777777777778,
              "#fb9f3a"
             ],
             [
              0.8888888888888888,
              "#fdca26"
             ],
             [
              1,
              "#f0f921"
             ]
            ],
            "type": "histogram2d"
           }
          ],
          "histogram2dcontour": [
           {
            "colorbar": {
             "outlinewidth": 0,
             "ticks": ""
            },
            "colorscale": [
             [
              0,
              "#0d0887"
             ],
             [
              0.1111111111111111,
              "#46039f"
             ],
             [
              0.2222222222222222,
              "#7201a8"
             ],
             [
              0.3333333333333333,
              "#9c179e"
             ],
             [
              0.4444444444444444,
              "#bd3786"
             ],
             [
              0.5555555555555556,
              "#d8576b"
             ],
             [
              0.6666666666666666,
              "#ed7953"
             ],
             [
              0.7777777777777778,
              "#fb9f3a"
             ],
             [
              0.8888888888888888,
              "#fdca26"
             ],
             [
              1,
              "#f0f921"
             ]
            ],
            "type": "histogram2dcontour"
           }
          ],
          "mesh3d": [
           {
            "colorbar": {
             "outlinewidth": 0,
             "ticks": ""
            },
            "type": "mesh3d"
           }
          ],
          "parcoords": [
           {
            "line": {
             "colorbar": {
              "outlinewidth": 0,
              "ticks": ""
             }
            },
            "type": "parcoords"
           }
          ],
          "pie": [
           {
            "automargin": true,
            "type": "pie"
           }
          ],
          "scatter": [
           {
            "fillpattern": {
             "fillmode": "overlay",
             "size": 10,
             "solidity": 0.2
            },
            "type": "scatter"
           }
          ],
          "scatter3d": [
           {
            "line": {
             "colorbar": {
              "outlinewidth": 0,
              "ticks": ""
             }
            },
            "marker": {
             "colorbar": {
              "outlinewidth": 0,
              "ticks": ""
             }
            },
            "type": "scatter3d"
           }
          ],
          "scattercarpet": [
           {
            "marker": {
             "colorbar": {
              "outlinewidth": 0,
              "ticks": ""
             }
            },
            "type": "scattercarpet"
           }
          ],
          "scattergeo": [
           {
            "marker": {
             "colorbar": {
              "outlinewidth": 0,
              "ticks": ""
             }
            },
            "type": "scattergeo"
           }
          ],
          "scattergl": [
           {
            "marker": {
             "colorbar": {
              "outlinewidth": 0,
              "ticks": ""
             }
            },
            "type": "scattergl"
           }
          ],
          "scattermapbox": [
           {
            "marker": {
             "colorbar": {
              "outlinewidth": 0,
              "ticks": ""
             }
            },
            "type": "scattermapbox"
           }
          ],
          "scatterpolar": [
           {
            "marker": {
             "colorbar": {
              "outlinewidth": 0,
              "ticks": ""
             }
            },
            "type": "scatterpolar"
           }
          ],
          "scatterpolargl": [
           {
            "marker": {
             "colorbar": {
              "outlinewidth": 0,
              "ticks": ""
             }
            },
            "type": "scatterpolargl"
           }
          ],
          "scatterternary": [
           {
            "marker": {
             "colorbar": {
              "outlinewidth": 0,
              "ticks": ""
             }
            },
            "type": "scatterternary"
           }
          ],
          "surface": [
           {
            "colorbar": {
             "outlinewidth": 0,
             "ticks": ""
            },
            "colorscale": [
             [
              0,
              "#0d0887"
             ],
             [
              0.1111111111111111,
              "#46039f"
             ],
             [
              0.2222222222222222,
              "#7201a8"
             ],
             [
              0.3333333333333333,
              "#9c179e"
             ],
             [
              0.4444444444444444,
              "#bd3786"
             ],
             [
              0.5555555555555556,
              "#d8576b"
             ],
             [
              0.6666666666666666,
              "#ed7953"
             ],
             [
              0.7777777777777778,
              "#fb9f3a"
             ],
             [
              0.8888888888888888,
              "#fdca26"
             ],
             [
              1,
              "#f0f921"
             ]
            ],
            "type": "surface"
           }
          ],
          "table": [
           {
            "cells": {
             "fill": {
              "color": "#EBF0F8"
             },
             "line": {
              "color": "white"
             }
            },
            "header": {
             "fill": {
              "color": "#C8D4E3"
             },
             "line": {
              "color": "white"
             }
            },
            "type": "table"
           }
          ]
         },
         "layout": {
          "annotationdefaults": {
           "arrowcolor": "#2a3f5f",
           "arrowhead": 0,
           "arrowwidth": 1
          },
          "autotypenumbers": "strict",
          "coloraxis": {
           "colorbar": {
            "outlinewidth": 0,
            "ticks": ""
           }
          },
          "colorscale": {
           "diverging": [
            [
             0,
             "#8e0152"
            ],
            [
             0.1,
             "#c51b7d"
            ],
            [
             0.2,
             "#de77ae"
            ],
            [
             0.3,
             "#f1b6da"
            ],
            [
             0.4,
             "#fde0ef"
            ],
            [
             0.5,
             "#f7f7f7"
            ],
            [
             0.6,
             "#e6f5d0"
            ],
            [
             0.7,
             "#b8e186"
            ],
            [
             0.8,
             "#7fbc41"
            ],
            [
             0.9,
             "#4d9221"
            ],
            [
             1,
             "#276419"
            ]
           ],
           "sequential": [
            [
             0,
             "#0d0887"
            ],
            [
             0.1111111111111111,
             "#46039f"
            ],
            [
             0.2222222222222222,
             "#7201a8"
            ],
            [
             0.3333333333333333,
             "#9c179e"
            ],
            [
             0.4444444444444444,
             "#bd3786"
            ],
            [
             0.5555555555555556,
             "#d8576b"
            ],
            [
             0.6666666666666666,
             "#ed7953"
            ],
            [
             0.7777777777777778,
             "#fb9f3a"
            ],
            [
             0.8888888888888888,
             "#fdca26"
            ],
            [
             1,
             "#f0f921"
            ]
           ],
           "sequentialminus": [
            [
             0,
             "#0d0887"
            ],
            [
             0.1111111111111111,
             "#46039f"
            ],
            [
             0.2222222222222222,
             "#7201a8"
            ],
            [
             0.3333333333333333,
             "#9c179e"
            ],
            [
             0.4444444444444444,
             "#bd3786"
            ],
            [
             0.5555555555555556,
             "#d8576b"
            ],
            [
             0.6666666666666666,
             "#ed7953"
            ],
            [
             0.7777777777777778,
             "#fb9f3a"
            ],
            [
             0.8888888888888888,
             "#fdca26"
            ],
            [
             1,
             "#f0f921"
            ]
           ]
          },
          "colorway": [
           "#636efa",
           "#EF553B",
           "#00cc96",
           "#ab63fa",
           "#FFA15A",
           "#19d3f3",
           "#FF6692",
           "#B6E880",
           "#FF97FF",
           "#FECB52"
          ],
          "font": {
           "color": "#2a3f5f"
          },
          "geo": {
           "bgcolor": "white",
           "lakecolor": "white",
           "landcolor": "#E5ECF6",
           "showlakes": true,
           "showland": true,
           "subunitcolor": "white"
          },
          "hoverlabel": {
           "align": "left"
          },
          "hovermode": "closest",
          "mapbox": {
           "style": "light"
          },
          "paper_bgcolor": "white",
          "plot_bgcolor": "#E5ECF6",
          "polar": {
           "angularaxis": {
            "gridcolor": "white",
            "linecolor": "white",
            "ticks": ""
           },
           "bgcolor": "#E5ECF6",
           "radialaxis": {
            "gridcolor": "white",
            "linecolor": "white",
            "ticks": ""
           }
          },
          "scene": {
           "xaxis": {
            "backgroundcolor": "#E5ECF6",
            "gridcolor": "white",
            "gridwidth": 2,
            "linecolor": "white",
            "showbackground": true,
            "ticks": "",
            "zerolinecolor": "white"
           },
           "yaxis": {
            "backgroundcolor": "#E5ECF6",
            "gridcolor": "white",
            "gridwidth": 2,
            "linecolor": "white",
            "showbackground": true,
            "ticks": "",
            "zerolinecolor": "white"
           },
           "zaxis": {
            "backgroundcolor": "#E5ECF6",
            "gridcolor": "white",
            "gridwidth": 2,
            "linecolor": "white",
            "showbackground": true,
            "ticks": "",
            "zerolinecolor": "white"
           }
          },
          "shapedefaults": {
           "line": {
            "color": "#2a3f5f"
           }
          },
          "ternary": {
           "aaxis": {
            "gridcolor": "white",
            "linecolor": "white",
            "ticks": ""
           },
           "baxis": {
            "gridcolor": "white",
            "linecolor": "white",
            "ticks": ""
           },
           "bgcolor": "#E5ECF6",
           "caxis": {
            "gridcolor": "white",
            "linecolor": "white",
            "ticks": ""
           }
          },
          "title": {
           "x": 0.05
          },
          "xaxis": {
           "automargin": true,
           "gridcolor": "white",
           "linecolor": "white",
           "ticks": "",
           "title": {
            "standoff": 15
           },
           "zerolinecolor": "white",
           "zerolinewidth": 2
          },
          "yaxis": {
           "automargin": true,
           "gridcolor": "white",
           "linecolor": "white",
           "ticks": "",
           "title": {
            "standoff": 15
           },
           "zerolinecolor": "white",
           "zerolinewidth": 2
          }
         }
        },
        "title": {
         "text": "Silhouette Score per cluster"
        },
        "xaxis": {
         "anchor": "y",
         "domain": [
          0,
          1
         ],
         "title": {
          "text": "# Clusters"
         }
        },
        "yaxis": {
         "anchor": "x",
         "domain": [
          0,
          1
         ],
         "title": {
          "text": "Silhouette Score"
         }
        }
       }
      }
     },
     "metadata": {},
     "output_type": "display_data"
    }
   ],
   "source": [
    "cluster_scores=pd.DataFrame(sil, index=range(2,11))\n",
    "\n",
    "fig = px.bar(data_frame=cluster_scores,  \n",
    "             x=cluster_scores.index, \n",
    "             y=cluster_scores.iloc[:, -1]\n",
    "            )\n",
    "\n",
    "fig.update_layout(\n",
    "    yaxis_title=\"Silhouette Score\",\n",
    "    xaxis_title=\"# Clusters\",\n",
    "    title=\"Silhouette Score per cluster\"\n",
    ")\n",
    "\n",
    "fig.show()"
   ]
  },
  {
   "cell_type": "code",
   "execution_count": 78,
   "metadata": {},
   "outputs": [
    {
     "name": "stderr",
     "output_type": "stream",
     "text": [
      "C:\\Users\\jerem\\AppData\\Local\\Temp\\ipykernel_16824\\2749566611.py:4: SettingWithCopyWarning:\n",
      "\n",
      "\n",
      "A value is trying to be set on a copy of a slice from a DataFrame.\n",
      "Try using .loc[row_indexer,col_indexer] = value instead\n",
      "\n",
      "See the caveats in the documentation: https://pandas.pydata.org/pandas-docs/stable/user_guide/indexing.html#returning-a-view-versus-a-copy\n",
      "\n"
     ]
    }
   ],
   "source": [
    "kmeans = KMeans(n_clusters= 2, init = \"k-means++\", random_state = 0)\n",
    "kmeans.fit(df_2)\n",
    "\n",
    "df_2[\"cluster\"]=kmeans.predict(df_2)"
   ]
  },
  {
   "cell_type": "code",
   "execution_count": 79,
   "metadata": {},
   "outputs": [],
   "source": [
    "clusterised = df.join(df_2[\"cluster\"],how=\"inner\")"
   ]
  },
  {
   "cell_type": "code",
   "execution_count": 80,
   "metadata": {},
   "outputs": [],
   "source": [
    "cluster_0 = clusterised[clusterised[\"cluster\"]==0]"
   ]
  },
  {
   "cell_type": "code",
   "execution_count": 81,
   "metadata": {},
   "outputs": [],
   "source": [
    "cluster_1 = clusterised[clusterised[\"cluster\"]==1]"
   ]
  },
  {
   "cell_type": "code",
   "execution_count": 82,
   "metadata": {},
   "outputs": [
    {
     "data": {
      "text/plain": [
       "5    2972\n",
       "4     431\n",
       "3     146\n",
       "1     108\n",
       "2      82\n",
       "Name: stars, dtype: int64"
      ]
     },
     "execution_count": 82,
     "metadata": {},
     "output_type": "execute_result"
    }
   ],
   "source": [
    "cluster_0[\"stars\"].value_counts()"
   ]
  },
  {
   "cell_type": "code",
   "execution_count": 83,
   "metadata": {},
   "outputs": [
    {
     "data": {
      "text/plain": [
       "5    1875\n",
       "4    1101\n",
       "3     860\n",
       "1     449\n",
       "2     404\n",
       "Name: stars, dtype: int64"
      ]
     },
     "execution_count": 83,
     "metadata": {},
     "output_type": "execute_result"
    }
   ],
   "source": [
    "cluster_1[\"stars\"].value_counts()"
   ]
  },
  {
   "cell_type": "code",
   "execution_count": null,
   "metadata": {},
   "outputs": [],
   "source": []
  }
 ],
 "metadata": {
  "kernelspec": {
   "display_name": "Python 3.10.2 64-bit",
   "language": "python",
   "name": "python3"
  },
  "language_info": {
   "codemirror_mode": {
    "name": "ipython",
    "version": 3
   },
   "file_extension": ".py",
   "mimetype": "text/x-python",
   "name": "python",
   "nbconvert_exporter": "python",
   "pygments_lexer": "ipython3",
   "version": "3.10.2"
  },
  "orig_nbformat": 4,
  "vscode": {
   "interpreter": {
    "hash": "23e0aedb6d47e040503db7fcf09a0dff3cea72eb7d5d4c2596a602b1504b448c"
   }
  }
 },
 "nbformat": 4,
 "nbformat_minor": 2
}
