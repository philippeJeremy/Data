{
  "cells": [
    {
      "cell_type": "markdown",
      "metadata": {
        "id": "ARXMbV_Vp5qc"
      },
      "source": [
        "# Mathematically Oriented Programming"
      ]
    },
    {
      "cell_type": "markdown",
      "metadata": {
        "id": "1JYqlALqp73y"
      },
      "source": [
        "_Mathematics, in general, we don't like to do it. Especially when it involves repeating operations, over and over again. Let's be real lazy and create a class that will do the operations we want for us._"
      ]
    },
    {
      "cell_type": "markdown",
      "metadata": {
        "id": "Lc3ol0PSp98l"
      },
      "source": [
        "1. _Create a class to be called \"Math\"_\n",
        "2. _This class will have no internal attributes, so you don't need to define an init() _\n",
        "3. _Create a method that will compute the square root of any number._\n",
        "4. _Create a method that will calculate the average of any list of numbers._\n",
        "5. _Create a method to find out if a number is even or odd_.\n",
        "6. _Finally, create a method that will give the total sum of a list of numbers._"
      ]
    },
    {
      "cell_type": "code",
      "execution_count": null,
      "metadata": {
        "id": "6oF8-y06cCdG",
        "outputId": "72f3873c-bbe2-4b51-973e-04c1348bb08e"
      },
      "outputs": [
        {
          "name": "stdout",
          "output_type": "stream",
          "text": [
            "The square root of 9 is 3.0\n",
            "\n",
            "The average of 10, 30, 20 and 10 is 17.5\n",
            "\n",
            "4 is even\n",
            "\n",
            "11 is odd\n",
            "\n",
            "The sum of 10, 30, 10, 40 and 20 is 110\n"
          ]
        }
      ],
      "source": [
        "class Math:\n",
        "    def sqrt(self,number):\n",
        "        number = number ** (1/2) # ** means square\n",
        "        return number\n",
        "\n",
        "    def average(self, numbers): # will be a list of numbers\n",
        "        res = 0\n",
        "        nb_of_numbers = 0\n",
        "        for number in numbers:\n",
        "            res += number # addition all list numbers\n",
        "            nb_of_numbers += 1 # count the list len\n",
        "\n",
        "        average = res/nb_of_numbers # addition / number of element in the list\n",
        "        return average\n",
        "\n",
        "    def parity(self,number):\n",
        "        if (number % 2) == 0: # modulo\n",
        "            print(\"{} is even\".format(number))\n",
        "        else:\n",
        "            print(\"{} is odd\".format(number))\n",
        "\n",
        "    def compute_sum(self, numbers): # will be a list of numbers\n",
        "        result = 0\n",
        "        for number in numbers:\n",
        "            result += number\n",
        "        return result\n",
        "\n",
        "\n",
        "math = Math() # instance the class to use insides function\n",
        "print(\"The square root of 9 is {}\".format(math.sqrt(9)))\n",
        "print()\n",
        "print(\"The average of 10, 30, 20 and 10 is {}\".format(math.average([10,30,20,10])))\n",
        "print()\n",
        "math.parity(4)\n",
        "print()\n",
        "math.parity(11)\n",
        "print()\n",
        "print(\"The sum of 10, 30, 10, 40 and 20 is {}\".format(math.compute_sum([10,30,10,40,20])))"
      ]
    },
    {
      "cell_type": "markdown",
      "metadata": {
        "id": "fqQLY67ncCdJ"
      },
      "source": [
        "### Optional : alternative method to pass a list of numbers as separate arguments in the methods 😎"
      ]
    },
    {
      "cell_type": "code",
      "execution_count": null,
      "metadata": {
        "colab": {
          "base_uri": "https://localhost:8080/",
          "height": 102
        },
        "id": "xFLBlgj1pndw",
        "outputId": "8005e19d-c256-407f-9978-361fae06e81d"
      },
      "outputs": [
        {
          "name": "stdout",
          "output_type": "stream",
          "text": [
            "the square root of 9 is 3.0\n",
            "the average of 10, 30, 20 and 10 is 17.5\n",
            "4 is even\n",
            "11 is odd\n",
            "the sum of 10, 30, 10, 40 and 20 is 110\n"
          ]
        }
      ],
      "source": [
        "class Math:\n",
        "    def sqrt(self,number):\n",
        "        number = number ** (1/2)\n",
        "        return number\n",
        "\n",
        "    def average(self,*numbers):\n",
        "        res = 0\n",
        "        nb_of_numbers = 0\n",
        "        for number in numbers:\n",
        "            res += number\n",
        "            nb_of_numbers += 1\n",
        "\n",
        "        average = res/nb_of_numbers\n",
        "        return average\n",
        "\n",
        "    def parity(self,number):\n",
        "        if (number % 2) == 0:\n",
        "            print(\"{} is even\".format(number))\n",
        "        else:\n",
        "            print(\"{} is odd\".format(number))\n",
        "\n",
        "    def compute_sum(self,*numbers):\n",
        "        result = 0\n",
        "        for number in numbers:\n",
        "            result += number\n",
        "        return result\n",
        "\n",
        "\n",
        "math = Math()\n",
        "print(\"the square root of 9 is {}\".format(math.sqrt(9)))\n",
        "print(\"the average of 10, 30, 20 and 10 is {}\".format(math.average(10,30,20,10)))\n",
        "math.parity(4)\n",
        "math.parity(11)\n",
        "print(\"the sum of 10, 30, 10, 40 and 20 is {}\".format(math.compute_sum(10,30,10,40,20)))"
      ]
    }
  ],
  "metadata": {
    "colab": {
      "provenance": []
    },
    "kernelspec": {
      "display_name": "Python 3.10.4 64-bit",
      "language": "python",
      "name": "python3"
    },
    "language_info": {
      "codemirror_mode": {
        "name": "ipython",
        "version": 3
      },
      "file_extension": ".py",
      "mimetype": "text/x-python",
      "name": "python",
      "nbconvert_exporter": "python",
      "pygments_lexer": "ipython3",
      "version": "3.10.4"
    },
    "vscode": {
      "interpreter": {
        "hash": "a3d0e8e0c817ae3c7f78f66b04bafeb63523a0a50e6405ec1b074461715681e4"
      }
    }
  },
  "nbformat": 4,
  "nbformat_minor": 0
}
