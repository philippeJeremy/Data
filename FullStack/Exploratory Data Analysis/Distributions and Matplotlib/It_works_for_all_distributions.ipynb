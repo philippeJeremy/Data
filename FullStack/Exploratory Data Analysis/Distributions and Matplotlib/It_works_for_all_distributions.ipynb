{
 "cells": [
  {
   "cell_type": "code",
   "execution_count": 1,
   "metadata": {},
   "outputs": [],
   "source": [
    "import pandas as pd\n",
    "import numpy as np\n",
    "import matplotlib.pyplot as plt\n",
    "import seaborn as sns"
   ]
  },
  {
   "cell_type": "code",
   "execution_count": 4,
   "metadata": {},
   "outputs": [],
   "source": [
    "df = np.random.binomial(10, .5, size=1000)"
   ]
  },
  {
   "cell_type": "code",
   "execution_count": 5,
   "metadata": {},
   "outputs": [
    {
     "data": {
      "text/plain": [
       "array([ 3,  5,  2,  7,  7,  5,  5,  5,  6,  5,  5,  6,  5,  7,  6,  5,  3,\n",
       "        2,  7,  6,  6,  4,  5,  4,  4,  3,  5,  6,  5,  5,  5,  5,  7,  6,\n",
       "        5,  5,  8,  5,  6,  3,  4,  7,  2,  3,  7,  3,  5,  5,  4,  6,  6,\n",
       "        6,  7,  7,  6,  8,  4,  7,  6,  3,  5,  4,  8,  7,  5,  7,  5,  6,\n",
       "        3,  4,  4,  5,  4,  3,  5,  5,  4,  3,  5,  5,  6,  8,  7,  9,  5,\n",
       "        6,  7,  5,  4,  5,  3,  4,  5,  5,  4,  6,  6,  5,  6,  4,  4,  6,\n",
       "        8,  6,  4,  7, 10,  5,  8,  6,  7,  5,  5,  3,  4,  5,  4,  4,  5,\n",
       "        1,  6,  3,  4,  5,  5,  4,  5,  5,  4,  6,  6,  2,  4,  2,  7,  4,\n",
       "        8,  5,  6,  4,  7,  5,  5,  7,  7,  5,  4,  3,  4,  7,  2,  3,  5,\n",
       "        5,  6,  6,  6,  5,  5,  5,  4,  4,  5,  6,  3,  5,  6,  4,  4,  6,\n",
       "        4,  7,  4,  5,  8,  5,  5,  3,  5,  6,  2,  6,  7,  6,  5,  4,  6,\n",
       "        5,  6,  6,  5,  5,  6,  5,  5,  4,  6,  6,  2,  6,  8,  3,  8,  3,\n",
       "        5,  3,  5,  5,  3,  8,  6,  3,  3,  5,  3,  4,  4,  5,  4,  8,  6,\n",
       "        5,  8,  6,  5,  6,  3,  4,  6,  3,  6,  5,  5,  6,  5,  8,  5,  4,\n",
       "        7,  5,  2,  5,  3,  7,  4,  4,  7,  5,  3,  5,  4,  3,  4,  5,  7,\n",
       "        5,  5,  3,  4,  8,  4,  6,  4,  4,  3,  4,  4,  4,  6,  4,  4,  5,\n",
       "        4,  7,  3,  5,  3,  2,  2,  6,  6,  3,  4,  6,  4,  4,  2,  4,  6,\n",
       "        4,  8,  5,  3,  7,  1,  3,  3,  5,  4,  5,  7,  6,  6,  2,  3,  5,\n",
       "        5,  4,  5,  7,  6,  2,  2,  5,  5,  5,  7,  1,  6,  6,  5,  7,  6,\n",
       "        8,  6,  7,  6,  2,  6,  6,  3,  6,  6,  4,  7,  3,  6,  6,  6,  6,\n",
       "        8,  4,  3,  6,  7,  4,  3,  4,  5,  4,  5,  5,  4,  5,  5,  2,  5,\n",
       "        6,  6,  5,  6,  4,  5,  7,  6,  5,  6,  5,  5,  6,  6,  4,  6,  5,\n",
       "        3,  6,  4,  8,  3,  5,  5,  7,  6,  5,  7,  4,  4,  4,  1,  5,  3,\n",
       "        4,  4,  3,  2,  4,  5,  7,  3,  5,  6,  4,  4,  8,  5,  8,  5,  5,\n",
       "        5,  6,  6,  6,  3,  7,  3,  8,  7,  5,  5,  5,  5,  7,  6,  6,  8,\n",
       "        7,  7,  8,  6,  4,  3,  7,  4,  6,  4,  5,  5,  4,  5,  4,  6,  5,\n",
       "        5,  5,  4,  1,  5,  7,  4,  5,  4,  5,  2,  6,  6,  5,  3,  5,  4,\n",
       "        4,  5,  7,  6,  4,  7,  5,  7,  5,  6,  6,  4,  5,  3,  3,  4,  6,\n",
       "        5,  7,  4,  3,  6,  7,  7,  5,  5,  3,  3,  5,  5,  2,  3,  3,  7,\n",
       "        5,  5,  3,  6,  5,  5,  1,  2,  7,  4,  5,  7,  8,  5,  4,  5,  5,\n",
       "        3,  7,  7,  3,  7,  5,  5,  3,  6,  6,  4,  5,  4,  3,  6,  4,  8,\n",
       "        5,  5,  3,  6,  5,  6,  6,  2,  3,  5,  6,  3,  4,  6,  7,  3,  6,\n",
       "        4,  3,  5,  4,  7,  7,  3,  5,  4,  7,  8,  4,  8,  3,  5,  3,  4,\n",
       "        4,  6,  2,  2,  8,  2,  6,  5,  2,  7,  3,  2,  5,  6,  7,  6,  5,\n",
       "        6,  6,  4,  9,  4,  2,  6,  2,  5,  4,  7,  6,  7,  5,  3,  7,  6,\n",
       "        4,  5,  8,  5,  5,  4,  6,  4,  3,  5,  7,  4,  5,  3,  7,  3,  5,\n",
       "        4,  7,  5,  5,  8,  8,  5,  8,  6,  6,  4,  3,  7,  4,  6,  3,  4,\n",
       "        2,  5,  4,  5,  5,  5,  5,  5,  7,  6,  4,  5,  5,  7,  4,  4,  3,\n",
       "        4,  3,  6,  5,  5,  6,  5,  4,  6,  3,  5,  6,  3,  5,  5,  5,  8,\n",
       "        5,  5,  9,  4,  5,  6,  8,  6,  5,  7,  6,  5,  4,  5,  8,  7,  4,\n",
       "        5,  8,  4,  6,  5,  5,  8,  5,  6,  2,  7,  2,  4,  6,  5,  5,  4,\n",
       "        5,  6,  5,  5,  3,  6,  4,  4,  3,  8,  5,  5,  3,  5,  6,  4,  6,\n",
       "        4,  7,  6,  5,  5,  5,  4,  6,  6,  4,  4,  5,  5,  6,  7,  4,  6,\n",
       "        6,  5,  4,  0,  4,  4,  6,  5,  4,  5,  4,  7,  8,  3,  3,  3,  5,\n",
       "        3,  6,  4,  6,  6,  5,  5,  4,  5,  2,  4,  8,  3,  4,  4,  6,  6,\n",
       "        7,  5,  5,  3,  6,  4,  4,  5,  6,  6,  2,  8,  5,  6,  6,  6,  7,\n",
       "        5,  2,  2,  4,  6,  5,  6,  6,  6,  1,  8,  6,  6,  3,  7,  5,  3,\n",
       "        5,  8,  6,  3,  4,  6,  2,  6,  3,  6,  4,  5,  3,  6,  6,  5,  2,\n",
       "        4,  4,  6,  6,  7,  3,  4,  8,  4,  4,  7,  5,  2,  4,  3,  3,  5,\n",
       "        4,  4,  7,  3,  4,  4,  5,  3,  5,  3,  4,  4,  5,  5,  4,  5,  8,\n",
       "        3,  2,  4,  4,  4,  6,  7,  4,  5,  4,  5,  5,  3,  4,  1,  9,  5,\n",
       "        5,  3,  5,  3,  5,  4,  8,  4,  4,  7,  4,  4,  2,  4,  4,  5,  5,\n",
       "        5,  5,  5,  5,  6,  6,  4,  3,  5,  5,  7,  4,  6,  7,  6,  4,  6,\n",
       "        3,  3,  2,  6,  4,  5,  2,  5,  6,  4,  3,  4,  5,  5,  2,  5,  5,\n",
       "        4,  6,  4,  3,  4,  5,  5,  5,  3,  6,  2,  4,  5,  6,  4,  6,  4,\n",
       "        7,  6,  4,  3,  7,  6,  6,  6,  3,  6,  3,  6,  5,  5,  4,  7,  5,\n",
       "        6,  4,  6,  4,  8,  5,  6,  5,  6,  5,  5,  5,  1,  3,  4,  5,  4,\n",
       "        5,  4,  6,  4,  5,  5,  6,  4,  4,  2,  5,  6,  4,  5,  5,  5,  6,\n",
       "        6,  4,  6,  7,  3,  6,  7,  6,  4,  6,  6,  4,  8,  6])"
      ]
     },
     "execution_count": 5,
     "metadata": {},
     "output_type": "execute_result"
    }
   ],
   "source": [
    "df "
   ]
  },
  {
   "cell_type": "code",
   "execution_count": 6,
   "metadata": {},
   "outputs": [
    {
     "name": "stderr",
     "output_type": "stream",
     "text": [
      "C:\\Users\\jerem\\AppData\\Local\\Temp\\ipykernel_9224\\107776459.py:1: UserWarning: \n",
      "\n",
      "`distplot` is a deprecated function and will be removed in seaborn v0.14.0.\n",
      "\n",
      "Please adapt your code to use either `displot` (a figure-level function with\n",
      "similar flexibility) or `histplot` (an axes-level function for histograms).\n",
      "\n",
      "For a guide to updating your code to use the new functions, please see\n",
      "https://gist.github.com/mwaskom/de44147ed2974457ad6372750bbe5751\n",
      "\n",
      "  sns.distplot(df)\n"
     ]
    },
    {
     "data": {
      "text/plain": [
       "<AxesSubplot: ylabel='Density'>"
      ]
     },
     "execution_count": 6,
     "metadata": {},
     "output_type": "execute_result"
    },
    {
     "data": {
      "image/png": "[encoded data removed]",
      "text/plain": [
       "<Figure size 640x480 with 1 Axes>"
      ]
     },
     "metadata": {},
     "output_type": "display_data"
    }
   ],
   "source": [
    "sns.distplot(df)"
   ]
  },
  {
   "cell_type": "code",
   "execution_count": null,
   "metadata": {},
   "outputs": [],
   "source": []
  }
 ],
 "metadata": {
  "kernelspec": {
   "display_name": "Python 3.10.2 64-bit",
   "language": "python",
   "name": "python3"
  },
  "language_info": {
   "codemirror_mode": {
    "name": "ipython",
    "version": 3
   },
   "file_extension": ".py",
   "mimetype": "text/x-python",
   "name": "python",
   "nbconvert_exporter": "python",
   "pygments_lexer": "ipython3",
   "version": "3.10.2"
  },
  "orig_nbformat": 4,
  "vscode": {
   "interpreter": {
    "hash": "23e0aedb6d47e040503db7fcf09a0dff3cea72eb7d5d4c2596a602b1504b448c"
   }
  }
 },
 "nbformat": 4,
 "nbformat_minor": 2
}
