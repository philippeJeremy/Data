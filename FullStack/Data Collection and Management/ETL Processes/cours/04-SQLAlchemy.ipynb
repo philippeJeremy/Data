{
 "cells": [
  {
   "cell_type": "markdown",
   "metadata": {},
   "source": [
    "# SQLAlchemy\n",
    "\n",
    "## What you will learn in this course 🧐🧐\n",
    "\n",
    "If you want to manipulate Databases, it is good for you to know the Python library: `sql-alchemy`.\n",
    "\n",
    "In this course, you'll learn: \n",
    "\n",
    "- Read & Write Data with SQL commands\n",
    "- Read data from your datalake and load it to a proper database \n",
    "- Read data from your database and load it to datalake \n",
    "- Use Pandas features to read & write sql database\n",
    "\n",
    "## Introduction to SQLAlchemy 🧙‍♂️🧙‍♂️\n",
    "\n",
    "SQLAlchemy is the best way to handle relational databases using Python code. As you grow in your data career, you should know the basic principles as you will be handling databases.\n",
    "\n",
    "### Structure of the API \n",
    "\n",
    "SQLAlchemy is organized in layers:\n",
    "\n",
    "![](https://docs.sqlalchemy.org/en/13/_images/sqla_arch_small.png)\n",
    "\n",
    "You have two ways of handling SQL databases with SQLAlchemy: \n",
    "\n",
    "- ORM: It stands for Object Relation Mapper where you'll be able to communicate with the database and create very flexible models.\n",
    "- SQLAlchemy Core: This layer is more schema-centric and will allow you to very simply access and query your tables. \n",
    "\n",
    "Let's check-out core functionnalities of both these layers.\n",
    "\n",
    "### Nota Bene ➤ SQLlite\n",
    "\n",
    "For the rest of this course, we'll be using SQLlite which is a very light version of a SQL database that is built-in. Therefore, we won't have to create any production database like PostgreSQL or MySQL. However, please note that SQLlite is NOT made for production and that you will be using other kind of DB (like PostgreSQL or MySQL) in a production environment.\n",
    "\n",
    "### ORM \n",
    "\n",
    "ORM uses python classes and instances to create and manipulate databases. Let's see how it works. Before diving into creating tables, let's create a db by connecting to it.\n",
    "\n",
    "#### Create a connection"
   ]
  },
  {
   "cell_type": "code",
   "execution_count": null,
   "metadata": {},
   "outputs": [],
   "source": [
    "## Libraries to install if other connections than sqlite\n",
    "# !pip install pymysql # For MySQL engines\n",
    "# !pip install psycopg2-binary # For PostgreSQL engines"
   ]
  },
  {
   "cell_type": "code",
   "execution_count": 2,
   "metadata": {},
   "outputs": [],
   "source": [
    "# Import sqlalchemy\n",
    "from sqlalchemy import create_engine, text\n",
    "\n",
    "# Create engine will create a connection between a SQLlite DB and python\n",
    " engine = create_engine(\"sqlite:///:memory:\", echo=True)\n",
    "# engine = create_engine(f\"mysql+pymysql://{DBUSER}:{DBPASS}@{DBHOST}:{PORT}/{DBNAME}\", echo=True)\n",
    "# engine = create_engine(f\"postgresql+psycopg2://{USERNAME}:{PASSWORD}@{HOSTNAME}/{DBNAME}\", echo=True)"
   ]
  },
  {
   "cell_type": "markdown",
   "metadata": {},
   "source": [
    "In the above code, we created a \"fake\" database where we'll be using our computer's memory to mimic what a real database would be. \n",
    "\n",
    "> NB: if you were to use a production database such as PostgreSQL, you would be using a connection just like this: `postgresql+psycopg2://{dbuser}:{dbpass}@{dbhost}/{dbname}`\n",
    ">\n",
    "> NB: if you were to use a MySQL production database, you would be using a connection just like this: `mysql+pymysql://{DBUSER}:{DBPASS}@{DBHOST}:{PORT}/{DBNAME}`\n",
    "\n",
    "where you would need to specify: \n",
    "\n",
    "```python\n",
    "DBHOST = \"HOST_FROM_AMAZON_RDS\"\n",
    "DBUSER = \"USERNAME\"\n",
    "DBPASS = \"PASSWORD\"\n",
    "DBNAME = \"DBNAME\"\n",
    "PORT = \"PORT\"\n",
    "# DBNAME = \"postgres\" --> If you are using PostgreSQL\n",
    "```\n",
    "\n",
    "#### Create a table \n",
    "\n",
    "Let's now create a table. To do so, we'll be using a python class and instanciate it. "
   ]
  },
  {
   "cell_type": "code",
   "execution_count": 3,
   "metadata": {},
   "outputs": [],
   "source": [
    "# Let's instanciate a declarative base to be able to use our python class\n",
    "from sqlalchemy.ext.declarative import declarative_base\n",
    "Base = declarative_base()\n",
    "\n",
    "# Let's define our table using a class\n",
    "from sqlalchemy import Column, Integer, String\n",
    "\n",
    "class User(Base):\n",
    "    __tablename__ = \"users\"\n",
    "\n",
    "    # Each parameter corresponds to a column in our DB table\n",
    "    id = Column(Integer, primary_key=True)\n",
    "    name = Column(String)\n",
    "    fullname = Column(String)\n",
    "    nickname = Column(String)\n",
    "\n",
    "    def __repr__(self):\n",
    "        return \"<User(name='{}', fullname='{}', nickname='{}')>\".format(self.name, self.fullname, self.nickname)"
   ]
  },
  {
   "cell_type": "markdown",
   "metadata": {},
   "source": [
    "Here we represented our table `users` by class. As you can see, it contains 4 columns: \n",
    "\n",
    "- `id` of type Integer\n",
    "- `name` of type String \n",
    "- `fullname` of type String \n",
    "- `nickname` of type String \n",
    "\n",
    "The `__repr__` method simply states how the output will be formated when we'll be calling our attributes.\n",
    "\n",
    "Now, we need to create our table within our database. We can do this by using the `create_all` method from `Base.metadata` module. "
   ]
  },
  {
   "cell_type": "code",
   "execution_count": 4,
   "metadata": {
    "tags": []
   },
   "outputs": [
    {
     "name": "stdout",
     "output_type": "stream",
     "text": [
      "2021-03-16 15:22:18,674 INFO sqlalchemy.engine.base.Engine SELECT CAST('test plain returns' AS VARCHAR(60)) AS anon_1\n",
      "2021-03-16 15:22:18,679 INFO sqlalchemy.engine.base.Engine ()\n",
      "2021-03-16 15:22:18,681 INFO sqlalchemy.engine.base.Engine SELECT CAST('test unicode returns' AS VARCHAR(60)) AS anon_1\n",
      "2021-03-16 15:22:18,683 INFO sqlalchemy.engine.base.Engine ()\n",
      "2021-03-16 15:22:18,684 INFO sqlalchemy.engine.base.Engine PRAGMA main.table_info(\"users\")\n",
      "2021-03-16 15:22:18,686 INFO sqlalchemy.engine.base.Engine ()\n",
      "2021-03-16 15:22:18,687 INFO sqlalchemy.engine.base.Engine PRAGMA temp.table_info(\"users\")\n",
      "2021-03-16 15:22:18,688 INFO sqlalchemy.engine.base.Engine ()\n",
      "2021-03-16 15:22:18,690 INFO sqlalchemy.engine.base.Engine \n",
      "CREATE TABLE users (\n",
      "\tid INTEGER NOT NULL, \n",
      "\tname VARCHAR, \n",
      "\tfullname VARCHAR, \n",
      "\tnickname VARCHAR, \n",
      "\tPRIMARY KEY (id)\n",
      ")\n",
      "\n",
      "\n",
      "2021-03-16 15:22:18,691 INFO sqlalchemy.engine.base.Engine ()\n",
      "2021-03-16 15:22:18,694 INFO sqlalchemy.engine.base.Engine COMMIT\n"
     ]
    }
   ],
   "source": [
    "Base.metadata.create_all(engine)"
   ]
  },
  {
   "cell_type": "markdown",
   "metadata": {},
   "source": [
    "#### Insert values \n",
    "\n",
    "Let's insert values in our database:"
   ]
  },
  {
   "cell_type": "code",
   "execution_count": 5,
   "metadata": {
    "tags": []
   },
   "outputs": [
    {
     "name": "stdout",
     "output_type": "stream",
     "text": [
      "<User(name='ed', fullname='Ed Jones', nickname='edsnickname')>\n",
      "name: ed\n",
      "nickname: edsnickname\n"
     ]
    }
   ],
   "source": [
    "# Create a new instance of User will allow us to insert a new record later on\n",
    "ed_user = User(id=1, name='ed', fullname='Ed Jones', nickname='edsnickname')\n",
    "\n",
    "# Access Full row \n",
    "print(ed_user)\n",
    "\n",
    "# Access ed_user name \n",
    "name = ed_user.name\n",
    "print(\"name: {}\".format(name))\n",
    "\n",
    "# Access ed_user nickname\n",
    "nickname = ed_user.nickname \n",
    "print(\"nickname: {}\".format(nickname))"
   ]
  },
  {
   "cell_type": "markdown",
   "metadata": {},
   "source": [
    "We created data! As you can see we can access each column values simply by declaring a `.column_name`.\n",
    "\n",
    "#### Persist values in db\n",
    "\n",
    "Eventhough we created values, we haven't saved it in our database. We can do it by opening a `Session`:"
   ]
  },
  {
   "cell_type": "code",
   "execution_count": 6,
   "metadata": {},
   "outputs": [],
   "source": [
    "# Initialize a sessionmaker \n",
    "from sqlalchemy.orm import sessionmaker\n",
    "\n",
    "Session = sessionmaker(bind=engine)"
   ]
  },
  {
   "cell_type": "markdown",
   "metadata": {},
   "source": [
    "Here we created a `sessionmaker` which will allow us to talk to our database. The `bind` argument takes an `engine` as parameter which corresponds to our database."
   ]
  },
  {
   "cell_type": "code",
   "execution_count": 7,
   "metadata": {},
   "outputs": [
    {
     "name": "stdout",
     "output_type": "stream",
     "text": [
      "<User(name='al', fullname='Al Jones', nickname='alsnickname')>\n"
     ]
    }
   ],
   "source": [
    "# Create a new instance of User will allow us to insert a new record later on\n",
    "al_user = User(id=2, name='al', fullname='Al Jones', nickname='alsnickname')\n",
    "\n",
    "# Access Full row \n",
    "print(al_user)"
   ]
  },
  {
   "cell_type": "code",
   "execution_count": 8,
   "metadata": {
    "tags": []
   },
   "outputs": [
    {
     "name": "stdout",
     "output_type": "stream",
     "text": [
      "2021-03-16 15:22:22,768 INFO sqlalchemy.engine.base.Engine BEGIN (implicit)\n",
      "2021-03-16 15:22:22,771 INFO sqlalchemy.engine.base.Engine INSERT INTO users (id, name, fullname, nickname) VALUES (?, ?, ?, ?)\n",
      "2021-03-16 15:22:22,773 INFO sqlalchemy.engine.base.Engine ((1, 'ed', 'Ed Jones', 'edsnickname'), (2, 'al', 'Al Jones', 'alsnickname'))\n",
      "2021-03-16 15:22:22,774 INFO sqlalchemy.engine.base.Engine COMMIT\n"
     ]
    }
   ],
   "source": [
    "# Instanciate Session \n",
    "session = Session()\n",
    "\n",
    "# Add values to db \n",
    "session.add(ed_user)\n",
    "session.add(al_user)\n",
    "\n",
    "# Commit the results \n",
    "session.commit()"
   ]
  },
  {
   "cell_type": "markdown",
   "metadata": {},
   "source": [
    "Good job! We added our first value inside our db 👏 Note that it is very important to use the `.commit()` method to actually persist the values you inserted when you called the `.add()` method.\n",
    "\n",
    "#### Query values from a database\n",
    "\n",
    "Now that we have some data inside our database, we can query it simply by using the `session` instance."
   ]
  },
  {
   "cell_type": "code",
   "execution_count": 9,
   "metadata": {
    "tags": []
   },
   "outputs": [
    {
     "name": "stdout",
     "output_type": "stream",
     "text": [
      "2021-03-16 15:22:53,437 INFO sqlalchemy.engine.base.Engine BEGIN (implicit)\n",
      "2021-03-16 15:22:53,470 INFO sqlalchemy.engine.base.Engine SELECT users.id AS users_id, users.name AS users_name, users.fullname AS users_fullname, users.nickname AS users_nickname \n",
      "FROM users\n",
      "2021-03-16 15:22:53,471 INFO sqlalchemy.engine.base.Engine ()\n"
     ]
    },
    {
     "data": {
      "text/plain": [
       "[<User(name='ed', fullname='Ed Jones', nickname='edsnickname')>,\n",
       " <User(name='al', fullname='Al Jones', nickname='alsnickname')>]"
      ]
     },
     "execution_count": 9,
     "metadata": {},
     "output_type": "execute_result"
    }
   ],
   "source": [
    "# Query our table users\n",
    "user = session.query(User)\n",
    "\n",
    "# Output all the results \n",
    "user.all()"
   ]
  },
  {
   "cell_type": "markdown",
   "metadata": {},
   "source": [
    "You can now also use any SQL statement if you want to run more complex queries:"
   ]
  },
  {
   "cell_type": "code",
   "execution_count": 11,
   "metadata": {},
   "outputs": [
    {
     "data": {
      "text/plain": [
       "<sqlalchemy.sql.elements.TextClause object at 0x000001F36832D400>"
      ]
     },
     "execution_count": 11,
     "metadata": {},
     "output_type": "execute_result"
    }
   ],
   "source": [
    "from sqlalchemy import text\n",
    "\n",
    "# Create a statement \n",
    "statement = text(\"SELECT * FROM users where name=:name\")\n",
    "statement"
   ]
  },
  {
   "cell_type": "markdown",
   "metadata": {},
   "source": [
    "As you can see, the query looks almost as a real SQL query. The only thing is the `:name` parameter in `where name=:name`.\n",
    "\n",
    "This will allow us to insert values afterwards the following way: "
   ]
  },
  {
   "cell_type": "code",
   "execution_count": 12,
   "metadata": {
    "tags": []
   },
   "outputs": [
    {
     "name": "stdout",
     "output_type": "stream",
     "text": [
      "2021-03-16 15:23:53,546 INFO sqlalchemy.engine.base.Engine SELECT * FROM users where name=?\n",
      "2021-03-16 15:23:53,547 INFO sqlalchemy.engine.base.Engine ('ed',)\n"
     ]
    },
    {
     "data": {
      "text/plain": [
       "[<User(name='ed', fullname='Ed Jones', nickname='edsnickname')>]"
      ]
     },
     "execution_count": 12,
     "metadata": {},
     "output_type": "execute_result"
    }
   ],
   "source": [
    "session.query(User).from_statement(statement).params(name=\"ed\").all()"
   ]
  },
  {
   "cell_type": "markdown",
   "metadata": {},
   "source": [
    "As you can see, we used this `params` method that allows you to specify an operator from which you could apply your filter.\n",
    "\n",
    "### SQLAlchemy Core \n",
    "\n",
    "If you don't like classes and the declarative approach. You can use the SQLAlchemy Core layer of the library. Let's start by creating a new database. "
   ]
  },
  {
   "cell_type": "code",
   "execution_count": 13,
   "metadata": {},
   "outputs": [],
   "source": [
    "from sqlalchemy import create_engine\n",
    "engine = create_engine('sqlite:///:memory:', echo=True)"
   ]
  },
  {
   "cell_type": "markdown",
   "metadata": {},
   "source": [
    "#### Create Tables \n",
    "\n",
    "You can simply create tables the following way."
   ]
  },
  {
   "cell_type": "code",
   "execution_count": 14,
   "metadata": {},
   "outputs": [],
   "source": [
    "from sqlalchemy import Table, Column, Integer, String, MetaData, ForeignKey\n",
    "\n",
    "meta = MetaData()\n",
    "\n",
    "# Define table \"students\"\n",
    "students = Table(\n",
    "    'students', meta, \n",
    "    Column('id', Integer, primary_key = True), \n",
    "    Column('name', String), \n",
    "    Column('lastname', String),\n",
    ")\n",
    "\n",
    "# Define table \"adresses\"\n",
    "addresses = Table(\n",
    "    'addresses', meta, \n",
    "    Column('id', Integer, primary_key = True), \n",
    "    Column('email_address', String), \n",
    "    Column(\"student_id\", None, ForeignKey(\"students.id\"))\n",
    ")"
   ]
  },
  {
   "cell_type": "markdown",
   "metadata": {},
   "source": [
    "As you can see, I simply declared two tables with the `Table` class. Pay attention to `meta` as well which basically contain all the metadata (additional information) necessary to create an actual table. \n",
    "\n",
    "Let's now `create_all` tables to actually create them within our database. "
   ]
  },
  {
   "cell_type": "code",
   "execution_count": 15,
   "metadata": {
    "tags": []
   },
   "outputs": [
    {
     "name": "stdout",
     "output_type": "stream",
     "text": [
      "2021-03-16 15:23:59,762 INFO sqlalchemy.engine.base.Engine SELECT CAST('test plain returns' AS VARCHAR(60)) AS anon_1\n",
      "2021-03-16 15:23:59,763 INFO sqlalchemy.engine.base.Engine ()\n",
      "2021-03-16 15:23:59,765 INFO sqlalchemy.engine.base.Engine SELECT CAST('test unicode returns' AS VARCHAR(60)) AS anon_1\n",
      "2021-03-16 15:23:59,766 INFO sqlalchemy.engine.base.Engine ()\n",
      "2021-03-16 15:23:59,768 INFO sqlalchemy.engine.base.Engine PRAGMA main.table_info(\"students\")\n",
      "2021-03-16 15:23:59,769 INFO sqlalchemy.engine.base.Engine ()\n",
      "2021-03-16 15:23:59,771 INFO sqlalchemy.engine.base.Engine PRAGMA temp.table_info(\"students\")\n",
      "2021-03-16 15:23:59,772 INFO sqlalchemy.engine.base.Engine ()\n",
      "2021-03-16 15:23:59,773 INFO sqlalchemy.engine.base.Engine PRAGMA main.table_info(\"addresses\")\n",
      "2021-03-16 15:23:59,774 INFO sqlalchemy.engine.base.Engine ()\n",
      "2021-03-16 15:23:59,775 INFO sqlalchemy.engine.base.Engine PRAGMA temp.table_info(\"addresses\")\n",
      "2021-03-16 15:23:59,776 INFO sqlalchemy.engine.base.Engine ()\n",
      "2021-03-16 15:23:59,778 INFO sqlalchemy.engine.base.Engine \n",
      "CREATE TABLE students (\n",
      "\tid INTEGER NOT NULL, \n",
      "\tname VARCHAR, \n",
      "\tlastname VARCHAR, \n",
      "\tPRIMARY KEY (id)\n",
      ")\n",
      "\n",
      "\n",
      "2021-03-16 15:23:59,779 INFO sqlalchemy.engine.base.Engine ()\n",
      "2021-03-16 15:23:59,781 INFO sqlalchemy.engine.base.Engine COMMIT\n",
      "2021-03-16 15:23:59,783 INFO sqlalchemy.engine.base.Engine \n",
      "CREATE TABLE addresses (\n",
      "\tid INTEGER NOT NULL, \n",
      "\temail_address VARCHAR, \n",
      "\tstudent_id INTEGER, \n",
      "\tPRIMARY KEY (id), \n",
      "\tFOREIGN KEY(student_id) REFERENCES students (id)\n",
      ")\n",
      "\n",
      "\n",
      "2021-03-16 15:23:59,784 INFO sqlalchemy.engine.base.Engine ()\n",
      "2021-03-16 15:23:59,791 INFO sqlalchemy.engine.base.Engine COMMIT\n"
     ]
    }
   ],
   "source": [
    "meta.create_all(engine)"
   ]
  },
  {
   "cell_type": "markdown",
   "metadata": {},
   "source": [
    "#### Insert values\n",
    "\n",
    "If you need to insert values, you can do it the following way: "
   ]
  },
  {
   "cell_type": "code",
   "execution_count": 16,
   "metadata": {},
   "outputs": [
    {
     "data": {
      "text/plain": [
       "<sqlalchemy.sql.dml.Insert object at 0x000001F369607B50>"
      ]
     },
     "execution_count": 16,
     "metadata": {},
     "output_type": "execute_result"
    }
   ],
   "source": [
    "ins = students.insert().values(id=\"1\", name=\"Jack\", lastname=\"Johnson\")\n",
    "ins"
   ]
  },
  {
   "cell_type": "markdown",
   "metadata": {},
   "source": [
    "This hasn't really inserted values just yet. You will need to first:\n",
    "\n",
    "1. Create a connecion to your db \n",
    "2. Execute the query"
   ]
  },
  {
   "cell_type": "code",
   "execution_count": 17,
   "metadata": {
    "tags": []
   },
   "outputs": [
    {
     "name": "stdout",
     "output_type": "stream",
     "text": [
      "2021-03-16 15:24:04,548 INFO sqlalchemy.engine.base.Engine INSERT INTO students (id, name, lastname) VALUES (?, ?, ?)\n",
      "2021-03-16 15:24:04,549 INFO sqlalchemy.engine.base.Engine ('1', 'Jack', 'Johnson')\n",
      "2021-03-16 15:24:04,551 INFO sqlalchemy.engine.base.Engine COMMIT\n"
     ]
    },
    {
     "data": {
      "text/plain": [
       "<sqlalchemy.engine.result.ResultProxy at 0x1f3695d9e20>"
      ]
     },
     "execution_count": 17,
     "metadata": {},
     "output_type": "execute_result"
    }
   ],
   "source": [
    "# Connect to the db\n",
    "conn = engine.connect()\n",
    "\n",
    "# Execute the query \n",
    "result = conn.execute(ins)\n",
    "result"
   ]
  },
  {
   "cell_type": "markdown",
   "metadata": {},
   "source": [
    "If you need to insert multiple values, you can do it simply by specifying a list of dictionnaries:"
   ]
  },
  {
   "cell_type": "code",
   "execution_count": 18,
   "metadata": {
    "tags": []
   },
   "outputs": [
    {
     "name": "stdout",
     "output_type": "stream",
     "text": [
      "2021-03-16 15:24:06,949 INFO sqlalchemy.engine.base.Engine INSERT INTO addresses (email_address, student_id) VALUES (?, ?)\n",
      "2021-03-16 15:24:06,951 INFO sqlalchemy.engine.base.Engine (('jack@yahoo.com', 1), ('jack@msn.com', 1))\n",
      "2021-03-16 15:24:06,952 INFO sqlalchemy.engine.base.Engine COMMIT\n"
     ]
    },
    {
     "data": {
      "text/plain": [
       "<sqlalchemy.engine.result.ResultProxy at 0x1f367e37b50>"
      ]
     },
     "execution_count": 18,
     "metadata": {},
     "output_type": "execute_result"
    }
   ],
   "source": [
    "values = [\n",
    "    {'student_id': 1, 'email_address' : 'jack@yahoo.com'},\n",
    "    {'student_id': 1, 'email_address' : 'jack@msn.com'}\n",
    "]\n",
    "\n",
    "conn.execute(addresses.insert(), values)"
   ]
  },
  {
   "cell_type": "markdown",
   "metadata": {},
   "source": [
    "#### Query values \n",
    "\n",
    "If you need to query your database, you can do it via `text` method and use actual sql queries. "
   ]
  },
  {
   "cell_type": "code",
   "execution_count": 19,
   "metadata": {
    "tags": []
   },
   "outputs": [
    {
     "name": "stdout",
     "output_type": "stream",
     "text": [
      "2021-03-16 15:24:08,685 INFO sqlalchemy.engine.base.Engine SELECT students.id, addresses.id, students.name, addresses.email_address FROM students JOIN addresses ON students.id=addresses.student_id WHERE students.id = 1\n",
      "2021-03-16 15:24:08,687 INFO sqlalchemy.engine.base.Engine ()\n"
     ]
    }
   ],
   "source": [
    "from sqlalchemy.sql import text\n",
    "\n",
    "# Create a statement \n",
    "stmt = text(\"SELECT students.id, addresses.id, students.name, addresses.email_address FROM students \"\n",
    "            \"JOIN addresses ON students.id=addresses.student_id \"\n",
    "            \"WHERE students.id = 1\")\n",
    "\n",
    "result = conn.execute(stmt)"
   ]
  },
  {
   "cell_type": "markdown",
   "metadata": {},
   "source": [
    "What is important to notice is: \n",
    "\n",
    "- Each line of the query is represented by a string. If you query needs to be on several lines, you need to add a space (\" \") before going to the next line.\n",
    "- The `.columns()` works like a `.format()` method. This is where you will be specifying the names of the columns, you want to insert.\n",
    "- Finally, for each columns we specified `table_name.c.column_name`. This is how would select a column from a given table.\n",
    "\n",
    "Now if you want to check the actual results. You can use the `.fetchall` method that will output the results as a list. "
   ]
  },
  {
   "cell_type": "code",
   "execution_count": 20,
   "metadata": {},
   "outputs": [
    {
     "data": {
      "text/plain": [
       "[(1, 1, 'Jack', 'jack@yahoo.com'), (1, 2, 'Jack', 'jack@msn.com')]"
      ]
     },
     "execution_count": 20,
     "metadata": {},
     "output_type": "execute_result"
    }
   ],
   "source": [
    "result.fetchall()"
   ]
  },
  {
   "cell_type": "markdown",
   "metadata": {},
   "source": [
    "## Simple things out with Pandas 😌\n",
    "\n",
    "SQLAlchemy is the fundamental knowledge when dealing with SQL databases with Python as it's broadly used by web-development libraries and others. However, there are simpler way to insert and query databases that would work most of the time: Pandas.\n",
    "\n",
    "### Read SQL Databases with Pandas \n",
    "\n",
    "Most of the time, you were using pandas with CSV files or Excel spreadsheets but you can also use this library with SQL databases. You would use the `read_sql` method. "
   ]
  },
  {
   "cell_type": "code",
   "execution_count": 21,
   "metadata": {
    "tags": []
   },
   "outputs": [
    {
     "name": "stdout",
     "output_type": "stream",
     "text": [
      "2021-03-16 15:25:11,974 INFO sqlalchemy.engine.base.OptionEngine SELECT students.id, addresses.id, students.name, addresses.email_address FROM students JOIN addresses ON students.id=addresses.student_id WHERE students.id = 1\n",
      "2021-03-16 15:25:11,975 INFO sqlalchemy.engine.base.OptionEngine ()\n"
     ]
    },
    {
     "data": {
      "text/html": [
       "<div>\n",
       "<style scoped>\n",
       "    .dataframe tbody tr th:only-of-type {\n",
       "        vertical-align: middle;\n",
       "    }\n",
       "\n",
       "    .dataframe tbody tr th {\n",
       "        vertical-align: top;\n",
       "    }\n",
       "\n",
       "    .dataframe thead th {\n",
       "        text-align: right;\n",
       "    }\n",
       "</style>\n",
       "<table border=\"1\" class=\"dataframe\">\n",
       "  <thead>\n",
       "    <tr style=\"text-align: right;\">\n",
       "      <th></th>\n",
       "      <th>id</th>\n",
       "      <th>id</th>\n",
       "      <th>name</th>\n",
       "      <th>email_address</th>\n",
       "    </tr>\n",
       "  </thead>\n",
       "  <tbody>\n",
       "    <tr>\n",
       "      <th>0</th>\n",
       "      <td>1</td>\n",
       "      <td>1</td>\n",
       "      <td>Jack</td>\n",
       "      <td>jack@yahoo.com</td>\n",
       "    </tr>\n",
       "    <tr>\n",
       "      <th>1</th>\n",
       "      <td>1</td>\n",
       "      <td>2</td>\n",
       "      <td>Jack</td>\n",
       "      <td>jack@msn.com</td>\n",
       "    </tr>\n",
       "  </tbody>\n",
       "</table>\n",
       "</div>"
      ],
      "text/plain": [
       "   id  id  name   email_address\n",
       "0   1   1  Jack  jack@yahoo.com\n",
       "1   1   2  Jack    jack@msn.com"
      ]
     },
     "execution_count": 21,
     "metadata": {},
     "output_type": "execute_result"
    }
   ],
   "source": [
    "import pandas as pd \n",
    "\n",
    "# Create a statement \n",
    "# Within the text() method is a SQL query. Check out our SQL reminder course if you feel a little rusty\n",
    "stmt = text(\"SELECT students.id, addresses.id, students.name, addresses.email_address FROM students \"\n",
    "            \"JOIN addresses ON students.id=addresses.student_id \"\n",
    "            \"WHERE students.id = 1\")\n",
    "\n",
    "# Create a dataFrame using SQL\n",
    "df = pd.read_sql(\n",
    "        stmt,\n",
    "        engine\n",
    "    )\n",
    "\n",
    "df.head()"
   ]
  },
  {
   "cell_type": "markdown",
   "metadata": {},
   "source": [
    "Now you have a very nice DataFrame that you can easily manipulate! \n",
    "\n",
    "Note that we still used SQLAlchemy as we create a statement `stmt` as well as an `engine` for pandas to be able to create it. "
   ]
  },
  {
   "cell_type": "markdown",
   "metadata": {},
   "source": [
    "### Update your database with Pandas \n",
    "\n",
    "The same way you can read sql, you can also write sql with pandas. "
   ]
  },
  {
   "cell_type": "code",
   "execution_count": 22,
   "metadata": {},
   "outputs": [
    {
     "data": {
      "text/html": [
       "<div>\n",
       "<style scoped>\n",
       "    .dataframe tbody tr th:only-of-type {\n",
       "        vertical-align: middle;\n",
       "    }\n",
       "\n",
       "    .dataframe tbody tr th {\n",
       "        vertical-align: top;\n",
       "    }\n",
       "\n",
       "    .dataframe thead th {\n",
       "        text-align: right;\n",
       "    }\n",
       "</style>\n",
       "<table border=\"1\" class=\"dataframe\">\n",
       "  <thead>\n",
       "    <tr style=\"text-align: right;\">\n",
       "      <th></th>\n",
       "      <th>id</th>\n",
       "      <th>id</th>\n",
       "      <th>name</th>\n",
       "      <th>email_address</th>\n",
       "      <th>great_new_column</th>\n",
       "    </tr>\n",
       "  </thead>\n",
       "  <tbody>\n",
       "    <tr>\n",
       "      <th>0</th>\n",
       "      <td>1</td>\n",
       "      <td>1</td>\n",
       "      <td>Jack</td>\n",
       "      <td>jack@yahoo.com</td>\n",
       "      <td>0</td>\n",
       "    </tr>\n",
       "    <tr>\n",
       "      <th>1</th>\n",
       "      <td>1</td>\n",
       "      <td>2</td>\n",
       "      <td>Jack</td>\n",
       "      <td>jack@msn.com</td>\n",
       "      <td>0</td>\n",
       "    </tr>\n",
       "  </tbody>\n",
       "</table>\n",
       "</div>"
      ],
      "text/plain": [
       "   id  id  name   email_address  great_new_column\n",
       "0   1   1  Jack  jack@yahoo.com                 0\n",
       "1   1   2  Jack    jack@msn.com                 0"
      ]
     },
     "execution_count": 22,
     "metadata": {},
     "output_type": "execute_result"
    }
   ],
   "source": [
    "# Create a new column\n",
    "df[\"great_new_column\"] = 0\n",
    "df.head()"
   ]
  },
  {
   "cell_type": "code",
   "execution_count": 23,
   "metadata": {
    "tags": []
   },
   "outputs": [
    {
     "name": "stdout",
     "output_type": "stream",
     "text": [
      "2021-03-16 15:25:24,419 INFO sqlalchemy.engine.base.Engine PRAGMA main.table_info(\"brand_new_table\")\n",
      "2021-03-16 15:25:24,420 INFO sqlalchemy.engine.base.Engine ()\n",
      "2021-03-16 15:25:24,423 INFO sqlalchemy.engine.base.Engine PRAGMA temp.table_info(\"brand_new_table\")\n",
      "2021-03-16 15:25:24,424 INFO sqlalchemy.engine.base.Engine ()\n",
      "2021-03-16 15:25:24,427 INFO sqlalchemy.engine.base.Engine \n",
      "CREATE TABLE brand_new_table (\n",
      "\t\"index\" BIGINT, \n",
      "\tid BIGINT, \n",
      "\tname TEXT, \n",
      "\temail_address TEXT, \n",
      "\tgreat_new_column BIGINT\n",
      ")\n",
      "\n",
      "\n",
      "2021-03-16 15:25:24,429 INFO sqlalchemy.engine.base.Engine ()\n",
      "2021-03-16 15:25:24,430 INFO sqlalchemy.engine.base.Engine COMMIT\n",
      "2021-03-16 15:25:24,431 INFO sqlalchemy.engine.base.Engine CREATE INDEX ix_brand_new_table_index ON brand_new_table (\"index\")\n",
      "2021-03-16 15:25:24,433 INFO sqlalchemy.engine.base.Engine ()\n",
      "2021-03-16 15:25:24,435 INFO sqlalchemy.engine.base.Engine COMMIT\n",
      "2021-03-16 15:25:24,439 INFO sqlalchemy.engine.base.Engine BEGIN (implicit)\n",
      "2021-03-16 15:25:24,441 INFO sqlalchemy.engine.base.Engine INSERT INTO brand_new_table (\"index\", id, name, email_address, great_new_column) VALUES (?, ?, ?, ?, ?)\n",
      "2021-03-16 15:25:24,442 INFO sqlalchemy.engine.base.Engine ((0, 1, 'Jack', 'jack@yahoo.com', 0), (1, 2, 'Jack', 'jack@msn.com', 0))\n",
      "2021-03-16 15:25:24,443 INFO sqlalchemy.engine.base.Engine COMMIT\n"
     ]
    }
   ],
   "source": [
    "# Push this new dataframe to our sql database\n",
    "df.to_sql(\n",
    "    \"brand_new_table\",\n",
    "    engine\n",
    ")"
   ]
  },
  {
   "cell_type": "code",
   "execution_count": 24,
   "metadata": {
    "tags": []
   },
   "outputs": [
    {
     "name": "stdout",
     "output_type": "stream",
     "text": [
      "2021-03-16 15:25:50,204 INFO sqlalchemy.engine.base.Engine SELECT * FROM brand_new_table\n",
      "2021-03-16 15:25:50,205 INFO sqlalchemy.engine.base.Engine ()\n"
     ]
    },
    {
     "data": {
      "text/plain": [
       "[(0, 1, 'Jack', 'jack@yahoo.com', 0), (1, 2, 'Jack', 'jack@msn.com', 0)]"
      ]
     },
     "execution_count": 24,
     "metadata": {},
     "output_type": "execute_result"
    }
   ],
   "source": [
    "# Let's query it \n",
    "stmt = text(\"SELECT * FROM brand_new_table\")\n",
    "result = conn.execute(stmt)\n",
    "result.fetchall()"
   ]
  },
  {
   "cell_type": "markdown",
   "metadata": {},
   "source": [
    "## Resources 📚📚\n",
    "\n",
    "- <a href=\"https://www.youtube.com/watch?v=woKYyhLCcnU\" target=\"_blank\">Introduction to SQLAlchemy</a>\n",
    "- <a href=\"https://docs.sqlalchemy.org/en/13/intro.html\" target=\"_blank\">SQLAlchemy Overview</a>\n",
    "- <a href=\"https://docs.sqlalchemy.org/en/13/orm/tutorial.html\" target=\"_blank\">Object Relational Tutorial</a>\n",
    "- <a href=\"https://docs.sqlalchemy.org/en/13/core/tutorial.html\" target=\"_blank\">SQL Expression Language Tutorial</a>\n",
    "- <a href=\"https://pandas.pydata.org/pandas-docs/stable/reference/api/pandas.read_sql.html#pandas.read_sql\" target=\"_blank\">Pandas Read SQL</a>\n",
    "- <a href=\"https://pandas.pydata.org/pandas-docs/stable/reference/api/pandas.DataFrame.to_sql.html\" target=\"_blank\">Pandas To SQL</a>"
   ]
  }
 ],
 "metadata": {
  "kernelspec": {
   "display_name": "Python 3",
   "language": "python",
   "name": "python3"
  },
  "language_info": {
   "codemirror_mode": {
    "name": "ipython",
    "version": 3
   },
   "file_extension": ".py",
   "mimetype": "text/x-python",
   "name": "python",
   "nbconvert_exporter": "python",
   "pygments_lexer": "ipython3",
   "version": "3.8.5"
  }
 },
 "nbformat": 4,
 "nbformat_minor": 4
}
