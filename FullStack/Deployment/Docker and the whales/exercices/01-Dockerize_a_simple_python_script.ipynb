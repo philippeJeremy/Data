{
 "cells": [
  {
   "cell_type": "markdown",
   "metadata": {},
   "source": [
    "# Dockerize a simple Python script\n",
    "\n",
    "## Goal description \n",
    "\n",
    "The goal of this exercise is to build an image that will be able to run a simple python script. You will need to: \n",
    "\n",
    "* Write a `Dockerfile`\n",
    "* Build the image \n",
    "* Run the container \n",
    "\n",
    "## Script to containerize \n",
    "\n",
    "You can use the script you wrote in *Execute a simple python script 🍼* exercise in the first day of this module. If, for some reason, this script is not ready, you can simply clone the below project: \n",
    "\n",
    "* `git clone https://github.com/JedhaBootcamp/Dockerize_a_simple_python_script`\n",
    "\n",
    "## How to make sure this works? \n",
    "\n",
    "You need to have **your container able to run your script with no errors**. \n",
    "\n",
    "Happy coding!🧑‍💻\n"
   ]
  }
 ],
 "metadata": {
  "language_info": {
   "name": "python"
  },
  "orig_nbformat": 4
 },
 "nbformat": 4,
 "nbformat_minor": 2
}
