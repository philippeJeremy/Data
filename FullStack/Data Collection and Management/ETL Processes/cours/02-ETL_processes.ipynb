{
 "cells": [
  {
   "cell_type": "markdown",
   "metadata": {},
   "source": [
    "# ETL Processes \n",
    "\n",
    "## What you'll learn in this course 🧐🧐\n",
    "\n",
    "In your data-science journey you will meet some jargon like ETL. This strange acronym regroups a lot of technics about managing datas sources and storing them the right in the right place for further exploitation.\n",
    "\n",
    "- What is an ETL process?\n",
    "- Why is it useful?\n",
    "\n",
    "## What is an ETL Process? 🤔🤔\n",
    "\n",
    "ETL stands for Extract Transform Load. Simply put, it's a process of extracting data from a source, clean it and load it into a database that we usually call a _Data Warehouse_.\n",
    "\n",
    "Imagine the following case: \n",
    "\n",
    "_You are using an API that extracts data from a website periodically. This data describes your users behavior and therefore you need to analyze it. However, since your data is not structured, you decided to store it in a datalake like S3. Now, you need to analyze this data and provide a dashboard to your management. However, S3 is not made to do direct analysis on it. Therefore, you need to transform that data into a SQL Database like PostgreSQL._\n",
    "\n",
    "This example is a typical case for an ETL process!\n",
    "\n",
    "## Why is it useful?\n",
    "\n",
    "Data Scientists are not the only ones who benefit from data. In companies, many professions require to request and read datas for their own activity. It could be for business intelligence (BI) for example, which rely on data in order to make business decisions.\n",
    "\n",
    "ETL processes are setup in order to gather datas in one place so as everyone can use them for their own purposes. It is build so as data is well formatted and validated before storing. It becomes a source of truth for your company. In big companies, or if you have a lot of data sources you will greatly benefit from implementing this kind of process."
   ]
  },
  {
   "cell_type": "markdown",
   "metadata": {},
   "source": [
    "## Resources 📚📚\n",
    "\n",
    "* <a href=\"https://medium.com/hashmapinc/etl-understanding-it-and-effectively-using-it-f827a5b3e54d\" target=\"_blank\"> ETL Understanding it and effectively using it</a>\n",
    "\n",
    "* <a href=\"https://www.talend.com/resources/what-is-etl/\" target=\"_blank\">What is Extract, Transform, Load?</a>\n",
    "\n",
    "* <a href=\"https://aws.amazon.com/fr/blogs/big-data/orchestrating-an-etl-process-using-aws-step-functions-for-amazon-redshift/\" target=\"_blank\">Orchestrate an ETL process using AWS Step Functions for Amazon Redshift </a>\n"
   ]
  }
 ],
 "metadata": {
  "kernelspec": {
   "display_name": "Python 3",
   "language": "python",
   "name": "python3"
  },
  "language_info": {
   "codemirror_mode": {
    "name": "ipython",
    "version": 3
   },
   "file_extension": ".py",
   "mimetype": "text/x-python",
   "name": "python",
   "nbconvert_exporter": "python",
   "pygments_lexer": "ipython3",
   "version": "3.8.5"
  }
 },
 "nbformat": 4,
 "nbformat_minor": 4
}
