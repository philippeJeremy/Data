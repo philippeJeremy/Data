{
  "cells": [
    {
      "cell_type": "markdown",
      "metadata": {
        "id": "1NCGks54kp_n"
      },
      "source": [
        "# How much do you get for your savings ?"
      ]
    },
    {
      "cell_type": "markdown",
      "metadata": {
        "id": "75Xe4f7vksGZ"
      },
      "source": [
        "It is said that if Christopher Columbus had set aside €1 that he had left at 2% interest per year, today his heirs would no longer need to work to live their lives. Let's try to calculate the same thing for our savings. "
      ]
    },
    {
      "cell_type": "markdown",
      "metadata": {
        "id": "v4ugjwIakv2c"
      },
      "source": [
        "1. So let's create a function that will allow us to know how much money a user will have in total after a certain number of years.\n",
        "\n",
        "2. The user should be able to call the function which will then ask for:\n",
        "\n",
        "    1. The total amount he wishes to place\n",
        "    2. The number of years he wants to invest his money for\n",
        "    3. The rate of interest to which he is entitled\n",
        "    \n",
        "3. Pay attention to the errors that the user may enter.\n",
        "\n",
        "    4. If he enters a string of characters rather than a number, an error should be displayed.\n",
        "    5. If the user enters negative numbers, an error should also be output.\n",
        "    6. Finally, it is very likely that the user will write the interest rate as a percentage (e.g. 10%). Raise an error if this is the case, to prevent him from inputting a percentage.\n",
        "    \n",
        "4. Finally, the program should only show one number with a maximum of two digits after the decimal point.\n"
      ]
    },
    {
      "cell_type": "code",
      "execution_count": 16,
      "metadata": {
        "id": "cPj1pPA25bVX"
      },
      "outputs": [],
      "source": [
        "def savings():\n",
        "    try:\n",
        "        initial_amount = float(input(\"Give us the total amount you wish to invest : \\n\"))\n",
        "        print(initial_amount)\n",
        "        duration = float(input(\"How many years are you going to invest that money ? \\n\"))\n",
        "        print(duration)\n",
        "        interest_rate = float(input(\"At what rate would you like to see interest ?\\n \\\n",
        "              WARNING: You will have to put a decimal value \\n Ex: 10% --> 0.10 \\n\"))\n",
        "        print(interest_rate)\n",
        "    except ValueError:\n",
        "        # We enter this except only if the user types something other than numbers.\n",
        "        raise ValueError(\"Please enter only numbers !\") # makes it possible to explain the error\n",
        "    else:\n",
        "        # We enter this else if the user has typed numbers correctly.\n",
        "        # We're going to run successive tests to create the other errors\n",
        "        \n",
        "        if (initial_amount < 0) or (duration < 0) or (interest_rate < 0):\n",
        "            raise ValueError(\"You have entered one or more negative values. \\n \\\n",
        "            Please type only positive values !\")\n",
        "        \n",
        "        if interest_rate > 1:\n",
        "            raise ValueError(\"You have entered an interest rate greater than 1%. \\n \\\n",
        "            Please enter an interest rate as a decimal value !\")\n",
        "        \n",
        "        # The following code will be executed if no errors occurred upstream\n",
        "        total = initial_amount*(1+interest_rate)**(duration)\n",
        "        print(\"The total amount of money you will have after you deposit {:.2f} at the end of {} years will be {:.2f} €\"\n",
        "              .format(initial_amount, duration, total))\n",
        "        \n",
        "    "
      ]
    },
    {
      "cell_type": "code",
      "execution_count": 17,
      "metadata": {
        "id": "r7iNjxDQ5bVY",
        "outputId": "b6fd4227-ec50-4b3a-b2f4-0d9d25e888f9",
        "tags": []
      },
      "outputs": [
        {
          "ename": "ValueError",
          "evalue": "Please enter only numbers !",
          "output_type": "error",
          "traceback": [
            "\u001b[1;31m---------------------------------------------------------------------------\u001b[0m",
            "\u001b[1;31mValueError\u001b[0m                                Traceback (most recent call last)",
            "\u001b[1;32mc:\\Users\\Utilisateur\\Desktop\\TA\\corrections exercices FS\\M1 Python Programing\\D1 Catching up on Python\\03b_OPTIONAL_Calculate_interests_solutions.ipynb Cellule 5\u001b[0m in \u001b[0;36msavings\u001b[1;34m()\u001b[0m\n\u001b[0;32m      <a href='vscode-notebook-cell:/c%3A/Users/Utilisateur/Desktop/TA/corrections%20exercices%20FS/M1%20Python%20Programing/D1%20Catching%20up%20on%20Python/03b_OPTIONAL_Calculate_interests_solutions.ipynb#ch0000004?line=1'>2</a>\u001b[0m \u001b[39mtry\u001b[39;00m:\n\u001b[1;32m----> <a href='vscode-notebook-cell:/c%3A/Users/Utilisateur/Desktop/TA/corrections%20exercices%20FS/M1%20Python%20Programing/D1%20Catching%20up%20on%20Python/03b_OPTIONAL_Calculate_interests_solutions.ipynb#ch0000004?line=2'>3</a>\u001b[0m     initial_amount \u001b[39m=\u001b[39m \u001b[39mfloat\u001b[39;49m(\u001b[39minput\u001b[39;49m(\u001b[39m\"\u001b[39;49m\u001b[39mGive us the total amount you wish to invest : \u001b[39;49m\u001b[39m\\n\u001b[39;49;00m\u001b[39m\"\u001b[39;49m))\n\u001b[0;32m      <a href='vscode-notebook-cell:/c%3A/Users/Utilisateur/Desktop/TA/corrections%20exercices%20FS/M1%20Python%20Programing/D1%20Catching%20up%20on%20Python/03b_OPTIONAL_Calculate_interests_solutions.ipynb#ch0000004?line=3'>4</a>\u001b[0m     \u001b[39mprint\u001b[39m(initial_amount)\n",
            "\u001b[1;31mValueError\u001b[0m: could not convert string to float: 'jts'",
            "\nDuring handling of the above exception, another exception occurred:\n",
            "\u001b[1;31mValueError\u001b[0m                                Traceback (most recent call last)",
            "\u001b[1;32mc:\\Users\\Utilisateur\\Desktop\\TA\\corrections exercices FS\\M1 Python Programing\\D1 Catching up on Python\\03b_OPTIONAL_Calculate_interests_solutions.ipynb Cellule 5\u001b[0m in \u001b[0;36m<cell line: 1>\u001b[1;34m()\u001b[0m\n\u001b[1;32m----> <a href='vscode-notebook-cell:/c%3A/Users/Utilisateur/Desktop/TA/corrections%20exercices%20FS/M1%20Python%20Programing/D1%20Catching%20up%20on%20Python/03b_OPTIONAL_Calculate_interests_solutions.ipynb#ch0000004?line=0'>1</a>\u001b[0m savings()\n",
            "\u001b[1;32mc:\\Users\\Utilisateur\\Desktop\\TA\\corrections exercices FS\\M1 Python Programing\\D1 Catching up on Python\\03b_OPTIONAL_Calculate_interests_solutions.ipynb Cellule 5\u001b[0m in \u001b[0;36msavings\u001b[1;34m()\u001b[0m\n\u001b[0;32m      <a href='vscode-notebook-cell:/c%3A/Users/Utilisateur/Desktop/TA/corrections%20exercices%20FS/M1%20Python%20Programing/D1%20Catching%20up%20on%20Python/03b_OPTIONAL_Calculate_interests_solutions.ipynb#ch0000004?line=8'>9</a>\u001b[0m     \u001b[39mprint\u001b[39m(interest_rate)\n\u001b[0;32m     <a href='vscode-notebook-cell:/c%3A/Users/Utilisateur/Desktop/TA/corrections%20exercices%20FS/M1%20Python%20Programing/D1%20Catching%20up%20on%20Python/03b_OPTIONAL_Calculate_interests_solutions.ipynb#ch0000004?line=9'>10</a>\u001b[0m \u001b[39mexcept\u001b[39;00m \u001b[39mValueError\u001b[39;00m:\n\u001b[0;32m     <a href='vscode-notebook-cell:/c%3A/Users/Utilisateur/Desktop/TA/corrections%20exercices%20FS/M1%20Python%20Programing/D1%20Catching%20up%20on%20Python/03b_OPTIONAL_Calculate_interests_solutions.ipynb#ch0000004?line=10'>11</a>\u001b[0m     \u001b[39m# We enter this except only if the user types something other than numbers.\u001b[39;00m\n\u001b[1;32m---> <a href='vscode-notebook-cell:/c%3A/Users/Utilisateur/Desktop/TA/corrections%20exercices%20FS/M1%20Python%20Programing/D1%20Catching%20up%20on%20Python/03b_OPTIONAL_Calculate_interests_solutions.ipynb#ch0000004?line=11'>12</a>\u001b[0m     \u001b[39mraise\u001b[39;00m \u001b[39mValueError\u001b[39;00m(\u001b[39m\"\u001b[39m\u001b[39mPlease enter only numbers !\u001b[39m\u001b[39m\"\u001b[39m) \u001b[39m# makes it possible to explain the error\u001b[39;00m\n\u001b[0;32m     <a href='vscode-notebook-cell:/c%3A/Users/Utilisateur/Desktop/TA/corrections%20exercices%20FS/M1%20Python%20Programing/D1%20Catching%20up%20on%20Python/03b_OPTIONAL_Calculate_interests_solutions.ipynb#ch0000004?line=12'>13</a>\u001b[0m \u001b[39melse\u001b[39;00m:\n\u001b[0;32m     <a href='vscode-notebook-cell:/c%3A/Users/Utilisateur/Desktop/TA/corrections%20exercices%20FS/M1%20Python%20Programing/D1%20Catching%20up%20on%20Python/03b_OPTIONAL_Calculate_interests_solutions.ipynb#ch0000004?line=13'>14</a>\u001b[0m     \u001b[39m# We enter this else if the user has typed numbers correctly.\u001b[39;00m\n\u001b[0;32m     <a href='vscode-notebook-cell:/c%3A/Users/Utilisateur/Desktop/TA/corrections%20exercices%20FS/M1%20Python%20Programing/D1%20Catching%20up%20on%20Python/03b_OPTIONAL_Calculate_interests_solutions.ipynb#ch0000004?line=14'>15</a>\u001b[0m     \u001b[39m# We're going to run successive tests to create the other errors\u001b[39;00m\n\u001b[0;32m     <a href='vscode-notebook-cell:/c%3A/Users/Utilisateur/Desktop/TA/corrections%20exercices%20FS/M1%20Python%20Programing/D1%20Catching%20up%20on%20Python/03b_OPTIONAL_Calculate_interests_solutions.ipynb#ch0000004?line=16'>17</a>\u001b[0m     \u001b[39mif\u001b[39;00m (initial_amount \u001b[39m<\u001b[39m \u001b[39m0\u001b[39m) \u001b[39mor\u001b[39;00m (duration \u001b[39m<\u001b[39m \u001b[39m0\u001b[39m) \u001b[39mor\u001b[39;00m (interest_rate \u001b[39m<\u001b[39m \u001b[39m0\u001b[39m):\n",
            "\u001b[1;31mValueError\u001b[0m: Please enter only numbers !"
          ]
        }
      ],
      "source": [
        "savings()"
      ]
    },
    {
      "cell_type": "code",
      "execution_count": null,
      "metadata": {},
      "outputs": [],
      "source": [
        "def invest(amount, years, rate):\n",
        "    try:\n",
        "        print(\"invest amount: €{}\".format(amount))\n",
        "    except TypeError:\n",
        "        print(\"Enter correct values\")\n",
        "    except ValueError:\n",
        "        print(\"Enter correct values\")\n",
        "        print(\"number of years: {}\".format(years))\n",
        "        print(\"annual rate of return: {}\".format(rate))\n",
        "\n",
        "    for i in range(1, years+1):\n",
        "        amount = amount * (1 + rate)\n",
        "        print(\"year {}: €{}\".format(i, amount))\n",
        "        \n",
        "invest(\"1000\", 10, 0.1)"
      ]
    },
    {
      "cell_type": "code",
      "execution_count": 18,
      "metadata": {},
      "outputs": [
        {
          "name": "stdout",
          "output_type": "stream",
          "text": [
            "invest amount: €1000\n",
            "number of years: 10\n",
            "annual rate of return: 0.1\n"
          ]
        },
        {
          "ename": "TypeError",
          "evalue": "'<' not supported between instances of 'str' and 'int'",
          "output_type": "error",
          "traceback": [
            "\u001b[1;31m---------------------------------------------------------------------------\u001b[0m",
            "\u001b[1;31mTypeError\u001b[0m                                 Traceback (most recent call last)",
            "\u001b[1;32mc:\\Users\\Utilisateur\\Desktop\\TA\\corrections exercices FS\\M1 Python Programing\\D1 Catching up on Python\\03b_OPTIONAL_Calculate_interests_solutions.ipynb Cellule 7\u001b[0m in \u001b[0;36m<cell line: 24>\u001b[1;34m()\u001b[0m\n\u001b[0;32m     <a href='vscode-notebook-cell:/c%3A/Users/Utilisateur/Desktop/TA/corrections%20exercices%20FS/M1%20Python%20Programing/D1%20Catching%20up%20on%20Python/03b_OPTIONAL_Calculate_interests_solutions.ipynb#ch0000005?line=19'>20</a>\u001b[0m         total \u001b[39m=\u001b[39m amount\u001b[39m*\u001b[39m(\u001b[39m1\u001b[39m\u001b[39m+\u001b[39mrate)\u001b[39m*\u001b[39m\u001b[39m*\u001b[39m(years)\n\u001b[0;32m     <a href='vscode-notebook-cell:/c%3A/Users/Utilisateur/Desktop/TA/corrections%20exercices%20FS/M1%20Python%20Programing/D1%20Catching%20up%20on%20Python/03b_OPTIONAL_Calculate_interests_solutions.ipynb#ch0000005?line=20'>21</a>\u001b[0m         \u001b[39mprint\u001b[39m(\u001b[39m\"\u001b[39m\u001b[39mThe total amount of money you will have after you deposit \u001b[39m\u001b[39m{:.2f}\u001b[39;00m\u001b[39m at the end of \u001b[39m\u001b[39m{}\u001b[39;00m\u001b[39m years will be \u001b[39m\u001b[39m{:.2f}\u001b[39;00m\u001b[39m €\u001b[39m\u001b[39m\"\u001b[39m\n\u001b[0;32m     <a href='vscode-notebook-cell:/c%3A/Users/Utilisateur/Desktop/TA/corrections%20exercices%20FS/M1%20Python%20Programing/D1%20Catching%20up%20on%20Python/03b_OPTIONAL_Calculate_interests_solutions.ipynb#ch0000005?line=21'>22</a>\u001b[0m               \u001b[39m.\u001b[39mformat(amount, years, total))\n\u001b[1;32m---> <a href='vscode-notebook-cell:/c%3A/Users/Utilisateur/Desktop/TA/corrections%20exercices%20FS/M1%20Python%20Programing/D1%20Catching%20up%20on%20Python/03b_OPTIONAL_Calculate_interests_solutions.ipynb#ch0000005?line=23'>24</a>\u001b[0m invest(\u001b[39m\"\u001b[39;49m\u001b[39m1000\u001b[39;49m\u001b[39m\"\u001b[39;49m, \u001b[39m10\u001b[39;49m, \u001b[39m0.1\u001b[39;49m)\n",
            "\u001b[1;32mc:\\Users\\Utilisateur\\Desktop\\TA\\corrections exercices FS\\M1 Python Programing\\D1 Catching up on Python\\03b_OPTIONAL_Calculate_interests_solutions.ipynb Cellule 7\u001b[0m in \u001b[0;36minvest\u001b[1;34m(amount, years, rate)\u001b[0m\n\u001b[0;32m      <a href='vscode-notebook-cell:/c%3A/Users/Utilisateur/Desktop/TA/corrections%20exercices%20FS/M1%20Python%20Programing/D1%20Catching%20up%20on%20Python/03b_OPTIONAL_Calculate_interests_solutions.ipynb#ch0000005?line=8'>9</a>\u001b[0m     \u001b[39mraise\u001b[39;00m \u001b[39mTypeError\u001b[39;00m (\u001b[39m\"\u001b[39m\u001b[39mEnter correct values\u001b[39m\u001b[39m\"\u001b[39m)\n\u001b[0;32m     <a href='vscode-notebook-cell:/c%3A/Users/Utilisateur/Desktop/TA/corrections%20exercices%20FS/M1%20Python%20Programing/D1%20Catching%20up%20on%20Python/03b_OPTIONAL_Calculate_interests_solutions.ipynb#ch0000005?line=9'>10</a>\u001b[0m \u001b[39melse\u001b[39;00m:  \n\u001b[1;32m---> <a href='vscode-notebook-cell:/c%3A/Users/Utilisateur/Desktop/TA/corrections%20exercices%20FS/M1%20Python%20Programing/D1%20Catching%20up%20on%20Python/03b_OPTIONAL_Calculate_interests_solutions.ipynb#ch0000005?line=10'>11</a>\u001b[0m     \u001b[39mif\u001b[39;00m (amount \u001b[39m<\u001b[39;49m \u001b[39m0\u001b[39;49m) \u001b[39mor\u001b[39;00m (years \u001b[39m<\u001b[39m \u001b[39m0\u001b[39m) \u001b[39mor\u001b[39;00m (rate \u001b[39m<\u001b[39m \u001b[39m0\u001b[39m):\n\u001b[0;32m     <a href='vscode-notebook-cell:/c%3A/Users/Utilisateur/Desktop/TA/corrections%20exercices%20FS/M1%20Python%20Programing/D1%20Catching%20up%20on%20Python/03b_OPTIONAL_Calculate_interests_solutions.ipynb#ch0000005?line=11'>12</a>\u001b[0m         \u001b[39mraise\u001b[39;00m \u001b[39mValueError\u001b[39;00m(\u001b[39m\"\u001b[39m\u001b[39mYou have entered one or more negative values. \u001b[39m\u001b[39m\\n\u001b[39;00m\u001b[39m \u001b[39m\u001b[39m\\\u001b[39;00m\n\u001b[0;32m     <a href='vscode-notebook-cell:/c%3A/Users/Utilisateur/Desktop/TA/corrections%20exercices%20FS/M1%20Python%20Programing/D1%20Catching%20up%20on%20Python/03b_OPTIONAL_Calculate_interests_solutions.ipynb#ch0000005?line=12'>13</a>\u001b[0m \u001b[39m        Please type only positive values !\u001b[39m\u001b[39m\"\u001b[39m)\n\u001b[0;32m     <a href='vscode-notebook-cell:/c%3A/Users/Utilisateur/Desktop/TA/corrections%20exercices%20FS/M1%20Python%20Programing/D1%20Catching%20up%20on%20Python/03b_OPTIONAL_Calculate_interests_solutions.ipynb#ch0000005?line=14'>15</a>\u001b[0m     \u001b[39mif\u001b[39;00m rate \u001b[39m>\u001b[39m \u001b[39m1\u001b[39m:\n",
            "\u001b[1;31mTypeError\u001b[0m: '<' not supported between instances of 'str' and 'int'"
          ]
        }
      ],
      "source": [
        "def invest(amount, years, rate):\n",
        "    try:\n",
        "        print(\"invest amount: €{}\".format(amount))\n",
        "        print(\"number of years: {}\".format(years))\n",
        "        print(\"annual rate of return: {}\".format(rate))\n",
        "    except ValueError:\n",
        "        raise ValueError (\"Enter correct values\")\n",
        "    except TypeError:\n",
        "        raise TypeError (\"Enter correct values\")\n",
        "    else:  \n",
        "        if (amount < 0) or (years < 0) or (rate < 0):\n",
        "            raise ValueError(\"You have entered one or more negative values. \\n \\\n",
        "            Please type only positive values !\")\n",
        "        \n",
        "        if rate > 1:\n",
        "            raise ValueError(\"You have entered an interest rate greater than 1%. \\n \\\n",
        "            Please enter an interest rate as a decimal value !\")\n",
        "        \n",
        "        # The following code will be executed if no errors occurred upstream\n",
        "        total = amount*(1+rate)**(years)\n",
        "        print(\"The total amount of money you will have after you deposit {:.2f} at the end of {} years will be {:.2f} €\"\n",
        "              .format(amount, years, total))\n",
        "        \n",
        "invest(\"1000\", 10, 0.1)"
      ]
    },
    {
      "cell_type": "code",
      "execution_count": 19,
      "metadata": {},
      "outputs": [],
      "source": [
        "def money_saved_2(interest, nominalValue, numYear):\n",
        "    try:         \n",
        "        nominalValue*(1+interest/100)**numYear         \n",
        "        if (interest < 0) or (nominalValue < 0) or (numYear < 0):\n",
        "            raise ValueError()      \n",
        "        elif not type(interest) is int:        \n",
        "            raise TypeError(\"Only integers are allowed\")  \n",
        "    except ValueError:   \n",
        "        print('Please recall the function and only give positive numbers.')   \n",
        "    except TypeError:       \n",
        "        print('Please enter an integer')"
      ]
    },
    {
      "cell_type": "code",
      "execution_count": null,
      "metadata": {},
      "outputs": [],
      "source": [
        "money_saved_2\n",
        ")"
      ]
    }
  ],
  "metadata": {
    "colab": {
      "collapsed_sections": [],
      "provenance": []
    },
    "kernelspec": {
      "display_name": "Python 3.10.4 64-bit",
      "language": "python",
      "name": "python3"
    },
    "language_info": {
      "codemirror_mode": {
        "name": "ipython",
        "version": 3
      },
      "file_extension": ".py",
      "mimetype": "text/x-python",
      "name": "python",
      "nbconvert_exporter": "python",
      "pygments_lexer": "ipython3",
      "version": "3.10.4"
    },
    "vscode": {
      "interpreter": {
        "hash": "a3d0e8e0c817ae3c7f78f66b04bafeb63523a0a50e6405ec1b074461715681e4"
      }
    }
  },
  "nbformat": 4,
  "nbformat_minor": 0
}
