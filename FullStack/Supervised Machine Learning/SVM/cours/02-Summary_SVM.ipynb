{
 "cells": [
  {
   "cell_type": "markdown",
   "metadata": {},
   "source": [
    "## Support Vector Machine\n",
    "\n",
    "\n",
    "### The essentials\n",
    "\n",
    "\n",
    "## General principle\n",
    "\n",
    "SVMs are models adapted to classification problems. They seek to construct the furthest possible boundary between the observations belonging to the different classes. The observations closest to this boundary are called support vectors. It is only on the basis of these support vectors that the model is built, i.e. the observations that are the most difficult to classify.\n",
    "\n",
    "There is a penalty parameter which controls the extent to which the model will allow certain prediction errors on the train sample. This penalty parameter aims at controlling the bias/variance trade-off of the model.\n",
    "\n",
    "\n",
    "## Advantages\n",
    "\n",
    "SVMs are often considered among the best models in terms of prediction performance. They naturally have a low bias and a high variance, and take into account the interactions between variables, allowing them to achieve high performance in the presence of many observations.\n",
    "\n",
    "They are also well adapted to situations with many explanatory variables.\n",
    "\n",
    "\n",
    "## Disadvantages\n",
    "\n",
    "It is difficult in practice to anticipate which kernel to use to get the best performance from an SVM. The best method is to test them and compare their performance by cross validation.\n"
   ]
  },
  {
   "cell_type": "code",
   "execution_count": null,
   "metadata": {},
   "outputs": [],
   "source": []
  }
 ],
 "metadata": {
  "language_info": {
   "codemirror_mode": {
    "name": "ipython",
    "version": 3
   },
   "file_extension": ".py",
   "mimetype": "text/x-python",
   "name": "python",
   "nbconvert_exporter": "python",
   "pygments_lexer": "ipython3",
   "version": 3
  },
  "orig_nbformat": 2
 },
 "nbformat": 4,
 "nbformat_minor": 2
}