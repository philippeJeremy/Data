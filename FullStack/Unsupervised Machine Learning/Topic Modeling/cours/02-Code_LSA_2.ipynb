{
 "cells": [
  {
   "cell_type": "markdown",
   "metadata": {},
   "source": [
    "# LSA - Code"
   ]
  },
  {
   "cell_type": "markdown",
   "metadata": {},
   "source": [
    "## Building the Term / Document matrix\n",
    "LSA is a natural language processing method, it helps analysing a corpus of texts. A corpus of text is simply a collection of texts, to understand what follows we introduce a few terms :\n",
    "* *Corpus :* the collection of texts to be analysed\n",
    "* *Document :* how we will call a text in the corpus\n",
    "* *Term :* how we will call individual words in the corpus\n",
    "\n",
    "The object we need to build in order to run the LSA model is a term-document matrix, it is a matrix which rows represent all the words present in the corpus, the columns represent each document in the corpus, and the values contained in the matrix indicate a certain metric that quantifies the link between a given term with a given document. For example this metric may be the number of times that the term appears in a document. More commonly the metric that is used to build the term/document matrix is the term frequency inverse document frequency introduced in the first lecture (TfIdf) because of its ability to more accurately represent the relevance of each term in each document.\n",
    "\n",
    "Let's create a toy example of corpus and walk you through the steps of building the term document matrix :"
   ]
  },
  {
   "cell_type": "code",
   "execution_count": 29,
   "metadata": {},
   "outputs": [],
   "source": [
    "# Install spacy quietly\n",
    "!pip install spacy -q"
   ]
  },
  {
   "cell_type": "code",
   "execution_count": 82,
   "metadata": {},
   "outputs": [
    {
     "data": {
      "text/html": [
       "<div>\n",
       "<style scoped>\n",
       "    .dataframe tbody tr th:only-of-type {\n",
       "        vertical-align: middle;\n",
       "    }\n",
       "\n",
       "    .dataframe tbody tr th {\n",
       "        vertical-align: top;\n",
       "    }\n",
       "\n",
       "    .dataframe thead th {\n",
       "        text-align: right;\n",
       "    }\n",
       "</style>\n",
       "<table border=\"1\" class=\"dataframe\">\n",
       "  <thead>\n",
       "    <tr style=\"text-align: right;\">\n",
       "      <th></th>\n",
       "      <th>documents</th>\n",
       "    </tr>\n",
       "  </thead>\n",
       "  <tbody>\n",
       "    <tr>\n",
       "      <th>0</th>\n",
       "      <td>He is a good dog.</td>\n",
       "    </tr>\n",
       "    <tr>\n",
       "      <th>1</th>\n",
       "      <td>The dog is too lazy.</td>\n",
       "    </tr>\n",
       "    <tr>\n",
       "      <th>2</th>\n",
       "      <td>That is a brown cat.</td>\n",
       "    </tr>\n",
       "    <tr>\n",
       "      <th>3</th>\n",
       "      <td>Cats are very active.</td>\n",
       "    </tr>\n",
       "    <tr>\n",
       "      <th>4</th>\n",
       "      <td>I have brown cat and dog.</td>\n",
       "    </tr>\n",
       "  </tbody>\n",
       "</table>\n",
       "</div>"
      ],
      "text/plain": [
       "                   documents\n",
       "0          He is a good dog.\n",
       "1       The dog is too lazy.\n",
       "2       That is a brown cat.\n",
       "3      Cats are very active.\n",
       "4  I have brown cat and dog."
      ]
     },
     "execution_count": 82,
     "metadata": {},
     "output_type": "execute_result"
    }
   ],
   "source": [
    "# Import libraries\n",
    "import pandas as pd\n",
    "from sklearn.feature_extraction.text import TfidfVectorizer\n",
    "import spacy\n",
    "\n",
    "# TruncatedSVD from sklearn\n",
    "from sklearn.decomposition import TruncatedSVD\n",
    "import seaborn as sns\n",
    "\n",
    "# List of documents\n",
    "a1 = \"He is a good dog.\"\n",
    "a2 = \"The dog is too lazy.\"\n",
    "a3 = \"That is a brown cat.\"\n",
    "a4 = \"Cats are very active.\"\n",
    "a5 = \"I have brown cat and dog.\"\n",
    "\n",
    "df = pd.DataFrame()\n",
    "df[\"documents\"] = [a1,a2,a3,a4,a5]\n",
    "df"
   ]
  },
  {
   "cell_type": "markdown",
   "metadata": {},
   "source": [
    "We are now going to run simple preprocessing on this simple corpus to make it suitable for our model :\n",
    "* remove all special characters \n",
    "* convert all characters to lowercase"
   ]
  },
  {
   "cell_type": "code",
   "execution_count": 83,
   "metadata": {},
   "outputs": [
    {
     "name": "stdout",
     "output_type": "stream",
     "text": [
      "\u001b[38;5;3m⚠ As of spaCy v3.0, shortcuts like 'en' are deprecated. Please use the\n",
      "full pipeline package name 'en_core_web_sm' instead.\u001b[0m\n",
      "\u001b[38;5;2m✔ Download and installation successful\u001b[0m\n",
      "You can now load the package via spacy.load('en_core_web_sm')\n"
     ]
    }
   ],
   "source": [
    "!python -m spacy download en -q"
   ]
  },
  {
   "cell_type": "code",
   "execution_count": 84,
   "metadata": {},
   "outputs": [],
   "source": [
    "# Importing english\n",
    "import en_core_web_sm\n",
    "nlp = en_core_web_sm.load()"
   ]
  },
  {
   "cell_type": "code",
   "execution_count": 85,
   "metadata": {},
   "outputs": [
    {
     "data": {
      "text/plain": [
       "0            He is a good dog.\n",
       "1         The dog is too lazy.\n",
       "2         That is a brown cat.\n",
       "3        Cats are very active.\n",
       "4    I have brown cat and dog.\n",
       "Name: documents, dtype: object"
      ]
     },
     "execution_count": 85,
     "metadata": {},
     "output_type": "execute_result"
    }
   ],
   "source": [
    "df[\"documents\"]"
   ]
  },
  {
   "cell_type": "code",
   "execution_count": 86,
   "metadata": {},
   "outputs": [
    {
     "name": "stderr",
     "output_type": "stream",
     "text": [
      "/tmp/ipykernel_264/393400321.py:1: FutureWarning: The default value of regex will change from True to False in a future version.\n",
      "  df[\"clean_documents\"] = df['documents'].str.replace(r\"[^A-Za-z0-9 ]+\", \" \").str.lower()\n"
     ]
    }
   ],
   "source": [
    "df[\"clean_documents\"] = df['documents'].str.replace(r\"[^A-Za-z0-9 ]+\", \" \").str.lower()"
   ]
  },
  {
   "cell_type": "code",
   "execution_count": 87,
   "metadata": {},
   "outputs": [
    {
     "data": {
      "text/plain": [
       "0            he is a good dog \n",
       "1         the dog is too lazy \n",
       "2         that is a brown cat \n",
       "3        cats are very active \n",
       "4    i have brown cat and dog \n",
       "Name: clean_documents, dtype: object"
      ]
     },
     "execution_count": 87,
     "metadata": {},
     "output_type": "execute_result"
    }
   ],
   "source": [
    "df[\"clean_documents\"]"
   ]
  },
  {
   "cell_type": "code",
   "execution_count": 4,
   "metadata": {},
   "outputs": [
    {
     "name": "stderr",
     "output_type": "stream",
     "text": [
      "/tmp/ipykernel_264/1301241186.py:1: FutureWarning: The default value of regex will change from True to False in a future version.\n",
      "  df['clean_documents'] = df['documents'].str.replace(r\"[^A-Za-z0-9 ]+\", \" \").str.lower()\n"
     ]
    }
   ],
   "source": [
    "df['clean_documents'] = df['documents'].str.replace(r\"[^A-Za-z0-9 ]+\", \" \").str.lower()"
   ]
  },
  {
   "cell_type": "code",
   "execution_count": 5,
   "metadata": {},
   "outputs": [],
   "source": [
    "# Preprocessing\n",
    "#df['clean_documents'] = df['documents'].str.replace(r\"[^A-Za-z0-9 ]+\", \" \")\n",
    "#df['clean_documents'] = df['clean_documents'].apply(lambda x: x.lower())\n",
    "#df"
   ]
  },
  {
   "cell_type": "markdown",
   "metadata": {},
   "source": [
    "Now that the text has been preprocessed, we will proceed to tokenization, which is the process of isolating each word in each document as a token, this will be a good opportunity to remove stop words tokens."
   ]
  },
  {
   "cell_type": "code",
   "execution_count": 38,
   "metadata": {},
   "outputs": [
    {
     "data": {
      "text/html": [
       "<div>\n",
       "<style scoped>\n",
       "    .dataframe tbody tr th:only-of-type {\n",
       "        vertical-align: middle;\n",
       "    }\n",
       "\n",
       "    .dataframe tbody tr th {\n",
       "        vertical-align: top;\n",
       "    }\n",
       "\n",
       "    .dataframe thead th {\n",
       "        text-align: right;\n",
       "    }\n",
       "</style>\n",
       "<table border=\"1\" class=\"dataframe\">\n",
       "  <thead>\n",
       "    <tr style=\"text-align: right;\">\n",
       "      <th></th>\n",
       "      <th>documents</th>\n",
       "      <th>clean_documents</th>\n",
       "    </tr>\n",
       "  </thead>\n",
       "  <tbody>\n",
       "    <tr>\n",
       "      <th>0</th>\n",
       "      <td>He is a good dog.</td>\n",
       "      <td>he is a good dog</td>\n",
       "    </tr>\n",
       "    <tr>\n",
       "      <th>1</th>\n",
       "      <td>The dog is too lazy.</td>\n",
       "      <td>the dog is too lazy</td>\n",
       "    </tr>\n",
       "    <tr>\n",
       "      <th>2</th>\n",
       "      <td>That is a brown cat.</td>\n",
       "      <td>that is a brown cat</td>\n",
       "    </tr>\n",
       "    <tr>\n",
       "      <th>3</th>\n",
       "      <td>Cats are very active.</td>\n",
       "      <td>cats are very active</td>\n",
       "    </tr>\n",
       "    <tr>\n",
       "      <th>4</th>\n",
       "      <td>I have brown cat and dog.</td>\n",
       "      <td>i have brown cat and dog</td>\n",
       "    </tr>\n",
       "  </tbody>\n",
       "</table>\n",
       "</div>"
      ],
      "text/plain": [
       "                   documents            clean_documents\n",
       "0          He is a good dog.          he is a good dog \n",
       "1       The dog is too lazy.       the dog is too lazy \n",
       "2       That is a brown cat.       that is a brown cat \n",
       "3      Cats are very active.      cats are very active \n",
       "4  I have brown cat and dog.  i have brown cat and dog "
      ]
     },
     "execution_count": 38,
     "metadata": {},
     "output_type": "execute_result"
    }
   ],
   "source": [
    "df"
   ]
  },
  {
   "cell_type": "code",
   "execution_count": 41,
   "metadata": {},
   "outputs": [
    {
     "name": "stdout",
     "output_type": "stream",
     "text": [
      "good\n",
      "dog\n"
     ]
    }
   ],
   "source": [
    "for token in nlp(df.loc[0][\"clean_documents\"]):\n",
    "    if token.lemma_ not in STOP_WORDS:\n",
    "        print(token.lemma_)"
   ]
  },
  {
   "cell_type": "code",
   "execution_count": 88,
   "metadata": {},
   "outputs": [],
   "source": [
    "def process_text(x):\n",
    "    spacied = nlp(x)\n",
    "    new_sentence = []\n",
    "    for token in spacied:\n",
    "        if token.lemma_.lower() not in STOP_WORDS:\n",
    "            new_sentence.append(token.lemma_.lower())\n",
    "    return  \" \".join(new_sentence)        \n",
    "\n",
    "df[\"processed_documents\"] = df[\"clean_documents\"].apply(process_text)"
   ]
  },
  {
   "cell_type": "code",
   "execution_count": 90,
   "metadata": {},
   "outputs": [
    {
     "data": {
      "text/plain": [
       "0         good dog\n",
       "1         dog lazy\n",
       "2        brown cat\n",
       "3       cat active\n",
       "4    brown cat dog\n",
       "Name: clean_documents, dtype: object"
      ]
     },
     "execution_count": 90,
     "metadata": {},
     "output_type": "execute_result"
    }
   ],
   "source": [
    "df[\"clean_documents\"].apply(process_text)"
   ]
  },
  {
   "cell_type": "code",
   "execution_count": 91,
   "metadata": {
    "tags": []
   },
   "outputs": [
    {
     "data": {
      "text/plain": [
       "0          [good, dog]\n",
       "1          [dog, lazy]\n",
       "2         [brown, cat]\n",
       "3        [cat, active]\n",
       "4    [brown, cat, dog]\n",
       "Name: clean_documents, dtype: object"
      ]
     },
     "execution_count": 91,
     "metadata": {},
     "output_type": "execute_result"
    }
   ],
   "source": [
    "from spacy.lang.en.stop_words import STOP_WORDS\n",
    "\n",
    "tokenized_doc = df['clean_documents'].apply(lambda x: nlp(x))\n",
    "\n",
    "tokenized_doc = tokenized_doc.apply(lambda x: [token.lemma_ for token in x if token.text not in STOP_WORDS])\n",
    "tokenized_doc"
   ]
  },
  {
   "cell_type": "markdown",
   "metadata": {},
   "source": [
    "Now that all our documents have been tokenized and cleaned, it is time to create ou term-document matrix giving the tf-idf for each term in each document. But first we have to re inject the cleaned documents in the DataFrame."
   ]
  },
  {
   "cell_type": "code",
   "execution_count": 7,
   "metadata": {},
   "outputs": [
    {
     "data": {
      "text/html": [
       "<div>\n",
       "<style scoped>\n",
       "    .dataframe tbody tr th:only-of-type {\n",
       "        vertical-align: middle;\n",
       "    }\n",
       "\n",
       "    .dataframe tbody tr th {\n",
       "        vertical-align: top;\n",
       "    }\n",
       "\n",
       "    .dataframe thead th {\n",
       "        text-align: right;\n",
       "    }\n",
       "</style>\n",
       "<table border=\"1\" class=\"dataframe\">\n",
       "  <thead>\n",
       "    <tr style=\"text-align: right;\">\n",
       "      <th></th>\n",
       "      <th>documents</th>\n",
       "      <th>clean_documents</th>\n",
       "    </tr>\n",
       "  </thead>\n",
       "  <tbody>\n",
       "    <tr>\n",
       "      <th>0</th>\n",
       "      <td>He is a good dog.</td>\n",
       "      <td>good dog</td>\n",
       "    </tr>\n",
       "    <tr>\n",
       "      <th>1</th>\n",
       "      <td>The dog is too lazy.</td>\n",
       "      <td>dog lazy</td>\n",
       "    </tr>\n",
       "    <tr>\n",
       "      <th>2</th>\n",
       "      <td>That is a brown cat.</td>\n",
       "      <td>brown cat</td>\n",
       "    </tr>\n",
       "    <tr>\n",
       "      <th>3</th>\n",
       "      <td>Cats are very active.</td>\n",
       "      <td>cat active</td>\n",
       "    </tr>\n",
       "    <tr>\n",
       "      <th>4</th>\n",
       "      <td>I have brown cat and dog.</td>\n",
       "      <td>brown cat dog</td>\n",
       "    </tr>\n",
       "  </tbody>\n",
       "</table>\n",
       "</div>"
      ],
      "text/plain": [
       "                   documents clean_documents\n",
       "0          He is a good dog.        good dog\n",
       "1       The dog is too lazy.        dog lazy\n",
       "2       That is a brown cat.       brown cat\n",
       "3      Cats are very active.      cat active\n",
       "4  I have brown cat and dog.   brown cat dog"
      ]
     },
     "execution_count": 7,
     "metadata": {},
     "output_type": "execute_result"
    }
   ],
   "source": [
    "df[\"clean_documents\"] = tokenized_doc.apply(lambda x: ' '.join(x))\n",
    "df"
   ]
  },
  {
   "cell_type": "code",
   "execution_count": 92,
   "metadata": {},
   "outputs": [
    {
     "data": {
      "text/plain": [
       "0         good dog\n",
       "1         dog lazy\n",
       "2        brown cat\n",
       "3       cat active\n",
       "4    brown cat dog\n",
       "Name: processed_documents, dtype: object"
      ]
     },
     "execution_count": 92,
     "metadata": {},
     "output_type": "execute_result"
    }
   ],
   "source": [
    "df[\"processed_documents\"]"
   ]
  },
  {
   "cell_type": "code",
   "execution_count": 93,
   "metadata": {},
   "outputs": [],
   "source": [
    "vectorizer = TfidfVectorizer()\n",
    "X = vectorizer.fit_transform(df['processed_documents'])"
   ]
  },
  {
   "cell_type": "code",
   "execution_count": 52,
   "metadata": {},
   "outputs": [
    {
     "data": {
      "text/plain": [
       "<5x6 sparse matrix of type '<class 'numpy.float64'>'\n",
       "\twith 11 stored elements in Compressed Sparse Row format>"
      ]
     },
     "execution_count": 52,
     "metadata": {},
     "output_type": "execute_result"
    }
   ],
   "source": [
    "X"
   ]
  },
  {
   "cell_type": "code",
   "execution_count": 54,
   "metadata": {},
   "outputs": [
    {
     "data": {
      "text/html": [
       "<div>\n",
       "<style scoped>\n",
       "    .dataframe tbody tr th:only-of-type {\n",
       "        vertical-align: middle;\n",
       "    }\n",
       "\n",
       "    .dataframe tbody tr th {\n",
       "        vertical-align: top;\n",
       "    }\n",
       "\n",
       "    .dataframe thead th {\n",
       "        text-align: right;\n",
       "    }\n",
       "</style>\n",
       "<table border=\"1\" class=\"dataframe\">\n",
       "  <thead>\n",
       "    <tr style=\"text-align: right;\">\n",
       "      <th></th>\n",
       "      <th>active</th>\n",
       "      <th>brown</th>\n",
       "      <th>cat</th>\n",
       "      <th>dog</th>\n",
       "      <th>good</th>\n",
       "      <th>lazy</th>\n",
       "    </tr>\n",
       "  </thead>\n",
       "  <tbody>\n",
       "    <tr>\n",
       "      <th>0</th>\n",
       "      <td>0.000000</td>\n",
       "      <td>0.000000</td>\n",
       "      <td>0.000000</td>\n",
       "      <td>0.556451</td>\n",
       "      <td>0.830881</td>\n",
       "      <td>0.000000</td>\n",
       "    </tr>\n",
       "    <tr>\n",
       "      <th>1</th>\n",
       "      <td>0.000000</td>\n",
       "      <td>0.000000</td>\n",
       "      <td>0.000000</td>\n",
       "      <td>0.556451</td>\n",
       "      <td>0.000000</td>\n",
       "      <td>0.830881</td>\n",
       "    </tr>\n",
       "    <tr>\n",
       "      <th>2</th>\n",
       "      <td>0.000000</td>\n",
       "      <td>0.769447</td>\n",
       "      <td>0.638711</td>\n",
       "      <td>0.000000</td>\n",
       "      <td>0.000000</td>\n",
       "      <td>0.000000</td>\n",
       "    </tr>\n",
       "    <tr>\n",
       "      <th>3</th>\n",
       "      <td>0.830881</td>\n",
       "      <td>0.000000</td>\n",
       "      <td>0.556451</td>\n",
       "      <td>0.000000</td>\n",
       "      <td>0.000000</td>\n",
       "      <td>0.000000</td>\n",
       "    </tr>\n",
       "    <tr>\n",
       "      <th>4</th>\n",
       "      <td>0.000000</td>\n",
       "      <td>0.648463</td>\n",
       "      <td>0.538283</td>\n",
       "      <td>0.538283</td>\n",
       "      <td>0.000000</td>\n",
       "      <td>0.000000</td>\n",
       "    </tr>\n",
       "  </tbody>\n",
       "</table>\n",
       "</div>"
      ],
      "text/plain": [
       "     active     brown       cat       dog      good      lazy\n",
       "0  0.000000  0.000000  0.000000  0.556451  0.830881  0.000000\n",
       "1  0.000000  0.000000  0.000000  0.556451  0.000000  0.830881\n",
       "2  0.000000  0.769447  0.638711  0.000000  0.000000  0.000000\n",
       "3  0.830881  0.000000  0.556451  0.000000  0.000000  0.000000\n",
       "4  0.000000  0.648463  0.538283  0.538283  0.000000  0.000000"
      ]
     },
     "execution_count": 54,
     "metadata": {},
     "output_type": "execute_result"
    }
   ],
   "source": [
    "pd.DataFrame(X.toarray(), columns=vectorizer.get_feature_names_out())"
   ]
  },
  {
   "cell_type": "markdown",
   "metadata": {},
   "source": [
    "Note that the obtained object is a sparse matrix. This format is often used when dealing with matrices with a very high number of elements equal to zero to save memory space and accelerate computation. The only drawback is that sparse object cannot be visualized."
   ]
  },
  {
   "cell_type": "markdown",
   "metadata": {},
   "source": [
    "## Apply truncatedSVD\n",
    "\n",
    "Remember from theory that truncated SVD means that we can take the $k$ highest singular values to approximates a matrix $A$. \n",
    "\n",
    "Now if we only wish to select the highest $k$ out of the $l$ singular values $\\sigma_1, ..., \\sigma_l$ as well as the corresponding vectors from $U$ and $V$ we would obtain the best rank $k$ approximation of X, and we could map the word vector $t_i^T$ to its $k$ rank approxiamtion $\\hat{t_i^T}_{(k)}$, and $\\hat{d_j}$ to its $k$ rank approximation $\\hat{d_j}_{(k)}$\n",
    "\n",
    "You can now do the following:\n",
    "\n",
    "* See how related documents $j$ and $q$ are in the low-dimensional space by comparing the vectors $\\Sigma_{k} \\hat{d_{j}}$ and $\\Sigma_{k}\\hat{d_q}$ (typically by [cosine similarity](https://en.wikipedia.org/wiki/Vector_space_model)).\n",
    "* Comparing terms $i$ and $p$ by comparing the vectors $\\Sigma_{k}\\hat{t_{i}}$ and $\\Sigma_{k}\\hat{t_{p}}$. Note that $\\hat{t}$ is now a column vector.\n",
    "* Documents and term vector representations can be clustered using traditional clustering algorithms like k-means using similarity measures like cosine.\n",
    "\n",
    "The $k$ dimensions retained for the low dimensional space are often referred to as topics even though their interpretation may be difficult.\n",
    "\n",
    "Let's see how we can use the SVD in python in order to understand our corpus:\n",
    "\n"
   ]
  },
  {
   "cell_type": "code",
   "execution_count": 95,
   "metadata": {},
   "outputs": [],
   "source": [
    "svd_model = TruncatedSVD(n_components=5, n_iter=100, random_state=122)\n",
    "lsa = svd_model.fit_transform(X)"
   ]
  },
  {
   "cell_type": "code",
   "execution_count": 97,
   "metadata": {},
   "outputs": [
    {
     "data": {
      "text/html": [
       "<div>\n",
       "<style scoped>\n",
       "    .dataframe tbody tr th:only-of-type {\n",
       "        vertical-align: middle;\n",
       "    }\n",
       "\n",
       "    .dataframe tbody tr th {\n",
       "        vertical-align: top;\n",
       "    }\n",
       "\n",
       "    .dataframe thead th {\n",
       "        text-align: right;\n",
       "    }\n",
       "</style>\n",
       "<table border=\"1\" class=\"dataframe\">\n",
       "  <thead>\n",
       "    <tr style=\"text-align: right;\">\n",
       "      <th></th>\n",
       "      <th>topic_0</th>\n",
       "      <th>topic_1</th>\n",
       "      <th>topic_2</th>\n",
       "      <th>topic_3</th>\n",
       "      <th>topic_4</th>\n",
       "      <th>documents</th>\n",
       "    </tr>\n",
       "  </thead>\n",
       "  <tbody>\n",
       "    <tr>\n",
       "      <th>0</th>\n",
       "      <td>0.341383</td>\n",
       "      <td>0.719978</td>\n",
       "      <td>0.132267</td>\n",
       "      <td>-5.875214e-01</td>\n",
       "      <td>-0.049121</td>\n",
       "      <td>good dog</td>\n",
       "    </tr>\n",
       "    <tr>\n",
       "      <th>1</th>\n",
       "      <td>0.341383</td>\n",
       "      <td>0.719978</td>\n",
       "      <td>0.132267</td>\n",
       "      <td>5.875214e-01</td>\n",
       "      <td>-0.049121</td>\n",
       "      <td>dog lazy</td>\n",
       "    </tr>\n",
       "    <tr>\n",
       "      <th>2</th>\n",
       "      <td>0.860949</td>\n",
       "      <td>-0.365984</td>\n",
       "      <td>-0.299524</td>\n",
       "      <td>-4.718449e-16</td>\n",
       "      <td>-0.187371</td>\n",
       "      <td>brown cat</td>\n",
       "    </tr>\n",
       "    <tr>\n",
       "      <th>3</th>\n",
       "      <td>0.516666</td>\n",
       "      <td>-0.385005</td>\n",
       "      <td>0.764710</td>\n",
       "      <td>1.112297e-15</td>\n",
       "      <td>0.006768</td>\n",
       "      <td>cat active</td>\n",
       "    </tr>\n",
       "    <tr>\n",
       "      <th>4</th>\n",
       "      <td>0.949412</td>\n",
       "      <td>0.023630</td>\n",
       "      <td>-0.239656</td>\n",
       "      <td>-4.562219e-16</td>\n",
       "      <td>0.201554</td>\n",
       "      <td>brown cat dog</td>\n",
       "    </tr>\n",
       "  </tbody>\n",
       "</table>\n",
       "</div>"
      ],
      "text/plain": [
       "    topic_0   topic_1   topic_2       topic_3   topic_4      documents\n",
       "0  0.341383  0.719978  0.132267 -5.875214e-01 -0.049121       good dog\n",
       "1  0.341383  0.719978  0.132267  5.875214e-01 -0.049121       dog lazy\n",
       "2  0.860949 -0.365984 -0.299524 -4.718449e-16 -0.187371      brown cat\n",
       "3  0.516666 -0.385005  0.764710  1.112297e-15  0.006768     cat active\n",
       "4  0.949412  0.023630 -0.239656 -4.562219e-16  0.201554  brown cat dog"
      ]
     },
     "execution_count": 97,
     "metadata": {},
     "output_type": "execute_result"
    }
   ],
   "source": [
    "topic_encoded_df = pd.DataFrame(lsa, columns = [f\"topic_{i}\" for i in range(5)])\n",
    "topic_encoded_df[\"documents\"] = df['processed_documents']\n",
    "topic_encoded_df"
   ]
  },
  {
   "cell_type": "code",
   "execution_count": 58,
   "metadata": {},
   "outputs": [
    {
     "data": {
      "text/plain": [
       "topic_1    0.341383\n",
       "topic_2    0.719978\n",
       "Name: 0, dtype: float64"
      ]
     },
     "execution_count": 58,
     "metadata": {},
     "output_type": "execute_result"
    }
   ],
   "source": [
    "topic_encoded_df[[\"topic_1\", \"topic_2\"]].loc[0]"
   ]
  },
  {
   "cell_type": "code",
   "execution_count": 59,
   "metadata": {},
   "outputs": [
    {
     "data": {
      "text/plain": [
       "topic_1    0.341383\n",
       "topic_2    0.719978\n",
       "Name: 1, dtype: float64"
      ]
     },
     "execution_count": 59,
     "metadata": {},
     "output_type": "execute_result"
    }
   ],
   "source": [
    "topic_encoded_df[[\"topic_1\", \"topic_2\"]].loc[1]"
   ]
  },
  {
   "cell_type": "code",
   "execution_count": 62,
   "metadata": {},
   "outputs": [],
   "source": [
    "from scipy import spatial\n",
    "\n",
    "d1 = topic_encoded_df[[\"topic_1\", \"topic_2\"]].loc[0]\n",
    "d2 = topic_encoded_df[[\"topic_1\", \"topic_2\"]].loc[1]\n",
    "result = 1 - spatial.distance.cosine(d1, d2)"
   ]
  },
  {
   "cell_type": "code",
   "execution_count": 64,
   "metadata": {},
   "outputs": [],
   "source": [
    "\n",
    "d1 = topic_encoded_df[[\"topic_1\", \"topic_2\"]].loc[0]\n",
    "d2 = topic_encoded_df[[\"topic_1\", \"topic_2\"]].loc[3]\n",
    "result = 1 - spatial.distance.cosine(d1, d2)"
   ]
  },
  {
   "cell_type": "code",
   "execution_count": 65,
   "metadata": {},
   "outputs": [
    {
     "data": {
      "text/plain": [
       "-0.19635821138246023"
      ]
     },
     "execution_count": 65,
     "metadata": {},
     "output_type": "execute_result"
    }
   ],
   "source": [
    "result"
   ]
  },
  {
   "cell_type": "code",
   "execution_count": 66,
   "metadata": {},
   "outputs": [
    {
     "data": {
      "image/png": "[encoded data removed]",
      "text/plain": [
       "<Figure size 432x288 with 1 Axes>"
      ]
     },
     "metadata": {
      "needs_background": "light"
     },
     "output_type": "display_data"
    }
   ],
   "source": [
    "sns.scatterplot(x=\"topic_1\", y=\"topic_2\", data= topic_encoded_df, hue = \"documents\");"
   ]
  },
  {
   "cell_type": "code",
   "execution_count": 19,
   "metadata": {},
   "outputs": [
    {
     "data": {
      "text/html": [
       "<div>\n",
       "<style scoped>\n",
       "    .dataframe tbody tr th:only-of-type {\n",
       "        vertical-align: middle;\n",
       "    }\n",
       "\n",
       "    .dataframe tbody tr th {\n",
       "        vertical-align: top;\n",
       "    }\n",
       "\n",
       "    .dataframe thead th {\n",
       "        text-align: right;\n",
       "    }\n",
       "</style>\n",
       "<table border=\"1\" class=\"dataframe\">\n",
       "  <thead>\n",
       "    <tr style=\"text-align: right;\">\n",
       "      <th></th>\n",
       "      <th>topic_1</th>\n",
       "      <th>topic_2</th>\n",
       "      <th>documents</th>\n",
       "    </tr>\n",
       "  </thead>\n",
       "  <tbody>\n",
       "    <tr>\n",
       "      <th>0</th>\n",
       "      <td>0.341383</td>\n",
       "      <td>0.719978</td>\n",
       "      <td>good dog</td>\n",
       "    </tr>\n",
       "    <tr>\n",
       "      <th>1</th>\n",
       "      <td>0.341383</td>\n",
       "      <td>0.719978</td>\n",
       "      <td>dog lazy</td>\n",
       "    </tr>\n",
       "    <tr>\n",
       "      <th>2</th>\n",
       "      <td>0.860949</td>\n",
       "      <td>-0.365984</td>\n",
       "      <td>brown cat</td>\n",
       "    </tr>\n",
       "    <tr>\n",
       "      <th>3</th>\n",
       "      <td>0.516666</td>\n",
       "      <td>-0.385005</td>\n",
       "      <td>cat active</td>\n",
       "    </tr>\n",
       "    <tr>\n",
       "      <th>4</th>\n",
       "      <td>0.949412</td>\n",
       "      <td>0.023630</td>\n",
       "      <td>brown cat dog</td>\n",
       "    </tr>\n",
       "  </tbody>\n",
       "</table>\n",
       "</div>"
      ],
      "text/plain": [
       "    topic_1   topic_2      documents\n",
       "0  0.341383  0.719978       good dog\n",
       "1  0.341383  0.719978       dog lazy\n",
       "2  0.860949 -0.365984      brown cat\n",
       "3  0.516666 -0.385005     cat active\n",
       "4  0.949412  0.023630  brown cat dog"
      ]
     },
     "execution_count": 19,
     "metadata": {},
     "output_type": "execute_result"
    }
   ],
   "source": [
    "topic_encoded_df"
   ]
  },
  {
   "cell_type": "code",
   "execution_count": 80,
   "metadata": {},
   "outputs": [
    {
     "data": {
      "text/html": [
       "<div>\n",
       "<style scoped>\n",
       "    .dataframe tbody tr th:only-of-type {\n",
       "        vertical-align: middle;\n",
       "    }\n",
       "\n",
       "    .dataframe tbody tr th {\n",
       "        vertical-align: top;\n",
       "    }\n",
       "\n",
       "    .dataframe thead th {\n",
       "        text-align: right;\n",
       "    }\n",
       "</style>\n",
       "<table border=\"1\" class=\"dataframe\">\n",
       "  <thead>\n",
       "    <tr style=\"text-align: right;\">\n",
       "      <th></th>\n",
       "      <th>topic_1</th>\n",
       "      <th>topic_2</th>\n",
       "    </tr>\n",
       "  </thead>\n",
       "  <tbody>\n",
       "    <tr>\n",
       "      <th>active</th>\n",
       "      <td>0.200354</td>\n",
       "      <td>-0.242441</td>\n",
       "    </tr>\n",
       "    <tr>\n",
       "      <th>brown</th>\n",
       "      <td>0.596512</td>\n",
       "      <td>-0.201810</td>\n",
       "    </tr>\n",
       "    <tr>\n",
       "      <th>cat</th>\n",
       "      <td>0.629338</td>\n",
       "      <td>-0.329886</td>\n",
       "    </tr>\n",
       "    <tr>\n",
       "      <th>dog</th>\n",
       "      <td>0.415831</td>\n",
       "      <td>0.616903</td>\n",
       "    </tr>\n",
       "    <tr>\n",
       "      <th>good</th>\n",
       "      <td>0.132383</td>\n",
       "      <td>0.453377</td>\n",
       "    </tr>\n",
       "    <tr>\n",
       "      <th>lazy</th>\n",
       "      <td>0.132383</td>\n",
       "      <td>0.453377</td>\n",
       "    </tr>\n",
       "  </tbody>\n",
       "</table>\n",
       "</div>"
      ],
      "text/plain": [
       "         topic_1   topic_2\n",
       "active  0.200354 -0.242441\n",
       "brown   0.596512 -0.201810\n",
       "cat     0.629338 -0.329886\n",
       "dog     0.415831  0.616903\n",
       "good    0.132383  0.453377\n",
       "lazy    0.132383  0.453377"
      ]
     },
     "execution_count": 80,
     "metadata": {},
     "output_type": "execute_result"
    }
   ],
   "source": [
    "pd.DataFrame(svd_model.components_, columns=vectorizer.get_feature_names_out()).T.rename(columns={0:\"topic_1\", 1:\"topic_2\"})"
   ]
  },
  {
   "cell_type": "code",
   "execution_count": 74,
   "metadata": {},
   "outputs": [
    {
     "data": {
      "text/html": [
       "<div>\n",
       "<style scoped>\n",
       "    .dataframe tbody tr th:only-of-type {\n",
       "        vertical-align: middle;\n",
       "    }\n",
       "\n",
       "    .dataframe tbody tr th {\n",
       "        vertical-align: top;\n",
       "    }\n",
       "\n",
       "    .dataframe thead th {\n",
       "        text-align: right;\n",
       "    }\n",
       "</style>\n",
       "<table border=\"1\" class=\"dataframe\">\n",
       "  <thead>\n",
       "    <tr style=\"text-align: right;\">\n",
       "      <th></th>\n",
       "      <th>topic_1</th>\n",
       "      <th>topic_2</th>\n",
       "    </tr>\n",
       "  </thead>\n",
       "  <tbody>\n",
       "    <tr>\n",
       "      <th>0</th>\n",
       "      <td>0.200354</td>\n",
       "      <td>-0.242441</td>\n",
       "    </tr>\n",
       "    <tr>\n",
       "      <th>1</th>\n",
       "      <td>0.596512</td>\n",
       "      <td>-0.201810</td>\n",
       "    </tr>\n",
       "    <tr>\n",
       "      <th>2</th>\n",
       "      <td>0.629338</td>\n",
       "      <td>-0.329886</td>\n",
       "    </tr>\n",
       "    <tr>\n",
       "      <th>3</th>\n",
       "      <td>0.415831</td>\n",
       "      <td>0.616903</td>\n",
       "    </tr>\n",
       "    <tr>\n",
       "      <th>4</th>\n",
       "      <td>0.132383</td>\n",
       "      <td>0.453377</td>\n",
       "    </tr>\n",
       "    <tr>\n",
       "      <th>5</th>\n",
       "      <td>0.132383</td>\n",
       "      <td>0.453377</td>\n",
       "    </tr>\n",
       "  </tbody>\n",
       "</table>\n",
       "</div>"
      ],
      "text/plain": [
       "    topic_1   topic_2\n",
       "0  0.200354 -0.242441\n",
       "1  0.596512 -0.201810\n",
       "2  0.629338 -0.329886\n",
       "3  0.415831  0.616903\n",
       "4  0.132383  0.453377\n",
       "5  0.132383  0.453377"
      ]
     },
     "execution_count": 74,
     "metadata": {},
     "output_type": "execute_result"
    }
   ],
   "source": [
    "pd.DataFrame(svd_model.components_).T.rename(columns={0:\"topic_1\", 1:\"topic_2\"})"
   ]
  },
  {
   "cell_type": "code",
   "execution_count": 12,
   "metadata": {},
   "outputs": [
    {
     "name": "stderr",
     "output_type": "stream",
     "text": [
      "/opt/conda/lib/python3.9/site-packages/sklearn/utils/deprecation.py:87: FutureWarning: Function get_feature_names is deprecated; get_feature_names is deprecated in 1.0 and will be removed in 1.2. Please use get_feature_names_out instead.\n",
      "  warnings.warn(msg, category=FutureWarning)\n",
      "/opt/conda/lib/python3.9/site-packages/seaborn/_decorators.py:36: FutureWarning: Pass the following variables as keyword args: x, y. From version 0.12, the only valid positional argument will be `data`, and passing other arguments without an explicit keyword will result in an error or misinterpretation.\n",
      "  warnings.warn(\n"
     ]
    },
    {
     "data": {
      "text/plain": [
       "<AxesSubplot:xlabel='topic_1', ylabel='topic_2'>"
      ]
     },
     "execution_count": 12,
     "metadata": {},
     "output_type": "execute_result"
    },
    {
     "data": {
      "image/png": "[encoded data removed]",
      "text/plain": [
       "<Figure size 432x288 with 1 Axes>"
      ]
     },
     "metadata": {
      "needs_background": "light"
     },
     "output_type": "display_data"
    }
   ],
   "source": [
    "topic = pd.DataFrame(svd_model.components_, index = [\"topic_1\",\"topic_2\"])\n",
    "topic.columns= vectorizer.get_feature_names() \n",
    "topic_t = topic.transpose()\n",
    "\n",
    "import seaborn as sns\n",
    "sns.scatterplot(\"topic_1\",\"topic_2\",data= topic_t, hue = topic_t.index)"
   ]
  },
  {
   "cell_type": "code",
   "execution_count": 103,
   "metadata": {},
   "outputs": [
    {
     "data": {
      "text/plain": [
       "': lalalalalal'"
      ]
     },
     "execution_count": 103,
     "metadata": {},
     "output_type": "execute_result"
    }
   ],
   "source": [
    "\"SUBJECT: lalalalalal\".split(\"SUBJECT\")[1]"
   ]
  },
  {
   "cell_type": "code",
   "execution_count": 101,
   "metadata": {},
   "outputs": [
    {
     "data": {
      "text/plain": [
       "1.0000000000000004"
      ]
     },
     "execution_count": 101,
     "metadata": {},
     "output_type": "execute_result"
    }
   ],
   "source": [
    "svd_model.explained_variance_ratio_.sum()"
   ]
  },
  {
   "cell_type": "code",
   "execution_count": 16,
   "metadata": {},
   "outputs": [
    {
     "data": {
      "text/plain": [
       "array([[ 0.20035413,  0.59651171,  0.6293381 ,  0.4158308 ,  0.1323826 ,\n",
       "         0.1323826 ],\n",
       "       [-0.24244085, -0.2018099 , -0.32988591,  0.61690333,  0.45337665,\n",
       "         0.45337665]])"
      ]
     },
     "execution_count": 16,
     "metadata": {},
     "output_type": "execute_result"
    }
   ],
   "source": [
    "svd_model.components_"
   ]
  },
  {
   "cell_type": "markdown",
   "metadata": {},
   "source": [
    "For example here, we used the SVD in order to approximate the term-document matrix with a decomposition of rank 2, and we can see how each document (sentence) is projected across these two topics.\n",
    "\n",
    "Here we notice that topic 1 tends to be more linked to cat and topic 2 is more linked with dog."
   ]
  },
  {
   "cell_type": "markdown",
   "metadata": {},
   "source": [
    "## Resources 📚📚\n",
    "\n",
    "*   <a href=\"https://scikit-learn.org/stable/modules/generated/sklearn.decomposition.TruncatedSVD.html?highlight=truncated%20svd#sklearn.decomposition.TruncatedSVD\" target=\"_blank\">Truncated SVD</a>\n",
    "\n",
    "*   <a href=\"https://scikit-learn.org/stable/modules/decomposition.html#lsa\" target=\"_blank\">Truncated singular value decomposition and latent semantic analysis</a>"
   ]
  }
 ],
 "metadata": {
  "kernelspec": {
   "display_name": "Python 3 (ipykernel)",
   "language": "python",
   "name": "python3"
  },
  "language_info": {
   "codemirror_mode": {
    "name": "ipython",
    "version": 3
   },
   "file_extension": ".py",
   "mimetype": "text/x-python",
   "name": "python",
   "nbconvert_exporter": "python",
   "pygments_lexer": "ipython3",
   "version": "3.9.7"
  },
  "vscode": {
   "interpreter": {
    "hash": "16196ea7eff63910081d4e10ae1bdb1eb18fd83cb470bb8efbb9fa6b0c724af5"
   }
  }
 },
 "nbformat": 4,
 "nbformat_minor": 4
}
