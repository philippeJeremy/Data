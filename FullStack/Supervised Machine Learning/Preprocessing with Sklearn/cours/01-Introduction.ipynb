{
 "cells": [
  {
   "cell_type": "markdown",
   "metadata": {},
   "source": [
    "# Introduction 🐥🐥\n",
    "\n",
    "## What is machine learning?\n",
    "\n",
    "**Machine learning** is a multidisciplinary science that aims at enabling machines to solve complex problems without explicitely coding the decision making process. For example, predicting the conversion rate on a website or the price of real estate are problems that can be solved by optimizing machine learning models.\n",
    "\n",
    "![ai](https://full-stack-assets.s3.eu-west-3.amazonaws.com/images/ai.png)\n",
    "\n",
    "## What is supervised machine learning?\n",
    "\n",
    "**Supervised machine learning** is a branch of this discipline that consists in solving problems for which there are already solved examples. For instance, data is being collected on a sample of housing units in San Francisco that describe their location, various characteristics and the rent price. If our problem is to estimate the rent price for a dwelling in the same city that is not already in our database, we will build a model from our data that estimates the rent based on the characteristics of the dwellings and apply this model to the unknown dwelling to estimate its rent price. This is a typical example of a supervised learning problem, because when the model was built, the values of the **variable** to be estimated were known, we call it the **target variable**.\n",
    "\n",
    "## Regression / Classification the most common types of supervised machine learning problems\n",
    "Most supervised machine learning problems can be sorted in two categories :\n",
    "* Regression : a regression problem is a situation when your target variables is quantitative\n",
    "* Classification : a classification problem means your target variable is categorical\n",
    "\n",
    "Any machine learning model can be formally presented in the following way :\n",
    "\n",
    "$$Y = f(X) + \\epsilon$$\n",
    "\n",
    "or sometimes\n",
    "\n",
    "$$P(Y) = f(X) + \\epsilon$$\n",
    "\n",
    "In the case of classification (when the target variable is categorical).\n",
    "Where $Y$ is the target variable (usually a vector of $n$ elements, one for each of the $n$ observations), $X$ represents the explanatory variables (usually it is a matrix containing $n$ rows, one for each of the $n$ observations in the dataset and $p$ columns, for each of the $p$ explanatory variables), $f$ represents the true function that links the explanatory variables and the target variable, the goal of the data scientis is to train a model that will approximate $f$ as closely as possible, and finally $\\epsilon$ is the noise, an unpredictable element that may stem from unobserved information outside of the scope of our explanatory variables, the measurment of $Y$ or other random perturbations.\n",
    "In this module we will explore many different models, that are nothing more than many different ways to approximate $f$, all of these models have advantages and shortcomings, at the end of this module you will be able to understand how all of them work, how they can train on data as well as their pros and cons."
   ]
  },
  {
   "cell_type": "markdown",
   "metadata": {},
   "source": [
    "## Why should you use machine learning? 🤔🤔\n",
    "\n",
    "Once a problem has been identified, a target variable has been selected, and a number of explanatory variables have been collected, the objectives of supervised machine learning fall into three broad, non-exclusive categories:\n",
    "\n",
    "\n",
    "* Description: we can try to understand the relations that exist between the target variable \"Y\" and the explanatory variables \"X1, ..., Xp\" in order to select the most relevant ones or to visualize the behaviors in the observed samples. For example, if facebook wants to understand what users are most receptive to their ads and why, they may train a model that tries to predict the probability for their users to click on ad links and try and understand what variables are most influent in this regard, this may give them insights to discover the right levers to push more users to click on ads.\n",
    "* Explanation: when you have expert knowledge on the data used for your machine learning problem, for example in economics or biology for example, the objective is to build a test that allows you to verify or confirm theoretical results in practical situations.\n",
    "* Prediction: here we focus on the quality of the predictions, we do not necessarily try to understand the observed population as well as possible, but to build a model that allows us to produce reliable predictions for future observations. This situation is probably the one that you have encountered the most, without knowing it, when you wish to have a prediction model built in an app or website, to make personnalized recommendations, or block fraudulent payments from happening automatically without human intervention, you need a model that will derive the best possible predictions, regardless of its complexity or interpretability.\n",
    "\n",
    "![machine learning](https://full-stack-assets.s3.eu-west-3.amazonaws.com/images/machine_learning.png)\n"
   ]
  }
 ],
 "metadata": {
  "kernelspec": {
   "display_name": "Python 3",
   "language": "python",
   "name": "python3"
  },
  "language_info": {
   "codemirror_mode": {
    "name": "ipython",
    "version": 3
   },
   "file_extension": ".py",
   "mimetype": "text/x-python",
   "name": "python",
   "nbconvert_exporter": "python",
   "pygments_lexer": "ipython3",
   "version": "3.7.4"
  }
 },
 "nbformat": 4,
 "nbformat_minor": 4
}
