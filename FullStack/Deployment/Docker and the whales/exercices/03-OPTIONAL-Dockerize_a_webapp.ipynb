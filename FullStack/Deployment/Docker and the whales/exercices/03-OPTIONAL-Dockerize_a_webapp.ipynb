{
 "cells": [
  {
   "cell_type": "markdown",
   "metadata": {},
   "source": [
    "# Dockerize a web app\n",
    "\n",
    "## Goal description \n",
    "\n",
    "The goal of this exercise is to build an image that will be able to run a simple python script. You will need to: \n",
    "\n",
    "* Build a `Dockerfile`\n",
    "* Build the image \n",
    "* Run the container \n",
    "\n",
    "## Script to containerize \n",
    "\n",
    "This time you will try to dockerize Jedha's streamlit demo app: \n",
    "\n",
    "* `git clone https://github.com/antoinekrajnc/streamlit-demo-app.git`\n",
    "\n",
    "## How to make sure this works? \n",
    "\n",
    "You need to have **your container able to run your script with no errors**. \n",
    "\n",
    "Happy coding!🧑‍💻\n"
   ]
  }
 ],
 "metadata": {
  "language_info": {
   "name": "python"
  },
  "orig_nbformat": 4
 },
 "nbformat": 4,
 "nbformat_minor": 2
}
