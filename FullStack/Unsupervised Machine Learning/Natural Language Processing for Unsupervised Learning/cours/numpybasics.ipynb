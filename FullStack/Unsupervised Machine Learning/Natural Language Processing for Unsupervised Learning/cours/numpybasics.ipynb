{
 "cells": [
  {
   "cell_type": "code",
   "execution_count": 86,
   "id": "5b031f3f-cf28-43a5-996a-9ff0a956349e",
   "metadata": {},
   "outputs": [],
   "source": [
    "import numpy as np "
   ]
  },
  {
   "cell_type": "markdown",
   "id": "20a9e082-ef7c-4d95-8c38-baf4d43b6d6d",
   "metadata": {},
   "source": [
    "## Classical arrays \n",
    "----"
   ]
  },
  {
   "cell_type": "code",
   "execution_count": 87,
   "id": "b374bd1e-06b8-4c6e-a57f-431e27de826f",
   "metadata": {},
   "outputs": [],
   "source": [
    "a = np.array([1,2,3], dtype='int32')\n",
    "b = np.array([1,2,4])"
   ]
  },
  {
   "cell_type": "markdown",
   "id": "95f4df52-cc94-4b82-b6f2-bed813e80903",
   "metadata": {},
   "source": [
    "#### Masking"
   ]
  },
  {
   "cell_type": "code",
   "execution_count": 88,
   "id": "d775d561-eabe-42f3-8f5f-1dbfa6977cf5",
   "metadata": {},
   "outputs": [
    {
     "data": {
      "text/plain": [
       "array([1, 2], dtype=int32)"
      ]
     },
     "execution_count": 88,
     "metadata": {},
     "output_type": "execute_result"
    }
   ],
   "source": [
    "a[a == b]"
   ]
  },
  {
   "cell_type": "code",
   "execution_count": 89,
   "id": "572b9c6e-288d-47fc-9264-c95fba19c702",
   "metadata": {},
   "outputs": [
    {
     "data": {
      "text/plain": [
       "array([3], dtype=int32)"
      ]
     },
     "execution_count": 89,
     "metadata": {},
     "output_type": "execute_result"
    }
   ],
   "source": [
    "a[a != b]"
   ]
  },
  {
   "cell_type": "markdown",
   "id": "9f62ef4d-b708-440b-b0e9-a7cb020a9368",
   "metadata": {},
   "source": [
    "#### Shapes and sizes"
   ]
  },
  {
   "cell_type": "code",
   "execution_count": 90,
   "id": "7b753bee-5678-42ed-b318-0f00bb25ab56",
   "metadata": {},
   "outputs": [
    {
     "data": {
      "text/plain": [
       "1"
      ]
     },
     "execution_count": 90,
     "metadata": {},
     "output_type": "execute_result"
    }
   ],
   "source": [
    "a.ndim "
   ]
  },
  {
   "cell_type": "code",
   "execution_count": 91,
   "id": "b6ebfbf6-021d-45ef-bb49-3f3e9b442caf",
   "metadata": {},
   "outputs": [
    {
     "data": {
      "text/plain": [
       "(3,)"
      ]
     },
     "execution_count": 91,
     "metadata": {},
     "output_type": "execute_result"
    }
   ],
   "source": [
    "a.shape"
   ]
  },
  {
   "cell_type": "code",
   "execution_count": 92,
   "id": "83a780ac-0252-4199-9192-d1846abea0b7",
   "metadata": {},
   "outputs": [
    {
     "data": {
      "text/plain": [
       "2"
      ]
     },
     "execution_count": 92,
     "metadata": {},
     "output_type": "execute_result"
    }
   ],
   "source": [
    "np.array([[2], [3]]).ndim"
   ]
  },
  {
   "cell_type": "code",
   "execution_count": 93,
   "id": "22feb1cc-7323-405d-9023-0a9cf945b113",
   "metadata": {},
   "outputs": [],
   "source": [
    "c = np.array([[[2,2],[3,3]], [[4,4],[5,5]], [[6,6],[7,7]]])"
   ]
  },
  {
   "cell_type": "code",
   "execution_count": 94,
   "id": "8f52dbb7-92ac-43ad-b2c6-a3c25bac1f76",
   "metadata": {},
   "outputs": [
    {
     "data": {
      "text/plain": [
       "(8, 96)"
      ]
     },
     "execution_count": 94,
     "metadata": {},
     "output_type": "execute_result"
    }
   ],
   "source": [
    "c.itemsize, c.nbytes"
   ]
  },
  {
   "cell_type": "code",
   "execution_count": 95,
   "id": "1efd5eb2-d34c-48f6-94bb-543768a797be",
   "metadata": {},
   "outputs": [
    {
     "data": {
      "text/plain": [
       "(4, 12)"
      ]
     },
     "execution_count": 95,
     "metadata": {},
     "output_type": "execute_result"
    }
   ],
   "source": [
    "a.itemsize, a.nbytes"
   ]
  },
  {
   "cell_type": "markdown",
   "id": "bf128636-95ea-4a00-ba47-bf9fe4a6da94",
   "metadata": {},
   "source": [
    "#### Access and replace elements "
   ]
  },
  {
   "cell_type": "code",
   "execution_count": 96,
   "id": "0d294738-ff54-4e66-8e9c-548507c43eb2",
   "metadata": {},
   "outputs": [
    {
     "data": {
      "text/plain": [
       "1"
      ]
     },
     "execution_count": 96,
     "metadata": {},
     "output_type": "execute_result"
    }
   ],
   "source": [
    "a[0]"
   ]
  },
  {
   "cell_type": "code",
   "execution_count": 97,
   "id": "855f46fe-86f7-42d2-919a-d4d1fd4b5fee",
   "metadata": {},
   "outputs": [],
   "source": [
    "a = np.array([[1,2,3,4], [5,6,7,8]])"
   ]
  },
  {
   "cell_type": "code",
   "execution_count": 98,
   "id": "3df9ec66-1d31-4e6c-8b59-4b8f2518fef6",
   "metadata": {},
   "outputs": [
    {
     "data": {
      "text/plain": [
       "5"
      ]
     },
     "execution_count": 98,
     "metadata": {},
     "output_type": "execute_result"
    }
   ],
   "source": [
    "a[1][0]"
   ]
  },
  {
   "cell_type": "code",
   "execution_count": 99,
   "id": "1c900c91-e428-43bd-9c97-dbf65649e59f",
   "metadata": {},
   "outputs": [
    {
     "data": {
      "text/plain": [
       "array([1, 2, 3, 4])"
      ]
     },
     "execution_count": 99,
     "metadata": {},
     "output_type": "execute_result"
    }
   ],
   "source": [
    "a[0, :] # row then columns"
   ]
  },
  {
   "cell_type": "code",
   "execution_count": 100,
   "id": "a4488a24-1b3f-4811-8281-34ef746cb969",
   "metadata": {},
   "outputs": [
    {
     "data": {
      "text/plain": [
       "array([5, 6, 7, 8])"
      ]
     },
     "execution_count": 100,
     "metadata": {},
     "output_type": "execute_result"
    }
   ],
   "source": [
    "a[1, :]"
   ]
  },
  {
   "cell_type": "code",
   "execution_count": 101,
   "id": "d0437acf-cb7f-4a5a-84b2-99e0e72526ff",
   "metadata": {},
   "outputs": [
    {
     "data": {
      "text/plain": [
       "array([1, 5])"
      ]
     },
     "execution_count": 101,
     "metadata": {},
     "output_type": "execute_result"
    }
   ],
   "source": [
    "a[:, 0] # = c[1]"
   ]
  },
  {
   "cell_type": "code",
   "execution_count": 102,
   "id": "48f973b1-f775-49b1-908a-db5d0c41cc74",
   "metadata": {},
   "outputs": [
    {
     "data": {
      "text/plain": [
       "array([2, 6])"
      ]
     },
     "execution_count": 102,
     "metadata": {},
     "output_type": "execute_result"
    }
   ],
   "source": [
    "a[:, 1]"
   ]
  },
  {
   "cell_type": "code",
   "execution_count": 103,
   "id": "bb13fc88-2f21-4d51-9a1c-c38c6bd4d9c1",
   "metadata": {},
   "outputs": [
    {
     "data": {
      "text/plain": [
       "array([2])"
      ]
     },
     "execution_count": 103,
     "metadata": {},
     "output_type": "execute_result"
    }
   ],
   "source": [
    "a[0, 1:-1:2]"
   ]
  },
  {
   "cell_type": "code",
   "execution_count": 104,
   "id": "0c5a194e-ac2c-4f6e-b432-ac5c4e7e6a9f",
   "metadata": {},
   "outputs": [
    {
     "data": {
      "text/plain": [
       "array([[1, 2, 3, 4],\n",
       "       [5, 6, 7, 8]])"
      ]
     },
     "execution_count": 104,
     "metadata": {},
     "output_type": "execute_result"
    }
   ],
   "source": [
    "a"
   ]
  },
  {
   "cell_type": "code",
   "execution_count": 105,
   "id": "e08e3277-06ca-4c62-bdec-f2a2adf93a6e",
   "metadata": {},
   "outputs": [],
   "source": [
    "a[0, 1:-1:2] = 12"
   ]
  },
  {
   "cell_type": "code",
   "execution_count": 106,
   "id": "b76a0330-7bb3-45c0-a632-97dbb162d7c0",
   "metadata": {},
   "outputs": [
    {
     "data": {
      "text/plain": [
       "array([[ 1, 12,  3,  4],\n",
       "       [ 5,  6,  7,  8]])"
      ]
     },
     "execution_count": 106,
     "metadata": {},
     "output_type": "execute_result"
    }
   ],
   "source": [
    "a"
   ]
  },
  {
   "cell_type": "code",
   "execution_count": 303,
   "id": "251bc33e-d265-4c27-88f2-198c635d7970",
   "metadata": {},
   "outputs": [
    {
     "data": {
      "text/plain": [
       "array([[[1, 1],\n",
       "        [1, 1]],\n",
       "\n",
       "       [[1, 1],\n",
       "        [1, 1]],\n",
       "\n",
       "       [[1, 1],\n",
       "        [1, 1]],\n",
       "\n",
       "       [[1, 1],\n",
       "        [1, 1]]], dtype=int32)"
      ]
     },
     "execution_count": 303,
     "metadata": {},
     "output_type": "execute_result"
    }
   ],
   "source": [
    "np.ones((4,2,2), dtype='int32')"
   ]
  },
  {
   "cell_type": "code",
   "execution_count": 304,
   "id": "e784d347-b6c2-4882-8df7-c83560efe03a",
   "metadata": {},
   "outputs": [
    {
     "data": {
      "text/plain": [
       "array([[99, 99],\n",
       "       [99, 99]])"
      ]
     },
     "execution_count": 304,
     "metadata": {},
     "output_type": "execute_result"
    }
   ],
   "source": [
    "np.full((2,2), 99)\n"
   ]
  },
  {
   "cell_type": "code",
   "execution_count": 305,
   "id": "84bf21b0-34fb-4a8b-87db-a4a677748ea0",
   "metadata": {},
   "outputs": [
    {
     "data": {
      "text/plain": [
       "array([[4, 4, 4, 4],\n",
       "       [4, 4, 4, 4]])"
      ]
     },
     "execution_count": 305,
     "metadata": {},
     "output_type": "execute_result"
    }
   ],
   "source": [
    "np.full_like(a, 4)\n"
   ]
  },
  {
   "cell_type": "code",
   "execution_count": 306,
   "id": "63038d66-a427-4bc9-95ad-114dede6e8d5",
   "metadata": {},
   "outputs": [
    {
     "data": {
      "text/plain": [
       "array([[ 4,  6,  0],\n",
       "       [ 3,  3, -3],\n",
       "       [ 7, -4,  0]])"
      ]
     },
     "execution_count": 306,
     "metadata": {},
     "output_type": "execute_result"
    }
   ],
   "source": [
    "np.random.randint(-4,8, size=(3,3))"
   ]
  },
  {
   "cell_type": "code",
   "execution_count": 307,
   "id": "f80db3bc-ade3-4277-9596-8b203a1231a7",
   "metadata": {},
   "outputs": [
    {
     "data": {
      "text/plain": [
       "array([2, 2, 1, 0])"
      ]
     },
     "execution_count": 307,
     "metadata": {},
     "output_type": "execute_result"
    }
   ],
   "source": [
    "a = np.array([1,2,0,0])\n",
    "b = np.array([1,0,1,0])\n",
    "a + b"
   ]
  },
  {
   "cell_type": "code",
   "execution_count": 356,
   "id": "055acc67-92d8-48a7-943a-8d5f56e41b3d",
   "metadata": {},
   "outputs": [
    {
     "data": {
      "text/plain": [
       "array([[1, 2],\n",
       "       [0, 0]])"
      ]
     },
     "execution_count": 356,
     "metadata": {},
     "output_type": "execute_result"
    }
   ],
   "source": [
    "a.reshape(2, 2) #indicate the shape to get (multiplcation of all values should be the same)"
   ]
  },
  {
   "cell_type": "code",
   "execution_count": 146,
   "id": "260b046e-8ece-4bc3-9919-c83de3f0e24f",
   "metadata": {},
   "outputs": [],
   "source": [
    "import pandas as pd"
   ]
  },
  {
   "cell_type": "code",
   "execution_count": 357,
   "id": "c25b70f6-448f-46cb-8f00-053986645f1d",
   "metadata": {},
   "outputs": [],
   "source": [
    "dataset = [[\"2018-09-19\", \"98405\", \"12309888\", 1],\n",
    "           [\"2018-09-19\", \"98402\", \"12309888\", 2], \n",
    "           [\"2018-09-19\", \"98402\", \"12309118\", 3]]\n",
    "df = pd.DataFrame(dataset, columns=[\"date\", \"dzip\", \"sku\", \"eta\"])"
   ]
  },
  {
   "cell_type": "code",
   "execution_count": 358,
   "id": "3940dd2c-6bca-4b88-8c13-4c140cb69280",
   "metadata": {},
   "outputs": [
    {
     "data": {
      "text/html": [
       "<div>\n",
       "<style scoped>\n",
       "    .dataframe tbody tr th:only-of-type {\n",
       "        vertical-align: middle;\n",
       "    }\n",
       "\n",
       "    .dataframe tbody tr th {\n",
       "        vertical-align: top;\n",
       "    }\n",
       "\n",
       "    .dataframe thead th {\n",
       "        text-align: right;\n",
       "    }\n",
       "</style>\n",
       "<table border=\"1\" class=\"dataframe\">\n",
       "  <thead>\n",
       "    <tr style=\"text-align: right;\">\n",
       "      <th></th>\n",
       "      <th>date</th>\n",
       "      <th>dzip</th>\n",
       "      <th>sku</th>\n",
       "      <th>eta</th>\n",
       "    </tr>\n",
       "  </thead>\n",
       "  <tbody>\n",
       "    <tr>\n",
       "      <th>0</th>\n",
       "      <td>2018-09-19</td>\n",
       "      <td>98405</td>\n",
       "      <td>12309888</td>\n",
       "      <td>1</td>\n",
       "    </tr>\n",
       "    <tr>\n",
       "      <th>1</th>\n",
       "      <td>2018-09-19</td>\n",
       "      <td>98402</td>\n",
       "      <td>12309888</td>\n",
       "      <td>2</td>\n",
       "    </tr>\n",
       "    <tr>\n",
       "      <th>2</th>\n",
       "      <td>2018-09-19</td>\n",
       "      <td>98402</td>\n",
       "      <td>12309118</td>\n",
       "      <td>3</td>\n",
       "    </tr>\n",
       "  </tbody>\n",
       "</table>\n",
       "</div>"
      ],
      "text/plain": [
       "         date   dzip       sku  eta\n",
       "0  2018-09-19  98405  12309888    1\n",
       "1  2018-09-19  98402  12309888    2\n",
       "2  2018-09-19  98402  12309118    3"
      ]
     },
     "execution_count": 358,
     "metadata": {},
     "output_type": "execute_result"
    }
   ],
   "source": [
    "df"
   ]
  },
  {
   "cell_type": "code",
   "execution_count": 249,
   "id": "78a65b99-9168-47e1-aec7-05acd81bfb44",
   "metadata": {},
   "outputs": [],
   "source": [
    "df[\"date\"] = pd.to_datetime(df.date)"
   ]
  },
  {
   "cell_type": "code",
   "execution_count": 250,
   "id": "7994ae24-c2ae-4fa1-9bc4-07c3b1486a01",
   "metadata": {},
   "outputs": [],
   "source": [
    "df[\"day\"] = df['date'].dt.day\n",
    "df[\"week\"] = df['date'].dt.isocalendar().week"
   ]
  },
  {
   "cell_type": "code",
   "execution_count": 251,
   "id": "992e76b5-0a5e-406e-bd20-7cbcf13570f5",
   "metadata": {},
   "outputs": [],
   "source": [
    "sku_dict = {\"12309888\" : \"45000\", \"12309118\": \"32000\"}"
   ]
  },
  {
   "cell_type": "code",
   "execution_count": 252,
   "id": "c3cb6371-7235-4c13-8e07-a3b6873f5f3c",
   "metadata": {},
   "outputs": [],
   "source": [
    "df[\"ozip\"] = df[\"sku\"].map(sku_dict)"
   ]
  },
  {
   "cell_type": "code",
   "execution_count": 253,
   "id": "f4f74c40-48a4-4a86-a6ac-88721f5f9dc2",
   "metadata": {},
   "outputs": [],
   "source": [
    "zip_dict = {\"45000\": [32, 65], \"32000\": [38, 69], \"98405\": [25, 75], \"98402\": [26, 75]}"
   ]
  },
  {
   "cell_type": "code",
   "execution_count": 254,
   "id": "2bfba12a-181c-46af-9f09-e101afd8d001",
   "metadata": {},
   "outputs": [],
   "source": [
    "df[\"dlat\"] = df[\"dzip\"].map(zip_dict).apply(lambda x: x[0])\n",
    "df[\"dlon\"] = df[\"dzip\"].map(zip_dict).apply(lambda x: x[1])\n",
    "\n",
    "df[\"olat\"] = df[\"ozip\"].map(zip_dict).apply(lambda x: x[0])\n",
    "df[\"olon\"] = df[\"ozip\"].map(zip_dict).apply(lambda x: x[1])"
   ]
  },
  {
   "cell_type": "code",
   "execution_count": 255,
   "id": "71c65a78-daac-44e9-918e-4b85c958ff81",
   "metadata": {},
   "outputs": [
    {
     "data": {
      "text/html": [
       "<div>\n",
       "<style scoped>\n",
       "    .dataframe tbody tr th:only-of-type {\n",
       "        vertical-align: middle;\n",
       "    }\n",
       "\n",
       "    .dataframe tbody tr th {\n",
       "        vertical-align: top;\n",
       "    }\n",
       "\n",
       "    .dataframe thead th {\n",
       "        text-align: right;\n",
       "    }\n",
       "</style>\n",
       "<table border=\"1\" class=\"dataframe\">\n",
       "  <thead>\n",
       "    <tr style=\"text-align: right;\">\n",
       "      <th></th>\n",
       "      <th>date</th>\n",
       "      <th>dzip</th>\n",
       "      <th>sku</th>\n",
       "      <th>eta</th>\n",
       "      <th>day</th>\n",
       "      <th>week</th>\n",
       "      <th>ozip</th>\n",
       "      <th>dlat</th>\n",
       "      <th>dlon</th>\n",
       "      <th>olat</th>\n",
       "      <th>olon</th>\n",
       "    </tr>\n",
       "  </thead>\n",
       "  <tbody>\n",
       "    <tr>\n",
       "      <th>0</th>\n",
       "      <td>2018-09-19</td>\n",
       "      <td>98405</td>\n",
       "      <td>12309888</td>\n",
       "      <td>1</td>\n",
       "      <td>19</td>\n",
       "      <td>38</td>\n",
       "      <td>45000</td>\n",
       "      <td>25</td>\n",
       "      <td>75</td>\n",
       "      <td>32</td>\n",
       "      <td>65</td>\n",
       "    </tr>\n",
       "    <tr>\n",
       "      <th>1</th>\n",
       "      <td>2018-09-19</td>\n",
       "      <td>98402</td>\n",
       "      <td>12309888</td>\n",
       "      <td>2</td>\n",
       "      <td>19</td>\n",
       "      <td>38</td>\n",
       "      <td>45000</td>\n",
       "      <td>26</td>\n",
       "      <td>75</td>\n",
       "      <td>32</td>\n",
       "      <td>65</td>\n",
       "    </tr>\n",
       "    <tr>\n",
       "      <th>2</th>\n",
       "      <td>2018-09-19</td>\n",
       "      <td>98402</td>\n",
       "      <td>12309118</td>\n",
       "      <td>3</td>\n",
       "      <td>19</td>\n",
       "      <td>38</td>\n",
       "      <td>32000</td>\n",
       "      <td>26</td>\n",
       "      <td>75</td>\n",
       "      <td>38</td>\n",
       "      <td>69</td>\n",
       "    </tr>\n",
       "  </tbody>\n",
       "</table>\n",
       "</div>"
      ],
      "text/plain": [
       "        date   dzip       sku  eta  day  week   ozip  dlat  dlon  olat  olon\n",
       "0 2018-09-19  98405  12309888    1   19    38  45000    25    75    32    65\n",
       "1 2018-09-19  98402  12309888    2   19    38  45000    26    75    32    65\n",
       "2 2018-09-19  98402  12309118    3   19    38  32000    26    75    38    69"
      ]
     },
     "execution_count": 255,
     "metadata": {},
     "output_type": "execute_result"
    }
   ],
   "source": [
    "df"
   ]
  },
  {
   "cell_type": "code",
   "execution_count": 256,
   "id": "8ab75d8b-dfc3-47c1-a424-922b3ee888a9",
   "metadata": {},
   "outputs": [],
   "source": [
    "columns = [\"day\", \"week\", \"dlat\", \"dlon\", \"olat\", \"olon\"]\n",
    "X = df[columns]\n",
    "y = df[\"eta\"]"
   ]
  },
  {
   "cell_type": "code",
   "execution_count": 257,
   "id": "a86b838e-9cda-4a82-a7e6-cf28fddb4cca",
   "metadata": {},
   "outputs": [],
   "source": [
    "from sklearn.ensemble import RandomForestRegressor"
   ]
  },
  {
   "cell_type": "code",
   "execution_count": 258,
   "id": "6b5d8767-2723-4ff2-9d54-524967a6fc1b",
   "metadata": {},
   "outputs": [
    {
     "data": {
      "text/plain": [
       "RandomForestRegressor()"
      ]
     },
     "execution_count": 258,
     "metadata": {},
     "output_type": "execute_result"
    }
   ],
   "source": [
    "rfr = RandomForestRegressor()\n",
    "rfr.fit(X, y)"
   ]
  },
  {
   "cell_type": "code",
   "execution_count": null,
   "id": "b18a6613-9381-40bc-8cf4-a1d8b2dd4f32",
   "metadata": {},
   "outputs": [],
   "source": [
    "rfr.predict()"
   ]
  },
  {
   "cell_type": "code",
   "execution_count": 260,
   "id": "3770fce9-c29c-4526-bc13-a9c64640ab47",
   "metadata": {},
   "outputs": [],
   "source": [
    "new_customer = [\"2018-09-19\", \"98405\", \"12309888\"]"
   ]
  },
  {
   "cell_type": "code",
   "execution_count": 261,
   "id": "99819eca-26e6-4b36-9d7d-65b9d521dbe8",
   "metadata": {},
   "outputs": [],
   "source": [
    "def pipeline(array):\n",
    "    date = pd.to_datetime(array[0])\n",
    "    day, week = date.day, date.week\n",
    "    dlat, dlon = zip_dict[array[1]]\n",
    "    ozip = sku_dict[array[2]]\n",
    "    olat, olon = zip_dict[ozip]\n",
    "    return [day, week, dlat, dlon, olat, olon]"
   ]
  },
  {
   "cell_type": "code",
   "execution_count": 262,
   "id": "6a60b748-4fc1-4c38-ad36-3cf8d7912f0a",
   "metadata": {},
   "outputs": [],
   "source": [
    "customer_processed = pipeline(new_customer)"
   ]
  },
  {
   "cell_type": "code",
   "execution_count": 263,
   "id": "e312fb1e-4e25-46c8-979d-521028adb9f2",
   "metadata": {},
   "outputs": [
    {
     "name": "stderr",
     "output_type": "stream",
     "text": [
      "/opt/conda/lib/python3.9/site-packages/sklearn/base.py:450: UserWarning: X does not have valid feature names, but RandomForestRegressor was fitted with feature names\n",
      "  warnings.warn(\n"
     ]
    },
    {
     "data": {
      "text/plain": [
       "array([1.29])"
      ]
     },
     "execution_count": 263,
     "metadata": {},
     "output_type": "execute_result"
    }
   ],
   "source": [
    "rfr.predict(pd.DataFrame(customer_processed).T)"
   ]
  },
  {
   "cell_type": "code",
   "execution_count": 264,
   "id": "59ed0c60-a4fa-4e9d-bef8-c0e3f3f5231a",
   "metadata": {},
   "outputs": [],
   "source": [
    "new_customer = [[\"2018-09-19\", \"98405\", \"12309888\"], [\"2018-09-19\", \"98405\", \"12309118\"]]"
   ]
  },
  {
   "cell_type": "code",
   "execution_count": 265,
   "id": "517237f3-c12b-4aa0-8e7a-0589e66dd4d5",
   "metadata": {},
   "outputs": [],
   "source": [
    "def pipeline_2(array):\n",
    "    all_arrays = []\n",
    "    for elem in array:\n",
    "        date = pd.to_datetime(elem[0])\n",
    "        day, week = date.day, date.week\n",
    "        dlat, dlon = zip_dict[elem[1]]\n",
    "        ozip = sku_dict[elem[2]]\n",
    "        olat, olon = zip_dict[ozip]\n",
    "        features = [day, week, dlat, dlon, olat, olon]\n",
    "        all_arrays.append(features)\n",
    "    return all_arrays"
   ]
  },
  {
   "cell_type": "code",
   "execution_count": 266,
   "id": "db130080-7d6d-4f43-a0c4-b7d530e06aae",
   "metadata": {},
   "outputs": [
    {
     "name": "stdout",
     "output_type": "stream",
     "text": [
      "139 µs ± 2.03 µs per loop (mean ± std. dev. of 7 runs, 10,000 loops each)\n"
     ]
    }
   ],
   "source": [
    "%%timeit\n",
    "pipeline_2(new_customer)"
   ]
  },
  {
   "cell_type": "code",
   "execution_count": 267,
   "id": "339ae242-a4e5-48f6-8664-1a1f1431491a",
   "metadata": {},
   "outputs": [
    {
     "name": "stderr",
     "output_type": "stream",
     "text": [
      "/opt/conda/lib/python3.9/site-packages/sklearn/base.py:450: UserWarning: X does not have valid feature names, but RandomForestRegressor was fitted with feature names\n",
      "  warnings.warn(\n"
     ]
    },
    {
     "data": {
      "text/plain": [
       "array([1.29, 2.11])"
      ]
     },
     "execution_count": 267,
     "metadata": {},
     "output_type": "execute_result"
    }
   ],
   "source": [
    "rfr.predict(pipeline_2(new_customer))"
   ]
  },
  {
   "cell_type": "code",
   "execution_count": 310,
   "id": "98696dab-e769-4f08-97e0-85c5923710af",
   "metadata": {},
   "outputs": [],
   "source": [
    "dates = np.array(list(map(np.datetime64, new_customer[:,0])))"
   ]
  },
  {
   "cell_type": "code",
   "execution_count": 312,
   "id": "fb1c00cc-e6db-486c-97f7-7465572ac0d4",
   "metadata": {},
   "outputs": [],
   "source": [
    "new_customer = np.array([[\"2018-09-19\", \"98405\", \"12309888\"], [\"2018-09-19\", \"98405\", \"12309118\"]])"
   ]
  },
  {
   "cell_type": "code",
   "execution_count": null,
   "id": "ce148271-c476-445f-8b1a-946cda2092d6",
   "metadata": {},
   "outputs": [],
   "source": [
    "dlat, dlon = zip_dict[elem[1]]\n",
    "        ozip = sku_dict[elem[2]]\n",
    "        olat, olon = zip_dict[ozip]"
   ]
  },
  {
   "cell_type": "code",
   "execution_count": 331,
   "id": "66064bce-1c54-4e20-b0a8-9b7b06dccafb",
   "metadata": {},
   "outputs": [
    {
     "data": {
      "text/plain": [
       "[[19, 3], [19, 3]]"
      ]
     },
     "execution_count": 331,
     "metadata": {},
     "output_type": "execute_result"
    }
   ],
   "source": [
    "all_arrays"
   ]
  },
  {
   "cell_type": "code",
   "execution_count": 347,
   "id": "ff955433-254f-43ef-9a03-ecc9beb0ec49",
   "metadata": {},
   "outputs": [],
   "source": [
    "def convert_date_pandas(new_customer):\n",
    "    to_return = []\n",
    "    for array in new_customer: \n",
    "        date = pd.to_datetime(array[0])\n",
    "        to_return.append([date.day, date.weekday()])\n",
    "    return to_return"
   ]
  },
  {
   "cell_type": "code",
   "execution_count": 349,
   "id": "eb53bc09-5515-472a-98dd-33e5794dbc87",
   "metadata": {},
   "outputs": [],
   "source": [
    "def convert_date_np(new_customer):\n",
    "    to_return = []\n",
    "    for date in map(np.datetime64, new_customer[:,0]):\n",
    "        converted = date.astype(datetime.datetime)\n",
    "        to_return.append([converted.day, converted.isoweekday() -1])\n",
    "    return to_return"
   ]
  },
  {
   "cell_type": "code",
   "execution_count": 359,
   "id": "186ea822-9cca-4d1e-9b02-beb036534ee1",
   "metadata": {},
   "outputs": [
    {
     "name": "stdout",
     "output_type": "stream",
     "text": [
      "150 µs ± 3.27 µs per loop (mean ± std. dev. of 7 runs, 10,000 loops each)\n"
     ]
    }
   ],
   "source": [
    "%%timeit \n",
    "convert_date_pandas(new_customer)"
   ]
  },
  {
   "cell_type": "code",
   "execution_count": 360,
   "id": "77ef175e-8846-472d-acfe-0aa35c7a3805",
   "metadata": {},
   "outputs": [
    {
     "name": "stdout",
     "output_type": "stream",
     "text": [
      "7.24 µs ± 155 ns per loop (mean ± std. dev. of 7 runs, 100,000 loops each)\n"
     ]
    }
   ],
   "source": [
    "%%timeit \n",
    "convert_date_np(new_customer)"
   ]
  },
  {
   "cell_type": "code",
   "execution_count": 352,
   "id": "23a43756-5ba2-43a1-875a-3eb7cff0d9fa",
   "metadata": {},
   "outputs": [
    {
     "data": {
      "text/plain": [
       "[[19, 2], [19, 2]]"
      ]
     },
     "execution_count": 352,
     "metadata": {},
     "output_type": "execute_result"
    }
   ],
   "source": [
    "convert_date_pandas(new_customer)"
   ]
  },
  {
   "cell_type": "code",
   "execution_count": 353,
   "id": "5d58fe4e-782e-4e86-ba27-e701c0b8d28e",
   "metadata": {},
   "outputs": [
    {
     "data": {
      "text/plain": [
       "[[19, 2], [19, 2]]"
      ]
     },
     "execution_count": 353,
     "metadata": {},
     "output_type": "execute_result"
    }
   ],
   "source": [
    "convert_date_np(new_customer)"
   ]
  },
  {
   "cell_type": "code",
   "execution_count": null,
   "id": "880b2ad0-dbf9-49ef-a0cc-7bc253b754a9",
   "metadata": {},
   "outputs": [],
   "source": []
  },
  {
   "cell_type": "code",
   "execution_count": 327,
   "id": "63dce21d-3bd8-4e19-a8da-5ad54f7d685a",
   "metadata": {},
   "outputs": [
    {
     "data": {
      "text/plain": [
       "array(['98405', '98405'], dtype='<U10')"
      ]
     },
     "execution_count": 327,
     "metadata": {},
     "output_type": "execute_result"
    }
   ],
   "source": [
    "new_customer[:, 1]"
   ]
  },
  {
   "cell_type": "code",
   "execution_count": null,
   "id": "282c762f-b981-4cef-8e5c-233909384cc5",
   "metadata": {},
   "outputs": [
    {
     "data": {
      "text/plain": [
       "<function dict.get(key, default=None, /)>"
      ]
     },
     "execution_count": 325,
     "metadata": {},
     "output_type": "execute_result"
    }
   ],
   "source": [
    "zip_dict.get"
   ]
  },
  {
   "cell_type": "code",
   "execution_count": 212,
   "id": "c09dc5d3-58b8-4ad9-bb77-90e51d279bad",
   "metadata": {},
   "outputs": [
    {
     "ename": "IndentationError",
     "evalue": "expected an indented block (2553754343.py, line 1)",
     "output_type": "error",
     "traceback": [
      "\u001b[0;36m  Input \u001b[0;32mIn [212]\u001b[0;36m\u001b[0m\n\u001b[0;31m    def pipeline_3():\u001b[0m\n\u001b[0m                     ^\u001b[0m\n\u001b[0;31mIndentationError\u001b[0m\u001b[0;31m:\u001b[0m expected an indented block\n"
     ]
    }
   ],
   "source": [
    "def pipeline_3(array):\n",
    "    np.array(list(map(np.datetime64, new_customer[:,0])))\n",
    "    [i.astype(datetime.datetime).isoweekday() for i in map(np.datetime64, new_customer[:,0]]\n",
    "    new_customer[:,0]"
   ]
  },
  {
   "cell_type": "code",
   "execution_count": 281,
   "id": "a8572c7e-478c-4d5f-948f-fc5595290245",
   "metadata": {},
   "outputs": [
    {
     "ename": "ValueError",
     "evalue": "Error parsing datetime string \"<map objec\" at position 0",
     "output_type": "error",
     "traceback": [
      "\u001b[0;31m---------------------------------------------------------------------------\u001b[0m",
      "\u001b[0;31mValueError\u001b[0m                                Traceback (most recent call last)",
      "Input \u001b[0;32mIn [281]\u001b[0m, in \u001b[0;36m<module>\u001b[0;34m\u001b[0m\n\u001b[0;32m----> 1\u001b[0m np\u001b[38;5;241m.\u001b[39marray(\u001b[38;5;28;43mlist\u001b[39;49m\u001b[43m(\u001b[49m\u001b[38;5;28;43mmap\u001b[39;49m\u001b[43m(\u001b[49m\u001b[43mnp\u001b[49m\u001b[38;5;241;43m.\u001b[39;49m\u001b[43mdatetime64\u001b[49m\u001b[43m,\u001b[49m\u001b[43m \u001b[49m\u001b[43mnew_customer\u001b[49m\u001b[43m[\u001b[49m\u001b[43m:\u001b[49m\u001b[43m,\u001b[49m\u001b[38;5;241;43m0\u001b[39;49m\u001b[43m]\u001b[49m\u001b[43m)\u001b[49m\u001b[43m)\u001b[49m)\n",
      "\u001b[0;31mValueError\u001b[0m: Error parsing datetime string \"<map objec\" at position 0"
     ]
    }
   ],
   "source": [
    "np.array(list(map(np.datetime64, new_customer[:,0])))"
   ]
  },
  {
   "cell_type": "code",
   "execution_count": 271,
   "id": "0af046bc-4b66-458e-8c41-4da92ca7a6aa",
   "metadata": {},
   "outputs": [
    {
     "ename": "AttributeError",
     "evalue": "'numpy.ndarray' object has no attribute 'map'",
     "output_type": "error",
     "traceback": [
      "\u001b[0;31m---------------------------------------------------------------------------\u001b[0m",
      "\u001b[0;31mAttributeError\u001b[0m                            Traceback (most recent call last)",
      "Input \u001b[0;32mIn [271]\u001b[0m, in \u001b[0;36m<module>\u001b[0;34m\u001b[0m\n\u001b[0;32m----> 1\u001b[0m \u001b[43mnew_customer\u001b[49m\u001b[43m[\u001b[49m\u001b[43m:\u001b[49m\u001b[43m,\u001b[49m\u001b[38;5;241;43m0\u001b[39;49m\u001b[43m]\u001b[49m\u001b[38;5;241;43m.\u001b[39;49m\u001b[43mmap\u001b[49m(np\u001b[38;5;241m.\u001b[39mdatetime64)\n",
      "\u001b[0;31mAttributeError\u001b[0m: 'numpy.ndarray' object has no attribute 'map'"
     ]
    }
   ],
   "source": [
    "new_customer[:,0].map(np.datetime64)"
   ]
  },
  {
   "cell_type": "code",
   "execution_count": 228,
   "id": "66f4d67f-c595-41e9-a0c3-50f3ca739dc2",
   "metadata": {},
   "outputs": [
    {
     "data": {
      "text/plain": [
       "DatetimeIndex(['2019-01-01', '2019-01-01'], dtype='datetime64[ns]', freq=None)"
      ]
     },
     "execution_count": 228,
     "metadata": {},
     "output_type": "execute_result"
    }
   ],
   "source": [
    "pd.to_datetime(new_customer[:,0])"
   ]
  },
  {
   "cell_type": "code",
   "execution_count": 242,
   "id": "fb2e80f5-d5f4-4e97-8376-415e7dbe9845",
   "metadata": {},
   "outputs": [
    {
     "ename": "ValueError",
     "evalue": "Error parsing datetime string \"01/01/2019\" at position 2",
     "output_type": "error",
     "traceback": [
      "\u001b[0;31m---------------------------------------------------------------------------\u001b[0m",
      "\u001b[0;31mValueError\u001b[0m                                Traceback (most recent call last)",
      "Input \u001b[0;32mIn [246]\u001b[0m, in \u001b[0;36m<module>\u001b[0;34m\u001b[0m\n\u001b[1;32m      1\u001b[0m t \u001b[38;5;241m=\u001b[39m \u001b[38;5;124m'\u001b[39m\u001b[38;5;124m01/01/2019\u001b[39m\u001b[38;5;124m'\u001b[39m\n\u001b[0;32m----> 2\u001b[0m t \u001b[38;5;241m=\u001b[39m \u001b[43mnp\u001b[49m\u001b[38;5;241;43m.\u001b[39;49m\u001b[43mdatetime64\u001b[49m\u001b[43m(\u001b[49m\u001b[43mt\u001b[49m\u001b[43m)\u001b[49m\n\u001b[1;32m      3\u001b[0m day \u001b[38;5;241m=\u001b[39m t\u001b[38;5;241m.\u001b[39mastype(datetime\u001b[38;5;241m.\u001b[39mdatetime)\u001b[38;5;241m.\u001b[39misoweekday()\n",
      "\u001b[0;31mValueError\u001b[0m: Error parsing datetime string \"01/01/2019\" at position 2"
     ]
    }
   ],
   "source": [
    "t = '2018-09-19'\n",
    "t = np.datetime64(t)\n",
    "day = t.astype(datetime.datetime).isoweekday()"
   ]
  },
  {
   "cell_type": "code",
   "execution_count": 243,
   "id": "dd896849-91c4-4642-a03b-e411a5c33218",
   "metadata": {},
   "outputs": [
    {
     "data": {
      "text/plain": [
       "3"
      ]
     },
     "execution_count": 243,
     "metadata": {},
     "output_type": "execute_result"
    }
   ],
   "source": [
    "day"
   ]
  },
  {
   "cell_type": "code",
   "execution_count": 244,
   "id": "d0ca6ae3-126b-4132-aa93-6321dd6c39a8",
   "metadata": {},
   "outputs": [],
   "source": [
    "t = '2018-09-19'\n",
    "t = np.datetime64(t)\n",
    "day = t.astype(datetime.datetime).day"
   ]
  },
  {
   "cell_type": "code",
   "execution_count": null,
   "id": "3c4f91d2-55c5-4cb1-94f9-1a7e8baba7e2",
   "metadata": {},
   "outputs": [
    {
     "data": {
      "text/plain": [
       "19"
      ]
     },
     "execution_count": 245,
     "metadata": {},
     "output_type": "execute_result"
    }
   ],
   "source": []
  }
 ],
 "metadata": {
  "kernelspec": {
   "display_name": "Python 3 (ipykernel)",
   "language": "python",
   "name": "python3"
  },
  "language_info": {
   "codemirror_mode": {
    "name": "ipython",
    "version": 3
   },
   "file_extension": ".py",
   "mimetype": "text/x-python",
   "name": "python",
   "nbconvert_exporter": "python",
   "pygments_lexer": "ipython3",
   "version": "3.9.7"
  }
 },
 "nbformat": 4,
 "nbformat_minor": 5
}
