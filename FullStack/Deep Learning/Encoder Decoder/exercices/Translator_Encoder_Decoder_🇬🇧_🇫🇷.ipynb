{
 "cells": [
  {
   "cell_type": "code",
   "execution_count": 2,
   "metadata": {},
   "outputs": [
    {
     "name": "stderr",
     "output_type": "stream",
     "text": [
      "c:\\Users\\jerem\\AppData\\Local\\Programs\\Python\\Python310\\lib\\site-packages\\tqdm\\auto.py:22: TqdmWarning: IProgress not found. Please update jupyter and ipywidgets. See https://ipywidgets.readthedocs.io/en/stable/user_install.html\n",
      "  from .autonotebook import tqdm as notebook_tqdm\n"
     ]
    },
    {
     "data": {
      "text/plain": [
       "'2.11.0'"
      ]
     },
     "execution_count": 2,
     "metadata": {},
     "output_type": "execute_result"
    }
   ],
   "source": [
    "import sklearn\n",
    "\n",
    "import numpy as np \n",
    "import pandas as pd\n",
    "import tensorflow as tf \n",
    "import tensorflow_datasets as tfds\n",
    "\n",
    "from sklearn.model_selection import train_test_split\n",
    "tf.__version__"
   ]
  },
  {
   "cell_type": "code",
   "execution_count": 3,
   "metadata": {},
   "outputs": [],
   "source": [
    "df = pd.read_csv(\"https://go.aws/38ECHUB\", delimiter=\"\\t\", header=None, nrows=5000)\n",
    "df.rename(columns={0:'en', 1:'fr'}, inplace=True)"
   ]
  },
  {
   "cell_type": "code",
   "execution_count": 4,
   "metadata": {},
   "outputs": [
    {
     "data": {
      "text/html": [
       "<div>\n",
       "<style scoped>\n",
       "    .dataframe tbody tr th:only-of-type {\n",
       "        vertical-align: middle;\n",
       "    }\n",
       "\n",
       "    .dataframe tbody tr th {\n",
       "        vertical-align: top;\n",
       "    }\n",
       "\n",
       "    .dataframe thead th {\n",
       "        text-align: right;\n",
       "    }\n",
       "</style>\n",
       "<table border=\"1\" class=\"dataframe\">\n",
       "  <thead>\n",
       "    <tr style=\"text-align: right;\">\n",
       "      <th></th>\n",
       "      <th>en</th>\n",
       "      <th>fr</th>\n",
       "    </tr>\n",
       "  </thead>\n",
       "  <tbody>\n",
       "    <tr>\n",
       "      <th>0</th>\n",
       "      <td>Go.</td>\n",
       "      <td>Va !</td>\n",
       "    </tr>\n",
       "    <tr>\n",
       "      <th>1</th>\n",
       "      <td>Hi.</td>\n",
       "      <td>Salut !</td>\n",
       "    </tr>\n",
       "    <tr>\n",
       "      <th>2</th>\n",
       "      <td>Run!</td>\n",
       "      <td>Cours !</td>\n",
       "    </tr>\n",
       "    <tr>\n",
       "      <th>3</th>\n",
       "      <td>Run!</td>\n",
       "      <td>Courez !</td>\n",
       "    </tr>\n",
       "    <tr>\n",
       "      <th>4</th>\n",
       "      <td>Wow!</td>\n",
       "      <td>Ça alors !</td>\n",
       "    </tr>\n",
       "    <tr>\n",
       "      <th>...</th>\n",
       "      <td>...</td>\n",
       "      <td>...</td>\n",
       "    </tr>\n",
       "    <tr>\n",
       "      <th>4995</th>\n",
       "      <td>I am so sorry.</td>\n",
       "      <td>Je suis tellement désolé !</td>\n",
       "    </tr>\n",
       "    <tr>\n",
       "      <th>4996</th>\n",
       "      <td>I am so sorry.</td>\n",
       "      <td>Je suis tellement désolée !</td>\n",
       "    </tr>\n",
       "    <tr>\n",
       "      <th>4997</th>\n",
       "      <td>I am very sad.</td>\n",
       "      <td>Je suis très triste.</td>\n",
       "    </tr>\n",
       "    <tr>\n",
       "      <th>4998</th>\n",
       "      <td>I ate a donut.</td>\n",
       "      <td>J'ai mangé un beignet.</td>\n",
       "    </tr>\n",
       "    <tr>\n",
       "      <th>4999</th>\n",
       "      <td>I ate quickly.</td>\n",
       "      <td>J'ai mangé rapidement.</td>\n",
       "    </tr>\n",
       "  </tbody>\n",
       "</table>\n",
       "<p>5000 rows × 2 columns</p>\n",
       "</div>"
      ],
      "text/plain": [
       "                  en                           fr\n",
       "0                Go.                         Va !\n",
       "1                Hi.                      Salut !\n",
       "2               Run!                      Cours !\n",
       "3               Run!                     Courez !\n",
       "4               Wow!                   Ça alors !\n",
       "...              ...                          ...\n",
       "4995  I am so sorry.   Je suis tellement désolé !\n",
       "4996  I am so sorry.  Je suis tellement désolée !\n",
       "4997  I am very sad.         Je suis très triste.\n",
       "4998  I ate a donut.       J'ai mangé un beignet.\n",
       "4999  I ate quickly.       J'ai mangé rapidement.\n",
       "\n",
       "[5000 rows x 2 columns]"
      ]
     },
     "execution_count": 4,
     "metadata": {},
     "output_type": "execute_result"
    }
   ],
   "source": [
    "df"
   ]
  },
  {
   "cell_type": "code",
   "execution_count": 5,
   "metadata": {},
   "outputs": [],
   "source": [
    "df[\"padded_en\"] = df[\"en\"].apply(lambda x : f\"<start> {x}\")"
   ]
  },
  {
   "cell_type": "code",
   "execution_count": 6,
   "metadata": {},
   "outputs": [],
   "source": [
    "tokenizer_fr = tf.keras.preprocessing.text.Tokenizer()\n",
    "tokenizer_fr.fit_on_texts(df[\"fr\"])\n",
    "df[\"fr_indices\"] = tokenizer_fr.texts_to_sequences(df[\"fr\"])"
   ]
  },
  {
   "cell_type": "code",
   "execution_count": 7,
   "metadata": {},
   "outputs": [],
   "source": [
    "tokenizer_en = tf.keras.preprocessing.text.Tokenizer(filters='<>!\"#$%&()*+,-./:;=?@[\\\\]^_`{|}~\\t\\n')\n",
    "tokenizer_en.fit_on_texts(df[\"en\"])\n",
    "df[\"en_indices\"] = tokenizer_en.texts_to_sequences(df[\"en\"])"
   ]
  },
  {
   "cell_type": "code",
   "execution_count": 8,
   "metadata": {},
   "outputs": [],
   "source": [
    "df[\"padded_en_indices\"] = tokenizer_en.texts_to_sequences(df[\"padded_en\"])"
   ]
  },
  {
   "cell_type": "code",
   "execution_count": 9,
   "metadata": {},
   "outputs": [],
   "source": [
    "df[\"padded_en_indices_clean\"] = df[\"padded_en_indices\"].apply(lambda x : x[:-1])"
   ]
  },
  {
   "cell_type": "code",
   "execution_count": 10,
   "metadata": {},
   "outputs": [
    {
     "data": {
      "text/html": [
       "<div>\n",
       "<style scoped>\n",
       "    .dataframe tbody tr th:only-of-type {\n",
       "        vertical-align: middle;\n",
       "    }\n",
       "\n",
       "    .dataframe tbody tr th {\n",
       "        vertical-align: top;\n",
       "    }\n",
       "\n",
       "    .dataframe thead th {\n",
       "        text-align: right;\n",
       "    }\n",
       "</style>\n",
       "<table border=\"1\" class=\"dataframe\">\n",
       "  <thead>\n",
       "    <tr style=\"text-align: right;\">\n",
       "      <th></th>\n",
       "      <th>en</th>\n",
       "      <th>fr</th>\n",
       "      <th>padded_en</th>\n",
       "      <th>fr_indices</th>\n",
       "      <th>en_indices</th>\n",
       "      <th>padded_en_indices</th>\n",
       "      <th>padded_en_indices_clean</th>\n",
       "    </tr>\n",
       "  </thead>\n",
       "  <tbody>\n",
       "    <tr>\n",
       "      <th>0</th>\n",
       "      <td>Go.</td>\n",
       "      <td>Va !</td>\n",
       "      <td>&lt;start&gt; Go.</td>\n",
       "      <td>[36]</td>\n",
       "      <td>[10]</td>\n",
       "      <td>[218, 10]</td>\n",
       "      <td>[218]</td>\n",
       "    </tr>\n",
       "    <tr>\n",
       "      <th>1</th>\n",
       "      <td>Hi.</td>\n",
       "      <td>Salut !</td>\n",
       "      <td>&lt;start&gt; Hi.</td>\n",
       "      <td>[404]</td>\n",
       "      <td>[615]</td>\n",
       "      <td>[218, 615]</td>\n",
       "      <td>[218]</td>\n",
       "    </tr>\n",
       "    <tr>\n",
       "      <th>2</th>\n",
       "      <td>Run!</td>\n",
       "      <td>Cours !</td>\n",
       "      <td>&lt;start&gt; Run!</td>\n",
       "      <td>[1212]</td>\n",
       "      <td>[110]</td>\n",
       "      <td>[218, 110]</td>\n",
       "      <td>[218]</td>\n",
       "    </tr>\n",
       "    <tr>\n",
       "      <th>3</th>\n",
       "      <td>Run!</td>\n",
       "      <td>Courez !</td>\n",
       "      <td>&lt;start&gt; Run!</td>\n",
       "      <td>[1213]</td>\n",
       "      <td>[110]</td>\n",
       "      <td>[218, 110]</td>\n",
       "      <td>[218]</td>\n",
       "    </tr>\n",
       "    <tr>\n",
       "      <th>4</th>\n",
       "      <td>Wow!</td>\n",
       "      <td>Ça alors !</td>\n",
       "      <td>&lt;start&gt; Wow!</td>\n",
       "      <td>[22, 1214]</td>\n",
       "      <td>[871]</td>\n",
       "      <td>[218, 871]</td>\n",
       "      <td>[218]</td>\n",
       "    </tr>\n",
       "    <tr>\n",
       "      <th>...</th>\n",
       "      <td>...</td>\n",
       "      <td>...</td>\n",
       "      <td>...</td>\n",
       "      <td>...</td>\n",
       "      <td>...</td>\n",
       "      <td>...</td>\n",
       "      <td>...</td>\n",
       "    </tr>\n",
       "    <tr>\n",
       "      <th>4995</th>\n",
       "      <td>I am so sorry.</td>\n",
       "      <td>Je suis tellement désolé !</td>\n",
       "      <td>&lt;start&gt; I am so sorry.</td>\n",
       "      <td>[1, 2, 181, 232]</td>\n",
       "      <td>[1, 23, 77, 127]</td>\n",
       "      <td>[218, 1, 23, 77, 127]</td>\n",
       "      <td>[218, 1, 23, 77]</td>\n",
       "    </tr>\n",
       "    <tr>\n",
       "      <th>4996</th>\n",
       "      <td>I am so sorry.</td>\n",
       "      <td>Je suis tellement désolée !</td>\n",
       "      <td>&lt;start&gt; I am so sorry.</td>\n",
       "      <td>[1, 2, 181, 361]</td>\n",
       "      <td>[1, 23, 77, 127]</td>\n",
       "      <td>[218, 1, 23, 77, 127]</td>\n",
       "      <td>[218, 1, 23, 77]</td>\n",
       "    </tr>\n",
       "    <tr>\n",
       "      <th>4997</th>\n",
       "      <td>I am very sad.</td>\n",
       "      <td>Je suis très triste.</td>\n",
       "      <td>&lt;start&gt; I am very sad.</td>\n",
       "      <td>[1, 2, 208, 169]</td>\n",
       "      <td>[1, 23, 286, 133]</td>\n",
       "      <td>[218, 1, 23, 286, 133]</td>\n",
       "      <td>[218, 1, 23, 286]</td>\n",
       "    </tr>\n",
       "    <tr>\n",
       "      <th>4998</th>\n",
       "      <td>I ate a donut.</td>\n",
       "      <td>J'ai mangé un beignet.</td>\n",
       "      <td>&lt;start&gt; I ate a donut.</td>\n",
       "      <td>[12, 401, 23, 684]</td>\n",
       "      <td>[1, 395, 6, 589]</td>\n",
       "      <td>[218, 1, 395, 6, 589]</td>\n",
       "      <td>[218, 1, 395, 6]</td>\n",
       "    </tr>\n",
       "    <tr>\n",
       "      <th>4999</th>\n",
       "      <td>I ate quickly.</td>\n",
       "      <td>J'ai mangé rapidement.</td>\n",
       "      <td>&lt;start&gt; I ate quickly.</td>\n",
       "      <td>[12, 401, 1208]</td>\n",
       "      <td>[1, 395, 222]</td>\n",
       "      <td>[218, 1, 395, 222]</td>\n",
       "      <td>[218, 1, 395]</td>\n",
       "    </tr>\n",
       "  </tbody>\n",
       "</table>\n",
       "<p>5000 rows × 7 columns</p>\n",
       "</div>"
      ],
      "text/plain": [
       "                  en                           fr               padded_en  \\\n",
       "0                Go.                         Va !             <start> Go.   \n",
       "1                Hi.                      Salut !             <start> Hi.   \n",
       "2               Run!                      Cours !            <start> Run!   \n",
       "3               Run!                     Courez !            <start> Run!   \n",
       "4               Wow!                   Ça alors !            <start> Wow!   \n",
       "...              ...                          ...                     ...   \n",
       "4995  I am so sorry.   Je suis tellement désolé !  <start> I am so sorry.   \n",
       "4996  I am so sorry.  Je suis tellement désolée !  <start> I am so sorry.   \n",
       "4997  I am very sad.         Je suis très triste.  <start> I am very sad.   \n",
       "4998  I ate a donut.       J'ai mangé un beignet.  <start> I ate a donut.   \n",
       "4999  I ate quickly.       J'ai mangé rapidement.  <start> I ate quickly.   \n",
       "\n",
       "              fr_indices         en_indices       padded_en_indices  \\\n",
       "0                   [36]               [10]               [218, 10]   \n",
       "1                  [404]              [615]              [218, 615]   \n",
       "2                 [1212]              [110]              [218, 110]   \n",
       "3                 [1213]              [110]              [218, 110]   \n",
       "4             [22, 1214]              [871]              [218, 871]   \n",
       "...                  ...                ...                     ...   \n",
       "4995    [1, 2, 181, 232]   [1, 23, 77, 127]   [218, 1, 23, 77, 127]   \n",
       "4996    [1, 2, 181, 361]   [1, 23, 77, 127]   [218, 1, 23, 77, 127]   \n",
       "4997    [1, 2, 208, 169]  [1, 23, 286, 133]  [218, 1, 23, 286, 133]   \n",
       "4998  [12, 401, 23, 684]   [1, 395, 6, 589]   [218, 1, 395, 6, 589]   \n",
       "4999     [12, 401, 1208]      [1, 395, 222]      [218, 1, 395, 222]   \n",
       "\n",
       "     padded_en_indices_clean  \n",
       "0                      [218]  \n",
       "1                      [218]  \n",
       "2                      [218]  \n",
       "3                      [218]  \n",
       "4                      [218]  \n",
       "...                      ...  \n",
       "4995        [218, 1, 23, 77]  \n",
       "4996        [218, 1, 23, 77]  \n",
       "4997       [218, 1, 23, 286]  \n",
       "4998        [218, 1, 395, 6]  \n",
       "4999           [218, 1, 395]  \n",
       "\n",
       "[5000 rows x 7 columns]"
      ]
     },
     "execution_count": 10,
     "metadata": {},
     "output_type": "execute_result"
    }
   ],
   "source": [
    "df"
   ]
  },
  {
   "cell_type": "code",
   "execution_count": 11,
   "metadata": {},
   "outputs": [],
   "source": [
    "padding_fr = tf.keras.preprocessing.sequence.pad_sequences( df[\"fr_indices\"], padding=\"post\")\n",
    "padding_en = tf.keras.preprocessing.sequence.pad_sequences( df[\"en_indices\"], padding=\"post\")\n",
    "padded_en_indices_clean = tf.keras.preprocessing.sequence.pad_sequences( df[\"padded_en_indices_clean\"], padding=\"post\")"
   ]
  },
  {
   "cell_type": "code",
   "execution_count": 12,
   "metadata": {},
   "outputs": [
    {
     "data": {
      "text/plain": [
       "(5000, 10)"
      ]
     },
     "execution_count": 12,
     "metadata": {},
     "output_type": "execute_result"
    }
   ],
   "source": [
    "padding_fr.shape"
   ]
  },
  {
   "cell_type": "code",
   "execution_count": 13,
   "metadata": {},
   "outputs": [
    {
     "data": {
      "text/plain": [
       "(5000, 4)"
      ]
     },
     "execution_count": 13,
     "metadata": {},
     "output_type": "execute_result"
    }
   ],
   "source": [
    "padding_en.shape"
   ]
  },
  {
   "cell_type": "code",
   "execution_count": 14,
   "metadata": {},
   "outputs": [
    {
     "data": {
      "text/plain": [
       "(5000, 4)"
      ]
     },
     "execution_count": 14,
     "metadata": {},
     "output_type": "execute_result"
    }
   ],
   "source": [
    "padded_en_indices_clean.shape"
   ]
  },
  {
   "cell_type": "code",
   "execution_count": 15,
   "metadata": {},
   "outputs": [],
   "source": [
    "en_train, en_val, fr_train, fr_val, teacher_train, teacher_val =  train_test_split(padding_en,\n",
    "                                                                                   padding_fr,\n",
    "                                                                                   padded_en_indices_clean,\n",
    "                                                                                   test_size=0.3)"
   ]
  },
  {
   "cell_type": "code",
   "execution_count": 16,
   "metadata": {},
   "outputs": [
    {
     "data": {
      "text/plain": [
       "((3500, 4), (1500, 4), (3500, 10), (1500, 10), (3500, 4), (1500, 4))"
      ]
     },
     "execution_count": 16,
     "metadata": {},
     "output_type": "execute_result"
    }
   ],
   "source": [
    "en_train.shape, en_val.shape, fr_train.shape, fr_val.shape, teacher_train.shape, teacher_val.shape"
   ]
  },
  {
   "cell_type": "code",
   "execution_count": 17,
   "metadata": {},
   "outputs": [],
   "source": [
    "n_embed = 128\n",
    "n_lstm = 64\n",
    "fr_len = padding_fr.shape[1]\n",
    "en_len = padding_en.shape[1]\n",
    "vocab_size_fr = len(tokenizer_fr.word_index)\n",
    "vocab_size_en = len(tokenizer_en.word_index)\n"
   ]
  },
  {
   "cell_type": "code",
   "execution_count": 18,
   "metadata": {},
   "outputs": [],
   "source": [
    "#Setup Encoder\n",
    "encoder_input = tf.keras.Input(shape=fr_len)\n",
    "encoder_embed = tf.keras.layers.Embedding(input_dim=vocab_size_fr+1, output_dim=n_embed)\n",
    "encoder_lstm = tf.keras.layers.LSTM(n_lstm, return_state=True)\n",
    "\n",
    "encoder_embed_ouput = encoder_embed(encoder_input)\n",
    "encoder_output = encoder_lstm(encoder_embed_ouput)\n",
    "\n",
    "encoder = tf.keras.Model(inputs = encoder_input, outputs = encoder_output)"
   ]
  },
  {
   "cell_type": "code",
   "execution_count": 19,
   "metadata": {},
   "outputs": [
    {
     "data": {
      "text/plain": [
       "[<tf.Tensor: shape=(3500, 64), dtype=float32, numpy=\n",
       " array([[-0.00669308, -0.01318382, -0.00317102, ...,  0.01990228,\n",
       "         -0.00015661,  0.00371027],\n",
       "        [ 0.00074786, -0.01345642,  0.00087293, ...,  0.01017446,\n",
       "         -0.0059988 ,  0.00316827],\n",
       "        [-0.00689298, -0.01382952,  0.0003599 , ...,  0.01907188,\n",
       "         -0.00168965,  0.00392611],\n",
       "        ...,\n",
       "        [-0.00769159, -0.01423794, -0.00187745, ...,  0.01765457,\n",
       "         -0.00244856,  0.00479478],\n",
       "        [-0.00484343, -0.01421603, -0.00415691, ...,  0.01548809,\n",
       "         -0.00010933,  0.0048531 ],\n",
       "        [-0.00624511, -0.01397249, -0.0009027 , ...,  0.01741099,\n",
       "         -0.00320802,  0.00396907]], dtype=float32)>,\n",
       " <tf.Tensor: shape=(3500, 64), dtype=float32, numpy=\n",
       " array([[-0.00669308, -0.01318382, -0.00317102, ...,  0.01990228,\n",
       "         -0.00015661,  0.00371027],\n",
       "        [ 0.00074786, -0.01345642,  0.00087293, ...,  0.01017446,\n",
       "         -0.0059988 ,  0.00316827],\n",
       "        [-0.00689298, -0.01382952,  0.0003599 , ...,  0.01907188,\n",
       "         -0.00168965,  0.00392611],\n",
       "        ...,\n",
       "        [-0.00769159, -0.01423794, -0.00187745, ...,  0.01765457,\n",
       "         -0.00244856,  0.00479478],\n",
       "        [-0.00484343, -0.01421603, -0.00415691, ...,  0.01548809,\n",
       "         -0.00010933,  0.0048531 ],\n",
       "        [-0.00624511, -0.01397249, -0.0009027 , ...,  0.01741099,\n",
       "         -0.00320802,  0.00396907]], dtype=float32)>,\n",
       " <tf.Tensor: shape=(3500, 64), dtype=float32, numpy=\n",
       " array([[-0.01312712, -0.02651619, -0.00646896, ...,  0.03984478,\n",
       "         -0.00030696,  0.00732003],\n",
       "        [ 0.00146564, -0.02710289,  0.00177593, ...,  0.02034757,\n",
       "         -0.01177551,  0.00625133],\n",
       "        [-0.01351263, -0.02783553,  0.00073374, ...,  0.03818644,\n",
       "         -0.00331355,  0.00774487],\n",
       "        ...,\n",
       "        [-0.0150802 , -0.02867846, -0.00382715, ...,  0.03535003,\n",
       "         -0.00480051,  0.00945131],\n",
       "        [-0.00950115, -0.02859311, -0.0084736 , ...,  0.03098484,\n",
       "         -0.00021431,  0.00957186],\n",
       "        [-0.01224781, -0.0281438 , -0.00183941, ...,  0.03486675,\n",
       "         -0.00628767,  0.00783035]], dtype=float32)>]"
      ]
     },
     "execution_count": 19,
     "metadata": {},
     "output_type": "execute_result"
    }
   ],
   "source": [
    "encoder(fr_train)"
   ]
  },
  {
   "cell_type": "code",
   "execution_count": 20,
   "metadata": {},
   "outputs": [],
   "source": [
    "#Setup Decoder for train \n",
    "decoder_input = tf.keras.Input(shape=(en_len))\n",
    "decoder_embed = tf.keras.layers.Embedding(input_dim=vocab_size_en+1, \n",
    "                                          output_dim=n_embed)\n",
    "\n",
    "decoder_lstm = tf.keras.layers.LSTM(n_lstm, return_sequences=True, return_state=True)\n",
    "decoder_pred = tf.keras.layers.Dense(vocab_size_en+1, activation=\"softmax\")\n",
    "\n",
    "decoder_embed_output = decoder_embed(decoder_input)\n",
    "decoder_lstm_output, _, _ = decoder_lstm(decoder_embed_output, initial_state=encoder_output[1:])\n",
    "decoder_output = decoder_pred(decoder_lstm_output)\n",
    "\n",
    "decoder = tf.keras.Model(inputs = [encoder_input,decoder_input], outputs = decoder_output)"
   ]
  },
  {
   "cell_type": "code",
   "execution_count": 21,
   "metadata": {},
   "outputs": [],
   "source": [
    "#Setup Decoder for inference\n",
    "decoder_state_input_h = tf.keras.Input(shape=(n_lstm,))\n",
    "decoder_state_input_c = tf.keras.Input(shape=(n_lstm,))\n",
    "decoder_states_inputs = [decoder_state_input_h, decoder_state_input_c]\n",
    "\n",
    "decoder_input_inf = tf.keras.Input(shape=(1))\n",
    "decoder_embed_output = decoder_embed(decoder_input_inf)\n",
    "\n",
    "decoder_outputs, state_h, state_c = decoder_lstm(decoder_embed_output, initial_state=decoder_states_inputs)\n",
    "decoder_states = [state_h, state_c]\n",
    "decoder_outputs = decoder_pred(decoder_outputs)\n",
    "\n",
    "decoder_inf = tf.keras.Model(inputs = [decoder_input_inf, decoder_states_inputs], \n",
    "                     outputs = [decoder_outputs, decoder_states])"
   ]
  },
  {
   "cell_type": "code",
   "execution_count": 22,
   "metadata": {},
   "outputs": [],
   "source": [
    "#Compile decoder for training\n",
    "decoder.compile(\n",
    "    optimizer=tf.keras.optimizers.Adam(learning_rate=0.001),\n",
    "    loss=tf.keras.losses.SparseCategoricalCrossentropy(),\n",
    "    metrics=[tf.keras.metrics.SparseCategoricalAccuracy()])"
   ]
  },
  {
   "cell_type": "code",
   "execution_count": 23,
   "metadata": {},
   "outputs": [
    {
     "name": "stdout",
     "output_type": "stream",
     "text": [
      "Epoch 1/50\n",
      "110/110 [==============================] - 4s 17ms/step - loss: 4.9183 - sparse_categorical_accuracy: 0.3464 - val_loss: 3.9067 - val_sparse_categorical_accuracy: 0.3910\n",
      "Epoch 2/50\n",
      "110/110 [==============================] - 1s 11ms/step - loss: 3.6474 - sparse_categorical_accuracy: 0.3964 - val_loss: 3.5995 - val_sparse_categorical_accuracy: 0.3978\n",
      "Epoch 3/50\n",
      "110/110 [==============================] - 1s 12ms/step - loss: 3.4664 - sparse_categorical_accuracy: 0.4004 - val_loss: 3.5061 - val_sparse_categorical_accuracy: 0.4015\n",
      "Epoch 4/50\n",
      "110/110 [==============================] - 1s 11ms/step - loss: 3.3586 - sparse_categorical_accuracy: 0.4093 - val_loss: 3.4275 - val_sparse_categorical_accuracy: 0.4185\n",
      "Epoch 5/50\n",
      "110/110 [==============================] - 1s 11ms/step - loss: 3.2510 - sparse_categorical_accuracy: 0.4205 - val_loss: 3.3307 - val_sparse_categorical_accuracy: 0.4272\n",
      "Epoch 6/50\n",
      "110/110 [==============================] - 1s 11ms/step - loss: 3.1152 - sparse_categorical_accuracy: 0.4349 - val_loss: 3.2109 - val_sparse_categorical_accuracy: 0.4387\n",
      "Epoch 7/50\n",
      "110/110 [==============================] - 1s 11ms/step - loss: 2.9880 - sparse_categorical_accuracy: 0.4550 - val_loss: 3.1360 - val_sparse_categorical_accuracy: 0.4517\n",
      "Epoch 8/50\n",
      "110/110 [==============================] - 1s 12ms/step - loss: 2.8779 - sparse_categorical_accuracy: 0.4721 - val_loss: 3.0483 - val_sparse_categorical_accuracy: 0.4673\n",
      "Epoch 9/50\n",
      "110/110 [==============================] - 1s 12ms/step - loss: 2.7861 - sparse_categorical_accuracy: 0.4796 - val_loss: 2.9885 - val_sparse_categorical_accuracy: 0.4830\n",
      "Epoch 10/50\n",
      "110/110 [==============================] - 1s 12ms/step - loss: 2.6974 - sparse_categorical_accuracy: 0.4934 - val_loss: 2.9270 - val_sparse_categorical_accuracy: 0.4922\n",
      "Epoch 11/50\n",
      "110/110 [==============================] - 1s 11ms/step - loss: 2.6121 - sparse_categorical_accuracy: 0.5069 - val_loss: 2.8777 - val_sparse_categorical_accuracy: 0.5015\n",
      "Epoch 12/50\n",
      "110/110 [==============================] - 1s 11ms/step - loss: 2.5277 - sparse_categorical_accuracy: 0.5202 - val_loss: 2.8275 - val_sparse_categorical_accuracy: 0.5137\n",
      "Epoch 13/50\n",
      "110/110 [==============================] - 1s 11ms/step - loss: 2.4358 - sparse_categorical_accuracy: 0.5396 - val_loss: 2.7562 - val_sparse_categorical_accuracy: 0.5343\n",
      "Epoch 14/50\n",
      "110/110 [==============================] - 1s 11ms/step - loss: 2.3371 - sparse_categorical_accuracy: 0.5616 - val_loss: 2.7019 - val_sparse_categorical_accuracy: 0.5417\n",
      "Epoch 15/50\n",
      "110/110 [==============================] - 1s 11ms/step - loss: 2.2494 - sparse_categorical_accuracy: 0.5754 - val_loss: 2.6472 - val_sparse_categorical_accuracy: 0.5550\n",
      "Epoch 16/50\n",
      "110/110 [==============================] - 1s 11ms/step - loss: 2.1631 - sparse_categorical_accuracy: 0.5864 - val_loss: 2.5919 - val_sparse_categorical_accuracy: 0.5637\n",
      "Epoch 17/50\n",
      "110/110 [==============================] - 1s 11ms/step - loss: 2.0824 - sparse_categorical_accuracy: 0.5971 - val_loss: 2.5575 - val_sparse_categorical_accuracy: 0.5650\n",
      "Epoch 18/50\n",
      "110/110 [==============================] - 1s 11ms/step - loss: 2.0040 - sparse_categorical_accuracy: 0.6064 - val_loss: 2.5263 - val_sparse_categorical_accuracy: 0.5692\n",
      "Epoch 19/50\n",
      "110/110 [==============================] - 1s 11ms/step - loss: 1.9295 - sparse_categorical_accuracy: 0.6182 - val_loss: 2.4853 - val_sparse_categorical_accuracy: 0.5767\n",
      "Epoch 20/50\n",
      "110/110 [==============================] - 1s 11ms/step - loss: 1.8571 - sparse_categorical_accuracy: 0.6288 - val_loss: 2.4602 - val_sparse_categorical_accuracy: 0.5815\n",
      "Epoch 21/50\n",
      "110/110 [==============================] - 1s 11ms/step - loss: 1.7893 - sparse_categorical_accuracy: 0.6369 - val_loss: 2.4432 - val_sparse_categorical_accuracy: 0.5827\n",
      "Epoch 22/50\n",
      "110/110 [==============================] - 1s 11ms/step - loss: 1.7253 - sparse_categorical_accuracy: 0.6454 - val_loss: 2.4263 - val_sparse_categorical_accuracy: 0.5820\n",
      "Epoch 23/50\n",
      "110/110 [==============================] - 1s 11ms/step - loss: 1.6693 - sparse_categorical_accuracy: 0.6546 - val_loss: 2.4108 - val_sparse_categorical_accuracy: 0.5897\n",
      "Epoch 24/50\n",
      "110/110 [==============================] - 1s 11ms/step - loss: 1.6140 - sparse_categorical_accuracy: 0.6599 - val_loss: 2.3875 - val_sparse_categorical_accuracy: 0.5922\n",
      "Epoch 25/50\n",
      "110/110 [==============================] - 1s 11ms/step - loss: 1.5674 - sparse_categorical_accuracy: 0.6667 - val_loss: 2.3856 - val_sparse_categorical_accuracy: 0.5915\n",
      "Epoch 26/50\n",
      "110/110 [==============================] - 1s 11ms/step - loss: 1.5122 - sparse_categorical_accuracy: 0.6787 - val_loss: 2.3646 - val_sparse_categorical_accuracy: 0.5967\n",
      "Epoch 27/50\n",
      "110/110 [==============================] - 1s 11ms/step - loss: 1.4643 - sparse_categorical_accuracy: 0.6859 - val_loss: 2.3705 - val_sparse_categorical_accuracy: 0.5948\n",
      "Epoch 28/50\n",
      "110/110 [==============================] - 1s 11ms/step - loss: 1.4168 - sparse_categorical_accuracy: 0.6907 - val_loss: 2.3603 - val_sparse_categorical_accuracy: 0.5978\n",
      "Epoch 29/50\n",
      "110/110 [==============================] - 1s 11ms/step - loss: 1.3771 - sparse_categorical_accuracy: 0.6988 - val_loss: 2.3466 - val_sparse_categorical_accuracy: 0.5960\n",
      "Epoch 30/50\n",
      "110/110 [==============================] - 1s 11ms/step - loss: 1.3342 - sparse_categorical_accuracy: 0.7049 - val_loss: 2.3391 - val_sparse_categorical_accuracy: 0.6017\n",
      "Epoch 31/50\n",
      "110/110 [==============================] - 1s 11ms/step - loss: 1.2913 - sparse_categorical_accuracy: 0.7147 - val_loss: 2.3356 - val_sparse_categorical_accuracy: 0.6005\n",
      "Epoch 32/50\n",
      "110/110 [==============================] - 1s 11ms/step - loss: 1.2561 - sparse_categorical_accuracy: 0.7184 - val_loss: 2.3280 - val_sparse_categorical_accuracy: 0.6043\n",
      "Epoch 33/50\n",
      "110/110 [==============================] - 1s 11ms/step - loss: 1.2178 - sparse_categorical_accuracy: 0.7261 - val_loss: 2.3280 - val_sparse_categorical_accuracy: 0.6052\n",
      "Epoch 34/50\n",
      "110/110 [==============================] - 1s 12ms/step - loss: 1.1780 - sparse_categorical_accuracy: 0.7353 - val_loss: 2.3216 - val_sparse_categorical_accuracy: 0.6080\n",
      "Epoch 35/50\n",
      "110/110 [==============================] - 1s 11ms/step - loss: 1.1413 - sparse_categorical_accuracy: 0.7424 - val_loss: 2.3186 - val_sparse_categorical_accuracy: 0.6105\n",
      "Epoch 36/50\n",
      "110/110 [==============================] - 1s 11ms/step - loss: 1.1097 - sparse_categorical_accuracy: 0.7493 - val_loss: 2.3097 - val_sparse_categorical_accuracy: 0.6145\n",
      "Epoch 37/50\n",
      "110/110 [==============================] - 1s 13ms/step - loss: 1.0730 - sparse_categorical_accuracy: 0.7559 - val_loss: 2.3107 - val_sparse_categorical_accuracy: 0.6173\n",
      "Epoch 38/50\n",
      "110/110 [==============================] - 1s 13ms/step - loss: 1.0473 - sparse_categorical_accuracy: 0.7604 - val_loss: 2.3094 - val_sparse_categorical_accuracy: 0.6170\n",
      "Epoch 39/50\n",
      "110/110 [==============================] - 1s 12ms/step - loss: 1.0182 - sparse_categorical_accuracy: 0.7668 - val_loss: 2.3056 - val_sparse_categorical_accuracy: 0.6197\n",
      "Epoch 40/50\n",
      "110/110 [==============================] - 1s 11ms/step - loss: 0.9861 - sparse_categorical_accuracy: 0.7755 - val_loss: 2.2995 - val_sparse_categorical_accuracy: 0.6212\n",
      "Epoch 41/50\n",
      "110/110 [==============================] - 1s 11ms/step - loss: 0.9528 - sparse_categorical_accuracy: 0.7821 - val_loss: 2.3003 - val_sparse_categorical_accuracy: 0.6243\n",
      "Epoch 42/50\n",
      "110/110 [==============================] - 1s 12ms/step - loss: 0.9293 - sparse_categorical_accuracy: 0.7869 - val_loss: 2.3002 - val_sparse_categorical_accuracy: 0.6253\n",
      "Epoch 43/50\n",
      "110/110 [==============================] - 1s 11ms/step - loss: 0.9018 - sparse_categorical_accuracy: 0.7916 - val_loss: 2.2883 - val_sparse_categorical_accuracy: 0.6265\n",
      "Epoch 44/50\n",
      "110/110 [==============================] - 1s 12ms/step - loss: 0.8742 - sparse_categorical_accuracy: 0.7953 - val_loss: 2.2978 - val_sparse_categorical_accuracy: 0.6277\n",
      "Epoch 45/50\n",
      "110/110 [==============================] - 1s 11ms/step - loss: 0.8545 - sparse_categorical_accuracy: 0.8006 - val_loss: 2.2964 - val_sparse_categorical_accuracy: 0.6302\n",
      "Epoch 46/50\n",
      "110/110 [==============================] - 1s 11ms/step - loss: 0.8288 - sparse_categorical_accuracy: 0.8086 - val_loss: 2.2972 - val_sparse_categorical_accuracy: 0.6345\n",
      "Epoch 47/50\n",
      "110/110 [==============================] - 1s 12ms/step - loss: 0.8024 - sparse_categorical_accuracy: 0.8134 - val_loss: 2.2974 - val_sparse_categorical_accuracy: 0.6303\n",
      "Epoch 48/50\n",
      "110/110 [==============================] - 1s 12ms/step - loss: 0.7778 - sparse_categorical_accuracy: 0.8185 - val_loss: 2.2867 - val_sparse_categorical_accuracy: 0.6365\n",
      "Epoch 49/50\n",
      "110/110 [==============================] - 1s 12ms/step - loss: 0.7560 - sparse_categorical_accuracy: 0.8246 - val_loss: 2.3012 - val_sparse_categorical_accuracy: 0.6348\n",
      "Epoch 50/50\n",
      "110/110 [==============================] - 1s 12ms/step - loss: 0.7383 - sparse_categorical_accuracy: 0.8287 - val_loss: 2.3045 - val_sparse_categorical_accuracy: 0.6368\n"
     ]
    },
    {
     "data": {
      "text/plain": [
       "<keras.callbacks.History at 0x2507e9215d0>"
      ]
     },
     "execution_count": 23,
     "metadata": {},
     "output_type": "execute_result"
    }
   ],
   "source": [
    "#Training\n",
    "decoder.fit(x=[fr_train, teacher_train], y=en_train,epochs=50, validation_data=([fr_val, teacher_val], en_val))"
   ]
  },
  {
   "cell_type": "code",
   "execution_count": 24,
   "metadata": {},
   "outputs": [
    {
     "name": "stdout",
     "output_type": "stream",
     "text": [
      "pred: [ 44 220 336  18]\n",
      "true: [80 11  0  0]\n",
      "\n",
      "\n",
      "pred: [37 37  4 92]\n",
      "true: [  24    4 1213    0]\n",
      "\n",
      "\n",
      "pred: [ 16 268 268  67]\n",
      "true: [ 37   1 103   4]\n",
      "\n",
      "\n",
      "pred: [ 12   4 191 125]\n",
      "true: [ 13 284   0   0]\n",
      "\n",
      "\n",
      "pred: [311 110  94   3]\n",
      "true: [744  35   0   0]\n",
      "\n",
      "\n",
      "pred: [  5 290  76  38]\n",
      "true: [   7    5   91 1237]\n",
      "\n",
      "\n",
      "pred: [ 12   4 191  53]\n",
      "true: [ 13 130   0   0]\n",
      "\n",
      "\n",
      "pred: [ 23 127 118 118]\n",
      "true: [  2 509   0   0]\n",
      "\n",
      "\n",
      "pred: [30 11 10 38]\n",
      "true: [ 27  33 507   0]\n",
      "\n",
      "\n",
      "pred: [ 12   4 106   0]\n",
      "true: [564  54   0   0]\n",
      "\n",
      "\n"
     ]
    }
   ],
   "source": [
    "#Setup for predictions on the validation data\n",
    "enc_input = fr_val\n",
    "dec_input = tf.ones(shape=(len(fr_val), 1))\n",
    "\n",
    "enc_out, state_h_inf, state_c_inf = encoder(enc_input)\n",
    "dec_state = [state_h_inf, state_c_inf]\n",
    "pred = [] \n",
    "\n",
    "for i in range(en_len):\n",
    "  dec_out, dec_state = decoder_inf([dec_input, dec_state])\n",
    "  decoded_out = tf.argmax(dec_out, axis=-1)\n",
    "  pred.append(decoded_out) \n",
    "  dec_input = decoded_out \n",
    "\n",
    "pred = tf.concat(pred, axis=-1).numpy()\n",
    "\n",
    "for i in range(10):\n",
    "  print(\"pred:\", pred[i,:])\n",
    "  print(\"true:\", en_val[i,:])\n",
    "  print(\"\\n\")"
   ]
  },
  {
   "cell_type": "code",
   "execution_count": 25,
   "metadata": {},
   "outputs": [
    {
     "name": "stdout",
     "output_type": "stream",
     "text": [
      "true: help me\n",
      "pred to sleep tight up\n",
      "\n",
      "\n",
      "true: can you skate\n",
      "pred did did you ok\n",
      "\n",
      "\n",
      "true: did i ask you\n",
      "pred don't care care out\n",
      "\n",
      "\n",
      "true: you're silly\n",
      "pred are you young big\n",
      "\n",
      "\n",
      "true: release him\n",
      "pred knows run for it\n",
      "\n",
      "\n",
      "true: he is my type\n",
      "pred is kind busy in\n",
      "\n",
      "\n",
      "true: you're funny\n",
      "pred are you young good\n",
      "\n",
      "\n",
      "true: i'm thorough\n",
      "pred am sorry fat fat\n",
      "\n",
      "\n",
      "true: he's no saint\n",
      "pred let me go in\n",
      "\n",
      "\n",
      "true: fish please\n",
      "pred are you new\n",
      "\n",
      "\n"
     ]
    }
   ],
   "source": [
    "#Visualize predictions \n",
    "y_sample = tokenizer_en.sequences_to_texts(en_val)[:10]\n",
    "pred_sample = tokenizer_en.sequences_to_texts(pred)[:10]\n",
    "\n",
    "for i, j in zip(y_sample,pred_sample):\n",
    "  print(\"true:\", i)\n",
    "  print(\"pred\", j)\n",
    "  print(\"\\n\")"
   ]
  }
 ],
 "metadata": {
  "kernelspec": {
   "display_name": "Python 3.10.2 64-bit",
   "language": "python",
   "name": "python3"
  },
  "language_info": {
   "codemirror_mode": {
    "name": "ipython",
    "version": 3
   },
   "file_extension": ".py",
   "mimetype": "text/x-python",
   "name": "python",
   "nbconvert_exporter": "python",
   "pygments_lexer": "ipython3",
   "version": "3.10.2"
  },
  "orig_nbformat": 4,
  "vscode": {
   "interpreter": {
    "hash": "23e0aedb6d47e040503db7fcf09a0dff3cea72eb7d5d4c2596a602b1504b448c"
   }
  }
 },
 "nbformat": 4,
 "nbformat_minor": 2
}
