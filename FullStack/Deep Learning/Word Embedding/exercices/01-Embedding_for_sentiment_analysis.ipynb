{
  "nbformat": 4,
  "nbformat_minor": 0,
  "metadata": {
    "colab": {
      "name": "01-Embedding_for_sentiment_analysis.ipynb",
      "provenance": [],
      "collapsed_sections": []
    },
    "kernelspec": {
      "name": "python3",
      "display_name": "Python 3"
    },
    "accelerator": "GPU"
  },
  "cells": [
    {
      "cell_type": "markdown",
      "metadata": {
        "id": "UEa8O_OU8RO_"
      },
      "source": [
        "# Embedding for Sentiment Analysis \n",
        "\n",
        "Now that we know how word embedding works, we'll apply it to a supervised problem of sentiment analysis. The idea is to classify the comments left by users according to the number of stars they gave the Disneyland resort park in their reviews."
      ]
    },
    {
      "cell_type": "markdown",
      "metadata": {
        "id": "GlZE3Ntm8gv4"
      },
      "source": [
        "## Data Preprocessing\n",
        "\n",
        "### Import Data \n",
        "\n",
        "1. Import the following libraries:\n",
        "\n",
        "* tensorflow \n",
        "* pathlib\n",
        "* pandas \n",
        "* os\n",
        "* io\n",
        "* `sklearn.model_selection.train_test_split`"
      ]
    },
    {
      "cell_type": "code",
      "metadata": {
        "id": "RMBnbVdZygEr"
      },
      "source": [
        "# Import Tensorflow & Pathlib librairies\n",
        "import tensorflow as tf \n",
        "import pathlib \n",
        "import pandas as pd \n",
        "import os\n",
        "import io\n",
        "import warnings\n",
        "from sklearn.model_selection import train_test_split\n",
        "warnings.filterwarnings('ignore')"
      ],
      "execution_count": null,
      "outputs": []
    },
    {
      "cell_type": "markdown",
      "metadata": {
        "id": "HIiJ3wIKkC_c"
      },
      "source": [
        "2. Copy the link below and read the file it contains with `pandas`.\n",
        "\n",
        "* https://go.aws/314bBDq"
      ]
    },
    {
      "cell_type": "code",
      "metadata": {
        "id": "Irik4DyW0acS",
        "colab": {
          "base_uri": "https://localhost:8080/",
          "height": 426
        },
        "outputId": "de9e2a19-203f-40c1-99ef-e4fa34f45edf"
      },
      "source": [
        "# Import dataset with Pandas \n"
      ],
      "execution_count": null,
      "outputs": [
        {
          "output_type": "execute_result",
          "data": {
            "text/plain": [
              "                            user_id  \\\n",
              "0  efb62a167fee5cf3678b24427de8e31f   \n",
              "1  e3be4f9c9e0b9572bfb2a5f88497bb14   \n",
              "2  1b8e5760162d867e9b9ca80f645bdc60   \n",
              "3  fa330e5891a1bb486c3e9bf95c098726   \n",
              "4  c1a693206aee1a2412d4bd9e45b80ec5   \n",
              "\n",
              "                                              review  stars  \\\n",
              "0  Génial, fabuleux, exceptionnel ! J'aimerais qu...      5   \n",
              "1                                                NaN      2   \n",
              "2                   Toujours aussi magic, féerique !      5   \n",
              "3                                                NaN      5   \n",
              "4                                                NaN      3   \n",
              "\n",
              "           date_format time_of_day  hour_of_day day_of_week  \\\n",
              "0  2017-09-29 18:17:00       18:17           18         Ven   \n",
              "1  2017-09-29 17:29:00       17:29           17         Ven   \n",
              "2  2017-09-29 16:46:00       16:46           16         Ven   \n",
              "3  2017-09-29 15:52:00       15:52           15         Ven   \n",
              "4  2017-09-29 15:29:00       15:29           15         Ven   \n",
              "\n",
              "                                       review_format review_lang month_year  \\\n",
              "0  génial  fabuleux  exceptionnel   j aimerais qu...      french    2017-09   \n",
              "1                                                NaN         NaN    2017-09   \n",
              "2                   toujours aussi magic  féerique        french    2017-09   \n",
              "3                                                NaN         NaN    2017-09   \n",
              "4                                                NaN         NaN    2017-09   \n",
              "\n",
              "   review_len  review_nb_words  \n",
              "0         115               19  \n",
              "1           0                0  \n",
              "2          32                4  \n",
              "3           0                0  \n",
              "4           0                0  "
            ],
            "text/html": [
              "\n",
              "  <div id=\"df-afda1c0b-28fe-4624-88d9-b0b20685ef76\">\n",
              "    <div class=\"colab-df-container\">\n",
              "      <div>\n",
              "<style scoped>\n",
              "    .dataframe tbody tr th:only-of-type {\n",
              "        vertical-align: middle;\n",
              "    }\n",
              "\n",
              "    .dataframe tbody tr th {\n",
              "        vertical-align: top;\n",
              "    }\n",
              "\n",
              "    .dataframe thead th {\n",
              "        text-align: right;\n",
              "    }\n",
              "</style>\n",
              "<table border=\"1\" class=\"dataframe\">\n",
              "  <thead>\n",
              "    <tr style=\"text-align: right;\">\n",
              "      <th></th>\n",
              "      <th>user_id</th>\n",
              "      <th>review</th>\n",
              "      <th>stars</th>\n",
              "      <th>date_format</th>\n",
              "      <th>time_of_day</th>\n",
              "      <th>hour_of_day</th>\n",
              "      <th>day_of_week</th>\n",
              "      <th>review_format</th>\n",
              "      <th>review_lang</th>\n",
              "      <th>month_year</th>\n",
              "      <th>review_len</th>\n",
              "      <th>review_nb_words</th>\n",
              "    </tr>\n",
              "  </thead>\n",
              "  <tbody>\n",
              "    <tr>\n",
              "      <th>0</th>\n",
              "      <td>efb62a167fee5cf3678b24427de8e31f</td>\n",
              "      <td>Génial, fabuleux, exceptionnel ! J'aimerais qu...</td>\n",
              "      <td>5</td>\n",
              "      <td>2017-09-29 18:17:00</td>\n",
              "      <td>18:17</td>\n",
              "      <td>18</td>\n",
              "      <td>Ven</td>\n",
              "      <td>génial  fabuleux  exceptionnel   j aimerais qu...</td>\n",
              "      <td>french</td>\n",
              "      <td>2017-09</td>\n",
              "      <td>115</td>\n",
              "      <td>19</td>\n",
              "    </tr>\n",
              "    <tr>\n",
              "      <th>1</th>\n",
              "      <td>e3be4f9c9e0b9572bfb2a5f88497bb14</td>\n",
              "      <td>NaN</td>\n",
              "      <td>2</td>\n",
              "      <td>2017-09-29 17:29:00</td>\n",
              "      <td>17:29</td>\n",
              "      <td>17</td>\n",
              "      <td>Ven</td>\n",
              "      <td>NaN</td>\n",
              "      <td>NaN</td>\n",
              "      <td>2017-09</td>\n",
              "      <td>0</td>\n",
              "      <td>0</td>\n",
              "    </tr>\n",
              "    <tr>\n",
              "      <th>2</th>\n",
              "      <td>1b8e5760162d867e9b9ca80f645bdc60</td>\n",
              "      <td>Toujours aussi magic, féerique !</td>\n",
              "      <td>5</td>\n",
              "      <td>2017-09-29 16:46:00</td>\n",
              "      <td>16:46</td>\n",
              "      <td>16</td>\n",
              "      <td>Ven</td>\n",
              "      <td>toujours aussi magic  féerique</td>\n",
              "      <td>french</td>\n",
              "      <td>2017-09</td>\n",
              "      <td>32</td>\n",
              "      <td>4</td>\n",
              "    </tr>\n",
              "    <tr>\n",
              "      <th>3</th>\n",
              "      <td>fa330e5891a1bb486c3e9bf95c098726</td>\n",
              "      <td>NaN</td>\n",
              "      <td>5</td>\n",
              "      <td>2017-09-29 15:52:00</td>\n",
              "      <td>15:52</td>\n",
              "      <td>15</td>\n",
              "      <td>Ven</td>\n",
              "      <td>NaN</td>\n",
              "      <td>NaN</td>\n",
              "      <td>2017-09</td>\n",
              "      <td>0</td>\n",
              "      <td>0</td>\n",
              "    </tr>\n",
              "    <tr>\n",
              "      <th>4</th>\n",
              "      <td>c1a693206aee1a2412d4bd9e45b80ec5</td>\n",
              "      <td>NaN</td>\n",
              "      <td>3</td>\n",
              "      <td>2017-09-29 15:29:00</td>\n",
              "      <td>15:29</td>\n",
              "      <td>15</td>\n",
              "      <td>Ven</td>\n",
              "      <td>NaN</td>\n",
              "      <td>NaN</td>\n",
              "      <td>2017-09</td>\n",
              "      <td>0</td>\n",
              "      <td>0</td>\n",
              "    </tr>\n",
              "  </tbody>\n",
              "</table>\n",
              "</div>\n",
              "      <button class=\"colab-df-convert\" onclick=\"convertToInteractive('df-afda1c0b-28fe-4624-88d9-b0b20685ef76')\"\n",
              "              title=\"Convert this dataframe to an interactive table.\"\n",
              "              style=\"display:none;\">\n",
              "        \n",
              "  <svg xmlns=\"http://www.w3.org/2000/svg\" height=\"24px\"viewBox=\"0 0 24 24\"\n",
              "       width=\"24px\">\n",
              "    <path d=\"M0 0h24v24H0V0z\" fill=\"none\"/>\n",
              "    <path d=\"M18.56 5.44l.94 2.06.94-2.06 2.06-.94-2.06-.94-.94-2.06-.94 2.06-2.06.94zm-11 1L8.5 8.5l.94-2.06 2.06-.94-2.06-.94L8.5 2.5l-.94 2.06-2.06.94zm10 10l.94 2.06.94-2.06 2.06-.94-2.06-.94-.94-2.06-.94 2.06-2.06.94z\"/><path d=\"M17.41 7.96l-1.37-1.37c-.4-.4-.92-.59-1.43-.59-.52 0-1.04.2-1.43.59L10.3 9.45l-7.72 7.72c-.78.78-.78 2.05 0 2.83L4 21.41c.39.39.9.59 1.41.59.51 0 1.02-.2 1.41-.59l7.78-7.78 2.81-2.81c.8-.78.8-2.07 0-2.86zM5.41 20L4 18.59l7.72-7.72 1.47 1.35L5.41 20z\"/>\n",
              "  </svg>\n",
              "      </button>\n",
              "      \n",
              "  <style>\n",
              "    .colab-df-container {\n",
              "      display:flex;\n",
              "      flex-wrap:wrap;\n",
              "      gap: 12px;\n",
              "    }\n",
              "\n",
              "    .colab-df-convert {\n",
              "      background-color: #E8F0FE;\n",
              "      border: none;\n",
              "      border-radius: 50%;\n",
              "      cursor: pointer;\n",
              "      display: none;\n",
              "      fill: #1967D2;\n",
              "      height: 32px;\n",
              "      padding: 0 0 0 0;\n",
              "      width: 32px;\n",
              "    }\n",
              "\n",
              "    .colab-df-convert:hover {\n",
              "      background-color: #E2EBFA;\n",
              "      box-shadow: 0px 1px 2px rgba(60, 64, 67, 0.3), 0px 1px 3px 1px rgba(60, 64, 67, 0.15);\n",
              "      fill: #174EA6;\n",
              "    }\n",
              "\n",
              "    [theme=dark] .colab-df-convert {\n",
              "      background-color: #3B4455;\n",
              "      fill: #D2E3FC;\n",
              "    }\n",
              "\n",
              "    [theme=dark] .colab-df-convert:hover {\n",
              "      background-color: #434B5C;\n",
              "      box-shadow: 0px 1px 3px 1px rgba(0, 0, 0, 0.15);\n",
              "      filter: drop-shadow(0px 1px 2px rgba(0, 0, 0, 0.3));\n",
              "      fill: #FFFFFF;\n",
              "    }\n",
              "  </style>\n",
              "\n",
              "      <script>\n",
              "        const buttonEl =\n",
              "          document.querySelector('#df-afda1c0b-28fe-4624-88d9-b0b20685ef76 button.colab-df-convert');\n",
              "        buttonEl.style.display =\n",
              "          google.colab.kernel.accessAllowed ? 'block' : 'none';\n",
              "\n",
              "        async function convertToInteractive(key) {\n",
              "          const element = document.querySelector('#df-afda1c0b-28fe-4624-88d9-b0b20685ef76');\n",
              "          const dataTable =\n",
              "            await google.colab.kernel.invokeFunction('convertToInteractive',\n",
              "                                                     [key], {});\n",
              "          if (!dataTable) return;\n",
              "\n",
              "          const docLinkHtml = 'Like what you see? Visit the ' +\n",
              "            '<a target=\"_blank\" href=https://colab.research.google.com/notebooks/data_table.ipynb>data table notebook</a>'\n",
              "            + ' to learn more about interactive tables.';\n",
              "          element.innerHTML = '';\n",
              "          dataTable['output_type'] = 'display_data';\n",
              "          await google.colab.output.renderOutput(dataTable, element);\n",
              "          const docLink = document.createElement('div');\n",
              "          docLink.innerHTML = docLinkHtml;\n",
              "          element.appendChild(docLink);\n",
              "        }\n",
              "      </script>\n",
              "    </div>\n",
              "  </div>\n",
              "  "
            ]
          },
          "metadata": {},
          "execution_count": 14
        }
      ]
    },
    {
      "cell_type": "markdown",
      "metadata": {
        "id": "r_SUNZnzldIC"
      },
      "source": [
        "3. We will need the reviews in French. Filter the reviews so that they are in the right language. For this you need to find a column that gives you that information."
      ]
    },
    {
      "cell_type": "code",
      "metadata": {
        "id": "lXLZFpg50swK",
        "colab": {
          "base_uri": "https://localhost:8080/",
          "height": 357
        },
        "outputId": "142e5043-436a-49c2-9176-06aaead0a721"
      },
      "source": [
        "# Taking only french reviews\n"
      ],
      "execution_count": null,
      "outputs": [
        {
          "output_type": "execute_result",
          "data": {
            "text/plain": [
              "                             user_id  \\\n",
              "0   efb62a167fee5cf3678b24427de8e31f   \n",
              "2   1b8e5760162d867e9b9ca80f645bdc60   \n",
              "11  726b1a3e2664e8b075129bcd643dbf56   \n",
              "12  8a71763fbb3da7436b957681b24cc404   \n",
              "23  ce7abd7798ee036d667c0ad84b85daa7   \n",
              "\n",
              "                                               review  stars  \\\n",
              "0   Génial, fabuleux, exceptionnel ! J'aimerais qu...      5   \n",
              "2                    Toujours aussi magic, féerique !      5   \n",
              "11  En vacances en région parisienne nous nous som...      2   \n",
              "12                     Tropbeaufinalpleinlesyeuxoreil      5   \n",
              "23  L'univers Disney reste merveilleux. Toutefois ...      4   \n",
              "\n",
              "            date_format time_of_day  hour_of_day day_of_week  \\\n",
              "0   2017-09-29 18:17:00       18:17           18         Ven   \n",
              "2   2017-09-29 16:46:00       16:46           16         Ven   \n",
              "11  2017-09-29 00:37:00       00:37            0         Ven   \n",
              "12  2017-09-29 00:16:00       00:16            0         Ven   \n",
              "23  2017-09-28 20:24:00       20:24           20         Jeu   \n",
              "\n",
              "                                        review_format review_lang month_year  \\\n",
              "0   génial  fabuleux  exceptionnel   j aimerais qu...      french    2017-09   \n",
              "2                    toujours aussi magic  féerique        french    2017-09   \n",
              "11  en vacances en région parisienne nous nous som...      french    2017-09   \n",
              "12                     tropbeaufinalpleinlesyeuxoreil      french    2017-09   \n",
              "23  l univers disney reste merveilleux  toutefois ...      french    2017-09   \n",
              "\n",
              "    review_len  review_nb_words  \n",
              "0          115               19  \n",
              "2           32                4  \n",
              "11         172               25  \n",
              "12          30                1  \n",
              "23         148               23  "
            ],
            "text/html": [
              "\n",
              "  <div id=\"df-20628aa6-285a-4040-bc15-36a13e8b4bd5\">\n",
              "    <div class=\"colab-df-container\">\n",
              "      <div>\n",
              "<style scoped>\n",
              "    .dataframe tbody tr th:only-of-type {\n",
              "        vertical-align: middle;\n",
              "    }\n",
              "\n",
              "    .dataframe tbody tr th {\n",
              "        vertical-align: top;\n",
              "    }\n",
              "\n",
              "    .dataframe thead th {\n",
              "        text-align: right;\n",
              "    }\n",
              "</style>\n",
              "<table border=\"1\" class=\"dataframe\">\n",
              "  <thead>\n",
              "    <tr style=\"text-align: right;\">\n",
              "      <th></th>\n",
              "      <th>user_id</th>\n",
              "      <th>review</th>\n",
              "      <th>stars</th>\n",
              "      <th>date_format</th>\n",
              "      <th>time_of_day</th>\n",
              "      <th>hour_of_day</th>\n",
              "      <th>day_of_week</th>\n",
              "      <th>review_format</th>\n",
              "      <th>review_lang</th>\n",
              "      <th>month_year</th>\n",
              "      <th>review_len</th>\n",
              "      <th>review_nb_words</th>\n",
              "    </tr>\n",
              "  </thead>\n",
              "  <tbody>\n",
              "    <tr>\n",
              "      <th>0</th>\n",
              "      <td>efb62a167fee5cf3678b24427de8e31f</td>\n",
              "      <td>Génial, fabuleux, exceptionnel ! J'aimerais qu...</td>\n",
              "      <td>5</td>\n",
              "      <td>2017-09-29 18:17:00</td>\n",
              "      <td>18:17</td>\n",
              "      <td>18</td>\n",
              "      <td>Ven</td>\n",
              "      <td>génial  fabuleux  exceptionnel   j aimerais qu...</td>\n",
              "      <td>french</td>\n",
              "      <td>2017-09</td>\n",
              "      <td>115</td>\n",
              "      <td>19</td>\n",
              "    </tr>\n",
              "    <tr>\n",
              "      <th>2</th>\n",
              "      <td>1b8e5760162d867e9b9ca80f645bdc60</td>\n",
              "      <td>Toujours aussi magic, féerique !</td>\n",
              "      <td>5</td>\n",
              "      <td>2017-09-29 16:46:00</td>\n",
              "      <td>16:46</td>\n",
              "      <td>16</td>\n",
              "      <td>Ven</td>\n",
              "      <td>toujours aussi magic  féerique</td>\n",
              "      <td>french</td>\n",
              "      <td>2017-09</td>\n",
              "      <td>32</td>\n",
              "      <td>4</td>\n",
              "    </tr>\n",
              "    <tr>\n",
              "      <th>11</th>\n",
              "      <td>726b1a3e2664e8b075129bcd643dbf56</td>\n",
              "      <td>En vacances en région parisienne nous nous som...</td>\n",
              "      <td>2</td>\n",
              "      <td>2017-09-29 00:37:00</td>\n",
              "      <td>00:37</td>\n",
              "      <td>0</td>\n",
              "      <td>Ven</td>\n",
              "      <td>en vacances en région parisienne nous nous som...</td>\n",
              "      <td>french</td>\n",
              "      <td>2017-09</td>\n",
              "      <td>172</td>\n",
              "      <td>25</td>\n",
              "    </tr>\n",
              "    <tr>\n",
              "      <th>12</th>\n",
              "      <td>8a71763fbb3da7436b957681b24cc404</td>\n",
              "      <td>Tropbeaufinalpleinlesyeuxoreil</td>\n",
              "      <td>5</td>\n",
              "      <td>2017-09-29 00:16:00</td>\n",
              "      <td>00:16</td>\n",
              "      <td>0</td>\n",
              "      <td>Ven</td>\n",
              "      <td>tropbeaufinalpleinlesyeuxoreil</td>\n",
              "      <td>french</td>\n",
              "      <td>2017-09</td>\n",
              "      <td>30</td>\n",
              "      <td>1</td>\n",
              "    </tr>\n",
              "    <tr>\n",
              "      <th>23</th>\n",
              "      <td>ce7abd7798ee036d667c0ad84b85daa7</td>\n",
              "      <td>L'univers Disney reste merveilleux. Toutefois ...</td>\n",
              "      <td>4</td>\n",
              "      <td>2017-09-28 20:24:00</td>\n",
              "      <td>20:24</td>\n",
              "      <td>20</td>\n",
              "      <td>Jeu</td>\n",
              "      <td>l univers disney reste merveilleux  toutefois ...</td>\n",
              "      <td>french</td>\n",
              "      <td>2017-09</td>\n",
              "      <td>148</td>\n",
              "      <td>23</td>\n",
              "    </tr>\n",
              "  </tbody>\n",
              "</table>\n",
              "</div>\n",
              "      <button class=\"colab-df-convert\" onclick=\"convertToInteractive('df-20628aa6-285a-4040-bc15-36a13e8b4bd5')\"\n",
              "              title=\"Convert this dataframe to an interactive table.\"\n",
              "              style=\"display:none;\">\n",
              "        \n",
              "  <svg xmlns=\"http://www.w3.org/2000/svg\" height=\"24px\"viewBox=\"0 0 24 24\"\n",
              "       width=\"24px\">\n",
              "    <path d=\"M0 0h24v24H0V0z\" fill=\"none\"/>\n",
              "    <path d=\"M18.56 5.44l.94 2.06.94-2.06 2.06-.94-2.06-.94-.94-2.06-.94 2.06-2.06.94zm-11 1L8.5 8.5l.94-2.06 2.06-.94-2.06-.94L8.5 2.5l-.94 2.06-2.06.94zm10 10l.94 2.06.94-2.06 2.06-.94-2.06-.94-.94-2.06-.94 2.06-2.06.94z\"/><path d=\"M17.41 7.96l-1.37-1.37c-.4-.4-.92-.59-1.43-.59-.52 0-1.04.2-1.43.59L10.3 9.45l-7.72 7.72c-.78.78-.78 2.05 0 2.83L4 21.41c.39.39.9.59 1.41.59.51 0 1.02-.2 1.41-.59l7.78-7.78 2.81-2.81c.8-.78.8-2.07 0-2.86zM5.41 20L4 18.59l7.72-7.72 1.47 1.35L5.41 20z\"/>\n",
              "  </svg>\n",
              "      </button>\n",
              "      \n",
              "  <style>\n",
              "    .colab-df-container {\n",
              "      display:flex;\n",
              "      flex-wrap:wrap;\n",
              "      gap: 12px;\n",
              "    }\n",
              "\n",
              "    .colab-df-convert {\n",
              "      background-color: #E8F0FE;\n",
              "      border: none;\n",
              "      border-radius: 50%;\n",
              "      cursor: pointer;\n",
              "      display: none;\n",
              "      fill: #1967D2;\n",
              "      height: 32px;\n",
              "      padding: 0 0 0 0;\n",
              "      width: 32px;\n",
              "    }\n",
              "\n",
              "    .colab-df-convert:hover {\n",
              "      background-color: #E2EBFA;\n",
              "      box-shadow: 0px 1px 2px rgba(60, 64, 67, 0.3), 0px 1px 3px 1px rgba(60, 64, 67, 0.15);\n",
              "      fill: #174EA6;\n",
              "    }\n",
              "\n",
              "    [theme=dark] .colab-df-convert {\n",
              "      background-color: #3B4455;\n",
              "      fill: #D2E3FC;\n",
              "    }\n",
              "\n",
              "    [theme=dark] .colab-df-convert:hover {\n",
              "      background-color: #434B5C;\n",
              "      box-shadow: 0px 1px 3px 1px rgba(0, 0, 0, 0.15);\n",
              "      filter: drop-shadow(0px 1px 2px rgba(0, 0, 0, 0.3));\n",
              "      fill: #FFFFFF;\n",
              "    }\n",
              "  </style>\n",
              "\n",
              "      <script>\n",
              "        const buttonEl =\n",
              "          document.querySelector('#df-20628aa6-285a-4040-bc15-36a13e8b4bd5 button.colab-df-convert');\n",
              "        buttonEl.style.display =\n",
              "          google.colab.kernel.accessAllowed ? 'block' : 'none';\n",
              "\n",
              "        async function convertToInteractive(key) {\n",
              "          const element = document.querySelector('#df-20628aa6-285a-4040-bc15-36a13e8b4bd5');\n",
              "          const dataTable =\n",
              "            await google.colab.kernel.invokeFunction('convertToInteractive',\n",
              "                                                     [key], {});\n",
              "          if (!dataTable) return;\n",
              "\n",
              "          const docLinkHtml = 'Like what you see? Visit the ' +\n",
              "            '<a target=\"_blank\" href=https://colab.research.google.com/notebooks/data_table.ipynb>data table notebook</a>'\n",
              "            + ' to learn more about interactive tables.';\n",
              "          element.innerHTML = '';\n",
              "          dataTable['output_type'] = 'display_data';\n",
              "          await google.colab.output.renderOutput(dataTable, element);\n",
              "          const docLink = document.createElement('div');\n",
              "          docLink.innerHTML = docLinkHtml;\n",
              "          element.appendChild(docLink);\n",
              "        }\n",
              "      </script>\n",
              "    </div>\n",
              "  </div>\n",
              "  "
            ]
          },
          "metadata": {},
          "execution_count": 15
        }
      ]
    },
    {
      "cell_type": "markdown",
      "metadata": {
        "id": "As6OupSYl5La"
      },
      "source": [
        "4. Keep only the `review` & `stars` columns."
      ]
    },
    {
      "cell_type": "code",
      "metadata": {
        "id": "xe2j2atl1qNM",
        "colab": {
          "base_uri": "https://localhost:8080/",
          "height": 206
        },
        "outputId": "b71519c2-5944-4130-fffa-1a07dad518d9"
      },
      "source": [
        "# Let's take the columns we're interested in \n"
      ],
      "execution_count": null,
      "outputs": [
        {
          "output_type": "execute_result",
          "data": {
            "text/plain": [
              "                                               review  stars\n",
              "0   Génial, fabuleux, exceptionnel ! J'aimerais qu...      5\n",
              "2                    Toujours aussi magic, féerique !      5\n",
              "11  En vacances en région parisienne nous nous som...      2\n",
              "12                     Tropbeaufinalpleinlesyeuxoreil      5\n",
              "23  L'univers Disney reste merveilleux. Toutefois ...      4"
            ],
            "text/html": [
              "\n",
              "  <div id=\"df-168ef9d0-ca58-4bc3-8d3e-04b5683c0faf\">\n",
              "    <div class=\"colab-df-container\">\n",
              "      <div>\n",
              "<style scoped>\n",
              "    .dataframe tbody tr th:only-of-type {\n",
              "        vertical-align: middle;\n",
              "    }\n",
              "\n",
              "    .dataframe tbody tr th {\n",
              "        vertical-align: top;\n",
              "    }\n",
              "\n",
              "    .dataframe thead th {\n",
              "        text-align: right;\n",
              "    }\n",
              "</style>\n",
              "<table border=\"1\" class=\"dataframe\">\n",
              "  <thead>\n",
              "    <tr style=\"text-align: right;\">\n",
              "      <th></th>\n",
              "      <th>review</th>\n",
              "      <th>stars</th>\n",
              "    </tr>\n",
              "  </thead>\n",
              "  <tbody>\n",
              "    <tr>\n",
              "      <th>0</th>\n",
              "      <td>Génial, fabuleux, exceptionnel ! J'aimerais qu...</td>\n",
              "      <td>5</td>\n",
              "    </tr>\n",
              "    <tr>\n",
              "      <th>2</th>\n",
              "      <td>Toujours aussi magic, féerique !</td>\n",
              "      <td>5</td>\n",
              "    </tr>\n",
              "    <tr>\n",
              "      <th>11</th>\n",
              "      <td>En vacances en région parisienne nous nous som...</td>\n",
              "      <td>2</td>\n",
              "    </tr>\n",
              "    <tr>\n",
              "      <th>12</th>\n",
              "      <td>Tropbeaufinalpleinlesyeuxoreil</td>\n",
              "      <td>5</td>\n",
              "    </tr>\n",
              "    <tr>\n",
              "      <th>23</th>\n",
              "      <td>L'univers Disney reste merveilleux. Toutefois ...</td>\n",
              "      <td>4</td>\n",
              "    </tr>\n",
              "  </tbody>\n",
              "</table>\n",
              "</div>\n",
              "      <button class=\"colab-df-convert\" onclick=\"convertToInteractive('df-168ef9d0-ca58-4bc3-8d3e-04b5683c0faf')\"\n",
              "              title=\"Convert this dataframe to an interactive table.\"\n",
              "              style=\"display:none;\">\n",
              "        \n",
              "  <svg xmlns=\"http://www.w3.org/2000/svg\" height=\"24px\"viewBox=\"0 0 24 24\"\n",
              "       width=\"24px\">\n",
              "    <path d=\"M0 0h24v24H0V0z\" fill=\"none\"/>\n",
              "    <path d=\"M18.56 5.44l.94 2.06.94-2.06 2.06-.94-2.06-.94-.94-2.06-.94 2.06-2.06.94zm-11 1L8.5 8.5l.94-2.06 2.06-.94-2.06-.94L8.5 2.5l-.94 2.06-2.06.94zm10 10l.94 2.06.94-2.06 2.06-.94-2.06-.94-.94-2.06-.94 2.06-2.06.94z\"/><path d=\"M17.41 7.96l-1.37-1.37c-.4-.4-.92-.59-1.43-.59-.52 0-1.04.2-1.43.59L10.3 9.45l-7.72 7.72c-.78.78-.78 2.05 0 2.83L4 21.41c.39.39.9.59 1.41.59.51 0 1.02-.2 1.41-.59l7.78-7.78 2.81-2.81c.8-.78.8-2.07 0-2.86zM5.41 20L4 18.59l7.72-7.72 1.47 1.35L5.41 20z\"/>\n",
              "  </svg>\n",
              "      </button>\n",
              "      \n",
              "  <style>\n",
              "    .colab-df-container {\n",
              "      display:flex;\n",
              "      flex-wrap:wrap;\n",
              "      gap: 12px;\n",
              "    }\n",
              "\n",
              "    .colab-df-convert {\n",
              "      background-color: #E8F0FE;\n",
              "      border: none;\n",
              "      border-radius: 50%;\n",
              "      cursor: pointer;\n",
              "      display: none;\n",
              "      fill: #1967D2;\n",
              "      height: 32px;\n",
              "      padding: 0 0 0 0;\n",
              "      width: 32px;\n",
              "    }\n",
              "\n",
              "    .colab-df-convert:hover {\n",
              "      background-color: #E2EBFA;\n",
              "      box-shadow: 0px 1px 2px rgba(60, 64, 67, 0.3), 0px 1px 3px 1px rgba(60, 64, 67, 0.15);\n",
              "      fill: #174EA6;\n",
              "    }\n",
              "\n",
              "    [theme=dark] .colab-df-convert {\n",
              "      background-color: #3B4455;\n",
              "      fill: #D2E3FC;\n",
              "    }\n",
              "\n",
              "    [theme=dark] .colab-df-convert:hover {\n",
              "      background-color: #434B5C;\n",
              "      box-shadow: 0px 1px 3px 1px rgba(0, 0, 0, 0.15);\n",
              "      filter: drop-shadow(0px 1px 2px rgba(0, 0, 0, 0.3));\n",
              "      fill: #FFFFFF;\n",
              "    }\n",
              "  </style>\n",
              "\n",
              "      <script>\n",
              "        const buttonEl =\n",
              "          document.querySelector('#df-168ef9d0-ca58-4bc3-8d3e-04b5683c0faf button.colab-df-convert');\n",
              "        buttonEl.style.display =\n",
              "          google.colab.kernel.accessAllowed ? 'block' : 'none';\n",
              "\n",
              "        async function convertToInteractive(key) {\n",
              "          const element = document.querySelector('#df-168ef9d0-ca58-4bc3-8d3e-04b5683c0faf');\n",
              "          const dataTable =\n",
              "            await google.colab.kernel.invokeFunction('convertToInteractive',\n",
              "                                                     [key], {});\n",
              "          if (!dataTable) return;\n",
              "\n",
              "          const docLinkHtml = 'Like what you see? Visit the ' +\n",
              "            '<a target=\"_blank\" href=https://colab.research.google.com/notebooks/data_table.ipynb>data table notebook</a>'\n",
              "            + ' to learn more about interactive tables.';\n",
              "          element.innerHTML = '';\n",
              "          dataTable['output_type'] = 'display_data';\n",
              "          await google.colab.output.renderOutput(dataTable, element);\n",
              "          const docLink = document.createElement('div');\n",
              "          docLink.innerHTML = docLinkHtml;\n",
              "          element.appendChild(docLink);\n",
              "        }\n",
              "      </script>\n",
              "    </div>\n",
              "  </div>\n",
              "  "
            ]
          },
          "metadata": {},
          "execution_count": 16
        }
      ]
    },
    {
      "cell_type": "markdown",
      "metadata": {
        "id": "X8Duro5f8i7U"
      },
      "source": [
        "### Preprocessing\n",
        "\n",
        "We will now go through a preprocessing phase. The goal is to clean up the character strings and encode the words so they are represented as integers."
      ]
    },
    {
      "cell_type": "markdown",
      "metadata": {
        "id": "Z1khjji0HMvk"
      },
      "source": [
        "1. Use the command: `!python -m spacy download fr_core_news_md` to download all language elements related to the French language"
      ]
    },
    {
      "cell_type": "code",
      "metadata": {
        "id": "VwTE6DhFmH7A",
        "colab": {
          "base_uri": "https://localhost:8080/"
        },
        "outputId": "6ab54716-e2b3-47fa-c0d6-26b02dc09ef2"
      },
      "source": [
        "!python -m spacy download fr_core_news_md -q"
      ],
      "execution_count": null,
      "outputs": [
        {
          "output_type": "stream",
          "name": "stdout",
          "text": [
            "\u001b[K     |████████████████████████████████| 88.6 MB 1.3 MB/s \n",
            "\u001b[?25h\u001b[38;5;2m✔ Download and installation successful\u001b[0m\n",
            "You can now load the model via spacy.load('fr_core_news_md')\n"
          ]
        }
      ]
    },
    {
      "cell_type": "markdown",
      "metadata": {
        "id": "VBnV02P_HYHB"
      },
      "source": [
        "2. Load now `fr_core_news_md` into a variable called `nlp`"
      ]
    },
    {
      "cell_type": "code",
      "metadata": {
        "id": "xhHn4g5VmlPa"
      },
      "source": [
        "# Import Spacy and french initialisation"
      ],
      "execution_count": null,
      "outputs": []
    },
    {
      "cell_type": "markdown",
      "metadata": {
        "id": "SQL-RX0KHb-F"
      },
      "source": [
        "3. Import french STOP_WORDS"
      ]
    },
    {
      "cell_type": "code",
      "metadata": {
        "id": "TZNd26-z1xIT"
      },
      "source": [
        "# Import Stop words \n"
      ],
      "execution_count": null,
      "outputs": []
    },
    {
      "cell_type": "markdown",
      "source": [
        "4. Try the `nlp` function on the following sentence `\"je la laisse, je veux la laisser, je l'ai laissée, je me suis laissé aller\"`, and extract the lemma using a list comprehension, what happened to the words in the sentence?"
      ],
      "metadata": {
        "id": "tgT6StTqmoNt"
      }
    },
    {
      "cell_type": "code",
      "metadata": {
        "id": "rX8rL0BwOmou"
      },
      "source": [
        ""
      ],
      "execution_count": null,
      "outputs": []
    },
    {
      "cell_type": "code",
      "metadata": {
        "colab": {
          "base_uri": "https://localhost:8080/"
        },
        "id": "zN_q8YM_Ot6C",
        "outputId": "40881d2e-b61c-4908-f10b-e5b5e07baa1c"
      },
      "source": [
        ""
      ],
      "execution_count": null,
      "outputs": [
        {
          "output_type": "execute_result",
          "data": {
            "text/plain": [
              "['je',\n",
              " 'le',\n",
              " 'laisse',\n",
              " ',',\n",
              " 'je',\n",
              " 'veux',\n",
              " 'le',\n",
              " 'laisser',\n",
              " ',',\n",
              " 'je',\n",
              " \"l'\",\n",
              " 'avoir',\n",
              " 'laisser',\n",
              " ',',\n",
              " 'je',\n",
              " 'me',\n",
              " 'être',\n",
              " 'laisser',\n",
              " 'aller']"
            ]
          },
          "metadata": {},
          "execution_count": 21
        }
      ]
    },
    {
      "cell_type": "markdown",
      "source": [
        "All the words are replaced by a common representation, the reason why the word `\"laisse\"` has not been replaced by the infinitive form is that it is a homonym to the noun `\"laisse\"`, lemmatization is sometimes sensitive to ambiguity."
      ],
      "metadata": {
        "id": "wQFRoLUSnWcm"
      }
    },
    {
      "cell_type": "markdown",
      "metadata": {
        "id": "CrkXKRjlfyib"
      },
      "source": [
        "5. You will now have to clean our texts in order to prepare them for training.\n",
        "Let's do this in three different steps :\n",
        " * using the command `str.isalnum` remove all characters from your strings that are not alphanumeric except for whitespaces, and apostrophies.\n",
        " * using `str.replace`, `str.lower` and `str.strip` replace double whitespaces with single whitespaces, convert all characters to lowercase and trim starting and finishing whitespaces.\n",
        " * using spacy, replace all tokens in your texts with `lemma_` and remove all the stop words."
      ]
    },
    {
      "cell_type": "code",
      "metadata": {
        "id": "4JE3FrlIq_a8",
        "colab": {
          "base_uri": "https://localhost:8080/",
          "height": 423
        },
        "outputId": "adc8db1a-0838-42df-ba50-ffdc4aa90cf5"
      },
      "source": [
        ""
      ],
      "execution_count": null,
      "outputs": [
        {
          "output_type": "execute_result",
          "data": {
            "text/plain": [
              "                                                   review  stars  \\\n",
              "0       Génial, fabuleux, exceptionnel ! J'aimerais qu...      5   \n",
              "2                        Toujours aussi magic, féerique !      5   \n",
              "11      En vacances en région parisienne nous nous som...      2   \n",
              "12                         Tropbeaufinalpleinlesyeuxoreil      5   \n",
              "23      L'univers Disney reste merveilleux. Toutefois ...      4   \n",
              "...                                                   ...    ...   \n",
              "295057  Toujours aussi magique même si à la fin du séj...      5   \n",
              "295549  Séjour au top!!! Mes enfants les plus heureux ...      5   \n",
              "298475  Magnifique un monde parfait <span class=\"\"\"\"_4...      5   \n",
              "298832  Oui j'ai aimé  car j'adore disney et tout ce q...      4   \n",
              "299402  Je vais à Disney minimum 1 fois par saison car...      5   \n",
              "\n",
              "                                             review_clean  \n",
              "0       génial fabuleux exceptionnel   aimer walt disn...  \n",
              "2                                          magic féerique  \n",
              "11      vacance région parisien décider visiter parc r...  \n",
              "12                         tropbeaufinalpleinlesyeuxoreil  \n",
              "23      univers disney merveilleux regrette falloir dé...  \n",
              "...                                                   ...  \n",
              "295057                      magique fin séjour rotule lol  \n",
              "295549  séjour top enfant heureux vouloir voir personn...  \n",
              "298475  magnifique monde parfaire span class47e3 5mfr ...  \n",
              "298832  oui aimé   adore disney touche univers grand e...  \n",
              "299402  disney minimum 1 fois saison magique printemps...  \n",
              "\n",
              "[8474 rows x 3 columns]"
            ],
            "text/html": [
              "\n",
              "  <div id=\"df-f5a64509-3743-4a36-8cb5-58a98a1ff780\">\n",
              "    <div class=\"colab-df-container\">\n",
              "      <div>\n",
              "<style scoped>\n",
              "    .dataframe tbody tr th:only-of-type {\n",
              "        vertical-align: middle;\n",
              "    }\n",
              "\n",
              "    .dataframe tbody tr th {\n",
              "        vertical-align: top;\n",
              "    }\n",
              "\n",
              "    .dataframe thead th {\n",
              "        text-align: right;\n",
              "    }\n",
              "</style>\n",
              "<table border=\"1\" class=\"dataframe\">\n",
              "  <thead>\n",
              "    <tr style=\"text-align: right;\">\n",
              "      <th></th>\n",
              "      <th>review</th>\n",
              "      <th>stars</th>\n",
              "      <th>review_clean</th>\n",
              "    </tr>\n",
              "  </thead>\n",
              "  <tbody>\n",
              "    <tr>\n",
              "      <th>0</th>\n",
              "      <td>Génial, fabuleux, exceptionnel ! J'aimerais qu...</td>\n",
              "      <td>5</td>\n",
              "      <td>génial fabuleux exceptionnel   aimer walt disn...</td>\n",
              "    </tr>\n",
              "    <tr>\n",
              "      <th>2</th>\n",
              "      <td>Toujours aussi magic, féerique !</td>\n",
              "      <td>5</td>\n",
              "      <td>magic féerique</td>\n",
              "    </tr>\n",
              "    <tr>\n",
              "      <th>11</th>\n",
              "      <td>En vacances en région parisienne nous nous som...</td>\n",
              "      <td>2</td>\n",
              "      <td>vacance région parisien décider visiter parc r...</td>\n",
              "    </tr>\n",
              "    <tr>\n",
              "      <th>12</th>\n",
              "      <td>Tropbeaufinalpleinlesyeuxoreil</td>\n",
              "      <td>5</td>\n",
              "      <td>tropbeaufinalpleinlesyeuxoreil</td>\n",
              "    </tr>\n",
              "    <tr>\n",
              "      <th>23</th>\n",
              "      <td>L'univers Disney reste merveilleux. Toutefois ...</td>\n",
              "      <td>4</td>\n",
              "      <td>univers disney merveilleux regrette falloir dé...</td>\n",
              "    </tr>\n",
              "    <tr>\n",
              "      <th>...</th>\n",
              "      <td>...</td>\n",
              "      <td>...</td>\n",
              "      <td>...</td>\n",
              "    </tr>\n",
              "    <tr>\n",
              "      <th>295057</th>\n",
              "      <td>Toujours aussi magique même si à la fin du séj...</td>\n",
              "      <td>5</td>\n",
              "      <td>magique fin séjour rotule lol</td>\n",
              "    </tr>\n",
              "    <tr>\n",
              "      <th>295549</th>\n",
              "      <td>Séjour au top!!! Mes enfants les plus heureux ...</td>\n",
              "      <td>5</td>\n",
              "      <td>séjour top enfant heureux vouloir voir personn...</td>\n",
              "    </tr>\n",
              "    <tr>\n",
              "      <th>298475</th>\n",
              "      <td>Magnifique un monde parfait &lt;span class=\"\"\"\"_4...</td>\n",
              "      <td>5</td>\n",
              "      <td>magnifique monde parfaire span class47e3 5mfr ...</td>\n",
              "    </tr>\n",
              "    <tr>\n",
              "      <th>298832</th>\n",
              "      <td>Oui j'ai aimé  car j'adore disney et tout ce q...</td>\n",
              "      <td>4</td>\n",
              "      <td>oui aimé   adore disney touche univers grand e...</td>\n",
              "    </tr>\n",
              "    <tr>\n",
              "      <th>299402</th>\n",
              "      <td>Je vais à Disney minimum 1 fois par saison car...</td>\n",
              "      <td>5</td>\n",
              "      <td>disney minimum 1 fois saison magique printemps...</td>\n",
              "    </tr>\n",
              "  </tbody>\n",
              "</table>\n",
              "<p>8474 rows × 3 columns</p>\n",
              "</div>\n",
              "      <button class=\"colab-df-convert\" onclick=\"convertToInteractive('df-f5a64509-3743-4a36-8cb5-58a98a1ff780')\"\n",
              "              title=\"Convert this dataframe to an interactive table.\"\n",
              "              style=\"display:none;\">\n",
              "        \n",
              "  <svg xmlns=\"http://www.w3.org/2000/svg\" height=\"24px\"viewBox=\"0 0 24 24\"\n",
              "       width=\"24px\">\n",
              "    <path d=\"M0 0h24v24H0V0z\" fill=\"none\"/>\n",
              "    <path d=\"M18.56 5.44l.94 2.06.94-2.06 2.06-.94-2.06-.94-.94-2.06-.94 2.06-2.06.94zm-11 1L8.5 8.5l.94-2.06 2.06-.94-2.06-.94L8.5 2.5l-.94 2.06-2.06.94zm10 10l.94 2.06.94-2.06 2.06-.94-2.06-.94-.94-2.06-.94 2.06-2.06.94z\"/><path d=\"M17.41 7.96l-1.37-1.37c-.4-.4-.92-.59-1.43-.59-.52 0-1.04.2-1.43.59L10.3 9.45l-7.72 7.72c-.78.78-.78 2.05 0 2.83L4 21.41c.39.39.9.59 1.41.59.51 0 1.02-.2 1.41-.59l7.78-7.78 2.81-2.81c.8-.78.8-2.07 0-2.86zM5.41 20L4 18.59l7.72-7.72 1.47 1.35L5.41 20z\"/>\n",
              "  </svg>\n",
              "      </button>\n",
              "      \n",
              "  <style>\n",
              "    .colab-df-container {\n",
              "      display:flex;\n",
              "      flex-wrap:wrap;\n",
              "      gap: 12px;\n",
              "    }\n",
              "\n",
              "    .colab-df-convert {\n",
              "      background-color: #E8F0FE;\n",
              "      border: none;\n",
              "      border-radius: 50%;\n",
              "      cursor: pointer;\n",
              "      display: none;\n",
              "      fill: #1967D2;\n",
              "      height: 32px;\n",
              "      padding: 0 0 0 0;\n",
              "      width: 32px;\n",
              "    }\n",
              "\n",
              "    .colab-df-convert:hover {\n",
              "      background-color: #E2EBFA;\n",
              "      box-shadow: 0px 1px 2px rgba(60, 64, 67, 0.3), 0px 1px 3px 1px rgba(60, 64, 67, 0.15);\n",
              "      fill: #174EA6;\n",
              "    }\n",
              "\n",
              "    [theme=dark] .colab-df-convert {\n",
              "      background-color: #3B4455;\n",
              "      fill: #D2E3FC;\n",
              "    }\n",
              "\n",
              "    [theme=dark] .colab-df-convert:hover {\n",
              "      background-color: #434B5C;\n",
              "      box-shadow: 0px 1px 3px 1px rgba(0, 0, 0, 0.15);\n",
              "      filter: drop-shadow(0px 1px 2px rgba(0, 0, 0, 0.3));\n",
              "      fill: #FFFFFF;\n",
              "    }\n",
              "  </style>\n",
              "\n",
              "      <script>\n",
              "        const buttonEl =\n",
              "          document.querySelector('#df-f5a64509-3743-4a36-8cb5-58a98a1ff780 button.colab-df-convert');\n",
              "        buttonEl.style.display =\n",
              "          google.colab.kernel.accessAllowed ? 'block' : 'none';\n",
              "\n",
              "        async function convertToInteractive(key) {\n",
              "          const element = document.querySelector('#df-f5a64509-3743-4a36-8cb5-58a98a1ff780');\n",
              "          const dataTable =\n",
              "            await google.colab.kernel.invokeFunction('convertToInteractive',\n",
              "                                                     [key], {});\n",
              "          if (!dataTable) return;\n",
              "\n",
              "          const docLinkHtml = 'Like what you see? Visit the ' +\n",
              "            '<a target=\"_blank\" href=https://colab.research.google.com/notebooks/data_table.ipynb>data table notebook</a>'\n",
              "            + ' to learn more about interactive tables.';\n",
              "          element.innerHTML = '';\n",
              "          dataTable['output_type'] = 'display_data';\n",
              "          await google.colab.output.renderOutput(dataTable, element);\n",
              "          const docLink = document.createElement('div');\n",
              "          docLink.innerHTML = docLinkHtml;\n",
              "          element.appendChild(docLink);\n",
              "        }\n",
              "      </script>\n",
              "    </div>\n",
              "  </div>\n",
              "  "
            ]
          },
          "metadata": {},
          "execution_count": 22
        }
      ]
    },
    {
      "cell_type": "code",
      "metadata": {
        "id": "aSJVwigvV4Vm"
      },
      "source": [
        ""
      ],
      "execution_count": null,
      "outputs": []
    },
    {
      "cell_type": "code",
      "source": [
        ""
      ],
      "metadata": {
        "colab": {
          "base_uri": "https://localhost:8080/"
        },
        "id": "EA2D9BYdtfWg",
        "outputId": "42cd5521-79a9-4fc6-c6f7-58ac41483305"
      },
      "execution_count": null,
      "outputs": [
        {
          "output_type": "execute_result",
          "data": {
            "text/plain": [
              "True     8467\n",
              "False       7\n",
              "Name: review_clean, dtype: int64"
            ]
          },
          "metadata": {},
          "execution_count": 12
        }
      ]
    },
    {
      "cell_type": "code",
      "source": [
        ""
      ],
      "metadata": {
        "id": "FEXJKqYqtzRu"
      },
      "execution_count": null,
      "outputs": []
    },
    {
      "cell_type": "markdown",
      "metadata": {
        "id": "sV1u8GZYhCLq"
      },
      "source": [
        "6. Using `tf.keras.preprocessing.text.Tokenizer` [Tokenizer](https://www.tensorflow.org/api_docs/python/tf/keras/preprocessing/text/Tokenizer), process to encoding all the reviews (be careful, some reviews might have been entirely erased, try and understand why, remove those reviews)\n",
        "\n",
        "When instanciating the tokenizer, make sure you set it up to keep only the 1000 most common words."
      ]
    },
    {
      "cell_type": "code",
      "metadata": {
        "id": "oWowSu9ZqB8Y"
      },
      "source": [
        ""
      ],
      "execution_count": null,
      "outputs": []
    },
    {
      "cell_type": "code",
      "metadata": {
        "colab": {
          "base_uri": "https://localhost:8080/",
          "height": 302
        },
        "id": "c0BhixF3Vauw",
        "outputId": "6d2c2974-842f-48d4-8ca8-e086db1c9d1a"
      },
      "source": [
        ""
      ],
      "execution_count": null,
      "outputs": [
        {
          "output_type": "execute_result",
          "data": {
            "text/plain": [
              "                                              review  stars  \\\n",
              "0  Génial, fabuleux, exceptionnel ! J'aimerais qu...      5   \n",
              "1                   Toujours aussi magic, féerique !      5   \n",
              "2  En vacances en région parisienne nous nous som...      2   \n",
              "3                     Tropbeaufinalpleinlesyeuxoreil      5   \n",
              "4  L'univers Disney reste merveilleux. Toutefois ...      4   \n",
              "\n",
              "                                        review_clean  \\\n",
              "0  génial fabuleux exceptionnel   aimer walt disn...   \n",
              "1                                     magic féerique   \n",
              "2  vacance région parisien décider visiter parc r...   \n",
              "3                     tropbeaufinalpleinlesyeuxoreil   \n",
              "4  univers disney merveilleux regrette falloir dé...   \n",
              "\n",
              "                                      review_encoded  \n",
              "0                 [111, 581, 484, 196, 466, 6, 1, 1]  \n",
              "1                                          [332, 77]  \n",
              "2  [405, 1, 1, 807, 467, 3, 1, 1, 5, 352, 135, 3,...  \n",
              "3                                                [1]  \n",
              "4  [378, 6, 93, 666, 65, 1, 114, 166, 1, 112, 667...  "
            ],
            "text/html": [
              "\n",
              "  <div id=\"df-9c635c6b-6325-4b40-9eae-1fb9cfe15e0d\">\n",
              "    <div class=\"colab-df-container\">\n",
              "      <div>\n",
              "<style scoped>\n",
              "    .dataframe tbody tr th:only-of-type {\n",
              "        vertical-align: middle;\n",
              "    }\n",
              "\n",
              "    .dataframe tbody tr th {\n",
              "        vertical-align: top;\n",
              "    }\n",
              "\n",
              "    .dataframe thead th {\n",
              "        text-align: right;\n",
              "    }\n",
              "</style>\n",
              "<table border=\"1\" class=\"dataframe\">\n",
              "  <thead>\n",
              "    <tr style=\"text-align: right;\">\n",
              "      <th></th>\n",
              "      <th>review</th>\n",
              "      <th>stars</th>\n",
              "      <th>review_clean</th>\n",
              "      <th>review_encoded</th>\n",
              "    </tr>\n",
              "  </thead>\n",
              "  <tbody>\n",
              "    <tr>\n",
              "      <th>0</th>\n",
              "      <td>Génial, fabuleux, exceptionnel ! J'aimerais qu...</td>\n",
              "      <td>5</td>\n",
              "      <td>génial fabuleux exceptionnel   aimer walt disn...</td>\n",
              "      <td>[111, 581, 484, 196, 466, 6, 1, 1]</td>\n",
              "    </tr>\n",
              "    <tr>\n",
              "      <th>1</th>\n",
              "      <td>Toujours aussi magic, féerique !</td>\n",
              "      <td>5</td>\n",
              "      <td>magic féerique</td>\n",
              "      <td>[332, 77]</td>\n",
              "    </tr>\n",
              "    <tr>\n",
              "      <th>2</th>\n",
              "      <td>En vacances en région parisienne nous nous som...</td>\n",
              "      <td>2</td>\n",
              "      <td>vacance région parisien décider visiter parc r...</td>\n",
              "      <td>[405, 1, 1, 807, 467, 3, 1, 1, 5, 352, 135, 3,...</td>\n",
              "    </tr>\n",
              "    <tr>\n",
              "      <th>3</th>\n",
              "      <td>Tropbeaufinalpleinlesyeuxoreil</td>\n",
              "      <td>5</td>\n",
              "      <td>tropbeaufinalpleinlesyeuxoreil</td>\n",
              "      <td>[1]</td>\n",
              "    </tr>\n",
              "    <tr>\n",
              "      <th>4</th>\n",
              "      <td>L'univers Disney reste merveilleux. Toutefois ...</td>\n",
              "      <td>4</td>\n",
              "      <td>univers disney merveilleux regrette falloir dé...</td>\n",
              "      <td>[378, 6, 93, 666, 65, 1, 114, 166, 1, 112, 667...</td>\n",
              "    </tr>\n",
              "  </tbody>\n",
              "</table>\n",
              "</div>\n",
              "      <button class=\"colab-df-convert\" onclick=\"convertToInteractive('df-9c635c6b-6325-4b40-9eae-1fb9cfe15e0d')\"\n",
              "              title=\"Convert this dataframe to an interactive table.\"\n",
              "              style=\"display:none;\">\n",
              "        \n",
              "  <svg xmlns=\"http://www.w3.org/2000/svg\" height=\"24px\"viewBox=\"0 0 24 24\"\n",
              "       width=\"24px\">\n",
              "    <path d=\"M0 0h24v24H0V0z\" fill=\"none\"/>\n",
              "    <path d=\"M18.56 5.44l.94 2.06.94-2.06 2.06-.94-2.06-.94-.94-2.06-.94 2.06-2.06.94zm-11 1L8.5 8.5l.94-2.06 2.06-.94-2.06-.94L8.5 2.5l-.94 2.06-2.06.94zm10 10l.94 2.06.94-2.06 2.06-.94-2.06-.94-.94-2.06-.94 2.06-2.06.94z\"/><path d=\"M17.41 7.96l-1.37-1.37c-.4-.4-.92-.59-1.43-.59-.52 0-1.04.2-1.43.59L10.3 9.45l-7.72 7.72c-.78.78-.78 2.05 0 2.83L4 21.41c.39.39.9.59 1.41.59.51 0 1.02-.2 1.41-.59l7.78-7.78 2.81-2.81c.8-.78.8-2.07 0-2.86zM5.41 20L4 18.59l7.72-7.72 1.47 1.35L5.41 20z\"/>\n",
              "  </svg>\n",
              "      </button>\n",
              "      \n",
              "  <style>\n",
              "    .colab-df-container {\n",
              "      display:flex;\n",
              "      flex-wrap:wrap;\n",
              "      gap: 12px;\n",
              "    }\n",
              "\n",
              "    .colab-df-convert {\n",
              "      background-color: #E8F0FE;\n",
              "      border: none;\n",
              "      border-radius: 50%;\n",
              "      cursor: pointer;\n",
              "      display: none;\n",
              "      fill: #1967D2;\n",
              "      height: 32px;\n",
              "      padding: 0 0 0 0;\n",
              "      width: 32px;\n",
              "    }\n",
              "\n",
              "    .colab-df-convert:hover {\n",
              "      background-color: #E2EBFA;\n",
              "      box-shadow: 0px 1px 2px rgba(60, 64, 67, 0.3), 0px 1px 3px 1px rgba(60, 64, 67, 0.15);\n",
              "      fill: #174EA6;\n",
              "    }\n",
              "\n",
              "    [theme=dark] .colab-df-convert {\n",
              "      background-color: #3B4455;\n",
              "      fill: #D2E3FC;\n",
              "    }\n",
              "\n",
              "    [theme=dark] .colab-df-convert:hover {\n",
              "      background-color: #434B5C;\n",
              "      box-shadow: 0px 1px 3px 1px rgba(0, 0, 0, 0.15);\n",
              "      filter: drop-shadow(0px 1px 2px rgba(0, 0, 0, 0.3));\n",
              "      fill: #FFFFFF;\n",
              "    }\n",
              "  </style>\n",
              "\n",
              "      <script>\n",
              "        const buttonEl =\n",
              "          document.querySelector('#df-9c635c6b-6325-4b40-9eae-1fb9cfe15e0d button.colab-df-convert');\n",
              "        buttonEl.style.display =\n",
              "          google.colab.kernel.accessAllowed ? 'block' : 'none';\n",
              "\n",
              "        async function convertToInteractive(key) {\n",
              "          const element = document.querySelector('#df-9c635c6b-6325-4b40-9eae-1fb9cfe15e0d');\n",
              "          const dataTable =\n",
              "            await google.colab.kernel.invokeFunction('convertToInteractive',\n",
              "                                                     [key], {});\n",
              "          if (!dataTable) return;\n",
              "\n",
              "          const docLinkHtml = 'Like what you see? Visit the ' +\n",
              "            '<a target=\"_blank\" href=https://colab.research.google.com/notebooks/data_table.ipynb>data table notebook</a>'\n",
              "            + ' to learn more about interactive tables.';\n",
              "          element.innerHTML = '';\n",
              "          dataTable['output_type'] = 'display_data';\n",
              "          await google.colab.output.renderOutput(dataTable, element);\n",
              "          const docLink = document.createElement('div');\n",
              "          docLink.innerHTML = docLinkHtml;\n",
              "          element.appendChild(docLink);\n",
              "        }\n",
              "      </script>\n",
              "    </div>\n",
              "  </div>\n",
              "  "
            ]
          },
          "metadata": {},
          "execution_count": 15
        }
      ]
    },
    {
      "cell_type": "markdown",
      "metadata": {
        "id": "XWDcmw-ohmdM"
      },
      "source": [
        "7. Try and convert your texts and labels into a tensor slice dataset using `tf.data.Dataset.from_tensor_slices` (it should fail giving this error : `ValueError: Failed to convert a NumPy array to a Tensor (Unsupported object type list)`.)\n",
        "\n",
        "\n"
      ]
    },
    {
      "cell_type": "code",
      "metadata": {
        "id": "tlwDyieOszdi",
        "colab": {
          "base_uri": "https://localhost:8080/",
          "height": 659
        },
        "outputId": "bb70ef7d-4449-4f5b-ea50-565c60181d3e"
      },
      "source": [
        ""
      ],
      "execution_count": null,
      "outputs": [
        {
          "output_type": "error",
          "ename": "ValueError",
          "evalue": "ignored",
          "traceback": [
            "\u001b[0;31m---------------------------------------------------------------------------\u001b[0m",
            "\u001b[0;31mTypeError\u001b[0m                                 Traceback (most recent call last)",
            "\u001b[0;32m/usr/local/lib/python3.7/dist-packages/tensorflow/python/data/util/structure.py\u001b[0m in \u001b[0;36mnormalize_element\u001b[0;34m(element, element_signature)\u001b[0m\n\u001b[1;32m    101\u001b[0m         \u001b[0;32mif\u001b[0m \u001b[0mspec\u001b[0m \u001b[0;32mis\u001b[0m \u001b[0;32mNone\u001b[0m\u001b[0;34m:\u001b[0m\u001b[0;34m\u001b[0m\u001b[0;34m\u001b[0m\u001b[0m\n\u001b[0;32m--> 102\u001b[0;31m           \u001b[0mspec\u001b[0m \u001b[0;34m=\u001b[0m \u001b[0mtype_spec_from_value\u001b[0m\u001b[0;34m(\u001b[0m\u001b[0mt\u001b[0m\u001b[0;34m,\u001b[0m \u001b[0muse_fallback\u001b[0m\u001b[0;34m=\u001b[0m\u001b[0;32mFalse\u001b[0m\u001b[0;34m)\u001b[0m\u001b[0;34m\u001b[0m\u001b[0;34m\u001b[0m\u001b[0m\n\u001b[0m\u001b[1;32m    103\u001b[0m       \u001b[0;32mexcept\u001b[0m \u001b[0mTypeError\u001b[0m\u001b[0;34m:\u001b[0m\u001b[0;34m\u001b[0m\u001b[0;34m\u001b[0m\u001b[0m\n",
            "\u001b[0;32m/usr/local/lib/python3.7/dist-packages/tensorflow/python/data/util/structure.py\u001b[0m in \u001b[0;36mtype_spec_from_value\u001b[0;34m(element, use_fallback)\u001b[0m\n\u001b[1;32m    486\u001b[0m       \u001b[0melement\u001b[0m\u001b[0;34m,\u001b[0m\u001b[0;34m\u001b[0m\u001b[0;34m\u001b[0m\u001b[0m\n\u001b[0;32m--> 487\u001b[0;31m       type(element).__name__))\n\u001b[0m\u001b[1;32m    488\u001b[0m \u001b[0;34m\u001b[0m\u001b[0m\n",
            "\u001b[0;31mTypeError\u001b[0m: Could not build a `TypeSpec` for 0                      [111, 581, 484, 196, 466, 6, 1, 1]\n1                                               [332, 77]\n2       [405, 1, 1, 807, 467, 3, 1, 1, 5, 352, 135, 3,...\n3                                                     [1]\n4       [378, 6, 93, 666, 65, 1, 114, 166, 1, 112, 667...\n                              ...                        \n8469                                [11, 186, 29, 1, 477]\n8470    [29, 52, 17, 310, 102, 48, 57, 154, 29, 51, 33...\n8471    [22, 27, 183, 14, 43, 44, 45, 165, 7, 8, 63, 9...\n8472    [200, 943, 86, 6, 1, 378, 50, 17, 5, 29, 1, 59...\n8473    [6, 411, 109, 18, 321, 11, 1, 1, 21, 1, 79, 39...\nName: review_encoded, Length: 8467, dtype: object with type Series",
            "\nDuring handling of the above exception, another exception occurred:\n",
            "\u001b[0;31mValueError\u001b[0m                                Traceback (most recent call last)",
            "\u001b[0;32m<ipython-input-16-40a2ee13c2a6>\u001b[0m in \u001b[0;36m<module>\u001b[0;34m()\u001b[0m\n\u001b[0;32m----> 1\u001b[0;31m \u001b[0mfull_ds\u001b[0m \u001b[0;34m=\u001b[0m \u001b[0mtf\u001b[0m\u001b[0;34m.\u001b[0m\u001b[0mdata\u001b[0m\u001b[0;34m.\u001b[0m\u001b[0mDataset\u001b[0m\u001b[0;34m.\u001b[0m\u001b[0mfrom_tensor_slices\u001b[0m\u001b[0;34m(\u001b[0m\u001b[0;34m(\u001b[0m\u001b[0mfrench_reviews\u001b[0m\u001b[0;34m.\u001b[0m\u001b[0mreview_encoded\u001b[0m\u001b[0;34m,\u001b[0m \u001b[0mfrench_reviews\u001b[0m\u001b[0;34m.\u001b[0m\u001b[0mstars\u001b[0m\u001b[0;34m.\u001b[0m\u001b[0mvalues\u001b[0m\u001b[0;34m-\u001b[0m\u001b[0;36m1\u001b[0m\u001b[0;34m)\u001b[0m\u001b[0;34m)\u001b[0m\u001b[0;34m\u001b[0m\u001b[0;34m\u001b[0m\u001b[0m\n\u001b[0m",
            "\u001b[0;32m/usr/local/lib/python3.7/dist-packages/tensorflow/python/data/ops/dataset_ops.py\u001b[0m in \u001b[0;36mfrom_tensor_slices\u001b[0;34m(tensors, name)\u001b[0m\n\u001b[1;32m    791\u001b[0m       \u001b[0mDataset\u001b[0m\u001b[0;34m:\u001b[0m \u001b[0mA\u001b[0m\u001b[0;31m \u001b[0m\u001b[0;31m`\u001b[0m\u001b[0mDataset\u001b[0m\u001b[0;31m`\u001b[0m\u001b[0;34m.\u001b[0m\u001b[0;34m\u001b[0m\u001b[0;34m\u001b[0m\u001b[0m\n\u001b[1;32m    792\u001b[0m     \"\"\"\n\u001b[0;32m--> 793\u001b[0;31m     \u001b[0;32mreturn\u001b[0m \u001b[0mTensorSliceDataset\u001b[0m\u001b[0;34m(\u001b[0m\u001b[0mtensors\u001b[0m\u001b[0;34m,\u001b[0m \u001b[0mname\u001b[0m\u001b[0;34m=\u001b[0m\u001b[0mname\u001b[0m\u001b[0;34m)\u001b[0m\u001b[0;34m\u001b[0m\u001b[0;34m\u001b[0m\u001b[0m\n\u001b[0m\u001b[1;32m    794\u001b[0m \u001b[0;34m\u001b[0m\u001b[0m\n\u001b[1;32m    795\u001b[0m   \u001b[0;32mclass\u001b[0m \u001b[0m_GeneratorState\u001b[0m\u001b[0;34m(\u001b[0m\u001b[0mobject\u001b[0m\u001b[0;34m)\u001b[0m\u001b[0;34m:\u001b[0m\u001b[0;34m\u001b[0m\u001b[0;34m\u001b[0m\u001b[0m\n",
            "\u001b[0;32m/usr/local/lib/python3.7/dist-packages/tensorflow/python/data/ops/dataset_ops.py\u001b[0m in \u001b[0;36m__init__\u001b[0;34m(self, element, is_files, name)\u001b[0m\n\u001b[1;32m   4475\u001b[0m   \u001b[0;32mdef\u001b[0m \u001b[0m__init__\u001b[0m\u001b[0;34m(\u001b[0m\u001b[0mself\u001b[0m\u001b[0;34m,\u001b[0m \u001b[0melement\u001b[0m\u001b[0;34m,\u001b[0m \u001b[0mis_files\u001b[0m\u001b[0;34m=\u001b[0m\u001b[0;32mFalse\u001b[0m\u001b[0;34m,\u001b[0m \u001b[0mname\u001b[0m\u001b[0;34m=\u001b[0m\u001b[0;32mNone\u001b[0m\u001b[0;34m)\u001b[0m\u001b[0;34m:\u001b[0m\u001b[0;34m\u001b[0m\u001b[0;34m\u001b[0m\u001b[0m\n\u001b[1;32m   4476\u001b[0m     \u001b[0;34m\"\"\"See `Dataset.from_tensor_slices()` for details.\"\"\"\u001b[0m\u001b[0;34m\u001b[0m\u001b[0;34m\u001b[0m\u001b[0m\n\u001b[0;32m-> 4477\u001b[0;31m     \u001b[0melement\u001b[0m \u001b[0;34m=\u001b[0m \u001b[0mstructure\u001b[0m\u001b[0;34m.\u001b[0m\u001b[0mnormalize_element\u001b[0m\u001b[0;34m(\u001b[0m\u001b[0melement\u001b[0m\u001b[0;34m)\u001b[0m\u001b[0;34m\u001b[0m\u001b[0;34m\u001b[0m\u001b[0m\n\u001b[0m\u001b[1;32m   4478\u001b[0m     \u001b[0mbatched_spec\u001b[0m \u001b[0;34m=\u001b[0m \u001b[0mstructure\u001b[0m\u001b[0;34m.\u001b[0m\u001b[0mtype_spec_from_value\u001b[0m\u001b[0;34m(\u001b[0m\u001b[0melement\u001b[0m\u001b[0;34m)\u001b[0m\u001b[0;34m\u001b[0m\u001b[0;34m\u001b[0m\u001b[0m\n\u001b[1;32m   4479\u001b[0m     \u001b[0mself\u001b[0m\u001b[0;34m.\u001b[0m\u001b[0m_tensors\u001b[0m \u001b[0;34m=\u001b[0m \u001b[0mstructure\u001b[0m\u001b[0;34m.\u001b[0m\u001b[0mto_batched_tensor_list\u001b[0m\u001b[0;34m(\u001b[0m\u001b[0mbatched_spec\u001b[0m\u001b[0;34m,\u001b[0m \u001b[0melement\u001b[0m\u001b[0;34m)\u001b[0m\u001b[0;34m\u001b[0m\u001b[0;34m\u001b[0m\u001b[0m\n",
            "\u001b[0;32m/usr/local/lib/python3.7/dist-packages/tensorflow/python/data/util/structure.py\u001b[0m in \u001b[0;36mnormalize_element\u001b[0;34m(element, element_signature)\u001b[0m\n\u001b[1;32m    105\u001b[0m         \u001b[0;31m# the value. As a fallback try converting the value to a tensor.\u001b[0m\u001b[0;34m\u001b[0m\u001b[0;34m\u001b[0m\u001b[0;34m\u001b[0m\u001b[0m\n\u001b[1;32m    106\u001b[0m         normalized_components.append(\n\u001b[0;32m--> 107\u001b[0;31m             ops.convert_to_tensor(t, name=\"component_%d\" % i))\n\u001b[0m\u001b[1;32m    108\u001b[0m       \u001b[0;32melse\u001b[0m\u001b[0;34m:\u001b[0m\u001b[0;34m\u001b[0m\u001b[0;34m\u001b[0m\u001b[0m\n\u001b[1;32m    109\u001b[0m         \u001b[0;32mif\u001b[0m \u001b[0misinstance\u001b[0m\u001b[0;34m(\u001b[0m\u001b[0mspec\u001b[0m\u001b[0;34m,\u001b[0m \u001b[0msparse_tensor\u001b[0m\u001b[0;34m.\u001b[0m\u001b[0mSparseTensorSpec\u001b[0m\u001b[0;34m)\u001b[0m\u001b[0;34m:\u001b[0m\u001b[0;34m\u001b[0m\u001b[0;34m\u001b[0m\u001b[0m\n",
            "\u001b[0;32m/usr/local/lib/python3.7/dist-packages/tensorflow/python/profiler/trace.py\u001b[0m in \u001b[0;36mwrapped\u001b[0;34m(*args, **kwargs)\u001b[0m\n\u001b[1;32m    181\u001b[0m         \u001b[0;32mwith\u001b[0m \u001b[0mTrace\u001b[0m\u001b[0;34m(\u001b[0m\u001b[0mtrace_name\u001b[0m\u001b[0;34m,\u001b[0m \u001b[0;34m**\u001b[0m\u001b[0mtrace_kwargs\u001b[0m\u001b[0;34m)\u001b[0m\u001b[0;34m:\u001b[0m\u001b[0;34m\u001b[0m\u001b[0;34m\u001b[0m\u001b[0m\n\u001b[1;32m    182\u001b[0m           \u001b[0;32mreturn\u001b[0m \u001b[0mfunc\u001b[0m\u001b[0;34m(\u001b[0m\u001b[0;34m*\u001b[0m\u001b[0margs\u001b[0m\u001b[0;34m,\u001b[0m \u001b[0;34m**\u001b[0m\u001b[0mkwargs\u001b[0m\u001b[0;34m)\u001b[0m\u001b[0;34m\u001b[0m\u001b[0;34m\u001b[0m\u001b[0m\n\u001b[0;32m--> 183\u001b[0;31m       \u001b[0;32mreturn\u001b[0m \u001b[0mfunc\u001b[0m\u001b[0;34m(\u001b[0m\u001b[0;34m*\u001b[0m\u001b[0margs\u001b[0m\u001b[0;34m,\u001b[0m \u001b[0;34m**\u001b[0m\u001b[0mkwargs\u001b[0m\u001b[0;34m)\u001b[0m\u001b[0;34m\u001b[0m\u001b[0;34m\u001b[0m\u001b[0m\n\u001b[0m\u001b[1;32m    184\u001b[0m \u001b[0;34m\u001b[0m\u001b[0m\n\u001b[1;32m    185\u001b[0m     \u001b[0;32mreturn\u001b[0m \u001b[0mwrapped\u001b[0m\u001b[0;34m\u001b[0m\u001b[0;34m\u001b[0m\u001b[0m\n",
            "\u001b[0;32m/usr/local/lib/python3.7/dist-packages/tensorflow/python/framework/ops.py\u001b[0m in \u001b[0;36mconvert_to_tensor\u001b[0;34m(value, dtype, name, as_ref, preferred_dtype, dtype_hint, ctx, accepted_result_types)\u001b[0m\n\u001b[1;32m   1693\u001b[0m \u001b[0;34m\u001b[0m\u001b[0m\n\u001b[1;32m   1694\u001b[0m     \u001b[0;32mif\u001b[0m \u001b[0mret\u001b[0m \u001b[0;32mis\u001b[0m \u001b[0;32mNone\u001b[0m\u001b[0;34m:\u001b[0m\u001b[0;34m\u001b[0m\u001b[0;34m\u001b[0m\u001b[0m\n\u001b[0;32m-> 1695\u001b[0;31m       \u001b[0mret\u001b[0m \u001b[0;34m=\u001b[0m \u001b[0mconversion_func\u001b[0m\u001b[0;34m(\u001b[0m\u001b[0mvalue\u001b[0m\u001b[0;34m,\u001b[0m \u001b[0mdtype\u001b[0m\u001b[0;34m=\u001b[0m\u001b[0mdtype\u001b[0m\u001b[0;34m,\u001b[0m \u001b[0mname\u001b[0m\u001b[0;34m=\u001b[0m\u001b[0mname\u001b[0m\u001b[0;34m,\u001b[0m \u001b[0mas_ref\u001b[0m\u001b[0;34m=\u001b[0m\u001b[0mas_ref\u001b[0m\u001b[0;34m)\u001b[0m\u001b[0;34m\u001b[0m\u001b[0;34m\u001b[0m\u001b[0m\n\u001b[0m\u001b[1;32m   1696\u001b[0m \u001b[0;34m\u001b[0m\u001b[0m\n\u001b[1;32m   1697\u001b[0m     \u001b[0;32mif\u001b[0m \u001b[0mret\u001b[0m \u001b[0;32mis\u001b[0m \u001b[0mNotImplemented\u001b[0m\u001b[0;34m:\u001b[0m\u001b[0;34m\u001b[0m\u001b[0;34m\u001b[0m\u001b[0m\n",
            "\u001b[0;32m/usr/local/lib/python3.7/dist-packages/tensorflow/python/framework/constant_op.py\u001b[0m in \u001b[0;36m_constant_tensor_conversion_function\u001b[0;34m(v, dtype, name, as_ref)\u001b[0m\n\u001b[1;32m    341\u001b[0m                                          as_ref=False):\n\u001b[1;32m    342\u001b[0m   \u001b[0m_\u001b[0m \u001b[0;34m=\u001b[0m \u001b[0mas_ref\u001b[0m\u001b[0;34m\u001b[0m\u001b[0;34m\u001b[0m\u001b[0m\n\u001b[0;32m--> 343\u001b[0;31m   \u001b[0;32mreturn\u001b[0m \u001b[0mconstant\u001b[0m\u001b[0;34m(\u001b[0m\u001b[0mv\u001b[0m\u001b[0;34m,\u001b[0m \u001b[0mdtype\u001b[0m\u001b[0;34m=\u001b[0m\u001b[0mdtype\u001b[0m\u001b[0;34m,\u001b[0m \u001b[0mname\u001b[0m\u001b[0;34m=\u001b[0m\u001b[0mname\u001b[0m\u001b[0;34m)\u001b[0m\u001b[0;34m\u001b[0m\u001b[0;34m\u001b[0m\u001b[0m\n\u001b[0m\u001b[1;32m    344\u001b[0m \u001b[0;34m\u001b[0m\u001b[0m\n\u001b[1;32m    345\u001b[0m \u001b[0;34m\u001b[0m\u001b[0m\n",
            "\u001b[0;32m/usr/local/lib/python3.7/dist-packages/tensorflow/python/framework/constant_op.py\u001b[0m in \u001b[0;36mconstant\u001b[0;34m(value, dtype, shape, name)\u001b[0m\n\u001b[1;32m    266\u001b[0m   \"\"\"\n\u001b[1;32m    267\u001b[0m   return _constant_impl(value, dtype, shape, name, verify_shape=False,\n\u001b[0;32m--> 268\u001b[0;31m                         allow_broadcast=True)\n\u001b[0m\u001b[1;32m    269\u001b[0m \u001b[0;34m\u001b[0m\u001b[0m\n\u001b[1;32m    270\u001b[0m \u001b[0;34m\u001b[0m\u001b[0m\n",
            "\u001b[0;32m/usr/local/lib/python3.7/dist-packages/tensorflow/python/framework/constant_op.py\u001b[0m in \u001b[0;36m_constant_impl\u001b[0;34m(value, dtype, shape, name, verify_shape, allow_broadcast)\u001b[0m\n\u001b[1;32m    277\u001b[0m       \u001b[0;32mwith\u001b[0m \u001b[0mtrace\u001b[0m\u001b[0;34m.\u001b[0m\u001b[0mTrace\u001b[0m\u001b[0;34m(\u001b[0m\u001b[0;34m\"tf.constant\"\u001b[0m\u001b[0;34m)\u001b[0m\u001b[0;34m:\u001b[0m\u001b[0;34m\u001b[0m\u001b[0;34m\u001b[0m\u001b[0m\n\u001b[1;32m    278\u001b[0m         \u001b[0;32mreturn\u001b[0m \u001b[0m_constant_eager_impl\u001b[0m\u001b[0;34m(\u001b[0m\u001b[0mctx\u001b[0m\u001b[0;34m,\u001b[0m \u001b[0mvalue\u001b[0m\u001b[0;34m,\u001b[0m \u001b[0mdtype\u001b[0m\u001b[0;34m,\u001b[0m \u001b[0mshape\u001b[0m\u001b[0;34m,\u001b[0m \u001b[0mverify_shape\u001b[0m\u001b[0;34m)\u001b[0m\u001b[0;34m\u001b[0m\u001b[0;34m\u001b[0m\u001b[0m\n\u001b[0;32m--> 279\u001b[0;31m     \u001b[0;32mreturn\u001b[0m \u001b[0m_constant_eager_impl\u001b[0m\u001b[0;34m(\u001b[0m\u001b[0mctx\u001b[0m\u001b[0;34m,\u001b[0m \u001b[0mvalue\u001b[0m\u001b[0;34m,\u001b[0m \u001b[0mdtype\u001b[0m\u001b[0;34m,\u001b[0m \u001b[0mshape\u001b[0m\u001b[0;34m,\u001b[0m \u001b[0mverify_shape\u001b[0m\u001b[0;34m)\u001b[0m\u001b[0;34m\u001b[0m\u001b[0;34m\u001b[0m\u001b[0m\n\u001b[0m\u001b[1;32m    280\u001b[0m \u001b[0;34m\u001b[0m\u001b[0m\n\u001b[1;32m    281\u001b[0m   \u001b[0mg\u001b[0m \u001b[0;34m=\u001b[0m \u001b[0mops\u001b[0m\u001b[0;34m.\u001b[0m\u001b[0mget_default_graph\u001b[0m\u001b[0;34m(\u001b[0m\u001b[0;34m)\u001b[0m\u001b[0;34m\u001b[0m\u001b[0;34m\u001b[0m\u001b[0m\n",
            "\u001b[0;32m/usr/local/lib/python3.7/dist-packages/tensorflow/python/framework/constant_op.py\u001b[0m in \u001b[0;36m_constant_eager_impl\u001b[0;34m(ctx, value, dtype, shape, verify_shape)\u001b[0m\n\u001b[1;32m    302\u001b[0m \u001b[0;32mdef\u001b[0m \u001b[0m_constant_eager_impl\u001b[0m\u001b[0;34m(\u001b[0m\u001b[0mctx\u001b[0m\u001b[0;34m,\u001b[0m \u001b[0mvalue\u001b[0m\u001b[0;34m,\u001b[0m \u001b[0mdtype\u001b[0m\u001b[0;34m,\u001b[0m \u001b[0mshape\u001b[0m\u001b[0;34m,\u001b[0m \u001b[0mverify_shape\u001b[0m\u001b[0;34m)\u001b[0m\u001b[0;34m:\u001b[0m\u001b[0;34m\u001b[0m\u001b[0;34m\u001b[0m\u001b[0m\n\u001b[1;32m    303\u001b[0m   \u001b[0;34m\"\"\"Creates a constant on the current device.\"\"\"\u001b[0m\u001b[0;34m\u001b[0m\u001b[0;34m\u001b[0m\u001b[0m\n\u001b[0;32m--> 304\u001b[0;31m   \u001b[0mt\u001b[0m \u001b[0;34m=\u001b[0m \u001b[0mconvert_to_eager_tensor\u001b[0m\u001b[0;34m(\u001b[0m\u001b[0mvalue\u001b[0m\u001b[0;34m,\u001b[0m \u001b[0mctx\u001b[0m\u001b[0;34m,\u001b[0m \u001b[0mdtype\u001b[0m\u001b[0;34m)\u001b[0m\u001b[0;34m\u001b[0m\u001b[0;34m\u001b[0m\u001b[0m\n\u001b[0m\u001b[1;32m    305\u001b[0m   \u001b[0;32mif\u001b[0m \u001b[0mshape\u001b[0m \u001b[0;32mis\u001b[0m \u001b[0;32mNone\u001b[0m\u001b[0;34m:\u001b[0m\u001b[0;34m\u001b[0m\u001b[0;34m\u001b[0m\u001b[0m\n\u001b[1;32m    306\u001b[0m     \u001b[0;32mreturn\u001b[0m \u001b[0mt\u001b[0m\u001b[0;34m\u001b[0m\u001b[0;34m\u001b[0m\u001b[0m\n",
            "\u001b[0;32m/usr/local/lib/python3.7/dist-packages/tensorflow/python/framework/constant_op.py\u001b[0m in \u001b[0;36mconvert_to_eager_tensor\u001b[0;34m(value, ctx, dtype)\u001b[0m\n\u001b[1;32m    100\u001b[0m       \u001b[0mdtype\u001b[0m \u001b[0;34m=\u001b[0m \u001b[0mdtypes\u001b[0m\u001b[0;34m.\u001b[0m\u001b[0mas_dtype\u001b[0m\u001b[0;34m(\u001b[0m\u001b[0mdtype\u001b[0m\u001b[0;34m)\u001b[0m\u001b[0;34m.\u001b[0m\u001b[0mas_datatype_enum\u001b[0m\u001b[0;34m\u001b[0m\u001b[0;34m\u001b[0m\u001b[0m\n\u001b[1;32m    101\u001b[0m   \u001b[0mctx\u001b[0m\u001b[0;34m.\u001b[0m\u001b[0mensure_initialized\u001b[0m\u001b[0;34m(\u001b[0m\u001b[0;34m)\u001b[0m\u001b[0;34m\u001b[0m\u001b[0;34m\u001b[0m\u001b[0m\n\u001b[0;32m--> 102\u001b[0;31m   \u001b[0;32mreturn\u001b[0m \u001b[0mops\u001b[0m\u001b[0;34m.\u001b[0m\u001b[0mEagerTensor\u001b[0m\u001b[0;34m(\u001b[0m\u001b[0mvalue\u001b[0m\u001b[0;34m,\u001b[0m \u001b[0mctx\u001b[0m\u001b[0;34m.\u001b[0m\u001b[0mdevice_name\u001b[0m\u001b[0;34m,\u001b[0m \u001b[0mdtype\u001b[0m\u001b[0;34m)\u001b[0m\u001b[0;34m\u001b[0m\u001b[0;34m\u001b[0m\u001b[0m\n\u001b[0m\u001b[1;32m    103\u001b[0m \u001b[0;34m\u001b[0m\u001b[0m\n\u001b[1;32m    104\u001b[0m \u001b[0;34m\u001b[0m\u001b[0m\n",
            "\u001b[0;31mValueError\u001b[0m: Failed to convert a NumPy array to a Tensor (Unsupported object type list)."
          ]
        }
      ]
    },
    {
      "cell_type": "markdown",
      "metadata": {
        "id": "2iWhGYhtim0_"
      },
      "source": [
        "8. This is perfectly normal, Tensorflow is incapable as of now to create a tensor dataset based on lists, we will have to store all of our encoded texts into a single numpy array before creating the tensorflow dataset.\n",
        "The problem is that not all our sequences are the same length, this is where the `tf.keras.preprocessing.sequence.pad_sequences` comes in handy, it will add zero padding at the beginning (`padding=\"pre\"`) or at the end (`padding=\"post\"`) of your sequences so they all have equal length."
      ]
    },
    {
      "cell_type": "code",
      "metadata": {
        "id": "lI8qSZloil3w"
      },
      "source": [
        ""
      ],
      "execution_count": null,
      "outputs": []
    },
    {
      "cell_type": "markdown",
      "metadata": {
        "id": "6Ch6zwLZpW6i"
      },
      "source": [
        "9. Do a `train_test_split` of your data (keep about 70% in the train). For this you may use `sklearn.model_selection.train_test_split`.\n",
        "\n"
      ]
    },
    {
      "cell_type": "code",
      "metadata": {
        "id": "uo7edz0PAr3v"
      },
      "source": [
        "# Train Test Split\n"
      ],
      "execution_count": null,
      "outputs": []
    },
    {
      "cell_type": "markdown",
      "metadata": {
        "id": "3YBVKh6XjY6X"
      },
      "source": [
        "10. Now that your sequences are padded create the tensor dataset for the training, and validation set. The target variable is qualitative ordinal, this means you may treat the sentiment analysis problem as a regression problem.\n",
        "However you may choose to adopt a classification approach, in this case make sure you modify the stars column so that the scores go from 0 to 4 instead of 1 to 5 to avoid errors when setting up your model's architecture and the loss function. (Since this is a multiple classification problem, we will use SparseCategoricalCrossentropy which assumes that the first label is 0)\n",
        "\n",
        "The solution will first use the regression approach."
      ]
    },
    {
      "cell_type": "code",
      "metadata": {
        "id": "3_-Oldl3jlUl"
      },
      "source": [
        ""
      ],
      "execution_count": null,
      "outputs": []
    },
    {
      "cell_type": "markdown",
      "source": [
        "11. Once you have done this you may use `.shuffle` on the train set, and `.batch`on both sets to organise them by batches of 64 observations.\n",
        "\n",
        "* [shuffle documentation](https://www.tensorflow.org/api_docs/python/tf/data/Dataset#shuffle)\n",
        "\n",
        "* [batch documentation](https://www.tensorflow.org/api_docs/python/tf/data/Dataset#batch)"
      ],
      "metadata": {
        "id": "LCCcF5rJ_o25"
      }
    },
    {
      "cell_type": "code",
      "source": [
        ""
      ],
      "metadata": {
        "id": "HClAccyNCyRc"
      },
      "execution_count": null,
      "outputs": []
    },
    {
      "cell_type": "markdown",
      "metadata": {
        "id": "EpUQB9xApckV"
      },
      "source": [
        "12. Look at a batch of data "
      ]
    },
    {
      "cell_type": "code",
      "metadata": {
        "id": "V8jxCfSSOUZ_",
        "colab": {
          "base_uri": "https://localhost:8080/"
        },
        "outputId": "8d3e7429-e811-4b3d-96d3-8fa712a139f3"
      },
      "source": [
        " # Regardons un batch "
      ],
      "execution_count": null,
      "outputs": [
        {
          "output_type": "stream",
          "name": "stdout",
          "text": [
            "tf.Tensor(\n",
            "[[  6   1   6 ...   0   0   0]\n",
            " [191 204  51 ...   0   0   0]\n",
            " [ 19  29   1 ...   0   0   0]\n",
            " ...\n",
            " [ 29 109  34 ...   0   0   0]\n",
            " [  1 305 591 ...   0   0   0]\n",
            " [  3  11 491 ...   0   0   0]], shape=(64, 443), dtype=int32) tf.Tensor(\n",
            "[1 1 5 4 5 5 5 4 5 5 3 5 3 5 3 2 5 5 5 1 5 5 5 5 5 5 5 4 5 5 4 5 4 1 4 3 5\n",
            " 5 3 5 5 5 5 5 5 3 3 4 5 4 1 5 2 5 3 5 4 5 5 2 2 5 3 5], shape=(64,), dtype=int64)\n"
          ]
        }
      ]
    },
    {
      "cell_type": "markdown",
      "metadata": {
        "id": "lMaPEPk6QS4x"
      },
      "source": [
        "## Modeling\n",
        "\n",
        "Let's create a model in order to train an embedding!"
      ]
    },
    {
      "cell_type": "markdown",
      "metadata": {
        "id": "rD3n6l1TplDN"
      },
      "source": [
        "1. Follow a similar architecture to the one we used in the code embedding demonstration."
      ]
    },
    {
      "cell_type": "code",
      "metadata": {
        "id": "kYxNpFYEUWI4"
      },
      "source": [
        ""
      ],
      "execution_count": null,
      "outputs": []
    },
    {
      "cell_type": "code",
      "metadata": {
        "id": "-KTqV8Mw0xQ5",
        "colab": {
          "base_uri": "https://localhost:8080/"
        },
        "outputId": "4ba00d48-bc3e-45e9-dcc0-741cc0cd354e"
      },
      "source": [
        ""
      ],
      "execution_count": null,
      "outputs": [
        {
          "output_type": "stream",
          "name": "stdout",
          "text": [
            "Model: \"sequential_2\"\n",
            "_________________________________________________________________\n",
            " Layer (type)                Output Shape              Param #   \n",
            "=================================================================\n",
            " embedding (Embedding)       (None, 443, 8)            8008      \n",
            "                                                                 \n",
            " global_average_pooling1d_2   (None, 8)                0         \n",
            " (GlobalAveragePooling1D)                                        \n",
            "                                                                 \n",
            " dense_5 (Dense)             (None, 16)                144       \n",
            "                                                                 \n",
            " dense_6 (Dense)             (None, 1)                 17        \n",
            "                                                                 \n",
            "=================================================================\n",
            "Total params: 8,169\n",
            "Trainable params: 8,169\n",
            "Non-trainable params: 0\n",
            "_________________________________________________________________\n"
          ]
        }
      ]
    },
    {
      "cell_type": "markdown",
      "metadata": {
        "id": "v-gKYS4_pu8I"
      },
      "source": [
        "2. Compile your model with the correct loss function, and the Adam optimizer."
      ]
    },
    {
      "cell_type": "code",
      "metadata": {
        "id": "yOXk9F0YQ0j5"
      },
      "source": [
        ""
      ],
      "execution_count": null,
      "outputs": []
    },
    {
      "cell_type": "markdown",
      "metadata": {
        "id": "r5Rsbpckp3jK"
      },
      "source": [
        "3. Fit your model on 20 epochs with weights to penalize too frequent notes. "
      ]
    },
    {
      "cell_type": "code",
      "metadata": {
        "id": "9qvWNK09RAPR",
        "colab": {
          "base_uri": "https://localhost:8080/"
        },
        "outputId": "97df47ee-3f53-4cdb-e295-89880f73a10c"
      },
      "source": [
        ""
      ],
      "execution_count": null,
      "outputs": [
        {
          "output_type": "stream",
          "name": "stdout",
          "text": [
            "Epoch 1/20\n",
            "93/93 [==============================] - 1s 8ms/step - loss: 15.7799 - mean_absolute_error: 3.7746 - val_loss: 12.0718 - val_mean_absolute_error: 3.2484\n",
            "Epoch 2/20\n",
            "93/93 [==============================] - 1s 8ms/step - loss: 7.4709 - mean_absolute_error: 2.4957 - val_loss: 3.2388 - val_mean_absolute_error: 1.6580\n",
            "Epoch 3/20\n",
            "93/93 [==============================] - 1s 7ms/step - loss: 1.8942 - mean_absolute_error: 1.2036 - val_loss: 1.4810 - val_mean_absolute_error: 0.9821\n",
            "Epoch 4/20\n",
            "93/93 [==============================] - 1s 7ms/step - loss: 1.4242 - mean_absolute_error: 0.9612 - val_loss: 1.4528 - val_mean_absolute_error: 0.9586\n",
            "Epoch 5/20\n",
            "93/93 [==============================] - 1s 7ms/step - loss: 1.3995 - mean_absolute_error: 0.9512 - val_loss: 1.4317 - val_mean_absolute_error: 0.9459\n",
            "Epoch 6/20\n",
            "93/93 [==============================] - 1s 7ms/step - loss: 1.3785 - mean_absolute_error: 0.9392 - val_loss: 1.4120 - val_mean_absolute_error: 0.9360\n",
            "Epoch 7/20\n",
            "93/93 [==============================] - 1s 7ms/step - loss: 1.3578 - mean_absolute_error: 0.9319 - val_loss: 1.3912 - val_mean_absolute_error: 0.9323\n",
            "Epoch 8/20\n",
            "93/93 [==============================] - 1s 7ms/step - loss: 1.3381 - mean_absolute_error: 0.9242 - val_loss: 1.3735 - val_mean_absolute_error: 0.9246\n",
            "Epoch 9/20\n",
            "93/93 [==============================] - 1s 7ms/step - loss: 1.3194 - mean_absolute_error: 0.9158 - val_loss: 1.3564 - val_mean_absolute_error: 0.9224\n",
            "Epoch 10/20\n",
            "93/93 [==============================] - 1s 7ms/step - loss: 1.3023 - mean_absolute_error: 0.9099 - val_loss: 1.3408 - val_mean_absolute_error: 0.9125\n",
            "Epoch 11/20\n",
            "93/93 [==============================] - 1s 7ms/step - loss: 1.2856 - mean_absolute_error: 0.9020 - val_loss: 1.3261 - val_mean_absolute_error: 0.9060\n",
            "Epoch 12/20\n",
            "93/93 [==============================] - 1s 7ms/step - loss: 1.2700 - mean_absolute_error: 0.8965 - val_loss: 1.3124 - val_mean_absolute_error: 0.9001\n",
            "Epoch 13/20\n",
            "93/93 [==============================] - 1s 8ms/step - loss: 1.2553 - mean_absolute_error: 0.8879 - val_loss: 1.2992 - val_mean_absolute_error: 0.8951\n",
            "Epoch 14/20\n",
            "93/93 [==============================] - 1s 7ms/step - loss: 1.2405 - mean_absolute_error: 0.8811 - val_loss: 1.2871 - val_mean_absolute_error: 0.8978\n",
            "Epoch 15/20\n",
            "93/93 [==============================] - 1s 7ms/step - loss: 1.2278 - mean_absolute_error: 0.8763 - val_loss: 1.2751 - val_mean_absolute_error: 0.8789\n",
            "Epoch 16/20\n",
            "93/93 [==============================] - 1s 7ms/step - loss: 1.2134 - mean_absolute_error: 0.8680 - val_loss: 1.2650 - val_mean_absolute_error: 0.8919\n",
            "Epoch 17/20\n",
            "93/93 [==============================] - 1s 7ms/step - loss: 1.1994 - mean_absolute_error: 0.8659 - val_loss: 1.2521 - val_mean_absolute_error: 0.8671\n",
            "Epoch 18/20\n",
            "93/93 [==============================] - 1s 7ms/step - loss: 1.1861 - mean_absolute_error: 0.8530 - val_loss: 1.2408 - val_mean_absolute_error: 0.8744\n",
            "Epoch 19/20\n",
            "93/93 [==============================] - 1s 7ms/step - loss: 1.1739 - mean_absolute_error: 0.8521 - val_loss: 1.2295 - val_mean_absolute_error: 0.8633\n",
            "Epoch 20/20\n",
            "93/93 [==============================] - 1s 7ms/step - loss: 1.1603 - mean_absolute_error: 0.8452 - val_loss: 1.2223 - val_mean_absolute_error: 0.8411\n"
          ]
        }
      ]
    },
    {
      "cell_type": "markdown",
      "metadata": {
        "id": "xDnsfUFQTkyJ"
      },
      "source": [
        "## Evaluation "
      ]
    },
    {
      "cell_type": "markdown",
      "metadata": {
        "id": "9Exbx9Bms-xZ"
      },
      "source": [
        "1. Create a graph showing your loss in relation to the number of epochs."
      ]
    },
    {
      "cell_type": "code",
      "metadata": {
        "id": "mafVWHDFRIH6",
        "colab": {
          "base_uri": "https://localhost:8080/",
          "height": 279
        },
        "outputId": "1957986e-22b3-4752-e87d-4710d8f8bc4d"
      },
      "source": [
        ""
      ],
      "execution_count": null,
      "outputs": [
        {
          "output_type": "display_data",
          "data": {
            "text/plain": [
              "<Figure size 432x288 with 1 Axes>"
            ],
            "image/png": "[encoded data removed]"
          },
          "metadata": {
            "needs_background": "light"
          }
        }
      ]
    },
    {
      "cell_type": "markdown",
      "metadata": {
        "id": "gzFU7VcMtF2j"
      },
      "source": [
        "2. Create a graph showing your accuracy in relation to the number of epochs."
      ]
    },
    {
      "cell_type": "code",
      "metadata": {
        "id": "D96WZP8cVOFL",
        "colab": {
          "base_uri": "https://localhost:8080/",
          "height": 279
        },
        "outputId": "a2f5ce14-1e87-4a3b-a01a-0d7136cc79ed"
      },
      "source": [
        ""
      ],
      "execution_count": null,
      "outputs": [
        {
          "output_type": "display_data",
          "data": {
            "text/plain": [
              "<Figure size 432x288 with 1 Axes>"
            ],
            "image/png": "[encoded data removed]"
          },
          "metadata": {
            "needs_background": "light"
          }
        }
      ]
    },
    {
      "cell_type": "markdown",
      "metadata": {
        "id": "n0MwYOxorUFl"
      },
      "source": [
        "3. Write to file the weights on the embedding layer and the 1000 most common words registered by the tokenizer. You can help yourself to the code in the code embedding demonstration."
      ]
    },
    {
      "cell_type": "code",
      "metadata": {
        "id": "mSWkyJJPY7r6"
      },
      "source": [
        ""
      ],
      "execution_count": null,
      "outputs": []
    },
    {
      "cell_type": "markdown",
      "metadata": {
        "id": "124fXGFCr3ZR"
      },
      "source": [
        "4. Go to [the embedding projector](https://projector.tensorflow.org/) in order to visualize the embedding, what do you think?"
      ]
    }
  ]
}