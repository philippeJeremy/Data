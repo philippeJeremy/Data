{
 "cells": [
  {
   "cell_type": "markdown",
   "metadata": {},
   "source": [
    "# Build a quiz - Part 2"
   ]
  },
  {
   "cell_type": "markdown",
   "metadata": {},
   "source": [
    "Below is the code we wrote yesterday, that asks three questions to the user and allows up to 3 wrong answers :"
   ]
  },
  {
   "cell_type": "code",
   "execution_count": null,
   "metadata": {},
   "outputs": [],
   "source": [
    "nb_de_chances = 3\n",
    "\n",
    "print(\"Voici notre quiz, tu as trois chances !\")\n",
    "\n",
    "if nb_de_chances > 0:\n",
    "    question1= input(\"Combien de fois la France a gagné la coupe du monde ? \")\n",
    "    while question1 != \"2\":\n",
    "        nb_de_chances -= 1\n",
    "        print(\"Dommage ! Il te reste {} chances\".format(nb_de_chances))\n",
    "        if nb_de_chances == 0:\n",
    "            print(\"Oh non ! Tu as perdu le jeu...\")\n",
    "            break\n",
    "        question1 = input(\"Combien de fois la France a gagné la coupe du monde ? \")\n",
    "\n",
    "if nb_de_chances > 0:\n",
    "    question2 = input(\"Quand a été fondé Apple ? \")\n",
    "    while question2 != \"1976\":\n",
    "        nb_de_chances -=1\n",
    "        print(\"Dommage ! Il te reste {} chances\".format(nb_de_chances))\n",
    "        if nb_de_chances == 0:\n",
    "            print(\"Oh non ! Tu as perdu le jeu...\")\n",
    "            break\n",
    "        question2 = input(\"Quand a été fondé Apple ? \")\n",
    "\n",
    "\n",
    "if nb_de_chances > 0:\n",
    "    question3 = input(\"Qui a fondé SpaceX ? \")\n",
    "    question3 = question3.lower()\n",
    "    while question3 != \"elon musk\":\n",
    "        nb_de_chances -=1\n",
    "        print(\"Dommage ! Il te reste {} chances\".format(nb_de_chances))\n",
    "        if nb_de_chances == 0:\n",
    "            print(\"Oh non ! Tu as perdu le jeu...\")\n",
    "            break\n",
    "        question3 = input(\"Qui a fondé SpaceX ? \")\n",
    "        question3 = question3.lower()\n",
    "\n",
    "if nb_de_chances > 0:\n",
    "    print(\"Bravo ! Tu as gagné le quiz !\")\n"
   ]
  },
  {
   "cell_type": "markdown",
   "metadata": {},
   "source": [
    "Let's refactor our quiz now that we know how to be dry.\n",
    "\n",
    "SPECs: \n",
    "\n",
    "* Your code should be DRY \n",
    "* You should use functions "
   ]
  }
 ],
 "metadata": {
  "language_info": {
   "codemirror_mode": {
    "name": "ipython",
    "version": 3
   },
   "file_extension": ".py",
   "mimetype": "text/x-python",
   "name": "python",
   "nbconvert_exporter": "python",
   "pygments_lexer": "ipython3",
   "version": 3
  },
  "orig_nbformat": 2
 },
 "nbformat": 4,
 "nbformat_minor": 2
}