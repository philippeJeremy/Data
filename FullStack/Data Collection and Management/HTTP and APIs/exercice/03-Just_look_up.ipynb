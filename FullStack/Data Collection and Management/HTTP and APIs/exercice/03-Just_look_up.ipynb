{
 "cells": [
  {
   "cell_type": "markdown",
   "metadata": {},
   "source": [
    "# Just look up!\n",
    "\n",
    "This exercise will let you deal with an API which documentation is a little bit more compicated to navigate than the previous one. We'll call an API to get air quality measures for France. Though the API lets you get data from anywhere in the world we have chosen to focus this study on France, but feel free to start with any country of your choice the series of questions would still hold."
   ]
  },
  {
   "cell_type": "markdown",
   "metadata": {},
   "source": [
    "1. Go to [https://docs.openaq.org/](https://docs.openaq.org/) and try a first call to make sure the APi is working properly!"
   ]
  },
  {
   "cell_type": "code",
   "execution_count": 1,
   "metadata": {},
   "outputs": [
    {
     "name": "stdout",
     "output_type": "stream",
     "text": [
      "status code: <Response [200]> \n",
      "\n",
      "\n",
      "Response data:\n",
      "\n"
     ]
    },
    {
     "data": {
      "text/plain": [
       "'Healthy Connection'"
      ]
     },
     "execution_count": 1,
     "metadata": {},
     "output_type": "execute_result"
    }
   ],
   "source": []
  },
  {
   "cell_type": "markdown",
   "metadata": {},
   "source": [
    "2. Before we start getting information from the API, let's take a look at the different types of air quality measures that are available to us and their definition. Query the API to get all the different possible **parameters** and their definitions."
   ]
  },
  {
   "cell_type": "code",
   "execution_count": 2,
   "metadata": {},
   "outputs": [
    {
     "name": "stdout",
     "output_type": "stream",
     "text": [
      "status code: <Response [200]> \n",
      "\n",
      "\n",
      "Response data:\n",
      "\n"
     ]
    },
    {
     "data": {
      "text/plain": [
       "{'meta': {'name': 'openaq-api',\n",
       "  'license': 'CC BY 4.0d',\n",
       "  'website': 'https://u50g7n0cbj.execute-api.us-east-1.amazonaws.com/',\n",
       "  'page': 1,\n",
       "  'limit': 100,\n",
       "  'found': 23},\n",
       " 'results': [{'id': 1,\n",
       "   'name': 'pm10',\n",
       "   'displayName': 'PM10',\n",
       "   'description': 'Particulate matter less than 10 micrometers in diameter mass concentration',\n",
       "   'preferredUnit': 'µg/m³',\n",
       "   'isCore': True,\n",
       "   'maxColorValue': 275.0},\n",
       "  {'id': 2,\n",
       "   'name': 'pm25',\n",
       "   'displayName': 'PM2.5',\n",
       "   'description': 'Particulate matter less than 2.5 micrometers in diameter mass concentration',\n",
       "   'preferredUnit': 'µg/m³',\n",
       "   'isCore': True,\n",
       "   'maxColorValue': 110.0},\n",
       "  {'id': 3,\n",
       "   'name': 'o3',\n",
       "   'displayName': 'O₃ mass',\n",
       "   'description': 'Ozone mass concentration',\n",
       "   'preferredUnit': 'µg/m³',\n",
       "   'isCore': False,\n",
       "   'maxColorValue': 312.764190964337},\n",
       "  {'id': 4,\n",
       "   'name': 'co',\n",
       "   'displayName': 'CO mass',\n",
       "   'description': 'Carbon Monoxide mass concentration',\n",
       "   'preferredUnit': 'µg/m³',\n",
       "   'isCore': False,\n",
       "   'maxColorValue': 12163.0422643604},\n",
       "  {'id': 5,\n",
       "   'name': 'no2',\n",
       "   'displayName': 'NO₂ mass',\n",
       "   'description': 'Nitrogen Dioxide mass concentration',\n",
       "   'preferredUnit': 'µg/m³',\n",
       "   'isCore': False,\n",
       "   'maxColorValue': 1180.7619365949},\n",
       "  {'id': 6,\n",
       "   'name': 'so2',\n",
       "   'displayName': 'SO₂ mass',\n",
       "   'description': 'Sulfur Dioxide mass concentration',\n",
       "   'preferredUnit': 'µg/m³',\n",
       "   'isCore': False,\n",
       "   'maxColorValue': 556.024525736353},\n",
       "  {'id': 7,\n",
       "   'name': 'no2',\n",
       "   'displayName': 'NO₂',\n",
       "   'description': 'Nitrogen Dioxide concentration',\n",
       "   'preferredUnit': 'ppm',\n",
       "   'isCore': True,\n",
       "   'maxColorValue': 0.65},\n",
       "  {'id': 8,\n",
       "   'name': 'co',\n",
       "   'displayName': 'CO',\n",
       "   'description': 'Carbon Monoxide concentration',\n",
       "   'preferredUnit': 'ppm',\n",
       "   'isCore': True,\n",
       "   'maxColorValue': 11.0},\n",
       "  {'id': 9,\n",
       "   'name': 'so2',\n",
       "   'displayName': 'SO₂',\n",
       "   'description': 'Sulfur Dioxide concentration',\n",
       "   'preferredUnit': 'ppm',\n",
       "   'isCore': True,\n",
       "   'maxColorValue': 0.22},\n",
       "  {'id': 10,\n",
       "   'name': 'o3',\n",
       "   'displayName': 'O₃',\n",
       "   'description': 'Ozone concentration',\n",
       "   'preferredUnit': 'ppm',\n",
       "   'isCore': True,\n",
       "   'maxColorValue': 0.165},\n",
       "  {'id': 11,\n",
       "   'name': 'bc',\n",
       "   'displayName': 'BC',\n",
       "   'description': 'Black Carbon mass concentration',\n",
       "   'preferredUnit': 'µg/m³',\n",
       "   'isCore': True,\n",
       "   'maxColorValue': 3.0},\n",
       "  {'id': 19,\n",
       "   'name': 'pm1',\n",
       "   'displayName': 'PM1',\n",
       "   'description': 'Particulate matter less than 1 micrometer in diameter mass concentration',\n",
       "   'preferredUnit': 'µg/m³',\n",
       "   'isCore': False,\n",
       "   'maxColorValue': None},\n",
       "  {'id': 21,\n",
       "   'name': 'co2',\n",
       "   'displayName': 'CO₂',\n",
       "   'description': 'Carbon Dioxide concentration',\n",
       "   'preferredUnit': 'ppm',\n",
       "   'isCore': False,\n",
       "   'maxColorValue': None},\n",
       "  {'id': 27,\n",
       "   'name': 'nox',\n",
       "   'displayName': 'NOx mass',\n",
       "   'description': 'Nitrogen Oxides mass concentration',\n",
       "   'preferredUnit': 'µg/m³',\n",
       "   'isCore': False,\n",
       "   'maxColorValue': None},\n",
       "  {'id': 28,\n",
       "   'name': 'ch4',\n",
       "   'displayName': 'CH₄',\n",
       "   'description': 'Methane concentration',\n",
       "   'preferredUnit': 'ppm',\n",
       "   'isCore': False,\n",
       "   'maxColorValue': None},\n",
       "  {'id': 33,\n",
       "   'name': 'ufp',\n",
       "   'displayName': 'UFP count',\n",
       "   'description': 'Ultrafine Particles count concentration',\n",
       "   'preferredUnit': 'particles/cm³',\n",
       "   'isCore': False,\n",
       "   'maxColorValue': None},\n",
       "  {'id': 35,\n",
       "   'name': 'no',\n",
       "   'displayName': 'NO',\n",
       "   'description': 'Nitrogen Monoxide concentration',\n",
       "   'preferredUnit': 'ppm',\n",
       "   'isCore': False,\n",
       "   'maxColorValue': None},\n",
       "  {'id': 126,\n",
       "   'name': 'um010',\n",
       "   'displayName': 'PM1 count',\n",
       "   'description': 'PM1 count',\n",
       "   'preferredUnit': 'particles/cm³',\n",
       "   'isCore': False,\n",
       "   'maxColorValue': None},\n",
       "  {'id': 130,\n",
       "   'name': 'um025',\n",
       "   'displayName': 'PM2.5 count',\n",
       "   'description': 'PM2.5 count',\n",
       "   'preferredUnit': 'particles/cm³',\n",
       "   'isCore': False,\n",
       "   'maxColorValue': None},\n",
       "  {'id': 135,\n",
       "   'name': 'um100',\n",
       "   'displayName': 'PM10 count',\n",
       "   'description': 'PM10 count',\n",
       "   'preferredUnit': 'particles/cm³',\n",
       "   'isCore': False,\n",
       "   'maxColorValue': None},\n",
       "  {'id': 19840,\n",
       "   'name': 'nox',\n",
       "   'displayName': 'NOx',\n",
       "   'description': 'Nitrogen Oxides concentration',\n",
       "   'preferredUnit': 'ppm',\n",
       "   'isCore': False,\n",
       "   'maxColorValue': None},\n",
       "  {'id': 19843,\n",
       "   'name': 'no',\n",
       "   'displayName': 'NO mass',\n",
       "   'description': 'Nitrogen Monoxide mass concentration',\n",
       "   'preferredUnit': 'µg/m³',\n",
       "   'isCore': False,\n",
       "   'maxColorValue': None},\n",
       "  {'id': 19844,\n",
       "   'name': 'pm4',\n",
       "   'displayName': 'PM4',\n",
       "   'description': 'Particulate matter less than 4 micrometers in diameter mass concentration',\n",
       "   'preferredUnit': 'µg/m³',\n",
       "   'isCore': False,\n",
       "   'maxColorValue': None}]}"
      ]
     },
     "execution_count": 2,
     "metadata": {},
     "output_type": "execute_result"
    }
   ],
   "source": []
  },
  {
   "cell_type": "markdown",
   "metadata": {},
   "source": [
    "In what follows we will only focus on the `pm25` parameter which indicates the concentration of *fine particles* in the air, which is one of the most commonly discussed air pollution type."
   ]
  },
  {
   "cell_type": "markdown",
   "metadata": {},
   "source": [
    "3. Use a query to list the countries available in API"
   ]
  },
  {
   "cell_type": "code",
   "execution_count": 3,
   "metadata": {},
   "outputs": [
    {
     "name": "stdout",
     "output_type": "stream",
     "text": [
      "status code: <Response [200]> \n",
      "\n",
      "\n",
      "Response data:\n",
      "\n"
     ]
    },
    {
     "data": {
      "text/plain": [
       "[{'code': 'AD',\n",
       "  'name': 'Andorra',\n",
       "  'locations': 3,\n",
       "  'firstUpdated': '2017-09-14T23:00:00+00:00',\n",
       "  'lastUpdated': '2021-02-01T12:00:00+00:00',\n",
       "  'parameters': ['co', 'no2', 'o3', 'pm10', 'so2'],\n",
       "  'count': 93301027,\n",
       "  'cities': 2,\n",
       "  'sources': 1},\n",
       " {'code': 'AE',\n",
       "  'name': 'United Arab Emirates',\n",
       "  'locations': 5,\n",
       "  'firstUpdated': '2017-12-26T23:00:00+00:00',\n",
       "  'lastUpdated': '2021-02-01T13:29:47+00:00',\n",
       "  'parameters': ['o3', 'pm1', 'pm10', 'pm25', 'um010', 'um025', 'um100'],\n",
       "  'count': 5764752629,\n",
       "  'cities': 3,\n",
       "  'sources': 5},\n",
       " {'code': 'AF',\n",
       "  'name': 'Afghanistan',\n",
       "  'locations': 2,\n",
       "  'firstUpdated': '2019-10-20T22:30:00+00:00',\n",
       "  'lastUpdated': '2021-02-01T11:30:00+00:00',\n",
       "  'parameters': ['pm25'],\n",
       "  'count': 51956121,\n",
       "  'cities': 2,\n",
       "  'sources': 3},\n",
       " {'code': 'AM',\n",
       "  'name': 'Armenia',\n",
       "  'locations': 2,\n",
       "  'firstUpdated': '2021-01-21T00:00:06+00:00',\n",
       "  'lastUpdated': '2021-02-01T13:29:16+00:00',\n",
       "  'parameters': ['pm1', 'pm10', 'pm25', 'um010', 'um025', 'um100'],\n",
       "  'count': 7459800876,\n",
       "  'cities': 0,\n",
       "  'sources': 1},\n",
       " {'code': 'AO',\n",
       "  'name': 'Angola',\n",
       "  'locations': 2,\n",
       "  'firstUpdated': '2021-01-21T00:02:35+00:00',\n",
       "  'lastUpdated': '2021-02-01T13:29:42+00:00',\n",
       "  'parameters': ['pm1', 'pm10', 'pm25', 'um010', 'um025', 'um100'],\n",
       "  'count': 3842638218,\n",
       "  'cities': 0,\n",
       "  'sources': 1}]"
      ]
     },
     "execution_count": 3,
     "metadata": {},
     "output_type": "execute_result"
    }
   ],
   "source": []
  },
  {
   "cell_type": "markdown",
   "metadata": {},
   "source": [
    "4. Use the previous query to find the two letter code for France (or the country of your choice) and use a query to get information about the country "
   ]
  },
  {
   "cell_type": "code",
   "execution_count": 4,
   "metadata": {},
   "outputs": [
    {
     "name": "stdout",
     "output_type": "stream",
     "text": [
      "status code: <Response [200]> \n",
      "\n",
      "\n",
      "Response data:\n",
      "\n"
     ]
    },
    {
     "data": {
      "text/plain": [
       "{'meta': {'name': 'openaq-api',\n",
       "  'license': 'CC BY 4.0d',\n",
       "  'website': 'https://u50g7n0cbj.execute-api.us-east-1.amazonaws.com/',\n",
       "  'page': 1,\n",
       "  'limit': 200,\n",
       "  'found': 1},\n",
       " 'results': [{'code': 'FR',\n",
       "   'name': 'France',\n",
       "   'locations': 708,\n",
       "   'firstUpdated': '2016-11-21T11:00:00+00:00',\n",
       "   'lastUpdated': '2021-02-01T13:29:59+00:00',\n",
       "   'parameters': ['co',\n",
       "    'no2',\n",
       "    'o3',\n",
       "    'pm1',\n",
       "    'pm10',\n",
       "    'pm25',\n",
       "    'so2',\n",
       "    'um010',\n",
       "    'um025',\n",
       "    'um100'],\n",
       "   'count': 86621722516,\n",
       "   'cities': 117,\n",
       "   'sources': 4}]}"
      ]
     },
     "execution_count": 4,
     "metadata": {},
     "output_type": "execute_result"
    }
   ],
   "source": []
  },
  {
   "cell_type": "markdown",
   "metadata": {},
   "source": [
    "5. specifically store the number of available locations in a variable called `limit`"
   ]
  },
  {
   "cell_type": "code",
   "execution_count": 5,
   "metadata": {},
   "outputs": [],
   "source": []
  },
  {
   "cell_type": "markdown",
   "metadata": {},
   "source": [
    "After a few trials it actually turns out that the actual number of locations available is a little higher than what the API gives us. In the following question set the limit parameter of the query to the maximum value in order to get all locations."
   ]
  },
  {
   "cell_type": "markdown",
   "metadata": {},
   "source": [
    "6. Use a query to list out all the different locations in France, use a parameter to be able to get them all in one query!"
   ]
  },
  {
   "cell_type": "code",
   "execution_count": 6,
   "metadata": {},
   "outputs": [
    {
     "name": "stdout",
     "output_type": "stream",
     "text": [
      "status code: <Response [200]> \n",
      "\n",
      "\n",
      "Response data:\n",
      "\n"
     ]
    },
    {
     "data": {
      "text/plain": [
       "[{'id': 226298,\n",
       "  'name': 'F4KLO-DP',\n",
       "  'entity': 'community',\n",
       "  'country': 'FR',\n",
       "  'sources': [{'id': 'purpleair',\n",
       "    'url': 'https://www2.purpleair.com/',\n",
       "    'name': 'PurpleAir'}],\n",
       "  'isMobile': False,\n",
       "  'parameters': [{'id': 1306985,\n",
       "    'unit': 'particles/cm³',\n",
       "    'count': 620346,\n",
       "    'average': 0.131211643179774,\n",
       "    'lastValue': 0.11,\n",
       "    'parameter': 'um025',\n",
       "    'displayName': 'PM2.5 count',\n",
       "    'lastUpdated': '2022-03-22T02:22:37+00:00',\n",
       "    'parameterId': 130,\n",
       "    'firstUpdated': '2021-05-14T08:11:42+00:00'},\n",
       "   {'id': 1306987,\n",
       "    'unit': 'µg/m³',\n",
       "    'count': 620346,\n",
       "    'average': 19.5628163960113,\n",
       "    'lastValue': 20.9,\n",
       "    'parameter': 'pm10',\n",
       "    'displayName': 'PM10',\n",
       "    'lastUpdated': '2022-03-22T02:22:37+00:00',\n",
       "    'parameterId': 1,\n",
       "    'firstUpdated': '2021-05-14T08:11:42+00:00'},\n",
       "   {'id': 1306988,\n",
       "    'unit': 'µg/m³',\n",
       "    'count': 620346,\n",
       "    'average': 16.6822552253097,\n",
       "    'lastValue': 19.2,\n",
       "    'parameter': 'pm25',\n",
       "    'displayName': 'PM2.5',\n",
       "    'lastUpdated': '2022-03-22T02:22:37+00:00',\n",
       "    'parameterId': 2,\n",
       "    'firstUpdated': '2021-05-14T08:11:42+00:00'},\n",
       "   {'id': 1306989,\n",
       "    'unit': 'µg/m³',\n",
       "    'count': 620346,\n",
       "    'average': 9.93757725527367,\n",
       "    'lastValue': 11.5,\n",
       "    'parameter': 'pm1',\n",
       "    'displayName': 'PM1',\n",
       "    'lastUpdated': '2022-03-22T02:22:37+00:00',\n",
       "    'parameterId': 19,\n",
       "    'firstUpdated': '2021-05-14T08:11:42+00:00'},\n",
       "   {'id': 1306984,\n",
       "    'unit': 'particles/cm³',\n",
       "    'count': 620346,\n",
       "    'average': 0.00380684005377642,\n",
       "    'lastValue': 0,\n",
       "    'parameter': 'um100',\n",
       "    'displayName': 'PM10 count',\n",
       "    'lastUpdated': '2022-03-22T02:22:37+00:00',\n",
       "    'parameterId': 135,\n",
       "    'firstUpdated': '2021-05-14T08:11:42+00:00'},\n",
       "   {'id': 1306986,\n",
       "    'unit': 'particles/cm³',\n",
       "    'count': 620346,\n",
       "    'average': 1.31079525780774,\n",
       "    'lastValue': 1.28,\n",
       "    'parameter': 'um010',\n",
       "    'displayName': 'PM1 count',\n",
       "    'lastUpdated': '2022-03-22T02:22:37+00:00',\n",
       "    'parameterId': 126,\n",
       "    'firstUpdated': '2021-05-14T08:11:42+00:00'}],\n",
       "  'sensorType': 'low-cost sensor',\n",
       "  'coordinates': {'latitude': 48.894, 'longitude': 2.388},\n",
       "  'lastUpdated': '2022-03-22T02:22:37+00:00',\n",
       "  'firstUpdated': '2021-05-14T08:11:42+00:00',\n",
       "  'measurements': 3722076},\n",
       " {'id': 272915,\n",
       "  'name': 'Les hauts de la Pélouque',\n",
       "  'entity': 'community',\n",
       "  'country': 'FR',\n",
       "  'sources': [{'id': 'purpleair',\n",
       "    'url': 'https://www2.purpleair.com/',\n",
       "    'name': 'PurpleAir'}],\n",
       "  'isMobile': False,\n",
       "  'parameters': [{'id': 1564946,\n",
       "    'unit': 'µg/m³',\n",
       "    'count': 234063,\n",
       "    'average': 17.0471949859653,\n",
       "    'lastValue': 20.2,\n",
       "    'parameter': 'pm10',\n",
       "    'displayName': 'PM10',\n",
       "    'lastUpdated': '2022-03-22T02:22:35+00:00',\n",
       "    'parameterId': 1,\n",
       "    'firstUpdated': '2022-01-20T16:29:45+00:00'},\n",
       "   {'id': 1564945,\n",
       "    'unit': 'particles/cm³',\n",
       "    'count': 234063,\n",
       "    'average': 0.895499801335538,\n",
       "    'lastValue': 0.76,\n",
       "    'parameter': 'um010',\n",
       "    'displayName': 'PM1 count',\n",
       "    'lastUpdated': '2022-03-22T02:22:35+00:00',\n",
       "    'parameterId': 126,\n",
       "    'firstUpdated': '2022-01-20T16:29:45+00:00'},\n",
       "   {'id': 1564944,\n",
       "    'unit': 'particles/cm³',\n",
       "    'count': 234063,\n",
       "    'average': 0.0017245357019264,\n",
       "    'lastValue': 0,\n",
       "    'parameter': 'um025',\n",
       "    'displayName': 'PM2.5 count',\n",
       "    'lastUpdated': '2022-03-22T02:22:35+00:00',\n",
       "    'parameterId': 130,\n",
       "    'firstUpdated': '2022-01-20T16:29:45+00:00'},\n",
       "   {'id': 1564943,\n",
       "    'unit': 'particles/cm³',\n",
       "    'count': 234063,\n",
       "    'average': 6.66487227797644e-06,\n",
       "    'lastValue': 0,\n",
       "    'parameter': 'um100',\n",
       "    'displayName': 'PM10 count',\n",
       "    'lastUpdated': '2022-03-22T02:22:35+00:00',\n",
       "    'parameterId': 135,\n",
       "    'firstUpdated': '2022-01-20T16:29:45+00:00'},\n",
       "   {'id': 1564947,\n",
       "    'unit': 'µg/m³',\n",
       "    'count': 234063,\n",
       "    'average': 15.5099550121121,\n",
       "    'lastValue': 19.3,\n",
       "    'parameter': 'pm25',\n",
       "    'displayName': 'PM2.5',\n",
       "    'lastUpdated': '2022-03-22T02:22:35+00:00',\n",
       "    'parameterId': 2,\n",
       "    'firstUpdated': '2022-01-20T16:29:45+00:00'},\n",
       "   {'id': 1564948,\n",
       "    'unit': 'µg/m³',\n",
       "    'count': 234063,\n",
       "    'average': 8.8038963868702,\n",
       "    'lastValue': 10.1,\n",
       "    'parameter': 'pm1',\n",
       "    'displayName': 'PM1',\n",
       "    'lastUpdated': '2022-03-22T02:22:35+00:00',\n",
       "    'parameterId': 19,\n",
       "    'firstUpdated': '2022-01-20T16:29:45+00:00'}],\n",
       "  'sensorType': 'low-cost sensor',\n",
       "  'coordinates': {'latitude': 43.369232, 'longitude': 5.332426},\n",
       "  'lastUpdated': '2022-03-22T02:22:35+00:00',\n",
       "  'firstUpdated': '2022-01-20T16:29:45+00:00',\n",
       "  'measurements': 1404378},\n",
       " {'id': 299131,\n",
       "  'name': 'Rognes',\n",
       "  'entity': 'community',\n",
       "  'country': 'FR',\n",
       "  'sources': [{'id': 'purpleair',\n",
       "    'url': 'https://www2.purpleair.com/',\n",
       "    'name': 'PurpleAir'}],\n",
       "  'isMobile': False,\n",
       "  'parameters': [{'id': 1702097,\n",
       "    'unit': 'µg/m³',\n",
       "    'count': 120654,\n",
       "    'average': 19.247381769357,\n",
       "    'lastValue': 15.4,\n",
       "    'parameter': 'pm10',\n",
       "    'displayName': 'PM10',\n",
       "    'lastUpdated': '2022-03-22T02:22:32+00:00',\n",
       "    'parameterId': 1,\n",
       "    'firstUpdated': '2022-03-06T15:12:57+00:00'},\n",
       "   {'id': 1702102,\n",
       "    'unit': 'particles/cm³',\n",
       "    'count': 120654,\n",
       "    'average': 1.17516261375504,\n",
       "    'lastValue': 0.76,\n",
       "    'parameter': 'um010',\n",
       "    'displayName': 'PM1 count',\n",
       "    'lastUpdated': '2022-03-22T02:22:32+00:00',\n",
       "    'parameterId': 126,\n",
       "    'firstUpdated': '2022-03-06T15:12:57+00:00'},\n",
       "   {'id': 1702098,\n",
       "    'unit': 'µg/m³',\n",
       "    'count': 120654,\n",
       "    'average': 9.31680590780248,\n",
       "    'lastValue': 6.4,\n",
       "    'parameter': 'pm1',\n",
       "    'displayName': 'PM1',\n",
       "    'lastUpdated': '2022-03-22T02:22:32+00:00',\n",
       "    'parameterId': 19,\n",
       "    'firstUpdated': '2022-03-06T15:12:57+00:00'},\n",
       "   {'id': 1702099,\n",
       "    'unit': 'particles/cm³',\n",
       "    'count': 120654,\n",
       "    'average': 1.49186931224825e-05,\n",
       "    'lastValue': 0,\n",
       "    'parameter': 'um100',\n",
       "    'displayName': 'PM10 count',\n",
       "    'lastUpdated': '2022-03-22T02:22:32+00:00',\n",
       "    'parameterId': 135,\n",
       "    'firstUpdated': '2022-03-06T15:12:57+00:00'},\n",
       "   {'id': 1702100,\n",
       "    'unit': 'particles/cm³',\n",
       "    'count': 120654,\n",
       "    'average': 0.00165597493659555,\n",
       "    'lastValue': 0,\n",
       "    'parameter': 'um025',\n",
       "    'displayName': 'PM2.5 count',\n",
       "    'lastUpdated': '2022-03-22T02:22:32+00:00',\n",
       "    'parameterId': 130,\n",
       "    'firstUpdated': '2022-03-06T15:12:57+00:00'},\n",
       "   {'id': 1702101,\n",
       "    'unit': 'µg/m³',\n",
       "    'count': 120654,\n",
       "    'average': 17.363516335969,\n",
       "    'lastValue': 14.6,\n",
       "    'parameter': 'pm25',\n",
       "    'displayName': 'PM2.5',\n",
       "    'lastUpdated': '2022-03-22T02:22:32+00:00',\n",
       "    'parameterId': 2,\n",
       "    'firstUpdated': '2022-03-06T15:12:57+00:00'}],\n",
       "  'sensorType': 'low-cost sensor',\n",
       "  'coordinates': {'latitude': 43.65449, 'longitude': 5.3793},\n",
       "  'lastUpdated': '2022-03-22T02:22:32+00:00',\n",
       "  'firstUpdated': '2022-03-06T15:12:57+00:00',\n",
       "  'measurements': 723924}]"
      ]
     },
     "execution_count": 6,
     "metadata": {},
     "output_type": "execute_result"
    }
   ],
   "source": []
  },
  {
   "cell_type": "markdown",
   "metadata": {},
   "source": [
    "7. Print out the number of results obtained"
   ]
  },
  {
   "cell_type": "code",
   "execution_count": 7,
   "metadata": {},
   "outputs": [
    {
     "data": {
      "text/plain": [
       "1092"
      ]
     },
     "execution_count": 7,
     "metadata": {},
     "output_type": "execute_result"
    }
   ],
   "source": []
  },
  {
   "cell_type": "markdown",
   "metadata": {},
   "source": [
    "8. Check [this part](https://docs.openaq.org/#/v2/measurements_get_v2_measurements_get) of the documentation and identify the format that is expected from the date options to query the API.\n",
    "\n",
    "Then use `from datetime import datetime` and `from datetime import timedelta` in order to produce date 01 JAN 2022 in the API compatible format, and call it `end_date`"
   ]
  },
  {
   "cell_type": "code",
   "execution_count": 8,
   "metadata": {},
   "outputs": [
    {
     "data": {
      "text/plain": [
       "'2022-01-01T00:00:00+00:00'"
      ]
     },
     "execution_count": 8,
     "metadata": {},
     "output_type": "execute_result"
    }
   ],
   "source": []
  },
  {
   "cell_type": "markdown",
   "metadata": {},
   "source": [
    "9. Now use `timedelta` to produce the date 10 days before in the same format, and call it `start_date`"
   ]
  },
  {
   "cell_type": "code",
   "execution_count": 13,
   "metadata": {},
   "outputs": [
    {
     "data": {
      "text/plain": [
       "'2021-12-25T00:00:00+00:00'"
      ]
     },
     "execution_count": 13,
     "metadata": {},
     "output_type": "execute_result"
    }
   ],
   "source": []
  },
  {
   "cell_type": "markdown",
   "metadata": {},
   "source": [
    "10. Use a query to get all the data about the first location for the past day"
   ]
  },
  {
   "cell_type": "code",
   "execution_count": null,
   "metadata": {},
   "outputs": [],
   "source": []
  },
  {
   "cell_type": "markdown",
   "metadata": {},
   "source": [
    "11. As you may see, a query covering 10 days for a single location already contains 46920 measures in this case. Imagine if we would like to get historical data for the prrevious ten years for the whole country, this would take some time and a lot of space, so for now just try and create a loop to get 30 days of data for the whole country."
   ]
  },
  {
   "cell_type": "code",
   "execution_count": null,
   "metadata": {},
   "outputs": [],
   "source": []
  }
 ],
 "metadata": {
  "kernelspec": {
   "display_name": "Python 3 (ipykernel)",
   "language": "python",
   "name": "python3"
  },
  "language_info": {
   "codemirror_mode": {
    "name": "ipython",
    "version": 3
   },
   "file_extension": ".py",
   "mimetype": "text/x-python",
   "name": "python",
   "nbconvert_exporter": "python",
   "pygments_lexer": "ipython3",
   "version": "3.9.7"
  }
 },
 "nbformat": 4,
 "nbformat_minor": 4
}
