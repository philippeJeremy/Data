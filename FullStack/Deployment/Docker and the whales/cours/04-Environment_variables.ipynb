{
 "cells": [
  {
   "cell_type": "markdown",
   "metadata": {},
   "source": [
    "![snap](https://media.giphy.com/media/KbAOu1NMw9IqEwbzH3/giphy.gif)\n",
    "\n",
    "# Environment variables \n",
    "\n",
    "## What you will learn in this course 🧐🧐\n",
    "\n",
    "Eventhough environment variables are not a really hard topic itself, it's important that we spend a little bit of time reading about it as you will use them quite often later on when dealing with infrastructures. In this course, we will learn:\n",
    "\n",
    "* What are environment variables\n",
    "* How to setup environment variables"
   ]
  },
  {
   "cell_type": "markdown",
   "metadata": {},
   "source": [
    "## What are environment variables \n",
    "\n",
    "When you are building application, it is not uncommon to use third-party applications like `aws` or any other paid API. These applications require a password or an API KEY that you should **never share** since it's quite sensitive data. For example, with AWS credentials, anyone could use your cloud services and hack them! \n",
    "\n",
    "Therefore, it's important that your code uses it without the possibility of any hacker accessing it. This is where *Environment Variables* come in handy. "
   ]
  },
  {
   "cell_type": "markdown",
   "metadata": {},
   "source": [
    "## How to setup environment variables \n",
    "\n",
    "### Docker cli \n",
    "\n",
    "There are many ways to setup environment variables. One way is to use Docker like this: \n",
    "\n",
    "```\n",
    "docker run \\\n",
    "-e ENV_1=\"ENV_1_VALUE\" \\\n",
    "-e ENV_2=\"ENV_2_VALUE \\\n",
    "IMAGE_NAME\n",
    "```\n",
    "\n",
    "This code will store the value `\"ENV_1_VALUE\"` inside an environment variale called `ENV_1`, similarly it will store the value `\"ENV_2_VALUE\"` inside an environment variale called `ENV_2`.\n",
    "\n",
    "Note that these environment variables will 'live' in your docker container and not on your local system.\n",
    "\n",
    "Then in your dockerfile you may access these container specific environment variables like so:\n",
    "\n",
    "```dockerfile\n",
    "FROM python:3.9.9-alpine\n",
    "\n",
    "WORKDIR /home/app\n",
    "\n",
    "# Here we set up environment variables according to values that \n",
    "# will be passed to the container via the docker run command!\n",
    "ENV env_1 = $ENV_1\n",
    "ENV env_2 = $ENV_2\n",
    "\n",
    "COPY app.py app.py\n",
    "```\n",
    "\n",
    "### `export` command \n",
    "\n",
    "You can also use the `export` command like this:\n",
    "\n",
    "`export ENV_1=\"ENV_1_VALUE\"`\n",
    "\n",
    "Then you can easily access this value like this: `echo $ENV_1` \n",
    "\n",
    "Note that if you use the export command in the terminal, it will setup this environment variable where your terminal is running, meaning if you are running your terminal on your local computer you may register environment variable to your computer, if the terminal is running inside a container then you may only register environment variables to your container.\n",
    "\n",
    "### `Dockerfile`\n",
    "\n",
    "You can use the `ENV` instruction in your dockerfile \n",
    "\n",
    "```dockerfile\n",
    "FROM python:3.9-alpine\n",
    "\n",
    "WORKDIR /app\n",
    "\n",
    "COPY . .\n",
    "\n",
    "RUN echo \"Cookies and cheesecakes are my favorites\" > favorites_cakes.txt\n",
    "\n",
    "ENV MY_CAKE=\"Fondant au chocolat\"\n",
    "\n",
    "CMD python app.py\n",
    "```\n",
    "\n",
    "Then your app can access it like this: \n",
    "\n",
    "```python \n",
    "import os\n",
    "\n",
    "def main():\n",
    "    print(\"Cakes are the best!\")\n",
    "    with open(\"/app/favorites_cakes.txt\") as f:\n",
    "        print(f.read())\n",
    "    print(f\"And I like {os.environ['MY_CAKE']} too!\")\n",
    "\n",
    "if __name__ == \"__main__\":\n",
    "    main()\n",
    "```\n",
    "\n",
    "This method is less secure than declaring your environment variable through the terminal because they are written in clear on your dockerfile. So typically if you wish someone else to be able to work on your app, you'll have to give them your Dockerfile with the values of the environment variables written on it, which may not be safe.\n",
    "\n",
    "Also note that the environment variables you declare directly on your dockerfile will only live in the container you are running using it, and nowhere else!"
   ]
  },
  {
   "cell_type": "markdown",
   "metadata": {},
   "source": [
    "### Heroku\n",
    "\n",
    "You can use Heroku to setup environment variable within your code as well. Simply go to your app > Settings > Reveal config vars\n",
    "\n",
    "![snap](https://full-stack-assets.s3.eu-west-3.amazonaws.com/Deployment/heroku_config_vars.png)\n",
    "\n",
    "Config vars are an excellent way to store environment variables in an heroku app that can be used by your scripts that run there. However, if you are trying to run a dockerized app on heroku, you will not be able to use the config vars inside your Dockerfile!"
   ]
  },
  {
   "cell_type": "markdown",
   "metadata": {},
   "source": [
    "## Which way to choose?\n",
    "\n",
    "Among all these possibilities to setup environment variable, you might be confused as of which method to use. If we are listing a lot of them, it's because there is not really a right way. It will depend on your application and your infrastructure. \n",
    "\n",
    "Our rule of thumb is to try to make sure that your production environment as well as your development environment has access to the right environment variables. \n",
    "\n",
    "The cool part is that once it is setup, you don't really have to set it up again! "
   ]
  },
  {
   "cell_type": "markdown",
   "metadata": {},
   "source": [
    "## Resources 📚📚\n",
    "\n",
    "* [Using Environment Variables](https://circleci.com/docs/2.0/env-vars/)"
   ]
  }
 ],
 "metadata": {
  "language_info": {
   "name": "python"
  },
  "orig_nbformat": 4
 },
 "nbformat": 4,
 "nbformat_minor": 2
}
