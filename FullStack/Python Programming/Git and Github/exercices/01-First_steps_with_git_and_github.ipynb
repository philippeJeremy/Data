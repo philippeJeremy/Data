{
 "cells": [
  {
   "cell_type": "markdown",
   "metadata": {},
   "source": []
  },
  {
   "cell_type": "markdown",
   "metadata": {},
   "source": [
    "### Install and configure Git and Github \n",
    "\n",
    "#### Create a Github account\n",
    "Go to [this link](https://github.com/join) and follow the steps to sign up on Github (it's free!)\n",
    "\n",
    "\n",
    "#### Download and install Git\n",
    "Go to [this page](https://git-scm.com/downloads), download the installation file and follow the installation instructions. If you get stuck at any step, feel free to ask for help to your teacher or to your TA :-)\n",
    "\n",
    "\n",
    "#### Configure Git\n",
    "Before starting to use Git, you must set up your username and e-mail.\n",
    "\n",
    "Open the terminal and type the command :\n",
    "\n",
    "```\n",
    "git config --global user.name\n",
    "```\n",
    "\n",
    "This allows to check what is your default username. If you never used Git before on your laptop, the command will return nothing.\n",
    "\n",
    "To set up or to change your username, just type : \n",
    "\n",
    "```\n",
    "git config --global user.name \"your_username_here\"\n",
    "```\n",
    "\n",
    "Then, you can set up your email. To do so, it's the same process as with your username, you just have to replace `.name` by `.email` :\n",
    "\n",
    "```\n",
    "git config --global user.email\n",
    "```\n",
    "\n",
    "To set up or to change your username, just type : \n",
    "\n",
    "```\n",
    "git config --global user.email \"your_email_here\"\n",
    "```\n",
    "\n",
    "Now you're ready to use Git and Github !"
   ]
  },
  {
   "cell_type": "code",
   "execution_count": null,
   "metadata": {},
   "outputs": [],
   "source": []
  }
 ],
 "metadata": {
  "language_info": {
   "codemirror_mode": {
    "name": "ipython",
    "version": 3
   },
   "file_extension": ".py",
   "mimetype": "text/x-python",
   "name": "python",
   "nbconvert_exporter": "python",
   "pygments_lexer": "ipython3",
   "version": 3
  },
  "orig_nbformat": 2
 },
 "nbformat": 4,
 "nbformat_minor": 2
}