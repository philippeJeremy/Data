{
 "cells": [
  {
   "cell_type": "markdown",
   "metadata": {},
   "source": [
    "# Simple Storage Service - S3\n",
    "\n",
    "## What you will learn in this course 🧐🧐\n",
    "\n",
    "When you are dealing with data, the first thing you might want to do is to store it. We usually do that in a *Data Lake*. Amazon S3 is one of them. In this course, we will learn:\n",
    "\n",
    "* What is S3\n",
    "* How to create S3 buckets \n",
    "* How to upload files and folders within an S3 bucket \n",
    "* How to retrieve data from S3 "
   ]
  },
  {
   "cell_type": "markdown",
   "metadata": {
    "colab_type": "text",
    "id": "JhipAwwcdz3L"
   },
   "source": [
    "## What is S3? 🤔🤔\n",
    "\n",
    "### Definition \n",
    "\n",
    "S3 stands for Simple Storage Service and it is a way to upload and store files within AWS. Just like a Google Drive, you can upload any file you want from 0 Bytes to 5TB.\n",
    "S3 is often reffered as a **Data Lake** type of service, a Data Lake lets you store your data, regardless of its nature, this is the place where a company or institution will store all the data it is capturing before it decides to use it further or not.\n",
    "\n",
    "> NB: You won't be able to install any operating systems on S3, this is not meant for it. However, you can definitely host a static website with S3.\n",
    "\n",
    "### Buckets\n",
    "\n",
    "Files are stored in what is called a **Bucket**. A Bucket is just a folder where your files will be stored. \n",
    "\n",
    "The only thing you need to remember is that each bucket accross the world has a **unique name.** For example, a typical URL to access an S3 Bucket is like this:\n",
    "\n",
    "```\n",
    "https://s3-region.amazonaws.com/bucket-name\n",
    "```\n"
   ]
  },
  {
   "cell_type": "markdown",
   "metadata": {},
   "source": [
    "\n",
    "### Types of buckets\n",
    "\n",
    "Since S3 has been created, AWS has made different offers of S3, it's good to know the different types:\n",
    "\n",
    "|Type of S3|Definition|\n",
    "|---|---|\n",
    "|Standard S3|This is the most used version of S3, it offers 99.99% availability and 99.9999999999% durability|\n",
    "|S3 - Infrequently Accessed|You will use this version when your bucket won't be accessed many times during the day. This is a cheaper version of S3|\n",
    "|S3 One Zone - Infrequently Accessed|Same as above but in addition, your bucket doesn't need to have multi-zone availability. Meaning your bucket will be accessed from the same region in the world. This is the cheapest option available when you still need to access data| \n",
    "|S3 - Glacier| Glacier is used for data archiving. This is the cheapest version in terms of storage but you won't be able to retrieve your data easily|\n",
    "|S3 - Intelligent Tiering| This is the newest product of AWS that uses Machine Learning to intelligently adapt costs according to your usage|\n",
    "\n",
    "## Create an S3 Bucket 🍯🍯\n",
    "\n",
    "Let's see how we can create a bucket. Go to your _AWS Console ➤ Services ➤ S3_, then follow the steps of the video:"
   ]
  },
  {
   "cell_type": "markdown",
   "metadata": {},
   "source": [
    "!(https://www.youtube.com/watch?v=Wy29hoAZL74)"
   ]
  },
  {
   "cell_type": "markdown",
   "metadata": {
    "colab_type": "text",
    "id": "W7sBueTgS7lU"
   },
   "source": [
    "Do not forget the following:\n",
    "\n",
    "- Bucket names are unique \n",
    "- By default, buckets don't have public access permission"
   ]
  },
  {
   "cell_type": "markdown",
   "metadata": {
    "colab_type": "text",
    "id": "ly4dqaWgTgD9"
   },
   "source": [
    "## Permissions ⛔⛔"
   ]
  },
  {
   "cell_type": "markdown",
   "metadata": {
    "colab_type": "text",
    "id": "06WyrnWdUGFg"
   },
   "source": [
    "If you need people to access your files, you will need to customize permissions on your bucket. \n",
    "\n",
    "### Public Access \n",
    "\n",
    "Public access is used when you need a lot of users that are external to your AWS account to access your bucket. For example, if you're hosting a website or if you're using your bucket as a content API."
   ]
  },
  {
   "cell_type": "markdown",
   "metadata": {},
   "source": [
    "!(https://www.youtube.com/watch?v=BrfQhGNfASs)"
   ]
  },
  {
   "cell_type": "markdown",
   "metadata": {
    "colab_type": "text",
    "id": "jtktSeFZf7jq"
   },
   "source": [
    "> NB: Public access can be dangerous in terms of costs. AWS will charge you per API calls, make sure that you are aware of the number of calls that are made if you use your bucket in production."
   ]
  },
  {
   "cell_type": "markdown",
   "metadata": {
    "colab_type": "text",
    "id": "8dqNPcECg7ZE"
   },
   "source": [
    "### Access Control List (ACLs)\n",
    "\n",
    "You can specify which users or AWS accounts have access to your bucket via ACLs (Access Control Lists). You will simply need to enter an AWS canonical ID."
   ]
  },
  {
   "cell_type": "markdown",
   "metadata": {},
   "source": [
    "!(https://www.youtube.com/watch?v=YmVZKiOpn6I)"
   ]
  },
  {
   "cell_type": "markdown",
   "metadata": {
    "colab_type": "text",
    "id": "870MdMWChMKq"
   },
   "source": [
    "### Bucket Policy"
   ]
  },
  {
   "cell_type": "markdown",
   "metadata": {
    "colab_type": "text",
    "id": "pIy2B5qjj9bE"
   },
   "source": [
    "Bucket Policy gives you flexbility if you need to give specific access to your bucket. Policies needs to be written as JSON files."
   ]
  },
  {
   "cell_type": "markdown",
   "metadata": {},
   "source": [
    "!(https://www.youtube.com/watch?v=w8oSRaNC8jY)"
   ]
  },
  {
   "cell_type": "markdown",
   "metadata": {
    "colab_type": "text",
    "id": "LdDN-QhnhJ09"
   },
   "source": [
    "### CORS Configuration "
   ]
  },
  {
   "cell_type": "markdown",
   "metadata": {
    "colab_type": "text",
    "id": "jeoDTwZwkOQ8"
   },
   "source": [
    "Finally CORS Configuration can help you specify URLs than are allowed to use HTTP methods such as GET, POST or PUT methods. CORS looks like XML files."
   ]
  },
  {
   "cell_type": "markdown",
   "metadata": {},
   "source": [
    "!(https://www.youtube.com/watch?v=Nckb1vmq604)"
   ]
  },
  {
   "cell_type": "markdown",
   "metadata": {
    "colab_type": "text",
    "id": "w_4h-kSBgeS8"
   },
   "source": [
    "## Management 🧑‍💼🧑‍💼\n"
   ]
  },
  {
   "cell_type": "markdown",
   "metadata": {
    "colab_type": "text",
    "id": "ki0dX9yskmr3"
   },
   "source": [
    "If you use your bucket in production, it's good for you to know how to monitor its usage. S3 offers you additionnal (paid) features to do so. For example, let's see how we can monitor API requests to our bucket."
   ]
  },
  {
   "cell_type": "markdown",
   "metadata": {},
   "source": [
    "!(https://www.youtube.com/watch?v=SnjCItI3Ioo)"
   ]
  },
  {
   "cell_type": "markdown",
   "metadata": {
    "colab_type": "text",
    "id": "Z2dDkPWGmTB2"
   },
   "source": [
    "## Delete Buckets 🗑️🗑️\n",
    "\n",
    "To make sure you are not charged additionnal fees, you can simply delete your bucket the following way:"
   ]
  },
  {
   "cell_type": "markdown",
   "metadata": {},
   "source": [
    "!(https://www.youtube.com/watch?v=6NHSDrkWMtM)"
   ]
  },
  {
   "cell_type": "markdown",
   "metadata": {
    "colab_type": "text",
    "id": "egDrB2kpsPi8"
   },
   "source": [
    "## Ressources 📚📚\n",
    "\n",
    "- <a href=\"https://docs.aws.amazon.com/AmazonS3/latest/dev/access-policy-language-overview.html\" target=\"_blank\">Access Policies</a>\n",
    "- <a href=\"https://docs.aws.amazon.com/AmazonS3/latest/user-guide/configure-metrics-filter.html\" target=\"_blank\">How Do I Configure a Request Metrics Filter?</a>\n",
    "- <a href=\"https://docs.aws.amazon.com/AmazonS3/latest/dev/cors.html\" target=\"_blank\">CORS</a>"
   ]
  }
 ],
 "metadata": {
  "colab": {
   "collapsed_sections": [],
   "name": "2. Simple Storage Service - S3",
   "provenance": []
  },
  "kernelspec": {
   "display_name": "Python 3.9.12 ('tf': conda)",
   "language": "python",
   "name": "python3"
  },
  "language_info": {
   "codemirror_mode": {
    "name": "ipython",
    "version": 3
   },
   "file_extension": ".py",
   "mimetype": "text/x-python",
   "name": "python",
   "nbconvert_exporter": "python",
   "pygments_lexer": "ipython3",
   "version": "3.9.12"
  },
  "vscode": {
   "interpreter": {
    "hash": "fbc4d3870518eee81184ced0d2279c769a0eca59aab465c4e7ec13e5e6c47a3e"
   }
  }
 },
 "nbformat": 4,
 "nbformat_minor": 4
}
