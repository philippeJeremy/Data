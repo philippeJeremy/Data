{
 "cells": [
  {
   "cell_type": "markdown",
   "metadata": {
    "colab_type": "text",
    "id": "OCY7puPh46fo"
   },
   "source": [
    "# Identity Access Management - IAM\n",
    "\n",
    "## What you will learn in this course 🧐🧐\n",
    "\n",
    "IAM is an AWS service that lets you create and manage users of your AWS Account. \n",
    "\n",
    "It's important to have a secure way of using your AWS account. When you first create your account, you are logged in as a _super-user_ (or _root user_). This super-user has access to everything within AWS. \n",
    "\n",
    "One common best practice is to use this super-user as seldom as possible and use specific users instead.\n",
    "\n",
    "In this lecture, you are going learn:\n",
    "\n",
    "* How to setup our AWS account\n",
    "* How to create a user \n",
    "* How to manage users and service access with IAM"
   ]
  },
  {
   "cell_type": "markdown",
   "metadata": {
    "colab_type": "text",
    "id": "FPuGM9tjAKBE"
   },
   "source": [
    "## Create your AWS Account ®️®️\n",
    "\n",
    "If you have not already created your AWS account, please follow this tutorial : \n",
    "\n",
    "- <a href=\"https://aws.amazon.com/premiumsupport/knowledge-center/create-and-activate-aws-account/\" target=\"_blank\">Create your AWS Account</a>\n",
    "\n",
    "Regarding Support Plans, you can choose _basic support_. It will be free of additionnal charges and we most likely won't need to contact AWS for support during our program. \n",
    "\n",
    "You can always change your support plan later if you need it for your company. "
   ]
  },
  {
   "cell_type": "markdown",
   "metadata": {
    "colab_type": "text",
    "id": "LAHl_uvV9avK"
   },
   "source": [
    "## Setup Super User Account  👮‍♀️👮‍♀️"
   ]
  },
  {
   "cell_type": "markdown",
   "metadata": {
    "colab_type": "text",
    "id": "HGs8020IBvWH"
   },
   "source": [
    "Once you created your account, you will need to setup your root user account. Sign-in to your console and then go to: _Service ➤ IAM_.\n",
    "\n",
    "![Texte alternatif…](https://media.giphy.com/media/mEUfQ1LzInaFd1WXF3/giphy.gif)"
   ]
  },
  {
   "cell_type": "markdown",
   "metadata": {
    "colab_type": "text",
    "id": "YXIPUpiVD9PM"
   },
   "source": [
    "Once you're logged in, you should see that you need to complete **5 Steps** in your security Status Section."
   ]
  },
  {
   "cell_type": "markdown",
   "metadata": {
    "colab_type": "text",
    "id": "gxyXCn2_EKAR"
   },
   "source": [
    "![Texte alternatif…](https://drive.google.com/uc?export=view&id=105qOGKy_0b6IVAUSVWFq0QeO1DXPGapi)"
   ]
  },
  {
   "cell_type": "markdown",
   "metadata": {
    "colab_type": "text",
    "id": "KRH4iW4gGQdf"
   },
   "source": [
    "Let's go step by step. Click on _Delete your root access keys ➤ manager security credentials_. You should see this page pop up:\n",
    "\n",
    "![Texte alternatif…](https://drive.google.com/uc?export=view&id=1ppCboB2jPOZq50jfLn_CSXN5j_L7yDi3)"
   ]
  },
  {
   "cell_type": "markdown",
   "metadata": {
    "colab_type": "text",
    "id": "NBqX3hNcHWsa"
   },
   "source": [
    "In this page, you can: \n",
    "\n",
    "* Change your password\n",
    "* Use Multi-factor Authentication (MFA) ➤ Add a new layer of security \n",
    "* Change or delete your access keys \n",
    "* Create Cloud Front key pairs \n",
    "* Create X.509 certificate \n",
    "* Check your account ids"
   ]
  },
  {
   "cell_type": "markdown",
   "metadata": {
    "colab_type": "text",
    "id": "SFPbJn9-IVdU"
   },
   "source": [
    "### Delete Root User Access Key 🔑"
   ]
  },
  {
   "cell_type": "markdown",
   "metadata": {
    "colab_type": "text",
    "id": "W0wtxq0xH71O"
   },
   "source": [
    "First, let's delete our *root access key*. It's not recommended to use your root access key for your applications. Instead, we'll be creating a new user with specific access and use their access key credentials. \n",
    "\n",
    "![Texte alternatif…](https://media.giphy.com/media/mEtbrFPHvdmzhYpDet/giphy.gif)"
   ]
  },
  {
   "cell_type": "markdown",
   "metadata": {
    "colab_type": "text",
    "id": "0rncblGCJQul"
   },
   "source": [
    "If you go back to your _Dashboard_, you should see that you completed the first step in your Security Status section.\n",
    "\n",
    "![](https://drive.google.com/uc?export=view&id=1YpHUA1wFzDR0MWkEdYpKX7Z576BaZ-sR)"
   ]
  },
  {
   "cell_type": "markdown",
   "metadata": {
    "colab_type": "text",
    "id": "LKYQVOp2J6rX"
   },
   "source": [
    "### Activation Multi-Factor Authentication (MFA) 🔒\n",
    "\n",
    "MFA is just an additional layer of security to access your root account. The idea is to add an additional password to access your root account.\n",
    "\n",
    "For our example, we'll be choosing a virtual MFA that is going to be located in our mobile. To be able to do that, you will need to download an authenticator app like Google Authenticator: \n",
    "\n",
    "* <a href=\"https://play.google.com/store/apps/details?id=com.google.android.apps.authenticator2&hl=en\" target=\"_blank\">Google Authenticator on Android</a>\n",
    "* <a href=\"https://apps.apple.com/us/app/google-authenticator/id388497605\" target=\"_blank\">Google Authenticator on IOS</a>\n",
    "\n",
    "Now that you downloaded the app, go back to your security credentials page and click on _activate MFA_.\n",
    "\n",
    "* Click on _set up virtual MFA_\n",
    "* Click on _show QR code_ and scan it on your app\n",
    "* Type two consecutive MFA codes \n",
    "* Click on _assign MFA_\n",
    "\n",
    "If everything has been done correctly, you should see a confirmation window: \n",
    "\n",
    "![](https://drive.google.com/uc?export=view&id=1vS4FS4Njx2ZG-OjKtg86ZcKZVDLNGdhx)"
   ]
  },
  {
   "cell_type": "markdown",
   "metadata": {
    "colab_type": "text",
    "id": "B5Sq3NfQIVYl"
   },
   "source": [
    "### Create IAM Users 👥\n",
    "\n",
    "Back to your _Dashboard_, you should see that you completed the second step of your Security Status setup. We now need to create a new user with the appropriate access. \n",
    "\n",
    "Click on _Manage Users_ and then _Add Users_ at the top left corner just bellow _Ressource Groups_.\n",
    "\n",
    "![](https://drive.google.com/uc?export=view&id=1BPU5jXHac4Ac9M83nzo8Ahax8AWpaURZ)"
   ]
  },
  {
   "cell_type": "markdown",
   "metadata": {
    "colab_type": "text",
    "id": "uHHnfUjqKXDL"
   },
   "source": [
    "You should see a *setup user* page where you'll be able to assign: \n",
    "\n",
    "* A username \n",
    "* Programmatic & Console Access \n",
    "* A password \n",
    "\n",
    "> NB: Programmatic access lets your user access to AWS products with a SECRET KEY and KEY ID with tools such as SDK (Boto3 for Python). For example, if you need to access S3 via a python program, you will need programmatic access. \n",
    "\n",
    "![](https://drive.google.com/uc?export=view&id=18kvI3Jxaioln9SEaOCGakNFfqDjMyYBq)"
   ]
  },
  {
   "cell_type": "markdown",
   "metadata": {
    "colab_type": "text",
    "id": "i_ImTPGZL2hq"
   },
   "source": [
    "> NB: With the last box (e.g _Require password reset_) checked, your user will need to create a new password once he logs into to the console for the first time. \n",
    "\n",
    "Click on _Next: Permissions_ and click on _Create Groups_.\n",
    "\n",
    "#### What are policies? 🚧\n",
    "\n",
    "Policies correspond to specific access to AWS services. For example, you can set up a policy that gives you _read access only_ to S3. You can also give access to only ec2 instances and so on.\n",
    "\n",
    "When you create a new user, he will need to have specific access to your AWS products. That's why you need to assign certain policies. \n",
    "\n",
    "#### Policies VS Groups \n",
    "\n",
    "However, since your user will most likely have specific access to a lot of different products, writing specific policies can be time-consuming. That's why AWS created _Groups_. It is simply a pre-configured set of policies that you can attach to a user.\n",
    "\n",
    "For our new user, let's give him _AdministratorAccess_.\n",
    "\n",
    "![](https://drive.google.com/uc?export=view&id=1xqdacvsN-4fVQkZhVXHvb1VZ66KHFnyO)"
   ]
  },
  {
   "cell_type": "markdown",
   "metadata": {
    "colab_type": "text",
    "id": "AZ4aBWV1Nd1-"
   },
   "source": [
    "Give the group a name and click on _Create group_.\n",
    "\n",
    "You should now see a group of policies attached to a user.\n",
    "\n",
    "![](https://drive.google.com/uc?export=view&id=1SBcoHH-oJPlzPhwHld-sjKDWjvoHB3uk)"
   ]
  },
  {
   "cell_type": "markdown",
   "metadata": {
    "colab_type": "text",
    "id": "il35UxJsOQoe"
   },
   "source": [
    "Click on _Next: Tags_.\n",
    "\n",
    "If you want to, you can assign tags to your user. This is totally optional though but it helps to retrieve users easily.\n",
    "\n",
    "![](https://drive.google.com/uc?export=view&id=1W4PNGD12GYeGflpaCPjVfEjZ9KfWgk9X)"
   ]
  },
  {
   "cell_type": "markdown",
   "metadata": {
    "colab_type": "text",
    "id": "bNpsJsEBOwo2"
   },
   "source": [
    "Click on _Next: Review_ and review what you've just created. If everything seems correct to you click on _Create User_ and you should see this page:\n",
    "\n",
    "![](https://drive.google.com/uc?export=view&id=1YDHGCOaNx1aW36EVAngHsDdB0ZK2QPhH)"
   ]
  },
  {
   "cell_type": "markdown",
   "metadata": {
    "colab_type": "text",
    "id": "J4fhUHnsPUbu"
   },
   "source": [
    "It means that your user has been created! However, be careful, **YOU WILL ONLY SEE THIS PAGE ONCE!** You need to send credentials either over email or download them as a CSV file so that your user can access the console."
   ]
  },
  {
   "cell_type": "markdown",
   "metadata": {
    "colab_type": "text",
    "id": "ckJHohUSP2BP"
   },
   "source": [
    "### IAM password policy #️⃣1️⃣2️⃣3️⃣#️⃣\n",
    "\n",
    "If you go back on your _IAM Dashboard_, you should see that we are almost done with your Security Status. We only need to apply a password policy. \n",
    "\n",
    "Click on _Manage Password Policy ➤ Set Password Policy_.\n",
    "\n",
    "You should see this page:\n",
    "\n",
    "![](https://drive.google.com/uc?export=view&id=15bZ5KvZiMzOJML9k00dajsJMyB01vJEk)"
   ]
  },
  {
   "cell_type": "markdown",
   "metadata": {
    "colab_type": "text",
    "id": "w5Vmj_nTQYMq"
   },
   "source": [
    "Check the necessary boxes according to the security level you need and click on _Save changes_.\n",
    "\n",
    "You should now see a pop up confirming that your policies have been updated:\n",
    "\n",
    "![](https://drive.google.com/uc?export=view&id=1Xlxaar14_MHsoE8XpAK6PzyMIX4aIIvz)"
   ]
  },
  {
   "cell_type": "markdown",
   "metadata": {
    "colab_type": "text",
    "id": "LwkUTydTRXow"
   },
   "source": [
    "If you go back to your _Dashboard_, everything is now set up! Congrats! We can now use AWS safely 😄."
   ]
  },
  {
   "cell_type": "markdown",
   "metadata": {
    "colab_type": "text",
    "id": "ZFzoNPmgRifj"
   },
   "source": [
    "## Resources 📚📚\n",
    "\n",
    "* <a href=\"https://docs.aws.amazon.com/IAM/latest/UserGuide/getting-set-up.html\" target=\"_blank\">Getting Set up</a>\n",
    "* <a href=\"https://docs.aws.amazon.com/IAM/latest/UserGuide/getting-started.html\" target=\"_blank\">Getting Started</a>\n",
    "* <a href=\"https://docs.aws.amazon.com/IAM/latest/UserGuide/id_users.html\" target=\"_blank\">IAM Users</a>\n",
    "* <a href=\"https://docs.aws.amazon.com/IAM/latest/UserGuide/id_groups.html\" target=\"_blank\">IAM Groups</a>"
   ]
  }
 ],
 "metadata": {
  "colab": {
   "collapsed_sections": [],
   "name": "1. IAM.ipynb",
   "provenance": []
  },
  "kernelspec": {
   "display_name": "Python 3 (ipykernel)",
   "language": "python",
   "name": "python3"
  },
  "language_info": {
   "codemirror_mode": {
    "name": "ipython",
    "version": 3
   },
   "file_extension": ".py",
   "mimetype": "text/x-python",
   "name": "python",
   "nbconvert_exporter": "python",
   "pygments_lexer": "ipython3",
   "version": "3.9.7"
  }
 },
 "nbformat": 4,
 "nbformat_minor": 4
}
