{
 "cells": [
  {
   "cell_type": "markdown",
   "metadata": {},
   "source": [
    "# Deploy your Covid Tracker app \n",
    "\n",
    "Take back the code you wrote in the exercise *Covid Tracker* and deploy it to heroku 🚀 \n",
    "\n",
    "## Tips 🤫\n",
    "\n",
    "* Make sure your `Dockerfile` is properly setup\n",
    "* Make sure your `.streamlit/config.toml` is properly setup"
   ]
  }
 ],
 "metadata": {
  "language_info": {
   "name": "python"
  },
  "orig_nbformat": 4
 },
 "nbformat": 4,
 "nbformat_minor": 2
}
