{
  "cells": [
    {
      "cell_type": "markdown",
      "metadata": {
        "id": "FY347VxWs_bJ"
      },
      "source": [
        "# Create a password\n",
        "\n",
        "---\n",
        "\n",
        "\n"
      ]
    },
    {
      "cell_type": "markdown",
      "metadata": {
        "id": "tNmCNKUa0c9-"
      },
      "source": [
        "We would like to create a password for JEDHA\n",
        "\n",
        "    1. Using a WHILE loop, find a way to create a very simple authentication script"
      ]
    },
    {
      "cell_type": "code",
      "execution_count": null,
      "metadata": {
        "colab": {
          "base_uri": "https://localhost:8080/",
          "height": 35
        },
        "id": "adKPQe1Hsi2g",
        "outputId": "11b3e356-10d5-47b0-edae-1e566ea77bb3"
      },
      "outputs": [
        {
          "name": "stdout",
          "output_type": "stream",
          "text": [
            "You have the right password!\n"
          ]
        }
      ],
      "source": [
        "password = input(\"What is the password?\") # asking to the user, will attribute value to                                             variable\n",
        "while password != 'jedha':\n",
        "    password = input(\"What is the password?\")\n",
        "\n",
        "print(\"You have the right password!\")"
      ]
    },
    {
      "cell_type": "code",
      "execution_count": 6,
      "metadata": {
        "id": "LV_ACPSXs3pg"
      },
      "outputs": [
        {
          "name": "stdout",
          "output_type": "stream",
          "text": [
            "2 chances left\n",
            "1 chances left\n",
            "0 chances left\n",
            "You are blocked\n",
            "You have the right password!\n"
          ]
        }
      ],
      "source": [
        "# Enter a password here\n",
        "pwd = 'jedha'\n",
        "password = input(\"What is the password?\")\n",
        "chances = 3\n",
        "while password != pwd:\n",
        "    if chances == 0:\n",
        "        print('You are blocked')\n",
        "        break\n",
        "    else: \n",
        "        print(f'{chances-1} chances left')\n",
        "        password = input(\"What is the password?\")\n",
        "        chances -= 1\n",
        "\n",
        "print(\"You have the right password!\")"
      ]
    },
    {
      "cell_type": "code",
      "execution_count": 5,
      "metadata": {},
      "outputs": [
        {
          "name": "stdout",
          "output_type": "stream",
          "text": [
            "2 chances left\n",
            "1 chances left\n",
            "0 chances left\n"
          ]
        }
      ],
      "source": [
        "# Enter a password here\n",
        "pwd = 'jedha'\n",
        "password = input(\"What is the password?\")\n",
        "chances = 3\n",
        "while chances != 0:\n",
        "    if password == pwd:\n",
        "        print('You have successfully logged in.')\n",
        "        break\n",
        "    else: \n",
        "        print(f'{chances-1} chances left')\n",
        "        password = input(\"What is the password?\")\n",
        "        chances -= 1\n",
        "        continue"
      ]
    }
  ],
  "metadata": {
    "colab": {
      "provenance": []
    },
    "kernelspec": {
      "display_name": "Python 3.10.4 64-bit",
      "language": "python",
      "name": "python3"
    },
    "language_info": {
      "codemirror_mode": {
        "name": "ipython",
        "version": 3
      },
      "file_extension": ".py",
      "mimetype": "text/x-python",
      "name": "python",
      "nbconvert_exporter": "python",
      "pygments_lexer": "ipython3",
      "version": "3.10.4"
    },
    "vscode": {
      "interpreter": {
        "hash": "a3d0e8e0c817ae3c7f78f66b04bafeb63523a0a50e6405ec1b074461715681e4"
      }
    }
  },
  "nbformat": 4,
  "nbformat_minor": 0
}
