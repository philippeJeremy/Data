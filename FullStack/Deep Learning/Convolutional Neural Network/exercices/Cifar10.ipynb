{
 "cells": [
  {
   "cell_type": "code",
   "execution_count": 1,
   "metadata": {},
   "outputs": [],
   "source": [
    "import tensorflow as tf \n",
    "import pandas as pd\n",
    "import numpy as np \n",
    "import json\n",
    "from plotly import graph_objects as go\n",
    "import matplotlib.pyplot as plt \n",
    "from plotly import express as px\n",
    "from tensorflow.keras.preprocessing.image import ImageDataGenerator\n",
    "from tensorflow.keras.layers import MaxPool2D, AveragePooling2D\n",
    "from tensorflow.keras.layers import Conv1D, Conv2D, Conv3D\n",
    "from tensorflow.keras.optimizers import Adam\n",
    "from tensorflow.keras.losses import BinaryCrossentropy, CategoricalCrossentropy, SparseCategoricalCrossentropy\n",
    "from tensorflow.keras.metrics import BinaryAccuracy, SparseCategoricalAccuracy\n",
    "tf.__version__\n",
    "color_chart = [\"#4B9AC7\", \"#4BE8E0\", \"#9DD4F3\", \"#97FBF6\", \"#2A7FAF\", \"#23B1AB\", \"#0E3449\", \"#015955\"]"
   ]
  },
  {
   "cell_type": "code",
   "execution_count": 2,
   "metadata": {},
   "outputs": [],
   "source": [
    "# tf.keras.utils.get_file(\"/content/cifar10.zip\",\n",
    "#                         origin=\"https://full-stack-assets.s3.eu-west-3.amazonaws.com/datasets/M08/cifar-10/train.zip\",\n",
    "#                         extract=True,\n",
    "#                         cache_subdir=\"/content\")"
   ]
  },
  {
   "cell_type": "code",
   "execution_count": 2,
   "metadata": {},
   "outputs": [],
   "source": [
    "df = pd.read_csv(\"https://full-stack-assets.s3.eu-west-3.amazonaws.com/datasets/M08/cifar-10/trainLabels.csv\")"
   ]
  },
  {
   "cell_type": "code",
   "execution_count": 3,
   "metadata": {},
   "outputs": [],
   "source": [
    "df[\"id\"] = df[\"id\"].apply(lambda x : f\"{x}.png\")"
   ]
  },
  {
   "cell_type": "code",
   "execution_count": 4,
   "metadata": {},
   "outputs": [
    {
     "data": {
      "text/html": [
       "<div>\n",
       "<style scoped>\n",
       "    .dataframe tbody tr th:only-of-type {\n",
       "        vertical-align: middle;\n",
       "    }\n",
       "\n",
       "    .dataframe tbody tr th {\n",
       "        vertical-align: top;\n",
       "    }\n",
       "\n",
       "    .dataframe thead th {\n",
       "        text-align: right;\n",
       "    }\n",
       "</style>\n",
       "<table border=\"1\" class=\"dataframe\">\n",
       "  <thead>\n",
       "    <tr style=\"text-align: right;\">\n",
       "      <th></th>\n",
       "      <th>id</th>\n",
       "      <th>label</th>\n",
       "    </tr>\n",
       "  </thead>\n",
       "  <tbody>\n",
       "    <tr>\n",
       "      <th>0</th>\n",
       "      <td>1.png</td>\n",
       "      <td>frog</td>\n",
       "    </tr>\n",
       "    <tr>\n",
       "      <th>1</th>\n",
       "      <td>2.png</td>\n",
       "      <td>truck</td>\n",
       "    </tr>\n",
       "    <tr>\n",
       "      <th>2</th>\n",
       "      <td>3.png</td>\n",
       "      <td>truck</td>\n",
       "    </tr>\n",
       "    <tr>\n",
       "      <th>3</th>\n",
       "      <td>4.png</td>\n",
       "      <td>deer</td>\n",
       "    </tr>\n",
       "    <tr>\n",
       "      <th>4</th>\n",
       "      <td>5.png</td>\n",
       "      <td>automobile</td>\n",
       "    </tr>\n",
       "    <tr>\n",
       "      <th>...</th>\n",
       "      <td>...</td>\n",
       "      <td>...</td>\n",
       "    </tr>\n",
       "    <tr>\n",
       "      <th>49995</th>\n",
       "      <td>49996.png</td>\n",
       "      <td>bird</td>\n",
       "    </tr>\n",
       "    <tr>\n",
       "      <th>49996</th>\n",
       "      <td>49997.png</td>\n",
       "      <td>frog</td>\n",
       "    </tr>\n",
       "    <tr>\n",
       "      <th>49997</th>\n",
       "      <td>49998.png</td>\n",
       "      <td>truck</td>\n",
       "    </tr>\n",
       "    <tr>\n",
       "      <th>49998</th>\n",
       "      <td>49999.png</td>\n",
       "      <td>automobile</td>\n",
       "    </tr>\n",
       "    <tr>\n",
       "      <th>49999</th>\n",
       "      <td>50000.png</td>\n",
       "      <td>automobile</td>\n",
       "    </tr>\n",
       "  </tbody>\n",
       "</table>\n",
       "<p>50000 rows × 2 columns</p>\n",
       "</div>"
      ],
      "text/plain": [
       "              id       label\n",
       "0          1.png        frog\n",
       "1          2.png       truck\n",
       "2          3.png       truck\n",
       "3          4.png        deer\n",
       "4          5.png  automobile\n",
       "...          ...         ...\n",
       "49995  49996.png        bird\n",
       "49996  49997.png        frog\n",
       "49997  49998.png       truck\n",
       "49998  49999.png  automobile\n",
       "49999  50000.png  automobile\n",
       "\n",
       "[50000 rows x 2 columns]"
      ]
     },
     "execution_count": 4,
     "metadata": {},
     "output_type": "execute_result"
    }
   ],
   "source": [
    "df"
   ]
  },
  {
   "cell_type": "code",
   "execution_count": 5,
   "metadata": {},
   "outputs": [
    {
     "data": {
      "application/vnd.plotly.v1+json": {
       "config": {
        "plotlyServerURL": "https://plot.ly"
       },
       "data": [
        {
         "hovertemplate": "x: %{x}<br>y: %{y}<br>color: [%{z[0]}, %{z[1]}, %{z[2]}]<extra></extra>",
         "name": "0",
         "source": "data:image/png;base64,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",
         "type": "image",
         "xaxis": "x",
         "yaxis": "y"
        }
       ],
       "layout": {
        "margin": {
         "t": 60
        },
        "template": {
         "data": {
          "bar": [
           {
            "error_x": {
             "color": "#2a3f5f"
            },
            "error_y": {
             "color": "#2a3f5f"
            },
            "marker": {
             "line": {
              "color": "#E5ECF6",
              "width": 0.5
             },
             "pattern": {
              "fillmode": "overlay",
              "size": 10,
              "solidity": 0.2
             }
            },
            "type": "bar"
           }
          ],
          "barpolar": [
           {
            "marker": {
             "line": {
              "color": "#E5ECF6",
              "width": 0.5
             },
             "pattern": {
              "fillmode": "overlay",
              "size": 10,
              "solidity": 0.2
             }
            },
            "type": "barpolar"
           }
          ],
          "carpet": [
           {
            "aaxis": {
             "endlinecolor": "#2a3f5f",
             "gridcolor": "white",
             "linecolor": "white",
             "minorgridcolor": "white",
             "startlinecolor": "#2a3f5f"
            },
            "baxis": {
             "endlinecolor": "#2a3f5f",
             "gridcolor": "white",
             "linecolor": "white",
             "minorgridcolor": "white",
             "startlinecolor": "#2a3f5f"
            },
            "type": "carpet"
           }
          ],
          "choropleth": [
           {
            "colorbar": {
             "outlinewidth": 0,
             "ticks": ""
            },
            "type": "choropleth"
           }
          ],
          "contour": [
           {
            "colorbar": {
             "outlinewidth": 0,
             "ticks": ""
            },
            "colorscale": [
             [
              0,
              "#0d0887"
             ],
             [
              0.1111111111111111,
              "#46039f"
             ],
             [
              0.2222222222222222,
              "#7201a8"
             ],
             [
              0.3333333333333333,
              "#9c179e"
             ],
             [
              0.4444444444444444,
              "#bd3786"
             ],
             [
              0.5555555555555556,
              "#d8576b"
             ],
             [
              0.6666666666666666,
              "#ed7953"
             ],
             [
              0.7777777777777778,
              "#fb9f3a"
             ],
             [
              0.8888888888888888,
              "#fdca26"
             ],
             [
              1,
              "#f0f921"
             ]
            ],
            "type": "contour"
           }
          ],
          "contourcarpet": [
           {
            "colorbar": {
             "outlinewidth": 0,
             "ticks": ""
            },
            "type": "contourcarpet"
           }
          ],
          "heatmap": [
           {
            "colorbar": {
             "outlinewidth": 0,
             "ticks": ""
            },
            "colorscale": [
             [
              0,
              "#0d0887"
             ],
             [
              0.1111111111111111,
              "#46039f"
             ],
             [
              0.2222222222222222,
              "#7201a8"
             ],
             [
              0.3333333333333333,
              "#9c179e"
             ],
             [
              0.4444444444444444,
              "#bd3786"
             ],
             [
              0.5555555555555556,
              "#d8576b"
             ],
             [
              0.6666666666666666,
              "#ed7953"
             ],
             [
              0.7777777777777778,
              "#fb9f3a"
             ],
             [
              0.8888888888888888,
              "#fdca26"
             ],
             [
              1,
              "#f0f921"
             ]
            ],
            "type": "heatmap"
           }
          ],
          "heatmapgl": [
           {
            "colorbar": {
             "outlinewidth": 0,
             "ticks": ""
            },
            "colorscale": [
             [
              0,
              "#0d0887"
             ],
             [
              0.1111111111111111,
              "#46039f"
             ],
             [
              0.2222222222222222,
              "#7201a8"
             ],
             [
              0.3333333333333333,
              "#9c179e"
             ],
             [
              0.4444444444444444,
              "#bd3786"
             ],
             [
              0.5555555555555556,
              "#d8576b"
             ],
             [
              0.6666666666666666,
              "#ed7953"
             ],
             [
              0.7777777777777778,
              "#fb9f3a"
             ],
             [
              0.8888888888888888,
              "#fdca26"
             ],
             [
              1,
              "#f0f921"
             ]
            ],
            "type": "heatmapgl"
           }
          ],
          "histogram": [
           {
            "marker": {
             "pattern": {
              "fillmode": "overlay",
              "size": 10,
              "solidity": 0.2
             }
            },
            "type": "histogram"
           }
          ],
          "histogram2d": [
           {
            "colorbar": {
             "outlinewidth": 0,
             "ticks": ""
            },
            "colorscale": [
             [
              0,
              "#0d0887"
             ],
             [
              0.1111111111111111,
              "#46039f"
             ],
             [
              0.2222222222222222,
              "#7201a8"
             ],
             [
              0.3333333333333333,
              "#9c179e"
             ],
             [
              0.4444444444444444,
              "#bd3786"
             ],
             [
              0.5555555555555556,
              "#d8576b"
             ],
             [
              0.6666666666666666,
              "#ed7953"
             ],
             [
              0.7777777777777778,
              "#fb9f3a"
             ],
             [
              0.8888888888888888,
              "#fdca26"
             ],
             [
              1,
              "#f0f921"
             ]
            ],
            "type": "histogram2d"
           }
          ],
          "histogram2dcontour": [
           {
            "colorbar": {
             "outlinewidth": 0,
             "ticks": ""
            },
            "colorscale": [
             [
              0,
              "#0d0887"
             ],
             [
              0.1111111111111111,
              "#46039f"
             ],
             [
              0.2222222222222222,
              "#7201a8"
             ],
             [
              0.3333333333333333,
              "#9c179e"
             ],
             [
              0.4444444444444444,
              "#bd3786"
             ],
             [
              0.5555555555555556,
              "#d8576b"
             ],
             [
              0.6666666666666666,
              "#ed7953"
             ],
             [
              0.7777777777777778,
              "#fb9f3a"
             ],
             [
              0.8888888888888888,
              "#fdca26"
             ],
             [
              1,
              "#f0f921"
             ]
            ],
            "type": "histogram2dcontour"
           }
          ],
          "mesh3d": [
           {
            "colorbar": {
             "outlinewidth": 0,
             "ticks": ""
            },
            "type": "mesh3d"
           }
          ],
          "parcoords": [
           {
            "line": {
             "colorbar": {
              "outlinewidth": 0,
              "ticks": ""
             }
            },
            "type": "parcoords"
           }
          ],
          "pie": [
           {
            "automargin": true,
            "type": "pie"
           }
          ],
          "scatter": [
           {
            "fillpattern": {
             "fillmode": "overlay",
             "size": 10,
             "solidity": 0.2
            },
            "type": "scatter"
           }
          ],
          "scatter3d": [
           {
            "line": {
             "colorbar": {
              "outlinewidth": 0,
              "ticks": ""
             }
            },
            "marker": {
             "colorbar": {
              "outlinewidth": 0,
              "ticks": ""
             }
            },
            "type": "scatter3d"
           }
          ],
          "scattercarpet": [
           {
            "marker": {
             "colorbar": {
              "outlinewidth": 0,
              "ticks": ""
             }
            },
            "type": "scattercarpet"
           }
          ],
          "scattergeo": [
           {
            "marker": {
             "colorbar": {
              "outlinewidth": 0,
              "ticks": ""
             }
            },
            "type": "scattergeo"
           }
          ],
          "scattergl": [
           {
            "marker": {
             "colorbar": {
              "outlinewidth": 0,
              "ticks": ""
             }
            },
            "type": "scattergl"
           }
          ],
          "scattermapbox": [
           {
            "marker": {
             "colorbar": {
              "outlinewidth": 0,
              "ticks": ""
             }
            },
            "type": "scattermapbox"
           }
          ],
          "scatterpolar": [
           {
            "marker": {
             "colorbar": {
              "outlinewidth": 0,
              "ticks": ""
             }
            },
            "type": "scatterpolar"
           }
          ],
          "scatterpolargl": [
           {
            "marker": {
             "colorbar": {
              "outlinewidth": 0,
              "ticks": ""
             }
            },
            "type": "scatterpolargl"
           }
          ],
          "scatterternary": [
           {
            "marker": {
             "colorbar": {
              "outlinewidth": 0,
              "ticks": ""
             }
            },
            "type": "scatterternary"
           }
          ],
          "surface": [
           {
            "colorbar": {
             "outlinewidth": 0,
             "ticks": ""
            },
            "colorscale": [
             [
              0,
              "#0d0887"
             ],
             [
              0.1111111111111111,
              "#46039f"
             ],
             [
              0.2222222222222222,
              "#7201a8"
             ],
             [
              0.3333333333333333,
              "#9c179e"
             ],
             [
              0.4444444444444444,
              "#bd3786"
             ],
             [
              0.5555555555555556,
              "#d8576b"
             ],
             [
              0.6666666666666666,
              "#ed7953"
             ],
             [
              0.7777777777777778,
              "#fb9f3a"
             ],
             [
              0.8888888888888888,
              "#fdca26"
             ],
             [
              1,
              "#f0f921"
             ]
            ],
            "type": "surface"
           }
          ],
          "table": [
           {
            "cells": {
             "fill": {
              "color": "#EBF0F8"
             },
             "line": {
              "color": "white"
             }
            },
            "header": {
             "fill": {
              "color": "#C8D4E3"
             },
             "line": {
              "color": "white"
             }
            },
            "type": "table"
           }
          ]
         },
         "layout": {
          "annotationdefaults": {
           "arrowcolor": "#2a3f5f",
           "arrowhead": 0,
           "arrowwidth": 1
          },
          "autotypenumbers": "strict",
          "coloraxis": {
           "colorbar": {
            "outlinewidth": 0,
            "ticks": ""
           }
          },
          "colorscale": {
           "diverging": [
            [
             0,
             "#8e0152"
            ],
            [
             0.1,
             "#c51b7d"
            ],
            [
             0.2,
             "#de77ae"
            ],
            [
             0.3,
             "#f1b6da"
            ],
            [
             0.4,
             "#fde0ef"
            ],
            [
             0.5,
             "#f7f7f7"
            ],
            [
             0.6,
             "#e6f5d0"
            ],
            [
             0.7,
             "#b8e186"
            ],
            [
             0.8,
             "#7fbc41"
            ],
            [
             0.9,
             "#4d9221"
            ],
            [
             1,
             "#276419"
            ]
           ],
           "sequential": [
            [
             0,
             "#0d0887"
            ],
            [
             0.1111111111111111,
             "#46039f"
            ],
            [
             0.2222222222222222,
             "#7201a8"
            ],
            [
             0.3333333333333333,
             "#9c179e"
            ],
            [
             0.4444444444444444,
             "#bd3786"
            ],
            [
             0.5555555555555556,
             "#d8576b"
            ],
            [
             0.6666666666666666,
             "#ed7953"
            ],
            [
             0.7777777777777778,
             "#fb9f3a"
            ],
            [
             0.8888888888888888,
             "#fdca26"
            ],
            [
             1,
             "#f0f921"
            ]
           ],
           "sequentialminus": [
            [
             0,
             "#0d0887"
            ],
            [
             0.1111111111111111,
             "#46039f"
            ],
            [
             0.2222222222222222,
             "#7201a8"
            ],
            [
             0.3333333333333333,
             "#9c179e"
            ],
            [
             0.4444444444444444,
             "#bd3786"
            ],
            [
             0.5555555555555556,
             "#d8576b"
            ],
            [
             0.6666666666666666,
             "#ed7953"
            ],
            [
             0.7777777777777778,
             "#fb9f3a"
            ],
            [
             0.8888888888888888,
             "#fdca26"
            ],
            [
             1,
             "#f0f921"
            ]
           ]
          },
          "colorway": [
           "#636efa",
           "#EF553B",
           "#00cc96",
           "#ab63fa",
           "#FFA15A",
           "#19d3f3",
           "#FF6692",
           "#B6E880",
           "#FF97FF",
           "#FECB52"
          ],
          "font": {
           "color": "#2a3f5f"
          },
          "geo": {
           "bgcolor": "white",
           "lakecolor": "white",
           "landcolor": "#E5ECF6",
           "showlakes": true,
           "showland": true,
           "subunitcolor": "white"
          },
          "hoverlabel": {
           "align": "left"
          },
          "hovermode": "closest",
          "mapbox": {
           "style": "light"
          },
          "paper_bgcolor": "white",
          "plot_bgcolor": "#E5ECF6",
          "polar": {
           "angularaxis": {
            "gridcolor": "white",
            "linecolor": "white",
            "ticks": ""
           },
           "bgcolor": "#E5ECF6",
           "radialaxis": {
            "gridcolor": "white",
            "linecolor": "white",
            "ticks": ""
           }
          },
          "scene": {
           "xaxis": {
            "backgroundcolor": "#E5ECF6",
            "gridcolor": "white",
            "gridwidth": 2,
            "linecolor": "white",
            "showbackground": true,
            "ticks": "",
            "zerolinecolor": "white"
           },
           "yaxis": {
            "backgroundcolor": "#E5ECF6",
            "gridcolor": "white",
            "gridwidth": 2,
            "linecolor": "white",
            "showbackground": true,
            "ticks": "",
            "zerolinecolor": "white"
           },
           "zaxis": {
            "backgroundcolor": "#E5ECF6",
            "gridcolor": "white",
            "gridwidth": 2,
            "linecolor": "white",
            "showbackground": true,
            "ticks": "",
            "zerolinecolor": "white"
           }
          },
          "shapedefaults": {
           "line": {
            "color": "#2a3f5f"
           }
          },
          "ternary": {
           "aaxis": {
            "gridcolor": "white",
            "linecolor": "white",
            "ticks": ""
           },
           "baxis": {
            "gridcolor": "white",
            "linecolor": "white",
            "ticks": ""
           },
           "bgcolor": "#E5ECF6",
           "caxis": {
            "gridcolor": "white",
            "linecolor": "white",
            "ticks": ""
           }
          },
          "title": {
           "x": 0.05
          },
          "xaxis": {
           "automargin": true,
           "gridcolor": "white",
           "linecolor": "white",
           "ticks": "",
           "title": {
            "standoff": 15
           },
           "zerolinecolor": "white",
           "zerolinewidth": 2
          },
          "yaxis": {
           "automargin": true,
           "gridcolor": "white",
           "linecolor": "white",
           "ticks": "",
           "title": {
            "standoff": 15
           },
           "zerolinecolor": "white",
           "zerolinewidth": 2
          }
         }
        },
        "xaxis": {
         "anchor": "y",
         "domain": [
          0,
          1
         ]
        },
        "yaxis": {
         "anchor": "x",
         "domain": [
          0,
          1
         ]
        }
       }
      }
     },
     "metadata": {},
     "output_type": "display_data"
    }
   ],
   "source": [
    "img = tf.io.read_file('/content/train/1.png')\n",
    "img = tf.image.decode_jpeg(img)\n",
    "px.imshow(img)"
   ]
  },
  {
   "cell_type": "code",
   "execution_count": 6,
   "metadata": {},
   "outputs": [
    {
     "data": {
      "text/html": [
       "<div>\n",
       "<style scoped>\n",
       "    .dataframe tbody tr th:only-of-type {\n",
       "        vertical-align: middle;\n",
       "    }\n",
       "\n",
       "    .dataframe tbody tr th {\n",
       "        vertical-align: top;\n",
       "    }\n",
       "\n",
       "    .dataframe thead th {\n",
       "        text-align: right;\n",
       "    }\n",
       "</style>\n",
       "<table border=\"1\" class=\"dataframe\">\n",
       "  <thead>\n",
       "    <tr style=\"text-align: right;\">\n",
       "      <th></th>\n",
       "      <th>id</th>\n",
       "      <th>label</th>\n",
       "    </tr>\n",
       "  </thead>\n",
       "  <tbody>\n",
       "    <tr>\n",
       "      <th>0</th>\n",
       "      <td>1.png</td>\n",
       "      <td>frog</td>\n",
       "    </tr>\n",
       "    <tr>\n",
       "      <th>1</th>\n",
       "      <td>2.png</td>\n",
       "      <td>truck</td>\n",
       "    </tr>\n",
       "    <tr>\n",
       "      <th>3</th>\n",
       "      <td>4.png</td>\n",
       "      <td>deer</td>\n",
       "    </tr>\n",
       "    <tr>\n",
       "      <th>4</th>\n",
       "      <td>5.png</td>\n",
       "      <td>automobile</td>\n",
       "    </tr>\n",
       "    <tr>\n",
       "      <th>6</th>\n",
       "      <td>7.png</td>\n",
       "      <td>bird</td>\n",
       "    </tr>\n",
       "    <tr>\n",
       "      <th>7</th>\n",
       "      <td>8.png</td>\n",
       "      <td>horse</td>\n",
       "    </tr>\n",
       "    <tr>\n",
       "      <th>8</th>\n",
       "      <td>9.png</td>\n",
       "      <td>ship</td>\n",
       "    </tr>\n",
       "    <tr>\n",
       "      <th>9</th>\n",
       "      <td>10.png</td>\n",
       "      <td>cat</td>\n",
       "    </tr>\n",
       "    <tr>\n",
       "      <th>27</th>\n",
       "      <td>28.png</td>\n",
       "      <td>dog</td>\n",
       "    </tr>\n",
       "    <tr>\n",
       "      <th>29</th>\n",
       "      <td>30.png</td>\n",
       "      <td>airplane</td>\n",
       "    </tr>\n",
       "  </tbody>\n",
       "</table>\n",
       "</div>"
      ],
      "text/plain": [
       "        id       label\n",
       "0    1.png        frog\n",
       "1    2.png       truck\n",
       "3    4.png        deer\n",
       "4    5.png  automobile\n",
       "6    7.png        bird\n",
       "7    8.png       horse\n",
       "8    9.png        ship\n",
       "9   10.png         cat\n",
       "27  28.png         dog\n",
       "29  30.png    airplane"
      ]
     },
     "execution_count": 6,
     "metadata": {},
     "output_type": "execute_result"
    }
   ],
   "source": [
    "a = df.drop_duplicates(subset=\"label\")\n",
    "a"
   ]
  },
  {
   "cell_type": "code",
   "execution_count": 7,
   "metadata": {},
   "outputs": [
    {
     "name": "stderr",
     "output_type": "stream",
     "text": [
      "C:\\Users\\jerem\\AppData\\Local\\Temp\\ipykernel_23412\\1421141306.py:10: UserWarning:\n",
      "\n",
      "Matplotlib is currently using module://matplotlib_inline.backend_inline, which is a non-GUI backend, so cannot show the figure.\n",
      "\n"
     ]
    },
    {
     "data": {
      "image/png": "[encoded data removed]",
      "text/plain": [
       "<Figure size 1500x2500 with 10 Axes>"
      ]
     },
     "metadata": {},
     "output_type": "display_data"
    }
   ],
   "source": [
    "fig, ax = plt.subplots(nrows=10, ncols=1, figsize=(15,25))\n",
    "i = 0\n",
    "for id , label in zip(a.id, a.label):\n",
    "    path = f\"/content/train/{id}\"\n",
    "    img = tf.io.read_file(path)\n",
    "    img = tf.image.decode_jpeg(img)\n",
    "    ax[i].imshow(img)\n",
    "    ax[i].title.set_text(label)\n",
    "    i += 1\n",
    "fig.show()"
   ]
  },
  {
   "cell_type": "code",
   "execution_count": 11,
   "metadata": {},
   "outputs": [],
   "source": [
    "img_generator = ImageDataGenerator(\n",
    "    rescale=1/255., \n",
    "    fill_mode='wrap',\n",
    "    validation_split=0.3\n",
    ")"
   ]
  },
  {
   "cell_type": "code",
   "execution_count": 12,
   "metadata": {},
   "outputs": [
    {
     "name": "stdout",
     "output_type": "stream",
     "text": [
      "Found 35000 validated image filenames belonging to 10 classes.\n",
      "Found 15000 validated image filenames belonging to 10 classes.\n"
     ]
    }
   ],
   "source": [
    "df_generator = img_generator.flow_from_dataframe(\n",
    "    dataframe=df,\n",
    "    directory=\"/content/train\", \n",
    "    x_col=\"id\", \n",
    "    y_col=\"label\", \n",
    "    target_size=(32,32),\n",
    "    class_mode = \"sparse\", \n",
    "    batch_size=64, \n",
    "    shuffle = True,  \n",
    "    subset = \"training\"\n",
    ")\n",
    "\n",
    "validation_generator = img_generator.flow_from_dataframe(\n",
    "    dataframe=df,\n",
    "    directory=\"content/train\", \n",
    "    x_col=\"id\", \n",
    "    y_col=\"label\", \n",
    "    target_size=(32,32),\n",
    "    class_mode = \"sparse\", \n",
    "    batch_size=64, \n",
    "    shuffle = True,  \n",
    "    subset = \"validation\"\n",
    ")\n",
    "\n"
   ]
  },
  {
   "cell_type": "code",
   "execution_count": 13,
   "metadata": {},
   "outputs": [],
   "source": [
    "# imgs, targets = next(iter(df_generator))\n",
    "# fig, ax = plt.subplots(8,2, figsize=(10,40))\n",
    "# for i, (img, target) in enumerate(zip(imgs, targets)):\n",
    "#   ax[i-8*(i//8),i//8].imshow(img)\n",
    "#   ax[i-8*(i//8),i//8].title.set_text(str(target))\n",
    "# fig.show()"
   ]
  },
  {
   "cell_type": "code",
   "execution_count": 14,
   "metadata": {},
   "outputs": [],
   "source": [
    "imgs, targets = next(iter(df_generator))\n",
    "\n",
    "modelconv = tf.keras.Sequential(\n",
    "    [\n",
    "    Conv2D(\n",
    "        filters = 32,\n",
    "        kernel_size = (3,3),\n",
    "        strides = 1,\n",
    "        padding = \"same\",\n",
    "        activation = \"relu\",\n",
    "        input_shape = (imgs.shape[1], imgs.shape[2], imgs.shape[3]) # the input shape (height, width, channels)\n",
    "     ),\n",
    "    MaxPool2D(pool_size=2, # the size of the pooling window\n",
    "            strides=2),\n",
    "    tf.keras.layers.Flatten(), # this layer turns multi-dimensional images into flat objects\n",
    "    tf.keras.layers.Dense(10, activation=\"softmax\")\n",
    "    ]\n",
    ")"
   ]
  },
  {
   "cell_type": "code",
   "execution_count": 15,
   "metadata": {},
   "outputs": [
    {
     "data": {
      "image/png": "[encoded data removed]",
      "text/plain": [
       "<IPython.core.display.Image object>"
      ]
     },
     "execution_count": 15,
     "metadata": {},
     "output_type": "execute_result"
    }
   ],
   "source": [
    "tf.keras.utils.plot_model(modelconv, show_shapes=True)"
   ]
  },
  {
   "cell_type": "code",
   "execution_count": 16,
   "metadata": {},
   "outputs": [
    {
     "name": "stdout",
     "output_type": "stream",
     "text": [
      "Model: \"sequential\"\n",
      "_________________________________________________________________\n",
      " Layer (type)                Output Shape              Param #   \n",
      "=================================================================\n",
      " conv2d (Conv2D)             (None, 32, 32, 32)        896       \n",
      "                                                                 \n",
      " max_pooling2d (MaxPooling2D  (None, 16, 16, 32)       0         \n",
      " )                                                               \n",
      "                                                                 \n",
      " flatten (Flatten)           (None, 8192)              0         \n",
      "                                                                 \n",
      " dense (Dense)               (None, 10)                81930     \n",
      "                                                                 \n",
      "=================================================================\n",
      "Total params: 82,826\n",
      "Trainable params: 82,826\n",
      "Non-trainable params: 0\n",
      "_________________________________________________________________\n"
     ]
    }
   ],
   "source": [
    "modelconv.summary()"
   ]
  },
  {
   "cell_type": "code",
   "execution_count": 17,
   "metadata": {},
   "outputs": [],
   "source": [
    "modelconv.compile(optimizer=Adam(),\n",
    "              loss=SparseCategoricalCrossentropy(),\n",
    "              metrics=[SparseCategoricalAccuracy()])"
   ]
  },
  {
   "cell_type": "code",
   "execution_count": 18,
   "metadata": {},
   "outputs": [
    {
     "name": "stdout",
     "output_type": "stream",
     "text": [
      "Epoch 1/50\n",
      "547/547 [==============================] - 25s 44ms/step - loss: 1.6009 - sparse_categorical_accuracy: 0.4420 - val_loss: 1.3520 - val_sparse_categorical_accuracy: 0.5304\n",
      "Epoch 2/50\n",
      "547/547 [==============================] - 17s 31ms/step - loss: 1.2881 - sparse_categorical_accuracy: 0.5535 - val_loss: 1.2500 - val_sparse_categorical_accuracy: 0.5609\n",
      "Epoch 3/50\n",
      "547/547 [==============================] - 17s 30ms/step - loss: 1.1850 - sparse_categorical_accuracy: 0.5894 - val_loss: 1.2282 - val_sparse_categorical_accuracy: 0.5685\n",
      "Epoch 4/50\n",
      "547/547 [==============================] - 16s 29ms/step - loss: 1.1191 - sparse_categorical_accuracy: 0.6178 - val_loss: 1.1908 - val_sparse_categorical_accuracy: 0.5835\n",
      "Epoch 5/50\n",
      "547/547 [==============================] - 16s 29ms/step - loss: 1.0640 - sparse_categorical_accuracy: 0.6353 - val_loss: 1.1662 - val_sparse_categorical_accuracy: 0.5971\n",
      "Epoch 6/50\n",
      "547/547 [==============================] - 16s 29ms/step - loss: 1.0190 - sparse_categorical_accuracy: 0.6499 - val_loss: 1.1434 - val_sparse_categorical_accuracy: 0.6029\n",
      "Epoch 7/50\n",
      "547/547 [==============================] - 16s 29ms/step - loss: 0.9819 - sparse_categorical_accuracy: 0.6632 - val_loss: 1.1869 - val_sparse_categorical_accuracy: 0.5885\n",
      "Epoch 8/50\n",
      "547/547 [==============================] - 16s 29ms/step - loss: 0.9467 - sparse_categorical_accuracy: 0.6749 - val_loss: 1.1121 - val_sparse_categorical_accuracy: 0.6148\n",
      "Epoch 9/50\n",
      "547/547 [==============================] - 16s 29ms/step - loss: 0.9125 - sparse_categorical_accuracy: 0.6876 - val_loss: 1.1024 - val_sparse_categorical_accuracy: 0.6187\n",
      "Epoch 10/50\n",
      "547/547 [==============================] - 16s 29ms/step - loss: 0.8839 - sparse_categorical_accuracy: 0.6975 - val_loss: 1.1243 - val_sparse_categorical_accuracy: 0.6120\n",
      "Epoch 11/50\n",
      "547/547 [==============================] - 16s 29ms/step - loss: 0.8636 - sparse_categorical_accuracy: 0.7043 - val_loss: 1.1230 - val_sparse_categorical_accuracy: 0.6151\n",
      "Epoch 12/50\n",
      "547/547 [==============================] - 16s 28ms/step - loss: 0.8339 - sparse_categorical_accuracy: 0.7149 - val_loss: 1.1221 - val_sparse_categorical_accuracy: 0.6180\n",
      "Epoch 13/50\n",
      "547/547 [==============================] - 16s 29ms/step - loss: 0.8088 - sparse_categorical_accuracy: 0.7246 - val_loss: 1.1264 - val_sparse_categorical_accuracy: 0.6170\n",
      "Epoch 14/50\n",
      "547/547 [==============================] - 16s 29ms/step - loss: 0.7882 - sparse_categorical_accuracy: 0.7296 - val_loss: 1.1370 - val_sparse_categorical_accuracy: 0.6135\n",
      "Epoch 15/50\n",
      "547/547 [==============================] - 16s 29ms/step - loss: 0.7729 - sparse_categorical_accuracy: 0.7345 - val_loss: 1.1003 - val_sparse_categorical_accuracy: 0.6321\n",
      "Epoch 16/50\n",
      "547/547 [==============================] - 16s 29ms/step - loss: 0.7520 - sparse_categorical_accuracy: 0.7414 - val_loss: 1.1076 - val_sparse_categorical_accuracy: 0.6292\n",
      "Epoch 17/50\n",
      "547/547 [==============================] - 16s 29ms/step - loss: 0.7334 - sparse_categorical_accuracy: 0.7484 - val_loss: 1.0900 - val_sparse_categorical_accuracy: 0.6385\n",
      "Epoch 18/50\n",
      "547/547 [==============================] - 16s 29ms/step - loss: 0.7124 - sparse_categorical_accuracy: 0.7569 - val_loss: 1.1191 - val_sparse_categorical_accuracy: 0.6270\n",
      "Epoch 19/50\n",
      "547/547 [==============================] - 16s 29ms/step - loss: 0.7052 - sparse_categorical_accuracy: 0.7582 - val_loss: 1.0881 - val_sparse_categorical_accuracy: 0.6403\n",
      "Epoch 20/50\n",
      "547/547 [==============================] - 16s 29ms/step - loss: 0.6804 - sparse_categorical_accuracy: 0.7695 - val_loss: 1.1204 - val_sparse_categorical_accuracy: 0.6325\n",
      "Epoch 21/50\n",
      "547/547 [==============================] - 16s 29ms/step - loss: 0.6639 - sparse_categorical_accuracy: 0.7747 - val_loss: 1.1351 - val_sparse_categorical_accuracy: 0.6300\n",
      "Epoch 22/50\n",
      "547/547 [==============================] - 16s 29ms/step - loss: 0.6549 - sparse_categorical_accuracy: 0.7778 - val_loss: 1.1499 - val_sparse_categorical_accuracy: 0.6299\n",
      "Epoch 23/50\n",
      "547/547 [==============================] - 16s 29ms/step - loss: 0.6368 - sparse_categorical_accuracy: 0.7828 - val_loss: 1.1856 - val_sparse_categorical_accuracy: 0.6131\n",
      "Epoch 24/50\n",
      "547/547 [==============================] - 16s 29ms/step - loss: 0.6232 - sparse_categorical_accuracy: 0.7887 - val_loss: 1.1636 - val_sparse_categorical_accuracy: 0.6254\n",
      "Epoch 25/50\n",
      "547/547 [==============================] - 16s 29ms/step - loss: 0.6134 - sparse_categorical_accuracy: 0.7907 - val_loss: 1.1704 - val_sparse_categorical_accuracy: 0.6252\n",
      "Epoch 26/50\n",
      "547/547 [==============================] - 16s 29ms/step - loss: 0.5976 - sparse_categorical_accuracy: 0.7980 - val_loss: 1.1466 - val_sparse_categorical_accuracy: 0.6365\n",
      "Epoch 27/50\n",
      "547/547 [==============================] - 16s 29ms/step - loss: 0.5867 - sparse_categorical_accuracy: 0.8024 - val_loss: 1.1525 - val_sparse_categorical_accuracy: 0.6305\n",
      "Epoch 28/50\n",
      "547/547 [==============================] - 16s 29ms/step - loss: 0.5694 - sparse_categorical_accuracy: 0.8075 - val_loss: 1.1858 - val_sparse_categorical_accuracy: 0.6297\n",
      "Epoch 29/50\n",
      "547/547 [==============================] - 16s 29ms/step - loss: 0.5603 - sparse_categorical_accuracy: 0.8087 - val_loss: 1.1924 - val_sparse_categorical_accuracy: 0.6316\n",
      "Epoch 30/50\n",
      "547/547 [==============================] - 16s 29ms/step - loss: 0.5494 - sparse_categorical_accuracy: 0.8145 - val_loss: 1.1907 - val_sparse_categorical_accuracy: 0.6327\n",
      "Epoch 31/50\n",
      "547/547 [==============================] - 16s 29ms/step - loss: 0.5398 - sparse_categorical_accuracy: 0.8180 - val_loss: 1.2363 - val_sparse_categorical_accuracy: 0.6218\n",
      "Epoch 32/50\n",
      "547/547 [==============================] - 16s 29ms/step - loss: 0.5264 - sparse_categorical_accuracy: 0.8225 - val_loss: 1.2372 - val_sparse_categorical_accuracy: 0.6271\n",
      "Epoch 33/50\n",
      "547/547 [==============================] - 16s 29ms/step - loss: 0.5180 - sparse_categorical_accuracy: 0.8248 - val_loss: 1.2675 - val_sparse_categorical_accuracy: 0.6203\n",
      "Epoch 34/50\n",
      "547/547 [==============================] - 16s 29ms/step - loss: 0.5105 - sparse_categorical_accuracy: 0.8285 - val_loss: 1.2872 - val_sparse_categorical_accuracy: 0.6185\n",
      "Epoch 35/50\n",
      "547/547 [==============================] - 16s 29ms/step - loss: 0.4973 - sparse_categorical_accuracy: 0.8323 - val_loss: 1.2494 - val_sparse_categorical_accuracy: 0.6264\n",
      "Epoch 36/50\n",
      "547/547 [==============================] - 16s 29ms/step - loss: 0.4840 - sparse_categorical_accuracy: 0.8384 - val_loss: 1.3092 - val_sparse_categorical_accuracy: 0.6183\n",
      "Epoch 37/50\n",
      "547/547 [==============================] - 16s 29ms/step - loss: 0.4799 - sparse_categorical_accuracy: 0.8395 - val_loss: 1.3064 - val_sparse_categorical_accuracy: 0.6165\n",
      "Epoch 38/50\n",
      "547/547 [==============================] - 16s 29ms/step - loss: 0.4606 - sparse_categorical_accuracy: 0.8459 - val_loss: 1.3016 - val_sparse_categorical_accuracy: 0.6267\n",
      "Epoch 39/50\n",
      "547/547 [==============================] - 16s 29ms/step - loss: 0.4534 - sparse_categorical_accuracy: 0.8472 - val_loss: 1.3263 - val_sparse_categorical_accuracy: 0.6187\n",
      "Epoch 40/50\n",
      "547/547 [==============================] - 16s 29ms/step - loss: 0.4488 - sparse_categorical_accuracy: 0.8506 - val_loss: 1.3280 - val_sparse_categorical_accuracy: 0.6170\n",
      "Epoch 41/50\n",
      "547/547 [==============================] - 16s 29ms/step - loss: 0.4418 - sparse_categorical_accuracy: 0.8515 - val_loss: 1.3430 - val_sparse_categorical_accuracy: 0.6146\n",
      "Epoch 42/50\n",
      "547/547 [==============================] - 16s 29ms/step - loss: 0.4363 - sparse_categorical_accuracy: 0.8515 - val_loss: 1.3561 - val_sparse_categorical_accuracy: 0.6143\n",
      "Epoch 43/50\n",
      "547/547 [==============================] - 16s 29ms/step - loss: 0.4218 - sparse_categorical_accuracy: 0.8590 - val_loss: 1.3399 - val_sparse_categorical_accuracy: 0.6224\n",
      "Epoch 44/50\n",
      "547/547 [==============================] - 16s 29ms/step - loss: 0.4111 - sparse_categorical_accuracy: 0.8649 - val_loss: 1.3804 - val_sparse_categorical_accuracy: 0.6175\n",
      "Epoch 45/50\n",
      "547/547 [==============================] - 16s 29ms/step - loss: 0.4071 - sparse_categorical_accuracy: 0.8650 - val_loss: 1.3999 - val_sparse_categorical_accuracy: 0.6160\n",
      "Epoch 46/50\n",
      "547/547 [==============================] - 16s 29ms/step - loss: 0.4028 - sparse_categorical_accuracy: 0.8640 - val_loss: 1.4421 - val_sparse_categorical_accuracy: 0.6123\n",
      "Epoch 47/50\n",
      "547/547 [==============================] - 16s 29ms/step - loss: 0.3917 - sparse_categorical_accuracy: 0.8692 - val_loss: 1.4149 - val_sparse_categorical_accuracy: 0.6179\n",
      "Epoch 48/50\n",
      "547/547 [==============================] - 16s 29ms/step - loss: 0.3869 - sparse_categorical_accuracy: 0.8691 - val_loss: 1.5347 - val_sparse_categorical_accuracy: 0.5957\n",
      "Epoch 49/50\n",
      "547/547 [==============================] - 16s 29ms/step - loss: 0.3761 - sparse_categorical_accuracy: 0.8751 - val_loss: 1.4919 - val_sparse_categorical_accuracy: 0.6125\n",
      "Epoch 50/50\n",
      "547/547 [==============================] - 16s 29ms/step - loss: 0.3675 - sparse_categorical_accuracy: 0.8775 - val_loss: 1.4915 - val_sparse_categorical_accuracy: 0.6078\n"
     ]
    },
    {
     "data": {
      "text/plain": [
       "<keras.callbacks.History at 0x1744dad7070>"
      ]
     },
     "execution_count": 18,
     "metadata": {},
     "output_type": "execute_result"
    }
   ],
   "source": [
    "modelconv.fit(df_generator, epochs = 50, validation_data=validation_generator)"
   ]
  },
  {
   "cell_type": "code",
   "execution_count": 19,
   "metadata": {},
   "outputs": [],
   "source": [
    "modelconv.save(\"cifar10model1conv.h5\")"
   ]
  },
  {
   "cell_type": "code",
   "execution_count": 20,
   "metadata": {},
   "outputs": [],
   "source": [
    "history_dict = modelconv.history.history\n",
    "json.dump(history_dict, open(\"cifar10model1convhistory.json\", 'w'))"
   ]
  },
  {
   "cell_type": "code",
   "execution_count": 21,
   "metadata": {},
   "outputs": [],
   "source": [
    "model = pd.read_json(\"cifar10model1convhistory.json\")"
   ]
  },
  {
   "cell_type": "code",
   "execution_count": 22,
   "metadata": {},
   "outputs": [
    {
     "data": {
      "application/vnd.plotly.v1+json": {
       "config": {
        "plotlyServerURL": "https://plot.ly"
       },
       "data": [
        {
         "marker": {
          "color": "#4B9AC7"
         },
         "mode": "lines",
         "name": "Training loss",
         "type": "scatter",
         "y": [
          1.600892305374145,
          1.288078069686889,
          1.185037493705749,
          1.119056820869445,
          1.063998222351074,
          1.019020915031433,
          0.9818569421768181,
          0.9466944336891171,
          0.912527382373809,
          0.8838527202606201,
          0.863649368286132,
          0.8338720202445981,
          0.80878746509552,
          0.7882118225097651,
          0.772945940494537,
          0.7520337700843811,
          0.73336112499237,
          0.7123757004737851,
          0.7051984667778011,
          0.6803516745567321,
          0.663923382759094,
          0.6548669338226311,
          0.636820375919342,
          0.623174309730529,
          0.6134234666824341,
          0.5975513458251951,
          0.586714208126068,
          0.5693565011024471,
          0.560335338115692,
          0.549445450305938,
          0.539844393730163,
          0.5264483094215391,
          0.517976582050323,
          0.510490119457244,
          0.497317969799041,
          0.484037280082702,
          0.47992947697639404,
          0.460615098476409,
          0.45343592762947005,
          0.44884344935417103,
          0.441770792007446,
          0.43630570173263505,
          0.42175570130348206,
          0.41106522083282404,
          0.40705925226211503,
          0.402819246053695,
          0.391680479049682,
          0.38688719272613503,
          0.376052290201187,
          0.36750304698944003
         ]
        },
        {
         "marker": {
          "color": "#4BE8E0"
         },
         "mode": "lines",
         "name": "Validation loss",
         "type": "scatter",
         "y": [
          1.3520252704620361,
          1.250003337860107,
          1.228161692619323,
          1.190808296203613,
          1.166229248046875,
          1.143423438072204,
          1.186868548393249,
          1.112138509750366,
          1.102378249168396,
          1.124313235282898,
          1.123048782348632,
          1.122143268585205,
          1.126426219940185,
          1.136953592300415,
          1.100290536880493,
          1.107608795166015,
          1.090022683143615,
          1.119115233421325,
          1.088088631629943,
          1.120373010635376,
          1.135079741477966,
          1.149885535240173,
          1.185620307922363,
          1.163630962371826,
          1.170366048812866,
          1.146646618843078,
          1.152508020401001,
          1.185779690742492,
          1.192449927330017,
          1.1907232999801631,
          1.236289143562317,
          1.237192988395691,
          1.267537832260131,
          1.287169933319091,
          1.249408483505249,
          1.309208035469055,
          1.3063849210739131,
          1.3015719652175899,
          1.326291561126709,
          1.328046441078186,
          1.342965126037597,
          1.356124758720398,
          1.339910149574279,
          1.380422711372375,
          1.399941563606262,
          1.442134737968444,
          1.414913535118103,
          1.534719705581665,
          1.491930127143859,
          1.491513133049011
         ]
        }
       ],
       "layout": {
        "template": {
         "data": {
          "bar": [
           {
            "error_x": {
             "color": "#2a3f5f"
            },
            "error_y": {
             "color": "#2a3f5f"
            },
            "marker": {
             "line": {
              "color": "#E5ECF6",
              "width": 0.5
             },
             "pattern": {
              "fillmode": "overlay",
              "size": 10,
              "solidity": 0.2
             }
            },
            "type": "bar"
           }
          ],
          "barpolar": [
           {
            "marker": {
             "line": {
              "color": "#E5ECF6",
              "width": 0.5
             },
             "pattern": {
              "fillmode": "overlay",
              "size": 10,
              "solidity": 0.2
             }
            },
            "type": "barpolar"
           }
          ],
          "carpet": [
           {
            "aaxis": {
             "endlinecolor": "#2a3f5f",
             "gridcolor": "white",
             "linecolor": "white",
             "minorgridcolor": "white",
             "startlinecolor": "#2a3f5f"
            },
            "baxis": {
             "endlinecolor": "#2a3f5f",
             "gridcolor": "white",
             "linecolor": "white",
             "minorgridcolor": "white",
             "startlinecolor": "#2a3f5f"
            },
            "type": "carpet"
           }
          ],
          "choropleth": [
           {
            "colorbar": {
             "outlinewidth": 0,
             "ticks": ""
            },
            "type": "choropleth"
           }
          ],
          "contour": [
           {
            "colorbar": {
             "outlinewidth": 0,
             "ticks": ""
            },
            "colorscale": [
             [
              0,
              "#0d0887"
             ],
             [
              0.1111111111111111,
              "#46039f"
             ],
             [
              0.2222222222222222,
              "#7201a8"
             ],
             [
              0.3333333333333333,
              "#9c179e"
             ],
             [
              0.4444444444444444,
              "#bd3786"
             ],
             [
              0.5555555555555556,
              "#d8576b"
             ],
             [
              0.6666666666666666,
              "#ed7953"
             ],
             [
              0.7777777777777778,
              "#fb9f3a"
             ],
             [
              0.8888888888888888,
              "#fdca26"
             ],
             [
              1,
              "#f0f921"
             ]
            ],
            "type": "contour"
           }
          ],
          "contourcarpet": [
           {
            "colorbar": {
             "outlinewidth": 0,
             "ticks": ""
            },
            "type": "contourcarpet"
           }
          ],
          "heatmap": [
           {
            "colorbar": {
             "outlinewidth": 0,
             "ticks": ""
            },
            "colorscale": [
             [
              0,
              "#0d0887"
             ],
             [
              0.1111111111111111,
              "#46039f"
             ],
             [
              0.2222222222222222,
              "#7201a8"
             ],
             [
              0.3333333333333333,
              "#9c179e"
             ],
             [
              0.4444444444444444,
              "#bd3786"
             ],
             [
              0.5555555555555556,
              "#d8576b"
             ],
             [
              0.6666666666666666,
              "#ed7953"
             ],
             [
              0.7777777777777778,
              "#fb9f3a"
             ],
             [
              0.8888888888888888,
              "#fdca26"
             ],
             [
              1,
              "#f0f921"
             ]
            ],
            "type": "heatmap"
           }
          ],
          "heatmapgl": [
           {
            "colorbar": {
             "outlinewidth": 0,
             "ticks": ""
            },
            "colorscale": [
             [
              0,
              "#0d0887"
             ],
             [
              0.1111111111111111,
              "#46039f"
             ],
             [
              0.2222222222222222,
              "#7201a8"
             ],
             [
              0.3333333333333333,
              "#9c179e"
             ],
             [
              0.4444444444444444,
              "#bd3786"
             ],
             [
              0.5555555555555556,
              "#d8576b"
             ],
             [
              0.6666666666666666,
              "#ed7953"
             ],
             [
              0.7777777777777778,
              "#fb9f3a"
             ],
             [
              0.8888888888888888,
              "#fdca26"
             ],
             [
              1,
              "#f0f921"
             ]
            ],
            "type": "heatmapgl"
           }
          ],
          "histogram": [
           {
            "marker": {
             "pattern": {
              "fillmode": "overlay",
              "size": 10,
              "solidity": 0.2
             }
            },
            "type": "histogram"
           }
          ],
          "histogram2d": [
           {
            "colorbar": {
             "outlinewidth": 0,
             "ticks": ""
            },
            "colorscale": [
             [
              0,
              "#0d0887"
             ],
             [
              0.1111111111111111,
              "#46039f"
             ],
             [
              0.2222222222222222,
              "#7201a8"
             ],
             [
              0.3333333333333333,
              "#9c179e"
             ],
             [
              0.4444444444444444,
              "#bd3786"
             ],
             [
              0.5555555555555556,
              "#d8576b"
             ],
             [
              0.6666666666666666,
              "#ed7953"
             ],
             [
              0.7777777777777778,
              "#fb9f3a"
             ],
             [
              0.8888888888888888,
              "#fdca26"
             ],
             [
              1,
              "#f0f921"
             ]
            ],
            "type": "histogram2d"
           }
          ],
          "histogram2dcontour": [
           {
            "colorbar": {
             "outlinewidth": 0,
             "ticks": ""
            },
            "colorscale": [
             [
              0,
              "#0d0887"
             ],
             [
              0.1111111111111111,
              "#46039f"
             ],
             [
              0.2222222222222222,
              "#7201a8"
             ],
             [
              0.3333333333333333,
              "#9c179e"
             ],
             [
              0.4444444444444444,
              "#bd3786"
             ],
             [
              0.5555555555555556,
              "#d8576b"
             ],
             [
              0.6666666666666666,
              "#ed7953"
             ],
             [
              0.7777777777777778,
              "#fb9f3a"
             ],
             [
              0.8888888888888888,
              "#fdca26"
             ],
             [
              1,
              "#f0f921"
             ]
            ],
            "type": "histogram2dcontour"
           }
          ],
          "mesh3d": [
           {
            "colorbar": {
             "outlinewidth": 0,
             "ticks": ""
            },
            "type": "mesh3d"
           }
          ],
          "parcoords": [
           {
            "line": {
             "colorbar": {
              "outlinewidth": 0,
              "ticks": ""
             }
            },
            "type": "parcoords"
           }
          ],
          "pie": [
           {
            "automargin": true,
            "type": "pie"
           }
          ],
          "scatter": [
           {
            "fillpattern": {
             "fillmode": "overlay",
             "size": 10,
             "solidity": 0.2
            },
            "type": "scatter"
           }
          ],
          "scatter3d": [
           {
            "line": {
             "colorbar": {
              "outlinewidth": 0,
              "ticks": ""
             }
            },
            "marker": {
             "colorbar": {
              "outlinewidth": 0,
              "ticks": ""
             }
            },
            "type": "scatter3d"
           }
          ],
          "scattercarpet": [
           {
            "marker": {
             "colorbar": {
              "outlinewidth": 0,
              "ticks": ""
             }
            },
            "type": "scattercarpet"
           }
          ],
          "scattergeo": [
           {
            "marker": {
             "colorbar": {
              "outlinewidth": 0,
              "ticks": ""
             }
            },
            "type": "scattergeo"
           }
          ],
          "scattergl": [
           {
            "marker": {
             "colorbar": {
              "outlinewidth": 0,
              "ticks": ""
             }
            },
            "type": "scattergl"
           }
          ],
          "scattermapbox": [
           {
            "marker": {
             "colorbar": {
              "outlinewidth": 0,
              "ticks": ""
             }
            },
            "type": "scattermapbox"
           }
          ],
          "scatterpolar": [
           {
            "marker": {
             "colorbar": {
              "outlinewidth": 0,
              "ticks": ""
             }
            },
            "type": "scatterpolar"
           }
          ],
          "scatterpolargl": [
           {
            "marker": {
             "colorbar": {
              "outlinewidth": 0,
              "ticks": ""
             }
            },
            "type": "scatterpolargl"
           }
          ],
          "scatterternary": [
           {
            "marker": {
             "colorbar": {
              "outlinewidth": 0,
              "ticks": ""
             }
            },
            "type": "scatterternary"
           }
          ],
          "surface": [
           {
            "colorbar": {
             "outlinewidth": 0,
             "ticks": ""
            },
            "colorscale": [
             [
              0,
              "#0d0887"
             ],
             [
              0.1111111111111111,
              "#46039f"
             ],
             [
              0.2222222222222222,
              "#7201a8"
             ],
             [
              0.3333333333333333,
              "#9c179e"
             ],
             [
              0.4444444444444444,
              "#bd3786"
             ],
             [
              0.5555555555555556,
              "#d8576b"
             ],
             [
              0.6666666666666666,
              "#ed7953"
             ],
             [
              0.7777777777777778,
              "#fb9f3a"
             ],
             [
              0.8888888888888888,
              "#fdca26"
             ],
             [
              1,
              "#f0f921"
             ]
            ],
            "type": "surface"
           }
          ],
          "table": [
           {
            "cells": {
             "fill": {
              "color": "#EBF0F8"
             },
             "line": {
              "color": "white"
             }
            },
            "header": {
             "fill": {
              "color": "#C8D4E3"
             },
             "line": {
              "color": "white"
             }
            },
            "type": "table"
           }
          ]
         },
         "layout": {
          "annotationdefaults": {
           "arrowcolor": "#2a3f5f",
           "arrowhead": 0,
           "arrowwidth": 1
          },
          "autotypenumbers": "strict",
          "coloraxis": {
           "colorbar": {
            "outlinewidth": 0,
            "ticks": ""
           }
          },
          "colorscale": {
           "diverging": [
            [
             0,
             "#8e0152"
            ],
            [
             0.1,
             "#c51b7d"
            ],
            [
             0.2,
             "#de77ae"
            ],
            [
             0.3,
             "#f1b6da"
            ],
            [
             0.4,
             "#fde0ef"
            ],
            [
             0.5,
             "#f7f7f7"
            ],
            [
             0.6,
             "#e6f5d0"
            ],
            [
             0.7,
             "#b8e186"
            ],
            [
             0.8,
             "#7fbc41"
            ],
            [
             0.9,
             "#4d9221"
            ],
            [
             1,
             "#276419"
            ]
           ],
           "sequential": [
            [
             0,
             "#0d0887"
            ],
            [
             0.1111111111111111,
             "#46039f"
            ],
            [
             0.2222222222222222,
             "#7201a8"
            ],
            [
             0.3333333333333333,
             "#9c179e"
            ],
            [
             0.4444444444444444,
             "#bd3786"
            ],
            [
             0.5555555555555556,
             "#d8576b"
            ],
            [
             0.6666666666666666,
             "#ed7953"
            ],
            [
             0.7777777777777778,
             "#fb9f3a"
            ],
            [
             0.8888888888888888,
             "#fdca26"
            ],
            [
             1,
             "#f0f921"
            ]
           ],
           "sequentialminus": [
            [
             0,
             "#0d0887"
            ],
            [
             0.1111111111111111,
             "#46039f"
            ],
            [
             0.2222222222222222,
             "#7201a8"
            ],
            [
             0.3333333333333333,
             "#9c179e"
            ],
            [
             0.4444444444444444,
             "#bd3786"
            ],
            [
             0.5555555555555556,
             "#d8576b"
            ],
            [
             0.6666666666666666,
             "#ed7953"
            ],
            [
             0.7777777777777778,
             "#fb9f3a"
            ],
            [
             0.8888888888888888,
             "#fdca26"
            ],
            [
             1,
             "#f0f921"
            ]
           ]
          },
          "colorway": [
           "#636efa",
           "#EF553B",
           "#00cc96",
           "#ab63fa",
           "#FFA15A",
           "#19d3f3",
           "#FF6692",
           "#B6E880",
           "#FF97FF",
           "#FECB52"
          ],
          "font": {
           "color": "#2a3f5f"
          },
          "geo": {
           "bgcolor": "white",
           "lakecolor": "white",
           "landcolor": "#E5ECF6",
           "showlakes": true,
           "showland": true,
           "subunitcolor": "white"
          },
          "hoverlabel": {
           "align": "left"
          },
          "hovermode": "closest",
          "mapbox": {
           "style": "light"
          },
          "paper_bgcolor": "white",
          "plot_bgcolor": "#E5ECF6",
          "polar": {
           "angularaxis": {
            "gridcolor": "white",
            "linecolor": "white",
            "ticks": ""
           },
           "bgcolor": "#E5ECF6",
           "radialaxis": {
            "gridcolor": "white",
            "linecolor": "white",
            "ticks": ""
           }
          },
          "scene": {
           "xaxis": {
            "backgroundcolor": "#E5ECF6",
            "gridcolor": "white",
            "gridwidth": 2,
            "linecolor": "white",
            "showbackground": true,
            "ticks": "",
            "zerolinecolor": "white"
           },
           "yaxis": {
            "backgroundcolor": "#E5ECF6",
            "gridcolor": "white",
            "gridwidth": 2,
            "linecolor": "white",
            "showbackground": true,
            "ticks": "",
            "zerolinecolor": "white"
           },
           "zaxis": {
            "backgroundcolor": "#E5ECF6",
            "gridcolor": "white",
            "gridwidth": 2,
            "linecolor": "white",
            "showbackground": true,
            "ticks": "",
            "zerolinecolor": "white"
           }
          },
          "shapedefaults": {
           "line": {
            "color": "#2a3f5f"
           }
          },
          "ternary": {
           "aaxis": {
            "gridcolor": "white",
            "linecolor": "white",
            "ticks": ""
           },
           "baxis": {
            "gridcolor": "white",
            "linecolor": "white",
            "ticks": ""
           },
           "bgcolor": "#E5ECF6",
           "caxis": {
            "gridcolor": "white",
            "linecolor": "white",
            "ticks": ""
           }
          },
          "title": {
           "x": 0.05
          },
          "xaxis": {
           "automargin": true,
           "gridcolor": "white",
           "linecolor": "white",
           "ticks": "",
           "title": {
            "standoff": 15
           },
           "zerolinecolor": "white",
           "zerolinewidth": 2
          },
          "yaxis": {
           "automargin": true,
           "gridcolor": "white",
           "linecolor": "white",
           "ticks": "",
           "title": {
            "standoff": 15
           },
           "zerolinecolor": "white",
           "zerolinewidth": 2
          }
         }
        },
        "title": {
         "text": "Training and val loss across epochs"
        },
        "xaxis": {
         "title": {
          "text": "epochs"
         }
        },
        "yaxis": {
         "title": {
          "text": "Cross Entropy"
         }
        }
       }
      }
     },
     "metadata": {},
     "output_type": "display_data"
    }
   ],
   "source": [
    "fig = go.Figure(data=[\n",
    "                      go.Scatter(\n",
    "                          y=model[\"loss\"],\n",
    "                          name=\"Training loss\",\n",
    "                          mode=\"lines\",\n",
    "                          marker=dict(\n",
    "                              color=color_chart[0]\n",
    "                          )),\n",
    "                      go.Scatter(\n",
    "                          y=model[\"val_loss\"],\n",
    "                          name=\"Validation loss\",\n",
    "                          mode=\"lines\",\n",
    "                          marker=dict(\n",
    "                              color=color_chart[1]\n",
    "                          ))\n",
    "])\n",
    "fig.update_layout(\n",
    "    title='Training and val loss across epochs',\n",
    "    xaxis_title='epochs',\n",
    "    yaxis_title='Cross Entropy'    \n",
    ")\n",
    "fig.show()"
   ]
  },
  {
   "cell_type": "code",
   "execution_count": 23,
   "metadata": {},
   "outputs": [],
   "source": [
    "imgs, targets = next(iter(df_generator))\n",
    "\n",
    "model_2 = tf.keras.Sequential(\n",
    "    [\n",
    "    Conv2D(\n",
    "        filters = 32,\n",
    "        kernel_size = (3,3),\n",
    "        strides = 1,\n",
    "        padding = \"same\",\n",
    "        activation = \"relu\",\n",
    "        input_shape = (imgs.shape[1], imgs.shape[2], imgs.shape[3]) \n",
    "     ),\n",
    "    MaxPool2D(\n",
    "        pool_size=2, \n",
    "        strides=2),\n",
    "    Conv2D(\n",
    "        filters = 64,\n",
    "        kernel_size = (3,3),\n",
    "        strides = 1,\n",
    "        padding = \"same\",\n",
    "        activation = \"relu\",\n",
    "        input_shape = (imgs.shape[1], imgs.shape[2], imgs.shape[3]) \n",
    "     ),\n",
    "    MaxPool2D(\n",
    "        pool_size=2, \n",
    "        strides=2),\n",
    "    tf.keras.layers.Flatten(), \n",
    "    tf.keras.layers.Dense(10, activation=\"softmax\")\n",
    "    ]\n",
    ")"
   ]
  },
  {
   "cell_type": "code",
   "execution_count": 24,
   "metadata": {},
   "outputs": [
    {
     "name": "stdout",
     "output_type": "stream",
     "text": [
      "Model: \"sequential_1\"\n",
      "_________________________________________________________________\n",
      " Layer (type)                Output Shape              Param #   \n",
      "=================================================================\n",
      " conv2d_1 (Conv2D)           (None, 32, 32, 32)        896       \n",
      "                                                                 \n",
      " max_pooling2d_1 (MaxPooling  (None, 16, 16, 32)       0         \n",
      " 2D)                                                             \n",
      "                                                                 \n",
      " conv2d_2 (Conv2D)           (None, 16, 16, 64)        18496     \n",
      "                                                                 \n",
      " max_pooling2d_2 (MaxPooling  (None, 8, 8, 64)         0         \n",
      " 2D)                                                             \n",
      "                                                                 \n",
      " flatten_1 (Flatten)         (None, 4096)              0         \n",
      "                                                                 \n",
      " dense_1 (Dense)             (None, 10)                40970     \n",
      "                                                                 \n",
      "=================================================================\n",
      "Total params: 60,362\n",
      "Trainable params: 60,362\n",
      "Non-trainable params: 0\n",
      "_________________________________________________________________\n"
     ]
    }
   ],
   "source": [
    "model_2.summary()"
   ]
  },
  {
   "cell_type": "code",
   "execution_count": 25,
   "metadata": {},
   "outputs": [],
   "source": [
    "model_2.compile(optimizer=Adam(),\n",
    "              loss=SparseCategoricalCrossentropy(),\n",
    "              metrics=[SparseCategoricalAccuracy()])"
   ]
  },
  {
   "cell_type": "code",
   "execution_count": 26,
   "metadata": {},
   "outputs": [
    {
     "name": "stdout",
     "output_type": "stream",
     "text": [
      "Epoch 1/50\n",
      "547/547 [==============================] - 21s 38ms/step - loss: 1.5593 - sparse_categorical_accuracy: 0.4441 - val_loss: 1.3018 - val_sparse_categorical_accuracy: 0.5469\n",
      "Epoch 2/50\n",
      "547/547 [==============================] - 21s 38ms/step - loss: 1.2076 - sparse_categorical_accuracy: 0.5805 - val_loss: 1.1276 - val_sparse_categorical_accuracy: 0.5979\n",
      "Epoch 3/50\n",
      "547/547 [==============================] - 21s 38ms/step - loss: 1.0617 - sparse_categorical_accuracy: 0.6294 - val_loss: 1.0425 - val_sparse_categorical_accuracy: 0.6371\n",
      "Epoch 4/50\n",
      "547/547 [==============================] - 21s 38ms/step - loss: 0.9649 - sparse_categorical_accuracy: 0.6685 - val_loss: 0.9901 - val_sparse_categorical_accuracy: 0.6565\n",
      "Epoch 5/50\n",
      "547/547 [==============================] - 20s 37ms/step - loss: 0.8893 - sparse_categorical_accuracy: 0.6944 - val_loss: 0.9861 - val_sparse_categorical_accuracy: 0.6563\n",
      "Epoch 6/50\n",
      "547/547 [==============================] - 21s 38ms/step - loss: 0.8341 - sparse_categorical_accuracy: 0.7148 - val_loss: 0.9340 - val_sparse_categorical_accuracy: 0.6751\n",
      "Epoch 7/50\n",
      "547/547 [==============================] - 20s 37ms/step - loss: 0.7811 - sparse_categorical_accuracy: 0.7324 - val_loss: 0.9143 - val_sparse_categorical_accuracy: 0.6837\n",
      "Epoch 8/50\n",
      "547/547 [==============================] - 21s 38ms/step - loss: 0.7421 - sparse_categorical_accuracy: 0.7455 - val_loss: 0.8980 - val_sparse_categorical_accuracy: 0.6944\n",
      "Epoch 9/50\n",
      "547/547 [==============================] - 21s 38ms/step - loss: 0.7061 - sparse_categorical_accuracy: 0.7577 - val_loss: 0.9125 - val_sparse_categorical_accuracy: 0.6873\n",
      "Epoch 10/50\n",
      "547/547 [==============================] - 21s 38ms/step - loss: 0.6710 - sparse_categorical_accuracy: 0.7683 - val_loss: 0.9191 - val_sparse_categorical_accuracy: 0.6875\n",
      "Epoch 11/50\n",
      "547/547 [==============================] - 20s 37ms/step - loss: 0.6460 - sparse_categorical_accuracy: 0.7777 - val_loss: 0.9088 - val_sparse_categorical_accuracy: 0.6967\n",
      "Epoch 12/50\n",
      "547/547 [==============================] - 21s 38ms/step - loss: 0.6108 - sparse_categorical_accuracy: 0.7881 - val_loss: 0.8964 - val_sparse_categorical_accuracy: 0.6995\n",
      "Epoch 13/50\n",
      "547/547 [==============================] - 21s 38ms/step - loss: 0.5863 - sparse_categorical_accuracy: 0.7991 - val_loss: 0.9502 - val_sparse_categorical_accuracy: 0.6868\n",
      "Epoch 14/50\n",
      "547/547 [==============================] - 21s 38ms/step - loss: 0.5629 - sparse_categorical_accuracy: 0.8062 - val_loss: 0.9714 - val_sparse_categorical_accuracy: 0.6855\n",
      "Epoch 15/50\n",
      "547/547 [==============================] - 21s 38ms/step - loss: 0.5324 - sparse_categorical_accuracy: 0.8180 - val_loss: 0.9394 - val_sparse_categorical_accuracy: 0.7001\n",
      "Epoch 16/50\n",
      "547/547 [==============================] - 21s 38ms/step - loss: 0.5127 - sparse_categorical_accuracy: 0.8237 - val_loss: 1.0037 - val_sparse_categorical_accuracy: 0.6853\n",
      "Epoch 17/50\n",
      "547/547 [==============================] - 21s 38ms/step - loss: 0.4855 - sparse_categorical_accuracy: 0.8332 - val_loss: 0.9717 - val_sparse_categorical_accuracy: 0.6921\n",
      "Epoch 18/50\n",
      "547/547 [==============================] - 21s 38ms/step - loss: 0.4683 - sparse_categorical_accuracy: 0.8368 - val_loss: 1.0047 - val_sparse_categorical_accuracy: 0.6890\n",
      "Epoch 19/50\n",
      "547/547 [==============================] - 21s 37ms/step - loss: 0.4464 - sparse_categorical_accuracy: 0.8447 - val_loss: 1.0224 - val_sparse_categorical_accuracy: 0.6867\n",
      "Epoch 20/50\n",
      "547/547 [==============================] - 21s 38ms/step - loss: 0.4243 - sparse_categorical_accuracy: 0.8522 - val_loss: 1.0551 - val_sparse_categorical_accuracy: 0.6862\n",
      "Epoch 21/50\n",
      "547/547 [==============================] - 21s 38ms/step - loss: 0.4089 - sparse_categorical_accuracy: 0.8589 - val_loss: 1.0906 - val_sparse_categorical_accuracy: 0.6797\n",
      "Epoch 22/50\n",
      "547/547 [==============================] - 21s 38ms/step - loss: 0.3929 - sparse_categorical_accuracy: 0.8641 - val_loss: 1.0954 - val_sparse_categorical_accuracy: 0.6844\n",
      "Epoch 23/50\n",
      "547/547 [==============================] - 21s 38ms/step - loss: 0.3750 - sparse_categorical_accuracy: 0.8712 - val_loss: 1.0973 - val_sparse_categorical_accuracy: 0.6837\n",
      "Epoch 24/50\n",
      "547/547 [==============================] - 21s 38ms/step - loss: 0.3535 - sparse_categorical_accuracy: 0.8770 - val_loss: 1.1363 - val_sparse_categorical_accuracy: 0.6862\n",
      "Epoch 25/50\n",
      "547/547 [==============================] - 21s 38ms/step - loss: 0.3428 - sparse_categorical_accuracy: 0.8798 - val_loss: 1.1840 - val_sparse_categorical_accuracy: 0.6796\n",
      "Epoch 26/50\n",
      "547/547 [==============================] - 21s 38ms/step - loss: 0.3284 - sparse_categorical_accuracy: 0.8870 - val_loss: 1.2209 - val_sparse_categorical_accuracy: 0.6804\n",
      "Epoch 27/50\n",
      "547/547 [==============================] - 20s 37ms/step - loss: 0.3170 - sparse_categorical_accuracy: 0.8893 - val_loss: 1.2021 - val_sparse_categorical_accuracy: 0.6839\n",
      "Epoch 28/50\n",
      "547/547 [==============================] - 21s 38ms/step - loss: 0.2990 - sparse_categorical_accuracy: 0.8968 - val_loss: 1.2958 - val_sparse_categorical_accuracy: 0.6711\n",
      "Epoch 29/50\n",
      "547/547 [==============================] - 21s 38ms/step - loss: 0.2856 - sparse_categorical_accuracy: 0.9011 - val_loss: 1.3336 - val_sparse_categorical_accuracy: 0.6733\n",
      "Epoch 30/50\n",
      "547/547 [==============================] - 21s 38ms/step - loss: 0.2744 - sparse_categorical_accuracy: 0.9073 - val_loss: 1.3385 - val_sparse_categorical_accuracy: 0.6784\n",
      "Epoch 31/50\n",
      "547/547 [==============================] - 21s 38ms/step - loss: 0.2608 - sparse_categorical_accuracy: 0.9092 - val_loss: 1.3641 - val_sparse_categorical_accuracy: 0.6709\n",
      "Epoch 32/50\n",
      "547/547 [==============================] - 21s 38ms/step - loss: 0.2461 - sparse_categorical_accuracy: 0.9166 - val_loss: 1.3933 - val_sparse_categorical_accuracy: 0.6738\n",
      "Epoch 33/50\n",
      "547/547 [==============================] - 21s 38ms/step - loss: 0.2375 - sparse_categorical_accuracy: 0.9161 - val_loss: 1.4635 - val_sparse_categorical_accuracy: 0.6733\n",
      "Epoch 34/50\n",
      "547/547 [==============================] - 21s 38ms/step - loss: 0.2284 - sparse_categorical_accuracy: 0.9204 - val_loss: 1.4429 - val_sparse_categorical_accuracy: 0.6751\n",
      "Epoch 35/50\n",
      "547/547 [==============================] - 21s 38ms/step - loss: 0.2151 - sparse_categorical_accuracy: 0.9264 - val_loss: 1.5095 - val_sparse_categorical_accuracy: 0.6659\n",
      "Epoch 36/50\n",
      "547/547 [==============================] - 21s 38ms/step - loss: 0.2084 - sparse_categorical_accuracy: 0.9289 - val_loss: 1.5321 - val_sparse_categorical_accuracy: 0.6692\n",
      "Epoch 37/50\n",
      "547/547 [==============================] - 21s 38ms/step - loss: 0.1986 - sparse_categorical_accuracy: 0.9315 - val_loss: 1.5602 - val_sparse_categorical_accuracy: 0.6745\n",
      "Epoch 38/50\n",
      "547/547 [==============================] - 21s 38ms/step - loss: 0.1893 - sparse_categorical_accuracy: 0.9338 - val_loss: 1.5877 - val_sparse_categorical_accuracy: 0.6739\n",
      "Epoch 39/50\n",
      "547/547 [==============================] - 21s 38ms/step - loss: 0.1849 - sparse_categorical_accuracy: 0.9365 - val_loss: 1.6537 - val_sparse_categorical_accuracy: 0.6695\n",
      "Epoch 40/50\n",
      "547/547 [==============================] - 21s 38ms/step - loss: 0.1810 - sparse_categorical_accuracy: 0.9370 - val_loss: 1.6763 - val_sparse_categorical_accuracy: 0.6697\n",
      "Epoch 41/50\n",
      "547/547 [==============================] - 21s 38ms/step - loss: 0.1668 - sparse_categorical_accuracy: 0.9424 - val_loss: 1.7384 - val_sparse_categorical_accuracy: 0.6654\n",
      "Epoch 42/50\n",
      "547/547 [==============================] - 21s 38ms/step - loss: 0.1650 - sparse_categorical_accuracy: 0.9439 - val_loss: 1.8140 - val_sparse_categorical_accuracy: 0.6612\n",
      "Epoch 43/50\n",
      "547/547 [==============================] - 21s 38ms/step - loss: 0.1453 - sparse_categorical_accuracy: 0.9522 - val_loss: 1.8403 - val_sparse_categorical_accuracy: 0.6697\n",
      "Epoch 44/50\n",
      "547/547 [==============================] - 21s 38ms/step - loss: 0.1460 - sparse_categorical_accuracy: 0.9501 - val_loss: 1.8611 - val_sparse_categorical_accuracy: 0.6667\n",
      "Epoch 45/50\n",
      "547/547 [==============================] - 21s 38ms/step - loss: 0.1418 - sparse_categorical_accuracy: 0.9516 - val_loss: 1.8892 - val_sparse_categorical_accuracy: 0.6674\n",
      "Epoch 46/50\n",
      "547/547 [==============================] - 21s 38ms/step - loss: 0.1411 - sparse_categorical_accuracy: 0.9512 - val_loss: 1.9731 - val_sparse_categorical_accuracy: 0.6645\n",
      "Epoch 47/50\n",
      "547/547 [==============================] - 21s 38ms/step - loss: 0.1258 - sparse_categorical_accuracy: 0.9579 - val_loss: 2.0384 - val_sparse_categorical_accuracy: 0.6591\n",
      "Epoch 48/50\n",
      "547/547 [==============================] - 21s 38ms/step - loss: 0.1278 - sparse_categorical_accuracy: 0.9568 - val_loss: 2.0468 - val_sparse_categorical_accuracy: 0.6608\n",
      "Epoch 49/50\n",
      "547/547 [==============================] - 21s 38ms/step - loss: 0.1176 - sparse_categorical_accuracy: 0.9605 - val_loss: 2.1013 - val_sparse_categorical_accuracy: 0.6597\n",
      "Epoch 50/50\n",
      "547/547 [==============================] - 21s 38ms/step - loss: 0.1178 - sparse_categorical_accuracy: 0.9596 - val_loss: 2.1645 - val_sparse_categorical_accuracy: 0.6600\n"
     ]
    },
    {
     "data": {
      "text/plain": [
       "<keras.callbacks.History at 0x1744e1130a0>"
      ]
     },
     "execution_count": 26,
     "metadata": {},
     "output_type": "execute_result"
    }
   ],
   "source": [
    "model_2.fit(df_generator, epochs = 50, validation_data=validation_generator)"
   ]
  },
  {
   "cell_type": "code",
   "execution_count": 27,
   "metadata": {},
   "outputs": [],
   "source": [
    "model_2.save(\"cifar10model2conv.h5\")"
   ]
  },
  {
   "cell_type": "code",
   "execution_count": 28,
   "metadata": {},
   "outputs": [],
   "source": [
    "history_dict = model_2.history.history\n",
    "json.dump(history_dict, open(\"cifar10model2convhistory.json\", 'w'))"
   ]
  },
  {
   "cell_type": "code",
   "execution_count": 29,
   "metadata": {},
   "outputs": [],
   "source": [
    "model_2 = pd.read_json(\"cifar10model2convhistory.json\")"
   ]
  },
  {
   "cell_type": "code",
   "execution_count": 30,
   "metadata": {},
   "outputs": [
    {
     "data": {
      "application/vnd.plotly.v1+json": {
       "config": {
        "plotlyServerURL": "https://plot.ly"
       },
       "data": [
        {
         "marker": {
          "color": "#4B9AC7"
         },
         "mode": "lines",
         "name": "Training loss",
         "type": "scatter",
         "y": [
          1.5593440532684322,
          1.20764935016632,
          1.06174349784851,
          0.9649077057838441,
          0.8893162012100221,
          0.8340959548950191,
          0.781076729297637,
          0.7420774698257441,
          0.7060772776603691,
          0.6710152626037591,
          0.645981848239898,
          0.6107713580131531,
          0.586325585842132,
          0.562857985496521,
          0.532398104667663,
          0.512714803218841,
          0.48552209138870206,
          0.46827629208564703,
          0.44641157984733504,
          0.42429208755493103,
          0.40891745686531006,
          0.392923116683959,
          0.37497800588607705,
          0.353495836257934,
          0.34280788898468,
          0.32844194769859303,
          0.31695356965065,
          0.29903677105903603,
          0.28556984663009605,
          0.274362593889236,
          0.260761469602584,
          0.24606844782829201,
          0.23753295838832802,
          0.22841247916221602,
          0.21506731212139102,
          0.20838545262813502,
          0.198569521307945,
          0.18934616446495,
          0.184884384274482,
          0.180951103568077,
          0.16681976616382602,
          0.164951428771018,
          0.145335048437118,
          0.145961180329322,
          0.141789317131042,
          0.141078397631645,
          0.12581248581409402,
          0.127774998545646,
          0.11755313724279401,
          0.11778051406145001
         ]
        },
        {
         "marker": {
          "color": "#4BE8E0"
         },
         "mode": "lines",
         "name": "Validation loss",
         "type": "scatter",
         "y": [
          1.3017849922180171,
          1.127625465393066,
          1.042498469352722,
          0.990083456039428,
          0.986138939857482,
          0.933953702449798,
          0.9143356084823601,
          0.897981762886047,
          0.9125068783760071,
          0.9190670847892761,
          0.9088083505630491,
          0.896411001682281,
          0.950197279453277,
          0.971415400505065,
          0.9393612146377561,
          1.00370717048645,
          0.971742272377014,
          1.004671573638916,
          1.022380232810974,
          1.055129289627075,
          1.090560913085937,
          1.095417976379394,
          1.097303748130798,
          1.136348962783813,
          1.183993458747863,
          1.2208747863769531,
          1.202108979225158,
          1.295750379562378,
          1.333550930023193,
          1.338485717773437,
          1.3641266822814941,
          1.393324017524719,
          1.4634648561477661,
          1.442904472351074,
          1.509528279304504,
          1.5321025848388672,
          1.56021237373352,
          1.587654590606689,
          1.653650760650634,
          1.676311612129211,
          1.7384223937988281,
          1.8140109777450562,
          1.840333342552185,
          1.861146211624145,
          1.889222502708435,
          1.973143100738525,
          2.03844666481018,
          2.046762943267822,
          2.10126781463623,
          2.164469718933105
         ]
        }
       ],
       "layout": {
        "template": {
         "data": {
          "bar": [
           {
            "error_x": {
             "color": "#2a3f5f"
            },
            "error_y": {
             "color": "#2a3f5f"
            },
            "marker": {
             "line": {
              "color": "#E5ECF6",
              "width": 0.5
             },
             "pattern": {
              "fillmode": "overlay",
              "size": 10,
              "solidity": 0.2
             }
            },
            "type": "bar"
           }
          ],
          "barpolar": [
           {
            "marker": {
             "line": {
              "color": "#E5ECF6",
              "width": 0.5
             },
             "pattern": {
              "fillmode": "overlay",
              "size": 10,
              "solidity": 0.2
             }
            },
            "type": "barpolar"
           }
          ],
          "carpet": [
           {
            "aaxis": {
             "endlinecolor": "#2a3f5f",
             "gridcolor": "white",
             "linecolor": "white",
             "minorgridcolor": "white",
             "startlinecolor": "#2a3f5f"
            },
            "baxis": {
             "endlinecolor": "#2a3f5f",
             "gridcolor": "white",
             "linecolor": "white",
             "minorgridcolor": "white",
             "startlinecolor": "#2a3f5f"
            },
            "type": "carpet"
           }
          ],
          "choropleth": [
           {
            "colorbar": {
             "outlinewidth": 0,
             "ticks": ""
            },
            "type": "choropleth"
           }
          ],
          "contour": [
           {
            "colorbar": {
             "outlinewidth": 0,
             "ticks": ""
            },
            "colorscale": [
             [
              0,
              "#0d0887"
             ],
             [
              0.1111111111111111,
              "#46039f"
             ],
             [
              0.2222222222222222,
              "#7201a8"
             ],
             [
              0.3333333333333333,
              "#9c179e"
             ],
             [
              0.4444444444444444,
              "#bd3786"
             ],
             [
              0.5555555555555556,
              "#d8576b"
             ],
             [
              0.6666666666666666,
              "#ed7953"
             ],
             [
              0.7777777777777778,
              "#fb9f3a"
             ],
             [
              0.8888888888888888,
              "#fdca26"
             ],
             [
              1,
              "#f0f921"
             ]
            ],
            "type": "contour"
           }
          ],
          "contourcarpet": [
           {
            "colorbar": {
             "outlinewidth": 0,
             "ticks": ""
            },
            "type": "contourcarpet"
           }
          ],
          "heatmap": [
           {
            "colorbar": {
             "outlinewidth": 0,
             "ticks": ""
            },
            "colorscale": [
             [
              0,
              "#0d0887"
             ],
             [
              0.1111111111111111,
              "#46039f"
             ],
             [
              0.2222222222222222,
              "#7201a8"
             ],
             [
              0.3333333333333333,
              "#9c179e"
             ],
             [
              0.4444444444444444,
              "#bd3786"
             ],
             [
              0.5555555555555556,
              "#d8576b"
             ],
             [
              0.6666666666666666,
              "#ed7953"
             ],
             [
              0.7777777777777778,
              "#fb9f3a"
             ],
             [
              0.8888888888888888,
              "#fdca26"
             ],
             [
              1,
              "#f0f921"
             ]
            ],
            "type": "heatmap"
           }
          ],
          "heatmapgl": [
           {
            "colorbar": {
             "outlinewidth": 0,
             "ticks": ""
            },
            "colorscale": [
             [
              0,
              "#0d0887"
             ],
             [
              0.1111111111111111,
              "#46039f"
             ],
             [
              0.2222222222222222,
              "#7201a8"
             ],
             [
              0.3333333333333333,
              "#9c179e"
             ],
             [
              0.4444444444444444,
              "#bd3786"
             ],
             [
              0.5555555555555556,
              "#d8576b"
             ],
             [
              0.6666666666666666,
              "#ed7953"
             ],
             [
              0.7777777777777778,
              "#fb9f3a"
             ],
             [
              0.8888888888888888,
              "#fdca26"
             ],
             [
              1,
              "#f0f921"
             ]
            ],
            "type": "heatmapgl"
           }
          ],
          "histogram": [
           {
            "marker": {
             "pattern": {
              "fillmode": "overlay",
              "size": 10,
              "solidity": 0.2
             }
            },
            "type": "histogram"
           }
          ],
          "histogram2d": [
           {
            "colorbar": {
             "outlinewidth": 0,
             "ticks": ""
            },
            "colorscale": [
             [
              0,
              "#0d0887"
             ],
             [
              0.1111111111111111,
              "#46039f"
             ],
             [
              0.2222222222222222,
              "#7201a8"
             ],
             [
              0.3333333333333333,
              "#9c179e"
             ],
             [
              0.4444444444444444,
              "#bd3786"
             ],
             [
              0.5555555555555556,
              "#d8576b"
             ],
             [
              0.6666666666666666,
              "#ed7953"
             ],
             [
              0.7777777777777778,
              "#fb9f3a"
             ],
             [
              0.8888888888888888,
              "#fdca26"
             ],
             [
              1,
              "#f0f921"
             ]
            ],
            "type": "histogram2d"
           }
          ],
          "histogram2dcontour": [
           {
            "colorbar": {
             "outlinewidth": 0,
             "ticks": ""
            },
            "colorscale": [
             [
              0,
              "#0d0887"
             ],
             [
              0.1111111111111111,
              "#46039f"
             ],
             [
              0.2222222222222222,
              "#7201a8"
             ],
             [
              0.3333333333333333,
              "#9c179e"
             ],
             [
              0.4444444444444444,
              "#bd3786"
             ],
             [
              0.5555555555555556,
              "#d8576b"
             ],
             [
              0.6666666666666666,
              "#ed7953"
             ],
             [
              0.7777777777777778,
              "#fb9f3a"
             ],
             [
              0.8888888888888888,
              "#fdca26"
             ],
             [
              1,
              "#f0f921"
             ]
            ],
            "type": "histogram2dcontour"
           }
          ],
          "mesh3d": [
           {
            "colorbar": {
             "outlinewidth": 0,
             "ticks": ""
            },
            "type": "mesh3d"
           }
          ],
          "parcoords": [
           {
            "line": {
             "colorbar": {
              "outlinewidth": 0,
              "ticks": ""
             }
            },
            "type": "parcoords"
           }
          ],
          "pie": [
           {
            "automargin": true,
            "type": "pie"
           }
          ],
          "scatter": [
           {
            "fillpattern": {
             "fillmode": "overlay",
             "size": 10,
             "solidity": 0.2
            },
            "type": "scatter"
           }
          ],
          "scatter3d": [
           {
            "line": {
             "colorbar": {
              "outlinewidth": 0,
              "ticks": ""
             }
            },
            "marker": {
             "colorbar": {
              "outlinewidth": 0,
              "ticks": ""
             }
            },
            "type": "scatter3d"
           }
          ],
          "scattercarpet": [
           {
            "marker": {
             "colorbar": {
              "outlinewidth": 0,
              "ticks": ""
             }
            },
            "type": "scattercarpet"
           }
          ],
          "scattergeo": [
           {
            "marker": {
             "colorbar": {
              "outlinewidth": 0,
              "ticks": ""
             }
            },
            "type": "scattergeo"
           }
          ],
          "scattergl": [
           {
            "marker": {
             "colorbar": {
              "outlinewidth": 0,
              "ticks": ""
             }
            },
            "type": "scattergl"
           }
          ],
          "scattermapbox": [
           {
            "marker": {
             "colorbar": {
              "outlinewidth": 0,
              "ticks": ""
             }
            },
            "type": "scattermapbox"
           }
          ],
          "scatterpolar": [
           {
            "marker": {
             "colorbar": {
              "outlinewidth": 0,
              "ticks": ""
             }
            },
            "type": "scatterpolar"
           }
          ],
          "scatterpolargl": [
           {
            "marker": {
             "colorbar": {
              "outlinewidth": 0,
              "ticks": ""
             }
            },
            "type": "scatterpolargl"
           }
          ],
          "scatterternary": [
           {
            "marker": {
             "colorbar": {
              "outlinewidth": 0,
              "ticks": ""
             }
            },
            "type": "scatterternary"
           }
          ],
          "surface": [
           {
            "colorbar": {
             "outlinewidth": 0,
             "ticks": ""
            },
            "colorscale": [
             [
              0,
              "#0d0887"
             ],
             [
              0.1111111111111111,
              "#46039f"
             ],
             [
              0.2222222222222222,
              "#7201a8"
             ],
             [
              0.3333333333333333,
              "#9c179e"
             ],
             [
              0.4444444444444444,
              "#bd3786"
             ],
             [
              0.5555555555555556,
              "#d8576b"
             ],
             [
              0.6666666666666666,
              "#ed7953"
             ],
             [
              0.7777777777777778,
              "#fb9f3a"
             ],
             [
              0.8888888888888888,
              "#fdca26"
             ],
             [
              1,
              "#f0f921"
             ]
            ],
            "type": "surface"
           }
          ],
          "table": [
           {
            "cells": {
             "fill": {
              "color": "#EBF0F8"
             },
             "line": {
              "color": "white"
             }
            },
            "header": {
             "fill": {
              "color": "#C8D4E3"
             },
             "line": {
              "color": "white"
             }
            },
            "type": "table"
           }
          ]
         },
         "layout": {
          "annotationdefaults": {
           "arrowcolor": "#2a3f5f",
           "arrowhead": 0,
           "arrowwidth": 1
          },
          "autotypenumbers": "strict",
          "coloraxis": {
           "colorbar": {
            "outlinewidth": 0,
            "ticks": ""
           }
          },
          "colorscale": {
           "diverging": [
            [
             0,
             "#8e0152"
            ],
            [
             0.1,
             "#c51b7d"
            ],
            [
             0.2,
             "#de77ae"
            ],
            [
             0.3,
             "#f1b6da"
            ],
            [
             0.4,
             "#fde0ef"
            ],
            [
             0.5,
             "#f7f7f7"
            ],
            [
             0.6,
             "#e6f5d0"
            ],
            [
             0.7,
             "#b8e186"
            ],
            [
             0.8,
             "#7fbc41"
            ],
            [
             0.9,
             "#4d9221"
            ],
            [
             1,
             "#276419"
            ]
           ],
           "sequential": [
            [
             0,
             "#0d0887"
            ],
            [
             0.1111111111111111,
             "#46039f"
            ],
            [
             0.2222222222222222,
             "#7201a8"
            ],
            [
             0.3333333333333333,
             "#9c179e"
            ],
            [
             0.4444444444444444,
             "#bd3786"
            ],
            [
             0.5555555555555556,
             "#d8576b"
            ],
            [
             0.6666666666666666,
             "#ed7953"
            ],
            [
             0.7777777777777778,
             "#fb9f3a"
            ],
            [
             0.8888888888888888,
             "#fdca26"
            ],
            [
             1,
             "#f0f921"
            ]
           ],
           "sequentialminus": [
            [
             0,
             "#0d0887"
            ],
            [
             0.1111111111111111,
             "#46039f"
            ],
            [
             0.2222222222222222,
             "#7201a8"
            ],
            [
             0.3333333333333333,
             "#9c179e"
            ],
            [
             0.4444444444444444,
             "#bd3786"
            ],
            [
             0.5555555555555556,
             "#d8576b"
            ],
            [
             0.6666666666666666,
             "#ed7953"
            ],
            [
             0.7777777777777778,
             "#fb9f3a"
            ],
            [
             0.8888888888888888,
             "#fdca26"
            ],
            [
             1,
             "#f0f921"
            ]
           ]
          },
          "colorway": [
           "#636efa",
           "#EF553B",
           "#00cc96",
           "#ab63fa",
           "#FFA15A",
           "#19d3f3",
           "#FF6692",
           "#B6E880",
           "#FF97FF",
           "#FECB52"
          ],
          "font": {
           "color": "#2a3f5f"
          },
          "geo": {
           "bgcolor": "white",
           "lakecolor": "white",
           "landcolor": "#E5ECF6",
           "showlakes": true,
           "showland": true,
           "subunitcolor": "white"
          },
          "hoverlabel": {
           "align": "left"
          },
          "hovermode": "closest",
          "mapbox": {
           "style": "light"
          },
          "paper_bgcolor": "white",
          "plot_bgcolor": "#E5ECF6",
          "polar": {
           "angularaxis": {
            "gridcolor": "white",
            "linecolor": "white",
            "ticks": ""
           },
           "bgcolor": "#E5ECF6",
           "radialaxis": {
            "gridcolor": "white",
            "linecolor": "white",
            "ticks": ""
           }
          },
          "scene": {
           "xaxis": {
            "backgroundcolor": "#E5ECF6",
            "gridcolor": "white",
            "gridwidth": 2,
            "linecolor": "white",
            "showbackground": true,
            "ticks": "",
            "zerolinecolor": "white"
           },
           "yaxis": {
            "backgroundcolor": "#E5ECF6",
            "gridcolor": "white",
            "gridwidth": 2,
            "linecolor": "white",
            "showbackground": true,
            "ticks": "",
            "zerolinecolor": "white"
           },
           "zaxis": {
            "backgroundcolor": "#E5ECF6",
            "gridcolor": "white",
            "gridwidth": 2,
            "linecolor": "white",
            "showbackground": true,
            "ticks": "",
            "zerolinecolor": "white"
           }
          },
          "shapedefaults": {
           "line": {
            "color": "#2a3f5f"
           }
          },
          "ternary": {
           "aaxis": {
            "gridcolor": "white",
            "linecolor": "white",
            "ticks": ""
           },
           "baxis": {
            "gridcolor": "white",
            "linecolor": "white",
            "ticks": ""
           },
           "bgcolor": "#E5ECF6",
           "caxis": {
            "gridcolor": "white",
            "linecolor": "white",
            "ticks": ""
           }
          },
          "title": {
           "x": 0.05
          },
          "xaxis": {
           "automargin": true,
           "gridcolor": "white",
           "linecolor": "white",
           "ticks": "",
           "title": {
            "standoff": 15
           },
           "zerolinecolor": "white",
           "zerolinewidth": 2
          },
          "yaxis": {
           "automargin": true,
           "gridcolor": "white",
           "linecolor": "white",
           "ticks": "",
           "title": {
            "standoff": 15
           },
           "zerolinecolor": "white",
           "zerolinewidth": 2
          }
         }
        },
        "title": {
         "text": "Training and val loss across epochs"
        },
        "xaxis": {
         "title": {
          "text": "epochs"
         }
        },
        "yaxis": {
         "title": {
          "text": "Cross Entropy"
         }
        }
       }
      }
     },
     "metadata": {},
     "output_type": "display_data"
    }
   ],
   "source": [
    "fig = go.Figure(data=[\n",
    "                      go.Scatter(\n",
    "                          y=model_2[\"loss\"],\n",
    "                          name=\"Training loss\",\n",
    "                          mode=\"lines\",\n",
    "                          marker=dict(\n",
    "                              color=color_chart[0]\n",
    "                          )),\n",
    "                      go.Scatter(\n",
    "                          y=model_2[\"val_loss\"],\n",
    "                          name=\"Validation loss\",\n",
    "                          mode=\"lines\",\n",
    "                          marker=dict(\n",
    "                              color=color_chart[1]\n",
    "                          ))\n",
    "])\n",
    "fig.update_layout(\n",
    "    title='Training and val loss across epochs',\n",
    "    xaxis_title='epochs',\n",
    "    yaxis_title='Cross Entropy'    \n",
    ")\n",
    "fig.show()"
   ]
  },
  {
   "cell_type": "code",
   "execution_count": 31,
   "metadata": {},
   "outputs": [],
   "source": [
    "imgs, targets = next(iter(df_generator))\n",
    "\n",
    "model_3 = tf.keras.Sequential(\n",
    "    [\n",
    "    Conv2D(\n",
    "        filters = 32,\n",
    "        kernel_size = (3,3),\n",
    "        strides = 1,\n",
    "        padding = \"same\",\n",
    "        activation = \"relu\",\n",
    "        input_shape = (imgs.shape[1], imgs.shape[2], imgs.shape[3]) \n",
    "     ),\n",
    "    MaxPool2D(\n",
    "        pool_size=2, \n",
    "        strides=2),\n",
    "    Conv2D(\n",
    "        filters = 64,\n",
    "        kernel_size = (3,3),\n",
    "        strides = 1,\n",
    "        padding = \"same\",\n",
    "        activation = \"relu\",\n",
    "        input_shape = (imgs.shape[1], imgs.shape[2], imgs.shape[3]) \n",
    "     ),\n",
    "    MaxPool2D(\n",
    "        pool_size=2, \n",
    "        strides=2),\n",
    "    Conv2D(\n",
    "        filters = 128,\n",
    "        kernel_size = (3,3),\n",
    "        strides = 1,\n",
    "        padding = \"same\",\n",
    "        activation = \"relu\",\n",
    "        input_shape = (imgs.shape[1], imgs.shape[2], imgs.shape[3]) \n",
    "     ),\n",
    "    MaxPool2D(\n",
    "        pool_size=2, \n",
    "        strides=2),\n",
    "    tf.keras.layers.Flatten(), \n",
    "    tf.keras.layers.Dense(10, activation=\"softmax\")\n",
    "    ]\n",
    ")"
   ]
  },
  {
   "cell_type": "code",
   "execution_count": 32,
   "metadata": {},
   "outputs": [
    {
     "name": "stdout",
     "output_type": "stream",
     "text": [
      "Model: \"sequential_2\"\n",
      "_________________________________________________________________\n",
      " Layer (type)                Output Shape              Param #   \n",
      "=================================================================\n",
      " conv2d_3 (Conv2D)           (None, 32, 32, 32)        896       \n",
      "                                                                 \n",
      " max_pooling2d_3 (MaxPooling  (None, 16, 16, 32)       0         \n",
      " 2D)                                                             \n",
      "                                                                 \n",
      " conv2d_4 (Conv2D)           (None, 16, 16, 64)        18496     \n",
      "                                                                 \n",
      " max_pooling2d_4 (MaxPooling  (None, 8, 8, 64)         0         \n",
      " 2D)                                                             \n",
      "                                                                 \n",
      " conv2d_5 (Conv2D)           (None, 8, 8, 128)         73856     \n",
      "                                                                 \n",
      " max_pooling2d_5 (MaxPooling  (None, 4, 4, 128)        0         \n",
      " 2D)                                                             \n",
      "                                                                 \n",
      " flatten_2 (Flatten)         (None, 2048)              0         \n",
      "                                                                 \n",
      " dense_2 (Dense)             (None, 10)                20490     \n",
      "                                                                 \n",
      "=================================================================\n",
      "Total params: 113,738\n",
      "Trainable params: 113,738\n",
      "Non-trainable params: 0\n",
      "_________________________________________________________________\n"
     ]
    }
   ],
   "source": [
    "model_3.summary()"
   ]
  },
  {
   "cell_type": "code",
   "execution_count": 33,
   "metadata": {},
   "outputs": [],
   "source": [
    "model_3.compile(optimizer=Adam(),\n",
    "              loss=SparseCategoricalCrossentropy(),\n",
    "              metrics=[SparseCategoricalAccuracy()])"
   ]
  },
  {
   "cell_type": "code",
   "execution_count": 34,
   "metadata": {},
   "outputs": [
    {
     "name": "stdout",
     "output_type": "stream",
     "text": [
      "Epoch 1/50\n",
      "547/547 [==============================] - 24s 44ms/step - loss: 1.5526 - sparse_categorical_accuracy: 0.4379 - val_loss: 1.3006 - val_sparse_categorical_accuracy: 0.5341\n",
      "Epoch 2/50\n",
      "547/547 [==============================] - 24s 43ms/step - loss: 1.1664 - sparse_categorical_accuracy: 0.5920 - val_loss: 1.0647 - val_sparse_categorical_accuracy: 0.6231\n",
      "Epoch 3/50\n",
      "547/547 [==============================] - 24s 43ms/step - loss: 0.9987 - sparse_categorical_accuracy: 0.6517 - val_loss: 0.9874 - val_sparse_categorical_accuracy: 0.6566\n",
      "Epoch 4/50\n",
      "547/547 [==============================] - 24s 43ms/step - loss: 0.8896 - sparse_categorical_accuracy: 0.6898 - val_loss: 0.9876 - val_sparse_categorical_accuracy: 0.6581\n",
      "Epoch 5/50\n",
      "547/547 [==============================] - 24s 43ms/step - loss: 0.8041 - sparse_categorical_accuracy: 0.7207 - val_loss: 0.9799 - val_sparse_categorical_accuracy: 0.6593\n",
      "Epoch 6/50\n",
      "547/547 [==============================] - 24s 44ms/step - loss: 0.7380 - sparse_categorical_accuracy: 0.7463 - val_loss: 0.8713 - val_sparse_categorical_accuracy: 0.7017\n",
      "Epoch 7/50\n",
      "547/547 [==============================] - 24s 44ms/step - loss: 0.6704 - sparse_categorical_accuracy: 0.7685 - val_loss: 0.8543 - val_sparse_categorical_accuracy: 0.7084\n",
      "Epoch 8/50\n",
      "547/547 [==============================] - 24s 44ms/step - loss: 0.6212 - sparse_categorical_accuracy: 0.7885 - val_loss: 0.8680 - val_sparse_categorical_accuracy: 0.7077\n",
      "Epoch 9/50\n",
      "547/547 [==============================] - 24s 44ms/step - loss: 0.5637 - sparse_categorical_accuracy: 0.8056 - val_loss: 0.8266 - val_sparse_categorical_accuracy: 0.7208\n",
      "Epoch 10/50\n",
      "547/547 [==============================] - 24s 44ms/step - loss: 0.5135 - sparse_categorical_accuracy: 0.8233 - val_loss: 0.8254 - val_sparse_categorical_accuracy: 0.7245\n",
      "Epoch 11/50\n",
      "547/547 [==============================] - 24s 44ms/step - loss: 0.4724 - sparse_categorical_accuracy: 0.8370 - val_loss: 0.8516 - val_sparse_categorical_accuracy: 0.7206\n",
      "Epoch 12/50\n",
      "547/547 [==============================] - 24s 44ms/step - loss: 0.4172 - sparse_categorical_accuracy: 0.8546 - val_loss: 0.9089 - val_sparse_categorical_accuracy: 0.7167\n",
      "Epoch 13/50\n",
      "547/547 [==============================] - 24s 44ms/step - loss: 0.3824 - sparse_categorical_accuracy: 0.8659 - val_loss: 0.9728 - val_sparse_categorical_accuracy: 0.7104\n",
      "Epoch 14/50\n",
      "547/547 [==============================] - 24s 44ms/step - loss: 0.3378 - sparse_categorical_accuracy: 0.8813 - val_loss: 0.9697 - val_sparse_categorical_accuracy: 0.7165\n",
      "Epoch 15/50\n",
      "547/547 [==============================] - 24s 44ms/step - loss: 0.3048 - sparse_categorical_accuracy: 0.8923 - val_loss: 1.0101 - val_sparse_categorical_accuracy: 0.7195\n",
      "Epoch 16/50\n",
      "547/547 [==============================] - 24s 44ms/step - loss: 0.2724 - sparse_categorical_accuracy: 0.9042 - val_loss: 1.0819 - val_sparse_categorical_accuracy: 0.7074\n",
      "Epoch 17/50\n",
      "547/547 [==============================] - 24s 44ms/step - loss: 0.2400 - sparse_categorical_accuracy: 0.9171 - val_loss: 1.1748 - val_sparse_categorical_accuracy: 0.7010\n",
      "Epoch 18/50\n",
      "547/547 [==============================] - 24s 44ms/step - loss: 0.2185 - sparse_categorical_accuracy: 0.9243 - val_loss: 1.1789 - val_sparse_categorical_accuracy: 0.7110\n",
      "Epoch 19/50\n",
      "547/547 [==============================] - 24s 43ms/step - loss: 0.1868 - sparse_categorical_accuracy: 0.9355 - val_loss: 1.2225 - val_sparse_categorical_accuracy: 0.7183\n",
      "Epoch 20/50\n",
      "547/547 [==============================] - 25s 46ms/step - loss: 0.1722 - sparse_categorical_accuracy: 0.9390 - val_loss: 1.2965 - val_sparse_categorical_accuracy: 0.7185\n",
      "Epoch 21/50\n",
      "547/547 [==============================] - 25s 45ms/step - loss: 0.1571 - sparse_categorical_accuracy: 0.9447 - val_loss: 1.3867 - val_sparse_categorical_accuracy: 0.7103\n",
      "Epoch 22/50\n",
      "547/547 [==============================] - 25s 46ms/step - loss: 0.1273 - sparse_categorical_accuracy: 0.9563 - val_loss: 1.5264 - val_sparse_categorical_accuracy: 0.7008\n",
      "Epoch 23/50\n",
      "547/547 [==============================] - 25s 46ms/step - loss: 0.1130 - sparse_categorical_accuracy: 0.9615 - val_loss: 1.4906 - val_sparse_categorical_accuracy: 0.7082\n",
      "Epoch 24/50\n",
      "547/547 [==============================] - 25s 46ms/step - loss: 0.1171 - sparse_categorical_accuracy: 0.9591 - val_loss: 1.6573 - val_sparse_categorical_accuracy: 0.6983\n",
      "Epoch 25/50\n",
      "547/547 [==============================] - 25s 46ms/step - loss: 0.1114 - sparse_categorical_accuracy: 0.9607 - val_loss: 1.6890 - val_sparse_categorical_accuracy: 0.6919\n",
      "Epoch 26/50\n",
      "547/547 [==============================] - 26s 47ms/step - loss: 0.1008 - sparse_categorical_accuracy: 0.9646 - val_loss: 1.6739 - val_sparse_categorical_accuracy: 0.7060\n",
      "Epoch 27/50\n",
      "547/547 [==============================] - 26s 47ms/step - loss: 0.1012 - sparse_categorical_accuracy: 0.9635 - val_loss: 1.7365 - val_sparse_categorical_accuracy: 0.7069\n",
      "Epoch 28/50\n",
      "547/547 [==============================] - 26s 47ms/step - loss: 0.0910 - sparse_categorical_accuracy: 0.9682 - val_loss: 1.8184 - val_sparse_categorical_accuracy: 0.7021\n",
      "Epoch 29/50\n",
      "547/547 [==============================] - 25s 45ms/step - loss: 0.0814 - sparse_categorical_accuracy: 0.9723 - val_loss: 1.9461 - val_sparse_categorical_accuracy: 0.6961\n",
      "Epoch 30/50\n",
      "547/547 [==============================] - 25s 46ms/step - loss: 0.0851 - sparse_categorical_accuracy: 0.9698 - val_loss: 1.9918 - val_sparse_categorical_accuracy: 0.6958\n",
      "Epoch 31/50\n",
      "547/547 [==============================] - 25s 46ms/step - loss: 0.0840 - sparse_categorical_accuracy: 0.9705 - val_loss: 1.9176 - val_sparse_categorical_accuracy: 0.7041\n",
      "Epoch 32/50\n",
      "547/547 [==============================] - 25s 46ms/step - loss: 0.0665 - sparse_categorical_accuracy: 0.9765 - val_loss: 2.1040 - val_sparse_categorical_accuracy: 0.6985\n",
      "Epoch 33/50\n",
      "547/547 [==============================] - 25s 45ms/step - loss: 0.0814 - sparse_categorical_accuracy: 0.9720 - val_loss: 2.0534 - val_sparse_categorical_accuracy: 0.7015\n",
      "Epoch 34/50\n",
      "547/547 [==============================] - 25s 46ms/step - loss: 0.0751 - sparse_categorical_accuracy: 0.9726 - val_loss: 2.1618 - val_sparse_categorical_accuracy: 0.6957\n",
      "Epoch 35/50\n",
      "547/547 [==============================] - 25s 46ms/step - loss: 0.0763 - sparse_categorical_accuracy: 0.9727 - val_loss: 2.1277 - val_sparse_categorical_accuracy: 0.7040\n",
      "Epoch 36/50\n",
      "547/547 [==============================] - 25s 45ms/step - loss: 0.0613 - sparse_categorical_accuracy: 0.9787 - val_loss: 2.2174 - val_sparse_categorical_accuracy: 0.7037\n",
      "Epoch 37/50\n",
      "547/547 [==============================] - 25s 46ms/step - loss: 0.0738 - sparse_categorical_accuracy: 0.9750 - val_loss: 2.2914 - val_sparse_categorical_accuracy: 0.6904\n",
      "Epoch 38/50\n",
      "547/547 [==============================] - 25s 46ms/step - loss: 0.0900 - sparse_categorical_accuracy: 0.9695 - val_loss: 2.3541 - val_sparse_categorical_accuracy: 0.6917\n",
      "Epoch 39/50\n",
      "547/547 [==============================] - 25s 47ms/step - loss: 0.0480 - sparse_categorical_accuracy: 0.9823 - val_loss: 2.2868 - val_sparse_categorical_accuracy: 0.7067\n",
      "Epoch 40/50\n",
      "547/547 [==============================] - 25s 46ms/step - loss: 0.0521 - sparse_categorical_accuracy: 0.9821 - val_loss: 2.5399 - val_sparse_categorical_accuracy: 0.6991\n",
      "Epoch 41/50\n",
      "547/547 [==============================] - 26s 47ms/step - loss: 0.0877 - sparse_categorical_accuracy: 0.9696 - val_loss: 2.3426 - val_sparse_categorical_accuracy: 0.7005\n",
      "Epoch 42/50\n",
      "547/547 [==============================] - 25s 46ms/step - loss: 0.0594 - sparse_categorical_accuracy: 0.9798 - val_loss: 2.3720 - val_sparse_categorical_accuracy: 0.7003\n",
      "Epoch 43/50\n",
      "547/547 [==============================] - 25s 45ms/step - loss: 0.0596 - sparse_categorical_accuracy: 0.9790 - val_loss: 2.4162 - val_sparse_categorical_accuracy: 0.7031\n",
      "Epoch 44/50\n",
      "547/547 [==============================] - 24s 44ms/step - loss: 0.0741 - sparse_categorical_accuracy: 0.9746 - val_loss: 2.5029 - val_sparse_categorical_accuracy: 0.7022\n",
      "Epoch 45/50\n",
      "547/547 [==============================] - 24s 43ms/step - loss: 0.0592 - sparse_categorical_accuracy: 0.9803 - val_loss: 2.5950 - val_sparse_categorical_accuracy: 0.6966\n",
      "Epoch 46/50\n",
      "547/547 [==============================] - 23s 43ms/step - loss: 0.0699 - sparse_categorical_accuracy: 0.9765 - val_loss: 2.5709 - val_sparse_categorical_accuracy: 0.6970\n",
      "Epoch 47/50\n",
      "547/547 [==============================] - 23s 43ms/step - loss: 0.0720 - sparse_categorical_accuracy: 0.9755 - val_loss: 2.6413 - val_sparse_categorical_accuracy: 0.6943\n",
      "Epoch 48/50\n",
      "547/547 [==============================] - 23s 43ms/step - loss: 0.0538 - sparse_categorical_accuracy: 0.9824 - val_loss: 2.6344 - val_sparse_categorical_accuracy: 0.7026\n",
      "Epoch 49/50\n",
      "547/547 [==============================] - 24s 43ms/step - loss: 0.0532 - sparse_categorical_accuracy: 0.9821 - val_loss: 2.7457 - val_sparse_categorical_accuracy: 0.7010\n",
      "Epoch 50/50\n",
      "547/547 [==============================] - 23s 43ms/step - loss: 0.0611 - sparse_categorical_accuracy: 0.9796 - val_loss: 2.7067 - val_sparse_categorical_accuracy: 0.7066\n"
     ]
    },
    {
     "data": {
      "text/plain": [
       "<keras.callbacks.History at 0x1744e48dd50>"
      ]
     },
     "execution_count": 34,
     "metadata": {},
     "output_type": "execute_result"
    }
   ],
   "source": [
    "model_3.fit(df_generator, epochs = 50, validation_data=validation_generator)"
   ]
  },
  {
   "cell_type": "code",
   "execution_count": 35,
   "metadata": {},
   "outputs": [],
   "source": [
    "model_3.save(\"cifar10model3conv.h5\")"
   ]
  },
  {
   "cell_type": "code",
   "execution_count": 36,
   "metadata": {},
   "outputs": [],
   "source": [
    "history_dict = model_3.history.history\n",
    "json.dump(history_dict, open(\"cifar10model3convhistory.json\", 'w'))"
   ]
  },
  {
   "cell_type": "code",
   "execution_count": 37,
   "metadata": {},
   "outputs": [],
   "source": [
    "model_3 = pd.read_json(\"cifar10model3convhistory.json\")"
   ]
  },
  {
   "cell_type": "code",
   "execution_count": 38,
   "metadata": {},
   "outputs": [
    {
     "data": {
      "application/vnd.plotly.v1+json": {
       "config": {
        "plotlyServerURL": "https://plot.ly"
       },
       "data": [
        {
         "marker": {
          "color": "#4B9AC7"
         },
         "mode": "lines",
         "name": "Training loss",
         "type": "scatter",
         "y": [
          1.552554130554199,
          1.166361570358276,
          0.9986779093742371,
          0.889628410339355,
          0.804118335247039,
          0.7380322813987731,
          0.67044323682785,
          0.6212030649185181,
          0.563688993453979,
          0.513493776321411,
          0.47241696715354903,
          0.417183011770248,
          0.382383495569229,
          0.337847501039505,
          0.30477827787399203,
          0.272356539964675,
          0.24000047147274,
          0.21847075223922702,
          0.18679054081439903,
          0.172151610255241,
          0.157059922814369,
          0.127254575490951,
          0.11302742362022401,
          0.11708867549896201,
          0.11144156754016801,
          0.10080555081367401,
          0.10118176788091601,
          0.09096361696720101,
          0.081373661756515,
          0.08514904975891101,
          0.08399735391139901,
          0.066524505615234,
          0.08136653155088401,
          0.07511700689792601,
          0.07631386816501601,
          0.06126607209444,
          0.07376562803983601,
          0.08996135741472201,
          0.047957040369510005,
          0.052109144628047006,
          0.08773471415042801,
          0.059409264475107006,
          0.059580691158771,
          0.07405830174684501,
          0.059241861104965,
          0.069942168891429,
          0.072038166224956,
          0.05376236885786,
          0.053249251097440005,
          0.061082400381565004
         ]
        },
        {
         "marker": {
          "color": "#4BE8E0"
         },
         "mode": "lines",
         "name": "Validation loss",
         "type": "scatter",
         "y": [
          1.300594449043274,
          1.064704418182373,
          0.9874147772789,
          0.9876241087913511,
          0.979946434497833,
          0.8712717294692991,
          0.854283154010772,
          0.867990791797637,
          0.8266469240188591,
          0.825422227382659,
          0.8515933156013481,
          0.9088611602783201,
          0.972846984863281,
          0.9696907997131341,
          1.01012098789215,
          1.08194625377655,
          1.174806475639343,
          1.178865790367126,
          1.222512364387512,
          1.296501278877258,
          1.38668692111969,
          1.526401162147522,
          1.490641355514526,
          1.657275438308715,
          1.6890320777893062,
          1.673909187316894,
          1.736475467681884,
          1.818385958671569,
          1.946130394935608,
          1.9918320178985591,
          1.917579770088195,
          2.103965997695923,
          2.05337381362915,
          2.161760807037353,
          2.127725839614868,
          2.217426061630249,
          2.291387796401977,
          2.354055166244507,
          2.286842823028564,
          2.539886951446533,
          2.342578649520874,
          2.372016668319702,
          2.416209936141967,
          2.502872705459594,
          2.595045804977417,
          2.570850849151611,
          2.64130687713623,
          2.634363174438476,
          2.745660781860351,
          2.706746578216552
         ]
        }
       ],
       "layout": {
        "template": {
         "data": {
          "bar": [
           {
            "error_x": {
             "color": "#2a3f5f"
            },
            "error_y": {
             "color": "#2a3f5f"
            },
            "marker": {
             "line": {
              "color": "#E5ECF6",
              "width": 0.5
             },
             "pattern": {
              "fillmode": "overlay",
              "size": 10,
              "solidity": 0.2
             }
            },
            "type": "bar"
           }
          ],
          "barpolar": [
           {
            "marker": {
             "line": {
              "color": "#E5ECF6",
              "width": 0.5
             },
             "pattern": {
              "fillmode": "overlay",
              "size": 10,
              "solidity": 0.2
             }
            },
            "type": "barpolar"
           }
          ],
          "carpet": [
           {
            "aaxis": {
             "endlinecolor": "#2a3f5f",
             "gridcolor": "white",
             "linecolor": "white",
             "minorgridcolor": "white",
             "startlinecolor": "#2a3f5f"
            },
            "baxis": {
             "endlinecolor": "#2a3f5f",
             "gridcolor": "white",
             "linecolor": "white",
             "minorgridcolor": "white",
             "startlinecolor": "#2a3f5f"
            },
            "type": "carpet"
           }
          ],
          "choropleth": [
           {
            "colorbar": {
             "outlinewidth": 0,
             "ticks": ""
            },
            "type": "choropleth"
           }
          ],
          "contour": [
           {
            "colorbar": {
             "outlinewidth": 0,
             "ticks": ""
            },
            "colorscale": [
             [
              0,
              "#0d0887"
             ],
             [
              0.1111111111111111,
              "#46039f"
             ],
             [
              0.2222222222222222,
              "#7201a8"
             ],
             [
              0.3333333333333333,
              "#9c179e"
             ],
             [
              0.4444444444444444,
              "#bd3786"
             ],
             [
              0.5555555555555556,
              "#d8576b"
             ],
             [
              0.6666666666666666,
              "#ed7953"
             ],
             [
              0.7777777777777778,
              "#fb9f3a"
             ],
             [
              0.8888888888888888,
              "#fdca26"
             ],
             [
              1,
              "#f0f921"
             ]
            ],
            "type": "contour"
           }
          ],
          "contourcarpet": [
           {
            "colorbar": {
             "outlinewidth": 0,
             "ticks": ""
            },
            "type": "contourcarpet"
           }
          ],
          "heatmap": [
           {
            "colorbar": {
             "outlinewidth": 0,
             "ticks": ""
            },
            "colorscale": [
             [
              0,
              "#0d0887"
             ],
             [
              0.1111111111111111,
              "#46039f"
             ],
             [
              0.2222222222222222,
              "#7201a8"
             ],
             [
              0.3333333333333333,
              "#9c179e"
             ],
             [
              0.4444444444444444,
              "#bd3786"
             ],
             [
              0.5555555555555556,
              "#d8576b"
             ],
             [
              0.6666666666666666,
              "#ed7953"
             ],
             [
              0.7777777777777778,
              "#fb9f3a"
             ],
             [
              0.8888888888888888,
              "#fdca26"
             ],
             [
              1,
              "#f0f921"
             ]
            ],
            "type": "heatmap"
           }
          ],
          "heatmapgl": [
           {
            "colorbar": {
             "outlinewidth": 0,
             "ticks": ""
            },
            "colorscale": [
             [
              0,
              "#0d0887"
             ],
             [
              0.1111111111111111,
              "#46039f"
             ],
             [
              0.2222222222222222,
              "#7201a8"
             ],
             [
              0.3333333333333333,
              "#9c179e"
             ],
             [
              0.4444444444444444,
              "#bd3786"
             ],
             [
              0.5555555555555556,
              "#d8576b"
             ],
             [
              0.6666666666666666,
              "#ed7953"
             ],
             [
              0.7777777777777778,
              "#fb9f3a"
             ],
             [
              0.8888888888888888,
              "#fdca26"
             ],
             [
              1,
              "#f0f921"
             ]
            ],
            "type": "heatmapgl"
           }
          ],
          "histogram": [
           {
            "marker": {
             "pattern": {
              "fillmode": "overlay",
              "size": 10,
              "solidity": 0.2
             }
            },
            "type": "histogram"
           }
          ],
          "histogram2d": [
           {
            "colorbar": {
             "outlinewidth": 0,
             "ticks": ""
            },
            "colorscale": [
             [
              0,
              "#0d0887"
             ],
             [
              0.1111111111111111,
              "#46039f"
             ],
             [
              0.2222222222222222,
              "#7201a8"
             ],
             [
              0.3333333333333333,
              "#9c179e"
             ],
             [
              0.4444444444444444,
              "#bd3786"
             ],
             [
              0.5555555555555556,
              "#d8576b"
             ],
             [
              0.6666666666666666,
              "#ed7953"
             ],
             [
              0.7777777777777778,
              "#fb9f3a"
             ],
             [
              0.8888888888888888,
              "#fdca26"
             ],
             [
              1,
              "#f0f921"
             ]
            ],
            "type": "histogram2d"
           }
          ],
          "histogram2dcontour": [
           {
            "colorbar": {
             "outlinewidth": 0,
             "ticks": ""
            },
            "colorscale": [
             [
              0,
              "#0d0887"
             ],
             [
              0.1111111111111111,
              "#46039f"
             ],
             [
              0.2222222222222222,
              "#7201a8"
             ],
             [
              0.3333333333333333,
              "#9c179e"
             ],
             [
              0.4444444444444444,
              "#bd3786"
             ],
             [
              0.5555555555555556,
              "#d8576b"
             ],
             [
              0.6666666666666666,
              "#ed7953"
             ],
             [
              0.7777777777777778,
              "#fb9f3a"
             ],
             [
              0.8888888888888888,
              "#fdca26"
             ],
             [
              1,
              "#f0f921"
             ]
            ],
            "type": "histogram2dcontour"
           }
          ],
          "mesh3d": [
           {
            "colorbar": {
             "outlinewidth": 0,
             "ticks": ""
            },
            "type": "mesh3d"
           }
          ],
          "parcoords": [
           {
            "line": {
             "colorbar": {
              "outlinewidth": 0,
              "ticks": ""
             }
            },
            "type": "parcoords"
           }
          ],
          "pie": [
           {
            "automargin": true,
            "type": "pie"
           }
          ],
          "scatter": [
           {
            "fillpattern": {
             "fillmode": "overlay",
             "size": 10,
             "solidity": 0.2
            },
            "type": "scatter"
           }
          ],
          "scatter3d": [
           {
            "line": {
             "colorbar": {
              "outlinewidth": 0,
              "ticks": ""
             }
            },
            "marker": {
             "colorbar": {
              "outlinewidth": 0,
              "ticks": ""
             }
            },
            "type": "scatter3d"
           }
          ],
          "scattercarpet": [
           {
            "marker": {
             "colorbar": {
              "outlinewidth": 0,
              "ticks": ""
             }
            },
            "type": "scattercarpet"
           }
          ],
          "scattergeo": [
           {
            "marker": {
             "colorbar": {
              "outlinewidth": 0,
              "ticks": ""
             }
            },
            "type": "scattergeo"
           }
          ],
          "scattergl": [
           {
            "marker": {
             "colorbar": {
              "outlinewidth": 0,
              "ticks": ""
             }
            },
            "type": "scattergl"
           }
          ],
          "scattermapbox": [
           {
            "marker": {
             "colorbar": {
              "outlinewidth": 0,
              "ticks": ""
             }
            },
            "type": "scattermapbox"
           }
          ],
          "scatterpolar": [
           {
            "marker": {
             "colorbar": {
              "outlinewidth": 0,
              "ticks": ""
             }
            },
            "type": "scatterpolar"
           }
          ],
          "scatterpolargl": [
           {
            "marker": {
             "colorbar": {
              "outlinewidth": 0,
              "ticks": ""
             }
            },
            "type": "scatterpolargl"
           }
          ],
          "scatterternary": [
           {
            "marker": {
             "colorbar": {
              "outlinewidth": 0,
              "ticks": ""
             }
            },
            "type": "scatterternary"
           }
          ],
          "surface": [
           {
            "colorbar": {
             "outlinewidth": 0,
             "ticks": ""
            },
            "colorscale": [
             [
              0,
              "#0d0887"
             ],
             [
              0.1111111111111111,
              "#46039f"
             ],
             [
              0.2222222222222222,
              "#7201a8"
             ],
             [
              0.3333333333333333,
              "#9c179e"
             ],
             [
              0.4444444444444444,
              "#bd3786"
             ],
             [
              0.5555555555555556,
              "#d8576b"
             ],
             [
              0.6666666666666666,
              "#ed7953"
             ],
             [
              0.7777777777777778,
              "#fb9f3a"
             ],
             [
              0.8888888888888888,
              "#fdca26"
             ],
             [
              1,
              "#f0f921"
             ]
            ],
            "type": "surface"
           }
          ],
          "table": [
           {
            "cells": {
             "fill": {
              "color": "#EBF0F8"
             },
             "line": {
              "color": "white"
             }
            },
            "header": {
             "fill": {
              "color": "#C8D4E3"
             },
             "line": {
              "color": "white"
             }
            },
            "type": "table"
           }
          ]
         },
         "layout": {
          "annotationdefaults": {
           "arrowcolor": "#2a3f5f",
           "arrowhead": 0,
           "arrowwidth": 1
          },
          "autotypenumbers": "strict",
          "coloraxis": {
           "colorbar": {
            "outlinewidth": 0,
            "ticks": ""
           }
          },
          "colorscale": {
           "diverging": [
            [
             0,
             "#8e0152"
            ],
            [
             0.1,
             "#c51b7d"
            ],
            [
             0.2,
             "#de77ae"
            ],
            [
             0.3,
             "#f1b6da"
            ],
            [
             0.4,
             "#fde0ef"
            ],
            [
             0.5,
             "#f7f7f7"
            ],
            [
             0.6,
             "#e6f5d0"
            ],
            [
             0.7,
             "#b8e186"
            ],
            [
             0.8,
             "#7fbc41"
            ],
            [
             0.9,
             "#4d9221"
            ],
            [
             1,
             "#276419"
            ]
           ],
           "sequential": [
            [
             0,
             "#0d0887"
            ],
            [
             0.1111111111111111,
             "#46039f"
            ],
            [
             0.2222222222222222,
             "#7201a8"
            ],
            [
             0.3333333333333333,
             "#9c179e"
            ],
            [
             0.4444444444444444,
             "#bd3786"
            ],
            [
             0.5555555555555556,
             "#d8576b"
            ],
            [
             0.6666666666666666,
             "#ed7953"
            ],
            [
             0.7777777777777778,
             "#fb9f3a"
            ],
            [
             0.8888888888888888,
             "#fdca26"
            ],
            [
             1,
             "#f0f921"
            ]
           ],
           "sequentialminus": [
            [
             0,
             "#0d0887"
            ],
            [
             0.1111111111111111,
             "#46039f"
            ],
            [
             0.2222222222222222,
             "#7201a8"
            ],
            [
             0.3333333333333333,
             "#9c179e"
            ],
            [
             0.4444444444444444,
             "#bd3786"
            ],
            [
             0.5555555555555556,
             "#d8576b"
            ],
            [
             0.6666666666666666,
             "#ed7953"
            ],
            [
             0.7777777777777778,
             "#fb9f3a"
            ],
            [
             0.8888888888888888,
             "#fdca26"
            ],
            [
             1,
             "#f0f921"
            ]
           ]
          },
          "colorway": [
           "#636efa",
           "#EF553B",
           "#00cc96",
           "#ab63fa",
           "#FFA15A",
           "#19d3f3",
           "#FF6692",
           "#B6E880",
           "#FF97FF",
           "#FECB52"
          ],
          "font": {
           "color": "#2a3f5f"
          },
          "geo": {
           "bgcolor": "white",
           "lakecolor": "white",
           "landcolor": "#E5ECF6",
           "showlakes": true,
           "showland": true,
           "subunitcolor": "white"
          },
          "hoverlabel": {
           "align": "left"
          },
          "hovermode": "closest",
          "mapbox": {
           "style": "light"
          },
          "paper_bgcolor": "white",
          "plot_bgcolor": "#E5ECF6",
          "polar": {
           "angularaxis": {
            "gridcolor": "white",
            "linecolor": "white",
            "ticks": ""
           },
           "bgcolor": "#E5ECF6",
           "radialaxis": {
            "gridcolor": "white",
            "linecolor": "white",
            "ticks": ""
           }
          },
          "scene": {
           "xaxis": {
            "backgroundcolor": "#E5ECF6",
            "gridcolor": "white",
            "gridwidth": 2,
            "linecolor": "white",
            "showbackground": true,
            "ticks": "",
            "zerolinecolor": "white"
           },
           "yaxis": {
            "backgroundcolor": "#E5ECF6",
            "gridcolor": "white",
            "gridwidth": 2,
            "linecolor": "white",
            "showbackground": true,
            "ticks": "",
            "zerolinecolor": "white"
           },
           "zaxis": {
            "backgroundcolor": "#E5ECF6",
            "gridcolor": "white",
            "gridwidth": 2,
            "linecolor": "white",
            "showbackground": true,
            "ticks": "",
            "zerolinecolor": "white"
           }
          },
          "shapedefaults": {
           "line": {
            "color": "#2a3f5f"
           }
          },
          "ternary": {
           "aaxis": {
            "gridcolor": "white",
            "linecolor": "white",
            "ticks": ""
           },
           "baxis": {
            "gridcolor": "white",
            "linecolor": "white",
            "ticks": ""
           },
           "bgcolor": "#E5ECF6",
           "caxis": {
            "gridcolor": "white",
            "linecolor": "white",
            "ticks": ""
           }
          },
          "title": {
           "x": 0.05
          },
          "xaxis": {
           "automargin": true,
           "gridcolor": "white",
           "linecolor": "white",
           "ticks": "",
           "title": {
            "standoff": 15
           },
           "zerolinecolor": "white",
           "zerolinewidth": 2
          },
          "yaxis": {
           "automargin": true,
           "gridcolor": "white",
           "linecolor": "white",
           "ticks": "",
           "title": {
            "standoff": 15
           },
           "zerolinecolor": "white",
           "zerolinewidth": 2
          }
         }
        },
        "title": {
         "text": "Training and val loss across epochs"
        },
        "xaxis": {
         "title": {
          "text": "epochs"
         }
        },
        "yaxis": {
         "title": {
          "text": "Cross Entropy"
         }
        }
       }
      }
     },
     "metadata": {},
     "output_type": "display_data"
    }
   ],
   "source": [
    "fig = go.Figure(data=[\n",
    "                      go.Scatter(\n",
    "                          y=model_3[\"loss\"],\n",
    "                          name=\"Training loss\",\n",
    "                          mode=\"lines\",\n",
    "                          marker=dict(\n",
    "                              color=color_chart[0]\n",
    "                          )),\n",
    "                      go.Scatter(\n",
    "                          y=model_3[\"val_loss\"],\n",
    "                          name=\"Validation loss\",\n",
    "                          mode=\"lines\",\n",
    "                          marker=dict(\n",
    "                              color=color_chart[1]\n",
    "                          ))\n",
    "])\n",
    "fig.update_layout(\n",
    "    title='Training and val loss across epochs',\n",
    "    xaxis_title='epochs',\n",
    "    yaxis_title='Cross Entropy'    \n",
    ")\n",
    "fig.show()"
   ]
  },
  {
   "cell_type": "code",
   "execution_count": 39,
   "metadata": {},
   "outputs": [],
   "source": [
    "imgs, targets = next(iter(df_generator))\n",
    "\n",
    "model_4 = tf.keras.Sequential(\n",
    "    [\n",
    "    Conv2D(\n",
    "        filters = 64,\n",
    "        kernel_size = (3,3),\n",
    "        strides = 1,\n",
    "        padding = \"same\",\n",
    "        activation = \"relu\",\n",
    "        input_shape = (imgs.shape[1], imgs.shape[2], imgs.shape[3]) \n",
    "     ),\n",
    "    MaxPool2D(\n",
    "        pool_size=2, \n",
    "        strides=2),\n",
    "    Conv2D(\n",
    "        filters = 128,\n",
    "        kernel_size = (3,3),\n",
    "        strides = 1,\n",
    "        padding = \"same\",\n",
    "        activation = \"relu\",\n",
    "        input_shape = (imgs.shape[1], imgs.shape[2], imgs.shape[3]) \n",
    "     ),\n",
    "    MaxPool2D(\n",
    "        pool_size=2, \n",
    "        strides=2),\n",
    "    Conv2D(\n",
    "        filters = 256,\n",
    "        kernel_size = (3,3),\n",
    "        strides = 1,\n",
    "        padding = \"same\",\n",
    "        activation = \"relu\",\n",
    "        input_shape = (imgs.shape[1], imgs.shape[2], imgs.shape[3]) \n",
    "     ),\n",
    "    MaxPool2D(\n",
    "        pool_size=2, \n",
    "        strides=2),\n",
    "    tf.keras.layers.Flatten(), \n",
    "    tf.keras.layers.Dense(10, activation=\"softmax\")\n",
    "    ]\n",
    ")"
   ]
  },
  {
   "cell_type": "code",
   "execution_count": 40,
   "metadata": {},
   "outputs": [
    {
     "name": "stdout",
     "output_type": "stream",
     "text": [
      "Model: \"sequential_3\"\n",
      "_________________________________________________________________\n",
      " Layer (type)                Output Shape              Param #   \n",
      "=================================================================\n",
      " conv2d_6 (Conv2D)           (None, 32, 32, 64)        1792      \n",
      "                                                                 \n",
      " max_pooling2d_6 (MaxPooling  (None, 16, 16, 64)       0         \n",
      " 2D)                                                             \n",
      "                                                                 \n",
      " conv2d_7 (Conv2D)           (None, 16, 16, 128)       73856     \n",
      "                                                                 \n",
      " max_pooling2d_7 (MaxPooling  (None, 8, 8, 128)        0         \n",
      " 2D)                                                             \n",
      "                                                                 \n",
      " conv2d_8 (Conv2D)           (None, 8, 8, 256)         295168    \n",
      "                                                                 \n",
      " max_pooling2d_8 (MaxPooling  (None, 4, 4, 256)        0         \n",
      " 2D)                                                             \n",
      "                                                                 \n",
      " flatten_3 (Flatten)         (None, 4096)              0         \n",
      "                                                                 \n",
      " dense_3 (Dense)             (None, 10)                40970     \n",
      "                                                                 \n",
      "=================================================================\n",
      "Total params: 411,786\n",
      "Trainable params: 411,786\n",
      "Non-trainable params: 0\n",
      "_________________________________________________________________\n"
     ]
    }
   ],
   "source": [
    "model_4.summary()"
   ]
  },
  {
   "cell_type": "code",
   "execution_count": 41,
   "metadata": {},
   "outputs": [],
   "source": [
    "model_4.compile(optimizer=Adam(),\n",
    "              loss=SparseCategoricalCrossentropy(),\n",
    "              metrics=[SparseCategoricalAccuracy()])"
   ]
  },
  {
   "cell_type": "code",
   "execution_count": 42,
   "metadata": {},
   "outputs": [
    {
     "name": "stdout",
     "output_type": "stream",
     "text": [
      "Epoch 1/50\n",
      "547/547 [==============================] - 44s 80ms/step - loss: 1.5231 - sparse_categorical_accuracy: 0.4529 - val_loss: 1.2171 - val_sparse_categorical_accuracy: 0.5673\n",
      "Epoch 2/50\n",
      "547/547 [==============================] - 43s 79ms/step - loss: 1.0582 - sparse_categorical_accuracy: 0.6303 - val_loss: 0.9777 - val_sparse_categorical_accuracy: 0.6617\n",
      "Epoch 3/50\n",
      "547/547 [==============================] - 44s 80ms/step - loss: 0.8566 - sparse_categorical_accuracy: 0.7047 - val_loss: 0.8583 - val_sparse_categorical_accuracy: 0.6977\n",
      "Epoch 4/50\n",
      "547/547 [==============================] - 44s 81ms/step - loss: 0.7336 - sparse_categorical_accuracy: 0.7475 - val_loss: 0.8502 - val_sparse_categorical_accuracy: 0.7049\n",
      "Epoch 5/50\n",
      "547/547 [==============================] - 44s 81ms/step - loss: 0.6338 - sparse_categorical_accuracy: 0.7812 - val_loss: 0.8131 - val_sparse_categorical_accuracy: 0.7217\n",
      "Epoch 6/50\n",
      "547/547 [==============================] - 44s 80ms/step - loss: 0.5386 - sparse_categorical_accuracy: 0.8155 - val_loss: 0.7987 - val_sparse_categorical_accuracy: 0.7317\n",
      "Epoch 7/50\n",
      "547/547 [==============================] - 43s 79ms/step - loss: 0.4465 - sparse_categorical_accuracy: 0.8473 - val_loss: 0.8479 - val_sparse_categorical_accuracy: 0.7217\n",
      "Epoch 8/50\n",
      "547/547 [==============================] - 43s 79ms/step - loss: 0.3711 - sparse_categorical_accuracy: 0.8718 - val_loss: 0.8458 - val_sparse_categorical_accuracy: 0.7411\n",
      "Epoch 9/50\n",
      "547/547 [==============================] - 43s 79ms/step - loss: 0.2931 - sparse_categorical_accuracy: 0.8996 - val_loss: 0.9912 - val_sparse_categorical_accuracy: 0.7225\n",
      "Epoch 10/50\n",
      "547/547 [==============================] - 44s 80ms/step - loss: 0.2420 - sparse_categorical_accuracy: 0.9178 - val_loss: 1.0148 - val_sparse_categorical_accuracy: 0.7239\n",
      "Epoch 11/50\n",
      "547/547 [==============================] - 44s 81ms/step - loss: 0.1847 - sparse_categorical_accuracy: 0.9360 - val_loss: 1.0570 - val_sparse_categorical_accuracy: 0.7319\n",
      "Epoch 12/50\n",
      "547/547 [==============================] - 44s 81ms/step - loss: 0.1489 - sparse_categorical_accuracy: 0.9473 - val_loss: 1.1795 - val_sparse_categorical_accuracy: 0.7279\n",
      "Epoch 13/50\n",
      "547/547 [==============================] - 44s 81ms/step - loss: 0.1236 - sparse_categorical_accuracy: 0.9574 - val_loss: 1.2774 - val_sparse_categorical_accuracy: 0.7119\n",
      "Epoch 14/50\n",
      "547/547 [==============================] - 45s 82ms/step - loss: 0.1185 - sparse_categorical_accuracy: 0.9577 - val_loss: 1.3239 - val_sparse_categorical_accuracy: 0.7211\n",
      "Epoch 15/50\n",
      "547/547 [==============================] - 44s 81ms/step - loss: 0.0973 - sparse_categorical_accuracy: 0.9671 - val_loss: 1.4409 - val_sparse_categorical_accuracy: 0.7231\n",
      "Epoch 16/50\n",
      "547/547 [==============================] - 44s 81ms/step - loss: 0.0947 - sparse_categorical_accuracy: 0.9665 - val_loss: 1.4655 - val_sparse_categorical_accuracy: 0.7200\n",
      "Epoch 17/50\n",
      "547/547 [==============================] - 44s 81ms/step - loss: 0.0813 - sparse_categorical_accuracy: 0.9724 - val_loss: 1.5973 - val_sparse_categorical_accuracy: 0.7179\n",
      "Epoch 18/50\n",
      "547/547 [==============================] - 44s 81ms/step - loss: 0.0912 - sparse_categorical_accuracy: 0.9683 - val_loss: 1.5839 - val_sparse_categorical_accuracy: 0.7269\n",
      "Epoch 19/50\n",
      "547/547 [==============================] - 44s 81ms/step - loss: 0.0701 - sparse_categorical_accuracy: 0.9773 - val_loss: 1.6799 - val_sparse_categorical_accuracy: 0.7156\n",
      "Epoch 20/50\n",
      "547/547 [==============================] - 44s 81ms/step - loss: 0.0750 - sparse_categorical_accuracy: 0.9747 - val_loss: 1.7209 - val_sparse_categorical_accuracy: 0.7091\n",
      "Epoch 21/50\n",
      "547/547 [==============================] - 44s 81ms/step - loss: 0.0752 - sparse_categorical_accuracy: 0.9733 - val_loss: 1.8147 - val_sparse_categorical_accuracy: 0.7215\n",
      "Epoch 22/50\n",
      "547/547 [==============================] - 44s 81ms/step - loss: 0.0598 - sparse_categorical_accuracy: 0.9792 - val_loss: 1.8727 - val_sparse_categorical_accuracy: 0.7200\n",
      "Epoch 23/50\n",
      "547/547 [==============================] - 44s 81ms/step - loss: 0.0783 - sparse_categorical_accuracy: 0.9735 - val_loss: 1.9070 - val_sparse_categorical_accuracy: 0.7182\n",
      "Epoch 24/50\n",
      "547/547 [==============================] - 44s 81ms/step - loss: 0.0720 - sparse_categorical_accuracy: 0.9746 - val_loss: 1.9219 - val_sparse_categorical_accuracy: 0.7221\n",
      "Epoch 25/50\n",
      "547/547 [==============================] - 44s 81ms/step - loss: 0.0603 - sparse_categorical_accuracy: 0.9795 - val_loss: 1.9551 - val_sparse_categorical_accuracy: 0.7201\n",
      "Epoch 26/50\n",
      "547/547 [==============================] - 44s 81ms/step - loss: 0.0563 - sparse_categorical_accuracy: 0.9805 - val_loss: 1.9878 - val_sparse_categorical_accuracy: 0.7198\n",
      "Epoch 27/50\n",
      "547/547 [==============================] - 44s 81ms/step - loss: 0.0754 - sparse_categorical_accuracy: 0.9734 - val_loss: 2.0615 - val_sparse_categorical_accuracy: 0.7128\n",
      "Epoch 28/50\n",
      "547/547 [==============================] - 44s 81ms/step - loss: 0.0584 - sparse_categorical_accuracy: 0.9806 - val_loss: 2.1391 - val_sparse_categorical_accuracy: 0.7172\n",
      "Epoch 29/50\n",
      "547/547 [==============================] - 44s 81ms/step - loss: 0.0514 - sparse_categorical_accuracy: 0.9825 - val_loss: 2.2188 - val_sparse_categorical_accuracy: 0.7187\n",
      "Epoch 30/50\n",
      "547/547 [==============================] - 44s 81ms/step - loss: 0.0518 - sparse_categorical_accuracy: 0.9822 - val_loss: 2.3346 - val_sparse_categorical_accuracy: 0.7134\n",
      "Epoch 31/50\n",
      "547/547 [==============================] - 44s 81ms/step - loss: 0.0749 - sparse_categorical_accuracy: 0.9763 - val_loss: 2.1799 - val_sparse_categorical_accuracy: 0.7262\n",
      "Epoch 32/50\n",
      "547/547 [==============================] - 44s 81ms/step - loss: 0.0584 - sparse_categorical_accuracy: 0.9805 - val_loss: 2.2867 - val_sparse_categorical_accuracy: 0.7182\n",
      "Epoch 33/50\n",
      "547/547 [==============================] - 44s 81ms/step - loss: 0.0594 - sparse_categorical_accuracy: 0.9799 - val_loss: 2.5036 - val_sparse_categorical_accuracy: 0.7137\n",
      "Epoch 34/50\n",
      "547/547 [==============================] - 44s 81ms/step - loss: 0.0524 - sparse_categorical_accuracy: 0.9827 - val_loss: 2.4180 - val_sparse_categorical_accuracy: 0.7175\n",
      "Epoch 35/50\n",
      "547/547 [==============================] - 44s 81ms/step - loss: 0.0507 - sparse_categorical_accuracy: 0.9836 - val_loss: 2.2862 - val_sparse_categorical_accuracy: 0.7220\n",
      "Epoch 36/50\n",
      "547/547 [==============================] - 44s 81ms/step - loss: 0.0406 - sparse_categorical_accuracy: 0.9869 - val_loss: 2.6411 - val_sparse_categorical_accuracy: 0.7141\n",
      "Epoch 37/50\n",
      "547/547 [==============================] - 44s 81ms/step - loss: 0.0623 - sparse_categorical_accuracy: 0.9800 - val_loss: 2.3514 - val_sparse_categorical_accuracy: 0.7195\n",
      "Epoch 38/50\n",
      "547/547 [==============================] - 45s 82ms/step - loss: 0.0512 - sparse_categorical_accuracy: 0.9826 - val_loss: 2.5296 - val_sparse_categorical_accuracy: 0.7229\n",
      "Epoch 39/50\n",
      "547/547 [==============================] - 44s 81ms/step - loss: 0.0450 - sparse_categorical_accuracy: 0.9853 - val_loss: 2.5084 - val_sparse_categorical_accuracy: 0.7213\n",
      "Epoch 40/50\n",
      "547/547 [==============================] - 44s 81ms/step - loss: 0.0537 - sparse_categorical_accuracy: 0.9831 - val_loss: 2.5555 - val_sparse_categorical_accuracy: 0.7260\n",
      "Epoch 41/50\n",
      "547/547 [==============================] - 44s 81ms/step - loss: 0.0611 - sparse_categorical_accuracy: 0.9807 - val_loss: 2.6649 - val_sparse_categorical_accuracy: 0.7191\n",
      "Epoch 42/50\n",
      "547/547 [==============================] - 44s 80ms/step - loss: 0.0507 - sparse_categorical_accuracy: 0.9843 - val_loss: 2.6840 - val_sparse_categorical_accuracy: 0.7055\n",
      "Epoch 43/50\n",
      "547/547 [==============================] - 44s 81ms/step - loss: 0.0569 - sparse_categorical_accuracy: 0.9819 - val_loss: 2.7032 - val_sparse_categorical_accuracy: 0.7129\n",
      "Epoch 44/50\n",
      "547/547 [==============================] - 45s 82ms/step - loss: 0.0474 - sparse_categorical_accuracy: 0.9850 - val_loss: 2.7946 - val_sparse_categorical_accuracy: 0.7196\n",
      "Epoch 45/50\n",
      "547/547 [==============================] - 44s 81ms/step - loss: 0.0636 - sparse_categorical_accuracy: 0.9806 - val_loss: 2.9307 - val_sparse_categorical_accuracy: 0.7146\n",
      "Epoch 46/50\n",
      "547/547 [==============================] - 44s 81ms/step - loss: 0.0442 - sparse_categorical_accuracy: 0.9856 - val_loss: 2.8548 - val_sparse_categorical_accuracy: 0.7169\n",
      "Epoch 47/50\n",
      "547/547 [==============================] - 44s 81ms/step - loss: 0.0291 - sparse_categorical_accuracy: 0.9905 - val_loss: 2.8637 - val_sparse_categorical_accuracy: 0.7143\n",
      "Epoch 48/50\n",
      "547/547 [==============================] - 44s 81ms/step - loss: 0.0399 - sparse_categorical_accuracy: 0.9863 - val_loss: 2.9707 - val_sparse_categorical_accuracy: 0.7081\n",
      "Epoch 49/50\n",
      "547/547 [==============================] - 44s 80ms/step - loss: 0.0591 - sparse_categorical_accuracy: 0.9828 - val_loss: 2.9545 - val_sparse_categorical_accuracy: 0.7149\n",
      "Epoch 50/50\n",
      "547/547 [==============================] - 44s 81ms/step - loss: 0.0608 - sparse_categorical_accuracy: 0.9814 - val_loss: 2.9143 - val_sparse_categorical_accuracy: 0.7137\n"
     ]
    },
    {
     "data": {
      "text/plain": [
       "<keras.callbacks.History at 0x17454aeb6d0>"
      ]
     },
     "execution_count": 42,
     "metadata": {},
     "output_type": "execute_result"
    }
   ],
   "source": [
    "model_4.fit(df_generator, epochs = 50, validation_data=validation_generator)"
   ]
  },
  {
   "cell_type": "code",
   "execution_count": 43,
   "metadata": {},
   "outputs": [],
   "source": [
    "model_4.save(\"cifar10model4conv.h5\")"
   ]
  },
  {
   "cell_type": "code",
   "execution_count": 44,
   "metadata": {},
   "outputs": [],
   "source": [
    "history_dict = model_4.history.history\n",
    "json.dump(history_dict, open(\"cifar10model4convhistory.json\", 'w'))"
   ]
  },
  {
   "cell_type": "code",
   "execution_count": 45,
   "metadata": {},
   "outputs": [],
   "source": [
    "model_4 = pd.read_json(\"cifar10model4convhistory.json\")"
   ]
  },
  {
   "cell_type": "code",
   "execution_count": 46,
   "metadata": {},
   "outputs": [
    {
     "data": {
      "application/vnd.plotly.v1+json": {
       "config": {
        "plotlyServerURL": "https://plot.ly"
       },
       "data": [
        {
         "marker": {
          "color": "#4B9AC7"
         },
         "mode": "lines",
         "name": "Training loss",
         "type": "scatter",
         "y": [
          1.523111939430236,
          1.058176159858703,
          0.8566127419471741,
          0.733581185340881,
          0.6337535381317131,
          0.5385622382164,
          0.44647201895713806,
          0.371075481176376,
          0.293140083551406,
          0.24203038215637201,
          0.18469728529453203,
          0.148922994732856,
          0.12359216064214701,
          0.11852921545505501,
          0.09734916687011701,
          0.09473992139101,
          0.08126180619001301,
          0.091194793581962,
          0.070070728659629,
          0.07498253881931301,
          0.07520896196365301,
          0.059846993535757,
          0.078269816935062,
          0.07203438878059301,
          0.060289312154054,
          0.056337043642997006,
          0.075384199619293,
          0.058407079428434004,
          0.051356259733438006,
          0.051833201199769,
          0.074929304420948,
          0.058374423533678006,
          0.059433978050947,
          0.052429508417844,
          0.05072396248579,
          0.040627785027027005,
          0.062252707779407,
          0.051184285432100005,
          0.044970352202653004,
          0.05368753522634501,
          0.061079457402229004,
          0.050737340003252,
          0.056889038532972,
          0.047422654926776005,
          0.06363907456398,
          0.044248647987842005,
          0.029085123911499002,
          0.039921078830957,
          0.05910526588559101,
          0.060758050531148
         ]
        },
        {
         "marker": {
          "color": "#4BE8E0"
         },
         "mode": "lines",
         "name": "Validation loss",
         "type": "scatter",
         "y": [
          1.217100620269775,
          0.977707386016845,
          0.8582575917243951,
          0.8502063155174251,
          0.813079595565795,
          0.7986545562744141,
          0.8478840589523311,
          0.845801711082458,
          0.9911592602729791,
          1.014791488647461,
          1.056968927383422,
          1.179453492164611,
          1.277417778968811,
          1.323932886123657,
          1.44086492061615,
          1.465498924255371,
          1.597261428833007,
          1.5839025974273682,
          1.679907917976379,
          1.72088623046875,
          1.8146986961364742,
          1.872709989547729,
          1.906965255737304,
          1.9219374656677242,
          1.9551323652267452,
          1.987829327583313,
          2.061517715454101,
          2.1390573978424072,
          2.218831300735473,
          2.334555625915527,
          2.179881811141967,
          2.28665542602539,
          2.503594160079956,
          2.418006181716919,
          2.2861874103546143,
          2.641101121902466,
          2.351448774337768,
          2.529645681381225,
          2.508410930633545,
          2.555461883544922,
          2.6649386882781982,
          2.683993816375732,
          2.703157901763916,
          2.794583082199096,
          2.93070912361145,
          2.854757785797119,
          2.863656044006347,
          2.9706552028656,
          2.954470157623291,
          2.9143471717834473
         ]
        }
       ],
       "layout": {
        "template": {
         "data": {
          "bar": [
           {
            "error_x": {
             "color": "#2a3f5f"
            },
            "error_y": {
             "color": "#2a3f5f"
            },
            "marker": {
             "line": {
              "color": "#E5ECF6",
              "width": 0.5
             },
             "pattern": {
              "fillmode": "overlay",
              "size": 10,
              "solidity": 0.2
             }
            },
            "type": "bar"
           }
          ],
          "barpolar": [
           {
            "marker": {
             "line": {
              "color": "#E5ECF6",
              "width": 0.5
             },
             "pattern": {
              "fillmode": "overlay",
              "size": 10,
              "solidity": 0.2
             }
            },
            "type": "barpolar"
           }
          ],
          "carpet": [
           {
            "aaxis": {
             "endlinecolor": "#2a3f5f",
             "gridcolor": "white",
             "linecolor": "white",
             "minorgridcolor": "white",
             "startlinecolor": "#2a3f5f"
            },
            "baxis": {
             "endlinecolor": "#2a3f5f",
             "gridcolor": "white",
             "linecolor": "white",
             "minorgridcolor": "white",
             "startlinecolor": "#2a3f5f"
            },
            "type": "carpet"
           }
          ],
          "choropleth": [
           {
            "colorbar": {
             "outlinewidth": 0,
             "ticks": ""
            },
            "type": "choropleth"
           }
          ],
          "contour": [
           {
            "colorbar": {
             "outlinewidth": 0,
             "ticks": ""
            },
            "colorscale": [
             [
              0,
              "#0d0887"
             ],
             [
              0.1111111111111111,
              "#46039f"
             ],
             [
              0.2222222222222222,
              "#7201a8"
             ],
             [
              0.3333333333333333,
              "#9c179e"
             ],
             [
              0.4444444444444444,
              "#bd3786"
             ],
             [
              0.5555555555555556,
              "#d8576b"
             ],
             [
              0.6666666666666666,
              "#ed7953"
             ],
             [
              0.7777777777777778,
              "#fb9f3a"
             ],
             [
              0.8888888888888888,
              "#fdca26"
             ],
             [
              1,
              "#f0f921"
             ]
            ],
            "type": "contour"
           }
          ],
          "contourcarpet": [
           {
            "colorbar": {
             "outlinewidth": 0,
             "ticks": ""
            },
            "type": "contourcarpet"
           }
          ],
          "heatmap": [
           {
            "colorbar": {
             "outlinewidth": 0,
             "ticks": ""
            },
            "colorscale": [
             [
              0,
              "#0d0887"
             ],
             [
              0.1111111111111111,
              "#46039f"
             ],
             [
              0.2222222222222222,
              "#7201a8"
             ],
             [
              0.3333333333333333,
              "#9c179e"
             ],
             [
              0.4444444444444444,
              "#bd3786"
             ],
             [
              0.5555555555555556,
              "#d8576b"
             ],
             [
              0.6666666666666666,
              "#ed7953"
             ],
             [
              0.7777777777777778,
              "#fb9f3a"
             ],
             [
              0.8888888888888888,
              "#fdca26"
             ],
             [
              1,
              "#f0f921"
             ]
            ],
            "type": "heatmap"
           }
          ],
          "heatmapgl": [
           {
            "colorbar": {
             "outlinewidth": 0,
             "ticks": ""
            },
            "colorscale": [
             [
              0,
              "#0d0887"
             ],
             [
              0.1111111111111111,
              "#46039f"
             ],
             [
              0.2222222222222222,
              "#7201a8"
             ],
             [
              0.3333333333333333,
              "#9c179e"
             ],
             [
              0.4444444444444444,
              "#bd3786"
             ],
             [
              0.5555555555555556,
              "#d8576b"
             ],
             [
              0.6666666666666666,
              "#ed7953"
             ],
             [
              0.7777777777777778,
              "#fb9f3a"
             ],
             [
              0.8888888888888888,
              "#fdca26"
             ],
             [
              1,
              "#f0f921"
             ]
            ],
            "type": "heatmapgl"
           }
          ],
          "histogram": [
           {
            "marker": {
             "pattern": {
              "fillmode": "overlay",
              "size": 10,
              "solidity": 0.2
             }
            },
            "type": "histogram"
           }
          ],
          "histogram2d": [
           {
            "colorbar": {
             "outlinewidth": 0,
             "ticks": ""
            },
            "colorscale": [
             [
              0,
              "#0d0887"
             ],
             [
              0.1111111111111111,
              "#46039f"
             ],
             [
              0.2222222222222222,
              "#7201a8"
             ],
             [
              0.3333333333333333,
              "#9c179e"
             ],
             [
              0.4444444444444444,
              "#bd3786"
             ],
             [
              0.5555555555555556,
              "#d8576b"
             ],
             [
              0.6666666666666666,
              "#ed7953"
             ],
             [
              0.7777777777777778,
              "#fb9f3a"
             ],
             [
              0.8888888888888888,
              "#fdca26"
             ],
             [
              1,
              "#f0f921"
             ]
            ],
            "type": "histogram2d"
           }
          ],
          "histogram2dcontour": [
           {
            "colorbar": {
             "outlinewidth": 0,
             "ticks": ""
            },
            "colorscale": [
             [
              0,
              "#0d0887"
             ],
             [
              0.1111111111111111,
              "#46039f"
             ],
             [
              0.2222222222222222,
              "#7201a8"
             ],
             [
              0.3333333333333333,
              "#9c179e"
             ],
             [
              0.4444444444444444,
              "#bd3786"
             ],
             [
              0.5555555555555556,
              "#d8576b"
             ],
             [
              0.6666666666666666,
              "#ed7953"
             ],
             [
              0.7777777777777778,
              "#fb9f3a"
             ],
             [
              0.8888888888888888,
              "#fdca26"
             ],
             [
              1,
              "#f0f921"
             ]
            ],
            "type": "histogram2dcontour"
           }
          ],
          "mesh3d": [
           {
            "colorbar": {
             "outlinewidth": 0,
             "ticks": ""
            },
            "type": "mesh3d"
           }
          ],
          "parcoords": [
           {
            "line": {
             "colorbar": {
              "outlinewidth": 0,
              "ticks": ""
             }
            },
            "type": "parcoords"
           }
          ],
          "pie": [
           {
            "automargin": true,
            "type": "pie"
           }
          ],
          "scatter": [
           {
            "fillpattern": {
             "fillmode": "overlay",
             "size": 10,
             "solidity": 0.2
            },
            "type": "scatter"
           }
          ],
          "scatter3d": [
           {
            "line": {
             "colorbar": {
              "outlinewidth": 0,
              "ticks": ""
             }
            },
            "marker": {
             "colorbar": {
              "outlinewidth": 0,
              "ticks": ""
             }
            },
            "type": "scatter3d"
           }
          ],
          "scattercarpet": [
           {
            "marker": {
             "colorbar": {
              "outlinewidth": 0,
              "ticks": ""
             }
            },
            "type": "scattercarpet"
           }
          ],
          "scattergeo": [
           {
            "marker": {
             "colorbar": {
              "outlinewidth": 0,
              "ticks": ""
             }
            },
            "type": "scattergeo"
           }
          ],
          "scattergl": [
           {
            "marker": {
             "colorbar": {
              "outlinewidth": 0,
              "ticks": ""
             }
            },
            "type": "scattergl"
           }
          ],
          "scattermapbox": [
           {
            "marker": {
             "colorbar": {
              "outlinewidth": 0,
              "ticks": ""
             }
            },
            "type": "scattermapbox"
           }
          ],
          "scatterpolar": [
           {
            "marker": {
             "colorbar": {
              "outlinewidth": 0,
              "ticks": ""
             }
            },
            "type": "scatterpolar"
           }
          ],
          "scatterpolargl": [
           {
            "marker": {
             "colorbar": {
              "outlinewidth": 0,
              "ticks": ""
             }
            },
            "type": "scatterpolargl"
           }
          ],
          "scatterternary": [
           {
            "marker": {
             "colorbar": {
              "outlinewidth": 0,
              "ticks": ""
             }
            },
            "type": "scatterternary"
           }
          ],
          "surface": [
           {
            "colorbar": {
             "outlinewidth": 0,
             "ticks": ""
            },
            "colorscale": [
             [
              0,
              "#0d0887"
             ],
             [
              0.1111111111111111,
              "#46039f"
             ],
             [
              0.2222222222222222,
              "#7201a8"
             ],
             [
              0.3333333333333333,
              "#9c179e"
             ],
             [
              0.4444444444444444,
              "#bd3786"
             ],
             [
              0.5555555555555556,
              "#d8576b"
             ],
             [
              0.6666666666666666,
              "#ed7953"
             ],
             [
              0.7777777777777778,
              "#fb9f3a"
             ],
             [
              0.8888888888888888,
              "#fdca26"
             ],
             [
              1,
              "#f0f921"
             ]
            ],
            "type": "surface"
           }
          ],
          "table": [
           {
            "cells": {
             "fill": {
              "color": "#EBF0F8"
             },
             "line": {
              "color": "white"
             }
            },
            "header": {
             "fill": {
              "color": "#C8D4E3"
             },
             "line": {
              "color": "white"
             }
            },
            "type": "table"
           }
          ]
         },
         "layout": {
          "annotationdefaults": {
           "arrowcolor": "#2a3f5f",
           "arrowhead": 0,
           "arrowwidth": 1
          },
          "autotypenumbers": "strict",
          "coloraxis": {
           "colorbar": {
            "outlinewidth": 0,
            "ticks": ""
           }
          },
          "colorscale": {
           "diverging": [
            [
             0,
             "#8e0152"
            ],
            [
             0.1,
             "#c51b7d"
            ],
            [
             0.2,
             "#de77ae"
            ],
            [
             0.3,
             "#f1b6da"
            ],
            [
             0.4,
             "#fde0ef"
            ],
            [
             0.5,
             "#f7f7f7"
            ],
            [
             0.6,
             "#e6f5d0"
            ],
            [
             0.7,
             "#b8e186"
            ],
            [
             0.8,
             "#7fbc41"
            ],
            [
             0.9,
             "#4d9221"
            ],
            [
             1,
             "#276419"
            ]
           ],
           "sequential": [
            [
             0,
             "#0d0887"
            ],
            [
             0.1111111111111111,
             "#46039f"
            ],
            [
             0.2222222222222222,
             "#7201a8"
            ],
            [
             0.3333333333333333,
             "#9c179e"
            ],
            [
             0.4444444444444444,
             "#bd3786"
            ],
            [
             0.5555555555555556,
             "#d8576b"
            ],
            [
             0.6666666666666666,
             "#ed7953"
            ],
            [
             0.7777777777777778,
             "#fb9f3a"
            ],
            [
             0.8888888888888888,
             "#fdca26"
            ],
            [
             1,
             "#f0f921"
            ]
           ],
           "sequentialminus": [
            [
             0,
             "#0d0887"
            ],
            [
             0.1111111111111111,
             "#46039f"
            ],
            [
             0.2222222222222222,
             "#7201a8"
            ],
            [
             0.3333333333333333,
             "#9c179e"
            ],
            [
             0.4444444444444444,
             "#bd3786"
            ],
            [
             0.5555555555555556,
             "#d8576b"
            ],
            [
             0.6666666666666666,
             "#ed7953"
            ],
            [
             0.7777777777777778,
             "#fb9f3a"
            ],
            [
             0.8888888888888888,
             "#fdca26"
            ],
            [
             1,
             "#f0f921"
            ]
           ]
          },
          "colorway": [
           "#636efa",
           "#EF553B",
           "#00cc96",
           "#ab63fa",
           "#FFA15A",
           "#19d3f3",
           "#FF6692",
           "#B6E880",
           "#FF97FF",
           "#FECB52"
          ],
          "font": {
           "color": "#2a3f5f"
          },
          "geo": {
           "bgcolor": "white",
           "lakecolor": "white",
           "landcolor": "#E5ECF6",
           "showlakes": true,
           "showland": true,
           "subunitcolor": "white"
          },
          "hoverlabel": {
           "align": "left"
          },
          "hovermode": "closest",
          "mapbox": {
           "style": "light"
          },
          "paper_bgcolor": "white",
          "plot_bgcolor": "#E5ECF6",
          "polar": {
           "angularaxis": {
            "gridcolor": "white",
            "linecolor": "white",
            "ticks": ""
           },
           "bgcolor": "#E5ECF6",
           "radialaxis": {
            "gridcolor": "white",
            "linecolor": "white",
            "ticks": ""
           }
          },
          "scene": {
           "xaxis": {
            "backgroundcolor": "#E5ECF6",
            "gridcolor": "white",
            "gridwidth": 2,
            "linecolor": "white",
            "showbackground": true,
            "ticks": "",
            "zerolinecolor": "white"
           },
           "yaxis": {
            "backgroundcolor": "#E5ECF6",
            "gridcolor": "white",
            "gridwidth": 2,
            "linecolor": "white",
            "showbackground": true,
            "ticks": "",
            "zerolinecolor": "white"
           },
           "zaxis": {
            "backgroundcolor": "#E5ECF6",
            "gridcolor": "white",
            "gridwidth": 2,
            "linecolor": "white",
            "showbackground": true,
            "ticks": "",
            "zerolinecolor": "white"
           }
          },
          "shapedefaults": {
           "line": {
            "color": "#2a3f5f"
           }
          },
          "ternary": {
           "aaxis": {
            "gridcolor": "white",
            "linecolor": "white",
            "ticks": ""
           },
           "baxis": {
            "gridcolor": "white",
            "linecolor": "white",
            "ticks": ""
           },
           "bgcolor": "#E5ECF6",
           "caxis": {
            "gridcolor": "white",
            "linecolor": "white",
            "ticks": ""
           }
          },
          "title": {
           "x": 0.05
          },
          "xaxis": {
           "automargin": true,
           "gridcolor": "white",
           "linecolor": "white",
           "ticks": "",
           "title": {
            "standoff": 15
           },
           "zerolinecolor": "white",
           "zerolinewidth": 2
          },
          "yaxis": {
           "automargin": true,
           "gridcolor": "white",
           "linecolor": "white",
           "ticks": "",
           "title": {
            "standoff": 15
           },
           "zerolinecolor": "white",
           "zerolinewidth": 2
          }
         }
        },
        "title": {
         "text": "Training and val loss across epochs"
        },
        "xaxis": {
         "title": {
          "text": "epochs"
         }
        },
        "yaxis": {
         "title": {
          "text": "Cross Entropy"
         }
        }
       }
      }
     },
     "metadata": {},
     "output_type": "display_data"
    }
   ],
   "source": [
    "fig = go.Figure(data=[\n",
    "                      go.Scatter(\n",
    "                          y=model_4[\"loss\"],\n",
    "                          name=\"Training loss\",\n",
    "                          mode=\"lines\",\n",
    "                          marker=dict(\n",
    "                              color=color_chart[0]\n",
    "                          )),\n",
    "                      go.Scatter(\n",
    "                          y=model_4[\"val_loss\"],\n",
    "                          name=\"Validation loss\",\n",
    "                          mode=\"lines\",\n",
    "                          marker=dict(\n",
    "                              color=color_chart[1]\n",
    "                          ))\n",
    "])\n",
    "fig.update_layout(\n",
    "    title='Training and val loss across epochs',\n",
    "    xaxis_title='epochs',\n",
    "    yaxis_title='Cross Entropy'    \n",
    ")\n",
    "fig.show()"
   ]
  },
  {
   "cell_type": "code",
   "execution_count": 47,
   "metadata": {},
   "outputs": [],
   "source": [
    "imgs, targets = next(iter(df_generator))\n",
    "\n",
    "model_5 = tf.keras.Sequential(\n",
    "    [\n",
    "    Conv2D(\n",
    "        filters = 32,\n",
    "        kernel_size = (3,3),\n",
    "        strides = 1,\n",
    "        padding = \"same\",\n",
    "        activation = \"relu\",\n",
    "        input_shape = (imgs.shape[1], imgs.shape[2], imgs.shape[3]) \n",
    "     ),\n",
    "    Conv2D(\n",
    "        filters = 32,\n",
    "        kernel_size = (3,3),\n",
    "        strides = 1,\n",
    "        padding = \"same\",\n",
    "        activation = \"relu\",\n",
    "        input_shape = (imgs.shape[1], imgs.shape[2], imgs.shape[3]) \n",
    "     ),\n",
    "    MaxPool2D(\n",
    "        pool_size=2, \n",
    "        strides=2),\n",
    "    Conv2D(\n",
    "        filters = 64,\n",
    "        kernel_size = (3,3),\n",
    "        strides = 1,\n",
    "        padding = \"same\",\n",
    "        activation = \"relu\",\n",
    "        input_shape = (imgs.shape[1], imgs.shape[2], imgs.shape[3]) \n",
    "     ),\n",
    "    Conv2D(\n",
    "        filters = 64,\n",
    "        kernel_size = (3,3),\n",
    "        strides = 1,\n",
    "        padding = \"same\",\n",
    "        activation = \"relu\",\n",
    "        input_shape = (imgs.shape[1], imgs.shape[2], imgs.shape[3]) \n",
    "     ),\n",
    "    MaxPool2D(\n",
    "        pool_size=2, \n",
    "        strides=2),\n",
    "    Conv2D(\n",
    "        filters = 128,\n",
    "        kernel_size = (3,3),\n",
    "        strides = 1,\n",
    "        padding = \"same\",\n",
    "        activation = \"relu\",\n",
    "        input_shape = (imgs.shape[1], imgs.shape[2], imgs.shape[3]) \n",
    "     ),\n",
    "    Conv2D(\n",
    "        filters = 128,\n",
    "        kernel_size = (3,3),\n",
    "        strides = 1,\n",
    "        padding = \"same\",\n",
    "        activation = \"relu\",\n",
    "        input_shape = (imgs.shape[1], imgs.shape[2], imgs.shape[3]) \n",
    "     ),\n",
    "    MaxPool2D(\n",
    "        pool_size=2, \n",
    "        strides=2),\n",
    "    tf.keras.layers.Flatten(), \n",
    "    tf.keras.layers.Dense(10, activation=\"softmax\")\n",
    "    ]\n",
    ")"
   ]
  },
  {
   "cell_type": "code",
   "execution_count": 48,
   "metadata": {},
   "outputs": [],
   "source": [
    "model_5.compile(optimizer=Adam(),\n",
    "              loss=SparseCategoricalCrossentropy(),\n",
    "              metrics=[SparseCategoricalAccuracy()])"
   ]
  },
  {
   "cell_type": "code",
   "execution_count": 49,
   "metadata": {},
   "outputs": [
    {
     "name": "stdout",
     "output_type": "stream",
     "text": [
      "Epoch 1/50\n",
      "547/547 [==============================] - 61s 111ms/step - loss: 1.5994 - sparse_categorical_accuracy: 0.4122 - val_loss: 1.3612 - val_sparse_categorical_accuracy: 0.4961\n",
      "Epoch 2/50\n",
      "547/547 [==============================] - 61s 111ms/step - loss: 1.0954 - sparse_categorical_accuracy: 0.6127 - val_loss: 0.9819 - val_sparse_categorical_accuracy: 0.6535\n",
      "Epoch 3/50\n",
      "547/547 [==============================] - 62s 113ms/step - loss: 0.8687 - sparse_categorical_accuracy: 0.6952 - val_loss: 0.8978 - val_sparse_categorical_accuracy: 0.6879\n",
      "Epoch 4/50\n",
      "547/547 [==============================] - 60s 109ms/step - loss: 0.7262 - sparse_categorical_accuracy: 0.7447 - val_loss: 0.7692 - val_sparse_categorical_accuracy: 0.7327\n",
      "Epoch 5/50\n",
      "547/547 [==============================] - 61s 111ms/step - loss: 0.6148 - sparse_categorical_accuracy: 0.7859 - val_loss: 0.7321 - val_sparse_categorical_accuracy: 0.7426\n",
      "Epoch 6/50\n",
      "547/547 [==============================] - 61s 112ms/step - loss: 0.5144 - sparse_categorical_accuracy: 0.8207 - val_loss: 0.7728 - val_sparse_categorical_accuracy: 0.7311\n",
      "Epoch 7/50\n",
      "547/547 [==============================] - 61s 112ms/step - loss: 0.4286 - sparse_categorical_accuracy: 0.8504 - val_loss: 0.7520 - val_sparse_categorical_accuracy: 0.7485\n",
      "Epoch 8/50\n",
      "547/547 [==============================] - 61s 112ms/step - loss: 0.3489 - sparse_categorical_accuracy: 0.8781 - val_loss: 0.8004 - val_sparse_categorical_accuracy: 0.7581\n",
      "Epoch 9/50\n",
      "547/547 [==============================] - 61s 112ms/step - loss: 0.2838 - sparse_categorical_accuracy: 0.8992 - val_loss: 0.8729 - val_sparse_categorical_accuracy: 0.7537\n",
      "Epoch 10/50\n",
      "547/547 [==============================] - 61s 112ms/step - loss: 0.2165 - sparse_categorical_accuracy: 0.9246 - val_loss: 0.9746 - val_sparse_categorical_accuracy: 0.7349\n",
      "Epoch 11/50\n",
      "547/547 [==============================] - 61s 112ms/step - loss: 0.1872 - sparse_categorical_accuracy: 0.9337 - val_loss: 1.0723 - val_sparse_categorical_accuracy: 0.7463\n",
      "Epoch 12/50\n",
      "547/547 [==============================] - 61s 112ms/step - loss: 0.1577 - sparse_categorical_accuracy: 0.9427 - val_loss: 1.0918 - val_sparse_categorical_accuracy: 0.7519\n",
      "Epoch 13/50\n",
      "547/547 [==============================] - 61s 112ms/step - loss: 0.1307 - sparse_categorical_accuracy: 0.9539 - val_loss: 1.2824 - val_sparse_categorical_accuracy: 0.7410\n",
      "Epoch 14/50\n",
      "547/547 [==============================] - 61s 112ms/step - loss: 0.1218 - sparse_categorical_accuracy: 0.9569 - val_loss: 1.2531 - val_sparse_categorical_accuracy: 0.7417\n",
      "Epoch 15/50\n",
      "547/547 [==============================] - 61s 112ms/step - loss: 0.1190 - sparse_categorical_accuracy: 0.9580 - val_loss: 1.2439 - val_sparse_categorical_accuracy: 0.7484\n",
      "Epoch 16/50\n",
      "547/547 [==============================] - 62s 113ms/step - loss: 0.1074 - sparse_categorical_accuracy: 0.9628 - val_loss: 1.3833 - val_sparse_categorical_accuracy: 0.7439\n",
      "Epoch 17/50\n",
      "547/547 [==============================] - 61s 112ms/step - loss: 0.1040 - sparse_categorical_accuracy: 0.9642 - val_loss: 1.3585 - val_sparse_categorical_accuracy: 0.7355\n",
      "Epoch 18/50\n",
      "547/547 [==============================] - 61s 112ms/step - loss: 0.1005 - sparse_categorical_accuracy: 0.9651 - val_loss: 1.4477 - val_sparse_categorical_accuracy: 0.7403\n",
      "Epoch 19/50\n",
      "547/547 [==============================] - 62s 112ms/step - loss: 0.0882 - sparse_categorical_accuracy: 0.9691 - val_loss: 1.3696 - val_sparse_categorical_accuracy: 0.7479\n",
      "Epoch 20/50\n",
      "547/547 [==============================] - 61s 112ms/step - loss: 0.0993 - sparse_categorical_accuracy: 0.9660 - val_loss: 1.4531 - val_sparse_categorical_accuracy: 0.7432\n",
      "Epoch 21/50\n",
      "547/547 [==============================] - 61s 112ms/step - loss: 0.0980 - sparse_categorical_accuracy: 0.9670 - val_loss: 1.6251 - val_sparse_categorical_accuracy: 0.7421\n",
      "Epoch 22/50\n",
      "547/547 [==============================] - 62s 112ms/step - loss: 0.0888 - sparse_categorical_accuracy: 0.9691 - val_loss: 1.5281 - val_sparse_categorical_accuracy: 0.7353\n",
      "Epoch 23/50\n",
      "547/547 [==============================] - 61s 112ms/step - loss: 0.0877 - sparse_categorical_accuracy: 0.9703 - val_loss: 1.5676 - val_sparse_categorical_accuracy: 0.7431\n",
      "Epoch 24/50\n",
      "547/547 [==============================] - 61s 112ms/step - loss: 0.0867 - sparse_categorical_accuracy: 0.9712 - val_loss: 1.6767 - val_sparse_categorical_accuracy: 0.7287\n",
      "Epoch 25/50\n",
      "547/547 [==============================] - 62s 113ms/step - loss: 0.0779 - sparse_categorical_accuracy: 0.9738 - val_loss: 1.6850 - val_sparse_categorical_accuracy: 0.7455\n",
      "Epoch 26/50\n",
      "547/547 [==============================] - 62s 113ms/step - loss: 0.0698 - sparse_categorical_accuracy: 0.9774 - val_loss: 1.7325 - val_sparse_categorical_accuracy: 0.7429\n",
      "Epoch 27/50\n",
      "547/547 [==============================] - 61s 112ms/step - loss: 0.0892 - sparse_categorical_accuracy: 0.9697 - val_loss: 1.7022 - val_sparse_categorical_accuracy: 0.7447\n",
      "Epoch 28/50\n",
      "547/547 [==============================] - 61s 112ms/step - loss: 0.0784 - sparse_categorical_accuracy: 0.9742 - val_loss: 1.6741 - val_sparse_categorical_accuracy: 0.7398\n",
      "Epoch 29/50\n",
      "547/547 [==============================] - 61s 112ms/step - loss: 0.0848 - sparse_categorical_accuracy: 0.9712 - val_loss: 1.6959 - val_sparse_categorical_accuracy: 0.7414\n",
      "Epoch 30/50\n",
      "547/547 [==============================] - 62s 113ms/step - loss: 0.0683 - sparse_categorical_accuracy: 0.9764 - val_loss: 1.8250 - val_sparse_categorical_accuracy: 0.7412\n",
      "Epoch 31/50\n",
      "547/547 [==============================] - 62s 113ms/step - loss: 0.0839 - sparse_categorical_accuracy: 0.9721 - val_loss: 1.8337 - val_sparse_categorical_accuracy: 0.7409\n",
      "Epoch 32/50\n",
      "547/547 [==============================] - 61s 112ms/step - loss: 0.0780 - sparse_categorical_accuracy: 0.9740 - val_loss: 1.9627 - val_sparse_categorical_accuracy: 0.7447\n",
      "Epoch 33/50\n",
      "547/547 [==============================] - 62s 114ms/step - loss: 0.0841 - sparse_categorical_accuracy: 0.9733 - val_loss: 1.9066 - val_sparse_categorical_accuracy: 0.7370\n",
      "Epoch 34/50\n",
      "547/547 [==============================] - 61s 112ms/step - loss: 0.0753 - sparse_categorical_accuracy: 0.9754 - val_loss: 1.9233 - val_sparse_categorical_accuracy: 0.7323\n",
      "Epoch 35/50\n",
      "547/547 [==============================] - 61s 112ms/step - loss: 0.0653 - sparse_categorical_accuracy: 0.9788 - val_loss: 1.9396 - val_sparse_categorical_accuracy: 0.7323\n",
      "Epoch 36/50\n",
      "547/547 [==============================] - 61s 112ms/step - loss: 0.0821 - sparse_categorical_accuracy: 0.9739 - val_loss: 1.8923 - val_sparse_categorical_accuracy: 0.7381\n",
      "Epoch 37/50\n",
      "547/547 [==============================] - 61s 112ms/step - loss: 0.0784 - sparse_categorical_accuracy: 0.9759 - val_loss: 1.9935 - val_sparse_categorical_accuracy: 0.7399\n",
      "Epoch 38/50\n",
      "547/547 [==============================] - 61s 112ms/step - loss: 0.0714 - sparse_categorical_accuracy: 0.9774 - val_loss: 1.9766 - val_sparse_categorical_accuracy: 0.7254\n",
      "Epoch 39/50\n",
      "547/547 [==============================] - 61s 112ms/step - loss: 0.0692 - sparse_categorical_accuracy: 0.9785 - val_loss: 2.0755 - val_sparse_categorical_accuracy: 0.7351\n",
      "Epoch 40/50\n",
      "547/547 [==============================] - 61s 112ms/step - loss: 0.0748 - sparse_categorical_accuracy: 0.9771 - val_loss: 1.9583 - val_sparse_categorical_accuracy: 0.7266\n",
      "Epoch 41/50\n",
      "547/547 [==============================] - 61s 112ms/step - loss: 0.0762 - sparse_categorical_accuracy: 0.9763 - val_loss: 2.2543 - val_sparse_categorical_accuracy: 0.7307\n",
      "Epoch 42/50\n",
      "547/547 [==============================] - 62s 112ms/step - loss: 0.0761 - sparse_categorical_accuracy: 0.9757 - val_loss: 2.2036 - val_sparse_categorical_accuracy: 0.7417\n",
      "Epoch 43/50\n",
      "547/547 [==============================] - 62s 112ms/step - loss: 0.0699 - sparse_categorical_accuracy: 0.9785 - val_loss: 2.0084 - val_sparse_categorical_accuracy: 0.7380\n",
      "Epoch 44/50\n",
      "547/547 [==============================] - 62s 112ms/step - loss: 0.0622 - sparse_categorical_accuracy: 0.9801 - val_loss: 2.1783 - val_sparse_categorical_accuracy: 0.7429\n",
      "Epoch 45/50\n",
      "547/547 [==============================] - 62s 112ms/step - loss: 0.0540 - sparse_categorical_accuracy: 0.9827 - val_loss: 2.0922 - val_sparse_categorical_accuracy: 0.7456\n",
      "Epoch 46/50\n",
      "547/547 [==============================] - 62s 112ms/step - loss: 0.0794 - sparse_categorical_accuracy: 0.9753 - val_loss: 2.1596 - val_sparse_categorical_accuracy: 0.7357\n",
      "Epoch 47/50\n",
      "547/547 [==============================] - 61s 112ms/step - loss: 0.0754 - sparse_categorical_accuracy: 0.9776 - val_loss: 2.2295 - val_sparse_categorical_accuracy: 0.7413\n",
      "Epoch 48/50\n",
      "547/547 [==============================] - 61s 112ms/step - loss: 0.0639 - sparse_categorical_accuracy: 0.9800 - val_loss: 2.1346 - val_sparse_categorical_accuracy: 0.7457\n",
      "Epoch 49/50\n",
      "547/547 [==============================] - 61s 112ms/step - loss: 0.0662 - sparse_categorical_accuracy: 0.9796 - val_loss: 2.1664 - val_sparse_categorical_accuracy: 0.7426\n",
      "Epoch 50/50\n",
      "547/547 [==============================] - 61s 112ms/step - loss: 0.0620 - sparse_categorical_accuracy: 0.9809 - val_loss: 2.2697 - val_sparse_categorical_accuracy: 0.7419\n"
     ]
    },
    {
     "data": {
      "text/plain": [
       "<keras.callbacks.History at 0x1744e7a3220>"
      ]
     },
     "execution_count": 49,
     "metadata": {},
     "output_type": "execute_result"
    }
   ],
   "source": [
    "model_5.fit(df_generator, epochs = 50, validation_data=validation_generator)"
   ]
  },
  {
   "cell_type": "code",
   "execution_count": 50,
   "metadata": {},
   "outputs": [],
   "source": [
    "model_5.save(\"cifar10model5conv.h5\")"
   ]
  },
  {
   "cell_type": "code",
   "execution_count": 51,
   "metadata": {},
   "outputs": [],
   "source": [
    "history_dict = model_5.history.history\n",
    "json.dump(history_dict, open(\"cifar10model5convhistory.json\", 'w'))"
   ]
  },
  {
   "cell_type": "code",
   "execution_count": 52,
   "metadata": {},
   "outputs": [],
   "source": [
    "model_5 = pd.read_json(\"cifar10model5convhistory.json\")"
   ]
  },
  {
   "cell_type": "code",
   "execution_count": 53,
   "metadata": {},
   "outputs": [
    {
     "data": {
      "application/vnd.plotly.v1+json": {
       "config": {
        "plotlyServerURL": "https://plot.ly"
       },
       "data": [
        {
         "marker": {
          "color": "#4B9AC7"
         },
         "mode": "lines",
         "name": "Training loss",
         "type": "scatter",
         "y": [
          1.599449276924133,
          1.095375776290893,
          0.8687222599983211,
          0.726234793663024,
          0.61476844549179,
          0.51440143585205,
          0.428567916154861,
          0.34887018799781805,
          0.28380474448204,
          0.216518655419349,
          0.187178060412406,
          0.15773162245750402,
          0.130718380212783,
          0.12184640020132001,
          0.119030579924583,
          0.107350058853626,
          0.10401481389999301,
          0.10053527355194,
          0.08821081370115201,
          0.09933961927890701,
          0.09798051416873901,
          0.088827520608901,
          0.08770577609539,
          0.08665788173675501,
          0.077862314879894,
          0.06983955204486801,
          0.089211754500865,
          0.07842053472995701,
          0.084835387766361,
          0.06829879432916601,
          0.083939865231513,
          0.07795663177967001,
          0.08413466811180101,
          0.075258702039718,
          0.065327987074851,
          0.08205357939004801,
          0.078382946550846,
          0.07140705734491301,
          0.06917900592088701,
          0.07481493055820401,
          0.076220318675041,
          0.07613586634397501,
          0.069939017295837,
          0.06219132989645001,
          0.054020833224058006,
          0.079425312578678,
          0.075403928756713,
          0.063886143267154,
          0.066159985959529,
          0.061986774206161006
         ]
        },
        {
         "marker": {
          "color": "#4BE8E0"
         },
         "mode": "lines",
         "name": "Validation loss",
         "type": "scatter",
         "y": [
          1.361194133758545,
          0.981904983520507,
          0.897757351398468,
          0.769227981567382,
          0.7321177721023561,
          0.7728366255760191,
          0.752047002315521,
          0.8003545403480531,
          0.8728750944137571,
          0.9745711684226991,
          1.072299718856811,
          1.091830611228942,
          1.282435894012451,
          1.25305688381195,
          1.243947863578796,
          1.38331127166748,
          1.358455419540405,
          1.447656393051147,
          1.369582533836364,
          1.4531165361404421,
          1.625057578086853,
          1.528139472007751,
          1.567606329917907,
          1.676743745803833,
          1.6849603652954102,
          1.732451915740966,
          1.702223777770996,
          1.674088597297668,
          1.695914506912231,
          1.825031042098999,
          1.833743333816528,
          1.962712287902832,
          1.9065648317337032,
          1.923301219940185,
          1.939570665359497,
          1.892340779304504,
          1.993517041206359,
          1.976644515991211,
          2.075480461120605,
          1.958275318145752,
          2.254286050796509,
          2.203627586364746,
          2.008370876312256,
          2.178295135498047,
          2.092189073562622,
          2.1596121788024902,
          2.22950005531311,
          2.134574890136718,
          2.166418075561523,
          2.269731283187866
         ]
        }
       ],
       "layout": {
        "template": {
         "data": {
          "bar": [
           {
            "error_x": {
             "color": "#2a3f5f"
            },
            "error_y": {
             "color": "#2a3f5f"
            },
            "marker": {
             "line": {
              "color": "#E5ECF6",
              "width": 0.5
             },
             "pattern": {
              "fillmode": "overlay",
              "size": 10,
              "solidity": 0.2
             }
            },
            "type": "bar"
           }
          ],
          "barpolar": [
           {
            "marker": {
             "line": {
              "color": "#E5ECF6",
              "width": 0.5
             },
             "pattern": {
              "fillmode": "overlay",
              "size": 10,
              "solidity": 0.2
             }
            },
            "type": "barpolar"
           }
          ],
          "carpet": [
           {
            "aaxis": {
             "endlinecolor": "#2a3f5f",
             "gridcolor": "white",
             "linecolor": "white",
             "minorgridcolor": "white",
             "startlinecolor": "#2a3f5f"
            },
            "baxis": {
             "endlinecolor": "#2a3f5f",
             "gridcolor": "white",
             "linecolor": "white",
             "minorgridcolor": "white",
             "startlinecolor": "#2a3f5f"
            },
            "type": "carpet"
           }
          ],
          "choropleth": [
           {
            "colorbar": {
             "outlinewidth": 0,
             "ticks": ""
            },
            "type": "choropleth"
           }
          ],
          "contour": [
           {
            "colorbar": {
             "outlinewidth": 0,
             "ticks": ""
            },
            "colorscale": [
             [
              0,
              "#0d0887"
             ],
             [
              0.1111111111111111,
              "#46039f"
             ],
             [
              0.2222222222222222,
              "#7201a8"
             ],
             [
              0.3333333333333333,
              "#9c179e"
             ],
             [
              0.4444444444444444,
              "#bd3786"
             ],
             [
              0.5555555555555556,
              "#d8576b"
             ],
             [
              0.6666666666666666,
              "#ed7953"
             ],
             [
              0.7777777777777778,
              "#fb9f3a"
             ],
             [
              0.8888888888888888,
              "#fdca26"
             ],
             [
              1,
              "#f0f921"
             ]
            ],
            "type": "contour"
           }
          ],
          "contourcarpet": [
           {
            "colorbar": {
             "outlinewidth": 0,
             "ticks": ""
            },
            "type": "contourcarpet"
           }
          ],
          "heatmap": [
           {
            "colorbar": {
             "outlinewidth": 0,
             "ticks": ""
            },
            "colorscale": [
             [
              0,
              "#0d0887"
             ],
             [
              0.1111111111111111,
              "#46039f"
             ],
             [
              0.2222222222222222,
              "#7201a8"
             ],
             [
              0.3333333333333333,
              "#9c179e"
             ],
             [
              0.4444444444444444,
              "#bd3786"
             ],
             [
              0.5555555555555556,
              "#d8576b"
             ],
             [
              0.6666666666666666,
              "#ed7953"
             ],
             [
              0.7777777777777778,
              "#fb9f3a"
             ],
             [
              0.8888888888888888,
              "#fdca26"
             ],
             [
              1,
              "#f0f921"
             ]
            ],
            "type": "heatmap"
           }
          ],
          "heatmapgl": [
           {
            "colorbar": {
             "outlinewidth": 0,
             "ticks": ""
            },
            "colorscale": [
             [
              0,
              "#0d0887"
             ],
             [
              0.1111111111111111,
              "#46039f"
             ],
             [
              0.2222222222222222,
              "#7201a8"
             ],
             [
              0.3333333333333333,
              "#9c179e"
             ],
             [
              0.4444444444444444,
              "#bd3786"
             ],
             [
              0.5555555555555556,
              "#d8576b"
             ],
             [
              0.6666666666666666,
              "#ed7953"
             ],
             [
              0.7777777777777778,
              "#fb9f3a"
             ],
             [
              0.8888888888888888,
              "#fdca26"
             ],
             [
              1,
              "#f0f921"
             ]
            ],
            "type": "heatmapgl"
           }
          ],
          "histogram": [
           {
            "marker": {
             "pattern": {
              "fillmode": "overlay",
              "size": 10,
              "solidity": 0.2
             }
            },
            "type": "histogram"
           }
          ],
          "histogram2d": [
           {
            "colorbar": {
             "outlinewidth": 0,
             "ticks": ""
            },
            "colorscale": [
             [
              0,
              "#0d0887"
             ],
             [
              0.1111111111111111,
              "#46039f"
             ],
             [
              0.2222222222222222,
              "#7201a8"
             ],
             [
              0.3333333333333333,
              "#9c179e"
             ],
             [
              0.4444444444444444,
              "#bd3786"
             ],
             [
              0.5555555555555556,
              "#d8576b"
             ],
             [
              0.6666666666666666,
              "#ed7953"
             ],
             [
              0.7777777777777778,
              "#fb9f3a"
             ],
             [
              0.8888888888888888,
              "#fdca26"
             ],
             [
              1,
              "#f0f921"
             ]
            ],
            "type": "histogram2d"
           }
          ],
          "histogram2dcontour": [
           {
            "colorbar": {
             "outlinewidth": 0,
             "ticks": ""
            },
            "colorscale": [
             [
              0,
              "#0d0887"
             ],
             [
              0.1111111111111111,
              "#46039f"
             ],
             [
              0.2222222222222222,
              "#7201a8"
             ],
             [
              0.3333333333333333,
              "#9c179e"
             ],
             [
              0.4444444444444444,
              "#bd3786"
             ],
             [
              0.5555555555555556,
              "#d8576b"
             ],
             [
              0.6666666666666666,
              "#ed7953"
             ],
             [
              0.7777777777777778,
              "#fb9f3a"
             ],
             [
              0.8888888888888888,
              "#fdca26"
             ],
             [
              1,
              "#f0f921"
             ]
            ],
            "type": "histogram2dcontour"
           }
          ],
          "mesh3d": [
           {
            "colorbar": {
             "outlinewidth": 0,
             "ticks": ""
            },
            "type": "mesh3d"
           }
          ],
          "parcoords": [
           {
            "line": {
             "colorbar": {
              "outlinewidth": 0,
              "ticks": ""
             }
            },
            "type": "parcoords"
           }
          ],
          "pie": [
           {
            "automargin": true,
            "type": "pie"
           }
          ],
          "scatter": [
           {
            "fillpattern": {
             "fillmode": "overlay",
             "size": 10,
             "solidity": 0.2
            },
            "type": "scatter"
           }
          ],
          "scatter3d": [
           {
            "line": {
             "colorbar": {
              "outlinewidth": 0,
              "ticks": ""
             }
            },
            "marker": {
             "colorbar": {
              "outlinewidth": 0,
              "ticks": ""
             }
            },
            "type": "scatter3d"
           }
          ],
          "scattercarpet": [
           {
            "marker": {
             "colorbar": {
              "outlinewidth": 0,
              "ticks": ""
             }
            },
            "type": "scattercarpet"
           }
          ],
          "scattergeo": [
           {
            "marker": {
             "colorbar": {
              "outlinewidth": 0,
              "ticks": ""
             }
            },
            "type": "scattergeo"
           }
          ],
          "scattergl": [
           {
            "marker": {
             "colorbar": {
              "outlinewidth": 0,
              "ticks": ""
             }
            },
            "type": "scattergl"
           }
          ],
          "scattermapbox": [
           {
            "marker": {
             "colorbar": {
              "outlinewidth": 0,
              "ticks": ""
             }
            },
            "type": "scattermapbox"
           }
          ],
          "scatterpolar": [
           {
            "marker": {
             "colorbar": {
              "outlinewidth": 0,
              "ticks": ""
             }
            },
            "type": "scatterpolar"
           }
          ],
          "scatterpolargl": [
           {
            "marker": {
             "colorbar": {
              "outlinewidth": 0,
              "ticks": ""
             }
            },
            "type": "scatterpolargl"
           }
          ],
          "scatterternary": [
           {
            "marker": {
             "colorbar": {
              "outlinewidth": 0,
              "ticks": ""
             }
            },
            "type": "scatterternary"
           }
          ],
          "surface": [
           {
            "colorbar": {
             "outlinewidth": 0,
             "ticks": ""
            },
            "colorscale": [
             [
              0,
              "#0d0887"
             ],
             [
              0.1111111111111111,
              "#46039f"
             ],
             [
              0.2222222222222222,
              "#7201a8"
             ],
             [
              0.3333333333333333,
              "#9c179e"
             ],
             [
              0.4444444444444444,
              "#bd3786"
             ],
             [
              0.5555555555555556,
              "#d8576b"
             ],
             [
              0.6666666666666666,
              "#ed7953"
             ],
             [
              0.7777777777777778,
              "#fb9f3a"
             ],
             [
              0.8888888888888888,
              "#fdca26"
             ],
             [
              1,
              "#f0f921"
             ]
            ],
            "type": "surface"
           }
          ],
          "table": [
           {
            "cells": {
             "fill": {
              "color": "#EBF0F8"
             },
             "line": {
              "color": "white"
             }
            },
            "header": {
             "fill": {
              "color": "#C8D4E3"
             },
             "line": {
              "color": "white"
             }
            },
            "type": "table"
           }
          ]
         },
         "layout": {
          "annotationdefaults": {
           "arrowcolor": "#2a3f5f",
           "arrowhead": 0,
           "arrowwidth": 1
          },
          "autotypenumbers": "strict",
          "coloraxis": {
           "colorbar": {
            "outlinewidth": 0,
            "ticks": ""
           }
          },
          "colorscale": {
           "diverging": [
            [
             0,
             "#8e0152"
            ],
            [
             0.1,
             "#c51b7d"
            ],
            [
             0.2,
             "#de77ae"
            ],
            [
             0.3,
             "#f1b6da"
            ],
            [
             0.4,
             "#fde0ef"
            ],
            [
             0.5,
             "#f7f7f7"
            ],
            [
             0.6,
             "#e6f5d0"
            ],
            [
             0.7,
             "#b8e186"
            ],
            [
             0.8,
             "#7fbc41"
            ],
            [
             0.9,
             "#4d9221"
            ],
            [
             1,
             "#276419"
            ]
           ],
           "sequential": [
            [
             0,
             "#0d0887"
            ],
            [
             0.1111111111111111,
             "#46039f"
            ],
            [
             0.2222222222222222,
             "#7201a8"
            ],
            [
             0.3333333333333333,
             "#9c179e"
            ],
            [
             0.4444444444444444,
             "#bd3786"
            ],
            [
             0.5555555555555556,
             "#d8576b"
            ],
            [
             0.6666666666666666,
             "#ed7953"
            ],
            [
             0.7777777777777778,
             "#fb9f3a"
            ],
            [
             0.8888888888888888,
             "#fdca26"
            ],
            [
             1,
             "#f0f921"
            ]
           ],
           "sequentialminus": [
            [
             0,
             "#0d0887"
            ],
            [
             0.1111111111111111,
             "#46039f"
            ],
            [
             0.2222222222222222,
             "#7201a8"
            ],
            [
             0.3333333333333333,
             "#9c179e"
            ],
            [
             0.4444444444444444,
             "#bd3786"
            ],
            [
             0.5555555555555556,
             "#d8576b"
            ],
            [
             0.6666666666666666,
             "#ed7953"
            ],
            [
             0.7777777777777778,
             "#fb9f3a"
            ],
            [
             0.8888888888888888,
             "#fdca26"
            ],
            [
             1,
             "#f0f921"
            ]
           ]
          },
          "colorway": [
           "#636efa",
           "#EF553B",
           "#00cc96",
           "#ab63fa",
           "#FFA15A",
           "#19d3f3",
           "#FF6692",
           "#B6E880",
           "#FF97FF",
           "#FECB52"
          ],
          "font": {
           "color": "#2a3f5f"
          },
          "geo": {
           "bgcolor": "white",
           "lakecolor": "white",
           "landcolor": "#E5ECF6",
           "showlakes": true,
           "showland": true,
           "subunitcolor": "white"
          },
          "hoverlabel": {
           "align": "left"
          },
          "hovermode": "closest",
          "mapbox": {
           "style": "light"
          },
          "paper_bgcolor": "white",
          "plot_bgcolor": "#E5ECF6",
          "polar": {
           "angularaxis": {
            "gridcolor": "white",
            "linecolor": "white",
            "ticks": ""
           },
           "bgcolor": "#E5ECF6",
           "radialaxis": {
            "gridcolor": "white",
            "linecolor": "white",
            "ticks": ""
           }
          },
          "scene": {
           "xaxis": {
            "backgroundcolor": "#E5ECF6",
            "gridcolor": "white",
            "gridwidth": 2,
            "linecolor": "white",
            "showbackground": true,
            "ticks": "",
            "zerolinecolor": "white"
           },
           "yaxis": {
            "backgroundcolor": "#E5ECF6",
            "gridcolor": "white",
            "gridwidth": 2,
            "linecolor": "white",
            "showbackground": true,
            "ticks": "",
            "zerolinecolor": "white"
           },
           "zaxis": {
            "backgroundcolor": "#E5ECF6",
            "gridcolor": "white",
            "gridwidth": 2,
            "linecolor": "white",
            "showbackground": true,
            "ticks": "",
            "zerolinecolor": "white"
           }
          },
          "shapedefaults": {
           "line": {
            "color": "#2a3f5f"
           }
          },
          "ternary": {
           "aaxis": {
            "gridcolor": "white",
            "linecolor": "white",
            "ticks": ""
           },
           "baxis": {
            "gridcolor": "white",
            "linecolor": "white",
            "ticks": ""
           },
           "bgcolor": "#E5ECF6",
           "caxis": {
            "gridcolor": "white",
            "linecolor": "white",
            "ticks": ""
           }
          },
          "title": {
           "x": 0.05
          },
          "xaxis": {
           "automargin": true,
           "gridcolor": "white",
           "linecolor": "white",
           "ticks": "",
           "title": {
            "standoff": 15
           },
           "zerolinecolor": "white",
           "zerolinewidth": 2
          },
          "yaxis": {
           "automargin": true,
           "gridcolor": "white",
           "linecolor": "white",
           "ticks": "",
           "title": {
            "standoff": 15
           },
           "zerolinecolor": "white",
           "zerolinewidth": 2
          }
         }
        },
        "title": {
         "text": "Training and val loss across epochs"
        },
        "xaxis": {
         "title": {
          "text": "epochs"
         }
        },
        "yaxis": {
         "title": {
          "text": "Cross Entropy"
         }
        }
       }
      }
     },
     "metadata": {},
     "output_type": "display_data"
    }
   ],
   "source": [
    "fig = go.Figure(data=[\n",
    "                      go.Scatter(\n",
    "                          y=model_5[\"loss\"],\n",
    "                          name=\"Training loss\",\n",
    "                          mode=\"lines\",\n",
    "                          marker=dict(\n",
    "                              color=color_chart[0]\n",
    "                          )),\n",
    "                      go.Scatter(\n",
    "                          y=model_5[\"val_loss\"],\n",
    "                          name=\"Validation loss\",\n",
    "                          mode=\"lines\",\n",
    "                          marker=dict(\n",
    "                              color=color_chart[1]\n",
    "                          ))\n",
    "])\n",
    "fig.update_layout(\n",
    "    title='Training and val loss across epochs',\n",
    "    xaxis_title='epochs',\n",
    "    yaxis_title='Cross Entropy'    \n",
    ")\n",
    "fig.show()"
   ]
  },
  {
   "cell_type": "code",
   "execution_count": null,
   "metadata": {},
   "outputs": [],
   "source": []
  }
 ],
 "metadata": {
  "kernelspec": {
   "display_name": "Python 3.10.2 64-bit",
   "language": "python",
   "name": "python3"
  },
  "language_info": {
   "codemirror_mode": {
    "name": "ipython",
    "version": 3
   },
   "file_extension": ".py",
   "mimetype": "text/x-python",
   "name": "python",
   "nbconvert_exporter": "python",
   "pygments_lexer": "ipython3",
   "version": "3.10.2"
  },
  "orig_nbformat": 4,
  "vscode": {
   "interpreter": {
    "hash": "23e0aedb6d47e040503db7fcf09a0dff3cea72eb7d5d4c2596a602b1504b448c"
   }
  }
 },
 "nbformat": 4,
 "nbformat_minor": 2
}
