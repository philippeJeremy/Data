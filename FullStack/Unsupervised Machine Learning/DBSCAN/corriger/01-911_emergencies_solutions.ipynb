{
 "cells": [
  {
   "cell_type": "markdown",
   "metadata": {},
   "source": [
    "# 911 Emergencies \n",
    "\n",
    "A US-county would like to know what are the main cases they need to focus on to protect their citizens. They hired you to get that kind of recommandations. In addition they give you a map with all the 911 calls they received over the past years. "
   ]
  },
  {
   "cell_type": "markdown",
   "metadata": {},
   "source": [
    "1. Import common libraries (including plotly) "
   ]
  },
  {
   "cell_type": "code",
   "execution_count": 1,
   "metadata": {},
   "outputs": [],
   "source": [
    "import pandas as pd \n",
    "import numpy as np \n",
    "\n",
    "from sklearn.preprocessing import  OneHotEncoder, StandardScaler\n",
    "from sklearn.compose import ColumnTransformer\n",
    "\n",
    "import plotly.express as px\n",
    "import plotly.io as pio\n",
    "pio.renderers.default = \"iframe_connected\""
   ]
  },
  {
   "cell_type": "markdown",
   "metadata": {},
   "source": [
    "2. Import the dataset here 👉👉 <a href=\"https://full-stack-bigdata-datasets.s3.eu-west-3.amazonaws.com/Machine+Learning+non+Supervis%C3%A9/DBSCAN/Datasets/911.csv\" target=\"_blank\">911.csv</a>"
   ]
  },
  {
   "cell_type": "code",
   "execution_count": 2,
   "metadata": {},
   "outputs": [
    {
     "data": {
      "text/html": [
       "<div>\n",
       "<style scoped>\n",
       "    .dataframe tbody tr th:only-of-type {\n",
       "        vertical-align: middle;\n",
       "    }\n",
       "\n",
       "    .dataframe tbody tr th {\n",
       "        vertical-align: top;\n",
       "    }\n",
       "\n",
       "    .dataframe thead th {\n",
       "        text-align: right;\n",
       "    }\n",
       "</style>\n",
       "<table border=\"1\" class=\"dataframe\">\n",
       "  <thead>\n",
       "    <tr style=\"text-align: right;\">\n",
       "      <th></th>\n",
       "      <th>lat</th>\n",
       "      <th>lng</th>\n",
       "      <th>desc</th>\n",
       "      <th>zip</th>\n",
       "      <th>title</th>\n",
       "      <th>timeStamp</th>\n",
       "      <th>twp</th>\n",
       "      <th>addr</th>\n",
       "      <th>e</th>\n",
       "    </tr>\n",
       "  </thead>\n",
       "  <tbody>\n",
       "    <tr>\n",
       "      <th>0</th>\n",
       "      <td>40.297876</td>\n",
       "      <td>-75.581294</td>\n",
       "      <td>REINDEER CT &amp; DEAD END;  NEW HANOVER; Station ...</td>\n",
       "      <td>19525.0</td>\n",
       "      <td>EMS: BACK PAINS/INJURY</td>\n",
       "      <td>2015-12-10 17:10:52</td>\n",
       "      <td>NEW HANOVER</td>\n",
       "      <td>REINDEER CT &amp; DEAD END</td>\n",
       "      <td>1</td>\n",
       "    </tr>\n",
       "    <tr>\n",
       "      <th>1</th>\n",
       "      <td>40.258061</td>\n",
       "      <td>-75.264680</td>\n",
       "      <td>BRIAR PATH &amp; WHITEMARSH LN;  HATFIELD TOWNSHIP...</td>\n",
       "      <td>19446.0</td>\n",
       "      <td>EMS: DIABETIC EMERGENCY</td>\n",
       "      <td>2015-12-10 17:29:21</td>\n",
       "      <td>HATFIELD TOWNSHIP</td>\n",
       "      <td>BRIAR PATH &amp; WHITEMARSH LN</td>\n",
       "      <td>1</td>\n",
       "    </tr>\n",
       "    <tr>\n",
       "      <th>2</th>\n",
       "      <td>40.121182</td>\n",
       "      <td>-75.351975</td>\n",
       "      <td>HAWS AVE; NORRISTOWN; 2015-12-10 @ 14:39:21-St...</td>\n",
       "      <td>19401.0</td>\n",
       "      <td>Fire: GAS-ODOR/LEAK</td>\n",
       "      <td>2015-12-10 14:39:21</td>\n",
       "      <td>NORRISTOWN</td>\n",
       "      <td>HAWS AVE</td>\n",
       "      <td>1</td>\n",
       "    </tr>\n",
       "    <tr>\n",
       "      <th>3</th>\n",
       "      <td>40.116153</td>\n",
       "      <td>-75.343513</td>\n",
       "      <td>AIRY ST &amp; SWEDE ST;  NORRISTOWN; Station 308A;...</td>\n",
       "      <td>19401.0</td>\n",
       "      <td>EMS: CARDIAC EMERGENCY</td>\n",
       "      <td>2015-12-10 16:47:36</td>\n",
       "      <td>NORRISTOWN</td>\n",
       "      <td>AIRY ST &amp; SWEDE ST</td>\n",
       "      <td>1</td>\n",
       "    </tr>\n",
       "    <tr>\n",
       "      <th>4</th>\n",
       "      <td>40.251492</td>\n",
       "      <td>-75.603350</td>\n",
       "      <td>CHERRYWOOD CT &amp; DEAD END;  LOWER POTTSGROVE; S...</td>\n",
       "      <td>NaN</td>\n",
       "      <td>EMS: DIZZINESS</td>\n",
       "      <td>2015-12-10 16:56:52</td>\n",
       "      <td>LOWER POTTSGROVE</td>\n",
       "      <td>CHERRYWOOD CT &amp; DEAD END</td>\n",
       "      <td>1</td>\n",
       "    </tr>\n",
       "  </tbody>\n",
       "</table>\n",
       "</div>"
      ],
      "text/plain": [
       "         lat        lng                                               desc  \\\n",
       "0  40.297876 -75.581294  REINDEER CT & DEAD END;  NEW HANOVER; Station ...   \n",
       "1  40.258061 -75.264680  BRIAR PATH & WHITEMARSH LN;  HATFIELD TOWNSHIP...   \n",
       "2  40.121182 -75.351975  HAWS AVE; NORRISTOWN; 2015-12-10 @ 14:39:21-St...   \n",
       "3  40.116153 -75.343513  AIRY ST & SWEDE ST;  NORRISTOWN; Station 308A;...   \n",
       "4  40.251492 -75.603350  CHERRYWOOD CT & DEAD END;  LOWER POTTSGROVE; S...   \n",
       "\n",
       "       zip                    title            timeStamp                twp  \\\n",
       "0  19525.0   EMS: BACK PAINS/INJURY  2015-12-10 17:10:52        NEW HANOVER   \n",
       "1  19446.0  EMS: DIABETIC EMERGENCY  2015-12-10 17:29:21  HATFIELD TOWNSHIP   \n",
       "2  19401.0      Fire: GAS-ODOR/LEAK  2015-12-10 14:39:21         NORRISTOWN   \n",
       "3  19401.0   EMS: CARDIAC EMERGENCY  2015-12-10 16:47:36         NORRISTOWN   \n",
       "4      NaN           EMS: DIZZINESS  2015-12-10 16:56:52   LOWER POTTSGROVE   \n",
       "\n",
       "                         addr  e  \n",
       "0      REINDEER CT & DEAD END  1  \n",
       "1  BRIAR PATH & WHITEMARSH LN  1  \n",
       "2                    HAWS AVE  1  \n",
       "3          AIRY ST & SWEDE ST  1  \n",
       "4    CHERRYWOOD CT & DEAD END  1  "
      ]
     },
     "execution_count": 2,
     "metadata": {},
     "output_type": "execute_result"
    }
   ],
   "source": [
    "data = pd.read_csv(\"https://full-stack-bigdata-datasets.s3.eu-west-3.amazonaws.com/Machine+Learning+non+Supervis%C3%A9/DBSCAN/Datasets/911.csv\")\n",
    "data.head()"
   ]
  },
  {
   "cell_type": "markdown",
   "metadata": {},
   "source": [
    "3. The dataset is quite big, take a sample of 10 000 observations"
   ]
  },
  {
   "cell_type": "code",
   "execution_count": 3,
   "metadata": {},
   "outputs": [
    {
     "data": {
      "text/html": [
       "<div>\n",
       "<style scoped>\n",
       "    .dataframe tbody tr th:only-of-type {\n",
       "        vertical-align: middle;\n",
       "    }\n",
       "\n",
       "    .dataframe tbody tr th {\n",
       "        vertical-align: top;\n",
       "    }\n",
       "\n",
       "    .dataframe thead th {\n",
       "        text-align: right;\n",
       "    }\n",
       "</style>\n",
       "<table border=\"1\" class=\"dataframe\">\n",
       "  <thead>\n",
       "    <tr style=\"text-align: right;\">\n",
       "      <th></th>\n",
       "      <th>lat</th>\n",
       "      <th>lng</th>\n",
       "      <th>desc</th>\n",
       "      <th>zip</th>\n",
       "      <th>title</th>\n",
       "      <th>timeStamp</th>\n",
       "      <th>twp</th>\n",
       "      <th>addr</th>\n",
       "      <th>e</th>\n",
       "    </tr>\n",
       "  </thead>\n",
       "  <tbody>\n",
       "    <tr>\n",
       "      <th>337789</th>\n",
       "      <td>40.069832</td>\n",
       "      <td>-75.316295</td>\n",
       "      <td>RAMP I76 WB TO MATSONFORD RD &amp; SCHUYLKILL EXPY...</td>\n",
       "      <td>NaN</td>\n",
       "      <td>EMS: VEHICLE ACCIDENT</td>\n",
       "      <td>2018-04-22 07:54:21</td>\n",
       "      <td>WEST CONSHOHOCKEN</td>\n",
       "      <td>RAMP I76 WB TO MATSONFORD RD &amp; SCHUYLKILL EXPY WB</td>\n",
       "      <td>1</td>\n",
       "    </tr>\n",
       "    <tr>\n",
       "      <th>79229</th>\n",
       "      <td>40.142332</td>\n",
       "      <td>-75.240999</td>\n",
       "      <td>W BUTLER PIKE;  WHITPAIN; Station 385; 2016-07...</td>\n",
       "      <td>19002.0</td>\n",
       "      <td>EMS: VEHICLE ACCIDENT</td>\n",
       "      <td>2016-07-05 07:18:39</td>\n",
       "      <td>WHITPAIN</td>\n",
       "      <td>W BUTLER PIKE</td>\n",
       "      <td>1</td>\n",
       "    </tr>\n",
       "    <tr>\n",
       "      <th>114687</th>\n",
       "      <td>40.100344</td>\n",
       "      <td>-75.293955</td>\n",
       "      <td>CHEMICAL RD &amp; GALLAGHER RD; PLYMOUTH; 2016-10-...</td>\n",
       "      <td>19462.0</td>\n",
       "      <td>Traffic: VEHICLE ACCIDENT -</td>\n",
       "      <td>2016-10-04 12:09:12</td>\n",
       "      <td>PLYMOUTH</td>\n",
       "      <td>CHEMICAL RD &amp; GALLAGHER RD</td>\n",
       "      <td>1</td>\n",
       "    </tr>\n",
       "    <tr>\n",
       "      <th>56311</th>\n",
       "      <td>40.244066</td>\n",
       "      <td>-75.614662</td>\n",
       "      <td>HIGH ST;  POTTSTOWN; Station 329; 2016-05-06 @...</td>\n",
       "      <td>19464.0</td>\n",
       "      <td>EMS: ASSAULT VICTIM</td>\n",
       "      <td>2016-05-06 01:55:57</td>\n",
       "      <td>POTTSTOWN</td>\n",
       "      <td>HIGH ST</td>\n",
       "      <td>1</td>\n",
       "    </tr>\n",
       "    <tr>\n",
       "      <th>312642</th>\n",
       "      <td>40.074619</td>\n",
       "      <td>-75.151182</td>\n",
       "      <td>SHOPPERS LN &amp; WASHINGTON LN;  CHELTENHAM; Stat...</td>\n",
       "      <td>19027.0</td>\n",
       "      <td>EMS: CARDIAC EMERGENCY</td>\n",
       "      <td>2018-02-22 22:04:21</td>\n",
       "      <td>CHELTENHAM</td>\n",
       "      <td>SHOPPERS LN &amp; WASHINGTON LN</td>\n",
       "      <td>1</td>\n",
       "    </tr>\n",
       "  </tbody>\n",
       "</table>\n",
       "</div>"
      ],
      "text/plain": [
       "              lat        lng  \\\n",
       "337789  40.069832 -75.316295   \n",
       "79229   40.142332 -75.240999   \n",
       "114687  40.100344 -75.293955   \n",
       "56311   40.244066 -75.614662   \n",
       "312642  40.074619 -75.151182   \n",
       "\n",
       "                                                     desc      zip  \\\n",
       "337789  RAMP I76 WB TO MATSONFORD RD & SCHUYLKILL EXPY...      NaN   \n",
       "79229   W BUTLER PIKE;  WHITPAIN; Station 385; 2016-07...  19002.0   \n",
       "114687  CHEMICAL RD & GALLAGHER RD; PLYMOUTH; 2016-10-...  19462.0   \n",
       "56311   HIGH ST;  POTTSTOWN; Station 329; 2016-05-06 @...  19464.0   \n",
       "312642  SHOPPERS LN & WASHINGTON LN;  CHELTENHAM; Stat...  19027.0   \n",
       "\n",
       "                              title            timeStamp                twp  \\\n",
       "337789        EMS: VEHICLE ACCIDENT  2018-04-22 07:54:21  WEST CONSHOHOCKEN   \n",
       "79229         EMS: VEHICLE ACCIDENT  2016-07-05 07:18:39           WHITPAIN   \n",
       "114687  Traffic: VEHICLE ACCIDENT -  2016-10-04 12:09:12           PLYMOUTH   \n",
       "56311           EMS: ASSAULT VICTIM  2016-05-06 01:55:57          POTTSTOWN   \n",
       "312642       EMS: CARDIAC EMERGENCY  2018-02-22 22:04:21         CHELTENHAM   \n",
       "\n",
       "                                                     addr  e  \n",
       "337789  RAMP I76 WB TO MATSONFORD RD & SCHUYLKILL EXPY WB  1  \n",
       "79229                                       W BUTLER PIKE  1  \n",
       "114687                         CHEMICAL RD & GALLAGHER RD  1  \n",
       "56311                                             HIGH ST  1  \n",
       "312642                        SHOPPERS LN & WASHINGTON LN  1  "
      ]
     },
     "execution_count": 3,
     "metadata": {},
     "output_type": "execute_result"
    }
   ],
   "source": [
    "data_sample = data.sample(10000)\n",
    "data_sample.head()"
   ]
  },
  {
   "cell_type": "markdown",
   "metadata": {},
   "source": [
    "5. Using plotly scatter mapbox, visualize your data points on a map. You should also differentiate colors depending on `title`"
   ]
  },
  {
   "cell_type": "code",
   "execution_count": 4,
   "metadata": {},
   "outputs": [
    {
     "data": {
      "text/html": [
       "<iframe\n",
       "    scrolling=\"no\"\n",
       "    width=\"100%\"\n",
       "    height=\"545px\"\n",
       "    src=\"iframe_figures/figure_4.html\"\n",
       "    frameborder=\"0\"\n",
       "    allowfullscreen\n",
       "></iframe>\n"
      ]
     },
     "metadata": {},
     "output_type": "display_data"
    }
   ],
   "source": [
    "fig = px.scatter_mapbox(\n",
    "        data_sample, \n",
    "        lat=\"lat\", \n",
    "        lon=\"lng\",\n",
    "        color=\"title\",\n",
    "        mapbox_style=\"carto-positron\"\n",
    ")\n",
    "\n",
    "fig.show()"
   ]
  },
  {
   "cell_type": "markdown",
   "metadata": {},
   "source": [
    "6. The dataset is quite big, let's try to use DBSCAN to help us out. First, create a variable `X` that only includes `lat`, `lng` and `title` columns."
   ]
  },
  {
   "cell_type": "code",
   "execution_count": 5,
   "metadata": {},
   "outputs": [
    {
     "data": {
      "text/html": [
       "<div>\n",
       "<style scoped>\n",
       "    .dataframe tbody tr th:only-of-type {\n",
       "        vertical-align: middle;\n",
       "    }\n",
       "\n",
       "    .dataframe tbody tr th {\n",
       "        vertical-align: top;\n",
       "    }\n",
       "\n",
       "    .dataframe thead th {\n",
       "        text-align: right;\n",
       "    }\n",
       "</style>\n",
       "<table border=\"1\" class=\"dataframe\">\n",
       "  <thead>\n",
       "    <tr style=\"text-align: right;\">\n",
       "      <th></th>\n",
       "      <th>lat</th>\n",
       "      <th>lng</th>\n",
       "      <th>title</th>\n",
       "    </tr>\n",
       "  </thead>\n",
       "  <tbody>\n",
       "    <tr>\n",
       "      <th>337789</th>\n",
       "      <td>40.069832</td>\n",
       "      <td>-75.316295</td>\n",
       "      <td>EMS: VEHICLE ACCIDENT</td>\n",
       "    </tr>\n",
       "    <tr>\n",
       "      <th>79229</th>\n",
       "      <td>40.142332</td>\n",
       "      <td>-75.240999</td>\n",
       "      <td>EMS: VEHICLE ACCIDENT</td>\n",
       "    </tr>\n",
       "    <tr>\n",
       "      <th>114687</th>\n",
       "      <td>40.100344</td>\n",
       "      <td>-75.293955</td>\n",
       "      <td>Traffic: VEHICLE ACCIDENT -</td>\n",
       "    </tr>\n",
       "    <tr>\n",
       "      <th>56311</th>\n",
       "      <td>40.244066</td>\n",
       "      <td>-75.614662</td>\n",
       "      <td>EMS: ASSAULT VICTIM</td>\n",
       "    </tr>\n",
       "    <tr>\n",
       "      <th>312642</th>\n",
       "      <td>40.074619</td>\n",
       "      <td>-75.151182</td>\n",
       "      <td>EMS: CARDIAC EMERGENCY</td>\n",
       "    </tr>\n",
       "  </tbody>\n",
       "</table>\n",
       "</div>"
      ],
      "text/plain": [
       "              lat        lng                        title\n",
       "337789  40.069832 -75.316295        EMS: VEHICLE ACCIDENT\n",
       "79229   40.142332 -75.240999        EMS: VEHICLE ACCIDENT\n",
       "114687  40.100344 -75.293955  Traffic: VEHICLE ACCIDENT -\n",
       "56311   40.244066 -75.614662          EMS: ASSAULT VICTIM\n",
       "312642  40.074619 -75.151182       EMS: CARDIAC EMERGENCY"
      ]
     },
     "execution_count": 5,
     "metadata": {},
     "output_type": "execute_result"
    }
   ],
   "source": [
    "data_sample = data_sample.loc[:, [\"lat\", \"lng\", \"title\"]]\n",
    "data_sample.head()"
   ]
  },
  {
   "cell_type": "markdown",
   "metadata": {},
   "source": [
    "7. Create dummy variables column `title`."
   ]
  },
  {
   "cell_type": "code",
   "execution_count": 6,
   "metadata": {},
   "outputs": [
    {
     "name": "stdout",
     "output_type": "stream",
     "text": [
      "Preprocessing sur le train set...\n",
      "              lat        lng                        title\n",
      "337789  40.069832 -75.316295        EMS: VEHICLE ACCIDENT\n",
      "79229   40.142332 -75.240999        EMS: VEHICLE ACCIDENT\n",
      "114687  40.100344 -75.293955  Traffic: VEHICLE ACCIDENT -\n",
      "56311   40.244066 -75.614662          EMS: ASSAULT VICTIM\n",
      "312642  40.074619 -75.151182       EMS: CARDIAC EMERGENCY\n",
      "...Terminé.\n",
      "  (0, 0)\t-0.4378400257210608\n",
      "  (0, 1)\t-0.00994390977028755\n",
      "  (0, 52)\t1.0\n",
      "  (1, 0)\t-0.07939192618219695\n",
      "  (1, 1)\t0.0359255005121839\n",
      "  (1, 52)\t1.0\n",
      "  (2, 0)\t-0.28698718836751924\n",
      "  (2, 1)\t0.003665475903821895\n",
      "  (2, 86)\t1.0\n",
      "  (3, 0)\t0.42358748690654885\n",
      "  (3, 1)\t-0.19170443987663652\n",
      "  (3, 6)\t1.0\n",
      "  (4, 0)\t-0.41417262821743117\n",
      "  (4, 1)\t0.09064083177312553\n",
      "  (4, 12)\t1.0\n",
      "\n"
     ]
    }
   ],
   "source": [
    "numeric_features = [0, 1] # Positions des colonnes quantitatives dans X\n",
    "numeric_transformer = StandardScaler()\n",
    "\n",
    "# Création du transformer pour les variables catégorielles\n",
    "categorical_features = [2] # Positions des colonnes catégorielles dans X\n",
    "categorical_transformer = OneHotEncoder(drop='first')\n",
    "\n",
    "# On combine les transformers dans un ColumnTransformer\n",
    "preprocessor = ColumnTransformer(\n",
    "    transformers=[\n",
    "        ('num', numeric_transformer, numeric_features),\n",
    "        ('cat', categorical_transformer, categorical_features)\n",
    "    ])\n",
    "\n",
    "# Preprocessings sur le dataset\n",
    "print(\"Preprocessing sur le train set...\")\n",
    "print(data_sample.head())\n",
    "X = preprocessor.fit_transform(data_sample) # fit_transform !!\n",
    "print('...Terminé.')\n",
    "print(X[0:5, :])\n",
    "print()"
   ]
  },
  {
   "cell_type": "markdown",
   "metadata": {},
   "source": [
    "8. Let's start using DBSCAN, import the module and fit DBSCAN to your data. You should use `eps=0.2`, `min_samples=100` and `metric=\"manhattan\"` as parameters"
   ]
  },
  {
   "cell_type": "code",
   "execution_count": 8,
   "metadata": {},
   "outputs": [
    {
     "data": {
      "text/plain": [
       "DBSCAN(eps=0.2, metric='manhattan', min_samples=100)"
      ]
     },
     "execution_count": 8,
     "metadata": {},
     "output_type": "execute_result"
    }
   ],
   "source": [
    "from sklearn.cluster import DBSCAN\n",
    "\n",
    "db = DBSCAN(eps=0.2, min_samples=100, metric=\"manhattan\")\n",
    "\n",
    "db.fit(X)"
   ]
  },
  {
   "cell_type": "markdown",
   "metadata": {},
   "source": [
    "9. Find out how many clusters DBSCAN created. "
   ]
  },
  {
   "cell_type": "code",
   "execution_count": 9,
   "metadata": {},
   "outputs": [
    {
     "data": {
      "text/plain": [
       "array([-1,  0,  1,  2,  3,  4,  5,  6,  7,  8])"
      ]
     },
     "execution_count": 9,
     "metadata": {},
     "output_type": "execute_result"
    }
   ],
   "source": [
    "np.unique(db.labels_)"
   ]
  },
  {
   "cell_type": "markdown",
   "metadata": {},
   "source": [
    "10. Add a new column `\"cluster\"` to `data_sample` where each observations are going to be the label of the corresponding cluster."
   ]
  },
  {
   "cell_type": "code",
   "execution_count": 10,
   "metadata": {},
   "outputs": [
    {
     "data": {
      "text/html": [
       "<div>\n",
       "<style scoped>\n",
       "    .dataframe tbody tr th:only-of-type {\n",
       "        vertical-align: middle;\n",
       "    }\n",
       "\n",
       "    .dataframe tbody tr th {\n",
       "        vertical-align: top;\n",
       "    }\n",
       "\n",
       "    .dataframe thead th {\n",
       "        text-align: right;\n",
       "    }\n",
       "</style>\n",
       "<table border=\"1\" class=\"dataframe\">\n",
       "  <thead>\n",
       "    <tr style=\"text-align: right;\">\n",
       "      <th></th>\n",
       "      <th>lat</th>\n",
       "      <th>lng</th>\n",
       "      <th>title</th>\n",
       "      <th>cluster</th>\n",
       "    </tr>\n",
       "  </thead>\n",
       "  <tbody>\n",
       "    <tr>\n",
       "      <th>337789</th>\n",
       "      <td>40.069832</td>\n",
       "      <td>-75.316295</td>\n",
       "      <td>EMS: VEHICLE ACCIDENT</td>\n",
       "      <td>4</td>\n",
       "    </tr>\n",
       "    <tr>\n",
       "      <th>79229</th>\n",
       "      <td>40.142332</td>\n",
       "      <td>-75.240999</td>\n",
       "      <td>EMS: VEHICLE ACCIDENT</td>\n",
       "      <td>4</td>\n",
       "    </tr>\n",
       "    <tr>\n",
       "      <th>114687</th>\n",
       "      <td>40.100344</td>\n",
       "      <td>-75.293955</td>\n",
       "      <td>Traffic: VEHICLE ACCIDENT -</td>\n",
       "      <td>0</td>\n",
       "    </tr>\n",
       "    <tr>\n",
       "      <th>56311</th>\n",
       "      <td>40.244066</td>\n",
       "      <td>-75.614662</td>\n",
       "      <td>EMS: ASSAULT VICTIM</td>\n",
       "      <td>-1</td>\n",
       "    </tr>\n",
       "    <tr>\n",
       "      <th>312642</th>\n",
       "      <td>40.074619</td>\n",
       "      <td>-75.151182</td>\n",
       "      <td>EMS: CARDIAC EMERGENCY</td>\n",
       "      <td>3</td>\n",
       "    </tr>\n",
       "  </tbody>\n",
       "</table>\n",
       "</div>"
      ],
      "text/plain": [
       "              lat        lng                        title  cluster\n",
       "337789  40.069832 -75.316295        EMS: VEHICLE ACCIDENT        4\n",
       "79229   40.142332 -75.240999        EMS: VEHICLE ACCIDENT        4\n",
       "114687  40.100344 -75.293955  Traffic: VEHICLE ACCIDENT -        0\n",
       "56311   40.244066 -75.614662          EMS: ASSAULT VICTIM       -1\n",
       "312642  40.074619 -75.151182       EMS: CARDIAC EMERGENCY        3"
      ]
     },
     "execution_count": 10,
     "metadata": {},
     "output_type": "execute_result"
    }
   ],
   "source": [
    "data_sample[\"cluster\"] = db.labels_\n",
    "data_sample.head()"
   ]
  },
  {
   "cell_type": "markdown",
   "metadata": {},
   "source": [
    "11. Visualize all the clusters on a map except all the ones that DBSCAN considered as outliers."
   ]
  },
  {
   "cell_type": "code",
   "execution_count": 11,
   "metadata": {},
   "outputs": [
    {
     "data": {
      "text/html": [
       "<iframe\n",
       "    scrolling=\"no\"\n",
       "    width=\"100%\"\n",
       "    height=\"545px\"\n",
       "    src=\"iframe_figures/figure_11.html\"\n",
       "    frameborder=\"0\"\n",
       "    allowfullscreen\n",
       "></iframe>\n"
      ]
     },
     "metadata": {},
     "output_type": "display_data"
    }
   ],
   "source": [
    "fig = px.scatter_mapbox(\n",
    "        data_sample[data_sample.cluster != -1], \n",
    "        lat=\"lat\", \n",
    "        lon=\"lng\",\n",
    "        color=\"cluster\",\n",
    "        mapbox_style=\"carto-positron\"\n",
    ")\n",
    "\n",
    "fig.show()"
   ]
  },
  {
   "cell_type": "markdown",
   "metadata": {},
   "source": [
    "12. Visualize all data points on a map except outliers using plotly. You should have different colors per `title`. \n",
    "\n",
    "13. What would then be your recommandations for this US county politicians? "
   ]
  },
  {
   "cell_type": "code",
   "execution_count": 12,
   "metadata": {},
   "outputs": [
    {
     "data": {
      "text/html": [
       "<iframe\n",
       "    scrolling=\"no\"\n",
       "    width=\"100%\"\n",
       "    height=\"545px\"\n",
       "    src=\"iframe_figures/figure_12.html\"\n",
       "    frameborder=\"0\"\n",
       "    allowfullscreen\n",
       "></iframe>\n"
      ]
     },
     "metadata": {},
     "output_type": "display_data"
    }
   ],
   "source": [
    "px.scatter_mapbox(\n",
    "    data_sample.loc[data_sample.cluster != -1, :],\n",
    "    lat=\"lat\",\n",
    "    lon=\"lng\",\n",
    "    color=\"title\",\n",
    "    mapbox_style=\"carto-positron\"\n",
    ")"
   ]
  },
  {
   "cell_type": "markdown",
   "metadata": {},
   "source": [
    "**The map shows the main topics to focus on and the main areas where this events occur. Therefore these are the areas that politics should focus on.** "
   ]
  }
 ],
 "metadata": {
  "kernelspec": {
   "display_name": "Python 3",
   "language": "python",
   "name": "python3"
  },
  "language_info": {
   "codemirror_mode": {
    "name": "ipython",
    "version": 3
   },
   "file_extension": ".py",
   "mimetype": "text/x-python",
   "name": "python",
   "nbconvert_exporter": "python",
   "pygments_lexer": "ipython3",
   "version": "3.8.6"
  }
 },
 "nbformat": 4,
 "nbformat_minor": 4
}
