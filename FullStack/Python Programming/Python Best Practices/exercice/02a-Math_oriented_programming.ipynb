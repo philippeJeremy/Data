{
  "cells": [
    {
      "cell_type": "markdown",
      "metadata": {
        "id": "ARXMbV_Vp5qc",
        "colab_type": "text"
      },
      "source": [
        "# Mathematically Oriented Programming"
      ]
    },
    {
      "cell_type": "markdown",
      "metadata": {
        "id": "1JYqlALqp73y",
        "colab_type": "text"
      },
      "source": [
        "_Mathematics, in general, we don't like to do it. Especially when it involves repeating operations, over and over again. Let's be real lazy and create a class that will do the operations we want for us._"
      ]
    },
    {
      "cell_type": "markdown",
      "metadata": {
        "id": "Lc3ol0PSp98l",
        "colab_type": "text"
      },
      "source": [
        "1. _Create a class to be called \"math.\"_\n",
        "2. _This class will have no internal attributes, so you don't need to define an init() _\n",
        "3. _Create a method that will compute the square root of any number._\n",
        "4. _Create a method that will calculate the average of any list of numbers._\n",
        "5. _Create a method to find out if a number is even or odd_.\n",
        "6. _Finally, create a method that will give the total sum of a list of numbers._\n"
      ]
    },
    {
      "cell_type": "code",
      "metadata": {
        "id": "xFLBlgj1pndw",
        "colab_type": "code",
        "outputId": "44506b62-75cb-416a-895e-848ef632a530",
        "colab": {
          "base_uri": "https://localhost:8080/",
          "height": 104
        }
      },
      "source": [],
      "execution_count": 1,
      "outputs": [
        {
          "output_type": "stream",
          "name": "stdout",
          "text": "the square root of 9 is 3.0\nthe average of 10, 30, 20 and 10 is 17.5\n4 is odd\n11 is odd\nthe sum of 10, 30, 10, 40 and 20 is 110\n"
        }
      ]
    }
  ],
  "metadata": {
    "colab": {
      "name": "Programmation Orientée Mathématiques - Exercice S1-3.ipynb",
      "version": "0.3.2",
      "provenance": []
    },
    "kernelspec": {
      "name": "python3",
      "display_name": "Python 3"
    }
  },
  "nbformat": 4,
  "nbformat_minor": 0
}