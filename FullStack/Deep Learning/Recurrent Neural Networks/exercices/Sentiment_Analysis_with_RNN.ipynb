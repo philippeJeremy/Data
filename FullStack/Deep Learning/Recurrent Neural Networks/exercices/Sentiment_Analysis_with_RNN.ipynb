{
 "cells": [
  {
   "cell_type": "code",
   "execution_count": 1,
   "metadata": {},
   "outputs": [],
   "source": [
    "import os\n",
    "import io\n",
    "import json\n",
    "import spacy\n",
    "import pathlib \n",
    "import warnings\n",
    "import fr_core_news_md\n",
    "\n",
    "import pandas as pd \n",
    "import tensorflow as tf \n",
    "import matplotlib.pyplot as plt\n",
    "\n",
    "from tensorflow.data import Dataset\n",
    "from tensorflow.keras import Sequential\n",
    "from spacy.lang.fr.stop_words import STOP_WORDS\n",
    "from sklearn.model_selection import train_test_split\n",
    "from tensorflow.keras.preprocessing.sequence import pad_sequences\n",
    "from tensorflow.keras.layers import Dense, Embedding, GlobalAveragePooling1D, SimpleRNN, GRU, LSTM\n",
    "from tensorflow.keras.layers.experimental.preprocessing import TextVectorization\n",
    "\n",
    "nlp = fr_core_news_md.load()"
   ]
  },
  {
   "cell_type": "code",
   "execution_count": 2,
   "metadata": {},
   "outputs": [],
   "source": [
    "df = pd.read_csv(\"https://go.aws/314bBDq\")"
   ]
  },
  {
   "cell_type": "code",
   "execution_count": 3,
   "metadata": {},
   "outputs": [],
   "source": [
    "df = df[(df[\"review_lang\"] == \"french\")]"
   ]
  },
  {
   "cell_type": "code",
   "execution_count": 4,
   "metadata": {},
   "outputs": [],
   "source": [
    "df = df[[\"review\", \"stars\"]]"
   ]
  },
  {
   "cell_type": "code",
   "execution_count": 5,
   "metadata": {},
   "outputs": [],
   "source": [
    "df[\"review_clean\"] = df[\"review\"].apply(lambda x:''.join(ch for ch in x if ch.isalnum() or ch==\" \" or ch==\"'\"))\n",
    "df[\"review_clean\"] = df[\"review_clean\"].apply(lambda x: x.replace(\" +\",\" \").lower().strip())\n",
    "df[\"review_clean\"] = df[\"review_clean\"].apply(lambda x: \" \".join([token.lemma_ for token in nlp(x) if (token.lemma_ not in STOP_WORDS) and (token.text not in STOP_WORDS)]))"
   ]
  },
  {
   "cell_type": "code",
   "execution_count": 6,
   "metadata": {},
   "outputs": [],
   "source": [
    "mask = df[\"review_clean\"].isna()==False\n",
    "df = df[mask]"
   ]
  },
  {
   "cell_type": "code",
   "execution_count": 7,
   "metadata": {},
   "outputs": [],
   "source": [
    "tokenizer = tf.keras.preprocessing.text.Tokenizer(num_words=1000) # instanciate the tokenizer\n",
    "tokenizer.fit_on_texts(df[\"review_clean\"])\n",
    "df[\"review_encoded\"] = tokenizer.texts_to_sequences(df[\"review_clean\"])\n",
    "df[\"len_review\"] = df[\"review_encoded\"].apply(lambda x: len(x))\n",
    "df = df[df[\"len_review\"]!=0]"
   ]
  },
  {
   "cell_type": "code",
   "execution_count": 8,
   "metadata": {},
   "outputs": [],
   "source": [
    "reviews_pad = tf.keras.preprocessing.sequence.pad_sequences(df[\"review_encoded\"], padding=\"post\")"
   ]
  },
  {
   "cell_type": "code",
   "execution_count": 9,
   "metadata": {},
   "outputs": [],
   "source": [
    "full_ds = tf.data.Dataset.from_tensor_slices((reviews_pad, df[\"stars\"].values-1))"
   ]
  },
  {
   "cell_type": "code",
   "execution_count": 10,
   "metadata": {},
   "outputs": [],
   "source": [
    "TAKE_SIZE = int(0.7*df.shape[0])\n",
    "\n",
    "train_data = full_ds.take(TAKE_SIZE).shuffle(TAKE_SIZE)\n",
    "train_data = train_data.batch(64)\n",
    "\n",
    "test_data = full_ds.skip(TAKE_SIZE)\n",
    "test_data = test_data.batch(64)"
   ]
  },
  {
   "cell_type": "code",
   "execution_count": 11,
   "metadata": {},
   "outputs": [
    {
     "name": "stdout",
     "output_type": "stream",
     "text": [
      "tf.Tensor(\n",
      "[[442  73  50 ...   0   0   0]\n",
      " [ 29  28 806 ...   0   0   0]\n",
      " [ 92  42  94 ...   0   0   0]\n",
      " ...\n",
      " [ 20  11 178 ...   0   0   0]\n",
      " [ 39  20 283 ...   0   0   0]\n",
      " [156 166 365 ...   0   0   0]], shape=(64, 442), dtype=int32) tf.Tensor(\n",
      "[4 3 4 4 2 2 4 4 4 4 4 4 3 4 2 4 4 4 1 4 4 2 4 2 2 4 3 4 2 4 4 4 4 0 4 4 2\n",
      " 4 4 4 4 4 1 4 4 2 4 2 3 2 4 2 3 1 4 0 2 3 4 0 3 4 2 4], shape=(64,), dtype=int64)\n"
     ]
    }
   ],
   "source": [
    "for review, star in train_data.take(1):\n",
    "  print(review, star)"
   ]
  },
  {
   "cell_type": "code",
   "execution_count": 12,
   "metadata": {},
   "outputs": [],
   "source": [
    "\n",
    "vocab_size = len(tokenizer.word_index)\n",
    "\n",
    "model = Sequential([\n",
    "                Embedding(vocab_size+1, 64, input_shape=[review.shape[1],],  name=\"embedding\"),\n",
    "                SimpleRNN(units=64, return_sequences=True),\n",
    "                SimpleRNN(units=32, return_sequences=False),\n",
    "                Dense(16, activation='relu'), \n",
    "                Dense(8, activation=\"relu\"),\n",
    "                Dense(5, activation=\"softmax\")\n",
    "    ])"
   ]
  },
  {
   "cell_type": "code",
   "execution_count": 13,
   "metadata": {},
   "outputs": [
    {
     "name": "stdout",
     "output_type": "stream",
     "text": [
      "Model: \"sequential\"\n",
      "_________________________________________________________________\n",
      " Layer (type)                Output Shape              Param #   \n",
      "=================================================================\n",
      " embedding (Embedding)       (None, 442, 64)           854016    \n",
      "                                                                 \n",
      " simple_rnn (SimpleRNN)      (None, 442, 64)           8256      \n",
      "                                                                 \n",
      " simple_rnn_1 (SimpleRNN)    (None, 32)                3104      \n",
      "                                                                 \n",
      " dense (Dense)               (None, 16)                528       \n",
      "                                                                 \n",
      " dense_1 (Dense)             (None, 8)                 136       \n",
      "                                                                 \n",
      " dense_2 (Dense)             (None, 5)                 45        \n",
      "                                                                 \n",
      "=================================================================\n",
      "Total params: 866,085\n",
      "Trainable params: 866,085\n",
      "Non-trainable params: 0\n",
      "_________________________________________________________________\n"
     ]
    }
   ],
   "source": [
    "model.summary()"
   ]
  },
  {
   "cell_type": "code",
   "execution_count": 14,
   "metadata": {},
   "outputs": [],
   "source": [
    "model.compile(optimizer=tf.keras.optimizers.Adam(),\n",
    "              loss = tf.keras.losses.SparseCategoricalCrossentropy(),\n",
    "              metrics = [tf.keras.metrics.SparseCategoricalAccuracy()])"
   ]
  },
  {
   "cell_type": "code",
   "execution_count": 15,
   "metadata": {},
   "outputs": [
    {
     "data": {
      "text/plain": [
       "4    4847\n",
       "3    1536\n",
       "2    1008\n",
       "0     557\n",
       "1     487\n",
       "Name: stars, dtype: int64"
      ]
     },
     "execution_count": 15,
     "metadata": {},
     "output_type": "execute_result"
    }
   ],
   "source": [
    "(df[\"stars\"]-1).value_counts()"
   ]
  },
  {
   "cell_type": "code",
   "execution_count": 16,
   "metadata": {},
   "outputs": [
    {
     "data": {
      "text/plain": [
       "{4: 0.34805034041675265,\n",
       " 3: 1.0983072916666665,\n",
       " 2: 1.6736111111111112,\n",
       " 0: 3.028725314183124,\n",
       " 1: 3.4640657084188917}"
      ]
     },
     "execution_count": 16,
     "metadata": {},
     "output_type": "execute_result"
    }
   ],
   "source": [
    "weights = 1/(df[\"stars\"]-1).value_counts()\n",
    "weights = weights * len(df)/5\n",
    "weights = {index : values for index , values in zip(weights.index,weights.values)}\n",
    "weights"
   ]
  },
  {
   "cell_type": "code",
   "execution_count": 17,
   "metadata": {},
   "outputs": [
    {
     "name": "stdout",
     "output_type": "stream",
     "text": [
      "Epoch 1/20\n",
      "93/93 [==============================] - 11s 99ms/step - loss: 1.6690 - sparse_categorical_accuracy: 0.1789 - val_loss: 1.6799 - val_sparse_categorical_accuracy: 0.0699\n",
      "Epoch 2/20\n",
      "93/93 [==============================] - 10s 103ms/step - loss: 1.6624 - sparse_categorical_accuracy: 0.1440 - val_loss: 1.7235 - val_sparse_categorical_accuracy: 0.0533\n",
      "Epoch 3/20\n",
      "93/93 [==============================] - 10s 103ms/step - loss: 1.6569 - sparse_categorical_accuracy: 0.1672 - val_loss: 1.6786 - val_sparse_categorical_accuracy: 0.0664\n",
      "Epoch 4/20\n",
      "93/93 [==============================] - 9s 101ms/step - loss: 1.6558 - sparse_categorical_accuracy: 0.1485 - val_loss: 1.6588 - val_sparse_categorical_accuracy: 0.0664\n",
      "Epoch 5/20\n",
      "93/93 [==============================] - 9s 97ms/step - loss: 1.6550 - sparse_categorical_accuracy: 0.1685 - val_loss: 1.7065 - val_sparse_categorical_accuracy: 0.0664\n",
      "Epoch 6/20\n",
      "93/93 [==============================] - 9s 94ms/step - loss: 1.6554 - sparse_categorical_accuracy: 0.1423 - val_loss: 1.6475 - val_sparse_categorical_accuracy: 0.0664\n",
      "Epoch 7/20\n",
      "93/93 [==============================] - 9s 94ms/step - loss: 1.6553 - sparse_categorical_accuracy: 0.1423 - val_loss: 1.6849 - val_sparse_categorical_accuracy: 0.0664\n",
      "Epoch 8/20\n",
      "93/93 [==============================] - 9s 94ms/step - loss: 1.6550 - sparse_categorical_accuracy: 0.1423 - val_loss: 1.6375 - val_sparse_categorical_accuracy: 0.0664\n",
      "Epoch 9/20\n",
      "93/93 [==============================] - 9s 99ms/step - loss: 1.6558 - sparse_categorical_accuracy: 0.1423 - val_loss: 1.6433 - val_sparse_categorical_accuracy: 0.0664\n",
      "Epoch 10/20\n",
      "93/93 [==============================] - 9s 95ms/step - loss: 1.6555 - sparse_categorical_accuracy: 0.1423 - val_loss: 1.6636 - val_sparse_categorical_accuracy: 0.0664\n",
      "Epoch 11/20\n",
      "93/93 [==============================] - 9s 95ms/step - loss: 1.6553 - sparse_categorical_accuracy: 0.1423 - val_loss: 1.6610 - val_sparse_categorical_accuracy: 0.0664\n",
      "Epoch 12/20\n",
      "93/93 [==============================] - 9s 94ms/step - loss: 1.6553 - sparse_categorical_accuracy: 0.1423 - val_loss: 1.6756 - val_sparse_categorical_accuracy: 0.0664\n",
      "Epoch 13/20\n",
      "93/93 [==============================] - 9s 93ms/step - loss: 1.6556 - sparse_categorical_accuracy: 0.1423 - val_loss: 1.6960 - val_sparse_categorical_accuracy: 0.0664\n",
      "Epoch 14/20\n",
      "93/93 [==============================] - 9s 93ms/step - loss: 1.6552 - sparse_categorical_accuracy: 0.1423 - val_loss: 1.6836 - val_sparse_categorical_accuracy: 0.0664\n",
      "Epoch 15/20\n",
      "93/93 [==============================] - 9s 94ms/step - loss: 1.6552 - sparse_categorical_accuracy: 0.1423 - val_loss: 1.6902 - val_sparse_categorical_accuracy: 0.0664\n",
      "Epoch 16/20\n",
      "93/93 [==============================] - 9s 93ms/step - loss: 1.6559 - sparse_categorical_accuracy: 0.1423 - val_loss: 1.6928 - val_sparse_categorical_accuracy: 0.0664\n",
      "Epoch 17/20\n",
      "93/93 [==============================] - 9s 93ms/step - loss: 1.6555 - sparse_categorical_accuracy: 0.1423 - val_loss: 1.6979 - val_sparse_categorical_accuracy: 0.0664\n",
      "Epoch 18/20\n",
      "93/93 [==============================] - 9s 94ms/step - loss: 1.6554 - sparse_categorical_accuracy: 0.1423 - val_loss: 1.6776 - val_sparse_categorical_accuracy: 0.0664\n",
      "Epoch 19/20\n",
      "93/93 [==============================] - 9s 95ms/step - loss: 1.6550 - sparse_categorical_accuracy: 0.1423 - val_loss: 1.6671 - val_sparse_categorical_accuracy: 0.0664\n",
      "Epoch 20/20\n",
      "93/93 [==============================] - 9s 93ms/step - loss: 1.6554 - sparse_categorical_accuracy: 0.1423 - val_loss: 1.6855 - val_sparse_categorical_accuracy: 0.0664\n"
     ]
    },
    {
     "data": {
      "text/plain": [
       "<keras.callbacks.History at 0x2b683cc7a60>"
      ]
     },
     "execution_count": 17,
     "metadata": {},
     "output_type": "execute_result"
    }
   ],
   "source": [
    "model.fit(\n",
    "    train_data,\n",
    "    validation_data=test_data,\n",
    "    class_weight=weights,\n",
    "    epochs=20)"
   ]
  },
  {
   "cell_type": "code",
   "execution_count": 18,
   "metadata": {},
   "outputs": [],
   "source": [
    "model.save(\"model_simpleRNN.h5\")"
   ]
  },
  {
   "cell_type": "code",
   "execution_count": 19,
   "metadata": {},
   "outputs": [],
   "source": [
    "json.dump(model.history.history, open(\"simpleRNN_history.json\", 'w'))"
   ]
  },
  {
   "cell_type": "code",
   "execution_count": 20,
   "metadata": {},
   "outputs": [],
   "source": [
    "vocab_size = len(tokenizer.word_index)\n",
    "model_gru = tf.keras.Sequential([\n",
    "                  Embedding(vocab_size+1, 64, input_shape=[review.shape[1],],name=\"embedding\"),\n",
    "                  GRU(units=64, return_sequences=True), \n",
    "                  GRU(units=32, return_sequences=False), \n",
    "                  Dense(16, activation='relu'),\n",
    "                  Dense(8, activation='relu'),\n",
    "\n",
    "                  Dense(5, activation=\"softmax\")\n",
    "])"
   ]
  },
  {
   "cell_type": "code",
   "execution_count": 21,
   "metadata": {},
   "outputs": [
    {
     "name": "stdout",
     "output_type": "stream",
     "text": [
      "Model: \"sequential_1\"\n",
      "_________________________________________________________________\n",
      " Layer (type)                Output Shape              Param #   \n",
      "=================================================================\n",
      " embedding (Embedding)       (None, 442, 64)           854016    \n",
      "                                                                 \n",
      " gru (GRU)                   (None, 442, 64)           24960     \n",
      "                                                                 \n",
      " gru_1 (GRU)                 (None, 32)                9408      \n",
      "                                                                 \n",
      " dense_3 (Dense)             (None, 16)                528       \n",
      "                                                                 \n",
      " dense_4 (Dense)             (None, 8)                 136       \n",
      "                                                                 \n",
      " dense_5 (Dense)             (None, 5)                 45        \n",
      "                                                                 \n",
      "=================================================================\n",
      "Total params: 889,093\n",
      "Trainable params: 889,093\n",
      "Non-trainable params: 0\n",
      "_________________________________________________________________\n"
     ]
    }
   ],
   "source": [
    "model_gru.summary()"
   ]
  },
  {
   "cell_type": "code",
   "execution_count": 22,
   "metadata": {},
   "outputs": [],
   "source": [
    "optimizer= tf.keras.optimizers.Adam()\n",
    "\n",
    "model_gru.compile(optimizer=optimizer,\n",
    "              loss=tf.keras.losses.SparseCategoricalCrossentropy(),\n",
    "              metrics=[tf.keras.metrics.SparseCategoricalAccuracy()])"
   ]
  },
  {
   "cell_type": "code",
   "execution_count": 23,
   "metadata": {},
   "outputs": [
    {
     "name": "stdout",
     "output_type": "stream",
     "text": [
      "Epoch 1/20\n",
      "93/93 [==============================] - 24s 231ms/step - loss: 1.6603 - sparse_categorical_accuracy: 0.2107 - val_loss: 1.6557 - val_sparse_categorical_accuracy: 0.1154\n",
      "Epoch 2/20\n",
      "93/93 [==============================] - 20s 215ms/step - loss: 1.6578 - sparse_categorical_accuracy: 0.1943 - val_loss: 1.6591 - val_sparse_categorical_accuracy: 0.1154\n",
      "Epoch 3/20\n",
      "93/93 [==============================] - 21s 228ms/step - loss: 1.6568 - sparse_categorical_accuracy: 0.1695 - val_loss: 1.6856 - val_sparse_categorical_accuracy: 0.1154\n",
      "Epoch 4/20\n",
      "93/93 [==============================] - 22s 239ms/step - loss: 1.6562 - sparse_categorical_accuracy: 0.1831 - val_loss: 1.6749 - val_sparse_categorical_accuracy: 0.1154\n",
      "Epoch 5/20\n",
      "93/93 [==============================] - 22s 234ms/step - loss: 1.6556 - sparse_categorical_accuracy: 0.1907 - val_loss: 1.6600 - val_sparse_categorical_accuracy: 0.0664\n",
      "Epoch 6/20\n",
      "93/93 [==============================] - 22s 238ms/step - loss: 1.6555 - sparse_categorical_accuracy: 0.1423 - val_loss: 1.6833 - val_sparse_categorical_accuracy: 0.0664\n",
      "Epoch 7/20\n",
      "93/93 [==============================] - 22s 235ms/step - loss: 1.6553 - sparse_categorical_accuracy: 0.1423 - val_loss: 1.6814 - val_sparse_categorical_accuracy: 0.0664\n",
      "Epoch 8/20\n",
      "93/93 [==============================] - 23s 248ms/step - loss: 1.6552 - sparse_categorical_accuracy: 0.1423 - val_loss: 1.6764 - val_sparse_categorical_accuracy: 0.0664\n",
      "Epoch 9/20\n",
      "93/93 [==============================] - 23s 252ms/step - loss: 1.6551 - sparse_categorical_accuracy: 0.1423 - val_loss: 1.6758 - val_sparse_categorical_accuracy: 0.0664\n",
      "Epoch 10/20\n",
      "93/93 [==============================] - 24s 254ms/step - loss: 1.6551 - sparse_categorical_accuracy: 0.1423 - val_loss: 1.6797 - val_sparse_categorical_accuracy: 0.0664\n",
      "Epoch 11/20\n",
      "93/93 [==============================] - 24s 257ms/step - loss: 1.6551 - sparse_categorical_accuracy: 0.1531 - val_loss: 1.6767 - val_sparse_categorical_accuracy: 0.0664\n",
      "Epoch 12/20\n",
      "93/93 [==============================] - 21s 228ms/step - loss: 1.6550 - sparse_categorical_accuracy: 0.1423 - val_loss: 1.6811 - val_sparse_categorical_accuracy: 0.0664\n",
      "Epoch 13/20\n",
      "93/93 [==============================] - 21s 224ms/step - loss: 1.6550 - sparse_categorical_accuracy: 0.1423 - val_loss: 1.6818 - val_sparse_categorical_accuracy: 0.0664\n",
      "Epoch 14/20\n",
      "93/93 [==============================] - 22s 237ms/step - loss: 1.6549 - sparse_categorical_accuracy: 0.1423 - val_loss: 1.6767 - val_sparse_categorical_accuracy: 0.0664\n",
      "Epoch 15/20\n",
      "93/93 [==============================] - 20s 219ms/step - loss: 1.6551 - sparse_categorical_accuracy: 0.1423 - val_loss: 1.6740 - val_sparse_categorical_accuracy: 0.0664\n",
      "Epoch 16/20\n",
      "93/93 [==============================] - 21s 228ms/step - loss: 1.6550 - sparse_categorical_accuracy: 0.1423 - val_loss: 1.6792 - val_sparse_categorical_accuracy: 0.0664\n",
      "Epoch 17/20\n",
      "93/93 [==============================] - 21s 221ms/step - loss: 1.6550 - sparse_categorical_accuracy: 0.1423 - val_loss: 1.6848 - val_sparse_categorical_accuracy: 0.0664\n",
      "Epoch 18/20\n",
      "93/93 [==============================] - 21s 226ms/step - loss: 1.6550 - sparse_categorical_accuracy: 0.1423 - val_loss: 1.6764 - val_sparse_categorical_accuracy: 0.0664\n",
      "Epoch 19/20\n",
      "93/93 [==============================] - 21s 221ms/step - loss: 1.6549 - sparse_categorical_accuracy: 0.1423 - val_loss: 1.6767 - val_sparse_categorical_accuracy: 0.0664\n",
      "Epoch 20/20\n",
      "93/93 [==============================] - 20s 215ms/step - loss: 1.6550 - sparse_categorical_accuracy: 0.1423 - val_loss: 1.6792 - val_sparse_categorical_accuracy: 0.0664\n"
     ]
    },
    {
     "data": {
      "text/plain": [
       "<keras.callbacks.History at 0x2b683c9d690>"
      ]
     },
     "execution_count": 23,
     "metadata": {},
     "output_type": "execute_result"
    }
   ],
   "source": [
    "model_gru.fit(train_data,\n",
    "              epochs=20, \n",
    "              validation_data=test_data,\n",
    "              class_weight=weights)"
   ]
  },
  {
   "cell_type": "code",
   "execution_count": 24,
   "metadata": {},
   "outputs": [],
   "source": [
    "model_gru.save(\"model_gru.h5\")"
   ]
  },
  {
   "cell_type": "code",
   "execution_count": 25,
   "metadata": {},
   "outputs": [],
   "source": [
    "json.dump(model_gru.history.history, open(\"GRU_history.json\", 'w'))"
   ]
  },
  {
   "cell_type": "code",
   "execution_count": 26,
   "metadata": {},
   "outputs": [],
   "source": [
    "vocab_size = len(tokenizer.word_index)\n",
    "model_lstm = tf.keras.Sequential([\n",
    "                  Embedding(vocab_size+1, 64, input_shape=[review.shape[1],],name=\"embedding\"),\n",
    "                  LSTM(units=64, return_sequences=True), \n",
    "                  LSTM(units=32, return_sequences=False), \n",
    "                  Dense(16, activation='relu'),\n",
    "                  Dense(8, activation='relu'),\n",
    "\n",
    "                  Dense(5, activation=\"softmax\", name=\"last\")\n",
    "])"
   ]
  },
  {
   "cell_type": "code",
   "execution_count": 27,
   "metadata": {},
   "outputs": [
    {
     "name": "stdout",
     "output_type": "stream",
     "text": [
      "Model: \"sequential_2\"\n",
      "_________________________________________________________________\n",
      " Layer (type)                Output Shape              Param #   \n",
      "=================================================================\n",
      " embedding (Embedding)       (None, 442, 64)           854016    \n",
      "                                                                 \n",
      " lstm (LSTM)                 (None, 442, 64)           33024     \n",
      "                                                                 \n",
      " lstm_1 (LSTM)               (None, 32)                12416     \n",
      "                                                                 \n",
      " dense_6 (Dense)             (None, 16)                528       \n",
      "                                                                 \n",
      " dense_7 (Dense)             (None, 8)                 136       \n",
      "                                                                 \n",
      " last (Dense)                (None, 5)                 45        \n",
      "                                                                 \n",
      "=================================================================\n",
      "Total params: 900,165\n",
      "Trainable params: 900,165\n",
      "Non-trainable params: 0\n",
      "_________________________________________________________________\n"
     ]
    }
   ],
   "source": [
    "model_lstm.summary()"
   ]
  },
  {
   "cell_type": "code",
   "execution_count": 28,
   "metadata": {},
   "outputs": [],
   "source": [
    "optimizer= tf.keras.optimizers.Adam()\n",
    "\n",
    "model_lstm.compile(optimizer=optimizer,\n",
    "              loss=tf.keras.losses.SparseCategoricalCrossentropy(),\n",
    "              metrics=[tf.keras.metrics.SparseCategoricalAccuracy()])"
   ]
  },
  {
   "cell_type": "code",
   "execution_count": 29,
   "metadata": {},
   "outputs": [
    {
     "name": "stdout",
     "output_type": "stream",
     "text": [
      "Epoch 1/20\n",
      "93/93 [==============================] - 29s 285ms/step - loss: 1.6601 - sparse_categorical_accuracy: 0.1629 - val_loss: 1.6171 - val_sparse_categorical_accuracy: 0.0664\n",
      "Epoch 2/20\n",
      "93/93 [==============================] - 26s 282ms/step - loss: 1.6565 - sparse_categorical_accuracy: 0.1443 - val_loss: 1.6462 - val_sparse_categorical_accuracy: 0.1154\n",
      "Epoch 3/20\n",
      "93/93 [==============================] - 26s 276ms/step - loss: 1.6564 - sparse_categorical_accuracy: 0.1445 - val_loss: 1.6494 - val_sparse_categorical_accuracy: 0.0664\n",
      "Epoch 4/20\n",
      "93/93 [==============================] - 27s 294ms/step - loss: 1.6553 - sparse_categorical_accuracy: 0.1423 - val_loss: 1.6674 - val_sparse_categorical_accuracy: 0.0664\n",
      "Epoch 5/20\n",
      "93/93 [==============================] - 26s 280ms/step - loss: 1.6555 - sparse_categorical_accuracy: 0.1423 - val_loss: 1.6672 - val_sparse_categorical_accuracy: 0.0664\n",
      "Epoch 6/20\n",
      "93/93 [==============================] - 26s 277ms/step - loss: 1.6553 - sparse_categorical_accuracy: 0.1423 - val_loss: 1.6764 - val_sparse_categorical_accuracy: 0.0664\n",
      "Epoch 7/20\n",
      "93/93 [==============================] - 26s 280ms/step - loss: 1.6552 - sparse_categorical_accuracy: 0.1514 - val_loss: 1.6743 - val_sparse_categorical_accuracy: 0.0664\n",
      "Epoch 8/20\n",
      "93/93 [==============================] - 26s 282ms/step - loss: 1.6552 - sparse_categorical_accuracy: 0.1423 - val_loss: 1.6747 - val_sparse_categorical_accuracy: 0.0664\n",
      "Epoch 9/20\n",
      "93/93 [==============================] - 28s 304ms/step - loss: 1.6551 - sparse_categorical_accuracy: 0.1423 - val_loss: 1.6775 - val_sparse_categorical_accuracy: 0.0664\n",
      "Epoch 10/20\n",
      "93/93 [==============================] - 26s 274ms/step - loss: 1.6551 - sparse_categorical_accuracy: 0.1423 - val_loss: 1.6789 - val_sparse_categorical_accuracy: 0.0664\n",
      "Epoch 11/20\n",
      "93/93 [==============================] - 25s 267ms/step - loss: 1.6550 - sparse_categorical_accuracy: 0.1423 - val_loss: 1.6795 - val_sparse_categorical_accuracy: 0.0664\n",
      "Epoch 12/20\n",
      "93/93 [==============================] - 25s 267ms/step - loss: 1.6549 - sparse_categorical_accuracy: 0.1423 - val_loss: 1.6800 - val_sparse_categorical_accuracy: 0.0664\n",
      "Epoch 13/20\n",
      "93/93 [==============================] - 25s 266ms/step - loss: 1.6551 - sparse_categorical_accuracy: 0.1423 - val_loss: 1.6793 - val_sparse_categorical_accuracy: 0.0664\n",
      "Epoch 14/20\n",
      "93/93 [==============================] - 25s 267ms/step - loss: 1.6550 - sparse_categorical_accuracy: 0.1423 - val_loss: 1.6795 - val_sparse_categorical_accuracy: 0.0664\n",
      "Epoch 15/20\n",
      "93/93 [==============================] - 25s 265ms/step - loss: 1.6551 - sparse_categorical_accuracy: 0.1423 - val_loss: 1.6814 - val_sparse_categorical_accuracy: 0.0664\n",
      "Epoch 16/20\n",
      "93/93 [==============================] - 25s 266ms/step - loss: 1.6550 - sparse_categorical_accuracy: 0.1423 - val_loss: 1.6817 - val_sparse_categorical_accuracy: 0.0664\n",
      "Epoch 17/20\n",
      "93/93 [==============================] - 25s 267ms/step - loss: 1.6551 - sparse_categorical_accuracy: 0.1423 - val_loss: 1.6804 - val_sparse_categorical_accuracy: 0.0664\n",
      "Epoch 18/20\n",
      "93/93 [==============================] - 25s 267ms/step - loss: 1.6551 - sparse_categorical_accuracy: 0.1423 - val_loss: 1.6801 - val_sparse_categorical_accuracy: 0.0664\n",
      "Epoch 19/20\n",
      "93/93 [==============================] - 25s 265ms/step - loss: 1.6551 - sparse_categorical_accuracy: 0.1423 - val_loss: 1.6799 - val_sparse_categorical_accuracy: 0.0664\n",
      "Epoch 20/20\n",
      "93/93 [==============================] - 25s 267ms/step - loss: 1.6550 - sparse_categorical_accuracy: 0.1423 - val_loss: 1.6809 - val_sparse_categorical_accuracy: 0.0664\n"
     ]
    },
    {
     "data": {
      "text/plain": [
       "<keras.callbacks.History at 0x2b686b2c970>"
      ]
     },
     "execution_count": 29,
     "metadata": {},
     "output_type": "execute_result"
    }
   ],
   "source": [
    "model_lstm.fit(train_data,\n",
    "              epochs=20, \n",
    "              validation_data=test_data,\n",
    "               class_weight=weights)"
   ]
  },
  {
   "cell_type": "code",
   "execution_count": 30,
   "metadata": {},
   "outputs": [],
   "source": [
    "model_lstm.save(\"model_lstm.h5\")"
   ]
  },
  {
   "cell_type": "code",
   "execution_count": 31,
   "metadata": {},
   "outputs": [],
   "source": [
    "json.dump(model_lstm.history.history, open(\"LSTM_history.json\", 'w'))"
   ]
  },
  {
   "cell_type": "code",
   "execution_count": 32,
   "metadata": {},
   "outputs": [],
   "source": [
    "simpleRNN_history = json.load(open(\"simpleRNN_history.json\", 'r'))"
   ]
  },
  {
   "cell_type": "code",
   "execution_count": 33,
   "metadata": {},
   "outputs": [],
   "source": [
    "model_simpleRNN = tf.keras.models.load_model(\"model_simpleRNN.h5\")"
   ]
  },
  {
   "cell_type": "code",
   "execution_count": 34,
   "metadata": {},
   "outputs": [
    {
     "data": {
      "application/vnd.plotly.v1+json": {
       "config": {
        "plotlyServerURL": "https://plot.ly"
       },
       "data": [
        {
         "mode": "lines",
         "name": "loss",
         "type": "scatter",
         "y": [
          1.669015645980835,
          1.6623948812484741,
          1.6569302082061768,
          1.6558154821395874,
          1.6549679040908813,
          1.6554487943649292,
          1.6552876234054565,
          1.654969573020935,
          1.6558022499084473,
          1.6555495262145996,
          1.6552525758743286,
          1.655321717262268,
          1.6556041240692139,
          1.6551573276519775,
          1.6551741361618042,
          1.6558692455291748,
          1.6555101871490479,
          1.6553831100463867,
          1.6549800634384155,
          1.6554489135742188
         ]
        },
        {
         "mode": "lines",
         "name": "val_loss",
         "type": "scatter",
         "y": [
          1.679944634437561,
          1.7234680652618408,
          1.6786061525344849,
          1.6588492393493652,
          1.706480860710144,
          1.6474543809890747,
          1.6849066019058228,
          1.637549877166748,
          1.643274188041687,
          1.6636079549789429,
          1.6609915494918823,
          1.6756458282470703,
          1.6959683895111084,
          1.683600664138794,
          1.6902462244033813,
          1.6927834749221802,
          1.6979488134384155,
          1.677595853805542,
          1.6670758724212646,
          1.685451626777649
         ]
        }
       ],
       "layout": {
        "template": {
         "data": {
          "bar": [
           {
            "error_x": {
             "color": "#2a3f5f"
            },
            "error_y": {
             "color": "#2a3f5f"
            },
            "marker": {
             "line": {
              "color": "#E5ECF6",
              "width": 0.5
             },
             "pattern": {
              "fillmode": "overlay",
              "size": 10,
              "solidity": 0.2
             }
            },
            "type": "bar"
           }
          ],
          "barpolar": [
           {
            "marker": {
             "line": {
              "color": "#E5ECF6",
              "width": 0.5
             },
             "pattern": {
              "fillmode": "overlay",
              "size": 10,
              "solidity": 0.2
             }
            },
            "type": "barpolar"
           }
          ],
          "carpet": [
           {
            "aaxis": {
             "endlinecolor": "#2a3f5f",
             "gridcolor": "white",
             "linecolor": "white",
             "minorgridcolor": "white",
             "startlinecolor": "#2a3f5f"
            },
            "baxis": {
             "endlinecolor": "#2a3f5f",
             "gridcolor": "white",
             "linecolor": "white",
             "minorgridcolor": "white",
             "startlinecolor": "#2a3f5f"
            },
            "type": "carpet"
           }
          ],
          "choropleth": [
           {
            "colorbar": {
             "outlinewidth": 0,
             "ticks": ""
            },
            "type": "choropleth"
           }
          ],
          "contour": [
           {
            "colorbar": {
             "outlinewidth": 0,
             "ticks": ""
            },
            "colorscale": [
             [
              0,
              "#0d0887"
             ],
             [
              0.1111111111111111,
              "#46039f"
             ],
             [
              0.2222222222222222,
              "#7201a8"
             ],
             [
              0.3333333333333333,
              "#9c179e"
             ],
             [
              0.4444444444444444,
              "#bd3786"
             ],
             [
              0.5555555555555556,
              "#d8576b"
             ],
             [
              0.6666666666666666,
              "#ed7953"
             ],
             [
              0.7777777777777778,
              "#fb9f3a"
             ],
             [
              0.8888888888888888,
              "#fdca26"
             ],
             [
              1,
              "#f0f921"
             ]
            ],
            "type": "contour"
           }
          ],
          "contourcarpet": [
           {
            "colorbar": {
             "outlinewidth": 0,
             "ticks": ""
            },
            "type": "contourcarpet"
           }
          ],
          "heatmap": [
           {
            "colorbar": {
             "outlinewidth": 0,
             "ticks": ""
            },
            "colorscale": [
             [
              0,
              "#0d0887"
             ],
             [
              0.1111111111111111,
              "#46039f"
             ],
             [
              0.2222222222222222,
              "#7201a8"
             ],
             [
              0.3333333333333333,
              "#9c179e"
             ],
             [
              0.4444444444444444,
              "#bd3786"
             ],
             [
              0.5555555555555556,
              "#d8576b"
             ],
             [
              0.6666666666666666,
              "#ed7953"
             ],
             [
              0.7777777777777778,
              "#fb9f3a"
             ],
             [
              0.8888888888888888,
              "#fdca26"
             ],
             [
              1,
              "#f0f921"
             ]
            ],
            "type": "heatmap"
           }
          ],
          "heatmapgl": [
           {
            "colorbar": {
             "outlinewidth": 0,
             "ticks": ""
            },
            "colorscale": [
             [
              0,
              "#0d0887"
             ],
             [
              0.1111111111111111,
              "#46039f"
             ],
             [
              0.2222222222222222,
              "#7201a8"
             ],
             [
              0.3333333333333333,
              "#9c179e"
             ],
             [
              0.4444444444444444,
              "#bd3786"
             ],
             [
              0.5555555555555556,
              "#d8576b"
             ],
             [
              0.6666666666666666,
              "#ed7953"
             ],
             [
              0.7777777777777778,
              "#fb9f3a"
             ],
             [
              0.8888888888888888,
              "#fdca26"
             ],
             [
              1,
              "#f0f921"
             ]
            ],
            "type": "heatmapgl"
           }
          ],
          "histogram": [
           {
            "marker": {
             "pattern": {
              "fillmode": "overlay",
              "size": 10,
              "solidity": 0.2
             }
            },
            "type": "histogram"
           }
          ],
          "histogram2d": [
           {
            "colorbar": {
             "outlinewidth": 0,
             "ticks": ""
            },
            "colorscale": [
             [
              0,
              "#0d0887"
             ],
             [
              0.1111111111111111,
              "#46039f"
             ],
             [
              0.2222222222222222,
              "#7201a8"
             ],
             [
              0.3333333333333333,
              "#9c179e"
             ],
             [
              0.4444444444444444,
              "#bd3786"
             ],
             [
              0.5555555555555556,
              "#d8576b"
             ],
             [
              0.6666666666666666,
              "#ed7953"
             ],
             [
              0.7777777777777778,
              "#fb9f3a"
             ],
             [
              0.8888888888888888,
              "#fdca26"
             ],
             [
              1,
              "#f0f921"
             ]
            ],
            "type": "histogram2d"
           }
          ],
          "histogram2dcontour": [
           {
            "colorbar": {
             "outlinewidth": 0,
             "ticks": ""
            },
            "colorscale": [
             [
              0,
              "#0d0887"
             ],
             [
              0.1111111111111111,
              "#46039f"
             ],
             [
              0.2222222222222222,
              "#7201a8"
             ],
             [
              0.3333333333333333,
              "#9c179e"
             ],
             [
              0.4444444444444444,
              "#bd3786"
             ],
             [
              0.5555555555555556,
              "#d8576b"
             ],
             [
              0.6666666666666666,
              "#ed7953"
             ],
             [
              0.7777777777777778,
              "#fb9f3a"
             ],
             [
              0.8888888888888888,
              "#fdca26"
             ],
             [
              1,
              "#f0f921"
             ]
            ],
            "type": "histogram2dcontour"
           }
          ],
          "mesh3d": [
           {
            "colorbar": {
             "outlinewidth": 0,
             "ticks": ""
            },
            "type": "mesh3d"
           }
          ],
          "parcoords": [
           {
            "line": {
             "colorbar": {
              "outlinewidth": 0,
              "ticks": ""
             }
            },
            "type": "parcoords"
           }
          ],
          "pie": [
           {
            "automargin": true,
            "type": "pie"
           }
          ],
          "scatter": [
           {
            "fillpattern": {
             "fillmode": "overlay",
             "size": 10,
             "solidity": 0.2
            },
            "type": "scatter"
           }
          ],
          "scatter3d": [
           {
            "line": {
             "colorbar": {
              "outlinewidth": 0,
              "ticks": ""
             }
            },
            "marker": {
             "colorbar": {
              "outlinewidth": 0,
              "ticks": ""
             }
            },
            "type": "scatter3d"
           }
          ],
          "scattercarpet": [
           {
            "marker": {
             "colorbar": {
              "outlinewidth": 0,
              "ticks": ""
             }
            },
            "type": "scattercarpet"
           }
          ],
          "scattergeo": [
           {
            "marker": {
             "colorbar": {
              "outlinewidth": 0,
              "ticks": ""
             }
            },
            "type": "scattergeo"
           }
          ],
          "scattergl": [
           {
            "marker": {
             "colorbar": {
              "outlinewidth": 0,
              "ticks": ""
             }
            },
            "type": "scattergl"
           }
          ],
          "scattermapbox": [
           {
            "marker": {
             "colorbar": {
              "outlinewidth": 0,
              "ticks": ""
             }
            },
            "type": "scattermapbox"
           }
          ],
          "scatterpolar": [
           {
            "marker": {
             "colorbar": {
              "outlinewidth": 0,
              "ticks": ""
             }
            },
            "type": "scatterpolar"
           }
          ],
          "scatterpolargl": [
           {
            "marker": {
             "colorbar": {
              "outlinewidth": 0,
              "ticks": ""
             }
            },
            "type": "scatterpolargl"
           }
          ],
          "scatterternary": [
           {
            "marker": {
             "colorbar": {
              "outlinewidth": 0,
              "ticks": ""
             }
            },
            "type": "scatterternary"
           }
          ],
          "surface": [
           {
            "colorbar": {
             "outlinewidth": 0,
             "ticks": ""
            },
            "colorscale": [
             [
              0,
              "#0d0887"
             ],
             [
              0.1111111111111111,
              "#46039f"
             ],
             [
              0.2222222222222222,
              "#7201a8"
             ],
             [
              0.3333333333333333,
              "#9c179e"
             ],
             [
              0.4444444444444444,
              "#bd3786"
             ],
             [
              0.5555555555555556,
              "#d8576b"
             ],
             [
              0.6666666666666666,
              "#ed7953"
             ],
             [
              0.7777777777777778,
              "#fb9f3a"
             ],
             [
              0.8888888888888888,
              "#fdca26"
             ],
             [
              1,
              "#f0f921"
             ]
            ],
            "type": "surface"
           }
          ],
          "table": [
           {
            "cells": {
             "fill": {
              "color": "#EBF0F8"
             },
             "line": {
              "color": "white"
             }
            },
            "header": {
             "fill": {
              "color": "#C8D4E3"
             },
             "line": {
              "color": "white"
             }
            },
            "type": "table"
           }
          ]
         },
         "layout": {
          "annotationdefaults": {
           "arrowcolor": "#2a3f5f",
           "arrowhead": 0,
           "arrowwidth": 1
          },
          "autotypenumbers": "strict",
          "coloraxis": {
           "colorbar": {
            "outlinewidth": 0,
            "ticks": ""
           }
          },
          "colorscale": {
           "diverging": [
            [
             0,
             "#8e0152"
            ],
            [
             0.1,
             "#c51b7d"
            ],
            [
             0.2,
             "#de77ae"
            ],
            [
             0.3,
             "#f1b6da"
            ],
            [
             0.4,
             "#fde0ef"
            ],
            [
             0.5,
             "#f7f7f7"
            ],
            [
             0.6,
             "#e6f5d0"
            ],
            [
             0.7,
             "#b8e186"
            ],
            [
             0.8,
             "#7fbc41"
            ],
            [
             0.9,
             "#4d9221"
            ],
            [
             1,
             "#276419"
            ]
           ],
           "sequential": [
            [
             0,
             "#0d0887"
            ],
            [
             0.1111111111111111,
             "#46039f"
            ],
            [
             0.2222222222222222,
             "#7201a8"
            ],
            [
             0.3333333333333333,
             "#9c179e"
            ],
            [
             0.4444444444444444,
             "#bd3786"
            ],
            [
             0.5555555555555556,
             "#d8576b"
            ],
            [
             0.6666666666666666,
             "#ed7953"
            ],
            [
             0.7777777777777778,
             "#fb9f3a"
            ],
            [
             0.8888888888888888,
             "#fdca26"
            ],
            [
             1,
             "#f0f921"
            ]
           ],
           "sequentialminus": [
            [
             0,
             "#0d0887"
            ],
            [
             0.1111111111111111,
             "#46039f"
            ],
            [
             0.2222222222222222,
             "#7201a8"
            ],
            [
             0.3333333333333333,
             "#9c179e"
            ],
            [
             0.4444444444444444,
             "#bd3786"
            ],
            [
             0.5555555555555556,
             "#d8576b"
            ],
            [
             0.6666666666666666,
             "#ed7953"
            ],
            [
             0.7777777777777778,
             "#fb9f3a"
            ],
            [
             0.8888888888888888,
             "#fdca26"
            ],
            [
             1,
             "#f0f921"
            ]
           ]
          },
          "colorway": [
           "#636efa",
           "#EF553B",
           "#00cc96",
           "#ab63fa",
           "#FFA15A",
           "#19d3f3",
           "#FF6692",
           "#B6E880",
           "#FF97FF",
           "#FECB52"
          ],
          "font": {
           "color": "#2a3f5f"
          },
          "geo": {
           "bgcolor": "white",
           "lakecolor": "white",
           "landcolor": "#E5ECF6",
           "showlakes": true,
           "showland": true,
           "subunitcolor": "white"
          },
          "hoverlabel": {
           "align": "left"
          },
          "hovermode": "closest",
          "mapbox": {
           "style": "light"
          },
          "paper_bgcolor": "white",
          "plot_bgcolor": "#E5ECF6",
          "polar": {
           "angularaxis": {
            "gridcolor": "white",
            "linecolor": "white",
            "ticks": ""
           },
           "bgcolor": "#E5ECF6",
           "radialaxis": {
            "gridcolor": "white",
            "linecolor": "white",
            "ticks": ""
           }
          },
          "scene": {
           "xaxis": {
            "backgroundcolor": "#E5ECF6",
            "gridcolor": "white",
            "gridwidth": 2,
            "linecolor": "white",
            "showbackground": true,
            "ticks": "",
            "zerolinecolor": "white"
           },
           "yaxis": {
            "backgroundcolor": "#E5ECF6",
            "gridcolor": "white",
            "gridwidth": 2,
            "linecolor": "white",
            "showbackground": true,
            "ticks": "",
            "zerolinecolor": "white"
           },
           "zaxis": {
            "backgroundcolor": "#E5ECF6",
            "gridcolor": "white",
            "gridwidth": 2,
            "linecolor": "white",
            "showbackground": true,
            "ticks": "",
            "zerolinecolor": "white"
           }
          },
          "shapedefaults": {
           "line": {
            "color": "#2a3f5f"
           }
          },
          "ternary": {
           "aaxis": {
            "gridcolor": "white",
            "linecolor": "white",
            "ticks": ""
           },
           "baxis": {
            "gridcolor": "white",
            "linecolor": "white",
            "ticks": ""
           },
           "bgcolor": "#E5ECF6",
           "caxis": {
            "gridcolor": "white",
            "linecolor": "white",
            "ticks": ""
           }
          },
          "title": {
           "x": 0.05
          },
          "xaxis": {
           "automargin": true,
           "gridcolor": "white",
           "linecolor": "white",
           "ticks": "",
           "title": {
            "standoff": 15
           },
           "zerolinecolor": "white",
           "zerolinewidth": 2
          },
          "yaxis": {
           "automargin": true,
           "gridcolor": "white",
           "linecolor": "white",
           "ticks": "",
           "title": {
            "standoff": 15
           },
           "zerolinecolor": "white",
           "zerolinewidth": 2
          }
         }
        }
       }
      }
     },
     "metadata": {},
     "output_type": "display_data"
    }
   ],
   "source": [
    "import plotly.graph_objects as go\n",
    "fig = go.Figure()\n",
    "fig.add_trace(go.Scatter(y=simpleRNN_history[\"loss\"],\n",
    "                    mode='lines',\n",
    "                    name='loss'))\n",
    "fig.add_trace(go.Scatter(y=simpleRNN_history[\"val_loss\"],\n",
    "                    mode='lines',\n",
    "                    name='val_loss'))\n",
    "fig.show()"
   ]
  }
 ],
 "metadata": {
  "kernelspec": {
   "display_name": "Python 3.10.2 64-bit",
   "language": "python",
   "name": "python3"
  },
  "language_info": {
   "codemirror_mode": {
    "name": "ipython",
    "version": 3
   },
   "file_extension": ".py",
   "mimetype": "text/x-python",
   "name": "python",
   "nbconvert_exporter": "python",
   "pygments_lexer": "ipython3",
   "version": "3.10.2"
  },
  "orig_nbformat": 4,
  "vscode": {
   "interpreter": {
    "hash": "23e0aedb6d47e040503db7fcf09a0dff3cea72eb7d5d4c2596a602b1504b448c"
   }
  }
 },
 "nbformat": 4,
 "nbformat_minor": 2
}
