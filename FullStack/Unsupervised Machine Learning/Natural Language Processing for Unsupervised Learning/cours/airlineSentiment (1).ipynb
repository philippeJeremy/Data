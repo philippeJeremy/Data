{
 "cells": [
  {
   "cell_type": "code",
   "execution_count": 18,
   "id": "5d898d39-6753-4bc9-8650-cb5e2e6f2984",
   "metadata": {},
   "outputs": [],
   "source": [
    "import pandas as pd "
   ]
  },
  {
   "cell_type": "code",
   "execution_count": 19,
   "id": "2e1d3449-caa6-4a7e-b233-3b745cb9e777",
   "metadata": {},
   "outputs": [],
   "source": [
    "columns = [\"airline_sentiment\", \"airline_sentiment_confidence\", \"airline\", \"name\", \"text\", \"tweet_created\"]\n",
    "df = pd.read_csv(\"Tweets.csv\", usecols=columns, )"
   ]
  },
  {
   "cell_type": "code",
   "execution_count": 20,
   "id": "04ead135-4750-4e40-a27b-11bc11c7796c",
   "metadata": {},
   "outputs": [
    {
     "data": {
      "text/html": [
       "<div>\n",
       "<style scoped>\n",
       "    .dataframe tbody tr th:only-of-type {\n",
       "        vertical-align: middle;\n",
       "    }\n",
       "\n",
       "    .dataframe tbody tr th {\n",
       "        vertical-align: top;\n",
       "    }\n",
       "\n",
       "    .dataframe thead th {\n",
       "        text-align: right;\n",
       "    }\n",
       "</style>\n",
       "<table border=\"1\" class=\"dataframe\">\n",
       "  <thead>\n",
       "    <tr style=\"text-align: right;\">\n",
       "      <th></th>\n",
       "      <th>airline_sentiment</th>\n",
       "      <th>airline_sentiment_confidence</th>\n",
       "      <th>airline</th>\n",
       "      <th>name</th>\n",
       "      <th>text</th>\n",
       "      <th>tweet_created</th>\n",
       "    </tr>\n",
       "  </thead>\n",
       "  <tbody>\n",
       "    <tr>\n",
       "      <th>0</th>\n",
       "      <td>neutral</td>\n",
       "      <td>1.0000</td>\n",
       "      <td>Virgin America</td>\n",
       "      <td>cairdin</td>\n",
       "      <td>@VirginAmerica What @dhepburn said.</td>\n",
       "      <td>2015-02-24 11:35:52 -0800</td>\n",
       "    </tr>\n",
       "    <tr>\n",
       "      <th>1</th>\n",
       "      <td>positive</td>\n",
       "      <td>0.3486</td>\n",
       "      <td>Virgin America</td>\n",
       "      <td>jnardino</td>\n",
       "      <td>@VirginAmerica plus you've added commercials t...</td>\n",
       "      <td>2015-02-24 11:15:59 -0800</td>\n",
       "    </tr>\n",
       "    <tr>\n",
       "      <th>2</th>\n",
       "      <td>neutral</td>\n",
       "      <td>0.6837</td>\n",
       "      <td>Virgin America</td>\n",
       "      <td>yvonnalynn</td>\n",
       "      <td>@VirginAmerica I didn't today... Must mean I n...</td>\n",
       "      <td>2015-02-24 11:15:48 -0800</td>\n",
       "    </tr>\n",
       "    <tr>\n",
       "      <th>3</th>\n",
       "      <td>negative</td>\n",
       "      <td>1.0000</td>\n",
       "      <td>Virgin America</td>\n",
       "      <td>jnardino</td>\n",
       "      <td>@VirginAmerica it's really aggressive to blast...</td>\n",
       "      <td>2015-02-24 11:15:36 -0800</td>\n",
       "    </tr>\n",
       "    <tr>\n",
       "      <th>4</th>\n",
       "      <td>negative</td>\n",
       "      <td>1.0000</td>\n",
       "      <td>Virgin America</td>\n",
       "      <td>jnardino</td>\n",
       "      <td>@VirginAmerica and it's a really big bad thing...</td>\n",
       "      <td>2015-02-24 11:14:45 -0800</td>\n",
       "    </tr>\n",
       "    <tr>\n",
       "      <th>...</th>\n",
       "      <td>...</td>\n",
       "      <td>...</td>\n",
       "      <td>...</td>\n",
       "      <td>...</td>\n",
       "      <td>...</td>\n",
       "      <td>...</td>\n",
       "    </tr>\n",
       "    <tr>\n",
       "      <th>14635</th>\n",
       "      <td>positive</td>\n",
       "      <td>0.3487</td>\n",
       "      <td>American</td>\n",
       "      <td>KristenReenders</td>\n",
       "      <td>@AmericanAir thank you we got on a different f...</td>\n",
       "      <td>2015-02-22 12:01:01 -0800</td>\n",
       "    </tr>\n",
       "    <tr>\n",
       "      <th>14636</th>\n",
       "      <td>negative</td>\n",
       "      <td>1.0000</td>\n",
       "      <td>American</td>\n",
       "      <td>itsropes</td>\n",
       "      <td>@AmericanAir leaving over 20 minutes Late Flig...</td>\n",
       "      <td>2015-02-22 11:59:46 -0800</td>\n",
       "    </tr>\n",
       "    <tr>\n",
       "      <th>14637</th>\n",
       "      <td>neutral</td>\n",
       "      <td>1.0000</td>\n",
       "      <td>American</td>\n",
       "      <td>sanyabun</td>\n",
       "      <td>@AmericanAir Please bring American Airlines to...</td>\n",
       "      <td>2015-02-22 11:59:15 -0800</td>\n",
       "    </tr>\n",
       "    <tr>\n",
       "      <th>14638</th>\n",
       "      <td>negative</td>\n",
       "      <td>1.0000</td>\n",
       "      <td>American</td>\n",
       "      <td>SraJackson</td>\n",
       "      <td>@AmericanAir you have my money, you change my ...</td>\n",
       "      <td>2015-02-22 11:59:02 -0800</td>\n",
       "    </tr>\n",
       "    <tr>\n",
       "      <th>14639</th>\n",
       "      <td>neutral</td>\n",
       "      <td>0.6771</td>\n",
       "      <td>American</td>\n",
       "      <td>daviddtwu</td>\n",
       "      <td>@AmericanAir we have 8 ppl so we need 2 know h...</td>\n",
       "      <td>2015-02-22 11:58:51 -0800</td>\n",
       "    </tr>\n",
       "  </tbody>\n",
       "</table>\n",
       "<p>14640 rows × 6 columns</p>\n",
       "</div>"
      ],
      "text/plain": [
       "      airline_sentiment  airline_sentiment_confidence         airline  \\\n",
       "0               neutral                        1.0000  Virgin America   \n",
       "1              positive                        0.3486  Virgin America   \n",
       "2               neutral                        0.6837  Virgin America   \n",
       "3              negative                        1.0000  Virgin America   \n",
       "4              negative                        1.0000  Virgin America   \n",
       "...                 ...                           ...             ...   \n",
       "14635          positive                        0.3487        American   \n",
       "14636          negative                        1.0000        American   \n",
       "14637           neutral                        1.0000        American   \n",
       "14638          negative                        1.0000        American   \n",
       "14639           neutral                        0.6771        American   \n",
       "\n",
       "                  name                                               text  \\\n",
       "0              cairdin                @VirginAmerica What @dhepburn said.   \n",
       "1             jnardino  @VirginAmerica plus you've added commercials t...   \n",
       "2           yvonnalynn  @VirginAmerica I didn't today... Must mean I n...   \n",
       "3             jnardino  @VirginAmerica it's really aggressive to blast...   \n",
       "4             jnardino  @VirginAmerica and it's a really big bad thing...   \n",
       "...                ...                                                ...   \n",
       "14635  KristenReenders  @AmericanAir thank you we got on a different f...   \n",
       "14636         itsropes  @AmericanAir leaving over 20 minutes Late Flig...   \n",
       "14637         sanyabun  @AmericanAir Please bring American Airlines to...   \n",
       "14638       SraJackson  @AmericanAir you have my money, you change my ...   \n",
       "14639        daviddtwu  @AmericanAir we have 8 ppl so we need 2 know h...   \n",
       "\n",
       "                   tweet_created  \n",
       "0      2015-02-24 11:35:52 -0800  \n",
       "1      2015-02-24 11:15:59 -0800  \n",
       "2      2015-02-24 11:15:48 -0800  \n",
       "3      2015-02-24 11:15:36 -0800  \n",
       "4      2015-02-24 11:14:45 -0800  \n",
       "...                          ...  \n",
       "14635  2015-02-22 12:01:01 -0800  \n",
       "14636  2015-02-22 11:59:46 -0800  \n",
       "14637  2015-02-22 11:59:15 -0800  \n",
       "14638  2015-02-22 11:59:02 -0800  \n",
       "14639  2015-02-22 11:58:51 -0800  \n",
       "\n",
       "[14640 rows x 6 columns]"
      ]
     },
     "execution_count": 20,
     "metadata": {},
     "output_type": "execute_result"
    }
   ],
   "source": [
    "df"
   ]
  },
  {
   "cell_type": "code",
   "execution_count": 3,
   "id": "17f1622f-fa02-406b-80b4-15d54de6ee9b",
   "metadata": {},
   "outputs": [],
   "source": [
    "from sklearn.preprocessing import LabelEncoder"
   ]
  },
  {
   "cell_type": "code",
   "execution_count": 4,
   "id": "69469fe1-30bb-44be-87a0-8e35e3974651",
   "metadata": {},
   "outputs": [],
   "source": [
    "lb = LabelEncoder()\n",
    "df[\"target\"] = lb.fit_transform(df[\"airline_sentiment\"])\n",
    "df.drop(\"airline_sentiment\", axis=1, inplace=True)"
   ]
  },
  {
   "cell_type": "code",
   "execution_count": 5,
   "id": "af613cc8-a2f7-4ae1-b8e9-4b750eede92b",
   "metadata": {},
   "outputs": [
    {
     "data": {
      "text/plain": [
       "0    0.626913\n",
       "1    0.211680\n",
       "2    0.161407\n",
       "Name: target, dtype: float64"
      ]
     },
     "execution_count": 5,
     "metadata": {},
     "output_type": "execute_result"
    }
   ],
   "source": [
    "df[\"target\"].value_counts() / len(df)"
   ]
  },
  {
   "cell_type": "code",
   "execution_count": 6,
   "id": "7e99297c-f06b-430f-b11b-0b7ea52640fd",
   "metadata": {},
   "outputs": [],
   "source": [
    "vc = df[\"name\"].value_counts()\n",
    "df[\"user_frequency\"] = df[\"name\"].apply(lambda x: vc[x])"
   ]
  },
  {
   "cell_type": "code",
   "execution_count": 7,
   "id": "49f37d84-f3a0-42bd-be26-c1b9d1afe917",
   "metadata": {},
   "outputs": [],
   "source": [
    "df[\"dow\"] = pd.to_datetime(df[\"tweet_created\"]).dt.dayofweek\n",
    "df[\"month\"] = pd.to_datetime(df[\"tweet_created\"]).dt.month"
   ]
  },
  {
   "cell_type": "code",
   "execution_count": 8,
   "id": "cdd4ef84-7f7c-45b4-9a12-e6a96a225538",
   "metadata": {},
   "outputs": [
    {
     "data": {
      "text/plain": [
       "United            3822\n",
       "US Airways        2913\n",
       "American          2759\n",
       "Southwest         2420\n",
       "Delta             2222\n",
       "Virgin America     504\n",
       "Name: airline, dtype: int64"
      ]
     },
     "execution_count": 8,
     "metadata": {},
     "output_type": "execute_result"
    }
   ],
   "source": [
    "df[\"airline\"].value_counts()"
   ]
  },
  {
   "cell_type": "code",
   "execution_count": 9,
   "id": "f921c9be-6a4f-4aaa-99ce-a1e79b9745ea",
   "metadata": {},
   "outputs": [],
   "source": [
    "df = pd.concat([df, pd.get_dummies(df[\"airline\"])], axis=1)"
   ]
  },
  {
   "cell_type": "code",
   "execution_count": 10,
   "id": "0e038e35-c2f5-4fed-8be4-7abed377fedd",
   "metadata": {},
   "outputs": [],
   "source": [
    "features = df.columns[6:]\n",
    "X = df[features]\n",
    "y = df[\"target\"]"
   ]
  },
  {
   "cell_type": "code",
   "execution_count": 11,
   "id": "93636199-710a-4ab9-90d0-3dbbd02eda8d",
   "metadata": {},
   "outputs": [],
   "source": [
    "from sklearn.model_selection import cross_val_score, train_test_split\n",
    "from sklearn.ensemble import RandomForestClassifier\n",
    "from sklearn.metrics import f1_score"
   ]
  },
  {
   "cell_type": "code",
   "execution_count": 12,
   "id": "4a12b201-2d54-408c-b4c3-340d7117df6f",
   "metadata": {},
   "outputs": [],
   "source": [
    "X_train, X_test, y_train, y_test = train_test_split(X, y, stratify=y)"
   ]
  },
  {
   "cell_type": "code",
   "execution_count": 13,
   "id": "bfb4a60b-d6fb-45c8-a5a8-9504f5049691",
   "metadata": {},
   "outputs": [],
   "source": [
    "rfc = RandomForestClassifier()\n",
    "cv = cross_val_score(rfc, X_train, y_train, scoring=\"f1_macro\")"
   ]
  },
  {
   "cell_type": "code",
   "execution_count": 14,
   "id": "1431cf7b-c7e6-45cf-9474-a8682ce5c0a6",
   "metadata": {},
   "outputs": [
    {
     "data": {
      "text/plain": [
       "(0.4116990712646519, 0.008133138680388292)"
      ]
     },
     "execution_count": 14,
     "metadata": {},
     "output_type": "execute_result"
    }
   ],
   "source": [
    "cv.mean(), cv.std()"
   ]
  },
  {
   "cell_type": "code",
   "execution_count": 15,
   "id": "61e2182d-2713-4456-b26d-b493a82d96a9",
   "metadata": {},
   "outputs": [],
   "source": [
    "import spacy\n",
    "import en_core_web_sm\n",
    "from spacy.lang.en.stop_words import STOP_WORDS\n",
    "\n",
    "nlp = en_core_web_sm.load()"
   ]
  },
  {
   "cell_type": "code",
   "execution_count": 16,
   "id": "b692a076-e0e4-4083-88a1-0a52e54d0efd",
   "metadata": {},
   "outputs": [
    {
     "name": "stderr",
     "output_type": "stream",
     "text": [
      "/tmp/ipykernel_322/804233554.py:1: FutureWarning: The default value of regex will change from True to False in a future version.\n",
      "  df['clean_text'] = df['text'].str.replace(r\"[!\\\"#$%&()*+,-./:;<=>?@[\\\\\\]^_`{|}~]+\", \" \")\n"
     ]
    }
   ],
   "source": [
    "df['clean_text'] = df['text'].str.replace(r\"[!\\\"#$%&()*+,-./:;<=>?@[\\\\\\]^_`{|}~]+\", \" \") "
   ]
  },
  {
   "cell_type": "code",
   "execution_count": 17,
   "id": "0c8b3c8c-c9c1-4ae8-938b-658a31ed2ae2",
   "metadata": {},
   "outputs": [],
   "source": [
    "tokenized_doc = df['clean_text'].fillna('').apply(lambda x: nlp(x))\n",
    "tokenized_doc = tokenized_doc.apply(lambda x: [token.lemma_ for token in x if token.text not in STOP_WORDS])"
   ]
  },
  {
   "cell_type": "code",
   "execution_count": null,
   "id": "2d6e6008-63cc-40a7-83f0-d0bba2c754ef",
   "metadata": {},
   "outputs": [],
   "source": []
  }
 ],
 "metadata": {
  "kernelspec": {
   "display_name": "Python 3 (ipykernel)",
   "language": "python",
   "name": "python3"
  },
  "language_info": {
   "codemirror_mode": {
    "name": "ipython",
    "version": 3
   },
   "file_extension": ".py",
   "mimetype": "text/x-python",
   "name": "python",
   "nbconvert_exporter": "python",
   "pygments_lexer": "ipython3",
   "version": "3.9.7"
  }
 },
 "nbformat": 4,
 "nbformat_minor": 5
}
