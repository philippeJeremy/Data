{
 "cells": [
  {
   "cell_type": "markdown",
   "metadata": {},
   "source": [
    "# LSA Exercise\n",
    "\n",
    "The purpose of this exercise is to use LSA in order to run unsupervised topic extraction on texts and compare the results to the target variable. We are not going to use the target variable to train a model but only to assess if the topics found by LSA are similar to the classes that would have been used for supervised classification."
   ]
  },
  {
   "cell_type": "markdown",
   "metadata": {},
   "source": [
    "1. Let's begin and import the libraries we will be using"
   ]
  },
  {
   "cell_type": "code",
   "execution_count": 94,
   "metadata": {},
   "outputs": [],
   "source": [
    "import pandas as pd \n",
    "import numpy as np\n",
    "import en_core_web_sm\n",
    "import spacy\n",
    "import seaborn as sns\n",
    "import matplotlib.pyplot as plt\n",
    "\n",
    "from sklearn.datasets import fetch_20newsgroups\n",
    "from sklearn.feature_extraction.text import TfidfVectorizer\n",
    "from sklearn.decomposition import TruncatedSVD\n",
    "from sklearn.metrics import confusion_matrix\n",
    "from sklearn.cluster import KMeans"
   ]
  },
  {
   "cell_type": "markdown",
   "metadata": {},
   "source": [
    "2. Load the 20 news dataset into an object news"
   ]
  },
  {
   "cell_type": "markdown",
   "metadata": {},
   "source": [
    "3. Display the data description using the DESCR key"
   ]
  },
  {
   "cell_type": "markdown",
   "metadata": {},
   "source": [
    "4. Store the object news.data in a DataFrame and call the column text. Extract a sample of 5000 rows to begin with. Add the target variable to this dataframe in order to run analysis later."
   ]
  },
  {
   "cell_type": "code",
   "execution_count": null,
   "metadata": {},
   "outputs": [],
   "source": [
    "data = pd.DataFrame(news.data, columns =[\"text\"])\n",
    "data = data.sample(5000)\n",
    "data[\"target\"] = news.target[data.index]\n",
    "data.head()\n"
   ]
  },
  {
   "cell_type": "code",
   "execution_count": 108,
   "metadata": {},
   "outputs": [
    {
     "data": {
      "text/html": [
       "<div>\n",
       "<style scoped>\n",
       "    .dataframe tbody tr th:only-of-type {\n",
       "        vertical-align: middle;\n",
       "    }\n",
       "\n",
       "    .dataframe tbody tr th {\n",
       "        vertical-align: top;\n",
       "    }\n",
       "\n",
       "    .dataframe thead th {\n",
       "        text-align: right;\n",
       "    }\n",
       "</style>\n",
       "<table border=\"1\" class=\"dataframe\">\n",
       "  <thead>\n",
       "    <tr style=\"text-align: right;\">\n",
       "      <th></th>\n",
       "      <th>text</th>\n",
       "      <th>target</th>\n",
       "    </tr>\n",
       "  </thead>\n",
       "  <tbody>\n",
       "    <tr>\n",
       "      <th>1148</th>\n",
       "      <td>From: cmort@NCoast.ORG (Christopher Morton)\\nS...</td>\n",
       "      <td>16</td>\n",
       "    </tr>\n",
       "    <tr>\n",
       "      <th>2830</th>\n",
       "      <td>From: wcsbeau@alfred.carleton.ca (OPIRG)\\nSubj...</td>\n",
       "      <td>13</td>\n",
       "    </tr>\n",
       "    <tr>\n",
       "      <th>10145</th>\n",
       "      <td>From: tom_van_vleck@taligent.com (Tom Van Vlec...</td>\n",
       "      <td>11</td>\n",
       "    </tr>\n",
       "    <tr>\n",
       "      <th>2033</th>\n",
       "      <td>From: davewood@bruno.cs.colorado.edu (David Re...</td>\n",
       "      <td>5</td>\n",
       "    </tr>\n",
       "    <tr>\n",
       "      <th>9817</th>\n",
       "      <td>From: jmk@cbnews.cb.att.com (joseph.m.knapp)\\n...</td>\n",
       "      <td>19</td>\n",
       "    </tr>\n",
       "  </tbody>\n",
       "</table>\n",
       "</div>"
      ],
      "text/plain": [
       "                                                    text  target\n",
       "1148   From: cmort@NCoast.ORG (Christopher Morton)\\nS...      16\n",
       "2830   From: wcsbeau@alfred.carleton.ca (OPIRG)\\nSubj...      13\n",
       "10145  From: tom_van_vleck@taligent.com (Tom Van Vlec...      11\n",
       "2033   From: davewood@bruno.cs.colorado.edu (David Re...       5\n",
       "9817   From: jmk@cbnews.cb.att.com (joseph.m.knapp)\\n...      19"
      ]
     },
     "execution_count": 108,
     "metadata": {},
     "output_type": "execute_result"
    }
   ],
   "source": [
    "X, y = fetch_20newsgroups(return_X_y=True)\n",
    "df = pd.DataFrame(X, columns=['text'])\n",
    "df[\"target\"] = y\n",
    "df = df.sample(1000)\n",
    "df.head()"
   ]
  },
  {
   "cell_type": "markdown",
   "metadata": {},
   "source": [
    "5. Create a column text_clean containing only alphanumerical characters and change all characters to lowercase. Also only keep the tex that is after the string \"Subject:\""
   ]
  },
  {
   "cell_type": "code",
   "execution_count": 135,
   "metadata": {},
   "outputs": [],
   "source": [
    "df[\"text_clean\"] = df['text'].apply(lambda x: x.split(\"Subject:\")[1])"
   ]
  },
  {
   "cell_type": "code",
   "execution_count": 136,
   "metadata": {},
   "outputs": [],
   "source": [
    "from string import punctuation"
   ]
  },
  {
   "cell_type": "code",
   "execution_count": 140,
   "metadata": {},
   "outputs": [],
   "source": [
    "for ch in punctuation:\n",
    "    if ch.isalnum():\n",
    "        print(ch)"
   ]
  },
  {
   "cell_type": "code",
   "execution_count": 143,
   "metadata": {},
   "outputs": [],
   "source": [
    "test_text = df[\"text_clean\"].iloc[0]"
   ]
  },
  {
   "cell_type": "code",
   "execution_count": null,
   "metadata": {},
   "outputs": [],
   "source": [
    "new_sentence= []\n",
    "for ch in test_text:\n",
    "    if ch.isalnum():\n",
    "        new_sentence.append(ch)"
   ]
  },
  {
   "cell_type": "code",
   "execution_count": 144,
   "metadata": {},
   "outputs": [
    {
     "data": {
      "text/plain": [
       "'lala something'"
      ]
     },
     "execution_count": 144,
     "metadata": {},
     "output_type": "execute_result"
    }
   ],
   "source": [
    "''.join([\"lala \", \"something\"])"
   ]
  },
  {
   "cell_type": "code",
   "execution_count": null,
   "metadata": {},
   "outputs": [],
   "source": [
    "df['list_of_words'].apply(len)"
   ]
  },
  {
   "cell_type": "code",
   "execution_count": 146,
   "metadata": {},
   "outputs": [
    {
     "data": {
      "text/html": [
       "<div>\n",
       "<style scoped>\n",
       "    .dataframe tbody tr th:only-of-type {\n",
       "        vertical-align: middle;\n",
       "    }\n",
       "\n",
       "    .dataframe tbody tr th {\n",
       "        vertical-align: top;\n",
       "    }\n",
       "\n",
       "    .dataframe thead th {\n",
       "        text-align: right;\n",
       "    }\n",
       "</style>\n",
       "<table border=\"1\" class=\"dataframe\">\n",
       "  <thead>\n",
       "    <tr style=\"text-align: right;\">\n",
       "      <th></th>\n",
       "      <th>text</th>\n",
       "      <th>target</th>\n",
       "      <th>text_clean</th>\n",
       "      <th>text_tokenized</th>\n",
       "      <th>nlp_ready</th>\n",
       "    </tr>\n",
       "  </thead>\n",
       "  <tbody>\n",
       "    <tr>\n",
       "      <th>1148</th>\n",
       "      <td>From: cmort@NCoast.ORG (Christopher Morton)\\nS...</td>\n",
       "      <td>16</td>\n",
       "      <td>re ban all firearms replyto cmortncoastorg ch...</td>\n",
       "      <td>[ , ban, firearm, replyto, cmortncoastorg, chr...</td>\n",
       "      <td>ban firearm replyto cmortncoastorg christoph...</td>\n",
       "    </tr>\n",
       "    <tr>\n",
       "      <th>2830</th>\n",
       "      <td>From: wcsbeau@alfred.carleton.ca (OPIRG)\\nSubj...</td>\n",
       "      <td>13</td>\n",
       "      <td>re is msg sensitivity superstitionorganizatio...</td>\n",
       "      <td>[ , msg, sensitivity, superstitionorganization...</td>\n",
       "      <td>msg sensitivity superstitionorganization car...</td>\n",
       "    </tr>\n",
       "    <tr>\n",
       "      <th>10145</th>\n",
       "      <td>From: tom_van_vleck@taligent.com (Tom Van Vlec...</td>\n",
       "      <td>11</td>\n",
       "      <td>re looking for oneway trapdoor password encry...</td>\n",
       "      <td>[ , look, oneway, trapdoor, password, encrypti...</td>\n",
       "      <td>look oneway trapdoor password encryption etc...</td>\n",
       "    </tr>\n",
       "    <tr>\n",
       "      <th>2033</th>\n",
       "      <td>From: davewood@bruno.cs.colorado.edu (David Re...</td>\n",
       "      <td>5</td>\n",
       "      <td>calling a library which creates widgets multi...</td>\n",
       "      <td>[ , library, create, widget, multiple, timesnn...</td>\n",
       "      <td>library create widget multiple timesnntppost...</td>\n",
       "    </tr>\n",
       "    <tr>\n",
       "      <th>9817</th>\n",
       "      <td>From: jmk@cbnews.cb.att.com (joseph.m.knapp)\\n...</td>\n",
       "      <td>19</td>\n",
       "      <td>re biblical backing of koreshs 302 tape cites...</td>\n",
       "      <td>[ , biblical, backing, koreshs, 302, tape, cit...</td>\n",
       "      <td>biblical backing koreshs 302 tape cite enclo...</td>\n",
       "    </tr>\n",
       "  </tbody>\n",
       "</table>\n",
       "</div>"
      ],
      "text/plain": [
       "                                                    text  target  \\\n",
       "1148   From: cmort@NCoast.ORG (Christopher Morton)\\nS...      16   \n",
       "2830   From: wcsbeau@alfred.carleton.ca (OPIRG)\\nSubj...      13   \n",
       "10145  From: tom_van_vleck@taligent.com (Tom Van Vlec...      11   \n",
       "2033   From: davewood@bruno.cs.colorado.edu (David Re...       5   \n",
       "9817   From: jmk@cbnews.cb.att.com (joseph.m.knapp)\\n...      19   \n",
       "\n",
       "                                              text_clean  \\\n",
       "1148    re ban all firearms replyto cmortncoastorg ch...   \n",
       "2830    re is msg sensitivity superstitionorganizatio...   \n",
       "10145   re looking for oneway trapdoor password encry...   \n",
       "2033    calling a library which creates widgets multi...   \n",
       "9817    re biblical backing of koreshs 302 tape cites...   \n",
       "\n",
       "                                          text_tokenized  \\\n",
       "1148   [ , ban, firearm, replyto, cmortncoastorg, chr...   \n",
       "2830   [ , msg, sensitivity, superstitionorganization...   \n",
       "10145  [ , look, oneway, trapdoor, password, encrypti...   \n",
       "2033   [ , library, create, widget, multiple, timesnn...   \n",
       "9817   [ , biblical, backing, koreshs, 302, tape, cit...   \n",
       "\n",
       "                                               nlp_ready  \n",
       "1148     ban firearm replyto cmortncoastorg christoph...  \n",
       "2830     msg sensitivity superstitionorganization car...  \n",
       "10145    look oneway trapdoor password encryption etc...  \n",
       "2033     library create widget multiple timesnntppost...  \n",
       "9817     biblical backing koreshs 302 tape cite enclo...  "
      ]
     },
     "execution_count": 146,
     "metadata": {},
     "output_type": "execute_result"
    }
   ],
   "source": [
    "df['text_clean'] = df['text'].apply(lambda x: x.split(\"Subject:\")[1])\n",
    "df['text_clean'] = df['text_clean'].apply(lambda x: ''.join(ch.lower() for ch in x if ch.isalnum() or ch==\" \"))\n",
    "df.head()"
   ]
  },
  {
   "cell_type": "markdown",
   "metadata": {},
   "source": [
    "6. Create an object nlp with ```en_core_web_sm.load``` "
   ]
  },
  {
   "cell_type": "code",
   "execution_count": 147,
   "metadata": {},
   "outputs": [],
   "source": [
    "nlp = en_core_web_sm.load()"
   ]
  },
  {
   "cell_type": "markdown",
   "metadata": {},
   "source": [
    "7. Tokenize the cleaned sentences and remove english stopwords"
   ]
  },
  {
   "cell_type": "code",
   "execution_count": 153,
   "metadata": {},
   "outputs": [],
   "source": [
    "test_text = df[\"text_clean\"].iloc[0]"
   ]
  },
  {
   "cell_type": "code",
   "execution_count": null,
   "metadata": {},
   "outputs": [],
   "source": [
    "[token.lemma_ for token in nlp(x) if token.lemma_ not in STOP_WORDS]"
   ]
  },
  {
   "cell_type": "code",
   "execution_count": null,
   "metadata": {},
   "outputs": [],
   "source": [
    "new_sentence = []"
   ]
  },
  {
   "cell_type": "code",
   "execution_count": 157,
   "metadata": {},
   "outputs": [
    {
     "data": {
      "text/plain": [
       "'  ban firearm replyto cmortncoastorg christopher mortonorganization north coast public access nix cleveland ohline 24as quote 1993apr141844482331gnvifasufledu jrmgnvifasufledu firearm tend fall low dollarpound area economic smuggle production local people skill motivation assemble worthwhile firearm scratch highranke crime figure obtain import uzi average person average thug lucky zipgun   pay nose know modern automatic weapon   anybodywith basic manufacturing skill turn high quality submachinegun   couple high school shop teacher recently arrest build submachinegun school shopi suggest library find copy smallarm world   entire premise base nonfactual assumption like bunch overeducated new york jewish aclu lawyersfighte eliminate school prayer public school inarkansas   holly silva'"
      ]
     },
     "execution_count": 157,
     "metadata": {},
     "output_type": "execute_result"
    }
   ],
   "source": [
    "new_sentence = [token.lemma_ for token in nlp(test_text) if token.lemma_ not in STOP_WORDS]\n",
    "\" \".join(new_sentence)"
   ]
  },
  {
   "cell_type": "code",
   "execution_count": 158,
   "metadata": {},
   "outputs": [
    {
     "data": {
      "text/html": [
       "<div>\n",
       "<style scoped>\n",
       "    .dataframe tbody tr th:only-of-type {\n",
       "        vertical-align: middle;\n",
       "    }\n",
       "\n",
       "    .dataframe tbody tr th {\n",
       "        vertical-align: top;\n",
       "    }\n",
       "\n",
       "    .dataframe thead th {\n",
       "        text-align: right;\n",
       "    }\n",
       "</style>\n",
       "<table border=\"1\" class=\"dataframe\">\n",
       "  <thead>\n",
       "    <tr style=\"text-align: right;\">\n",
       "      <th></th>\n",
       "      <th>text</th>\n",
       "      <th>target</th>\n",
       "      <th>text_clean</th>\n",
       "      <th>text_tokenized</th>\n",
       "      <th>nlp_ready</th>\n",
       "    </tr>\n",
       "  </thead>\n",
       "  <tbody>\n",
       "    <tr>\n",
       "      <th>1148</th>\n",
       "      <td>From: cmort@NCoast.ORG (Christopher Morton)\\nS...</td>\n",
       "      <td>16</td>\n",
       "      <td>re ban all firearms replyto cmortncoastorg ch...</td>\n",
       "      <td>[ , ban, firearm, replyto, cmortncoastorg, chr...</td>\n",
       "      <td>ban firearm replyto cmortncoastorg christoph...</td>\n",
       "    </tr>\n",
       "    <tr>\n",
       "      <th>2830</th>\n",
       "      <td>From: wcsbeau@alfred.carleton.ca (OPIRG)\\nSubj...</td>\n",
       "      <td>13</td>\n",
       "      <td>re is msg sensitivity superstitionorganizatio...</td>\n",
       "      <td>[ , msg, sensitivity, superstitionorganization...</td>\n",
       "      <td>msg sensitivity superstitionorganization car...</td>\n",
       "    </tr>\n",
       "    <tr>\n",
       "      <th>10145</th>\n",
       "      <td>From: tom_van_vleck@taligent.com (Tom Van Vlec...</td>\n",
       "      <td>11</td>\n",
       "      <td>re looking for oneway trapdoor password encry...</td>\n",
       "      <td>[ , look, oneway, trapdoor, password, encrypti...</td>\n",
       "      <td>look oneway trapdoor password encryption etc...</td>\n",
       "    </tr>\n",
       "    <tr>\n",
       "      <th>2033</th>\n",
       "      <td>From: davewood@bruno.cs.colorado.edu (David Re...</td>\n",
       "      <td>5</td>\n",
       "      <td>calling a library which creates widgets multi...</td>\n",
       "      <td>[ , library, create, widget, multiple, timesnn...</td>\n",
       "      <td>library create widget multiple timesnntppost...</td>\n",
       "    </tr>\n",
       "    <tr>\n",
       "      <th>9817</th>\n",
       "      <td>From: jmk@cbnews.cb.att.com (joseph.m.knapp)\\n...</td>\n",
       "      <td>19</td>\n",
       "      <td>re biblical backing of koreshs 302 tape cites...</td>\n",
       "      <td>[ , biblical, backing, koreshs, 302, tape, cit...</td>\n",
       "      <td>biblical backing koreshs 302 tape cite enclo...</td>\n",
       "    </tr>\n",
       "  </tbody>\n",
       "</table>\n",
       "</div>"
      ],
      "text/plain": [
       "                                                    text  target  \\\n",
       "1148   From: cmort@NCoast.ORG (Christopher Morton)\\nS...      16   \n",
       "2830   From: wcsbeau@alfred.carleton.ca (OPIRG)\\nSubj...      13   \n",
       "10145  From: tom_van_vleck@taligent.com (Tom Van Vlec...      11   \n",
       "2033   From: davewood@bruno.cs.colorado.edu (David Re...       5   \n",
       "9817   From: jmk@cbnews.cb.att.com (joseph.m.knapp)\\n...      19   \n",
       "\n",
       "                                              text_clean  \\\n",
       "1148    re ban all firearms replyto cmortncoastorg ch...   \n",
       "2830    re is msg sensitivity superstitionorganizatio...   \n",
       "10145   re looking for oneway trapdoor password encry...   \n",
       "2033    calling a library which creates widgets multi...   \n",
       "9817    re biblical backing of koreshs 302 tape cites...   \n",
       "\n",
       "                                          text_tokenized  \\\n",
       "1148   [ , ban, firearm, replyto, cmortncoastorg, chr...   \n",
       "2830   [ , msg, sensitivity, superstitionorganization...   \n",
       "10145  [ , look, oneway, trapdoor, password, encrypti...   \n",
       "2033   [ , library, create, widget, multiple, timesnn...   \n",
       "9817   [ , biblical, backing, koreshs, 302, tape, cit...   \n",
       "\n",
       "                                               nlp_ready  \n",
       "1148     ban firearm replyto cmortncoastorg christoph...  \n",
       "2830     msg sensitivity superstitionorganization car...  \n",
       "10145    look oneway trapdoor password encryption etc...  \n",
       "2033     library create widget multiple timesnntppost...  \n",
       "9817     biblical backing koreshs 302 tape cite enclo...  "
      ]
     },
     "execution_count": 158,
     "metadata": {},
     "output_type": "execute_result"
    }
   ],
   "source": [
    "from spacy.lang.en.stop_words import STOP_WORDS\n",
    "\n",
    "df[\"text_tokenized\"] = df[\"text_clean\"].apply(lambda x: \" \".join([token.lemma_ for token in nlp(x) if token.lemma_ not in STOP_WORDS]))\n",
    "df.head()"
   ]
  },
  {
   "cell_type": "markdown",
   "metadata": {},
   "source": [
    "8. Detokenize the tokenized sentences and store them in an ```nlp_ready``` column"
   ]
  },
  {
   "cell_type": "code",
   "execution_count": 113,
   "metadata": {},
   "outputs": [],
   "source": [
    "df[\"nlp_ready\"] = df[\"text_tokenized\"].apply(lambda x: ' '.join(x))"
   ]
  },
  {
   "cell_type": "code",
   "execution_count": 39,
   "metadata": {},
   "outputs": [
    {
     "data": {
      "text/html": [
       "<div>\n",
       "<style scoped>\n",
       "    .dataframe tbody tr th:only-of-type {\n",
       "        vertical-align: middle;\n",
       "    }\n",
       "\n",
       "    .dataframe tbody tr th {\n",
       "        vertical-align: top;\n",
       "    }\n",
       "\n",
       "    .dataframe thead th {\n",
       "        text-align: right;\n",
       "    }\n",
       "</style>\n",
       "<table border=\"1\" class=\"dataframe\">\n",
       "  <thead>\n",
       "    <tr style=\"text-align: right;\">\n",
       "      <th></th>\n",
       "      <th>text</th>\n",
       "      <th>target</th>\n",
       "      <th>text_clean</th>\n",
       "      <th>text_tokenized</th>\n",
       "      <th>nlp_ready</th>\n",
       "    </tr>\n",
       "  </thead>\n",
       "  <tbody>\n",
       "    <tr>\n",
       "      <th>5332</th>\n",
       "      <td>From: henrik@quayle.kpc.com \\nSubject: Re: ARM...</td>\n",
       "      <td>17</td>\n",
       "      <td>re armenia says it could shoot down turkish p...</td>\n",
       "      <td>[ , armenia, say, shoot, turkish, planesorgani...</td>\n",
       "      <td>armenia say shoot turkish planesorganization...</td>\n",
       "    </tr>\n",
       "    <tr>\n",
       "      <th>8598</th>\n",
       "      <td>From: ab4z@Virginia.EDU (\"Andi Beyer\")\\nSubjec...</td>\n",
       "      <td>17</td>\n",
       "      <td>re israels expansion iiorganization universit...</td>\n",
       "      <td>[ , israel, expansion, iiorganization, univers...</td>\n",
       "      <td>israel expansion iiorganization university v...</td>\n",
       "    </tr>\n",
       "    <tr>\n",
       "      <th>9040</th>\n",
       "      <td>From: cptully@med.unc.edu (Christopher P. Tull...</td>\n",
       "      <td>1</td>\n",
       "      <td>re tiff philosophical significance of 42nntpp...</td>\n",
       "      <td>[ , tiff, philosophical, significance, 42nntpp...</td>\n",
       "      <td>tiff philosophical significance 42nntppostin...</td>\n",
       "    </tr>\n",
       "    <tr>\n",
       "      <th>210</th>\n",
       "      <td>From: aa888@freenet.carleton.ca (Mark Baker)\\n...</td>\n",
       "      <td>15</td>\n",
       "      <td>re the arrogance of christiansreplyto aa888fr...</td>\n",
       "      <td>[ , arrogance, christiansreplyto, aa888freenet...</td>\n",
       "      <td>arrogance christiansreplyto aa888freenetcarl...</td>\n",
       "    </tr>\n",
       "    <tr>\n",
       "      <th>7868</th>\n",
       "      <td>From: gsnow@clark.edu (Gary Snow)\\nSubject: Re...</td>\n",
       "      <td>4</td>\n",
       "      <td>re warning dont break powerbook screenarticle...</td>\n",
       "      <td>[ , warning, not, break, powerbook, screenarti...</td>\n",
       "      <td>warning not break powerbook screenarticleid ...</td>\n",
       "    </tr>\n",
       "  </tbody>\n",
       "</table>\n",
       "</div>"
      ],
      "text/plain": [
       "                                                   text  target  \\\n",
       "5332  From: henrik@quayle.kpc.com \\nSubject: Re: ARM...      17   \n",
       "8598  From: ab4z@Virginia.EDU (\"Andi Beyer\")\\nSubjec...      17   \n",
       "9040  From: cptully@med.unc.edu (Christopher P. Tull...       1   \n",
       "210   From: aa888@freenet.carleton.ca (Mark Baker)\\n...      15   \n",
       "7868  From: gsnow@clark.edu (Gary Snow)\\nSubject: Re...       4   \n",
       "\n",
       "                                             text_clean  \\\n",
       "5332   re armenia says it could shoot down turkish p...   \n",
       "8598   re israels expansion iiorganization universit...   \n",
       "9040   re tiff philosophical significance of 42nntpp...   \n",
       "210    re the arrogance of christiansreplyto aa888fr...   \n",
       "7868   re warning dont break powerbook screenarticle...   \n",
       "\n",
       "                                         text_tokenized  \\\n",
       "5332  [ , armenia, say, shoot, turkish, planesorgani...   \n",
       "8598  [ , israel, expansion, iiorganization, univers...   \n",
       "9040  [ , tiff, philosophical, significance, 42nntpp...   \n",
       "210   [ , arrogance, christiansreplyto, aa888freenet...   \n",
       "7868  [ , warning, not, break, powerbook, screenarti...   \n",
       "\n",
       "                                              nlp_ready  \n",
       "5332    armenia say shoot turkish planesorganization...  \n",
       "8598    israel expansion iiorganization university v...  \n",
       "9040    tiff philosophical significance 42nntppostin...  \n",
       "210     arrogance christiansreplyto aa888freenetcarl...  \n",
       "7868    warning not break powerbook screenarticleid ...  "
      ]
     },
     "execution_count": 39,
     "metadata": {},
     "output_type": "execute_result"
    }
   ],
   "source": [
    "detokenized_doc = []\n",
    "\n",
    "for sentence in data[\"text_tokenized\"]:\n",
    "    t = ' '.join(sentence)\n",
    "    detokenized_doc.append(t)\n",
    "\n",
    "data['nlp_ready'] = detokenized_doc\n",
    "data.head()"
   ]
  },
  {
   "cell_type": "markdown",
   "metadata": {},
   "source": [
    "9. Use sklearn to calculate the tf-idf"
   ]
  },
  {
   "cell_type": "code",
   "execution_count": 116,
   "metadata": {},
   "outputs": [
    {
     "data": {
      "text/plain": [
       "<1000x37012 sparse matrix of type '<class 'numpy.float64'>'\n",
       "\twith 94758 stored elements in Compressed Sparse Row format>"
      ]
     },
     "execution_count": 116,
     "metadata": {},
     "output_type": "execute_result"
    }
   ],
   "source": [
    "vectorizer = TfidfVectorizer()\n",
    "X = vectorizer.fit_transform(df['nlp_ready'])\n",
    "X"
   ]
  },
  {
   "cell_type": "markdown",
   "metadata": {},
   "source": [
    "10. Use the truncatedSVD model in order to create a topic model with 20 different topics"
   ]
  },
  {
   "cell_type": "code",
   "execution_count": 159,
   "metadata": {},
   "outputs": [],
   "source": [
    "svd_model = TruncatedSVD(n_components=20)\n",
    "lsa = svd_model.fit_transform(X)"
   ]
  },
  {
   "cell_type": "markdown",
   "metadata": {},
   "source": [
    "11. Assign each document to the topic it is the most linked to :"
   ]
  },
  {
   "cell_type": "code",
   "execution_count": 119,
   "metadata": {},
   "outputs": [
    {
     "data": {
      "text/plain": [
       "20"
      ]
     },
     "execution_count": 119,
     "metadata": {},
     "output_type": "execute_result"
    }
   ],
   "source": [
    "len(lsa[0])"
   ]
  },
  {
   "cell_type": "code",
   "execution_count": 163,
   "metadata": {},
   "outputs": [],
   "source": [
    "test_array = lsa[0]"
   ]
  },
  {
   "cell_type": "code",
   "execution_count": 175,
   "metadata": {},
   "outputs": [],
   "source": [
    "def custom_argmax(array):\n",
    "    best_val = array[0]\n",
    "    best_index = 0 \n",
    "    for index, val  in enumerate(array):\n",
    "        if val > best_val:\n",
    "            best_val = val\n",
    "            best_index = index\n",
    "    return best_index"
   ]
  },
  {
   "cell_type": "code",
   "execution_count": 171,
   "metadata": {},
   "outputs": [
    {
     "data": {
      "text/plain": [
       "0"
      ]
     },
     "execution_count": 171,
     "metadata": {},
     "output_type": "execute_result"
    }
   ],
   "source": [
    "custom_argmax(test_array)"
   ]
  },
  {
   "cell_type": "code",
   "execution_count": 172,
   "metadata": {},
   "outputs": [],
   "source": [
    "topic_df[\"class_pred\"] = [custom_argmax(topic) for topic in lsa]\n",
    "topic_df[\"class_pred_np\"] = [np.argmax(topic) for topic in lsa]"
   ]
  },
  {
   "cell_type": "code",
   "execution_count": 173,
   "metadata": {},
   "outputs": [
    {
     "data": {
      "text/html": [
       "<div>\n",
       "<style scoped>\n",
       "    .dataframe tbody tr th:only-of-type {\n",
       "        vertical-align: middle;\n",
       "    }\n",
       "\n",
       "    .dataframe tbody tr th {\n",
       "        vertical-align: top;\n",
       "    }\n",
       "\n",
       "    .dataframe thead th {\n",
       "        text-align: right;\n",
       "    }\n",
       "</style>\n",
       "<table border=\"1\" class=\"dataframe\">\n",
       "  <thead>\n",
       "    <tr style=\"text-align: right;\">\n",
       "      <th></th>\n",
       "      <th>topic_1</th>\n",
       "      <th>topic_2</th>\n",
       "      <th>topic_3</th>\n",
       "      <th>topic_4</th>\n",
       "      <th>topic_5</th>\n",
       "      <th>topic_6</th>\n",
       "      <th>topic_7</th>\n",
       "      <th>topic_8</th>\n",
       "      <th>topic_9</th>\n",
       "      <th>topic_10</th>\n",
       "      <th>...</th>\n",
       "      <th>topic_14</th>\n",
       "      <th>topic_15</th>\n",
       "      <th>topic_16</th>\n",
       "      <th>topic_17</th>\n",
       "      <th>topic_18</th>\n",
       "      <th>topic_19</th>\n",
       "      <th>topic_20</th>\n",
       "      <th>class_pred</th>\n",
       "      <th>class_pred_np</th>\n",
       "      <th>target</th>\n",
       "    </tr>\n",
       "  </thead>\n",
       "  <tbody>\n",
       "  </tbody>\n",
       "</table>\n",
       "<p>0 rows × 23 columns</p>\n",
       "</div>"
      ],
      "text/plain": [
       "Empty DataFrame\n",
       "Columns: [topic_1, topic_2, topic_3, topic_4, topic_5, topic_6, topic_7, topic_8, topic_9, topic_10, topic_11, topic_12, topic_13, topic_14, topic_15, topic_16, topic_17, topic_18, topic_19, topic_20, class_pred, class_pred_np, target]\n",
       "Index: []\n",
       "\n",
       "[0 rows x 23 columns]"
      ]
     },
     "execution_count": 174,
     "metadata": {},
     "output_type": "execute_result"
    }
   ],
   "source": [
    "topic_df[topic_df[\"class_pred\"] == topic_df[\"class_pred_np\"]]"
   ]
  },
  {
   "cell_type": "code",
   "execution_count": 121,
   "metadata": {},
   "outputs": [],
   "source": [
    "def custom_argmax(array):\n",
    "    for index_, val in enumerate(array):\n",
    "        if index_ == 0:\n",
    "            final_index = index_\n",
    "            final_val = val\n",
    "        else: \n",
    "            if val > final_val:\n",
    "                final_val = val\n",
    "                final_index = index_\n",
    "    return final_index"
   ]
  },
  {
   "cell_type": "code",
   "execution_count": 176,
   "metadata": {},
   "outputs": [
    {
     "name": "stdout",
     "output_type": "stream",
     "text": [
      "3.39 µs ± 71.9 ns per loop (mean ± std. dev. of 7 runs, 100,000 loops each)\n"
     ]
    }
   ],
   "source": [
    "%%timeit\n",
    "custom_argmax(test)"
   ]
  },
  {
   "cell_type": "code",
   "execution_count": 177,
   "metadata": {},
   "outputs": [
    {
     "name": "stdout",
     "output_type": "stream",
     "text": [
      "1.55 µs ± 28.2 ns per loop (mean ± std. dev. of 7 runs, 1,000,000 loops each)\n"
     ]
    }
   ],
   "source": [
    "%%timeit\n",
    "np.argmax(test)"
   ]
  },
  {
   "cell_type": "code",
   "execution_count": 124,
   "metadata": {},
   "outputs": [],
   "source": [
    "topic_df[\"class_pred\"] = [custom_argmax(topic) for topic in lsa]\n",
    "topic_df[\"class_pred_np\"] = [np.argmax(topic) for topic in lsa]"
   ]
  },
  {
   "cell_type": "code",
   "execution_count": 125,
   "metadata": {},
   "outputs": [
    {
     "data": {
      "text/html": [
       "<div>\n",
       "<style scoped>\n",
       "    .dataframe tbody tr th:only-of-type {\n",
       "        vertical-align: middle;\n",
       "    }\n",
       "\n",
       "    .dataframe tbody tr th {\n",
       "        vertical-align: top;\n",
       "    }\n",
       "\n",
       "    .dataframe thead th {\n",
       "        text-align: right;\n",
       "    }\n",
       "</style>\n",
       "<table border=\"1\" class=\"dataframe\">\n",
       "  <thead>\n",
       "    <tr style=\"text-align: right;\">\n",
       "      <th></th>\n",
       "      <th>topic_1</th>\n",
       "      <th>topic_2</th>\n",
       "      <th>topic_3</th>\n",
       "      <th>topic_4</th>\n",
       "      <th>topic_5</th>\n",
       "      <th>topic_6</th>\n",
       "      <th>topic_7</th>\n",
       "      <th>topic_8</th>\n",
       "      <th>topic_9</th>\n",
       "      <th>topic_10</th>\n",
       "      <th>...</th>\n",
       "      <th>topic_13</th>\n",
       "      <th>topic_14</th>\n",
       "      <th>topic_15</th>\n",
       "      <th>topic_16</th>\n",
       "      <th>topic_17</th>\n",
       "      <th>topic_18</th>\n",
       "      <th>topic_19</th>\n",
       "      <th>topic_20</th>\n",
       "      <th>class_pred</th>\n",
       "      <th>class_pred_np</th>\n",
       "    </tr>\n",
       "  </thead>\n",
       "  <tbody>\n",
       "  </tbody>\n",
       "</table>\n",
       "<p>0 rows × 22 columns</p>\n",
       "</div>"
      ],
      "text/plain": [
       "Empty DataFrame\n",
       "Columns: [topic_1, topic_2, topic_3, topic_4, topic_5, topic_6, topic_7, topic_8, topic_9, topic_10, topic_11, topic_12, topic_13, topic_14, topic_15, topic_16, topic_17, topic_18, topic_19, topic_20, class_pred, class_pred_np]\n",
       "Index: []\n",
       "\n",
       "[0 rows x 22 columns]"
      ]
     },
     "execution_count": 125,
     "metadata": {},
     "output_type": "execute_result"
    }
   ],
   "source": [
    "topic_df[topic_df[\"class_pred_np\"] != topic_df[\"class_pred\"]]"
   ]
  },
  {
   "cell_type": "markdown",
   "metadata": {},
   "source": [
    "12. Add the target variable to thetopic model dataframe and print the confusion matrix for the topic against the target variable :"
   ]
  },
  {
   "cell_type": "code",
   "execution_count": 182,
   "metadata": {},
   "outputs": [],
   "source": [
    "topic_df['target'] = df[\"target\"].reset_index(drop=True)"
   ]
  },
  {
   "cell_type": "code",
   "execution_count": 183,
   "metadata": {},
   "outputs": [
    {
     "data": {
      "text/html": [
       "<div>\n",
       "<style scoped>\n",
       "    .dataframe tbody tr th:only-of-type {\n",
       "        vertical-align: middle;\n",
       "    }\n",
       "\n",
       "    .dataframe tbody tr th {\n",
       "        vertical-align: top;\n",
       "    }\n",
       "\n",
       "    .dataframe thead th {\n",
       "        text-align: right;\n",
       "    }\n",
       "</style>\n",
       "<table border=\"1\" class=\"dataframe\">\n",
       "  <thead>\n",
       "    <tr style=\"text-align: right;\">\n",
       "      <th></th>\n",
       "      <th>topic_1</th>\n",
       "      <th>topic_2</th>\n",
       "      <th>topic_3</th>\n",
       "      <th>topic_4</th>\n",
       "      <th>topic_5</th>\n",
       "      <th>topic_6</th>\n",
       "      <th>topic_7</th>\n",
       "      <th>topic_8</th>\n",
       "      <th>topic_9</th>\n",
       "      <th>topic_10</th>\n",
       "      <th>...</th>\n",
       "      <th>topic_14</th>\n",
       "      <th>topic_15</th>\n",
       "      <th>topic_16</th>\n",
       "      <th>topic_17</th>\n",
       "      <th>topic_18</th>\n",
       "      <th>topic_19</th>\n",
       "      <th>topic_20</th>\n",
       "      <th>class_pred</th>\n",
       "      <th>class_pred_np</th>\n",
       "      <th>target</th>\n",
       "    </tr>\n",
       "  </thead>\n",
       "  <tbody>\n",
       "    <tr>\n",
       "      <th>0</th>\n",
       "      <td>0.116937</td>\n",
       "      <td>-0.004040</td>\n",
       "      <td>0.029628</td>\n",
       "      <td>0.013600</td>\n",
       "      <td>0.018187</td>\n",
       "      <td>-0.000709</td>\n",
       "      <td>0.029765</td>\n",
       "      <td>-0.002245</td>\n",
       "      <td>0.037573</td>\n",
       "      <td>0.022275</td>\n",
       "      <td>...</td>\n",
       "      <td>0.000119</td>\n",
       "      <td>-0.067702</td>\n",
       "      <td>-0.020377</td>\n",
       "      <td>0.014808</td>\n",
       "      <td>0.048871</td>\n",
       "      <td>-0.055265</td>\n",
       "      <td>-0.004180</td>\n",
       "      <td>0</td>\n",
       "      <td>0</td>\n",
       "      <td>16</td>\n",
       "    </tr>\n",
       "    <tr>\n",
       "      <th>1</th>\n",
       "      <td>0.137030</td>\n",
       "      <td>-0.014914</td>\n",
       "      <td>0.005578</td>\n",
       "      <td>-0.005797</td>\n",
       "      <td>0.043595</td>\n",
       "      <td>-0.000957</td>\n",
       "      <td>-0.016438</td>\n",
       "      <td>-0.001444</td>\n",
       "      <td>0.070517</td>\n",
       "      <td>-0.015223</td>\n",
       "      <td>...</td>\n",
       "      <td>0.430090</td>\n",
       "      <td>-0.125629</td>\n",
       "      <td>0.272261</td>\n",
       "      <td>0.020001</td>\n",
       "      <td>-0.056686</td>\n",
       "      <td>-0.014408</td>\n",
       "      <td>0.063644</td>\n",
       "      <td>13</td>\n",
       "      <td>13</td>\n",
       "      <td>13</td>\n",
       "    </tr>\n",
       "    <tr>\n",
       "      <th>2</th>\n",
       "      <td>0.154417</td>\n",
       "      <td>-0.103163</td>\n",
       "      <td>0.034981</td>\n",
       "      <td>0.220959</td>\n",
       "      <td>0.009255</td>\n",
       "      <td>0.007311</td>\n",
       "      <td>-0.006855</td>\n",
       "      <td>-0.042638</td>\n",
       "      <td>-0.054997</td>\n",
       "      <td>0.014441</td>\n",
       "      <td>...</td>\n",
       "      <td>0.015427</td>\n",
       "      <td>0.012368</td>\n",
       "      <td>0.017496</td>\n",
       "      <td>0.041703</td>\n",
       "      <td>0.028470</td>\n",
       "      <td>0.064908</td>\n",
       "      <td>-0.042462</td>\n",
       "      <td>3</td>\n",
       "      <td>3</td>\n",
       "      <td>11</td>\n",
       "    </tr>\n",
       "    <tr>\n",
       "      <th>3</th>\n",
       "      <td>0.095143</td>\n",
       "      <td>-0.075032</td>\n",
       "      <td>-0.028728</td>\n",
       "      <td>-0.024491</td>\n",
       "      <td>-0.050751</td>\n",
       "      <td>0.043858</td>\n",
       "      <td>-0.057782</td>\n",
       "      <td>-0.021182</td>\n",
       "      <td>0.041039</td>\n",
       "      <td>-0.010558</td>\n",
       "      <td>...</td>\n",
       "      <td>0.025727</td>\n",
       "      <td>0.021191</td>\n",
       "      <td>-0.005110</td>\n",
       "      <td>0.003792</td>\n",
       "      <td>0.070171</td>\n",
       "      <td>0.048790</td>\n",
       "      <td>0.006596</td>\n",
       "      <td>0</td>\n",
       "      <td>0</td>\n",
       "      <td>5</td>\n",
       "    </tr>\n",
       "    <tr>\n",
       "      <th>4</th>\n",
       "      <td>0.043857</td>\n",
       "      <td>0.011572</td>\n",
       "      <td>0.011646</td>\n",
       "      <td>-0.013621</td>\n",
       "      <td>-0.000414</td>\n",
       "      <td>-0.009553</td>\n",
       "      <td>-0.005590</td>\n",
       "      <td>0.001411</td>\n",
       "      <td>0.019308</td>\n",
       "      <td>-0.005145</td>\n",
       "      <td>...</td>\n",
       "      <td>0.014811</td>\n",
       "      <td>-0.010383</td>\n",
       "      <td>-0.039069</td>\n",
       "      <td>0.029424</td>\n",
       "      <td>0.043023</td>\n",
       "      <td>-0.045334</td>\n",
       "      <td>0.016639</td>\n",
       "      <td>0</td>\n",
       "      <td>0</td>\n",
       "      <td>19</td>\n",
       "    </tr>\n",
       "  </tbody>\n",
       "</table>\n",
       "<p>5 rows × 23 columns</p>\n",
       "</div>"
      ],
      "text/plain": [
       "    topic_1   topic_2   topic_3   topic_4   topic_5   topic_6   topic_7  \\\n",
       "0  0.116937 -0.004040  0.029628  0.013600  0.018187 -0.000709  0.029765   \n",
       "1  0.137030 -0.014914  0.005578 -0.005797  0.043595 -0.000957 -0.016438   \n",
       "2  0.154417 -0.103163  0.034981  0.220959  0.009255  0.007311 -0.006855   \n",
       "3  0.095143 -0.075032 -0.028728 -0.024491 -0.050751  0.043858 -0.057782   \n",
       "4  0.043857  0.011572  0.011646 -0.013621 -0.000414 -0.009553 -0.005590   \n",
       "\n",
       "    topic_8   topic_9  topic_10  ...  topic_14  topic_15  topic_16  topic_17  \\\n",
       "0 -0.002245  0.037573  0.022275  ...  0.000119 -0.067702 -0.020377  0.014808   \n",
       "1 -0.001444  0.070517 -0.015223  ...  0.430090 -0.125629  0.272261  0.020001   \n",
       "2 -0.042638 -0.054997  0.014441  ...  0.015427  0.012368  0.017496  0.041703   \n",
       "3 -0.021182  0.041039 -0.010558  ...  0.025727  0.021191 -0.005110  0.003792   \n",
       "4  0.001411  0.019308 -0.005145  ...  0.014811 -0.010383 -0.039069  0.029424   \n",
       "\n",
       "   topic_18  topic_19  topic_20  class_pred  class_pred_np  target  \n",
       "0  0.048871 -0.055265 -0.004180           0              0      16  \n",
       "1 -0.056686 -0.014408  0.063644          13             13      13  \n",
       "2  0.028470  0.064908 -0.042462           3              3      11  \n",
       "3  0.070171  0.048790  0.006596           0              0       5  \n",
       "4  0.043023 -0.045334  0.016639           0              0      19  \n",
       "\n",
       "[5 rows x 23 columns]"
      ]
     },
     "execution_count": 183,
     "metadata": {},
     "output_type": "execute_result"
    }
   ],
   "source": [
    "topic_df.head()"
   ]
  },
  {
   "cell_type": "code",
   "execution_count": 188,
   "metadata": {},
   "outputs": [
    {
     "data": {
      "text/plain": [
       "8     64\n",
       "15    61\n",
       "17    60\n",
       "11    57\n",
       "13    56\n",
       "6     54\n",
       "14    54\n",
       "7     54\n",
       "9     52\n",
       "10    50\n",
       "12    50\n",
       "1     49\n",
       "4     48\n",
       "2     47\n",
       "16    45\n",
       "18    44\n",
       "3     43\n",
       "5     42\n",
       "0     40\n",
       "19    30\n",
       "Name: target, dtype: int64"
      ]
     },
     "execution_count": 188,
     "metadata": {},
     "output_type": "execute_result"
    }
   ],
   "source": [
    "topic_df[\"target\"].value_counts()"
   ]
  },
  {
   "cell_type": "code",
   "execution_count": 187,
   "metadata": {},
   "outputs": [
    {
     "data": {
      "text/plain": [
       "0     703\n",
       "3      35\n",
       "2      23\n",
       "6      21\n",
       "19     20\n",
       "10     20\n",
       "7      19\n",
       "1      19\n",
       "5      18\n",
       "13     17\n",
       "18     17\n",
       "16     15\n",
       "8      13\n",
       "14     13\n",
       "4      12\n",
       "17     11\n",
       "9      11\n",
       "12      8\n",
       "15      4\n",
       "11      1\n",
       "Name: class_pred, dtype: int64"
      ]
     },
     "execution_count": 187,
     "metadata": {},
     "output_type": "execute_result"
    }
   ],
   "source": [
    "topic_df[\"class_pred\"].value_counts()"
   ]
  },
  {
   "cell_type": "code",
   "execution_count": 186,
   "metadata": {},
   "outputs": [
    {
     "data": {
      "text/plain": [
       "Text(159.0, 0.5, 'True label')"
      ]
     },
     "execution_count": 186,
     "metadata": {},
     "output_type": "execute_result"
    },
    {
     "data": {
      "image/png": "[encoded data removed]",
      "text/plain": [
       "<Figure size 1440x1440 with 2 Axes>"
      ]
     },
     "metadata": {
      "needs_background": "light"
     },
     "output_type": "display_data"
    }
   ],
   "source": [
    "cm = confusion_matrix(y_true=topic_df[\"target\"], y_pred=topic_df[\"class_pred\"]) / 5000\n",
    "\n",
    "fig, ax = plt.subplots(1,1, figsize = (20,20))\n",
    "sns.heatmap(cm, annot=True)\n",
    "ax.set_xlabel(\"Pred Topic\")\n",
    "ax.set_ylabel(\"True label\")"
   ]
  },
  {
   "cell_type": "code",
   "execution_count": 198,
   "metadata": {},
   "outputs": [],
   "source": [
    "topics = pd.DataFrame(svd_model.components_, columns=vectorizer.get_feature_names_out())"
   ]
  },
  {
   "cell_type": "code",
   "execution_count": 201,
   "metadata": {},
   "outputs": [
    {
     "data": {
      "text/plain": [
       "people         0.162566\n",
       "use            0.144216\n",
       "know           0.140845\n",
       "think          0.139311\n",
       "article        0.138592\n",
       "                 ...   \n",
       "730            0.000067\n",
       "731            0.000067\n",
       "piratesline    0.000067\n",
       "mlb            0.000067\n",
       "929            0.000067\n",
       "Name: 0, Length: 37012, dtype: float64"
      ]
     },
     "execution_count": 201,
     "metadata": {},
     "output_type": "execute_result"
    }
   ],
   "source": [
    "topics.loc[0].sort_values(ascending=False)"
   ]
  },
  {
   "cell_type": "code",
   "execution_count": 204,
   "metadata": {},
   "outputs": [
    {
     "data": {
      "text/plain": [
       "god          0.344246\n",
       "people       0.160052\n",
       "armenian     0.124158\n",
       "christian    0.102032\n",
       "believe      0.100731\n",
       "atheist      0.099687\n",
       "church       0.094448\n",
       "jesus        0.094419\n",
       "bible        0.088361\n",
       "religion     0.087765\n",
       "Name: 1, dtype: float64"
      ]
     },
     "execution_count": 204,
     "metadata": {},
     "output_type": "execute_result"
    }
   ],
   "source": [
    "topics.loc[1].sort_values(ascending=False).iloc[:10]"
   ]
  },
  {
   "cell_type": "code",
   "execution_count": 206,
   "metadata": {},
   "outputs": [
    {
     "data": {
      "text/plain": [
       "key           0.330264\n",
       "encryption    0.262675\n",
       "chip          0.259817\n",
       "clipper       0.207787\n",
       "algorithm     0.159541\n",
       "security      0.125989\n",
       "government    0.106002\n",
       "device        0.099396\n",
       "god           0.094080\n",
       "privacy       0.093285\n",
       "Name: 3, dtype: float64"
      ]
     },
     "execution_count": 208,
     "metadata": {},
     "output_type": "execute_result"
    }
   ],
   "source": [
    "topics.loc[2].sort_values(ascending=False).iloc[:10]\n"
   ]
  },
  {
   "cell_type": "code",
   "execution_count": 212,
   "metadata": {},
   "outputs": [
    {
     "data": {
      "text/plain": [
       "text         From: sandvik@newton.apple.com (Kent Sandvik)\\...\n",
       "nlp_ready      inimitable rushdie anecdote islamorganizatio...\n",
       "Name: 9565, dtype: object"
      ]
     },
     "execution_count": 212,
     "metadata": {},
     "output_type": "execute_result"
    }
   ],
   "source": [
    "df[df[\"nlp_ready\"].str.find(\"god\") != -1][[\"text\", \"nlp_ready\"]].iloc[0]"
   ]
  },
  {
   "cell_type": "code",
   "execution_count": 213,
   "metadata": {},
   "outputs": [
    {
     "data": {
      "text/plain": [
       "array([\"From: sandvik@newton.apple.com (Kent Sandvik)\\nSubject: Re: The Inimitable Rushdie (Re: An Anecdote about Islam\\nOrganization: Cookamunga Tourist Bureau\\nLines: 16\\n\\nIn article <115288@bu.edu>, jaeger@buphy.bu.edu (Gregg Jaeger) wrote:\\n> He'd have to be precise about is rejection of God and his leaving Islam.\\n> One is perfectly free to be muslim and to doubt and question the\\n> existence of God, so long as one does not _reject_ God. I am sure that\\n> Rushdie has be now made his atheism clear in front of a sufficient \\n> number of proper witnesses. The question in regard to the legal issue\\n> is his status at the time the crime was committed. \\n\\nGregg, so would you consider that Rushdie would now be left alone,\\nand he could have a normal life? In other words, does Islam support\\nthe notion of forgiving?\\n\\nCheers,\\nKent\\n---\\nsandvik@newton.apple.com. ALink: KSAND -- Private activities on the net.\\n\",\n",
       "       '  inimitable rushdie anecdote islamorganization cookamunga tourist bureauline 16 article 115288buedu jaegerbuphybuedu gregg jaeger write d precise rejection god leave islam perfectly free muslim doubt question existence god long reject god I sure rushdie atheism clear sufficient   number proper witness question regard legal issue status time crime commit gregg consider rushdie leave aloneand normal life word islam supportthe notion forgivingcheerskentsandviknewtonapplecom alink ksand   private activity net'],\n",
       "      dtype=object)"
      ]
     },
     "execution_count": 213,
     "metadata": {},
     "output_type": "execute_result"
    }
   ],
   "source": [
    "df[df[\"nlp_ready\"].str.find(\"god\") != -1][[\"text\", \"nlp_ready\"]].iloc[0].values"
   ]
  },
  {
   "cell_type": "code",
   "execution_count": null,
   "metadata": {},
   "outputs": [],
   "source": []
  }
 ],
 "metadata": {
  "kernelspec": {
   "display_name": "Python 3 (ipykernel)",
   "language": "python",
   "name": "python3"
  },
  "language_info": {
   "codemirror_mode": {
    "name": "ipython",
    "version": 3
   },
   "file_extension": ".py",
   "mimetype": "text/x-python",
   "name": "python",
   "nbconvert_exporter": "python",
   "pygments_lexer": "ipython3",
   "version": "3.9.7"
  },
  "vscode": {
   "interpreter": {
    "hash": "16196ea7eff63910081d4e10ae1bdb1eb18fd83cb470bb8efbb9fa6b0c724af5"
   }
  }
 },
 "nbformat": 4,
 "nbformat_minor": 4
}
